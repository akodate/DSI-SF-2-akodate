{
 "cells": [
  {
   "cell_type": "markdown",
   "metadata": {},
   "source": [
    "<img src=\"http://imgur.com/1ZcRyrc.png\" style=\"float: left; margin: 15px; height: 80px\">\n",
    "\n",
    "# Project 7\n",
    "\n",
    "## NLP and Machine Learning on [travel.statsexchange.com](http://travel.stackexchange.com/) data\n",
    "\n",
    "---\n",
    "\n",
    "In Project 7 you'll be doing NLP and machine learning on post data from stackexchange's travel subdomain. \n",
    "\n",
    "This project is setup like a mini Kaggle competition. You are given the training data and when projects are submitted your model will be tested on the held-out testing data. There will be prizes for the people who build models that perform best on the held out test set!\n",
    "\n",
    "---\n",
    "\n",
    "## Notes on the data\n",
    "\n",
    "The data is again compressed into the `.7z` file format to save space. There are 6 .csv files and one readme file that contains some information on the fields.\n",
    "\n",
    "    posts_train.csv\n",
    "    comments_train.csv\n",
    "    users.csv\n",
    "    badges.csv\n",
    "    votes_train.csv\n",
    "    tags.csv\n",
    "    readme.txt\n",
    "    \n",
    "The data is located in your datasets folder:\n",
    "\n",
    "    DSI-SF-2/datasets/stack_exchange_travel.7z\n",
    "    \n",
    "If you're interested in where this data came from and where to get more data from other stackexchange subdomains, see here:\n",
    "\n",
    "https://ia800500.us.archive.org/22/items/stackexchange/readme.txt\n",
    "\n",
    "\n",
    "### Recommended Utilities for .7z\n",
    "\n",
    "- For OSX [Keka](http://www.kekaosx.com/en/) or [The Unarchiver](http://wakaba.c3.cx/s/apps/unarchiver.html). \n",
    "- For Windows [7-zip](http://www.7-zip.org/) is the standard. \n",
    "- For Linux try the `p7zip` utility.  `sudo apt-get install p7zip`.\n",
    "\n"
   ]
  },
  {
   "cell_type": "code",
   "execution_count": 1,
   "metadata": {
    "collapsed": true
   },
   "outputs": [],
   "source": [
    "import pandas as pd\n",
    "import numpy as np\n",
    "import matplotlib.pyplot as plt\n",
    "\n",
    "%matplotlib inline\n",
    "%config InlineBackend.figure_format = 'retina'"
   ]
  },
  {
   "cell_type": "code",
   "execution_count": 685,
   "metadata": {
    "collapsed": false
   },
   "outputs": [
    {
     "name": "stdout",
     "output_type": "stream",
     "text": [
      "(71246, 6)\n",
      "(41289, 21)\n",
      "(1606, 5)\n",
      "(289553, 6)\n",
      "(81506, 7)\n",
      "(29283, 14)\n"
     ]
    }
   ],
   "source": [
    "badges = pd.read_csv('../../datasets/stack_exchange_travel/badges.csv')\n",
    "posts = pd.read_csv('../../datasets/stack_exchange_travel/posts_train.csv')\n",
    "tags = pd.read_csv('../../datasets/stack_exchange_travel/tags.csv')\n",
    "votes = pd.read_csv('../../datasets/stack_exchange_travel/votes_train.csv')\n",
    "comments = pd.read_csv('../../datasets/stack_exchange_travel/comments_train.csv')\n",
    "users = pd.read_csv('../../datasets/stack_exchange_travel/users.csv')\n",
    "\n",
    "print badges.shape\n",
    "print posts.shape\n",
    "print tags.shape\n",
    "print votes.shape\n",
    "print comments.shape\n",
    "print users.shape"
   ]
  },
  {
   "cell_type": "code",
   "execution_count": 724,
   "metadata": {
    "collapsed": false
   },
   "outputs": [],
   "source": [
    "# print badges.info()\n",
    "# badges.tail(5).T"
   ]
  },
  {
   "cell_type": "code",
   "execution_count": 32,
   "metadata": {
    "collapsed": false
   },
   "outputs": [],
   "source": [
    "# with pd.option_context('display.max_rows', 999, 'display.max_columns', 3):\n",
    "#     print badges['Name'].value_counts()"
   ]
  },
  {
   "cell_type": "code",
   "execution_count": 1161,
   "metadata": {
    "collapsed": false
   },
   "outputs": [],
   "source": [
    "# print posts.info()\n",
    "# posts.head(3).T"
   ]
  },
  {
   "cell_type": "code",
   "execution_count": 689,
   "metadata": {
    "collapsed": false
   },
   "outputs": [],
   "source": [
    "# print tags.info()\n",
    "# tags.head()"
   ]
  },
  {
   "cell_type": "code",
   "execution_count": 590,
   "metadata": {
    "collapsed": false
   },
   "outputs": [],
   "source": [
    "# print votes.info()\n",
    "# votes.head(3).T"
   ]
  },
  {
   "cell_type": "code",
   "execution_count": 723,
   "metadata": {
    "collapsed": false
   },
   "outputs": [],
   "source": [
    "# print comments.info()\n",
    "# comments.head(3).T"
   ]
  },
  {
   "cell_type": "code",
   "execution_count": 722,
   "metadata": {
    "collapsed": false
   },
   "outputs": [],
   "source": [
    "# print users.info()\n",
    "# users.head(3).T"
   ]
  },
  {
   "cell_type": "markdown",
   "metadata": {},
   "source": [
    "<img src=\"http://imgur.com/l5NasQj.png\" style=\"float: left; margin: 25px 15px 0px 0px; height: 25px\">\n",
    "\n",
    "### 1. Use LDA to find what topics are discussed on travel.stackexchange.com.\n",
    "\n",
    "---\n",
    "\n",
    "Text can be found in the posts and the comments datasets. The `ParentId` column in the posts dataset indicates what the \"question\" post was for a given post. Comment text can be merged onto the post they are part of with the `PostId` field.\n",
    "\n",
    "The text may have some HTML tags. BeautifulSoup has convenient ways to get rid of markup or extract text if you need to. You can also parse the strings yourself if you like.\n",
    "\n",
    "The tags dataset has the \"tags\" that the users have officially given the post.\n",
    "\n",
    "**1.1 Implement LDA against the text features of the dataset(s).**\n",
    "\n",
    "- This can be posts or a combination of posts and comments if you want more power.\n",
    "- Find optimal **K/num_topics**.\n",
    "\n",
    "**1.2 Compare your topics to the tags. Do the LDA topics make sense? How do they compare to the tags?**\n"
   ]
  },
  {
   "cell_type": "code",
   "execution_count": 692,
   "metadata": {
    "collapsed": true
   },
   "outputs": [],
   "source": [
    "from gensim import corpora, models\n",
    "from gensim.parsing.preprocessing import STOPWORDS\n",
    "from gensim.utils import deaccent, lemmatize\n",
    "from sklearn.feature_extraction.text import CountVectorizer\n",
    "from collections import defaultdict"
   ]
  },
  {
   "cell_type": "code",
   "execution_count": 463,
   "metadata": {
    "collapsed": false
   },
   "outputs": [
    {
     "name": "stdout",
     "output_type": "stream",
     "text": [
      "(41289, 21)\n",
      "(13988, 21)\n"
     ]
    }
   ],
   "source": [
    "# Eliminating posts without titles to lower the processing overhead\n",
    "posts_clean = posts[~posts['Title'].isnull()]\n",
    "print posts.shape\n",
    "print posts_clean.shape"
   ]
  },
  {
   "cell_type": "code",
   "execution_count": 684,
   "metadata": {
    "collapsed": false
   },
   "outputs": [
    {
     "name": "stdout",
     "output_type": "stream",
     "text": [
      "Number of unique tags: 1550\n"
     ]
    }
   ],
   "source": [
    "tags_list = []\n",
    "[[tags_list.append(tag) for tag in ptags.strip('<>').split('><')] for ptags in posts['Tags'].dropna()]\n",
    "print \"Number of unique tags:\", np.unique(tags_list).shape[0]"
   ]
  },
  {
   "cell_type": "code",
   "execution_count": 464,
   "metadata": {
    "collapsed": false
   },
   "outputs": [
    {
     "data": {
      "text/plain": [
       "0    What are some Caribbean cruises for October?<p>My fiancée and I are looking for a good Caribbean cruise in October and were wondering which islands are best to see and which Cruise line to take?</p>\\n\\n<p>It seems like a lot of the cruises don't run in this month due to Hurricane season so I'm looking for other good options.</p>\\n\\n<p><strong>EDIT</strong> We'll be travelling in 2012.</p>\\n\n",
       "dtype: object"
      ]
     },
     "execution_count": 464,
     "metadata": {},
     "output_type": "execute_result"
    }
   ],
   "source": [
    "posts_clean = posts_clean['Title'] + posts_clean['Body']\n",
    "posts_clean.head(1)"
   ]
  },
  {
   "cell_type": "code",
   "execution_count": 465,
   "metadata": {
    "collapsed": true
   },
   "outputs": [],
   "source": [
    "import re\n",
    "\n",
    "def remove_html_tags(text):\n",
    "    clean = re.compile('<.*?>')\n",
    "    return re.sub(clean, '', text)"
   ]
  },
  {
   "cell_type": "code",
   "execution_count": 466,
   "metadata": {
    "collapsed": true
   },
   "outputs": [],
   "source": [
    "posts_clean = [remove_html_tags(post) for post in posts_clean]"
   ]
  },
  {
   "cell_type": "code",
   "execution_count": 467,
   "metadata": {
    "collapsed": false
   },
   "outputs": [],
   "source": [
    "posts_clean = [deaccent(post) for post in posts_clean]"
   ]
  },
  {
   "cell_type": "code",
   "execution_count": 468,
   "metadata": {
    "collapsed": false
   },
   "outputs": [
    {
     "data": {
      "text/plain": [
       "u\"What are some Caribbean cruises for October?My fiancee and I are looking for a good Caribbean cruise in October and were wondering which islands are best to see and which Cruise line to take?\\n\\nIt seems like a lot of the cruises don't run in this month due to Hurricane season so I'm looking for other good options.\\n\\nEDIT We'll be travelling in 2012.\\n\""
      ]
     },
     "execution_count": 468,
     "metadata": {},
     "output_type": "execute_result"
    }
   ],
   "source": [
    "posts_clean[0]"
   ]
  },
  {
   "cell_type": "code",
   "execution_count": 469,
   "metadata": {
    "collapsed": false
   },
   "outputs": [],
   "source": [
    "posts_processed = [lemmatize(post, stopwords=STOPWORDS, min_length=2, max_length=15)\n",
    "                   for post in posts_clean]"
   ]
  },
  {
   "cell_type": "code",
   "execution_count": 473,
   "metadata": {
    "collapsed": false
   },
   "outputs": [
    {
     "name": "stdout",
     "output_type": "stream",
     "text": [
      "Number of posts: 13988\n",
      "Total words: 617521\n"
     ]
    },
    {
     "data": {
      "text/plain": [
       "['caribbean/NN',\n",
       " 'cruise/NN',\n",
       " 'october/JJ',\n",
       " 'fiancee/NN',\n",
       " 'look/VB',\n",
       " 'good/JJ',\n",
       " 'caribbean/NN',\n",
       " 'cruise/NN',\n",
       " 'october/JJ',\n",
       " 'wonder/VB']"
      ]
     },
     "execution_count": 473,
     "metadata": {},
     "output_type": "execute_result"
    }
   ],
   "source": [
    "print \"Number of posts:\", len(posts_processed)\n",
    "print \"Total words:\", np.sum([len(post) for post in posts_processed])\n",
    "posts_processed[0][:10]"
   ]
  },
  {
   "cell_type": "code",
   "execution_count": 319,
   "metadata": {
    "collapsed": true
   },
   "outputs": [],
   "source": [
    "# Create gensim dictionary object\n",
    "dictionary = corpora.Dictionary(posts_processed)\n",
    "\n",
    "# Create corpus matrix\n",
    "corpus = [dictionary.doc2bow(post) for post in posts_processed]"
   ]
  },
  {
   "cell_type": "code",
   "execution_count": 551,
   "metadata": {
    "collapsed": false
   },
   "outputs": [],
   "source": [
    "lda = models.LdaModel(\n",
    "    corpus,\n",
    "    num_topics  =  5,\n",
    "    passes      =  3,\n",
    "    id2word     =  dictionary\n",
    "#     alpha       =  'auto',\n",
    "#     eta         =  'auto'\n",
    ")"
   ]
  },
  {
   "cell_type": "code",
   "execution_count": 553,
   "metadata": {
    "collapsed": false
   },
   "outputs": [
    {
     "data": {
      "text/plain": [
       "[(0,\n",
       "  u'0.030*flight/NN + 0.022*ticket/NN + 0.012*airline/NN + 0.012*airport/NN + 0.010*card/NN + 0.009*luggage/NN + 0.008*time/NN + 0.007*buy/VB + 0.007*train/NN + 0.007*check/VB + 0.006*fly/VB + 0.006*way/NN + 0.005*bag/NN + 0.005*travel/NN + 0.005*book/VB + 0.005*check/NN + 0.005*question/NN + 0.005*pay/VB + 0.005*know/VB + 0.004*hour/NN'),\n",
       " (1,\n",
       "  u'0.016*airport/NN + 0.015*bus/NN + 0.013*train/NN + 0.012*london/NN + 0.010*seat/NN + 0.009*station/NN + 0.007*travel/VB + 0.007*taxi/NN + 0.006*india/NN + 0.006*time/NN + 0.005*hour/NN + 0.005*know/VB + 0.005*child/NN + 0.005*way/NN + 0.005*option/NN + 0.005*phone/NN + 0.004*want/VB + 0.004*possible/JJ + 0.004*travele/VB + 0.004*terminal/NN'),\n",
       " (2,\n",
       "  u'0.008*know/VB + 0.007*place/NN + 0.007*look/VB + 0.007*car/NN + 0.007*person/NN + 0.007*country/NN + 0.005*question/NN + 0.005*time/NN + 0.005*trip/NN + 0.004*want/VB + 0.004*city/NN + 0.004*good/JJ + 0.004*way/NN + 0.004*japan/NN + 0.004*travel/NN + 0.004*map/NN + 0.003*ve/NN + 0.003*site/NN + 0.003*drive/VB + 0.003*rent/VB'),\n",
       " (3,\n",
       "  u'0.017*day/NN + 0.010*city/NN + 0.010*hotel/NN + 0.009*visit/VB + 0.008*night/NN + 0.008*time/NN + 0.007*trip/NN + 0.006*want/VB + 0.006*place/NN + 0.006*car/NN + 0.006*travel/VB + 0.006*possible/JJ + 0.006*know/VB + 0.005*paris/NN + 0.005*way/NN + 0.005*public/JJ + 0.005*stay/VB + 0.005*plan/VB + 0.004*like/VB + 0.004*transport/NN'),\n",
       " (4,\n",
       "  u'0.059*visa/NN + 0.020*passport/NN + 0.014*day/NN + 0.013*apply/VB + 0.012*schengen/NN + 0.012*country/NN + 0.011*uk/NN + 0.010*travel/VB + 0.010*month/NN + 0.009*need/VB + 0.008*citizen/NN + 0.008*transit/NN + 0.007*visit/VB + 0.007*entry/NN + 0.007*time/NN + 0.007*year/NN + 0.007*travel/NN + 0.006*stay/VB + 0.006*uk/JJ + 0.006*want/VB')]"
      ]
     },
     "execution_count": 553,
     "metadata": {},
     "output_type": "execute_result"
    }
   ],
   "source": [
    "lda.print_topics(num_topics=5, num_words=20)"
   ]
  },
  {
   "cell_type": "code",
   "execution_count": 578,
   "metadata": {
    "collapsed": true
   },
   "outputs": [],
   "source": [
    "topics_labels = {\n",
    "    0: \"Air Travel\",\n",
    "    1: \"Transportation\",\n",
    "    2: \"Miscellaneous\",\n",
    "    3: \"Trip Planning\",\n",
    "    4: \"Immigration & Customs\"\n",
    "}"
   ]
  },
  {
   "cell_type": "code",
   "execution_count": 579,
   "metadata": {
    "collapsed": false
   },
   "outputs": [],
   "source": [
    "doc_topics = [lda.get_document_topics(doc) for doc in corpus]\n",
    "\n",
    "topic_data = []\n",
    "\n",
    "for document_id, topics in enumerate(doc_topics):\n",
    "    \n",
    "    document_topics = []\n",
    "    \n",
    "    for topic, probability in topics:\n",
    "       \n",
    "        topic_data.append({\n",
    "            'document_id':  document_id,\n",
    "            'topic_id':     topic,\n",
    "            'topic':        topics_labels[topic],\n",
    "            'probability':  probability\n",
    "        })\n",
    "\n",
    "topics_df = pd.DataFrame(topic_data)\n",
    "topics_df = pd.DataFrame(topics_df.pivot_table(values=\"probability\", index=[\"document_id\", \"topic\"]).T)"
   ]
  },
  {
   "cell_type": "code",
   "execution_count": 580,
   "metadata": {
    "collapsed": false
   },
   "outputs": [],
   "source": [
    "# topics_df.head(30)"
   ]
  },
  {
   "cell_type": "code",
   "execution_count": 615,
   "metadata": {
    "collapsed": false
   },
   "outputs": [],
   "source": [
    "posts_merge = posts[~posts['Title'].isnull()].reset_index().drop('index', axis=1).copy()\n",
    "# posts_merge.head(3)"
   ]
  },
  {
   "cell_type": "code",
   "execution_count": 618,
   "metadata": {
    "collapsed": false
   },
   "outputs": [],
   "source": [
    "from orderedset import OrderedSet\n",
    "\n",
    "posts_topics = topics_df.reset_index().merge(\n",
    "    posts_merge[['Title', 'Body', 'Tags']], \n",
    "    how='left', \n",
    "    left_on='document_id', \n",
    "    right_index=True\n",
    "    ).groupby('document_id').agg(lambda group: OrderedSet(group))"
   ]
  },
  {
   "cell_type": "code",
   "execution_count": 619,
   "metadata": {
    "collapsed": false
   },
   "outputs": [],
   "source": [
    "# posts_topics.head()"
   ]
  },
  {
   "cell_type": "code",
   "execution_count": 622,
   "metadata": {
    "collapsed": false
   },
   "outputs": [
    {
     "name": "stdout",
     "output_type": "stream",
     "text": [
      "(13988, 5)\n"
     ]
    },
    {
     "data": {
      "text/html": [
       "<div>\n",
       "<table border=\"1\" class=\"dataframe\">\n",
       "  <thead>\n",
       "    <tr style=\"text-align: right;\">\n",
       "      <th></th>\n",
       "      <th>topic</th>\n",
       "      <th>probability</th>\n",
       "      <th>Title</th>\n",
       "      <th>Body</th>\n",
       "      <th>Tags</th>\n",
       "    </tr>\n",
       "    <tr>\n",
       "      <th>document_id</th>\n",
       "      <th></th>\n",
       "      <th></th>\n",
       "      <th></th>\n",
       "      <th></th>\n",
       "      <th></th>\n",
       "    </tr>\n",
       "  </thead>\n",
       "  <tbody>\n",
       "    <tr>\n",
       "      <th>13983</th>\n",
       "      <td>(Immigration &amp; Customs, Transportation)</td>\n",
       "      <td>(0.94235576946, 0.0368893276714)</td>\n",
       "      <td>(Schengen visa application)</td>\n",
       "      <td>(&lt;p&gt;I am a Srilankan residing in UAE for past 10 years. My family was in UAE for past 9/10 years. Now they are back in UAE on residence visa while I have continued my stay in UAE.&lt;/p&gt;\\n\\n&lt;p&gt;1.If the UAE residence visa has been stamped only 15 days ago for my family members can I still apply for Schengen visas for them? &lt;/p&gt;\\n)</td>\n",
       "      <td>(&lt;visas&gt;&lt;schengen&gt;&lt;italy&gt;&lt;visa-refusal&gt;&lt;uae&gt;)</td>\n",
       "    </tr>\n",
       "    <tr>\n",
       "      <th>13984</th>\n",
       "      <td>(Immigration &amp; Customs, Miscellaneous)</td>\n",
       "      <td>(0.671394501209, 0.317076101721)</td>\n",
       "      <td>(Getting a full time work permit in Canada after a language school?)</td>\n",
       "      <td>(&lt;p&gt;What are chances to get a full-time work permit (read work visa) after a completing a year-long English language courses program at VGC in Vancouver.&lt;/p&gt;\\n\\n&lt;p&gt;If to be more specific, I'm planning a trip, a long one, and Canada is my first stop. So, my main priority is to improve my English skills and move on, but in a case I want to stay a little longer and continue my education there, I would need money to support myself. Incidentally, I already have the Specialist Degree (which is close to Master Degree) in Applied Computer Science which I got in Saint Petersburg, Russia.&lt;/p&gt;\\n)</td>\n",
       "      <td>(&lt;canada&gt;&lt;work&gt;&lt;english-language&gt;)</td>\n",
       "    </tr>\n",
       "    <tr>\n",
       "      <th>13985</th>\n",
       "      <td>(Air Travel, Miscellaneous, Transportation)</td>\n",
       "      <td>(0.953939969767, 0.0206117037876, 0.0219526761871)</td>\n",
       "      <td>(How can the same flight cost less one leg earlier?)</td>\n",
       "      <td>(&lt;p&gt;I am booking a round-trip flight to the United States and found that I can save up to 700 euro on a 1200+ euro ticket if I board the same plane one leg earlier. On the flight company's website a ticket from Amsterdam, Netherlands to Boston, United States costs me 1.227,75 euro. However, if I travel to Dusseldorf, Germany and board the exact same plane, the ticket will cost me 568,66 dollar (500+ euro). The latter flight will make a stop in Amsterdam and then continue to Boston.&lt;/p&gt;\\n\\n&lt;p&gt;The price from AMS to BOS is broken down as follows (in euro),&lt;/p&gt;\\n\\n&lt;pre&gt;&lt;code&gt;ticket price                                                     880,00\\ncarrier-imposed international surcharge                          259,00\\nairport passenger service charge                                  13,00\\nnoise surcharge                                                    0,50\\nsecurity charge                                                   10,53\\nus customs user fee                                  ...</td>\n",
       "      <td>(&lt;tickets&gt;&lt;price&gt;)</td>\n",
       "    </tr>\n",
       "    <tr>\n",
       "      <th>13986</th>\n",
       "      <td>(Air Travel)</td>\n",
       "      <td>(0.973588142855)</td>\n",
       "      <td>(The plane is half empty yet the ticket price has risen)</td>\n",
       "      <td>(&lt;p&gt;Consider this as an example:\\nThe flight below which is two days from now is half empty. However, the price has risen considerably during last week. Why did this happen? If the plane is half empty why the price should rise? \\n&lt;a href=\"http://i.stack.imgur.com/Tp4r1.png\" rel=\"nofollow\"&gt;&lt;img src=\"http://i.stack.imgur.com/Tp4r1.png\" alt=\"enter image description here\"&gt;&lt;/a&gt;\\n&lt;a href=\"http://i.stack.imgur.com/kQuRk.png\" rel=\"nofollow\"&gt;&lt;img src=\"http://i.stack.imgur.com/kQuRk.png\" alt=\"enter image description here\"&gt;&lt;/a&gt;&lt;/p&gt;\\n\\n&lt;p&gt;&lt;strong&gt;Edit&lt;/strong&gt;&lt;/p&gt;\\n\\n&lt;p&gt;I should mention that in the example above the seat selection is included in the ticket price, that is, even if someone does not want to select a seat then they still pay for it.&lt;/p&gt;\\n)</td>\n",
       "      <td>(&lt;air-travel&gt;&lt;tickets&gt;&lt;price&gt;)</td>\n",
       "    </tr>\n",
       "    <tr>\n",
       "      <th>13987</th>\n",
       "      <td>(Air Travel, Immigration &amp; Customs, Miscellaneous, Transportation, Trip Planning)</td>\n",
       "      <td>(0.0125287542681, 0.0125641726711, 0.308825377885, 0.0125453616159, 0.65353633356)</td>\n",
       "      <td>(Hire car in south amercia)</td>\n",
       "      <td>(&lt;p&gt;We are thinking of hiring a car from Bueons Aires to drive to Santiago. Has anyone done this and are the roads, towns encounter safe etc??&lt;/p&gt;\\n)</td>\n",
       "      <td>(&lt;safety&gt;&lt;rental&gt;)</td>\n",
       "    </tr>\n",
       "  </tbody>\n",
       "</table>\n",
       "</div>"
      ],
      "text/plain": [
       "                                                                                         topic  \\\n",
       "document_id                                                                                      \n",
       "13983                                                  (Immigration & Customs, Transportation)   \n",
       "13984                                                   (Immigration & Customs, Miscellaneous)   \n",
       "13985                                              (Air Travel, Miscellaneous, Transportation)   \n",
       "13986                                                                             (Air Travel)   \n",
       "13987        (Air Travel, Immigration & Customs, Miscellaneous, Transportation, Trip Planning)   \n",
       "\n",
       "                                                                                    probability  \\\n",
       "document_id                                                                                       \n",
       "13983                                                          (0.94235576946, 0.0368893276714)   \n",
       "13984                                                          (0.671394501209, 0.317076101721)   \n",
       "13985                                        (0.953939969767, 0.0206117037876, 0.0219526761871)   \n",
       "13986                                                                          (0.973588142855)   \n",
       "13987        (0.0125287542681, 0.0125641726711, 0.308825377885, 0.0125453616159, 0.65353633356)   \n",
       "\n",
       "                                                                            Title  \\\n",
       "document_id                                                                         \n",
       "13983                                                 (Schengen visa application)   \n",
       "13984        (Getting a full time work permit in Canada after a language school?)   \n",
       "13985                        (How can the same flight cost less one leg earlier?)   \n",
       "13986                    (The plane is half empty yet the ticket price has risen)   \n",
       "13987                                                 (Hire car in south amercia)   \n",
       "\n",
       "                                                                                                                                                                                                                                                                                                                                                                                                                                                                                                                                                                                                                                                                                                                                                                                                                                                                                                                                                                                                                                                Body  \\\n",
       "document_id                                                                                                                                                                                                                                                                                                                                                                                                                                                                                                                                                                                                                                                                                                                                                                                                                                                                                                                                                                                                                                            \n",
       "13983                                                                                                                                                                                                                                                                                                                                                                                                                                                                                                                                                                                                                                                                                                       (<p>I am a Srilankan residing in UAE for past 10 years. My family was in UAE for past 9/10 years. Now they are back in UAE on residence visa while I have continued my stay in UAE.</p>\\n\\n<p>1.If the UAE residence visa has been stamped only 15 days ago for my family members can I still apply for Schengen visas for them? </p>\\n)   \n",
       "13984                                                                                                                                                                                                                                                                                                                                                                                                                               (<p>What are chances to get a full-time work permit (read work visa) after a completing a year-long English language courses program at VGC in Vancouver.</p>\\n\\n<p>If to be more specific, I'm planning a trip, a long one, and Canada is my first stop. So, my main priority is to improve my English skills and move on, but in a case I want to stay a little longer and continue my education there, I would need money to support myself. Incidentally, I already have the Specialist Degree (which is close to Master Degree) in Applied Computer Science which I got in Saint Petersburg, Russia.</p>\\n)   \n",
       "13985        (<p>I am booking a round-trip flight to the United States and found that I can save up to 700 euro on a 1200+ euro ticket if I board the same plane one leg earlier. On the flight company's website a ticket from Amsterdam, Netherlands to Boston, United States costs me 1.227,75 euro. However, if I travel to Dusseldorf, Germany and board the exact same plane, the ticket will cost me 568,66 dollar (500+ euro). The latter flight will make a stop in Amsterdam and then continue to Boston.</p>\\n\\n<p>The price from AMS to BOS is broken down as follows (in euro),</p>\\n\\n<pre><code>ticket price                                                     880,00\\ncarrier-imposed international surcharge                          259,00\\nairport passenger service charge                                  13,00\\nnoise surcharge                                                    0,50\\nsecurity charge                                                   10,53\\nus customs user fee                                  ...   \n",
       "13986                                                                                                                                                                                                                                                                 (<p>Consider this as an example:\\nThe flight below which is two days from now is half empty. However, the price has risen considerably during last week. Why did this happen? If the plane is half empty why the price should rise? \\n<a href=\"http://i.stack.imgur.com/Tp4r1.png\" rel=\"nofollow\"><img src=\"http://i.stack.imgur.com/Tp4r1.png\" alt=\"enter image description here\"></a>\\n<a href=\"http://i.stack.imgur.com/kQuRk.png\" rel=\"nofollow\"><img src=\"http://i.stack.imgur.com/kQuRk.png\" alt=\"enter image description here\"></a></p>\\n\\n<p><strong>Edit</strong></p>\\n\\n<p>I should mention that in the example above the seat selection is included in the ticket price, that is, even if someone does not want to select a seat then they still pay for it.</p>\\n)   \n",
       "13987                                                                                                                                                                                                                                                                                                                                                                                                                                                                                                                                                                                                                                                                                                                                                                                                                                                                                          (<p>We are thinking of hiring a car from Bueons Aires to drive to Santiago. Has anyone done this and are the roads, towns encounter safe etc??</p>\\n)   \n",
       "\n",
       "                                                      Tags  \n",
       "document_id                                                 \n",
       "13983        (<visas><schengen><italy><visa-refusal><uae>)  \n",
       "13984                   (<canada><work><english-language>)  \n",
       "13985                                   (<tickets><price>)  \n",
       "13986                       (<air-travel><tickets><price>)  \n",
       "13987                                   (<safety><rental>)  "
      ]
     },
     "execution_count": 622,
     "metadata": {},
     "output_type": "execute_result"
    }
   ],
   "source": [
    "# pd.describe_option('display')\n",
    "pd.options.display.max_colwidth = 1000\n",
    "print posts_topics.shape\n",
    "posts_topics.tail()"
   ]
  },
  {
   "cell_type": "code",
   "execution_count": 627,
   "metadata": {
    "collapsed": true
   },
   "outputs": [],
   "source": [
    "pd.options.display.max_colwidth = 100"
   ]
  },
  {
   "cell_type": "markdown",
   "metadata": {},
   "source": [
    "<img src=\"http://imgur.com/l5NasQj.png\" style=\"float: left; margin: 25px 15px 0px 0px; height: 25px\">\n",
    "\n",
    "### 2. What makes an answer likely to be \"accepted\"?\n",
    "\n",
    "---\n",
    "\n",
    "**2.1 Build a model to predict whether a post will be marked as the answer.**\n",
    "\n",
    "- This is a classification problem.\n",
    "- You're free to use any of the machine learning algorithms or techniques we have learned in class to build the best model you can.\n",
    "- NLP will be very useful here for pulling out useful and relevant features from the data. \n",
    "- Though not required, using bagging and boosting models like Random Forests and Gradient Boosted Trees will _probably_ get you the highest performance on the test data (but who knows!).\n",
    "\n",
    "\n",
    "**2.2 Evaluate the performance of your classifier with a confusion matrix and accuracy. Explain how your model is performing.**\n",
    "\n",
    "**2.3 Plot either a ROC curve or precision-recall curve (or both!) and explain what they tell you about your model.**\n",
    "\n",
    "NOTE: You should only be predicting this for `PostTypeID=2` posts, which are the \"answer\" posts. This doesn't mean, however, that you can't or shouldn't use the parent questions as predictors!\n"
   ]
  },
  {
   "cell_type": "code",
   "execution_count": 1175,
   "metadata": {
    "collapsed": false
   },
   "outputs": [],
   "source": [
    "# Get posts that are answers\n",
    "answer_posts = posts[posts['PostTypeId'] == 2]"
   ]
  },
  {
   "cell_type": "code",
   "execution_count": 1173,
   "metadata": {
    "collapsed": false
   },
   "outputs": [],
   "source": [
    "pd.options.mode.chained_assignment = None\n",
    "\n",
    "# Get votes that are from the post author and accept\n",
    "accept_votes = votes[votes['VoteTypeId'] == 1]\n",
    "accept_votes.dropna(axis=1, inplace=True)"
   ]
  },
  {
   "cell_type": "code",
   "execution_count": 1178,
   "metadata": {
    "collapsed": false
   },
   "outputs": [],
   "source": [
    "# print answer_posts.shape\n",
    "# answer_posts.head(3)"
   ]
  },
  {
   "cell_type": "code",
   "execution_count": 1302,
   "metadata": {
    "collapsed": false
   },
   "outputs": [],
   "source": [
    "# posts[posts['PostTypeId'] == 5]"
   ]
  },
  {
   "cell_type": "code",
   "execution_count": null,
   "metadata": {
    "collapsed": true
   },
   "outputs": [],
   "source": []
  },
  {
   "cell_type": "code",
   "execution_count": null,
   "metadata": {
    "collapsed": true
   },
   "outputs": [],
   "source": [
    "# XXXXXXXXXXXXXXXXXXXXXXXXXXXXXXXXXXXXXXXXXXXXXXXXXXXXXXXXXXXXXXXXXXXXXXXX"
   ]
  },
  {
   "cell_type": "code",
   "execution_count": null,
   "metadata": {
    "collapsed": true
   },
   "outputs": [],
   "source": []
  },
  {
   "cell_type": "code",
   "execution_count": 1241,
   "metadata": {
    "collapsed": false
   },
   "outputs": [
    {
     "data": {
      "text/plain": [
       "array([ 20,  32,  48,  62,  71,  76,  91,  96, 103, 109])"
      ]
     },
     "execution_count": 1241,
     "metadata": {},
     "output_type": "execute_result"
    }
   ],
   "source": [
    "answer_posts = posts.copy()\n",
    "AAIds = [int(x) for x in answer_posts['AcceptedAnswerId'] if x == x]\n",
    "np.sort(AAIds)[:10]"
   ]
  },
  {
   "cell_type": "code",
   "execution_count": 1242,
   "metadata": {
    "collapsed": false
   },
   "outputs": [],
   "source": [
    "answer_posts['IsAccepted'] = answer_posts['Id'].map(lambda x: 1 if x in AAIds else np.nan)"
   ]
  },
  {
   "cell_type": "code",
   "execution_count": 1243,
   "metadata": {
    "collapsed": true
   },
   "outputs": [],
   "source": [
    "answer_posts = answer_posts[answer_posts['PostTypeId'] == 2]"
   ]
  },
  {
   "cell_type": "code",
   "execution_count": 1247,
   "metadata": {
    "collapsed": true
   },
   "outputs": [],
   "source": [
    "answer_posts.dropna(subset=['OwnerUserId'], inplace=True)"
   ]
  },
  {
   "cell_type": "code",
   "execution_count": 1248,
   "metadata": {
    "collapsed": false
   },
   "outputs": [
    {
     "data": {
      "text/html": [
       "<div>\n",
       "<table border=\"1\" class=\"dataframe\">\n",
       "  <thead>\n",
       "    <tr style=\"text-align: right;\">\n",
       "      <th></th>\n",
       "      <th>Body</th>\n",
       "      <th>CommentCount</th>\n",
       "      <th>CreationDate</th>\n",
       "      <th>Id</th>\n",
       "      <th>LastActivityDate</th>\n",
       "      <th>LastEditDate</th>\n",
       "      <th>LastEditorDisplayName</th>\n",
       "      <th>OwnerUserId</th>\n",
       "      <th>ParentId</th>\n",
       "      <th>Score</th>\n",
       "      <th>IsAccepted</th>\n",
       "    </tr>\n",
       "  </thead>\n",
       "  <tbody>\n",
       "    <tr>\n",
       "      <th>9</th>\n",
       "      <td>&lt;p&gt;&lt;a href=\"http://www.eurail.com/home\" rel=\"nofollow\"&gt;&lt;strong&gt;EURail&lt;/strong&gt;&lt;/a&gt; should be a g...</td>\n",
       "      <td>3</td>\n",
       "      <td>2011-06-21T20:38:27.483</td>\n",
       "      <td>19</td>\n",
       "      <td>2011-10-14T13:44:53.930</td>\n",
       "      <td>2011-10-14T13:44:53.930</td>\n",
       "      <td>NaN</td>\n",
       "      <td>33.0</td>\n",
       "      <td>16.0</td>\n",
       "      <td>10</td>\n",
       "      <td>NaN</td>\n",
       "    </tr>\n",
       "    <tr>\n",
       "      <th>10</th>\n",
       "      <td>&lt;p&gt;Seat 61 is the absolute definitive guide for international rail travel. It has all the inform...</td>\n",
       "      <td>3</td>\n",
       "      <td>2011-06-21T20:38:39.520</td>\n",
       "      <td>20</td>\n",
       "      <td>2011-06-21T20:38:39.520</td>\n",
       "      <td>NaN</td>\n",
       "      <td>NaN</td>\n",
       "      <td>30.0</td>\n",
       "      <td>16.0</td>\n",
       "      <td>51</td>\n",
       "      <td>1.0</td>\n",
       "    </tr>\n",
       "  </tbody>\n",
       "</table>\n",
       "</div>"
      ],
      "text/plain": [
       "                                                                                                   Body  \\\n",
       "9   <p><a href=\"http://www.eurail.com/home\" rel=\"nofollow\"><strong>EURail</strong></a> should be a g...   \n",
       "10  <p>Seat 61 is the absolute definitive guide for international rail travel. It has all the inform...   \n",
       "\n",
       "    CommentCount             CreationDate  Id         LastActivityDate  \\\n",
       "9              3  2011-06-21T20:38:27.483  19  2011-10-14T13:44:53.930   \n",
       "10             3  2011-06-21T20:38:39.520  20  2011-06-21T20:38:39.520   \n",
       "\n",
       "               LastEditDate LastEditorDisplayName  OwnerUserId  ParentId  \\\n",
       "9   2011-10-14T13:44:53.930                   NaN         33.0      16.0   \n",
       "10                      NaN                   NaN         30.0      16.0   \n",
       "\n",
       "    Score  IsAccepted  \n",
       "9      10         NaN  \n",
       "10     51         1.0  "
      ]
     },
     "execution_count": 1248,
     "metadata": {},
     "output_type": "execute_result"
    }
   ],
   "source": [
    "answer_posts.head(2)"
   ]
  },
  {
   "cell_type": "code",
   "execution_count": 1245,
   "metadata": {
    "collapsed": false
   },
   "outputs": [],
   "source": [
    "# answer_posts.info()"
   ]
  },
  {
   "cell_type": "code",
   "execution_count": null,
   "metadata": {
    "collapsed": true
   },
   "outputs": [],
   "source": []
  },
  {
   "cell_type": "code",
   "execution_count": null,
   "metadata": {
    "collapsed": true
   },
   "outputs": [],
   "source": [
    "# XXXXXXXXXXXXXXXXXXXXXXXXXXXXXXXXXXXXXXXXXXXXXXXXXXXXXXXXXXXXXXXXXXXXXXXX"
   ]
  },
  {
   "cell_type": "code",
   "execution_count": null,
   "metadata": {
    "collapsed": true
   },
   "outputs": [],
   "source": []
  },
  {
   "cell_type": "code",
   "execution_count": 1246,
   "metadata": {
    "collapsed": false
   },
   "outputs": [],
   "source": [
    "# Drop useless columns\n",
    "answer_posts.drop([\n",
    "        'AcceptedAnswerId', \n",
    "        'AnswerCount', \n",
    "        'ClosedDate', \n",
    "        'CommunityOwnedDate', \n",
    "        'FavoriteCount',  \n",
    "        'OwnerDisplayName', \n",
    "        'LastEditorUserId',\n",
    "        'PostTypeId',\n",
    "        'Tags', \n",
    "        'Title', \n",
    "        'ViewCount'\n",
    "    ], axis=1, inplace=True)"
   ]
  },
  {
   "cell_type": "code",
   "execution_count": 1238,
   "metadata": {
    "collapsed": false
   },
   "outputs": [],
   "source": [
    "accept_votes.drop(['Id', 'VoteTypeId'], axis=1, inplace=True)\n",
    "\n",
    "pd.options.mode.chained_assignment = 'warn'"
   ]
  },
  {
   "cell_type": "code",
   "execution_count": 1077,
   "metadata": {
    "collapsed": false
   },
   "outputs": [],
   "source": [
    "# Merge answer posts with accepting votes\n",
    "answer_posts = answer_posts.merge(accept_votes, how='left', left_on='Id', right_on='PostId').drop(['Id'], axis=1)\n",
    "\n",
    "# Drop accepted answers without an owner because we want to have user info\n",
    "answer_posts.dropna(subset=['OwnerUserId'], inplace=True)"
   ]
  },
  {
   "cell_type": "code",
   "execution_count": 1239,
   "metadata": {
    "collapsed": false
   },
   "outputs": [],
   "source": [
    "answer_posts = answer_posts.rename(columns={'CreationDate_y': 'IsAccepted'})"
   ]
  },
  {
   "cell_type": "code",
   "execution_count": 1249,
   "metadata": {
    "collapsed": false
   },
   "outputs": [
    {
     "name": "stdout",
     "output_type": "stream",
     "text": [
      "Number of accepted answers: 6414\n",
      "Total number of answers: 23564\n"
     ]
    }
   ],
   "source": [
    "print \"Number of accepted answers:\", int(answer_posts['IsAccepted'].shape \\\n",
    "                                         - answer_posts['IsAccepted'].isnull().sum())\n",
    "print \"Total number of answers:\", answer_posts.shape[0]"
   ]
  },
  {
   "cell_type": "code",
   "execution_count": 1267,
   "metadata": {
    "collapsed": false
   },
   "outputs": [],
   "source": [
    "# Merge users\n",
    "# so_df = answer_posts.merge(users, how='left', left_on='OwnerUserId', right_on='Id').drop('Id', axis=1)\n",
    "so_df = answer_posts.merge(users, how='left', left_on='OwnerUserId', right_on='Id').drop('Id_y', axis=1)"
   ]
  },
  {
   "cell_type": "code",
   "execution_count": 1268,
   "metadata": {
    "collapsed": false
   },
   "outputs": [],
   "source": [
    "# Pivot badges and merge them\n",
    "badges_pivot = badges[badges['TagBased'] == False]\n",
    "badges_pivot = badges_pivot.pivot_table(values='Class', index='UserId', columns='Name', aggfunc=(lambda x: 1))\n",
    "so_df = so_df.merge(badges_pivot, how='left', left_on='OwnerUserId', right_index=True)"
   ]
  },
  {
   "cell_type": "code",
   "execution_count": 1269,
   "metadata": {
    "collapsed": false
   },
   "outputs": [
    {
     "name": "stdout",
     "output_type": "stream",
     "text": [
      "(21547, 82)\n",
      "(23564, 106)\n"
     ]
    }
   ],
   "source": [
    "print badges_pivot.shape\n",
    "print so_df.shape"
   ]
  },
  {
   "cell_type": "code",
   "execution_count": 1270,
   "metadata": {
    "collapsed": false
   },
   "outputs": [
    {
     "data": {
      "text/html": [
       "<div>\n",
       "<table border=\"1\" class=\"dataframe\">\n",
       "  <thead>\n",
       "    <tr style=\"text-align: right;\">\n",
       "      <th></th>\n",
       "      <th>Body</th>\n",
       "      <th>CommentCount</th>\n",
       "      <th>CreationDate_x</th>\n",
       "      <th>Id_x</th>\n",
       "      <th>LastActivityDate</th>\n",
       "      <th>LastEditDate</th>\n",
       "      <th>LastEditorDisplayName</th>\n",
       "      <th>OwnerUserId</th>\n",
       "      <th>ParentId</th>\n",
       "      <th>Score</th>\n",
       "      <th>...</th>\n",
       "      <th>Suffrage</th>\n",
       "      <th>Supporter</th>\n",
       "      <th>Synonymizer</th>\n",
       "      <th>Tag Editor</th>\n",
       "      <th>Talkative</th>\n",
       "      <th>Taxonomist</th>\n",
       "      <th>Teacher</th>\n",
       "      <th>Tumbleweed</th>\n",
       "      <th>Vox Populi</th>\n",
       "      <th>Yearling</th>\n",
       "    </tr>\n",
       "  </thead>\n",
       "  <tbody>\n",
       "    <tr>\n",
       "      <th>0</th>\n",
       "      <td>&lt;p&gt;&lt;a href=\"http://www.eurail.com/home\" rel=\"nofollow\"&gt;&lt;strong&gt;EURail&lt;/strong&gt;&lt;/a&gt; should be a g...</td>\n",
       "      <td>3</td>\n",
       "      <td>2011-06-21T20:38:27.483</td>\n",
       "      <td>19</td>\n",
       "      <td>2011-10-14T13:44:53.930</td>\n",
       "      <td>2011-10-14T13:44:53.930</td>\n",
       "      <td>NaN</td>\n",
       "      <td>33.0</td>\n",
       "      <td>16.0</td>\n",
       "      <td>10</td>\n",
       "      <td>...</td>\n",
       "      <td>NaN</td>\n",
       "      <td>1.0</td>\n",
       "      <td>NaN</td>\n",
       "      <td>NaN</td>\n",
       "      <td>NaN</td>\n",
       "      <td>1.0</td>\n",
       "      <td>1.0</td>\n",
       "      <td>NaN</td>\n",
       "      <td>NaN</td>\n",
       "      <td>1.0</td>\n",
       "    </tr>\n",
       "    <tr>\n",
       "      <th>1</th>\n",
       "      <td>&lt;p&gt;Seat 61 is the absolute definitive guide for international rail travel. It has all the inform...</td>\n",
       "      <td>3</td>\n",
       "      <td>2011-06-21T20:38:39.520</td>\n",
       "      <td>20</td>\n",
       "      <td>2011-06-21T20:38:39.520</td>\n",
       "      <td>NaN</td>\n",
       "      <td>NaN</td>\n",
       "      <td>30.0</td>\n",
       "      <td>16.0</td>\n",
       "      <td>51</td>\n",
       "      <td>...</td>\n",
       "      <td>1.0</td>\n",
       "      <td>1.0</td>\n",
       "      <td>NaN</td>\n",
       "      <td>1.0</td>\n",
       "      <td>NaN</td>\n",
       "      <td>1.0</td>\n",
       "      <td>1.0</td>\n",
       "      <td>NaN</td>\n",
       "      <td>NaN</td>\n",
       "      <td>1.0</td>\n",
       "    </tr>\n",
       "    <tr>\n",
       "      <th>2</th>\n",
       "      <td>&lt;p&gt;The site that stands out by a mile is &lt;a href=\"http://www.seat61.com/\"&gt;seat61.com&lt;/a&gt;. Really...</td>\n",
       "      <td>1</td>\n",
       "      <td>2011-06-21T20:39:27.310</td>\n",
       "      <td>22</td>\n",
       "      <td>2011-06-21T20:39:27.310</td>\n",
       "      <td>NaN</td>\n",
       "      <td>NaN</td>\n",
       "      <td>26.0</td>\n",
       "      <td>16.0</td>\n",
       "      <td>10</td>\n",
       "      <td>...</td>\n",
       "      <td>1.0</td>\n",
       "      <td>1.0</td>\n",
       "      <td>NaN</td>\n",
       "      <td>1.0</td>\n",
       "      <td>1.0</td>\n",
       "      <td>1.0</td>\n",
       "      <td>1.0</td>\n",
       "      <td>NaN</td>\n",
       "      <td>1.0</td>\n",
       "      <td>1.0</td>\n",
       "    </tr>\n",
       "    <tr>\n",
       "      <th>3</th>\n",
       "      <td>&lt;p&gt;I guess you might be in the UK based on the networks you listed?&lt;/p&gt;\\n\\n&lt;p&gt;For within Europe,...</td>\n",
       "      <td>4</td>\n",
       "      <td>2011-06-21T20:46:12.313</td>\n",
       "      <td>29</td>\n",
       "      <td>2011-06-21T20:46:12.313</td>\n",
       "      <td>NaN</td>\n",
       "      <td>NaN</td>\n",
       "      <td>26.0</td>\n",
       "      <td>25.0</td>\n",
       "      <td>10</td>\n",
       "      <td>...</td>\n",
       "      <td>1.0</td>\n",
       "      <td>1.0</td>\n",
       "      <td>NaN</td>\n",
       "      <td>1.0</td>\n",
       "      <td>1.0</td>\n",
       "      <td>1.0</td>\n",
       "      <td>1.0</td>\n",
       "      <td>NaN</td>\n",
       "      <td>1.0</td>\n",
       "      <td>1.0</td>\n",
       "    </tr>\n",
       "    <tr>\n",
       "      <th>4</th>\n",
       "      <td>&lt;p&gt;Round-the-world fares do exist.&lt;/p&gt;\\n\\n&lt;p&gt;Most airline alliances and occasionally single airl...</td>\n",
       "      <td>5</td>\n",
       "      <td>2011-06-21T20:49:43.270</td>\n",
       "      <td>32</td>\n",
       "      <td>2012-09-01T22:31:40.213</td>\n",
       "      <td>2012-09-01T22:31:40.213</td>\n",
       "      <td>user82</td>\n",
       "      <td>30.0</td>\n",
       "      <td>26.0</td>\n",
       "      <td>26</td>\n",
       "      <td>...</td>\n",
       "      <td>1.0</td>\n",
       "      <td>1.0</td>\n",
       "      <td>NaN</td>\n",
       "      <td>1.0</td>\n",
       "      <td>NaN</td>\n",
       "      <td>1.0</td>\n",
       "      <td>1.0</td>\n",
       "      <td>NaN</td>\n",
       "      <td>NaN</td>\n",
       "      <td>1.0</td>\n",
       "    </tr>\n",
       "  </tbody>\n",
       "</table>\n",
       "<p>5 rows × 106 columns</p>\n",
       "</div>"
      ],
      "text/plain": [
       "                                                                                                  Body  \\\n",
       "0  <p><a href=\"http://www.eurail.com/home\" rel=\"nofollow\"><strong>EURail</strong></a> should be a g...   \n",
       "1  <p>Seat 61 is the absolute definitive guide for international rail travel. It has all the inform...   \n",
       "2  <p>The site that stands out by a mile is <a href=\"http://www.seat61.com/\">seat61.com</a>. Really...   \n",
       "3  <p>I guess you might be in the UK based on the networks you listed?</p>\\n\\n<p>For within Europe,...   \n",
       "4  <p>Round-the-world fares do exist.</p>\\n\\n<p>Most airline alliances and occasionally single airl...   \n",
       "\n",
       "   CommentCount           CreationDate_x  Id_x         LastActivityDate  \\\n",
       "0             3  2011-06-21T20:38:27.483    19  2011-10-14T13:44:53.930   \n",
       "1             3  2011-06-21T20:38:39.520    20  2011-06-21T20:38:39.520   \n",
       "2             1  2011-06-21T20:39:27.310    22  2011-06-21T20:39:27.310   \n",
       "3             4  2011-06-21T20:46:12.313    29  2011-06-21T20:46:12.313   \n",
       "4             5  2011-06-21T20:49:43.270    32  2012-09-01T22:31:40.213   \n",
       "\n",
       "              LastEditDate LastEditorDisplayName  OwnerUserId  ParentId  \\\n",
       "0  2011-10-14T13:44:53.930                   NaN         33.0      16.0   \n",
       "1                      NaN                   NaN         30.0      16.0   \n",
       "2                      NaN                   NaN         26.0      16.0   \n",
       "3                      NaN                   NaN         26.0      25.0   \n",
       "4  2012-09-01T22:31:40.213                user82         30.0      26.0   \n",
       "\n",
       "   Score   ...     Suffrage Supporter  Synonymizer  Tag Editor Talkative  \\\n",
       "0     10   ...          NaN       1.0          NaN         NaN       NaN   \n",
       "1     51   ...          1.0       1.0          NaN         1.0       NaN   \n",
       "2     10   ...          1.0       1.0          NaN         1.0       1.0   \n",
       "3     10   ...          1.0       1.0          NaN         1.0       1.0   \n",
       "4     26   ...          1.0       1.0          NaN         1.0       NaN   \n",
       "\n",
       "  Taxonomist  Teacher Tumbleweed Vox Populi Yearling  \n",
       "0        1.0      1.0        NaN        NaN      1.0  \n",
       "1        1.0      1.0        NaN        NaN      1.0  \n",
       "2        1.0      1.0        NaN        1.0      1.0  \n",
       "3        1.0      1.0        NaN        1.0      1.0  \n",
       "4        1.0      1.0        NaN        NaN      1.0  \n",
       "\n",
       "[5 rows x 106 columns]"
      ]
     },
     "execution_count": 1270,
     "metadata": {},
     "output_type": "execute_result"
    }
   ],
   "source": [
    "so_df.head()"
   ]
  },
  {
   "cell_type": "code",
   "execution_count": 1271,
   "metadata": {
    "collapsed": false
   },
   "outputs": [
    {
     "data": {
      "text/plain": [
       "Index([u'Body', u'CommentCount', u'CreationDate_x', u'Id_x',\n",
       "       u'LastActivityDate', u'LastEditDate', u'LastEditorDisplayName',\n",
       "       u'OwnerUserId', u'ParentId', u'Score', u'IsAccepted', u'AboutMe',\n",
       "       u'AccountId', u'Age', u'CreationDate_y', u'DisplayName', u'DownVotes',\n",
       "       u'LastAccessDate', u'Location', u'ProfileImageUrl', u'Reputation',\n",
       "       u'UpVotes', u'Views', u'WebsiteUrl', u'Altruist'],\n",
       "      dtype='object')"
      ]
     },
     "execution_count": 1271,
     "metadata": {},
     "output_type": "execute_result"
    }
   ],
   "source": [
    "so_df.columns[:25]"
   ]
  },
  {
   "cell_type": "code",
   "execution_count": 1272,
   "metadata": {
    "collapsed": false
   },
   "outputs": [],
   "source": [
    "# Drop more useless columns\n",
    "so_df.drop(['DisplayName', \n",
    "            'AccountId', \n",
    "#             'PostId',\n",
    "            'Id_x',\n",
    "            'OwnerUserId',\n",
    "            'ParentId' # Could be used\n",
    "           ], axis=1, inplace=True)"
   ]
  },
  {
   "cell_type": "code",
   "execution_count": 1273,
   "metadata": {
    "collapsed": false
   },
   "outputs": [
    {
     "name": "stdout",
     "output_type": "stream",
     "text": [
      "<class 'pandas.core.frame.DataFrame'>\n",
      "Int64Index: 23564 entries, 0 to 23563\n",
      "Data columns (total 20 columns):\n",
      "Body                     23564 non-null object\n",
      "CommentCount             23564 non-null int64\n",
      "CreationDate_x           23564 non-null object\n",
      "LastActivityDate         23564 non-null object\n",
      "LastEditDate             8750 non-null object\n",
      "LastEditorDisplayName    222 non-null object\n",
      "Score                    23564 non-null int64\n",
      "IsAccepted               6414 non-null float64\n",
      "AboutMe                  15188 non-null object\n",
      "Age                      10039 non-null float64\n",
      "CreationDate_y           23564 non-null object\n",
      "DownVotes                23564 non-null int64\n",
      "LastAccessDate           23564 non-null object\n",
      "Location                 15499 non-null object\n",
      "ProfileImageUrl          9450 non-null object\n",
      "Reputation               23564 non-null int64\n",
      "UpVotes                  23564 non-null int64\n",
      "Views                    23564 non-null int64\n",
      "WebsiteUrl               12551 non-null object\n",
      "Altruist                 7121 non-null float64\n",
      "dtypes: float64(3), int64(6), object(11)\n",
      "memory usage: 3.8+ MB\n"
     ]
    }
   ],
   "source": [
    "so_df.iloc[:, :20].info()"
   ]
  },
  {
   "cell_type": "code",
   "execution_count": 1274,
   "metadata": {
    "collapsed": true
   },
   "outputs": [],
   "source": [
    "text_cols = [\n",
    "    'AboutMe',\n",
    "    'Body'\n",
    "]\n",
    "                 \n",
    "time_cols = [\n",
    "    'CreationDate_x', \n",
    "#     'CreationDate', \n",
    "    'LastActivityDate', \n",
    "    'LastAccessDate'\n",
    "]\n",
    "\n",
    "num_cols = [\n",
    "    'CommentCount',\n",
    "    'Score',\n",
    "    'Age',\n",
    "    'DownVotes',\n",
    "    'Reputation',\n",
    "    'UpVotes',\n",
    "    'Views'\n",
    "]"
   ]
  },
  {
   "cell_type": "code",
   "execution_count": 1275,
   "metadata": {
    "collapsed": false
   },
   "outputs": [],
   "source": [
    "# Change text features into the length of their text\n",
    "def get_text_length(text):\n",
    "    return 0 if text != text else len(text)\n",
    "\n",
    "so_df['Body'] = so_df['Body'].map(get_text_length)\n",
    "so_df['AboutMe'] = so_df['AboutMe'].map(get_text_length)"
   ]
  },
  {
   "cell_type": "code",
   "execution_count": 1276,
   "metadata": {
    "collapsed": false
   },
   "outputs": [],
   "source": [
    "# Change timestamps into number of days from today\n",
    "def time_to_day_count(time_series):\n",
    "    current_date = '2016-09'\n",
    "    timestamp = pd.to_datetime(time_series)\n",
    "    return (pd.to_datetime(current_date) - timestamp).astype('timedelta64[D]')\n",
    "\n",
    "for col in time_cols:\n",
    "    so_df[col] = time_to_day_count(so_df[col])"
   ]
  },
  {
   "cell_type": "code",
   "execution_count": 1277,
   "metadata": {
    "collapsed": false
   },
   "outputs": [],
   "source": [
    "# Booleanize all other features\n",
    "def booleanize(x):\n",
    "    return 0 if x != x else 1\n",
    "\n",
    "non_bool_cols = text_cols + time_cols + num_cols\n",
    "bool_cols = so_df.columns.difference(non_bool_cols)\n",
    "so_df[bool_cols] = so_df[bool_cols].applymap(booleanize)"
   ]
  },
  {
   "cell_type": "code",
   "execution_count": 1278,
   "metadata": {
    "collapsed": false
   },
   "outputs": [
    {
     "name": "stdout",
     "output_type": "stream",
     "text": [
      "<class 'pandas.core.frame.DataFrame'>\n",
      "Int64Index: 23564 entries, 0 to 23563\n",
      "Columns: 101 entries, Body to Yearling\n",
      "dtypes: float64(4), int64(97)\n",
      "memory usage: 18.3 MB\n"
     ]
    }
   ],
   "source": [
    "so_df.info()"
   ]
  },
  {
   "cell_type": "code",
   "execution_count": 1279,
   "metadata": {
    "collapsed": false
   },
   "outputs": [],
   "source": [
    "so_df.fillna(0, inplace=True)"
   ]
  },
  {
   "cell_type": "code",
   "execution_count": 1280,
   "metadata": {
    "collapsed": false
   },
   "outputs": [
    {
     "name": "stdout",
     "output_type": "stream",
     "text": [
      "[dtype('int64') dtype('float64')]\n",
      "(23564, 101)\n"
     ]
    }
   ],
   "source": [
    "print so_df.dtypes.unique()\n",
    "print so_df.shape"
   ]
  },
  {
   "cell_type": "code",
   "execution_count": 1281,
   "metadata": {
    "collapsed": false
   },
   "outputs": [
    {
     "data": {
      "text/html": [
       "<div>\n",
       "<table border=\"1\" class=\"dataframe\">\n",
       "  <thead>\n",
       "    <tr style=\"text-align: right;\">\n",
       "      <th></th>\n",
       "      <th>0</th>\n",
       "      <th>1</th>\n",
       "      <th>2</th>\n",
       "      <th>3</th>\n",
       "      <th>4</th>\n",
       "      <th>5</th>\n",
       "      <th>6</th>\n",
       "      <th>7</th>\n",
       "      <th>8</th>\n",
       "      <th>9</th>\n",
       "    </tr>\n",
       "  </thead>\n",
       "  <tbody>\n",
       "    <tr>\n",
       "      <th>Body</th>\n",
       "      <td>386.0</td>\n",
       "      <td>424.0</td>\n",
       "      <td>234.0</td>\n",
       "      <td>575.0</td>\n",
       "      <td>1626.0</td>\n",
       "      <td>618.0</td>\n",
       "      <td>166.0</td>\n",
       "      <td>471.0</td>\n",
       "      <td>310.0</td>\n",
       "      <td>523.0</td>\n",
       "    </tr>\n",
       "    <tr>\n",
       "      <th>CommentCount</th>\n",
       "      <td>3.0</td>\n",
       "      <td>3.0</td>\n",
       "      <td>1.0</td>\n",
       "      <td>4.0</td>\n",
       "      <td>5.0</td>\n",
       "      <td>3.0</td>\n",
       "      <td>0.0</td>\n",
       "      <td>0.0</td>\n",
       "      <td>2.0</td>\n",
       "      <td>1.0</td>\n",
       "    </tr>\n",
       "    <tr>\n",
       "      <th>CreationDate_x</th>\n",
       "      <td>1898.0</td>\n",
       "      <td>1898.0</td>\n",
       "      <td>1898.0</td>\n",
       "      <td>1898.0</td>\n",
       "      <td>1898.0</td>\n",
       "      <td>1898.0</td>\n",
       "      <td>1898.0</td>\n",
       "      <td>1898.0</td>\n",
       "      <td>1898.0</td>\n",
       "      <td>1898.0</td>\n",
       "    </tr>\n",
       "  </tbody>\n",
       "</table>\n",
       "</div>"
      ],
      "text/plain": [
       "                     0       1       2       3       4       5       6  \\\n",
       "Body             386.0   424.0   234.0   575.0  1626.0   618.0   166.0   \n",
       "CommentCount       3.0     3.0     1.0     4.0     5.0     3.0     0.0   \n",
       "CreationDate_x  1898.0  1898.0  1898.0  1898.0  1898.0  1898.0  1898.0   \n",
       "\n",
       "                     7       8       9  \n",
       "Body             471.0   310.0   523.0  \n",
       "CommentCount       0.0     2.0     1.0  \n",
       "CreationDate_x  1898.0  1898.0  1898.0  "
      ]
     },
     "execution_count": 1281,
     "metadata": {},
     "output_type": "execute_result"
    }
   ],
   "source": [
    "so_df.head(10).T.head(3)"
   ]
  },
  {
   "cell_type": "code",
   "execution_count": 1282,
   "metadata": {
    "collapsed": false
   },
   "outputs": [
    {
     "data": {
      "text/html": [
       "<div>\n",
       "<table border=\"1\" class=\"dataframe\">\n",
       "  <thead>\n",
       "    <tr style=\"text-align: right;\">\n",
       "      <th></th>\n",
       "      <th>0</th>\n",
       "      <th>1</th>\n",
       "      <th>2</th>\n",
       "      <th>3</th>\n",
       "      <th>4</th>\n",
       "      <th>5</th>\n",
       "      <th>6</th>\n",
       "      <th>7</th>\n",
       "      <th>8</th>\n",
       "      <th>9</th>\n",
       "    </tr>\n",
       "  </thead>\n",
       "  <tbody>\n",
       "    <tr>\n",
       "      <th>Tumbleweed</th>\n",
       "      <td>0.0</td>\n",
       "      <td>0.0</td>\n",
       "      <td>0.0</td>\n",
       "      <td>0.0</td>\n",
       "      <td>0.0</td>\n",
       "      <td>0.0</td>\n",
       "      <td>0.0</td>\n",
       "      <td>0.0</td>\n",
       "      <td>0.0</td>\n",
       "      <td>0.0</td>\n",
       "    </tr>\n",
       "    <tr>\n",
       "      <th>Vox Populi</th>\n",
       "      <td>0.0</td>\n",
       "      <td>0.0</td>\n",
       "      <td>1.0</td>\n",
       "      <td>1.0</td>\n",
       "      <td>0.0</td>\n",
       "      <td>1.0</td>\n",
       "      <td>0.0</td>\n",
       "      <td>0.0</td>\n",
       "      <td>0.0</td>\n",
       "      <td>0.0</td>\n",
       "    </tr>\n",
       "    <tr>\n",
       "      <th>Yearling</th>\n",
       "      <td>1.0</td>\n",
       "      <td>1.0</td>\n",
       "      <td>1.0</td>\n",
       "      <td>1.0</td>\n",
       "      <td>1.0</td>\n",
       "      <td>1.0</td>\n",
       "      <td>1.0</td>\n",
       "      <td>1.0</td>\n",
       "      <td>1.0</td>\n",
       "      <td>1.0</td>\n",
       "    </tr>\n",
       "  </tbody>\n",
       "</table>\n",
       "</div>"
      ],
      "text/plain": [
       "              0    1    2    3    4    5    6    7    8    9\n",
       "Tumbleweed  0.0  0.0  0.0  0.0  0.0  0.0  0.0  0.0  0.0  0.0\n",
       "Vox Populi  0.0  0.0  1.0  1.0  0.0  1.0  0.0  0.0  0.0  0.0\n",
       "Yearling    1.0  1.0  1.0  1.0  1.0  1.0  1.0  1.0  1.0  1.0"
      ]
     },
     "execution_count": 1282,
     "metadata": {},
     "output_type": "execute_result"
    }
   ],
   "source": [
    "so_df.head(10).T.tail(3)"
   ]
  },
  {
   "cell_type": "code",
   "execution_count": 1283,
   "metadata": {
    "collapsed": false
   },
   "outputs": [],
   "source": [
    "# so_df.iloc[:, :20].info()"
   ]
  },
  {
   "cell_type": "code",
   "execution_count": 1285,
   "metadata": {
    "collapsed": false
   },
   "outputs": [
    {
     "data": {
      "text/plain": [
       "(23564, 101)"
      ]
     },
     "execution_count": 1285,
     "metadata": {},
     "output_type": "execute_result"
    }
   ],
   "source": [
    "so_df.shape"
   ]
  },
  {
   "cell_type": "code",
   "execution_count": 1286,
   "metadata": {
    "collapsed": false
   },
   "outputs": [
    {
     "data": {
      "text/plain": [
       "0    17150\n",
       "1     6414\n",
       "Name: IsAccepted, dtype: int64"
      ]
     },
     "execution_count": 1286,
     "metadata": {},
     "output_type": "execute_result"
    }
   ],
   "source": [
    "so_df['IsAccepted'].value_counts()"
   ]
  },
  {
   "cell_type": "code",
   "execution_count": 1296,
   "metadata": {
    "collapsed": false
   },
   "outputs": [
    {
     "name": "stdout",
     "output_type": "stream",
     "text": [
      "Train/test split executed, test size = 0.2\n"
     ]
    }
   ],
   "source": [
    "def run_train_test_split(df, target):\n",
    "    test_size = 0.2\n",
    "    from sklearn.cross_validation import train_test_split\n",
    "\n",
    "    y = df[target].values\n",
    "    X = df.drop(target, axis=1)\n",
    "    print \"Train/test split executed, test size =\", test_size\n",
    "    return train_test_split(X, y, test_size=test_size)\n",
    "\n",
    "X_train, X_test, y_train, y_test = run_train_test_split(so_df, 'IsAccepted')"
   ]
  },
  {
   "cell_type": "code",
   "execution_count": 1297,
   "metadata": {
    "collapsed": false
   },
   "outputs": [
    {
     "name": "stdout",
     "output_type": "stream",
     "text": [
      "0.727805126464\n",
      "[ 0.72898435  0.72898435  0.72891247  0.72891247  0.72910586] 0.728979901175\n"
     ]
    }
   ],
   "source": [
    "from sklearn.ensemble import RandomForestClassifier\n",
    "from sklearn.cross_validation import cross_val_score\n",
    "\n",
    "rfc = RandomForestClassifier(max_depth=2, n_estimators=100, n_jobs=-1)\n",
    "rfc_scores = cross_val_score(rfc, X_train, y_train, cv=5)\n",
    "\n",
    "print so_df['IsAccepted'].value_counts()[0] / float(so_df.shape[0])\n",
    "print rfc_scores, np.mean(rfc_scores)"
   ]
  },
  {
   "cell_type": "code",
   "execution_count": 1157,
   "metadata": {
    "collapsed": false
   },
   "outputs": [],
   "source": [
    "# from sklearn.grid_search import GridSearchCV\n",
    "\n",
    "# rfc = RandomForestClassifier()\n",
    "\n",
    "# rf_params = {\n",
    "#     'max_features':[None,'log2','sqrt', 2,3,4,5],\n",
    "#     'max_depth':[1,3],\n",
    "#     'min_samples_leaf':np.linspace(1,101,20),\n",
    "#     'n_estimators':[10]\n",
    "# }\n",
    "\n",
    "# ## gridsearch parameters, and cv =5\n",
    "# rf_gs = GridSearchCV(rfc, rf_params, cv=5, verbose=1, n_jobs=-1)"
   ]
  },
  {
   "cell_type": "code",
   "execution_count": 1156,
   "metadata": {
    "collapsed": false
   },
   "outputs": [],
   "source": [
    "# rf_gs.fit(X_train, y_train)"
   ]
  },
  {
   "cell_type": "code",
   "execution_count": 1155,
   "metadata": {
    "collapsed": false
   },
   "outputs": [],
   "source": [
    "# ## Print best estimator, best parameters, and best score\n",
    "# rfc_best = rf_gs.best_estimator_\n",
    "# print \"best estimator\", rfc_best\n",
    "# print \"\\n==========\\n\"\n",
    "# print \"best parameters\",  rf_gs.best_params_\n",
    "# print \"\\n==========\\n\"\n",
    "# print \"best score\", rf_gs.best_score_"
   ]
  },
  {
   "cell_type": "markdown",
   "metadata": {
    "collapsed": true
   },
   "source": [
    "<img src=\"http://imgur.com/l5NasQj.png\" style=\"float: left; margin: 25px 15px 0px 0px; height: 25px\">\n",
    "\n",
    "### 3. What is the score of a post?\n",
    "\n",
    "---\n",
    "\n",
    "**3.1 Build a model that predicts the score of a post.**\n",
    "\n",
    "- This is a regression problem now. \n",
    "- You can and should be predicting score for both \"question\" and \"answer\" posts, so keep them both in your dataset.\n",
    "- Again, use any techniques that you think will get you the best model.\n",
    "\n",
    "**3.2 Evaluate the performance of your model with cross-validation and report the results.**\n",
    "\n",
    "**3.3 What is important for determining the score of a post, if anything?**\n"
   ]
  },
  {
   "cell_type": "code",
   "execution_count": null,
   "metadata": {
    "collapsed": true
   },
   "outputs": [],
   "source": []
  },
  {
   "cell_type": "markdown",
   "metadata": {},
   "source": [
    "<img src=\"http://imgur.com/l5NasQj.png\" style=\"float: left; margin: 25px 15px 0px 0px; height: 25px\">\n",
    "\n",
    "### 4. How many views does a post have?\n",
    "\n",
    "---\n",
    "\n",
    "**4.1 Build a model that predicts the number of views a post has.**\n",
    "\n",
    "- This is another regression problem. \n",
    "- Predict the views for all posts, not just the \"answer\" posts.\n",
    "\n",
    "**4.2 Evaluate the performance of your model with cross-validation and report the results.**\n",
    "\n",
    "**4.3 What is important for the number of views a post has, if anything?**"
   ]
  },
  {
   "cell_type": "code",
   "execution_count": null,
   "metadata": {
    "collapsed": true
   },
   "outputs": [],
   "source": []
  },
  {
   "cell_type": "markdown",
   "metadata": {},
   "source": [
    "<img src=\"http://imgur.com/l5NasQj.png\" style=\"float: left; margin: 25px 15px 0px 0px; height: 25px\">\n",
    "\n",
    "### 5. Build a pipeline or other code to automate evaluation of your models on the test data.\n",
    "\n",
    "---\n",
    "\n",
    "Now that you've constructed your three predictive models, build a pipeline or code that can easily load up the raw testing data and evaluate your models on it.\n",
    "\n",
    "The testing data that is held out is in the same raw format as the training data you have. _Any cleaning and preprocessing that you did on the training data will need to be done on the testing data as well!_\n",
    "\n",
    "This is a good opportunity to practice building pipelines, but you're not required to. Custom functions and classes are fine as long as they are able to process and test the new data.\n"
   ]
  },
  {
   "cell_type": "code",
   "execution_count": null,
   "metadata": {
    "collapsed": true
   },
   "outputs": [],
   "source": []
  }
 ],
 "metadata": {
  "anaconda-cloud": {},
  "kernelspec": {
   "display_name": "Python [dsi]",
   "language": "python",
   "name": "Python [dsi]"
  },
  "language_info": {
   "codemirror_mode": {
    "name": "ipython",
    "version": 2
   },
   "file_extension": ".py",
   "mimetype": "text/x-python",
   "name": "python",
   "nbconvert_exporter": "python",
   "pygments_lexer": "ipython2",
   "version": "2.7.12"
  }
 },
 "nbformat": 4,
 "nbformat_minor": 0
}
