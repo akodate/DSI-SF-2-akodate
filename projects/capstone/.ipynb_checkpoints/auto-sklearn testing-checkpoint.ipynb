{
 "cells": [
  {
   "cell_type": "code",
   "execution_count": 143,
   "metadata": {
    "collapsed": true
   },
   "outputs": [],
   "source": [
    "import pandas as pd\n",
    "\n",
    "df = pd.read_csv('https://raw.githubusercontent.com/mwaskom/seaborn-data/master/attention.csv')\n",
    "target = 'attention'"
   ]
  },
  {
   "cell_type": "code",
   "execution_count": 144,
   "metadata": {
    "collapsed": true
   },
   "outputs": [],
   "source": [
    ">>> import autosklearn.classification\n",
    ">>> import sklearn.datasets\n",
    "# >>> cali = sklearn.datasets.load_iris()\n",
    ">>> X = df.drop(target, axis=1)\n",
    ">>> y = df[target]\n",
    ">>> import numpy as np"
   ]
  },
  {
   "cell_type": "code",
   "execution_count": null,
   "metadata": {
    "collapsed": false
   },
   "outputs": [],
   "source": []
  },
  {
   "cell_type": "code",
   "execution_count": 165,
   "metadata": {
    "collapsed": false
   },
   "outputs": [
    {
     "name": "stdout",
     "output_type": "stream",
     "text": [
      "Train/test split executed, test size = 0.2\n",
      "(48, 4) (48,)\n",
      "(12, 4) (12,)\n"
     ]
    }
   ],
   "source": [
    "def run_train_test_split(df, target):\n",
    "    test_size = 0.2\n",
    "    from sklearn.cross_validation import train_test_split\n",
    "    \n",
    "    \n",
    "    from sklearn.preprocessing import LabelEncoder\n",
    "\n",
    "    le = LabelEncoder()\n",
    "    target = le.fit_transform(target)\n",
    "    \n",
    "    \n",
    "    print(\"Train/test split executed, test size =\", test_size)\n",
    "    return train_test_split(df, target, test_size=test_size)\n",
    "\n",
    "X_train, X_test, y_train, y_test = run_train_test_split(X, y)\n",
    "\n",
    "X_train = np.ascontiguousarray(X_train)\n",
    "# y_train = y_train.as_matrix()\n",
    "X_test = X_test.as_matrix()\n",
    "# y_test = y_test.as_matrix()\n",
    "\n",
    "print(X_train.shape, y_train.shape)\n",
    "print(X_test.shape, y_test.shape)"
   ]
  },
  {
   "cell_type": "code",
   "execution_count": 166,
   "metadata": {
    "collapsed": false
   },
   "outputs": [
    {
     "name": "stdout",
     "output_type": "stream",
     "text": [
      "<class 'numpy.ndarray'> <class 'numpy.ndarray'>\n"
     ]
    }
   ],
   "source": [
    "print(type(X_train), type(y_train))"
   ]
  },
  {
   "cell_type": "code",
   "execution_count": 167,
   "metadata": {
    "collapsed": false
   },
   "outputs": [
    {
     "data": {
      "text/plain": [
       "array([0, 1, 0, 0, 0, 0, 0, 0, 1, 0, 1, 1, 0, 1, 1, 0, 1, 1, 1, 0, 0, 1, 1,\n",
       "       1, 0, 1, 1, 0, 0, 0, 0, 1, 0, 1, 1, 1, 0, 1, 1, 0, 1, 0, 1, 1, 0, 0,\n",
       "       1, 1])"
      ]
     },
     "execution_count": 167,
     "metadata": {},
     "output_type": "execute_result"
    }
   ],
   "source": [
    "y_train"
   ]
  },
  {
   "cell_type": "code",
   "execution_count": 168,
   "metadata": {
    "collapsed": false
   },
   "outputs": [
    {
     "name": "stdout",
     "output_type": "stream",
     "text": [
      "[INFO] [2016-09-10 04:19:28,327:AutoML(1):38cc4406754855bf83e0bc40114a34ab] Starting to create dummy predictions.\n",
      "[INFO] [2016-09-10 04:19:28,354:AutoML(1):38cc4406754855bf83e0bc40114a34ab] Finished creating dummy prediction 1/2.\n",
      "[INFO] [2016-09-10 04:19:28,388:AutoML(1):38cc4406754855bf83e0bc40114a34ab] Finished creating dummy prediction 2/2.\n",
      "[INFO] [2016-09-10 04:19:29,078:AutoML(1):38cc4406754855bf83e0bc40114a34ab] Start Ensemble with 29.24sec time left\n",
      "[INFO] [2016-09-10 04:19:29,087:AutoML(1):38cc4406754855bf83e0bc40114a34ab] Start SMAC with 29.23sec time left\n",
      "[ERROR] [2016-09-10 04:19:29,104:EnsembleBuilder(1):38cc4406754855bf83e0bc40114a34ab] Model only predicts at random: /tmp/autosklearn_tmp_16380_6207/.auto-sklearn/predictions_ensemble/predictions_ensemble_1_00001.npy has score: 0.0\n",
      "[ERROR] [2016-09-10 04:19:29,108:EnsembleBuilder(1):38cc4406754855bf83e0bc40114a34ab] Model only predicts at random: /tmp/autosklearn_tmp_16380_6207/.auto-sklearn/predictions_ensemble/predictions_ensemble_1_00002.npy has score: 0.0\n",
      "[INFO] [2016-09-10 04:19:29,112:AutoMLSMBO(1)::38cc4406754855bf83e0bc40114a34ab] Training default configurations on a subset of 15/48 data points.\n",
      "[INFO] [2016-09-10 04:19:29,124:EnsembleBuilder(1):38cc4406754855bf83e0bc40114a34ab] Ensemble Selection:\n",
      "\tTrajectory: 0: 0.000000 1: 0.000000 2: 0.000000 3: 0.000000 4: 0.000000 5: 0.000000 6: 0.000000 7: 0.000000 8: 0.000000 9: 0.000000 10: 0.000000 11: 0.000000 12: 0.000000 13: 0.000000 14: 0.000000 15: 0.000000 16: 0.000000 17: 0.000000 18: 0.000000 19: 0.000000 20: 0.000000 21: 0.000000 22: 0.000000 23: 0.000000 24: 0.000000 25: 0.000000 26: 0.000000 27: 0.000000 28: 0.000000 29: 0.000000 30: 0.000000 31: 0.000000 32: 0.000000 33: 0.000000 34: 0.000000 35: 0.000000 36: 0.000000 37: 0.000000 38: 0.000000 39: 0.000000 40: 0.000000 41: 0.000000 42: 0.000000 43: 0.000000 44: 0.000000 45: 0.000000 46: 0.000000 47: 0.000000 48: 0.000000 49: 0.000000\n",
      "\tMembers: [0, 0, 0, 0, 0, 0, 0, 0, 0, 0, 0, 0, 0, 0, 0, 0, 0, 0, 0, 0, 0, 0, 0, 0, 0, 0, 0, 0, 0, 0, 0, 0, 0, 0, 0, 0, 0, 0, 0, 0, 0, 0, 0, 0, 0, 0, 0, 0, 0, 0]\n",
      "\tWeights: [ 1.  0.]\n",
      "\tIdentifiers: (1, 1)[INFO] [2016-09-10 04:19:29,126:AutoMLSMBO(1)::38cc4406754855bf83e0bc40114a34ab] Starting to evaluate 3 on SUBSET with size 15 and time limit 5s.\n",
      "\n",
      "[INFO] [2016-09-10 04:19:29,128:AutoMLSMBO(1)::38cc4406754855bf83e0bc40114a34ab] Configuration:\n",
      "  balancing:strategy, Value: 'none'\n",
      "  classifier:__choice__, Value: 'random_forest'\n",
      "  classifier:random_forest:bootstrap, Value: 'True'\n",
      "  classifier:random_forest:criterion, Value: 'gini'\n",
      "  classifier:random_forest:max_depth, Constant: 'None'\n",
      "  classifier:random_forest:max_features, Value: 1.0\n",
      "  classifier:random_forest:max_leaf_nodes, Constant: 'None'\n",
      "  classifier:random_forest:min_samples_leaf, Value: 1\n",
      "  classifier:random_forest:min_samples_split, Value: 2\n",
      "  classifier:random_forest:min_weight_fraction_leaf, Constant: 0.0\n",
      "  classifier:random_forest:n_estimators, Constant: 100\n",
      "  imputation:strategy, Value: 'mean'\n",
      "  one_hot_encoding:minimum_fraction, Value: 0.01\n",
      "  one_hot_encoding:use_minimum_fraction, Value: 'True'\n",
      "  preprocessor:__choice__, Value: 'no_preprocessing'\n",
      "  rescaling:__choice__, Value: 'min/max'\n",
      "[INFO] [2016-09-10 04:19:29,130:EnsembleBuilder(1):38cc4406754855bf83e0bc40114a34ab] Training performance: 0.000000\n",
      "\n",
      "[INFO] [2016-09-10 04:19:29,132:EnsembleBuilder(1):38cc4406754855bf83e0bc40114a34ab] Building the ensemble took 0.028946 seconds\n",
      "[INFO] [2016-09-10 04:19:29,139:EnsembleBuilder(1):38cc4406754855bf83e0bc40114a34ab] Could not find as many validation set predictions (0)as ensemble predictions (2)!.\n",
      "[INFO] [2016-09-10 04:19:29,142:EnsembleBuilder(1):38cc4406754855bf83e0bc40114a34ab] Could not find as many test set predictions (0) as ensemble predictions (2)!\n",
      "[INFO] [2016-09-10 04:19:29,322:AutoMLSMBO(1)::38cc4406754855bf83e0bc40114a34ab] Finished evaluating 3. configuration on SUBSET. Duration 0.149308; loss 0.125000; status 1; additional run info: ;duration: 0.1493079662322998;num_run:00003 \n",
      "[INFO] [2016-09-10 04:19:29,324:AutoMLSMBO(1)::38cc4406754855bf83e0bc40114a34ab] Finished SUBSET training sucessfully with ratio 0.330000\n",
      "[INFO] [2016-09-10 04:19:29,328:AutoMLSMBO(1)::38cc4406754855bf83e0bc40114a34ab] Starting to evaluate 4 on SUBSET with size 15 and time limit 5s.\n",
      "[INFO] [2016-09-10 04:19:29,329:AutoMLSMBO(1)::38cc4406754855bf83e0bc40114a34ab] Configuration:\n",
      "  balancing:strategy, Value: 'weighting'\n",
      "  classifier:__choice__, Value: 'sgd'\n",
      "  classifier:sgd:alpha, Value: 0.0001\n",
      "  classifier:sgd:average, Value: 'True'\n",
      "  classifier:sgd:eta0, Value: 0.01\n",
      "  classifier:sgd:fit_intercept, Constant: 'True'\n",
      "  classifier:sgd:learning_rate, Value: 'optimal'\n",
      "  classifier:sgd:loss, Value: 'hinge'\n",
      "  classifier:sgd:n_iter, Value: 5\n",
      "  classifier:sgd:penalty, Value: 'l2'\n",
      "  imputation:strategy, Value: 'mean'\n",
      "  one_hot_encoding:minimum_fraction, Value: 0.1\n",
      "  one_hot_encoding:use_minimum_fraction, Value: 'True'\n",
      "  preprocessor:__choice__, Value: 'no_preprocessing'\n",
      "  rescaling:__choice__, Value: 'min/max'\n",
      "\n",
      "[INFO] [2016-09-10 04:19:29,371:AutoMLSMBO(1)::38cc4406754855bf83e0bc40114a34ab] Finished evaluating 4. configuration on SUBSET. Duration 0.010324; loss 0.375000; status 1; additional run info: ;duration: 0.01032400131225586;num_run:00004 \n",
      "[INFO] [2016-09-10 04:19:29,373:AutoMLSMBO(1)::38cc4406754855bf83e0bc40114a34ab] Finished SUBSET training sucessfully with ratio 0.330000\n",
      "[INFO] [2016-09-10 04:19:29,376:AutoMLSMBO(1)::38cc4406754855bf83e0bc40114a34ab] Starting to evaluate 5 on SUBSET with size 15 and time limit 5s.\n",
      "[INFO] [2016-09-10 04:19:29,377:AutoMLSMBO(1)::38cc4406754855bf83e0bc40114a34ab] Configuration:\n",
      "  balancing:strategy, Value: 'weighting'\n",
      "  classifier:__choice__, Value: 'extra_trees'\n",
      "  classifier:extra_trees:bootstrap, Value: 'False'\n",
      "  classifier:extra_trees:criterion, Value: 'gini'\n",
      "  classifier:extra_trees:max_depth, Constant: 'None'\n",
      "  classifier:extra_trees:max_features, Value: 1.0\n",
      "  classifier:extra_trees:min_samples_leaf, Value: 5\n",
      "  classifier:extra_trees:min_samples_split, Value: 5\n",
      "  classifier:extra_trees:min_weight_fraction_leaf, Constant: 0.0\n",
      "  classifier:extra_trees:n_estimators, Constant: 100\n",
      "  imputation:strategy, Value: 'mean'\n",
      "  one_hot_encoding:minimum_fraction, Value: 0.1\n",
      "  one_hot_encoding:use_minimum_fraction, Value: 'True'\n",
      "  preprocessor:__choice__, Value: 'select_percentile_classification'\n",
      "  preprocessor:select_percentile_classification:percentile, Value: 2.0\n",
      "  preprocessor:select_percentile_classification:score_func, Value: 'chi2'\n",
      "  rescaling:__choice__, Value: 'min/max'\n",
      "\n",
      "[INFO] [2016-09-10 04:19:29,545:AutoMLSMBO(1)::38cc4406754855bf83e0bc40114a34ab] Finished evaluating 5. configuration on SUBSET. Duration 0.134448; loss 0.250000; status 1; additional run info: ;duration: 0.13444781303405762;num_run:00005 \n",
      "[INFO] [2016-09-10 04:19:29,547:AutoMLSMBO(1)::38cc4406754855bf83e0bc40114a34ab] Finished SUBSET training sucessfully with ratio 0.330000\n",
      "[INFO] [2016-09-10 04:19:29,549:AutoMLSMBO(1)::38cc4406754855bf83e0bc40114a34ab] Starting to evaluate 6 on SUBSET with size 15 and time limit 5s.\n",
      "[INFO] [2016-09-10 04:19:29,551:AutoMLSMBO(1)::38cc4406754855bf83e0bc40114a34ab] Configuration:\n",
      "  balancing:strategy, Value: 'weighting'\n",
      "  classifier:__choice__, Value: 'gaussian_nb'\n",
      "  imputation:strategy, Value: 'mean'\n",
      "  one_hot_encoding:minimum_fraction, Value: 0.1\n",
      "  one_hot_encoding:use_minimum_fraction, Value: 'True'\n",
      "  preprocessor:__choice__, Value: 'no_preprocessing'\n",
      "  rescaling:__choice__, Value: 'standardize'\n",
      "\n",
      "[INFO] [2016-09-10 04:19:29,592:AutoMLSMBO(1)::38cc4406754855bf83e0bc40114a34ab] Finished evaluating 6. configuration on SUBSET. Duration 0.009293; loss 0.250000; status 1; additional run info: ;duration: 0.009292840957641602;num_run:00006 \n",
      "[INFO] [2016-09-10 04:19:29,594:AutoMLSMBO(1)::38cc4406754855bf83e0bc40114a34ab] Finished SUBSET training sucessfully with ratio 0.330000\n",
      "[INFO] [2016-09-10 04:19:29,595:AutoMLSMBO(1)::38cc4406754855bf83e0bc40114a34ab] Metadata directory: /Users/alex/anaconda/envs/p3/lib/python3.5/site-packages/autosklearn/metalearning/files/acc_metric_binary.classification_dense\n",
      "[INFO] [2016-09-10 04:19:30,004:AutoMLSMBO(1)::38cc4406754855bf83e0bc40114a34ab] Start calculating metafeatures for 38cc4406754855bf83e0bc40114a34ab\n"
     ]
    },
    {
     "name": "stderr",
     "output_type": "stream",
     "text": [
      "/Users/alex/anaconda/envs/p3/lib/python3.5/site-packages/numpy/lib/nanfunctions.py:1147: RuntimeWarning: Degrees of freedom <= 0 for slice.\n",
      "  warnings.warn(\"Degrees of freedom <= 0 for slice.\", RuntimeWarning)\n",
      "/Users/alex/anaconda/envs/p3/lib/python3.5/site-packages/numpy/lib/nanfunctions.py:675: RuntimeWarning: Mean of empty slice\n",
      "  warnings.warn(\"Mean of empty slice\", RuntimeWarning)\n"
     ]
    },
    {
     "name": "stdout",
     "output_type": "stream",
     "text": [
      "[INFO] [2016-09-10 04:19:30,022:AutoMLSMBO(1)::38cc4406754855bf83e0bc40114a34ab] Calculating Metafeatures (categorical attributes) took  0.02\n",
      "[INFO] [2016-09-10 04:19:30,059:AutoMLSMBO(1)::38cc4406754855bf83e0bc40114a34ab] Calculating Metafeatures (encoded attributes) took  0.02sec\n"
     ]
    },
    {
     "name": "stderr",
     "output_type": "stream",
     "text": [
      "/Users/alex/anaconda/envs/p3/lib/python3.5/site-packages/sklearn/utils/validation.py:386: DeprecationWarning: Passing 1d arrays as data is deprecated in 0.17 and willraise ValueError in 0.19. Reshape your data either using X.reshape(-1, 1) if your data has a single feature or X.reshape(1, -1) if it contains a single sample.\n",
      "  DeprecationWarning)\n"
     ]
    },
    {
     "name": "stdout",
     "output_type": "stream",
     "text": [
      "[INFO] [2016-09-10 04:19:30,200:AutoMLSMBO(1)::38cc4406754855bf83e0bc40114a34ab] Time left for 38cc4406754855bf83e0bc40114a34ab after finding initial configurations: 27.12sec\n",
      "[INFO] [2016-09-10 04:19:30,203:AutoMLSMBO(1)::38cc4406754855bf83e0bc40114a34ab] Metafeatures for dataset 38cc4406754855bf83e0bc40114a34abuiaeo\n",
      "  RatioNominalToNumerical: 0.0\n",
      "  PercentageOfFeaturesWithMissingValues: 0.0\n",
      "  ClassEntropy: 0.998747297936\n",
      "  SymbolsSTD: 0\n",
      "  ClassProbabilityMax: 0.5208333333333334\n",
      "  NumberOfCategoricalFeatures: 0\n",
      "  SymbolsMin: 0\n",
      "  SkewnessMean: -0.100843743219\n",
      "  NumberOfFeaturesWithMissingValues: 0.0\n",
      "  NumberOfInstances: 48.0\n",
      "  NumberOfInstancesWithMissingValues: 0.0\n",
      "  SkewnessMax: 0.039739506175\n",
      "  NumberOfNumericFeatures: 4\n",
      "  KurtosisMean: -0.996141716459\n",
      "  DatasetRatio: 0.08333333333333333\n",
      "  KurtosisMin: -1.62663189361\n",
      "  NumberOfFeatures: 4.0\n",
      "  LogDatasetRatio: -2.48490664979\n",
      "  PercentageOfInstancesWithMissingValues: 0.0\n",
      "  NumberOfClasses: 2.0\n",
      "  SkewnessMin: -0.441631413465\n",
      "  SkewnessSTD: 0.199249203789\n",
      "  ClassProbabilitySTD: 0.0208333333333\n",
      "  InverseDatasetRatio: 12.0\n",
      "  RatioNumericalToNominal: 0.0\n",
      "  LandmarkRandomNodeLearner: 0.628333333333\n",
      "  LogNumberOfInstances: 3.87120101091\n",
      "  LogNumberOfFeatures: 1.38629436112\n",
      "  PercentageOfMissingValues: 0.0\n",
      "  KurtosisMax: 0.0513606892681\n",
      "  SymbolsSum: 0.0\n",
      "  ClassProbabilityMean: 0.5\n",
      "  LogInverseDatasetRatio: 2.48490664979\n",
      "  SymbolsMean: 0\n",
      "  NumberOfMissingValues: 0.0\n",
      "  ClassProbabilityMin: 0.4791666666666667\n",
      "  SymbolsMax: 0\n",
      "  KurtosisSTD: 0.631065047198\n",
      "\n",
      "[INFO] [2016-09-10 04:19:30,208:AutoMLSMBO(1)::38cc4406754855bf83e0bc40114a34ab] ['1041_acc', '727_acc', '993_acc', '184_acc', '1116_acc', '32_acc', '391_acc', '837_acc', '182_acc', '1112_acc', '1068_acc', '897_acc', '715_acc', '833_acc', '980_acc', '718_acc', '1040_acc', '845_acc', '38_acc', '979_acc', '976_acc', '1050_acc', '1139_acc', '978_acc', '959_acc', '871_acc', '910_acc', '1049_acc', '1138_acc', '953_acc', '881_acc', '813_acc', '847_acc', '734_acc', '843_acc', '1019_acc', '185_acc', '179_acc', '554_acc', '977_acc', '14_acc', '741_acc', '22_acc', '1166_acc', '720_acc', '1128_acc', '722_acc', '1000_acc', '995_acc', '351_acc', '273_acc', '772_acc', '12_acc', '806_acc', '823_acc', '30_acc', '1130_acc', '401_acc', '1002_acc', '28_acc', '31_acc', '803_acc', '44_acc', '399_acc', '934_acc', '923_acc', '1020_acc', '1069_acc', '1142_acc', '1056_acc', '6_acc', '723_acc', '904_acc', '1036_acc', '1053_acc', '740_acc', '60_acc', '866_acc', '1119_acc', '849_acc', '846_acc', '3_acc', '958_acc', '799_acc', '1161_acc', '962_acc', '735_acc', '392_acc', '816_acc', '822_acc', '1018_acc', '901_acc', '357_acc', '1067_acc', '679_acc', '354_acc', '971_acc', '18_acc', '751_acc', '797_acc', '819_acc', '917_acc', '38cc4406754855bf83e0bc40114a34abuiaeo', '903_acc', '21_acc', '737_acc', '1120_acc', '728_acc', '1114_acc', '930_acc', '390_acc', '26_acc', '398_acc', '807_acc', '36_acc', '743_acc', '300_acc', '821_acc', '752_acc', '913_acc', '293_acc', '1146_acc', '180_acc', '395_acc', '16_acc', '24_acc', '1134_acc', '761_acc', '914_acc', '23_acc', '966_acc', '1111_acc', '991_acc', '181_acc', '396_acc', '1021_acc', '46_acc', '57_acc', '393_acc', '389_acc', '912_acc']\n",
      "[ERROR] [2016-09-10 04:19:31,148:EnsembleBuilder(1):38cc4406754855bf83e0bc40114a34ab] Model only predicts at random: /tmp/autosklearn_tmp_16380_6207/.auto-sklearn/predictions_ensemble/predictions_ensemble_1_00001.npy has score: 0.0\n",
      "[ERROR] [2016-09-10 04:19:31,150:EnsembleBuilder(1):38cc4406754855bf83e0bc40114a34ab] Model only predicts at random: /tmp/autosklearn_tmp_16380_6207/.auto-sklearn/predictions_ensemble/predictions_ensemble_1_00002.npy has score: 0.0\n",
      "[INFO] [2016-09-10 04:19:31,169:EnsembleBuilder(1):38cc4406754855bf83e0bc40114a34ab] Ensemble Selection:\n",
      "\tTrajectory: 0: 0.875000 1: 1.000000 2: 1.000000 3: 1.000000 4: 1.000000 5: 1.000000 6: 1.000000 7: 1.000000 8: 1.000000 9: 1.000000 10: 1.000000 11: 1.000000 12: 1.000000 13: 1.000000 14: 1.000000 15: 1.000000 16: 1.000000 17: 1.000000 18: 1.000000 19: 1.000000 20: 1.000000 21: 1.000000 22: 1.000000 23: 1.000000 24: 1.000000 25: 1.000000 26: 1.000000 27: 1.000000 28: 1.000000 29: 1.000000 30: 1.000000 31: 1.000000 32: 1.000000 33: 1.000000 34: 1.000000 35: 1.000000 36: 1.000000 37: 1.000000 38: 1.000000 39: 1.000000 40: 1.000000 41: 1.000000 42: 1.000000 43: 1.000000 44: 1.000000 45: 1.000000 46: 1.000000 47: 1.000000 48: 1.000000 49: 1.000000\n",
      "\tMembers: [0, 2, 0, 0, 0, 0, 0, 2, 0, 0, 0, 0, 0, 0, 2, 0, 0, 0, 0, 0, 0, 2, 0, 0, 0, 0, 0, 0, 2, 0, 0, 0, 0, 0, 0, 0, 2, 0, 0, 0, 0, 0, 0, 2, 0, 0, 0, 0, 0, 0]\n",
      "\tWeights: [ 0.86  0.    0.14  0.  ]\n",
      "\tIdentifiers: (1, 3) (1, 5)\n",
      "[INFO] [2016-09-10 04:19:31,172:EnsembleBuilder(1):38cc4406754855bf83e0bc40114a34ab] Training performance: 1.000000\n",
      "[INFO] [2016-09-10 04:19:31,174:EnsembleBuilder(1):38cc4406754855bf83e0bc40114a34ab] Building the ensemble took 0.025448 seconds\n",
      "[INFO] [2016-09-10 04:19:31,177:EnsembleBuilder(1):38cc4406754855bf83e0bc40114a34ab] Could not find as many validation set predictions (0)as ensemble predictions (6)!.\n",
      "[INFO] [2016-09-10 04:19:31,179:EnsembleBuilder(1):38cc4406754855bf83e0bc40114a34ab] Could not find as many test set predictions (0) as ensemble predictions (6)!\n",
      "[INFO] [2016-09-10 04:19:39,569:scenario] Output to /tmp/autosklearn_tmp_16380_6207\n"
     ]
    }
   ],
   "source": [
    ">>> automl = autosklearn.classification.AutoSklearnClassifier(time_left_for_this_task=30, per_run_time_limit=3)\n",
    ">>> automl.fit(X_train, y_train)"
   ]
  },
  {
   "cell_type": "code",
   "execution_count": 169,
   "metadata": {
    "collapsed": false
   },
   "outputs": [
    {
     "name": "stdout",
     "output_type": "stream",
     "text": [
      "1.0\n"
     ]
    }
   ],
   "source": [
    ">>> print(automl.score(X_test,y_test))"
   ]
  },
  {
   "cell_type": "code",
   "execution_count": 170,
   "metadata": {
    "collapsed": false
   },
   "outputs": [
    {
     "data": {
      "text/plain": [
       "array([1, 1, 1, 0, 1, 0, 0, 0, 0, 1, 0, 0])"
      ]
     },
     "execution_count": 170,
     "metadata": {},
     "output_type": "execute_result"
    }
   ],
   "source": [
    "predictions = automl.predict(X_test)\n",
    "predictions"
   ]
  },
  {
   "cell_type": "code",
   "execution_count": 173,
   "metadata": {
    "collapsed": false
   },
   "outputs": [
    {
     "data": {
      "text/plain": [
       "array([[ 0.1632    ,  0.8368    ],\n",
       "       [ 0.1976    ,  0.8024    ],\n",
       "       [ 0.0772    ,  0.9228    ],\n",
       "       [ 0.93608727,  0.06391273],\n",
       "       [ 0.1374    ,  0.8626    ],\n",
       "       [ 0.85868727,  0.14131273],\n",
       "       [ 0.84148727,  0.15851273],\n",
       "       [ 0.91888727,  0.08111273],\n",
       "       [ 0.78988727,  0.21011273],\n",
       "       [ 0.1028    ,  0.8972    ],\n",
       "       [ 0.85008727,  0.14991273],\n",
       "       [ 0.85868727,  0.14131273]])"
      ]
     },
     "execution_count": 173,
     "metadata": {},
     "output_type": "execute_result"
    }
   ],
   "source": [
    "probs = automl.predict_proba(X_test)\n",
    "probs"
   ]
  },
  {
   "cell_type": "code",
   "execution_count": 171,
   "metadata": {
    "collapsed": false
   },
   "outputs": [],
   "source": [
    "import seaborn as sns\n",
    "import matplotlib.pyplot as plt\n",
    "\n",
    "%matplotlib inline\n",
    "%config InlineBackend.figure_format = 'retina'"
   ]
  },
  {
   "cell_type": "code",
   "execution_count": 176,
   "metadata": {
    "collapsed": false
   },
   "outputs": [
    {
     "data": {
      "text/plain": [
       "<matplotlib.collections.PathCollection at 0x11f1a6358>"
      ]
     },
     "execution_count": 176,
     "metadata": {},
     "output_type": "execute_result"
    },
    {
     "data": {
      "image/png": "[encoded data removed]",
      "text/plain": [
       "<matplotlib.figure.Figure at 0x11ef959b0>"
      ]
     },
     "metadata": {
      "image/png": {
       "height": 258,
       "width": 382
      }
     },
     "output_type": "display_data"
    }
   ],
   "source": [
    "plt.scatter([x[1] for x in probs], y_test)"
   ]
  },
  {
   "cell_type": "code",
   "execution_count": null,
   "metadata": {
    "collapsed": true
   },
   "outputs": [],
   "source": []
  }
 ],
 "metadata": {
  "kernelspec": {
   "display_name": "Python [p3]",
   "language": "python",
   "name": "Python [p3]"
  },
  "language_info": {
   "codemirror_mode": {
    "name": "ipython",
    "version": 3
   },
   "file_extension": ".py",
   "mimetype": "text/x-python",
   "name": "python",
   "nbconvert_exporter": "python",
   "pygments_lexer": "ipython3",
   "version": "3.5.2"
  }
 },
 "nbformat": 4,
 "nbformat_minor": 0
}
