{
 "cells": [
  {
   "cell_type": "code",
   "execution_count": 10,
   "metadata": {
    "collapsed": true
   },
   "outputs": [],
   "source": [
    "import pandas as pd\n",
    "import numpy as np\n",
    "# import sklearn.datasets\n",
    "from sklearn.preprocessing import LabelEncoder\n",
    "import autosklearn.classification\n",
    "import seaborn as sns\n",
    "import matplotlib.pyplot as plt\n",
    "\n",
    "%matplotlib inline\n",
    "%config InlineBackend.figure_format = 'retina'"
   ]
  },
  {
   "cell_type": "code",
   "execution_count": 11,
   "metadata": {
    "collapsed": false
   },
   "outputs": [],
   "source": [
    "# iris = sklearn.datasets.load_iris()\n",
    "\n",
    "# df = pd.read_csv('https://raw.githubusercontent.com/mwaskom/seaborn-data/master/attention.csv')\n",
    "df = pd.read_csv('https://raw.githubusercontent.com/mwaskom/seaborn-data/master/exercise.csv')\n",
    "target = 'kind'\n",
    "\n",
    "X = df.drop(target, axis=1)\n",
    "X = df.iloc[:, 3:5]\n",
    "y = df[target]"
   ]
  },
  {
   "cell_type": "code",
   "execution_count": 12,
   "metadata": {
    "collapsed": false
   },
   "outputs": [
    {
     "data": {
      "text/plain": [
       "(90, 6)"
      ]
     },
     "execution_count": 12,
     "metadata": {},
     "output_type": "execute_result"
    }
   ],
   "source": [
    "df.shape"
   ]
  },
  {
   "cell_type": "code",
   "execution_count": 13,
   "metadata": {
    "collapsed": false
   },
   "outputs": [
    {
     "data": {
      "text/html": [
       "<div>\n",
       "<table border=\"1\" class=\"dataframe\">\n",
       "  <thead>\n",
       "    <tr style=\"text-align: right;\">\n",
       "      <th></th>\n",
       "      <th>Unnamed: 0</th>\n",
       "      <th>id</th>\n",
       "      <th>diet</th>\n",
       "      <th>pulse</th>\n",
       "      <th>time</th>\n",
       "      <th>kind</th>\n",
       "    </tr>\n",
       "  </thead>\n",
       "  <tbody>\n",
       "    <tr>\n",
       "      <th>0</th>\n",
       "      <td>0</td>\n",
       "      <td>1</td>\n",
       "      <td>low fat</td>\n",
       "      <td>85</td>\n",
       "      <td>1 min</td>\n",
       "      <td>rest</td>\n",
       "    </tr>\n",
       "    <tr>\n",
       "      <th>1</th>\n",
       "      <td>1</td>\n",
       "      <td>1</td>\n",
       "      <td>low fat</td>\n",
       "      <td>85</td>\n",
       "      <td>15 min</td>\n",
       "      <td>rest</td>\n",
       "    </tr>\n",
       "    <tr>\n",
       "      <th>2</th>\n",
       "      <td>2</td>\n",
       "      <td>1</td>\n",
       "      <td>low fat</td>\n",
       "      <td>88</td>\n",
       "      <td>30 min</td>\n",
       "      <td>rest</td>\n",
       "    </tr>\n",
       "  </tbody>\n",
       "</table>\n",
       "</div>"
      ],
      "text/plain": [
       "   Unnamed: 0  id     diet  pulse    time  kind\n",
       "0           0   1  low fat     85   1 min  rest\n",
       "1           1   1  low fat     85  15 min  rest\n",
       "2           2   1  low fat     88  30 min  rest"
      ]
     },
     "execution_count": 13,
     "metadata": {},
     "output_type": "execute_result"
    }
   ],
   "source": [
    "df.head(3)"
   ]
  },
  {
   "cell_type": "code",
   "execution_count": 14,
   "metadata": {
    "collapsed": false
   },
   "outputs": [],
   "source": [
    "# X['diet'] = LabelEncoder().fit_transform(X['diet'])\n",
    "X['time'] = LabelEncoder().fit_transform(X['time'])\n",
    "y = LabelEncoder().fit_transform(y)"
   ]
  },
  {
   "cell_type": "code",
   "execution_count": 83,
   "metadata": {
    "collapsed": false
   },
   "outputs": [
    {
     "name": "stdout",
     "output_type": "stream",
     "text": [
      "Train/test split executed, test size = 0.2\n",
      "<class 'numpy.ndarray'> <class 'numpy.ndarray'>\n",
      "(72, 2) (72,)\n",
      "(18, 2) (18,)\n"
     ]
    }
   ],
   "source": [
    "def run_train_test_split(df, target):\n",
    "    from sklearn.cross_validation import train_test_split\n",
    "    test_size = 0.2\n",
    "    \n",
    "    print(\"Train/test split executed, test size =\", test_size)\n",
    "    return train_test_split(df, target, test_size=test_size)\n",
    "\n",
    "X_train, X_test, y_train, y_test = run_train_test_split(X, y)\n",
    "\n",
    "X_train = np.ascontiguousarray(X_train)\n",
    "X_test = np.ascontiguousarray(X_test)\n",
    "\n",
    "print(type(X_train), type(y_train))\n",
    "print(X_train.shape, y_train.shape)\n",
    "print(X_test.shape, y_test.shape)"
   ]
  },
  {
   "cell_type": "code",
   "execution_count": 15,
   "metadata": {
    "collapsed": false
   },
   "outputs": [
    {
     "data": {
      "text/plain": [
       "array([[85,  0],\n",
       "       [85,  1],\n",
       "       [88,  2],\n",
       "       [90,  0],\n",
       "       [92,  1]])"
      ]
     },
     "execution_count": 15,
     "metadata": {},
     "output_type": "execute_result"
    }
   ],
   "source": [
    "X = np.ascontiguousarray(X)\n",
    "X[0:5]"
   ]
  },
  {
   "cell_type": "code",
   "execution_count": 117,
   "metadata": {
    "collapsed": false
   },
   "outputs": [
    {
     "data": {
      "text/plain": [
       "array([[89,  0],\n",
       "       [98,  1],\n",
       "       [96,  2],\n",
       "       [99,  2],\n",
       "       [93,  0]])"
      ]
     },
     "execution_count": 117,
     "metadata": {},
     "output_type": "execute_result"
    }
   ],
   "source": [
    "X_train[:5]"
   ]
  },
  {
   "cell_type": "code",
   "execution_count": 85,
   "metadata": {
    "collapsed": false
   },
   "outputs": [
    {
     "data": {
      "text/plain": [
       "array([2, 1, 0, 1, 1])"
      ]
     },
     "execution_count": 85,
     "metadata": {},
     "output_type": "execute_result"
    }
   ],
   "source": [
    "y_train[:5]"
   ]
  },
  {
   "cell_type": "code",
   "execution_count": 16,
   "metadata": {
    "collapsed": false
   },
   "outputs": [
    {
     "data": {
      "text/plain": [
       "(90,)"
      ]
     },
     "execution_count": 16,
     "metadata": {},
     "output_type": "execute_result"
    }
   ],
   "source": [
    "y.shape"
   ]
  },
  {
   "cell_type": "code",
   "execution_count": 17,
   "metadata": {
    "collapsed": false
   },
   "outputs": [
    {
     "name": "stdout",
     "output_type": "stream",
     "text": [
      "[INFO] [2016-10-02 05:47:39,484:AutoML(1):c01e80e9d92c05b0e407f3cc85b10624] Starting to create dummy predictions.\n",
      "[INFO] [2016-10-02 05:47:39,524:AutoML(1):c01e80e9d92c05b0e407f3cc85b10624] Finished creating dummy prediction 1/2.\n",
      "[INFO] [2016-10-02 05:47:39,552:AutoML(1):c01e80e9d92c05b0e407f3cc85b10624] Finished creating dummy prediction 2/2.\n",
      "[INFO] [2016-10-02 05:47:40,226:AutoML(1):c01e80e9d92c05b0e407f3cc85b10624] Start Ensemble with  9.25sec time left\n",
      "[INFO] [2016-10-02 05:47:40,235:AutoML(1):c01e80e9d92c05b0e407f3cc85b10624] Start SMAC with  9.24sec time left\n",
      "[ERROR] [2016-10-02 05:47:40,252:EnsembleBuilder(1):c01e80e9d92c05b0e407f3cc85b10624] Model only predicts at random: /tmp/autosklearn_tmp_10798_786/.auto-sklearn/predictions_ensemble/predictions_ensemble_1_00001.npy has score: 0.0\n",
      "[ERROR] [2016-10-02 05:47:40,257:EnsembleBuilder(1):c01e80e9d92c05b0e407f3cc85b10624] Model only predicts at random: /tmp/autosklearn_tmp_10798_786/.auto-sklearn/predictions_ensemble/predictions_ensemble_1_00002.npy has score: 0.0\n",
      "[INFO] [2016-10-02 05:47:40,258:AutoMLSMBO(1)::c01e80e9d92c05b0e407f3cc85b10624] Training default configurations on a subset of 29/90 data points.\n",
      "[INFO] [2016-10-02 05:47:40,272:AutoMLSMBO(1)::c01e80e9d92c05b0e407f3cc85b10624] Starting to evaluate 3 on SUBSET with size 29 and time limit 5s.\n",
      "[INFO] [2016-10-02 05:47:40,278:AutoMLSMBO(1)::c01e80e9d92c05b0e407f3cc85b10624] Configuration:\n",
      "  balancing:strategy, Value: 'none'\n",
      "  classifier:__choice__, Value: 'random_forest'\n",
      "  classifier:random_forest:bootstrap, Value: 'True'\n",
      "  classifier:random_forest:criterion, Value: 'gini'\n",
      "  classifier:random_forest:max_depth, Constant: 'None'\n",
      "  classifier:random_forest:max_features, Value: 1.0\n",
      "  classifier:random_forest:max_leaf_nodes, Constant: 'None'\n",
      "  classifier:random_forest:min_samples_leaf, Value: 1\n",
      "  classifier:random_forest:min_samples_split, Value: 2\n",
      "  classifier:random_forest:min_weight_fraction_leaf, Constant: 0.0\n",
      "  classifier:random_forest:n_estimators, Constant: 100\n",
      "  imputation:strategy, Value: 'mean'\n",
      "  one_hot_encoding:minimum_fraction, Value: 0.01\n",
      "  one_hot_encoding:use_minimum_fraction, Value: 'True'\n",
      "  preprocessor:__choice__, Value: 'no_preprocessing'\n",
      "  rescaling:__choice__, Value: 'min/max'\n",
      "\n",
      "[INFO] [2016-10-02 05:47:40,281:EnsembleBuilder(1):c01e80e9d92c05b0e407f3cc85b10624] Ensemble Selection:\n",
      "\tTrajectory: 0: 0.000000 1: 0.000000 2: 0.000000 3: 0.000000 4: 0.000000 5: 0.000000 6: 0.000000 7: 0.000000 8: 0.000000 9: 0.000000 10: 0.000000 11: 0.000000 12: 0.000000 13: 0.000000 14: 0.000000 15: 0.000000 16: 0.000000 17: 0.000000 18: 0.000000 19: 0.000000 20: 0.000000 21: 0.000000 22: 0.000000 23: 0.000000 24: 0.000000 25: 0.000000 26: 0.000000 27: 0.000000 28: 0.000000 29: 0.000000 30: 0.000000 31: 0.000000 32: 0.000000 33: 0.000000 34: 0.000000 35: 0.000000 36: 0.000000 37: 0.000000 38: 0.000000 39: 0.000000 40: 0.000000 41: 0.000000 42: 0.000000 43: 0.000000 44: 0.000000 45: 0.000000 46: 0.000000 47: 0.000000 48: 0.000000 49: 0.000000\n",
      "\tMembers: [0, 0, 0, 0, 0, 0, 0, 0, 0, 0, 0, 0, 0, 0, 0, 0, 0, 0, 0, 0, 0, 0, 0, 0, 0, 0, 0, 0, 0, 0, 0, 0, 0, 0, 0, 0, 0, 0, 0, 0, 0, 0, 0, 0, 0, 0, 0, 0, 0, 0]\n",
      "\tWeights: [ 1.  0.]\n",
      "\tIdentifiers: (1, 1)\n",
      "[INFO] [2016-10-02 05:47:40,286:EnsembleBuilder(1):c01e80e9d92c05b0e407f3cc85b10624] Training performance: 0.000000\n",
      "[INFO] [2016-10-02 05:47:40,288:EnsembleBuilder(1):c01e80e9d92c05b0e407f3cc85b10624] Building the ensemble took 0.036032 seconds\n",
      "[INFO] [2016-10-02 05:47:40,291:EnsembleBuilder(1):c01e80e9d92c05b0e407f3cc85b10624] Could not find as many validation set predictions (0)as ensemble predictions (2)!.\n",
      "[INFO] [2016-10-02 05:47:40,293:EnsembleBuilder(1):c01e80e9d92c05b0e407f3cc85b10624] Could not find as many test set predictions (0) as ensemble predictions (2)!\n",
      "[INFO] [2016-10-02 05:47:40,459:AutoMLSMBO(1)::c01e80e9d92c05b0e407f3cc85b10624] Finished evaluating 3. configuration on SUBSET. Duration 0.142125; loss 0.950000; status 1; additional run info: ;duration: 0.14212489128112793;num_run:00003 \n",
      "[INFO] [2016-10-02 05:47:40,462:AutoMLSMBO(1)::c01e80e9d92c05b0e407f3cc85b10624] Finished SUBSET training sucessfully with ratio 0.330000\n",
      "[INFO] [2016-10-02 05:47:40,466:AutoMLSMBO(1)::c01e80e9d92c05b0e407f3cc85b10624] Starting to evaluate 4 on SUBSET with size 29 and time limit 5s.\n",
      "[INFO] [2016-10-02 05:47:40,467:AutoMLSMBO(1)::c01e80e9d92c05b0e407f3cc85b10624] Configuration:\n",
      "  balancing:strategy, Value: 'weighting'\n",
      "  classifier:__choice__, Value: 'sgd'\n",
      "  classifier:sgd:alpha, Value: 0.0001\n",
      "  classifier:sgd:average, Value: 'True'\n",
      "  classifier:sgd:eta0, Value: 0.01\n",
      "  classifier:sgd:fit_intercept, Constant: 'True'\n",
      "  classifier:sgd:learning_rate, Value: 'optimal'\n",
      "  classifier:sgd:loss, Value: 'hinge'\n",
      "  classifier:sgd:n_iter, Value: 5\n",
      "  classifier:sgd:penalty, Value: 'l2'\n",
      "  imputation:strategy, Value: 'mean'\n",
      "  one_hot_encoding:minimum_fraction, Value: 0.1\n",
      "  one_hot_encoding:use_minimum_fraction, Value: 'True'\n",
      "  preprocessor:__choice__, Value: 'no_preprocessing'\n",
      "  rescaling:__choice__, Value: 'min/max'\n",
      "\n",
      "[INFO] [2016-10-02 05:47:40,577:AutoMLSMBO(1)::c01e80e9d92c05b0e407f3cc85b10624] Finished evaluating 4. configuration on SUBSET. Duration 0.079353; loss 0.800000; status 1; additional run info: ;duration: 0.07935309410095215;num_run:00004 \n",
      "[INFO] [2016-10-02 05:47:40,579:AutoMLSMBO(1)::c01e80e9d92c05b0e407f3cc85b10624] Finished SUBSET training sucessfully with ratio 0.330000\n",
      "[INFO] [2016-10-02 05:47:40,581:AutoMLSMBO(1)::c01e80e9d92c05b0e407f3cc85b10624] Starting to evaluate 5 on SUBSET with size 29 and time limit 5s.\n",
      "[INFO] [2016-10-02 05:47:40,583:AutoMLSMBO(1)::c01e80e9d92c05b0e407f3cc85b10624] Configuration:\n",
      "  balancing:strategy, Value: 'weighting'\n",
      "  classifier:__choice__, Value: 'extra_trees'\n",
      "  classifier:extra_trees:bootstrap, Value: 'False'\n",
      "  classifier:extra_trees:criterion, Value: 'gini'\n",
      "  classifier:extra_trees:max_depth, Constant: 'None'\n",
      "  classifier:extra_trees:max_features, Value: 1.0\n",
      "  classifier:extra_trees:min_samples_leaf, Value: 5\n",
      "  classifier:extra_trees:min_samples_split, Value: 5\n",
      "  classifier:extra_trees:min_weight_fraction_leaf, Constant: 0.0\n",
      "  classifier:extra_trees:n_estimators, Constant: 100\n",
      "  imputation:strategy, Value: 'mean'\n",
      "  one_hot_encoding:minimum_fraction, Value: 0.1\n",
      "  one_hot_encoding:use_minimum_fraction, Value: 'True'\n",
      "  preprocessor:__choice__, Value: 'select_percentile_classification'\n",
      "  preprocessor:select_percentile_classification:percentile, Value: 2.0\n",
      "  preprocessor:select_percentile_classification:score_func, Value: 'chi2'\n",
      "  rescaling:__choice__, Value: 'min/max'\n",
      "\n",
      "[INFO] [2016-10-02 05:47:40,790:AutoMLSMBO(1)::c01e80e9d92c05b0e407f3cc85b10624] Finished evaluating 5. configuration on SUBSET. Duration 0.174418; loss 0.750000; status 1; additional run info: ;duration: 0.17441797256469727;num_run:00005 \n",
      "[INFO] [2016-10-02 05:47:40,792:AutoMLSMBO(1)::c01e80e9d92c05b0e407f3cc85b10624] Finished SUBSET training sucessfully with ratio 0.330000\n",
      "[INFO] [2016-10-02 05:47:40,795:AutoMLSMBO(1)::c01e80e9d92c05b0e407f3cc85b10624] Starting to evaluate 6 on SUBSET with size 29 and time limit 5s.\n",
      "[INFO] [2016-10-02 05:47:40,797:AutoMLSMBO(1)::c01e80e9d92c05b0e407f3cc85b10624] Configuration:\n",
      "  balancing:strategy, Value: 'weighting'\n",
      "  classifier:__choice__, Value: 'gaussian_nb'\n",
      "  imputation:strategy, Value: 'mean'\n",
      "  one_hot_encoding:minimum_fraction, Value: 0.1\n",
      "  one_hot_encoding:use_minimum_fraction, Value: 'True'\n",
      "  preprocessor:__choice__, Value: 'no_preprocessing'\n",
      "  rescaling:__choice__, Value: 'standardize'\n",
      "\n",
      "[INFO] [2016-10-02 05:47:40,834:AutoMLSMBO(1)::c01e80e9d92c05b0e407f3cc85b10624] Finished evaluating 6. configuration on SUBSET. Duration 0.008274; loss 0.700000; status 1; additional run info: ;duration: 0.008274078369140625;num_run:00006 \n",
      "[INFO] [2016-10-02 05:47:40,836:AutoMLSMBO(1)::c01e80e9d92c05b0e407f3cc85b10624] Finished SUBSET training sucessfully with ratio 0.330000\n",
      "[INFO] [2016-10-02 05:47:40,838:AutoMLSMBO(1)::c01e80e9d92c05b0e407f3cc85b10624] Metadata directory: /Users/alex/anaconda/envs/p3/lib/python3.5/site-packages/autosklearn/metalearning/files/acc_metric_multiclass.classification_dense\n",
      "[INFO] [2016-10-02 05:47:41,359:AutoMLSMBO(1)::c01e80e9d92c05b0e407f3cc85b10624] Start calculating metafeatures for c01e80e9d92c05b0e407f3cc85b10624\n"
     ]
    },
    {
     "name": "stderr",
     "output_type": "stream",
     "text": [
      "/Users/alex/anaconda/envs/p3/lib/python3.5/site-packages/numpy/lib/nanfunctions.py:1147: RuntimeWarning: Degrees of freedom <= 0 for slice.\n",
      "  warnings.warn(\"Degrees of freedom <= 0 for slice.\", RuntimeWarning)\n",
      "/Users/alex/anaconda/envs/p3/lib/python3.5/site-packages/numpy/lib/nanfunctions.py:675: RuntimeWarning: Mean of empty slice\n",
      "  warnings.warn(\"Mean of empty slice\", RuntimeWarning)\n"
     ]
    },
    {
     "name": "stdout",
     "output_type": "stream",
     "text": [
      "[INFO] [2016-10-02 05:47:41,374:AutoMLSMBO(1)::c01e80e9d92c05b0e407f3cc85b10624] Calculating Metafeatures (categorical attributes) took  0.02\n",
      "[INFO] [2016-10-02 05:47:41,408:AutoMLSMBO(1)::c01e80e9d92c05b0e407f3cc85b10624] Calculating Metafeatures (encoded attributes) took  0.02sec\n"
     ]
    },
    {
     "name": "stderr",
     "output_type": "stream",
     "text": [
      "/Users/alex/anaconda/envs/p3/lib/python3.5/site-packages/sklearn/utils/validation.py:386: DeprecationWarning: Passing 1d arrays as data is deprecated in 0.17 and willraise ValueError in 0.19. Reshape your data either using X.reshape(-1, 1) if your data has a single feature or X.reshape(1, -1) if it contains a single sample.\n",
      "  DeprecationWarning)\n"
     ]
    },
    {
     "name": "stdout",
     "output_type": "stream",
     "text": [
      "[INFO] [2016-10-02 05:47:41,539:AutoMLSMBO(1)::c01e80e9d92c05b0e407f3cc85b10624] Time left for c01e80e9d92c05b0e407f3cc85b10624 after finding initial configurations:  6.94sec\n",
      "[INFO] [2016-10-02 05:47:41,542:AutoMLSMBO(1)::c01e80e9d92c05b0e407f3cc85b10624] Metafeatures for dataset c01e80e9d92c05b0e407f3cc85b10624uiaeo\n",
      "  SkewnessSTD: 0.762241856292\n",
      "  LogNumberOfFeatures: 0.69314718056\n",
      "  SkewnessMin: 1.97372982156e-17\n",
      "  ClassProbabilityMin: 0.3333333333333333\n",
      "  LogInverseDatasetRatio: 3.80666248977\n",
      "  SkewnessMax: 1.52448371258\n",
      "  ClassProbabilitySTD: 0.0\n",
      "  NumberOfInstancesWithMissingValues: 0.0\n",
      "  NumberOfMissingValues: 0.0\n",
      "  KurtosisMean: 0.238752588746\n",
      "  NumberOfNumericFeatures: 2\n",
      "  SymbolsSTD: 0\n",
      "  InverseDatasetRatio: 45.0\n",
      "  RatioNumericalToNominal: 0.0\n",
      "  KurtosisMin: -1.5\n",
      "  SkewnessMean: 0.762241856292\n",
      "  PercentageOfMissingValues: 0.0\n",
      "  DatasetRatio: 0.022222222222222223\n",
      "  KurtosisSTD: 1.73875258875\n",
      "  ClassProbabilityMax: 0.3333333333333333\n",
      "  SymbolsSum: 0.0\n",
      "  ClassProbabilityMean: 0.333333333333\n",
      "  SymbolsMax: 0\n",
      "  SymbolsMin: 0\n",
      "  NumberOfCategoricalFeatures: 0\n",
      "  NumberOfInstances: 90.0\n",
      "  LogDatasetRatio: -3.80666248977\n",
      "  LogNumberOfInstances: 4.49980967033\n",
      "  NumberOfFeaturesWithMissingValues: 0.0\n",
      "  NumberOfClasses: 3.0\n",
      "  PercentageOfInstancesWithMissingValues: 0.0\n",
      "  ClassEntropy: 1.58496250072\n",
      "  PercentageOfFeaturesWithMissingValues: 0.0\n",
      "  RatioNominalToNumerical: 0.0\n",
      "  KurtosisMax: 1.97750517749\n",
      "  NumberOfFeatures: 2.0\n",
      "  LandmarkRandomNodeLearner: 0.488888888889\n",
      "  SymbolsMean: 0\n",
      "\n",
      "[INFO] [2016-10-02 05:47:41,547:AutoMLSMBO(1)::c01e80e9d92c05b0e407f3cc85b10624] ['806_acc', '6_acc', '1040_acc', '1002_acc', '22_acc', '392_acc', '12_acc', '1036_acc', '14_acc', '1166_acc', '743_acc', '715_acc', '1050_acc', '44_acc', '1120_acc', '390_acc', '18_acc', '871_acc', '1114_acc', '1053_acc', '1018_acc', '833_acc', '752_acc', '396_acc', '351_acc', '977_acc', '1021_acc', '185_acc', '1112_acc', '761_acc', '953_acc', '772_acc', '741_acc', '395_acc', '1056_acc', '3_acc', '38_acc', '1134_acc', '179_acc', '273_acc', '391_acc', '26_acc', '16_acc', '917_acc', '720_acc', '966_acc', '991_acc', '1019_acc', '60_acc', '740_acc', '28_acc', '1020_acc', '181_acc', '1069_acc', '962_acc', '843_acc', '912_acc', '354_acc', '751_acc', '822_acc', '722_acc', '1138_acc', '881_acc', '36_acc', '913_acc', '1161_acc', '23_acc', '958_acc', 'c01e80e9d92c05b0e407f3cc85b10624uiaeo', '1111_acc', '847_acc', '1116_acc', '901_acc', '180_acc', '727_acc', '31_acc', '846_acc', '24_acc', '300_acc', '910_acc', '1146_acc', '980_acc', '904_acc', '995_acc', '401_acc', '993_acc', '845_acc', '866_acc', '821_acc', '357_acc', '399_acc', '21_acc', '1139_acc', '813_acc', '1119_acc', '971_acc', '1041_acc', '849_acc', '934_acc', '978_acc', '823_acc', '57_acc', '735_acc', '816_acc', '1130_acc', '728_acc', '723_acc', '1142_acc', '797_acc', '554_acc', '976_acc', '32_acc', '803_acc', '184_acc', '30_acc', '837_acc', '1000_acc', '923_acc', '182_acc', '398_acc', '819_acc', '807_acc', '389_acc', '979_acc', '799_acc', '679_acc', '734_acc', '914_acc', '959_acc', '1128_acc', '718_acc', '897_acc', '1067_acc', '903_acc', '1068_acc', '46_acc', '1049_acc', '930_acc', '737_acc', '293_acc', '393_acc']\n",
      "[ERROR] [2016-10-02 05:47:42,300:EnsembleBuilder(1):c01e80e9d92c05b0e407f3cc85b10624] Model only predicts at random: /tmp/autosklearn_tmp_10798_786/.auto-sklearn/predictions_ensemble/predictions_ensemble_1_00001.npy has score: 0.0\n",
      "[ERROR] [2016-10-02 05:47:42,302:EnsembleBuilder(1):c01e80e9d92c05b0e407f3cc85b10624] Model only predicts at random: /tmp/autosklearn_tmp_10798_786/.auto-sklearn/predictions_ensemble/predictions_ensemble_1_00002.npy has score: 0.0\n",
      "[INFO] [2016-10-02 05:47:42,327:EnsembleBuilder(1):c01e80e9d92c05b0e407f3cc85b10624] Ensemble Selection:\n",
      "\tTrajectory: 0: 0.300000 1: 0.350000 2: 0.350000 3: 0.350000 4: 0.350000 5: 0.350000 6: 0.350000 7: 0.350000 8: 0.350000 9: 0.350000 10: 0.350000 11: 0.350000 12: 0.400000 13: 0.400000 14: 0.400000 15: 0.400000 16: 0.400000 17: 0.400000 18: 0.400000 19: 0.400000 20: 0.400000 21: 0.400000 22: 0.400000 23: 0.400000 24: 0.400000 25: 0.400000 26: 0.400000 27: 0.400000 28: 0.400000 29: 0.400000 30: 0.400000 31: 0.350000 32: 0.350000 33: 0.400000 34: 0.400000 35: 0.400000 36: 0.400000 37: 0.400000 38: 0.400000 39: 0.400000 40: 0.400000 41: 0.350000 42: 0.350000 43: 0.400000 44: 0.400000 45: 0.400000 46: 0.400000 47: 0.400000 48: 0.350000 49: 0.350000\n",
      "\tMembers: [3, 2, 2, 3, 1, 2, 2, 2, 2, 1, 0, 0, 0, 3, 2, 2, 2, 2, 2, 2, 2, 2, 3, 2, 2, 0, 2, 2, 2, 2, 2, 1, 0, 1, 2, 2, 2, 3, 2, 2, 2, 1, 0, 3, 2, 3, 2, 2, 0, 0]\n",
      "\tWeights: [ 0.16  0.1   0.6   0.14]\n",
      "\tIdentifiers: (1, 3) (1, 4) (1, 5) (1, 6)\n",
      "[INFO] [2016-10-02 05:47:42,331:EnsembleBuilder(1):c01e80e9d92c05b0e407f3cc85b10624] Training performance: 0.350000\n",
      "[INFO] [2016-10-02 05:47:42,332:EnsembleBuilder(1):c01e80e9d92c05b0e407f3cc85b10624] Building the ensemble took 0.032863 seconds\n",
      "[INFO] [2016-10-02 05:47:42,335:EnsembleBuilder(1):c01e80e9d92c05b0e407f3cc85b10624] Could not find as many validation set predictions (0)as ensemble predictions (6)!.\n",
      "[INFO] [2016-10-02 05:47:42,337:EnsembleBuilder(1):c01e80e9d92c05b0e407f3cc85b10624] Could not find as many test set predictions (0) as ensemble predictions (6)!\n",
      "[INFO] [2016-10-02 05:47:50,452:scenario] Output to /tmp/autosklearn_tmp_10798_786\n"
     ]
    }
   ],
   "source": [
    "automl = autosklearn.classification.AutoSklearnClassifier(time_left_for_this_task=10, \n",
    "                                                          per_run_time_limit=1, \n",
    "                                                          ml_memory_limit=10000)\n",
    "# automl.fit(X_train, y_train)\n",
    "automl.fit(X, y)\n"
   ]
  },
  {
   "cell_type": "code",
   "execution_count": 19,
   "metadata": {
    "collapsed": false
   },
   "outputs": [
    {
     "ename": "NameError",
     "evalue": "name 'X_test' is not defined",
     "output_type": "error",
     "traceback": [
      "\u001b[0;31m---------------------------------------------------------------------------\u001b[0m",
      "\u001b[0;31mNameError\u001b[0m                                 Traceback (most recent call last)",
      "\u001b[0;32m<ipython-input-19-d13bb7162f17>\u001b[0m in \u001b[0;36m<module>\u001b[0;34m()\u001b[0m\n\u001b[0;32m----> 1\u001b[0;31m \u001b[0mprint\u001b[0m\u001b[0;34m(\u001b[0m\u001b[0mautoml\u001b[0m\u001b[0;34m.\u001b[0m\u001b[0mscore\u001b[0m\u001b[0;34m(\u001b[0m\u001b[0mX_test\u001b[0m\u001b[0;34m,\u001b[0m\u001b[0my_test\u001b[0m\u001b[0;34m)\u001b[0m\u001b[0;34m)\u001b[0m\u001b[0;34m\u001b[0m\u001b[0m\n\u001b[0m",
      "\u001b[0;31mNameError\u001b[0m: name 'X_test' is not defined"
     ]
    }
   ],
   "source": [
    "print(automl.score(X_test,y_test))"
   ]
  },
  {
   "cell_type": "code",
   "execution_count": 130,
   "metadata": {
    "collapsed": false
   },
   "outputs": [
    {
     "data": {
      "text/plain": [
       "array([1, 0, 2, 0, 2, 0, 0, 0, 1, 0, 0, 2, 1, 0, 0, 0, 0, 0])"
      ]
     },
     "execution_count": 130,
     "metadata": {},
     "output_type": "execute_result"
    }
   ],
   "source": [
    "predictions = automl.predict(X_test)\n",
    "predictions"
   ]
  },
  {
   "cell_type": "code",
   "execution_count": 20,
   "metadata": {
    "collapsed": false
   },
   "outputs": [
    {
     "data": {
      "text/plain": [
       "array([[ 0.53689796,  0.16213988,  0.30096216],\n",
       "       [ 0.59522744,  0.17386302,  0.23090954],\n",
       "       [ 0.55455045,  0.17286511,  0.27258444],\n",
       "       [ 0.52628917,  0.16610013,  0.30761069],\n",
       "       [ 0.47929231,  0.20093213,  0.31977556],\n",
       "       [ 0.4174893 ,  0.20029563,  0.38221508],\n",
       "       [ 0.35560681,  0.31531567,  0.32907752],\n",
       "       [ 0.44597412,  0.25756241,  0.29646347],\n",
       "       [ 0.38466239,  0.22991454,  0.38542307],\n",
       "       [ 0.58219649,  0.16766015,  0.25014336],\n",
       "       [ 0.60435832,  0.17756417,  0.21807752],\n",
       "       [ 0.58812519,  0.17791239,  0.23396242],\n",
       "       [ 0.50531844,  0.17345936,  0.3212222 ],\n",
       "       [ 0.47929231,  0.20093213,  0.31977556],\n",
       "       [ 0.45335037,  0.18486558,  0.36178404],\n",
       "       [ 0.57784871,  0.16361504,  0.25853626],\n",
       "       [ 0.60300133,  0.17602249,  0.22097618],\n",
       "       [ 0.58605966,  0.17632628,  0.23761406],\n",
       "       [ 0.47156268,  0.16132448,  0.36711284],\n",
       "       [ 0.55395433,  0.17239141,  0.27365426],\n",
       "       [ 0.51218737,  0.17753707,  0.31027556],\n",
       "       [ 0.42108617,  0.17629681,  0.40261703],\n",
       "       [ 0.44859041,  0.22192945,  0.32948014],\n",
       "       [ 0.38060672,  0.23673602,  0.38265727],\n",
       "       [ 0.35560681,  0.31531567,  0.32907752],\n",
       "       [ 0.42816678,  0.27003749,  0.30179573],\n",
       "       [ 0.36745323,  0.24960026,  0.38294651],\n",
       "       [ 0.39347598,  0.27491079,  0.33161324],\n",
       "       [ 0.44597412,  0.25756241,  0.29646347],\n",
       "       [ 0.32054806,  0.34143825,  0.33801369],\n",
       "       [ 0.50126158,  0.16166081,  0.33707761],\n",
       "       [ 0.56969319,  0.17316448,  0.25714233],\n",
       "       [ 0.58605966,  0.17632628,  0.23761406],\n",
       "       [ 0.39105525,  0.18230475,  0.42663999],\n",
       "       [ 0.28031036,  0.29291092,  0.42677872],\n",
       "       [ 0.27216748,  0.28756036,  0.44027216],\n",
       "       [ 0.52628917,  0.16610013,  0.30761069],\n",
       "       [ 0.47929231,  0.20093213,  0.31977556],\n",
       "       [ 0.4174893 ,  0.20029563,  0.38221508],\n",
       "       [ 0.36086815,  0.23101435,  0.4081175 ],\n",
       "       [ 0.43334949,  0.24187236,  0.32477814],\n",
       "       [ 0.32054806,  0.34143825,  0.33801369],\n",
       "       [ 0.46273308,  0.16350779,  0.37375913],\n",
       "       [ 0.43334949,  0.24187236,  0.32477814],\n",
       "       [ 0.38060672,  0.23673602,  0.38265727],\n",
       "       [ 0.57523733,  0.16278221,  0.26198046],\n",
       "       [ 0.56969319,  0.17316448,  0.25714233],\n",
       "       [ 0.51860408,  0.175058  ,  0.30633792],\n",
       "       [ 0.25413647,  0.26111919,  0.48474434],\n",
       "       [ 0.19314585,  0.38573129,  0.42112286],\n",
       "       [ 0.51218737,  0.17753707,  0.31027556],\n",
       "       [ 0.42108617,  0.17629681,  0.40261703],\n",
       "       [ 0.43334949,  0.24187236,  0.32477814],\n",
       "       [ 0.29798861,  0.2823829 ,  0.41962848],\n",
       "       [ 0.35560681,  0.31531567,  0.32907752],\n",
       "       [ 0.33580221,  0.31805356,  0.34614422],\n",
       "       [ 0.32054806,  0.34143825,  0.33801369],\n",
       "       [ 0.27464573,  0.25095238,  0.4744019 ],\n",
       "       [ 0.26347414,  0.37065696,  0.36586889],\n",
       "       [ 0.28072728,  0.26721138,  0.45206134],\n",
       "       [ 0.39105525,  0.18230475,  0.42663999],\n",
       "       [ 0.33580221,  0.31805356,  0.34614422],\n",
       "       [ 0.2110085 ,  0.42698517,  0.36200633],\n",
       "       [ 0.33155392,  0.35656628,  0.31187979],\n",
       "       [ 0.26347414,  0.37065696,  0.36586889],\n",
       "       [ 0.17828158,  0.47513246,  0.34658596],\n",
       "       [ 0.33155392,  0.35656628,  0.31187979],\n",
       "       [ 0.24290627,  0.43256735,  0.32452637],\n",
       "       [ 0.32375846,  0.34631596,  0.32992558],\n",
       "       [ 0.47156268,  0.16132448,  0.36711284],\n",
       "       [ 0.15763815,  0.60857383,  0.23378802],\n",
       "       [ 0.15769367,  0.59773529,  0.24457104],\n",
       "       [ 0.36980115,  0.20850388,  0.42169497],\n",
       "       [ 0.18265411,  0.45611025,  0.36123563],\n",
       "       [ 0.15883214,  0.53437427,  0.30679359],\n",
       "       [ 0.36086815,  0.23101435,  0.4081175 ],\n",
       "       [ 0.15763913,  0.60584296,  0.23651791],\n",
       "       [ 0.15763815,  0.62491586,  0.21744599],\n",
       "       [ 0.39347598,  0.27491079,  0.33161324],\n",
       "       [ 0.15763913,  0.60584296,  0.23651791],\n",
       "       [ 0.15763815,  0.6249153 ,  0.21744655],\n",
       "       [ 0.25413647,  0.26111919,  0.48474434],\n",
       "       [ 0.15764275,  0.59943314,  0.24292411],\n",
       "       [ 0.15763815,  0.6249153 ,  0.21744655],\n",
       "       [ 0.36980115,  0.20850388,  0.42169497],\n",
       "       [ 0.15763815,  0.60880222,  0.23355963],\n",
       "       [ 0.15763817,  0.62487425,  0.21748758],\n",
       "       [ 0.4046688 ,  0.27908054,  0.31625067],\n",
       "       [ 0.17443912,  0.46805607,  0.35750482],\n",
       "       [ 0.15763815,  0.62491612,  0.21744574]])"
      ]
     },
     "execution_count": 20,
     "metadata": {},
     "output_type": "execute_result"
    }
   ],
   "source": [
    "# probas = automl.predict_proba(X_test)\n",
    "probas = automl.predict_proba(X)\n",
    "probas"
   ]
  },
  {
   "cell_type": "code",
   "execution_count": 21,
   "metadata": {
    "collapsed": false
   },
   "outputs": [
    {
     "ename": "NameError",
     "evalue": "name 'predictions' is not defined",
     "output_type": "error",
     "traceback": [
      "\u001b[0;31m---------------------------------------------------------------------------\u001b[0m",
      "\u001b[0;31mNameError\u001b[0m                                 Traceback (most recent call last)",
      "\u001b[0;32m<ipython-input-21-edcd95e02ecd>\u001b[0m in \u001b[0;36m<module>\u001b[0;34m()\u001b[0m\n\u001b[0;32m----> 1\u001b[0;31m \u001b[0mplt\u001b[0m\u001b[0;34m.\u001b[0m\u001b[0mscatter\u001b[0m\u001b[0;34m(\u001b[0m\u001b[0mpredictions\u001b[0m\u001b[0;34m,\u001b[0m \u001b[0my_test\u001b[0m\u001b[0;34m,\u001b[0m \u001b[0mc\u001b[0m\u001b[0;34m=\u001b[0m\u001b[0;34m[\u001b[0m\u001b[0mnp\u001b[0m\u001b[0;34m.\u001b[0m\u001b[0margmax\u001b[0m\u001b[0;34m(\u001b[0m\u001b[0mx\u001b[0m\u001b[0;34m)\u001b[0m \u001b[0;32mfor\u001b[0m \u001b[0mx\u001b[0m \u001b[0;32min\u001b[0m \u001b[0mprobas\u001b[0m\u001b[0;34m]\u001b[0m\u001b[0;34m)\u001b[0m\u001b[0;34m\u001b[0m\u001b[0m\n\u001b[0m\u001b[1;32m      2\u001b[0m \u001b[0;31m# plt.scatter([np.argmax(x) for x in probs], y_test)\u001b[0m\u001b[0;34m\u001b[0m\u001b[0;34m\u001b[0m\u001b[0m\n\u001b[1;32m      3\u001b[0m \u001b[0;31m# plt.scatter([x[1] for x in probs], y_test)\u001b[0m\u001b[0;34m\u001b[0m\u001b[0;34m\u001b[0m\u001b[0m\n\u001b[1;32m      4\u001b[0m \u001b[0;31m# plt.scatter(predictions, y_test)\u001b[0m\u001b[0;34m\u001b[0m\u001b[0;34m\u001b[0m\u001b[0m\n",
      "\u001b[0;31mNameError\u001b[0m: name 'predictions' is not defined"
     ]
    }
   ],
   "source": [
    "plt.scatter(predictions, y_test, c=[np.argmax(x) for x in probas])\n",
    "# plt.scatter([np.argmax(x) for x in probs], y_test)\n",
    "# plt.scatter([x[1] for x in probs], y_test)\n",
    "# plt.scatter(predictions, y_test)"
   ]
  },
  {
   "cell_type": "code",
   "execution_count": 22,
   "metadata": {
    "collapsed": false,
    "scrolled": false
   },
   "outputs": [
    {
     "ename": "NameError",
     "evalue": "name 'predictions' is not defined",
     "output_type": "error",
     "traceback": [
      "\u001b[0;31m---------------------------------------------------------------------------\u001b[0m",
      "\u001b[0;31mNameError\u001b[0m                                 Traceback (most recent call last)",
      "\u001b[0;32m<ipython-input-22-1c53e478c699>\u001b[0m in \u001b[0;36m<module>\u001b[0;34m()\u001b[0m\n\u001b[1;32m      1\u001b[0m \u001b[0;31m# View probabilities=\u001b[0m\u001b[0;34m\u001b[0m\u001b[0;34m\u001b[0m\u001b[0m\n\u001b[0;32m----> 2\u001b[0;31m \u001b[0mn_classes\u001b[0m \u001b[0;34m=\u001b[0m \u001b[0mnp\u001b[0m\u001b[0;34m.\u001b[0m\u001b[0munique\u001b[0m\u001b[0;34m(\u001b[0m\u001b[0mpredictions\u001b[0m\u001b[0;34m)\u001b[0m\u001b[0;34m.\u001b[0m\u001b[0msize\u001b[0m\u001b[0;34m\u001b[0m\u001b[0m\n\u001b[0m\u001b[1;32m      3\u001b[0m \u001b[0;32mfor\u001b[0m \u001b[0mk\u001b[0m \u001b[0;32min\u001b[0m \u001b[0mrange\u001b[0m\u001b[0;34m(\u001b[0m\u001b[0mn_classes\u001b[0m\u001b[0;34m)\u001b[0m\u001b[0;34m:\u001b[0m\u001b[0;34m\u001b[0m\u001b[0m\n\u001b[1;32m      4\u001b[0m     \u001b[0mplt\u001b[0m\u001b[0;34m.\u001b[0m\u001b[0msubplot\u001b[0m\u001b[0;34m(\u001b[0m\u001b[0;36m1\u001b[0m\u001b[0;34m,\u001b[0m \u001b[0mn_classes\u001b[0m\u001b[0;34m,\u001b[0m \u001b[0;36m1\u001b[0m \u001b[0;34m*\u001b[0m \u001b[0mk\u001b[0m \u001b[0;34m+\u001b[0m \u001b[0;36m1\u001b[0m\u001b[0;34m)\u001b[0m\u001b[0;34m\u001b[0m\u001b[0m\n\u001b[1;32m      5\u001b[0m     \u001b[0mplt\u001b[0m\u001b[0;34m.\u001b[0m\u001b[0mtitle\u001b[0m\u001b[0;34m(\u001b[0m\u001b[0;34m\"Class %d\"\u001b[0m \u001b[0;34m%\u001b[0m \u001b[0mk\u001b[0m\u001b[0;34m)\u001b[0m\u001b[0;34m\u001b[0m\u001b[0m\n",
      "\u001b[0;31mNameError\u001b[0m: name 'predictions' is not defined"
     ]
    }
   ],
   "source": [
    "# View probabilities=\n",
    "n_classes = np.unique(predictions).size\n",
    "for k in range(n_classes):\n",
    "    plt.subplot(1, n_classes, 1 * k + 1)\n",
    "    plt.title(\"Class %d\" % k)\n",
    "    imshow_handle = plt.imshow(probas[:, k].reshape((100, 100)),\n",
    "                               extent=(3, 9, 1, 5), origin='lower')\n",
    "    plt.xticks(())\n",
    "    plt.yticks(())\n",
    "    idx = (predictions == k)\n",
    "    if idx.any():\n",
    "        plt.scatter(X[idx, 0], X[idx, 1], marker='o', c='k')"
   ]
  },
  {
   "cell_type": "code",
   "execution_count": 94,
   "metadata": {
    "collapsed": false
   },
   "outputs": [
    {
     "data": {
      "text/plain": [
       "pandas.core.frame.DataFrame"
      ]
     },
     "execution_count": 94,
     "metadata": {},
     "output_type": "execute_result"
    }
   ],
   "source": [
    "X.head()\n",
    "type(X)"
   ]
  },
  {
   "cell_type": "code",
   "execution_count": 102,
   "metadata": {
    "collapsed": false
   },
   "outputs": [
    {
     "name": "stderr",
     "output_type": "stream",
     "text": [
      "/Users/alex/anaconda/envs/p3/lib/python3.5/site-packages/ipykernel/__main__.py:1: VisibleDeprecationWarning: boolean index did not match indexed array along dimension 0; dimension is 90 but corresponding boolean dimension is 18\n",
      "  if __name__ == '__main__':\n"
     ]
    },
    {
     "data": {
      "text/plain": [
       "array([85, 82, 92, 91, 83, 84])"
      ]
     },
     "execution_count": 102,
     "metadata": {},
     "output_type": "execute_result"
    }
   ],
   "source": [
    "X[idx, 0]"
   ]
  },
  {
   "cell_type": "code",
   "execution_count": 64,
   "metadata": {
    "collapsed": false
   },
   "outputs": [
    {
     "data": {
      "text/plain": [
       "array([False, False, False,  True,  True, False, False, False,  True,\n",
       "        True, False,  True,  True,  True,  True, False, False, False], dtype=bool)"
      ]
     },
     "execution_count": 64,
     "metadata": {},
     "output_type": "execute_result"
    }
   ],
   "source": [
    "idx"
   ]
  },
  {
   "cell_type": "code",
   "execution_count": 98,
   "metadata": {
    "collapsed": false
   },
   "outputs": [
    {
     "data": {
      "text/html": [
       "<div>\n",
       "<table border=\"1\" class=\"dataframe\">\n",
       "  <thead>\n",
       "    <tr style=\"text-align: right;\">\n",
       "      <th></th>\n",
       "      <th>pulse</th>\n",
       "      <th>time</th>\n",
       "    </tr>\n",
       "  </thead>\n",
       "  <tbody>\n",
       "    <tr>\n",
       "      <th>0</th>\n",
       "      <td>85</td>\n",
       "      <td>0</td>\n",
       "    </tr>\n",
       "    <tr>\n",
       "      <th>1</th>\n",
       "      <td>85</td>\n",
       "      <td>1</td>\n",
       "    </tr>\n",
       "    <tr>\n",
       "      <th>2</th>\n",
       "      <td>88</td>\n",
       "      <td>2</td>\n",
       "    </tr>\n",
       "    <tr>\n",
       "      <th>3</th>\n",
       "      <td>90</td>\n",
       "      <td>0</td>\n",
       "    </tr>\n",
       "    <tr>\n",
       "      <th>4</th>\n",
       "      <td>92</td>\n",
       "      <td>1</td>\n",
       "    </tr>\n",
       "  </tbody>\n",
       "</table>\n",
       "</div>"
      ],
      "text/plain": [
       "   pulse  time\n",
       "0     85     0\n",
       "1     85     1\n",
       "2     88     2\n",
       "3     90     0\n",
       "4     92     1"
      ]
     },
     "execution_count": 98,
     "metadata": {},
     "output_type": "execute_result"
    }
   ],
   "source": [
    "X.head()"
   ]
  },
  {
   "cell_type": "code",
   "execution_count": 101,
   "metadata": {
    "collapsed": false
   },
   "outputs": [],
   "source": [
    "X = np.asarray(X)"
   ]
  },
  {
   "cell_type": "code",
   "execution_count": 96,
   "metadata": {
    "collapsed": false
   },
   "outputs": [],
   "source": [
    "xx = np.linspace(3, 9, 100)\n",
    "yy = np.linspace(1, 5, 100).T\n",
    "xx, yy = np.meshgrid(xx, yy)\n",
    "Xfull = np.c_[xx.ravel(), yy.ravel()]\n",
    "\n",
    "probas = automl.predict_proba(Xfull)"
   ]
  },
  {
   "cell_type": "code",
   "execution_count": null,
   "metadata": {
    "collapsed": true
   },
   "outputs": [],
   "source": []
  }
 ],
 "metadata": {
  "anaconda-cloud": {},
  "kernelspec": {
   "display_name": "Python [p3]",
   "language": "python",
   "name": "Python [p3]"
  },
  "language_info": {
   "codemirror_mode": {
    "name": "ipython",
    "version": 3
   },
   "file_extension": ".py",
   "mimetype": "text/x-python",
   "name": "python",
   "nbconvert_exporter": "python",
   "pygments_lexer": "ipython3",
   "version": "3.5.2"
  }
 },
 "nbformat": 4,
 "nbformat_minor": 0
}
