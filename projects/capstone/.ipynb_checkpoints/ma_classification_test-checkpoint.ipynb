{
 "cells": [
  {
   "cell_type": "code",
   "execution_count": 414,
   "metadata": {
    "collapsed": true
   },
   "outputs": [],
   "source": [
    "import pandas as pd\n",
    "import numpy as np\n",
    "from sklearn.cross_validation import train_test_split\n",
    "from sklearn.preprocessing import LabelEncoder\n",
    "import autosklearn.classification\n",
    "import seaborn as sns\n",
    "import matplotlib.pyplot as plt\n",
    "\n",
    "%matplotlib inline\n",
    "%config InlineBackend.figure_format = 'retina'"
   ]
  },
  {
   "cell_type": "code",
   "execution_count": 415,
   "metadata": {
    "collapsed": true
   },
   "outputs": [],
   "source": [
    "csv_path = '/Users/alex/Desktop/DSI-SF-2-akodate/datasets/titanic/titanic_clean2.csv'\n",
    "target = 'Pclass'\n",
    "time = 10"
   ]
  },
  {
   "cell_type": "code",
   "execution_count": 416,
   "metadata": {
    "collapsed": false
   },
   "outputs": [
    {
     "name": "stdout",
     "output_type": "stream",
     "text": [
      "CSV path: /Users/alex/Desktop/DSI-SF-2-akodate/datasets/titanic/titanic_clean2.csv\n",
      "Target: Pclass\n",
      "Time 10\n"
     ]
    }
   ],
   "source": [
    "print(\"CSV path:\", csv_path)\n",
    "print(\"Target:\", target)\n",
    "print(\"Time\", time)"
   ]
  },
  {
   "cell_type": "code",
   "execution_count": 417,
   "metadata": {
    "collapsed": true
   },
   "outputs": [],
   "source": [
    "df = pd.read_csv(csv_path)"
   ]
  },
  {
   "cell_type": "code",
   "execution_count": 397,
   "metadata": {
    "collapsed": false
   },
   "outputs": [],
   "source": [
    "# df.shape"
   ]
  },
  {
   "cell_type": "code",
   "execution_count": 398,
   "metadata": {
    "collapsed": true
   },
   "outputs": [],
   "source": [
    "# df = df.iloc[:, 1:].copy()"
   ]
  },
  {
   "cell_type": "code",
   "execution_count": 399,
   "metadata": {
    "collapsed": false
   },
   "outputs": [],
   "source": [
    "# df.head()"
   ]
  },
  {
   "cell_type": "code",
   "execution_count": 400,
   "metadata": {
    "collapsed": false
   },
   "outputs": [],
   "source": [
    "# for col in df.columns:\n",
    "#     print(col, df[col].unique())"
   ]
  },
  {
   "cell_type": "code",
   "execution_count": 401,
   "metadata": {
    "collapsed": false
   },
   "outputs": [],
   "source": [
    "# df['Bare_Nuclei'] = pd.to_numeric(df['Bare_Nuclei'], errors='coerce')"
   ]
  },
  {
   "cell_type": "code",
   "execution_count": 418,
   "metadata": {
    "collapsed": false
   },
   "outputs": [
    {
     "name": "stdout",
     "output_type": "stream",
     "text": [
      "Dataset shape: (712, 8)\n"
     ]
    }
   ],
   "source": [
    "print(\"Dataset shape:\", df.shape)"
   ]
  },
  {
   "cell_type": "code",
   "execution_count": 419,
   "metadata": {
    "collapsed": false
   },
   "outputs": [
    {
     "name": "stdout",
     "output_type": "stream",
     "text": [
      "Dtypes:\n",
      "Survived      int64\n",
      "Pclass        int64\n",
      "Sex          object\n",
      "Age         float64\n",
      "SibSp         int64\n",
      "Parch         int64\n",
      "Fare        float64\n",
      "Embarked     object\n",
      "dtype: object\n"
     ]
    }
   ],
   "source": [
    "print(\"Dtypes:\")\n",
    "print(df.dtypes)"
   ]
  },
  {
   "cell_type": "code",
   "execution_count": 420,
   "metadata": {
    "collapsed": false
   },
   "outputs": [],
   "source": [
    "for col in df.columns.difference([target]):\n",
    "    if not np.issubdtype(df[col], np.number):\n",
    "        df[col] = LabelEncoder().fit_transform(df[col])"
   ]
  },
  {
   "cell_type": "code",
   "execution_count": 421,
   "metadata": {
    "collapsed": false
   },
   "outputs": [],
   "source": [
    "# df.head()"
   ]
  },
  {
   "cell_type": "code",
   "execution_count": 422,
   "metadata": {
    "collapsed": true
   },
   "outputs": [],
   "source": [
    "X = df.drop(target, axis=1)\n",
    "y = df[target]"
   ]
  },
  {
   "cell_type": "code",
   "execution_count": 423,
   "metadata": {
    "collapsed": false
   },
   "outputs": [],
   "source": [
    "# print(type(y))\n",
    "# print(y.shape)"
   ]
  },
  {
   "cell_type": "code",
   "execution_count": 424,
   "metadata": {
    "collapsed": false
   },
   "outputs": [
    {
     "name": "stdout",
     "output_type": "stream",
     "text": [
      "Train/test split executed, test size = 0.2\n",
      "<class 'numpy.ndarray'> <class 'numpy.ndarray'>\n",
      "(569, 7) (569,)\n",
      "(143, 7) (143,)\n"
     ]
    }
   ],
   "source": [
    "def run_train_test_split(predictors, target):\n",
    "    test_size = 0.2\n",
    "    \n",
    "    print(\"Train/test split executed, test size =\", test_size)\n",
    "    return train_test_split(predictors, target, test_size=test_size)\n",
    "\n",
    "X_train, X_test, y_train, y_test = run_train_test_split(X, y)\n",
    "\n",
    "X_train = np.ascontiguousarray(X_train)\n",
    "X_test = np.ascontiguousarray(X_test)\n",
    "y_train = LabelEncoder().fit_transform(y_train)\n",
    "y_test = LabelEncoder().fit_transform(y_test)\n",
    "\n",
    "print(type(X_train), type(y_train))\n",
    "print(X_train.shape, y_train.shape)\n",
    "print(X_test.shape, y_test.shape)"
   ]
  },
  {
   "cell_type": "code",
   "execution_count": 426,
   "metadata": {
    "collapsed": false
   },
   "outputs": [
    {
     "name": "stdout",
     "output_type": "stream",
     "text": [
      "[INFO] [2016-10-05 04:06:04,920:AutoML(1):3229666d7bd44207fc1f2217fa98bdd4] Starting to create dummy predictions.\n",
      "[INFO] [2016-10-05 04:06:04,967:AutoML(1):3229666d7bd44207fc1f2217fa98bdd4] Finished creating dummy prediction 1/2.\n",
      "[INFO] [2016-10-05 04:06:05,030:AutoML(1):3229666d7bd44207fc1f2217fa98bdd4] Finished creating dummy prediction 2/2.\n",
      "[INFO] [2016-10-05 04:06:06,227:AutoML(1):3229666d7bd44207fc1f2217fa98bdd4] Start Ensemble with  8.68sec time left\n",
      "[INFO] [2016-10-05 04:06:06,238:AutoML(1):3229666d7bd44207fc1f2217fa98bdd4] Start SMAC with  8.67sec time left\n",
      "[ERROR] [2016-10-05 04:06:06,262:EnsembleBuilder(1):3229666d7bd44207fc1f2217fa98bdd4] Model only predicts at random: /tmp/autosklearn_tmp_18544_4520/.auto-sklearn/predictions_ensemble/predictions_ensemble_1_00001.npy has score: -0.109042553191\n",
      "[INFO] [2016-10-05 04:06:06,267:AutoMLSMBO(1)::3229666d7bd44207fc1f2217fa98bdd4] Training default configurations on a subset of 187/569 data points.\n",
      "[INFO] [2016-10-05 04:06:06,271:EnsembleBuilder(1):3229666d7bd44207fc1f2217fa98bdd4] Ensemble Selection:\n",
      "\tTrajectory: 0: 0.226064\n",
      "\tMembers: [0]\n",
      "\tWeights: [ 1.]\n",
      "\tIdentifiers: (1, 2)\n",
      "[INFO] [2016-10-05 04:06:06,279:EnsembleBuilder(1):3229666d7bd44207fc1f2217fa98bdd4] Training performance: 0.226064\n",
      "[INFO] [2016-10-05 04:06:06,281:EnsembleBuilder(1):3229666d7bd44207fc1f2217fa98bdd4] Building the ensemble took 0.021371 seconds\n",
      "[INFO] [2016-10-05 04:06:06,285:AutoMLSMBO(1)::3229666d7bd44207fc1f2217fa98bdd4] Starting to evaluate 3 on SUBSET with size 187 and time limit 5s.\n",
      "[INFO] [2016-10-05 04:06:06,287:AutoMLSMBO(1)::3229666d7bd44207fc1f2217fa98bdd4] Configuration:\n",
      "  balancing:strategy, Value: 'none'\n",
      "  classifier:__choice__, Value: 'random_forest'\n",
      "  classifier:random_forest:bootstrap, Value: 'True'\n",
      "  classifier:random_forest:criterion, Value: 'gini'\n",
      "  classifier:random_forest:max_depth, Constant: 'None'\n",
      "  classifier:random_forest:max_features, Value: 1.0\n",
      "  classifier:random_forest:max_leaf_nodes, Constant: 'None'\n",
      "  classifier:random_forest:min_samples_leaf, Value: 1\n",
      "  classifier:random_forest:min_samples_split, Value: 2\n",
      "  classifier:random_forest:min_weight_fraction_leaf, Constant: 0.0\n",
      "  classifier:random_forest:n_estimators, Constant: 100\n",
      "  imputation:strategy, Value: 'mean'\n",
      "  one_hot_encoding:minimum_fraction, Value: 0.01\n",
      "  one_hot_encoding:use_minimum_fraction, Value: 'True'\n",
      "  preprocessor:__choice__, Value: 'no_preprocessing'\n",
      "  rescaling:__choice__, Value: 'min/max'\n",
      "[INFO] [2016-10-05 04:06:06,289:EnsembleBuilder(1):3229666d7bd44207fc1f2217fa98bdd4] Could not find as many validation set predictions (0)as ensemble predictions (2)!.\n",
      "\n",
      "[INFO] [2016-10-05 04:06:06,291:EnsembleBuilder(1):3229666d7bd44207fc1f2217fa98bdd4] Could not find as many test set predictions (0) as ensemble predictions (2)!\n",
      "[INFO] [2016-10-05 04:06:06,557:AutoMLSMBO(1)::3229666d7bd44207fc1f2217fa98bdd4] Finished evaluating 3. configuration on SUBSET. Duration 0.213690; loss 0.159574; status 1; additional run info: ;duration: 0.21369004249572754;num_run:00003 \n",
      "[INFO] [2016-10-05 04:06:06,561:AutoMLSMBO(1)::3229666d7bd44207fc1f2217fa98bdd4] Finished SUBSET training sucessfully with ratio 0.330000\n",
      "[INFO] [2016-10-05 04:06:06,565:AutoMLSMBO(1)::3229666d7bd44207fc1f2217fa98bdd4] Starting to evaluate 4 on SUBSET with size 187 and time limit 5s.\n",
      "[INFO] [2016-10-05 04:06:06,568:AutoMLSMBO(1)::3229666d7bd44207fc1f2217fa98bdd4] Configuration:\n",
      "  balancing:strategy, Value: 'weighting'\n",
      "  classifier:__choice__, Value: 'sgd'\n",
      "  classifier:sgd:alpha, Value: 0.0001\n",
      "  classifier:sgd:average, Value: 'True'\n",
      "  classifier:sgd:eta0, Value: 0.01\n",
      "  classifier:sgd:fit_intercept, Constant: 'True'\n",
      "  classifier:sgd:learning_rate, Value: 'optimal'\n",
      "  classifier:sgd:loss, Value: 'hinge'\n",
      "  classifier:sgd:n_iter, Value: 5\n",
      "  classifier:sgd:penalty, Value: 'l2'\n",
      "  imputation:strategy, Value: 'mean'\n",
      "  one_hot_encoding:minimum_fraction, Value: 0.1\n",
      "  one_hot_encoding:use_minimum_fraction, Value: 'True'\n",
      "  preprocessor:__choice__, Value: 'no_preprocessing'\n",
      "  rescaling:__choice__, Value: 'min/max'\n",
      "\n",
      "[INFO] [2016-10-05 04:06:06,658:AutoMLSMBO(1)::3229666d7bd44207fc1f2217fa98bdd4] Finished evaluating 4. configuration on SUBSET. Duration 0.042643; loss 0.821809; status 1; additional run info: ;duration: 0.042643070220947266;num_run:00004 \n",
      "[INFO] [2016-10-05 04:06:06,664:AutoMLSMBO(1)::3229666d7bd44207fc1f2217fa98bdd4] Finished SUBSET training sucessfully with ratio 0.330000\n",
      "[INFO] [2016-10-05 04:06:06,667:AutoMLSMBO(1)::3229666d7bd44207fc1f2217fa98bdd4] Starting to evaluate 5 on SUBSET with size 187 and time limit 5s.\n",
      "[INFO] [2016-10-05 04:06:06,669:AutoMLSMBO(1)::3229666d7bd44207fc1f2217fa98bdd4] Configuration:\n",
      "  balancing:strategy, Value: 'weighting'\n",
      "  classifier:__choice__, Value: 'extra_trees'\n",
      "  classifier:extra_trees:bootstrap, Value: 'False'\n",
      "  classifier:extra_trees:criterion, Value: 'gini'\n",
      "  classifier:extra_trees:max_depth, Constant: 'None'\n",
      "  classifier:extra_trees:max_features, Value: 1.0\n",
      "  classifier:extra_trees:min_samples_leaf, Value: 5\n",
      "  classifier:extra_trees:min_samples_split, Value: 5\n",
      "  classifier:extra_trees:min_weight_fraction_leaf, Constant: 0.0\n",
      "  classifier:extra_trees:n_estimators, Constant: 100\n",
      "  imputation:strategy, Value: 'mean'\n",
      "  one_hot_encoding:minimum_fraction, Value: 0.1\n",
      "  one_hot_encoding:use_minimum_fraction, Value: 'True'\n",
      "  preprocessor:__choice__, Value: 'select_percentile_classification'\n",
      "  preprocessor:select_percentile_classification:percentile, Value: 2.0\n",
      "  preprocessor:select_percentile_classification:score_func, Value: 'chi2'\n",
      "  rescaling:__choice__, Value: 'min/max'\n",
      "\n",
      "[INFO] [2016-10-05 04:06:06,933:AutoMLSMBO(1)::3229666d7bd44207fc1f2217fa98bdd4] Finished evaluating 5. configuration on SUBSET. Duration 0.216865; loss 0.686170; status 1; additional run info: ;duration: 0.21686506271362305;num_run:00005 \n",
      "[INFO] [2016-10-05 04:06:06,943:AutoMLSMBO(1)::3229666d7bd44207fc1f2217fa98bdd4] Finished SUBSET training sucessfully with ratio 0.330000\n",
      "[INFO] [2016-10-05 04:06:06,947:AutoMLSMBO(1)::3229666d7bd44207fc1f2217fa98bdd4] Starting to evaluate 6 on SUBSET with size 187 and time limit 5s.\n",
      "[INFO] [2016-10-05 04:06:06,954:AutoMLSMBO(1)::3229666d7bd44207fc1f2217fa98bdd4] Configuration:\n",
      "  balancing:strategy, Value: 'weighting'\n",
      "  classifier:__choice__, Value: 'gaussian_nb'\n",
      "  imputation:strategy, Value: 'mean'\n",
      "  one_hot_encoding:minimum_fraction, Value: 0.1\n",
      "  one_hot_encoding:use_minimum_fraction, Value: 'True'\n",
      "  preprocessor:__choice__, Value: 'no_preprocessing'\n",
      "  rescaling:__choice__, Value: 'standardize'\n",
      "\n",
      "[INFO] [2016-10-05 04:06:07,013:AutoMLSMBO(1)::3229666d7bd44207fc1f2217fa98bdd4] Finished evaluating 6. configuration on SUBSET. Duration 0.014954; loss 0.486702; status 1; additional run info: ;duration: 0.014954090118408203;num_run:00006 \n",
      "[INFO] [2016-10-05 04:06:07,021:AutoMLSMBO(1)::3229666d7bd44207fc1f2217fa98bdd4] Finished SUBSET training sucessfully with ratio 0.330000\n",
      "[INFO] [2016-10-05 04:06:07,027:AutoMLSMBO(1)::3229666d7bd44207fc1f2217fa98bdd4] Metadata directory: /Users/alex/anaconda/envs/p3/lib/python3.5/site-packages/autosklearn/metalearning/files/acc_metric_multiclass.classification_dense\n",
      "[INFO] [2016-10-05 04:06:07,722:AutoMLSMBO(1)::3229666d7bd44207fc1f2217fa98bdd4] Start calculating metafeatures for 3229666d7bd44207fc1f2217fa98bdd4\n"
     ]
    },
    {
     "name": "stderr",
     "output_type": "stream",
     "text": [
      "/Users/alex/anaconda/envs/p3/lib/python3.5/site-packages/numpy/lib/nanfunctions.py:1147: RuntimeWarning: Degrees of freedom <= 0 for slice.\n",
      "  warnings.warn(\"Degrees of freedom <= 0 for slice.\", RuntimeWarning)\n",
      "/Users/alex/anaconda/envs/p3/lib/python3.5/site-packages/numpy/lib/nanfunctions.py:675: RuntimeWarning: Mean of empty slice\n",
      "  warnings.warn(\"Mean of empty slice\", RuntimeWarning)\n"
     ]
    },
    {
     "name": "stdout",
     "output_type": "stream",
     "text": [
      "[INFO] [2016-10-05 04:06:07,751:AutoMLSMBO(1)::3229666d7bd44207fc1f2217fa98bdd4] Calculating Metafeatures (categorical attributes) took  0.03\n",
      "[INFO] [2016-10-05 04:06:07,796:AutoMLSMBO(1)::3229666d7bd44207fc1f2217fa98bdd4] Calculating Metafeatures (encoded attributes) took  0.02sec\n"
     ]
    },
    {
     "name": "stderr",
     "output_type": "stream",
     "text": [
      "/Users/alex/anaconda/envs/p3/lib/python3.5/site-packages/sklearn/utils/validation.py:386: DeprecationWarning: Passing 1d arrays as data is deprecated in 0.17 and willraise ValueError in 0.19. Reshape your data either using X.reshape(-1, 1) if your data has a single feature or X.reshape(1, -1) if it contains a single sample.\n",
      "  DeprecationWarning)\n"
     ]
    },
    {
     "name": "stdout",
     "output_type": "stream",
     "text": [
      "[INFO] [2016-10-05 04:06:07,953:AutoMLSMBO(1)::3229666d7bd44207fc1f2217fa98bdd4] Time left for 3229666d7bd44207fc1f2217fa98bdd4 after finding initial configurations:  4.95sec\n",
      "[INFO] [2016-10-05 04:06:07,956:AutoMLSMBO(1)::3229666d7bd44207fc1f2217fa98bdd4] Metafeatures for dataset 3229666d7bd44207fc1f2217fa98bdd4uiaeo\n",
      "  ClassProbabilitySTD: 0.107290422668\n",
      "  RatioNominalToNumerical: 0.0\n",
      "  ClassProbabilityMin: 0.2565905096660808\n",
      "  KurtosisMax: 29.7662149109\n",
      "  SkewnessMean: 1.192604113\n",
      "  SymbolsSum: 0.0\n",
      "  ClassEntropy: 1.51429016681\n",
      "  LandmarkRandomNodeLearner: 0.527085759069\n",
      "  LogDatasetRatio: -4.39797028507\n",
      "  SkewnessMin: -1.48796065653\n",
      "  NumberOfInstances: 569.0\n",
      "  SymbolsMin: 0\n",
      "  InverseDatasetRatio: 81.28571428571429\n",
      "  KurtosisSTD: 10.4110653986\n",
      "  SymbolsSTD: 0\n",
      "  NumberOfNumericFeatures: 7\n",
      "  ClassProbabilityMax: 0.4850615114235501\n",
      "  RatioNumericalToNominal: 0.0\n",
      "  SymbolsMean: 0\n",
      "  SymbolsMax: 0\n",
      "  LogNumberOfFeatures: 1.94591014906\n",
      "  PercentageOfMissingValues: 0.0\n",
      "  NumberOfFeaturesWithMissingValues: 0.0\n",
      "  SkewnessSTD: 1.9599426089\n",
      "  SkewnessMax: 4.63757719126\n",
      "  NumberOfCategoricalFeatures: 0\n",
      "  LogInverseDatasetRatio: 4.39797028507\n",
      "  LogNumberOfInstances: 6.34388043413\n",
      "  ClassProbabilityMean: 0.333333333333\n",
      "  NumberOfClasses: 3.0\n",
      "  NumberOfInstancesWithMissingValues: 0.0\n",
      "  NumberOfFeatures: 7.0\n",
      "  NumberOfMissingValues: 0.0\n",
      "  PercentageOfFeaturesWithMissingValues: 0.0\n",
      "  DatasetRatio: 0.012302284710017574\n",
      "  PercentageOfInstancesWithMissingValues: 0.0\n",
      "  KurtosisMean: 5.92964697962\n",
      "  KurtosisMin: -1.88530069646\n",
      "\n",
      "[INFO] [2016-10-05 04:06:07,967:AutoMLSMBO(1)::3229666d7bd44207fc1f2217fa98bdd4] ['845_acc', '761_acc', '904_acc', '36_acc', '1068_acc', '837_acc', '390_acc', '16_acc', '715_acc', '1040_acc', '821_acc', '28_acc', '1041_acc', '1020_acc', '38_acc', '1142_acc', '910_acc', '772_acc', '23_acc', '1161_acc', '354_acc', '833_acc', '1050_acc', '953_acc', '741_acc', '57_acc', '1114_acc', '1166_acc', '300_acc', '734_acc', '728_acc', '797_acc', '398_acc', '849_acc', '1053_acc', '679_acc', '179_acc', '1036_acc', '806_acc', '901_acc', '816_acc', '958_acc', '930_acc', '399_acc', '1069_acc', '740_acc', '723_acc', '913_acc', '866_acc', '846_acc', '718_acc', '977_acc', '934_acc', '743_acc', '182_acc', '26_acc', '393_acc', '803_acc', '1000_acc', '980_acc', '914_acc', '1111_acc', '1002_acc', '389_acc', '976_acc', '995_acc', '31_acc', '819_acc', '962_acc', '727_acc', '1139_acc', '32_acc', '21_acc', '1120_acc', '273_acc', '1056_acc', '1049_acc', '46_acc', '897_acc', '357_acc', '554_acc', '720_acc', '44_acc', '30_acc', '60_acc', '751_acc', '807_acc', '822_acc', '1018_acc', '799_acc', '979_acc', '401_acc', '180_acc', '24_acc', '823_acc', '181_acc', '912_acc', '813_acc', '3229666d7bd44207fc1f2217fa98bdd4uiaeo', '966_acc', '351_acc', '12_acc', '396_acc', '917_acc', '1130_acc', '978_acc', '959_acc', '843_acc', '847_acc', '923_acc', '971_acc', '1138_acc', '184_acc', '1067_acc', '18_acc', '1116_acc', '722_acc', '735_acc', '395_acc', '991_acc', '737_acc', '1134_acc', '1112_acc', '1021_acc', '391_acc', '6_acc', '392_acc', '1019_acc', '293_acc', '14_acc', '881_acc', '1146_acc', '22_acc', '1128_acc', '1119_acc', '871_acc', '185_acc', '903_acc', '993_acc', '3_acc', '752_acc']\n",
      "[ERROR] [2016-10-05 04:06:08,302:EnsembleBuilder(1):3229666d7bd44207fc1f2217fa98bdd4] Model only predicts at random: /tmp/autosklearn_tmp_18544_4520/.auto-sklearn/predictions_ensemble/predictions_ensemble_1_00001.npy has score: -0.109042553191\n",
      "[INFO] [2016-10-05 04:06:08,528:EnsembleBuilder(1):3229666d7bd44207fc1f2217fa98bdd4] Ensemble Selection:\n",
      "\tTrajectory: 0: 0.840426 1: 0.840426 2: 0.840426 3: 0.840426 4: 0.840426 5: 0.864362 6: 0.864362 7: 0.864362 8: 0.864362 9: 0.872340 10: 0.872340 11: 0.872340 12: 0.864362 13: 0.864362 14: 0.864362 15: 0.872340 16: 0.872340 17: 0.880319 18: 0.880319 19: 0.872340 20: 0.864362 21: 0.872340 22: 0.872340 23: 0.872340 24: 0.872340 25: 0.872340 26: 0.872340 27: 0.872340 28: 0.880319 29: 0.880319 30: 0.880319 31: 0.872340 32: 0.872340 33: 0.872340 34: 0.872340 35: 0.872340 36: 0.872340 37: 0.872340 38: 0.872340 39: 0.872340 40: 0.872340 41: 0.872340 42: 0.872340 43: 0.872340 44: 0.872340 45: 0.872340 46: 0.872340 47: 0.872340 48: 0.872340 49: 0.872340\n",
      "\tMembers: [1, 1, 1, 1, 1, 0, 1, 3, 1, 3, 3, 1, 1, 1, 1, 4, 1, 3, 1, 1, 0, 1, 1, 1, 1, 1, 1, 1, 3, 3, 1, 0, 1, 1, 1, 1, 1, 1, 3, 1, 0, 1, 1, 1, 1, 1, 1, 1, 3, 0]\n",
      "\tWeights: [ 0.1   0.72  0.    0.16  0.02]\n",
      "\tIdentifiers: (1, 2) (1, 3) (1, 5) (1, 6)\n",
      "[INFO] [2016-10-05 04:06:08,580:EnsembleBuilder(1):3229666d7bd44207fc1f2217fa98bdd4] Training performance: 0.872340\n",
      "[INFO] [2016-10-05 04:06:08,584:EnsembleBuilder(1):3229666d7bd44207fc1f2217fa98bdd4] Building the ensemble took 0.282800 seconds\n",
      "[INFO] [2016-10-05 04:06:08,606:EnsembleBuilder(1):3229666d7bd44207fc1f2217fa98bdd4] Could not find as many validation set predictions (0)as ensemble predictions (6)!.\n",
      "[INFO] [2016-10-05 04:06:08,612:EnsembleBuilder(1):3229666d7bd44207fc1f2217fa98bdd4] Could not find as many test set predictions (0) as ensemble predictions (6)!\n"
     ]
    }
   ],
   "source": [
    "automl = autosklearn.classification.AutoSklearnClassifier(time_left_for_this_task=10, \n",
    "                                                          per_run_time_limit=1, \n",
    "                                                          ml_memory_limit=10000)\n",
    "automl.fit(X_train, y_train)"
   ]
  },
  {
   "cell_type": "code",
   "execution_count": 427,
   "metadata": {
    "collapsed": false
   },
   "outputs": [
    {
     "name": "stdout",
     "output_type": "stream",
     "text": [
      "0.79020979021\n"
     ]
    }
   ],
   "source": [
    "print(automl.score(X_test,y_test))"
   ]
  },
  {
   "cell_type": "code",
   "execution_count": 428,
   "metadata": {
    "collapsed": false
   },
   "outputs": [
    {
     "data": {
      "text/plain": [
       "array([0, 2, 2, 0, 1, 2, 2, 2, 1, 0, 2, 2, 1, 2, 2, 2, 1, 0, 2, 2, 0, 2, 1,\n",
       "       0, 2, 0, 2, 2, 0, 2, 2, 0, 2, 0, 2, 2, 2, 0, 2, 1, 1, 2, 2, 2, 0, 0,\n",
       "       1, 1, 2, 2, 2, 2, 0, 2, 2, 0, 2, 2, 1, 1, 1, 0, 1, 0, 0, 1, 2, 2, 1,\n",
       "       1, 2, 0, 2, 2, 2, 2, 2, 2, 2, 1, 2, 2, 0, 1, 0, 2, 0, 2, 0, 2, 2, 0,\n",
       "       0, 2, 0, 1, 0, 2, 2, 0, 1, 2, 2, 1, 2, 0, 1, 2, 2, 2, 2, 0, 0, 1, 0,\n",
       "       2, 0, 0, 2, 0, 1, 2, 2, 2, 2, 2, 2, 0, 2, 2, 2, 0, 2, 1, 0, 2, 2, 0,\n",
       "       2, 2, 2, 2, 2])"
      ]
     },
     "execution_count": 428,
     "metadata": {},
     "output_type": "execute_result"
    }
   ],
   "source": [
    "predictions = automl.predict(X_test)\n",
    "predictions"
   ]
  },
  {
   "cell_type": "code",
   "execution_count": 429,
   "metadata": {
    "collapsed": false
   },
   "outputs": [
    {
     "data": {
      "text/plain": [
       "array([[ 0.81,  0.05,  0.14],\n",
       "       [ 0.1 ,  0.15,  0.76],\n",
       "       [ 0.03,  0.11,  0.86],\n",
       "       [ 0.74,  0.07,  0.18],\n",
       "       [ 0.03,  0.75,  0.22]])"
      ]
     },
     "execution_count": 429,
     "metadata": {},
     "output_type": "execute_result"
    }
   ],
   "source": [
    "probas = automl.predict_proba(X_test)\n",
    "probas[0:5, :]"
   ]
  },
  {
   "cell_type": "code",
   "execution_count": 430,
   "metadata": {
    "collapsed": true
   },
   "outputs": [],
   "source": [
    "def plot_confusion_matrix(cm, classes,\n",
    "                          normalize=False,\n",
    "                          title='Confusion matrix',\n",
    "                          cmap=plt.cm.Blues):\n",
    "    \"\"\"\n",
    "    This function prints and plots the confusion matrix.\n",
    "    Normalization can be applied by setting `normalize=True`.\n",
    "    \"\"\"\n",
    "    plt.imshow(cm, interpolation='nearest', cmap=cmap)\n",
    "    plt.title(title)\n",
    "    plt.colorbar()\n",
    "    tick_marks = np.arange(len(classes))\n",
    "    plt.xticks(tick_marks, classes, rotation=0)\n",
    "    plt.yticks(tick_marks, classes)\n",
    "\n",
    "    if normalize:\n",
    "        cm = cm.astype('float') / cm.sum(axis=1)[:, np.newaxis]\n",
    "        print(\"Normalized confusion matrix\")\n",
    "    else:\n",
    "        print('Confusion matrix, without normalization')\n",
    "\n",
    "    print(cm)\n",
    "\n",
    "    thresh = cm.max() / 2.\n",
    "    for i, j in itertools.product(range(cm.shape[0]), range(cm.shape[1])):\n",
    "        plt.text(j, i, cm[i, j],\n",
    "                 horizontalalignment=\"center\",\n",
    "                 color=\"white\" if cm[i, j] > thresh else \"black\")\n",
    "\n",
    "    plt.tight_layout()\n",
    "    plt.ylabel('True label')\n",
    "    plt.xlabel('Predicted label')"
   ]
  },
  {
   "cell_type": "code",
   "execution_count": 431,
   "metadata": {
    "collapsed": false
   },
   "outputs": [
    {
     "name": "stdout",
     "output_type": "stream",
     "text": [
      "Confusion matrix, without normalization\n",
      "[[33  3  1]\n",
      " [ 3 18  6]\n",
      " [ 3  4 72]]\n",
      "Normalized confusion matrix\n",
      "[[ 0.89  0.08  0.03]\n",
      " [ 0.11  0.67  0.22]\n",
      " [ 0.04  0.05  0.91]]\n"
     ]
    },
    {
     "data": {
      "image/png": "[encoded data removed]",
      "text/plain": [
       "<matplotlib.figure.Figure at 0x11e10d748>"
      ]
     },
     "metadata": {
      "image/png": {
       "height": 297,
       "width": 329
      }
     },
     "output_type": "display_data"
    },
    {
     "data": {
      "image/png": "[encoded data removed]",
      "text/plain": [
       "<matplotlib.figure.Figure at 0x11e847630>"
      ]
     },
     "metadata": {
      "image/png": {
       "height": 297,
       "width": 329
      }
     },
     "output_type": "display_data"
    }
   ],
   "source": [
    "import itertools\n",
    "from sklearn.metrics import confusion_matrix\n",
    "\n",
    "plt.style.use('seaborn-white')\n",
    "class_names = np.unique(y)\n",
    "\n",
    "# Compute confusion matrix\n",
    "cnf_matrix = confusion_matrix(y_test, predictions)\n",
    "np.set_printoptions(precision=2)\n",
    "\n",
    "# Plot non-normalized confusion matrix\n",
    "plt.figure()\n",
    "plot_confusion_matrix(cnf_matrix, classes=class_names,\n",
    "                      title='Confusion matrix, without normalization')\n",
    "\n",
    "# Plot normalized confusion matrix\n",
    "plt.figure()\n",
    "plot_confusion_matrix(cnf_matrix, classes=class_names, normalize=True,\n",
    "                      title='Normalized confusion matrix')"
   ]
  },
  {
   "cell_type": "code",
   "execution_count": 469,
   "metadata": {
    "collapsed": false
   },
   "outputs": [
    {
     "data": {
      "text/plain": [
       "0.55244755244755239"
      ]
     },
     "execution_count": 469,
     "metadata": {},
     "output_type": "execute_result"
    }
   ],
   "source": [
    "from scipy.stats import mode\n",
    "(mode(y_test)[1] / len(y_test))[0]"
   ]
  },
  {
   "cell_type": "code",
   "execution_count": 482,
   "metadata": {
    "collapsed": false
   },
   "outputs": [
    {
     "ename": "TypeError",
     "evalue": "object of type 'int' has no len()",
     "output_type": "error",
     "traceback": [
      "\u001b[0;31m---------------------------------------------------------------------------\u001b[0m",
      "\u001b[0;31mTypeError\u001b[0m                                 Traceback (most recent call last)",
      "\u001b[0;32m<ipython-input-482-0f452bc55dce>\u001b[0m in \u001b[0;36m<module>\u001b[0;34m()\u001b[0m\n\u001b[1;32m      1\u001b[0m \u001b[0;32mfrom\u001b[0m \u001b[0msklearn\u001b[0m\u001b[0;34m.\u001b[0m\u001b[0mmetrics\u001b[0m \u001b[0;32mimport\u001b[0m \u001b[0mclassification_report\u001b[0m\u001b[0;34m\u001b[0m\u001b[0m\n\u001b[0;32m----> 2\u001b[0;31m \u001b[0mprint\u001b[0m\u001b[0;34m(\u001b[0m\u001b[0mclassification_report\u001b[0m\u001b[0;34m(\u001b[0m\u001b[0my_test\u001b[0m\u001b[0;34m,\u001b[0m \u001b[0mpredictions\u001b[0m\u001b[0;34m,\u001b[0m \u001b[0mtarget_names\u001b[0m\u001b[0;34m=\u001b[0m\u001b[0mclass_names\u001b[0m\u001b[0;34m.\u001b[0m\u001b[0mtolist\u001b[0m\u001b[0;34m(\u001b[0m\u001b[0;34m)\u001b[0m\u001b[0;34m)\u001b[0m\u001b[0;34m)\u001b[0m\u001b[0;34m\u001b[0m\u001b[0m\n\u001b[0m",
      "\u001b[0;32m/Users/alex/anaconda/envs/p3/lib/python3.5/site-packages/sklearn/metrics/classification.py\u001b[0m in \u001b[0;36mclassification_report\u001b[0;34m(y_true, y_pred, labels, target_names, sample_weight, digits)\u001b[0m\n\u001b[1;32m   1366\u001b[0m         \u001b[0mtarget_names\u001b[0m \u001b[0;34m=\u001b[0m \u001b[0;34m[\u001b[0m\u001b[0;34m'%s'\u001b[0m \u001b[0;34m%\u001b[0m \u001b[0ml\u001b[0m \u001b[0;32mfor\u001b[0m \u001b[0ml\u001b[0m \u001b[0;32min\u001b[0m \u001b[0mlabels\u001b[0m\u001b[0;34m]\u001b[0m\u001b[0;34m\u001b[0m\u001b[0m\n\u001b[1;32m   1367\u001b[0m     \u001b[0;32melse\u001b[0m\u001b[0;34m:\u001b[0m\u001b[0;34m\u001b[0m\u001b[0m\n\u001b[0;32m-> 1368\u001b[0;31m         \u001b[0mwidth\u001b[0m \u001b[0;34m=\u001b[0m \u001b[0mmax\u001b[0m\u001b[0;34m(\u001b[0m\u001b[0mlen\u001b[0m\u001b[0;34m(\u001b[0m\u001b[0mcn\u001b[0m\u001b[0;34m)\u001b[0m \u001b[0;32mfor\u001b[0m \u001b[0mcn\u001b[0m \u001b[0;32min\u001b[0m \u001b[0mtarget_names\u001b[0m\u001b[0;34m)\u001b[0m\u001b[0;34m\u001b[0m\u001b[0m\n\u001b[0m\u001b[1;32m   1369\u001b[0m         \u001b[0mwidth\u001b[0m \u001b[0;34m=\u001b[0m \u001b[0mmax\u001b[0m\u001b[0;34m(\u001b[0m\u001b[0mwidth\u001b[0m\u001b[0;34m,\u001b[0m \u001b[0mlen\u001b[0m\u001b[0;34m(\u001b[0m\u001b[0mlast_line_heading\u001b[0m\u001b[0;34m)\u001b[0m\u001b[0;34m,\u001b[0m \u001b[0mdigits\u001b[0m\u001b[0;34m)\u001b[0m\u001b[0;34m\u001b[0m\u001b[0m\n\u001b[1;32m   1370\u001b[0m \u001b[0;34m\u001b[0m\u001b[0m\n",
      "\u001b[0;32m/Users/alex/anaconda/envs/p3/lib/python3.5/site-packages/sklearn/metrics/classification.py\u001b[0m in \u001b[0;36m<genexpr>\u001b[0;34m(.0)\u001b[0m\n\u001b[1;32m   1366\u001b[0m         \u001b[0mtarget_names\u001b[0m \u001b[0;34m=\u001b[0m \u001b[0;34m[\u001b[0m\u001b[0;34m'%s'\u001b[0m \u001b[0;34m%\u001b[0m \u001b[0ml\u001b[0m \u001b[0;32mfor\u001b[0m \u001b[0ml\u001b[0m \u001b[0;32min\u001b[0m \u001b[0mlabels\u001b[0m\u001b[0;34m]\u001b[0m\u001b[0;34m\u001b[0m\u001b[0m\n\u001b[1;32m   1367\u001b[0m     \u001b[0;32melse\u001b[0m\u001b[0;34m:\u001b[0m\u001b[0;34m\u001b[0m\u001b[0m\n\u001b[0;32m-> 1368\u001b[0;31m         \u001b[0mwidth\u001b[0m \u001b[0;34m=\u001b[0m \u001b[0mmax\u001b[0m\u001b[0;34m(\u001b[0m\u001b[0mlen\u001b[0m\u001b[0;34m(\u001b[0m\u001b[0mcn\u001b[0m\u001b[0;34m)\u001b[0m \u001b[0;32mfor\u001b[0m \u001b[0mcn\u001b[0m \u001b[0;32min\u001b[0m \u001b[0mtarget_names\u001b[0m\u001b[0;34m)\u001b[0m\u001b[0;34m\u001b[0m\u001b[0m\n\u001b[0m\u001b[1;32m   1369\u001b[0m         \u001b[0mwidth\u001b[0m \u001b[0;34m=\u001b[0m \u001b[0mmax\u001b[0m\u001b[0;34m(\u001b[0m\u001b[0mwidth\u001b[0m\u001b[0;34m,\u001b[0m \u001b[0mlen\u001b[0m\u001b[0;34m(\u001b[0m\u001b[0mlast_line_heading\u001b[0m\u001b[0;34m)\u001b[0m\u001b[0;34m,\u001b[0m \u001b[0mdigits\u001b[0m\u001b[0;34m)\u001b[0m\u001b[0;34m\u001b[0m\u001b[0m\n\u001b[1;32m   1370\u001b[0m \u001b[0;34m\u001b[0m\u001b[0m\n",
      "\u001b[0;31mTypeError\u001b[0m: object of type 'int' has no len()"
     ]
    }
   ],
   "source": [
    "from sklearn.metrics import classification_report\n",
    "print(classification_report(y_test, predictions, target_names=class_names.tolist()))"
   ]
  },
  {
   "cell_type": "code",
   "execution_count": null,
   "metadata": {
    "collapsed": true
   },
   "outputs": [],
   "source": []
  },
  {
   "cell_type": "code",
   "execution_count": 485,
   "metadata": {
    "collapsed": false
   },
   "outputs": [
    {
     "data": {
      "text/plain": [
       "array([0, 2, 2, 0, 1, 2, 2, 2, 1, 0, 2, 2, 1, 2, 2, 2, 1, 0, 2, 2, 0, 2, 1,\n",
       "       0, 2, 0, 2, 2, 0, 2, 2, 0, 2, 0, 2, 2, 2, 0, 2, 1, 1, 2, 2, 2, 0, 0,\n",
       "       1, 1, 2, 2, 2, 2, 0, 2, 2, 0, 2, 2, 1, 1, 1, 0, 1, 0, 0, 1, 2, 2, 1,\n",
       "       1, 2, 0, 2, 2, 2, 2, 2, 2, 2, 1, 2, 2, 0, 1, 0, 2, 0, 2, 0, 2, 2, 0,\n",
       "       0, 2, 0, 1, 0, 2, 2, 0, 1, 2, 2, 1, 2, 0, 1, 2, 2, 2, 2, 0, 0, 1, 0,\n",
       "       2, 0, 0, 2, 0, 1, 2, 2, 2, 2, 2, 2, 0, 2, 2, 2, 0, 2, 1, 0, 2, 2, 0,\n",
       "       2, 2, 2, 2, 2])"
      ]
     },
     "execution_count": 485,
     "metadata": {},
     "output_type": "execute_result"
    }
   ],
   "source": [
    "predictions"
   ]
  },
  {
   "cell_type": "code",
   "execution_count": null,
   "metadata": {
    "collapsed": true
   },
   "outputs": [],
   "source": []
  }
 ],
 "metadata": {
  "anaconda-cloud": {},
  "kernelspec": {
   "display_name": "Python [p3]",
   "language": "python",
   "name": "Python [p3]"
  },
  "language_info": {
   "codemirror_mode": {
    "name": "ipython",
    "version": 3
   },
   "file_extension": ".py",
   "mimetype": "text/x-python",
   "name": "python",
   "nbconvert_exporter": "python",
   "pygments_lexer": "ipython3",
   "version": "3.5.2"
  }
 },
 "nbformat": 4,
 "nbformat_minor": 0
}
