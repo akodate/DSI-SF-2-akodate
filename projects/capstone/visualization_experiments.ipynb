{
 "cells": [
  {
   "cell_type": "code",
   "execution_count": 166,
   "metadata": {
    "collapsed": true
   },
   "outputs": [],
   "source": [
    "import pandas as pd\n",
    "import numpy as np\n",
    "# import sklearn.datasets\n",
    "from sklearn.preprocessing import LabelEncoder\n",
    "import autosklearn.classification\n",
    "import seaborn as sns\n",
    "import matplotlib.pyplot as plt\n",
    "\n",
    "%matplotlib inline\n",
    "%config InlineBackend.figure_format = 'retina'"
   ]
  },
  {
   "cell_type": "code",
   "execution_count": 167,
   "metadata": {
    "collapsed": false
   },
   "outputs": [],
   "source": [
    "# iris = sklearn.datasets.load_iris()\n",
    "\n",
    "# df = pd.read_csv('https://raw.githubusercontent.com/mwaskom/seaborn-data/master/attention.csv')\n",
    "df = pd.read_csv('https://raw.githubusercontent.com/mwaskom/seaborn-data/master/exercise.csv')\n",
    "target = 'kind'\n",
    "\n",
    "X = df.drop(target, axis=1)\n",
    "X = df.iloc[:, 2:5]\n",
    "y = df[target]"
   ]
  },
  {
   "cell_type": "code",
   "execution_count": 168,
   "metadata": {
    "collapsed": false
   },
   "outputs": [
    {
     "data": {
      "text/html": [
       "<div>\n",
       "<table border=\"1\" class=\"dataframe\">\n",
       "  <thead>\n",
       "    <tr style=\"text-align: right;\">\n",
       "      <th></th>\n",
       "      <th>Unnamed: 0</th>\n",
       "      <th>id</th>\n",
       "      <th>diet</th>\n",
       "      <th>pulse</th>\n",
       "      <th>time</th>\n",
       "      <th>kind</th>\n",
       "    </tr>\n",
       "  </thead>\n",
       "  <tbody>\n",
       "    <tr>\n",
       "      <th>0</th>\n",
       "      <td>0</td>\n",
       "      <td>1</td>\n",
       "      <td>low fat</td>\n",
       "      <td>85</td>\n",
       "      <td>1 min</td>\n",
       "      <td>rest</td>\n",
       "    </tr>\n",
       "    <tr>\n",
       "      <th>1</th>\n",
       "      <td>1</td>\n",
       "      <td>1</td>\n",
       "      <td>low fat</td>\n",
       "      <td>85</td>\n",
       "      <td>15 min</td>\n",
       "      <td>rest</td>\n",
       "    </tr>\n",
       "    <tr>\n",
       "      <th>2</th>\n",
       "      <td>2</td>\n",
       "      <td>1</td>\n",
       "      <td>low fat</td>\n",
       "      <td>88</td>\n",
       "      <td>30 min</td>\n",
       "      <td>rest</td>\n",
       "    </tr>\n",
       "    <tr>\n",
       "      <th>3</th>\n",
       "      <td>3</td>\n",
       "      <td>2</td>\n",
       "      <td>low fat</td>\n",
       "      <td>90</td>\n",
       "      <td>1 min</td>\n",
       "      <td>rest</td>\n",
       "    </tr>\n",
       "    <tr>\n",
       "      <th>4</th>\n",
       "      <td>4</td>\n",
       "      <td>2</td>\n",
       "      <td>low fat</td>\n",
       "      <td>92</td>\n",
       "      <td>15 min</td>\n",
       "      <td>rest</td>\n",
       "    </tr>\n",
       "  </tbody>\n",
       "</table>\n",
       "</div>"
      ],
      "text/plain": [
       "   Unnamed: 0  id     diet  pulse    time  kind\n",
       "0           0   1  low fat     85   1 min  rest\n",
       "1           1   1  low fat     85  15 min  rest\n",
       "2           2   1  low fat     88  30 min  rest\n",
       "3           3   2  low fat     90   1 min  rest\n",
       "4           4   2  low fat     92  15 min  rest"
      ]
     },
     "execution_count": 168,
     "metadata": {},
     "output_type": "execute_result"
    }
   ],
   "source": [
    "df.head()"
   ]
  },
  {
   "cell_type": "code",
   "execution_count": 169,
   "metadata": {
    "collapsed": false
   },
   "outputs": [
    {
     "data": {
      "text/plain": [
       "(90, 3)"
      ]
     },
     "execution_count": 169,
     "metadata": {},
     "output_type": "execute_result"
    }
   ],
   "source": [
    "X.shape"
   ]
  },
  {
   "cell_type": "code",
   "execution_count": 170,
   "metadata": {
    "collapsed": false
   },
   "outputs": [
    {
     "data": {
      "text/html": [
       "<div>\n",
       "<table border=\"1\" class=\"dataframe\">\n",
       "  <thead>\n",
       "    <tr style=\"text-align: right;\">\n",
       "      <th></th>\n",
       "      <th>diet</th>\n",
       "      <th>pulse</th>\n",
       "      <th>time</th>\n",
       "    </tr>\n",
       "  </thead>\n",
       "  <tbody>\n",
       "    <tr>\n",
       "      <th>0</th>\n",
       "      <td>low fat</td>\n",
       "      <td>85</td>\n",
       "      <td>1 min</td>\n",
       "    </tr>\n",
       "    <tr>\n",
       "      <th>1</th>\n",
       "      <td>low fat</td>\n",
       "      <td>85</td>\n",
       "      <td>15 min</td>\n",
       "    </tr>\n",
       "    <tr>\n",
       "      <th>2</th>\n",
       "      <td>low fat</td>\n",
       "      <td>88</td>\n",
       "      <td>30 min</td>\n",
       "    </tr>\n",
       "    <tr>\n",
       "      <th>3</th>\n",
       "      <td>low fat</td>\n",
       "      <td>90</td>\n",
       "      <td>1 min</td>\n",
       "    </tr>\n",
       "    <tr>\n",
       "      <th>4</th>\n",
       "      <td>low fat</td>\n",
       "      <td>92</td>\n",
       "      <td>15 min</td>\n",
       "    </tr>\n",
       "  </tbody>\n",
       "</table>\n",
       "</div>"
      ],
      "text/plain": [
       "      diet  pulse    time\n",
       "0  low fat     85   1 min\n",
       "1  low fat     85  15 min\n",
       "2  low fat     88  30 min\n",
       "3  low fat     90   1 min\n",
       "4  low fat     92  15 min"
      ]
     },
     "execution_count": 170,
     "metadata": {},
     "output_type": "execute_result"
    }
   ],
   "source": [
    "# df.head(3)\n",
    "X.head()"
   ]
  },
  {
   "cell_type": "code",
   "execution_count": 171,
   "metadata": {
    "collapsed": false
   },
   "outputs": [],
   "source": [
    "X['diet'] = LabelEncoder().fit_transform(X['diet'])\n",
    "X['time'] = LabelEncoder().fit_transform(X['time'])\n",
    "y = LabelEncoder().fit_transform(y)"
   ]
  },
  {
   "cell_type": "code",
   "execution_count": 173,
   "metadata": {
    "collapsed": false
   },
   "outputs": [
    {
     "data": {
      "text/html": [
       "<div>\n",
       "<table border=\"1\" class=\"dataframe\">\n",
       "  <thead>\n",
       "    <tr style=\"text-align: right;\">\n",
       "      <th></th>\n",
       "      <th>diet</th>\n",
       "      <th>pulse</th>\n",
       "      <th>time</th>\n",
       "    </tr>\n",
       "  </thead>\n",
       "  <tbody>\n",
       "    <tr>\n",
       "      <th>0</th>\n",
       "      <td>0</td>\n",
       "      <td>85</td>\n",
       "      <td>0</td>\n",
       "    </tr>\n",
       "    <tr>\n",
       "      <th>1</th>\n",
       "      <td>0</td>\n",
       "      <td>85</td>\n",
       "      <td>1</td>\n",
       "    </tr>\n",
       "    <tr>\n",
       "      <th>2</th>\n",
       "      <td>0</td>\n",
       "      <td>88</td>\n",
       "      <td>2</td>\n",
       "    </tr>\n",
       "    <tr>\n",
       "      <th>3</th>\n",
       "      <td>0</td>\n",
       "      <td>90</td>\n",
       "      <td>0</td>\n",
       "    </tr>\n",
       "    <tr>\n",
       "      <th>4</th>\n",
       "      <td>0</td>\n",
       "      <td>92</td>\n",
       "      <td>1</td>\n",
       "    </tr>\n",
       "  </tbody>\n",
       "</table>\n",
       "</div>"
      ],
      "text/plain": [
       "   diet  pulse  time\n",
       "0     0     85     0\n",
       "1     0     85     1\n",
       "2     0     88     2\n",
       "3     0     90     0\n",
       "4     0     92     1"
      ]
     },
     "execution_count": 173,
     "metadata": {},
     "output_type": "execute_result"
    }
   ],
   "source": [
    "X.head()"
   ]
  },
  {
   "cell_type": "code",
   "execution_count": 174,
   "metadata": {
    "collapsed": false
   },
   "outputs": [
    {
     "name": "stdout",
     "output_type": "stream",
     "text": [
      "Train/test split executed, test size = 0.2\n",
      "    diet  pulse  time\n",
      "9      0     80     0\n",
      "3      0     90     0\n",
      "87     1     99     0\n",
      "74     0    116     2\n",
      "43     0     96     1\n",
      "<class 'numpy.ndarray'> <class 'numpy.ndarray'>\n",
      "(72, 3) (72,)\n",
      "(18, 3) (18,)\n"
     ]
    }
   ],
   "source": [
    "def run_train_test_split(df, target):\n",
    "    from sklearn.cross_validation import train_test_split\n",
    "    test_size = 0.2\n",
    "    \n",
    "    print(\"Train/test split executed, test size =\", test_size)\n",
    "    return train_test_split(df, target, test_size=test_size)\n",
    "\n",
    "X_train, X_test, y_train, y_test = run_train_test_split(X, y)\n",
    "\n",
    "print(X_train[:5])\n",
    "\n",
    "X_train = np.ascontiguousarray(X_train)\n",
    "X_test = np.ascontiguousarray(X_test)\n",
    "\n",
    "print(type(X_train), type(y_train))\n",
    "print(X_train.shape, y_train.shape)\n",
    "print(X_test.shape, y_test.shape)"
   ]
  },
  {
   "cell_type": "code",
   "execution_count": 175,
   "metadata": {
    "collapsed": false
   },
   "outputs": [],
   "source": [
    "# X = np.ascontiguousarray(X)\n",
    "# X[0:5]"
   ]
  },
  {
   "cell_type": "code",
   "execution_count": 176,
   "metadata": {
    "collapsed": false
   },
   "outputs": [
    {
     "data": {
      "text/plain": [
       "array([[  0,  80,   0],\n",
       "       [  0,  90,   0],\n",
       "       [  1,  99,   0],\n",
       "       [  0, 116,   2],\n",
       "       [  0,  96,   1]])"
      ]
     },
     "execution_count": 176,
     "metadata": {},
     "output_type": "execute_result"
    }
   ],
   "source": [
    "X_train[:5]"
   ]
  },
  {
   "cell_type": "code",
   "execution_count": 177,
   "metadata": {
    "collapsed": false
   },
   "outputs": [
    {
     "data": {
      "text/plain": [
       "array([0, 0, 1, 1, 2])"
      ]
     },
     "execution_count": 177,
     "metadata": {},
     "output_type": "execute_result"
    }
   ],
   "source": [
    "y_train[:5]"
   ]
  },
  {
   "cell_type": "code",
   "execution_count": 178,
   "metadata": {
    "collapsed": false
   },
   "outputs": [
    {
     "data": {
      "text/plain": [
       "(90,)"
      ]
     },
     "execution_count": 178,
     "metadata": {},
     "output_type": "execute_result"
    }
   ],
   "source": [
    "y.shape"
   ]
  },
  {
   "cell_type": "code",
   "execution_count": 179,
   "metadata": {
    "collapsed": false
   },
   "outputs": [
    {
     "name": "stdout",
     "output_type": "stream",
     "text": [
      "[INFO] [2016-10-02 22:40:28,293:AutoML(1):70325cfb5d709144d4f468593e2e0ff5] Starting to create dummy predictions.\n",
      "[INFO] [2016-10-02 22:40:28,330:AutoML(1):70325cfb5d709144d4f468593e2e0ff5] Finished creating dummy prediction 1/2.\n",
      "[INFO] [2016-10-02 22:40:28,368:AutoML(1):70325cfb5d709144d4f468593e2e0ff5] Finished creating dummy prediction 2/2.\n",
      "[INFO] [2016-10-02 22:40:29,100:AutoML(1):70325cfb5d709144d4f468593e2e0ff5] Start Ensemble with  9.18sec time left\n",
      "[INFO] [2016-10-02 22:40:29,110:AutoML(1):70325cfb5d709144d4f468593e2e0ff5] Start SMAC with  9.17sec time left\n",
      "[ERROR] [2016-10-02 22:40:29,133:EnsembleBuilder(1):70325cfb5d709144d4f468593e2e0ff5] Model only predicts at random: /tmp/autosklearn_tmp_10947_6542/.auto-sklearn/predictions_ensemble/predictions_ensemble_1_00001.npy has score: 0.0\n",
      "[ERROR] [2016-10-02 22:40:29,137:EnsembleBuilder(1):70325cfb5d709144d4f468593e2e0ff5] Model only predicts at random: /tmp/autosklearn_tmp_10947_6542/.auto-sklearn/predictions_ensemble/predictions_ensemble_1_00002.npy has score: 0.0\n",
      "[INFO] [2016-10-02 22:40:29,138:AutoMLSMBO(1)::70325cfb5d709144d4f468593e2e0ff5] Training default configurations on a subset of 23/72 data points.\n",
      "[INFO] [2016-10-02 22:40:29,159:AutoMLSMBO(1)::70325cfb5d709144d4f468593e2e0ff5] Starting to evaluate 3 on SUBSET with size 23 and time limit 5s.\n",
      "[INFO] [2016-10-02 22:40:29,161:AutoMLSMBO(1)::70325cfb5d709144d4f468593e2e0ff5] Configuration:\n",
      "  balancing:strategy, Value: 'none'\n",
      "  classifier:__choice__, Value: 'random_forest'\n",
      "  classifier:random_forest:bootstrap, Value: 'True'\n",
      "  classifier:random_forest:criterion, Value: 'gini'\n",
      "  classifier:random_forest:max_depth, Constant: 'None'\n",
      "  classifier:random_forest:max_features, Value: 1.0\n",
      "  classifier:random_forest:max_leaf_nodes, Constant: 'None'\n",
      "  classifier:random_forest:min_samples_leaf, Value: 1\n",
      "  classifier:random_forest:min_samples_split, Value: 2\n",
      "  classifier:random_forest:min_weight_fraction_leaf, Constant: 0.0\n",
      "  classifier:random_forest:n_estimators, Constant: 100\n",
      "  imputation:strategy, Value: 'mean'\n",
      "  one_hot_encoding:minimum_fraction, Value: 0.01\n",
      "  one_hot_encoding:use_minimum_fraction, Value: 'True'\n",
      "  preprocessor:__choice__, Value: 'no_preprocessing'\n",
      "  rescaling:__choice__, Value: 'min/max'\n",
      "[INFO] [2016-10-02 22:40:29,161:EnsembleBuilder(1):70325cfb5d709144d4f468593e2e0ff5] Ensemble Selection:\n",
      "\tTrajectory: 0: 0.000000 1: 0.000000 2: 0.000000 3: 0.000000 4: 0.000000 5: 0.000000 6: 0.000000 7: 0.000000 8: 0.000000 9: 0.000000 10: 0.000000 11: 0.000000 12: 0.000000 13: 0.000000 14: 0.000000 15: 0.000000 16: 0.000000 17: 0.000000 18: 0.000000 19: 0.000000 20: 0.000000 21: 0.000000 22: 0.000000 23: 0.000000 24: 0.000000 25: 0.000000 26: 0.000000 27: 0.000000 28: 0.000000 29: 0.000000 30: 0.000000 31: 0.000000 32: 0.000000 33: 0.000000 34: 0.000000 35: 0.000000 36: 0.000000 37: 0.000000 38: 0.000000 39: 0.000000 40: 0.000000 41: 0.000000 42: 0.000000 43: 0.000000 44: 0.000000 45: 0.000000 46: 0.000000 47: 0.000000 48: 0.000000 49: 0.000000\n",
      "\tMembers: [0, 0, 0, 0, 0, 0, 0, 0, 0, 0, 0, 0, 0, 0, 0, 0, 0, 0, 0, 0, 0, 0, 0, 0, 0, 0, 0, 0, 0, 0, 0, 0, 0, 0, 0, 0, 0, 0, 0, 0, 0, 0, 0, 0, 0, 0, 0, 0, 0, 0]\n",
      "\tWeights: [ 1.  0.]\n",
      "\tIdentifiers: (1, 1)\n",
      "\n",
      "[INFO] [2016-10-02 22:40:29,168:EnsembleBuilder(1):70325cfb5d709144d4f468593e2e0ff5] Training performance: 0.000000\n",
      "[INFO] [2016-10-02 22:40:29,170:EnsembleBuilder(1):70325cfb5d709144d4f468593e2e0ff5] Building the ensemble took 0.038121 seconds\n",
      "[INFO] [2016-10-02 22:40:29,174:EnsembleBuilder(1):70325cfb5d709144d4f468593e2e0ff5] Could not find as many validation set predictions (0)as ensemble predictions (2)!.\n",
      "[INFO] [2016-10-02 22:40:29,176:EnsembleBuilder(1):70325cfb5d709144d4f468593e2e0ff5] Could not find as many test set predictions (0) as ensemble predictions (2)!\n",
      "[INFO] [2016-10-02 22:40:29,397:AutoMLSMBO(1)::70325cfb5d709144d4f468593e2e0ff5] Finished evaluating 3. configuration on SUBSET. Duration 0.193581; loss 0.687500; status 1; additional run info: ;duration: 0.19358086585998535;num_run:00003 \n",
      "[INFO] [2016-10-02 22:40:29,399:AutoMLSMBO(1)::70325cfb5d709144d4f468593e2e0ff5] Finished SUBSET training sucessfully with ratio 0.330000\n",
      "[INFO] [2016-10-02 22:40:29,402:AutoMLSMBO(1)::70325cfb5d709144d4f468593e2e0ff5] Starting to evaluate 4 on SUBSET with size 23 and time limit 5s.\n",
      "[INFO] [2016-10-02 22:40:29,404:AutoMLSMBO(1)::70325cfb5d709144d4f468593e2e0ff5] Configuration:\n",
      "  balancing:strategy, Value: 'weighting'\n",
      "  classifier:__choice__, Value: 'sgd'\n",
      "  classifier:sgd:alpha, Value: 0.0001\n",
      "  classifier:sgd:average, Value: 'True'\n",
      "  classifier:sgd:eta0, Value: 0.01\n",
      "  classifier:sgd:fit_intercept, Constant: 'True'\n",
      "  classifier:sgd:learning_rate, Value: 'optimal'\n",
      "  classifier:sgd:loss, Value: 'hinge'\n",
      "  classifier:sgd:n_iter, Value: 5\n",
      "  classifier:sgd:penalty, Value: 'l2'\n",
      "  imputation:strategy, Value: 'mean'\n",
      "  one_hot_encoding:minimum_fraction, Value: 0.1\n",
      "  one_hot_encoding:use_minimum_fraction, Value: 'True'\n",
      "  preprocessor:__choice__, Value: 'no_preprocessing'\n",
      "  rescaling:__choice__, Value: 'min/max'\n",
      "\n",
      "[INFO] [2016-10-02 22:40:29,467:AutoMLSMBO(1)::70325cfb5d709144d4f468593e2e0ff5] Finished evaluating 4. configuration on SUBSET. Duration 0.020828; loss 0.687500; status 1; additional run info: ;duration: 0.0208280086517334;num_run:00004 \n",
      "[INFO] [2016-10-02 22:40:29,470:AutoMLSMBO(1)::70325cfb5d709144d4f468593e2e0ff5] Finished SUBSET training sucessfully with ratio 0.330000\n",
      "[INFO] [2016-10-02 22:40:29,475:AutoMLSMBO(1)::70325cfb5d709144d4f468593e2e0ff5] Starting to evaluate 5 on SUBSET with size 23 and time limit 5s.\n",
      "[INFO] [2016-10-02 22:40:29,477:AutoMLSMBO(1)::70325cfb5d709144d4f468593e2e0ff5] Configuration:\n",
      "  balancing:strategy, Value: 'weighting'\n",
      "  classifier:__choice__, Value: 'extra_trees'\n",
      "  classifier:extra_trees:bootstrap, Value: 'False'\n",
      "  classifier:extra_trees:criterion, Value: 'gini'\n",
      "  classifier:extra_trees:max_depth, Constant: 'None'\n",
      "  classifier:extra_trees:max_features, Value: 1.0\n",
      "  classifier:extra_trees:min_samples_leaf, Value: 5\n",
      "  classifier:extra_trees:min_samples_split, Value: 5\n",
      "  classifier:extra_trees:min_weight_fraction_leaf, Constant: 0.0\n",
      "  classifier:extra_trees:n_estimators, Constant: 100\n",
      "  imputation:strategy, Value: 'mean'\n",
      "  one_hot_encoding:minimum_fraction, Value: 0.1\n",
      "  one_hot_encoding:use_minimum_fraction, Value: 'True'\n",
      "  preprocessor:__choice__, Value: 'select_percentile_classification'\n",
      "  preprocessor:select_percentile_classification:percentile, Value: 2.0\n",
      "  preprocessor:select_percentile_classification:score_func, Value: 'chi2'\n",
      "  rescaling:__choice__, Value: 'min/max'\n",
      "\n",
      "[INFO] [2016-10-02 22:40:29,699:AutoMLSMBO(1)::70325cfb5d709144d4f468593e2e0ff5] Finished evaluating 5. configuration on SUBSET. Duration 0.177001; loss 0.687500; status 1; additional run info: ;duration: 0.1770009994506836;num_run:00005 \n",
      "[INFO] [2016-10-02 22:40:29,703:AutoMLSMBO(1)::70325cfb5d709144d4f468593e2e0ff5] Finished SUBSET training sucessfully with ratio 0.330000\n",
      "[INFO] [2016-10-02 22:40:29,707:AutoMLSMBO(1)::70325cfb5d709144d4f468593e2e0ff5] Starting to evaluate 6 on SUBSET with size 23 and time limit 5s.\n",
      "[INFO] [2016-10-02 22:40:29,709:AutoMLSMBO(1)::70325cfb5d709144d4f468593e2e0ff5] Configuration:\n",
      "  balancing:strategy, Value: 'weighting'\n",
      "  classifier:__choice__, Value: 'gaussian_nb'\n",
      "  imputation:strategy, Value: 'mean'\n",
      "  one_hot_encoding:minimum_fraction, Value: 0.1\n",
      "  one_hot_encoding:use_minimum_fraction, Value: 'True'\n",
      "  preprocessor:__choice__, Value: 'no_preprocessing'\n",
      "  rescaling:__choice__, Value: 'standardize'\n",
      "\n",
      "[INFO] [2016-10-02 22:40:29,760:AutoMLSMBO(1)::70325cfb5d709144d4f468593e2e0ff5] Finished evaluating 6. configuration on SUBSET. Duration 0.011483; loss 0.687500; status 1; additional run info: ;duration: 0.011482954025268555;num_run:00006 \n",
      "[INFO] [2016-10-02 22:40:29,762:AutoMLSMBO(1)::70325cfb5d709144d4f468593e2e0ff5] Finished SUBSET training sucessfully with ratio 0.330000\n",
      "[INFO] [2016-10-02 22:40:29,764:AutoMLSMBO(1)::70325cfb5d709144d4f468593e2e0ff5] Metadata directory: /Users/alex/anaconda/envs/p3/lib/python3.5/site-packages/autosklearn/metalearning/files/acc_metric_multiclass.classification_dense\n",
      "[INFO] [2016-10-02 22:40:30,238:AutoMLSMBO(1)::70325cfb5d709144d4f468593e2e0ff5] Start calculating metafeatures for 70325cfb5d709144d4f468593e2e0ff5\n"
     ]
    },
    {
     "name": "stderr",
     "output_type": "stream",
     "text": [
      "/Users/alex/anaconda/envs/p3/lib/python3.5/site-packages/numpy/lib/nanfunctions.py:1147: RuntimeWarning: Degrees of freedom <= 0 for slice.\n",
      "  warnings.warn(\"Degrees of freedom <= 0 for slice.\", RuntimeWarning)\n",
      "/Users/alex/anaconda/envs/p3/lib/python3.5/site-packages/numpy/lib/nanfunctions.py:675: RuntimeWarning: Mean of empty slice\n",
      "  warnings.warn(\"Mean of empty slice\", RuntimeWarning)\n"
     ]
    },
    {
     "name": "stdout",
     "output_type": "stream",
     "text": [
      "[INFO] [2016-10-02 22:40:30,254:AutoMLSMBO(1)::70325cfb5d709144d4f468593e2e0ff5] Calculating Metafeatures (categorical attributes) took  0.02\n",
      "[INFO] [2016-10-02 22:40:30,287:AutoMLSMBO(1)::70325cfb5d709144d4f468593e2e0ff5] Calculating Metafeatures (encoded attributes) took  0.02sec\n"
     ]
    },
    {
     "name": "stderr",
     "output_type": "stream",
     "text": [
      "/Users/alex/anaconda/envs/p3/lib/python3.5/site-packages/sklearn/utils/validation.py:386: DeprecationWarning: Passing 1d arrays as data is deprecated in 0.17 and willraise ValueError in 0.19. Reshape your data either using X.reshape(-1, 1) if your data has a single feature or X.reshape(1, -1) if it contains a single sample.\n",
      "  DeprecationWarning)\n"
     ]
    },
    {
     "name": "stdout",
     "output_type": "stream",
     "text": [
      "[INFO] [2016-10-02 22:40:30,421:AutoMLSMBO(1)::70325cfb5d709144d4f468593e2e0ff5] Time left for 70325cfb5d709144d4f468593e2e0ff5 after finding initial configurations:  6.86sec\n",
      "[INFO] [2016-10-02 22:40:30,424:AutoMLSMBO(1)::70325cfb5d709144d4f468593e2e0ff5] Metafeatures for dataset 70325cfb5d709144d4f468593e2e0ff5uiaeo\n",
      "  SkewnessMean: 0.602455006042\n",
      "  PercentageOfMissingValues: 0.0\n",
      "  NumberOfMissingValues: 0.0\n",
      "  DatasetRatio: 0.041666666666666664\n",
      "  NumberOfClasses: 3.0\n",
      "  LogDatasetRatio: -3.17805383035\n",
      "  NumberOfInstancesWithMissingValues: 0.0\n",
      "  KurtosisMin: -1.97202797203\n",
      "  SymbolsMin: 0\n",
      "  SymbolsSum: 0.0\n",
      "  NumberOfCategoricalFeatures: 0\n",
      "  ClassProbabilityMean: 0.333333333333\n",
      "  RatioNominalToNumerical: 0.0\n",
      "  ClassProbabilitySTD: 0.0113402302907\n",
      "  SymbolsSTD: 0\n",
      "  NumberOfFeatures: 3.0\n",
      "  InverseDatasetRatio: 24.0\n",
      "  KurtosisSTD: 2.11361336151\n",
      "  SymbolsMean: 0\n",
      "  ClassEntropy: 1.58412736601\n",
      "  KurtosisMax: 2.7034156422\n",
      "  LogInverseDatasetRatio: 3.17805383035\n",
      "  RatioNumericalToNominal: 0.0\n",
      "  LogNumberOfFeatures: 1.09861228867\n",
      "  SkewnessMin: -6.16790569236e-18\n",
      "  ClassProbabilityMax: 0.3472222222222222\n",
      "  ClassProbabilityMin: 0.3194444444444444\n",
      "  LogNumberOfInstances: 4.27666611902\n",
      "  SymbolsMax: 0\n",
      "  KurtosisMean: -0.276204109942\n",
      "  LandmarkRandomNodeLearner: 0.604761904762\n",
      "  SkewnessSTD: 0.736907601523\n",
      "  NumberOfInstances: 72.0\n",
      "  PercentageOfFeaturesWithMissingValues: 0.0\n",
      "  SkewnessMax: 1.64011661613\n",
      "  NumberOfFeaturesWithMissingValues: 0.0\n",
      "  PercentageOfInstancesWithMissingValues: 0.0\n",
      "  NumberOfNumericFeatures: 3\n",
      "\n",
      "[INFO] [2016-10-02 22:40:30,431:AutoMLSMBO(1)::70325cfb5d709144d4f468593e2e0ff5] ['1128_acc', '1000_acc', '995_acc', '821_acc', '1142_acc', '1139_acc', '904_acc', '1056_acc', '6_acc', '823_acc', '913_acc', '740_acc', '718_acc', '914_acc', '398_acc', '953_acc', '44_acc', '3_acc', '991_acc', '273_acc', '1116_acc', '715_acc', '797_acc', '901_acc', '980_acc', '399_acc', '554_acc', '816_acc', '993_acc', '1050_acc', '930_acc', '772_acc', '897_acc', '395_acc', '934_acc', '60_acc', '910_acc', '903_acc', '26_acc', '38_acc', '1049_acc', '720_acc', '1068_acc', '1019_acc', '70325cfb5d709144d4f468593e2e0ff5uiaeo', '357_acc', '958_acc', '971_acc', '978_acc', '959_acc', '1112_acc', '1067_acc', '1040_acc', '1134_acc', '401_acc', '822_acc', '390_acc', '743_acc', '866_acc', '1161_acc', '1138_acc', '1119_acc', '849_acc', '813_acc', '1130_acc', '182_acc', '23_acc', '36_acc', '1166_acc', '1069_acc', '722_acc', '962_acc', '912_acc', '32_acc', '1053_acc', '734_acc', '1041_acc', '28_acc', '389_acc', '723_acc', '1111_acc', '727_acc', '16_acc', '22_acc', '1002_acc', '1036_acc', '180_acc', '31_acc', '1018_acc', '18_acc', '845_acc', '21_acc', '30_acc', '179_acc', '799_acc', '185_acc', '806_acc', '761_acc', '819_acc', '351_acc', '1114_acc', '354_acc', '24_acc', '396_acc', '1021_acc', '881_acc', '737_acc', '979_acc', '977_acc', '833_acc', '184_acc', '392_acc', '735_acc', '837_acc', '300_acc', '976_acc', '46_acc', '752_acc', '1146_acc', '923_acc', '391_acc', '741_acc', '966_acc', '847_acc', '807_acc', '871_acc', '393_acc', '728_acc', '293_acc', '917_acc', '751_acc', '14_acc', '57_acc', '803_acc', '843_acc', '679_acc', '181_acc', '846_acc', '12_acc', '1120_acc', '1020_acc']\n",
      "[ERROR] [2016-10-02 22:40:31,185:EnsembleBuilder(1):70325cfb5d709144d4f468593e2e0ff5] Model only predicts at random: /tmp/autosklearn_tmp_10947_6542/.auto-sklearn/predictions_ensemble/predictions_ensemble_1_00001.npy has score: 0.0\n",
      "[ERROR] [2016-10-02 22:40:31,187:EnsembleBuilder(1):70325cfb5d709144d4f468593e2e0ff5] Model only predicts at random: /tmp/autosklearn_tmp_10947_6542/.auto-sklearn/predictions_ensemble/predictions_ensemble_1_00002.npy has score: 0.0\n",
      "[INFO] [2016-10-02 22:40:31,210:EnsembleBuilder(1):70325cfb5d709144d4f468593e2e0ff5] Ensemble Selection:\n",
      "\tTrajectory: 0: 0.312500 1: 0.312500 2: 0.312500 3: 0.312500 4: 0.312500 5: 0.312500 6: 0.312500 7: 0.312500 8: 0.312500 9: 0.312500 10: 0.312500 11: 0.312500 12: 0.312500 13: 0.312500 14: 0.312500 15: 0.312500 16: 0.312500 17: 0.312500 18: 0.312500 19: 0.312500 20: 0.312500 21: 0.312500 22: 0.312500 23: 0.312500 24: 0.312500 25: 0.312500 26: 0.312500 27: 0.312500 28: 0.312500 29: 0.312500 30: 0.312500 31: 0.312500 32: 0.312500 33: 0.312500 34: 0.312500 35: 0.312500 36: 0.312500 37: 0.312500 38: 0.312500 39: 0.312500 40: 0.312500 41: 0.312500 42: 0.312500 43: 0.312500 44: 0.312500 45: 0.312500 46: 0.312500 47: 0.312500 48: 0.312500 49: 0.312500\n",
      "\tMembers: [0, 0, 0, 0, 0, 0, 0, 0, 0, 0, 0, 0, 0, 0, 0, 0, 0, 0, 0, 0, 0, 0, 0, 0, 0, 0, 0, 0, 0, 0, 0, 0, 0, 0, 0, 0, 0, 0, 0, 0, 0, 0, 0, 0, 0, 0, 0, 0, 0, 0]\n",
      "\tWeights: [ 1.  0.  0.  0.]\n",
      "\tIdentifiers: (1, 3)\n",
      "[INFO] [2016-10-02 22:40:31,213:EnsembleBuilder(1):70325cfb5d709144d4f468593e2e0ff5] Training performance: 0.312500\n",
      "[INFO] [2016-10-02 22:40:31,215:EnsembleBuilder(1):70325cfb5d709144d4f468593e2e0ff5] Building the ensemble took 0.030298 seconds\n",
      "[INFO] [2016-10-02 22:40:31,217:EnsembleBuilder(1):70325cfb5d709144d4f468593e2e0ff5] Could not find as many validation set predictions (0)as ensemble predictions (6)!.\n",
      "[INFO] [2016-10-02 22:40:31,219:EnsembleBuilder(1):70325cfb5d709144d4f468593e2e0ff5] Could not find as many test set predictions (0) as ensemble predictions (6)!\n",
      "[INFO] [2016-10-02 22:40:39,533:scenario] Output to /tmp/autosklearn_tmp_10947_6542\n"
     ]
    }
   ],
   "source": [
    "automl = autosklearn.classification.AutoSklearnClassifier(time_left_for_this_task=10, \n",
    "                                                          per_run_time_limit=1, \n",
    "                                                          ml_memory_limit=10000)\n",
    "automl.fit(X_train, y_train)\n",
    "# automl.fit(X, y)\n"
   ]
  },
  {
   "cell_type": "code",
   "execution_count": 180,
   "metadata": {
    "collapsed": false
   },
   "outputs": [
    {
     "name": "stdout",
     "output_type": "stream",
     "text": [
      "0.0833333333333\n"
     ]
    }
   ],
   "source": [
    "print(automl.score(X_test,y_test))"
   ]
  },
  {
   "cell_type": "code",
   "execution_count": 181,
   "metadata": {
    "collapsed": false
   },
   "outputs": [
    {
     "data": {
      "text/plain": [
       "array([0, 1, 2, 0, 0, 0, 0, 0, 0, 0, 0, 2, 1, 2, 2, 1, 1, 2])"
      ]
     },
     "execution_count": 181,
     "metadata": {},
     "output_type": "execute_result"
    }
   ],
   "source": [
    "predictions = automl.predict(X_test)\n",
    "# predictions = automl.predict(X)\n",
    "predictions"
   ]
  },
  {
   "cell_type": "code",
   "execution_count": 182,
   "metadata": {
    "collapsed": false
   },
   "outputs": [
    {
     "data": {
      "text/plain": [
       "array([[ 0.81      ,  0.02      ,  0.17      ],\n",
       "       [ 0.        ,  0.92      ,  0.08      ],\n",
       "       [ 0.44916667,  0.02      ,  0.53083333],\n",
       "       [ 0.74      ,  0.        ,  0.26      ],\n",
       "       [ 0.695     ,  0.01      ,  0.295     ]])"
      ]
     },
     "execution_count": 182,
     "metadata": {},
     "output_type": "execute_result"
    }
   ],
   "source": [
    "probas = automl.predict_proba(X_test)\n",
    "# probas = automl.predict_proba(X)\n",
    "probas[0:5, :]"
   ]
  },
  {
   "cell_type": "code",
   "execution_count": 187,
   "metadata": {
    "collapsed": true
   },
   "outputs": [],
   "source": [
    "def plot_confusion_matrix(cm, classes,\n",
    "                          normalize=False,\n",
    "                          title='Confusion matrix',\n",
    "                          cmap=plt.cm.Blues):\n",
    "    \"\"\"\n",
    "    This function prints and plots the confusion matrix.\n",
    "    Normalization can be applied by setting `normalize=True`.\n",
    "    \"\"\"\n",
    "    plt.imshow(cm, interpolation='nearest', cmap=cmap)\n",
    "    plt.title(title)\n",
    "    plt.colorbar()\n",
    "    tick_marks = np.arange(len(classes))\n",
    "    plt.xticks(tick_marks, classes, rotation=0)\n",
    "    plt.yticks(tick_marks, classes)\n",
    "\n",
    "    if normalize:\n",
    "        cm = cm.astype('float') / cm.sum(axis=1)[:, np.newaxis]\n",
    "        print(\"Normalized confusion matrix\")\n",
    "    else:\n",
    "        print('Confusion matrix, without normalization')\n",
    "\n",
    "    print(cm)\n",
    "\n",
    "    thresh = cm.max() / 2.\n",
    "    for i, j in itertools.product(range(cm.shape[0]), range(cm.shape[1])):\n",
    "        plt.text(j, i, cm[i, j],\n",
    "                 horizontalalignment=\"center\",\n",
    "                 color=\"white\" if cm[i, j] > thresh else \"black\")\n",
    "\n",
    "    plt.tight_layout()\n",
    "    plt.ylabel('True label')\n",
    "    plt.xlabel('Predicted label')"
   ]
  },
  {
   "cell_type": "code",
   "execution_count": 188,
   "metadata": {
    "collapsed": false
   },
   "outputs": [
    {
     "name": "stdout",
     "output_type": "stream",
     "text": [
      "Confusion matrix, without normalization\n",
      "[[3 0 4]\n",
      " [0 4 1]\n",
      " [6 0 0]]\n",
      "Normalized confusion matrix\n",
      "[[ 0.43  0.    0.57]\n",
      " [ 0.    0.8   0.2 ]\n",
      " [ 1.    0.    0.  ]]\n"
     ]
    },
    {
     "data": {
      "image/png": "[encoded data removed]",
      "text/plain": [
       "<matplotlib.figure.Figure at 0x10b9abd30>"
      ]
     },
     "metadata": {
      "image/png": {
       "height": 297,
       "width": 332
      }
     },
     "output_type": "display_data"
    },
    {
     "data": {
      "image/png": "[encoded data removed]",
      "text/plain": [
       "<matplotlib.figure.Figure at 0x11f87ea90>"
      ]
     },
     "metadata": {
      "image/png": {
       "height": 297,
       "width": 332
      }
     },
     "output_type": "display_data"
    }
   ],
   "source": [
    "import itertools\n",
    "from sklearn.metrics import confusion_matrix\n",
    "import seaborn as sns\n",
    "\n",
    "plt.style.use('seaborn-white')\n",
    "class_names = np.unique(y)\n",
    "\n",
    "# Compute confusion matrix\n",
    "cnf_matrix = confusion_matrix(y_test, predictions)\n",
    "np.set_printoptions(precision=2)\n",
    "\n",
    "# Plot non-normalized confusion matrix\n",
    "plt.figure()\n",
    "plot_confusion_matrix(cnf_matrix, classes=class_names,\n",
    "                      title='Confusion matrix, without normalization')\n",
    "\n",
    "# Plot normalized confusion matrix\n",
    "plt.figure()\n",
    "plot_confusion_matrix(cnf_matrix, classes=class_names, normalize=True,\n",
    "                      title='Normalized confusion matrix')"
   ]
  },
  {
   "cell_type": "code",
   "execution_count": null,
   "metadata": {
    "collapsed": true
   },
   "outputs": [],
   "source": []
  }
 ],
 "metadata": {
  "anaconda-cloud": {},
  "kernelspec": {
   "display_name": "Python [p3]",
   "language": "python",
   "name": "Python [p3]"
  },
  "language_info": {
   "codemirror_mode": {
    "name": "ipython",
    "version": 3
   },
   "file_extension": ".py",
   "mimetype": "text/x-python",
   "name": "python",
   "nbconvert_exporter": "python",
   "pygments_lexer": "ipython3",
   "version": "3.5.2"
  }
 },
 "nbformat": 4,
 "nbformat_minor": 0
}
