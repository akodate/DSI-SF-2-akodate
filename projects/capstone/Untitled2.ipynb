{
 "cells": [
  {
   "cell_type": "code",
   "execution_count": 2,
   "metadata": {
    "collapsed": false
   },
   "outputs": [
    {
     "name": "stdout",
     "output_type": "stream",
     "text": [
      "[INFO] [2016-09-10 20:55:07,188:AutoML(1):acbaa859d43c7044f1e84f90353c03a9] Starting to create dummy predictions.\n"
     ]
    },
    {
     "name": "stderr",
     "output_type": "stream",
     "text": [
      "/Users/alex/anaconda/envs/p3/lib/python3.5/site-packages/ipykernel/__main__.py:11: VisibleDeprecationWarning: using a non-integer number instead of an integer will result in an error in the future\n",
      "/Users/alex/anaconda/envs/p3/lib/python3.5/site-packages/ipykernel/__main__.py:12: VisibleDeprecationWarning: using a non-integer number instead of an integer will result in an error in the future\n",
      "/Users/alex/anaconda/envs/p3/lib/python3.5/site-packages/ipykernel/__main__.py:13: VisibleDeprecationWarning: using a non-integer number instead of an integer will result in an error in the future\n",
      "/Users/alex/anaconda/envs/p3/lib/python3.5/site-packages/ipykernel/__main__.py:14: VisibleDeprecationWarning: using a non-integer number instead of an integer will result in an error in the future\n"
     ]
    },
    {
     "name": "stdout",
     "output_type": "stream",
     "text": [
      "[INFO] [2016-09-10 20:55:07,213:AutoML(1):acbaa859d43c7044f1e84f90353c03a9] Finished creating dummy prediction 1/2.\n",
      "[INFO] [2016-09-10 20:55:07,238:AutoML(1):acbaa859d43c7044f1e84f90353c03a9] Finished creating dummy prediction 2/2.\n",
      "[INFO] [2016-09-10 20:55:07,905:AutoML(1):acbaa859d43c7044f1e84f90353c03a9] Start Ensemble with 29.27sec time left\n",
      "[INFO] [2016-09-10 20:55:07,914:AutoML(1):acbaa859d43c7044f1e84f90353c03a9] Start SMAC with 29.27sec time left\n",
      "[ERROR] [2016-09-10 20:55:07,930:EnsembleBuilder(1):acbaa859d43c7044f1e84f90353c03a9] Model only predicts at random: /tmp/autosklearn_tmp_20724_9292/.auto-sklearn/predictions_ensemble/predictions_ensemble_1_00001.npy has score: -0.05\n",
      "[INFO] [2016-09-10 20:55:07,934:AutoMLSMBO(1)::acbaa859d43c7044f1e84f90353c03a9] Training default configurations on a subset of 39/120 data points.\n",
      "[INFO] [2016-09-10 20:55:07,936:EnsembleBuilder(1):acbaa859d43c7044f1e84f90353c03a9] Ensemble Selection:\n",
      "\tTrajectory: 0: 0.062500\n",
      "\tMembers: [0]\n",
      "\tWeights: [ 1.]\n",
      "\tIdentifiers: (1, 2)\n",
      "[INFO] [2016-09-10 20:55:07,942:EnsembleBuilder(1):acbaa859d43c7044f1e84f90353c03a9] Training performance: 0.062500\n",
      "[INFO] [2016-09-10 20:55:07,944:EnsembleBuilder(1):acbaa859d43c7044f1e84f90353c03a9] Building the ensemble took 0.014328 seconds\n",
      "[INFO] [2016-09-10 20:55:07,947:EnsembleBuilder(1):acbaa859d43c7044f1e84f90353c03a9] Could not find as many validation set predictions (0)as ensemble predictions (2)!.\n",
      "[INFO] [2016-09-10 20:55:07,949:AutoMLSMBO(1)::acbaa859d43c7044f1e84f90353c03a9] Starting to evaluate 3 on SUBSET with size 39 and time limit 5s.\n",
      "[INFO] [2016-09-10 20:55:07,949:EnsembleBuilder(1):acbaa859d43c7044f1e84f90353c03a9] Could not find as many test set predictions (0) as ensemble predictions (2)!\n",
      "[INFO] [2016-09-10 20:55:07,951:AutoMLSMBO(1)::acbaa859d43c7044f1e84f90353c03a9] Configuration:\n",
      "  balancing:strategy, Value: 'none'\n",
      "  classifier:__choice__, Value: 'random_forest'\n",
      "  classifier:random_forest:bootstrap, Value: 'True'\n",
      "  classifier:random_forest:criterion, Value: 'gini'\n",
      "  classifier:random_forest:max_depth, Constant: 'None'\n",
      "  classifier:random_forest:max_features, Value: 1.0\n",
      "  classifier:random_forest:max_leaf_nodes, Constant: 'None'\n",
      "  classifier:random_forest:min_samples_leaf, Value: 1\n",
      "  classifier:random_forest:min_samples_split, Value: 2\n",
      "  classifier:random_forest:min_weight_fraction_leaf, Constant: 0.0\n",
      "  classifier:random_forest:n_estimators, Constant: 100\n",
      "  imputation:strategy, Value: 'mean'\n",
      "  one_hot_encoding:minimum_fraction, Value: 0.01\n",
      "  one_hot_encoding:use_minimum_fraction, Value: 'True'\n",
      "  preprocessor:__choice__, Value: 'no_preprocessing'\n",
      "  rescaling:__choice__, Value: 'min/max'\n",
      "\n",
      "[INFO] [2016-09-10 20:55:08,211:AutoMLSMBO(1)::acbaa859d43c7044f1e84f90353c03a9] Finished evaluating 3. configuration on SUBSET. Duration 0.227297; loss 0.037500; status 1; additional run info: ;duration: 0.22729706764221191;num_run:00003 \n",
      "[INFO] [2016-09-10 20:55:08,214:AutoMLSMBO(1)::acbaa859d43c7044f1e84f90353c03a9] Finished SUBSET training sucessfully with ratio 0.330000\n",
      "[INFO] [2016-09-10 20:55:08,217:AutoMLSMBO(1)::acbaa859d43c7044f1e84f90353c03a9] Starting to evaluate 4 on SUBSET with size 39 and time limit 5s.\n",
      "[INFO] [2016-09-10 20:55:08,219:AutoMLSMBO(1)::acbaa859d43c7044f1e84f90353c03a9] Configuration:\n",
      "  balancing:strategy, Value: 'weighting'\n",
      "  classifier:__choice__, Value: 'sgd'\n",
      "  classifier:sgd:alpha, Value: 0.0001\n",
      "  classifier:sgd:average, Value: 'True'\n",
      "  classifier:sgd:eta0, Value: 0.01\n",
      "  classifier:sgd:fit_intercept, Constant: 'True'\n",
      "  classifier:sgd:learning_rate, Value: 'optimal'\n",
      "  classifier:sgd:loss, Value: 'hinge'\n",
      "  classifier:sgd:n_iter, Value: 5\n",
      "  classifier:sgd:penalty, Value: 'l2'\n",
      "  imputation:strategy, Value: 'mean'\n",
      "  one_hot_encoding:minimum_fraction, Value: 0.1\n",
      "  one_hot_encoding:use_minimum_fraction, Value: 'True'\n",
      "  preprocessor:__choice__, Value: 'no_preprocessing'\n",
      "  rescaling:__choice__, Value: 'min/max'\n",
      "\n",
      "[INFO] [2016-09-10 20:55:08,333:AutoMLSMBO(1)::acbaa859d43c7044f1e84f90353c03a9] Finished evaluating 4. configuration on SUBSET. Duration 0.088679; loss 0.375000; status 1; additional run info: ;duration: 0.08867883682250977;num_run:00004 \n",
      "[INFO] [2016-09-10 20:55:08,335:AutoMLSMBO(1)::acbaa859d43c7044f1e84f90353c03a9] Finished SUBSET training sucessfully with ratio 0.330000\n",
      "[INFO] [2016-09-10 20:55:08,337:AutoMLSMBO(1)::acbaa859d43c7044f1e84f90353c03a9] Starting to evaluate 5 on SUBSET with size 39 and time limit 5s.\n",
      "[INFO] [2016-09-10 20:55:08,339:AutoMLSMBO(1)::acbaa859d43c7044f1e84f90353c03a9] Configuration:\n",
      "  balancing:strategy, Value: 'weighting'\n",
      "  classifier:__choice__, Value: 'extra_trees'\n",
      "  classifier:extra_trees:bootstrap, Value: 'False'\n",
      "  classifier:extra_trees:criterion, Value: 'gini'\n",
      "  classifier:extra_trees:max_depth, Constant: 'None'\n",
      "  classifier:extra_trees:max_features, Value: 1.0\n",
      "  classifier:extra_trees:min_samples_leaf, Value: 5\n",
      "  classifier:extra_trees:min_samples_split, Value: 5\n",
      "  classifier:extra_trees:min_weight_fraction_leaf, Constant: 0.0\n",
      "  classifier:extra_trees:n_estimators, Constant: 100\n",
      "  imputation:strategy, Value: 'mean'\n",
      "  one_hot_encoding:minimum_fraction, Value: 0.1\n",
      "  one_hot_encoding:use_minimum_fraction, Value: 'True'\n",
      "  preprocessor:__choice__, Value: 'select_percentile_classification'\n",
      "  preprocessor:select_percentile_classification:percentile, Value: 2.0\n",
      "  preprocessor:select_percentile_classification:score_func, Value: 'chi2'\n",
      "  rescaling:__choice__, Value: 'min/max'\n",
      "\n",
      "[INFO] [2016-09-10 20:55:08,568:AutoMLSMBO(1)::acbaa859d43c7044f1e84f90353c03a9] Finished evaluating 5. configuration on SUBSET. Duration 0.196955; loss 0.000000; status 1; additional run info: ;duration: 0.19695520401000977;num_run:00005 \n",
      "[INFO] [2016-09-10 20:55:08,571:AutoMLSMBO(1)::acbaa859d43c7044f1e84f90353c03a9] Finished SUBSET training sucessfully with ratio 0.330000\n",
      "[INFO] [2016-09-10 20:55:08,573:AutoMLSMBO(1)::acbaa859d43c7044f1e84f90353c03a9] Starting to evaluate 6 on SUBSET with size 39 and time limit 5s.\n",
      "[INFO] [2016-09-10 20:55:08,575:AutoMLSMBO(1)::acbaa859d43c7044f1e84f90353c03a9] Configuration:\n",
      "  balancing:strategy, Value: 'weighting'\n",
      "  classifier:__choice__, Value: 'gaussian_nb'\n",
      "  imputation:strategy, Value: 'mean'\n",
      "  one_hot_encoding:minimum_fraction, Value: 0.1\n",
      "  one_hot_encoding:use_minimum_fraction, Value: 'True'\n",
      "  preprocessor:__choice__, Value: 'no_preprocessing'\n",
      "  rescaling:__choice__, Value: 'standardize'\n",
      "\n",
      "[INFO] [2016-09-10 20:55:08,614:AutoMLSMBO(1)::acbaa859d43c7044f1e84f90353c03a9] Finished evaluating 6. configuration on SUBSET. Duration 0.011991; loss 0.037500; status 1; additional run info: ;duration: 0.011991024017333984;num_run:00006 \n",
      "[INFO] [2016-09-10 20:55:08,616:AutoMLSMBO(1)::acbaa859d43c7044f1e84f90353c03a9] Finished SUBSET training sucessfully with ratio 0.330000\n",
      "[INFO] [2016-09-10 20:55:08,619:AutoMLSMBO(1)::acbaa859d43c7044f1e84f90353c03a9] Metadata directory: /Users/alex/anaconda/envs/p3/lib/python3.5/site-packages/autosklearn/metalearning/files/acc_metric_multiclass.classification_dense\n",
      "[INFO] [2016-09-10 20:55:09,035:AutoMLSMBO(1)::acbaa859d43c7044f1e84f90353c03a9] Start calculating metafeatures for acbaa859d43c7044f1e84f90353c03a9\n"
     ]
    },
    {
     "name": "stderr",
     "output_type": "stream",
     "text": [
      "/Users/alex/anaconda/envs/p3/lib/python3.5/site-packages/numpy/lib/nanfunctions.py:1147: RuntimeWarning: Degrees of freedom <= 0 for slice.\n",
      "  warnings.warn(\"Degrees of freedom <= 0 for slice.\", RuntimeWarning)\n",
      "/Users/alex/anaconda/envs/p3/lib/python3.5/site-packages/numpy/lib/nanfunctions.py:675: RuntimeWarning: Mean of empty slice\n",
      "  warnings.warn(\"Mean of empty slice\", RuntimeWarning)\n"
     ]
    },
    {
     "name": "stdout",
     "output_type": "stream",
     "text": [
      "[INFO] [2016-09-10 20:55:09,051:AutoMLSMBO(1)::acbaa859d43c7044f1e84f90353c03a9] Calculating Metafeatures (categorical attributes) took  0.02\n",
      "[INFO] [2016-09-10 20:55:09,095:AutoMLSMBO(1)::acbaa859d43c7044f1e84f90353c03a9] Calculating Metafeatures (encoded attributes) took  0.03sec\n"
     ]
    },
    {
     "name": "stderr",
     "output_type": "stream",
     "text": [
      "/Users/alex/anaconda/envs/p3/lib/python3.5/site-packages/sklearn/utils/validation.py:386: DeprecationWarning: Passing 1d arrays as data is deprecated in 0.17 and willraise ValueError in 0.19. Reshape your data either using X.reshape(-1, 1) if your data has a single feature or X.reshape(1, -1) if it contains a single sample.\n",
      "  DeprecationWarning)\n"
     ]
    },
    {
     "name": "stdout",
     "output_type": "stream",
     "text": [
      "[INFO] [2016-09-10 20:55:09,205:AutoMLSMBO(1)::acbaa859d43c7044f1e84f90353c03a9] Time left for acbaa859d43c7044f1e84f90353c03a9 after finding initial configurations: 26.97sec\n",
      "[INFO] [2016-09-10 20:55:09,207:AutoMLSMBO(1)::acbaa859d43c7044f1e84f90353c03a9] Metafeatures for dataset acbaa859d43c7044f1e84f90353c03a9uiaeo\n",
      "  KurtosisSTD: 0.649675618659\n",
      "  PercentageOfInstancesWithMissingValues: 0.0\n",
      "  SymbolsMean: 0\n",
      "  ClassProbabilityMax: 0.36666666666666664\n",
      "  LogNumberOfInstances: 4.78749174278\n",
      "  ClassProbabilitySTD: 0.0245326690731\n",
      "  NumberOfNumericFeatures: 4\n",
      "  SymbolsMin: 0\n",
      "  SymbolsMax: 0\n",
      "  SkewnessMean: 0.043660430298\n",
      "  PercentageOfFeaturesWithMissingValues: 0.0\n",
      "  KurtosisMean: -0.654832035174\n",
      "  SymbolsSTD: 0\n",
      "  PercentageOfMissingValues: 0.0\n",
      "  SymbolsSum: 0.0\n",
      "  KurtosisMin: -1.28586798815\n",
      "  RatioNumericalToNominal: 0.0\n",
      "  RatioNominalToNumerical: 0.0\n",
      "  SkewnessMin: -0.338818172286\n",
      "  LogNumberOfFeatures: 1.38629436112\n",
      "  LandmarkRandomNodeLearner: 0.597400932401\n",
      "  ClassProbabilityMean: 0.333333333333\n",
      "  DatasetRatio: 0.03333333333333333\n",
      "  NumberOfInstancesWithMissingValues: 0.0\n",
      "  ClassProbabilityMin: 0.30833333333333335\n",
      "  InverseDatasetRatio: 30.0\n",
      "  SkewnessSTD: 0.30601322706\n",
      "  LogInverseDatasetRatio: 3.40119738166\n",
      "  NumberOfCategoricalFeatures: 0\n",
      "  ClassEntropy: 1.58109515991\n",
      "  NumberOfMissingValues: 0.0\n",
      "  NumberOfFeatures: 4.0\n",
      "  NumberOfClasses: 3.0\n",
      "  LogDatasetRatio: -3.40119738166\n",
      "  NumberOfInstances: 120.0\n",
      "  NumberOfFeaturesWithMissingValues: 0.0\n",
      "  SkewnessMax: 0.347561847007\n",
      "  KurtosisMax: 0.283515131642\n",
      "\n",
      "[INFO] [2016-09-10 20:55:09,213:AutoMLSMBO(1)::acbaa859d43c7044f1e84f90353c03a9] ['978_acc', '979_acc', '1116_acc', '1161_acc', '1114_acc', '395_acc', '30_acc', '1049_acc', '953_acc', '901_acc', '1041_acc', '799_acc', '728_acc', '913_acc', '866_acc', '679_acc', '38_acc', '743_acc', '1056_acc', '21_acc', '184_acc', '934_acc', '1067_acc', '32_acc', '914_acc', '871_acc', '1050_acc', '819_acc', '837_acc', '26_acc', '727_acc', '1036_acc', '399_acc', '1040_acc', '23_acc', '354_acc', '398_acc', '1020_acc', '6_acc', '179_acc', '962_acc', '1166_acc', '60_acc', '554_acc', '1128_acc', '24_acc', '1130_acc', '897_acc', '822_acc', '1018_acc', '813_acc', '182_acc', '904_acc', '821_acc', '803_acc', '723_acc', '36_acc', '273_acc', '912_acc', '1111_acc', '1053_acc', '843_acc', '3_acc', '846_acc', '903_acc', '980_acc', '46_acc', '823_acc', '1021_acc', '12_acc', '293_acc', '1146_acc', '31_acc', '971_acc', '1000_acc', '1120_acc', '389_acc', '1069_acc', '22_acc', '993_acc', '959_acc', '181_acc', '1134_acc', '390_acc', '357_acc', '720_acc', 'acbaa859d43c7044f1e84f90353c03a9uiaeo', '185_acc', '737_acc', '722_acc', '849_acc', '16_acc', '57_acc', '300_acc', '881_acc', '180_acc', '715_acc', '966_acc', '735_acc', '14_acc', '1002_acc', '391_acc', '44_acc', '734_acc', '28_acc', '1138_acc', '1119_acc', '1139_acc', '923_acc', '845_acc', '807_acc', '718_acc', '752_acc', '995_acc', '18_acc', '396_acc', '761_acc', '1112_acc', '806_acc', '847_acc', '910_acc', '1142_acc', '392_acc', '991_acc', '816_acc', '958_acc', '351_acc', '917_acc', '797_acc', '751_acc', '772_acc', '1068_acc', '1019_acc', '833_acc', '740_acc', '393_acc', '930_acc', '976_acc', '741_acc', '401_acc', '977_acc']\n",
      "[ERROR] [2016-09-10 20:55:09,956:EnsembleBuilder(1):acbaa859d43c7044f1e84f90353c03a9] Model only predicts at random: /tmp/autosklearn_tmp_20724_9292/.auto-sklearn/predictions_ensemble/predictions_ensemble_1_00001.npy has score: -0.05\n",
      "[INFO] [2016-09-10 20:55:09,990:EnsembleBuilder(1):acbaa859d43c7044f1e84f90353c03a9] Ensemble Selection:\n",
      "\tTrajectory: 0: 1.000000 1: 1.000000 2: 1.000000 3: 1.000000 4: 1.000000 5: 1.000000 6: 1.000000 7: 1.000000 8: 1.000000 9: 1.000000 10: 1.000000 11: 1.000000 12: 1.000000 13: 1.000000 14: 1.000000 15: 1.000000 16: 1.000000 17: 1.000000 18: 1.000000 19: 1.000000 20: 1.000000 21: 1.000000 22: 1.000000 23: 1.000000 24: 1.000000 25: 1.000000 26: 1.000000 27: 1.000000 28: 1.000000 29: 1.000000 30: 1.000000 31: 1.000000 32: 1.000000 33: 1.000000 34: 1.000000 35: 1.000000 36: 1.000000 37: 1.000000 38: 1.000000 39: 1.000000 40: 1.000000 41: 1.000000 42: 1.000000 43: 1.000000 44: 1.000000 45: 1.000000 46: 1.000000 47: 1.000000 48: 1.000000 49: 1.000000\n",
      "\tMembers: [3, 1, 1, 1, 1, 1, 1, 1, 3, 1, 1, 1, 1, 1, 1, 1, 1, 3, 1, 1, 1, 1, 1, 1, 1, 1, 3, 1, 1, 1, 1, 1, 1, 1, 1, 3, 1, 1, 1, 1, 1, 1, 1, 1, 3, 1, 1, 1, 1, 1]\n",
      "\tWeights: [ 0.    0.88  0.    0.12  0.  ]\n",
      "\tIdentifiers: (1, 3) (1, 5)\n",
      "[INFO] [2016-09-10 20:55:09,994:EnsembleBuilder(1):acbaa859d43c7044f1e84f90353c03a9] Training performance: 1.000000\n",
      "[INFO] [2016-09-10 20:55:09,996:EnsembleBuilder(1):acbaa859d43c7044f1e84f90353c03a9] Building the ensemble took 0.039962 seconds\n",
      "[INFO] [2016-09-10 20:55:09,998:EnsembleBuilder(1):acbaa859d43c7044f1e84f90353c03a9] Could not find as many validation set predictions (0)as ensemble predictions (6)!.\n",
      "[INFO] [2016-09-10 20:55:10,000:EnsembleBuilder(1):acbaa859d43c7044f1e84f90353c03a9] Could not find as many test set predictions (0) as ensemble predictions (6)!\n",
      "[INFO] [2016-09-10 20:55:17,695:scenario] Output to /tmp/autosklearn_tmp_20724_9292\n"
     ]
    },
    {
     "name": "stderr",
     "output_type": "stream",
     "text": [
      "Process pynisher function call:\n",
      "  File \"/Users/alex/anaconda/envs/p3/lib/python3.5/multiprocessing/process.py\", line 249, in _bootstrap\n",
      "    self.run()\n",
      "Process pynisher function call:\n",
      "Traceback (most recent call last):\n",
      "Traceback (most recent call last):\n",
      "  File \"/Users/alex/anaconda/envs/p3/lib/python3.5/multiprocessing/process.py\", line 249, in _bootstrap\n",
      "    self.run()\n",
      "  File \"/Users/alex/anaconda/envs/p3/lib/python3.5/multiprocessing/process.py\", line 93, in run\n",
      "    self._target(*self._args, **self._kwargs)\n",
      "  File \"/Users/alex/anaconda/envs/p3/lib/python3.5/multiprocessing/process.py\", line 93, in run\n",
      "    self._target(*self._args, **self._kwargs)\n",
      "  File \"/Users/alex/anaconda/envs/p3/lib/python3.5/site-packages/pynisher/limit_function_call.py\", line 83, in subprocess_func\n",
      "    return_value = ((func(*args, **kwargs), 0))\n",
      "  File \"/Users/alex/anaconda/envs/p3/lib/python3.5/site-packages/pynisher/limit_function_call.py\", line 83, in subprocess_func\n",
      "    return_value = ((func(*args, **kwargs), 0))\n",
      "  File \"/Users/alex/anaconda/envs/p3/lib/python3.5/site-packages/autosklearn/ensemble_builder.py\", line 145, in main\n",
      "    time.sleep(2)\n",
      "  File \"/Users/alex/anaconda/envs/p3/lib/python3.5/site-packages/autosklearn/smbo.py\", line 808, in run_smbo\n",
      "    X_meta, Y_meta = rh2EPM.transform(meta_runhistory)\n"
     ]
    },
    {
     "ename": "KeyboardInterrupt",
     "evalue": "",
     "output_type": "error",
     "traceback": [
      "\u001b[0;31m---------------------------------------------------------------------------\u001b[0m",
      "\u001b[0;31mKeyboardInterrupt\u001b[0m                         Traceback (most recent call last)",
      "\u001b[0;32m<ipython-input-2-a2a4e54902ee>\u001b[0m in \u001b[0;36m<module>\u001b[0;34m()\u001b[0m\n\u001b[1;32m     14\u001b[0m \u001b[0my_test\u001b[0m \u001b[0;34m=\u001b[0m \u001b[0my\u001b[0m\u001b[0;34m[\u001b[0m\u001b[0;34m(\u001b[0m\u001b[0mlen\u001b[0m\u001b[0;34m(\u001b[0m\u001b[0my\u001b[0m\u001b[0;34m)\u001b[0m \u001b[0;34m*\u001b[0m \u001b[0;36m.8\u001b[0m\u001b[0;34m)\u001b[0m\u001b[0;34m:\u001b[0m\u001b[0;34m]\u001b[0m\u001b[0;34m\u001b[0m\u001b[0m\n\u001b[1;32m     15\u001b[0m \u001b[0mautoml\u001b[0m \u001b[0;34m=\u001b[0m \u001b[0mautosklearn\u001b[0m\u001b[0;34m.\u001b[0m\u001b[0mclassification\u001b[0m\u001b[0;34m.\u001b[0m\u001b[0mAutoSklearnClassifier\u001b[0m\u001b[0;34m(\u001b[0m\u001b[0mtime_left_for_this_task\u001b[0m\u001b[0;34m=\u001b[0m\u001b[0;36m30\u001b[0m\u001b[0;34m,\u001b[0m \u001b[0mper_run_time_limit\u001b[0m\u001b[0;34m=\u001b[0m\u001b[0;36m3\u001b[0m\u001b[0;34m)\u001b[0m\u001b[0;34m\u001b[0m\u001b[0m\n\u001b[0;32m---> 16\u001b[0;31m \u001b[0mautoml\u001b[0m\u001b[0;34m.\u001b[0m\u001b[0mfit\u001b[0m\u001b[0;34m(\u001b[0m\u001b[0mX_train\u001b[0m\u001b[0;34m,\u001b[0m \u001b[0my_train\u001b[0m\u001b[0;34m)\u001b[0m\u001b[0;34m\u001b[0m\u001b[0m\n\u001b[0m\u001b[1;32m     17\u001b[0m \u001b[0mprint\u001b[0m\u001b[0;34m(\u001b[0m\u001b[0mautoml\u001b[0m\u001b[0;34m.\u001b[0m\u001b[0mscore\u001b[0m\u001b[0;34m(\u001b[0m\u001b[0mX_test\u001b[0m\u001b[0;34m,\u001b[0m\u001b[0my_test\u001b[0m\u001b[0;34m)\u001b[0m\u001b[0;34m)\u001b[0m\u001b[0;34m\u001b[0m\u001b[0m\n",
      "\u001b[0;32m/Users/alex/anaconda/envs/p3/lib/python3.5/site-packages/autosklearn/estimators.py\u001b[0m in \u001b[0;36mfit\u001b[0;34m(self, X, y, metric, feat_type, dataset_name)\u001b[0m\n\u001b[1;32m    269\u001b[0m \u001b[0;34m\u001b[0m\u001b[0m\n\u001b[1;32m    270\u001b[0m         return super(AutoSklearnClassifier, self).fit(X, y, task, metric,\n\u001b[0;32m--> 271\u001b[0;31m                                                       feat_type, dataset_name)\n\u001b[0m\u001b[1;32m    272\u001b[0m \u001b[0;34m\u001b[0m\u001b[0m\n\u001b[1;32m    273\u001b[0m     \u001b[0;32mdef\u001b[0m \u001b[0mpredict\u001b[0m\u001b[0;34m(\u001b[0m\u001b[0mself\u001b[0m\u001b[0;34m,\u001b[0m \u001b[0mX\u001b[0m\u001b[0;34m)\u001b[0m\u001b[0;34m:\u001b[0m\u001b[0;34m\u001b[0m\u001b[0m\n",
      "\u001b[0;32m/Users/alex/anaconda/envs/p3/lib/python3.5/site-packages/autosklearn/automl.py\u001b[0m in \u001b[0;36mfit\u001b[0;34m(self, X, y, task, metric, feat_type, dataset_name)\u001b[0m\n\u001b[1;32m    173\u001b[0m                                             encode_labels=False)\n\u001b[1;32m    174\u001b[0m \u001b[0;34m\u001b[0m\u001b[0m\n\u001b[0;32m--> 175\u001b[0;31m         \u001b[0;32mreturn\u001b[0m \u001b[0mself\u001b[0m\u001b[0;34m.\u001b[0m\u001b[0m_fit\u001b[0m\u001b[0;34m(\u001b[0m\u001b[0mloaded_data_manager\u001b[0m\u001b[0;34m)\u001b[0m\u001b[0;34m\u001b[0m\u001b[0m\n\u001b[0m\u001b[1;32m    176\u001b[0m \u001b[0;34m\u001b[0m\u001b[0m\n\u001b[1;32m    177\u001b[0m     \u001b[0;32mdef\u001b[0m \u001b[0mfit_automl_dataset\u001b[0m\u001b[0;34m(\u001b[0m\u001b[0mself\u001b[0m\u001b[0;34m,\u001b[0m \u001b[0mdataset\u001b[0m\u001b[0;34m)\u001b[0m\u001b[0;34m:\u001b[0m\u001b[0;34m\u001b[0m\u001b[0m\n",
      "\u001b[0;32m/Users/alex/anaconda/envs/p3/lib/python3.5/site-packages/autosklearn/automl.py\u001b[0m in \u001b[0;36m_fit\u001b[0;34m(self, datamanager)\u001b[0m\n\u001b[1;32m    399\u001b[0m         \u001b[0;32melse\u001b[0m\u001b[0;34m:\u001b[0m\u001b[0;34m\u001b[0m\u001b[0m\n\u001b[1;32m    400\u001b[0m             \u001b[0;32mfor\u001b[0m \u001b[0mproc\u001b[0m \u001b[0;32min\u001b[0m \u001b[0mprocs\u001b[0m\u001b[0;34m:\u001b[0m\u001b[0;34m\u001b[0m\u001b[0m\n\u001b[0;32m--> 401\u001b[0;31m                 \u001b[0mproc\u001b[0m\u001b[0;34m.\u001b[0m\u001b[0mjoin\u001b[0m\u001b[0;34m(\u001b[0m\u001b[0;34m)\u001b[0m\u001b[0;34m\u001b[0m\u001b[0m\n\u001b[0m\u001b[1;32m    402\u001b[0m \u001b[0;34m\u001b[0m\u001b[0m\n\u001b[1;32m    403\u001b[0m         \u001b[0;32mif\u001b[0m \u001b[0mself\u001b[0m\u001b[0;34m.\u001b[0m\u001b[0m_queue\u001b[0m \u001b[0;32mis\u001b[0m \u001b[0;32mNone\u001b[0m\u001b[0;34m:\u001b[0m\u001b[0;34m\u001b[0m\u001b[0m\n",
      "\u001b[0;32m/Users/alex/anaconda/envs/p3/lib/python3.5/multiprocessing/process.py\u001b[0m in \u001b[0;36mjoin\u001b[0;34m(self, timeout)\u001b[0m\n\u001b[1;32m    119\u001b[0m         \u001b[0;32massert\u001b[0m \u001b[0mself\u001b[0m\u001b[0;34m.\u001b[0m\u001b[0m_parent_pid\u001b[0m \u001b[0;34m==\u001b[0m \u001b[0mos\u001b[0m\u001b[0;34m.\u001b[0m\u001b[0mgetpid\u001b[0m\u001b[0;34m(\u001b[0m\u001b[0;34m)\u001b[0m\u001b[0;34m,\u001b[0m \u001b[0;34m'can only join a child process'\u001b[0m\u001b[0;34m\u001b[0m\u001b[0m\n\u001b[1;32m    120\u001b[0m         \u001b[0;32massert\u001b[0m \u001b[0mself\u001b[0m\u001b[0;34m.\u001b[0m\u001b[0m_popen\u001b[0m \u001b[0;32mis\u001b[0m \u001b[0;32mnot\u001b[0m \u001b[0;32mNone\u001b[0m\u001b[0;34m,\u001b[0m \u001b[0;34m'can only join a started process'\u001b[0m\u001b[0;34m\u001b[0m\u001b[0m\n\u001b[0;32m--> 121\u001b[0;31m         \u001b[0mres\u001b[0m \u001b[0;34m=\u001b[0m \u001b[0mself\u001b[0m\u001b[0;34m.\u001b[0m\u001b[0m_popen\u001b[0m\u001b[0;34m.\u001b[0m\u001b[0mwait\u001b[0m\u001b[0;34m(\u001b[0m\u001b[0mtimeout\u001b[0m\u001b[0;34m)\u001b[0m\u001b[0;34m\u001b[0m\u001b[0m\n\u001b[0m\u001b[1;32m    122\u001b[0m         \u001b[0;32mif\u001b[0m \u001b[0mres\u001b[0m \u001b[0;32mis\u001b[0m \u001b[0;32mnot\u001b[0m \u001b[0;32mNone\u001b[0m\u001b[0;34m:\u001b[0m\u001b[0;34m\u001b[0m\u001b[0m\n\u001b[1;32m    123\u001b[0m             \u001b[0m_children\u001b[0m\u001b[0;34m.\u001b[0m\u001b[0mdiscard\u001b[0m\u001b[0;34m(\u001b[0m\u001b[0mself\u001b[0m\u001b[0;34m)\u001b[0m\u001b[0;34m\u001b[0m\u001b[0m\n",
      "\u001b[0;32m/Users/alex/anaconda/envs/p3/lib/python3.5/multiprocessing/popen_fork.py\u001b[0m in \u001b[0;36mwait\u001b[0;34m(self, timeout)\u001b[0m\n\u001b[1;32m     49\u001b[0m                     \u001b[0;32mreturn\u001b[0m \u001b[0;32mNone\u001b[0m\u001b[0;34m\u001b[0m\u001b[0m\n\u001b[1;32m     50\u001b[0m             \u001b[0;31m# This shouldn't block if wait() returned successfully.\u001b[0m\u001b[0;34m\u001b[0m\u001b[0;34m\u001b[0m\u001b[0m\n\u001b[0;32m---> 51\u001b[0;31m             \u001b[0;32mreturn\u001b[0m \u001b[0mself\u001b[0m\u001b[0;34m.\u001b[0m\u001b[0mpoll\u001b[0m\u001b[0;34m(\u001b[0m\u001b[0mos\u001b[0m\u001b[0;34m.\u001b[0m\u001b[0mWNOHANG\u001b[0m \u001b[0;32mif\u001b[0m \u001b[0mtimeout\u001b[0m \u001b[0;34m==\u001b[0m \u001b[0;36m0.0\u001b[0m \u001b[0;32melse\u001b[0m \u001b[0;36m0\u001b[0m\u001b[0;34m)\u001b[0m\u001b[0;34m\u001b[0m\u001b[0m\n\u001b[0m\u001b[1;32m     52\u001b[0m         \u001b[0;32mreturn\u001b[0m \u001b[0mself\u001b[0m\u001b[0;34m.\u001b[0m\u001b[0mreturncode\u001b[0m\u001b[0;34m\u001b[0m\u001b[0m\n\u001b[1;32m     53\u001b[0m \u001b[0;34m\u001b[0m\u001b[0m\n",
      "\u001b[0;32m/Users/alex/anaconda/envs/p3/lib/python3.5/multiprocessing/popen_fork.py\u001b[0m in \u001b[0;36mpoll\u001b[0;34m(self, flag)\u001b[0m\n\u001b[1;32m     27\u001b[0m             \u001b[0;32mwhile\u001b[0m \u001b[0;32mTrue\u001b[0m\u001b[0;34m:\u001b[0m\u001b[0;34m\u001b[0m\u001b[0m\n\u001b[1;32m     28\u001b[0m                 \u001b[0;32mtry\u001b[0m\u001b[0;34m:\u001b[0m\u001b[0;34m\u001b[0m\u001b[0m\n\u001b[0;32m---> 29\u001b[0;31m                     \u001b[0mpid\u001b[0m\u001b[0;34m,\u001b[0m \u001b[0msts\u001b[0m \u001b[0;34m=\u001b[0m \u001b[0mos\u001b[0m\u001b[0;34m.\u001b[0m\u001b[0mwaitpid\u001b[0m\u001b[0;34m(\u001b[0m\u001b[0mself\u001b[0m\u001b[0;34m.\u001b[0m\u001b[0mpid\u001b[0m\u001b[0;34m,\u001b[0m \u001b[0mflag\u001b[0m\u001b[0;34m)\u001b[0m\u001b[0;34m\u001b[0m\u001b[0m\n\u001b[0m\u001b[1;32m     30\u001b[0m                 \u001b[0;32mexcept\u001b[0m \u001b[0mOSError\u001b[0m \u001b[0;32mas\u001b[0m \u001b[0me\u001b[0m\u001b[0;34m:\u001b[0m\u001b[0;34m\u001b[0m\u001b[0m\n\u001b[1;32m     31\u001b[0m                     \u001b[0;31m# Child process not yet created. See #1731717\u001b[0m\u001b[0;34m\u001b[0m\u001b[0;34m\u001b[0m\u001b[0m\n",
      "\u001b[0;31mKeyboardInterrupt\u001b[0m: "
     ]
    },
    {
     "name": "stderr",
     "output_type": "stream",
     "text": [
      "KeyboardInterrupt\n",
      "  File \"/Users/alex/anaconda/envs/p3/lib/python3.5/site-packages/smac/runhistory/runhistory2epm.py\", line 140, in transform\n",
      "    instances=s_instance_id_list)\n",
      "  File \"/Users/alex/anaconda/envs/p3/lib/python3.5/site-packages/smac/runhistory/runhistory2epm.py\", line 271, in _build_matrix\n",
      "    conf = impute_inactive_values(conf)\n",
      "  File \"/Users/alex/anaconda/envs/p3/lib/python3.5/site-packages/ConfigSpace/util.py\", line 71, in impute_inactive_values\n",
      "    allow_inactive_with_values=True)\n",
      "  File \"/Users/alex/anaconda/envs/p3/lib/python3.5/site-packages/ConfigSpace/configuration_space.py\", line 757, in __init__\n",
      "    self.is_valid_configuration()\n",
      "  File \"/Users/alex/anaconda/envs/p3/lib/python3.5/site-packages/ConfigSpace/configuration_space.py\", line 779, in is_valid_configuration\n",
      "    self, allow_inactive_with_values=self.allow_inactive_with_values)\n",
      "  File \"/Users/alex/anaconda/envs/p3/lib/python3.5/site-packages/ConfigSpace/configuration_space.py\", line 535, in _check_configuration\n",
      "    active = False\n",
      "KeyboardInterrupt\n"
     ]
    }
   ],
   "source": [
    ">>> import autosklearn.classification\n",
    ">>> import sklearn.datasets\n",
    ">>> iris = sklearn.datasets.load_iris()\n",
    ">>> X = iris.data\n",
    ">>> y = iris.target\n",
    ">>> import numpy as np\n",
    ">>> indices = np.arange(X.shape[0])\n",
    ">>> np.random.shuffle(indices)\n",
    ">>> X = X[indices]\n",
    ">>> y = y[indices]\n",
    ">>> X_train = X[:(len(y) * .8)]\n",
    ">>> y_train = y[:(len(y) * .8)]\n",
    ">>> X_test = X[(len(y) * .8):]\n",
    ">>> y_test = y[(len(y) * .8):]\n",
    ">>> automl = autosklearn.classification.AutoSklearnClassifier(time_left_for_this_task=30, per_run_time_limit=3)\n",
    ">>> automl.fit(X_train, y_train)\n",
    ">>> print(automl.score(X_test,y_test))"
   ]
  },
  {
   "cell_type": "code",
   "execution_count": 61,
   "metadata": {
    "collapsed": false
   },
   "outputs": [
    {
     "name": "stdout",
     "output_type": "stream",
     "text": [
      "(120, 4) (120,)\n",
      "(30, 4) (30,)\n"
     ]
    }
   ],
   "source": [
    "print(X_train.shape, y_train.shape)\n",
    "print(X_test.shape, y_test.shape)"
   ]
  },
  {
   "cell_type": "code",
   "execution_count": 62,
   "metadata": {
    "collapsed": false
   },
   "outputs": [
    {
     "name": "stdout",
     "output_type": "stream",
     "text": [
      "<class 'numpy.ndarray'>\n",
      "<class 'numpy.ndarray'>\n"
     ]
    }
   ],
   "source": [
    "print(type(X_train))\n",
    "print(type(y_train))"
   ]
  },
  {
   "cell_type": "code",
   "execution_count": 65,
   "metadata": {
    "collapsed": false
   },
   "outputs": [
    {
     "data": {
      "text/plain": [
       "array([1, 1, 2, 0, 0, 2, 1, 0, 2, 2, 1, 2, 2, 0, 2, 2, 1, 1, 2, 2, 2, 0, 2,\n",
       "       2, 2, 2, 0, 2, 1, 1, 0, 0, 2, 2, 1, 1, 0, 2, 0, 2, 0, 0, 1, 2, 0, 2,\n",
       "       0, 1, 0, 1, 0, 1, 0, 1, 0, 1, 2, 2, 0, 1, 2, 1, 1, 1, 1, 0, 1, 1, 0,\n",
       "       0, 1, 0, 2, 0, 2, 1, 1, 1, 0, 1, 2, 2, 2, 0, 0, 2, 0, 0, 2, 2, 0, 1,\n",
       "       1, 0, 0, 0, 1, 2, 1, 1, 1, 1, 0, 0, 0, 0, 0, 2, 0, 1, 2, 0, 1, 1, 1,\n",
       "       2, 1, 1, 1, 1, 2, 2, 1, 0, 2, 1, 2, 2, 1, 2, 1, 0, 0, 1, 2, 1, 0, 0,\n",
       "       2, 0, 2, 0, 1, 2, 2, 2, 0, 0, 2, 0])"
      ]
     },
     "execution_count": 65,
     "metadata": {},
     "output_type": "execute_result"
    }
   ],
   "source": [
    "y"
   ]
  },
  {
   "cell_type": "code",
   "execution_count": null,
   "metadata": {
    "collapsed": true
   },
   "outputs": [],
   "source": []
  }
 ],
 "metadata": {
  "anaconda-cloud": {},
  "kernelspec": {
   "display_name": "Python [p3]",
   "language": "python",
   "name": "Python [p3]"
  },
  "language_info": {
   "codemirror_mode": {
    "name": "ipython",
    "version": 3
   },
   "file_extension": ".py",
   "mimetype": "text/x-python",
   "name": "python",
   "nbconvert_exporter": "python",
   "pygments_lexer": "ipython3",
   "version": "3.5.2"
  }
 },
 "nbformat": 4,
 "nbformat_minor": 0
}
