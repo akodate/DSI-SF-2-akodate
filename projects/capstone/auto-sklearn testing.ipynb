{
 "cells": [
  {
   "cell_type": "code",
   "execution_count": 69,
   "metadata": {
    "collapsed": true
   },
   "outputs": [],
   "source": [
    "import pandas as pd\n",
    "import numpy as np\n",
    "# import sklearn.datasets\n",
    "from sklearn.preprocessing import LabelEncoder\n",
    "import autosklearn.classification\n",
    "import seaborn as sns\n",
    "import matplotlib.pyplot as plt\n",
    "\n",
    "%matplotlib inline\n",
    "%config InlineBackend.figure_format = 'retina'"
   ]
  },
  {
   "cell_type": "code",
   "execution_count": 76,
   "metadata": {
    "collapsed": false
   },
   "outputs": [],
   "source": [
    "# iris = sklearn.datasets.load_iris()\n",
    "\n",
    "# df = pd.read_csv('https://raw.githubusercontent.com/mwaskom/seaborn-data/master/attention.csv')\n",
    "df = pd.read_csv('https://raw.githubusercontent.com/mwaskom/seaborn-data/master/exercise.csv')\n",
    "target = 'kind'\n",
    "\n",
    "X = df.drop(target, axis=1)\n",
    "y = df[target]"
   ]
  },
  {
   "cell_type": "code",
   "execution_count": 77,
   "metadata": {
    "collapsed": false
   },
   "outputs": [],
   "source": [
    "X['diet'] = LabelEncoder().fit_transform(X['diet'])\n",
    "X['time'] = LabelEncoder().fit_transform(X['time'])\n",
    "y = LabelEncoder().fit_transform(y)"
   ]
  },
  {
   "cell_type": "code",
   "execution_count": 78,
   "metadata": {
    "collapsed": false
   },
   "outputs": [
    {
     "name": "stdout",
     "output_type": "stream",
     "text": [
      "Train/test split executed, test size = 0.2\n",
      "<class 'numpy.ndarray'> <class 'numpy.ndarray'>\n",
      "(72, 5) (72,)\n",
      "(18, 5) (18,)\n"
     ]
    }
   ],
   "source": [
    "def run_train_test_split(df, target):\n",
    "    from sklearn.cross_validation import train_test_split\n",
    "    test_size = 0.2\n",
    "    \n",
    "    print(\"Train/test split executed, test size =\", test_size)\n",
    "    return train_test_split(df, target, test_size=test_size)\n",
    "\n",
    "X_train, X_test, y_train, y_test = run_train_test_split(X, y)\n",
    "\n",
    "X_train = np.ascontiguousarray(X_train)\n",
    "X_test = np.ascontiguousarray(X_test)\n",
    "\n",
    "print(type(X_train), type(y_train))\n",
    "print(X_train.shape, y_train.shape)\n",
    "print(X_test.shape, y_test.shape)"
   ]
  },
  {
   "cell_type": "code",
   "execution_count": 79,
   "metadata": {
    "collapsed": false
   },
   "outputs": [
    {
     "data": {
      "text/plain": [
       "array([[ 35,  12,   0, 104,   2],\n",
       "       [ 52,  18,   1,  96,   1],\n",
       "       [ 81,  28,   1, 103,   0],\n",
       "       [ 82,  28,   1, 124,   1],\n",
       "       [ 87,  30,   1,  99,   0]])"
      ]
     },
     "execution_count": 79,
     "metadata": {},
     "output_type": "execute_result"
    }
   ],
   "source": [
    "X_train[:5]"
   ]
  },
  {
   "cell_type": "code",
   "execution_count": 80,
   "metadata": {
    "collapsed": false
   },
   "outputs": [
    {
     "data": {
      "text/plain": [
       "array([2, 2, 1, 1, 1])"
      ]
     },
     "execution_count": 80,
     "metadata": {},
     "output_type": "execute_result"
    }
   ],
   "source": [
    "y_train[:5]"
   ]
  },
  {
   "cell_type": "code",
   "execution_count": 81,
   "metadata": {
    "collapsed": false
   },
   "outputs": [
    {
     "name": "stdout",
     "output_type": "stream",
     "text": [
      "[INFO] [2016-09-10 21:56:20,429:AutoML(1):13017fcdd5a35bb182d99abb3e5e4ebd] Starting to create dummy predictions.\n",
      "[INFO] [2016-09-10 21:56:20,462:AutoML(1):13017fcdd5a35bb182d99abb3e5e4ebd] Finished creating dummy prediction 1/2.\n",
      "[INFO] [2016-09-10 21:56:20,499:AutoML(1):13017fcdd5a35bb182d99abb3e5e4ebd] Finished creating dummy prediction 2/2.\n",
      "[INFO] [2016-09-10 21:56:21,180:AutoML(1):13017fcdd5a35bb182d99abb3e5e4ebd] Start Ensemble with  9.24sec time left\n",
      "[INFO] [2016-09-10 21:56:21,190:AutoML(1):13017fcdd5a35bb182d99abb3e5e4ebd] Start SMAC with  9.23sec time left\n",
      "[ERROR] [2016-09-10 21:56:21,207:EnsembleBuilder(1):13017fcdd5a35bb182d99abb3e5e4ebd] Model only predicts at random: /tmp/autosklearn_tmp_20940_7916/.auto-sklearn/predictions_ensemble/predictions_ensemble_1_00001.npy has score: -0.02\n",
      "[INFO] [2016-09-10 21:56:21,212:EnsembleBuilder(1):13017fcdd5a35bb182d99abb3e5e4ebd] Ensemble Selection:\n",
      "\tTrajectory: 0: 0.040000\n",
      "\tMembers: [0]\n",
      "\tWeights: [ 1.]\n",
      "\tIdentifiers: (1, 2)\n",
      "[INFO] [2016-09-10 21:56:21,215:AutoMLSMBO(1)::13017fcdd5a35bb182d99abb3e5e4ebd] Training default configurations on a subset of 23/72 data points.\n",
      "[INFO] [2016-09-10 21:56:21,220:EnsembleBuilder(1):13017fcdd5a35bb182d99abb3e5e4ebd] Training performance: 0.040000\n",
      "[INFO] [2016-09-10 21:56:21,222:EnsembleBuilder(1):13017fcdd5a35bb182d99abb3e5e4ebd] Building the ensemble took 0.016112 seconds\n",
      "[INFO] [2016-09-10 21:56:21,226:EnsembleBuilder(1):13017fcdd5a35bb182d99abb3e5e4ebd] Could not find as many validation set predictions (0)as ensemble predictions (2)!.\n",
      "[INFO] [2016-09-10 21:56:21,229:EnsembleBuilder(1):13017fcdd5a35bb182d99abb3e5e4ebd] Could not find as many test set predictions (0) as ensemble predictions (2)!\n",
      "[INFO] [2016-09-10 21:56:21,236:AutoMLSMBO(1)::13017fcdd5a35bb182d99abb3e5e4ebd] Starting to evaluate 3 on SUBSET with size 23 and time limit 5s.\n",
      "[INFO] [2016-09-10 21:56:21,238:AutoMLSMBO(1)::13017fcdd5a35bb182d99abb3e5e4ebd] Configuration:\n",
      "  balancing:strategy, Value: 'none'\n",
      "  classifier:__choice__, Value: 'random_forest'\n",
      "  classifier:random_forest:bootstrap, Value: 'True'\n",
      "  classifier:random_forest:criterion, Value: 'gini'\n",
      "  classifier:random_forest:max_depth, Constant: 'None'\n",
      "  classifier:random_forest:max_features, Value: 1.0\n",
      "  classifier:random_forest:max_leaf_nodes, Constant: 'None'\n",
      "  classifier:random_forest:min_samples_leaf, Value: 1\n",
      "  classifier:random_forest:min_samples_split, Value: 2\n",
      "  classifier:random_forest:min_weight_fraction_leaf, Constant: 0.0\n",
      "  classifier:random_forest:n_estimators, Constant: 100\n",
      "  imputation:strategy, Value: 'mean'\n",
      "  one_hot_encoding:minimum_fraction, Value: 0.01\n",
      "  one_hot_encoding:use_minimum_fraction, Value: 'True'\n",
      "  preprocessor:__choice__, Value: 'no_preprocessing'\n",
      "  rescaling:__choice__, Value: 'min/max'\n",
      "\n",
      "[INFO] [2016-09-10 21:56:21,408:AutoMLSMBO(1)::13017fcdd5a35bb182d99abb3e5e4ebd] Finished evaluating 3. configuration on SUBSET. Duration 0.131152; loss 0.000000; status 1; additional run info: ;duration: 0.13115191459655762;num_run:00003 \n",
      "[INFO] [2016-09-10 21:56:21,411:AutoMLSMBO(1)::13017fcdd5a35bb182d99abb3e5e4ebd] Finished SUBSET training sucessfully with ratio 0.330000\n",
      "[INFO] [2016-09-10 21:56:21,415:AutoMLSMBO(1)::13017fcdd5a35bb182d99abb3e5e4ebd] Starting to evaluate 4 on SUBSET with size 23 and time limit 5s.\n",
      "[INFO] [2016-09-10 21:56:21,417:AutoMLSMBO(1)::13017fcdd5a35bb182d99abb3e5e4ebd] Configuration:\n",
      "  balancing:strategy, Value: 'weighting'\n",
      "  classifier:__choice__, Value: 'sgd'\n",
      "  classifier:sgd:alpha, Value: 0.0001\n",
      "  classifier:sgd:average, Value: 'True'\n",
      "  classifier:sgd:eta0, Value: 0.01\n",
      "  classifier:sgd:fit_intercept, Constant: 'True'\n",
      "  classifier:sgd:learning_rate, Value: 'optimal'\n",
      "  classifier:sgd:loss, Value: 'hinge'\n",
      "  classifier:sgd:n_iter, Value: 5\n",
      "  classifier:sgd:penalty, Value: 'l2'\n",
      "  imputation:strategy, Value: 'mean'\n",
      "  one_hot_encoding:minimum_fraction, Value: 0.1\n",
      "  one_hot_encoding:use_minimum_fraction, Value: 'True'\n",
      "  preprocessor:__choice__, Value: 'no_preprocessing'\n",
      "  rescaling:__choice__, Value: 'min/max'\n",
      "\n",
      "[INFO] [2016-09-10 21:56:21,472:AutoMLSMBO(1)::13017fcdd5a35bb182d99abb3e5e4ebd] Finished evaluating 4. configuration on SUBSET. Duration 0.019320; loss 0.480000; status 1; additional run info: ;duration: 0.019320011138916016;num_run:00004 \n",
      "[INFO] [2016-09-10 21:56:21,475:AutoMLSMBO(1)::13017fcdd5a35bb182d99abb3e5e4ebd] Finished SUBSET training sucessfully with ratio 0.330000\n",
      "[INFO] [2016-09-10 21:56:21,479:AutoMLSMBO(1)::13017fcdd5a35bb182d99abb3e5e4ebd] Starting to evaluate 5 on SUBSET with size 23 and time limit 5s.\n",
      "[INFO] [2016-09-10 21:56:21,482:AutoMLSMBO(1)::13017fcdd5a35bb182d99abb3e5e4ebd] Configuration:\n",
      "  balancing:strategy, Value: 'weighting'\n",
      "  classifier:__choice__, Value: 'extra_trees'\n",
      "  classifier:extra_trees:bootstrap, Value: 'False'\n",
      "  classifier:extra_trees:criterion, Value: 'gini'\n",
      "  classifier:extra_trees:max_depth, Constant: 'None'\n",
      "  classifier:extra_trees:max_features, Value: 1.0\n",
      "  classifier:extra_trees:min_samples_leaf, Value: 5\n",
      "  classifier:extra_trees:min_samples_split, Value: 5\n",
      "  classifier:extra_trees:min_weight_fraction_leaf, Constant: 0.0\n",
      "  classifier:extra_trees:n_estimators, Constant: 100\n",
      "  imputation:strategy, Value: 'mean'\n",
      "  one_hot_encoding:minimum_fraction, Value: 0.1\n",
      "  one_hot_encoding:use_minimum_fraction, Value: 'True'\n",
      "  preprocessor:__choice__, Value: 'select_percentile_classification'\n",
      "  preprocessor:select_percentile_classification:percentile, Value: 2.0\n",
      "  preprocessor:select_percentile_classification:score_func, Value: 'chi2'\n",
      "  rescaling:__choice__, Value: 'min/max'\n",
      "\n",
      "[INFO] [2016-09-10 21:56:21,664:AutoMLSMBO(1)::13017fcdd5a35bb182d99abb3e5e4ebd] Finished evaluating 5. configuration on SUBSET. Duration 0.143148; loss 0.060000; status 1; additional run info: ;duration: 0.14314818382263184;num_run:00005 \n",
      "[INFO] [2016-09-10 21:56:21,667:AutoMLSMBO(1)::13017fcdd5a35bb182d99abb3e5e4ebd] Finished SUBSET training sucessfully with ratio 0.330000\n",
      "[INFO] [2016-09-10 21:56:21,669:AutoMLSMBO(1)::13017fcdd5a35bb182d99abb3e5e4ebd] Starting to evaluate 6 on SUBSET with size 23 and time limit 5s.\n",
      "[INFO] [2016-09-10 21:56:21,671:AutoMLSMBO(1)::13017fcdd5a35bb182d99abb3e5e4ebd] Configuration:\n",
      "  balancing:strategy, Value: 'weighting'\n",
      "  classifier:__choice__, Value: 'gaussian_nb'\n",
      "  imputation:strategy, Value: 'mean'\n",
      "  one_hot_encoding:minimum_fraction, Value: 0.1\n",
      "  one_hot_encoding:use_minimum_fraction, Value: 'True'\n",
      "  preprocessor:__choice__, Value: 'no_preprocessing'\n",
      "  rescaling:__choice__, Value: 'standardize'\n",
      "\n",
      "[INFO] [2016-09-10 21:56:21,714:AutoMLSMBO(1)::13017fcdd5a35bb182d99abb3e5e4ebd] Finished evaluating 6. configuration on SUBSET. Duration 0.010017; loss 0.060000; status 1; additional run info: ;duration: 0.010016918182373047;num_run:00006 \n",
      "[INFO] [2016-09-10 21:56:21,717:AutoMLSMBO(1)::13017fcdd5a35bb182d99abb3e5e4ebd] Finished SUBSET training sucessfully with ratio 0.330000\n",
      "[INFO] [2016-09-10 21:56:21,719:AutoMLSMBO(1)::13017fcdd5a35bb182d99abb3e5e4ebd] Metadata directory: /Users/alex/anaconda/envs/p3/lib/python3.5/site-packages/autosklearn/metalearning/files/acc_metric_multiclass.classification_dense\n",
      "[INFO] [2016-09-10 21:56:22,135:AutoMLSMBO(1)::13017fcdd5a35bb182d99abb3e5e4ebd] Start calculating metafeatures for 13017fcdd5a35bb182d99abb3e5e4ebd\n"
     ]
    },
    {
     "name": "stderr",
     "output_type": "stream",
     "text": [
      "/Users/alex/anaconda/envs/p3/lib/python3.5/site-packages/numpy/lib/nanfunctions.py:1147: RuntimeWarning: Degrees of freedom <= 0 for slice.\n",
      "  warnings.warn(\"Degrees of freedom <= 0 for slice.\", RuntimeWarning)\n",
      "/Users/alex/anaconda/envs/p3/lib/python3.5/site-packages/numpy/lib/nanfunctions.py:675: RuntimeWarning: Mean of empty slice\n",
      "  warnings.warn(\"Mean of empty slice\", RuntimeWarning)\n"
     ]
    },
    {
     "name": "stdout",
     "output_type": "stream",
     "text": [
      "[INFO] [2016-09-10 21:56:22,152:AutoMLSMBO(1)::13017fcdd5a35bb182d99abb3e5e4ebd] Calculating Metafeatures (categorical attributes) took  0.02\n",
      "[INFO] [2016-09-10 21:56:22,186:AutoMLSMBO(1)::13017fcdd5a35bb182d99abb3e5e4ebd] Calculating Metafeatures (encoded attributes) took  0.02sec\n"
     ]
    },
    {
     "name": "stderr",
     "output_type": "stream",
     "text": [
      "/Users/alex/anaconda/envs/p3/lib/python3.5/site-packages/sklearn/utils/validation.py:386: DeprecationWarning: Passing 1d arrays as data is deprecated in 0.17 and willraise ValueError in 0.19. Reshape your data either using X.reshape(-1, 1) if your data has a single feature or X.reshape(1, -1) if it contains a single sample.\n",
      "  DeprecationWarning)\n"
     ]
    },
    {
     "name": "stdout",
     "output_type": "stream",
     "text": [
      "[INFO] [2016-09-10 21:56:22,312:AutoMLSMBO(1)::13017fcdd5a35bb182d99abb3e5e4ebd] Time left for 13017fcdd5a35bb182d99abb3e5e4ebd after finding initial configurations:  7.11sec\n",
      "[INFO] [2016-09-10 21:56:22,314:AutoMLSMBO(1)::13017fcdd5a35bb182d99abb3e5e4ebd] Metafeatures for dataset 13017fcdd5a35bb182d99abb3e5e4ebduiaeo\n",
      "  LandmarkRandomNodeLearner: 0.493650793651\n",
      "  KurtosisMin: -1.97202797203\n",
      "  NumberOfCategoricalFeatures: 0\n",
      "  NumberOfInstancesWithMissingValues: 0.0\n",
      "  SkewnessMean: 0.221084173144\n",
      "  SymbolsMin: 0\n",
      "  KurtosisMax: 1.94202107971\n",
      "  SymbolsMax: 0\n",
      "  PercentageOfInstancesWithMissingValues: 0.0\n",
      "  LogInverseDatasetRatio: 2.66722820658\n",
      "  ClassEntropy: 1.58249052019\n",
      "  SkewnessSTD: 0.625946683875\n",
      "  NumberOfClasses: 3.0\n",
      "  SkewnessMin: -0.167248402001\n",
      "  SymbolsSTD: 0\n",
      "  ClassProbabilityMin: 0.3194444444444444\n",
      "  PercentageOfFeaturesWithMissingValues: 0.0\n",
      "  DatasetRatio: 0.06944444444444445\n",
      "  SymbolsMean: 0\n",
      "  SymbolsSum: 0.0\n",
      "  LogNumberOfInstances: 4.27666611902\n",
      "  ClassProbabilitySTD: 0.019641855033\n",
      "  NumberOfFeatures: 5.0\n",
      "  NumberOfNumericFeatures: 5\n",
      "  RatioNumericalToNominal: 0.0\n",
      "  ClassProbabilityMax: 0.3611111111111111\n",
      "  RatioNominalToNumerical: 0.0\n",
      "  NumberOfInstances: 72.0\n",
      "  PercentageOfMissingValues: 0.0\n",
      "  InverseDatasetRatio: 14.4\n",
      "  KurtosisMean: -0.776449469423\n",
      "  ClassProbabilityMean: 0.333333333333\n",
      "  NumberOfFeaturesWithMissingValues: 0.0\n",
      "  LogNumberOfFeatures: 1.60943791243\n",
      "  LogDatasetRatio: -2.66722820658\n",
      "  NumberOfMissingValues: 0.0\n",
      "  SkewnessMax: 1.4684327042\n",
      "  KurtosisSTD: 1.39014315498\n",
      "\n",
      "[INFO] [2016-09-10 21:56:22,321:AutoMLSMBO(1)::13017fcdd5a35bb182d99abb3e5e4ebd] ['1166_acc', '30_acc', '993_acc', '1000_acc', '1139_acc', '901_acc', '1050_acc', '849_acc', '979_acc', '351_acc', '31_acc', '751_acc', '813_acc', '44_acc', '18_acc', '722_acc', '934_acc', '1120_acc', '1146_acc', '806_acc', '46_acc', '903_acc', '1138_acc', '28_acc', '1036_acc', '897_acc', '1020_acc', '799_acc', '772_acc', '959_acc', '38_acc', '1119_acc', '395_acc', '60_acc', '743_acc', '23_acc', '1067_acc', '978_acc', '1161_acc', '723_acc', '396_acc', '354_acc', '1056_acc', '12_acc', '740_acc', '737_acc', '57_acc', '1053_acc', '819_acc', '182_acc', '1116_acc', '391_acc', '734_acc', '6_acc', '847_acc', '816_acc', '913_acc', '728_acc', '392_acc', '741_acc', '1112_acc', '679_acc', '977_acc', '871_acc', '904_acc', '910_acc', '917_acc', '1134_acc', '273_acc', '398_acc', '1142_acc', '1049_acc', '32_acc', '1040_acc', '1130_acc', '1021_acc', '185_acc', '36_acc', '837_acc', '1041_acc', '923_acc', '821_acc', '554_acc', '180_acc', '300_acc', '807_acc', '845_acc', '735_acc', '966_acc', '1069_acc', '390_acc', '995_acc', '976_acc', '718_acc', '1068_acc', '179_acc', '833_acc', '803_acc', '866_acc', '980_acc', '881_acc', '953_acc', '971_acc', '184_acc', '21_acc', '797_acc', '399_acc', '357_acc', '912_acc', '1002_acc', '293_acc', '930_acc', '715_acc', '1018_acc', '3_acc', '720_acc', '13017fcdd5a35bb182d99abb3e5e4ebduiaeo', '401_acc', '14_acc', '846_acc', '822_acc', '16_acc', '1128_acc', '393_acc', '761_acc', '914_acc', '1019_acc', '752_acc', '1111_acc', '181_acc', '991_acc', '958_acc', '22_acc', '389_acc', '1114_acc', '962_acc', '823_acc', '843_acc', '727_acc', '24_acc', '26_acc']\n",
      "[ERROR] [2016-09-10 21:56:23,235:EnsembleBuilder(1):13017fcdd5a35bb182d99abb3e5e4ebd] Model only predicts at random: /tmp/autosklearn_tmp_20940_7916/.auto-sklearn/predictions_ensemble/predictions_ensemble_1_00001.npy has score: -0.02\n",
      "[INFO] [2016-09-10 21:56:23,264:EnsembleBuilder(1):13017fcdd5a35bb182d99abb3e5e4ebd] Ensemble Selection:\n",
      "\tTrajectory: 0: 1.000000 1: 1.000000 2: 1.000000 3: 1.000000 4: 1.000000 5: 1.000000 6: 1.000000 7: 1.000000 8: 1.000000 9: 1.000000 10: 1.000000 11: 1.000000 12: 1.000000 13: 1.000000 14: 1.000000 15: 1.000000 16: 1.000000 17: 1.000000 18: 1.000000 19: 1.000000 20: 1.000000 21: 1.000000 22: 1.000000 23: 1.000000 24: 1.000000 25: 1.000000 26: 1.000000 27: 1.000000 28: 1.000000 29: 1.000000 30: 1.000000 31: 1.000000 32: 1.000000 33: 1.000000 34: 1.000000 35: 1.000000 36: 1.000000 37: 1.000000 38: 1.000000 39: 1.000000 40: 1.000000 41: 1.000000 42: 1.000000 43: 1.000000 44: 1.000000 45: 1.000000 46: 1.000000 47: 1.000000 48: 1.000000 49: 1.000000\n",
      "\tMembers: [1, 1, 0, 1, 1, 0, 1, 0, 1, 1, 0, 1, 0, 1, 1, 0, 1, 0, 1, 1, 0, 1, 1, 0, 1, 0, 1, 1, 0, 1, 0, 1, 1, 0, 1, 0, 1, 1, 0, 1, 1, 0, 1, 0, 1, 1, 0, 1, 0, 1]\n",
      "\tWeights: [ 0.38  0.62  0.    0.    0.  ]\n",
      "\tIdentifiers: (1, 2) (1, 3)\n",
      "[INFO] [2016-09-10 21:56:23,269:EnsembleBuilder(1):13017fcdd5a35bb182d99abb3e5e4ebd] Training performance: 1.000000\n",
      "[INFO] [2016-09-10 21:56:23,273:EnsembleBuilder(1):13017fcdd5a35bb182d99abb3e5e4ebd] Building the ensemble took 0.037712 seconds\n",
      "[INFO] [2016-09-10 21:56:23,275:EnsembleBuilder(1):13017fcdd5a35bb182d99abb3e5e4ebd] Could not find as many validation set predictions (0)as ensemble predictions (6)!.\n",
      "[INFO] [2016-09-10 21:56:23,280:EnsembleBuilder(1):13017fcdd5a35bb182d99abb3e5e4ebd] Could not find as many test set predictions (0) as ensemble predictions (6)!\n",
      "[INFO] [2016-09-10 21:56:31,277:scenario] Output to /tmp/autosklearn_tmp_20940_7916\n",
      "0.75\n"
     ]
    }
   ],
   "source": [
    "automl = autosklearn.classification.AutoSklearnClassifier(time_left_for_this_task=10, \n",
    "                                                          per_run_time_limit=1, \n",
    "                                                          ml_memory_limit=10000)\n",
    "automl.fit(X_train, y_train)\n",
    "print(automl.score(X_test,y_test))"
   ]
  },
  {
   "cell_type": "code",
   "execution_count": 82,
   "metadata": {
    "collapsed": false
   },
   "outputs": [
    {
     "data": {
      "text/plain": [
       "array([0, 1, 0, 0, 2, 2, 0, 1, 0, 0, 0, 0, 2, 1, 1, 1, 2, 0])"
      ]
     },
     "execution_count": 82,
     "metadata": {},
     "output_type": "execute_result"
    }
   ],
   "source": [
    "predictions = automl.predict(X_test)\n",
    "predictions"
   ]
  },
  {
   "cell_type": "code",
   "execution_count": 83,
   "metadata": {
    "collapsed": false
   },
   "outputs": [
    {
     "data": {
      "text/plain": [
       "array([[ 0.589 ,  0.38  ,  0.031 ],\n",
       "       [ 0.    ,  0.845 ,  0.155 ],\n",
       "       [ 0.62  ,  0.38  ,  0.    ],\n",
       "       [ 0.6076,  0.38  ,  0.0124],\n",
       "       [ 0.0062,  0.411 ,  0.5828],\n",
       "       [ 0.0186,  0.4296,  0.5518],\n",
       "       [ 0.6076,  0.38  ,  0.0124],\n",
       "       [ 0.2108,  0.3986,  0.3906],\n",
       "       [ 0.6138,  0.38  ,  0.0062],\n",
       "       [ 0.5456,  0.38  ,  0.0744],\n",
       "       [ 0.5766,  0.38  ,  0.0434],\n",
       "       [ 0.496 ,  0.3862,  0.1178],\n",
       "       [ 0.0124,  0.4296,  0.558 ],\n",
       "       [ 0.    ,  0.9504,  0.0496],\n",
       "       [ 0.    ,  0.845 ,  0.155 ],\n",
       "       [ 0.    ,  0.8512,  0.1488],\n",
       "       [ 0.031 ,  0.4482,  0.5208],\n",
       "       [ 0.5332,  0.38  ,  0.0868]])"
      ]
     },
     "execution_count": 83,
     "metadata": {},
     "output_type": "execute_result"
    }
   ],
   "source": [
    "probs = automl.predict_proba(X_test)\n",
    "probs"
   ]
  },
  {
   "cell_type": "code",
   "execution_count": 85,
   "metadata": {
    "collapsed": false
   },
   "outputs": [
    {
     "data": {
      "text/plain": [
       "<matplotlib.collections.PathCollection at 0x120212278>"
      ]
     },
     "execution_count": 85,
     "metadata": {},
     "output_type": "execute_result"
    },
    {
     "data": {
      "image/png": "[encoded data removed]",
      "text/plain": [
       "<matplotlib.figure.Figure at 0x120211240>"
      ]
     },
     "metadata": {
      "image/png": {
       "height": 258,
       "width": 382
      }
     },
     "output_type": "display_data"
    }
   ],
   "source": [
    "plt.scatter(predictions, y_test, c=[np.argmax(x) for x in probs])\n",
    "# plt.scatter([np.argmax(x) for x in probs], y_test)\n",
    "# plt.scatter([x[1] for x in probs], y_test)\n",
    "# plt.scatter(predictions, y_test)"
   ]
  },
  {
   "cell_type": "code",
   "execution_count": null,
   "metadata": {
    "collapsed": true
   },
   "outputs": [],
   "source": []
  }
 ],
 "metadata": {
  "kernelspec": {
   "display_name": "Python [p3]",
   "language": "python",
   "name": "Python [p3]"
  },
  "language_info": {
   "codemirror_mode": {
    "name": "ipython",
    "version": 3
   },
   "file_extension": ".py",
   "mimetype": "text/x-python",
   "name": "python",
   "nbconvert_exporter": "python",
   "pygments_lexer": "ipython3",
   "version": "3.5.2"
  }
 },
 "nbformat": 4,
 "nbformat_minor": 0
}
