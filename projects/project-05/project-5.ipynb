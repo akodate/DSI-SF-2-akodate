{
 "cells": [
  {
   "cell_type": "markdown",
   "metadata": {},
   "source": [
    "<img src=\"http://imgur.com/1ZcRyrc.png\" style=\"float: left; margin: 15px; height: 80px\">\n",
    "\n",
    "# Project 5\n",
    "\n",
    "## Help Yelp\n",
    "\n",
    "---\n",
    "\n",
    "In this project you will be investigating a small version of the [Yelp challenge dataset](https://www.yelp.com/dataset_challenge). You'll practice using classification algorithms, cross-validation, gridsearching – all that good stuff.\n",
    "\n"
   ]
  },
  {
   "cell_type": "markdown",
   "metadata": {},
   "source": [
    "---\n",
    "\n",
    "### The data\n",
    "\n",
    "There are 5 individual .csv files that have the information, zipped into .7z format like with the SF data last project. The dataset is located in your datasets folder:\n",
    "\n",
    "    DSI-SF-2/datasets/yelp_arizona_data.7z\n",
    "\n",
    "The columns in each are:\n",
    "\n",
    "    businesses_small_parsed.csv\n",
    "        business_id: unique business identifier\n",
    "        name: name of the business\n",
    "        review_count: number of reviews per business\n",
    "        city: city business resides in\n",
    "        stars: average rating\n",
    "        categories: categories the business falls into (can be one or multiple)\n",
    "        latitude\n",
    "        longitude\n",
    "        neighborhoods: neighborhoods business belongs to\n",
    "        variable: \"property\" of the business (a tag)\n",
    "        value: True/False for the property\n",
    "        \n",
    "    reviews_small_nlp_parsed.csv\n",
    "        user_id: unique user identifier\n",
    "        review_id: unique review identifier\n",
    "        votes.cool: how many thought the review was \"cool\"\n",
    "        business_id: unique business id the review is for\n",
    "        votes.funny: how many thought the review was funny\n",
    "        stars: rating given\n",
    "        date: date of review\n",
    "        votes.useful: how many thought the review was useful\n",
    "        ... 100 columns of counts of most common 2 word phrases that appear in reviews in this review\n",
    "        \n",
    "    users_small_parsed.csv\n",
    "        yelping_since: signup date\n",
    "        compliments.plain: # of compliments \"plain\"\n",
    "        review_count: # of reviews:\n",
    "        compliments.cute: total # of compliments \"cute\"\n",
    "        compliments.writer: # of compliments \"writer\"\n",
    "        compliments.note: # of compliments \"note\" (not sure what this is)\n",
    "        compliments.hot: # of compliments \"hot\" (?)\n",
    "        compliments.cool: # of compliments \"cool\"\n",
    "        compliments.profile: # of compliments \"profile\"\n",
    "        average_stars: average rating\n",
    "        compliments.more: # of compliments \"more\"\n",
    "        elite: years considered \"elite\"\n",
    "        name: user's name\n",
    "        user_id: unique user id\n",
    "        votes.cool: # of votes \"cool\"\n",
    "        compliments.list: # of compliments \"list\"\n",
    "        votes.funny: # of compliments \"funny\"\n",
    "        compliments.photos: # of compliments \"photos\"\n",
    "        compliments.funny: # of compliments \"funny\"\n",
    "        votes.useful: # of votes \"useful\"\n",
    "       \n",
    "    checkins_small_parsed.csv\n",
    "        business_id: unique business identifier\n",
    "        variable: day-time identifier of checkins (0-0 is Sunday 0:00 - 1:00am,  for example)\n",
    "        value: # of checkins at that time\n",
    "    \n",
    "    tips_small_nlp_parsed.csv\n",
    "        user_id: unique user identifier\n",
    "        business_id: unique business identifier\n",
    "        likes: likes that the tip has\n",
    "        date: date of tip\n",
    "        ... 100 columns of counts of most common 2 word phrases that appear in tips in this tip\n",
    "\n",
    "The reviews and tips datasets in particular have parsed \"NLP\" columns with counts of 2-word phrases in that review or tip (a \"tip\", it seems, is some kind of smaller review).\n",
    "\n",
    "The user dataset has a lot of columns of counts of different compliments and votes. I'm not sure whether the compliments or votes are _by_ the user or _for_ the user.\n",
    "\n",
    "---\n",
    "\n",
    "If you look at the website, or the full data, you'll see I have removed pieces of the data and cut it down quite a bit. This is to simplify it for this project. Specifically, business are limited to be in these cities:\n",
    "\n",
    "    Phoenix\n",
    "    Surprise\n",
    "    Las Vegas\n",
    "    Waterloo\n",
    "\n",
    "Apparently there is a city called \"Surprise\" in Arizona. \n",
    "\n",
    "Businesses are also restricted to at least be in one of the following categories, because I thought the mix of them was funny:\n",
    "\n",
    "    Airports\n",
    "    Breakfast & Brunch\n",
    "    Bubble Tea\n",
    "    Burgers\n",
    "    Bars\n",
    "    Bakeries\n",
    "    Breweries\n",
    "    Cafes\n",
    "    Candy Stores\n",
    "    Comedy Clubs\n",
    "    Courthouses\n",
    "    Dance Clubs\n",
    "    Fast Food\n",
    "    Museums\n",
    "    Tattoo\n",
    "    Vape Shops\n",
    "    Yoga\n",
    "    \n",
    "---\n",
    "\n",
    "### Project requirements\n",
    "\n",
    "**You will be performing 4 different sections of analysis, like in the last project.**\n",
    "\n",
    "Remember that classification targets are categorical and regression targets are continuous variables."
   ]
  },
  {
   "cell_type": "code",
   "execution_count": 1,
   "metadata": {
    "collapsed": true
   },
   "outputs": [],
   "source": [
    "import pandas as pd\n",
    "import numpy as np\n",
    "import matplotlib.pyplot as plt\n",
    "\n",
    "%matplotlib inline\n",
    "%config InlineBackend.figure_format = 'retina'"
   ]
  },
  {
   "cell_type": "code",
   "execution_count": 2,
   "metadata": {
    "collapsed": false
   },
   "outputs": [
    {
     "name": "stdout",
     "output_type": "stream",
     "text": [
      "businesses: (152832, 11)\n",
      "reviews: (322398, 108)\n",
      "users: (144206, 21)\n",
      "checkins: (214299, 3)\n",
      "tips: (101991, 104)\n"
     ]
    }
   ],
   "source": [
    "businesses = pd.read_csv('/Users/alex/Desktop/DSI-SF-2-akodate/datasets/yelp_arizona_data/businesses_small_parsed.csv')\n",
    "reviews = pd.read_csv('/Users/alex/Desktop/DSI-SF-2-akodate/datasets/yelp_arizona_data/reviews_small_nlp_parsed.csv')\n",
    "users = pd.read_csv('/Users/alex/Desktop/DSI-SF-2-akodate/datasets/yelp_arizona_data/users_small_parsed.csv')\n",
    "checkins = pd.read_csv('/Users/alex/Desktop/DSI-SF-2-akodate/datasets/yelp_arizona_data/checkins_small_parsed.csv')\n",
    "tips = pd.read_csv('/Users/alex/Desktop/DSI-SF-2-akodate/datasets/yelp_arizona_data/tips_small_nlp_parsed.csv')\n",
    "\n",
    "print \"businesses:\", businesses.shape\n",
    "print \"reviews:\", reviews.shape\n",
    "print \"users:\", users.shape\n",
    "print \"checkins:\", checkins.shape\n",
    "print \"tips:\", tips.shape"
   ]
  },
  {
   "cell_type": "code",
   "execution_count": 3,
   "metadata": {
    "collapsed": false
   },
   "outputs": [],
   "source": [
    "# print businesses['city'].value_counts()\n",
    "# businesses.head()"
   ]
  },
  {
   "cell_type": "code",
   "execution_count": 4,
   "metadata": {
    "collapsed": false
   },
   "outputs": [],
   "source": [
    "# reviews.columns.values"
   ]
  },
  {
   "cell_type": "code",
   "execution_count": 5,
   "metadata": {
    "collapsed": false
   },
   "outputs": [],
   "source": [
    "# users.head()"
   ]
  },
  {
   "cell_type": "code",
   "execution_count": 6,
   "metadata": {
    "collapsed": false
   },
   "outputs": [],
   "source": [
    "# checkins.head()"
   ]
  },
  {
   "cell_type": "code",
   "execution_count": 7,
   "metadata": {
    "collapsed": false
   },
   "outputs": [],
   "source": [
    "# tips.columns.values"
   ]
  },
  {
   "cell_type": "code",
   "execution_count": 8,
   "metadata": {
    "collapsed": false
   },
   "outputs": [],
   "source": [
    "businesses = businesses.drop(['latitude', 'longitude', 'neighborhoods'], axis=1)"
   ]
  },
  {
   "cell_type": "code",
   "execution_count": 9,
   "metadata": {
    "collapsed": false
   },
   "outputs": [],
   "source": [
    "# businesses.head()"
   ]
  },
  {
   "cell_type": "code",
   "execution_count": 10,
   "metadata": {
    "collapsed": false
   },
   "outputs": [],
   "source": [
    "# UNUSED businesses.groupby('business_id', as_index=False).aggregate(lambda x: list(set(x)))"
   ]
  },
  {
   "cell_type": "code",
   "execution_count": 11,
   "metadata": {
    "collapsed": false
   },
   "outputs": [],
   "source": [
    "df_wide = pd.pivot_table(businesses, \n",
    "                        columns=['variable'],\n",
    "                        values='value',\n",
    "                        index=['business_id'],\n",
    "                        aggfunc=lambda x: [][0] if len(x.values) > 1 else x.values[0],\n",
    "                        fill_value=np.nan)"
   ]
  },
  {
   "cell_type": "code",
   "execution_count": 12,
   "metadata": {
    "collapsed": false
   },
   "outputs": [
    {
     "name": "stdout",
     "output_type": "stream",
     "text": [
      "(4132, 78)\n"
     ]
    },
    {
     "data": {
      "text/html": [
       "<div>\n",
       "<table border=\"1\" class=\"dataframe\">\n",
       "  <thead>\n",
       "    <tr style=\"text-align: right;\">\n",
       "      <th>variable</th>\n",
       "      <th>attributes.Accepts Credit Cards</th>\n",
       "      <th>attributes.Accepts Insurance</th>\n",
       "      <th>attributes.Ages Allowed</th>\n",
       "      <th>attributes.Alcohol</th>\n",
       "      <th>attributes.Ambience.casual</th>\n",
       "      <th>attributes.Ambience.classy</th>\n",
       "      <th>attributes.Ambience.divey</th>\n",
       "      <th>attributes.Ambience.hipster</th>\n",
       "      <th>attributes.Ambience.intimate</th>\n",
       "      <th>attributes.Ambience.romantic</th>\n",
       "      <th>...</th>\n",
       "      <th>hours.Saturday.open</th>\n",
       "      <th>hours.Sunday.close</th>\n",
       "      <th>hours.Sunday.open</th>\n",
       "      <th>hours.Thursday.close</th>\n",
       "      <th>hours.Thursday.open</th>\n",
       "      <th>hours.Tuesday.close</th>\n",
       "      <th>hours.Tuesday.open</th>\n",
       "      <th>hours.Wednesday.close</th>\n",
       "      <th>hours.Wednesday.open</th>\n",
       "      <th>open</th>\n",
       "    </tr>\n",
       "    <tr>\n",
       "      <th>business_id</th>\n",
       "      <th></th>\n",
       "      <th></th>\n",
       "      <th></th>\n",
       "      <th></th>\n",
       "      <th></th>\n",
       "      <th></th>\n",
       "      <th></th>\n",
       "      <th></th>\n",
       "      <th></th>\n",
       "      <th></th>\n",
       "      <th></th>\n",
       "      <th></th>\n",
       "      <th></th>\n",
       "      <th></th>\n",
       "      <th></th>\n",
       "      <th></th>\n",
       "      <th></th>\n",
       "      <th></th>\n",
       "      <th></th>\n",
       "      <th></th>\n",
       "      <th></th>\n",
       "    </tr>\n",
       "  </thead>\n",
       "  <tbody>\n",
       "    <tr>\n",
       "      <th>--jFTZmywe7StuZ2hEjxyA</th>\n",
       "      <td>True</td>\n",
       "      <td>NaN</td>\n",
       "      <td>NaN</td>\n",
       "      <td>none</td>\n",
       "      <td>NaN</td>\n",
       "      <td>NaN</td>\n",
       "      <td>NaN</td>\n",
       "      <td>NaN</td>\n",
       "      <td>NaN</td>\n",
       "      <td>NaN</td>\n",
       "      <td>...</td>\n",
       "      <td>NaN</td>\n",
       "      <td>NaN</td>\n",
       "      <td>NaN</td>\n",
       "      <td>NaN</td>\n",
       "      <td>NaN</td>\n",
       "      <td>NaN</td>\n",
       "      <td>NaN</td>\n",
       "      <td>NaN</td>\n",
       "      <td>NaN</td>\n",
       "      <td>True</td>\n",
       "    </tr>\n",
       "    <tr>\n",
       "      <th>-0HGqwlfw3I8nkJyMHxAsQ</th>\n",
       "      <td>True</td>\n",
       "      <td>NaN</td>\n",
       "      <td>NaN</td>\n",
       "      <td>none</td>\n",
       "      <td>NaN</td>\n",
       "      <td>NaN</td>\n",
       "      <td>NaN</td>\n",
       "      <td>NaN</td>\n",
       "      <td>NaN</td>\n",
       "      <td>NaN</td>\n",
       "      <td>...</td>\n",
       "      <td>NaN</td>\n",
       "      <td>NaN</td>\n",
       "      <td>NaN</td>\n",
       "      <td>NaN</td>\n",
       "      <td>NaN</td>\n",
       "      <td>NaN</td>\n",
       "      <td>NaN</td>\n",
       "      <td>NaN</td>\n",
       "      <td>NaN</td>\n",
       "      <td>True</td>\n",
       "    </tr>\n",
       "    <tr>\n",
       "      <th>-0VK5Z1BfUHUYq4PoBYNLw</th>\n",
       "      <td>True</td>\n",
       "      <td>NaN</td>\n",
       "      <td>NaN</td>\n",
       "      <td>full_bar</td>\n",
       "      <td>True</td>\n",
       "      <td>False</td>\n",
       "      <td>False</td>\n",
       "      <td>False</td>\n",
       "      <td>False</td>\n",
       "      <td>False</td>\n",
       "      <td>...</td>\n",
       "      <td>NaN</td>\n",
       "      <td>NaN</td>\n",
       "      <td>NaN</td>\n",
       "      <td>NaN</td>\n",
       "      <td>NaN</td>\n",
       "      <td>NaN</td>\n",
       "      <td>NaN</td>\n",
       "      <td>NaN</td>\n",
       "      <td>NaN</td>\n",
       "      <td>True</td>\n",
       "    </tr>\n",
       "    <tr>\n",
       "      <th>-0bUDim5OGuv8R0Qqq6J4A</th>\n",
       "      <td>True</td>\n",
       "      <td>NaN</td>\n",
       "      <td>NaN</td>\n",
       "      <td>NaN</td>\n",
       "      <td>NaN</td>\n",
       "      <td>NaN</td>\n",
       "      <td>NaN</td>\n",
       "      <td>NaN</td>\n",
       "      <td>NaN</td>\n",
       "      <td>NaN</td>\n",
       "      <td>...</td>\n",
       "      <td>NaN</td>\n",
       "      <td>NaN</td>\n",
       "      <td>NaN</td>\n",
       "      <td>NaN</td>\n",
       "      <td>NaN</td>\n",
       "      <td>NaN</td>\n",
       "      <td>NaN</td>\n",
       "      <td>NaN</td>\n",
       "      <td>NaN</td>\n",
       "      <td>False</td>\n",
       "    </tr>\n",
       "    <tr>\n",
       "      <th>-1bOb2izeJBZjHC7NWxiPA</th>\n",
       "      <td>True</td>\n",
       "      <td>NaN</td>\n",
       "      <td>NaN</td>\n",
       "      <td>none</td>\n",
       "      <td>True</td>\n",
       "      <td>False</td>\n",
       "      <td>False</td>\n",
       "      <td>False</td>\n",
       "      <td>False</td>\n",
       "      <td>False</td>\n",
       "      <td>...</td>\n",
       "      <td>06:30</td>\n",
       "      <td>14:30</td>\n",
       "      <td>06:30</td>\n",
       "      <td>14:30</td>\n",
       "      <td>06:30</td>\n",
       "      <td>14:30</td>\n",
       "      <td>06:30</td>\n",
       "      <td>14:30</td>\n",
       "      <td>06:30</td>\n",
       "      <td>True</td>\n",
       "    </tr>\n",
       "  </tbody>\n",
       "</table>\n",
       "<p>5 rows × 78 columns</p>\n",
       "</div>"
      ],
      "text/plain": [
       "variable               attributes.Accepts Credit Cards  \\\n",
       "business_id                                              \n",
       "--jFTZmywe7StuZ2hEjxyA                            True   \n",
       "-0HGqwlfw3I8nkJyMHxAsQ                            True   \n",
       "-0VK5Z1BfUHUYq4PoBYNLw                            True   \n",
       "-0bUDim5OGuv8R0Qqq6J4A                            True   \n",
       "-1bOb2izeJBZjHC7NWxiPA                            True   \n",
       "\n",
       "variable               attributes.Accepts Insurance attributes.Ages Allowed  \\\n",
       "business_id                                                                   \n",
       "--jFTZmywe7StuZ2hEjxyA                          NaN                     NaN   \n",
       "-0HGqwlfw3I8nkJyMHxAsQ                          NaN                     NaN   \n",
       "-0VK5Z1BfUHUYq4PoBYNLw                          NaN                     NaN   \n",
       "-0bUDim5OGuv8R0Qqq6J4A                          NaN                     NaN   \n",
       "-1bOb2izeJBZjHC7NWxiPA                          NaN                     NaN   \n",
       "\n",
       "variable               attributes.Alcohol attributes.Ambience.casual  \\\n",
       "business_id                                                            \n",
       "--jFTZmywe7StuZ2hEjxyA               none                        NaN   \n",
       "-0HGqwlfw3I8nkJyMHxAsQ               none                        NaN   \n",
       "-0VK5Z1BfUHUYq4PoBYNLw           full_bar                       True   \n",
       "-0bUDim5OGuv8R0Qqq6J4A                NaN                        NaN   \n",
       "-1bOb2izeJBZjHC7NWxiPA               none                       True   \n",
       "\n",
       "variable               attributes.Ambience.classy attributes.Ambience.divey  \\\n",
       "business_id                                                                   \n",
       "--jFTZmywe7StuZ2hEjxyA                        NaN                       NaN   \n",
       "-0HGqwlfw3I8nkJyMHxAsQ                        NaN                       NaN   \n",
       "-0VK5Z1BfUHUYq4PoBYNLw                      False                     False   \n",
       "-0bUDim5OGuv8R0Qqq6J4A                        NaN                       NaN   \n",
       "-1bOb2izeJBZjHC7NWxiPA                      False                     False   \n",
       "\n",
       "variable               attributes.Ambience.hipster  \\\n",
       "business_id                                          \n",
       "--jFTZmywe7StuZ2hEjxyA                         NaN   \n",
       "-0HGqwlfw3I8nkJyMHxAsQ                         NaN   \n",
       "-0VK5Z1BfUHUYq4PoBYNLw                       False   \n",
       "-0bUDim5OGuv8R0Qqq6J4A                         NaN   \n",
       "-1bOb2izeJBZjHC7NWxiPA                       False   \n",
       "\n",
       "variable               attributes.Ambience.intimate  \\\n",
       "business_id                                           \n",
       "--jFTZmywe7StuZ2hEjxyA                          NaN   \n",
       "-0HGqwlfw3I8nkJyMHxAsQ                          NaN   \n",
       "-0VK5Z1BfUHUYq4PoBYNLw                        False   \n",
       "-0bUDim5OGuv8R0Qqq6J4A                          NaN   \n",
       "-1bOb2izeJBZjHC7NWxiPA                        False   \n",
       "\n",
       "variable               attributes.Ambience.romantic  ...    \\\n",
       "business_id                                          ...     \n",
       "--jFTZmywe7StuZ2hEjxyA                          NaN  ...     \n",
       "-0HGqwlfw3I8nkJyMHxAsQ                          NaN  ...     \n",
       "-0VK5Z1BfUHUYq4PoBYNLw                        False  ...     \n",
       "-0bUDim5OGuv8R0Qqq6J4A                          NaN  ...     \n",
       "-1bOb2izeJBZjHC7NWxiPA                        False  ...     \n",
       "\n",
       "variable               hours.Saturday.open hours.Sunday.close  \\\n",
       "business_id                                                     \n",
       "--jFTZmywe7StuZ2hEjxyA                 NaN                NaN   \n",
       "-0HGqwlfw3I8nkJyMHxAsQ                 NaN                NaN   \n",
       "-0VK5Z1BfUHUYq4PoBYNLw                 NaN                NaN   \n",
       "-0bUDim5OGuv8R0Qqq6J4A                 NaN                NaN   \n",
       "-1bOb2izeJBZjHC7NWxiPA               06:30              14:30   \n",
       "\n",
       "variable               hours.Sunday.open hours.Thursday.close  \\\n",
       "business_id                                                     \n",
       "--jFTZmywe7StuZ2hEjxyA               NaN                  NaN   \n",
       "-0HGqwlfw3I8nkJyMHxAsQ               NaN                  NaN   \n",
       "-0VK5Z1BfUHUYq4PoBYNLw               NaN                  NaN   \n",
       "-0bUDim5OGuv8R0Qqq6J4A               NaN                  NaN   \n",
       "-1bOb2izeJBZjHC7NWxiPA             06:30                14:30   \n",
       "\n",
       "variable               hours.Thursday.open hours.Tuesday.close  \\\n",
       "business_id                                                      \n",
       "--jFTZmywe7StuZ2hEjxyA                 NaN                 NaN   \n",
       "-0HGqwlfw3I8nkJyMHxAsQ                 NaN                 NaN   \n",
       "-0VK5Z1BfUHUYq4PoBYNLw                 NaN                 NaN   \n",
       "-0bUDim5OGuv8R0Qqq6J4A                 NaN                 NaN   \n",
       "-1bOb2izeJBZjHC7NWxiPA               06:30               14:30   \n",
       "\n",
       "variable               hours.Tuesday.open hours.Wednesday.close  \\\n",
       "business_id                                                       \n",
       "--jFTZmywe7StuZ2hEjxyA                NaN                   NaN   \n",
       "-0HGqwlfw3I8nkJyMHxAsQ                NaN                   NaN   \n",
       "-0VK5Z1BfUHUYq4PoBYNLw                NaN                   NaN   \n",
       "-0bUDim5OGuv8R0Qqq6J4A                NaN                   NaN   \n",
       "-1bOb2izeJBZjHC7NWxiPA              06:30                 14:30   \n",
       "\n",
       "variable               hours.Wednesday.open   open  \n",
       "business_id                                         \n",
       "--jFTZmywe7StuZ2hEjxyA                  NaN   True  \n",
       "-0HGqwlfw3I8nkJyMHxAsQ                  NaN   True  \n",
       "-0VK5Z1BfUHUYq4PoBYNLw                  NaN   True  \n",
       "-0bUDim5OGuv8R0Qqq6J4A                  NaN  False  \n",
       "-1bOb2izeJBZjHC7NWxiPA                06:30   True  \n",
       "\n",
       "[5 rows x 78 columns]"
      ]
     },
     "execution_count": 12,
     "metadata": {},
     "output_type": "execute_result"
    }
   ],
   "source": [
    "print df_wide.shape\n",
    "df_wide.head()"
   ]
  },
  {
   "cell_type": "code",
   "execution_count": 13,
   "metadata": {
    "collapsed": false
   },
   "outputs": [],
   "source": [
    "businesses_wide = businesses.drop(['variable', 'value'], axis=1)"
   ]
  },
  {
   "cell_type": "code",
   "execution_count": 14,
   "metadata": {
    "collapsed": false
   },
   "outputs": [],
   "source": [
    "businesses_wide = businesses_wide.groupby('business_id', as_index=False).aggregate(lambda x: x.values[0])"
   ]
  },
  {
   "cell_type": "code",
   "execution_count": 15,
   "metadata": {
    "collapsed": false
   },
   "outputs": [
    {
     "data": {
      "text/html": [
       "<div>\n",
       "<table border=\"1\" class=\"dataframe\">\n",
       "  <thead>\n",
       "    <tr style=\"text-align: right;\">\n",
       "      <th></th>\n",
       "      <th>business_id</th>\n",
       "      <th>name</th>\n",
       "      <th>review_count</th>\n",
       "      <th>city</th>\n",
       "      <th>stars</th>\n",
       "      <th>categories</th>\n",
       "    </tr>\n",
       "  </thead>\n",
       "  <tbody>\n",
       "    <tr>\n",
       "      <th>0</th>\n",
       "      <td>--jFTZmywe7StuZ2hEjxyA</td>\n",
       "      <td>Subway</td>\n",
       "      <td>7</td>\n",
       "      <td>Las Vegas</td>\n",
       "      <td>3.5</td>\n",
       "      <td>['Fast Food', 'Sandwiches', 'Restaurants']</td>\n",
       "    </tr>\n",
       "    <tr>\n",
       "      <th>1</th>\n",
       "      <td>-0HGqwlfw3I8nkJyMHxAsQ</td>\n",
       "      <td>McDonald's</td>\n",
       "      <td>9</td>\n",
       "      <td>Phoenix</td>\n",
       "      <td>3.0</td>\n",
       "      <td>['Burgers', 'Fast Food', 'Restaurants']</td>\n",
       "    </tr>\n",
       "    <tr>\n",
       "      <th>2</th>\n",
       "      <td>-0VK5Z1BfUHUYq4PoBYNLw</td>\n",
       "      <td>T Spot</td>\n",
       "      <td>5</td>\n",
       "      <td>Las Vegas</td>\n",
       "      <td>3.5</td>\n",
       "      <td>['Bars', 'Nightlife', 'Lounges']</td>\n",
       "    </tr>\n",
       "    <tr>\n",
       "      <th>3</th>\n",
       "      <td>-0bUDim5OGuv8R0Qqq6J4A</td>\n",
       "      <td>IHOP</td>\n",
       "      <td>8</td>\n",
       "      <td>Phoenix</td>\n",
       "      <td>2.0</td>\n",
       "      <td>['Bakeries', 'Food', 'Breakfast &amp; Brunch', 'Re...</td>\n",
       "    </tr>\n",
       "    <tr>\n",
       "      <th>4</th>\n",
       "      <td>-1bOb2izeJBZjHC7NWxiPA</td>\n",
       "      <td>First Watch</td>\n",
       "      <td>120</td>\n",
       "      <td>Phoenix</td>\n",
       "      <td>4.0</td>\n",
       "      <td>['Breakfast &amp; Brunch', 'Cafes', 'American (Tra...</td>\n",
       "    </tr>\n",
       "  </tbody>\n",
       "</table>\n",
       "</div>"
      ],
      "text/plain": [
       "              business_id         name  review_count       city  stars  \\\n",
       "0  --jFTZmywe7StuZ2hEjxyA       Subway             7  Las Vegas    3.5   \n",
       "1  -0HGqwlfw3I8nkJyMHxAsQ   McDonald's             9    Phoenix    3.0   \n",
       "2  -0VK5Z1BfUHUYq4PoBYNLw       T Spot             5  Las Vegas    3.5   \n",
       "3  -0bUDim5OGuv8R0Qqq6J4A         IHOP             8    Phoenix    2.0   \n",
       "4  -1bOb2izeJBZjHC7NWxiPA  First Watch           120    Phoenix    4.0   \n",
       "\n",
       "                                          categories  \n",
       "0         ['Fast Food', 'Sandwiches', 'Restaurants']  \n",
       "1            ['Burgers', 'Fast Food', 'Restaurants']  \n",
       "2                   ['Bars', 'Nightlife', 'Lounges']  \n",
       "3  ['Bakeries', 'Food', 'Breakfast & Brunch', 'Re...  \n",
       "4  ['Breakfast & Brunch', 'Cafes', 'American (Tra...  "
      ]
     },
     "execution_count": 15,
     "metadata": {},
     "output_type": "execute_result"
    }
   ],
   "source": [
    "businesses_wide.head()"
   ]
  },
  {
   "cell_type": "code",
   "execution_count": 16,
   "metadata": {
    "collapsed": false
   },
   "outputs": [],
   "source": [
    "def widen_categories(row):\n",
    "    categories = row['categories'].replace('[', '').replace(']', '').replace(\"'\", '').split(', ')\n",
    "    for x in categories:\n",
    "        row[x] = True\n",
    "    return row\n",
    "\n",
    "categories_df = businesses_wide.apply(widen_categories, axis=1).iloc[:, :-5]\n",
    "businesses_wide = businesses_wide.merge(categories_df, how='inner', on='business_id')"
   ]
  },
  {
   "cell_type": "code",
   "execution_count": 17,
   "metadata": {
    "collapsed": false
   },
   "outputs": [],
   "source": [
    "businesses_wide = businesses_wide.drop('categories', axis=1)"
   ]
  },
  {
   "cell_type": "code",
   "execution_count": 18,
   "metadata": {
    "collapsed": false
   },
   "outputs": [
    {
     "name": "stdout",
     "output_type": "stream",
     "text": [
      "(4132, 219)\n"
     ]
    }
   ],
   "source": [
    "print businesses_wide.shape"
   ]
  },
  {
   "cell_type": "code",
   "execution_count": 19,
   "metadata": {
    "collapsed": false
   },
   "outputs": [
    {
     "name": "stdout",
     "output_type": "stream",
     "text": [
      "(4132, 78)\n"
     ]
    }
   ],
   "source": [
    "print df_wide.shape"
   ]
  },
  {
   "cell_type": "code",
   "execution_count": 20,
   "metadata": {
    "collapsed": false
   },
   "outputs": [],
   "source": [
    "businesses_merged = businesses_wide.merge(df_wide, left_on='business_id', right_index=True)"
   ]
  },
  {
   "cell_type": "code",
   "execution_count": 21,
   "metadata": {
    "collapsed": false
   },
   "outputs": [
    {
     "name": "stdout",
     "output_type": "stream",
     "text": [
      "(4132, 297)\n"
     ]
    }
   ],
   "source": [
    "print businesses_merged.shape"
   ]
  },
  {
   "cell_type": "code",
   "execution_count": 22,
   "metadata": {
    "collapsed": false
   },
   "outputs": [],
   "source": [
    "# Percent not null in each column\n",
    "percent_not_null = (businesses_merged.shape[0] - businesses_merged.isnull().sum()) / 4132.0 * 100\n",
    "businesses_less_nulls = businesses_merged.drop(businesses_merged[percent_not_null[percent_not_null < 10].index], axis=1)"
   ]
  },
  {
   "cell_type": "code",
   "execution_count": 23,
   "metadata": {
    "collapsed": false
   },
   "outputs": [
    {
     "name": "stdout",
     "output_type": "stream",
     "text": [
      "(4132, 73)\n"
     ]
    },
    {
     "data": {
      "text/html": [
       "<div>\n",
       "<table border=\"1\" class=\"dataframe\">\n",
       "  <thead>\n",
       "    <tr style=\"text-align: right;\">\n",
       "      <th></th>\n",
       "      <th>business_id</th>\n",
       "      <th>name</th>\n",
       "      <th>review_count</th>\n",
       "      <th>city</th>\n",
       "      <th>stars</th>\n",
       "      <th>American (Traditional)</th>\n",
       "      <th>Bars</th>\n",
       "      <th>Burgers</th>\n",
       "      <th>Fast Food</th>\n",
       "      <th>Food</th>\n",
       "      <th>...</th>\n",
       "      <th>hours.Saturday.open</th>\n",
       "      <th>hours.Sunday.close</th>\n",
       "      <th>hours.Sunday.open</th>\n",
       "      <th>hours.Thursday.close</th>\n",
       "      <th>hours.Thursday.open</th>\n",
       "      <th>hours.Tuesday.close</th>\n",
       "      <th>hours.Tuesday.open</th>\n",
       "      <th>hours.Wednesday.close</th>\n",
       "      <th>hours.Wednesday.open</th>\n",
       "      <th>open</th>\n",
       "    </tr>\n",
       "  </thead>\n",
       "  <tbody>\n",
       "    <tr>\n",
       "      <th>0</th>\n",
       "      <td>--jFTZmywe7StuZ2hEjxyA</td>\n",
       "      <td>Subway</td>\n",
       "      <td>7</td>\n",
       "      <td>Las Vegas</td>\n",
       "      <td>3.5</td>\n",
       "      <td>NaN</td>\n",
       "      <td>NaN</td>\n",
       "      <td>NaN</td>\n",
       "      <td>True</td>\n",
       "      <td>NaN</td>\n",
       "      <td>...</td>\n",
       "      <td>NaN</td>\n",
       "      <td>NaN</td>\n",
       "      <td>NaN</td>\n",
       "      <td>NaN</td>\n",
       "      <td>NaN</td>\n",
       "      <td>NaN</td>\n",
       "      <td>NaN</td>\n",
       "      <td>NaN</td>\n",
       "      <td>NaN</td>\n",
       "      <td>True</td>\n",
       "    </tr>\n",
       "    <tr>\n",
       "      <th>1</th>\n",
       "      <td>-0HGqwlfw3I8nkJyMHxAsQ</td>\n",
       "      <td>McDonald's</td>\n",
       "      <td>9</td>\n",
       "      <td>Phoenix</td>\n",
       "      <td>3.0</td>\n",
       "      <td>NaN</td>\n",
       "      <td>NaN</td>\n",
       "      <td>True</td>\n",
       "      <td>True</td>\n",
       "      <td>NaN</td>\n",
       "      <td>...</td>\n",
       "      <td>NaN</td>\n",
       "      <td>NaN</td>\n",
       "      <td>NaN</td>\n",
       "      <td>NaN</td>\n",
       "      <td>NaN</td>\n",
       "      <td>NaN</td>\n",
       "      <td>NaN</td>\n",
       "      <td>NaN</td>\n",
       "      <td>NaN</td>\n",
       "      <td>True</td>\n",
       "    </tr>\n",
       "    <tr>\n",
       "      <th>2</th>\n",
       "      <td>-0VK5Z1BfUHUYq4PoBYNLw</td>\n",
       "      <td>T Spot</td>\n",
       "      <td>5</td>\n",
       "      <td>Las Vegas</td>\n",
       "      <td>3.5</td>\n",
       "      <td>NaN</td>\n",
       "      <td>True</td>\n",
       "      <td>NaN</td>\n",
       "      <td>NaN</td>\n",
       "      <td>NaN</td>\n",
       "      <td>...</td>\n",
       "      <td>NaN</td>\n",
       "      <td>NaN</td>\n",
       "      <td>NaN</td>\n",
       "      <td>NaN</td>\n",
       "      <td>NaN</td>\n",
       "      <td>NaN</td>\n",
       "      <td>NaN</td>\n",
       "      <td>NaN</td>\n",
       "      <td>NaN</td>\n",
       "      <td>True</td>\n",
       "    </tr>\n",
       "    <tr>\n",
       "      <th>3</th>\n",
       "      <td>-0bUDim5OGuv8R0Qqq6J4A</td>\n",
       "      <td>IHOP</td>\n",
       "      <td>8</td>\n",
       "      <td>Phoenix</td>\n",
       "      <td>2.0</td>\n",
       "      <td>NaN</td>\n",
       "      <td>NaN</td>\n",
       "      <td>NaN</td>\n",
       "      <td>NaN</td>\n",
       "      <td>True</td>\n",
       "      <td>...</td>\n",
       "      <td>NaN</td>\n",
       "      <td>NaN</td>\n",
       "      <td>NaN</td>\n",
       "      <td>NaN</td>\n",
       "      <td>NaN</td>\n",
       "      <td>NaN</td>\n",
       "      <td>NaN</td>\n",
       "      <td>NaN</td>\n",
       "      <td>NaN</td>\n",
       "      <td>False</td>\n",
       "    </tr>\n",
       "    <tr>\n",
       "      <th>4</th>\n",
       "      <td>-1bOb2izeJBZjHC7NWxiPA</td>\n",
       "      <td>First Watch</td>\n",
       "      <td>120</td>\n",
       "      <td>Phoenix</td>\n",
       "      <td>4.0</td>\n",
       "      <td>True</td>\n",
       "      <td>NaN</td>\n",
       "      <td>NaN</td>\n",
       "      <td>NaN</td>\n",
       "      <td>NaN</td>\n",
       "      <td>...</td>\n",
       "      <td>06:30</td>\n",
       "      <td>14:30</td>\n",
       "      <td>06:30</td>\n",
       "      <td>14:30</td>\n",
       "      <td>06:30</td>\n",
       "      <td>14:30</td>\n",
       "      <td>06:30</td>\n",
       "      <td>14:30</td>\n",
       "      <td>06:30</td>\n",
       "      <td>True</td>\n",
       "    </tr>\n",
       "  </tbody>\n",
       "</table>\n",
       "<p>5 rows × 73 columns</p>\n",
       "</div>"
      ],
      "text/plain": [
       "              business_id         name  review_count       city  stars  \\\n",
       "0  --jFTZmywe7StuZ2hEjxyA       Subway             7  Las Vegas    3.5   \n",
       "1  -0HGqwlfw3I8nkJyMHxAsQ   McDonald's             9    Phoenix    3.0   \n",
       "2  -0VK5Z1BfUHUYq4PoBYNLw       T Spot             5  Las Vegas    3.5   \n",
       "3  -0bUDim5OGuv8R0Qqq6J4A         IHOP             8    Phoenix    2.0   \n",
       "4  -1bOb2izeJBZjHC7NWxiPA  First Watch           120    Phoenix    4.0   \n",
       "\n",
       "  American (Traditional)  Bars Burgers Fast Food  Food  ...    \\\n",
       "0                    NaN   NaN     NaN      True   NaN  ...     \n",
       "1                    NaN   NaN    True      True   NaN  ...     \n",
       "2                    NaN  True     NaN       NaN   NaN  ...     \n",
       "3                    NaN   NaN     NaN       NaN  True  ...     \n",
       "4                   True   NaN     NaN       NaN   NaN  ...     \n",
       "\n",
       "  hours.Saturday.open hours.Sunday.close hours.Sunday.open  \\\n",
       "0                 NaN                NaN               NaN   \n",
       "1                 NaN                NaN               NaN   \n",
       "2                 NaN                NaN               NaN   \n",
       "3                 NaN                NaN               NaN   \n",
       "4               06:30              14:30             06:30   \n",
       "\n",
       "  hours.Thursday.close hours.Thursday.open hours.Tuesday.close  \\\n",
       "0                  NaN                 NaN                 NaN   \n",
       "1                  NaN                 NaN                 NaN   \n",
       "2                  NaN                 NaN                 NaN   \n",
       "3                  NaN                 NaN                 NaN   \n",
       "4                14:30               06:30               14:30   \n",
       "\n",
       "  hours.Tuesday.open hours.Wednesday.close hours.Wednesday.open   open  \n",
       "0                NaN                   NaN                  NaN   True  \n",
       "1                NaN                   NaN                  NaN   True  \n",
       "2                NaN                   NaN                  NaN   True  \n",
       "3                NaN                   NaN                  NaN  False  \n",
       "4              06:30                 14:30                06:30   True  \n",
       "\n",
       "[5 rows x 73 columns]"
      ]
     },
     "execution_count": 23,
     "metadata": {},
     "output_type": "execute_result"
    }
   ],
   "source": [
    "print businesses_less_nulls.shape\n",
    "businesses_less_nulls.head()"
   ]
  },
  {
   "cell_type": "markdown",
   "metadata": {},
   "source": [
    "<img src=\"http://imgur.com/l5NasQj.png\" style=\"float: left; margin: 25px 15px 0px 0px; height: 25px\">\n",
    "\n",
    "## 1. Constructing a \"profile\" for Las Vegas\n",
    "\n",
    "---\n",
    "\n",
    "Yelp is interested in building out what they are calling \"profiles\" for cities. They want you to start with just Las Vegas to see what a prototype of this would look like. Essentially, they want to know what makes Las Vegas distinct from the other four.\n",
    "\n",
    "Use the data you have to predict Las Vegas from the other variables you have. You should not be predicting the city from any kind of location data or other data perfectly associated with that city (or another city).\n",
    "\n",
    "You may use any classification algorithm you deem appropriate, or even multiple models. You should:\n",
    "\n",
    "1. Build at least one model predicting Las Vegas vs. the other cities.\n",
    "- Validate your model(s).\n",
    "- Interpret and visualize, in some way, the results.\n",
    "- Write up a \"profile\" for Las Vegas. This should be a writeup converting your findings from the model(s) into a human-readable description of the city."
   ]
  },
  {
   "cell_type": "code",
   "execution_count": 183,
   "metadata": {
    "collapsed": false
   },
   "outputs": [],
   "source": [
    "businesses_lvprofile = businesses_less_nulls.copy()\n",
    "businesses_lvprofile['city'] = businesses_less_nulls['city'].apply(lambda x: 1 if x == 'Las Vegas' else 0)\n",
    "businesses_lvprofile.columns = [col_name.lower().replace(' ', '_').replace('.', '_').replace('(', '').replace(')', '').replace('-', '_') for col_name in businesses_lvprofile.columns]"
   ]
  },
  {
   "cell_type": "code",
   "execution_count": 184,
   "metadata": {
    "collapsed": false
   },
   "outputs": [
    {
     "data": {
      "text/html": [
       "<div>\n",
       "<table border=\"1\" class=\"dataframe\">\n",
       "  <thead>\n",
       "    <tr style=\"text-align: right;\">\n",
       "      <th></th>\n",
       "      <th>american_traditional</th>\n",
       "      <th>attributes_accepts_credit_cards</th>\n",
       "      <th>attributes_alcohol</th>\n",
       "      <th>attributes_ambience_casual</th>\n",
       "      <th>attributes_ambience_classy</th>\n",
       "      <th>attributes_ambience_divey</th>\n",
       "      <th>attributes_ambience_hipster</th>\n",
       "      <th>attributes_ambience_intimate</th>\n",
       "      <th>attributes_ambience_romantic</th>\n",
       "      <th>attributes_ambience_touristy</th>\n",
       "      <th>attributes_ambience_trendy</th>\n",
       "      <th>attributes_ambience_upscale</th>\n",
       "      <th>attributes_attire</th>\n",
       "      <th>attributes_caters</th>\n",
       "      <th>attributes_coat_check</th>\n",
       "      <th>attributes_delivery</th>\n",
       "      <th>attributes_drive_thru</th>\n",
       "      <th>attributes_good_for_breakfast</th>\n",
       "      <th>attributes_good_for_brunch</th>\n",
       "      <th>attributes_good_for_dancing</th>\n",
       "      <th>attributes_good_for_dessert</th>\n",
       "      <th>attributes_good_for_dinner</th>\n",
       "      <th>attributes_good_for_groups</th>\n",
       "      <th>attributes_good_for_kids</th>\n",
       "      <th>attributes_good_for_latenight</th>\n",
       "      <th>attributes_good_for_lunch</th>\n",
       "      <th>attributes_happy_hour</th>\n",
       "      <th>attributes_has_tv</th>\n",
       "      <th>attributes_music_dj</th>\n",
       "      <th>attributes_music_jukebox</th>\n",
       "      <th>attributes_music_karaoke</th>\n",
       "      <th>attributes_music_live</th>\n",
       "      <th>attributes_music_video</th>\n",
       "      <th>attributes_noise_level</th>\n",
       "      <th>attributes_outdoor_seating</th>\n",
       "      <th>attributes_parking_garage</th>\n",
       "      <th>attributes_parking_lot</th>\n",
       "      <th>attributes_parking_street</th>\n",
       "      <th>attributes_parking_valet</th>\n",
       "      <th>attributes_parking_validated</th>\n",
       "      <th>attributes_price_range</th>\n",
       "      <th>attributes_smoking</th>\n",
       "      <th>attributes_take_out</th>\n",
       "      <th>attributes_takes_reservations</th>\n",
       "      <th>attributes_waiter_service</th>\n",
       "      <th>attributes_wheelchair_accessible</th>\n",
       "      <th>attributes_wi_fi</th>\n",
       "      <th>bars</th>\n",
       "      <th>burgers</th>\n",
       "      <th>city</th>\n",
       "      <th>fast_food</th>\n",
       "      <th>food</th>\n",
       "      <th>hours_friday_close</th>\n",
       "      <th>hours_friday_open</th>\n",
       "      <th>hours_monday_close</th>\n",
       "      <th>hours_monday_open</th>\n",
       "      <th>hours_saturday_close</th>\n",
       "      <th>hours_saturday_open</th>\n",
       "      <th>hours_sunday_close</th>\n",
       "      <th>hours_sunday_open</th>\n",
       "      <th>hours_thursday_close</th>\n",
       "      <th>hours_thursday_open</th>\n",
       "      <th>hours_tuesday_close</th>\n",
       "      <th>hours_tuesday_open</th>\n",
       "      <th>hours_wednesday_close</th>\n",
       "      <th>hours_wednesday_open</th>\n",
       "      <th>name</th>\n",
       "      <th>nightlife</th>\n",
       "      <th>open</th>\n",
       "      <th>restaurants</th>\n",
       "      <th>review_count</th>\n",
       "      <th>stars</th>\n",
       "    </tr>\n",
       "  </thead>\n",
       "  <tbody>\n",
       "    <tr>\n",
       "      <th>0</th>\n",
       "      <td>NA</td>\n",
       "      <td>True</td>\n",
       "      <td>none</td>\n",
       "      <td>NA</td>\n",
       "      <td>NA</td>\n",
       "      <td>NA</td>\n",
       "      <td>NA</td>\n",
       "      <td>NA</td>\n",
       "      <td>NA</td>\n",
       "      <td>NA</td>\n",
       "      <td>NA</td>\n",
       "      <td>NA</td>\n",
       "      <td>casual</td>\n",
       "      <td>NA</td>\n",
       "      <td>NA</td>\n",
       "      <td>False</td>\n",
       "      <td>False</td>\n",
       "      <td>True</td>\n",
       "      <td>False</td>\n",
       "      <td>NA</td>\n",
       "      <td>False</td>\n",
       "      <td>False</td>\n",
       "      <td>True</td>\n",
       "      <td>True</td>\n",
       "      <td>False</td>\n",
       "      <td>False</td>\n",
       "      <td>NA</td>\n",
       "      <td>False</td>\n",
       "      <td>NA</td>\n",
       "      <td>NA</td>\n",
       "      <td>NA</td>\n",
       "      <td>NA</td>\n",
       "      <td>NA</td>\n",
       "      <td>NA</td>\n",
       "      <td>True</td>\n",
       "      <td>NA</td>\n",
       "      <td>NA</td>\n",
       "      <td>NA</td>\n",
       "      <td>NA</td>\n",
       "      <td>NA</td>\n",
       "      <td>1.0</td>\n",
       "      <td>NA</td>\n",
       "      <td>True</td>\n",
       "      <td>False</td>\n",
       "      <td>NA</td>\n",
       "      <td>NA</td>\n",
       "      <td>NA</td>\n",
       "      <td>NA</td>\n",
       "      <td>NA</td>\n",
       "      <td>1</td>\n",
       "      <td>True</td>\n",
       "      <td>NA</td>\n",
       "      <td>NA</td>\n",
       "      <td>NA</td>\n",
       "      <td>NA</td>\n",
       "      <td>NA</td>\n",
       "      <td>NA</td>\n",
       "      <td>NA</td>\n",
       "      <td>NA</td>\n",
       "      <td>NA</td>\n",
       "      <td>NA</td>\n",
       "      <td>NA</td>\n",
       "      <td>NA</td>\n",
       "      <td>NA</td>\n",
       "      <td>NA</td>\n",
       "      <td>NA</td>\n",
       "      <td>Subway</td>\n",
       "      <td>NA</td>\n",
       "      <td>True</td>\n",
       "      <td>True</td>\n",
       "      <td>7</td>\n",
       "      <td>3.5</td>\n",
       "    </tr>\n",
       "    <tr>\n",
       "      <th>1</th>\n",
       "      <td>NA</td>\n",
       "      <td>True</td>\n",
       "      <td>none</td>\n",
       "      <td>NA</td>\n",
       "      <td>NA</td>\n",
       "      <td>NA</td>\n",
       "      <td>NA</td>\n",
       "      <td>NA</td>\n",
       "      <td>NA</td>\n",
       "      <td>NA</td>\n",
       "      <td>NA</td>\n",
       "      <td>NA</td>\n",
       "      <td>casual</td>\n",
       "      <td>False</td>\n",
       "      <td>NA</td>\n",
       "      <td>False</td>\n",
       "      <td>True</td>\n",
       "      <td>False</td>\n",
       "      <td>False</td>\n",
       "      <td>NA</td>\n",
       "      <td>False</td>\n",
       "      <td>False</td>\n",
       "      <td>True</td>\n",
       "      <td>True</td>\n",
       "      <td>False</td>\n",
       "      <td>False</td>\n",
       "      <td>NA</td>\n",
       "      <td>True</td>\n",
       "      <td>NA</td>\n",
       "      <td>NA</td>\n",
       "      <td>NA</td>\n",
       "      <td>NA</td>\n",
       "      <td>NA</td>\n",
       "      <td>quiet</td>\n",
       "      <td>False</td>\n",
       "      <td>False</td>\n",
       "      <td>False</td>\n",
       "      <td>False</td>\n",
       "      <td>False</td>\n",
       "      <td>False</td>\n",
       "      <td>1.0</td>\n",
       "      <td>NA</td>\n",
       "      <td>True</td>\n",
       "      <td>False</td>\n",
       "      <td>False</td>\n",
       "      <td>NA</td>\n",
       "      <td>free</td>\n",
       "      <td>NA</td>\n",
       "      <td>True</td>\n",
       "      <td>0</td>\n",
       "      <td>True</td>\n",
       "      <td>NA</td>\n",
       "      <td>NA</td>\n",
       "      <td>NA</td>\n",
       "      <td>NA</td>\n",
       "      <td>NA</td>\n",
       "      <td>NA</td>\n",
       "      <td>NA</td>\n",
       "      <td>NA</td>\n",
       "      <td>NA</td>\n",
       "      <td>NA</td>\n",
       "      <td>NA</td>\n",
       "      <td>NA</td>\n",
       "      <td>NA</td>\n",
       "      <td>NA</td>\n",
       "      <td>NA</td>\n",
       "      <td>McDonald's</td>\n",
       "      <td>NA</td>\n",
       "      <td>True</td>\n",
       "      <td>True</td>\n",
       "      <td>9</td>\n",
       "      <td>3.0</td>\n",
       "    </tr>\n",
       "    <tr>\n",
       "      <th>2</th>\n",
       "      <td>NA</td>\n",
       "      <td>True</td>\n",
       "      <td>full_bar</td>\n",
       "      <td>True</td>\n",
       "      <td>False</td>\n",
       "      <td>False</td>\n",
       "      <td>False</td>\n",
       "      <td>False</td>\n",
       "      <td>False</td>\n",
       "      <td>False</td>\n",
       "      <td>False</td>\n",
       "      <td>False</td>\n",
       "      <td>NA</td>\n",
       "      <td>NA</td>\n",
       "      <td>False</td>\n",
       "      <td>NA</td>\n",
       "      <td>NA</td>\n",
       "      <td>NA</td>\n",
       "      <td>NA</td>\n",
       "      <td>True</td>\n",
       "      <td>NA</td>\n",
       "      <td>NA</td>\n",
       "      <td>True</td>\n",
       "      <td>NA</td>\n",
       "      <td>NA</td>\n",
       "      <td>NA</td>\n",
       "      <td>True</td>\n",
       "      <td>False</td>\n",
       "      <td>NA</td>\n",
       "      <td>NA</td>\n",
       "      <td>NA</td>\n",
       "      <td>False</td>\n",
       "      <td>NA</td>\n",
       "      <td>loud</td>\n",
       "      <td>False</td>\n",
       "      <td>False</td>\n",
       "      <td>False</td>\n",
       "      <td>False</td>\n",
       "      <td>False</td>\n",
       "      <td>False</td>\n",
       "      <td>2.0</td>\n",
       "      <td>yes</td>\n",
       "      <td>NA</td>\n",
       "      <td>NA</td>\n",
       "      <td>NA</td>\n",
       "      <td>NA</td>\n",
       "      <td>NA</td>\n",
       "      <td>True</td>\n",
       "      <td>NA</td>\n",
       "      <td>1</td>\n",
       "      <td>NA</td>\n",
       "      <td>NA</td>\n",
       "      <td>NA</td>\n",
       "      <td>NA</td>\n",
       "      <td>NA</td>\n",
       "      <td>NA</td>\n",
       "      <td>NA</td>\n",
       "      <td>NA</td>\n",
       "      <td>NA</td>\n",
       "      <td>NA</td>\n",
       "      <td>NA</td>\n",
       "      <td>NA</td>\n",
       "      <td>NA</td>\n",
       "      <td>NA</td>\n",
       "      <td>NA</td>\n",
       "      <td>NA</td>\n",
       "      <td>T Spot</td>\n",
       "      <td>True</td>\n",
       "      <td>True</td>\n",
       "      <td>NA</td>\n",
       "      <td>5</td>\n",
       "      <td>3.5</td>\n",
       "    </tr>\n",
       "    <tr>\n",
       "      <th>3</th>\n",
       "      <td>NA</td>\n",
       "      <td>True</td>\n",
       "      <td>NA</td>\n",
       "      <td>NA</td>\n",
       "      <td>NA</td>\n",
       "      <td>NA</td>\n",
       "      <td>NA</td>\n",
       "      <td>NA</td>\n",
       "      <td>NA</td>\n",
       "      <td>NA</td>\n",
       "      <td>NA</td>\n",
       "      <td>NA</td>\n",
       "      <td>casual</td>\n",
       "      <td>NA</td>\n",
       "      <td>NA</td>\n",
       "      <td>False</td>\n",
       "      <td>NA</td>\n",
       "      <td>False</td>\n",
       "      <td>False</td>\n",
       "      <td>NA</td>\n",
       "      <td>False</td>\n",
       "      <td>False</td>\n",
       "      <td>True</td>\n",
       "      <td>True</td>\n",
       "      <td>False</td>\n",
       "      <td>False</td>\n",
       "      <td>NA</td>\n",
       "      <td>NA</td>\n",
       "      <td>NA</td>\n",
       "      <td>NA</td>\n",
       "      <td>NA</td>\n",
       "      <td>NA</td>\n",
       "      <td>NA</td>\n",
       "      <td>NA</td>\n",
       "      <td>False</td>\n",
       "      <td>False</td>\n",
       "      <td>False</td>\n",
       "      <td>False</td>\n",
       "      <td>False</td>\n",
       "      <td>False</td>\n",
       "      <td>1.0</td>\n",
       "      <td>NA</td>\n",
       "      <td>True</td>\n",
       "      <td>False</td>\n",
       "      <td>True</td>\n",
       "      <td>True</td>\n",
       "      <td>NA</td>\n",
       "      <td>NA</td>\n",
       "      <td>NA</td>\n",
       "      <td>0</td>\n",
       "      <td>NA</td>\n",
       "      <td>True</td>\n",
       "      <td>NA</td>\n",
       "      <td>NA</td>\n",
       "      <td>NA</td>\n",
       "      <td>NA</td>\n",
       "      <td>NA</td>\n",
       "      <td>NA</td>\n",
       "      <td>NA</td>\n",
       "      <td>NA</td>\n",
       "      <td>NA</td>\n",
       "      <td>NA</td>\n",
       "      <td>NA</td>\n",
       "      <td>NA</td>\n",
       "      <td>NA</td>\n",
       "      <td>NA</td>\n",
       "      <td>IHOP</td>\n",
       "      <td>NA</td>\n",
       "      <td>False</td>\n",
       "      <td>True</td>\n",
       "      <td>8</td>\n",
       "      <td>2.0</td>\n",
       "    </tr>\n",
       "    <tr>\n",
       "      <th>4</th>\n",
       "      <td>True</td>\n",
       "      <td>True</td>\n",
       "      <td>none</td>\n",
       "      <td>True</td>\n",
       "      <td>False</td>\n",
       "      <td>False</td>\n",
       "      <td>False</td>\n",
       "      <td>False</td>\n",
       "      <td>False</td>\n",
       "      <td>False</td>\n",
       "      <td>False</td>\n",
       "      <td>False</td>\n",
       "      <td>casual</td>\n",
       "      <td>True</td>\n",
       "      <td>NA</td>\n",
       "      <td>False</td>\n",
       "      <td>NA</td>\n",
       "      <td>True</td>\n",
       "      <td>False</td>\n",
       "      <td>NA</td>\n",
       "      <td>False</td>\n",
       "      <td>False</td>\n",
       "      <td>True</td>\n",
       "      <td>True</td>\n",
       "      <td>False</td>\n",
       "      <td>False</td>\n",
       "      <td>NA</td>\n",
       "      <td>False</td>\n",
       "      <td>NA</td>\n",
       "      <td>NA</td>\n",
       "      <td>NA</td>\n",
       "      <td>NA</td>\n",
       "      <td>NA</td>\n",
       "      <td>average</td>\n",
       "      <td>False</td>\n",
       "      <td>False</td>\n",
       "      <td>True</td>\n",
       "      <td>False</td>\n",
       "      <td>False</td>\n",
       "      <td>False</td>\n",
       "      <td>1.0</td>\n",
       "      <td>NA</td>\n",
       "      <td>True</td>\n",
       "      <td>False</td>\n",
       "      <td>True</td>\n",
       "      <td>True</td>\n",
       "      <td>free</td>\n",
       "      <td>NA</td>\n",
       "      <td>NA</td>\n",
       "      <td>0</td>\n",
       "      <td>NA</td>\n",
       "      <td>NA</td>\n",
       "      <td>14:30</td>\n",
       "      <td>06:30</td>\n",
       "      <td>14:30</td>\n",
       "      <td>06:30</td>\n",
       "      <td>14:30</td>\n",
       "      <td>06:30</td>\n",
       "      <td>14:30</td>\n",
       "      <td>06:30</td>\n",
       "      <td>14:30</td>\n",
       "      <td>06:30</td>\n",
       "      <td>14:30</td>\n",
       "      <td>06:30</td>\n",
       "      <td>14:30</td>\n",
       "      <td>06:30</td>\n",
       "      <td>First Watch</td>\n",
       "      <td>NA</td>\n",
       "      <td>True</td>\n",
       "      <td>True</td>\n",
       "      <td>120</td>\n",
       "      <td>4.0</td>\n",
       "    </tr>\n",
       "  </tbody>\n",
       "</table>\n",
       "</div>"
      ],
      "text/plain": [
       "  american_traditional attributes_accepts_credit_cards attributes_alcohol  \\\n",
       "0                   NA                            True               none   \n",
       "1                   NA                            True               none   \n",
       "2                   NA                            True           full_bar   \n",
       "3                   NA                            True                 NA   \n",
       "4                 True                            True               none   \n",
       "\n",
       "  attributes_ambience_casual attributes_ambience_classy  \\\n",
       "0                         NA                         NA   \n",
       "1                         NA                         NA   \n",
       "2                       True                      False   \n",
       "3                         NA                         NA   \n",
       "4                       True                      False   \n",
       "\n",
       "  attributes_ambience_divey attributes_ambience_hipster  \\\n",
       "0                        NA                          NA   \n",
       "1                        NA                          NA   \n",
       "2                     False                       False   \n",
       "3                        NA                          NA   \n",
       "4                     False                       False   \n",
       "\n",
       "  attributes_ambience_intimate attributes_ambience_romantic  \\\n",
       "0                           NA                           NA   \n",
       "1                           NA                           NA   \n",
       "2                        False                        False   \n",
       "3                           NA                           NA   \n",
       "4                        False                        False   \n",
       "\n",
       "  attributes_ambience_touristy attributes_ambience_trendy  \\\n",
       "0                           NA                         NA   \n",
       "1                           NA                         NA   \n",
       "2                        False                      False   \n",
       "3                           NA                         NA   \n",
       "4                        False                      False   \n",
       "\n",
       "  attributes_ambience_upscale attributes_attire attributes_caters  \\\n",
       "0                          NA            casual                NA   \n",
       "1                          NA            casual             False   \n",
       "2                       False                NA                NA   \n",
       "3                          NA            casual                NA   \n",
       "4                       False            casual              True   \n",
       "\n",
       "  attributes_coat_check attributes_delivery attributes_drive_thru  \\\n",
       "0                    NA               False                 False   \n",
       "1                    NA               False                  True   \n",
       "2                 False                  NA                    NA   \n",
       "3                    NA               False                    NA   \n",
       "4                    NA               False                    NA   \n",
       "\n",
       "  attributes_good_for_breakfast attributes_good_for_brunch  \\\n",
       "0                          True                      False   \n",
       "1                         False                      False   \n",
       "2                            NA                         NA   \n",
       "3                         False                      False   \n",
       "4                          True                      False   \n",
       "\n",
       "  attributes_good_for_dancing attributes_good_for_dessert  \\\n",
       "0                          NA                       False   \n",
       "1                          NA                       False   \n",
       "2                        True                          NA   \n",
       "3                          NA                       False   \n",
       "4                          NA                       False   \n",
       "\n",
       "  attributes_good_for_dinner attributes_good_for_groups  \\\n",
       "0                      False                       True   \n",
       "1                      False                       True   \n",
       "2                         NA                       True   \n",
       "3                      False                       True   \n",
       "4                      False                       True   \n",
       "\n",
       "  attributes_good_for_kids attributes_good_for_latenight  \\\n",
       "0                     True                         False   \n",
       "1                     True                         False   \n",
       "2                       NA                            NA   \n",
       "3                     True                         False   \n",
       "4                     True                         False   \n",
       "\n",
       "  attributes_good_for_lunch attributes_happy_hour attributes_has_tv  \\\n",
       "0                     False                    NA             False   \n",
       "1                     False                    NA              True   \n",
       "2                        NA                  True             False   \n",
       "3                     False                    NA                NA   \n",
       "4                     False                    NA             False   \n",
       "\n",
       "  attributes_music_dj attributes_music_jukebox attributes_music_karaoke  \\\n",
       "0                  NA                       NA                       NA   \n",
       "1                  NA                       NA                       NA   \n",
       "2                  NA                       NA                       NA   \n",
       "3                  NA                       NA                       NA   \n",
       "4                  NA                       NA                       NA   \n",
       "\n",
       "  attributes_music_live attributes_music_video attributes_noise_level  \\\n",
       "0                    NA                     NA                     NA   \n",
       "1                    NA                     NA                  quiet   \n",
       "2                 False                     NA                   loud   \n",
       "3                    NA                     NA                     NA   \n",
       "4                    NA                     NA                average   \n",
       "\n",
       "  attributes_outdoor_seating attributes_parking_garage attributes_parking_lot  \\\n",
       "0                       True                        NA                     NA   \n",
       "1                      False                     False                  False   \n",
       "2                      False                     False                  False   \n",
       "3                      False                     False                  False   \n",
       "4                      False                     False                   True   \n",
       "\n",
       "  attributes_parking_street attributes_parking_valet  \\\n",
       "0                        NA                       NA   \n",
       "1                     False                    False   \n",
       "2                     False                    False   \n",
       "3                     False                    False   \n",
       "4                     False                    False   \n",
       "\n",
       "  attributes_parking_validated attributes_price_range attributes_smoking  \\\n",
       "0                           NA                    1.0                 NA   \n",
       "1                        False                    1.0                 NA   \n",
       "2                        False                    2.0                yes   \n",
       "3                        False                    1.0                 NA   \n",
       "4                        False                    1.0                 NA   \n",
       "\n",
       "  attributes_take_out attributes_takes_reservations attributes_waiter_service  \\\n",
       "0                True                         False                        NA   \n",
       "1                True                         False                     False   \n",
       "2                  NA                            NA                        NA   \n",
       "3                True                         False                      True   \n",
       "4                True                         False                      True   \n",
       "\n",
       "  attributes_wheelchair_accessible attributes_wi_fi  bars burgers  city  \\\n",
       "0                               NA               NA    NA      NA     1   \n",
       "1                               NA             free    NA    True     0   \n",
       "2                               NA               NA  True      NA     1   \n",
       "3                             True               NA    NA      NA     0   \n",
       "4                             True             free    NA      NA     0   \n",
       "\n",
       "  fast_food  food hours_friday_close hours_friday_open hours_monday_close  \\\n",
       "0      True    NA                 NA                NA                 NA   \n",
       "1      True    NA                 NA                NA                 NA   \n",
       "2        NA    NA                 NA                NA                 NA   \n",
       "3        NA  True                 NA                NA                 NA   \n",
       "4        NA    NA              14:30             06:30              14:30   \n",
       "\n",
       "  hours_monday_open hours_saturday_close hours_saturday_open  \\\n",
       "0                NA                   NA                  NA   \n",
       "1                NA                   NA                  NA   \n",
       "2                NA                   NA                  NA   \n",
       "3                NA                   NA                  NA   \n",
       "4             06:30                14:30               06:30   \n",
       "\n",
       "  hours_sunday_close hours_sunday_open hours_thursday_close  \\\n",
       "0                 NA                NA                   NA   \n",
       "1                 NA                NA                   NA   \n",
       "2                 NA                NA                   NA   \n",
       "3                 NA                NA                   NA   \n",
       "4              14:30             06:30                14:30   \n",
       "\n",
       "  hours_thursday_open hours_tuesday_close hours_tuesday_open  \\\n",
       "0                  NA                  NA                 NA   \n",
       "1                  NA                  NA                 NA   \n",
       "2                  NA                  NA                 NA   \n",
       "3                  NA                  NA                 NA   \n",
       "4               06:30               14:30              06:30   \n",
       "\n",
       "  hours_wednesday_close hours_wednesday_open         name nightlife   open  \\\n",
       "0                    NA                   NA       Subway        NA   True   \n",
       "1                    NA                   NA   McDonald's        NA   True   \n",
       "2                    NA                   NA       T Spot      True   True   \n",
       "3                    NA                   NA         IHOP        NA  False   \n",
       "4                 14:30                06:30  First Watch        NA   True   \n",
       "\n",
       "  restaurants  review_count  stars  \n",
       "0        True             7    3.5  \n",
       "1        True             9    3.0  \n",
       "2          NA             5    3.5  \n",
       "3        True             8    2.0  \n",
       "4        True           120    4.0  "
      ]
     },
     "execution_count": 184,
     "metadata": {},
     "output_type": "execute_result"
    }
   ],
   "source": [
    "df = businesses_lvprofile[businesses_lvprofile.columns.difference(['business_id'])].copy()\n",
    "df = df.fillna('NA')\n",
    "\n",
    "pd.options.display.max_columns = 100\n",
    "df.head()"
   ]
  },
  {
   "cell_type": "code",
   "execution_count": 185,
   "metadata": {
    "collapsed": false
   },
   "outputs": [
    {
     "name": "stdout",
     "output_type": "stream",
     "text": [
      "city ~ C(american_traditional) + C(attributes_accepts_credit_cards) + C(attributes_alcohol) + C(attributes_ambience_casual) + C(attributes_ambience_classy) + C(attributes_ambience_divey) + C(attributes_ambience_hipster) + C(attributes_ambience_intimate) + C(attributes_ambience_romantic) + C(attributes_ambience_touristy) + C(attributes_ambience_trendy) + C(attributes_ambience_upscale) + C(attributes_attire) + C(attributes_caters) + C(attributes_coat_check) + C(attributes_delivery) + C(attributes_drive_thru) + C(attributes_good_for_breakfast) + C(attributes_good_for_brunch) + C(attributes_good_for_dancing) + C(attributes_good_for_dessert) + C(attributes_good_for_dinner) + C(attributes_good_for_groups) + C(attributes_good_for_kids) + C(attributes_good_for_latenight) + C(attributes_good_for_lunch) + C(attributes_happy_hour) + C(attributes_has_tv) + C(attributes_music_dj) + C(attributes_music_jukebox) + C(attributes_music_karaoke) + C(attributes_music_live) + C(attributes_music_video) + C(attributes_noise_level) + C(attributes_outdoor_seating) + C(attributes_parking_garage) + C(attributes_parking_lot) + C(attributes_parking_street) + C(attributes_parking_valet) + C(attributes_parking_validated) + C(attributes_price_range) + C(attributes_smoking) + C(attributes_take_out) + C(attributes_takes_reservations) + C(attributes_waiter_service) + C(attributes_wheelchair_accessible) + C(attributes_wi_fi) + C(bars) + C(burgers) + C(fast_food) + C(food) + C(nightlife) + C(open) + C(restaurants) + C(stars) + (review_count) - 1\n",
      "(4132, 125)\n",
      "(4132, 1)\n"
     ]
    }
   ],
   "source": [
    "import patsy\n",
    "\n",
    "df = df.drop(df.iloc[:, -20:-6].columns, axis=1) # Drop hours columns\n",
    "# all_columns = \"C(\" + \") + C(\".join(df.columns.difference(['city', 'review_count'])) + \") + (review_count)\"\n",
    "all_columns = \"C(\" + \") + C(\".join(df.columns.difference(['city', 'review_count', 'name'])) + \") + (review_count)\"\n",
    "formula = \"city ~ \" + all_columns + \" - 1\"\n",
    "# formula = \"city ~ attributes_smoking - 1\"\n",
    "print formula\n",
    "\n",
    "y, X = patsy.dmatrices(formula, data=df, return_type='dataframe')\n",
    "print X.shape\n",
    "print y.shape"
   ]
  },
  {
   "cell_type": "code",
   "execution_count": 186,
   "metadata": {
    "collapsed": false
   },
   "outputs": [
    {
     "name": "stdout",
     "output_type": "stream",
     "text": [
      "(3305, 125) (3305,)\n",
      "(827, 125) (827,)\n"
     ]
    }
   ],
   "source": [
    "from sklearn import linear_model\n",
    "from sklearn.cross_validation import train_test_split\n",
    "\n",
    "y = np.ravel(y)\n",
    "X_train, X_test, y_train, y_test = train_test_split(X, y, train_size=0.8)\n",
    "\n",
    "print X_train.shape, y_train.shape\n",
    "print X_test.shape, y_test.shape"
   ]
  },
  {
   "cell_type": "code",
   "execution_count": 187,
   "metadata": {
    "collapsed": false
   },
   "outputs": [],
   "source": [
    "# from sklearn.grid_search import GridSearchCV\n",
    "# from sklearn.linear_model import LogisticRegression\n",
    "# from sklearn.metrics import roc_curve, auc\n",
    "# import matplotlib.pyplot as plt\n",
    "# # plt.style.use('seaborn-white')\n",
    "# %matplotlib inline\n",
    "\n",
    "# lr_params = {\n",
    "#     'penalty':['l1','l2'],\n",
    "#     'solver':['liblinear'],\n",
    "#     'C':np.logspace(1e-4, 1e4, 40)\n",
    "# }\n",
    "\n",
    "# # import warnings\n",
    "# # warnings.filterwarnings('ignore', message='Changing the shape of non-C contiguous array')\n",
    "\n",
    "# logreg = GridSearchCV(LogisticRegression(), lr_params, cv=5, verbose=2, n_jobs=1)\n",
    "\n",
    "# model = logreg.fit(X_train, y_train)\n",
    "# probabilities = model.predict_proba(X_test)\n",
    "# score = model.score(X_test, y_test)\n",
    "# print 'Model Score: ', score\n",
    "\n"
   ]
  },
  {
   "cell_type": "code",
   "execution_count": 188,
   "metadata": {
    "collapsed": false
   },
   "outputs": [
    {
     "name": "stdout",
     "output_type": "stream",
     "text": [
      "Model Score:  0.706166868198\n"
     ]
    },
    {
     "name": "stderr",
     "output_type": "stream",
     "text": [
      "[Parallel(n_jobs=1)]: Done   5 out of   5 | elapsed:    2.0s finished\n"
     ]
    }
   ],
   "source": [
    "from sklearn.linear_model import LogisticRegressionCV\n",
    "from sklearn.metrics import roc_curve, auc\n",
    "import matplotlib.pyplot as plt\n",
    "plt.style.use('seaborn-white')\n",
    "%matplotlib inline\n",
    "\n",
    "logreg = LogisticRegressionCV(cv=5, n_jobs=1, verbose=1)\n",
    "\n",
    "model = logreg.fit(X_train, y_train)\n",
    "probabilities = model.predict_proba(X_test)\n",
    "score = model.score(X_test, y_test)\n",
    "print 'Model Score: ', score"
   ]
  },
  {
   "cell_type": "code",
   "execution_count": 189,
   "metadata": {
    "collapsed": false
   },
   "outputs": [
    {
     "data": {
      "image/png": "[encoded data removed]",
      "text/plain": [
       "<matplotlib.figure.Figure at 0x126a37990>"
      ]
     },
     "metadata": {
      "image/png": {
       "height": 572,
       "width": 677
      }
     },
     "output_type": "display_data"
    }
   ],
   "source": [
    "FPR = dict()\n",
    "TPR = dict()\n",
    "ROC_AUC = dict()\n",
    "\n",
    "FPR[1], TPR[1], _ = roc_curve(y_test, probabilities[:, 1])\n",
    "ROC_AUC[1] = auc(FPR[1], TPR[1])\n",
    "\n",
    "plt.figure(figsize=[11,9])\n",
    "# Plot false and true rates (returned from roc_curve function)\n",
    "plt.plot(FPR[1], TPR[1], label='ROC curve (area = %0.2f)' % ROC_AUC[1], linewidth=4)\n",
    "# Plot a dotted line diagonally, representing the .5\n",
    "plt.plot([0, 1], [0, 1], 'k--', linewidth=4)\n",
    "plt.xlim([0.0, 1.0])\n",
    "plt.ylim([0.0, 1.05])\n",
    "plt.xlabel('False Positive Rate', fontsize=18)\n",
    "plt.ylabel('True Positive Rate', fontsize=18)\n",
    "plt.title('ROC for Las Vegas model', fontsize=18)\n",
    "plt.legend(loc=\"lower right\")\n",
    "plt.show()"
   ]
  },
  {
   "cell_type": "code",
   "execution_count": 190,
   "metadata": {
    "collapsed": false
   },
   "outputs": [
    {
     "data": {
      "text/html": [
       "<div>\n",
       "<table border=\"1\" class=\"dataframe\">\n",
       "  <thead>\n",
       "    <tr style=\"text-align: right;\">\n",
       "      <th></th>\n",
       "      <th>0</th>\n",
       "      <th>1</th>\n",
       "    </tr>\n",
       "  </thead>\n",
       "  <tbody>\n",
       "    <tr>\n",
       "      <th>91</th>\n",
       "      <td>2.398057</td>\n",
       "      <td>C(attributes_smoking)[T.yes]</td>\n",
       "    </tr>\n",
       "    <tr>\n",
       "      <th>76</th>\n",
       "      <td>1.340010</td>\n",
       "      <td>C(attributes_parking_garage)[T.True]</td>\n",
       "    </tr>\n",
       "    <tr>\n",
       "      <th>48</th>\n",
       "      <td>0.685286</td>\n",
       "      <td>C(attributes_good_for_groups)[T.True]</td>\n",
       "    </tr>\n",
       "    <tr>\n",
       "      <th>40</th>\n",
       "      <td>0.486564</td>\n",
       "      <td>C(attributes_good_for_brunch)[T.True]</td>\n",
       "    </tr>\n",
       "    <tr>\n",
       "      <th>86</th>\n",
       "      <td>0.443394</td>\n",
       "      <td>C(attributes_price_range)[T.3.0]</td>\n",
       "    </tr>\n",
       "    <tr>\n",
       "      <th>47</th>\n",
       "      <td>0.433738</td>\n",
       "      <td>C(attributes_good_for_groups)[T.NA]</td>\n",
       "    </tr>\n",
       "    <tr>\n",
       "      <th>66</th>\n",
       "      <td>0.404485</td>\n",
       "      <td>C(attributes_music_live)[T.True]</td>\n",
       "    </tr>\n",
       "    <tr>\n",
       "      <th>21</th>\n",
       "      <td>0.397037</td>\n",
       "      <td>C(attributes_ambience_touristy)[T.True]</td>\n",
       "    </tr>\n",
       "    <tr>\n",
       "      <th>102</th>\n",
       "      <td>0.378488</td>\n",
       "      <td>C(attributes_wi_fi)[T.paid]</td>\n",
       "    </tr>\n",
       "    <tr>\n",
       "      <th>26</th>\n",
       "      <td>0.372431</td>\n",
       "      <td>C(attributes_attire)[T.casual]</td>\n",
       "    </tr>\n",
       "  </tbody>\n",
       "</table>\n",
       "</div>"
      ],
      "text/plain": [
       "            0                                        1\n",
       "91   2.398057             C(attributes_smoking)[T.yes]\n",
       "76   1.340010     C(attributes_parking_garage)[T.True]\n",
       "48   0.685286    C(attributes_good_for_groups)[T.True]\n",
       "40   0.486564    C(attributes_good_for_brunch)[T.True]\n",
       "86   0.443394         C(attributes_price_range)[T.3.0]\n",
       "47   0.433738      C(attributes_good_for_groups)[T.NA]\n",
       "66   0.404485         C(attributes_music_live)[T.True]\n",
       "21   0.397037  C(attributes_ambience_touristy)[T.True]\n",
       "102  0.378488              C(attributes_wi_fi)[T.paid]\n",
       "26   0.372431           C(attributes_attire)[T.casual]"
      ]
     },
     "execution_count": 190,
     "metadata": {},
     "output_type": "execute_result"
    }
   ],
   "source": [
    "summary = pd.DataFrame(zip(model.coef_[0], X_train.columns))\n",
    "summary.sort_values(0, ascending=False).head(10)"
   ]
  },
  {
   "cell_type": "code",
   "execution_count": 191,
   "metadata": {
    "collapsed": false
   },
   "outputs": [
    {
     "data": {
      "text/html": [
       "<div>\n",
       "<table border=\"1\" class=\"dataframe\">\n",
       "  <thead>\n",
       "    <tr style=\"text-align: right;\">\n",
       "      <th></th>\n",
       "      <th>0</th>\n",
       "      <th>1</th>\n",
       "    </tr>\n",
       "  </thead>\n",
       "  <tbody>\n",
       "    <tr>\n",
       "      <th>90</th>\n",
       "      <td>-1.652857</td>\n",
       "      <td>C(attributes_smoking)[T.outdoor]</td>\n",
       "    </tr>\n",
       "    <tr>\n",
       "      <th>84</th>\n",
       "      <td>-1.132166</td>\n",
       "      <td>C(attributes_parking_validated)[T.True]</td>\n",
       "    </tr>\n",
       "    <tr>\n",
       "      <th>74</th>\n",
       "      <td>-0.876593</td>\n",
       "      <td>C(attributes_outdoor_seating)[T.True]</td>\n",
       "    </tr>\n",
       "    <tr>\n",
       "      <th>12</th>\n",
       "      <td>-0.753623</td>\n",
       "      <td>C(attributes_ambience_divey)[T.NA]</td>\n",
       "    </tr>\n",
       "    <tr>\n",
       "      <th>23</th>\n",
       "      <td>-0.594023</td>\n",
       "      <td>C(attributes_ambience_trendy)[T.True]</td>\n",
       "    </tr>\n",
       "    <tr>\n",
       "      <th>89</th>\n",
       "      <td>-0.568029</td>\n",
       "      <td>C(attributes_smoking)[T.no]</td>\n",
       "    </tr>\n",
       "    <tr>\n",
       "      <th>70</th>\n",
       "      <td>-0.523110</td>\n",
       "      <td>C(attributes_noise_level)[T.loud]</td>\n",
       "    </tr>\n",
       "    <tr>\n",
       "      <th>62</th>\n",
       "      <td>-0.520198</td>\n",
       "      <td>C(attributes_music_jukebox)[T.True]</td>\n",
       "    </tr>\n",
       "    <tr>\n",
       "      <th>80</th>\n",
       "      <td>-0.511094</td>\n",
       "      <td>C(attributes_parking_street)[T.True]</td>\n",
       "    </tr>\n",
       "    <tr>\n",
       "      <th>41</th>\n",
       "      <td>-0.497146</td>\n",
       "      <td>C(attributes_good_for_dancing)[T.NA]</td>\n",
       "    </tr>\n",
       "  </tbody>\n",
       "</table>\n",
       "</div>"
      ],
      "text/plain": [
       "           0                                        1\n",
       "90 -1.652857         C(attributes_smoking)[T.outdoor]\n",
       "84 -1.132166  C(attributes_parking_validated)[T.True]\n",
       "74 -0.876593    C(attributes_outdoor_seating)[T.True]\n",
       "12 -0.753623       C(attributes_ambience_divey)[T.NA]\n",
       "23 -0.594023    C(attributes_ambience_trendy)[T.True]\n",
       "89 -0.568029              C(attributes_smoking)[T.no]\n",
       "70 -0.523110        C(attributes_noise_level)[T.loud]\n",
       "62 -0.520198      C(attributes_music_jukebox)[T.True]\n",
       "80 -0.511094     C(attributes_parking_street)[T.True]\n",
       "41 -0.497146     C(attributes_good_for_dancing)[T.NA]"
      ]
     },
     "execution_count": 191,
     "metadata": {},
     "output_type": "execute_result"
    }
   ],
   "source": [
    "summary.sort_values(0, ascending=True).head(10)"
   ]
  },
  {
   "cell_type": "code",
   "execution_count": 173,
   "metadata": {
    "collapsed": false
   },
   "outputs": [
    {
     "data": {
      "text/plain": [
       "Las Vegas    499\n",
       "Phoenix        7\n",
       "Waterloo       3\n",
       "Surprise       1\n",
       "Name: city, dtype: int64"
      ]
     },
     "execution_count": 173,
     "metadata": {},
     "output_type": "execute_result"
    }
   ],
   "source": [
    "businesses_less_nulls[businesses_less_nulls['attributes.Smoking'] == \"yes\"]['city'].value_counts()"
   ]
  },
  {
   "cell_type": "code",
   "execution_count": 34,
   "metadata": {
    "collapsed": false
   },
   "outputs": [],
   "source": [
    "# businesses_less_nulls[businesses_less_nulls['attributes.Smoking'] == \"outdoor\"]['city'].value_counts()"
   ]
  },
  {
   "cell_type": "code",
   "execution_count": 35,
   "metadata": {
    "collapsed": false
   },
   "outputs": [],
   "source": [
    "# businesses_less_nulls[businesses_less_nulls['attributes.Smoking'] == \"no\"]['city'].value_counts()"
   ]
  },
  {
   "cell_type": "code",
   "execution_count": 36,
   "metadata": {
    "collapsed": false
   },
   "outputs": [],
   "source": [
    "# businesses_less_nulls[businesses_less_nulls['attributes.Parking.garage'] == \"True\"]['city'].value_counts()"
   ]
  },
  {
   "cell_type": "code",
   "execution_count": 37,
   "metadata": {
    "collapsed": false
   },
   "outputs": [],
   "source": [
    "# businesses_less_nulls[businesses_less_nulls['attributes.Parking.validated'] == \"True\"]['city'].value_counts()"
   ]
  },
  {
   "cell_type": "markdown",
   "metadata": {},
   "source": [
    "# KNN\n",
    "\n",
    "Did not end up using this model since it generated inferior results for the features I found relevant,\n",
    "and it does not provide much useful information for generating a profile."
   ]
  },
  {
   "cell_type": "code",
   "execution_count": 38,
   "metadata": {
    "collapsed": true
   },
   "outputs": [],
   "source": [
    "from sklearn.preprocessing import StandardScaler\n",
    "\n",
    "ss = StandardScaler()\n",
    "\n",
    "Xn_train = ss.fit_transform(X_train)\n",
    "Xn_test = ss.fit_transform(X_test)"
   ]
  },
  {
   "cell_type": "code",
   "execution_count": 39,
   "metadata": {
    "collapsed": false
   },
   "outputs": [
    {
     "name": "stdout",
     "output_type": "stream",
     "text": [
      "Fitting 5 folds for each of 48 candidates, totalling 240 fits\n"
     ]
    },
    {
     "name": "stderr",
     "output_type": "stream",
     "text": [
      "[Parallel(n_jobs=-1)]: Done  34 tasks      | elapsed:    3.4s\n",
      "[Parallel(n_jobs=-1)]: Done 184 tasks      | elapsed:   15.8s\n"
     ]
    },
    {
     "name": "stdout",
     "output_type": "stream",
     "text": [
      "{'n_neighbors': 26, 'weights': 'uniform'}\n"
     ]
    },
    {
     "name": "stderr",
     "output_type": "stream",
     "text": [
      "[Parallel(n_jobs=-1)]: Done 240 out of 240 | elapsed:   20.2s finished\n"
     ]
    }
   ],
   "source": [
    "from sklearn.grid_search import GridSearchCV\n",
    "from sklearn.neighbors import KNeighborsClassifier\n",
    "\n",
    "params = {\n",
    "    'n_neighbors':range(6,30),\n",
    "    'weights':['uniform','distance']\n",
    "}\n",
    "\n",
    "knn = KNeighborsClassifier()\n",
    "\n",
    "knn_gs = GridSearchCV(knn, params, cv=5, verbose=1, n_jobs=-1)\n",
    "knn_gs.fit(Xn_train, y_train)\n",
    "\n",
    "print knn_gs.best_params_\n",
    "best_knn = knn_gs.best_estimator_"
   ]
  },
  {
   "cell_type": "code",
   "execution_count": 40,
   "metadata": {
    "collapsed": false
   },
   "outputs": [
    {
     "data": {
      "text/plain": [
       "0.66868198307134219"
      ]
     },
     "execution_count": 40,
     "metadata": {},
     "output_type": "execute_result"
    }
   ],
   "source": [
    "best_knn.fit(Xn_train, y_train)\n",
    "best_knn.score(Xn_test, y_test)"
   ]
  },
  {
   "cell_type": "markdown",
   "metadata": {},
   "source": [
    "\n",
    "\n",
    "\n",
    "# Las Vegas Profile:\n",
    "\n",
    "If you could only choose 2 ways to predict whether a business is in Las Vegas or not, you should choose \n",
    "smoking and parking.\n",
    "Las Vegas businesses are far more likely to allow smoking, and thus unlikely to say no to smoking or restrict \n",
    "it to the outdoors. Businesses in Las Vegas are also disproportionately likely to have a parking garage, and not nearly as likely to offer street parking.\n",
    "\n",
    "Las Vegas also has more high-priced businesses and fewer divey destinations. Unsurprisingly, businesses there\n",
    "are also touristy and better for groups, though they tend to not be so good for dancing to a jukebox...\n",
    "\n",
    "\n",
    ".\n",
    "\n",
    "\n",
    ".\n",
    "\n",
    "\n",
    ".\n",
    "\n",
    "\n",
    ".\n",
    "\n",
    "\n",
    ".\n",
    "\n",
    "\n",
    ".\n",
    "\n",
    "\n",
    ".\n",
    "\n",
    "\n",
    ".\n",
    "\n",
    "\n",
    ".\n",
    "\n",
    "\n",
    ".\n",
    "\n",
    "\n",
    ".\n",
    "\n",
    "\n",
    ".\n",
    "\n",
    "\n",
    ".\n",
    "\n",
    "\n",
    ".\n",
    "\n",
    "\n",
    "."
   ]
  },
  {
   "cell_type": "code",
   "execution_count": 41,
   "metadata": {
    "collapsed": false
   },
   "outputs": [],
   "source": [
    "# print reviews.info()\n",
    "# print reviews.columns.values\n",
    "# reviews.head()"
   ]
  },
  {
   "cell_type": "code",
   "execution_count": 42,
   "metadata": {
    "collapsed": false
   },
   "outputs": [],
   "source": [
    "# print tips.info()\n",
    "# print tips.columns.values\n",
    "# tips.head()"
   ]
  },
  {
   "cell_type": "code",
   "execution_count": 43,
   "metadata": {
    "collapsed": false
   },
   "outputs": [],
   "source": [
    "# users.head()"
   ]
  },
  {
   "cell_type": "markdown",
   "metadata": {},
   "source": [
    "<img src=\"http://imgur.com/l5NasQj.png\" style=\"float: left; margin: 25px 15px 0px 0px; height: 25px\">\n",
    "\n",
    "## 2. Different categories of ratings\n",
    "\n",
    "---\n",
    "\n",
    "Yelp is finally ready to admit that their rating system sucks. No one cares about the ratings, they just use the site to find out what's nearby. The ratings are simply too unreliable for people. \n",
    "\n",
    "Yelp hypothesizes that this is, in fact, because different people tend to give their ratings based on different things. They believe that perhaps some people always base their ratings on quality of food, others on service, and perhaps other categories as well. \n",
    "\n",
    "1. Do some users tend to talk about service more than others in reviews/tips? Divide up the tips/reviews into more \"service-focused\" ones and those less concerned with service.\n",
    "2. Create two new ratings for businesses: ratings from just the service-focused reviews and ratings from the non-service reviews.\n",
    "3. Construct a regression model for each of the two ratings. They should use the same predictor variables (of your choice). \n",
    "4. Validate the performance of the models.\n",
    "5. Do the models coefficients differ at all? What does this tell you about the hypothesis that there are in fact two different kinds of ratings?"
   ]
  },
  {
   "cell_type": "markdown",
   "metadata": {},
   "source": [
    "# Question 1\n",
    "\n",
    "Do some users tend to talk about service more than others in reviews/tips? Divide up the tips/reviews into more \"service-focused\" ones and those less concerned with service."
   ]
  },
  {
   "cell_type": "code",
   "execution_count": 44,
   "metadata": {
    "collapsed": false
   },
   "outputs": [],
   "source": [
    "# reviews.columns"
   ]
  },
  {
   "cell_type": "code",
   "execution_count": 45,
   "metadata": {
    "collapsed": false
   },
   "outputs": [],
   "source": [
    "# print \"\"\"user_id', 'review_id', ... , 'wait staff\"\"\".replace('\\n', '').split(\"' '\")"
   ]
  },
  {
   "cell_type": "code",
   "execution_count": 46,
   "metadata": {
    "collapsed": true
   },
   "outputs": [],
   "source": [
    "reviews_service_cols = ['bottle service', \n",
    "                        'customer service', \n",
    "                        'food came', \n",
    "                        'food service', \n",
    "                        'friendly staff', \n",
    "                        'good service', \n",
    "                        'great service', \n",
    "                        'service excellent', \n",
    "                        'service food', \n",
    "                        'service friendly', \n",
    "                        'service good', \n",
    "                        'service great', \n",
    "                        'staff friendly', \n",
    "                        'super friendly', \n",
    "                        'wait staff']"
   ]
  },
  {
   "cell_type": "code",
   "execution_count": 47,
   "metadata": {
    "collapsed": false
   },
   "outputs": [
    {
     "data": {
      "text/plain": [
       "Index([u'user_id', u'business_id', u'review_id', u'stars', u'bottle service',\n",
       "       u'customer service', u'food came', u'food service', u'friendly staff',\n",
       "       u'good service', u'great service', u'service excellent',\n",
       "       u'service food', u'service friendly', u'service good', u'service great',\n",
       "       u'staff friendly', u'super friendly', u'wait staff'],\n",
       "      dtype='object')"
      ]
     },
     "execution_count": 47,
     "metadata": {},
     "output_type": "execute_result"
    }
   ],
   "source": [
    "reviews_service = reviews[['user_id', 'business_id', 'review_id', 'stars'] + reviews_service_cols]\n",
    "reviews_service.columns"
   ]
  },
  {
   "cell_type": "code",
   "execution_count": 48,
   "metadata": {
    "collapsed": false
   },
   "outputs": [
    {
     "data": {
      "text/plain": [
       "Index([u'10 minutes', u'15 minutes', u'20 minutes', u'30 minutes', u'bar food',\n",
       "       u'beer selection', u'best ve', u'bloody mary', u'business_id',\n",
       "       u'chicken waffles', u'dance floor', u'decided try', u'definitely come',\n",
       "       u'definitely recommend', u'didn want', u'don know', u'don like',\n",
       "       u'don think', u'don want', u'eggs benedict', u'fast food', u'feel like',\n",
       "       u'felt like', u'fish chips', u'food amazing', u'food delicious',\n",
       "       u'food good', u'food great', u'food just', u'french fries',\n",
       "       u'french toast', u'friday night', u'fried chicken', u'good food',\n",
       "       u'good place', u'good thing', u'good time', u'great atmosphere',\n",
       "       u'great experience', u'great food', u'great place', u'great time',\n",
       "       u'happy hour', u'hash browns', u'highly recommend', u'hip hop',\n",
       "       u'ice cream', u'just like', u'just ok', u'just right', u'las vegas',\n",
       "       u'late night', u'like place', u'little bit', u'long time',\n",
       "       u'looked like', u'looks like', u'love place', u'mac cheese',\n",
       "       u'make sure', u'mashed potatoes', u'medium rare', u'minutes later',\n",
       "       u'new york', u'onion rings', u'place good', u'place great',\n",
       "       u'place just', u'potato fries', u'pretty good', u'quality food',\n",
       "       u'really enjoyed', u'really good', u'really like', u'really nice',\n",
       "       u'recommend place', u'red velvet', u'review_id', u'right away',\n",
       "       u'saturday night', u'second time', u'stars', u'sweet potato',\n",
       "       u'tasted like', u'time vegas', u'try place', u'user_id', u've seen',\n",
       "       u've tried'],\n",
       "      dtype='object')"
      ]
     },
     "execution_count": 48,
     "metadata": {},
     "output_type": "execute_result"
    }
   ],
   "source": [
    "reviews_not_service_cols = reviews.columns.difference(list(reviews_service_cols) + ['votes.cool', 'votes.funny', 'date', 'votes.useful']).values\n",
    "reviews_not_service = reviews[reviews_not_service_cols]\n",
    "reviews_not_service.columns"
   ]
  },
  {
   "cell_type": "code",
   "execution_count": 49,
   "metadata": {
    "collapsed": true
   },
   "outputs": [],
   "source": [
    "tips_service_cols = ['awesome service', \n",
    "                     'bottle service', \n",
    "                     'customer service', \n",
    "                     'excellent service', \n",
    "                     'fast service', \n",
    "                     'food service', \n",
    "                     'friendly service', \n",
    "                     'friendly staff', \n",
    "                     'good service', \n",
    "                     'great service', \n",
    "                     'great staff', \n",
    "                     'service food', \n",
    "                     'service good', \n",
    "                     'service great', \n",
    "                     'slow service', \n",
    "                     'staff friendly',  \n",
    "                     'super friendly']"
   ]
  },
  {
   "cell_type": "code",
   "execution_count": 50,
   "metadata": {
    "collapsed": false
   },
   "outputs": [
    {
     "data": {
      "text/plain": [
       "Index([u'user_id', u'business_id', u'awesome service', u'bottle service',\n",
       "       u'customer service', u'excellent service', u'fast service',\n",
       "       u'food service', u'friendly service', u'friendly staff',\n",
       "       u'good service', u'great service', u'great staff', u'service food',\n",
       "       u'service good', u'service great', u'slow service', u'staff friendly',\n",
       "       u'super friendly'],\n",
       "      dtype='object')"
      ]
     },
     "execution_count": 50,
     "metadata": {},
     "output_type": "execute_result"
    }
   ],
   "source": [
    "tips_service = tips[['user_id', 'business_id'] + tips_service_cols]\n",
    "tips_service.columns"
   ]
  },
  {
   "cell_type": "code",
   "execution_count": 51,
   "metadata": {
    "collapsed": false
   },
   "outputs": [
    {
     "data": {
      "text/plain": [
       "Index([u'24 hours', u'amazing food', u'animal style', u'awesome food',\n",
       "       u'awesome place', u'beef hash', u'beer selection', u'best breakfast',\n",
       "       u'best burger', u'best burgers', u'best place', u'bloody mary',\n",
       "       u'business_id', u'carne asada', u'cheese fries', u'chicken waffles',\n",
       "       u'come early', u'cool place', u'corned beef', u'delicious food',\n",
       "       u'don come', u'don forget', u'eggs benedict', u'excellent food',\n",
       "       u'fast food', u'favorite place', u'feel like', u'fish chips',\n",
       "       u'food amazing', u'food awesome', u'food drinks', u'food good',\n",
       "       u'food great', u'free wifi', u'french toast', u'fried chicken',\n",
       "       u'gluten free', u'good food', u'good place', u'great atmosphere',\n",
       "       u'great beer', u'great breakfast', u'great burgers', u'great customer',\n",
       "       u'great drinks', u'great food', u'great happy', u'great place',\n",
       "       u'great prices', u'great spot', u'grilled cheese', u'guest list',\n",
       "       u'happy birthday', u'happy hour', u'highly recommend', u'ice cream',\n",
       "       u'las vegas', u'late night', u'live music', u'long wait', u'love food',\n",
       "       u'love love', u'love place', u'mac cheese', u'make sure',\n",
       "       u'new favorite', u'nice place', u'nom nom', u'onion rings', u'open 24',\n",
       "       u'place awesome', u'place eat', u'place good', u'place great',\n",
       "       u'potato fries', u'pretty good', u'prime rib', u'really good',\n",
       "       u'red velvet', u'staff great', u'steak eggs', u'sweet potato',\n",
       "       u'user_id', u'velvet pancakes', u'worth wait'],\n",
       "      dtype='object')"
      ]
     },
     "execution_count": 51,
     "metadata": {},
     "output_type": "execute_result"
    }
   ],
   "source": [
    "tips_not_service_cols = tips.columns.difference(list(tips_service_cols) + ['date', 'likes']).values\n",
    "tips_not_service = tips[tips_not_service_cols]\n",
    "tips_not_service.columns"
   ]
  },
  {
   "cell_type": "code",
   "execution_count": 52,
   "metadata": {
    "collapsed": false
   },
   "outputs": [
    {
     "data": {
      "text/html": [
       "<div>\n",
       "<table border=\"1\" class=\"dataframe\">\n",
       "  <thead>\n",
       "    <tr style=\"text-align: right;\">\n",
       "      <th></th>\n",
       "    </tr>\n",
       "  </thead>\n",
       "  <tbody>\n",
       "    <tr>\n",
       "      <th>rpOyqD_893cqmDAtJLbdog</th>\n",
       "    </tr>\n",
       "    <tr>\n",
       "      <th>4U9kSBLuBDU391x6bxU-YA</th>\n",
       "    </tr>\n",
       "    <tr>\n",
       "      <th>SIBCL7HBkrP4llolm4SC2A</th>\n",
       "    </tr>\n",
       "    <tr>\n",
       "      <th>UTS9XcT14H2ZscRIf0MYHQ</th>\n",
       "    </tr>\n",
       "    <tr>\n",
       "      <th>ZWOj6LmzwGvMDh-A85EOtA</th>\n",
       "    </tr>\n",
       "  </tbody>\n",
       "</table>\n",
       "</div>"
      ],
      "text/plain": [
       "Empty DataFrame\n",
       "Columns: []\n",
       "Index: [rpOyqD_893cqmDAtJLbdog, 4U9kSBLuBDU391x6bxU-YA, SIBCL7HBkrP4llolm4SC2A, UTS9XcT14H2ZscRIf0MYHQ, ZWOj6LmzwGvMDh-A85EOtA]"
      ]
     },
     "execution_count": 52,
     "metadata": {},
     "output_type": "execute_result"
    }
   ],
   "source": [
    "ratios = pd.DataFrame(index=users['user_id'].values)\n",
    "ratios.head()"
   ]
  },
  {
   "cell_type": "code",
   "execution_count": 53,
   "metadata": {
    "collapsed": false
   },
   "outputs": [
    {
     "data": {
      "text/plain": [
       "Index([u'business_id', u'review_id', u'stars', u'user_id', u'10 minutes',\n",
       "       u'15 minutes', u'20 minutes', u'30 minutes', u'bar food',\n",
       "       u'beer selection', u'best ve', u'bloody mary', u'chicken waffles',\n",
       "       u'dance floor', u'decided try', u'definitely come',\n",
       "       u'definitely recommend', u'didn want', u'don know', u'don like',\n",
       "       u'don think', u'don want', u'eggs benedict', u'fast food', u'feel like',\n",
       "       u'felt like', u'fish chips', u'food amazing', u'food delicious',\n",
       "       u'food good', u'food great', u'food just', u'french fries',\n",
       "       u'french toast', u'friday night', u'fried chicken', u'good food',\n",
       "       u'good place', u'good thing', u'good time', u'great atmosphere',\n",
       "       u'great experience', u'great food', u'great place', u'great time',\n",
       "       u'happy hour', u'hash browns', u'highly recommend', u'hip hop',\n",
       "       u'ice cream', u'just like', u'just ok', u'just right', u'las vegas',\n",
       "       u'late night', u'like place', u'little bit', u'long time',\n",
       "       u'looked like', u'looks like', u'love place', u'mac cheese',\n",
       "       u'make sure', u'mashed potatoes', u'medium rare', u'minutes later',\n",
       "       u'new york', u'onion rings', u'place good', u'place great',\n",
       "       u'place just', u'potato fries', u'pretty good', u'quality food',\n",
       "       u'really enjoyed', u'really good', u'really like', u'really nice',\n",
       "       u'recommend place', u'red velvet', u'right away', u'saturday night',\n",
       "       u'second time', u'sweet potato', u'tasted like', u'time vegas',\n",
       "       u'try place', u've seen', u've tried'],\n",
       "      dtype='object')"
      ]
     },
     "execution_count": 53,
     "metadata": {},
     "output_type": "execute_result"
    }
   ],
   "source": [
    "# Reset column order for reviews_not_service\n",
    "pd.options.mode.chained_assignment = None\n",
    "\n",
    "df = reviews_not_service.drop(['user_id', 'business_id', 'review_id', 'stars'], axis=1)\n",
    "reviews_not_service.drop(reviews_not_service.columns.difference(\n",
    "        ['user_id', 'business_id', 'review_id', 'stars']), inplace=True, axis=1)\n",
    "reviews_not_service = pd.concat([reviews_not_service, df], axis=1)\n",
    "reviews_not_service.columns"
   ]
  },
  {
   "cell_type": "code",
   "execution_count": 54,
   "metadata": {
    "collapsed": false
   },
   "outputs": [
    {
     "data": {
      "text/plain": [
       "Index([u'business_id', u'user_id', u'24 hours', u'amazing food',\n",
       "       u'animal style', u'awesome food', u'awesome place', u'beef hash',\n",
       "       u'beer selection', u'best breakfast', u'best burger', u'best burgers',\n",
       "       u'best place', u'bloody mary', u'carne asada', u'cheese fries',\n",
       "       u'chicken waffles', u'come early', u'cool place', u'corned beef',\n",
       "       u'delicious food', u'don come', u'don forget', u'eggs benedict',\n",
       "       u'excellent food', u'fast food', u'favorite place', u'feel like',\n",
       "       u'fish chips', u'food amazing', u'food awesome', u'food drinks',\n",
       "       u'food good', u'food great', u'free wifi', u'french toast',\n",
       "       u'fried chicken', u'gluten free', u'good food', u'good place',\n",
       "       u'great atmosphere', u'great beer', u'great breakfast',\n",
       "       u'great burgers', u'great customer', u'great drinks', u'great food',\n",
       "       u'great happy', u'great place', u'great prices', u'great spot',\n",
       "       u'grilled cheese', u'guest list', u'happy birthday', u'happy hour',\n",
       "       u'highly recommend', u'ice cream', u'las vegas', u'late night',\n",
       "       u'live music', u'long wait', u'love food', u'love love', u'love place',\n",
       "       u'mac cheese', u'make sure', u'new favorite', u'nice place', u'nom nom',\n",
       "       u'onion rings', u'open 24', u'place awesome', u'place eat',\n",
       "       u'place good', u'place great', u'potato fries', u'pretty good',\n",
       "       u'prime rib', u'really good', u'red velvet', u'staff great',\n",
       "       u'steak eggs', u'sweet potato', u'velvet pancakes', u'worth wait'],\n",
       "      dtype='object')"
      ]
     },
     "execution_count": 54,
     "metadata": {},
     "output_type": "execute_result"
    }
   ],
   "source": [
    "# Reset column order for tips_not_service\n",
    "df = tips_not_service.drop(['user_id', 'business_id'], axis=1)\n",
    "tips_not_service.drop(tips_not_service.columns.difference(\n",
    "        ['user_id', 'business_id']), inplace=True, axis=1)\n",
    "tips_not_service = pd.concat([tips_not_service, df], axis=1)\n",
    "\n",
    "pd.options.mode.chained_assignment = 'warn'\n",
    "\n",
    "tips_not_service.columns"
   ]
  },
  {
   "cell_type": "code",
   "execution_count": 55,
   "metadata": {
    "collapsed": true
   },
   "outputs": [],
   "source": [
    "# Get sums for calculating ratio of service-related reviews/tips\n",
    "def fill_ratio_values(row, col_name, df_type):\n",
    "    if df_type == 'reviews': \n",
    "        ratios.loc[row['user_id'], col_name] = sum(row[4:])\n",
    "    else:\n",
    "        ratios.loc[row['user_id'], col_name] = sum(row[2:])"
   ]
  },
  {
   "cell_type": "code",
   "execution_count": 56,
   "metadata": {
    "collapsed": false
   },
   "outputs": [
    {
     "name": "stdout",
     "output_type": "stream",
     "text": [
      "Filling ratio values...\n",
      "Column 1 of 4 complete\n",
      "Column 2 of 4 complete\n",
      "Column 3 of 4 complete\n",
      "Column 4 of 4 complete\n"
     ]
    }
   ],
   "source": [
    "# Takes a few minutes to finish\n",
    "\n",
    "print \"Filling ratio values...\"\n",
    "reviews_service.apply(fill_ratio_values, args=('reviews_service', 'reviews'), axis=1)\n",
    "print \"Column 1 of 4 complete\"\n",
    "reviews_not_service.apply(fill_ratio_values, args=('reviews_not_service', 'reviews'), axis=1)\n",
    "print \"Column 2 of 4 complete\"\n",
    "tips_service.apply(fill_ratio_values, args=('tips_service', 'tips'), axis=1)\n",
    "print \"Column 3 of 4 complete\"\n",
    "tips_not_service.apply(fill_ratio_values, args=('tips_not_service', 'tips'), axis=1)\n",
    "print \"Column 4 of 4 complete\""
   ]
  },
  {
   "cell_type": "code",
   "execution_count": 57,
   "metadata": {
    "collapsed": false
   },
   "outputs": [
    {
     "data": {
      "text/html": [
       "<div>\n",
       "<table border=\"1\" class=\"dataframe\">\n",
       "  <thead>\n",
       "    <tr style=\"text-align: right;\">\n",
       "      <th></th>\n",
       "      <th>reviews_service</th>\n",
       "      <th>reviews_not_service</th>\n",
       "      <th>tips_service</th>\n",
       "      <th>tips_not_service</th>\n",
       "    </tr>\n",
       "  </thead>\n",
       "  <tbody>\n",
       "    <tr>\n",
       "      <th>rpOyqD_893cqmDAtJLbdog</th>\n",
       "      <td>0.0</td>\n",
       "      <td>1.0</td>\n",
       "      <td>0.0</td>\n",
       "      <td>0.0</td>\n",
       "    </tr>\n",
       "    <tr>\n",
       "      <th>4U9kSBLuBDU391x6bxU-YA</th>\n",
       "      <td>1.0</td>\n",
       "      <td>2.0</td>\n",
       "      <td>0.0</td>\n",
       "      <td>0.0</td>\n",
       "    </tr>\n",
       "    <tr>\n",
       "      <th>SIBCL7HBkrP4llolm4SC2A</th>\n",
       "      <td>0.0</td>\n",
       "      <td>0.0</td>\n",
       "      <td>NaN</td>\n",
       "      <td>NaN</td>\n",
       "    </tr>\n",
       "    <tr>\n",
       "      <th>UTS9XcT14H2ZscRIf0MYHQ</th>\n",
       "      <td>2.0</td>\n",
       "      <td>5.0</td>\n",
       "      <td>0.0</td>\n",
       "      <td>0.0</td>\n",
       "    </tr>\n",
       "    <tr>\n",
       "      <th>ZWOj6LmzwGvMDh-A85EOtA</th>\n",
       "      <td>0.0</td>\n",
       "      <td>2.0</td>\n",
       "      <td>0.0</td>\n",
       "      <td>0.0</td>\n",
       "    </tr>\n",
       "  </tbody>\n",
       "</table>\n",
       "</div>"
      ],
      "text/plain": [
       "                        reviews_service  reviews_not_service  tips_service  \\\n",
       "rpOyqD_893cqmDAtJLbdog              0.0                  1.0           0.0   \n",
       "4U9kSBLuBDU391x6bxU-YA              1.0                  2.0           0.0   \n",
       "SIBCL7HBkrP4llolm4SC2A              0.0                  0.0           NaN   \n",
       "UTS9XcT14H2ZscRIf0MYHQ              2.0                  5.0           0.0   \n",
       "ZWOj6LmzwGvMDh-A85EOtA              0.0                  2.0           0.0   \n",
       "\n",
       "                        tips_not_service  \n",
       "rpOyqD_893cqmDAtJLbdog               0.0  \n",
       "4U9kSBLuBDU391x6bxU-YA               0.0  \n",
       "SIBCL7HBkrP4llolm4SC2A               NaN  \n",
       "UTS9XcT14H2ZscRIf0MYHQ               0.0  \n",
       "ZWOj6LmzwGvMDh-A85EOtA               0.0  "
      ]
     },
     "execution_count": 57,
     "metadata": {},
     "output_type": "execute_result"
    }
   ],
   "source": [
    "ratios.head()"
   ]
  },
  {
   "cell_type": "code",
   "execution_count": 58,
   "metadata": {
    "collapsed": false
   },
   "outputs": [],
   "source": [
    "ratios_calculated = ratios\n",
    "\n",
    "ratios_calculated['service_related_ratio'] = ratios_calculated.apply(\n",
    "    lambda row: (row['reviews_service'] + row['tips_service']) / np.sum(row)\n",
    ", axis=1)"
   ]
  },
  {
   "cell_type": "code",
   "execution_count": 59,
   "metadata": {
    "collapsed": false
   },
   "outputs": [],
   "source": [
    "ratios_results = ratios['service_related_ratio'].dropna()"
   ]
  },
  {
   "cell_type": "code",
   "execution_count": 60,
   "metadata": {
    "collapsed": false
   },
   "outputs": [
    {
     "data": {
      "text/plain": [
       "<matplotlib.axes._subplots.AxesSubplot at 0x1214febd0>"
      ]
     },
     "execution_count": 60,
     "metadata": {},
     "output_type": "execute_result"
    },
    {
     "data": {
      "image/png": "[encoded data removed]",
      "text/plain": [
       "<matplotlib.figure.Figure at 0x11a55e450>"
      ]
     },
     "metadata": {
      "image/png": {
       "height": 409,
       "width": 963
      }
     },
     "output_type": "display_data"
    }
   ],
   "source": [
    "import seaborn as sns\n",
    "plt.style.use('seaborn-white')\n",
    "plt.figure(figsize=[16,6])\n",
    "\n",
    "plt.xlim([-0.05, 0.9])\n",
    "\n",
    "plt.xlabel('', fontsize=18)\n",
    "plt.ylabel('User Count', fontsize=18)\n",
    "plt.title(\"How Much do Users Talk About Service?\", fontsize=24)\n",
    "    \n",
    "sns.distplot(ratios_results, axlabel='Service/Non-Service Talk Ratio', kde=False)"
   ]
  },
  {
   "cell_type": "code",
   "execution_count": 61,
   "metadata": {
    "collapsed": false
   },
   "outputs": [
    {
     "data": {
      "text/plain": [
       "<matplotlib.axes._subplots.AxesSubplot at 0x118bb4250>"
      ]
     },
     "execution_count": 61,
     "metadata": {},
     "output_type": "execute_result"
    },
    {
     "data": {
      "image/png": "[encoded data removed]",
      "text/plain": [
       "<matplotlib.figure.Figure at 0x118bbcb90>"
      ]
     },
     "metadata": {
      "image/png": {
       "height": 410,
       "width": 957
      }
     },
     "output_type": "display_data"
    }
   ],
   "source": [
    "plt.figure(figsize=[16,6])\n",
    "\n",
    "plt.xlim([-0.05, 0.9])\n",
    "plt.ylim([0.0, 1500])\n",
    "\n",
    "plt.xlabel('', fontsize=18)\n",
    "plt.ylabel('User Count', fontsize=18)\n",
    "plt.title(\"How Much Do Users Talk About Service? (Zoomed In)\", fontsize=24)\n",
    "    \n",
    "sns.distplot(ratios_results, axlabel='Service/Non-Service Talk Ratio', kde=False)"
   ]
  },
  {
   "cell_type": "code",
   "execution_count": 62,
   "metadata": {
    "collapsed": false
   },
   "outputs": [
    {
     "name": "stdout",
     "output_type": "stream",
     "text": [
      "count    17903.000000\n",
      "mean         0.192870\n",
      "std          0.315047\n",
      "min          0.000000\n",
      "25%          0.000000\n",
      "50%          0.000000\n",
      "75%          0.333333\n",
      "max          1.000000\n",
      "Name: service_related_ratio, dtype: float64 \n",
      "\n",
      "Percent of reviewers who focused more on service:\n",
      "13.34%\n"
     ]
    }
   ],
   "source": [
    "print ratios_results.describe(), \"\\n\"\n",
    "print \"Percent of reviewers who focused more on service:\"\n",
    "print str(np.round((float((ratios_results > .5).value_counts()[1]) / (ratios_results > .5).value_counts()[0] * 100), 2)) + \"%\""
   ]
  },
  {
   "cell_type": "markdown",
   "metadata": {},
   "source": [
    ".\n",
    "\n",
    "\n",
    ".\n",
    "\n",
    "\n",
    ".\n",
    "\n",
    "\n",
    ".\n",
    "\n",
    "\n",
    ".\n",
    "\n",
    "\n",
    ".\n",
    "\n",
    "\n",
    ".\n",
    "\n",
    "\n",
    ".\n",
    "\n",
    "\n",
    ".\n",
    "\n",
    "\n",
    "."
   ]
  },
  {
   "cell_type": "code",
   "execution_count": 63,
   "metadata": {
    "collapsed": true
   },
   "outputs": [],
   "source": [
    "# users_tips_service = users.merge(tips_service, on='user_id')"
   ]
  },
  {
   "cell_type": "code",
   "execution_count": 64,
   "metadata": {
    "collapsed": false
   },
   "outputs": [],
   "source": [
    "# print users.shape\n",
    "# print tips_service.shape\n",
    "# print users_tips_service.shape"
   ]
  },
  {
   "cell_type": "code",
   "execution_count": 65,
   "metadata": {
    "collapsed": true
   },
   "outputs": [],
   "source": [
    "# users_tips_not_service = users.merge(tips_not_service, on='user_id')"
   ]
  },
  {
   "cell_type": "code",
   "execution_count": 66,
   "metadata": {
    "collapsed": false
   },
   "outputs": [],
   "source": [
    "# print users.shape\n",
    "# print tips_not_service.shape\n",
    "# print users_tips_not_service.shape"
   ]
  },
  {
   "cell_type": "markdown",
   "metadata": {},
   "source": [
    "# Question 2\n",
    "\n",
    "Create two new ratings for businesses: ratings from just the service-focused reviews and ratings from the non-service reviews."
   ]
  },
  {
   "cell_type": "code",
   "execution_count": 67,
   "metadata": {
    "collapsed": false
   },
   "outputs": [],
   "source": [
    "# users_reviews_service = users.merge(reviews_service, on='user_id')"
   ]
  },
  {
   "cell_type": "code",
   "execution_count": 68,
   "metadata": {
    "collapsed": false
   },
   "outputs": [],
   "source": [
    "# print users.shape\n",
    "# print reviews_service.shape\n",
    "# print users_reviews_service.shape"
   ]
  },
  {
   "cell_type": "code",
   "execution_count": 69,
   "metadata": {
    "collapsed": true
   },
   "outputs": [],
   "source": [
    "# users_reviews_not_service = users.merge(reviews_not_service, on='user_id')"
   ]
  },
  {
   "cell_type": "code",
   "execution_count": 70,
   "metadata": {
    "collapsed": false
   },
   "outputs": [],
   "source": [
    "# print users.shape\n",
    "# print reviews_not_service.shape\n",
    "# print users_reviews_not_service.shape"
   ]
  },
  {
   "cell_type": "code",
   "execution_count": 71,
   "metadata": {
    "collapsed": false
   },
   "outputs": [],
   "source": [
    "reviews_service_cols_new = list(reviews_service.iloc[:, 4:].columns)\n",
    "reviews_not_service_cols_new = list(reviews_not_service.iloc[:, 4:].columns)"
   ]
  },
  {
   "cell_type": "code",
   "execution_count": 72,
   "metadata": {
    "collapsed": true
   },
   "outputs": [],
   "source": [
    "def get_service_ratings(row):\n",
    "    if np.sum(row[reviews_service_cols_new]) > np.sum(row[reviews_not_service_cols_new]):\n",
    "        row['stars_service'] = row['stars']\n",
    "    else:\n",
    "        row['stars_not_service'] = row['stars']\n",
    "    return row"
   ]
  },
  {
   "cell_type": "code",
   "execution_count": 73,
   "metadata": {
    "collapsed": false
   },
   "outputs": [],
   "source": [
    "# Takes several minutes to run\n",
    "\n",
    "reviews_stars = reviews.apply(get_service_ratings, axis=1)"
   ]
  },
  {
   "cell_type": "code",
   "execution_count": 74,
   "metadata": {
    "collapsed": false
   },
   "outputs": [
    {
     "data": {
      "text/html": [
       "<div>\n",
       "<table border=\"1\" class=\"dataframe\">\n",
       "  <thead>\n",
       "    <tr style=\"text-align: right;\">\n",
       "      <th></th>\n",
       "      <th>review_id</th>\n",
       "      <th>stars_service</th>\n",
       "      <th>stars_not_service</th>\n",
       "    </tr>\n",
       "  </thead>\n",
       "  <tbody>\n",
       "    <tr>\n",
       "      <th>322393</th>\n",
       "      <td>AZj9ywomKPU2amrQ4Dgdgw</td>\n",
       "      <td>NaN</td>\n",
       "      <td>5.0</td>\n",
       "    </tr>\n",
       "    <tr>\n",
       "      <th>322394</th>\n",
       "      <td>pc64h8WmcsLmOhZJ0d42cA</td>\n",
       "      <td>NaN</td>\n",
       "      <td>5.0</td>\n",
       "    </tr>\n",
       "    <tr>\n",
       "      <th>322395</th>\n",
       "      <td>VNK6dKKgpKf5aTy_Pb5qOA</td>\n",
       "      <td>5.0</td>\n",
       "      <td>NaN</td>\n",
       "    </tr>\n",
       "    <tr>\n",
       "      <th>322396</th>\n",
       "      <td>BdXe5zknM0P5qUmj815icg</td>\n",
       "      <td>NaN</td>\n",
       "      <td>5.0</td>\n",
       "    </tr>\n",
       "    <tr>\n",
       "      <th>322397</th>\n",
       "      <td>pbeNXaVsBAo72GmII2A0oA</td>\n",
       "      <td>NaN</td>\n",
       "      <td>5.0</td>\n",
       "    </tr>\n",
       "  </tbody>\n",
       "</table>\n",
       "</div>"
      ],
      "text/plain": [
       "                     review_id  stars_service  stars_not_service\n",
       "322393  AZj9ywomKPU2amrQ4Dgdgw            NaN                5.0\n",
       "322394  pc64h8WmcsLmOhZJ0d42cA            NaN                5.0\n",
       "322395  VNK6dKKgpKf5aTy_Pb5qOA            5.0                NaN\n",
       "322396  BdXe5zknM0P5qUmj815icg            NaN                5.0\n",
       "322397  pbeNXaVsBAo72GmII2A0oA            NaN                5.0"
      ]
     },
     "execution_count": 74,
     "metadata": {},
     "output_type": "execute_result"
    }
   ],
   "source": [
    "reviews_stars.tail()[['review_id', 'stars_service', 'stars_not_service']]"
   ]
  },
  {
   "cell_type": "code",
   "execution_count": 75,
   "metadata": {
    "collapsed": false
   },
   "outputs": [],
   "source": [
    "mean_ratings = pd.DataFrame(reviews_stars.groupby('business_id').mean())[['stars_service', 'stars_not_service']]\n",
    "business_stars = businesses_less_nulls.merge(mean_ratings, how='left', left_on='business_id', right_index=True)\n",
    "business_stars.drop(business_stars.columns[4:-2], axis=1, inplace=True)"
   ]
  },
  {
   "cell_type": "code",
   "execution_count": 76,
   "metadata": {
    "collapsed": false
   },
   "outputs": [
    {
     "data": {
      "text/html": [
       "<div>\n",
       "<table border=\"1\" class=\"dataframe\">\n",
       "  <thead>\n",
       "    <tr style=\"text-align: right;\">\n",
       "      <th></th>\n",
       "      <th>business_id</th>\n",
       "      <th>name</th>\n",
       "      <th>review_count</th>\n",
       "      <th>city</th>\n",
       "      <th>stars_service</th>\n",
       "      <th>stars_not_service</th>\n",
       "    </tr>\n",
       "  </thead>\n",
       "  <tbody>\n",
       "    <tr>\n",
       "      <th>0</th>\n",
       "      <td>--jFTZmywe7StuZ2hEjxyA</td>\n",
       "      <td>Subway</td>\n",
       "      <td>7</td>\n",
       "      <td>Las Vegas</td>\n",
       "      <td>NaN</td>\n",
       "      <td>3.400000</td>\n",
       "    </tr>\n",
       "    <tr>\n",
       "      <th>1</th>\n",
       "      <td>-0HGqwlfw3I8nkJyMHxAsQ</td>\n",
       "      <td>McDonald's</td>\n",
       "      <td>9</td>\n",
       "      <td>Phoenix</td>\n",
       "      <td>3.5</td>\n",
       "      <td>2.857143</td>\n",
       "    </tr>\n",
       "    <tr>\n",
       "      <th>2</th>\n",
       "      <td>-0VK5Z1BfUHUYq4PoBYNLw</td>\n",
       "      <td>T Spot</td>\n",
       "      <td>5</td>\n",
       "      <td>Las Vegas</td>\n",
       "      <td>NaN</td>\n",
       "      <td>3.750000</td>\n",
       "    </tr>\n",
       "    <tr>\n",
       "      <th>3</th>\n",
       "      <td>-0bUDim5OGuv8R0Qqq6J4A</td>\n",
       "      <td>IHOP</td>\n",
       "      <td>8</td>\n",
       "      <td>Phoenix</td>\n",
       "      <td>NaN</td>\n",
       "      <td>2.142857</td>\n",
       "    </tr>\n",
       "    <tr>\n",
       "      <th>4</th>\n",
       "      <td>-1bOb2izeJBZjHC7NWxiPA</td>\n",
       "      <td>First Watch</td>\n",
       "      <td>120</td>\n",
       "      <td>Phoenix</td>\n",
       "      <td>4.4</td>\n",
       "      <td>3.908046</td>\n",
       "    </tr>\n",
       "  </tbody>\n",
       "</table>\n",
       "</div>"
      ],
      "text/plain": [
       "              business_id         name  review_count       city  \\\n",
       "0  --jFTZmywe7StuZ2hEjxyA       Subway             7  Las Vegas   \n",
       "1  -0HGqwlfw3I8nkJyMHxAsQ   McDonald's             9    Phoenix   \n",
       "2  -0VK5Z1BfUHUYq4PoBYNLw       T Spot             5  Las Vegas   \n",
       "3  -0bUDim5OGuv8R0Qqq6J4A         IHOP             8    Phoenix   \n",
       "4  -1bOb2izeJBZjHC7NWxiPA  First Watch           120    Phoenix   \n",
       "\n",
       "   stars_service  stars_not_service  \n",
       "0            NaN           3.400000  \n",
       "1            3.5           2.857143  \n",
       "2            NaN           3.750000  \n",
       "3            NaN           2.142857  \n",
       "4            4.4           3.908046  "
      ]
     },
     "execution_count": 76,
     "metadata": {},
     "output_type": "execute_result"
    }
   ],
   "source": [
    "business_stars.head()"
   ]
  },
  {
   "cell_type": "markdown",
   "metadata": {},
   "source": [
    ".\n",
    "\n",
    "\n",
    ".\n",
    "\n",
    "\n",
    ".\n",
    "\n",
    "\n",
    ".\n",
    "\n",
    "\n",
    ".\n",
    "\n",
    "\n",
    ".\n",
    "\n",
    "\n",
    ".\n",
    "\n",
    "\n",
    ".\n",
    "\n",
    "\n",
    ".\n",
    "\n",
    "\n",
    "."
   ]
  },
  {
   "cell_type": "markdown",
   "metadata": {},
   "source": [
    "# Question 3\n",
    "\n",
    "Construct a regression model for each of the two ratings. They should use the same predictor variables (of your choice)."
   ]
  },
  {
   "cell_type": "code",
   "execution_count": 109,
   "metadata": {
    "collapsed": false
   },
   "outputs": [
    {
     "name": "stdout",
     "output_type": "stream",
     "text": [
      "(4132, 6)\n"
     ]
    },
    {
     "data": {
      "text/html": [
       "<div>\n",
       "<table border=\"1\" class=\"dataframe\">\n",
       "  <thead>\n",
       "    <tr style=\"text-align: right;\">\n",
       "      <th></th>\n",
       "      <th>business_id</th>\n",
       "      <th>name</th>\n",
       "      <th>review_count</th>\n",
       "      <th>city</th>\n",
       "      <th>stars_service</th>\n",
       "      <th>stars_not_service</th>\n",
       "    </tr>\n",
       "  </thead>\n",
       "  <tbody>\n",
       "    <tr>\n",
       "      <th>0</th>\n",
       "      <td>--jFTZmywe7StuZ2hEjxyA</td>\n",
       "      <td>Subway</td>\n",
       "      <td>7</td>\n",
       "      <td>Las Vegas</td>\n",
       "      <td>NaN</td>\n",
       "      <td>3.400000</td>\n",
       "    </tr>\n",
       "    <tr>\n",
       "      <th>1</th>\n",
       "      <td>-0HGqwlfw3I8nkJyMHxAsQ</td>\n",
       "      <td>McDonald's</td>\n",
       "      <td>9</td>\n",
       "      <td>Phoenix</td>\n",
       "      <td>3.5</td>\n",
       "      <td>2.857143</td>\n",
       "    </tr>\n",
       "    <tr>\n",
       "      <th>2</th>\n",
       "      <td>-0VK5Z1BfUHUYq4PoBYNLw</td>\n",
       "      <td>T Spot</td>\n",
       "      <td>5</td>\n",
       "      <td>Las Vegas</td>\n",
       "      <td>NaN</td>\n",
       "      <td>3.750000</td>\n",
       "    </tr>\n",
       "    <tr>\n",
       "      <th>3</th>\n",
       "      <td>-0bUDim5OGuv8R0Qqq6J4A</td>\n",
       "      <td>IHOP</td>\n",
       "      <td>8</td>\n",
       "      <td>Phoenix</td>\n",
       "      <td>NaN</td>\n",
       "      <td>2.142857</td>\n",
       "    </tr>\n",
       "    <tr>\n",
       "      <th>4</th>\n",
       "      <td>-1bOb2izeJBZjHC7NWxiPA</td>\n",
       "      <td>First Watch</td>\n",
       "      <td>120</td>\n",
       "      <td>Phoenix</td>\n",
       "      <td>4.4</td>\n",
       "      <td>3.908046</td>\n",
       "    </tr>\n",
       "  </tbody>\n",
       "</table>\n",
       "</div>"
      ],
      "text/plain": [
       "              business_id         name  review_count       city  \\\n",
       "0  --jFTZmywe7StuZ2hEjxyA       Subway             7  Las Vegas   \n",
       "1  -0HGqwlfw3I8nkJyMHxAsQ   McDonald's             9    Phoenix   \n",
       "2  -0VK5Z1BfUHUYq4PoBYNLw       T Spot             5  Las Vegas   \n",
       "3  -0bUDim5OGuv8R0Qqq6J4A         IHOP             8    Phoenix   \n",
       "4  -1bOb2izeJBZjHC7NWxiPA  First Watch           120    Phoenix   \n",
       "\n",
       "   stars_service  stars_not_service  \n",
       "0            NaN           3.400000  \n",
       "1            3.5           2.857143  \n",
       "2            NaN           3.750000  \n",
       "3            NaN           2.142857  \n",
       "4            4.4           3.908046  "
      ]
     },
     "execution_count": 109,
     "metadata": {},
     "output_type": "execute_result"
    }
   ],
   "source": [
    "print business_stars.shape\n",
    "business_stars.head()"
   ]
  },
  {
   "cell_type": "code",
   "execution_count": 110,
   "metadata": {
    "collapsed": false
   },
   "outputs": [
    {
     "name": "stdout",
     "output_type": "stream",
     "text": [
      "stars_not_service ~ review_count + C(city) - 1\n",
      "(4130, 5)\n",
      "(4130, 1)\n"
     ]
    }
   ],
   "source": [
    "import patsy\n",
    "\n",
    "df = business_stars.copy()\n",
    "formula = \"stars_not_service ~ review_count + C(city) - 1\"\n",
    "\n",
    "print formula\n",
    "\n",
    "y, X = patsy.dmatrices(formula, data=df, return_type='dataframe')\n",
    "print X.shape\n",
    "print y.shape"
   ]
  },
  {
   "cell_type": "code",
   "execution_count": 111,
   "metadata": {
    "collapsed": false
   },
   "outputs": [
    {
     "data": {
      "text/html": [
       "<div>\n",
       "<table border=\"1\" class=\"dataframe\">\n",
       "  <thead>\n",
       "    <tr style=\"text-align: right;\">\n",
       "      <th></th>\n",
       "      <th>C(city)[Las Vegas]</th>\n",
       "      <th>C(city)[Phoenix]</th>\n",
       "      <th>C(city)[Surprise]</th>\n",
       "      <th>C(city)[Waterloo]</th>\n",
       "      <th>review_count</th>\n",
       "      <th>stars</th>\n",
       "    </tr>\n",
       "  </thead>\n",
       "  <tbody>\n",
       "    <tr>\n",
       "      <th>C(city)[Las Vegas]</th>\n",
       "      <td>1.000000</td>\n",
       "      <td>-0.924144</td>\n",
       "      <td>-0.176823</td>\n",
       "      <td>-0.172084</td>\n",
       "      <td>0.080482</td>\n",
       "      <td>0.006563</td>\n",
       "    </tr>\n",
       "    <tr>\n",
       "      <th>C(city)[Phoenix]</th>\n",
       "      <td>-0.924144</td>\n",
       "      <td>1.000000</td>\n",
       "      <td>-0.099292</td>\n",
       "      <td>-0.096631</td>\n",
       "      <td>-0.061746</td>\n",
       "      <td>0.012211</td>\n",
       "    </tr>\n",
       "    <tr>\n",
       "      <th>C(city)[Surprise]</th>\n",
       "      <td>-0.176823</td>\n",
       "      <td>-0.099292</td>\n",
       "      <td>1.000000</td>\n",
       "      <td>-0.018489</td>\n",
       "      <td>-0.030079</td>\n",
       "      <td>-0.069948</td>\n",
       "    </tr>\n",
       "    <tr>\n",
       "      <th>C(city)[Waterloo]</th>\n",
       "      <td>-0.172084</td>\n",
       "      <td>-0.096631</td>\n",
       "      <td>-0.018489</td>\n",
       "      <td>1.000000</td>\n",
       "      <td>-0.043044</td>\n",
       "      <td>0.003705</td>\n",
       "    </tr>\n",
       "    <tr>\n",
       "      <th>review_count</th>\n",
       "      <td>0.080482</td>\n",
       "      <td>-0.061746</td>\n",
       "      <td>-0.030079</td>\n",
       "      <td>-0.043044</td>\n",
       "      <td>1.000000</td>\n",
       "      <td>0.119490</td>\n",
       "    </tr>\n",
       "    <tr>\n",
       "      <th>stars</th>\n",
       "      <td>0.006563</td>\n",
       "      <td>0.012211</td>\n",
       "      <td>-0.069948</td>\n",
       "      <td>0.003705</td>\n",
       "      <td>0.119490</td>\n",
       "      <td>1.000000</td>\n",
       "    </tr>\n",
       "  </tbody>\n",
       "</table>\n",
       "</div>"
      ],
      "text/plain": [
       "                    C(city)[Las Vegas]  C(city)[Phoenix]  C(city)[Surprise]  \\\n",
       "C(city)[Las Vegas]            1.000000         -0.924144          -0.176823   \n",
       "C(city)[Phoenix]             -0.924144          1.000000          -0.099292   \n",
       "C(city)[Surprise]            -0.176823         -0.099292           1.000000   \n",
       "C(city)[Waterloo]            -0.172084         -0.096631          -0.018489   \n",
       "review_count                  0.080482         -0.061746          -0.030079   \n",
       "stars                         0.006563          0.012211          -0.069948   \n",
       "\n",
       "                    C(city)[Waterloo]  review_count     stars  \n",
       "C(city)[Las Vegas]          -0.172084      0.080482  0.006563  \n",
       "C(city)[Phoenix]            -0.096631     -0.061746  0.012211  \n",
       "C(city)[Surprise]           -0.018489     -0.030079 -0.069948  \n",
       "C(city)[Waterloo]            1.000000     -0.043044  0.003705  \n",
       "review_count                -0.043044      1.000000  0.119490  \n",
       "stars                        0.003705      0.119490  1.000000  "
      ]
     },
     "execution_count": 111,
     "metadata": {},
     "output_type": "execute_result"
    }
   ],
   "source": [
    "xy = X.copy()\n",
    "xy['stars'] = y\n",
    "xy.corr()"
   ]
  },
  {
   "cell_type": "code",
   "execution_count": 112,
   "metadata": {
    "collapsed": false
   },
   "outputs": [],
   "source": [
    "from sklearn.preprocessing import StandardScaler\n",
    "\n",
    "ss = StandardScaler()\n",
    "\n",
    "Xn = ss.fit_transform(X)"
   ]
  },
  {
   "cell_type": "code",
   "execution_count": 113,
   "metadata": {
    "collapsed": false
   },
   "outputs": [
    {
     "name": "stdout",
     "output_type": "stream",
     "text": [
      "(3304, 5) (3304,)\n",
      "(826, 5) (826,)\n"
     ]
    }
   ],
   "source": [
    "from sklearn import linear_model\n",
    "from sklearn.cross_validation import train_test_split\n",
    "\n",
    "y = np.ravel(y)\n",
    "X_train, X_test, y_train, y_test = train_test_split(Xn, y, train_size=0.8)\n",
    "\n",
    "print X_train.shape, y_train.shape\n",
    "print X_test.shape, y_test.shape"
   ]
  },
  {
   "cell_type": "code",
   "execution_count": 114,
   "metadata": {
    "collapsed": false
   },
   "outputs": [
    {
     "name": "stderr",
     "output_type": "stream",
     "text": [
      "...................................................................................................................................................................................................................................................................................................................................................................................................................................................................................................................................................................................................................................................................................................................................................................................................................................................................................................................................................................................................................................................................................................................................................................................................................................................................................................................................................................................................................................................................................................................................................................................................................................................................................................................................................................................................................................................................................................................................................................................................................................................................................................................................................................................................................................................................................................................................................................................................................................................................................................................................................................................................................................................................................................................................................................................................................................................................................................................................................................................................................................................................................................................................................................................................................................................................................................................................................................................................................................................................................................................................................................................................................................................................................................................................................................................................................................................................................................................................................................................................................................................................................................................................................................................................................................................................................................................................................................................................................................................................................................................................................................................................................................................................................................................................................................................................................................................................................................................................................................................................................................................................................................................................................................................................................................................................................................................................................................................................................................................................................................................................................................................................................................................................................................................................................................................................................................................................................................................................................................................................................................................................................................................................................................................................................................................................................................................................................................................................................................................................................................................................................................................................................................................................................................................................................................................................................................................................................................................................................................................................................................................................................................................................................................................................................................................................................................................................................................................................................................................................................................................................................................................................................................................................................................................................................................................................................................................................................................................................................................................................................................................................................................................................................................................................................................................................................................................................................................................................................................................................................................................................................................................................................................................................................................................................................................................................................................................................................................................................................................................................................................................................................................................................................................................................................................................................................................................................................................................................................................................................................................................................................................................................................................................................................................................................................................................................................................................................................................................................................................................................................................................................................................................................................................................................................................................................................................................................................................................................................................................................................................................................................................................................................................................................................................................................................................................................................................................................................................................................................................................................................................................................................................................................................................................................................................................................................................................................................................................................................................................................................................................................................................................................................................................................................................................................................................................................................................................................................................................................................................................................................................................................................................................................................................................................................................................................................................................................................................................................................................................................................................................................................................................................................................................................................................................................................................................................................................................................................................................................................................................................................................................................................................................................................................................................................................................................................................................................................................................................................................................................................................................................................................................................................................................................................................................................................................................................................................................................................................................................................................................................................................................................................................................................................................................................................................................................................................................................................................................................................................................................................................................................................................................................................................................................................................................................................................................................................................................................................................................................................................................................................................................................................................................................................................................................................................................................................................................................................................................................................................................................................................................................................................................................................................................................................................................................................................................................................................................................................................................................................................................................................................................................................................................................................................................................................................................................................................................................................................................................................................................................................................................................................................................................................................................................................................................................................................................................................................................................................................................................................................................................................................................................................................................................................................................."
     ]
    },
    {
     "name": "stdout",
     "output_type": "stream",
     "text": [
      "Optimal alpha: 0.0149493530889\n",
      "Optimal L1 ratio: 1.0\n"
     ]
    },
    {
     "name": "stderr",
     "output_type": "stream",
     "text": [
      "........................................................................................................................................................................................................................................................................................................................................................................................................................................................................................................................................................................................................................................................................................................................................................................................................................................................................................................................................................................................................................................[Parallel(n_jobs=1)]: Done  35 out of  35 | elapsed:    1.7s finished\n"
     ]
    }
   ],
   "source": [
    "from sklearn.linear_model import ElasticNet, ElasticNetCV\n",
    "\n",
    "optimal_elastic = ElasticNetCV(l1_ratio=[.1, .5, .7, .9, .95, .99, 1], n_alphas=500, cv=5, verbose=1, n_jobs=1)\n",
    "model = optimal_elastic.fit(X_train, y_train)\n",
    "# model = ElasticNet(alpha=optimal_elastic.alpha_, l1_ratio=optimal_elastic.l1_ratio_).fit(X_train, y_train)\n",
    "\n",
    "print \"Optimal alpha:\", optimal_elastic.alpha_\n",
    "print \"Optimal L1 ratio:\", optimal_elastic.l1_ratio_"
   ]
  },
  {
   "cell_type": "code",
   "execution_count": 115,
   "metadata": {
    "collapsed": false
   },
   "outputs": [
    {
     "data": {
      "text/html": [
       "<div>\n",
       "<table border=\"1\" class=\"dataframe\">\n",
       "  <thead>\n",
       "    <tr style=\"text-align: right;\">\n",
       "      <th></th>\n",
       "      <th>0</th>\n",
       "      <th>1</th>\n",
       "    </tr>\n",
       "  </thead>\n",
       "  <tbody>\n",
       "    <tr>\n",
       "      <th>0</th>\n",
       "      <td>-0.000000</td>\n",
       "      <td>C(city)[Las Vegas]</td>\n",
       "    </tr>\n",
       "    <tr>\n",
       "      <th>1</th>\n",
       "      <td>0.000000</td>\n",
       "      <td>C(city)[Phoenix]</td>\n",
       "    </tr>\n",
       "    <tr>\n",
       "      <th>2</th>\n",
       "      <td>-0.044953</td>\n",
       "      <td>C(city)[Surprise]</td>\n",
       "    </tr>\n",
       "    <tr>\n",
       "      <th>3</th>\n",
       "      <td>0.000000</td>\n",
       "      <td>C(city)[Waterloo]</td>\n",
       "    </tr>\n",
       "    <tr>\n",
       "      <th>4</th>\n",
       "      <td>0.079136</td>\n",
       "      <td>review_count</td>\n",
       "    </tr>\n",
       "  </tbody>\n",
       "</table>\n",
       "</div>"
      ],
      "text/plain": [
       "          0                   1\n",
       "0 -0.000000  C(city)[Las Vegas]\n",
       "1  0.000000    C(city)[Phoenix]\n",
       "2 -0.044953   C(city)[Surprise]\n",
       "3  0.000000   C(city)[Waterloo]\n",
       "4  0.079136        review_count"
      ]
     },
     "execution_count": 115,
     "metadata": {},
     "output_type": "execute_result"
    }
   ],
   "source": [
    "pd.DataFrame(zip(model.coef_, X.columns))"
   ]
  },
  {
   "cell_type": "code",
   "execution_count": 116,
   "metadata": {
    "collapsed": false
   },
   "outputs": [
    {
     "name": "stdout",
     "output_type": "stream",
     "text": [
      "Model Score: 0.0206081291951\n"
     ]
    },
    {
     "data": {
      "image/png": "[encoded data removed]",
      "text/plain": [
       "<matplotlib.figure.Figure at 0x11ca7ad90>"
      ]
     },
     "metadata": {
      "image/png": {
       "height": 513,
       "width": 498
      }
     },
     "output_type": "display_data"
    }
   ],
   "source": [
    "plt.style.use('seaborn-whitegrid')\n",
    "plt.figure(figsize=[8,8])\n",
    "\n",
    "plt.xlabel('Predictions', fontsize=14)\n",
    "plt.ylabel('True Values', fontsize=14)\n",
    "plt.title(\"Stars from Non-Service Focused Reviews\", fontsize=18)\n",
    "\n",
    "predictions = model.predict(X_test)\n",
    "score = model.score(X_test, y_test)\n",
    "\n",
    "plt.scatter(predictions, y_test)\n",
    "print 'Model Score:', score"
   ]
  },
  {
   "cell_type": "code",
   "execution_count": 441,
   "metadata": {
    "collapsed": false
   },
   "outputs": [
    {
     "name": "stdout",
     "output_type": "stream",
     "text": [
      "stars_service ~ review_count + C(city) - 1\n",
      "(2862, 5)\n",
      "(2862, 1)\n"
     ]
    }
   ],
   "source": [
    "df = business_stars.copy()\n",
    "formula = \"stars_service ~ review_count + C(city) - 1\"\n",
    "\n",
    "print formula\n",
    "\n",
    "y, X = patsy.dmatrices(formula, data=df, return_type='dataframe')\n",
    "print X.shape\n",
    "print y.shape"
   ]
  },
  {
   "cell_type": "code",
   "execution_count": 406,
   "metadata": {
    "collapsed": false
   },
   "outputs": [],
   "source": [
    "ss = StandardScaler()\n",
    "\n",
    "Xn = ss.fit_transform(X)"
   ]
  },
  {
   "cell_type": "code",
   "execution_count": 407,
   "metadata": {
    "collapsed": false
   },
   "outputs": [
    {
     "name": "stdout",
     "output_type": "stream",
     "text": [
      "(2289, 5) (2289,)\n",
      "(573, 5) (573,)\n"
     ]
    }
   ],
   "source": [
    "from sklearn import linear_model\n",
    "from sklearn.cross_validation import train_test_split\n",
    "\n",
    "y = np.ravel(y)\n",
    "X_train, X_test, y_train, y_test = train_test_split(Xn, y, train_size=0.8)\n",
    "\n",
    "print X_train.shape, y_train.shape\n",
    "print X_test.shape, y_test.shape"
   ]
  },
  {
   "cell_type": "code",
   "execution_count": 408,
   "metadata": {
    "collapsed": false
   },
   "outputs": [
    {
     "name": "stderr",
     "output_type": "stream",
     "text": [
      "........................................................................................................................................................................................................................................................................................................................................................................................................................................................................................................................................................................................................................................................................................................................................................................................................................................................................................................................................................................................................................................................................................................................................................................................................................................................................................................................................................................................................................................................................................................................................................................................................................................................................................................................................................................................................................................................................................................................................................................................................................................................................................................................................................................................................................................................................................................................................................................................................................................................................................................................................................................................................................................................................................................................................................................................................................................................................................................................................................................................................................................................................................................................................................................................................................................................................................................................................................................................................................................................................................................................................................................................................................................................................................................................................................................................................................................................................................................................................................................................................................................................................................................................................................................................................................................................................................................................................................................................................................................................................................................................................................................................................................................................................................................................................................................................................................................................................................................................................................................................................................................................................................................................................................................................................................................................................................................................................................................................................................................................................................................................................................................................................................................................................................................................................................................................................................................................................................................................................................................................................................................................................................................................................................................................................................................................................................................................................................................................................................................................................................................................................................................................................................................................................................................................................................................................................................................................................................................................................................................................................................................................................................................................................................................................................................................................................................................................................................................................................................................................................................................................................................................................................................................................................................................................................................................................................................................................................................................................................................................................................................................................................................................................................................................................................................................................................................................................................................................................................................................................................................................................................................................................................................................................................................................................................................................................................................................................................................................................................................................................................................................................................................................................................................................................................................................................................................................................................................................................................................................................................................................................................................................................................................................................................................................................................................................................................................................................................................................................................................................................................................................................................................................................................................................................................................................................................................................................................................................................................................................................................................................................................................................................................................................................................................................................................................................................................................................................................................................................................................................................................................................................................................................................................................................................................................................................................................................................................................................................................................................................................................................................................................................................................................................................................................................................................................................................................................................................................................................................................................................................................................................................................................................................................................................................................................................................................................................................................................................................................................................................................................................................................................................................................................................................................................................................................................................................................................................................................................................................................................................................................................................................................................................................................................................................................................................................................................................................................................................................................................................................................................................................................................................................................................................................................................................................................................................................................................................................................................................................................................................................................................................................................................................................................................................................................................................................................................................................................................................................................................................................................................................................................................................................................................................................................................................................................................................................................................................................................................................................................................................................................................................................................................................................................................................................................................................................................................................................................................................................................................................................................................................................................................................................................................................................................................................................................................................................................................................................................................................................................................................................................................................................................................................................................................................................................................................................................................................................................................................................................................................................................................................................................................................................................................................................................................................................................................................................................................................................................................................................................................................................................................................................................................................................................................................................................................................................................................................................................................................................................................................................................................................................................................................................................................................................................................................................................................................................................................................................................................................................................................................................................................................................."
     ]
    },
    {
     "name": "stdout",
     "output_type": "stream",
     "text": [
      "Optimal alpha: 0.0151513437574\n",
      "Optimal L1 ratio: 1.0\n"
     ]
    },
    {
     "name": "stderr",
     "output_type": "stream",
     "text": [
      "...................................................................................................................................................................[Parallel(n_jobs=1)]: Done  35 out of  35 | elapsed:    1.7s finished\n"
     ]
    }
   ],
   "source": [
    "from sklearn.linear_model import ElasticNet, ElasticNetCV\n",
    "\n",
    "optimal_elastic = ElasticNetCV(l1_ratio=[.1, .5, .7, .9, .95, .99, 1], n_alphas=500, cv=5, verbose=1, n_jobs=1)\n",
    "model = optimal_elastic.fit(X_train, y_train)\n",
    "# model = ElasticNet(alpha=optimal_elastic.alpha_, l1_ratio=optimal_elastic.l1_ratio_).fit(X_train, y_train)\n",
    "\n",
    "print \"Optimal alpha:\", optimal_elastic.alpha_\n",
    "print \"Optimal L1 ratio:\", optimal_elastic.l1_ratio_"
   ]
  },
  {
   "cell_type": "code",
   "execution_count": 409,
   "metadata": {
    "collapsed": false
   },
   "outputs": [
    {
     "data": {
      "text/html": [
       "<div>\n",
       "<table border=\"1\" class=\"dataframe\">\n",
       "  <thead>\n",
       "    <tr style=\"text-align: right;\">\n",
       "      <th></th>\n",
       "      <th>0</th>\n",
       "      <th>1</th>\n",
       "    </tr>\n",
       "  </thead>\n",
       "  <tbody>\n",
       "    <tr>\n",
       "      <th>0</th>\n",
       "      <td>-0.000000</td>\n",
       "      <td>C(city)[Las Vegas]</td>\n",
       "    </tr>\n",
       "    <tr>\n",
       "      <th>1</th>\n",
       "      <td>0.016412</td>\n",
       "      <td>C(city)[Phoenix]</td>\n",
       "    </tr>\n",
       "    <tr>\n",
       "      <th>2</th>\n",
       "      <td>-0.000000</td>\n",
       "      <td>C(city)[Surprise]</td>\n",
       "    </tr>\n",
       "    <tr>\n",
       "      <th>3</th>\n",
       "      <td>0.000000</td>\n",
       "      <td>C(city)[Waterloo]</td>\n",
       "    </tr>\n",
       "    <tr>\n",
       "      <th>4</th>\n",
       "      <td>0.043159</td>\n",
       "      <td>review_count</td>\n",
       "    </tr>\n",
       "  </tbody>\n",
       "</table>\n",
       "</div>"
      ],
      "text/plain": [
       "          0                   1\n",
       "0 -0.000000  C(city)[Las Vegas]\n",
       "1  0.016412    C(city)[Phoenix]\n",
       "2 -0.000000   C(city)[Surprise]\n",
       "3  0.000000   C(city)[Waterloo]\n",
       "4  0.043159        review_count"
      ]
     },
     "execution_count": 409,
     "metadata": {},
     "output_type": "execute_result"
    }
   ],
   "source": [
    "pd.DataFrame(zip(model.coef_, X.columns))"
   ]
  },
  {
   "cell_type": "code",
   "execution_count": 410,
   "metadata": {
    "collapsed": false
   },
   "outputs": [
    {
     "name": "stdout",
     "output_type": "stream",
     "text": [
      "Model Score: -0.000457123206828\n"
     ]
    },
    {
     "data": {
      "image/png": "[encoded data removed]",
      "text/plain": [
       "<matplotlib.figure.Figure at 0x11f591450>"
      ]
     },
     "metadata": {
      "image/png": {
       "height": 513,
       "width": 498
      }
     },
     "output_type": "display_data"
    }
   ],
   "source": [
    "plt.style.use('seaborn-whitegrid')\n",
    "plt.figure(figsize=[8,8])\n",
    "\n",
    "plt.xlabel('Predictions', fontsize=14)\n",
    "plt.ylabel('True Values', fontsize=14)\n",
    "plt.title(\"Stars from Service Focused Reviews\", fontsize=18)\n",
    "\n",
    "predictions = model.predict(X_test)\n",
    "score = model.score(X_test, y_test)\n",
    "\n",
    "plt.scatter(predictions, y_test)\n",
    "print 'Model Score:', score"
   ]
  },
  {
   "cell_type": "markdown",
   "metadata": {},
   "source": [
    "# Question 4\n",
    "\n",
    "Validate the performance of the models."
   ]
  },
  {
   "cell_type": "code",
   "execution_count": null,
   "metadata": {
    "collapsed": true
   },
   "outputs": [],
   "source": [
    "# Already cross-validated"
   ]
  },
  {
   "cell_type": "markdown",
   "metadata": {},
   "source": [
    "# Question 5\n",
    "\n",
    "Do the models coefficients differ at all? What does this tell you about the hypothesis that there are in fact two different kinds of ratings?"
   ]
  },
  {
   "cell_type": "code",
   "execution_count": null,
   "metadata": {
    "collapsed": true
   },
   "outputs": [],
   "source": [
    "# The coefficients barely differ. Although there may indeed be \"two different kinds of ratings\", \n",
    "# city and review count of a business do not seem to be predictable with either of them."
   ]
  },
  {
   "cell_type": "markdown",
   "metadata": {},
   "source": [
    "<img src=\"http://imgur.com/l5NasQj.png\" style=\"float: left; margin: 25px 15px 0px 0px; height: 25px\">\n",
    "\n",
    "## 3. Identifying \"elite\" users\n",
    "\n",
    "---\n",
    "\n",
    "Yelp, though having their own formula for determining whether a user is elite or not, is interested in delving deeper into what differentiates an elite user from a normal user at a broader level.\n",
    "\n",
    "Use a classification model to predict whether a user is elite or not. Note that users can be elite in some years and not in others.\n",
    "\n",
    "1. What things predict well whether a user is elite or not?\n",
    "- Validate the model.\n",
    "- If you were to remove the \"counts\" metrics for users (reviews, votes, compliments), what distinguishes an elite user, if anything? Validate the model and compare it to the one with the count variables.\n",
    "- Think of a way to visually represent your results in a compelling way.\n",
    "- Give a brief write-up of your findings.\n"
   ]
  },
  {
   "cell_type": "code",
   "execution_count": 236,
   "metadata": {
    "collapsed": false
   },
   "outputs": [
    {
     "data": {
      "text/html": [
       "<div>\n",
       "<table border=\"1\" class=\"dataframe\">\n",
       "  <thead>\n",
       "    <tr style=\"text-align: right;\">\n",
       "      <th></th>\n",
       "      <th>0</th>\n",
       "      <th>1</th>\n",
       "      <th>2</th>\n",
       "      <th>3</th>\n",
       "      <th>4</th>\n",
       "    </tr>\n",
       "  </thead>\n",
       "  <tbody>\n",
       "    <tr>\n",
       "      <th>yelping_since</th>\n",
       "      <td>2004-10</td>\n",
       "      <td>2004-10</td>\n",
       "      <td>2004-10</td>\n",
       "      <td>2004-10</td>\n",
       "      <td>2004-10</td>\n",
       "    </tr>\n",
       "    <tr>\n",
       "      <th>compliments.plain</th>\n",
       "      <td>959</td>\n",
       "      <td>89</td>\n",
       "      <td>2</td>\n",
       "      <td>5</td>\n",
       "      <td>104</td>\n",
       "    </tr>\n",
       "    <tr>\n",
       "      <th>review_count</th>\n",
       "      <td>1274</td>\n",
       "      <td>442</td>\n",
       "      <td>66</td>\n",
       "      <td>101</td>\n",
       "      <td>983</td>\n",
       "    </tr>\n",
       "    <tr>\n",
       "      <th>compliments.cute</th>\n",
       "      <td>206</td>\n",
       "      <td>23</td>\n",
       "      <td>2</td>\n",
       "      <td>1</td>\n",
       "      <td>82</td>\n",
       "    </tr>\n",
       "    <tr>\n",
       "      <th>compliments.writer</th>\n",
       "      <td>327</td>\n",
       "      <td>24</td>\n",
       "      <td>2</td>\n",
       "      <td>3</td>\n",
       "      <td>17</td>\n",
       "    </tr>\n",
       "    <tr>\n",
       "      <th>fans</th>\n",
       "      <td>1179</td>\n",
       "      <td>100</td>\n",
       "      <td>4</td>\n",
       "      <td>7</td>\n",
       "      <td>78</td>\n",
       "    </tr>\n",
       "    <tr>\n",
       "      <th>compliments.note</th>\n",
       "      <td>611</td>\n",
       "      <td>83</td>\n",
       "      <td>1</td>\n",
       "      <td>3</td>\n",
       "      <td>85</td>\n",
       "    </tr>\n",
       "    <tr>\n",
       "      <th>compliments.hot</th>\n",
       "      <td>1094</td>\n",
       "      <td>101</td>\n",
       "      <td>1</td>\n",
       "      <td>5</td>\n",
       "      <td>265</td>\n",
       "    </tr>\n",
       "    <tr>\n",
       "      <th>compliments.cool</th>\n",
       "      <td>1642</td>\n",
       "      <td>145</td>\n",
       "      <td>1</td>\n",
       "      <td>4</td>\n",
       "      <td>212</td>\n",
       "    </tr>\n",
       "    <tr>\n",
       "      <th>compliments.profile</th>\n",
       "      <td>116</td>\n",
       "      <td>9</td>\n",
       "      <td>NaN</td>\n",
       "      <td>1</td>\n",
       "      <td>9</td>\n",
       "    </tr>\n",
       "    <tr>\n",
       "      <th>average_stars</th>\n",
       "      <td>3.66</td>\n",
       "      <td>3.6</td>\n",
       "      <td>3.8</td>\n",
       "      <td>3.58</td>\n",
       "      <td>4.02</td>\n",
       "    </tr>\n",
       "    <tr>\n",
       "      <th>compliments.more</th>\n",
       "      <td>134</td>\n",
       "      <td>19</td>\n",
       "      <td>1</td>\n",
       "      <td>2</td>\n",
       "      <td>16</td>\n",
       "    </tr>\n",
       "    <tr>\n",
       "      <th>elite</th>\n",
       "      <td>[2005, 2006, 2007, 2008, 2009, 2010, 2011, 201...</td>\n",
       "      <td>[2005, 2006, 2007, 2008, 2009, 2010, 2011, 201...</td>\n",
       "      <td>[2005]</td>\n",
       "      <td>[]</td>\n",
       "      <td>[2005, 2006, 2007, 2008, 2010, 2011, 2012]</td>\n",
       "    </tr>\n",
       "    <tr>\n",
       "      <th>name</th>\n",
       "      <td>Jeremy</td>\n",
       "      <td>Michael</td>\n",
       "      <td>Katherine</td>\n",
       "      <td>Nader</td>\n",
       "      <td>Helen</td>\n",
       "    </tr>\n",
       "    <tr>\n",
       "      <th>user_id</th>\n",
       "      <td>rpOyqD_893cqmDAtJLbdog</td>\n",
       "      <td>4U9kSBLuBDU391x6bxU-YA</td>\n",
       "      <td>SIBCL7HBkrP4llolm4SC2A</td>\n",
       "      <td>UTS9XcT14H2ZscRIf0MYHQ</td>\n",
       "      <td>ZWOj6LmzwGvMDh-A85EOtA</td>\n",
       "    </tr>\n",
       "    <tr>\n",
       "      <th>votes.cool</th>\n",
       "      <td>11093</td>\n",
       "      <td>732</td>\n",
       "      <td>13</td>\n",
       "      <td>49</td>\n",
       "      <td>1928</td>\n",
       "    </tr>\n",
       "    <tr>\n",
       "      <th>compliments.list</th>\n",
       "      <td>38</td>\n",
       "      <td>4</td>\n",
       "      <td>NaN</td>\n",
       "      <td>NaN</td>\n",
       "      <td>3</td>\n",
       "    </tr>\n",
       "    <tr>\n",
       "      <th>votes.funny</th>\n",
       "      <td>7681</td>\n",
       "      <td>908</td>\n",
       "      <td>11</td>\n",
       "      <td>53</td>\n",
       "      <td>1109</td>\n",
       "    </tr>\n",
       "    <tr>\n",
       "      <th>compliments.photos</th>\n",
       "      <td>330</td>\n",
       "      <td>24</td>\n",
       "      <td>NaN</td>\n",
       "      <td>1</td>\n",
       "      <td>57</td>\n",
       "    </tr>\n",
       "    <tr>\n",
       "      <th>compliments.funny</th>\n",
       "      <td>580</td>\n",
       "      <td>120</td>\n",
       "      <td>NaN</td>\n",
       "      <td>8</td>\n",
       "      <td>70</td>\n",
       "    </tr>\n",
       "    <tr>\n",
       "      <th>votes.useful</th>\n",
       "      <td>14199</td>\n",
       "      <td>1483</td>\n",
       "      <td>34</td>\n",
       "      <td>243</td>\n",
       "      <td>2404</td>\n",
       "    </tr>\n",
       "  </tbody>\n",
       "</table>\n",
       "</div>"
      ],
      "text/plain": [
       "                                                                     0  \\\n",
       "yelping_since                                                  2004-10   \n",
       "compliments.plain                                                  959   \n",
       "review_count                                                      1274   \n",
       "compliments.cute                                                   206   \n",
       "compliments.writer                                                 327   \n",
       "fans                                                              1179   \n",
       "compliments.note                                                   611   \n",
       "compliments.hot                                                   1094   \n",
       "compliments.cool                                                  1642   \n",
       "compliments.profile                                                116   \n",
       "average_stars                                                     3.66   \n",
       "compliments.more                                                   134   \n",
       "elite                [2005, 2006, 2007, 2008, 2009, 2010, 2011, 201...   \n",
       "name                                                            Jeremy   \n",
       "user_id                                         rpOyqD_893cqmDAtJLbdog   \n",
       "votes.cool                                                       11093   \n",
       "compliments.list                                                    38   \n",
       "votes.funny                                                       7681   \n",
       "compliments.photos                                                 330   \n",
       "compliments.funny                                                  580   \n",
       "votes.useful                                                     14199   \n",
       "\n",
       "                                                                     1  \\\n",
       "yelping_since                                                  2004-10   \n",
       "compliments.plain                                                   89   \n",
       "review_count                                                       442   \n",
       "compliments.cute                                                    23   \n",
       "compliments.writer                                                  24   \n",
       "fans                                                               100   \n",
       "compliments.note                                                    83   \n",
       "compliments.hot                                                    101   \n",
       "compliments.cool                                                   145   \n",
       "compliments.profile                                                  9   \n",
       "average_stars                                                      3.6   \n",
       "compliments.more                                                    19   \n",
       "elite                [2005, 2006, 2007, 2008, 2009, 2010, 2011, 201...   \n",
       "name                                                           Michael   \n",
       "user_id                                         4U9kSBLuBDU391x6bxU-YA   \n",
       "votes.cool                                                         732   \n",
       "compliments.list                                                     4   \n",
       "votes.funny                                                        908   \n",
       "compliments.photos                                                  24   \n",
       "compliments.funny                                                  120   \n",
       "votes.useful                                                      1483   \n",
       "\n",
       "                                          2                       3  \\\n",
       "yelping_since                       2004-10                 2004-10   \n",
       "compliments.plain                         2                       5   \n",
       "review_count                             66                     101   \n",
       "compliments.cute                          2                       1   \n",
       "compliments.writer                        2                       3   \n",
       "fans                                      4                       7   \n",
       "compliments.note                          1                       3   \n",
       "compliments.hot                           1                       5   \n",
       "compliments.cool                          1                       4   \n",
       "compliments.profile                     NaN                       1   \n",
       "average_stars                           3.8                    3.58   \n",
       "compliments.more                          1                       2   \n",
       "elite                                [2005]                      []   \n",
       "name                              Katherine                   Nader   \n",
       "user_id              SIBCL7HBkrP4llolm4SC2A  UTS9XcT14H2ZscRIf0MYHQ   \n",
       "votes.cool                               13                      49   \n",
       "compliments.list                        NaN                     NaN   \n",
       "votes.funny                              11                      53   \n",
       "compliments.photos                      NaN                       1   \n",
       "compliments.funny                       NaN                       8   \n",
       "votes.useful                             34                     243   \n",
       "\n",
       "                                                              4  \n",
       "yelping_since                                           2004-10  \n",
       "compliments.plain                                           104  \n",
       "review_count                                                983  \n",
       "compliments.cute                                             82  \n",
       "compliments.writer                                           17  \n",
       "fans                                                         78  \n",
       "compliments.note                                             85  \n",
       "compliments.hot                                             265  \n",
       "compliments.cool                                            212  \n",
       "compliments.profile                                           9  \n",
       "average_stars                                              4.02  \n",
       "compliments.more                                             16  \n",
       "elite                [2005, 2006, 2007, 2008, 2010, 2011, 2012]  \n",
       "name                                                      Helen  \n",
       "user_id                                  ZWOj6LmzwGvMDh-A85EOtA  \n",
       "votes.cool                                                 1928  \n",
       "compliments.list                                              3  \n",
       "votes.funny                                                1109  \n",
       "compliments.photos                                           57  \n",
       "compliments.funny                                            70  \n",
       "votes.useful                                               2404  "
      ]
     },
     "execution_count": 236,
     "metadata": {},
     "output_type": "execute_result"
    }
   ],
   "source": [
    "users.head().T"
   ]
  },
  {
   "cell_type": "code",
   "execution_count": 448,
   "metadata": {
    "collapsed": false
   },
   "outputs": [],
   "source": [
    "users_elite = users.copy()\n",
    "\n",
    "users_elite['elite_binary'] = users_elite['elite'].apply(lambda x: 0 if x == '[]' else 1)\n",
    "# users_elite.head()"
   ]
  },
  {
   "cell_type": "code",
   "execution_count": 470,
   "metadata": {
    "collapsed": false
   },
   "outputs": [
    {
     "name": "stdout",
     "output_type": "stream",
     "text": [
      "elite_binary ~ review_count - 1\n",
      "(144206, 1)\n",
      "(144206, 1)\n"
     ]
    }
   ],
   "source": [
    "df = users_elite.copy()\n",
    "df.columns = [col_name.replace('.', '_') for col_name in df.columns]\n",
    "\n",
    "# all_columns = \"\" + \" + \".join(df.columns.difference(['user_id', 'name', 'yelping_since', 'elite', 'elite_binary']))\n",
    "# formula = \"elite_binary ~ \" + all_columns + \" - 1\"\n",
    "formula = 'elite_binary ~ review_count - 1'\n",
    "print formula\n",
    "\n",
    "y, X = patsy.dmatrices(formula, data=df, return_type='dataframe')\n",
    "print X.shape\n",
    "print y.shape"
   ]
  },
  {
   "cell_type": "code",
   "execution_count": 471,
   "metadata": {
    "collapsed": false
   },
   "outputs": [
    {
     "name": "stdout",
     "output_type": "stream",
     "text": [
      "(115364, 1) (115364,)\n",
      "(28842, 1) (28842,)\n"
     ]
    }
   ],
   "source": [
    "y = np.ravel(y)\n",
    "X_train, X_test, y_train, y_test = train_test_split(X, y, train_size=0.8)\n",
    "\n",
    "print X_train.shape, y_train.shape\n",
    "print X_test.shape, y_test.shape"
   ]
  },
  {
   "cell_type": "code",
   "execution_count": 472,
   "metadata": {
    "collapsed": false
   },
   "outputs": [
    {
     "name": "stdout",
     "output_type": "stream",
     "text": [
      "Model Score:  0.936724221621\n"
     ]
    },
    {
     "name": "stderr",
     "output_type": "stream",
     "text": [
      "[Parallel(n_jobs=1)]: Done   5 out of   5 | elapsed:    1.5s finished\n"
     ]
    }
   ],
   "source": [
    "logreg = LogisticRegressionCV(cv=5, n_jobs=1, verbose=1, max_iter=1000)\n",
    "\n",
    "model = logreg.fit(X_train, y_train)\n",
    "probabilities = model.predict_proba(X_test)\n",
    "score = model.score(X_test, y_test)\n",
    "print 'Model Score: ', score\n",
    "# print 'Baseline Model:', np.mean(y_test)"
   ]
  },
  {
   "cell_type": "code",
   "execution_count": 473,
   "metadata": {
    "collapsed": false
   },
   "outputs": [
    {
     "data": {
      "image/png": "[encoded data removed]",
      "text/plain": [
       "<matplotlib.figure.Figure at 0x120940f10>"
      ]
     },
     "metadata": {
      "image/png": {
       "height": 572,
       "width": 677
      }
     },
     "output_type": "display_data"
    }
   ],
   "source": [
    "FPR = dict()\n",
    "TPR = dict()\n",
    "ROC_AUC = dict()\n",
    "\n",
    "FPR[1], TPR[1], _ = roc_curve(y_test, probabilities[:, 1])\n",
    "ROC_AUC[1] = auc(FPR[1], TPR[1])\n",
    "\n",
    "plt.figure(figsize=[11,9])\n",
    "# Plot false and true rates (returned from roc_curve function)\n",
    "plt.plot(FPR[1], TPR[1], label='ROC curve (area = %0.2f)' % ROC_AUC[1], linewidth=4)\n",
    "# Plot a dotted line diagonally, representing the .5\n",
    "plt.plot([0, 1], [0, 1], 'k--', linewidth=4)\n",
    "plt.xlim([0.0, 1.0])\n",
    "plt.ylim([0.0, 1.05])\n",
    "plt.xlabel('False Positive Rate', fontsize=18)\n",
    "plt.ylabel('True Positive Rate', fontsize=18)\n",
    "plt.title('ROC for Predicting Eliteness by Fan Count', fontsize=18)\n",
    "plt.legend(loc=\"lower right\")\n",
    "plt.show()"
   ]
  },
  {
   "cell_type": "code",
   "execution_count": 474,
   "metadata": {
    "collapsed": false
   },
   "outputs": [
    {
     "data": {
      "text/html": [
       "<div>\n",
       "<table border=\"1\" class=\"dataframe\">\n",
       "  <thead>\n",
       "    <tr style=\"text-align: right;\">\n",
       "      <th></th>\n",
       "      <th>0</th>\n",
       "      <th>1</th>\n",
       "    </tr>\n",
       "  </thead>\n",
       "  <tbody>\n",
       "    <tr>\n",
       "      <th>0</th>\n",
       "      <td>0.022814</td>\n",
       "      <td>review_count</td>\n",
       "    </tr>\n",
       "  </tbody>\n",
       "</table>\n",
       "</div>"
      ],
      "text/plain": [
       "          0             1\n",
       "0  0.022814  review_count"
      ]
     },
     "execution_count": 474,
     "metadata": {},
     "output_type": "execute_result"
    }
   ],
   "source": [
    "summary = pd.DataFrame(zip(model.coef_[0], X_train.columns))\n",
    "summary.sort_values(0)"
   ]
  },
  {
   "cell_type": "code",
   "execution_count": 475,
   "metadata": {
    "collapsed": true
   },
   "outputs": [],
   "source": [
    "# After running a few formulas, I found that review count is an insanely good predictor of elite status."
   ]
  },
  {
   "cell_type": "markdown",
   "metadata": {},
   "source": [
    ".\n",
    "\n",
    "\n",
    ".\n",
    "\n",
    "\n",
    ".\n",
    "\n",
    "\n",
    ".\n",
    "\n",
    "\n",
    ".\n",
    "\n",
    "\n",
    "."
   ]
  },
  {
   "cell_type": "code",
   "execution_count": 450,
   "metadata": {
    "collapsed": false
   },
   "outputs": [
    {
     "data": {
      "text/html": [
       "<div>\n",
       "<table border=\"1\" class=\"dataframe\">\n",
       "  <thead>\n",
       "    <tr style=\"text-align: right;\">\n",
       "      <th></th>\n",
       "      <th>yelping_since</th>\n",
       "      <th>compliments_plain</th>\n",
       "      <th>review_count</th>\n",
       "      <th>compliments_cute</th>\n",
       "      <th>compliments_writer</th>\n",
       "      <th>fans</th>\n",
       "      <th>compliments_note</th>\n",
       "      <th>compliments_hot</th>\n",
       "      <th>compliments_cool</th>\n",
       "      <th>compliments_profile</th>\n",
       "      <th>average_stars</th>\n",
       "      <th>compliments_more</th>\n",
       "      <th>elite</th>\n",
       "      <th>name</th>\n",
       "      <th>user_id</th>\n",
       "      <th>votes_cool</th>\n",
       "      <th>compliments_list</th>\n",
       "      <th>votes_funny</th>\n",
       "      <th>compliments_photos</th>\n",
       "      <th>compliments_funny</th>\n",
       "      <th>votes_useful</th>\n",
       "      <th>elite_binary</th>\n",
       "      <th>days_yelping</th>\n",
       "    </tr>\n",
       "  </thead>\n",
       "  <tbody>\n",
       "    <tr>\n",
       "      <th>0</th>\n",
       "      <td>2004-10</td>\n",
       "      <td>959.0</td>\n",
       "      <td>1274</td>\n",
       "      <td>206.0</td>\n",
       "      <td>327.0</td>\n",
       "      <td>1179</td>\n",
       "      <td>611.0</td>\n",
       "      <td>1094.0</td>\n",
       "      <td>1642.0</td>\n",
       "      <td>116.0</td>\n",
       "      <td>3.66</td>\n",
       "      <td>134.0</td>\n",
       "      <td>[2005, 2006, 2007, 2008, 2009, 2010, 2011, 201...</td>\n",
       "      <td>Jeremy</td>\n",
       "      <td>rpOyqD_893cqmDAtJLbdog</td>\n",
       "      <td>11093</td>\n",
       "      <td>38.0</td>\n",
       "      <td>7681</td>\n",
       "      <td>330.0</td>\n",
       "      <td>580.0</td>\n",
       "      <td>14199</td>\n",
       "      <td>1</td>\n",
       "      <td>4322.0</td>\n",
       "    </tr>\n",
       "  </tbody>\n",
       "</table>\n",
       "</div>"
      ],
      "text/plain": [
       "  yelping_since  compliments_plain  review_count  compliments_cute  \\\n",
       "0       2004-10              959.0          1274             206.0   \n",
       "\n",
       "   compliments_writer  fans  compliments_note  compliments_hot  \\\n",
       "0               327.0  1179             611.0           1094.0   \n",
       "\n",
       "   compliments_cool  compliments_profile  average_stars  compliments_more  \\\n",
       "0            1642.0                116.0           3.66             134.0   \n",
       "\n",
       "                                               elite    name  \\\n",
       "0  [2005, 2006, 2007, 2008, 2009, 2010, 2011, 201...  Jeremy   \n",
       "\n",
       "                  user_id  votes_cool  compliments_list  votes_funny  \\\n",
       "0  rpOyqD_893cqmDAtJLbdog       11093              38.0         7681   \n",
       "\n",
       "   compliments_photos  compliments_funny  votes_useful  elite_binary  \\\n",
       "0               330.0              580.0         14199             1   \n",
       "\n",
       "   days_yelping  \n",
       "0        4322.0  "
      ]
     },
     "execution_count": 450,
     "metadata": {},
     "output_type": "execute_result"
    }
   ],
   "source": [
    "join_dates = pd.to_datetime(df['yelping_since'])\n",
    "df['days_yelping'] = (pd.to_datetime('2016-08') - join_dates).astype('timedelta64[D]')\n",
    "df.head(1)"
   ]
  },
  {
   "cell_type": "code",
   "execution_count": 454,
   "metadata": {
    "collapsed": false
   },
   "outputs": [],
   "source": [
    "# xy = df.copy()\n",
    "# # xy['stars'] = y\n",
    "\n",
    "# correlations = xy.corr()\n",
    "\n",
    "# # Generate a mask for the upper triangle (taken from seaborn example gallery)\n",
    "# mask = np.zeros_like(correlations, dtype=np.bool)\n",
    "# mask[np.triu_indices_from(mask)] = True\n",
    "\n",
    "# fig = plt.figure(figsize=(10,10))\n",
    "# ax = fig.gca()\n",
    "\n",
    "# ax = sns.heatmap(correlations, mask=mask)"
   ]
  },
  {
   "cell_type": "code",
   "execution_count": 455,
   "metadata": {
    "collapsed": false
   },
   "outputs": [
    {
     "name": "stdout",
     "output_type": "stream",
     "text": [
      "elite_binary ~ days_yelping - 1\n",
      "(144206, 1)\n",
      "(144206, 1)\n"
     ]
    }
   ],
   "source": [
    "formula = 'elite_binary ~ days_yelping - 1'\n",
    "print formula\n",
    "\n",
    "y, X = patsy.dmatrices(formula, data=df, return_type='dataframe')\n",
    "print X.shape\n",
    "print y.shape"
   ]
  },
  {
   "cell_type": "code",
   "execution_count": 456,
   "metadata": {
    "collapsed": false
   },
   "outputs": [
    {
     "name": "stdout",
     "output_type": "stream",
     "text": [
      "(115364, 1) (115364,)\n",
      "(28842, 1) (28842,)\n"
     ]
    }
   ],
   "source": [
    "y = np.ravel(y)\n",
    "X_train, X_test, y_train, y_test = train_test_split(X, y, train_size=0.8)\n",
    "\n",
    "print X_train.shape, y_train.shape\n",
    "print X_test.shape, y_test.shape"
   ]
  },
  {
   "cell_type": "code",
   "execution_count": 457,
   "metadata": {
    "collapsed": false
   },
   "outputs": [
    {
     "name": "stdout",
     "output_type": "stream",
     "text": [
      "Model Score:  0.887733166909\n"
     ]
    },
    {
     "name": "stderr",
     "output_type": "stream",
     "text": [
      "[Parallel(n_jobs=1)]: Done   5 out of   5 | elapsed:    2.5s finished\n"
     ]
    }
   ],
   "source": [
    "logreg = LogisticRegressionCV(cv=5, n_jobs=1, verbose=1, max_iter=100)\n",
    "\n",
    "model = logreg.fit(X_train, y_train)\n",
    "probabilities = model.predict_proba(X_test)\n",
    "score = model.score(X_test, y_test)\n",
    "print 'Model Score: ', score\n",
    "# print 'Baseline Model:', np.mean(y_test)"
   ]
  },
  {
   "cell_type": "code",
   "execution_count": 458,
   "metadata": {
    "collapsed": false
   },
   "outputs": [
    {
     "data": {
      "image/png": "[encoded data removed]",
      "text/plain": [
       "<matplotlib.figure.Figure at 0x1dcba1250>"
      ]
     },
     "metadata": {
      "image/png": {
       "height": 572,
       "width": 677
      }
     },
     "output_type": "display_data"
    }
   ],
   "source": [
    "FPR = dict()\n",
    "TPR = dict()\n",
    "ROC_AUC = dict()\n",
    "\n",
    "FPR[1], TPR[1], _ = roc_curve(y_test, probabilities[:, 1])\n",
    "ROC_AUC[1] = auc(FPR[1], TPR[1])\n",
    "\n",
    "plt.figure(figsize=[11,9])\n",
    "# Plot false and true rates (returned from roc_curve function)\n",
    "plt.plot(FPR[1], TPR[1], label='ROC curve (area = %0.2f)' % ROC_AUC[1], linewidth=4)\n",
    "# Plot a dotted line diagonally, representing the .5\n",
    "plt.plot([0, 1], [0, 1], 'k--', linewidth=4)\n",
    "plt.xlim([0.0, 1.0])\n",
    "plt.ylim([0.0, 1.05])\n",
    "plt.xlabel('False Positive Rate', fontsize=18)\n",
    "plt.ylabel('True Positive Rate', fontsize=18)\n",
    "plt.title('ROC for Predicting Eliteness by Join Date', fontsize=18)\n",
    "plt.legend(loc=\"lower right\")\n",
    "plt.show()"
   ]
  },
  {
   "cell_type": "code",
   "execution_count": 459,
   "metadata": {
    "collapsed": true
   },
   "outputs": [],
   "source": [
    "# Yelp join date is a solid, \"non-counted\" predictor of eliteness"
   ]
  },
  {
   "cell_type": "markdown",
   "metadata": {},
   "source": [
    "<img src=\"http://imgur.com/GCAf1UX.png\" style=\"float: left; margin: 25px 15px 0px 0px; height: 25px\">\n",
    "\n",
    "## 4. Find something interesting on your own\n",
    "\n",
    "---\n",
    "\n",
    "You want to impress your superiors at Yelp by doing some investigation into the data on your own. You want to do classification, but you're not sure on what.\n",
    "\n",
    "1. Create a hypothesis or hypotheses about the data based on whatever you are interested in, as long as it is predicting a category of some kind (classification).\n",
    "2. Explore the data visually (ideally related to this hypothesis).\n",
    "3. Build one or more classification models to predict your target variable. **Your modeling should include gridsearching to find optimal model parameters.**\n",
    "4. Evaluate the performance of your model. Explain why your model may have chosen those specific parameters during the gridsearch process.\n",
    "5. Write up what the model tells you. Does it validate or invalidate your hypothesis? Write this up as if for a non-technical audience."
   ]
  },
  {
   "cell_type": "code",
   "execution_count": null,
   "metadata": {
    "collapsed": true
   },
   "outputs": [],
   "source": []
  },
  {
   "cell_type": "markdown",
   "metadata": {},
   "source": [
    "<img src=\"http://imgur.com/GCAf1UX.png\" style=\"float: left; margin: 25px 15px 0px 0px; height: 25px\">\n",
    "\n",
    "## 5. ROC and Precision-recall\n",
    "\n",
    "---\n",
    "\n",
    "Some categories have fewer overall businesses than others. Choose two categories of businesses to predict, one that makes your proportion of target classes as even as possible, and another that has very few businesses and thus makes the target varible imbalanced.\n",
    "\n",
    "1. Create two classification models predicting these categories. Optimize the models and choose variables as you see fit.\n",
    "- Make confusion matrices for your models. Describe the confusion matrices and explain what they tell you about your models' performance.\n",
    "- Make ROC curves for both models. What do the ROC curves describe and what do they tell you about your model?\n",
    "- Make Precision-Recall curves for the models. What do they describe? How do they compare to the ROC curves?\n",
    "- Explain when Precision-Recall may be preferable to ROC. Is that the case in either of your models?"
   ]
  },
  {
   "cell_type": "code",
   "execution_count": null,
   "metadata": {
    "collapsed": true
   },
   "outputs": [],
   "source": []
  }
 ],
 "metadata": {
  "kernelspec": {
   "display_name": "Python [dsi]",
   "language": "python",
   "name": "Python [dsi]"
  },
  "language_info": {
   "codemirror_mode": {
    "name": "ipython",
    "version": 2
   },
   "file_extension": ".py",
   "mimetype": "text/x-python",
   "name": "python",
   "nbconvert_exporter": "python",
   "pygments_lexer": "ipython2",
   "version": "2.7.12"
  }
 },
 "nbformat": 4,
 "nbformat_minor": 0
}
