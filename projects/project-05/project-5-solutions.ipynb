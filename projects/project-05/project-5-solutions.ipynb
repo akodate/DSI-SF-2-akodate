{
 "cells": [
  {
   "cell_type": "markdown",
   "metadata": {},
   "source": [
    "<img src=\"http://imgur.com/1ZcRyrc.png\" style=\"float: left; margin: 15px; height: 80px\">\n",
    "\n",
    "# Project 4\n",
    "\n",
    "## Help Yelp\n",
    "\n",
    "---\n",
    "\n",
    "In this project you will be investigating a small version of the [Yelp challenge dataset](https://www.yelp.com/dataset_challenge). You'll practice using classification algorithms, cross-validation, gridsearching – all that good stuff.\n",
    "\n"
   ]
  },
  {
   "cell_type": "markdown",
   "metadata": {},
   "source": [
    "---\n",
    "\n",
    "### The data\n",
    "\n",
    "There are 5 individual .csv files that have the information, zipped into .7z format like with the SF data last project. The dataset is located in your datasets folder:\n",
    "\n",
    "    DSI-SF-2/datasets/yelp_arizona_data.7z\n",
    "\n",
    "The columns in each are:\n",
    "\n",
    "    businesses_small_parsed.csv\n",
    "        business_id: unique business identifier\n",
    "        name: name of the business\n",
    "        review_count: number of reviews per business\n",
    "        city: city business resides in\n",
    "        stars: average rating\n",
    "        categories: categories the business falls into (can be one or multiple)\n",
    "        latitude\n",
    "        longitude\n",
    "        neighborhoods: neighborhoods business belongs to\n",
    "        variable: \"property\" of the business (a tag)\n",
    "        value: True/False for the property\n",
    "        \n",
    "    reviews_small_nlp_parsed.csv\n",
    "        user_id: unique user identifier\n",
    "        review_id: unique review identifier\n",
    "        votes.cool: how many thought the review was \"cool\"\n",
    "        business_id: unique business id the review is for\n",
    "        votes.funny: how many thought the review was funny\n",
    "        stars: rating given\n",
    "        date: date of review\n",
    "        votes.useful: how many thought the review was useful\n",
    "        ... 100 columns of counts of most common 2 word phrases that appear in reviews in this review\n",
    "        \n",
    "    users_small_parsed.csv\n",
    "        yelping_since: signup date\n",
    "        compliments.plain: # of compliments \"plain\"\n",
    "        review_count: # of reviews:\n",
    "        compliments.cute: total # of compliments \"cute\"\n",
    "        compliments.writer: # of compliments \"writer\"\n",
    "        compliments.note: # of compliments \"note\" (not sure what this is)\n",
    "        compliments.hot: # of compliments \"hot\" (?)\n",
    "        compliments.cool: # of compliments \"cool\"\n",
    "        compliments.profile: # of compliments \"profile\"\n",
    "        average_stars: average rating\n",
    "        compliments.more: # of compliments \"more\"\n",
    "        elite: years considered \"elite\"\n",
    "        name: user's name\n",
    "        user_id: unique user id\n",
    "        votes.cool: # of votes \"cool\"\n",
    "        compliments.list: # of compliments \"list\"\n",
    "        votes.funny: # of compliments \"funny\"\n",
    "        compliments.photos: # of compliments \"photos\"\n",
    "        compliments.funny: # of compliments \"funny\"\n",
    "        votes.useful: # of votes \"useful\"\n",
    "       \n",
    "    checkins_small_parsed.csv\n",
    "        business_id: unique business identifier\n",
    "        variable: day-time identifier of checkins (0-0 is Sunday 0:00 - 1:00am,  for example)\n",
    "        value: # of checkins at that time\n",
    "    \n",
    "    tips_small_nlp_parsed.csv\n",
    "        user_id: unique user identifier\n",
    "        business_id: unique business identifier\n",
    "        likes: likes that the tip has\n",
    "        date: date of tip\n",
    "        ... 100 columns of counts of most common 2 word phrases that appear in tips in this tip\n",
    "\n",
    "The reviews and tips datasets in particular have parsed \"NLP\" columns with counts of 2-word phrases in that review or tip (a \"tip\", it seems, is some kind of smaller review).\n",
    "\n",
    "The user dataset has a lot of columns of counts of different compliments and votes. I'm not sure whether the compliments or votes are _by_ the user or _for_ the user.\n",
    "\n",
    "---\n",
    "\n",
    "If you look at the website, or the full data, you'll see I have removed pieces of the data and cut it down quite a bit. This is to simplify it for this project. Specifically, business are limited to be in these cities:\n",
    "\n",
    "    Phoenix\n",
    "    Surprise\n",
    "    Las Vegas\n",
    "    Waterloo\n",
    "\n",
    "Apparently there is a city called \"Surprise\" in Arizona. \n",
    "\n",
    "Businesses are also restricted to at least be in one of the following categories, because I thought the mix of them was funny:\n",
    "\n",
    "    Airports\n",
    "    Breakfast & Brunch\n",
    "    Bubble Tea\n",
    "    Burgers\n",
    "    Bars\n",
    "    Bakeries\n",
    "    Breweries\n",
    "    Cafes\n",
    "    Candy Stores\n",
    "    Comedy Clubs\n",
    "    Courthouses\n",
    "    Dance Clubs\n",
    "    Fast Food\n",
    "    Museums\n",
    "    Tattoo\n",
    "    Vape Shops\n",
    "    Yoga\n",
    "    \n",
    "---\n",
    "\n",
    "### Project requirements\n",
    "\n",
    "**You will be performing 4 different sections of analysis, like in the last project.**\n",
    "\n",
    "Remember that classification targets are categorical and regression targets are continuous variables."
   ]
  },
  {
   "cell_type": "markdown",
   "metadata": {},
   "source": [
    "<img src=\"http://imgur.com/l5NasQj.png\" style=\"float: left; margin: 25px 15px 0px 0px; height: 25px\">\n",
    "\n",
    "## 1. Constructing a \"profile\" for Las Vegas\n",
    "\n",
    "---\n",
    "\n",
    "Yelp is interested in building out what they are calling \"profiles\" for cities. They want you to start with just Las Vegas to see what a prototype of this would look like. Essentially, they want to know what makes Las Vegas distinct from the other four.\n",
    "\n",
    "Use the data you have to predict Las Vegas from the other variables you have. You should not be predicting the city from any kind of location data or other data perfectly associated with that city (or another city).\n",
    "\n",
    "You may use any classification algorithm you deem appropriate, or even multiple models. You should:\n",
    "\n",
    "1. Build at least one model predicting Las Vegas vs. the other cities.\n",
    "- Validate your model(s).\n",
    "- Interpret and visualize, in some way, the results.\n",
    "- Write up a \"profile\" for Las Vegas. This should be a writeup converting your findings from the model(s) into a human-readable description of the city."
   ]
  },
  {
   "cell_type": "code",
   "execution_count": 128,
   "metadata": {
    "collapsed": true
   },
   "outputs": [],
   "source": [
    "import matplotlib.pyplot as plt\n",
    "import numpy as np\n",
    "import pandas as pd\n",
    "import seaborn as sns\n",
    "import scipy.stats as stats\n",
    "\n",
    "plt.style.use('fivethirtyeight')\n",
    "\n",
    "from ipywidgets import *\n",
    "from IPython.display import display\n",
    "\n",
    "%matplotlib inline\n",
    "%config InlineBackend.figure_format = 'retina'"
   ]
  },
  {
   "cell_type": "code",
   "execution_count": 129,
   "metadata": {
    "collapsed": true
   },
   "outputs": [],
   "source": [
    "# Load in the datasets:\n",
    "biz = pd.read_csv('/Users/kiefer/github-repos/DSI-SF/datasets/yelp_arizona_data/businesses_small_parsed.csv')\n",
    "chk = pd.read_csv('/Users/kiefer/github-repos/DSI-SF/datasets/yelp_arizona_data/checkins_small_parsed.csv')\n",
    "rev = pd.read_csv('/Users/kiefer/github-repos/DSI-SF/datasets/yelp_arizona_data/reviews_small_nlp_parsed.csv')\n",
    "tip = pd.read_csv('/Users/kiefer/github-repos/DSI-SF/datasets/yelp_arizona_data/tips_small_nlp_parsed.csv')\n",
    "usr = pd.read_csv('/Users/kiefer/github-repos/DSI-SF/datasets/yelp_arizona_data/users_small_parsed.csv')"
   ]
  },
  {
   "cell_type": "code",
   "execution_count": 130,
   "metadata": {
    "collapsed": false
   },
   "outputs": [
    {
     "name": "stdout",
     "output_type": "stream",
     "text": [
      "(152832, 11)\n",
      "Index([u'business_id', u'name', u'review_count', u'city', u'stars',\n",
      "       u'categories', u'latitude', u'longitude', u'neighborhoods', u'variable',\n",
      "       u'value'],\n",
      "      dtype='object')\n"
     ]
    },
    {
     "data": {
      "text/html": [
       "<div>\n",
       "<table border=\"1\" class=\"dataframe\">\n",
       "  <thead>\n",
       "    <tr style=\"text-align: right;\">\n",
       "      <th></th>\n",
       "      <th>business_id</th>\n",
       "      <th>name</th>\n",
       "      <th>review_count</th>\n",
       "      <th>city</th>\n",
       "      <th>stars</th>\n",
       "      <th>categories</th>\n",
       "      <th>latitude</th>\n",
       "      <th>longitude</th>\n",
       "      <th>neighborhoods</th>\n",
       "      <th>variable</th>\n",
       "      <th>value</th>\n",
       "    </tr>\n",
       "  </thead>\n",
       "  <tbody>\n",
       "    <tr>\n",
       "      <th>0</th>\n",
       "      <td>EmzaQR5hQlF0WIl24NxAZA</td>\n",
       "      <td>Sky Lounge</td>\n",
       "      <td>25</td>\n",
       "      <td>Phoenix</td>\n",
       "      <td>2.5</td>\n",
       "      <td>['American (New)', 'Nightlife', 'Dance Clubs',...</td>\n",
       "      <td>33.448399</td>\n",
       "      <td>-112.071702</td>\n",
       "      <td>[]</td>\n",
       "      <td>attributes.Ambience.divey</td>\n",
       "      <td>False</td>\n",
       "    </tr>\n",
       "  </tbody>\n",
       "</table>\n",
       "</div>"
      ],
      "text/plain": [
       "              business_id        name  review_count     city  stars  \\\n",
       "0  EmzaQR5hQlF0WIl24NxAZA  Sky Lounge            25  Phoenix    2.5   \n",
       "\n",
       "                                          categories   latitude   longitude  \\\n",
       "0  ['American (New)', 'Nightlife', 'Dance Clubs',...  33.448399 -112.071702   \n",
       "\n",
       "  neighborhoods                   variable  value  \n",
       "0            []  attributes.Ambience.divey  False  "
      ]
     },
     "execution_count": 130,
     "metadata": {},
     "output_type": "execute_result"
    }
   ],
   "source": [
    "# Business data:\n",
    "print biz.shape\n",
    "print biz.columns\n",
    "biz.head(1)"
   ]
  },
  {
   "cell_type": "code",
   "execution_count": 131,
   "metadata": {
    "collapsed": false
   },
   "outputs": [
    {
     "name": "stdout",
     "output_type": "stream",
     "text": [
      "(214299, 3)\n",
      "Index([u'business_id', u'variable', u'value'], dtype='object')\n"
     ]
    },
    {
     "data": {
      "text/html": [
       "<div>\n",
       "<table border=\"1\" class=\"dataframe\">\n",
       "  <thead>\n",
       "    <tr style=\"text-align: right;\">\n",
       "      <th></th>\n",
       "      <th>business_id</th>\n",
       "      <th>variable</th>\n",
       "      <th>value</th>\n",
       "    </tr>\n",
       "  </thead>\n",
       "  <tbody>\n",
       "    <tr>\n",
       "      <th>0</th>\n",
       "      <td>SG_gEmEXL4ID6RAEinC5Bg</td>\n",
       "      <td>checkin_info.9-0</td>\n",
       "      <td>1.0</td>\n",
       "    </tr>\n",
       "  </tbody>\n",
       "</table>\n",
       "</div>"
      ],
      "text/plain": [
       "              business_id          variable  value\n",
       "0  SG_gEmEXL4ID6RAEinC5Bg  checkin_info.9-0    1.0"
      ]
     },
     "execution_count": 131,
     "metadata": {},
     "output_type": "execute_result"
    }
   ],
   "source": [
    "# Checkins data:\n",
    "print chk.shape\n",
    "print chk.columns\n",
    "chk.head(1)"
   ]
  },
  {
   "cell_type": "code",
   "execution_count": 132,
   "metadata": {
    "collapsed": false
   },
   "outputs": [
    {
     "name": "stdout",
     "output_type": "stream",
     "text": [
      "(322398, 108)\n",
      "Index([u'user_id', u'review_id', u'votes.cool', u'business_id', u'votes.funny',\n",
      "       u'stars', u'date', u'votes.useful', u'10 minutes', u'15 minutes',\n",
      "       ...\n",
      "       u'service great', u'staff friendly', u'super friendly', u'sweet potato',\n",
      "       u'tasted like', u'time vegas', u'try place', u've seen', u've tried',\n",
      "       u'wait staff'],\n",
      "      dtype='object', length=108)\n"
     ]
    },
    {
     "data": {
      "text/html": [
       "<div>\n",
       "<table border=\"1\" class=\"dataframe\">\n",
       "  <thead>\n",
       "    <tr style=\"text-align: right;\">\n",
       "      <th></th>\n",
       "      <th>user_id</th>\n",
       "      <th>review_id</th>\n",
       "      <th>votes.cool</th>\n",
       "      <th>business_id</th>\n",
       "      <th>votes.funny</th>\n",
       "      <th>stars</th>\n",
       "      <th>date</th>\n",
       "      <th>votes.useful</th>\n",
       "      <th>10 minutes</th>\n",
       "      <th>15 minutes</th>\n",
       "      <th>...</th>\n",
       "      <th>service great</th>\n",
       "      <th>staff friendly</th>\n",
       "      <th>super friendly</th>\n",
       "      <th>sweet potato</th>\n",
       "      <th>tasted like</th>\n",
       "      <th>time vegas</th>\n",
       "      <th>try place</th>\n",
       "      <th>ve seen</th>\n",
       "      <th>ve tried</th>\n",
       "      <th>wait staff</th>\n",
       "    </tr>\n",
       "  </thead>\n",
       "  <tbody>\n",
       "    <tr>\n",
       "      <th>0</th>\n",
       "      <td>o_LCYay4uo5N4eq3U5pbrQ</td>\n",
       "      <td>biEOCicjWlibF26pNLvhcw</td>\n",
       "      <td>0</td>\n",
       "      <td>EmzaQR5hQlF0WIl24NxAZA</td>\n",
       "      <td>0</td>\n",
       "      <td>3</td>\n",
       "      <td>2007-09-14</td>\n",
       "      <td>1</td>\n",
       "      <td>0</td>\n",
       "      <td>0</td>\n",
       "      <td>...</td>\n",
       "      <td>0</td>\n",
       "      <td>0</td>\n",
       "      <td>0</td>\n",
       "      <td>0</td>\n",
       "      <td>0</td>\n",
       "      <td>0</td>\n",
       "      <td>0</td>\n",
       "      <td>0</td>\n",
       "      <td>0</td>\n",
       "      <td>0</td>\n",
       "    </tr>\n",
       "  </tbody>\n",
       "</table>\n",
       "<p>1 rows × 108 columns</p>\n",
       "</div>"
      ],
      "text/plain": [
       "                  user_id               review_id  votes.cool  \\\n",
       "0  o_LCYay4uo5N4eq3U5pbrQ  biEOCicjWlibF26pNLvhcw           0   \n",
       "\n",
       "              business_id  votes.funny  stars        date  votes.useful  \\\n",
       "0  EmzaQR5hQlF0WIl24NxAZA            0      3  2007-09-14             1   \n",
       "\n",
       "   10 minutes  15 minutes     ...      service great  staff friendly  \\\n",
       "0           0           0     ...                  0               0   \n",
       "\n",
       "   super friendly  sweet potato  tasted like  time vegas  try place  ve seen  \\\n",
       "0               0             0            0           0          0        0   \n",
       "\n",
       "   ve tried  wait staff  \n",
       "0         0           0  \n",
       "\n",
       "[1 rows x 108 columns]"
      ]
     },
     "execution_count": 132,
     "metadata": {},
     "output_type": "execute_result"
    }
   ],
   "source": [
    "# Review data:\n",
    "print rev.shape\n",
    "print rev.columns\n",
    "rev.head(1)"
   ]
  },
  {
   "cell_type": "code",
   "execution_count": 133,
   "metadata": {
    "collapsed": false
   },
   "outputs": [
    {
     "name": "stdout",
     "output_type": "stream",
     "text": [
      "(101991, 104)\n",
      "Index([u'user_id', u'business_id', u'likes', u'date', u'24 hours',\n",
      "       u'amazing food', u'animal style', u'awesome food', u'awesome place',\n",
      "       u'awesome service',\n",
      "       ...\n",
      "       u'service good', u'service great', u'slow service', u'staff friendly',\n",
      "       u'staff great', u'steak eggs', u'super friendly', u'sweet potato',\n",
      "       u'velvet pancakes', u'worth wait'],\n",
      "      dtype='object', length=104)\n"
     ]
    },
    {
     "data": {
      "text/html": [
       "<div>\n",
       "<table border=\"1\" class=\"dataframe\">\n",
       "  <thead>\n",
       "    <tr style=\"text-align: right;\">\n",
       "      <th></th>\n",
       "      <th>user_id</th>\n",
       "      <th>business_id</th>\n",
       "      <th>likes</th>\n",
       "      <th>date</th>\n",
       "      <th>24 hours</th>\n",
       "      <th>amazing food</th>\n",
       "      <th>animal style</th>\n",
       "      <th>awesome food</th>\n",
       "      <th>awesome place</th>\n",
       "      <th>awesome service</th>\n",
       "      <th>...</th>\n",
       "      <th>service good</th>\n",
       "      <th>service great</th>\n",
       "      <th>slow service</th>\n",
       "      <th>staff friendly</th>\n",
       "      <th>staff great</th>\n",
       "      <th>steak eggs</th>\n",
       "      <th>super friendly</th>\n",
       "      <th>sweet potato</th>\n",
       "      <th>velvet pancakes</th>\n",
       "      <th>worth wait</th>\n",
       "    </tr>\n",
       "  </thead>\n",
       "  <tbody>\n",
       "    <tr>\n",
       "      <th>0</th>\n",
       "      <td>trdsekNRD-gIs50EBrScwA</td>\n",
       "      <td>EmzaQR5hQlF0WIl24NxAZA</td>\n",
       "      <td>0</td>\n",
       "      <td>2012-02-27</td>\n",
       "      <td>0</td>\n",
       "      <td>0</td>\n",
       "      <td>0</td>\n",
       "      <td>0</td>\n",
       "      <td>0</td>\n",
       "      <td>0</td>\n",
       "      <td>...</td>\n",
       "      <td>0</td>\n",
       "      <td>0</td>\n",
       "      <td>0</td>\n",
       "      <td>0</td>\n",
       "      <td>0</td>\n",
       "      <td>0</td>\n",
       "      <td>0</td>\n",
       "      <td>0</td>\n",
       "      <td>0</td>\n",
       "      <td>0</td>\n",
       "    </tr>\n",
       "  </tbody>\n",
       "</table>\n",
       "<p>1 rows × 104 columns</p>\n",
       "</div>"
      ],
      "text/plain": [
       "                  user_id             business_id  likes        date  \\\n",
       "0  trdsekNRD-gIs50EBrScwA  EmzaQR5hQlF0WIl24NxAZA      0  2012-02-27   \n",
       "\n",
       "   24 hours  amazing food  animal style  awesome food  awesome place  \\\n",
       "0         0             0             0             0              0   \n",
       "\n",
       "   awesome service     ...      service good  service great  slow service  \\\n",
       "0                0     ...                 0              0             0   \n",
       "\n",
       "   staff friendly  staff great  steak eggs  super friendly  sweet potato  \\\n",
       "0               0            0           0               0             0   \n",
       "\n",
       "   velvet pancakes  worth wait  \n",
       "0                0           0  \n",
       "\n",
       "[1 rows x 104 columns]"
      ]
     },
     "execution_count": 133,
     "metadata": {},
     "output_type": "execute_result"
    }
   ],
   "source": [
    "print tip.shape\n",
    "print tip.columns\n",
    "tip.head(1)"
   ]
  },
  {
   "cell_type": "code",
   "execution_count": 134,
   "metadata": {
    "collapsed": false
   },
   "outputs": [
    {
     "name": "stdout",
     "output_type": "stream",
     "text": [
      "(144206, 21)\n",
      "Index([u'yelping_since', u'compliments.plain', u'review_count',\n",
      "       u'compliments.cute', u'compliments.writer', u'fans',\n",
      "       u'compliments.note', u'compliments.hot', u'compliments.cool',\n",
      "       u'compliments.profile', u'average_stars', u'compliments.more', u'elite',\n",
      "       u'name', u'user_id', u'votes.cool', u'compliments.list', u'votes.funny',\n",
      "       u'compliments.photos', u'compliments.funny', u'votes.useful'],\n",
      "      dtype='object')\n"
     ]
    },
    {
     "data": {
      "text/html": [
       "<div>\n",
       "<table border=\"1\" class=\"dataframe\">\n",
       "  <thead>\n",
       "    <tr style=\"text-align: right;\">\n",
       "      <th></th>\n",
       "      <th>yelping_since</th>\n",
       "      <th>compliments.plain</th>\n",
       "      <th>review_count</th>\n",
       "      <th>compliments.cute</th>\n",
       "      <th>compliments.writer</th>\n",
       "      <th>fans</th>\n",
       "      <th>compliments.note</th>\n",
       "      <th>compliments.hot</th>\n",
       "      <th>compliments.cool</th>\n",
       "      <th>compliments.profile</th>\n",
       "      <th>...</th>\n",
       "      <th>compliments.more</th>\n",
       "      <th>elite</th>\n",
       "      <th>name</th>\n",
       "      <th>user_id</th>\n",
       "      <th>votes.cool</th>\n",
       "      <th>compliments.list</th>\n",
       "      <th>votes.funny</th>\n",
       "      <th>compliments.photos</th>\n",
       "      <th>compliments.funny</th>\n",
       "      <th>votes.useful</th>\n",
       "    </tr>\n",
       "  </thead>\n",
       "  <tbody>\n",
       "    <tr>\n",
       "      <th>0</th>\n",
       "      <td>2004-10</td>\n",
       "      <td>959.0</td>\n",
       "      <td>1274</td>\n",
       "      <td>206.0</td>\n",
       "      <td>327.0</td>\n",
       "      <td>1179</td>\n",
       "      <td>611.0</td>\n",
       "      <td>1094.0</td>\n",
       "      <td>1642.0</td>\n",
       "      <td>116.0</td>\n",
       "      <td>...</td>\n",
       "      <td>134.0</td>\n",
       "      <td>[2005, 2006, 2007, 2008, 2009, 2010, 2011, 201...</td>\n",
       "      <td>Jeremy</td>\n",
       "      <td>rpOyqD_893cqmDAtJLbdog</td>\n",
       "      <td>11093</td>\n",
       "      <td>38.0</td>\n",
       "      <td>7681</td>\n",
       "      <td>330.0</td>\n",
       "      <td>580.0</td>\n",
       "      <td>14199</td>\n",
       "    </tr>\n",
       "  </tbody>\n",
       "</table>\n",
       "<p>1 rows × 21 columns</p>\n",
       "</div>"
      ],
      "text/plain": [
       "  yelping_since  compliments.plain  review_count  compliments.cute  \\\n",
       "0       2004-10              959.0          1274             206.0   \n",
       "\n",
       "   compliments.writer  fans  compliments.note  compliments.hot  \\\n",
       "0               327.0  1179             611.0           1094.0   \n",
       "\n",
       "   compliments.cool  compliments.profile      ...       compliments.more  \\\n",
       "0            1642.0                116.0      ...                  134.0   \n",
       "\n",
       "                                               elite    name  \\\n",
       "0  [2005, 2006, 2007, 2008, 2009, 2010, 2011, 201...  Jeremy   \n",
       "\n",
       "                  user_id votes.cool  compliments.list  votes.funny  \\\n",
       "0  rpOyqD_893cqmDAtJLbdog      11093              38.0         7681   \n",
       "\n",
       "   compliments.photos  compliments.funny  votes.useful  \n",
       "0               330.0              580.0         14199  \n",
       "\n",
       "[1 rows x 21 columns]"
      ]
     },
     "execution_count": 134,
     "metadata": {},
     "output_type": "execute_result"
    }
   ],
   "source": [
    "print usr.shape\n",
    "print usr.columns\n",
    "usr.head(1)"
   ]
  },
  {
   "cell_type": "code",
   "execution_count": 135,
   "metadata": {
    "collapsed": true
   },
   "outputs": [],
   "source": [
    "# Drop the location columns from biz\n",
    "biz.drop(['latitude','longitude','neighborhoods'], axis=1, inplace=True)"
   ]
  },
  {
   "cell_type": "code",
   "execution_count": 136,
   "metadata": {
    "collapsed": false
   },
   "outputs": [
    {
     "data": {
      "text/plain": [
       "business_id      object\n",
       "name             object\n",
       "review_count      int64\n",
       "city             object\n",
       "stars           float64\n",
       "categories       object\n",
       "variable         object\n",
       "value            object\n",
       "dtype: object"
      ]
     },
     "execution_count": 136,
     "metadata": {},
     "output_type": "execute_result"
    }
   ],
   "source": [
    "biz.dtypes"
   ]
  },
  {
   "cell_type": "code",
   "execution_count": 137,
   "metadata": {
    "collapsed": false
   },
   "outputs": [
    {
     "data": {
      "text/plain": [
       "0    ['American (New)', 'Nightlife', 'Dance Clubs',...\n",
       "1                 ['Bars', 'Nightlife', 'Dance Clubs']\n",
       "Name: categories, dtype: object"
      ]
     },
     "execution_count": 137,
     "metadata": {},
     "output_type": "execute_result"
    }
   ],
   "source": [
    "# Take a look at the categories column:\n",
    "biz.categories[0:2]"
   ]
  },
  {
   "cell_type": "code",
   "execution_count": 138,
   "metadata": {
    "collapsed": false
   },
   "outputs": [
    {
     "data": {
      "text/plain": [
       "['attributes.Accepts Credit Cards',\n",
       " 'attributes.Accepts Insurance',\n",
       " 'attributes.Ages Allowed',\n",
       " 'attributes.Alcohol',\n",
       " 'attributes.Ambience.casual',\n",
       " 'attributes.Ambience.classy',\n",
       " 'attributes.Ambience.divey',\n",
       " 'attributes.Ambience.hipster',\n",
       " 'attributes.Ambience.intimate',\n",
       " 'attributes.Ambience.romantic',\n",
       " 'attributes.Ambience.touristy',\n",
       " 'attributes.Ambience.trendy',\n",
       " 'attributes.Ambience.upscale',\n",
       " 'attributes.Attire',\n",
       " 'attributes.BYOB',\n",
       " 'attributes.BYOB/Corkage',\n",
       " 'attributes.By Appointment Only',\n",
       " 'attributes.Caters',\n",
       " 'attributes.Coat Check',\n",
       " 'attributes.Corkage',\n",
       " 'attributes.Delivery',\n",
       " 'attributes.Dietary Restrictions.dairy-free',\n",
       " 'attributes.Dietary Restrictions.gluten-free',\n",
       " 'attributes.Dietary Restrictions.halal',\n",
       " 'attributes.Dietary Restrictions.kosher',\n",
       " 'attributes.Dietary Restrictions.soy-free',\n",
       " 'attributes.Dietary Restrictions.vegan',\n",
       " 'attributes.Dietary Restrictions.vegetarian',\n",
       " 'attributes.Dogs Allowed',\n",
       " 'attributes.Drive-Thru',\n",
       " 'attributes.Good For Dancing',\n",
       " 'attributes.Good For Groups',\n",
       " 'attributes.Good For.breakfast',\n",
       " 'attributes.Good For.brunch',\n",
       " 'attributes.Good For.dessert',\n",
       " 'attributes.Good For.dinner',\n",
       " 'attributes.Good For.latenight',\n",
       " 'attributes.Good For.lunch',\n",
       " 'attributes.Good for Kids',\n",
       " 'attributes.Happy Hour',\n",
       " 'attributes.Has TV',\n",
       " 'attributes.Music.background_music',\n",
       " 'attributes.Music.dj',\n",
       " 'attributes.Music.jukebox',\n",
       " 'attributes.Music.karaoke',\n",
       " 'attributes.Music.live',\n",
       " 'attributes.Music.video',\n",
       " 'attributes.Noise Level',\n",
       " 'attributes.Open 24 Hours',\n",
       " 'attributes.Order at Counter',\n",
       " 'attributes.Outdoor Seating',\n",
       " 'attributes.Parking.garage',\n",
       " 'attributes.Parking.lot',\n",
       " 'attributes.Parking.street',\n",
       " 'attributes.Parking.valet',\n",
       " 'attributes.Parking.validated',\n",
       " 'attributes.Price Range',\n",
       " 'attributes.Smoking',\n",
       " 'attributes.Take-out',\n",
       " 'attributes.Takes Reservations',\n",
       " 'attributes.Waiter Service',\n",
       " 'attributes.Wheelchair Accessible',\n",
       " 'attributes.Wi-Fi',\n",
       " 'hours.Friday.close',\n",
       " 'hours.Friday.open',\n",
       " 'hours.Monday.close',\n",
       " 'hours.Monday.open',\n",
       " 'hours.Saturday.close',\n",
       " 'hours.Saturday.open',\n",
       " 'hours.Sunday.close',\n",
       " 'hours.Sunday.open',\n",
       " 'hours.Thursday.close',\n",
       " 'hours.Thursday.open',\n",
       " 'hours.Tuesday.close',\n",
       " 'hours.Tuesday.open',\n",
       " 'hours.Wednesday.close',\n",
       " 'hours.Wednesday.open',\n",
       " 'open']"
      ]
     },
     "execution_count": 138,
     "metadata": {},
     "output_type": "execute_result"
    }
   ],
   "source": [
    "# How many attributes/properties are there?\n",
    "sorted(biz.variable.unique())"
   ]
  },
  {
   "cell_type": "code",
   "execution_count": 139,
   "metadata": {
    "collapsed": false
   },
   "outputs": [
    {
     "data": {
      "text/plain": [
       "open                                           4132\n",
       "attributes.Accepts Credit Cards                3896\n",
       "attributes.Price Range                         3843\n",
       "attributes.Parking.valet                       3427\n",
       "attributes.Parking.street                      3427\n",
       "attributes.Parking.validated                   3427\n",
       "attributes.Parking.garage                      3427\n",
       "attributes.Parking.lot                         3427\n",
       "attributes.Good For Groups                     3362\n",
       "attributes.Outdoor Seating                     3267\n",
       "attributes.Has TV                              3084\n",
       "attributes.Alcohol                             3050\n",
       "attributes.Good for Kids                       2909\n",
       "attributes.Ambience.trendy                     2873\n",
       "attributes.Ambience.touristy                   2873\n",
       "attributes.Ambience.classy                     2873\n",
       "attributes.Ambience.romantic                   2873\n",
       "attributes.Ambience.intimate                   2873\n",
       "attributes.Ambience.casual                     2873\n",
       "attributes.Ambience.hipster                    2871\n",
       "attributes.Ambience.upscale                    2866\n",
       "attributes.Ambience.divey                      2864\n",
       "attributes.Noise Level                         2805\n",
       "attributes.Delivery                            2777\n",
       "attributes.Take-out                            2667\n",
       "attributes.Takes Reservations                  2653\n",
       "attributes.Attire                              2650\n",
       "hours.Friday.close                             2518\n",
       "hours.Friday.open                              2518\n",
       "attributes.Good For.breakfast                  2508\n",
       "                                               ... \n",
       "attributes.Wi-Fi                               2176\n",
       "attributes.Caters                              2050\n",
       "attributes.Wheelchair Accessible               1926\n",
       "attributes.Happy Hour                          1321\n",
       "attributes.Good For Dancing                    1277\n",
       "attributes.Drive-Thru                          1274\n",
       "attributes.Coat Check                          1260\n",
       "attributes.Smoking                             1187\n",
       "attributes.Music.dj                            1052\n",
       "attributes.Music.jukebox                        749\n",
       "attributes.Music.live                           709\n",
       "attributes.Music.video                          657\n",
       "attributes.Music.karaoke                        414\n",
       "attributes.Music.background_music               406\n",
       "attributes.Dogs Allowed                         378\n",
       "attributes.BYOB/Corkage                         159\n",
       "attributes.By Appointment Only                  135\n",
       "attributes.BYOB                                 106\n",
       "attributes.Ages Allowed                         101\n",
       "attributes.Corkage                              100\n",
       "attributes.Order at Counter                      62\n",
       "attributes.Open 24 Hours                         54\n",
       "attributes.Accepts Insurance                      7\n",
       "attributes.Dietary Restrictions.vegan             5\n",
       "attributes.Dietary Restrictions.gluten-free       5\n",
       "attributes.Dietary Restrictions.vegetarian        5\n",
       "attributes.Dietary Restrictions.halal             5\n",
       "attributes.Dietary Restrictions.soy-free          5\n",
       "attributes.Dietary Restrictions.kosher            5\n",
       "attributes.Dietary Restrictions.dairy-free        5\n",
       "Name: variable, dtype: int64"
      ]
     },
     "execution_count": 139,
     "metadata": {},
     "output_type": "execute_result"
    }
   ],
   "source": [
    "# How many per attribute?\n",
    "biz.variable.value_counts()"
   ]
  },
  {
   "cell_type": "code",
   "execution_count": 140,
   "metadata": {
    "collapsed": false
   },
   "outputs": [],
   "source": [
    "# Remove attributes corresponding to \"dietary\" or \"insurance\" since they are so rare.\n",
    "remove_attributes = [a for a in biz.variable.unique() if '.Dietary' in a or 'Insurance' in a]\n",
    "\n",
    "biz = biz[~biz.variable.isin(remove_attributes)]"
   ]
  },
  {
   "cell_type": "code",
   "execution_count": 141,
   "metadata": {
    "collapsed": false
   },
   "outputs": [],
   "source": [
    "# widen the dataset, moving the attributes into columns (aggfunc is just taking the first\n",
    "# element, there should only be one thing to fill into cells)\n",
    "def choose_first(x):\n",
    "    return x.values[0]\n",
    "\n",
    "bizw = pd.pivot_table(biz, values=['value'], columns=['variable'], index=['business_id','name',\n",
    "                                                                         'review_count','city','stars',\n",
    "                                                                         'categories'],\n",
    "                     aggfunc=choose_first)"
   ]
  },
  {
   "cell_type": "code",
   "execution_count": 142,
   "metadata": {
    "collapsed": false
   },
   "outputs": [],
   "source": [
    "bizw = bizw['value'].reset_index()"
   ]
  },
  {
   "cell_type": "code",
   "execution_count": 143,
   "metadata": {
    "collapsed": false
   },
   "outputs": [
    {
     "data": {
      "text/html": [
       "<div>\n",
       "<table border=\"1\" class=\"dataframe\">\n",
       "  <thead>\n",
       "    <tr style=\"text-align: right;\">\n",
       "      <th>variable</th>\n",
       "      <th>business_id</th>\n",
       "      <th>name</th>\n",
       "      <th>review_count</th>\n",
       "      <th>city</th>\n",
       "      <th>stars</th>\n",
       "      <th>categories</th>\n",
       "      <th>attributes.Accepts Credit Cards</th>\n",
       "      <th>attributes.Ages Allowed</th>\n",
       "      <th>attributes.Alcohol</th>\n",
       "      <th>attributes.Ambience.casual</th>\n",
       "      <th>...</th>\n",
       "      <th>hours.Saturday.open</th>\n",
       "      <th>hours.Sunday.close</th>\n",
       "      <th>hours.Sunday.open</th>\n",
       "      <th>hours.Thursday.close</th>\n",
       "      <th>hours.Thursday.open</th>\n",
       "      <th>hours.Tuesday.close</th>\n",
       "      <th>hours.Tuesday.open</th>\n",
       "      <th>hours.Wednesday.close</th>\n",
       "      <th>hours.Wednesday.open</th>\n",
       "      <th>open</th>\n",
       "    </tr>\n",
       "  </thead>\n",
       "  <tbody>\n",
       "    <tr>\n",
       "      <th>0</th>\n",
       "      <td>--jFTZmywe7StuZ2hEjxyA</td>\n",
       "      <td>Subway</td>\n",
       "      <td>7</td>\n",
       "      <td>Las Vegas</td>\n",
       "      <td>3.5</td>\n",
       "      <td>['Fast Food', 'Sandwiches', 'Restaurants']</td>\n",
       "      <td>True</td>\n",
       "      <td>None</td>\n",
       "      <td>none</td>\n",
       "      <td>None</td>\n",
       "      <td>...</td>\n",
       "      <td>None</td>\n",
       "      <td>None</td>\n",
       "      <td>None</td>\n",
       "      <td>None</td>\n",
       "      <td>None</td>\n",
       "      <td>None</td>\n",
       "      <td>None</td>\n",
       "      <td>None</td>\n",
       "      <td>None</td>\n",
       "      <td>True</td>\n",
       "    </tr>\n",
       "  </tbody>\n",
       "</table>\n",
       "<p>1 rows × 76 columns</p>\n",
       "</div>"
      ],
      "text/plain": [
       "variable             business_id    name  review_count       city  stars  \\\n",
       "0         --jFTZmywe7StuZ2hEjxyA  Subway             7  Las Vegas    3.5   \n",
       "\n",
       "variable                                  categories  \\\n",
       "0         ['Fast Food', 'Sandwiches', 'Restaurants']   \n",
       "\n",
       "variable attributes.Accepts Credit Cards attributes.Ages Allowed  \\\n",
       "0                                   True                    None   \n",
       "\n",
       "variable attributes.Alcohol attributes.Ambience.casual  ...   \\\n",
       "0                      none                       None  ...    \n",
       "\n",
       "variable hours.Saturday.open hours.Sunday.close hours.Sunday.open  \\\n",
       "0                       None               None              None   \n",
       "\n",
       "variable hours.Thursday.close hours.Thursday.open hours.Tuesday.close  \\\n",
       "0                        None                None                None   \n",
       "\n",
       "variable hours.Tuesday.open hours.Wednesday.close hours.Wednesday.open  open  \n",
       "0                      None                  None                 None  True  \n",
       "\n",
       "[1 rows x 76 columns]"
      ]
     },
     "execution_count": 143,
     "metadata": {},
     "output_type": "execute_result"
    }
   ],
   "source": [
    "bizw.head(1)"
   ]
  },
  {
   "cell_type": "code",
   "execution_count": 144,
   "metadata": {
    "collapsed": false
   },
   "outputs": [],
   "source": [
    "# This funtion maps the hours to more broad time ranges:\n",
    "# 12am-6am\n",
    "# 6am-12pm\n",
    "# 12pm-6pm\n",
    "# 6pm-12am\n",
    "def timemapper(x):\n",
    "    try:\n",
    "        hr = int(x.strip().split(':')[0])\n",
    "        if hr >= 0 and hr < 6:\n",
    "            return '12am_6am'\n",
    "        elif hr > 6 and hr <= 12:\n",
    "            return '6am_12pm'\n",
    "        elif hr > 12 and hr <= 18:\n",
    "            return '12pm_6pm'\n",
    "        else:\n",
    "            return '6pm_12am'\n",
    "    except:\n",
    "        return 'unlisted'"
   ]
  },
  {
   "cell_type": "code",
   "execution_count": 145,
   "metadata": {
    "collapsed": true
   },
   "outputs": [],
   "source": [
    "# convert time columns if they have hours in the title, otherwise make the columns binary 1/0\n",
    "for col in bizw.columns[6:]:\n",
    "    if 'hours.' in col:\n",
    "        bizw[col] = bizw[col].map(timemapper)\n",
    "    else:\n",
    "        bizw[col] = bizw[col].map(lambda x: 1 if x == 'True' else 0)"
   ]
  },
  {
   "cell_type": "code",
   "execution_count": 146,
   "metadata": {
    "collapsed": false
   },
   "outputs": [],
   "source": [
    "# Make the categories column python lists from strings using eval\n",
    "bizw.categories = bizw.categories.map(lambda x: eval(x))"
   ]
  },
  {
   "cell_type": "code",
   "execution_count": 147,
   "metadata": {
    "collapsed": false
   },
   "outputs": [
    {
     "data": {
      "text/plain": [
       "(4132, 76)"
      ]
     },
     "execution_count": 147,
     "metadata": {},
     "output_type": "execute_result"
    }
   ],
   "source": [
    "bizw.shape"
   ]
  },
  {
   "cell_type": "code",
   "execution_count": 148,
   "metadata": {
    "collapsed": true
   },
   "outputs": [],
   "source": [
    "# Get a list of the unique categories by iterating through the categories column\n",
    "unique_categories = []\n",
    "for bc in bizw.categories.values:\n",
    "    unique_categories.extend(bc)\n",
    "unique_categories = np.unique(unique_categories)"
   ]
  },
  {
   "cell_type": "code",
   "execution_count": 149,
   "metadata": {
    "collapsed": true
   },
   "outputs": [],
   "source": [
    "# make a new column for each of the unique categories.\n",
    "# if the category is inside the categories column on that row,\n",
    "# mark it with a 1\n",
    "for uc in unique_categories:\n",
    "    bizw[uc] = bizw.categories.map(lambda x: 1 if uc in x else 0)"
   ]
  },
  {
   "cell_type": "code",
   "execution_count": 150,
   "metadata": {
    "collapsed": false
   },
   "outputs": [
    {
     "name": "stdout",
     "output_type": "stream",
     "text": [
      "210\n"
     ]
    }
   ],
   "source": [
    "# find the counds of the categories\n",
    "print len(unique_categories)\n",
    "category_counts = bizw.iloc[:,-len(unique_categories):].sum().reset_index()\n",
    "category_counts.columns = ['column','colsum']\n",
    "category_counts.sort_values('colsum', ascending=False, inplace=True)"
   ]
  },
  {
   "cell_type": "code",
   "execution_count": 151,
   "metadata": {
    "collapsed": false
   },
   "outputs": [
    {
     "data": {
      "text/plain": [
       "count     210.000000\n",
       "mean       68.757143\n",
       "std       253.676607\n",
       "min         1.000000\n",
       "25%         2.000000\n",
       "50%         5.000000\n",
       "75%        31.500000\n",
       "max      2692.000000\n",
       "Name: colsum, dtype: float64"
      ]
     },
     "execution_count": 151,
     "metadata": {},
     "output_type": "execute_result"
    }
   ],
   "source": [
    "category_counts.colsum.describe()"
   ]
  },
  {
   "cell_type": "code",
   "execution_count": 152,
   "metadata": {
    "collapsed": false
   },
   "outputs": [
    {
     "data": {
      "text/plain": [
       "(4132, 187)"
      ]
     },
     "execution_count": 152,
     "metadata": {},
     "output_type": "execute_result"
    }
   ],
   "source": [
    "# only keep business categories that appear at least 5 times (the median).\n",
    "drop_cats = category_counts[category_counts.colsum < 5].column.values\n",
    "bizw.drop(drop_cats, inplace=True, axis=1)\n",
    "bizw.shape"
   ]
  },
  {
   "cell_type": "code",
   "execution_count": 153,
   "metadata": {
    "collapsed": false
   },
   "outputs": [
    {
     "data": {
      "text/html": [
       "<div>\n",
       "<table border=\"1\" class=\"dataframe\">\n",
       "  <thead>\n",
       "    <tr style=\"text-align: right;\">\n",
       "      <th></th>\n",
       "      <th>business_id</th>\n",
       "      <th>review_count</th>\n",
       "    </tr>\n",
       "  </thead>\n",
       "  <tbody>\n",
       "    <tr>\n",
       "      <th>0</th>\n",
       "      <td>4bEjOyTaDG24SY5TxsaUNQ</td>\n",
       "      <td>5042</td>\n",
       "    </tr>\n",
       "    <tr>\n",
       "      <th>1</th>\n",
       "      <td>aGbjLWzcrnEx2ZmMCFm3EA</td>\n",
       "      <td>3405</td>\n",
       "    </tr>\n",
       "    <tr>\n",
       "      <th>2</th>\n",
       "      <td>QbmcCE_cLq4WO8ZMKImaLw</td>\n",
       "      <td>2704</td>\n",
       "    </tr>\n",
       "  </tbody>\n",
       "</table>\n",
       "</div>"
      ],
      "text/plain": [
       "              business_id  review_count\n",
       "0  4bEjOyTaDG24SY5TxsaUNQ          5042\n",
       "1  aGbjLWzcrnEx2ZmMCFm3EA          3405\n",
       "2  QbmcCE_cLq4WO8ZMKImaLw          2704"
      ]
     },
     "execution_count": 153,
     "metadata": {},
     "output_type": "execute_result"
    }
   ],
   "source": [
    "# make a dataframe that has the review counts per business ID:\n",
    "rev_bizcounts = rev.business_id.value_counts().reset_index()\n",
    "rev_bizcounts.columns = ['business_id','review_count']\n",
    "rev_bizcounts.head(3)"
   ]
  },
  {
   "cell_type": "code",
   "execution_count": 154,
   "metadata": {
    "collapsed": false
   },
   "outputs": [
    {
     "data": {
      "text/html": [
       "<div>\n",
       "<table border=\"1\" class=\"dataframe\">\n",
       "  <thead>\n",
       "    <tr style=\"text-align: right;\">\n",
       "      <th></th>\n",
       "      <th>business_id</th>\n",
       "      <th>10 minutes</th>\n",
       "      <th>15 minutes</th>\n",
       "      <th>20 minutes</th>\n",
       "      <th>30 minutes</th>\n",
       "      <th>bar food</th>\n",
       "      <th>beer selection</th>\n",
       "      <th>best ve</th>\n",
       "      <th>bloody mary</th>\n",
       "      <th>bottle service</th>\n",
       "      <th>...</th>\n",
       "      <th>service great</th>\n",
       "      <th>staff friendly</th>\n",
       "      <th>super friendly</th>\n",
       "      <th>sweet potato</th>\n",
       "      <th>tasted like</th>\n",
       "      <th>time vegas</th>\n",
       "      <th>try place</th>\n",
       "      <th>ve seen</th>\n",
       "      <th>ve tried</th>\n",
       "      <th>wait staff</th>\n",
       "    </tr>\n",
       "  </thead>\n",
       "  <tbody>\n",
       "    <tr>\n",
       "      <th>0</th>\n",
       "      <td>--jFTZmywe7StuZ2hEjxyA</td>\n",
       "      <td>0.0</td>\n",
       "      <td>0.0</td>\n",
       "      <td>0.0</td>\n",
       "      <td>0.0</td>\n",
       "      <td>0.0</td>\n",
       "      <td>0.0</td>\n",
       "      <td>0.0</td>\n",
       "      <td>0.0</td>\n",
       "      <td>0.0</td>\n",
       "      <td>...</td>\n",
       "      <td>0.0</td>\n",
       "      <td>0.000000</td>\n",
       "      <td>0.0</td>\n",
       "      <td>0.0</td>\n",
       "      <td>0.0</td>\n",
       "      <td>0.0</td>\n",
       "      <td>0.0</td>\n",
       "      <td>0.0</td>\n",
       "      <td>0.0</td>\n",
       "      <td>0.000000</td>\n",
       "    </tr>\n",
       "    <tr>\n",
       "      <th>1</th>\n",
       "      <td>-0HGqwlfw3I8nkJyMHxAsQ</td>\n",
       "      <td>0.0</td>\n",
       "      <td>0.0</td>\n",
       "      <td>0.0</td>\n",
       "      <td>0.0</td>\n",
       "      <td>0.0</td>\n",
       "      <td>0.0</td>\n",
       "      <td>0.0</td>\n",
       "      <td>0.0</td>\n",
       "      <td>0.0</td>\n",
       "      <td>...</td>\n",
       "      <td>0.0</td>\n",
       "      <td>0.111111</td>\n",
       "      <td>0.0</td>\n",
       "      <td>0.0</td>\n",
       "      <td>0.0</td>\n",
       "      <td>0.0</td>\n",
       "      <td>0.0</td>\n",
       "      <td>0.0</td>\n",
       "      <td>0.0</td>\n",
       "      <td>0.111111</td>\n",
       "    </tr>\n",
       "    <tr>\n",
       "      <th>2</th>\n",
       "      <td>-0VK5Z1BfUHUYq4PoBYNLw</td>\n",
       "      <td>0.0</td>\n",
       "      <td>0.0</td>\n",
       "      <td>0.0</td>\n",
       "      <td>0.0</td>\n",
       "      <td>0.0</td>\n",
       "      <td>0.0</td>\n",
       "      <td>0.0</td>\n",
       "      <td>0.0</td>\n",
       "      <td>0.0</td>\n",
       "      <td>...</td>\n",
       "      <td>0.0</td>\n",
       "      <td>0.000000</td>\n",
       "      <td>0.0</td>\n",
       "      <td>0.0</td>\n",
       "      <td>0.0</td>\n",
       "      <td>0.0</td>\n",
       "      <td>0.0</td>\n",
       "      <td>0.0</td>\n",
       "      <td>0.0</td>\n",
       "      <td>0.000000</td>\n",
       "    </tr>\n",
       "  </tbody>\n",
       "</table>\n",
       "<p>3 rows × 101 columns</p>\n",
       "</div>"
      ],
      "text/plain": [
       "              business_id  10 minutes  15 minutes  20 minutes  30 minutes  \\\n",
       "0  --jFTZmywe7StuZ2hEjxyA         0.0         0.0         0.0         0.0   \n",
       "1  -0HGqwlfw3I8nkJyMHxAsQ         0.0         0.0         0.0         0.0   \n",
       "2  -0VK5Z1BfUHUYq4PoBYNLw         0.0         0.0         0.0         0.0   \n",
       "\n",
       "   bar food  beer selection  best ve  bloody mary  bottle service     ...      \\\n",
       "0       0.0             0.0      0.0          0.0             0.0     ...       \n",
       "1       0.0             0.0      0.0          0.0             0.0     ...       \n",
       "2       0.0             0.0      0.0          0.0             0.0     ...       \n",
       "\n",
       "   service great  staff friendly  super friendly  sweet potato  tasted like  \\\n",
       "0            0.0        0.000000             0.0           0.0          0.0   \n",
       "1            0.0        0.111111             0.0           0.0          0.0   \n",
       "2            0.0        0.000000             0.0           0.0          0.0   \n",
       "\n",
       "   time vegas  try place  ve seen  ve tried  wait staff  \n",
       "0         0.0        0.0      0.0       0.0    0.000000  \n",
       "1         0.0        0.0      0.0       0.0    0.111111  \n",
       "2         0.0        0.0      0.0       0.0    0.000000  \n",
       "\n",
       "[3 rows x 101 columns]"
      ]
     },
     "execution_count": 154,
     "metadata": {},
     "output_type": "execute_result"
    }
   ],
   "source": [
    "# now make an aggregated review dataframe where it is the percent of times certain\n",
    "# phrases were said in all the reviews for that business\n",
    "\n",
    "revagg = rev.drop(['user_id','votes.cool','votes.funny','stars','date','votes.useful'], axis=1)\n",
    "revagg = revagg.groupby('business_id').agg(np.sum).reset_index()\n",
    "revagg = revagg.merge(rev_bizcounts, on='business_id')\n",
    "\n",
    "revagg.iloc[:, 1:] = revagg.iloc[:, 1:].div(revagg.review_count.astype(np.float), axis=0)\n",
    "revagg.drop('review_count', axis=1, inplace=True)\n",
    "\n",
    "revagg.head(3)\n"
   ]
  },
  {
   "cell_type": "code",
   "execution_count": 155,
   "metadata": {
    "collapsed": true
   },
   "outputs": [],
   "source": [
    "# remove spaces from the columns and tag with prefix \"rev_\"\n",
    "revagg.columns = ['business_id']+['rev_'+x.strip().replace(' ','_') for x in revagg.columns[1:]]\n",
    "\n",
    "# remove anything that says \"vegas\" since it is cheating to keep it in.\n",
    "revagg = revagg[[c for c in revagg.columns if not 'vegas' in c]]"
   ]
  },
  {
   "cell_type": "code",
   "execution_count": 156,
   "metadata": {
    "collapsed": false
   },
   "outputs": [
    {
     "data": {
      "text/html": [
       "<div>\n",
       "<table border=\"1\" class=\"dataframe\">\n",
       "  <thead>\n",
       "    <tr style=\"text-align: right;\">\n",
       "      <th></th>\n",
       "      <th>business_id</th>\n",
       "      <th>24 hours</th>\n",
       "      <th>amazing food</th>\n",
       "      <th>animal style</th>\n",
       "      <th>awesome food</th>\n",
       "      <th>awesome place</th>\n",
       "      <th>awesome service</th>\n",
       "      <th>beef hash</th>\n",
       "      <th>beer selection</th>\n",
       "      <th>best breakfast</th>\n",
       "      <th>...</th>\n",
       "      <th>service good</th>\n",
       "      <th>service great</th>\n",
       "      <th>slow service</th>\n",
       "      <th>staff friendly</th>\n",
       "      <th>staff great</th>\n",
       "      <th>steak eggs</th>\n",
       "      <th>super friendly</th>\n",
       "      <th>sweet potato</th>\n",
       "      <th>velvet pancakes</th>\n",
       "      <th>worth wait</th>\n",
       "    </tr>\n",
       "  </thead>\n",
       "  <tbody>\n",
       "    <tr>\n",
       "      <th>0</th>\n",
       "      <td>--jFTZmywe7StuZ2hEjxyA</td>\n",
       "      <td>0.0</td>\n",
       "      <td>0.0</td>\n",
       "      <td>0.0</td>\n",
       "      <td>0.0</td>\n",
       "      <td>0.0</td>\n",
       "      <td>0.0</td>\n",
       "      <td>0.0</td>\n",
       "      <td>0.0</td>\n",
       "      <td>0.0</td>\n",
       "      <td>...</td>\n",
       "      <td>0.0</td>\n",
       "      <td>0.0</td>\n",
       "      <td>0.0</td>\n",
       "      <td>0.0</td>\n",
       "      <td>0.0</td>\n",
       "      <td>0.0</td>\n",
       "      <td>0.0</td>\n",
       "      <td>0.0</td>\n",
       "      <td>0.0</td>\n",
       "      <td>0.0</td>\n",
       "    </tr>\n",
       "    <tr>\n",
       "      <th>1</th>\n",
       "      <td>-0HGqwlfw3I8nkJyMHxAsQ</td>\n",
       "      <td>0.0</td>\n",
       "      <td>0.0</td>\n",
       "      <td>0.0</td>\n",
       "      <td>0.0</td>\n",
       "      <td>0.0</td>\n",
       "      <td>0.0</td>\n",
       "      <td>0.0</td>\n",
       "      <td>0.0</td>\n",
       "      <td>0.0</td>\n",
       "      <td>...</td>\n",
       "      <td>0.0</td>\n",
       "      <td>0.0</td>\n",
       "      <td>0.0</td>\n",
       "      <td>0.0</td>\n",
       "      <td>0.0</td>\n",
       "      <td>0.0</td>\n",
       "      <td>0.0</td>\n",
       "      <td>0.0</td>\n",
       "      <td>0.0</td>\n",
       "      <td>0.0</td>\n",
       "    </tr>\n",
       "    <tr>\n",
       "      <th>2</th>\n",
       "      <td>-0VK5Z1BfUHUYq4PoBYNLw</td>\n",
       "      <td>0.0</td>\n",
       "      <td>0.0</td>\n",
       "      <td>0.0</td>\n",
       "      <td>0.0</td>\n",
       "      <td>0.0</td>\n",
       "      <td>0.0</td>\n",
       "      <td>0.0</td>\n",
       "      <td>0.0</td>\n",
       "      <td>0.0</td>\n",
       "      <td>...</td>\n",
       "      <td>0.0</td>\n",
       "      <td>0.0</td>\n",
       "      <td>0.0</td>\n",
       "      <td>0.0</td>\n",
       "      <td>0.0</td>\n",
       "      <td>0.0</td>\n",
       "      <td>0.0</td>\n",
       "      <td>0.0</td>\n",
       "      <td>0.0</td>\n",
       "      <td>0.0</td>\n",
       "    </tr>\n",
       "  </tbody>\n",
       "</table>\n",
       "<p>3 rows × 101 columns</p>\n",
       "</div>"
      ],
      "text/plain": [
       "              business_id  24 hours  amazing food  animal style  awesome food  \\\n",
       "0  --jFTZmywe7StuZ2hEjxyA       0.0           0.0           0.0           0.0   \n",
       "1  -0HGqwlfw3I8nkJyMHxAsQ       0.0           0.0           0.0           0.0   \n",
       "2  -0VK5Z1BfUHUYq4PoBYNLw       0.0           0.0           0.0           0.0   \n",
       "\n",
       "   awesome place  awesome service  beef hash  beer selection  best breakfast  \\\n",
       "0            0.0              0.0        0.0             0.0             0.0   \n",
       "1            0.0              0.0        0.0             0.0             0.0   \n",
       "2            0.0              0.0        0.0             0.0             0.0   \n",
       "\n",
       "      ...      service good  service great  slow service  staff friendly  \\\n",
       "0     ...               0.0            0.0           0.0             0.0   \n",
       "1     ...               0.0            0.0           0.0             0.0   \n",
       "2     ...               0.0            0.0           0.0             0.0   \n",
       "\n",
       "   staff great  steak eggs  super friendly  sweet potato  velvet pancakes  \\\n",
       "0          0.0         0.0             0.0           0.0              0.0   \n",
       "1          0.0         0.0             0.0           0.0              0.0   \n",
       "2          0.0         0.0             0.0           0.0              0.0   \n",
       "\n",
       "   worth wait  \n",
       "0         0.0  \n",
       "1         0.0  \n",
       "2         0.0  \n",
       "\n",
       "[3 rows x 101 columns]"
      ]
     },
     "execution_count": 156,
     "metadata": {},
     "output_type": "execute_result"
    }
   ],
   "source": [
    "# Do the same as above, but for the tips data:\n",
    "tip_bizcounts = tip.business_id.value_counts().reset_index()\n",
    "tip_bizcounts.columns = ['business_id','tip_count']\n",
    "tip_bizcounts.head(3)\n",
    "\n",
    "tipagg = tip.drop(['user_id','likes','date'], axis=1)\n",
    "tipagg = tipagg.groupby('business_id').agg(np.sum).reset_index()\n",
    "tipagg = tipagg.merge(tip_bizcounts, on='business_id')\n",
    "tipagg.iloc[:, 1:] = tipagg.iloc[:, 1:].div(tipagg.tip_count.astype(np.float), axis=0)\n",
    "tipagg.drop('tip_count', axis=1, inplace=True)\n",
    "tipagg.head(3)"
   ]
  },
  {
   "cell_type": "code",
   "execution_count": 157,
   "metadata": {
    "collapsed": false
   },
   "outputs": [],
   "source": [
    "# remove the spaces and vegas stuff:\n",
    "tipagg.columns = ['business_id']+['tip_'+x.strip().replace(' ','_') for x in tipagg.columns[1:]]\n",
    "tipagg = tipagg[[c for c in tipagg.columns if not 'vegas' in c]]"
   ]
  },
  {
   "cell_type": "code",
   "execution_count": 158,
   "metadata": {
    "collapsed": false
   },
   "outputs": [
    {
     "name": "stdout",
     "output_type": "stream",
     "text": [
      "(4132, 99) (3752, 100)\n"
     ]
    }
   ],
   "source": [
    "print revagg.shape, tipagg.shape"
   ]
  },
  {
   "cell_type": "code",
   "execution_count": 159,
   "metadata": {
    "collapsed": false
   },
   "outputs": [],
   "source": [
    "# make a new las vegas dataframe that will combine them\n",
    "lv = bizw.copy()"
   ]
  },
  {
   "cell_type": "code",
   "execution_count": 160,
   "metadata": {
    "collapsed": false
   },
   "outputs": [
    {
     "name": "stdout",
     "output_type": "stream",
     "text": [
      "(4132, 384)\n"
     ]
    }
   ],
   "source": [
    "# merge the reviews and tips aggregate stuff on business_id\n",
    "lv = lv.merge(revagg, on='business_id', how='left')\n",
    "lv = lv.merge(tipagg, on='business_id', how='left')\n",
    "print lv.shape"
   ]
  },
  {
   "cell_type": "code",
   "execution_count": 161,
   "metadata": {
    "collapsed": true
   },
   "outputs": [],
   "source": [
    "# fill any nas with 0\n",
    "lv = lv.fillna(0.)"
   ]
  },
  {
   "cell_type": "code",
   "execution_count": 162,
   "metadata": {
    "collapsed": false
   },
   "outputs": [
    {
     "data": {
      "text/html": [
       "<div>\n",
       "<table border=\"1\" class=\"dataframe\">\n",
       "  <thead>\n",
       "    <tr style=\"text-align: right;\">\n",
       "      <th>variable</th>\n",
       "      <th>business_id</th>\n",
       "      <th>name</th>\n",
       "      <th>review_count</th>\n",
       "      <th>city</th>\n",
       "      <th>stars</th>\n",
       "      <th>categories</th>\n",
       "      <th>attributes.Accepts Credit Cards</th>\n",
       "      <th>attributes.Ages Allowed</th>\n",
       "      <th>attributes.Alcohol</th>\n",
       "      <th>attributes.Ambience.casual</th>\n",
       "      <th>...</th>\n",
       "      <th>tip_service_good</th>\n",
       "      <th>tip_service_great</th>\n",
       "      <th>tip_slow_service</th>\n",
       "      <th>tip_staff_friendly</th>\n",
       "      <th>tip_staff_great</th>\n",
       "      <th>tip_steak_eggs</th>\n",
       "      <th>tip_super_friendly</th>\n",
       "      <th>tip_sweet_potato</th>\n",
       "      <th>tip_velvet_pancakes</th>\n",
       "      <th>tip_worth_wait</th>\n",
       "    </tr>\n",
       "  </thead>\n",
       "  <tbody>\n",
       "    <tr>\n",
       "      <th>0</th>\n",
       "      <td>--jFTZmywe7StuZ2hEjxyA</td>\n",
       "      <td>Subway</td>\n",
       "      <td>7</td>\n",
       "      <td>Las Vegas</td>\n",
       "      <td>3.5</td>\n",
       "      <td>[Fast Food, Sandwiches, Restaurants]</td>\n",
       "      <td>1</td>\n",
       "      <td>0</td>\n",
       "      <td>0</td>\n",
       "      <td>0</td>\n",
       "      <td>...</td>\n",
       "      <td>0.0</td>\n",
       "      <td>0.0</td>\n",
       "      <td>0.0</td>\n",
       "      <td>0.0</td>\n",
       "      <td>0.0</td>\n",
       "      <td>0.0</td>\n",
       "      <td>0.0</td>\n",
       "      <td>0.0</td>\n",
       "      <td>0.0</td>\n",
       "      <td>0.0</td>\n",
       "    </tr>\n",
       "    <tr>\n",
       "      <th>1</th>\n",
       "      <td>-0HGqwlfw3I8nkJyMHxAsQ</td>\n",
       "      <td>McDonald's</td>\n",
       "      <td>9</td>\n",
       "      <td>Phoenix</td>\n",
       "      <td>3.0</td>\n",
       "      <td>[Burgers, Fast Food, Restaurants]</td>\n",
       "      <td>1</td>\n",
       "      <td>0</td>\n",
       "      <td>0</td>\n",
       "      <td>0</td>\n",
       "      <td>...</td>\n",
       "      <td>0.0</td>\n",
       "      <td>0.0</td>\n",
       "      <td>0.0</td>\n",
       "      <td>0.0</td>\n",
       "      <td>0.0</td>\n",
       "      <td>0.0</td>\n",
       "      <td>0.0</td>\n",
       "      <td>0.0</td>\n",
       "      <td>0.0</td>\n",
       "      <td>0.0</td>\n",
       "    </tr>\n",
       "  </tbody>\n",
       "</table>\n",
       "<p>2 rows × 384 columns</p>\n",
       "</div>"
      ],
      "text/plain": [
       "variable             business_id        name  review_count       city  stars  \\\n",
       "0         --jFTZmywe7StuZ2hEjxyA      Subway             7  Las Vegas    3.5   \n",
       "1         -0HGqwlfw3I8nkJyMHxAsQ  McDonald's             9    Phoenix    3.0   \n",
       "\n",
       "variable                            categories  \\\n",
       "0         [Fast Food, Sandwiches, Restaurants]   \n",
       "1            [Burgers, Fast Food, Restaurants]   \n",
       "\n",
       "variable  attributes.Accepts Credit Cards  attributes.Ages Allowed  \\\n",
       "0                                       1                        0   \n",
       "1                                       1                        0   \n",
       "\n",
       "variable  attributes.Alcohol  attributes.Ambience.casual       ...        \\\n",
       "0                          0                           0       ...         \n",
       "1                          0                           0       ...         \n",
       "\n",
       "variable  tip_service_good  tip_service_great  tip_slow_service  \\\n",
       "0                      0.0                0.0               0.0   \n",
       "1                      0.0                0.0               0.0   \n",
       "\n",
       "variable  tip_staff_friendly  tip_staff_great  tip_steak_eggs  \\\n",
       "0                        0.0              0.0             0.0   \n",
       "1                        0.0              0.0             0.0   \n",
       "\n",
       "variable  tip_super_friendly  tip_sweet_potato  tip_velvet_pancakes  \\\n",
       "0                        0.0               0.0                  0.0   \n",
       "1                        0.0               0.0                  0.0   \n",
       "\n",
       "variable  tip_worth_wait  \n",
       "0                    0.0  \n",
       "1                    0.0  \n",
       "\n",
       "[2 rows x 384 columns]"
      ]
     },
     "execution_count": 162,
     "metadata": {},
     "output_type": "execute_result"
    }
   ],
   "source": [
    "lv.head(2)"
   ]
  },
  {
   "cell_type": "code",
   "execution_count": 163,
   "metadata": {
    "collapsed": true
   },
   "outputs": [],
   "source": [
    "# Take out the columns irrelevant for prediction\n",
    "# (I don't want review count)\n",
    "lv = lv.drop(['business_id','name','review_count','categories'], axis=1)"
   ]
  },
  {
   "cell_type": "code",
   "execution_count": 164,
   "metadata": {
    "collapsed": true
   },
   "outputs": [],
   "source": [
    "# make las vegas 1 and all other cities 0\n",
    "lv.city = lv.city.map(lambda x: 1 if x == 'Las Vegas' else 0)"
   ]
  },
  {
   "cell_type": "code",
   "execution_count": 165,
   "metadata": {
    "collapsed": true
   },
   "outputs": [],
   "source": [
    "# take out anything not a letter or number and make lowercase:\n",
    "newcols = [''.join([x if x in 'abcdefghijklmnopqrstuvwxyz0123456789' else '_' for x in c.lower()]) for c in lv.columns]\n",
    "lv.columns = newcols"
   ]
  },
  {
   "cell_type": "code",
   "execution_count": 166,
   "metadata": {
    "collapsed": true
   },
   "outputs": [],
   "source": [
    "# Load models and such\n",
    "from sklearn.linear_model import SGDClassifier, LogisticRegression, LogisticRegressionCV\n",
    "from sklearn.grid_search import GridSearchCV\n",
    "from sklearn.preprocessing import StandardScaler\n",
    "import patsy"
   ]
  },
  {
   "cell_type": "code",
   "execution_count": 167,
   "metadata": {
    "collapsed": true
   },
   "outputs": [],
   "source": [
    "# a hack to make patsy work on a big formula. be careful with this...\n",
    "import sys\n",
    "sys.setrecursionlimit(10000) "
   ]
  },
  {
   "cell_type": "code",
   "execution_count": 168,
   "metadata": {
    "collapsed": false,
    "scrolled": false
   },
   "outputs": [],
   "source": [
    "# make the X and y\n",
    "f = 'city ~ '+' + '.join([c for c in lv.columns if c != 'city'])+' -1'\n",
    "y, X = patsy.dmatrices(f, data=lv, return_type='dataframe')\n",
    "\n",
    "y = np.ravel(y)"
   ]
  },
  {
   "cell_type": "code",
   "execution_count": 169,
   "metadata": {
    "collapsed": true
   },
   "outputs": [],
   "source": [
    "# standardize X\n",
    "ss = StandardScaler()\n",
    "Xn = ss.fit_transform(X)"
   ]
  },
  {
   "cell_type": "code",
   "execution_count": 170,
   "metadata": {
    "collapsed": false
   },
   "outputs": [
    {
     "name": "stdout",
     "output_type": "stream",
     "text": [
      "(4132, 422)\n"
     ]
    }
   ],
   "source": [
    "print Xn.shape"
   ]
  },
  {
   "cell_type": "code",
   "execution_count": 171,
   "metadata": {
    "collapsed": false
   },
   "outputs": [
    {
     "name": "stdout",
     "output_type": "stream",
     "text": [
      "Fitting 5 folds for each of 300 candidates, totalling 1500 fits\n"
     ]
    },
    {
     "name": "stderr",
     "output_type": "stream",
     "text": [
      "[Parallel(n_jobs=1)]: Done  49 tasks       | elapsed:    3.5s\n",
      "[Parallel(n_jobs=1)]: Done 199 tasks       | elapsed:   15.2s\n",
      "[Parallel(n_jobs=1)]: Done 449 tasks       | elapsed:   34.7s\n",
      "[Parallel(n_jobs=1)]: Done 799 tasks       | elapsed:  1.2min\n",
      "[Parallel(n_jobs=1)]: Done 1249 tasks       | elapsed:  2.9min\n",
      "[Parallel(n_jobs=1)]: Done 1500 out of 1500 | elapsed:  5.5min finished\n"
     ]
    },
    {
     "data": {
      "text/plain": [
       "GridSearchCV(cv=5, error_score='raise',\n",
       "       estimator=LogisticRegression(C=1.0, class_weight=None, dual=False, fit_intercept=True,\n",
       "          intercept_scaling=1, max_iter=100, multi_class='ovr', n_jobs=1,\n",
       "          penalty='l2', random_state=None, solver='liblinear', tol=0.0001,\n",
       "          verbose=0, warm_start=False),\n",
       "       fit_params={}, iid=True, n_jobs=1,\n",
       "       param_grid={'penalty': ['l1', 'l2'], 'C': array([ 0.0001 ,  0.0001 , ...,  0.09547,  0.1    ]), 'solver': ['liblinear']},\n",
       "       pre_dispatch='2*n_jobs', refit=True, scoring=None, verbose=1)"
      ]
     },
     "execution_count": 171,
     "metadata": {},
     "output_type": "execute_result"
    }
   ],
   "source": [
    "# Search for a good logistic regression with l1 or l2 penalties. \n",
    "# My C values here are pretty low. I want regularization here so\n",
    "# I don't care if the lowest strength is still fairly high.\n",
    "\n",
    "lr_params = {\n",
    "    'solver':['liblinear'],\n",
    "    'C':np.logspace(-4, -1, 150),\n",
    "    'penalty':['l1','l2']\n",
    "}\n",
    "\n",
    "lr_gs = GridSearchCV(LogisticRegression(), lr_params, cv=5, verbose=1)\n",
    "lr_gs.fit(Xn, y)"
   ]
  },
  {
   "cell_type": "code",
   "execution_count": 172,
   "metadata": {
    "collapsed": false
   },
   "outputs": [
    {
     "name": "stdout",
     "output_type": "stream",
     "text": [
      "0.700387221684\n",
      "0.621974830591\n"
     ]
    }
   ],
   "source": [
    "# best score in gridsearch as well as baseline score:\n",
    "print lr_gs.best_score_\n",
    "print np.mean(y)"
   ]
  },
  {
   "cell_type": "code",
   "execution_count": 173,
   "metadata": {
    "collapsed": false
   },
   "outputs": [
    {
     "data": {
      "text/plain": [
       "{'C': 0.016397026580002055, 'penalty': 'l2', 'solver': 'liblinear'}"
      ]
     },
     "execution_count": 173,
     "metadata": {},
     "output_type": "execute_result"
    }
   ],
   "source": [
    "# best parameters\n",
    "lr_gs.best_params_"
   ]
  },
  {
   "cell_type": "code",
   "execution_count": 174,
   "metadata": {
    "collapsed": false
   },
   "outputs": [],
   "source": [
    "lr = lr_gs.best_estimator_"
   ]
  },
  {
   "cell_type": "code",
   "execution_count": 175,
   "metadata": {
    "collapsed": false
   },
   "outputs": [
    {
     "name": "stdout",
     "output_type": "stream",
     "text": [
      "[ 0.66908213  0.66908213  0.69733656  0.71186441  0.72154964  0.70217918\n",
      "  0.72639225  0.67554479  0.69491525  0.72881356]\n",
      "0.699675989285\n"
     ]
    }
   ],
   "source": [
    "# cross-validate it on 10 fold just to see\n",
    "from sklearn.cross_validation import cross_val_score\n",
    "scores = cross_val_score(lr, Xn, y, cv=10)\n",
    "print scores\n",
    "print np.mean(scores)"
   ]
  },
  {
   "cell_type": "code",
   "execution_count": 176,
   "metadata": {
    "collapsed": false
   },
   "outputs": [
    {
     "data": {
      "text/plain": [
       "LogisticRegression(C=0.016397026580002055, class_weight=None, dual=False,\n",
       "          fit_intercept=True, intercept_scaling=1, max_iter=100,\n",
       "          multi_class='ovr', n_jobs=1, penalty='l2', random_state=None,\n",
       "          solver='liblinear', tol=0.0001, verbose=0, warm_start=False)"
      ]
     },
     "execution_count": 176,
     "metadata": {},
     "output_type": "execute_result"
    }
   ],
   "source": [
    "# fit it on the data in full:\n",
    "lr.fit(Xn, y)"
   ]
  },
  {
   "cell_type": "code",
   "execution_count": 177,
   "metadata": {
    "collapsed": false
   },
   "outputs": [],
   "source": [
    "# make the coefs dataframe\n",
    "coefs = pd.DataFrame({\n",
    "        'coef':lr.coef_[0],\n",
    "        'predictor':X.columns\n",
    "    })"
   ]
  },
  {
   "cell_type": "code",
   "execution_count": 178,
   "metadata": {
    "collapsed": false
   },
   "outputs": [
    {
     "data": {
      "text/html": [
       "<div>\n",
       "<table border=\"1\" class=\"dataframe\">\n",
       "  <thead>\n",
       "    <tr style=\"text-align: right;\">\n",
       "      <th></th>\n",
       "      <th>coef</th>\n",
       "      <th>predictor</th>\n",
       "    </tr>\n",
       "  </thead>\n",
       "  <tbody>\n",
       "    <tr>\n",
       "      <th>100</th>\n",
       "      <td>-0.405493</td>\n",
       "      <td>attributes_outdoor_seating</td>\n",
       "    </tr>\n",
       "    <tr>\n",
       "      <th>101</th>\n",
       "      <td>0.394380</td>\n",
       "      <td>attributes_parking_garage</td>\n",
       "    </tr>\n",
       "    <tr>\n",
       "      <th>238</th>\n",
       "      <td>0.254824</td>\n",
       "      <td>rev_definitely_come</td>\n",
       "    </tr>\n",
       "    <tr>\n",
       "      <th>81</th>\n",
       "      <td>0.244790</td>\n",
       "      <td>attributes_good_for_groups</td>\n",
       "    </tr>\n",
       "    <tr>\n",
       "      <th>129</th>\n",
       "      <td>-0.205762</td>\n",
       "      <td>breakfast___brunch</td>\n",
       "    </tr>\n",
       "    <tr>\n",
       "      <th>250</th>\n",
       "      <td>0.195159</td>\n",
       "      <td>rev_food_amazing</td>\n",
       "    </tr>\n",
       "    <tr>\n",
       "      <th>196</th>\n",
       "      <td>0.193721</td>\n",
       "      <td>pilates</td>\n",
       "    </tr>\n",
       "    <tr>\n",
       "      <th>201</th>\n",
       "      <td>-0.185793</td>\n",
       "      <td>restaurants</td>\n",
       "    </tr>\n",
       "    <tr>\n",
       "      <th>135</th>\n",
       "      <td>-0.185017</td>\n",
       "      <td>canadian__new_</td>\n",
       "    </tr>\n",
       "    <tr>\n",
       "      <th>108</th>\n",
       "      <td>-0.171097</td>\n",
       "      <td>attributes_take_out</td>\n",
       "    </tr>\n",
       "    <tr>\n",
       "      <th>2</th>\n",
       "      <td>0.169385</td>\n",
       "      <td>hours_friday_close[6am_12pm]</td>\n",
       "    </tr>\n",
       "    <tr>\n",
       "      <th>138</th>\n",
       "      <td>0.162756</td>\n",
       "      <td>casinos</td>\n",
       "    </tr>\n",
       "    <tr>\n",
       "      <th>212</th>\n",
       "      <td>0.153246</td>\n",
       "      <td>swimming_pools</td>\n",
       "    </tr>\n",
       "    <tr>\n",
       "      <th>234</th>\n",
       "      <td>0.148967</td>\n",
       "      <td>rev_chicken_waffles</td>\n",
       "    </tr>\n",
       "    <tr>\n",
       "      <th>38</th>\n",
       "      <td>-0.144804</td>\n",
       "      <td>hours_thursday_open[T.6am_12pm]</td>\n",
       "    </tr>\n",
       "    <tr>\n",
       "      <th>30</th>\n",
       "      <td>-0.143252</td>\n",
       "      <td>hours_sunday_open[T.6am_12pm]</td>\n",
       "    </tr>\n",
       "    <tr>\n",
       "      <th>182</th>\n",
       "      <td>0.139832</td>\n",
       "      <td>juice_bars___smoothies</td>\n",
       "    </tr>\n",
       "    <tr>\n",
       "      <th>29</th>\n",
       "      <td>-0.139155</td>\n",
       "      <td>hours_sunday_open[T.12pm_6pm]</td>\n",
       "    </tr>\n",
       "    <tr>\n",
       "      <th>271</th>\n",
       "      <td>0.138267</td>\n",
       "      <td>rev_great_service</td>\n",
       "    </tr>\n",
       "    <tr>\n",
       "      <th>32</th>\n",
       "      <td>-0.137778</td>\n",
       "      <td>hours_sunday_open[T.unlisted]</td>\n",
       "    </tr>\n",
       "    <tr>\n",
       "      <th>28</th>\n",
       "      <td>-0.137778</td>\n",
       "      <td>hours_sunday_close[T.unlisted]</td>\n",
       "    </tr>\n",
       "    <tr>\n",
       "      <th>16</th>\n",
       "      <td>-0.137716</td>\n",
       "      <td>hours_monday_open[T.unlisted]</td>\n",
       "    </tr>\n",
       "    <tr>\n",
       "      <th>12</th>\n",
       "      <td>-0.137716</td>\n",
       "      <td>hours_monday_close[T.unlisted]</td>\n",
       "    </tr>\n",
       "    <tr>\n",
       "      <th>6</th>\n",
       "      <td>-0.137714</td>\n",
       "      <td>hours_friday_open[T.6am_12pm]</td>\n",
       "    </tr>\n",
       "    <tr>\n",
       "      <th>339</th>\n",
       "      <td>0.136245</td>\n",
       "      <td>tip_chicken_waffles</td>\n",
       "    </tr>\n",
       "    <tr>\n",
       "      <th>83</th>\n",
       "      <td>0.136190</td>\n",
       "      <td>attributes_good_for_brunch</td>\n",
       "    </tr>\n",
       "    <tr>\n",
       "      <th>103</th>\n",
       "      <td>-0.135303</td>\n",
       "      <td>attributes_parking_street</td>\n",
       "    </tr>\n",
       "    <tr>\n",
       "      <th>298</th>\n",
       "      <td>0.134047</td>\n",
       "      <td>rev_potato_fries</td>\n",
       "    </tr>\n",
       "    <tr>\n",
       "      <th>34</th>\n",
       "      <td>-0.131183</td>\n",
       "      <td>hours_thursday_close[T.6am_12pm]</td>\n",
       "    </tr>\n",
       "    <tr>\n",
       "      <th>80</th>\n",
       "      <td>0.130541</td>\n",
       "      <td>attributes_good_for_dancing</td>\n",
       "    </tr>\n",
       "    <tr>\n",
       "      <th>...</th>\n",
       "      <td>...</td>\n",
       "      <td>...</td>\n",
       "    </tr>\n",
       "    <tr>\n",
       "      <th>136</th>\n",
       "      <td>0.005807</td>\n",
       "      <td>candy_stores</td>\n",
       "    </tr>\n",
       "    <tr>\n",
       "      <th>152</th>\n",
       "      <td>-0.005704</td>\n",
       "      <td>dance_studios</td>\n",
       "    </tr>\n",
       "    <tr>\n",
       "      <th>379</th>\n",
       "      <td>0.005702</td>\n",
       "      <td>tip_great_prices</td>\n",
       "    </tr>\n",
       "    <tr>\n",
       "      <th>0</th>\n",
       "      <td>-0.005556</td>\n",
       "      <td>hours_friday_close[12am_6am]</td>\n",
       "    </tr>\n",
       "    <tr>\n",
       "      <th>269</th>\n",
       "      <td>0.005425</td>\n",
       "      <td>rev_great_food</td>\n",
       "    </tr>\n",
       "    <tr>\n",
       "      <th>4</th>\n",
       "      <td>0.005405</td>\n",
       "      <td>hours_friday_close[unlisted]</td>\n",
       "    </tr>\n",
       "    <tr>\n",
       "      <th>8</th>\n",
       "      <td>0.005405</td>\n",
       "      <td>hours_friday_open[T.unlisted]</td>\n",
       "    </tr>\n",
       "    <tr>\n",
       "      <th>377</th>\n",
       "      <td>-0.005160</td>\n",
       "      <td>tip_great_happy</td>\n",
       "    </tr>\n",
       "    <tr>\n",
       "      <th>275</th>\n",
       "      <td>0.005024</td>\n",
       "      <td>rev_highly_recommend</td>\n",
       "    </tr>\n",
       "    <tr>\n",
       "      <th>258</th>\n",
       "      <td>-0.004618</td>\n",
       "      <td>rev_french_toast</td>\n",
       "    </tr>\n",
       "    <tr>\n",
       "      <th>408</th>\n",
       "      <td>0.004520</td>\n",
       "      <td>tip_prime_rib</td>\n",
       "    </tr>\n",
       "    <tr>\n",
       "      <th>235</th>\n",
       "      <td>0.004403</td>\n",
       "      <td>rev_customer_service</td>\n",
       "    </tr>\n",
       "    <tr>\n",
       "      <th>87</th>\n",
       "      <td>-0.004066</td>\n",
       "      <td>attributes_good_for_lunch</td>\n",
       "    </tr>\n",
       "    <tr>\n",
       "      <th>357</th>\n",
       "      <td>0.003975</td>\n",
       "      <td>tip_food_drinks</td>\n",
       "    </tr>\n",
       "    <tr>\n",
       "      <th>110</th>\n",
       "      <td>0.003897</td>\n",
       "      <td>attributes_waiter_service</td>\n",
       "    </tr>\n",
       "    <tr>\n",
       "      <th>387</th>\n",
       "      <td>-0.003627</td>\n",
       "      <td>tip_highly_recommend</td>\n",
       "    </tr>\n",
       "    <tr>\n",
       "      <th>329</th>\n",
       "      <td>-0.002913</td>\n",
       "      <td>tip_beef_hash</td>\n",
       "    </tr>\n",
       "    <tr>\n",
       "      <th>345</th>\n",
       "      <td>-0.002696</td>\n",
       "      <td>tip_don_come</td>\n",
       "    </tr>\n",
       "    <tr>\n",
       "      <th>232</th>\n",
       "      <td>0.002624</td>\n",
       "      <td>rev_bloody_mary</td>\n",
       "    </tr>\n",
       "    <tr>\n",
       "      <th>222</th>\n",
       "      <td>0.002304</td>\n",
       "      <td>venues___event_spaces</td>\n",
       "    </tr>\n",
       "    <tr>\n",
       "      <th>220</th>\n",
       "      <td>0.002276</td>\n",
       "      <td>vegan</td>\n",
       "    </tr>\n",
       "    <tr>\n",
       "      <th>382</th>\n",
       "      <td>-0.002185</td>\n",
       "      <td>tip_great_staff</td>\n",
       "    </tr>\n",
       "    <tr>\n",
       "      <th>305</th>\n",
       "      <td>-0.002028</td>\n",
       "      <td>rev_recommend_place</td>\n",
       "    </tr>\n",
       "    <tr>\n",
       "      <th>134</th>\n",
       "      <td>-0.001921</td>\n",
       "      <td>cafes</td>\n",
       "    </tr>\n",
       "    <tr>\n",
       "      <th>324</th>\n",
       "      <td>0.001538</td>\n",
       "      <td>tip_amazing_food</td>\n",
       "    </tr>\n",
       "    <tr>\n",
       "      <th>69</th>\n",
       "      <td>-0.001503</td>\n",
       "      <td>attributes_ambience_upscale</td>\n",
       "    </tr>\n",
       "    <tr>\n",
       "      <th>211</th>\n",
       "      <td>0.001111</td>\n",
       "      <td>sushi_bars</td>\n",
       "    </tr>\n",
       "    <tr>\n",
       "      <th>255</th>\n",
       "      <td>0.000989</td>\n",
       "      <td>rev_food_just</td>\n",
       "    </tr>\n",
       "    <tr>\n",
       "      <th>256</th>\n",
       "      <td>-0.000244</td>\n",
       "      <td>rev_food_service</td>\n",
       "    </tr>\n",
       "    <tr>\n",
       "      <th>365</th>\n",
       "      <td>-0.000220</td>\n",
       "      <td>tip_friendly_staff</td>\n",
       "    </tr>\n",
       "  </tbody>\n",
       "</table>\n",
       "<p>414 rows × 2 columns</p>\n",
       "</div>"
      ],
      "text/plain": [
       "         coef                         predictor\n",
       "100 -0.405493        attributes_outdoor_seating\n",
       "101  0.394380         attributes_parking_garage\n",
       "238  0.254824               rev_definitely_come\n",
       "81   0.244790        attributes_good_for_groups\n",
       "129 -0.205762                breakfast___brunch\n",
       "250  0.195159                  rev_food_amazing\n",
       "196  0.193721                           pilates\n",
       "201 -0.185793                       restaurants\n",
       "135 -0.185017                    canadian__new_\n",
       "108 -0.171097               attributes_take_out\n",
       "2    0.169385      hours_friday_close[6am_12pm]\n",
       "138  0.162756                           casinos\n",
       "212  0.153246                    swimming_pools\n",
       "234  0.148967               rev_chicken_waffles\n",
       "38  -0.144804   hours_thursday_open[T.6am_12pm]\n",
       "30  -0.143252     hours_sunday_open[T.6am_12pm]\n",
       "182  0.139832            juice_bars___smoothies\n",
       "29  -0.139155     hours_sunday_open[T.12pm_6pm]\n",
       "271  0.138267                 rev_great_service\n",
       "32  -0.137778     hours_sunday_open[T.unlisted]\n",
       "28  -0.137778    hours_sunday_close[T.unlisted]\n",
       "16  -0.137716     hours_monday_open[T.unlisted]\n",
       "12  -0.137716    hours_monday_close[T.unlisted]\n",
       "6   -0.137714     hours_friday_open[T.6am_12pm]\n",
       "339  0.136245               tip_chicken_waffles\n",
       "83   0.136190        attributes_good_for_brunch\n",
       "103 -0.135303         attributes_parking_street\n",
       "298  0.134047                  rev_potato_fries\n",
       "34  -0.131183  hours_thursday_close[T.6am_12pm]\n",
       "80   0.130541       attributes_good_for_dancing\n",
       "..        ...                               ...\n",
       "136  0.005807                      candy_stores\n",
       "152 -0.005704                     dance_studios\n",
       "379  0.005702                  tip_great_prices\n",
       "0   -0.005556      hours_friday_close[12am_6am]\n",
       "269  0.005425                    rev_great_food\n",
       "4    0.005405      hours_friday_close[unlisted]\n",
       "8    0.005405     hours_friday_open[T.unlisted]\n",
       "377 -0.005160                   tip_great_happy\n",
       "275  0.005024              rev_highly_recommend\n",
       "258 -0.004618                  rev_french_toast\n",
       "408  0.004520                     tip_prime_rib\n",
       "235  0.004403              rev_customer_service\n",
       "87  -0.004066         attributes_good_for_lunch\n",
       "357  0.003975                   tip_food_drinks\n",
       "110  0.003897         attributes_waiter_service\n",
       "387 -0.003627              tip_highly_recommend\n",
       "329 -0.002913                     tip_beef_hash\n",
       "345 -0.002696                      tip_don_come\n",
       "232  0.002624                   rev_bloody_mary\n",
       "222  0.002304             venues___event_spaces\n",
       "220  0.002276                             vegan\n",
       "382 -0.002185                   tip_great_staff\n",
       "305 -0.002028               rev_recommend_place\n",
       "134 -0.001921                             cafes\n",
       "324  0.001538                  tip_amazing_food\n",
       "69  -0.001503       attributes_ambience_upscale\n",
       "211  0.001111                        sushi_bars\n",
       "255  0.000989                     rev_food_just\n",
       "256 -0.000244                  rev_food_service\n",
       "365 -0.000220                tip_friendly_staff\n",
       "\n",
       "[414 rows x 2 columns]"
      ]
     },
     "execution_count": 178,
     "metadata": {},
     "output_type": "execute_result"
    }
   ],
   "source": [
    "# print out the coefs sorted by largerst absolute value first\n",
    "coefs['abscoef'] = np.abs(coefs.coef)\n",
    "coefs.sort_values('abscoef', ascending=False, inplace=True)\n",
    "coefs.drop('abscoef', inplace=True, axis=1)\n",
    "coefs[coefs.coef != 0]\n",
    "\n",
    "# About las vegas (from the coefs):\n",
    "# (Ignoring the time open/closed ones, since they don't have any\n",
    "# info in them i can make a good conclusion from.)\n",
    "# + garage parking\n",
    "# - no outdoor seating\n",
    "# - no take out food\n",
    "# + \"definitely come\"\n",
    "# + good for groups\n",
    "# - brunch\n",
    "# + \"food amazing\"\n",
    "# + pilates\n",
    "# - restaurants\n",
    "# - canadian food\n",
    "# + casinos\n",
    "# + swimming pools\n",
    "# + chicken & waffles\n",
    "# + juice bars\n",
    "# + \"great service\"\n"
   ]
  },
  {
   "cell_type": "markdown",
   "metadata": {},
   "source": [
    "<img src=\"http://imgur.com/l5NasQj.png\" style=\"float: left; margin: 25px 15px 0px 0px; height: 25px\">\n",
    "\n",
    "## 2. Different categories of ratings\n",
    "\n",
    "---\n",
    "\n",
    "Yelp is finally ready to admit that their rating system sucks. No one cares about the ratings, they just use the site to find out what's nearby. The ratings are simply too unreliable for people. \n",
    "\n",
    "Yelp hypothesizes that this is, in fact, because different people tend to give their ratings based on different things. They believe that perhaps some people always base their ratings on quality of food, others on service, and perhaps other categories as well. \n",
    "\n",
    "1. Do some users tend to talk about service more than others in reviews/tips? Divide up the tips/reviews into more \"service-focused\" ones and those less concerned with service.\n",
    "2. Create two new ratings for businesses: ratings from just the service-focused reviews and ratings from the non-service reviews.\n",
    "3. Construct a regression model for each of the two ratings. They should use the same predictor variables (of your choice). \n",
    "4. Validate the performance of the models.\n",
    "5. Do the models coefficients differ at all? What does this tell you about the hypothesis that there are in fact two different kinds of ratings?"
   ]
  },
  {
   "cell_type": "code",
   "execution_count": 52,
   "metadata": {
    "collapsed": false
   },
   "outputs": [
    {
     "data": {
      "text/html": [
       "<div>\n",
       "<table border=\"1\" class=\"dataframe\">\n",
       "  <thead>\n",
       "    <tr style=\"text-align: right;\">\n",
       "      <th></th>\n",
       "      <th>user_id</th>\n",
       "      <th>review_id</th>\n",
       "      <th>votes.cool</th>\n",
       "      <th>business_id</th>\n",
       "      <th>votes.funny</th>\n",
       "      <th>stars</th>\n",
       "      <th>date</th>\n",
       "      <th>votes.useful</th>\n",
       "      <th>10 minutes</th>\n",
       "      <th>15 minutes</th>\n",
       "      <th>...</th>\n",
       "      <th>service great</th>\n",
       "      <th>staff friendly</th>\n",
       "      <th>super friendly</th>\n",
       "      <th>sweet potato</th>\n",
       "      <th>tasted like</th>\n",
       "      <th>time vegas</th>\n",
       "      <th>try place</th>\n",
       "      <th>ve seen</th>\n",
       "      <th>ve tried</th>\n",
       "      <th>wait staff</th>\n",
       "    </tr>\n",
       "  </thead>\n",
       "  <tbody>\n",
       "    <tr>\n",
       "      <th>0</th>\n",
       "      <td>o_LCYay4uo5N4eq3U5pbrQ</td>\n",
       "      <td>biEOCicjWlibF26pNLvhcw</td>\n",
       "      <td>0</td>\n",
       "      <td>EmzaQR5hQlF0WIl24NxAZA</td>\n",
       "      <td>0</td>\n",
       "      <td>3</td>\n",
       "      <td>2007-09-14</td>\n",
       "      <td>1</td>\n",
       "      <td>0</td>\n",
       "      <td>0</td>\n",
       "      <td>...</td>\n",
       "      <td>0</td>\n",
       "      <td>0</td>\n",
       "      <td>0</td>\n",
       "      <td>0</td>\n",
       "      <td>0</td>\n",
       "      <td>0</td>\n",
       "      <td>0</td>\n",
       "      <td>0</td>\n",
       "      <td>0</td>\n",
       "      <td>0</td>\n",
       "    </tr>\n",
       "  </tbody>\n",
       "</table>\n",
       "<p>1 rows × 108 columns</p>\n",
       "</div>"
      ],
      "text/plain": [
       "                  user_id               review_id  votes.cool  \\\n",
       "0  o_LCYay4uo5N4eq3U5pbrQ  biEOCicjWlibF26pNLvhcw           0   \n",
       "\n",
       "              business_id  votes.funny  stars        date  votes.useful  \\\n",
       "0  EmzaQR5hQlF0WIl24NxAZA            0      3  2007-09-14             1   \n",
       "\n",
       "   10 minutes  15 minutes     ...      service great  staff friendly  \\\n",
       "0           0           0     ...                  0               0   \n",
       "\n",
       "   super friendly  sweet potato  tasted like  time vegas  try place  ve seen  \\\n",
       "0               0             0            0           0          0        0   \n",
       "\n",
       "   ve tried  wait staff  \n",
       "0         0           0  \n",
       "\n",
       "[1 rows x 108 columns]"
      ]
     },
     "execution_count": 52,
     "metadata": {},
     "output_type": "execute_result"
    }
   ],
   "source": [
    "rev.head(1)"
   ]
  },
  {
   "cell_type": "code",
   "execution_count": 53,
   "metadata": {
    "collapsed": true
   },
   "outputs": [],
   "source": [
    "# make a list of the service columns\n",
    "service_cols = ['customer service', 'food service', 'friendly staff', 'good service',\n",
    "                'great service', 'service excellent', 'service food', 'service friendly',\n",
    "                'service good', 'service great', 'staff friendly', 'super friendly', 'wait staff']"
   ]
  },
  {
   "cell_type": "code",
   "execution_count": 54,
   "metadata": {
    "collapsed": false
   },
   "outputs": [
    {
     "data": {
      "text/html": [
       "<div>\n",
       "<table border=\"1\" class=\"dataframe\">\n",
       "  <thead>\n",
       "    <tr style=\"text-align: right;\">\n",
       "      <th></th>\n",
       "      <th>user_id</th>\n",
       "      <th>business_id</th>\n",
       "      <th>stars</th>\n",
       "      <th>10 minutes</th>\n",
       "      <th>15 minutes</th>\n",
       "      <th>20 minutes</th>\n",
       "      <th>30 minutes</th>\n",
       "      <th>bar food</th>\n",
       "      <th>beer selection</th>\n",
       "      <th>best ve</th>\n",
       "      <th>...</th>\n",
       "      <th>service great</th>\n",
       "      <th>staff friendly</th>\n",
       "      <th>super friendly</th>\n",
       "      <th>sweet potato</th>\n",
       "      <th>tasted like</th>\n",
       "      <th>time vegas</th>\n",
       "      <th>try place</th>\n",
       "      <th>ve seen</th>\n",
       "      <th>ve tried</th>\n",
       "      <th>wait staff</th>\n",
       "    </tr>\n",
       "  </thead>\n",
       "  <tbody>\n",
       "    <tr>\n",
       "      <th>0</th>\n",
       "      <td>o_LCYay4uo5N4eq3U5pbrQ</td>\n",
       "      <td>EmzaQR5hQlF0WIl24NxAZA</td>\n",
       "      <td>3</td>\n",
       "      <td>0</td>\n",
       "      <td>0</td>\n",
       "      <td>0</td>\n",
       "      <td>0</td>\n",
       "      <td>0</td>\n",
       "      <td>0</td>\n",
       "      <td>0</td>\n",
       "      <td>...</td>\n",
       "      <td>0</td>\n",
       "      <td>0</td>\n",
       "      <td>0</td>\n",
       "      <td>0</td>\n",
       "      <td>0</td>\n",
       "      <td>0</td>\n",
       "      <td>0</td>\n",
       "      <td>0</td>\n",
       "      <td>0</td>\n",
       "      <td>0</td>\n",
       "    </tr>\n",
       "    <tr>\n",
       "      <th>1</th>\n",
       "      <td>sEWeeq41k4ohBz4jS_iGRw</td>\n",
       "      <td>EmzaQR5hQlF0WIl24NxAZA</td>\n",
       "      <td>2</td>\n",
       "      <td>0</td>\n",
       "      <td>0</td>\n",
       "      <td>0</td>\n",
       "      <td>0</td>\n",
       "      <td>0</td>\n",
       "      <td>0</td>\n",
       "      <td>0</td>\n",
       "      <td>...</td>\n",
       "      <td>0</td>\n",
       "      <td>0</td>\n",
       "      <td>0</td>\n",
       "      <td>0</td>\n",
       "      <td>0</td>\n",
       "      <td>0</td>\n",
       "      <td>0</td>\n",
       "      <td>0</td>\n",
       "      <td>0</td>\n",
       "      <td>0</td>\n",
       "    </tr>\n",
       "    <tr>\n",
       "      <th>2</th>\n",
       "      <td>1AqEqmmVHgYCuzcMrF4h2g</td>\n",
       "      <td>EmzaQR5hQlF0WIl24NxAZA</td>\n",
       "      <td>2</td>\n",
       "      <td>0</td>\n",
       "      <td>0</td>\n",
       "      <td>0</td>\n",
       "      <td>0</td>\n",
       "      <td>0</td>\n",
       "      <td>0</td>\n",
       "      <td>0</td>\n",
       "      <td>...</td>\n",
       "      <td>0</td>\n",
       "      <td>0</td>\n",
       "      <td>0</td>\n",
       "      <td>0</td>\n",
       "      <td>0</td>\n",
       "      <td>0</td>\n",
       "      <td>0</td>\n",
       "      <td>0</td>\n",
       "      <td>0</td>\n",
       "      <td>0</td>\n",
       "    </tr>\n",
       "    <tr>\n",
       "      <th>3</th>\n",
       "      <td>pv82zTlB5Txsu2Pusu__FA</td>\n",
       "      <td>EmzaQR5hQlF0WIl24NxAZA</td>\n",
       "      <td>2</td>\n",
       "      <td>0</td>\n",
       "      <td>0</td>\n",
       "      <td>0</td>\n",
       "      <td>0</td>\n",
       "      <td>0</td>\n",
       "      <td>0</td>\n",
       "      <td>0</td>\n",
       "      <td>...</td>\n",
       "      <td>0</td>\n",
       "      <td>0</td>\n",
       "      <td>0</td>\n",
       "      <td>0</td>\n",
       "      <td>0</td>\n",
       "      <td>0</td>\n",
       "      <td>0</td>\n",
       "      <td>0</td>\n",
       "      <td>0</td>\n",
       "      <td>0</td>\n",
       "    </tr>\n",
       "    <tr>\n",
       "      <th>4</th>\n",
       "      <td>jlr3OBS1_Y3Lqa-H3-FR1g</td>\n",
       "      <td>EmzaQR5hQlF0WIl24NxAZA</td>\n",
       "      <td>4</td>\n",
       "      <td>0</td>\n",
       "      <td>0</td>\n",
       "      <td>0</td>\n",
       "      <td>0</td>\n",
       "      <td>0</td>\n",
       "      <td>0</td>\n",
       "      <td>0</td>\n",
       "      <td>...</td>\n",
       "      <td>0</td>\n",
       "      <td>0</td>\n",
       "      <td>0</td>\n",
       "      <td>0</td>\n",
       "      <td>0</td>\n",
       "      <td>0</td>\n",
       "      <td>0</td>\n",
       "      <td>0</td>\n",
       "      <td>0</td>\n",
       "      <td>0</td>\n",
       "    </tr>\n",
       "  </tbody>\n",
       "</table>\n",
       "<p>5 rows × 103 columns</p>\n",
       "</div>"
      ],
      "text/plain": [
       "                  user_id             business_id  stars  10 minutes  \\\n",
       "0  o_LCYay4uo5N4eq3U5pbrQ  EmzaQR5hQlF0WIl24NxAZA      3           0   \n",
       "1  sEWeeq41k4ohBz4jS_iGRw  EmzaQR5hQlF0WIl24NxAZA      2           0   \n",
       "2  1AqEqmmVHgYCuzcMrF4h2g  EmzaQR5hQlF0WIl24NxAZA      2           0   \n",
       "3  pv82zTlB5Txsu2Pusu__FA  EmzaQR5hQlF0WIl24NxAZA      2           0   \n",
       "4  jlr3OBS1_Y3Lqa-H3-FR1g  EmzaQR5hQlF0WIl24NxAZA      4           0   \n",
       "\n",
       "   15 minutes  20 minutes  30 minutes  bar food  beer selection  best ve  \\\n",
       "0           0           0           0         0               0        0   \n",
       "1           0           0           0         0               0        0   \n",
       "2           0           0           0         0               0        0   \n",
       "3           0           0           0         0               0        0   \n",
       "4           0           0           0         0               0        0   \n",
       "\n",
       "      ...      service great  staff friendly  super friendly  sweet potato  \\\n",
       "0     ...                  0               0               0             0   \n",
       "1     ...                  0               0               0             0   \n",
       "2     ...                  0               0               0             0   \n",
       "3     ...                  0               0               0             0   \n",
       "4     ...                  0               0               0             0   \n",
       "\n",
       "   tasted like  time vegas  try place  ve seen  ve tried  wait staff  \n",
       "0            0           0          0        0         0           0  \n",
       "1            0           0          0        0         0           0  \n",
       "2            0           0          0        0         0           0  \n",
       "3            0           0          0        0         0           0  \n",
       "4            0           0          0        0         0           0  \n",
       "\n",
       "[5 rows x 103 columns]"
      ]
     },
     "execution_count": 54,
     "metadata": {},
     "output_type": "execute_result"
    }
   ],
   "source": [
    "# create a reviews dataset with just words, user_id, business_id and stars\n",
    "revbiz = rev[['user_id','business_id','stars']+rev.columns[8:].tolist()]\n",
    "revbiz.head()"
   ]
  },
  {
   "cell_type": "code",
   "execution_count": 55,
   "metadata": {
    "collapsed": false
   },
   "outputs": [
    {
     "name": "stderr",
     "output_type": "stream",
     "text": [
      "/anaconda/lib/python2.7/site-packages/ipykernel/__main__.py:2: SettingWithCopyWarning: \n",
      "A value is trying to be set on a copy of a slice from a DataFrame.\n",
      "Try using .loc[row_indexer,col_indexer] = value instead\n",
      "\n",
      "See the caveats in the documentation: http://pandas.pydata.org/pandas-docs/stable/indexing.html#indexing-view-versus-copy\n",
      "  from ipykernel import kernelapp as app\n"
     ]
    },
    {
     "data": {
      "text/plain": [
       "count    322398.000000\n",
       "mean          0.217228\n",
       "std           0.498762\n",
       "min           0.000000\n",
       "25%           0.000000\n",
       "50%           0.000000\n",
       "75%           0.000000\n",
       "max           7.000000\n",
       "Name: service_mentions, dtype: float64"
      ]
     },
     "execution_count": 55,
     "metadata": {},
     "output_type": "execute_result"
    }
   ],
   "source": [
    "# count up how many times service comments were said per review and make it a column.\n",
    "revbiz['service_mentions'] = revbiz[service_cols].sum(axis=1)\n",
    "revbiz.service_mentions.describe()"
   ]
  },
  {
   "cell_type": "code",
   "execution_count": 56,
   "metadata": {
    "collapsed": false
   },
   "outputs": [
    {
     "data": {
      "text/plain": [
       "1.0"
      ]
     },
     "execution_count": 56,
     "metadata": {},
     "output_type": "execute_result"
    }
   ],
   "source": [
    "# 95th perecentie of service mentions in reviews:\n",
    "np.percentile(revbiz.service_mentions.values, 95)"
   ]
  },
  {
   "cell_type": "code",
   "execution_count": 57,
   "metadata": {
    "collapsed": false
   },
   "outputs": [
    {
     "name": "stdout",
     "output_type": "stream",
     "text": [
      "(9826, 104) (312572, 104)\n"
     ]
    }
   ],
   "source": [
    "# make a service and non-service review dataset\n",
    "# \"service\" reviews need to have at least 2 service related comments in them.\n",
    "service_reviews = revbiz[revbiz.service_mentions >= 2]\n",
    "non_service_reviews = revbiz[revbiz.service_mentions < 2]\n",
    "print service_reviews.shape, non_service_reviews.shape"
   ]
  },
  {
   "cell_type": "code",
   "execution_count": 58,
   "metadata": {
    "collapsed": false
   },
   "outputs": [
    {
     "data": {
      "text/plain": [
       "(272559, 104)"
      ]
     },
     "execution_count": 58,
     "metadata": {},
     "output_type": "execute_result"
    }
   ],
   "source": [
    "# make sure they both have the same business_ids in them\n",
    "serve_bizids = service_reviews.business_id.unique()\n",
    "non_service_reviews = non_service_reviews[non_service_reviews.business_id.isin(serve_bizids)]\n",
    "non_service_reviews.shape"
   ]
  },
  {
   "cell_type": "code",
   "execution_count": 59,
   "metadata": {
    "collapsed": false
   },
   "outputs": [
    {
     "data": {
      "text/html": [
       "<div>\n",
       "<table border=\"1\" class=\"dataframe\">\n",
       "  <thead>\n",
       "    <tr style=\"text-align: right;\">\n",
       "      <th></th>\n",
       "      <th>business_id</th>\n",
       "      <th>avg_serve_stars</th>\n",
       "    </tr>\n",
       "  </thead>\n",
       "  <tbody>\n",
       "    <tr>\n",
       "      <th>0</th>\n",
       "      <td>-1bOb2izeJBZjHC7NWxiPA</td>\n",
       "      <td>4.285714</td>\n",
       "    </tr>\n",
       "    <tr>\n",
       "      <th>1</th>\n",
       "      <td>-3xbryp44xhpN4BohxXDdQ</td>\n",
       "      <td>3.916667</td>\n",
       "    </tr>\n",
       "    <tr>\n",
       "      <th>2</th>\n",
       "      <td>-4mNZfAXMd2mxEsD2YRcaQ</td>\n",
       "      <td>4.000000</td>\n",
       "    </tr>\n",
       "    <tr>\n",
       "      <th>3</th>\n",
       "      <td>-584fn2GxYe9sLsgN2WeQA</td>\n",
       "      <td>4.642857</td>\n",
       "    </tr>\n",
       "    <tr>\n",
       "      <th>4</th>\n",
       "      <td>-5RN56jH78MV2oquLV_G8g</td>\n",
       "      <td>4.240000</td>\n",
       "    </tr>\n",
       "  </tbody>\n",
       "</table>\n",
       "</div>"
      ],
      "text/plain": [
       "              business_id  avg_serve_stars\n",
       "0  -1bOb2izeJBZjHC7NWxiPA         4.285714\n",
       "1  -3xbryp44xhpN4BohxXDdQ         3.916667\n",
       "2  -4mNZfAXMd2mxEsD2YRcaQ         4.000000\n",
       "3  -584fn2GxYe9sLsgN2WeQA         4.642857\n",
       "4  -5RN56jH78MV2oquLV_G8g         4.240000"
      ]
     },
     "execution_count": 59,
     "metadata": {},
     "output_type": "execute_result"
    }
   ],
   "source": [
    "# calculate the average service ratings per business id:\n",
    "avg_serve_ratings = service_reviews.groupby('business_id')['stars'].mean().reset_index()\n",
    "avg_serve_ratings.columns = ['business_id','avg_serve_stars']\n",
    "avg_serve_ratings.head()"
   ]
  },
  {
   "cell_type": "code",
   "execution_count": 60,
   "metadata": {
    "collapsed": false
   },
   "outputs": [
    {
     "data": {
      "text/html": [
       "<div>\n",
       "<table border=\"1\" class=\"dataframe\">\n",
       "  <thead>\n",
       "    <tr style=\"text-align: right;\">\n",
       "      <th></th>\n",
       "      <th>business_id</th>\n",
       "      <th>avg_nonserve_stars</th>\n",
       "    </tr>\n",
       "  </thead>\n",
       "  <tbody>\n",
       "    <tr>\n",
       "      <th>0</th>\n",
       "      <td>-1bOb2izeJBZjHC7NWxiPA</td>\n",
       "      <td>3.980000</td>\n",
       "    </tr>\n",
       "    <tr>\n",
       "      <th>1</th>\n",
       "      <td>-3xbryp44xhpN4BohxXDdQ</td>\n",
       "      <td>3.857895</td>\n",
       "    </tr>\n",
       "    <tr>\n",
       "      <th>2</th>\n",
       "      <td>-4mNZfAXMd2mxEsD2YRcaQ</td>\n",
       "      <td>2.888889</td>\n",
       "    </tr>\n",
       "    <tr>\n",
       "      <th>3</th>\n",
       "      <td>-584fn2GxYe9sLsgN2WeQA</td>\n",
       "      <td>4.101322</td>\n",
       "    </tr>\n",
       "    <tr>\n",
       "      <th>4</th>\n",
       "      <td>-5RN56jH78MV2oquLV_G8g</td>\n",
       "      <td>4.385069</td>\n",
       "    </tr>\n",
       "  </tbody>\n",
       "</table>\n",
       "</div>"
      ],
      "text/plain": [
       "              business_id  avg_nonserve_stars\n",
       "0  -1bOb2izeJBZjHC7NWxiPA            3.980000\n",
       "1  -3xbryp44xhpN4BohxXDdQ            3.857895\n",
       "2  -4mNZfAXMd2mxEsD2YRcaQ            2.888889\n",
       "3  -584fn2GxYe9sLsgN2WeQA            4.101322\n",
       "4  -5RN56jH78MV2oquLV_G8g            4.385069"
      ]
     },
     "execution_count": 60,
     "metadata": {},
     "output_type": "execute_result"
    }
   ],
   "source": [
    "# calculate the average non-service ratings per business_id\n",
    "avg_non_ratings = non_service_reviews.groupby('business_id')['stars'].mean().reset_index()\n",
    "avg_non_ratings.columns = ['business_id','avg_nonserve_stars']\n",
    "avg_non_ratings.head()"
   ]
  },
  {
   "cell_type": "code",
   "execution_count": 61,
   "metadata": {
    "collapsed": false
   },
   "outputs": [
    {
     "data": {
      "text/html": [
       "<div>\n",
       "<table border=\"1\" class=\"dataframe\">\n",
       "  <thead>\n",
       "    <tr style=\"text-align: right;\">\n",
       "      <th></th>\n",
       "      <th>business_id</th>\n",
       "      <th>10 minutes</th>\n",
       "      <th>15 minutes</th>\n",
       "      <th>20 minutes</th>\n",
       "      <th>30 minutes</th>\n",
       "      <th>bar food</th>\n",
       "      <th>beer selection</th>\n",
       "      <th>best ve</th>\n",
       "      <th>bloody mary</th>\n",
       "      <th>bottle service</th>\n",
       "      <th>...</th>\n",
       "      <th>service great</th>\n",
       "      <th>staff friendly</th>\n",
       "      <th>super friendly</th>\n",
       "      <th>sweet potato</th>\n",
       "      <th>tasted like</th>\n",
       "      <th>time vegas</th>\n",
       "      <th>try place</th>\n",
       "      <th>ve seen</th>\n",
       "      <th>ve tried</th>\n",
       "      <th>wait staff</th>\n",
       "    </tr>\n",
       "  </thead>\n",
       "  <tbody>\n",
       "    <tr>\n",
       "      <th>0</th>\n",
       "      <td>-1bOb2izeJBZjHC7NWxiPA</td>\n",
       "      <td>0</td>\n",
       "      <td>1</td>\n",
       "      <td>0</td>\n",
       "      <td>2</td>\n",
       "      <td>0</td>\n",
       "      <td>0</td>\n",
       "      <td>0</td>\n",
       "      <td>0</td>\n",
       "      <td>0</td>\n",
       "      <td>...</td>\n",
       "      <td>3</td>\n",
       "      <td>4</td>\n",
       "      <td>3</td>\n",
       "      <td>0</td>\n",
       "      <td>2</td>\n",
       "      <td>0</td>\n",
       "      <td>0</td>\n",
       "      <td>2</td>\n",
       "      <td>0</td>\n",
       "      <td>1</td>\n",
       "    </tr>\n",
       "    <tr>\n",
       "      <th>1</th>\n",
       "      <td>-3xbryp44xhpN4BohxXDdQ</td>\n",
       "      <td>1</td>\n",
       "      <td>1</td>\n",
       "      <td>3</td>\n",
       "      <td>1</td>\n",
       "      <td>1</td>\n",
       "      <td>1</td>\n",
       "      <td>0</td>\n",
       "      <td>2</td>\n",
       "      <td>0</td>\n",
       "      <td>...</td>\n",
       "      <td>4</td>\n",
       "      <td>1</td>\n",
       "      <td>3</td>\n",
       "      <td>0</td>\n",
       "      <td>2</td>\n",
       "      <td>0</td>\n",
       "      <td>1</td>\n",
       "      <td>0</td>\n",
       "      <td>1</td>\n",
       "      <td>5</td>\n",
       "    </tr>\n",
       "    <tr>\n",
       "      <th>2</th>\n",
       "      <td>-4mNZfAXMd2mxEsD2YRcaQ</td>\n",
       "      <td>0</td>\n",
       "      <td>0</td>\n",
       "      <td>0</td>\n",
       "      <td>0</td>\n",
       "      <td>0</td>\n",
       "      <td>0</td>\n",
       "      <td>0</td>\n",
       "      <td>0</td>\n",
       "      <td>0</td>\n",
       "      <td>...</td>\n",
       "      <td>0</td>\n",
       "      <td>1</td>\n",
       "      <td>0</td>\n",
       "      <td>0</td>\n",
       "      <td>0</td>\n",
       "      <td>1</td>\n",
       "      <td>0</td>\n",
       "      <td>0</td>\n",
       "      <td>0</td>\n",
       "      <td>0</td>\n",
       "    </tr>\n",
       "    <tr>\n",
       "      <th>3</th>\n",
       "      <td>-584fn2GxYe9sLsgN2WeQA</td>\n",
       "      <td>7</td>\n",
       "      <td>2</td>\n",
       "      <td>0</td>\n",
       "      <td>0</td>\n",
       "      <td>0</td>\n",
       "      <td>2</td>\n",
       "      <td>1</td>\n",
       "      <td>0</td>\n",
       "      <td>0</td>\n",
       "      <td>...</td>\n",
       "      <td>13</td>\n",
       "      <td>10</td>\n",
       "      <td>9</td>\n",
       "      <td>1</td>\n",
       "      <td>4</td>\n",
       "      <td>1</td>\n",
       "      <td>4</td>\n",
       "      <td>3</td>\n",
       "      <td>4</td>\n",
       "      <td>2</td>\n",
       "    </tr>\n",
       "    <tr>\n",
       "      <th>4</th>\n",
       "      <td>-5RN56jH78MV2oquLV_G8g</td>\n",
       "      <td>4</td>\n",
       "      <td>18</td>\n",
       "      <td>2</td>\n",
       "      <td>7</td>\n",
       "      <td>0</td>\n",
       "      <td>0</td>\n",
       "      <td>6</td>\n",
       "      <td>0</td>\n",
       "      <td>0</td>\n",
       "      <td>...</td>\n",
       "      <td>14</td>\n",
       "      <td>4</td>\n",
       "      <td>0</td>\n",
       "      <td>1</td>\n",
       "      <td>19</td>\n",
       "      <td>10</td>\n",
       "      <td>3</td>\n",
       "      <td>4</td>\n",
       "      <td>5</td>\n",
       "      <td>15</td>\n",
       "    </tr>\n",
       "  </tbody>\n",
       "</table>\n",
       "<p>5 rows × 101 columns</p>\n",
       "</div>"
      ],
      "text/plain": [
       "              business_id  10 minutes  15 minutes  20 minutes  30 minutes  \\\n",
       "0  -1bOb2izeJBZjHC7NWxiPA           0           1           0           2   \n",
       "1  -3xbryp44xhpN4BohxXDdQ           1           1           3           1   \n",
       "2  -4mNZfAXMd2mxEsD2YRcaQ           0           0           0           0   \n",
       "3  -584fn2GxYe9sLsgN2WeQA           7           2           0           0   \n",
       "4  -5RN56jH78MV2oquLV_G8g           4          18           2           7   \n",
       "\n",
       "   bar food  beer selection  best ve  bloody mary  bottle service     ...      \\\n",
       "0         0               0        0            0               0     ...       \n",
       "1         1               1        0            2               0     ...       \n",
       "2         0               0        0            0               0     ...       \n",
       "3         0               2        1            0               0     ...       \n",
       "4         0               0        6            0               0     ...       \n",
       "\n",
       "   service great  staff friendly  super friendly  sweet potato  tasted like  \\\n",
       "0              3               4               3             0            2   \n",
       "1              4               1               3             0            2   \n",
       "2              0               1               0             0            0   \n",
       "3             13              10               9             1            4   \n",
       "4             14               4               0             1           19   \n",
       "\n",
       "   time vegas  try place  ve seen  ve tried  wait staff  \n",
       "0           0          0        2         0           1  \n",
       "1           0          1        0         1           5  \n",
       "2           1          0        0         0           0  \n",
       "3           1          4        3         4           2  \n",
       "4          10          3        4         5          15  \n",
       "\n",
       "[5 rows x 101 columns]"
      ]
     },
     "execution_count": 61,
     "metadata": {},
     "output_type": "execute_result"
    }
   ],
   "source": [
    "# make a new business review dataframe with only the busninesses we selected for above\n",
    "# sum up the columns per business\n",
    "br = rev[['business_id']+rev.columns[8:].tolist()]\n",
    "br = br[br.business_id.isin(serve_bizids)]\n",
    "br = br.groupby('business_id').agg(np.sum).reset_index()\n",
    "br.head()\n"
   ]
  },
  {
   "cell_type": "code",
   "execution_count": 62,
   "metadata": {
    "collapsed": false
   },
   "outputs": [
    {
     "data": {
      "text/html": [
       "<div>\n",
       "<table border=\"1\" class=\"dataframe\">\n",
       "  <thead>\n",
       "    <tr style=\"text-align: right;\">\n",
       "      <th></th>\n",
       "      <th>business_id</th>\n",
       "      <th>10 minutes</th>\n",
       "      <th>15 minutes</th>\n",
       "      <th>20 minutes</th>\n",
       "      <th>30 minutes</th>\n",
       "      <th>bar food</th>\n",
       "      <th>beer selection</th>\n",
       "      <th>best ve</th>\n",
       "      <th>bloody mary</th>\n",
       "      <th>bottle service</th>\n",
       "      <th>...</th>\n",
       "      <th>service great</th>\n",
       "      <th>staff friendly</th>\n",
       "      <th>super friendly</th>\n",
       "      <th>sweet potato</th>\n",
       "      <th>tasted like</th>\n",
       "      <th>time vegas</th>\n",
       "      <th>try place</th>\n",
       "      <th>ve seen</th>\n",
       "      <th>ve tried</th>\n",
       "      <th>wait staff</th>\n",
       "    </tr>\n",
       "  </thead>\n",
       "  <tbody>\n",
       "    <tr>\n",
       "      <th>0</th>\n",
       "      <td>-1bOb2izeJBZjHC7NWxiPA</td>\n",
       "      <td>0.000000</td>\n",
       "      <td>0.006061</td>\n",
       "      <td>0.000000</td>\n",
       "      <td>0.012121</td>\n",
       "      <td>0.000000</td>\n",
       "      <td>0.000000</td>\n",
       "      <td>0.0</td>\n",
       "      <td>0.000000</td>\n",
       "      <td>0.0</td>\n",
       "      <td>...</td>\n",
       "      <td>0.018182</td>\n",
       "      <td>0.024242</td>\n",
       "      <td>0.018182</td>\n",
       "      <td>0.0</td>\n",
       "      <td>0.012121</td>\n",
       "      <td>0.000000</td>\n",
       "      <td>0.000000</td>\n",
       "      <td>0.012121</td>\n",
       "      <td>0.000000</td>\n",
       "      <td>0.006061</td>\n",
       "    </tr>\n",
       "    <tr>\n",
       "      <th>1</th>\n",
       "      <td>-3xbryp44xhpN4BohxXDdQ</td>\n",
       "      <td>0.003115</td>\n",
       "      <td>0.003115</td>\n",
       "      <td>0.009346</td>\n",
       "      <td>0.003115</td>\n",
       "      <td>0.003115</td>\n",
       "      <td>0.003115</td>\n",
       "      <td>0.0</td>\n",
       "      <td>0.006231</td>\n",
       "      <td>0.0</td>\n",
       "      <td>...</td>\n",
       "      <td>0.012461</td>\n",
       "      <td>0.003115</td>\n",
       "      <td>0.009346</td>\n",
       "      <td>0.0</td>\n",
       "      <td>0.006231</td>\n",
       "      <td>0.000000</td>\n",
       "      <td>0.003115</td>\n",
       "      <td>0.000000</td>\n",
       "      <td>0.003115</td>\n",
       "      <td>0.015576</td>\n",
       "    </tr>\n",
       "    <tr>\n",
       "      <th>2</th>\n",
       "      <td>-4mNZfAXMd2mxEsD2YRcaQ</td>\n",
       "      <td>0.000000</td>\n",
       "      <td>0.000000</td>\n",
       "      <td>0.000000</td>\n",
       "      <td>0.000000</td>\n",
       "      <td>0.000000</td>\n",
       "      <td>0.000000</td>\n",
       "      <td>0.0</td>\n",
       "      <td>0.000000</td>\n",
       "      <td>0.0</td>\n",
       "      <td>...</td>\n",
       "      <td>0.000000</td>\n",
       "      <td>0.058824</td>\n",
       "      <td>0.000000</td>\n",
       "      <td>0.0</td>\n",
       "      <td>0.000000</td>\n",
       "      <td>0.058824</td>\n",
       "      <td>0.000000</td>\n",
       "      <td>0.000000</td>\n",
       "      <td>0.000000</td>\n",
       "      <td>0.000000</td>\n",
       "    </tr>\n",
       "  </tbody>\n",
       "</table>\n",
       "<p>3 rows × 101 columns</p>\n",
       "</div>"
      ],
      "text/plain": [
       "              business_id  10 minutes  15 minutes  20 minutes  30 minutes  \\\n",
       "0  -1bOb2izeJBZjHC7NWxiPA    0.000000    0.006061    0.000000    0.012121   \n",
       "1  -3xbryp44xhpN4BohxXDdQ    0.003115    0.003115    0.009346    0.003115   \n",
       "2  -4mNZfAXMd2mxEsD2YRcaQ    0.000000    0.000000    0.000000    0.000000   \n",
       "\n",
       "   bar food  beer selection  best ve  bloody mary  bottle service     ...      \\\n",
       "0  0.000000        0.000000      0.0     0.000000             0.0     ...       \n",
       "1  0.003115        0.003115      0.0     0.006231             0.0     ...       \n",
       "2  0.000000        0.000000      0.0     0.000000             0.0     ...       \n",
       "\n",
       "   service great  staff friendly  super friendly  sweet potato  tasted like  \\\n",
       "0       0.018182        0.024242        0.018182           0.0     0.012121   \n",
       "1       0.012461        0.003115        0.009346           0.0     0.006231   \n",
       "2       0.000000        0.058824        0.000000           0.0     0.000000   \n",
       "\n",
       "   time vegas  try place   ve seen  ve tried  wait staff  \n",
       "0    0.000000   0.000000  0.012121  0.000000    0.006061  \n",
       "1    0.000000   0.003115  0.000000  0.003115    0.015576  \n",
       "2    0.058824   0.000000  0.000000  0.000000    0.000000  \n",
       "\n",
       "[3 rows x 101 columns]"
      ]
     },
     "execution_count": 62,
     "metadata": {},
     "output_type": "execute_result"
    }
   ],
   "source": [
    "# convert the word columns to percent\n",
    "br['rev_count'] = br.iloc[:, 1:].sum(axis=1)\n",
    "br.iloc[:, 1:] = br.iloc[:, 1:].div(br.rev_count.astype(np.float), axis=0)\n",
    "br.drop('rev_count', axis=1, inplace=True)\n",
    "br.head(3)"
   ]
  },
  {
   "cell_type": "code",
   "execution_count": 63,
   "metadata": {
    "collapsed": false
   },
   "outputs": [
    {
     "data": {
      "text/html": [
       "<div>\n",
       "<table border=\"1\" class=\"dataframe\">\n",
       "  <thead>\n",
       "    <tr style=\"text-align: right;\">\n",
       "      <th></th>\n",
       "      <th>business_id</th>\n",
       "      <th>10 minutes</th>\n",
       "      <th>15 minutes</th>\n",
       "      <th>20 minutes</th>\n",
       "      <th>30 minutes</th>\n",
       "      <th>bar food</th>\n",
       "      <th>beer selection</th>\n",
       "      <th>best ve</th>\n",
       "      <th>bloody mary</th>\n",
       "      <th>bottle service</th>\n",
       "      <th>...</th>\n",
       "      <th>super friendly</th>\n",
       "      <th>sweet potato</th>\n",
       "      <th>tasted like</th>\n",
       "      <th>time vegas</th>\n",
       "      <th>try place</th>\n",
       "      <th>ve seen</th>\n",
       "      <th>ve tried</th>\n",
       "      <th>wait staff</th>\n",
       "      <th>avg_serve_stars</th>\n",
       "      <th>avg_nonserve_stars</th>\n",
       "    </tr>\n",
       "  </thead>\n",
       "  <tbody>\n",
       "    <tr>\n",
       "      <th>0</th>\n",
       "      <td>-1bOb2izeJBZjHC7NWxiPA</td>\n",
       "      <td>0.000000</td>\n",
       "      <td>0.006061</td>\n",
       "      <td>0.000000</td>\n",
       "      <td>0.012121</td>\n",
       "      <td>0.000000</td>\n",
       "      <td>0.000000</td>\n",
       "      <td>0.000000</td>\n",
       "      <td>0.000000</td>\n",
       "      <td>0.0</td>\n",
       "      <td>...</td>\n",
       "      <td>0.018182</td>\n",
       "      <td>0.000000</td>\n",
       "      <td>0.012121</td>\n",
       "      <td>0.000000</td>\n",
       "      <td>0.000000</td>\n",
       "      <td>0.012121</td>\n",
       "      <td>0.000000</td>\n",
       "      <td>0.006061</td>\n",
       "      <td>4.285714</td>\n",
       "      <td>3.980000</td>\n",
       "    </tr>\n",
       "    <tr>\n",
       "      <th>1</th>\n",
       "      <td>-3xbryp44xhpN4BohxXDdQ</td>\n",
       "      <td>0.003115</td>\n",
       "      <td>0.003115</td>\n",
       "      <td>0.009346</td>\n",
       "      <td>0.003115</td>\n",
       "      <td>0.003115</td>\n",
       "      <td>0.003115</td>\n",
       "      <td>0.000000</td>\n",
       "      <td>0.006231</td>\n",
       "      <td>0.0</td>\n",
       "      <td>...</td>\n",
       "      <td>0.009346</td>\n",
       "      <td>0.000000</td>\n",
       "      <td>0.006231</td>\n",
       "      <td>0.000000</td>\n",
       "      <td>0.003115</td>\n",
       "      <td>0.000000</td>\n",
       "      <td>0.003115</td>\n",
       "      <td>0.015576</td>\n",
       "      <td>3.916667</td>\n",
       "      <td>3.857895</td>\n",
       "    </tr>\n",
       "    <tr>\n",
       "      <th>2</th>\n",
       "      <td>-4mNZfAXMd2mxEsD2YRcaQ</td>\n",
       "      <td>0.000000</td>\n",
       "      <td>0.000000</td>\n",
       "      <td>0.000000</td>\n",
       "      <td>0.000000</td>\n",
       "      <td>0.000000</td>\n",
       "      <td>0.000000</td>\n",
       "      <td>0.000000</td>\n",
       "      <td>0.000000</td>\n",
       "      <td>0.0</td>\n",
       "      <td>...</td>\n",
       "      <td>0.000000</td>\n",
       "      <td>0.000000</td>\n",
       "      <td>0.000000</td>\n",
       "      <td>0.058824</td>\n",
       "      <td>0.000000</td>\n",
       "      <td>0.000000</td>\n",
       "      <td>0.000000</td>\n",
       "      <td>0.000000</td>\n",
       "      <td>4.000000</td>\n",
       "      <td>2.888889</td>\n",
       "    </tr>\n",
       "    <tr>\n",
       "      <th>3</th>\n",
       "      <td>-584fn2GxYe9sLsgN2WeQA</td>\n",
       "      <td>0.016908</td>\n",
       "      <td>0.004831</td>\n",
       "      <td>0.000000</td>\n",
       "      <td>0.000000</td>\n",
       "      <td>0.000000</td>\n",
       "      <td>0.004831</td>\n",
       "      <td>0.002415</td>\n",
       "      <td>0.000000</td>\n",
       "      <td>0.0</td>\n",
       "      <td>...</td>\n",
       "      <td>0.021739</td>\n",
       "      <td>0.002415</td>\n",
       "      <td>0.009662</td>\n",
       "      <td>0.002415</td>\n",
       "      <td>0.009662</td>\n",
       "      <td>0.007246</td>\n",
       "      <td>0.009662</td>\n",
       "      <td>0.004831</td>\n",
       "      <td>4.642857</td>\n",
       "      <td>4.101322</td>\n",
       "    </tr>\n",
       "    <tr>\n",
       "      <th>4</th>\n",
       "      <td>-5RN56jH78MV2oquLV_G8g</td>\n",
       "      <td>0.005291</td>\n",
       "      <td>0.023810</td>\n",
       "      <td>0.002646</td>\n",
       "      <td>0.009259</td>\n",
       "      <td>0.000000</td>\n",
       "      <td>0.000000</td>\n",
       "      <td>0.007937</td>\n",
       "      <td>0.000000</td>\n",
       "      <td>0.0</td>\n",
       "      <td>...</td>\n",
       "      <td>0.000000</td>\n",
       "      <td>0.001323</td>\n",
       "      <td>0.025132</td>\n",
       "      <td>0.013228</td>\n",
       "      <td>0.003968</td>\n",
       "      <td>0.005291</td>\n",
       "      <td>0.006614</td>\n",
       "      <td>0.019841</td>\n",
       "      <td>4.240000</td>\n",
       "      <td>4.385069</td>\n",
       "    </tr>\n",
       "  </tbody>\n",
       "</table>\n",
       "<p>5 rows × 103 columns</p>\n",
       "</div>"
      ],
      "text/plain": [
       "              business_id  10 minutes  15 minutes  20 minutes  30 minutes  \\\n",
       "0  -1bOb2izeJBZjHC7NWxiPA    0.000000    0.006061    0.000000    0.012121   \n",
       "1  -3xbryp44xhpN4BohxXDdQ    0.003115    0.003115    0.009346    0.003115   \n",
       "2  -4mNZfAXMd2mxEsD2YRcaQ    0.000000    0.000000    0.000000    0.000000   \n",
       "3  -584fn2GxYe9sLsgN2WeQA    0.016908    0.004831    0.000000    0.000000   \n",
       "4  -5RN56jH78MV2oquLV_G8g    0.005291    0.023810    0.002646    0.009259   \n",
       "\n",
       "   bar food  beer selection   best ve  bloody mary  bottle service  \\\n",
       "0  0.000000        0.000000  0.000000     0.000000             0.0   \n",
       "1  0.003115        0.003115  0.000000     0.006231             0.0   \n",
       "2  0.000000        0.000000  0.000000     0.000000             0.0   \n",
       "3  0.000000        0.004831  0.002415     0.000000             0.0   \n",
       "4  0.000000        0.000000  0.007937     0.000000             0.0   \n",
       "\n",
       "          ...          super friendly  sweet potato  tasted like  time vegas  \\\n",
       "0         ...                0.018182      0.000000     0.012121    0.000000   \n",
       "1         ...                0.009346      0.000000     0.006231    0.000000   \n",
       "2         ...                0.000000      0.000000     0.000000    0.058824   \n",
       "3         ...                0.021739      0.002415     0.009662    0.002415   \n",
       "4         ...                0.000000      0.001323     0.025132    0.013228   \n",
       "\n",
       "   try place   ve seen  ve tried  wait staff  avg_serve_stars  \\\n",
       "0   0.000000  0.012121  0.000000    0.006061         4.285714   \n",
       "1   0.003115  0.000000  0.003115    0.015576         3.916667   \n",
       "2   0.000000  0.000000  0.000000    0.000000         4.000000   \n",
       "3   0.009662  0.007246  0.009662    0.004831         4.642857   \n",
       "4   0.003968  0.005291  0.006614    0.019841         4.240000   \n",
       "\n",
       "   avg_nonserve_stars  \n",
       "0            3.980000  \n",
       "1            3.857895  \n",
       "2            2.888889  \n",
       "3            4.101322  \n",
       "4            4.385069  \n",
       "\n",
       "[5 rows x 103 columns]"
      ]
     },
     "execution_count": 63,
     "metadata": {},
     "output_type": "execute_result"
    }
   ],
   "source": [
    "# merge the service and non-service ratings\n",
    "br = br.merge(avg_serve_ratings, on='business_id')\n",
    "br = br.merge(avg_non_ratings, on='business_id')\n",
    "br.head()"
   ]
  },
  {
   "cell_type": "code",
   "execution_count": 64,
   "metadata": {
    "collapsed": true
   },
   "outputs": [],
   "source": [
    "# replace the spaces in columns\n",
    "br.columns = [x.strip().replace(' ','_') for x in br.columns]"
   ]
  },
  {
   "cell_type": "code",
   "execution_count": 65,
   "metadata": {
    "collapsed": false
   },
   "outputs": [],
   "source": [
    "# set up service and non-service X, y\n",
    "ys = br.avg_serve_stars.values\n",
    "yns = br.avg_nonserve_stars.values\n",
    "\n",
    "X = br[[c for c in br.columns if not c in ['business_id','avg_serve_stars','avg_nonserve_stars']]]\n",
    "\n",
    "ss = StandardScaler()\n",
    "Xs_n = ss.fit_transform(X)\n",
    "Xns_n = ss.fit_transform(X)"
   ]
  },
  {
   "cell_type": "code",
   "execution_count": 83,
   "metadata": {
    "collapsed": true
   },
   "outputs": [],
   "source": [
    "# Set up a LassoCV search for both\n",
    "#\n",
    "# Note: I am specifically using a Lasso here instead of ridge or elastic net, because\n",
    "# I want to avoid the \"shrinkage\" effect of the L2 penalty. If coefficients are\n",
    "# more likely to be zeroed-out than shrunk, then when I compare them side-by-side\n",
    "# I don't have to worry nearly as much about differences in magnitude, aka the\n",
    "# degree to which the coefficients were shrunk down towards zero.\n",
    "from sklearn.linear_model import LassoCV, Lasso\n",
    "\n",
    "lcv_s = LassoCV(n_alphas=1000, cv=10, verbose=1)\n",
    "lcv_ns = LassoCV(n_alphas=1000, cv=10, verbose=1)"
   ]
  },
  {
   "cell_type": "code",
   "execution_count": 85,
   "metadata": {
    "collapsed": false
   },
   "outputs": [
    {
     "name": "stderr",
     "output_type": "stream",
     "text": [
      "................................................................................................................................................................................................................................................................................................................................................................................................................................................................................................................................................................................................................................................................................................................................................................................................................................................................................................................................................................................................................................................................................................................................................................................................................................................................................................................................................................................................................................................................................................................................................................................................................................................................................................................................................................................................................................................................................................................................................................................................................................................................................................................................................................................................................................................................................................................................................................................................................................................................................................................................................................................................................................................................................................................................................................................................................................................................................................................................................................................................................................................................................................................................................................................................................................................................................................................................................................................................................................................................................................................................................................................................................................................................................................................................................................................................................................................................................................................................................................................................................................................................................................................................................................................................................................................................................................................................................................................................................................................................................................................................................................................................................................................................................................................................................................................................................................................................................................................................................................................................................................................................................................................................................................................................................................................................................................................................................................................................................................................................................................................................................................................................................................................................................................................................................................................................................................................................................................................................................................................................................................................................................................................................................................................................................................................................................................................................................................................................................................................................................................................................................................................................................................................................................................................................................................................................................................................................................................................................................................................................................................................................................................................................................................................................................................................................................................................................................................................................................................................................................................................................................................................................................................................................................................................................................................................................................................................................................................................................................................................................................................................................................................................................................................................................................................................................................................................................................................................................................................................................................................................................................................................................................................................................................................................................................................................................................................................................................................................................................................................................................................................................................................................................................................................................................................................................................................................................................................................................................................................................................................................................................................................................................................................................................................................................................................................................................................................................................................................................................................................................................................................................................................................................................................................................................................................................................................................................................................................................................[Parallel(n_jobs=1)]: Done  10 out of  10 | elapsed:    1.8s finished\n"
     ]
    },
    {
     "data": {
      "text/plain": [
       "Lasso(alpha=0.025483613704337143, copy_X=True, fit_intercept=True,\n",
       "   max_iter=1000, normalize=False, positive=False, precompute=False,\n",
       "   random_state=None, selection='cyclic', tol=0.0001, warm_start=False)"
      ]
     },
     "execution_count": 85,
     "metadata": {},
     "output_type": "execute_result"
    }
   ],
   "source": [
    "# fit the service rating model\n",
    "lcv_s.fit(Xs_n, ys)\n",
    "\n",
    "lasso_s = Lasso(alpha=lcv_s.alpha_)\n",
    "lasso_s.fit(Xs_n, ys)"
   ]
  },
  {
   "cell_type": "code",
   "execution_count": 86,
   "metadata": {
    "collapsed": false
   },
   "outputs": [
    {
     "name": "stderr",
     "output_type": "stream",
     "text": [
      "................................................................................................................................................................................................................................................................................................................................................................................................................................................................................................................................................................................................................................................................................................................................................................................................................................................................................................................................................................................................................................................................................................................................................................................................................................................................................................................................................................................................................................................................................................................................................................................................................................................................................................................................................................................................................................................................................................................................................................................................................................................................................................................................................................................................................................................................................................................................................................................................................................................................................................................................................................................................................................................................................................................................................................................................................................................................................................................................................................................................................................................................................................................................................................................................................................................................................................................................................................................................................................................................................................................................................................................................................................................................................................................................................................................................................................................................................................................................................................................................................................................................................................................................................................................................................................................................................................................................................................................................................................................................................................................................................................................................................................................................................................................................................................................................................................................................................................................................................................................................................................................................................................................................................................................................................................................................................................................................................................................................................................................................................................................................................................................................................................................................................................................................................................................................................................................................................................................................................................................................................................................................................................................................................................................................................................................................................................................................................................................................................................................................................................................................................................................................................................................................................................................................................................................................................................................................................................................................................................................................................................................................................................................................................................................................................................................................................................................................................................................................................................................................................................................................................................................................................................................................................................................................................................................................................................................................................................................................................................................................................................................................................................................................................................................................................................................................................................................................................................................................................................................................................................................................................................................................................................................................................................................................................................................................................................................................................................................................................................................................................................................................................................................................................................................................................................................................................................................................................................................................................................................................................................................................................................................................................................................................................................................................................................................................................................................................................................................................................................................................................................................................................................................................................................................................................................................................................................................................................................................................................[Parallel(n_jobs=1)]: Done  10 out of  10 | elapsed:    1.7s finished\n"
     ]
    },
    {
     "data": {
      "text/plain": [
       "Lasso(alpha=0.0074736424207689413, copy_X=True, fit_intercept=True,\n",
       "   max_iter=1000, normalize=False, positive=False, precompute=False,\n",
       "   random_state=None, selection='cyclic', tol=0.0001, warm_start=False)"
      ]
     },
     "execution_count": 86,
     "metadata": {},
     "output_type": "execute_result"
    }
   ],
   "source": [
    "# fit the non-service rating model\n",
    "lcv_ns.fit(Xns_n, yns)\n",
    "\n",
    "lasso_ns = Lasso(alpha=lcv_ns.alpha_)\n",
    "lasso_ns.fit(Xns_n, yns)"
   ]
  },
  {
   "cell_type": "code",
   "execution_count": 87,
   "metadata": {
    "collapsed": false
   },
   "outputs": [
    {
     "name": "stdout",
     "output_type": "stream",
     "text": [
      "0.190059865418\n",
      "0.527966780228\n"
     ]
    }
   ],
   "source": [
    "# what are the model cross-validation scores?\n",
    "print np.mean(cross_val_score(lasso_s, Xs_n, ys, cv=5))\n",
    "print np.mean(cross_val_score(lasso_ns, Xns_n, yns, cv=5))\n"
   ]
  },
  {
   "cell_type": "code",
   "execution_count": 88,
   "metadata": {
    "collapsed": false
   },
   "outputs": [],
   "source": [
    "# put the service and non-service model coefficients into the same\n",
    "# dataframe so I can compare them.\n",
    "coefs = pd.DataFrame({\n",
    "        'service_coef':lasso_s.coef_,\n",
    "        'sabs':np.abs(lasso_s.coef_),\n",
    "        'non_coef':lasso_ns.coef_,\n",
    "        'nabs':np.abs(lasso_ns.coef_),\n",
    "        'predictor':X.columns\n",
    "    })"
   ]
  },
  {
   "cell_type": "code",
   "execution_count": 89,
   "metadata": {
    "collapsed": false
   },
   "outputs": [
    {
     "data": {
      "text/html": [
       "<div>\n",
       "<table border=\"1\" class=\"dataframe\">\n",
       "  <thead>\n",
       "    <tr style=\"text-align: right;\">\n",
       "      <th></th>\n",
       "      <th>predictor</th>\n",
       "      <th>service_coef</th>\n",
       "      <th>non_coef</th>\n",
       "    </tr>\n",
       "  </thead>\n",
       "  <tbody>\n",
       "    <tr>\n",
       "      <th>0</th>\n",
       "      <td>customer_service</td>\n",
       "      <td>-0.218731</td>\n",
       "      <td>-0.093596</td>\n",
       "    </tr>\n",
       "    <tr>\n",
       "      <th>1</th>\n",
       "      <td>service_excellent</td>\n",
       "      <td>0.116146</td>\n",
       "      <td>0.049316</td>\n",
       "    </tr>\n",
       "    <tr>\n",
       "      <th>2</th>\n",
       "      <td>super_friendly</td>\n",
       "      <td>0.099363</td>\n",
       "      <td>0.062888</td>\n",
       "    </tr>\n",
       "    <tr>\n",
       "      <th>3</th>\n",
       "      <td>love_place</td>\n",
       "      <td>0.089625</td>\n",
       "      <td>0.095758</td>\n",
       "    </tr>\n",
       "    <tr>\n",
       "      <th>4</th>\n",
       "      <td>service_great</td>\n",
       "      <td>0.086213</td>\n",
       "      <td>0.017737</td>\n",
       "    </tr>\n",
       "    <tr>\n",
       "      <th>5</th>\n",
       "      <td>highly_recommend</td>\n",
       "      <td>0.085233</td>\n",
       "      <td>0.138138</td>\n",
       "    </tr>\n",
       "    <tr>\n",
       "      <th>6</th>\n",
       "      <td>definitely_come</td>\n",
       "      <td>0.070481</td>\n",
       "      <td>0.044617</td>\n",
       "    </tr>\n",
       "    <tr>\n",
       "      <th>7</th>\n",
       "      <td>10_minutes</td>\n",
       "      <td>-0.069108</td>\n",
       "      <td>-0.045213</td>\n",
       "    </tr>\n",
       "    <tr>\n",
       "      <th>8</th>\n",
       "      <td>pretty_good</td>\n",
       "      <td>-0.063720</td>\n",
       "      <td>-0.034007</td>\n",
       "    </tr>\n",
       "    <tr>\n",
       "      <th>9</th>\n",
       "      <td>20_minutes</td>\n",
       "      <td>-0.060970</td>\n",
       "      <td>-0.054673</td>\n",
       "    </tr>\n",
       "    <tr>\n",
       "      <th>10</th>\n",
       "      <td>looked_like</td>\n",
       "      <td>-0.057113</td>\n",
       "      <td>-0.065143</td>\n",
       "    </tr>\n",
       "  </tbody>\n",
       "</table>\n",
       "</div>"
      ],
      "text/plain": [
       "            predictor  service_coef  non_coef\n",
       "0    customer_service     -0.218731 -0.093596\n",
       "1   service_excellent      0.116146  0.049316\n",
       "2      super_friendly      0.099363  0.062888\n",
       "3          love_place      0.089625  0.095758\n",
       "4       service_great      0.086213  0.017737\n",
       "5    highly_recommend      0.085233  0.138138\n",
       "6     definitely_come      0.070481  0.044617\n",
       "7          10_minutes     -0.069108 -0.045213\n",
       "8         pretty_good     -0.063720 -0.034007\n",
       "9          20_minutes     -0.060970 -0.054673\n",
       "10        looked_like     -0.057113 -0.065143"
      ]
     },
     "execution_count": 89,
     "metadata": {},
     "output_type": "execute_result"
    }
   ],
   "source": [
    "# print out the coefficients sorted by absolute value of service coefficients.\n",
    "# looks like the service related fields, unexpectedly, have higher magnitude\n",
    "# coefficients than the non-service coefficients.\n",
    "coefs.sort_values('sabs', ascending=False).reset_index().loc[:10, ['predictor','service_coef','non_coef']]"
   ]
  },
  {
   "cell_type": "code",
   "execution_count": 77,
   "metadata": {
    "collapsed": false
   },
   "outputs": [
    {
     "data": {
      "text/html": [
       "<div>\n",
       "<table border=\"1\" class=\"dataframe\">\n",
       "  <thead>\n",
       "    <tr style=\"text-align: right;\">\n",
       "      <th></th>\n",
       "      <th>predictor</th>\n",
       "      <th>service_coef</th>\n",
       "      <th>non_coef</th>\n",
       "    </tr>\n",
       "  </thead>\n",
       "  <tbody>\n",
       "    <tr>\n",
       "      <th>0</th>\n",
       "      <td>highly_recommend</td>\n",
       "      <td>0.078442</td>\n",
       "      <td>0.110635</td>\n",
       "    </tr>\n",
       "    <tr>\n",
       "      <th>1</th>\n",
       "      <td>love_place</td>\n",
       "      <td>0.084626</td>\n",
       "      <td>0.080271</td>\n",
       "    </tr>\n",
       "    <tr>\n",
       "      <th>2</th>\n",
       "      <td>customer_service</td>\n",
       "      <td>-0.191590</td>\n",
       "      <td>-0.070471</td>\n",
       "    </tr>\n",
       "    <tr>\n",
       "      <th>3</th>\n",
       "      <td>didn_want</td>\n",
       "      <td>-0.029814</td>\n",
       "      <td>-0.057104</td>\n",
       "    </tr>\n",
       "    <tr>\n",
       "      <th>4</th>\n",
       "      <td>looked_like</td>\n",
       "      <td>-0.053962</td>\n",
       "      <td>-0.055377</td>\n",
       "    </tr>\n",
       "    <tr>\n",
       "      <th>5</th>\n",
       "      <td>great_food</td>\n",
       "      <td>0.049403</td>\n",
       "      <td>0.054461</td>\n",
       "    </tr>\n",
       "    <tr>\n",
       "      <th>6</th>\n",
       "      <td>super_friendly</td>\n",
       "      <td>0.091363</td>\n",
       "      <td>0.054290</td>\n",
       "    </tr>\n",
       "    <tr>\n",
       "      <th>7</th>\n",
       "      <td>15_minutes</td>\n",
       "      <td>-0.032877</td>\n",
       "      <td>-0.054032</td>\n",
       "    </tr>\n",
       "    <tr>\n",
       "      <th>8</th>\n",
       "      <td>definitely_recommend</td>\n",
       "      <td>0.044843</td>\n",
       "      <td>0.053038</td>\n",
       "    </tr>\n",
       "    <tr>\n",
       "      <th>9</th>\n",
       "      <td>las_vegas</td>\n",
       "      <td>0.041937</td>\n",
       "      <td>0.052260</td>\n",
       "    </tr>\n",
       "    <tr>\n",
       "      <th>10</th>\n",
       "      <td>great_place</td>\n",
       "      <td>0.007664</td>\n",
       "      <td>0.051999</td>\n",
       "    </tr>\n",
       "  </tbody>\n",
       "</table>\n",
       "</div>"
      ],
      "text/plain": [
       "               predictor  service_coef  non_coef\n",
       "0       highly_recommend      0.078442  0.110635\n",
       "1             love_place      0.084626  0.080271\n",
       "2       customer_service     -0.191590 -0.070471\n",
       "3              didn_want     -0.029814 -0.057104\n",
       "4            looked_like     -0.053962 -0.055377\n",
       "5             great_food      0.049403  0.054461\n",
       "6         super_friendly      0.091363  0.054290\n",
       "7             15_minutes     -0.032877 -0.054032\n",
       "8   definitely_recommend      0.044843  0.053038\n",
       "9              las_vegas      0.041937  0.052260\n",
       "10           great_place      0.007664  0.051999"
      ]
     },
     "execution_count": 77,
     "metadata": {},
     "output_type": "execute_result"
    }
   ],
   "source": [
    "# now sort by the non-service magnitude coefficients. Customer service is still\n",
    "# important but looks like other things like food now take some precedence as well.\n",
    "# fewer service-related mentions.\n",
    "coefs.sort_values('nabs', ascending=False).reset_index().loc[:10, ['predictor','service_coef','non_coef']]"
   ]
  },
  {
   "cell_type": "code",
   "execution_count": 91,
   "metadata": {
    "collapsed": false
   },
   "outputs": [
    {
     "data": {
      "text/html": [
       "<div>\n",
       "<table border=\"1\" class=\"dataframe\">\n",
       "  <thead>\n",
       "    <tr style=\"text-align: right;\">\n",
       "      <th></th>\n",
       "      <th>predictor</th>\n",
       "      <th>service_coef</th>\n",
       "      <th>non_coef</th>\n",
       "    </tr>\n",
       "  </thead>\n",
       "  <tbody>\n",
       "    <tr>\n",
       "      <th>10</th>\n",
       "      <td>customer_service</td>\n",
       "      <td>-0.218731</td>\n",
       "      <td>-0.093596</td>\n",
       "    </tr>\n",
       "    <tr>\n",
       "      <th>31</th>\n",
       "      <td>food_service</td>\n",
       "      <td>-0.006596</td>\n",
       "      <td>-0.018128</td>\n",
       "    </tr>\n",
       "    <tr>\n",
       "      <th>36</th>\n",
       "      <td>friendly_staff</td>\n",
       "      <td>0.049296</td>\n",
       "      <td>0.000000</td>\n",
       "    </tr>\n",
       "    <tr>\n",
       "      <th>39</th>\n",
       "      <td>good_service</td>\n",
       "      <td>-0.000000</td>\n",
       "      <td>-0.041446</td>\n",
       "    </tr>\n",
       "    <tr>\n",
       "      <th>46</th>\n",
       "      <td>great_service</td>\n",
       "      <td>0.042212</td>\n",
       "      <td>0.016539</td>\n",
       "    </tr>\n",
       "    <tr>\n",
       "      <th>86</th>\n",
       "      <td>service_excellent</td>\n",
       "      <td>0.116146</td>\n",
       "      <td>0.049316</td>\n",
       "    </tr>\n",
       "    <tr>\n",
       "      <th>87</th>\n",
       "      <td>service_food</td>\n",
       "      <td>0.025248</td>\n",
       "      <td>-0.041217</td>\n",
       "    </tr>\n",
       "    <tr>\n",
       "      <th>88</th>\n",
       "      <td>service_friendly</td>\n",
       "      <td>0.000000</td>\n",
       "      <td>0.001324</td>\n",
       "    </tr>\n",
       "    <tr>\n",
       "      <th>89</th>\n",
       "      <td>service_good</td>\n",
       "      <td>-0.000000</td>\n",
       "      <td>-0.031360</td>\n",
       "    </tr>\n",
       "    <tr>\n",
       "      <th>90</th>\n",
       "      <td>service_great</td>\n",
       "      <td>0.086213</td>\n",
       "      <td>0.017737</td>\n",
       "    </tr>\n",
       "    <tr>\n",
       "      <th>91</th>\n",
       "      <td>staff_friendly</td>\n",
       "      <td>0.010718</td>\n",
       "      <td>0.022986</td>\n",
       "    </tr>\n",
       "    <tr>\n",
       "      <th>92</th>\n",
       "      <td>super_friendly</td>\n",
       "      <td>0.099363</td>\n",
       "      <td>0.062888</td>\n",
       "    </tr>\n",
       "    <tr>\n",
       "      <th>99</th>\n",
       "      <td>wait_staff</td>\n",
       "      <td>-0.025836</td>\n",
       "      <td>-0.022721</td>\n",
       "    </tr>\n",
       "  </tbody>\n",
       "</table>\n",
       "</div>"
      ],
      "text/plain": [
       "            predictor  service_coef  non_coef\n",
       "10   customer_service     -0.218731 -0.093596\n",
       "31       food_service     -0.006596 -0.018128\n",
       "36     friendly_staff      0.049296  0.000000\n",
       "39       good_service     -0.000000 -0.041446\n",
       "46      great_service      0.042212  0.016539\n",
       "86  service_excellent      0.116146  0.049316\n",
       "87       service_food      0.025248 -0.041217\n",
       "88   service_friendly      0.000000  0.001324\n",
       "89       service_good     -0.000000 -0.031360\n",
       "90      service_great      0.086213  0.017737\n",
       "91     staff_friendly      0.010718  0.022986\n",
       "92     super_friendly      0.099363  0.062888\n",
       "99         wait_staff     -0.025836 -0.022721"
      ]
     },
     "execution_count": 91,
     "metadata": {},
     "output_type": "execute_result"
    }
   ],
   "source": [
    "# how do magnitudes of coefs compare for the service columns?\n",
    "# patterns here indicate that these service columns are indeed more\n",
    "# impactful to the average service rating than the non-service rating.\n",
    "scols = [x.strip().replace(' ','_') for x in service_cols]\n",
    "coefs.loc[coefs.predictor.isin(scols), ['predictor','service_coef','non_coef']]"
   ]
  },
  {
   "cell_type": "markdown",
   "metadata": {},
   "source": [
    "<img src=\"http://imgur.com/l5NasQj.png\" style=\"float: left; margin: 25px 15px 0px 0px; height: 25px\">\n",
    "\n",
    "## 3. Identifying \"elite\" users\n",
    "\n",
    "---\n",
    "\n",
    "Yelp, though having their own formula for determining whether a user is elite or not, is interested in delving deeper into what differentiates an elite user from a normal user at a broader level.\n",
    "\n",
    "Use a classification model to predict whether a user is elite or not. Note that users can be elite in some years and not in others.\n",
    "\n",
    "1. What things predict well whether a user is elite or not?\n",
    "- Validate the model.\n",
    "- If you were to remove the \"counts\" metrics for users (reviews, votes, compliments), what distinguishes an elite user, if anything? Validate the model and compare it to the one with the count variables.\n",
    "- Think of a way to visually represent your results in a compelling way.\n",
    "- Give a brief write-up of your findings.\n"
   ]
  },
  {
   "cell_type": "code",
   "execution_count": 92,
   "metadata": {
    "collapsed": false
   },
   "outputs": [
    {
     "data": {
      "text/plain": [
       "Index([u'yelping_since', u'compliments.plain', u'review_count',\n",
       "       u'compliments.cute', u'compliments.writer', u'fans',\n",
       "       u'compliments.note', u'compliments.hot', u'compliments.cool',\n",
       "       u'compliments.profile', u'average_stars', u'compliments.more', u'elite',\n",
       "       u'name', u'user_id', u'votes.cool', u'compliments.list', u'votes.funny',\n",
       "       u'compliments.photos', u'compliments.funny', u'votes.useful'],\n",
       "      dtype='object')"
      ]
     },
     "execution_count": 92,
     "metadata": {},
     "output_type": "execute_result"
    }
   ],
   "source": [
    "usr.columns"
   ]
  },
  {
   "cell_type": "code",
   "execution_count": 93,
   "metadata": {
    "collapsed": true
   },
   "outputs": [],
   "source": [
    "# Find out who's elite: the years they were elite and just a binary\n",
    "# on whether they were ever elite at all.\n",
    "usr['elite_list'] = usr.elite.map(lambda x: eval(x))\n",
    "usr['years_elite'] = usr.elite_list.map(lambda x: len(x))\n",
    "usr['ever_elite'] = usr.years_elite.map(lambda x: 1 if x > 0 else 0)"
   ]
  },
  {
   "cell_type": "code",
   "execution_count": 94,
   "metadata": {
    "collapsed": false
   },
   "outputs": [
    {
     "data": {
      "text/plain": [
       "count    144206.000000\n",
       "mean          0.362953\n",
       "std           1.199497\n",
       "min           0.000000\n",
       "25%           0.000000\n",
       "50%           0.000000\n",
       "75%           0.000000\n",
       "max          11.000000\n",
       "Name: years_elite, dtype: float64"
      ]
     },
     "execution_count": 94,
     "metadata": {},
     "output_type": "execute_result"
    }
   ],
   "source": [
    "usr.years_elite.describe()"
   ]
  },
  {
   "cell_type": "code",
   "execution_count": 95,
   "metadata": {
    "collapsed": true
   },
   "outputs": [],
   "source": [
    "# replace dots with underscores and fill na columns to be zeros\n",
    "usr.columns = [c.strip().replace('.','_') for c in usr.columns]\n",
    "usr = usr.fillna(0.)"
   ]
  },
  {
   "cell_type": "code",
   "execution_count": 96,
   "metadata": {
    "collapsed": true
   },
   "outputs": [],
   "source": [
    "# Make an X, y to predict whether a user was ever elite from their \n",
    "# stats in the user dataframe\n",
    "non_pred = ['user_id','ever_elite','elite','years_elite','elite_list','yelping_since',\n",
    "            'name']\n",
    "usr_basic_f = '~ '+' + '.join([c for c in usr.columns if not c in non_pred])+' -1'\n",
    "\n",
    "X = patsy.dmatrix(usr_basic_f, data=usr, return_type='dataframe')\n",
    "y = usr.ever_elite.values"
   ]
  },
  {
   "cell_type": "code",
   "execution_count": 97,
   "metadata": {
    "collapsed": false
   },
   "outputs": [
    {
     "name": "stdout",
     "output_type": "stream",
     "text": [
      "(144206,) (144206, 17)\n"
     ]
    }
   ],
   "source": [
    "y = np.ravel(y)\n",
    "ss = StandardScaler()\n",
    "Xn = ss.fit_transform(X)\n",
    "print y.shape, Xn.shape"
   ]
  },
  {
   "cell_type": "code",
   "execution_count": 99,
   "metadata": {
    "collapsed": false
   },
   "outputs": [
    {
     "name": "stdout",
     "output_type": "stream",
     "text": [
      "baseline accuracy: 0.884727403853\n"
     ]
    }
   ],
   "source": [
    "print 'baseline accuracy:', 1. - np.mean(y)"
   ]
  },
  {
   "cell_type": "code",
   "execution_count": 100,
   "metadata": {
    "collapsed": false,
    "scrolled": true
   },
   "outputs": [
    {
     "name": "stdout",
     "output_type": "stream",
     "text": [
      "Fitting 5 folds for each of 200 candidates, totalling 1000 fits\n"
     ]
    },
    {
     "name": "stderr",
     "output_type": "stream",
     "text": [
      "[Parallel(n_jobs=1)]: Done  49 tasks       | elapsed:    7.8s\n",
      "[Parallel(n_jobs=1)]: Done 199 tasks       | elapsed:   33.8s\n",
      "[Parallel(n_jobs=1)]: Done 449 tasks       | elapsed:  1.3min\n",
      "[Parallel(n_jobs=1)]: Done 799 tasks       | elapsed:  2.2min\n",
      "[Parallel(n_jobs=1)]: Done 1000 out of 1000 | elapsed:  2.8min finished\n"
     ]
    },
    {
     "data": {
      "text/plain": [
       "GridSearchCV(cv=5, error_score='raise',\n",
       "       estimator=SGDClassifier(alpha=0.0001, average=False, class_weight=None, epsilon=0.1,\n",
       "       eta0=0.0, fit_intercept=True, l1_ratio=0.15,\n",
       "       learning_rate='optimal', loss='hinge', n_iter=5, n_jobs=1,\n",
       "       penalty='l2', power_t=0.5, random_state=None, shuffle=True,\n",
       "       verbose=0, warm_start=False),\n",
       "       fit_params={}, iid=True, n_jobs=1,\n",
       "       param_grid={'penalty': ['l1', 'l2'], 'loss': ['log'], 'alpha': array([  1.00000e-05,   1.14976e-05, ...,   8.69749e+00,   1.00000e+01])},\n",
       "       pre_dispatch='2*n_jobs', refit=True, scoring=None, verbose=1)"
      ]
     },
     "execution_count": 100,
     "metadata": {},
     "output_type": "execute_result"
    }
   ],
   "source": [
    "# search for best model with SGDClassifier\n",
    "# logistic regression ridge or lasso penalties (not doing elastic net\n",
    "# for the sake of my computer).\n",
    "ever_elite_p = {\n",
    "    'loss':['log'],\n",
    "    'penalty':['l1','l2'],\n",
    "    'alpha':np.logspace(-5, 1, 100)\n",
    "}\n",
    "\n",
    "ee_gs = GridSearchCV(SGDClassifier(), ever_elite_p, cv=5, verbose=1)\n",
    "ee_gs.fit(Xn, y)\n"
   ]
  },
  {
   "cell_type": "code",
   "execution_count": 102,
   "metadata": {
    "collapsed": false
   },
   "outputs": [
    {
     "name": "stdout",
     "output_type": "stream",
     "text": [
      "{'penalty': 'l2', 'alpha': 2.0092330025650458e-05, 'loss': 'log'}\n",
      "0.950126901793\n"
     ]
    }
   ],
   "source": [
    "# Accuracy is considerably better than the baseline.\n",
    "# Chose a very weak ridge. Basically a vanilla logistic regression.\n",
    "print ee_gs.best_params_\n",
    "print ee_gs.best_score_\n"
   ]
  },
  {
   "cell_type": "code",
   "execution_count": 103,
   "metadata": {
    "collapsed": false
   },
   "outputs": [
    {
     "name": "stdout",
     "output_type": "stream",
     "text": [
      "0.948164468407\n"
     ]
    }
   ],
   "source": [
    "ee_best = ee_gs.best_estimator_\n",
    "ee_best.fit(Xn, y)\n",
    "print np.mean(cross_val_score(ee_best, Xn, y, cv=5))"
   ]
  },
  {
   "cell_type": "code",
   "execution_count": 110,
   "metadata": {
    "collapsed": false
   },
   "outputs": [
    {
     "data": {
      "text/html": [
       "<div>\n",
       "<table border=\"1\" class=\"dataframe\">\n",
       "  <thead>\n",
       "    <tr style=\"text-align: right;\">\n",
       "      <th></th>\n",
       "      <th>coef</th>\n",
       "      <th>predictor</th>\n",
       "    </tr>\n",
       "  </thead>\n",
       "  <tbody>\n",
       "    <tr>\n",
       "      <th>8</th>\n",
       "      <td>-8.219395</td>\n",
       "      <td>compliments_profile</td>\n",
       "    </tr>\n",
       "    <tr>\n",
       "      <th>3</th>\n",
       "      <td>6.678037</td>\n",
       "      <td>compliments_writer</td>\n",
       "    </tr>\n",
       "    <tr>\n",
       "      <th>7</th>\n",
       "      <td>3.366542</td>\n",
       "      <td>compliments_cool</td>\n",
       "    </tr>\n",
       "    <tr>\n",
       "      <th>5</th>\n",
       "      <td>-3.010809</td>\n",
       "      <td>compliments_note</td>\n",
       "    </tr>\n",
       "    <tr>\n",
       "      <th>16</th>\n",
       "      <td>2.865184</td>\n",
       "      <td>votes_useful</td>\n",
       "    </tr>\n",
       "    <tr>\n",
       "      <th>1</th>\n",
       "      <td>2.785620</td>\n",
       "      <td>review_count</td>\n",
       "    </tr>\n",
       "    <tr>\n",
       "      <th>13</th>\n",
       "      <td>-2.470023</td>\n",
       "      <td>votes_funny</td>\n",
       "    </tr>\n",
       "    <tr>\n",
       "      <th>2</th>\n",
       "      <td>1.447963</td>\n",
       "      <td>compliments_cute</td>\n",
       "    </tr>\n",
       "    <tr>\n",
       "      <th>14</th>\n",
       "      <td>-1.265400</td>\n",
       "      <td>compliments_photos</td>\n",
       "    </tr>\n",
       "    <tr>\n",
       "      <th>0</th>\n",
       "      <td>-1.235623</td>\n",
       "      <td>compliments_plain</td>\n",
       "    </tr>\n",
       "    <tr>\n",
       "      <th>4</th>\n",
       "      <td>0.999608</td>\n",
       "      <td>fans</td>\n",
       "    </tr>\n",
       "    <tr>\n",
       "      <th>15</th>\n",
       "      <td>-0.906812</td>\n",
       "      <td>compliments_funny</td>\n",
       "    </tr>\n",
       "    <tr>\n",
       "      <th>10</th>\n",
       "      <td>0.709860</td>\n",
       "      <td>compliments_more</td>\n",
       "    </tr>\n",
       "    <tr>\n",
       "      <th>6</th>\n",
       "      <td>0.699089</td>\n",
       "      <td>compliments_hot</td>\n",
       "    </tr>\n",
       "    <tr>\n",
       "      <th>12</th>\n",
       "      <td>0.586321</td>\n",
       "      <td>compliments_list</td>\n",
       "    </tr>\n",
       "    <tr>\n",
       "      <th>9</th>\n",
       "      <td>0.224868</td>\n",
       "      <td>average_stars</td>\n",
       "    </tr>\n",
       "    <tr>\n",
       "      <th>11</th>\n",
       "      <td>0.198762</td>\n",
       "      <td>votes_cool</td>\n",
       "    </tr>\n",
       "  </tbody>\n",
       "</table>\n",
       "</div>"
      ],
      "text/plain": [
       "        coef            predictor\n",
       "8  -8.219395  compliments_profile\n",
       "3   6.678037   compliments_writer\n",
       "7   3.366542     compliments_cool\n",
       "5  -3.010809     compliments_note\n",
       "16  2.865184         votes_useful\n",
       "1   2.785620         review_count\n",
       "13 -2.470023          votes_funny\n",
       "2   1.447963     compliments_cute\n",
       "14 -1.265400   compliments_photos\n",
       "0  -1.235623    compliments_plain\n",
       "4   0.999608                 fans\n",
       "15 -0.906812    compliments_funny\n",
       "10  0.709860     compliments_more\n",
       "6   0.699089      compliments_hot\n",
       "12  0.586321     compliments_list\n",
       "9   0.224868        average_stars\n",
       "11  0.198762           votes_cool"
      ]
     },
     "execution_count": 110,
     "metadata": {},
     "output_type": "execute_result"
    }
   ],
   "source": [
    "# So some odd things here:\n",
    "# seems like profile compliments are strong negative predictors, \n",
    "# whereas writer and cool compliments are positive.\n",
    "# note compliments are also netative.\n",
    "# votes on usefulness and the number of reviews are not surprisingly\n",
    "# positive predictors.\n",
    "# it's cool that votes on how funny a user's reviews are the less\n",
    "# likely they are to be elite. Yelp is a serious place!\n",
    "coefs = pd.DataFrame({'coef':ee_best.coef_[0],\n",
    "                      'predictor':X.columns,\n",
    "                      'absc':np.abs(ee_best.coef_[0])})\n",
    "\n",
    "coefs.sort_values('absc', inplace=True, ascending=False)\n",
    "coefs.drop('absc', inplace=True, axis=1)\n",
    "\n",
    "coefs"
   ]
  },
  {
   "cell_type": "code",
   "execution_count": 111,
   "metadata": {
    "collapsed": true
   },
   "outputs": [],
   "source": [
    "# Let's predict instead from a person's review whether they are currently elite.\n",
    "# we'll need the review dataset again, and merge the list of elite years on\n",
    "# user id:\n",
    "revusr = rev.merge(usr[['user_id','elite_list']], on='user_id')"
   ]
  },
  {
   "cell_type": "code",
   "execution_count": 112,
   "metadata": {
    "collapsed": true
   },
   "outputs": [],
   "source": [
    "# make the date a datetime column\n",
    "revusr.date = pd.to_datetime(revusr.date, infer_datetime_format=True)"
   ]
  },
  {
   "cell_type": "code",
   "execution_count": 113,
   "metadata": {
    "collapsed": true
   },
   "outputs": [],
   "source": [
    "# make a column whether they were elite during that review or not using\n",
    "# the date and elite_list column\n",
    "revusr['elite'] = map(lambda x: 1 if x[0] in x[1] else 0,\n",
    "                      zip(revusr.date.dt.year, revusr.elite_list.values))"
   ]
  },
  {
   "cell_type": "code",
   "execution_count": 114,
   "metadata": {
    "collapsed": true
   },
   "outputs": [],
   "source": [
    "# Make the X, y. We will predict their elite status based on what they\n",
    "# are saying in the review.\n",
    "non_preds = [u'user_id', u'review_id', u'votes.cool', u'business_id', u'votes.funny',\n",
    "       u'stars', u'date', u'votes.useful','elite_list','elite']\n",
    "\n",
    "y = revusr.elite.values\n",
    "X = revusr[[c for c in revusr.columns if not c in non_preds]]"
   ]
  },
  {
   "cell_type": "code",
   "execution_count": 115,
   "metadata": {
    "collapsed": false
   },
   "outputs": [
    {
     "name": "stdout",
     "output_type": "stream",
     "text": [
      "(322398, 100)\n"
     ]
    }
   ],
   "source": [
    "# yikes its big.\n",
    "ss = StandardScaler()\n",
    "Xn = ss.fit_transform(X)\n",
    "print Xn.shape"
   ]
  },
  {
   "cell_type": "code",
   "execution_count": 116,
   "metadata": {
    "collapsed": false
   },
   "outputs": [
    {
     "name": "stdout",
     "output_type": "stream",
     "text": [
      "Fitting 5 folds for each of 70 candidates, totalling 350 fits\n"
     ]
    },
    {
     "name": "stderr",
     "output_type": "stream",
     "text": [
      "[Parallel(n_jobs=1)]: Done  49 tasks       | elapsed:  1.4min\n",
      "[Parallel(n_jobs=1)]: Done 199 tasks       | elapsed:  5.5min\n",
      "[Parallel(n_jobs=1)]: Done 350 out of 350 | elapsed:  9.2min finished\n"
     ]
    },
    {
     "data": {
      "text/plain": [
       "GridSearchCV(cv=5, error_score='raise',\n",
       "       estimator=SGDClassifier(alpha=0.0001, average=False, class_weight=None, epsilon=0.1,\n",
       "       eta0=0.0, fit_intercept=True, l1_ratio=0.15,\n",
       "       learning_rate='optimal', loss='hinge', n_iter=5, n_jobs=1,\n",
       "       penalty='l2', power_t=0.5, random_state=None, shuffle=True,\n",
       "       verbose=0, warm_start=False),\n",
       "       fit_params={}, iid=True, n_jobs=1,\n",
       "       param_grid={'penalty': ['l1', 'l2'], 'loss': ['log'], 'alpha': array([  1.00000e-05,   1.50131e-05,   2.25393e-05,   3.38386e-05,\n",
       "         5.08022e-05,   7.62699e-05,   1.14505e-04,   1.71907e-04,\n",
       "         2.58086e-04,   3.87468e-04,   5.81709e-04,   8.73326e-04,\n",
       "         1.31113e-03,   1.96842e-03,...,   1.31113e+00,   1.96842e+00,   2.95521e+00,\n",
       "         4.43669e+00,   6.66085e+00,   1.00000e+01])},\n",
       "       pre_dispatch='2*n_jobs', refit=True, scoring=None, verbose=1)"
      ]
     },
     "execution_count": 116,
     "metadata": {},
     "output_type": "execute_result"
    }
   ],
   "source": [
    "# alright well this one is going to take forever. I'll just search\n",
    "# 35 alphas here for the sake of time.\n",
    "el_rev_p = {\n",
    "    'loss':['log'],\n",
    "    'penalty':['l1','l2'],\n",
    "    'alpha':np.logspace(-5, 1, 35)\n",
    "}\n",
    "\n",
    "el_rev_gs = GridSearchCV(SGDClassifier(), el_rev_p, cv=5, verbose=1)\n",
    "el_rev_gs.fit(Xn, y)\n"
   ]
  },
  {
   "cell_type": "code",
   "execution_count": 117,
   "metadata": {
    "collapsed": false
   },
   "outputs": [
    {
     "name": "stdout",
     "output_type": "stream",
     "text": [
      "0.782619619228\n",
      "{'penalty': 'l1', 'alpha': 0.022539339047347912, 'loss': 'log'}\n"
     ]
    }
   ],
   "source": [
    "el_rev_best = el_rev_gs.best_estimator_\n",
    "print el_rev_gs.best_score_\n",
    "print el_rev_gs.best_params_"
   ]
  },
  {
   "cell_type": "code",
   "execution_count": 119,
   "metadata": {
    "collapsed": false
   },
   "outputs": [
    {
     "name": "stdout",
     "output_type": "stream",
     "text": [
      "baseline: 0.782619619228\n"
     ]
    }
   ],
   "source": [
    "print 'baseline:', 1.-np.mean(y)"
   ]
  },
  {
   "cell_type": "code",
   "execution_count": 120,
   "metadata": {
    "collapsed": false
   },
   "outputs": [
    {
     "name": "stdout",
     "output_type": "stream",
     "text": [
      "[[ 0.  0.  0.  0.  0.  0.  0.  0.  0.  0.  0.  0.  0.  0.  0.  0.  0.  0.\n",
      "   0.  0.  0.  0.  0.  0.  0.  0.  0.  0.  0.  0.  0.  0.  0.  0.  0.  0.\n",
      "   0.  0.  0.  0.  0.  0.  0.  0.  0.  0.  0.  0.  0.  0.  0.  0.  0.  0.\n",
      "   0.  0.  0.  0.  0.  0.  0.  0.  0.  0.  0.  0.  0.  0.  0.  0.  0.  0.\n",
      "   0.  0.  0.  0.  0.  0.  0.  0.  0.  0.  0.  0.  0.  0.  0.  0.  0.  0.\n",
      "   0.  0.  0.  0.  0.  0.  0.  0.  0.  0.]]\n"
     ]
    }
   ],
   "source": [
    "print el_rev_best.coef_"
   ]
  },
  {
   "cell_type": "code",
   "execution_count": 121,
   "metadata": {
    "collapsed": true
   },
   "outputs": [],
   "source": [
    "# Well it looks like, based at least on using the 100 different common \n",
    "# review phrases, I am not able to actually predict whether someone is \n",
    "# an elite user or not when they made the review. I suppose I should\n",
    "# not be too surprised by this result. Perhaps it would have worked\n",
    "# out better if I had more than just these 100 columns of phrases and\n",
    "# could examine the words with more in-depth NLP. Should work, considering\n",
    "# that being a good writer was a predictor of someone being an elite user."
   ]
  },
  {
   "cell_type": "markdown",
   "metadata": {},
   "source": [
    "<img src=\"http://imgur.com/GCAf1UX.png\" style=\"float: left; margin: 25px 15px 0px 0px; height: 25px\">\n",
    "\n",
    "## 4. Find something interesting on your own\n",
    "\n",
    "---\n",
    "\n",
    "You want to impress your superiors at Yelp by doing some investigation into the data on your own. You want to do classification, but you're not sure on what.\n",
    "\n",
    "1. Create a hypothesis or hypotheses about the data based on whatever you are interested in, as long as it is predicting a category of some kind (classification).\n",
    "2. Explore the data visually (ideally related to this hypothesis).\n",
    "3. Build one or more classification models to predict your target variable. **Your modeling should include gridsearching to find optimal model parameters.**\n",
    "4. Evaluate the performance of your model. Explain why your model may have chosen those specific parameters during the gridsearch process.\n",
    "5. Write up what the model tells you. Does it validate or invalidate your hypothesis? Write this up as if for a non-technical audience."
   ]
  },
  {
   "cell_type": "code",
   "execution_count": null,
   "metadata": {
    "collapsed": true
   },
   "outputs": [],
   "source": []
  },
  {
   "cell_type": "markdown",
   "metadata": {},
   "source": [
    "<img src=\"http://imgur.com/GCAf1UX.png\" style=\"float: left; margin: 25px 15px 0px 0px; height: 25px\">\n",
    "\n",
    "## 5. ROC and Precision-recall\n",
    "\n",
    "---\n",
    "\n",
    "Some categories have fewer overall businesses than others. Choose two categories of businesses to predict, one that makes your proportion of target classes as even as possible, and another that has very few businesses and thus makes the target varible imbalanced.\n",
    "\n",
    "1. Create two classification models predicting these categories. Optimize the models and choose variables as you see fit.\n",
    "- Make confusion matrices for your models. Describe the confusion matrices and explain what they tell you about your models' performance.\n",
    "- Make ROC curves for both models. What do the ROC curves describe and what do they tell you about your model?\n",
    "- Make Precision-Recall curves for the models. What do they describe? How do they compare to the ROC curves?\n",
    "- Explain when Precision-Recall may be preferable to ROC. Is that the case in either of your models?"
   ]
  },
  {
   "cell_type": "code",
   "execution_count": 186,
   "metadata": {
    "collapsed": false
   },
   "outputs": [],
   "source": [
    "uc = [''.join([x if x in 'abcdefghijklmnopqrstuvwxyz0123456789' else '_' for x in c.lower()]) for c in unique_categories]"
   ]
  },
  {
   "cell_type": "code",
   "execution_count": 180,
   "metadata": {
    "collapsed": false
   },
   "outputs": [
    {
     "data": {
      "text/plain": [
       "(4132, 380)"
      ]
     },
     "execution_count": 180,
     "metadata": {},
     "output_type": "execute_result"
    }
   ],
   "source": [
    "lv.shape"
   ]
  },
  {
   "cell_type": "code",
   "execution_count": 216,
   "metadata": {
    "collapsed": false,
    "scrolled": false
   },
   "outputs": [],
   "source": [
    "# Lets look at restaurants as the big category and wine as the small one\n",
    "rest = lv.restaurants.values\n",
    "wine = lv.wine_bars.values\n",
    "\n",
    "# remove the categories from the \"las vegas\" dataframe (we wont use city either).\n",
    "lv_nocat = lv[[c for c in lv.columns if not c in uc+['city']]]"
   ]
  },
  {
   "cell_type": "code",
   "execution_count": 197,
   "metadata": {
    "collapsed": false
   },
   "outputs": [],
   "source": [
    "# make the X\n",
    "f = '~ '+' + '.join([c for c in lv_nocat.columns if c != 'city'])+' -1'\n",
    "X = patsy.dmatrix(f, data=lv_nocat, return_type='dataframe')"
   ]
  },
  {
   "cell_type": "code",
   "execution_count": 198,
   "metadata": {
    "collapsed": false
   },
   "outputs": [
    {
     "name": "stdout",
     "output_type": "stream",
     "text": [
      "(4132, 311)\n"
     ]
    },
    {
     "data": {
      "text/plain": [
       "Index([u'hours_friday_close[12am_6am]', u'hours_friday_close[12pm_6pm]',\n",
       "       u'hours_friday_close[6am_12pm]', u'hours_friday_close[6pm_12am]',\n",
       "       u'hours_friday_close[unlisted]', u'hours_friday_open[T.12pm_6pm]',\n",
       "       u'hours_friday_open[T.6am_12pm]', u'hours_friday_open[T.6pm_12am]',\n",
       "       u'hours_friday_open[T.unlisted]', u'hours_monday_close[T.12pm_6pm]',\n",
       "       ...\n",
       "       u'tip_service_good', u'tip_service_great', u'tip_slow_service',\n",
       "       u'tip_staff_friendly', u'tip_staff_great', u'tip_steak_eggs',\n",
       "       u'tip_super_friendly', u'tip_sweet_potato', u'tip_velvet_pancakes',\n",
       "       u'tip_worth_wait'],\n",
       "      dtype='object', length=311)"
      ]
     },
     "execution_count": 198,
     "metadata": {},
     "output_type": "execute_result"
    }
   ],
   "source": [
    "print X.shape\n",
    "X.columns"
   ]
  },
  {
   "cell_type": "code",
   "execution_count": 209,
   "metadata": {
    "collapsed": true
   },
   "outputs": [],
   "source": [
    "# set up logistic regression gridsearches for each\n",
    "grid_params = {\n",
    "    'loss':['log'],\n",
    "    'penalty':['l1','l2'],\n",
    "    'alpha':np.logspace(-5,1,100)\n",
    "}\n",
    "\n",
    "rest_gs = GridSearchCV(SGDClassifier(), grid_params, cv=5, verbose=1)\n"
   ]
  },
  {
   "cell_type": "code",
   "execution_count": 218,
   "metadata": {
    "collapsed": true
   },
   "outputs": [],
   "source": [
    "wine_gs = GridSearchCV(SGDClassifier(), grid_params, cv=5, verbose=1)"
   ]
  },
  {
   "cell_type": "code",
   "execution_count": 210,
   "metadata": {
    "collapsed": false
   },
   "outputs": [],
   "source": [
    "# standardize X\n",
    "ss = StandardScaler()\n",
    "Xn = ss.fit_transform(X)"
   ]
  },
  {
   "cell_type": "code",
   "execution_count": 211,
   "metadata": {
    "collapsed": false
   },
   "outputs": [
    {
     "name": "stdout",
     "output_type": "stream",
     "text": [
      "Fitting 5 folds for each of 200 candidates, totalling 1000 fits\n"
     ]
    },
    {
     "name": "stderr",
     "output_type": "stream",
     "text": [
      "[Parallel(n_jobs=1)]: Done  49 tasks       | elapsed:    1.9s\n",
      "[Parallel(n_jobs=1)]: Done 199 tasks       | elapsed:    7.3s\n",
      "[Parallel(n_jobs=1)]: Done 449 tasks       | elapsed:   17.4s\n",
      "[Parallel(n_jobs=1)]: Done 799 tasks       | elapsed:   31.3s\n",
      "[Parallel(n_jobs=1)]: Done 1000 out of 1000 | elapsed:   39.3s finished\n"
     ]
    },
    {
     "data": {
      "text/plain": [
       "GridSearchCV(cv=5, error_score='raise',\n",
       "       estimator=SGDClassifier(alpha=0.0001, average=False, class_weight=None, epsilon=0.1,\n",
       "       eta0=0.0, fit_intercept=True, l1_ratio=0.15,\n",
       "       learning_rate='optimal', loss='hinge', n_iter=5, n_jobs=1,\n",
       "       penalty='l2', power_t=0.5, random_state=None, shuffle=True,\n",
       "       verbose=0, warm_start=False),\n",
       "       fit_params={}, iid=True, n_jobs=1,\n",
       "       param_grid={'penalty': ['l1', 'l2'], 'loss': ['log'], 'alpha': array([  1.00000e-05,   1.14976e-05, ...,   8.69749e+00,   1.00000e+01])},\n",
       "       pre_dispatch='2*n_jobs', refit=True, scoring=None, verbose=1)"
      ]
     },
     "execution_count": 211,
     "metadata": {},
     "output_type": "execute_result"
    }
   ],
   "source": [
    "# Fit the restaurants gridsearch\n",
    "rest_gs.fit(Xn, rest)"
   ]
  },
  {
   "cell_type": "code",
   "execution_count": 219,
   "metadata": {
    "collapsed": false
   },
   "outputs": [
    {
     "name": "stdout",
     "output_type": "stream",
     "text": [
      "Fitting 5 folds for each of 200 candidates, totalling 1000 fits\n"
     ]
    },
    {
     "name": "stderr",
     "output_type": "stream",
     "text": [
      "[Parallel(n_jobs=1)]: Done  49 tasks       | elapsed:    1.6s\n",
      "[Parallel(n_jobs=1)]: Done 199 tasks       | elapsed:    6.8s\n",
      "[Parallel(n_jobs=1)]: Done 449 tasks       | elapsed:   17.4s\n",
      "[Parallel(n_jobs=1)]: Done 799 tasks       | elapsed:   30.9s\n",
      "[Parallel(n_jobs=1)]: Done 1000 out of 1000 | elapsed:   38.2s finished\n"
     ]
    },
    {
     "data": {
      "text/plain": [
       "GridSearchCV(cv=5, error_score='raise',\n",
       "       estimator=SGDClassifier(alpha=0.0001, average=False, class_weight=None, epsilon=0.1,\n",
       "       eta0=0.0, fit_intercept=True, l1_ratio=0.15,\n",
       "       learning_rate='optimal', loss='hinge', n_iter=5, n_jobs=1,\n",
       "       penalty='l2', power_t=0.5, random_state=None, shuffle=True,\n",
       "       verbose=0, warm_start=False),\n",
       "       fit_params={}, iid=True, n_jobs=1,\n",
       "       param_grid={'penalty': ['l1', 'l2'], 'loss': ['log'], 'alpha': array([  1.00000e-05,   1.14976e-05, ...,   8.69749e+00,   1.00000e+01])},\n",
       "       pre_dispatch='2*n_jobs', refit=True, scoring=None, verbose=1)"
      ]
     },
     "execution_count": 219,
     "metadata": {},
     "output_type": "execute_result"
    }
   ],
   "source": [
    "# fit the wine gridsearch\n",
    "wine_gs.fit(Xn, wine)"
   ]
  },
  {
   "cell_type": "code",
   "execution_count": 220,
   "metadata": {
    "collapsed": false
   },
   "outputs": [
    {
     "name": "stdout",
     "output_type": "stream",
     "text": [
      "0.954017424976 0.651500484027\n",
      "0.980880929332 0.979670861568\n"
     ]
    }
   ],
   "source": [
    "# Check against baseline\n",
    "print rest_gs.best_score_, np.mean(rest)\n",
    "print wine_gs.best_score_, 1. - np.mean(wine)"
   ]
  },
  {
   "cell_type": "code",
   "execution_count": 222,
   "metadata": {
    "collapsed": false
   },
   "outputs": [
    {
     "data": {
      "text/html": [
       "<div>\n",
       "<table border=\"1\" class=\"dataframe\">\n",
       "  <thead>\n",
       "    <tr style=\"text-align: right;\">\n",
       "      <th></th>\n",
       "      <th>coef</th>\n",
       "      <th>predictor</th>\n",
       "    </tr>\n",
       "  </thead>\n",
       "  <tbody>\n",
       "    <tr>\n",
       "      <th>109</th>\n",
       "      <td>2.443069</td>\n",
       "      <td>attributes_takes_reservations</td>\n",
       "    </tr>\n",
       "    <tr>\n",
       "      <th>89</th>\n",
       "      <td>2.155598</td>\n",
       "      <td>attributes_happy_hour</td>\n",
       "    </tr>\n",
       "    <tr>\n",
       "      <th>110</th>\n",
       "      <td>1.598556</td>\n",
       "      <td>attributes_waiter_service</td>\n",
       "    </tr>\n",
       "    <tr>\n",
       "      <th>35</th>\n",
       "      <td>1.299891</td>\n",
       "      <td>hours_thursday_close[T.6pm_12am]</td>\n",
       "    </tr>\n",
       "    <tr>\n",
       "      <th>85</th>\n",
       "      <td>1.258986</td>\n",
       "      <td>attributes_good_for_dinner</td>\n",
       "    </tr>\n",
       "    <tr>\n",
       "      <th>95</th>\n",
       "      <td>1.185533</td>\n",
       "      <td>attributes_music_live</td>\n",
       "    </tr>\n",
       "    <tr>\n",
       "      <th>103</th>\n",
       "      <td>1.185336</td>\n",
       "      <td>attributes_parking_street</td>\n",
       "    </tr>\n",
       "    <tr>\n",
       "      <th>27</th>\n",
       "      <td>1.149885</td>\n",
       "      <td>hours_sunday_close[T.6pm_12am]</td>\n",
       "    </tr>\n",
       "    <tr>\n",
       "      <th>51</th>\n",
       "      <td>1.127153</td>\n",
       "      <td>hours_wednesday_close[T.6pm_12am]</td>\n",
       "    </tr>\n",
       "    <tr>\n",
       "      <th>19</th>\n",
       "      <td>1.078185</td>\n",
       "      <td>hours_saturday_close[T.6pm_12am]</td>\n",
       "    </tr>\n",
       "    <tr>\n",
       "      <th>91</th>\n",
       "      <td>1.067856</td>\n",
       "      <td>attributes_music_background_music</td>\n",
       "    </tr>\n",
       "    <tr>\n",
       "      <th>199</th>\n",
       "      <td>1.066067</td>\n",
       "      <td>rev_service_excellent</td>\n",
       "    </tr>\n",
       "    <tr>\n",
       "      <th>162</th>\n",
       "      <td>1.055839</td>\n",
       "      <td>rev_happy_hour</td>\n",
       "    </tr>\n",
       "    <tr>\n",
       "      <th>74</th>\n",
       "      <td>1.041729</td>\n",
       "      <td>attributes_caters</td>\n",
       "    </tr>\n",
       "    <tr>\n",
       "      <th>43</th>\n",
       "      <td>1.023174</td>\n",
       "      <td>hours_tuesday_close[T.6pm_12am]</td>\n",
       "    </tr>\n",
       "    <tr>\n",
       "      <th>3</th>\n",
       "      <td>1.006965</td>\n",
       "      <td>hours_friday_close[6pm_12am]</td>\n",
       "    </tr>\n",
       "    <tr>\n",
       "      <th>275</th>\n",
       "      <td>1.003379</td>\n",
       "      <td>tip_happy_hour</td>\n",
       "    </tr>\n",
       "    <tr>\n",
       "      <th>259</th>\n",
       "      <td>0.971471</td>\n",
       "      <td>tip_great_atmosphere</td>\n",
       "    </tr>\n",
       "    <tr>\n",
       "      <th>156</th>\n",
       "      <td>0.922556</td>\n",
       "      <td>rev_great_atmosphere</td>\n",
       "    </tr>\n",
       "    <tr>\n",
       "      <th>5</th>\n",
       "      <td>0.907575</td>\n",
       "      <td>hours_friday_open[T.12pm_6pm]</td>\n",
       "    </tr>\n",
       "    <tr>\n",
       "      <th>11</th>\n",
       "      <td>0.906071</td>\n",
       "      <td>hours_monday_close[T.6pm_12am]</td>\n",
       "    </tr>\n",
       "    <tr>\n",
       "      <th>200</th>\n",
       "      <td>0.882566</td>\n",
       "      <td>rev_service_food</td>\n",
       "    </tr>\n",
       "    <tr>\n",
       "      <th>37</th>\n",
       "      <td>0.879395</td>\n",
       "      <td>hours_thursday_open[T.12pm_6pm]</td>\n",
       "    </tr>\n",
       "    <tr>\n",
       "      <th>21</th>\n",
       "      <td>0.874018</td>\n",
       "      <td>hours_saturday_open[T.12pm_6pm]</td>\n",
       "    </tr>\n",
       "    <tr>\n",
       "      <th>148</th>\n",
       "      <td>0.860591</td>\n",
       "      <td>rev_friday_night</td>\n",
       "    </tr>\n",
       "    <tr>\n",
       "      <th>104</th>\n",
       "      <td>0.827614</td>\n",
       "      <td>attributes_parking_valet</td>\n",
       "    </tr>\n",
       "    <tr>\n",
       "      <th>211</th>\n",
       "      <td>0.799571</td>\n",
       "      <td>rev_wait_staff</td>\n",
       "    </tr>\n",
       "    <tr>\n",
       "      <th>22</th>\n",
       "      <td>0.797688</td>\n",
       "      <td>hours_saturday_open[T.6am_12pm]</td>\n",
       "    </tr>\n",
       "    <tr>\n",
       "      <th>100</th>\n",
       "      <td>0.782661</td>\n",
       "      <td>attributes_outdoor_seating</td>\n",
       "    </tr>\n",
       "    <tr>\n",
       "      <th>20</th>\n",
       "      <td>-0.775332</td>\n",
       "      <td>hours_saturday_close[T.unlisted]</td>\n",
       "    </tr>\n",
       "    <tr>\n",
       "      <th>...</th>\n",
       "      <td>...</td>\n",
       "      <td>...</td>\n",
       "    </tr>\n",
       "    <tr>\n",
       "      <th>276</th>\n",
       "      <td>-0.034133</td>\n",
       "      <td>tip_highly_recommend</td>\n",
       "    </tr>\n",
       "    <tr>\n",
       "      <th>258</th>\n",
       "      <td>-0.031543</td>\n",
       "      <td>tip_good_service</td>\n",
       "    </tr>\n",
       "    <tr>\n",
       "      <th>234</th>\n",
       "      <td>-0.028546</td>\n",
       "      <td>tip_don_come</td>\n",
       "    </tr>\n",
       "    <tr>\n",
       "      <th>169</th>\n",
       "      <td>-0.028497</td>\n",
       "      <td>rev_just_right</td>\n",
       "    </tr>\n",
       "    <tr>\n",
       "      <th>250</th>\n",
       "      <td>0.028282</td>\n",
       "      <td>tip_free_wifi</td>\n",
       "    </tr>\n",
       "    <tr>\n",
       "      <th>280</th>\n",
       "      <td>0.028015</td>\n",
       "      <td>tip_long_wait</td>\n",
       "    </tr>\n",
       "    <tr>\n",
       "      <th>204</th>\n",
       "      <td>-0.025513</td>\n",
       "      <td>rev_staff_friendly</td>\n",
       "    </tr>\n",
       "    <tr>\n",
       "      <th>210</th>\n",
       "      <td>-0.023434</td>\n",
       "      <td>rev_ve_tried</td>\n",
       "    </tr>\n",
       "    <tr>\n",
       "      <th>128</th>\n",
       "      <td>0.023282</td>\n",
       "      <td>rev_definitely_recommend</td>\n",
       "    </tr>\n",
       "    <tr>\n",
       "      <th>86</th>\n",
       "      <td>0.021164</td>\n",
       "      <td>attributes_good_for_latenight</td>\n",
       "    </tr>\n",
       "    <tr>\n",
       "      <th>184</th>\n",
       "      <td>0.020871</td>\n",
       "      <td>rev_place_good</td>\n",
       "    </tr>\n",
       "    <tr>\n",
       "      <th>295</th>\n",
       "      <td>-0.019142</td>\n",
       "      <td>tip_potato_fries</td>\n",
       "    </tr>\n",
       "    <tr>\n",
       "      <th>127</th>\n",
       "      <td>0.017857</td>\n",
       "      <td>rev_definitely_come</td>\n",
       "    </tr>\n",
       "    <tr>\n",
       "      <th>241</th>\n",
       "      <td>-0.014892</td>\n",
       "      <td>tip_favorite_place</td>\n",
       "    </tr>\n",
       "    <tr>\n",
       "      <th>115</th>\n",
       "      <td>-0.014416</td>\n",
       "      <td>rev_15_minutes</td>\n",
       "    </tr>\n",
       "    <tr>\n",
       "      <th>93</th>\n",
       "      <td>0.011177</td>\n",
       "      <td>attributes_music_jukebox</td>\n",
       "    </tr>\n",
       "    <tr>\n",
       "      <th>144</th>\n",
       "      <td>0.010945</td>\n",
       "      <td>rev_food_just</td>\n",
       "    </tr>\n",
       "    <tr>\n",
       "      <th>217</th>\n",
       "      <td>0.005537</td>\n",
       "      <td>tip_awesome_service</td>\n",
       "    </tr>\n",
       "    <tr>\n",
       "      <th>269</th>\n",
       "      <td>0.005248</td>\n",
       "      <td>tip_great_service</td>\n",
       "    </tr>\n",
       "    <tr>\n",
       "      <th>291</th>\n",
       "      <td>-0.003403</td>\n",
       "      <td>tip_place_awesome</td>\n",
       "    </tr>\n",
       "    <tr>\n",
       "      <th>249</th>\n",
       "      <td>0.001962</td>\n",
       "      <td>tip_food_service</td>\n",
       "    </tr>\n",
       "    <tr>\n",
       "      <th>224</th>\n",
       "      <td>-0.000263</td>\n",
       "      <td>tip_bloody_mary</td>\n",
       "    </tr>\n",
       "    <tr>\n",
       "      <th>97</th>\n",
       "      <td>0.000000</td>\n",
       "      <td>attributes_noise_level</td>\n",
       "    </tr>\n",
       "    <tr>\n",
       "      <th>72</th>\n",
       "      <td>0.000000</td>\n",
       "      <td>attributes_byob_corkage</td>\n",
       "    </tr>\n",
       "    <tr>\n",
       "      <th>70</th>\n",
       "      <td>0.000000</td>\n",
       "      <td>attributes_attire</td>\n",
       "    </tr>\n",
       "    <tr>\n",
       "      <th>107</th>\n",
       "      <td>0.000000</td>\n",
       "      <td>attributes_smoking</td>\n",
       "    </tr>\n",
       "    <tr>\n",
       "      <th>112</th>\n",
       "      <td>0.000000</td>\n",
       "      <td>attributes_wi_fi</td>\n",
       "    </tr>\n",
       "    <tr>\n",
       "      <th>60</th>\n",
       "      <td>0.000000</td>\n",
       "      <td>attributes_alcohol</td>\n",
       "    </tr>\n",
       "    <tr>\n",
       "      <th>59</th>\n",
       "      <td>0.000000</td>\n",
       "      <td>attributes_ages_allowed</td>\n",
       "    </tr>\n",
       "    <tr>\n",
       "      <th>106</th>\n",
       "      <td>0.000000</td>\n",
       "      <td>attributes_price_range</td>\n",
       "    </tr>\n",
       "  </tbody>\n",
       "</table>\n",
       "<p>311 rows × 2 columns</p>\n",
       "</div>"
      ],
      "text/plain": [
       "         coef                          predictor\n",
       "109  2.443069      attributes_takes_reservations\n",
       "89   2.155598              attributes_happy_hour\n",
       "110  1.598556          attributes_waiter_service\n",
       "35   1.299891   hours_thursday_close[T.6pm_12am]\n",
       "85   1.258986         attributes_good_for_dinner\n",
       "95   1.185533              attributes_music_live\n",
       "103  1.185336          attributes_parking_street\n",
       "27   1.149885     hours_sunday_close[T.6pm_12am]\n",
       "51   1.127153  hours_wednesday_close[T.6pm_12am]\n",
       "19   1.078185   hours_saturday_close[T.6pm_12am]\n",
       "91   1.067856  attributes_music_background_music\n",
       "199  1.066067              rev_service_excellent\n",
       "162  1.055839                     rev_happy_hour\n",
       "74   1.041729                  attributes_caters\n",
       "43   1.023174    hours_tuesday_close[T.6pm_12am]\n",
       "3    1.006965       hours_friday_close[6pm_12am]\n",
       "275  1.003379                     tip_happy_hour\n",
       "259  0.971471               tip_great_atmosphere\n",
       "156  0.922556               rev_great_atmosphere\n",
       "5    0.907575      hours_friday_open[T.12pm_6pm]\n",
       "11   0.906071     hours_monday_close[T.6pm_12am]\n",
       "200  0.882566                   rev_service_food\n",
       "37   0.879395    hours_thursday_open[T.12pm_6pm]\n",
       "21   0.874018    hours_saturday_open[T.12pm_6pm]\n",
       "148  0.860591                   rev_friday_night\n",
       "104  0.827614           attributes_parking_valet\n",
       "211  0.799571                     rev_wait_staff\n",
       "22   0.797688    hours_saturday_open[T.6am_12pm]\n",
       "100  0.782661         attributes_outdoor_seating\n",
       "20  -0.775332   hours_saturday_close[T.unlisted]\n",
       "..        ...                                ...\n",
       "276 -0.034133               tip_highly_recommend\n",
       "258 -0.031543                   tip_good_service\n",
       "234 -0.028546                       tip_don_come\n",
       "169 -0.028497                     rev_just_right\n",
       "250  0.028282                      tip_free_wifi\n",
       "280  0.028015                      tip_long_wait\n",
       "204 -0.025513                 rev_staff_friendly\n",
       "210 -0.023434                       rev_ve_tried\n",
       "128  0.023282           rev_definitely_recommend\n",
       "86   0.021164      attributes_good_for_latenight\n",
       "184  0.020871                     rev_place_good\n",
       "295 -0.019142                   tip_potato_fries\n",
       "127  0.017857                rev_definitely_come\n",
       "241 -0.014892                 tip_favorite_place\n",
       "115 -0.014416                     rev_15_minutes\n",
       "93   0.011177           attributes_music_jukebox\n",
       "144  0.010945                      rev_food_just\n",
       "217  0.005537                tip_awesome_service\n",
       "269  0.005248                  tip_great_service\n",
       "291 -0.003403                  tip_place_awesome\n",
       "249  0.001962                   tip_food_service\n",
       "224 -0.000263                    tip_bloody_mary\n",
       "97   0.000000             attributes_noise_level\n",
       "72   0.000000            attributes_byob_corkage\n",
       "70   0.000000                  attributes_attire\n",
       "107  0.000000                 attributes_smoking\n",
       "112  0.000000                   attributes_wi_fi\n",
       "60   0.000000                 attributes_alcohol\n",
       "59   0.000000            attributes_ages_allowed\n",
       "106  0.000000             attributes_price_range\n",
       "\n",
       "[311 rows x 2 columns]"
      ]
     },
     "execution_count": 222,
     "metadata": {},
     "output_type": "execute_result"
    }
   ],
   "source": [
    "# What predicts wine bars? reservations, hapy hours, waiter service... looks legit.\n",
    "coefs = pd.DataFrame({'coef':wine_gs.best_estimator_.coef_[0],\n",
    "                      'predictor':X.columns,\n",
    "                      'absc':np.abs(wine_gs.best_estimator_.coef_[0])})\n",
    "\n",
    "coefs.sort_values('absc', inplace=True, ascending=False)\n",
    "coefs.drop('absc', inplace=True, axis=1)\n",
    "\n",
    "coefs"
   ]
  },
  {
   "cell_type": "code",
   "execution_count": 223,
   "metadata": {
    "collapsed": true
   },
   "outputs": [],
   "source": [
    "# make the confusion matrices\n",
    "rest_cm = pd.crosstab(rest, rest_gs.predict(Xn), \n",
    "                       rownames=['Actual'], colnames=['Predicted'], \n",
    "                       margins=True)\n",
    "\n",
    "wine_cm = pd.crosstab(wine, wine_gs.predict(Xn), \n",
    "                      rownames=['Actual'], colnames=['Predicted'], \n",
    "                      margins=True)"
   ]
  },
  {
   "cell_type": "code",
   "execution_count": 224,
   "metadata": {
    "collapsed": false
   },
   "outputs": [
    {
     "data": {
      "text/html": [
       "<div>\n",
       "<table border=\"1\" class=\"dataframe\">\n",
       "  <thead>\n",
       "    <tr style=\"text-align: right;\">\n",
       "      <th>Predicted</th>\n",
       "      <th>0</th>\n",
       "      <th>1</th>\n",
       "      <th>All</th>\n",
       "    </tr>\n",
       "    <tr>\n",
       "      <th>Actual</th>\n",
       "      <th></th>\n",
       "      <th></th>\n",
       "      <th></th>\n",
       "    </tr>\n",
       "  </thead>\n",
       "  <tbody>\n",
       "    <tr>\n",
       "      <th>0</th>\n",
       "      <td>1376</td>\n",
       "      <td>64</td>\n",
       "      <td>1440</td>\n",
       "    </tr>\n",
       "    <tr>\n",
       "      <th>1</th>\n",
       "      <td>72</td>\n",
       "      <td>2620</td>\n",
       "      <td>2692</td>\n",
       "    </tr>\n",
       "    <tr>\n",
       "      <th>All</th>\n",
       "      <td>1448</td>\n",
       "      <td>2684</td>\n",
       "      <td>4132</td>\n",
       "    </tr>\n",
       "  </tbody>\n",
       "</table>\n",
       "</div>"
      ],
      "text/plain": [
       "Predicted     0     1   All\n",
       "Actual                     \n",
       "0          1376    64  1440\n",
       "1            72  2620  2692\n",
       "All        1448  2684  4132"
      ]
     },
     "execution_count": 224,
     "metadata": {},
     "output_type": "execute_result"
    }
   ],
   "source": [
    "# For restaurants the model is almost always getting it right, whether it be\n",
    "# true positives or true negatives.\n",
    "rest_cm"
   ]
  },
  {
   "cell_type": "code",
   "execution_count": 225,
   "metadata": {
    "collapsed": false
   },
   "outputs": [
    {
     "data": {
      "text/html": [
       "<div>\n",
       "<table border=\"1\" class=\"dataframe\">\n",
       "  <thead>\n",
       "    <tr style=\"text-align: right;\">\n",
       "      <th>Predicted</th>\n",
       "      <th>0</th>\n",
       "      <th>1</th>\n",
       "      <th>All</th>\n",
       "    </tr>\n",
       "    <tr>\n",
       "      <th>Actual</th>\n",
       "      <th></th>\n",
       "      <th></th>\n",
       "      <th></th>\n",
       "    </tr>\n",
       "  </thead>\n",
       "  <tbody>\n",
       "    <tr>\n",
       "      <th>0</th>\n",
       "      <td>4032</td>\n",
       "      <td>16</td>\n",
       "      <td>4048</td>\n",
       "    </tr>\n",
       "    <tr>\n",
       "      <th>1</th>\n",
       "      <td>56</td>\n",
       "      <td>28</td>\n",
       "      <td>84</td>\n",
       "    </tr>\n",
       "    <tr>\n",
       "      <th>All</th>\n",
       "      <td>4088</td>\n",
       "      <td>44</td>\n",
       "      <td>4132</td>\n",
       "    </tr>\n",
       "  </tbody>\n",
       "</table>\n",
       "</div>"
      ],
      "text/plain": [
       "Predicted     0   1   All\n",
       "Actual                   \n",
       "0          4032  16  4048\n",
       "1            56  28    84\n",
       "All        4088  44  4132"
      ]
     },
     "execution_count": 225,
     "metadata": {},
     "output_type": "execute_result"
    }
   ],
   "source": [
    "# For wine bars, it tends to miss more than it \"should\". It only guesses\n",
    "# that something is a wine bar 44 times, when there are in fact 84 \n",
    "# wine bars. This is likely because there are SO many more other categories.\n",
    "# It's actually great that it can get 28 of them, considering the crazy\n",
    "# imbalance.\n",
    "wine_cm"
   ]
  },
  {
   "cell_type": "code",
   "execution_count": 240,
   "metadata": {
    "collapsed": true
   },
   "outputs": [],
   "source": [
    "# Write a function for getting the stats required to plot a ROC\n",
    "# and precision-recall curve.\n",
    "from sklearn.metrics import (roc_auc_score, roc_curve, precision_recall_curve, \n",
    "                             average_precision_score, f1_score, auc)\n",
    "\n",
    "def get_stats(lr, X, y):\n",
    "\n",
    "    y_pp = lr.predict_proba(X)[:, 1]\n",
    "    y_pred = lr.predict(X)\n",
    "\n",
    "    fpr_, tpr_, _ = roc_curve(y, y_pp)\n",
    "    auc_ = auc(fpr_, tpr_)\n",
    "\n",
    "    precision, recall, _ = precision_recall_curve(y, y_pp)\n",
    "    avg_precision = average_precision_score(y, y_pp)\n",
    "    f1 = f1_score(y, y_pred)\n",
    "    \n",
    "    return fpr_, tpr_, auc_, precision, recall, avg_precision, f1"
   ]
  },
  {
   "cell_type": "code",
   "execution_count": 228,
   "metadata": {
    "collapsed": true
   },
   "outputs": [],
   "source": [
    "# write a function to plot the ROC curve\n",
    "def plot_roc(title, fpr_, tpr_, auc_, acc_):\n",
    "    # ROC\n",
    "\n",
    "    fig, axr = plt.subplots(figsize=(10,8))\n",
    "    \n",
    "    axr.plot(fpr_, tpr_, label='ROC (area = %0.2f)' % auc_,\n",
    "             color='purple', linewidth=4,\n",
    "             alpha=0.7)\n",
    "    axr.plot([0, 1], [0, 1], color='grey', ls='dashed',\n",
    "             alpha=0.9, linewidth=4, label='baseline accuracy = %0.2f' % acc_)\n",
    "\n",
    "    axr.set_xlim([-0.05, 1.05])\n",
    "    axr.set_ylim([0.0, 1.05])\n",
    "    axr.set_xlabel('false positive rate', fontsize=16)\n",
    "    axr.set_ylabel('true positive rate', fontsize=16)\n",
    "    axr.set_title(title+'\\n', fontsize=20)\n",
    "\n",
    "    axr.legend(loc=\"lower right\", fontsize=16)\n",
    "    \n",
    "    plt.show()\n"
   ]
  },
  {
   "cell_type": "code",
   "execution_count": 233,
   "metadata": {
    "collapsed": false
   },
   "outputs": [],
   "source": [
    "rest_fpr, rest_tpr, rest_auc, rest_prec, rest_rec, rest_avgp, rest_f1 = get_stats(rest_gs.best_estimator_,\n",
    "                                                                                  Xn, rest)"
   ]
  },
  {
   "cell_type": "code",
   "execution_count": 234,
   "metadata": {
    "collapsed": false
   },
   "outputs": [
    {
     "data": {
      "image/png": "[encoded data removed]",
      "text/plain": [
       "<matplotlib.figure.Figure at 0x11a599450>"
      ]
     },
     "metadata": {
      "image/png": {
       "height": 536,
       "width": 681
      }
     },
     "output_type": "display_data"
    }
   ],
   "source": [
    "# The restaurants ROC curve is very, very good. This means our model is performing great.\n",
    "# (Of course, this is the ROC curve on the training data. It would be more appropriate\n",
    "# to plot this on testing data - but i'm lazy.)\n",
    "plot_roc('Rest ROC', rest_fpr, rest_tpr, rest_auc, np.mean(rest))"
   ]
  },
  {
   "cell_type": "code",
   "execution_count": 235,
   "metadata": {
    "collapsed": true
   },
   "outputs": [],
   "source": [
    "wine_fpr, wine_tpr, wine_auc, wine_prec, wine_rec, wine_avgp, wine_f1 = get_stats(wine_gs.best_estimator_,\n",
    "                                                                                  Xn, wine)"
   ]
  },
  {
   "cell_type": "code",
   "execution_count": 236,
   "metadata": {
    "collapsed": false
   },
   "outputs": [
    {
     "data": {
      "image/png": "[encoded data removed]",
      "text/plain": [
       "<matplotlib.figure.Figure at 0x121f78390>"
      ]
     },
     "metadata": {
      "image/png": {
       "height": 536,
       "width": 681
      }
     },
     "output_type": "display_data"
    }
   ],
   "source": [
    "# The Wine ROC is ok, but not as good as the restaurants one. It looks like\n",
    "# we can get a lot of them correct without much sacrifice in false positive rate,\n",
    "# but eventually we stop getting them right at a faster rate than \n",
    "# false positives increase.\n",
    "plot_roc('Wine ROC', wine_fpr, wine_tpr, wine_auc, 1.-np.mean(rest))"
   ]
  },
  {
   "cell_type": "code",
   "execution_count": 237,
   "metadata": {
    "collapsed": true
   },
   "outputs": [],
   "source": [
    "def plot_pr(title, rec_, pre_, avgp_, f1_):\n",
    "    \n",
    "    fig, axr = plt.subplots(figsize=(10,8))\n",
    "\n",
    "    axr.plot(rec_, pre_, label='Avg. precision (area = %0.2f)' % avgp_,\n",
    "             color='purple', linewidth=4,\n",
    "             alpha=0.7)\n",
    "\n",
    "    axr.set_xlim([-0.05, 1.05])\n",
    "    axr.set_ylim([0.0, 1.05])\n",
    "    axr.set_xlabel('recall, TP/(TP+FN)', fontsize=16)\n",
    "    axr.set_ylabel('precision, TP/(TP+FP)', fontsize=16)\n",
    "    axr.set_title(title+'\\n', fontsize=20)\n",
    "\n",
    "    axr.annotate('F1-score = %0.2f' % f1_, xy=(0.85, 0.85),\n",
    "                 xycoords='axes fraction',\n",
    "                 xytext=(0.85, 0.85), textcoords='axes fraction',\n",
    "                 horizontalalignment='center', verticalalignment='center',\n",
    "                 fontsize=18, fontweight='bold')\n",
    "\n",
    "    axr.legend(loc=\"upper right\", fontsize=16)\n",
    "    \n",
    "    plt.show()"
   ]
  },
  {
   "cell_type": "code",
   "execution_count": 238,
   "metadata": {
    "collapsed": false
   },
   "outputs": [
    {
     "data": {
      "image/png": "[encoded data removed]",
      "text/plain": [
       "<matplotlib.figure.Figure at 0x11a53bc90>"
      ]
     },
     "metadata": {
      "image/png": {
       "height": 536,
       "width": 681
      }
     },
     "output_type": "display_data"
    }
   ],
   "source": [
    "# Precision recall for restaurants is also extremely good.\n",
    "plot_pr('Rest PR curve', rest_rec, rest_prec, rest_avgp, rest_f1)"
   ]
  },
  {
   "cell_type": "code",
   "execution_count": 239,
   "metadata": {
    "collapsed": false
   },
   "outputs": [
    {
     "data": {
      "image/png": "[encoded data removed]",
      "text/plain": [
       "<matplotlib.figure.Figure at 0x1193f54d0>"
      ]
     },
     "metadata": {
      "image/png": {
       "height": 536,
       "width": 681
      }
     },
     "output_type": "display_data"
    }
   ],
   "source": [
    "# For wine bars it's not as good. This is saying that we are basically\n",
    "# trading off our ability to get a given guess that a business is a wine bar\n",
    "# correct with the amount of wine bars we capture. That is to say, the more\n",
    "# wine bars we capture, the worse we do at guessing, nearly evenly (in fact,\n",
    "# it looks like we get worse at guessing correctly faster than we start to\n",
    "# collect all the true positives out there). \n",
    "plot_pr('Wine PR curve', wine_rec, wine_prec, wine_avgp, wine_f1)"
   ]
  },
  {
   "cell_type": "code",
   "execution_count": 241,
   "metadata": {
    "collapsed": true
   },
   "outputs": [],
   "source": [
    "# Precision recall is preferable for the wine bar dataset if we are interested specifically\n",
    "# in how well we detect wine bars, and don't particularly care about getting NOT wine bars\n",
    "# right in equal measure. \n",
    "# For example, it's not that impressive for me to see the name of a business and declare\n",
    "# that it is not a wine bar without actually seeing it. Most businesses aren't wine bars.\n",
    "# The more interesting thing is if my guesses that something is a wine bar are correct when\n",
    "# i guess that they are (precision). Of course, if someone gave me a list of 1000 establishments\n",
    "# and I only guessed that one was a wine bar once, and I was right, that (while possibly impressive),\n",
    "# is not punishing me for being overly conservative. That's why we adjust the precision\n",
    "# by the recall: how many of the wine bars out there was I able to capture when I was guessing?\n",
    "# For instances where the positive class (wine bar, in this case) is the class of particular \n",
    "# interest (not-wine-bars isn't a very interesting \"category\"), then precision-recall is\n",
    "# a better metric for looking at performance of a model. With ROC, the classes are both \n",
    "# emphasized equally, and so the one that dominates in proportion will also dominate in \n",
    "# its impact on the score."
   ]
  },
  {
   "cell_type": "code",
   "execution_count": null,
   "metadata": {
    "collapsed": true
   },
   "outputs": [],
   "source": []
  }
 ],
 "metadata": {
  "kernelspec": {
   "display_name": "Python 2",
   "language": "python",
   "name": "python2"
  },
  "language_info": {
   "codemirror_mode": {
    "name": "ipython",
    "version": 2
   },
   "file_extension": ".py",
   "mimetype": "text/x-python",
   "name": "python",
   "nbconvert_exporter": "python",
   "pygments_lexer": "ipython2",
   "version": "2.7.12"
  }
 },
 "nbformat": 4,
 "nbformat_minor": 0
}
