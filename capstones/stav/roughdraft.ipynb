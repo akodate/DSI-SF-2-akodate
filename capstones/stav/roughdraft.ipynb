{
 "cells": [
  {
   "cell_type": "code",
   "execution_count": 73,
   "metadata": {
    "collapsed": false
   },
   "outputs": [],
   "source": [
    "# import sys\n",
    "# reload(sys)\n",
    "# sys.setdefaultencoding(\"utf-8\")\n",
    "\n",
    "import pandas as pd\n",
    "import numpy as np\n",
    "import seaborn as sns\n",
    "import matplotlib.pyplot as plt\n",
    "%config InlineBackend.figure_format = 'retina'\n",
    "%matplotlib inline\n",
    "#  !pip install levenshtein"
   ]
  },
  {
   "cell_type": "code",
   "execution_count": 2,
   "metadata": {
    "collapsed": false
   },
   "outputs": [],
   "source": [
    "paths = [\n",
    "    'https://raw.githubusercontent.com/ericfischer/housing-inventory/master/craigslist-2003',\n",
    "    'https://raw.githubusercontent.com/ericfischer/housing-inventory/master/craigslist-2004',\n",
    "    'https://raw.githubusercontent.com/ericfischer/housing-inventory/master/craigslist-2005',\n",
    "    'https://raw.githubusercontent.com/ericfischer/housing-inventory/master/craigslist-2006',\n",
    "    'https://raw.githubusercontent.com/ericfischer/housing-inventory/master/craigslist-2007',\n",
    "    'https://raw.githubusercontent.com/ericfischer/housing-inventory/master/craigslist-2008',\n",
    "    'https://raw.githubusercontent.com/ericfischer/housing-inventory/master/craigslist-2009',\n",
    "    'https://raw.githubusercontent.com/ericfischer/housing-inventory/master/craigslist-2010',\n",
    "    'https://raw.githubusercontent.com/ericfischer/housing-inventory/master/craigslist-2011',\n",
    "    'https://raw.githubusercontent.com/ericfischer/housing-inventory/master/craigslist-2012',\n",
    "    'https://raw.githubusercontent.com/ericfischer/housing-inventory/master/craigslist-2013',\n",
    "    'https://raw.githubusercontent.com/ericfischer/housing-inventory/master/craigslist-2014',\n",
    "    'https://raw.githubusercontent.com/ericfischer/housing-inventory/master/craigslist-2015',\n",
    "    'https://raw.githubusercontent.com/ericfischer/housing-inventory/master/craigslist-2016']\n",
    "\n",
    "# list of paths where our data is located"
   ]
  },
  {
   "cell_type": "code",
   "execution_count": 3,
   "metadata": {
    "collapsed": false
   },
   "outputs": [],
   "source": [
    "import requests\n",
    "listings = []\n",
    "for i in paths:\n",
    "    listings.append(requests.get(i).text)   # create listings from raw data"
   ]
  },
  {
   "cell_type": "code",
   "execution_count": 4,
   "metadata": {
    "collapsed": false
   },
   "outputs": [],
   "source": [
    "#listings[0]"
   ]
  },
  {
   "cell_type": "code",
   "execution_count": 5,
   "metadata": {
    "collapsed": false,
    "scrolled": false
   },
   "outputs": [
    {
     "name": "stdout",
     "output_type": "stream",
     "text": [
      "2003 count: 497\n",
      "2004 count: 6434\n",
      "2005 count: 15456\n",
      "2006 count: 4530\n",
      "2007 count: 890\n",
      "2008 count: 487\n",
      "2009 count: 195\n",
      "2010 count: 99\n",
      "2011 count: 1486\n"
     ]
    }
   ],
   "source": [
    "rentals_pre2012 = {}   # create the pre2012 data\n",
    "a = 2003\n",
    "for rents in listings:    #iterate through each year up until 2012\n",
    "    if a == 2012:\n",
    "        break\n",
    "    rents = rents.split('\\n')   #split on new line, separate listings\n",
    "    rentals_pre2012[a] = []\n",
    "    for rent in rents:\n",
    "        rent = rent.lstrip()\n",
    "        rent = rent.rstrip()\n",
    "        if rent.startswith('$') == True:\n",
    "            rentals_pre2012[a].append(rent)\n",
    "    a = a + 1    # create listings for every year\n",
    "    \n",
    "for i in rentals_pre2012:\n",
    "    print i, 'count:', len(rentals_pre2012[i])\n",
    "    \n",
    "    # count how many listings with a dollar sign in the listings for pre 2012"
   ]
  },
  {
   "cell_type": "code",
   "execution_count": 7,
   "metadata": {
    "collapsed": false
   },
   "outputs": [
    {
     "name": "stdout",
     "output_type": "stream",
     "text": [
      "2016 count: 2499\n",
      "2012 count: 2289\n",
      "2013 count: 782\n",
      "2014 count: 2230\n",
      "2015 count: 2035\n"
     ]
    }
   ],
   "source": [
    "# count how many listings with a dollar sign in the listings for post 2012\n",
    "a = 2012\n",
    "rentals_post2012 = {}\n",
    "for rents in listings[9:]:\n",
    "    rents = rents.split('\\n')\n",
    "    rentals_post2012[a] = []\n",
    "    for rent in rents:\n",
    "        rent = rent.lstrip()\n",
    "        rent = rent.rstrip()\n",
    "        if '$' in rent:\n",
    "            rentals_post2012[a].append(rent)\n",
    "    a = a + 1\n",
    "\n",
    "for i in rentals_post2012:\n",
    "    print i, 'count:', len(rentals_post2012[i])"
   ]
  },
  {
   "cell_type": "code",
   "execution_count": 8,
   "metadata": {
    "collapsed": false
   },
   "outputs": [
    {
     "data": {
      "text/plain": [
       "[u'$925 - Affordable Renovated Studio (downtown / civic / van ness) pic',\n",
       " u'$1100 / 1br - ~~1 Bd. Apart. w/ Views of the S.F. Bay Available Now:)',\n",
       " u'$1650 / 2br - 2 bedroom & 1 bathroom apt...',\n",
       " u'$2300 / 3br - 3 Bdrm / 2 Baths / Back Yard/Deck Apt. for Rent (noe valley)',\n",
       " u'$1795 / 1br - Presido Heights Large Beautiful 1Br Open House 1/7Sat&amp;1/8Sun 2-4:0 (laurel hts / presidio)',\n",
       " u'$1795 / 1br - Pacific Heights Elegant Veiw Remodeled OpenHouse 1/7Sat&and 1/8Sun 2-4 (pacific heights)',\n",
       " u'$1290 / 1br - Large SF 1-Bedroom Apartment \\u2013 TAKE PHOTO TOUR! (USF / panhandle)',\n",
       " u'$1050 - Large SF Studio Apartment \\u2013 TAKE PHOTO TOUR! (USF / panhandle)',\n",
       " u'$1095 / 1br - 1BED 1BATH APARTMENT NEW PAINT AND DOUBLE PANE WINDOWS!!!!! (sunset / parkside) pic',\n",
       " u'$1650 / 2br - top floor, hardwood, sunny, no pets*OPEN HOUSE* (haight ashbury) pic']"
      ]
     },
     "execution_count": 8,
     "metadata": {},
     "output_type": "execute_result"
    }
   ],
   "source": [
    "rentals_pre2012[2005][0:10]   # check out what our data looks like"
   ]
  },
  {
   "cell_type": "code",
   "execution_count": 9,
   "metadata": {
    "collapsed": false,
    "scrolled": true
   },
   "outputs": [
    {
     "data": {
      "text/plain": [
       "[u'GORGEOUS 1BEDROOM 1BATH PENTHOUSE - $2790 / 1br - (SOMA / south beach) pic',\n",
       " u'AVAILABLE NOW! SPACIOUS 3BR 2BA - $3510 / 3br - (bernal heights) pic',\n",
       " u'1 Bedroom Apt above bar in prime location - $1995 / 1br - 550ft\\xb2 - (mission district)',\n",
       " u'Brand New Luxury Community- Available~~ Pets OK - $2735 / 1br - (SOMA / south beach) pic',\n",
       " u'SEE TODAY*New Bathroom&Kitchen*Hardwood*Granite*Larkin & Post St - $1195 / 200ft\\xb2 - (lower nob hill) pic',\n",
       " u'*See 1-4 today*Quiet*Hardwood *nr BART*Larkin St. - $1495 / 1br - 500ft\\xb2 - (downtown / civic / van ness) pic',\n",
       " u'Charming 3 BR/2 BA Sunset home for rent - AVAILABLE ASAP - $2675 / 3br - (sunset / parkside) pic',\n",
       " u'Sunset- Spacious 1bd/1ba - 1 bedroom/1bathroom - $1500 (sunset / parkside) pic',\n",
       " u'In Law Master Bedroom w/ Private Bath - 34th Ave Quintara & Rivera - $650 (sunset / parkside)',\n",
       " u'Brand newSpacious, Luxury 2br/2ba Apt. Available Now.. - $3065 / 2br - (ingleside / SFSU / CCSF) pic']"
      ]
     },
     "execution_count": 9,
     "metadata": {},
     "output_type": "execute_result"
    }
   ],
   "source": [
    "rentals_post2012[2012][0:10]    #check out data"
   ]
  },
  {
   "cell_type": "code",
   "execution_count": 11,
   "metadata": {
    "collapsed": false,
    "scrolled": false
   },
   "outputs": [],
   "source": [
    "# # prase through the listings and create our data dictionarys\n",
    "# import re\n",
    "# price = {}\n",
    "# br = {}\n",
    "# description = {}\n",
    "# district = {}\n",
    "# districts_new_set = []\n",
    "# for a in range(2003,2012):\n",
    "#     price[a] = []    # initiate key of each year\n",
    "#     br[a] = []\n",
    "#     description[a] = []\n",
    "#     district[a] = []\n",
    "    \n",
    "#     for i in rentals_pre2012[a]:\n",
    "#         i = i.lower()\n",
    "#         i.split()[0]\n",
    "            \n",
    "#         price[a].append(i.split()[0])    # append our prices\n",
    "        \n",
    "#         if 'studio' in i:\n",
    "#             br[a].append('1br')\n",
    "#         else:\n",
    "#             br[a].append(i.split()[2])    # record number of bedrooms\n",
    "            \n",
    "            \n",
    "            \n",
    "#         my_split = i.split('-')\n",
    "#         if len(my_split) > 1:\n",
    "#             description[a].append(my_split[1])\n",
    "        \n",
    "         \n",
    "        \n",
    "                \n",
    "                \n",
    "# for i,b,d in zip(price,br,district):\n",
    "#       print 'year:', i,'price:', len(price[i]),'br:', len(br[b]),'district:', len(district[b]), 'description:',len(description[b])\n"
   ]
  },
  {
   "cell_type": "code",
   "execution_count": 36,
   "metadata": {
    "collapsed": false
   },
   "outputs": [],
   "source": [
    "# -*- coding: utf-8 -*-\n",
    "import Levenshtein\n",
    "\n",
    "from nltk.util import ngrams\n",
    "\n",
    "districts_set = ['inner richmond','lower nob hill','inner' 'japantown', 'glen park', 'western addition', 'outer richmond', 'inner sunset', \n",
    "'financial district', 'south beach', 'oceanview', 'merced', 'ingleside', 'presidio heights', 'bernal heights', 'golden gate park', \n",
    "'south of market','portola', 'potrero hill', 'treasure island', 'pacific heights', 'hayes valley', 'excelsior', 'visitacion valley', 'mission bay', \n",
    " 'castro', 'upper market', 'sunset', 'parkside', 'mclaren park', 'nob hill', 'lakeshore', 'west of twin peaks', 'chinatown', 'noe valley', \n",
    " 'north beach', 'marina', 'haight ashbury', 'lincoln park', 'bayview hunters point', 'seacliff', 'lone mountain', 'usf', 'presidio', 'mission', \n",
    " 'tenderloin', 'russian hill', 'outer mission', 'twin peaks','mission district','downtown','usf','panhandle','UCSF','SOMA','lower haight','panhandle']\n",
    "\n",
    "\n",
    "def district_match(source):\n",
    "    \n",
    "    candidates = []\n",
    "    \n",
    "    for district in districts_set:\n",
    "        \n",
    "        gram_length = len(district.split())\n",
    "        ratio_threashold = .5\n",
    "        \n",
    "        if gram_length > 1:\n",
    "            grams = ngrams(source.split(), gram_length)\n",
    "\n",
    "            for gram in grams:\n",
    "                gram_combined =  str(\" \".join(gram))\n",
    "                ratio = Levenshtein.ratio(district, gram_combined)\n",
    "                \n",
    "                if ratio > ratio_threashold:\n",
    "#                     print \"Target word: %s, matches district: %s, ngram-len: %d, score: %f\" % (gram_combined, district, gram_length, ratio)\n",
    "                    candidates.append((ratio, district))\n",
    "                \n",
    "        else:\n",
    "            \n",
    "            for word in source.split():\n",
    "            \n",
    "                ratio = Levenshtein.ratio(district, str(word))\n",
    "                \n",
    "                if ratio > ratio_threashold:\n",
    "#                     print \"Target word: %s, matches district: %s \" % (word, district)\n",
    "                    candidates.append((ratio, district))\n",
    "                else:\n",
    "                    _ = \"\"\n",
    "#                     print word, \"doesn't match.. .6 ratio is:\", ratio\n",
    "                \n",
    "    return sorted(candidates)[::-1]\n",
    "\n",
    "# print rentals_post2012[2012][0:1][0]\n"
   ]
  },
  {
   "cell_type": "code",
   "execution_count": 24,
   "metadata": {
    "collapsed": false,
    "scrolled": true
   },
   "outputs": [
    {
     "name": "stdout",
     "output_type": "stream",
     "text": [
      "2003\n",
      "how many matched: 442\n",
      "mismatch: 32\n",
      "2004\n",
      "how many matched: 5661\n",
      "mismatch: 577\n",
      "2005\n",
      "how many matched: 13412\n",
      "mismatch: 1502\n",
      "2006\n",
      "how many matched: 3987\n",
      "mismatch: 396\n",
      "2007\n",
      "how many matched: 775\n",
      "mismatch: 85\n",
      "2008\n",
      "how many matched: 435\n",
      "mismatch: 37\n",
      "2009\n",
      "how many matched: 176\n",
      "mismatch: 16\n",
      "2010\n",
      "how many matched: 85\n",
      "mismatch: 10\n",
      "2011\n",
      "how many matched: 1328\n",
      "mismatch: 117\n"
     ]
    }
   ],
   "source": [
    "# create data matches\n",
    "price = {}\n",
    "br = {}\n",
    "description = {}\n",
    "district1 = {}\n",
    "district2 = {}\n",
    "post_descrip = []\n",
    "for a in range(2003,2012):\n",
    "    price[a] = []    # initiate key of each year\n",
    "    br[a] = []\n",
    "    description[a] = []\n",
    "    district1[a] = []\n",
    "    district2[a] = []\n",
    "    counter_yes_match = 0\n",
    "    counter_no_match = 0\n",
    "    for post in rentals_pre2012[a]:\n",
    "\n",
    "\n",
    "        matches = district_match(post.encode('utf8'))\n",
    "        if len(matches) > 1:   # if the length of matches is > 1\n",
    "            #print \"------------\"\n",
    "            #print post\n",
    "\n",
    "            if (matches[0][1]) in post:  \n",
    "                _ = ''\n",
    "                # print post\n",
    "                # print matches[0][1]\n",
    "                counter_yes_match = counter_yes_match + 1\n",
    "                \n",
    "\n",
    "                post = post.lower()\n",
    "                post.split()[0]\n",
    "\n",
    "                price[a].append(post.split()[0])    # append our prices\n",
    "                district1[a].append(matches[0][1])   #append district\n",
    "                district2[a].append(matches[1][1])\n",
    "                post_descrip.append(post)\n",
    "                \n",
    "                if 'studio' in post:\n",
    "                    br[a].append('1br')\n",
    "                else:\n",
    "                    br[a].append(post.split()[2])    # record number of bedrooms\n",
    "                \n",
    "    \n",
    "                \n",
    "            else: counter_no_match = counter_no_match + 1\n",
    "\n",
    "        \n",
    "    print a\n",
    "    print 'how many matched:' , counter_yes_match\n",
    "    print 'mismatch:' , counter_no_match"
   ]
  },
  {
   "cell_type": "code",
   "execution_count": 70,
   "metadata": {
    "collapsed": false,
    "scrolled": false
   },
   "outputs": [
    {
     "name": "stdout",
     "output_type": "stream",
     "text": [
      "2012\n",
      "how many matched: 1991\n",
      "mismatch: 248\n",
      "2013\n",
      "how many matched: 704\n",
      "mismatch: 65\n",
      "2014\n",
      "how many matched: 1908\n",
      "mismatch: 227\n",
      "2015\n",
      "how many matched: 1715\n",
      "mismatch: 212\n",
      "2016\n",
      "how many matched: 2151\n",
      "mismatch: 244\n"
     ]
    }
   ],
   "source": [
    "import re\n",
    "for a in range(2012,2017):\n",
    "    price[a] = []    # initiate key of each year\n",
    "    br[a] = []\n",
    "    post_descrip[a] = []\n",
    "    district1[a] = []\n",
    "    district2[a] = []\n",
    "    counter_yes_match = 0\n",
    "    counter_no_match = 0\n",
    "    for post in rentals_post2012[a]:\n",
    "\n",
    "\n",
    "        matches = district_match(post.encode('utf8'))\n",
    "        if len(matches) > 1:   # if the length of matches is > 1\n",
    "           # print \"------------\"\n",
    "           # print matches\n",
    "           # print post\n",
    "            _ = ''\n",
    "\n",
    "            if (matches[0][1]) in post:  \n",
    "                _ = ''\n",
    "                # print post\n",
    "                # print matches[0][1]\n",
    "                counter_yes_match = counter_yes_match + 1\n",
    "                \n",
    "\n",
    "                post = post.lower()\n",
    "                price[a].append(re.findall('\\${1}[,0-9]{1,10}',post))   #append prices\n",
    "\n",
    "                \n",
    "              #  print re.findall('[,0-9]br',post), re.findall('[,0-9]bedroom',post), post\n",
    "                    \n",
    "                \n",
    "                \n",
    "                district1[a].append(matches[0][1])   #append district\n",
    "                district2[a].append(matches[1][1])\n",
    "                post_descrip[a].append(post)\n",
    "                \n",
    "                \n",
    "#                  if 'studio' or 'master in post:\n",
    "#                      br[a].append('1br')\n",
    "#                  else:\n",
    "#                      br[a].append(post.split()[2])    # record number of bedrooms\n",
    "                \n",
    "    \n",
    "                \n",
    "            else: counter_no_match = counter_no_match + 1\n",
    "\n",
    "        \n",
    "    print a\n",
    "    print 'how many matched:' , counter_yes_match\n",
    "    print 'mismatch:' , counter_no_match"
   ]
  },
  {
   "cell_type": "code",
   "execution_count": 67,
   "metadata": {
    "collapsed": false
   },
   "outputs": [
    {
     "data": {
      "text/plain": [
       "26301"
      ]
     },
     "execution_count": 67,
     "metadata": {},
     "output_type": "execute_result"
    }
   ],
   "source": [
    "len(yr)"
   ]
  },
  {
   "cell_type": "code",
   "execution_count": 68,
   "metadata": {
    "collapsed": false,
    "scrolled": true
   },
   "outputs": [
    {
     "name": "stdout",
     "output_type": "stream",
     "text": [
      "year: 2016 price: 91 br: 0 district: 91 91 description: 0\n",
      "year: 2003 price: 442 br: 442 district: 442 442 description: 0\n",
      "year: 2004 price: 5661 br: 5661 district: 5661 5661 description: 0\n",
      "year: 2005 price: 13412 br: 13412 district: 13412 13412 description: 0\n",
      "year: 2006 price: 3987 br: 3987 district: 3987 3987 description: 0\n",
      "year: 2007 price: 775 br: 775 district: 775 775 description: 0\n",
      "year: 2008 price: 435 br: 435 district: 435 435 description: 0\n",
      "year: 2009 price: 176 br: 176 district: 176 176 description: 0\n",
      "year: 2010 price: 85 br: 85 district: 85 85 description: 0\n",
      "year: 2011 price: 1328 br: 1328 district: 1328 1328 description: 0\n",
      "year: 2012 price: 90 br: 0 district: 90 90 description: 0\n",
      "year: 2013 price: 93 br: 0 district: 93 93 description: 0\n",
      "year: 2014 price: 84 br: 0 district: 84 84 description: 0\n",
      "year: 2015 price: 76 br: 0 district: 76 76 description: 0\n"
     ]
    }
   ],
   "source": [
    "yr = []\n",
    "pr = []\n",
    "beds = []\n",
    "dr1 = []\n",
    "dr2 = []\n",
    "\n",
    "for i,b,d in zip(price,br,district):\n",
    "  \n",
    "    #print price[i]\n",
    "    print 'year:', i,'price:', len(price[i]),'br:', len(br[b]),'district:', len(district1[b]),len(district2[b]), 'description:',len(description[b])\n",
    "        \n",
    "        \n",
    "    for index in range(0,len(price[i])):\n",
    "        yr.append(i)\n",
    "\n",
    "    for g in price[i]:\n",
    "        pr.append(g)\n",
    "    for g in br[i]:\n",
    "        beds.append(g)\n",
    "    for g in district1[i]:\n",
    "        dr1.append(g)\n",
    "    for g in district2[i]:\n",
    "        dr2.append(g)\n",
    "        \n",
    "    "
   ]
  },
  {
   "cell_type": "code",
   "execution_count": 28,
   "metadata": {
    "collapsed": false,
    "scrolled": true
   },
   "outputs": [
    {
     "name": "stdout",
     "output_type": "stream",
     "text": [
      "26301\n",
      "26301\n",
      "26301\n",
      "26301\n",
      "26301\n",
      "26301\n"
     ]
    }
   ],
   "source": [
    "print len(yr)\n",
    "print len(beds)\n",
    "print len(pr)\n",
    "print len(dr1)\n",
    "print len(dr2)\n",
    "print len(post_descrip)"
   ]
  },
  {
   "cell_type": "code",
   "execution_count": 75,
   "metadata": {
    "collapsed": false
   },
   "outputs": [
    {
     "data": {
      "text/plain": [
       "<matplotlib.axes._subplots.AxesSubplot at 0x11e11f3d0>"
      ]
     },
     "execution_count": 75,
     "metadata": {},
     "output_type": "execute_result"
    },
    {
     "data": {
      "image/png": "[encoded data removed]",
      "text/plain": [
       "<matplotlib.figure.Figure at 0x11e110950>"
      ]
     },
     "metadata": {
      "image/png": {
       "height": 700,
       "width": 776
      }
     },
     "output_type": "display_data"
    }
   ],
   "source": [
    "sns.set(rc={\"figure.figsize\": (12, 12)})\n",
    "\n",
    "my_df.district1.value_counts().plot(kind='barh')"
   ]
  },
  {
   "cell_type": "code",
   "execution_count": 30,
   "metadata": {
    "collapsed": false
   },
   "outputs": [
    {
     "data": {
      "text/plain": [
       "2005    13412\n",
       "2004     5661\n",
       "2006     3987\n",
       "2011     1328\n",
       "2007      775\n",
       "2003      442\n",
       "2008      435\n",
       "2009      176\n",
       "2010       85\n",
       "Name: year, dtype: int64"
      ]
     },
     "execution_count": 30,
     "metadata": {},
     "output_type": "execute_result"
    }
   ],
   "source": [
    "my_df = pd.DataFrame({'year':yr,'pr':pr,'beds':beds, 'district1':dr1,'district2':dr2,'descrip':post_descrip})\n",
    "my_df.year.value_counts()"
   ]
  },
  {
   "cell_type": "code",
   "execution_count": null,
   "metadata": {
    "collapsed": false
   },
   "outputs": [],
   "source": [
    "my_df.districts.value_counts()\n"
   ]
  },
  {
   "cell_type": "code",
   "execution_count": null,
   "metadata": {
    "collapsed": false
   },
   "outputs": [],
   "source": [
    "import Levenshtein\n",
    "Levenshtein.ratio('hello world', 'hello')\n",
    "\n",
    "# Result: 0.625\n",
    "\n",
    "# description[2006]"
   ]
  },
  {
   "cell_type": "code",
   "execution_count": null,
   "metadata": {
    "collapsed": false
   },
   "outputs": [],
   "source": [
    "rentals_pre2012[2006][1:4]"
   ]
  },
  {
   "cell_type": "code",
   "execution_count": null,
   "metadata": {
    "collapsed": true
   },
   "outputs": [],
   "source": []
  },
  {
   "cell_type": "code",
   "execution_count": null,
   "metadata": {
    "collapsed": true
   },
   "outputs": [],
   "source": []
  },
  {
   "cell_type": "code",
   "execution_count": null,
   "metadata": {
    "collapsed": true
   },
   "outputs": [],
   "source": []
  },
  {
   "cell_type": "code",
   "execution_count": null,
   "metadata": {
    "collapsed": true
   },
   "outputs": [],
   "source": []
  },
  {
   "cell_type": "code",
   "execution_count": null,
   "metadata": {
    "collapsed": true
   },
   "outputs": [],
   "source": []
  },
  {
   "cell_type": "code",
   "execution_count": null,
   "metadata": {
    "collapsed": true
   },
   "outputs": [],
   "source": []
  },
  {
   "cell_type": "code",
   "execution_count": null,
   "metadata": {
    "collapsed": true
   },
   "outputs": [],
   "source": []
  },
  {
   "cell_type": "code",
   "execution_count": null,
   "metadata": {
    "collapsed": true
   },
   "outputs": [],
   "source": []
  },
  {
   "cell_type": "code",
   "execution_count": null,
   "metadata": {
    "collapsed": true
   },
   "outputs": [],
   "source": []
  },
  {
   "cell_type": "code",
   "execution_count": null,
   "metadata": {
    "collapsed": true
   },
   "outputs": [],
   "source": []
  },
  {
   "cell_type": "code",
   "execution_count": null,
   "metadata": {
    "collapsed": false
   },
   "outputs": [],
   "source": [
    "evictions = pd.read_csv('../Capstone/Eviction_Notices.csv')"
   ]
  },
  {
   "cell_type": "code",
   "execution_count": null,
   "metadata": {
    "collapsed": false
   },
   "outputs": [],
   "source": [
    "len(evictions['Neighborhoods - Analysis Boundaries'].unique())"
   ]
  },
  {
   "cell_type": "code",
   "execution_count": null,
   "metadata": {
    "collapsed": false
   },
   "outputs": [],
   "source": [
    "districts_set = set(evictions[evictions['Neighborhoods - Analysis Boundaries'].isnull() == False]['Neighborhoods - Analysis Boundaries'])\n",
    "len(districts_set)\n",
    "districts_set = str(list(districts_set)).lower()"
   ]
  },
  {
   "cell_type": "code",
   "execution_count": null,
   "metadata": {
    "collapsed": false
   },
   "outputs": [],
   "source": [
    "districts_set = districts_set.replace('/','\\', \\'')\n",
    "districts_set"
   ]
  },
  {
   "cell_type": "code",
   "execution_count": null,
   "metadata": {
    "collapsed": false
   },
   "outputs": [],
   "source": [
    "districts_set = ['inner richmond','upper','lower','inner' 'japantown', 'glen park', 'western addition', 'outer richmond', 'inner sunset', 'financial district', \n",
    " 'south beach', 'oceanview', 'merced', 'ingleside', 'presidio heights', 'bernal heights', 'golden gate park', 'south of market',\n",
    " 'portola', 'potrero hill', 'treasure island', 'pacific heights', 'hayes valley', 'excelsior', 'visitacion valley', 'mission bay', \n",
    " 'castro', 'upper market', 'sunset', 'parkside', 'mclaren park', 'nob hill', 'lakeshore', 'west of twin peaks', 'chinatown', 'noe valley', \n",
    " 'north beach', 'marina', 'haight ashbury', 'lincoln park', 'bayview hunters point', 'seacliff', 'lone mountain', 'usf', 'presidio', 'mission', \n",
    " 'tenderloin', 'russian hill', 'outer mission', 'twin peaks','mission district']"
   ]
  },
  {
   "cell_type": "code",
   "execution_count": null,
   "metadata": {
    "collapsed": false
   },
   "outputs": [],
   "source": [
    "districts_zip = zip(districts_set, districts_set[1:], districts_set[2:])"
   ]
  },
  {
   "cell_type": "code",
   "execution_count": null,
   "metadata": {
    "collapsed": true
   },
   "outputs": [],
   "source": [
    "# compare my districts to districts_set"
   ]
  },
  {
   "cell_type": "code",
   "execution_count": 77,
   "metadata": {
    "collapsed": false
   },
   "outputs": [
    {
     "data": {
      "text/plain": [
       "1br                                                                  12805\n",
       "2br                                                                   8078\n",
       "3br                                                                   2963\n",
       "4br                                                                    606\n",
       "5br                                                                    152\n",
       "large                                                                   60\n",
       "1                                                                       50\n",
       "2                                                                       38\n",
       "open                                                                    36\n",
       "one                                                                     32\n",
       "great                                                                   32\n",
       "beautiful                                                               30\n",
       "spacious                                                                26\n",
       "sunny                                                                   22\n",
       "3                                                                       21\n",
       "top                                                                     20\n",
       "charming                                                                18\n",
       "junior                                                                  18\n",
       "house                                                                   18\n",
       "0br                                                                     17\n",
       "furnished                                                               17\n",
       "prime                                                                   15\n",
       "remodeled                                                               15\n",
       "two                                                                     14\n",
       "\"micro-fridge                                                           14\n",
       "luxury                                                                  13\n",
       "big                                                                     13\n",
       "quiet                                                                   13\n",
       "new                                                                     12\n",
       "newly                                                                   12\n",
       "                                                                     ...  \n",
       "ortega                                                                   1\n",
       "yourself                                                                 1\n",
       "culinary                                                                 1\n",
       "affordable,                                                              1\n",
       "1ba.,                                                                    1\n",
       "sublet                                                                   1\n",
       "hghts                                                                    1\n",
       "~*private                                                                1\n",
       "decent                                                                   1\n",
       "super                                                                    1\n",
       "1bd/1ba                                                                  1\n",
       "allpetsok-pachtsverylarge1brgreatviewshardwood-w/dnrlafayettepark        1\n",
       "*photos*brand                                                            1\n",
       "433736                                                                   1\n",
       "within                                                                   1\n",
       "victorian,                                                               1\n",
       "exciting,                                                                1\n",
       "#406                                                                     1\n",
       "classic                                                                  1\n",
       "$200                                                                     1\n",
       "26th                                                                     1\n",
       "link                                                                     1\n",
       "amazing                                                                  1\n",
       "lg.                                                                      1\n",
       "fort                                                                     1\n",
       "apt*noriega                                                              1\n",
       "up                                                                       1\n",
       "2br-rooms                                                                1\n",
       "adventurou                                                               1\n",
       "deluxe                                                                   1\n",
       "Name: beds, dtype: int64"
      ]
     },
     "execution_count": 77,
     "metadata": {},
     "output_type": "execute_result"
    }
   ],
   "source": [
    "my_df.beds.value_counts()"
   ]
  },
  {
   "cell_type": "code",
   "execution_count": null,
   "metadata": {
    "collapsed": true
   },
   "outputs": [],
   "source": []
  }
 ],
 "metadata": {
  "kernelspec": {
   "display_name": "Python 2",
   "language": "python",
   "name": "python2"
  },
  "language_info": {
   "codemirror_mode": {
    "name": "ipython",
    "version": 2
   },
   "file_extension": ".py",
   "mimetype": "text/x-python",
   "name": "python",
   "nbconvert_exporter": "python",
   "pygments_lexer": "ipython2",
   "version": "2.7.11"
  }
 },
 "nbformat": 4,
 "nbformat_minor": 0
}
