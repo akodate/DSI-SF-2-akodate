{
 "cells": [
  {
   "cell_type": "markdown",
   "metadata": {},
   "source": [
    "# Table of Contents \n",
    "\n",
    "1) [Data Dictionary](#Data Dictionary)\n",
    "\n",
    "2) [Exploratory Data Analysis](#EDA)\n",
    "\n",
    "3) [Are there differences between people who prefer to date within \n",
    "their race and those who do not have a preference?](#imprace)\n",
    "\n",
    "4) [Predicting Matches](#matches): [Logistic Regression with scoring focused on accuracy](#lr) & [Random Forest Classifier with scoring focused on precision recall](#rfc)\n",
    "   \n"
   ]
  },
  {
   "cell_type": "markdown",
   "metadata": {},
   "source": [
    "## In my research I sought to answer these two questions:\n",
    "    \n",
    "    What are the differences between people who prefer to date within \n",
    "    their race and those who do not have a preference?\n",
    "  \n",
    "    Is it possible to predict matches between two people using limited \n",
    "    variables, including self-identified dating preferences? "
   ]
  },
  {
   "cell_type": "markdown",
   "metadata": {},
   "source": [
    "### Data Dictionary\n",
    "<a id = \"Data Dictionary\"></a>\n",
    "\n",
    "*Presumption that this study is of heterosexual relationships only*"
   ]
  },
  {
   "cell_type": "markdown",
   "metadata": {},
   "source": [
    "#### Event Fields\n",
    "\n",
    "|  Field  | Desc   |\n",
    "|----|----|\n",
    "|iid| unique id of study participant \n",
    "|match| 1 = yes & 0 = no ; 1 = both participants would like to see each other again; 0 = one or both of the participants do not want to see each other again\n",
    "|samerace| participant and partner were the same race, 1 = yes & 0 = no \n",
    "|age_o| age of partner \n",
    "|race_o|race of partner \n",
    "|pf_o_att,etc| partner's stated preference at time 1 (similar to attr1_1 see below) for all 6 attributes\n",
    "|dec_o|1 = yes partner would like to see their date again 0 = no\n",
    "|shar_o|how partner rated particioant on shared interests \n",
    "|like_o|how much partner liked participant \n",
    "|prob_o| what partner thought the probability was that the participant would like to see them again \n",
    "\n",
    "**Scorecard Fields (ratings on attributes and etc. after speed date has taken place):** \n",
    "\n",
    "|  Field  | Desc   |\n",
    "|----|----|\n",
    "|dec | 1 = yes participant would like to see their date again 0 = no\n",
    "|'attr', 'sinc', 'intel', 'fun', 'amb', 'shar','like',and'prob'|scale of 1-10 rating on date's attractiveness, intelligence, fun, ambition, shared interests, and how much the participant likes the date, and the probability that the participant thinks their date will say yes to second date with them)\n",
    "\n",
    "**Signup/Time1 Survey Fields(ratings on attributesa and etc. prior to speed dating event):** \n",
    "\n",
    "*What participant finds important in a potential partner:*\n",
    "\n",
    "|  Field  | Desc   |\n",
    "|----|----|\n",
    "|attr1_1| participant's rating of importance of attractiveness in a potential partner waves; 6-9 scale of 1-10 all others waves distribut points out of 100;same for all other attributes with 1_1 ending\n",
    "\n",
    "**How the participant perceives his or herself:**\n",
    "\n",
    "> intel3_1,etc\n",
    "    * how intelligent participant thinks he or she is on a scale of 1-10\n",
    "    \n",
    "**Participants interests in activites are on a scale of 1-10**\n",
    "\n",
    "    'sports', 'tvsports', 'exercise', 'dining', 'museums', 'art', 'hiking', \n",
    "    'gaming', 'clubbing', 'reading','tv', 'theater', 'movies', 'concerts','music', 'shopping', 'yoga'\n",
    "\n",
    "**goal : participant's primary goal for taking part in the speed dating event:**\n",
    "\n",
    "> * 1 = seemed like a fun night out\n",
    "* 2 = to meet new people\n",
    "* 3 = to get a date\n",
    "* 4 = looking for a serious relationship\n",
    "* 5 = to say I did it\n",
    "* 6 = other\n",
    "\n",
    "**date : how frequently the participant goes out on a date**\n",
    "> * Several times a week=1\n",
    "* Twice a week=2\n",
    "* Once a week=3\n",
    "* Twice a month=4\n",
    "* Once a month=5\n",
    "* Several times a year=6\n",
    "* Almost never=7\n",
    "    \n",
    "**go_out : How often do you go out (not necessarily on dates)**\n",
    "    \n",
    "> * Several times a week=1\n",
    "* Twice a week=2\n",
    "* Once a week=3\n",
    "* Twice a month=4\n",
    "* Once a month=5\n",
    "* Several times a year=6\n",
    "* Almost never=7\n",
    "\n",
    "**imprelig** \n",
    "> * How important is it to you (on a scale of 1-10) that a person you date be of the same religious background?\n",
    "\n",
    "**imprace**\n",
    "> * importance of having a partner with the samerace on a scale of 1-10\n",
    "\n",
    "** DataFrames **\n",
    "\n",
    "|  Term  | Desc   |\n",
    "|----|----|\n",
    "|*demop_df* | participant demographic information with removed duplicate subject IDs |\n",
    "|*hi_df*| those participants who report a preference for dating within their race |\n",
    "|*lw_df*| those participants who report little or no preference for dating within their race |\n",
    "|*matches_df*| speed date ratings and match results for all dates in the study |\n",
    "\n"
   ]
  },
  {
   "cell_type": "markdown",
   "metadata": {
    "collapsed": true
   },
   "source": [
    "## Exploratory Data Analysis \n",
    "<a id = \"EDA\"></a>"
   ]
  },
  {
   "cell_type": "code",
   "execution_count": 1,
   "metadata": {
    "collapsed": true
   },
   "outputs": [],
   "source": [
    "#import required libraries \n",
    "import numpy as np\n",
    "import pandas as pd\n",
    "import seaborn as sns\n",
    "import matplotlib.pyplot as plt\n",
    "\n",
    "%matplotlib inline"
   ]
  },
  {
   "cell_type": "code",
   "execution_count": 2,
   "metadata": {
    "collapsed": true
   },
   "outputs": [],
   "source": [
    "#import csv and convert to dataframe\n",
    "Q1= pd.read_csv('../../projects/capstone-projects/speed-dating-experiment/Speed Dating Data.csv')"
   ]
  },
  {
   "cell_type": "code",
   "execution_count": 3,
   "metadata": {
    "collapsed": false
   },
   "outputs": [
    {
     "name": "stderr",
     "output_type": "stream",
     "text": [
      "/Users/ltdanp21/anaconda/lib/python2.7/site-packages/ipykernel/__main__.py:12: SettingWithCopyWarning: \n",
      "A value is trying to be set on a copy of a slice from a DataFrame\n",
      "\n",
      "See the caveats in the documentation: http://pandas.pydata.org/pandas-docs/stable/indexing.html#indexing-view-versus-copy\n",
      "/Users/ltdanp21/anaconda/lib/python2.7/site-packages/pandas/util/decorators.py:91: SettingWithCopyWarning: \n",
      "A value is trying to be set on a copy of a slice from a DataFrame\n",
      "\n",
      "See the caveats in the documentation: http://pandas.pydata.org/pandas-docs/stable/indexing.html#indexing-view-versus-copy\n",
      "  return func(*args, **kwargs)\n",
      "/Users/ltdanp21/anaconda/lib/python2.7/site-packages/ipykernel/__main__.py:18: SettingWithCopyWarning: \n",
      "A value is trying to be set on a copy of a slice from a DataFrame\n",
      "\n",
      "See the caveats in the documentation: http://pandas.pydata.org/pandas-docs/stable/indexing.html#indexing-view-versus-copy\n"
     ]
    }
   ],
   "source": [
    "# remove duplicate subject iids for accuracy of participant demographic information\n",
    "demop_df =  Q1[[\"iid\", \"wave\", \"gender\",\"age\", \"race\",\"imprace\",\"imprelig\",\"goal\",\"date\",\"go_out\", \n",
    "                \"attr1_1\",\"sinc1_1\",\"intel1_1\",\"fun1_1\", \n",
    "                \"amb1_1\",\"shar1_1\",\"attr3_1\", \"sinc3_1\", \"fun3_1\", \"intel3_1\", \"amb3_1\",\n",
    "                \"attr5_1\",\"sinc5_1\",\"intel5_1\",\"fun5_1\",\"amb5_1\",'sports', 'tvsports', \n",
    "                'exercise', 'dining', 'museums', 'art', 'hiking', \n",
    "                'gaming', 'clubbing', 'reading','tv', 'theater', 'movies', \n",
    "                'concerts','music', 'shopping', 'yoga','dec', 'attr', 'sinc', 'intel', \n",
    "                'fun', 'amb', 'shar', 'like', 'prob', 'met']]\n",
    "\n",
    "# sort subject ids\n",
    "demop_df.sort_values(['iid','wave'], inplace=True)\n",
    "\n",
    "# drop duplicates \n",
    "demop_df.drop_duplicates(['iid'], inplace=True)\n",
    "\n",
    "#drop null values;not comfortable imputing given that many fields reflect personal opinions and preferences\n",
    "demop_df.dropna(inplace = True)"
   ]
  },
  {
   "cell_type": "code",
   "execution_count": 4,
   "metadata": {
    "collapsed": false
   },
   "outputs": [],
   "source": [
    "#confirmation that all null values were dropped\n",
    "#demop_df.isnull().sum()"
   ]
  },
  {
   "cell_type": "markdown",
   "metadata": {},
   "source": [
    "#### Basic Descriptive Statistics"
   ]
  },
  {
   "cell_type": "code",
   "execution_count": 5,
   "metadata": {
    "collapsed": false
   },
   "outputs": [
    {
     "data": {
      "text/plain": [
       "(251, 53)"
      ]
     },
     "execution_count": 5,
     "metadata": {},
     "output_type": "execute_result"
    }
   ],
   "source": [
    "#251 participants after null values dropped;#554 participants reported in study key \n",
    "#251 rows and 53 columns\n",
    "\n",
    "demop_df.shape"
   ]
  },
  {
   "cell_type": "code",
   "execution_count": 6,
   "metadata": {
    "collapsed": false
   },
   "outputs": [
    {
     "data": {
      "text/plain": [
       "0    127\n",
       "1    124\n",
       "Name: gender, dtype: int64"
      ]
     },
     "execution_count": 6,
     "metadata": {},
     "output_type": "execute_result"
    }
   ],
   "source": [
    "#number of males and females\n",
    "#127 females\n",
    "#124 males\n",
    "#3 more females than males \n",
    "demop_df.gender.value_counts()"
   ]
  },
  {
   "cell_type": "code",
   "execution_count": 7,
   "metadata": {
    "collapsed": false
   },
   "outputs": [
    {
     "data": {
      "image/png": "[encoded data removed]",
      "text/plain": [
       "<matplotlib.figure.Figure at 0x1041b7c90>"
      ]
     },
     "metadata": {},
     "output_type": "display_data"
    }
   ],
   "source": [
    "\n",
    "gen = demop_df.gender.value_counts()\n",
    "gen.plot(kind = \"barh\",color = 'purple')\n",
    "plt.xlabel('Count')\n",
    "plt.ylabel('Gender: 1 Male and 0 Female')\n",
    "plt.title (\"Gender Distribution\")\n",
    "plt.show()"
   ]
  },
  {
   "cell_type": "code",
   "execution_count": 8,
   "metadata": {
    "collapsed": false
   },
   "outputs": [
    {
     "name": "stdout",
     "output_type": "stream",
     "text": [
      "27.0    34\n",
      "24.0    28\n",
      "25.0    27\n",
      "26.0    26\n",
      "23.0    25\n",
      "29.0    22\n",
      "30.0    21\n",
      "28.0    21\n",
      "22.0    15\n",
      "33.0     8\n",
      "34.0     7\n",
      "32.0     6\n",
      "21.0     4\n",
      "31.0     2\n",
      "55.0     1\n",
      "38.0     1\n",
      "35.0     1\n",
      "36.0     1\n",
      "20.0     1\n",
      "Name: age, dtype: int64\n"
     ]
    }
   ],
   "source": [
    "# ages of participants\n",
    "age_series= demop_df.age.value_counts()\n",
    "print age_series"
   ]
  },
  {
   "cell_type": "code",
   "execution_count": 9,
   "metadata": {
    "collapsed": false
   },
   "outputs": [
    {
     "data": {
      "text/plain": [
       "26.0"
      ]
     },
     "execution_count": 9,
     "metadata": {},
     "output_type": "execute_result"
    }
   ],
   "source": [
    "# median age\n",
    "demop_df.age.median()"
   ]
  },
  {
   "cell_type": "code",
   "execution_count": 10,
   "metadata": {
    "collapsed": false
   },
   "outputs": [
    {
     "data": {
      "text/plain": [
       "<matplotlib.text.Text at 0x11705e1d0>"
      ]
     },
     "execution_count": 10,
     "metadata": {},
     "output_type": "execute_result"
    },
    {
     "data": {
      "image/png": "[encoded data removed]",
      "text/plain": [
       "<matplotlib.figure.Figure at 0x116fc76d0>"
      ]
     },
     "metadata": {},
     "output_type": "display_data"
    }
   ],
   "source": [
    "# #ask K or David;%\n",
    "#plot age distribution\n",
    "fig_age = plt.figure(figsize=(12.7,3),dpi=300)\n",
    "plt.hist(demop_df.age, color = \"green\")\n",
    "plt.xlabel('Age')\n",
    "plt.ylabel('Count')\n",
    "plt.title (\"Age Distribution\")"
   ]
  },
  {
   "cell_type": "code",
   "execution_count": 11,
   "metadata": {
    "collapsed": true
   },
   "outputs": [],
   "source": [
    "# racial demographics\n",
    "\n",
    "# 2 = White 52% \n",
    "# 4 = Asian/Pacific_Islander/Asian_American 28%\n",
    "# 3 = Latino/Hispanic_American 8 % \n",
    "# 6 = Other 8 % \n",
    "# 1 = Black 4 % \n",
    "\n",
    "# 5 = Native American, there were none in this study\n",
    "\n",
    "from __future__ import division\n",
    "\n",
    "# race \n",
    "race_classes = [\"White\", \"Asian\", \"Latino\", \"Other\", \"Black\"]\n",
    "race_val_list = list(demop_df.race.value_counts())\n",
    "\n",
    "percenp_race = []\n",
    "\n",
    "for r in race_val_list:\n",
    "    a = r/251\n",
    "    b = a * 100\n",
    "    percenp_race.append(round(b))"
   ]
  },
  {
   "cell_type": "code",
   "execution_count": 12,
   "metadata": {
    "collapsed": false
   },
   "outputs": [
    {
     "data": {
      "text/plain": [
       "[('White', 52.0),\n",
       " ('Asian', 28.0),\n",
       " ('Latino', 8.0),\n",
       " ('Other', 8.0),\n",
       " ('Black', 4.0)]"
      ]
     },
     "execution_count": 12,
     "metadata": {},
     "output_type": "execute_result"
    }
   ],
   "source": [
    "# percentage of study population each race makes up \n",
    "zip(race_classes, percenp_race)"
   ]
  },
  {
   "cell_type": "code",
   "execution_count": 13,
   "metadata": {
    "collapsed": false
   },
   "outputs": [
    {
     "name": "stdout",
     "output_type": "stream",
     "text": [
      "21.0\n"
     ]
    }
   ],
   "source": [
    "#average number of people in waves - what is a wave? - dave\n",
    "avg_part_waves = demop_df.groupby(['wave'])[\"iid\"].count().mean()\n",
    "print round(avg_part_waves)"
   ]
  },
  {
   "cell_type": "markdown",
   "metadata": {},
   "source": [
    "## Are there differences between people who prefer to date within their race and those who do not have a preference?\n",
    "<a id = \"imprace\"></a>"
   ]
  },
  {
   "cell_type": "code",
   "execution_count": 116,
   "metadata": {
    "collapsed": false
   },
   "outputs": [
    {
     "name": "stdout",
     "output_type": "stream",
     "text": [
      "% women in who show a strong preference for dating within their race: 36.0 %\n"
     ]
    }
   ],
   "source": [
    "# % women in the study who show a strong preference for dating within their race\n",
    "woman_mask = ((demop_df.gender == 0) & (demop_df.imprace >= 5))\n",
    "women_inrace_count = demop_df[woman_mask].imprace.value_counts().sum()\n",
    "wic = women_inrace_count / demop_df[(demop_df.gender == 0)].imprace.value_counts().sum()\n",
    "print \"% women in who show a strong preference for dating within their race:\", round(wic * 100),\"%\""
   ]
  },
  {
   "cell_type": "code",
   "execution_count": 117,
   "metadata": {
    "collapsed": false
   },
   "outputs": [
    {
     "name": "stdout",
     "output_type": "stream",
     "text": [
      "% men  who show a strong preference for dating within their race: 28.0 %\n"
     ]
    }
   ],
   "source": [
    "# % men who show a strong preference for dating within their race\n",
    "male_mask = ((demop_df.gender == 1) & (demop_df.imprace >= 5))\n",
    "mic = demop_df[male_mask].imprace.value_counts().sum() / demop_df[(demop_df.gender == 1)].imprace.value_counts().sum()\n",
    "print\"% men  who show a strong preference for dating within their race:\", round(mic * 100),\"%\""
   ]
  },
  {
   "cell_type": "code",
   "execution_count": 118,
   "metadata": {
    "collapsed": false
   },
   "outputs": [
    {
     "name": "stdout",
     "output_type": "stream",
     "text": [
      "% women who show no strong preference for dating within race: 64.0 %\n"
     ]
    }
   ],
   "source": [
    "# % women show no strong preference for dating within race\n",
    "woman_mask_2 = ((demop_df.gender == 0) & (demop_df.imprace <5))\n",
    "women_inrace_count_2 = demop_df[woman_mask_2].imprace.value_counts().sum()\n",
    "wic_2 = women_inrace_count_2 / demop_df[(demop_df.gender == 0)].imprace.value_counts().sum()\n",
    "print\"% women who show no strong preference for dating within race:\", round(wic_2 * 100),\"%\""
   ]
  },
  {
   "cell_type": "code",
   "execution_count": 119,
   "metadata": {
    "collapsed": false
   },
   "outputs": [
    {
     "name": "stdout",
     "output_type": "stream",
     "text": [
      "% men who show no strong preference for dating within their race: 72.0 %\n"
     ]
    }
   ],
   "source": [
    "# % men who show no strong preference for dating within their race\n",
    "male_mask_2 = ((demop_df.gender == 1) & (demop_df.imprace <5))\n",
    "mic_2 = demop_df[male_mask_2].imprace.value_counts().sum() / demop_df[(demop_df.gender == 1)].imprace.value_counts().sum()\n",
    "print\"% men who show no strong preference for dating within their race:\", round(mic_2 * 100),\"%\""
   ]
  },
  {
   "cell_type": "markdown",
   "metadata": {},
   "source": [
    "#### Subset data frame to reflect those particpants who show preference for dating within their race"
   ]
  },
  {
   "cell_type": "code",
   "execution_count": 38,
   "metadata": {
    "collapsed": true
   },
   "outputs": [],
   "source": [
    "# imprace = 8,9,10\n",
    "imp_mask_high = demop_df.imprace > 7"
   ]
  },
  {
   "cell_type": "code",
   "execution_count": 39,
   "metadata": {
    "collapsed": true
   },
   "outputs": [],
   "source": [
    "# INITIAL df \n",
    "high_df = demop_df[imp_mask_high]\n",
    "\n",
    "# subset out waves 6-9 due to difference in rating (see data dictionary)\n",
    "wave_69 = ((demop_df.wave != 6) & (demop_df.wave != 7) & (demop_df.wave != 8) & (demop_df.wave != 9))"
   ]
  },
  {
   "cell_type": "code",
   "execution_count": 40,
   "metadata": {
    "collapsed": false
   },
   "outputs": [
    {
     "name": "stderr",
     "output_type": "stream",
     "text": [
      "/Users/ltdanp21/anaconda/lib/python2.7/site-packages/ipykernel/__main__.py:2: UserWarning: Boolean Series key will be reindexed to match DataFrame index.\n",
      "  from ipykernel import kernelapp as app\n"
     ]
    }
   ],
   "source": [
    "#final df\n",
    "hi_df = high_df[wave_69]"
   ]
  },
  {
   "cell_type": "code",
   "execution_count": 41,
   "metadata": {
    "collapsed": false
   },
   "outputs": [
    {
     "data": {
      "text/plain": [
       "(32, 53)"
      ]
     },
     "execution_count": 41,
     "metadata": {},
     "output_type": "execute_result"
    }
   ],
   "source": [
    "# 32 people have a strong preference for dating in the same race \n",
    "hi_df.shape"
   ]
  },
  {
   "cell_type": "markdown",
   "metadata": {},
   "source": [
    "#### Subset data frame to reflect those particpants who show no preference for dating within their race"
   ]
  },
  {
   "cell_type": "code",
   "execution_count": 42,
   "metadata": {
    "collapsed": true
   },
   "outputs": [],
   "source": [
    "# imprace 1,2,3,4\n",
    "imp_mask_low = demop_df.imprace < 5"
   ]
  },
  {
   "cell_type": "code",
   "execution_count": 43,
   "metadata": {
    "collapsed": true
   },
   "outputs": [],
   "source": [
    "# INITIAL df \n",
    "low_df = demop_df[imp_mask_low]\n",
    "\n",
    "# subset out waves 6-9\n",
    "wave_69_l = ((demop_df.wave != 6) & (demop_df.wave != 7) & (demop_df.wave != 8) & (demop_df.wave != 9))"
   ]
  },
  {
   "cell_type": "code",
   "execution_count": 44,
   "metadata": {
    "collapsed": false
   },
   "outputs": [
    {
     "name": "stderr",
     "output_type": "stream",
     "text": [
      "/Users/ltdanp21/anaconda/lib/python2.7/site-packages/ipykernel/__main__.py:2: UserWarning: Boolean Series key will be reindexed to match DataFrame index.\n",
      "  from ipykernel import kernelapp as app\n"
     ]
    }
   ],
   "source": [
    "# final df \n",
    "lw_df = low_df[wave_69_l]"
   ]
  },
  {
   "cell_type": "code",
   "execution_count": 45,
   "metadata": {
    "collapsed": false
   },
   "outputs": [
    {
     "data": {
      "text/plain": [
       "(170, 53)"
      ]
     },
     "execution_count": 45,
     "metadata": {},
     "output_type": "execute_result"
    }
   ],
   "source": [
    "#  170 of participants show no strong preference for dating within their race\n",
    "lw_df.shape"
   ]
  },
  {
   "cell_type": "code",
   "execution_count": 46,
   "metadata": {
    "collapsed": false
   },
   "outputs": [],
   "source": [
    "#print list(lw_df.columns)"
   ]
  },
  {
   "cell_type": "markdown",
   "metadata": {},
   "source": [
    "##### Is there a difference in what one group finds important in a potential partner vs. the other?\n",
    "\n",
    "Note:\n",
    "> * no strong preference = no strong preference for dating within race\n",
    "* strong preference  = strong preference for dating within race"
   ]
  },
  {
   "cell_type": "code",
   "execution_count": 55,
   "metadata": {
    "collapsed": false
   },
   "outputs": [
    {
     "data": {
      "text/html": [
       "<div>\n",
       "<table border=\"1\" class=\"dataframe\">\n",
       "  <thead>\n",
       "    <tr style=\"text-align: right;\">\n",
       "      <th></th>\n",
       "      <th>average</th>\n",
       "      <th>no strong preference</th>\n",
       "      <th>strong preference:</th>\n",
       "    </tr>\n",
       "  </thead>\n",
       "  <tbody>\n",
       "    <tr>\n",
       "      <th>4</th>\n",
       "      <td>amb1_1</td>\n",
       "      <td>10.0</td>\n",
       "      <td>10.0</td>\n",
       "    </tr>\n",
       "    <tr>\n",
       "      <th>0</th>\n",
       "      <td>attr1_1</td>\n",
       "      <td>23.0</td>\n",
       "      <td>25.0</td>\n",
       "    </tr>\n",
       "    <tr>\n",
       "      <th>3</th>\n",
       "      <td>fun1_1</td>\n",
       "      <td>17.0</td>\n",
       "      <td>17.0</td>\n",
       "    </tr>\n",
       "    <tr>\n",
       "      <th>2</th>\n",
       "      <td>intel1_1</td>\n",
       "      <td>20.0</td>\n",
       "      <td>21.0</td>\n",
       "    </tr>\n",
       "    <tr>\n",
       "      <th>5</th>\n",
       "      <td>shar1_1</td>\n",
       "      <td>12.0</td>\n",
       "      <td>10.0</td>\n",
       "    </tr>\n",
       "    <tr>\n",
       "      <th>1</th>\n",
       "      <td>sinc1_1</td>\n",
       "      <td>18.0</td>\n",
       "      <td>17.0</td>\n",
       "    </tr>\n",
       "  </tbody>\n",
       "</table>\n",
       "</div>"
      ],
      "text/plain": [
       "    average  no strong preference  strong preference:\n",
       "4    amb1_1                  10.0                10.0\n",
       "0   attr1_1                  23.0                25.0\n",
       "3    fun1_1                  17.0                17.0\n",
       "2  intel1_1                  20.0                21.0\n",
       "5   shar1_1                  12.0                10.0\n",
       "1   sinc1_1                  18.0                17.0"
      ]
     },
     "execution_count": 55,
     "metadata": {},
     "output_type": "execute_result"
    }
   ],
   "source": [
    "#ratings of importance of six attributes in a potential partner:\n",
    "#attractiveness,sincerity,intelligence,fun,ambition, and shared interest\n",
    "att_list= ['attr1_1',\"sinc1_1\",'intel1_1',\"fun1_1\",\"amb1_1\",\"shar1_1\"]\n",
    "group_compare = []\n",
    "\n",
    "for average in att_list:\n",
    "    group_compare.append({\n",
    "        \"average\": average,\n",
    "        \"no strong preference\": round(lw_df[average].mean()),  \n",
    "        \"strong preference:\":   round(hi_df[average].mean())\n",
    "    })\n",
    "\n",
    "gc = pd.DataFrame(group_compare)\n",
    "gc.sort_values([\"average\"], inplace = True)\n",
    "gc"
   ]
  },
  {
   "cell_type": "markdown",
   "metadata": {},
   "source": [
    "#### Is there a difference in how participants in one group perceive themselves  vs. the other?"
   ]
  },
  {
   "cell_type": "code",
   "execution_count": 56,
   "metadata": {
    "collapsed": false
   },
   "outputs": [
    {
     "data": {
      "text/html": [
       "<div>\n",
       "<table border=\"1\" class=\"dataframe\">\n",
       "  <thead>\n",
       "    <tr style=\"text-align: right;\">\n",
       "      <th></th>\n",
       "      <th>average</th>\n",
       "      <th>no strong preference</th>\n",
       "      <th>strong preference:</th>\n",
       "    </tr>\n",
       "  </thead>\n",
       "  <tbody>\n",
       "    <tr>\n",
       "      <th>4</th>\n",
       "      <td>amb3_1</td>\n",
       "      <td>7.0</td>\n",
       "      <td>8.0</td>\n",
       "    </tr>\n",
       "    <tr>\n",
       "      <th>0</th>\n",
       "      <td>attr3_1</td>\n",
       "      <td>7.0</td>\n",
       "      <td>8.0</td>\n",
       "    </tr>\n",
       "    <tr>\n",
       "      <th>3</th>\n",
       "      <td>fun3_1</td>\n",
       "      <td>8.0</td>\n",
       "      <td>8.0</td>\n",
       "    </tr>\n",
       "    <tr>\n",
       "      <th>2</th>\n",
       "      <td>intel3_1</td>\n",
       "      <td>8.0</td>\n",
       "      <td>9.0</td>\n",
       "    </tr>\n",
       "    <tr>\n",
       "      <th>1</th>\n",
       "      <td>sinc3_1</td>\n",
       "      <td>8.0</td>\n",
       "      <td>9.0</td>\n",
       "    </tr>\n",
       "  </tbody>\n",
       "</table>\n",
       "</div>"
      ],
      "text/plain": [
       "    average  no strong preference  strong preference:\n",
       "4    amb3_1                   7.0                 8.0\n",
       "0   attr3_1                   7.0                 8.0\n",
       "3    fun3_1                   8.0                 8.0\n",
       "2  intel3_1                   8.0                 9.0\n",
       "1   sinc3_1                   8.0                 9.0"
      ]
     },
     "execution_count": 56,
     "metadata": {},
     "output_type": "execute_result"
    }
   ],
   "source": [
    "#participants ratings of self of six attributes \n",
    "att_list= ['attr3_1',\"sinc3_1\",'intel3_1',\"fun3_1\",\"amb3_1\"]\n",
    "group_compare_2 = []\n",
    "\n",
    "for average in att_list:\n",
    "    group_compare_2.append({\n",
    "        \"average\": average,\n",
    "        \"no strong preference\": round(lw_df[average].mean()),  \n",
    "        \"strong preference:\":   round(hi_df[average].mean())\n",
    "    })\n",
    "\n",
    "gc2 = pd.DataFrame(group_compare_2)\n",
    "gc2.sort_values([\"average\"], inplace = True)\n",
    "gc2"
   ]
  },
  {
   "cell_type": "markdown",
   "metadata": {},
   "source": [
    "#### Is there a difference in how participants in one group think others perceive them vs. the other?"
   ]
  },
  {
   "cell_type": "code",
   "execution_count": 57,
   "metadata": {
    "collapsed": false
   },
   "outputs": [
    {
     "data": {
      "text/html": [
       "<div>\n",
       "<table border=\"1\" class=\"dataframe\">\n",
       "  <thead>\n",
       "    <tr style=\"text-align: right;\">\n",
       "      <th></th>\n",
       "      <th>average</th>\n",
       "      <th>no strong preference</th>\n",
       "      <th>strong preference:</th>\n",
       "    </tr>\n",
       "  </thead>\n",
       "  <tbody>\n",
       "    <tr>\n",
       "      <th>4</th>\n",
       "      <td>amb5_1</td>\n",
       "      <td>8.0</td>\n",
       "      <td>9.0</td>\n",
       "    </tr>\n",
       "    <tr>\n",
       "      <th>0</th>\n",
       "      <td>attr5_1</td>\n",
       "      <td>7.0</td>\n",
       "      <td>7.0</td>\n",
       "    </tr>\n",
       "    <tr>\n",
       "      <th>3</th>\n",
       "      <td>fun5_1</td>\n",
       "      <td>7.0</td>\n",
       "      <td>8.0</td>\n",
       "    </tr>\n",
       "    <tr>\n",
       "      <th>2</th>\n",
       "      <td>intel5_1</td>\n",
       "      <td>8.0</td>\n",
       "      <td>9.0</td>\n",
       "    </tr>\n",
       "    <tr>\n",
       "      <th>1</th>\n",
       "      <td>sinc5_1</td>\n",
       "      <td>8.0</td>\n",
       "      <td>9.0</td>\n",
       "    </tr>\n",
       "  </tbody>\n",
       "</table>\n",
       "</div>"
      ],
      "text/plain": [
       "    average  no strong preference  strong preference:\n",
       "4    amb5_1                   8.0                 9.0\n",
       "0   attr5_1                   7.0                 7.0\n",
       "3    fun5_1                   7.0                 8.0\n",
       "2  intel5_1                   8.0                 9.0\n",
       "1   sinc5_1                   8.0                 9.0"
      ]
     },
     "execution_count": 57,
     "metadata": {},
     "output_type": "execute_result"
    }
   ],
   "source": [
    "#participants ratings on how they think other's perceive them on the 5 attributes \n",
    "att_list= ['attr5_1',\"sinc5_1\",'intel5_1',\"fun5_1\",\"amb5_1\"]\n",
    "group_compare_3 = []\n",
    "for average in att_list:\n",
    "      group_compare_3.append({\n",
    "        \"average\": average,\n",
    "        \"no strong preference\": round(lw_df[average].mean()),  \n",
    "        \"strong preference:\":   round(hi_df[average].mean())\n",
    "    })\n",
    "\n",
    "gc3 = pd.DataFrame(group_compare_3)\n",
    "gc3.sort_values([\"average\"], inplace = True)\n",
    "gc3"
   ]
  },
  {
   "cell_type": "markdown",
   "metadata": {},
   "source": [
    "#### Is there a difference in what one group likes to do with their free time  vs. the other?"
   ]
  },
  {
   "cell_type": "code",
   "execution_count": 58,
   "metadata": {
    "collapsed": false
   },
   "outputs": [
    {
     "data": {
      "text/html": [
       "<div>\n",
       "<table border=\"1\" class=\"dataframe\">\n",
       "  <thead>\n",
       "    <tr style=\"text-align: right;\">\n",
       "      <th></th>\n",
       "      <th>average</th>\n",
       "      <th>no strong preference</th>\n",
       "      <th>strong preference:</th>\n",
       "    </tr>\n",
       "  </thead>\n",
       "  <tbody>\n",
       "    <tr>\n",
       "      <th>5</th>\n",
       "      <td>art</td>\n",
       "      <td>7.0</td>\n",
       "      <td>7.0</td>\n",
       "    </tr>\n",
       "    <tr>\n",
       "      <th>8</th>\n",
       "      <td>clubbing</td>\n",
       "      <td>6.0</td>\n",
       "      <td>5.0</td>\n",
       "    </tr>\n",
       "    <tr>\n",
       "      <th>13</th>\n",
       "      <td>concerts</td>\n",
       "      <td>7.0</td>\n",
       "      <td>7.0</td>\n",
       "    </tr>\n",
       "    <tr>\n",
       "      <th>3</th>\n",
       "      <td>dining</td>\n",
       "      <td>8.0</td>\n",
       "      <td>9.0</td>\n",
       "    </tr>\n",
       "    <tr>\n",
       "      <th>2</th>\n",
       "      <td>exercise</td>\n",
       "      <td>6.0</td>\n",
       "      <td>7.0</td>\n",
       "    </tr>\n",
       "    <tr>\n",
       "      <th>7</th>\n",
       "      <td>gaming</td>\n",
       "      <td>4.0</td>\n",
       "      <td>4.0</td>\n",
       "    </tr>\n",
       "    <tr>\n",
       "      <th>6</th>\n",
       "      <td>hiking</td>\n",
       "      <td>6.0</td>\n",
       "      <td>6.0</td>\n",
       "    </tr>\n",
       "    <tr>\n",
       "      <th>12</th>\n",
       "      <td>movies</td>\n",
       "      <td>8.0</td>\n",
       "      <td>8.0</td>\n",
       "    </tr>\n",
       "    <tr>\n",
       "      <th>4</th>\n",
       "      <td>museums</td>\n",
       "      <td>7.0</td>\n",
       "      <td>7.0</td>\n",
       "    </tr>\n",
       "    <tr>\n",
       "      <th>14</th>\n",
       "      <td>music</td>\n",
       "      <td>8.0</td>\n",
       "      <td>8.0</td>\n",
       "    </tr>\n",
       "    <tr>\n",
       "      <th>9</th>\n",
       "      <td>reading</td>\n",
       "      <td>8.0</td>\n",
       "      <td>8.0</td>\n",
       "    </tr>\n",
       "    <tr>\n",
       "      <th>15</th>\n",
       "      <td>shopping</td>\n",
       "      <td>6.0</td>\n",
       "      <td>7.0</td>\n",
       "    </tr>\n",
       "    <tr>\n",
       "      <th>0</th>\n",
       "      <td>sports</td>\n",
       "      <td>6.0</td>\n",
       "      <td>6.0</td>\n",
       "    </tr>\n",
       "    <tr>\n",
       "      <th>11</th>\n",
       "      <td>theater</td>\n",
       "      <td>7.0</td>\n",
       "      <td>8.0</td>\n",
       "    </tr>\n",
       "    <tr>\n",
       "      <th>10</th>\n",
       "      <td>tv</td>\n",
       "      <td>5.0</td>\n",
       "      <td>7.0</td>\n",
       "    </tr>\n",
       "    <tr>\n",
       "      <th>1</th>\n",
       "      <td>tvsports</td>\n",
       "      <td>4.0</td>\n",
       "      <td>5.0</td>\n",
       "    </tr>\n",
       "    <tr>\n",
       "      <th>16</th>\n",
       "      <td>yoga</td>\n",
       "      <td>4.0</td>\n",
       "      <td>5.0</td>\n",
       "    </tr>\n",
       "  </tbody>\n",
       "</table>\n",
       "</div>"
      ],
      "text/plain": [
       "     average  no strong preference  strong preference:\n",
       "5        art                   7.0                 7.0\n",
       "8   clubbing                   6.0                 5.0\n",
       "13  concerts                   7.0                 7.0\n",
       "3     dining                   8.0                 9.0\n",
       "2   exercise                   6.0                 7.0\n",
       "7     gaming                   4.0                 4.0\n",
       "6     hiking                   6.0                 6.0\n",
       "12    movies                   8.0                 8.0\n",
       "4    museums                   7.0                 7.0\n",
       "14     music                   8.0                 8.0\n",
       "9    reading                   8.0                 8.0\n",
       "15  shopping                   6.0                 7.0\n",
       "0     sports                   6.0                 6.0\n",
       "11   theater                   7.0                 8.0\n",
       "10        tv                   5.0                 7.0\n",
       "1   tvsports                   4.0                 5.0\n",
       "16      yoga                   4.0                 5.0"
      ]
     },
     "execution_count": 58,
     "metadata": {},
     "output_type": "execute_result"
    }
   ],
   "source": [
    "act_list = ['sports', 'tvsports', 'exercise', 'dining', 'museums', 'art', 'hiking', 'gaming', 'clubbing', \n",
    "            'reading', 'tv', 'theater', 'movies', 'concerts', 'music', 'shopping', 'yoga']\n",
    "group_compare_4 = []\n",
    "for average in act_list:\n",
    "      group_compare_4.append({\n",
    "        \"average\": average,\n",
    "        \"no strong preference\": round(lw_df[average].mean()),  \n",
    "        \"strong preference:\":   round(hi_df[average].mean())\n",
    "    })\n",
    "\n",
    "gc4 = pd.DataFrame(group_compare_4)\n",
    "gc4.sort_values([\"average\"], inplace = True)\n",
    "gc4"
   ]
  },
  {
   "cell_type": "markdown",
   "metadata": {},
   "source": [
    "#### Is there a difference in how one group rates the importance of having a partner with the same religion vs. the other?"
   ]
  },
  {
   "cell_type": "code",
   "execution_count": 144,
   "metadata": {
    "collapsed": false
   },
   "outputs": [
    {
     "name": "stdout",
     "output_type": "stream",
     "text": [
      "no strong preference: 3.0\n",
      "strong preference: 6.0\n"
     ]
    }
   ],
   "source": [
    "print \"no strong preference:\",round(lw_df['imprelig'].mean())\n",
    "print \"strong preference:\",round(hi_df['imprelig'].mean())"
   ]
  },
  {
   "cell_type": "markdown",
   "metadata": {},
   "source": [
    "#### Is there a difference one group's goal for participating in the event vs. the other?"
   ]
  },
  {
   "cell_type": "code",
   "execution_count": 145,
   "metadata": {
    "collapsed": false
   },
   "outputs": [
    {
     "name": "stdout",
     "output_type": "stream",
     "text": [
      "no strong preference: 2.0\n",
      "strong preference: 2.0\n"
     ]
    }
   ],
   "source": [
    "print \"no strong preference:\",round(lw_df['goal'].mean())\n",
    "print \"strong preference:\",round(hi_df['goal'].mean())"
   ]
  },
  {
   "cell_type": "markdown",
   "metadata": {},
   "source": [
    "#### Is there a difference in how often participants from one group go out on a date vs. the other?"
   ]
  },
  {
   "cell_type": "code",
   "execution_count": 146,
   "metadata": {
    "collapsed": false
   },
   "outputs": [
    {
     "name": "stdout",
     "output_type": "stream",
     "text": [
      "no strong preference: 5.0\n",
      "strong preference: 5.0\n"
     ]
    }
   ],
   "source": [
    "print \"no strong preference:\",round(lw_df['date'].mean())\n",
    "print \"strong preference:\",round(hi_df['date'].mean())"
   ]
  },
  {
   "cell_type": "markdown",
   "metadata": {},
   "source": [
    "#### Is there a difference in how often participants from one group go out (not necessarily a date) vs. the other?"
   ]
  },
  {
   "cell_type": "code",
   "execution_count": 147,
   "metadata": {
    "collapsed": false
   },
   "outputs": [
    {
     "name": "stdout",
     "output_type": "stream",
     "text": [
      "no strong preference: 2.0\n",
      "strong preference: 2.0\n"
     ]
    }
   ],
   "source": [
    "print \"no strong preference:\",round(lw_df['go_out'].mean())\n",
    "print \"strong preference:\",round(hi_df['go_out'].mean())"
   ]
  },
  {
   "cell_type": "markdown",
   "metadata": {},
   "source": [
    "## Predicting Matches \n",
    "<a id = \"matches\"></a>\n",
    "\n",
    "**Hypothesis: a match between two people in a speed date can be predicted by:**\n",
    "    \n",
    "    -personal demographics of participant (e.g. gender, race, and age)\n",
    "\n",
    "    -reason for participating in speed dating event\n",
    "\n",
    "    -what the participant finds important in a partner\n",
    "\n",
    "    -how the participant rates their partner on attractiveness,sincerity, intelligence, fun, ambition, and shared \n",
    "    interests after the speed date\n",
    "\n",
    "    -what the participant thinks the probability their partner saying yes to another date with them is\n",
    "\n",
    "    -how much the participant like their partner after being on a speed date with him or her"
   ]
  },
  {
   "cell_type": "markdown",
   "metadata": {},
   "source": [
    "**Modeling approach:**\n",
    "\n",
    "> Since I am trying to predict matches and my goal to interpret the effects of my predictors on matches, I chose Logistic Regression and Random Forest Classifier models"
   ]
  },
  {
   "cell_type": "markdown",
   "metadata": {},
   "source": [
    "#### Subset data frame to speed date ratings,match results and etc. for all dates in the study"
   ]
  },
  {
   "cell_type": "code",
   "execution_count": 59,
   "metadata": {
    "collapsed": true
   },
   "outputs": [],
   "source": [
    "\n",
    "df_master = pd.read_csv(\"../capstone-projects/speed-dating-experiment/Speed Dating Data.csv\")\n",
    "#df of null values \n",
    "null_df = pd.DataFrame(df_master.isnull().sum())\n",
    "#Delete columns with large amount of null values and not important to hypothesis\n",
    "df_master.drop(df_master[['match_es','attr1_s','sinc1_s','intel1_s','fun1_s','amb1_s','shar1_s','attr3_s','sinc3_s',\n",
    " 'intel3_s','fun3_s','amb3_s',\n",
    " 'satis_2',\n",
    " 'length',\n",
    " 'numdat_2',\n",
    " 'attr7_2',\n",
    " 'sinc7_2',\n",
    " 'intel7_2',\n",
    " 'fun7_2',\n",
    " 'amb7_2',\n",
    " 'shar7_2',\n",
    " 'attr1_2',\n",
    " 'sinc1_2',\n",
    " 'intel1_2',\n",
    " 'fun1_2',\n",
    " 'amb1_2',\n",
    " 'shar1_2',\n",
    " 'attr4_2',\n",
    " 'sinc4_2',\n",
    " 'intel4_2',\n",
    " 'fun4_2',\n",
    " 'amb4_2',\n",
    " 'shar4_2',\n",
    " 'attr2_2',\n",
    " 'sinc2_2',\n",
    " 'intel2_2',\n",
    " 'fun2_2',\n",
    " 'amb2_2',\n",
    " 'shar2_2',\n",
    " 'attr3_2',\n",
    " 'sinc3_2',\n",
    " 'intel3_2',\n",
    " 'fun3_2',\n",
    " 'amb3_2',\n",
    " 'attr5_2',\n",
    " 'sinc5_2',\n",
    " 'intel5_2',\n",
    " 'fun5_2',\n",
    " 'amb5_2',\n",
    " 'you_call',\n",
    " 'them_cal',\n",
    " 'date_3',\n",
    " 'numdat_3',\n",
    " 'num_in_3',\n",
    " 'attr1_3',\n",
    " 'sinc1_3',\n",
    " 'intel1_3',\n",
    " 'fun1_3',\n",
    " 'amb1_3',\n",
    " 'shar1_3',\n",
    " 'attr7_3',\n",
    " 'sinc7_3',\n",
    " 'intel7_3',\n",
    " 'fun7_3',\n",
    " 'amb7_3',\n",
    " 'shar7_3',\n",
    " 'attr4_3',\n",
    " 'sinc4_3',\n",
    " 'intel4_3',\n",
    " 'fun4_3',\n",
    " 'amb4_3',\n",
    " 'shar4_3',\n",
    " 'attr2_3',\n",
    " 'sinc2_3',\n",
    " 'intel2_3',\n",
    " 'fun2_3',\n",
    " 'amb2_3',\n",
    " 'shar2_3',\n",
    " 'attr3_3',\n",
    " 'sinc3_3',\n",
    " 'intel3_3',\n",
    " 'fun3_3',\n",
    " 'amb3_3',\n",
    " 'attr5_3',\n",
    " 'sinc5_3',\n",
    " 'intel5_3',\n",
    " 'fun5_3',\n",
    " 'amb5_3',\"int_corr\",'sports',\n",
    " 'tvsports',\n",
    " 'exercise',\n",
    " 'dining',\n",
    " 'museums',\n",
    " 'art',\n",
    " 'hiking',\n",
    " 'gaming',\n",
    " 'clubbing',\n",
    " 'reading',\n",
    " 'tv',\n",
    " 'theater',\n",
    " 'movies',\n",
    " 'concerts',\n",
    " 'music',\n",
    " 'shopping',\n",
    " 'yoga',]], axis=1, inplace=True)"
   ]
  },
  {
   "cell_type": "code",
   "execution_count": 60,
   "metadata": {
    "collapsed": true
   },
   "outputs": [],
   "source": [
    "#Delete columns with large amount of null values and not important to hypothesis\n",
    "df_master.drop(df_master[['field','field_cd',\n",
    " 'undergra',\n",
    " 'mn_sat',\n",
    " 'tuition',\n",
    "'zipcode',\n",
    " 'income',\n",
    "'career',\n",
    "'career_c',\n",
    " 'exphappy',\n",
    " 'expnum',\n",
    "'attr4_1',\n",
    " 'sinc4_1',\n",
    " 'intel4_1',\n",
    " 'fun4_1',\n",
    " 'amb4_1',\n",
    " 'shar4_1',\n",
    " 'attr2_1',\n",
    " 'sinc2_1',\n",
    " 'intel2_1',\n",
    " 'fun2_1',\n",
    " 'amb2_1',\n",
    " 'shar2_1',\n",
    " 'attr3_1',\n",
    " 'sinc3_1',\n",
    " 'fun3_1',\n",
    " 'intel3_1',\n",
    " 'amb3_1',\n",
    " 'attr5_1',\n",
    " 'sinc5_1',\n",
    " 'intel5_1',\n",
    " 'fun5_1',\n",
    " 'amb5_1',\"positin1\"]],axis = 1, inplace = True)"
   ]
  },
  {
   "cell_type": "code",
   "execution_count": 61,
   "metadata": {
    "collapsed": true
   },
   "outputs": [],
   "source": [
    "#drop nans from columns that are needed\n",
    "df_master.dropna(inplace=True)\n",
    "#confirm no nulls\n",
    "#df_master.isnull().sum()"
   ]
  },
  {
   "cell_type": "code",
   "execution_count": 62,
   "metadata": {
    "collapsed": true
   },
   "outputs": [],
   "source": [
    "# Dataframe for predicting matches \n",
    "matches_df = df_master[['iid','gender','wave','partner','match','samerace','age','race','goal','date','go_out',\n",
    "'age_o','race_o','pf_o_att',\n",
    "'pf_o_sin','pf_o_int','pf_o_fun','pf_o_amb','pf_o_sha','attr_o','sinc_o','intel_o','fun_o','amb_o',\n",
    "'shar_o','like_o','prob_o','imprace','imprelig','attr','sinc','intel','fun',\n",
    "'amb','shar','like','prob','attr1_1',\"sinc1_1\",'intel1_1',\"fun1_1\",\"amb1_1\",\"shar1_1\"]]"
   ]
  },
  {
   "cell_type": "code",
   "execution_count": 63,
   "metadata": {
    "collapsed": false
   },
   "outputs": [
    {
     "name": "stderr",
     "output_type": "stream",
     "text": [
      "/Users/ltdanp21/anaconda/lib/python2.7/site-packages/ipykernel/__main__.py:2: SettingWithCopyWarning: \n",
      "A value is trying to be set on a copy of a slice from a DataFrame\n",
      "\n",
      "See the caveats in the documentation: http://pandas.pydata.org/pandas-docs/stable/indexing.html#indexing-view-versus-copy\n",
      "  from ipykernel import kernelapp as app\n"
     ]
    }
   ],
   "source": [
    "#sort dataframe by subject iid\n",
    "matches_df.sort_values([\"iid\"],inplace = True)"
   ]
  },
  {
   "cell_type": "code",
   "execution_count": 64,
   "metadata": {
    "collapsed": false
   },
   "outputs": [
    {
     "data": {
      "text/plain": [
       "<matplotlib.axes._subplots.AxesSubplot at 0x116f772d0>"
      ]
     },
     "execution_count": 64,
     "metadata": {},
     "output_type": "execute_result"
    },
    {
     "data": {
      "image/png": "[encoded data removed]",
      "text/plain": [
       "<matplotlib.figure.Figure at 0x116f77b10>"
      ]
     },
     "metadata": {},
     "output_type": "display_data"
    }
   ],
   "source": [
    "#heat map of variable correlations\n",
    "# we see here that how people rate each after each date are the strongest predictors of a possible match\n",
    "fig_heat = plt.figure(figsize=(15,8))\n",
    "sns.heatmap(matches_df.corr())"
   ]
  },
  {
   "cell_type": "code",
   "execution_count": 65,
   "metadata": {
    "collapsed": false
   },
   "outputs": [
    {
     "data": {
      "text/plain": [
       "(5454, 43)"
      ]
     },
     "execution_count": 65,
     "metadata": {},
     "output_type": "execute_result"
    }
   ],
   "source": [
    "#number of dates in the study 5,454 \n",
    "matches_df.shape"
   ]
  },
  {
   "cell_type": "code",
   "execution_count": 67,
   "metadata": {
    "collapsed": false
   },
   "outputs": [
    {
     "data": {
      "text/plain": [
       "0    4486\n",
       "1     968\n",
       "Name: match, dtype: int64"
      ]
     },
     "execution_count": 67,
     "metadata": {},
     "output_type": "execute_result"
    }
   ],
   "source": [
    "#proportion of matches and non-matches\n",
    "#4486 non-matches: 83% of total possible outcomes \n",
    "#968 matches: 17% of total possible outcomes\n",
    "# may have recall issues\n",
    "matches_df.match.value_counts()\n"
   ]
  },
  {
   "cell_type": "code",
   "execution_count": 74,
   "metadata": {
    "collapsed": false
   },
   "outputs": [
    {
     "name": "stdout",
     "output_type": "stream",
     "text": [
      "% of non-matches in dataset: 82.0\n",
      "% matches in dataset: 18.0\n"
     ]
    }
   ],
   "source": [
    "not_a_match = 4486\n",
    "matches = 968\n",
    "t = matches_df.match.value_counts().sum()\n",
    "print \"% of non-matches in dataset:\", round(not_a_match / t * 100)\n",
    "print \"% matches in dataset:\", round(matches / t * 100)"
   ]
  },
  {
   "cell_type": "markdown",
   "metadata": {},
   "source": [
    "#### Logistic Regression with scoring focused on accuracy \n",
    "<a id = \"lr\"></a>"
   ]
  },
  {
   "cell_type": "markdown",
   "metadata": {},
   "source": [
    "> Baseline: 18.0 %"
   ]
  },
  {
   "cell_type": "code",
   "execution_count": 78,
   "metadata": {
    "collapsed": false
   },
   "outputs": [
    {
     "name": "stdout",
     "output_type": "stream",
     "text": [
      "\n"
     ]
    }
   ],
   "source": [
    "import patsy\n",
    "from patsy import dmatrices"
   ]
  },
  {
   "cell_type": "code",
   "execution_count": 79,
   "metadata": {
    "collapsed": true
   },
   "outputs": [],
   "source": [
    "#create formula\n",
    "# gender already dummy coded\n",
    "lr_formula = \"\"\" match ~ gender + age + C(race) + C(goal) + C(date) + C(go_out) +\n",
    "age_o + C(race_o) + attr_o + sinc_o +intel_o + fun_o + amb_o + shar_o + like_o + prob_o + \n",
    "+ imprace + imprelig + attr + sinc + intel + fun + amb + shar + like + prob + \n",
    "+ pf_o_att + pf_o_sin + pf_o_int + pf_o_fun + pf_o_amb + pf_o_sha + \n",
    "attr1_1 + sinc1_1 + intel1_1 + fun1_1 + amb1_1 + shar1_1 -1\"\"\" "
   ]
  },
  {
   "cell_type": "code",
   "execution_count": 80,
   "metadata": {
    "collapsed": true
   },
   "outputs": [],
   "source": [
    "#create X and Y columns \n",
    "Y_lr,X_lr = patsy.dmatrices(lr_formula,data=matches_df, return_type = \"dataframe\")"
   ]
  },
  {
   "cell_type": "code",
   "execution_count": 81,
   "metadata": {
    "collapsed": false
   },
   "outputs": [],
   "source": [
    "#normalize predictor columns\n",
    "from sklearn.preprocessing import StandardScaler\n",
    "ls_ss = StandardScaler()\n",
    "\n",
    "x_lr = ls_ss.fit_transform(X_lr)"
   ]
  },
  {
   "cell_type": "code",
   "execution_count": 82,
   "metadata": {
    "collapsed": false
   },
   "outputs": [],
   "source": [
    "#instantiate LR model for gridsearch\n",
    "from sklearn.linear_model import LogisticRegression\n",
    "lr_grid = LogisticRegression()"
   ]
  },
  {
   "cell_type": "code",
   "execution_count": 83,
   "metadata": {
    "collapsed": true
   },
   "outputs": [],
   "source": [
    "from sklearn.grid_search import GridSearchCV\n",
    "\n",
    "# grid search\n",
    "\n",
    "#alpha strength\n",
    "#e.g. 10 to X power; x = -5 - 1 in increments of 20\n",
    "Cs_lr = np.logspace(-5,1, 20)\n",
    "   \n",
    "#specify parameters you would like searched\n",
    "search_parameters_lr = { \n",
    "    \"penalty\":             ['l1','l2'],   \n",
    "    \"C\":                   Cs_lr, \n",
    "    \"class_weight\":        [None, \"balanced\"]\n",
    "}\n",
    "\n",
    "# instantiate gridserach\n",
    "# pass model,search parameters, set cross validation number, and print out of process to 1)\n",
    "lr_gridCV = GridSearchCV(lr_grid, search_parameters_lr, cv = 4, verbose = 1)"
   ]
  },
  {
   "cell_type": "code",
   "execution_count": 84,
   "metadata": {
    "collapsed": true
   },
   "outputs": [],
   "source": [
    "#put Y column in correct format for grid search\n",
    "y_lr = np.ravel(Y_lr)"
   ]
  },
  {
   "cell_type": "code",
   "execution_count": 85,
   "metadata": {
    "collapsed": false
   },
   "outputs": [
    {
     "name": "stdout",
     "output_type": "stream",
     "text": [
      "Fitting 4 folds for each of 80 candidates, totalling 320 fits\n"
     ]
    },
    {
     "name": "stderr",
     "output_type": "stream",
     "text": [
      "[Parallel(n_jobs=1)]: Done  49 tasks       | elapsed:    0.9s\n",
      "[Parallel(n_jobs=1)]: Done 199 tasks       | elapsed:    5.0s\n",
      "[Parallel(n_jobs=1)]: Done 320 out of 320 | elapsed:   22.1s finished\n"
     ]
    },
    {
     "data": {
      "text/plain": [
       "GridSearchCV(cv=4, error_score='raise',\n",
       "       estimator=LogisticRegression(C=1.0, class_weight=None, dual=False, fit_intercept=True,\n",
       "          intercept_scaling=1, max_iter=100, multi_class='ovr', n_jobs=1,\n",
       "          penalty='l2', random_state=None, solver='liblinear', tol=0.0001,\n",
       "          verbose=0, warm_start=False),\n",
       "       fit_params={}, iid=True, n_jobs=1,\n",
       "       param_grid={'penalty': ['l1', 'l2'], 'C': array([  1.00000e-05,   2.06914e-05,   4.28133e-05,   8.85867e-05,\n",
       "         1.83298e-04,   3.79269e-04,   7.84760e-04,   1.62378e-03,\n",
       "         3.35982e-03,   6.95193e-03,   1.43845e-02,   2.97635e-02,\n",
       "         6.15848e-02,   1.27427e-01,   2.63665e-01,   5.45559e-01,\n",
       "         1.12884e+00,   2.33572e+00,   4.83293e+00,   1.00000e+01]), 'class_weight': [None, 'balanced']},\n",
       "       pre_dispatch='2*n_jobs', refit=True, scoring=None, verbose=1)"
      ]
     },
     "execution_count": 85,
     "metadata": {},
     "output_type": "execute_result"
    }
   ],
   "source": [
    "#fit gridsearch with data\n",
    "\n",
    "#pass normalized preditors and then response variable\n",
    "lr_gridCV.fit(x_lr,y_lr)"
   ]
  },
  {
   "cell_type": "code",
   "execution_count": 86,
   "metadata": {
    "collapsed": false
   },
   "outputs": [
    {
     "name": "stdout",
     "output_type": "stream",
     "text": [
      "Best C / Regularization Param: 0.0143844988829\n",
      "Best Params: {'penalty': 'l1', 'C': 0.01438449888287663, 'class_weight': None}\n",
      "Best Score: 0.842867620095\n",
      "baseline: 0.177484415108\n"
     ]
    }
   ],
   "source": [
    "print \"Best C / Regularization Param:\", lr_gridCV.best_estimator_.C # This estimator.best_estimator_ object has many great reporting metrics\n",
    "print \"Best Params:\", lr_gridCV.best_params_\n",
    "print \"Best Score:\", lr_gridCV.best_score_\n",
    "print \"baseline:\",np.mean(y_lr)"
   ]
  },
  {
   "cell_type": "code",
   "execution_count": 87,
   "metadata": {
    "collapsed": false
   },
   "outputs": [
    {
     "data": {
      "text/plain": [
       "LogisticRegression(C=0.0143844988829, class_weight=None, dual=False,\n",
       "          fit_intercept=True, intercept_scaling=1, max_iter=100,\n",
       "          multi_class='ovr', n_jobs=1, penalty='l1', random_state=None,\n",
       "          solver='liblinear', tol=0.0001, verbose=0, warm_start=False)"
      ]
     },
     "execution_count": 87,
     "metadata": {},
     "output_type": "execute_result"
    }
   ],
   "source": [
    "#instantiate lr model and fit to pull coefficients \n",
    "\n",
    "\n",
    "#pass liblinear solver and best parameters\n",
    "lr_coef = LogisticRegression(solver='liblinear', penalty = 'l1', C = 0.01438449888287663, class_weight = None)\n",
    "lr_coef.fit(X_lr,y_lr)"
   ]
  },
  {
   "cell_type": "code",
   "execution_count": 88,
   "metadata": {
    "collapsed": true
   },
   "outputs": [],
   "source": [
    "#cross value score to validate model\n",
    "from sklearn.cross_validation import cross_val_score\n",
    "\n",
    "lr_scores = cross_val_score(lr_coef,x_lr,y_lr,cv = 4)"
   ]
  },
  {
   "cell_type": "markdown",
   "metadata": {},
   "source": [
    "##### Model is consistently predicting at an overall score of 84.28%,significantly higher than the baseline model."
   ]
  },
  {
   "cell_type": "code",
   "execution_count": 91,
   "metadata": {
    "collapsed": false
   },
   "outputs": [
    {
     "name": "stdout",
     "output_type": "stream",
     "text": [
      "model scores for each validation: [ 0.84017595  0.84750733  0.84079237  0.8429934 ]\n",
      "mean of model scores: 0.842867262787\n",
      "baseline: 18.0 %\n"
     ]
    }
   ],
   "source": [
    "print \"model scores for each validation:\",lr_scores\n",
    "print \"mean of model scores:\",np.mean(lr_scores)\n",
    "base = np.mean(y_lr)\n",
    "print \"baseline:\", round(base * 100),\"%\""
   ]
  },
  {
   "cell_type": "code",
   "execution_count": 174,
   "metadata": {
    "collapsed": true
   },
   "outputs": [],
   "source": [
    "#predictions\n",
    "y_pred = lr_coef.predict(X_lr)"
   ]
  },
  {
   "cell_type": "code",
   "execution_count": 175,
   "metadata": {
    "collapsed": true
   },
   "outputs": [],
   "source": [
    "#coefficients\n",
    "lr_coefv = lr_coef.coef_\n",
    "#intercept\n",
    "lr_coefi = lr_coef.intercept_\n",
    "#Print coefficients and intercept \n",
    "#print lr_coefv\n",
    "#print lr_coefi"
   ]
  },
  {
   "cell_type": "code",
   "execution_count": 176,
   "metadata": {
    "collapsed": true
   },
   "outputs": [],
   "source": [
    "#visualize coefficients \n",
    "\n",
    "#first create dataframe of coefficents \n",
    "\n",
    "#predictor column from dmatrices\n",
    "lr_predictors = X_lr.columns\n",
    "#coefficents; call attribut and acess values\n",
    "lrcoef = lr_coefv[0]\n",
    "\n",
    "#turn dictionary of predicor columns and coef values into dataframe\n",
    "\n",
    "coef_df = pd.DataFrame({\"predictors\":lr_predictors, \"coefficients\":lrcoef})"
   ]
  },
  {
   "cell_type": "code",
   "execution_count": 177,
   "metadata": {
    "collapsed": true
   },
   "outputs": [],
   "source": [
    "coef_df.sort_values([\"coefficients\"],inplace = True, ascending = False)"
   ]
  },
  {
   "cell_type": "code",
   "execution_count": 178,
   "metadata": {
    "collapsed": false
   },
   "outputs": [
    {
     "data": {
      "image/png": "[encoded data removed]",
      "text/plain": [
       "<matplotlib.figure.Figure at 0x1174f7590>"
      ]
     },
     "metadata": {},
     "output_type": "display_data"
    }
   ],
   "source": [
    "#plot coeffcients \n",
    "\n",
    "#mask out variabeles that were thrown out in lasso\n",
    "not_0_mask = coef_df.coefficients != 0.000000\n",
    "plot_pred = coef_df[not_0_mask]\n",
    "\n",
    "#visualize\n",
    "\n",
    "#setsize and plot\n",
    "plot1 = plt.figure(figsize=(25,25))\n",
    "ax = sns.barplot(x=\"predictors\",y=\"coefficients\",data=plot_pred)"
   ]
  },
  {
   "cell_type": "markdown",
   "metadata": {},
   "source": [
    "##### This model does a good job of identifiying and  accurately predicting non-matches, but struggles to identify and accurately predict matches"
   ]
  },
  {
   "cell_type": "code",
   "execution_count": 179,
   "metadata": {
    "collapsed": false
   },
   "outputs": [
    {
     "name": "stdout",
     "output_type": "stream",
     "text": [
      "\n",
      "classification report\n",
      "             precision    recall  f1-score   support\n",
      "\n",
      "        0.0       0.86      0.97      0.91      4486\n",
      "        1.0       0.68      0.27      0.39       968\n",
      "\n",
      "avg / total       0.83      0.85      0.82      5454\n",
      "\n"
     ]
    }
   ],
   "source": [
    "#classification report\n",
    "from sklearn.metrics import classification_report\n",
    "print '\\nclassification report'\n",
    "# actual response values and your model's predictions\n",
    "print classification_report(y_lr, y_pred)"
   ]
  },
  {
   "cell_type": "code",
   "execution_count": 180,
   "metadata": {
    "collapsed": false
   },
   "outputs": [
    {
     "data": {
      "image/png": "[encoded data removed]",
      "text/plain": [
       "<matplotlib.figure.Figure at 0x118a87b10>"
      ]
     },
     "metadata": {},
     "output_type": "display_data"
    }
   ],
   "source": [
    "#plot ROC curve to visualize how well our model is doing in comparison to our baseline\n",
    "from sklearn.metrics import roc_curve, auc\n",
    "from matplotlib import pyplot as plt\n",
    "% matplotlib inline\n",
    "\n",
    "\n",
    "y_pp = lr_coef.predict_proba(x_lr)\n",
    "\n",
    "\n",
    "# pass ytest and predictions\n",
    "#three variables are assigned values based on what is passed ot the roc_curve function\n",
    "                                            #actual response values and prediction probabilities\n",
    "false_positive_rate, true_positive_rate, thresholds = roc_curve(y_lr, y_pp[:,1].ravel())\n",
    "\n",
    "\n",
    "roc_auc = auc(false_positive_rate, true_positive_rate)\n",
    "\n",
    "plt.title('Receiver Operating Characteristic')\n",
    "plt.plot(false_positive_rate, true_positive_rate, 'b',\n",
    "label='AUC = %0.2f'% roc_auc)\n",
    "plt.legend(loc='lower right')\n",
    "plt.plot([0,1],[0,1],'r--')\n",
    "plt.xlim([-0.1,1.2])\n",
    "plt.ylim([-0.1,1.2])\n",
    "plt.ylabel('True Positive Rate')\n",
    "plt.xlabel('False Positive Rate')\n",
    "plt.show()"
   ]
  },
  {
   "cell_type": "code",
   "execution_count": 181,
   "metadata": {
    "collapsed": true
   },
   "outputs": [],
   "source": [
    "#model predictions\n",
    "y_lrpre = lr_coef.predict(x_lr)"
   ]
  },
  {
   "cell_type": "code",
   "execution_count": 182,
   "metadata": {
    "collapsed": false
   },
   "outputs": [
    {
     "name": "stdout",
     "output_type": "stream",
     "text": [
      "predicted   0.0   1.0\n",
      "actual               \n",
      "0.0        2616  1870\n",
      "1.0         101   867\n"
     ]
    }
   ],
   "source": [
    "cmlr = pd.crosstab(y_lr,y_lrpre, rownames=[\"actual\"],colnames = [\"predicted\"])\n",
    "print cmlr"
   ]
  },
  {
   "cell_type": "code",
   "execution_count": 183,
   "metadata": {
    "collapsed": false
   },
   "outputs": [
    {
     "data": {
      "text/plain": [
       "0    4486\n",
       "1     968\n",
       "Name: match, dtype: int64"
      ]
     },
     "execution_count": 183,
     "metadata": {},
     "output_type": "execute_result"
    }
   ],
   "source": [
    "matches_df.match.value_counts()"
   ]
  },
  {
   "cell_type": "code",
   "execution_count": 111,
   "metadata": {
    "collapsed": false
   },
   "outputs": [
    {
     "name": "stdout",
     "output_type": "stream",
     "text": [
      "true positive rate (aka recall): 58.0 %\n"
     ]
    }
   ],
   "source": [
    "#true positive rate\n",
    "true_pos_rate = round(2614/4486*100)\n",
    "print \"true positive rate (aka recall):\",true_pos_rate,\"%\""
   ]
  },
  {
   "cell_type": "code",
   "execution_count": 112,
   "metadata": {
    "collapsed": false
   },
   "outputs": [
    {
     "name": "stdout",
     "output_type": "stream",
     "text": [
      "false positive rate (non matches predicted as matches): 10.0 %\n"
     ]
    }
   ],
   "source": [
    "#false positive rate\n",
    "false_pos_rate = round(101/968*100)\n",
    "print \"false positive rate (non matches predicted as matches):\",false_pos_rate,\"%\""
   ]
  },
  {
   "cell_type": "markdown",
   "metadata": {},
   "source": [
    "##### Since I am trying to predict matches and our first model is not doing well with that, I decided to test out a few more models. However my scoring metric will now be oriented towards precision and recall.  For the sake of brevity I will only show you the results of my Random Forest Classifier."
   ]
  },
  {
   "cell_type": "markdown",
   "metadata": {},
   "source": [
    "#### Random Forest Classifier with scoring focused on precision recall\n",
    "<a id = \"rfc\"></a>\n",
    "> Baseline: 18.0 %"
   ]
  },
  {
   "cell_type": "code",
   "execution_count": 92,
   "metadata": {
    "collapsed": true
   },
   "outputs": [],
   "source": [
    "#create formula\n",
    "# gender already dummy coded\n",
    "dt_formula = \"\"\" match ~ gender + age + C(race) + C(goal) + C(date) + C(go_out) +\n",
    "age_o + C(race_o) + attr_o + sinc_o +intel_o + fun_o + amb_o + shar_o + like_o + prob_o + \n",
    "+ imprace + imprelig + attr + sinc + intel + fun + amb + shar + like + prob + \n",
    "+ pf_o_att + pf_o_sin + pf_o_int + pf_o_fun + pf_o_amb + pf_o_sha + \n",
    "attr1_1 + sinc1_1 + intel1_1 + fun1_1 + amb1_1 + shar1_1 -1 \"\"\" "
   ]
  },
  {
   "cell_type": "code",
   "execution_count": 93,
   "metadata": {
    "collapsed": true
   },
   "outputs": [],
   "source": [
    "# no need to normalize predictor values when using Random Forest Classifier\n",
    "#create X and Y columns \n",
    "Y_dt,X_dt = patsy.dmatrices(dt_formula,data=matches_df, return_type = \"dataframe\")"
   ]
  },
  {
   "cell_type": "code",
   "execution_count": 95,
   "metadata": {
    "collapsed": true
   },
   "outputs": [],
   "source": [
    "#put Y column in correct format for grid search\n",
    "y_dt = np.ravel(Y_dt)"
   ]
  },
  {
   "cell_type": "code",
   "execution_count": 96,
   "metadata": {
    "collapsed": true
   },
   "outputs": [],
   "source": [
    "from sklearn.grid_search import GridSearchCV\n",
    "from sklearn.ensemble import RandomForestClassifier\n",
    "rfc = RandomForestClassifier()\n",
    "\n",
    "search_parameters_rfc = {\n",
    "    #number of models in forest\n",
    "    'n_estimators': [10,20,30],\n",
    "    #puriy criterion\n",
    "    'criterion': ['gini', 'entropy'],\n",
    "    #tree levels\n",
    "    'max_depth': [1,3,5, None],\n",
    "    #max number of features for decisions\n",
    "    'max_features': ['auto', 'sqrt', 'log2', None]\n",
    "    }\n",
    "rfc_est = GridSearchCV(rfc, search_parameters_rfc,scoring=\"average_precision\")"
   ]
  },
  {
   "cell_type": "code",
   "execution_count": 97,
   "metadata": {
    "collapsed": true
   },
   "outputs": [],
   "source": [
    "#fit gridsearch\n",
    "rf_grid = rfc_est.fit(X_dt,y_dt)"
   ]
  },
  {
   "cell_type": "code",
   "execution_count": 98,
   "metadata": {
    "collapsed": false
   },
   "outputs": [
    {
     "name": "stdout",
     "output_type": "stream",
     "text": [
      "parameters of best model: {'max_features': None, 'n_estimators': 10, 'criterion': 'entropy', 'max_depth': 1}\n",
      "best score of all models: 0.563444199581\n"
     ]
    }
   ],
   "source": [
    "print\"parameters of best model:\", rfc_est.best_params_\n",
    "print \"best score of all models:\", rfc_est.best_score_"
   ]
  },
  {
   "cell_type": "code",
   "execution_count": 99,
   "metadata": {
    "collapsed": true
   },
   "outputs": [],
   "source": [
    "#instantiate new model to pull out info\n",
    "\n",
    "rfc2 = RandomForestClassifier(max_features = None, n_estimators =30, criterion =  'gini', max_depth= 5)"
   ]
  },
  {
   "cell_type": "code",
   "execution_count": 100,
   "metadata": {
    "collapsed": false
   },
   "outputs": [
    {
     "data": {
      "text/plain": [
       "RandomForestClassifier(bootstrap=True, class_weight=None, criterion='gini',\n",
       "            max_depth=5, max_features=None, max_leaf_nodes=None,\n",
       "            min_samples_leaf=1, min_samples_split=2,\n",
       "            min_weight_fraction_leaf=0.0, n_estimators=30, n_jobs=1,\n",
       "            oob_score=False, random_state=None, verbose=0,\n",
       "            warm_start=False)"
      ]
     },
     "execution_count": 100,
     "metadata": {},
     "output_type": "execute_result"
    }
   ],
   "source": [
    "#fit model\n",
    "rfc2.fit(X_dt,y_dt)"
   ]
  },
  {
   "cell_type": "code",
   "execution_count": 101,
   "metadata": {
    "collapsed": true
   },
   "outputs": [],
   "source": [
    "#cross validate model\n",
    "from sklearn.cross_validation import cross_val_score\n",
    "\n",
    "rfc2_scores = cross_val_score(rfc2,X_dt,y_dt, scoring = \"average_precision\",cv = 3)"
   ]
  },
  {
   "cell_type": "code",
   "execution_count": 110,
   "metadata": {
    "collapsed": false
   },
   "outputs": [
    {
     "name": "stdout",
     "output_type": "stream",
     "text": [
      "all model scores [ 0.59645679  0.55770352  0.50411339]\n",
      "mean of model scores 0.552757898387\n",
      "baseline: 18.0 %\n"
     ]
    }
   ],
   "source": [
    "print \"all model scores\", rfc2_scores\n",
    "print \"mean of model scores\",np.mean(rfc2_scores)\n",
    "base2 = np.mean(y_dt)\n",
    "print \"baseline:\", round(base2 * 100),\"%\""
   ]
  },
  {
   "cell_type": "markdown",
   "metadata": {},
   "source": [
    "##### Our Random Forest Classifier does a slightly better job identifying matches and predicting them..."
   ]
  },
  {
   "cell_type": "code",
   "execution_count": 103,
   "metadata": {
    "collapsed": false
   },
   "outputs": [
    {
     "name": "stdout",
     "output_type": "stream",
     "text": [
      "\n",
      "classification report\n",
      "             precision    recall  f1-score   support\n",
      "\n",
      "        0.0       0.87      0.97      0.92      4486\n",
      "        1.0       0.73      0.34      0.46       968\n",
      "\n",
      "avg / total       0.85      0.86      0.84      5454\n",
      "\n"
     ]
    }
   ],
   "source": [
    "#classification report\n",
    "from sklearn.metrics import classification_report\n",
    "print '\\nclassification report'\n",
    "# actual response values and your model's predictions\n",
    "print classification_report(y_dt, rfc2.predict(X_dt))"
   ]
  },
  {
   "cell_type": "code",
   "execution_count": 104,
   "metadata": {
    "collapsed": false
   },
   "outputs": [],
   "source": [
    "#extract important features and visualize their importance\n",
    "forest_importances = rfc2.feature_importances_\n",
    "forest_feature_names = X_dt.columns\n",
    "features_forest_df = pd.DataFrame({\"features\":forest_feature_names,\"importance\":forest_importances})\n",
    "features_forest_df.sort_values([\"importance\"], ascending=False, inplace = True)\n",
    "ten = features_forest_df.head(10)"
   ]
  },
  {
   "cell_type": "code",
   "execution_count": 105,
   "metadata": {
    "collapsed": false
   },
   "outputs": [
    {
     "data": {
      "image/png": "[encoded data removed]",
      "text/plain": [
       "<matplotlib.figure.Figure at 0x11700d5d0>"
      ]
     },
     "metadata": {},
     "output_type": "display_data"
    }
   ],
   "source": [
    "#visualize random forest; top ten most important variables\n",
    "plot2 = plt.figure(figsize=(20,15))\n",
    "ax2 = sns.barplot(x=\"features\",y=\"importance\",data=ten)"
   ]
  },
  {
   "cell_type": "code",
   "execution_count": 106,
   "metadata": {
    "collapsed": false
   },
   "outputs": [
    {
     "name": "stdout",
     "output_type": "stream",
     "text": [
      "\n",
      "Confusion matrix:\n",
      "predicted   0.0  1.0\n",
      "actual              \n",
      "0.0        4366  120\n",
      "1.0         643  325\n"
     ]
    }
   ],
   "source": [
    "# prep for confusion matrix \n",
    "# pass prediction function predictor columns\n",
    "y_rfc2pre = rfc2.predict(X_dt)\n",
    "from sklearn.metrics import confusion_matrix\n",
    "print '\\nConfusion matrix:'\n",
    "cmrfc2 = pd.crosstab(y_dt,y_rfc2pre, rownames=[\"actual\"],colnames = [\"predicted\"]) \n",
    "print cmrfc2"
   ]
  },
  {
   "cell_type": "code",
   "execution_count": 113,
   "metadata": {
    "collapsed": false
   },
   "outputs": [
    {
     "name": "stdout",
     "output_type": "stream",
     "text": [
      "not a match recall\n",
      "true positive rate Random Forest Classifier(aka recall): 98.0 %\n"
     ]
    }
   ],
   "source": [
    "#true positive rate\n",
    "true_pos_rate_rfc = round(4381/4486*100)\n",
    "print  \"not a match recall\"\n",
    "print \"true positive rate Random Forest Classifier(aka recall):\",true_pos_rate_rfc,\"%\""
   ]
  },
  {
   "cell_type": "code",
   "execution_count": 114,
   "metadata": {
    "collapsed": false
   },
   "outputs": [
    {
     "name": "stdout",
     "output_type": "stream",
     "text": [
      "false positive rate (non matches predicted as match) : 66.0 %\n"
     ]
    }
   ],
   "source": [
    "#66% of the time our model predicts a non match when in actuality there was a match\n",
    "#false positive rate\n",
    "false_pos_rate_rfc = round(643/968*100)\n",
    "print \"false positive rate (non matches predicted as match) :\",false_pos_rate_rfc,\"%\""
   ]
  },
  {
   "cell_type": "code",
   "execution_count": 109,
   "metadata": {
    "collapsed": false
   },
   "outputs": [
    {
     "data": {
      "image/png": "[encoded data removed]",
      "text/plain": [
       "<matplotlib.figure.Figure at 0x11f7321d0>"
      ]
     },
     "metadata": {},
     "output_type": "display_data"
    }
   ],
   "source": [
    "from sklearn.metrics import roc_curve, auc, precision_recall_curve, average_precision_score\n",
    "from matplotlib import pyplot as plt\n",
    "% matplotlib inline\n",
    "\n",
    "#y_pp = lilac_tree.predict_proba(X_dt)\n",
    "y_rfcpp = rfc2.predict_proba(X_dt)\n",
    "\n",
    "plt.figure(figsize=(12,7))\n",
    "\n",
    "\n",
    "# passs ytest and predictions\n",
    "#three variables are assigned values based on what is passed ot the roc_curve function\n",
    "                                            #actual response values and prediction probabilities\n",
    "#false_positive_rate, true_positive_rate, thresholds = roc_curve(y_lr, y_pp[:,1].ravel())\n",
    "\n",
    "# we changed the matches to zero to get around that weird precision bug thing.\n",
    "precision, recall, thresholds = precision_recall_curve(y_dt, y_rfcpp[:,1].ravel())\n",
    "\n",
    "#roc_auc = auc(false_positive_rate, true_positive_rate)\n",
    "\n",
    "pr_auc = average_precision_score(y_dt, y_rfcpp[:,1].ravel())\n",
    "\n",
    "#plt.title('Receiver Operating Characteristic')\n",
    "plt.title('Area Under Precision Recall Curve')\n",
    "\n",
    "label=('PRAUC = %0.2f'% pr_auc)\n",
    "\n",
    "#plt.plot(false_positive_rate, true_positive_rate, 'b',\n",
    "plt.plot(recall, precision, 'b', label=label)\n",
    "\n",
    "\n",
    "plt.fill_between(recall, 0, np.tile(np.mean(y_dt), len(recall)), \n",
    "                 facecolor='green', alpha=0.4, label='Baseline PRAUC (match%)')\n",
    "\n",
    "plt.legend(loc='upper right')\n",
    "#plt.plot([0,1],[0,1],'r--')\n",
    "plt.xlim([-0.1,1.2])\n",
    "plt.ylim([-0.1,1.2])\n",
    "# plt.ylabel('True Positive Rate')\n",
    "plt.ylabel('Precision')\n",
    "# plt.xlabel('False Positive Rate')\n",
    "plt.xlabel('Recall')\n",
    "plt.show()"
   ]
  }
 ],
 "metadata": {
  "kernelspec": {
   "display_name": "Python 2",
   "language": "python",
   "name": "python2"
  },
  "language_info": {
   "codemirror_mode": {
    "name": "ipython",
    "version": 2
   },
   "file_extension": ".py",
   "mimetype": "text/x-python",
   "name": "python",
   "nbconvert_exporter": "python",
   "pygments_lexer": "ipython2",
   "version": "2.7.11"
  }
 },
 "nbformat": 4,
 "nbformat_minor": 0
}
