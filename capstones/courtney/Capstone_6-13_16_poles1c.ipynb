{
 "cells": [
  {
   "cell_type": "markdown",
   "metadata": {},
   "source": [
    "## EDA"
   ]
  },
  {
   "cell_type": "markdown",
   "metadata": {},
   "source": [
    "Data Dictionary\n",
    "\n",
    "iid : unique id of study participant\n",
    "id: subject number within wave\n",
    "gender : gender of study participant; 1 = Male & 0 = Female\n",
    "\n",
    "idg : subject \n",
    "condtn : uknown\n",
    "wave : wave number\n",
    "round : number of people that met in wave\n",
    "position : station number where participant met partner\n",
    "positin1 : station number where participant started\n",
    "order : number of date that night when participant met partner \n",
    "partner : partner's id number the night of event\n",
    "pid : partner's iid number\n",
    "match : 1 = yes & 0 = no ; 1 = both participants would like to see each other again; 0 = no match\n",
    "\n",
    "Scorecard after date\n",
    "dec : 1 = yes participant would like to see their date again 0 = no, they participant would not like to see their date again\n",
    "scale of 1-10 rating on date's'attr', 'sinc', 'intel', 'fun', 'amb', 'shar', 'like',\n",
    "prob' scale of 1-10 ' how likely the participant thinks their date will say yes to a date with them\n",
    "'met'- 1 yes 2 no the participant has not met their date before\n",
    "\n",
    "Signup/Time1 Survey\n",
    "attr1_1 = participant's rating of importance of attractiveness in a potential partner\n",
    "   waves 6-9 scale of 1-10 all others waves distribut points out of 100\n",
    "* same for all other attributes ratings in desired partners\n",
    "\n",
    "\n",
    "intel3_1 : how intelligent participant thinks he or she is on a scale of 1-10 all waves\n",
    "* same for all other attributes ratings of self\n",
    "\n",
    "\n",
    "Participants interests in activites are on a scale of 1-10\n",
    "\n",
    "\n",
    "imprace = importance of have a partner with the samerace on a scale of 1-10\n",
    "\n",
    "\n",
    "\n",
    "int_corr : correlation between participant's and partner's ratings of interest in Time 1\n",
    "samerace : participant and partner were the same race. 1 = yes & 0 = no\n",
    "age_o : age of partner\n",
    "race_o : race of partner\n",
    "pf_o_att : partner's stated preference at time 1 (attr1_1) for all 6 attributes\n",
    "\n",
    "pf_o_sin : partner's stated preference at time 1 sincere\n",
    "pf_o_int :partner's stated preference at time 1 intelligent\n",
    "pf_o_fun :partner's stated preference at time 1 fun\n",
    "pf_o_amb :partner's stated preference at time 1 ambition\n",
    "pf_o_sha :partner's stated preference at time 1 shared interests\n",
    "\n",
    "dec_o : decision of partner the night of event\n",
    "attr_o : how your partner rated you on attractiveness\n",
    "sinc_o: how your partner rated you on sincerity\n",
    "intel_o: how your partner rated you on intelligence\n",
    "fun_o: how your partner rated you on fun\n",
    "amb_o: how your partner rated you on ambition\n",
    "shar_o: how your partner rated you on shared interest\n",
    "like_o: how much your partner liked you\n",
    "prob_o: how your partner thought you would say yes to a date with them\n",
    "met_o: whether or not your partner had met you before, 1 = yes and 0 = no\n",
    "\n",
    "goal : participants primary goal in this event; 1 = seemed like a fun night out; 2 = to meet new people; 3 = to get a date; 4 = looking for a serious relationship; 5 = to say I did it; 6 = other \n",
    "\n",
    "date : how frequently the participant goes out on a date; Several times a week=1;Twice a week=2; Once a week=3; Twice a month=4; Once a month=5; Several times a year=6; Almost never=7\n",
    "\n",
    "go_out : How often do you go out (not necessarily on dates)? Several times a week=1; Twice a week=2; Once a week=3; Twice a month=4; Once a month=5; Several times a year=6; Almost never=7\n",
    "\n",
    "imprelig : How important is it to you (on a scale of 1-10) that a person you date be of the same religious background?\n",
    "\n",
    "intel : participant's rating of partner's intelligence scale 1-10\n",
    "fun : participant's rating of partner's fun scale 1-10\n",
    "amb: \n",
    "shar:  participant's rating of partner's shared interests scale 1-10\n",
    "like:  participant rating of how much the like their date scale 1-10\n",
    "prob:  participant's rating of probability person will say yes to date with participant scale 1-10\n",
    "met :  whether participant met partner before, 1 = yes, 0 = No\n",
    "\n",
    "intel    : your rating of partner\n",
    "    intel_o  : how your partner rated you on intelligence\n",
    "    \n",
    "    intel1_s : importance of intelligence in a potential date (half way through)\n",
    "    intel3_s : opinion of own intelligence (half way through)\n",
    "    \n",
    "    intel1_1 : how important intelligence (dating event)\n",
    "    intel1_2 : how important intelligence (followup 1)\n",
    "    intel1_3 : how important intelligence (followup 2)\n",
    "    \n",
    "    intel2_1 : what opposite sex looks for in date (dating event)\n",
    "    intel2_2 : what opposite sex looks for in date (followup 1)\n",
    "    intel2_3 : what opposite sex looks for in date (followup 2)\n",
    "    \n",
    "    intel3_1 : how intelligent you think you are (dating event)\n",
    "    intel3_2 : how intelligent you think you are (followup 1)\n",
    "    intel3_3 : how intelligent you think you are (followup 2)\n",
    "    \n",
    "    intel4_1 : how important intel to others of same sex (dating event)\n",
    "    intel4_2 : how important intel to others of same sex (followup 1)\n",
    "    intel4_3 : how important intel to others of same sex (followup 2)\n",
    "    \n",
    "    intel5_1 : how intelligent others think you are (dating event)\n",
    "    intel5_2 : how intelligent others think you are (followup 1)\n",
    "    intel5_3 : how intelligent others think you are (followup 2)\n",
    "    \n",
    "    intel7_2 : importance of intelligence upon reflection (followup 1)\n",
    "    intel7_3 : importance of intelligence upon reflection (followup 2)\n",
    "\n",
    "DataFrames\n",
    "\n",
    "demop_df: demographic information with removed duplicate subject IDs\n",
    "\n",
    "race_dum_code: interracial dates and decision information only \n",
    "    0 = participant's no dec to seeing their date again who is of a different race\n",
    "    1 = participant's yes decision to seeing their date again who is of a different race \n",
    "    \n",
    "samerace_daters = those participants who said no to a date outside their race and their demographic,rating, and\n",
    "interests information\n",
    "\n",
    "\n",
    "interracial_daters = those participants who said yes to a date outside their race and their demographic,rating, and\n",
    "interests information\n",
    "\n"
   ]
  },
  {
   "cell_type": "code",
   "execution_count": 1,
   "metadata": {
    "collapsed": true
   },
   "outputs": [],
   "source": [
    "import numpy as np\n",
    "import pandas as pd\n",
    "import seaborn as sns\n",
    "import matplotlib.pyplot as plt\n",
    "\n",
    "%matplotlib inline\n",
    "%config InlineBackend.figure_format = 'retina'"
   ]
  },
  {
   "cell_type": "code",
   "execution_count": 2,
   "metadata": {
    "collapsed": false
   },
   "outputs": [],
   "source": [
    "Q1= pd.read_csv('../../projects/capstone-projects/speed-dating-experiment/Speed Dating Data.csv')"
   ]
  },
  {
   "cell_type": "code",
   "execution_count": 3,
   "metadata": {
    "collapsed": false
   },
   "outputs": [
    {
     "data": {
      "text/plain": [
       "Index([u'iid', u'id', u'gender', u'idg', u'condtn', u'wave', u'round',\n",
       "       u'position', u'positin1', u'order',\n",
       "       ...\n",
       "       u'attr3_3', u'sinc3_3', u'intel3_3', u'fun3_3', u'amb3_3', u'attr5_3',\n",
       "       u'sinc5_3', u'intel5_3', u'fun5_3', u'amb5_3'],\n",
       "      dtype='object', length=195)"
      ]
     },
     "execution_count": 3,
     "metadata": {},
     "output_type": "execute_result"
    }
   ],
   "source": [
    "Q1.columns"
   ]
  },
  {
   "cell_type": "code",
   "execution_count": 4,
   "metadata": {
    "collapsed": false
   },
   "outputs": [
    {
     "data": {
      "text/plain": [
       "array([  7.,   3.,   8.,   5.,   9.,   6.,   4.,  10.,  nan,   2.])"
      ]
     },
     "execution_count": 4,
     "metadata": {},
     "output_type": "execute_result"
    }
   ],
   "source": [
    "#unique values of participant self ratings of ambition...\n",
    "Q1.amb3_1.unique()"
   ]
  },
  {
   "cell_type": "code",
   "execution_count": 5,
   "metadata": {
    "collapsed": false
   },
   "outputs": [
    {
     "data": {
      "text/plain": [
       "array([  15.  ,   45.  ,   35.  ,   20.  ,   10.  ,    9.09,   60.  ,\n",
       "         19.  ,   30.  ,   50.  ,   33.33,  100.  ,   12.  ,   17.  ,\n",
       "           nan,   25.  ,   40.  ,    5.  ,   21.  ,   14.  ,   18.  ,\n",
       "         80.  ,   16.67,   12.77,    6.67,   18.18,   17.39,   18.75,\n",
       "         18.6 ,   20.83,   14.29,    8.33,   16.  ,   11.36,   15.09,\n",
       "          8.51,   14.55,    9.76,   15.38,   19.05,   15.91,   15.22,\n",
       "         20.51,   27.78,   11.11,   17.78,   16.28,   19.57,   18.37,\n",
       "          9.52,   12.24,   13.04,   19.15,   16.07,   16.98,   19.44,\n",
       "         15.56,   20.45,   20.93,   17.65,   17.5 ,   13.21,   19.61,\n",
       "         14.58,   17.31,   11.54,   16.36,   15.52,   17.02,   14.89,\n",
       "          7.5 ,   21.28,   17.24,   14.71,   25.64,   13.51,   21.43,\n",
       "         23.81,   90.  ,   22.  ,    0.  ,    7.  ,   24.  ,   27.  ,\n",
       "         23.  ,    2.  ,    9.  ,   31.58,   75.  ,    8.  ,   70.  ,\n",
       "         95.  ,   55.  ,   28.  ,   58.  ])"
      ]
     },
     "execution_count": 5,
     "metadata": {},
     "output_type": "execute_result"
    }
   ],
   "source": [
    "Q1.attr1_1.unique()"
   ]
  },
  {
   "cell_type": "markdown",
   "metadata": {},
   "source": [
    "## Dataframe with Demographic and Ratings Information for each Participant"
   ]
  },
  {
   "cell_type": "code",
   "execution_count": 6,
   "metadata": {
    "collapsed": false
   },
   "outputs": [
    {
     "name": "stderr",
     "output_type": "stream",
     "text": [
      "/Users/ltdanp21/anaconda/lib/python2.7/site-packages/ipykernel/__main__.py:12: SettingWithCopyWarning: \n",
      "A value is trying to be set on a copy of a slice from a DataFrame\n",
      "\n",
      "See the caveats in the documentation: http://pandas.pydata.org/pandas-docs/stable/indexing.html#indexing-view-versus-copy\n",
      "/Users/ltdanp21/anaconda/lib/python2.7/site-packages/pandas/util/decorators.py:91: SettingWithCopyWarning: \n",
      "A value is trying to be set on a copy of a slice from a DataFrame\n",
      "\n",
      "See the caveats in the documentation: http://pandas.pydata.org/pandas-docs/stable/indexing.html#indexing-view-versus-copy\n",
      "  return func(*args, **kwargs)\n"
     ]
    }
   ],
   "source": [
    "# remove duplicate subject iids for accuracy of participant demographic information\n",
    "demop_df =  Q1[[\"iid\", \"wave\", \"gender\",\"age\", \"race\",\"imprace\",\"imprelig\",\"goal\",\"date\",\"go_out\", \n",
    "                \"attr1_1\",\"sinc1_1\",\"intel1_1\",\"fun1_1\", \n",
    "                \"amb1_1\",\"shar1_1\",\"attr3_1\", \"sinc3_1\", \"fun3_1\", \"intel3_1\", \"amb3_1\",\n",
    "                'sports', 'tvsports', 'exercise', 'dining', 'museums', 'art', 'hiking', \n",
    "                'gaming', 'clubbing', 'reading', \n",
    "                'tv', 'theater', 'movies', 'concerts',\n",
    "                'music', 'shopping', 'yoga','dec', 'attr', 'sinc', 'intel', \n",
    "                'fun', 'amb', 'shar', 'like', 'prob', 'met',]]\n",
    "\n",
    "# sort subject ids\n",
    "demop_df.sort_values(['iid','wave'], inplace=True)\n",
    "\n",
    "# drop duplicates \n",
    "demop_df.drop_duplicates(['iid'], inplace=True)"
   ]
  },
  {
   "cell_type": "code",
   "execution_count": 7,
   "metadata": {
    "collapsed": false
   },
   "outputs": [
    {
     "name": "stderr",
     "output_type": "stream",
     "text": [
      "/Users/ltdanp21/anaconda/lib/python2.7/site-packages/ipykernel/__main__.py:1: SettingWithCopyWarning: \n",
      "A value is trying to be set on a copy of a slice from a DataFrame\n",
      "\n",
      "See the caveats in the documentation: http://pandas.pydata.org/pandas-docs/stable/indexing.html#indexing-view-versus-copy\n",
      "  if __name__ == '__main__':\n"
     ]
    }
   ],
   "source": [
    "demop_df.dropna(inplace = True)"
   ]
  },
  {
   "cell_type": "markdown",
   "metadata": {},
   "source": [
    "## Some Descriptive Statistics"
   ]
  },
  {
   "cell_type": "code",
   "execution_count": 8,
   "metadata": {
    "collapsed": false
   },
   "outputs": [],
   "source": [
    "#number of participants\n",
    "#436"
   ]
  },
  {
   "cell_type": "code",
   "execution_count": 9,
   "metadata": {
    "collapsed": false
   },
   "outputs": [
    {
     "data": {
      "text/plain": [
       "(436, 48)"
      ]
     },
     "execution_count": 9,
     "metadata": {},
     "output_type": "execute_result"
    }
   ],
   "source": [
    "demop_df.shape"
   ]
  },
  {
   "cell_type": "code",
   "execution_count": 10,
   "metadata": {
    "collapsed": false
   },
   "outputs": [
    {
     "data": {
      "text/plain": [
       "array([ 1,  2,  3,  4,  5,  6,  7,  8,  9, 10, 11, 12, 13, 14, 15, 16, 17,\n",
       "       18, 19, 20, 21])"
      ]
     },
     "execution_count": 10,
     "metadata": {},
     "output_type": "execute_result"
    }
   ],
   "source": [
    "#number of waves\n",
    "#21\n",
    "demop_df.wave.unique()"
   ]
  },
  {
   "cell_type": "code",
   "execution_count": 11,
   "metadata": {
    "collapsed": false
   },
   "outputs": [
    {
     "data": {
      "text/plain": [
       "array([  7.,   3.,   8.,   5.,   9.,   6.,   4.,  10.,   2.])"
      ]
     },
     "execution_count": 11,
     "metadata": {},
     "output_type": "execute_result"
    }
   ],
   "source": [
    "# unique ratings of how ambitious a participant thinks they are\n",
    "demop_df.amb3_1.unique()"
   ]
  },
  {
   "cell_type": "code",
   "execution_count": 12,
   "metadata": {
    "collapsed": false
   },
   "outputs": [
    {
     "data": {
      "text/plain": [
       "1    220\n",
       "0    216\n",
       "Name: gender, dtype: int64"
      ]
     },
     "execution_count": 12,
     "metadata": {},
     "output_type": "execute_result"
    }
   ],
   "source": [
    "#number of males and females\n",
    "# 1 220 males\n",
    "#0  216 females \n",
    "# 3 more males than females\n",
    "demop_df.gender.value_counts()"
   ]
  },
  {
   "cell_type": "code",
   "execution_count": 13,
   "metadata": {
    "collapsed": false
   },
   "outputs": [
    {
     "data": {
      "text/plain": [
       "gender  imprace\n",
       "0       1.0        62\n",
       "        2.0        27\n",
       "        3.0        25\n",
       "        8.0        24\n",
       "        5.0        18\n",
       "        9.0        17\n",
       "        4.0        11\n",
       "        6.0        11\n",
       "        10.0       11\n",
       "        7.0         9\n",
       "        0.0         1\n",
       "1       1.0        84\n",
       "        3.0        31\n",
       "        2.0        21\n",
       "        7.0        19\n",
       "        6.0        17\n",
       "        5.0        14\n",
       "        8.0        14\n",
       "        4.0        13\n",
       "        9.0         5\n",
       "        10.0        2\n",
       "dtype: int64"
      ]
     },
     "execution_count": 13,
     "metadata": {},
     "output_type": "execute_result"
    }
   ],
   "source": [
    "#women show preference for dating within race\n",
    "demop_df.groupby([\"gender\"])[\"imprace\"].value_counts()"
   ]
  },
  {
   "cell_type": "markdown",
   "metadata": {
    "collapsed": true
   },
   "source": [
    "presumption that this dataset describes heterosexual relationships only (BOO!)"
   ]
  },
  {
   "cell_type": "code",
   "execution_count": 14,
   "metadata": {
    "collapsed": false
   },
   "outputs": [],
   "source": [
    "# ages of participants\n",
    "age_series= demop_df.age.value_counts()\n"
   ]
  },
  {
   "cell_type": "code",
   "execution_count": 15,
   "metadata": {
    "collapsed": false
   },
   "outputs": [
    {
     "data": {
      "text/plain": [
       "26.0"
      ]
     },
     "execution_count": 15,
     "metadata": {},
     "output_type": "execute_result"
    }
   ],
   "source": [
    "# median age\n",
    "demop_df.age.median()"
   ]
  },
  {
   "cell_type": "code",
   "execution_count": 16,
   "metadata": {
    "collapsed": false
   },
   "outputs": [
    {
     "data": {
      "text/plain": [
       "0    27.0\n",
       "dtype: float64"
      ]
     },
     "execution_count": 16,
     "metadata": {},
     "output_type": "execute_result"
    }
   ],
   "source": [
    "# mode of age \n",
    "demop_df.age.mode()"
   ]
  },
  {
   "cell_type": "code",
   "execution_count": 17,
   "metadata": {
    "collapsed": false
   },
   "outputs": [
    {
     "data": {
      "image/png": "[encoded data removed]",
      "text/plain": [
       "<matplotlib.figure.Figure at 0x1164d1250>"
      ]
     },
     "metadata": {
      "image/png": {
       "height": 203,
       "width": 741
      }
     },
     "output_type": "display_data"
    }
   ],
   "source": [
    "# dictionary ages of participants\n",
    "age_dict = dict(demop_df.age.value_counts())\n",
    "\n",
    "fig_age = plt.figure(figsize=(12.7,3),dpi=300)\n",
    "\n",
    "plt.bar(range(len(age_dict)), age_dict.values(), align='center')\n",
    "plt.xticks(range(len(age_dict)), list(age_dict.keys()))\n",
    "\n",
    "plt.show()"
   ]
  },
  {
   "cell_type": "code",
   "execution_count": 18,
   "metadata": {
    "collapsed": false
   },
   "outputs": [
    {
     "data": {
      "text/plain": [
       "2.0    241\n",
       "4.0    108\n",
       "3.0     34\n",
       "6.0     32\n",
       "1.0     21\n",
       "Name: race, dtype: int64"
      ]
     },
     "execution_count": 18,
     "metadata": {},
     "output_type": "execute_result"
    }
   ],
   "source": [
    "demop_df.race.value_counts()"
   ]
  },
  {
   "cell_type": "code",
   "execution_count": 19,
   "metadata": {
    "collapsed": false
   },
   "outputs": [],
   "source": [
    "from __future__ import division\n",
    "\n",
    "# race \n",
    "race_val_list = list(demop_df.race.value_counts())\n",
    "\n",
    "# 2 = White 55% \n",
    "# 4 = Asian/Pacific_Islander/Asian_American 25%\n",
    "# 3 = Latino/Hispanic_American 8 % \n",
    "# 6 = Other 7 % \n",
    "# 1 = Black 5 % \n",
    "\n",
    "# 5 = Native American, there were none in this study\n",
    "\n",
    "percenp_race = []\n",
    "\n",
    "for r in race_val_list:\n",
    "    a = r/436\n",
    "    b = a * 100\n",
    "    percenp_race.append(round(b))\n",
    "    "
   ]
  },
  {
   "cell_type": "code",
   "execution_count": 20,
   "metadata": {
    "collapsed": false
   },
   "outputs": [
    {
     "data": {
      "text/plain": [
       "[55.0, 25.0, 8.0, 7.0, 5.0]"
      ]
     },
     "execution_count": 20,
     "metadata": {},
     "output_type": "execute_result"
    }
   ],
   "source": [
    "# percentage of population each race makes up\n",
    "percenp_race"
   ]
  },
  {
   "cell_type": "code",
   "execution_count": 21,
   "metadata": {
    "collapsed": false
   },
   "outputs": [
    {
     "data": {
      "text/plain": [
       "20.761904761904763"
      ]
     },
     "execution_count": 21,
     "metadata": {},
     "output_type": "execute_result"
    }
   ],
   "source": [
    "#average number of people in waves\n",
    "demop_df.groupby(['wave'])[\"iid\"].count().mean()"
   ]
  },
  {
   "cell_type": "code",
   "execution_count": 22,
   "metadata": {
    "collapsed": false
   },
   "outputs": [
    {
     "data": {
      "text/plain": [
       "iid         0\n",
       "wave        0\n",
       "gender      0\n",
       "age         0\n",
       "race        0\n",
       "imprace     0\n",
       "imprelig    0\n",
       "goal        0\n",
       "date        0\n",
       "go_out      0\n",
       "attr1_1     0\n",
       "sinc1_1     0\n",
       "intel1_1    0\n",
       "fun1_1      0\n",
       "amb1_1      0\n",
       "shar1_1     0\n",
       "attr3_1     0\n",
       "sinc3_1     0\n",
       "fun3_1      0\n",
       "intel3_1    0\n",
       "amb3_1      0\n",
       "sports      0\n",
       "tvsports    0\n",
       "exercise    0\n",
       "dining      0\n",
       "museums     0\n",
       "art         0\n",
       "hiking      0\n",
       "gaming      0\n",
       "clubbing    0\n",
       "reading     0\n",
       "tv          0\n",
       "theater     0\n",
       "movies      0\n",
       "concerts    0\n",
       "music       0\n",
       "shopping    0\n",
       "yoga        0\n",
       "dec         0\n",
       "attr        0\n",
       "sinc        0\n",
       "intel       0\n",
       "fun         0\n",
       "amb         0\n",
       "shar        0\n",
       "like        0\n",
       "prob        0\n",
       "met         0\n",
       "dtype: int64"
      ]
     },
     "execution_count": 22,
     "metadata": {},
     "output_type": "execute_result"
    }
   ],
   "source": [
    "demop_df.isnull().sum()"
   ]
  },
  {
   "cell_type": "markdown",
   "metadata": {},
   "source": [
    "## Creation of subset of interracial dates only"
   ]
  },
  {
   "cell_type": "code",
   "execution_count": 23,
   "metadata": {
    "collapsed": false
   },
   "outputs": [],
   "source": [
    "list_col = list(Q1.columns)"
   ]
  },
  {
   "cell_type": "code",
   "execution_count": 24,
   "metadata": {
    "collapsed": false
   },
   "outputs": [
    {
     "name": "stdout",
     "output_type": "stream",
     "text": [
      "['iid', 'id', 'gender', 'idg', 'condtn', 'wave', 'round', 'position', 'positin1', 'order', 'partner', 'pid', 'match', 'int_corr', 'samerace', 'age_o', 'race_o', 'pf_o_att', 'pf_o_sin', 'pf_o_int', 'pf_o_fun', 'pf_o_amb', 'pf_o_sha', 'dec_o', 'attr_o', 'sinc_o', 'intel_o', 'fun_o', 'amb_o', 'shar_o', 'like_o', 'prob_o', 'met_o', 'age', 'field', 'field_cd', 'undergra', 'mn_sat', 'tuition', 'race', 'imprace', 'imprelig', 'from', 'zipcode', 'income', 'goal', 'date', 'go_out', 'career', 'career_c', 'sports', 'tvsports', 'exercise', 'dining', 'museums', 'art', 'hiking', 'gaming', 'clubbing', 'reading', 'tv', 'theater', 'movies', 'concerts', 'music', 'shopping', 'yoga', 'exphappy', 'expnum', 'attr1_1', 'sinc1_1', 'intel1_1', 'fun1_1', 'amb1_1', 'shar1_1', 'attr4_1', 'sinc4_1', 'intel4_1', 'fun4_1', 'amb4_1', 'shar4_1', 'attr2_1', 'sinc2_1', 'intel2_1', 'fun2_1', 'amb2_1', 'shar2_1', 'attr3_1', 'sinc3_1', 'fun3_1', 'intel3_1', 'amb3_1', 'attr5_1', 'sinc5_1', 'intel5_1', 'fun5_1', 'amb5_1', 'dec', 'attr', 'sinc', 'intel', 'fun', 'amb', 'shar', 'like', 'prob', 'met', 'match_es', 'attr1_s', 'sinc1_s', 'intel1_s', 'fun1_s', 'amb1_s', 'shar1_s', 'attr3_s', 'sinc3_s', 'intel3_s', 'fun3_s', 'amb3_s', 'satis_2', 'length', 'numdat_2', 'attr7_2', 'sinc7_2', 'intel7_2', 'fun7_2', 'amb7_2', 'shar7_2', 'attr1_2', 'sinc1_2', 'intel1_2', 'fun1_2', 'amb1_2', 'shar1_2', 'attr4_2', 'sinc4_2', 'intel4_2', 'fun4_2', 'amb4_2', 'shar4_2', 'attr2_2', 'sinc2_2', 'intel2_2', 'fun2_2', 'amb2_2', 'shar2_2', 'attr3_2', 'sinc3_2', 'intel3_2', 'fun3_2', 'amb3_2', 'attr5_2', 'sinc5_2', 'intel5_2', 'fun5_2', 'amb5_2', 'you_call', 'them_cal', 'date_3', 'numdat_3', 'num_in_3', 'attr1_3', 'sinc1_3', 'intel1_3', 'fun1_3', 'amb1_3', 'shar1_3', 'attr7_3', 'sinc7_3', 'intel7_3', 'fun7_3', 'amb7_3', 'shar7_3', 'attr4_3', 'sinc4_3', 'intel4_3', 'fun4_3', 'amb4_3', 'shar4_3', 'attr2_3', 'sinc2_3', 'intel2_3', 'fun2_3', 'amb2_3', 'shar2_3', 'attr3_3', 'sinc3_3', 'intel3_3', 'fun3_3', 'amb3_3', 'attr5_3', 'sinc5_3', 'intel5_3', 'fun5_3', 'amb5_3']\n"
     ]
    }
   ],
   "source": [
    "print list_col"
   ]
  },
  {
   "cell_type": "code",
   "execution_count": 25,
   "metadata": {
    "collapsed": false
   },
   "outputs": [],
   "source": [
    "# dataframe with particpant decisions after their dates, duplicates not removed so can see results of all dates \n",
    "#particpant went on\n",
    "Q_one = Q1[[\"iid\",\"wave\",\"round\",\"id\",\"dec\",\"gender\",\"samerace\",\"age\",\"race\",\"imprelig\",\"goal\",\"date\",\"go_out\",'attr3_1',\n",
    "'sinc3_1',\n",
    "'fun3_1',\n",
    "'intel3_1',\n",
    "'amb3_1',\"attr1_1\",\"sinc1_1\",\"intel1_1\",\"fun1_1\",\"amb1_1\",\"shar1_1\",]]"
   ]
  },
  {
   "cell_type": "code",
   "execution_count": 26,
   "metadata": {
    "collapsed": false
   },
   "outputs": [
    {
     "data": {
      "text/html": [
       "<div>\n",
       "<table border=\"1\" class=\"dataframe\">\n",
       "  <thead>\n",
       "    <tr style=\"text-align: right;\">\n",
       "      <th></th>\n",
       "      <th>iid</th>\n",
       "      <th>wave</th>\n",
       "      <th>round</th>\n",
       "      <th>id</th>\n",
       "      <th>dec</th>\n",
       "      <th>gender</th>\n",
       "      <th>samerace</th>\n",
       "      <th>age</th>\n",
       "      <th>race</th>\n",
       "      <th>imprelig</th>\n",
       "      <th>...</th>\n",
       "      <th>sinc3_1</th>\n",
       "      <th>fun3_1</th>\n",
       "      <th>intel3_1</th>\n",
       "      <th>amb3_1</th>\n",
       "      <th>attr1_1</th>\n",
       "      <th>sinc1_1</th>\n",
       "      <th>intel1_1</th>\n",
       "      <th>fun1_1</th>\n",
       "      <th>amb1_1</th>\n",
       "      <th>shar1_1</th>\n",
       "    </tr>\n",
       "  </thead>\n",
       "  <tbody>\n",
       "    <tr>\n",
       "      <th>0</th>\n",
       "      <td>1</td>\n",
       "      <td>1</td>\n",
       "      <td>10</td>\n",
       "      <td>1.0</td>\n",
       "      <td>1</td>\n",
       "      <td>0</td>\n",
       "      <td>0</td>\n",
       "      <td>21.0</td>\n",
       "      <td>4.0</td>\n",
       "      <td>4.0</td>\n",
       "      <td>...</td>\n",
       "      <td>8.0</td>\n",
       "      <td>8.0</td>\n",
       "      <td>8.0</td>\n",
       "      <td>7.0</td>\n",
       "      <td>15.0</td>\n",
       "      <td>20.0</td>\n",
       "      <td>20.0</td>\n",
       "      <td>15.0</td>\n",
       "      <td>15.0</td>\n",
       "      <td>15.0</td>\n",
       "    </tr>\n",
       "  </tbody>\n",
       "</table>\n",
       "<p>1 rows × 24 columns</p>\n",
       "</div>"
      ],
      "text/plain": [
       "   iid  wave  round   id  dec  gender  samerace   age  race  imprelig  \\\n",
       "0    1     1     10  1.0    1       0         0  21.0   4.0       4.0   \n",
       "\n",
       "    ...     sinc3_1  fun3_1  intel3_1  amb3_1  attr1_1  sinc1_1  intel1_1  \\\n",
       "0   ...         8.0     8.0       8.0     7.0     15.0     20.0      20.0   \n",
       "\n",
       "   fun1_1  amb1_1  shar1_1  \n",
       "0    15.0    15.0     15.0  \n",
       "\n",
       "[1 rows x 24 columns]"
      ]
     },
     "execution_count": 26,
     "metadata": {},
     "output_type": "execute_result"
    }
   ],
   "source": [
    "Q_one.head(1)"
   ]
  },
  {
   "cell_type": "code",
   "execution_count": 27,
   "metadata": {
    "collapsed": false
   },
   "outputs": [
    {
     "name": "stderr",
     "output_type": "stream",
     "text": [
      "/Users/ltdanp21/anaconda/lib/python2.7/site-packages/ipykernel/__main__.py:1: SettingWithCopyWarning: \n",
      "A value is trying to be set on a copy of a slice from a DataFrame\n",
      "\n",
      "See the caveats in the documentation: http://pandas.pydata.org/pandas-docs/stable/indexing.html#indexing-view-versus-copy\n",
      "  if __name__ == '__main__':\n"
     ]
    }
   ],
   "source": [
    "Q_one.dropna(inplace = True)"
   ]
  },
  {
   "cell_type": "code",
   "execution_count": 28,
   "metadata": {
    "collapsed": false
   },
   "outputs": [
    {
     "name": "stderr",
     "output_type": "stream",
     "text": [
      "/Users/ltdanp21/anaconda/lib/python2.7/site-packages/ipykernel/__main__.py:2: SettingWithCopyWarning: \n",
      "A value is trying to be set on a copy of a slice from a DataFrame\n",
      "\n",
      "See the caveats in the documentation: http://pandas.pydata.org/pandas-docs/stable/indexing.html#indexing-view-versus-copy\n",
      "  from ipykernel import kernelapp as app\n"
     ]
    }
   ],
   "source": [
    "#sort decisions info by iid (prep for merge)\n",
    "Q_one.sort_values(['iid','wave', \"gender\"], inplace=True)"
   ]
  },
  {
   "cell_type": "code",
   "execution_count": 29,
   "metadata": {
    "collapsed": false
   },
   "outputs": [
    {
     "data": {
      "text/html": [
       "<div>\n",
       "<table border=\"1\" class=\"dataframe\">\n",
       "  <thead>\n",
       "    <tr style=\"text-align: right;\">\n",
       "      <th></th>\n",
       "      <th>iid</th>\n",
       "      <th>wave</th>\n",
       "      <th>round</th>\n",
       "      <th>id</th>\n",
       "      <th>dec</th>\n",
       "      <th>gender</th>\n",
       "      <th>samerace</th>\n",
       "      <th>age</th>\n",
       "      <th>race</th>\n",
       "      <th>imprelig</th>\n",
       "      <th>...</th>\n",
       "      <th>sinc3_1</th>\n",
       "      <th>fun3_1</th>\n",
       "      <th>intel3_1</th>\n",
       "      <th>amb3_1</th>\n",
       "      <th>attr1_1</th>\n",
       "      <th>sinc1_1</th>\n",
       "      <th>intel1_1</th>\n",
       "      <th>fun1_1</th>\n",
       "      <th>amb1_1</th>\n",
       "      <th>shar1_1</th>\n",
       "    </tr>\n",
       "  </thead>\n",
       "  <tbody>\n",
       "    <tr>\n",
       "      <th>0</th>\n",
       "      <td>1</td>\n",
       "      <td>1</td>\n",
       "      <td>10</td>\n",
       "      <td>1.0</td>\n",
       "      <td>1</td>\n",
       "      <td>0</td>\n",
       "      <td>0</td>\n",
       "      <td>21.0</td>\n",
       "      <td>4.0</td>\n",
       "      <td>4.0</td>\n",
       "      <td>...</td>\n",
       "      <td>8.0</td>\n",
       "      <td>8.0</td>\n",
       "      <td>8.0</td>\n",
       "      <td>7.0</td>\n",
       "      <td>15.0</td>\n",
       "      <td>20.0</td>\n",
       "      <td>20.0</td>\n",
       "      <td>15.0</td>\n",
       "      <td>15.0</td>\n",
       "      <td>15.0</td>\n",
       "    </tr>\n",
       "  </tbody>\n",
       "</table>\n",
       "<p>1 rows × 24 columns</p>\n",
       "</div>"
      ],
      "text/plain": [
       "   iid  wave  round   id  dec  gender  samerace   age  race  imprelig  \\\n",
       "0    1     1     10  1.0    1       0         0  21.0   4.0       4.0   \n",
       "\n",
       "    ...     sinc3_1  fun3_1  intel3_1  amb3_1  attr1_1  sinc1_1  intel1_1  \\\n",
       "0   ...         8.0     8.0       8.0     7.0     15.0     20.0      20.0   \n",
       "\n",
       "   fun1_1  amb1_1  shar1_1  \n",
       "0    15.0    15.0     15.0  \n",
       "\n",
       "[1 rows x 24 columns]"
      ]
     },
     "execution_count": 29,
     "metadata": {},
     "output_type": "execute_result"
    }
   ],
   "source": [
    "Q_one.head(1)"
   ]
  },
  {
   "cell_type": "code",
   "execution_count": 30,
   "metadata": {
    "collapsed": false
   },
   "outputs": [],
   "source": [
    "# subsetting for subject id, decision and race of date only\n",
    "dum_code_dec = Q_one[[\"iid\",\"dec\",\"samerace\",]]"
   ]
  },
  {
   "cell_type": "code",
   "execution_count": 31,
   "metadata": {
    "collapsed": false
   },
   "outputs": [
    {
     "data": {
      "text/plain": [
       "iid         0\n",
       "dec         0\n",
       "samerace    0\n",
       "dtype: int64"
      ]
     },
     "execution_count": 31,
     "metadata": {},
     "output_type": "execute_result"
    }
   ],
   "source": [
    "#confirming no nulls\n",
    "dum_code_dec.isnull().sum()"
   ]
  },
  {
   "cell_type": "code",
   "execution_count": 32,
   "metadata": {
    "collapsed": false
   },
   "outputs": [
    {
     "name": "stderr",
     "output_type": "stream",
     "text": [
      "/Users/ltdanp21/anaconda/lib/python2.7/site-packages/ipykernel/__main__.py:2: SettingWithCopyWarning: \n",
      "A value is trying to be set on a copy of a slice from a DataFrame.\n",
      "Try using .loc[row_indexer,col_indexer] = value instead\n",
      "\n",
      "See the caveats in the documentation: http://pandas.pydata.org/pandas-docs/stable/indexing.html#indexing-view-versus-copy\n",
      "  from ipykernel import kernelapp as app\n"
     ]
    }
   ],
   "source": [
    "#set new column variable that equals decision to date outside race\n",
    "dum_code_dec[\"outside_race\"] = 1"
   ]
  },
  {
   "cell_type": "code",
   "execution_count": 33,
   "metadata": {
    "collapsed": false
   },
   "outputs": [
    {
     "data": {
      "text/html": [
       "<div>\n",
       "<table border=\"1\" class=\"dataframe\">\n",
       "  <thead>\n",
       "    <tr style=\"text-align: right;\">\n",
       "      <th></th>\n",
       "      <th>iid</th>\n",
       "      <th>dec</th>\n",
       "      <th>samerace</th>\n",
       "      <th>outside_race</th>\n",
       "    </tr>\n",
       "  </thead>\n",
       "  <tbody>\n",
       "    <tr>\n",
       "      <th>0</th>\n",
       "      <td>1</td>\n",
       "      <td>1</td>\n",
       "      <td>0</td>\n",
       "      <td>1</td>\n",
       "    </tr>\n",
       "  </tbody>\n",
       "</table>\n",
       "</div>"
      ],
      "text/plain": [
       "   iid  dec  samerace  outside_race\n",
       "0    1    1         0             1"
      ]
     },
     "execution_count": 33,
     "metadata": {},
     "output_type": "execute_result"
    }
   ],
   "source": [
    "dum_code_dec.head(1)"
   ]
  },
  {
   "cell_type": "code",
   "execution_count": 34,
   "metadata": {
    "collapsed": false
   },
   "outputs": [],
   "source": [
    "#generate response column of dec_outside of race; dummy coding from two values in a \n",
    "\n",
    "def dum_code(a):\n",
    "    # yes outside race\n",
    "    if ((a[\"dec\"] == 1) and (a[\"samerace\"] == 0)):\n",
    "        #creates brand new column and appends value of conditional to column in line with row's iteration\n",
    "        a['outside_race'] = 1\n",
    "    #no outside race\n",
    "    elif((a[\"dec\"] == 0) and (a[\"samerace\"] == 0)):\n",
    "        a['outside_race'] = 0\n",
    "    # yes same race\n",
    "    elif((a[\"dec\"] == 1) and (a[\"samerace\"] == 1)):\n",
    "        a['outside_race'] = 2\n",
    "    #no same race\n",
    "    else:\n",
    "        a['outside_race'] = 3\n",
    "    #returns dataframe\n",
    "    return a\n",
    "\n",
    "\n",
    "                 # df.appy(function,iteration over col or row axis = 1 means iterate over row) \n",
    "                # passes dataframe explicitly as a row\n",
    "dum_code_dec = dum_code_dec.apply(dum_code, axis = 1)"
   ]
  },
  {
   "cell_type": "code",
   "execution_count": 35,
   "metadata": {
    "collapsed": false
   },
   "outputs": [
    {
     "data": {
      "text/html": [
       "<div>\n",
       "<table border=\"1\" class=\"dataframe\">\n",
       "  <thead>\n",
       "    <tr style=\"text-align: right;\">\n",
       "      <th></th>\n",
       "      <th>iid</th>\n",
       "      <th>dec</th>\n",
       "      <th>samerace</th>\n",
       "      <th>outside_race</th>\n",
       "    </tr>\n",
       "  </thead>\n",
       "  <tbody>\n",
       "    <tr>\n",
       "      <th>0</th>\n",
       "      <td>1</td>\n",
       "      <td>1</td>\n",
       "      <td>0</td>\n",
       "      <td>1</td>\n",
       "    </tr>\n",
       "    <tr>\n",
       "      <th>1</th>\n",
       "      <td>1</td>\n",
       "      <td>1</td>\n",
       "      <td>0</td>\n",
       "      <td>1</td>\n",
       "    </tr>\n",
       "    <tr>\n",
       "      <th>2</th>\n",
       "      <td>1</td>\n",
       "      <td>1</td>\n",
       "      <td>1</td>\n",
       "      <td>2</td>\n",
       "    </tr>\n",
       "    <tr>\n",
       "      <th>3</th>\n",
       "      <td>1</td>\n",
       "      <td>1</td>\n",
       "      <td>0</td>\n",
       "      <td>1</td>\n",
       "    </tr>\n",
       "    <tr>\n",
       "      <th>4</th>\n",
       "      <td>1</td>\n",
       "      <td>1</td>\n",
       "      <td>0</td>\n",
       "      <td>1</td>\n",
       "    </tr>\n",
       "  </tbody>\n",
       "</table>\n",
       "</div>"
      ],
      "text/plain": [
       "   iid  dec  samerace  outside_race\n",
       "0    1    1         0             1\n",
       "1    1    1         0             1\n",
       "2    1    1         1             2\n",
       "3    1    1         0             1\n",
       "4    1    1         0             1"
      ]
     },
     "execution_count": 35,
     "metadata": {},
     "output_type": "execute_result"
    }
   ],
   "source": [
    "dum_code_dec.head()"
   ]
  },
  {
   "cell_type": "code",
   "execution_count": 36,
   "metadata": {
    "collapsed": false
   },
   "outputs": [],
   "source": [
    "#subset dataset to only include interracial dates \n",
    "mask_two_three = (dum_code_dec[\"outside_race\"] != 2) & (dum_code_dec[\"outside_race\"] != 3)\n",
    "\n",
    "race_dum_code = dum_code_dec[mask_two_three]\n"
   ]
  },
  {
   "cell_type": "code",
   "execution_count": 37,
   "metadata": {
    "collapsed": false
   },
   "outputs": [
    {
     "data": {
      "text/plain": [
       "(4932, 4)"
      ]
     },
     "execution_count": 37,
     "metadata": {},
     "output_type": "execute_result"
    }
   ],
   "source": [
    "#number interracial dates\n",
    "race_dum_code.shape"
   ]
  },
  {
   "cell_type": "code",
   "execution_count": 38,
   "metadata": {
    "collapsed": false
   },
   "outputs": [],
   "source": [
    "\n",
    "#copy demo dataframe\n",
    "demo_df_cp = demop_df.copy()\n",
    "# merge interracial date info with copy of demographic information\n",
    "dec_race_demo_df = pd.merge(demo_df_cp, race_dum_code, on = \"iid\" )"
   ]
  },
  {
   "cell_type": "code",
   "execution_count": 39,
   "metadata": {
    "collapsed": false
   },
   "outputs": [
    {
     "data": {
      "text/plain": [
       "(4045, 51)"
      ]
     },
     "execution_count": 39,
     "metadata": {},
     "output_type": "execute_result"
    }
   ],
   "source": [
    "dec_race_demo_df.shape"
   ]
  },
  {
   "cell_type": "markdown",
   "metadata": {},
   "source": [
    "# Create DF of Participants Who Said Yes to Dates Outside Race"
   ]
  },
  {
   "cell_type": "code",
   "execution_count": 40,
   "metadata": {
    "collapsed": false
   },
   "outputs": [],
   "source": [
    "# mask to subset to yes deicions only 1\n",
    "\n",
    "masker_yes = dec_race_demo_df.outside_race == 1\n",
    "interracial_daters = dec_race_demo_df[masker_yes]\n",
    "\n",
    "# drop duplicates\n",
    "\n",
    "interracial_daters.drop_duplicates([\"iid\"],inplace = True)\n",
    "# shape\n"
   ]
  },
  {
   "cell_type": "code",
   "execution_count": 41,
   "metadata": {
    "collapsed": false
   },
   "outputs": [
    {
     "data": {
      "text/plain": [
       "(362, 51)"
      ]
     },
     "execution_count": 41,
     "metadata": {},
     "output_type": "execute_result"
    }
   ],
   "source": [
    "#completed datframe with participants who said yes to date outside race\n",
    "#362 participants said yes to date outside race\n",
    "interracial_daters.shape"
   ]
  },
  {
   "cell_type": "code",
   "execution_count": 42,
   "metadata": {
    "collapsed": false
   },
   "outputs": [
    {
     "data": {
      "text/plain": [
       "Index([u'iid', u'wave', u'gender', u'age', u'race', u'imprace', u'imprelig',\n",
       "       u'goal', u'date', u'go_out', u'attr1_1', u'sinc1_1', u'intel1_1',\n",
       "       u'fun1_1', u'amb1_1', u'shar1_1', u'attr3_1', u'sinc3_1', u'fun3_1',\n",
       "       u'intel3_1', u'amb3_1', u'sports', u'tvsports', u'exercise', u'dining',\n",
       "       u'museums', u'art', u'hiking', u'gaming', u'clubbing', u'reading',\n",
       "       u'tv', u'theater', u'movies', u'concerts', u'music', u'shopping',\n",
       "       u'yoga', u'dec_x', u'attr', u'sinc', u'intel', u'fun', u'amb', u'shar',\n",
       "       u'like', u'prob', u'met', u'dec_y', u'samerace', u'outside_race'],\n",
       "      dtype='object')"
      ]
     },
     "execution_count": 42,
     "metadata": {},
     "output_type": "execute_result"
    }
   ],
   "source": [
    "interracial_daters.columns"
   ]
  },
  {
   "cell_type": "code",
   "execution_count": 43,
   "metadata": {
    "collapsed": false
   },
   "outputs": [],
   "source": [
    "#histogram of race of interracial daters\n",
    "#interracial_daters[\"race\"].plot(kind = \"hist\")\n",
    "race_int = pd.DataFrame(interracial_daters[\"race\"].value_counts())"
   ]
  },
  {
   "cell_type": "code",
   "execution_count": 44,
   "metadata": {
    "collapsed": false
   },
   "outputs": [
    {
     "data": {
      "text/plain": [
       "<matplotlib.axes._subplots.AxesSubplot at 0x117dd54d0>"
      ]
     },
     "execution_count": 44,
     "metadata": {},
     "output_type": "execute_result"
    },
    {
     "data": {
      "image/png": "[encoded data removed]",
      "text/plain": [
       "<matplotlib.figure.Figure at 0x117d92210>"
      ]
     },
     "metadata": {
      "image/png": {
       "height": 254,
       "width": 378
      }
     },
     "output_type": "display_data"
    }
   ],
   "source": [
    "race_int.plot(kind = \"barh\")\n",
    "# white and asian, though those two races make up the bulk of the study population"
   ]
  },
  {
   "cell_type": "code",
   "execution_count": 45,
   "metadata": {
    "collapsed": false
   },
   "outputs": [
    {
     "data": {
      "text/plain": [
       "1    199\n",
       "0    163\n",
       "Name: gender, dtype: int64"
      ]
     },
     "execution_count": 45,
     "metadata": {},
     "output_type": "execute_result"
    }
   ],
   "source": [
    "#histogram of gender of interracial daters\n",
    "# 54.97 male said yes\n",
    "#45.03\n",
    "gend_int = pd.DataFrame(interracial_daters[\"gender\"].value_counts())\n",
    "interracial_daters[\"gender\"].value_counts()"
   ]
  },
  {
   "cell_type": "code",
   "execution_count": 46,
   "metadata": {
    "collapsed": false
   },
   "outputs": [
    {
     "data": {
      "text/plain": [
       "<matplotlib.axes._subplots.AxesSubplot at 0x117df7490>"
      ]
     },
     "execution_count": 46,
     "metadata": {},
     "output_type": "execute_result"
    },
    {
     "data": {
      "image/png": "[encoded data removed]",
      "text/plain": [
       "<matplotlib.figure.Figure at 0x11d83ad10>"
      ]
     },
     "metadata": {
      "image/png": {
       "height": 254,
       "width": 370
      }
     },
     "output_type": "display_data"
    }
   ],
   "source": [
    "gend_int.plot(kind = \"barh\", color = \"teal\")"
   ]
  },
  {
   "cell_type": "code",
   "execution_count": 47,
   "metadata": {
    "collapsed": false
   },
   "outputs": [
    {
     "data": {
      "text/plain": [
       "1.0     132\n",
       "3.0      50\n",
       "2.0      41\n",
       "5.0      25\n",
       "8.0      24\n",
       "7.0      24\n",
       "4.0      23\n",
       "6.0      21\n",
       "9.0      16\n",
       "10.0      5\n",
       "0.0       1\n",
       "Name: imprace, dtype: int64"
      ]
     },
     "execution_count": 47,
     "metadata": {},
     "output_type": "execute_result"
    },
    {
     "data": {
      "image/png": "[encoded data removed]",
      "text/plain": [
       "<matplotlib.figure.Figure at 0x117405750>"
      ]
     },
     "metadata": {
      "image/png": {
       "height": 258,
       "width": 393
      }
     },
     "output_type": "display_data"
    }
   ],
   "source": [
    "#histogram of importance of have partner of the same race of interracial daters\n",
    "# partner of same race is not important \n",
    "interracial_daters[[\"imprace\"]].plot(kind = \"hist\")\n",
    "interracial_daters[\"imprace\"].value_counts()"
   ]
  },
  {
   "cell_type": "code",
   "execution_count": 48,
   "metadata": {
    "collapsed": false
   },
   "outputs": [
    {
     "data": {
      "text/plain": [
       "3.0"
      ]
     },
     "execution_count": 48,
     "metadata": {},
     "output_type": "execute_result"
    }
   ],
   "source": [
    "interracial_daters[\"imprace\"].median()"
   ]
  },
  {
   "cell_type": "code",
   "execution_count": 49,
   "metadata": {
    "collapsed": false
   },
   "outputs": [
    {
     "data": {
      "text/plain": [
       "1.0     148\n",
       "3.0      42\n",
       "2.0      33\n",
       "5.0      29\n",
       "4.0      26\n",
       "8.0      25\n",
       "6.0      23\n",
       "7.0      16\n",
       "9.0      12\n",
       "10.0      8\n",
       "Name: imprelig, dtype: int64"
      ]
     },
     "execution_count": 49,
     "metadata": {},
     "output_type": "execute_result"
    },
    {
     "data": {
      "image/png": "[encoded data removed]",
      "text/plain": [
       "<matplotlib.figure.Figure at 0x11d596310>"
      ]
     },
     "metadata": {
      "image/png": {
       "height": 258,
       "width": 393
      }
     },
     "output_type": "display_data"
    }
   ],
   "source": [
    "interracial_daters[[\"imprelig\"]].plot(kind = \"hist\")\n",
    "interracial_daters[\"imprelig\"].value_counts()"
   ]
  },
  {
   "cell_type": "code",
   "execution_count": 50,
   "metadata": {
    "collapsed": false
   },
   "outputs": [
    {
     "data": {
      "text/plain": [
       "3.389502762430939"
      ]
     },
     "execution_count": 50,
     "metadata": {},
     "output_type": "execute_result"
    }
   ],
   "source": [
    "# importance of shared religion tends not to be as important\n",
    "interracial_daters[\"imprelig\"].mean()"
   ]
  },
  {
   "cell_type": "code",
   "execution_count": 51,
   "metadata": {
    "collapsed": false
   },
   "outputs": [
    {
     "data": {
      "text/plain": [
       "2.5"
      ]
     },
     "execution_count": 51,
     "metadata": {},
     "output_type": "execute_result"
    }
   ],
   "source": [
    "interracial_daters[\"imprelig\"].median()"
   ]
  },
  {
   "cell_type": "code",
   "execution_count": 52,
   "metadata": {
    "collapsed": false
   },
   "outputs": [
    {
     "data": {
      "text/plain": [
       "1.0    155\n",
       "2.0    125\n",
       "3.0     29\n",
       "5.0     23\n",
       "6.0     16\n",
       "4.0     14\n",
       "Name: goal, dtype: int64"
      ]
     },
     "execution_count": 52,
     "metadata": {},
     "output_type": "execute_result"
    },
    {
     "data": {
      "image/png": "[encoded data removed]",
      "text/plain": [
       "<matplotlib.figure.Figure at 0x11d08f190>"
      ]
     },
     "metadata": {
      "image/png": {
       "height": 258,
       "width": 390
      }
     },
     "output_type": "display_data"
    }
   ],
   "source": [
    "#histogram of goal of participating in event of interracial daters\n",
    "# seemed like a fun night out\n",
    "#could infer that not looking for serious realtionsip????\n",
    "interracial_daters[[\"goal\"]].plot(kind = \"hist\", color = \"green\")\n",
    "interracial_daters[\"goal\"].value_counts()"
   ]
  },
  {
   "cell_type": "code",
   "execution_count": 53,
   "metadata": {
    "collapsed": false
   },
   "outputs": [
    {
     "data": {
      "text/plain": [
       "2.0"
      ]
     },
     "execution_count": 53,
     "metadata": {},
     "output_type": "execute_result"
    }
   ],
   "source": [
    "interracial_daters[\"goal\"].median()"
   ]
  },
  {
   "cell_type": "code",
   "execution_count": 54,
   "metadata": {
    "collapsed": false
   },
   "outputs": [
    {
     "data": {
      "text/plain": [
       "4.0    98\n",
       "6.0    94\n",
       "5.0    59\n",
       "7.0    56\n",
       "3.0    34\n",
       "2.0    16\n",
       "1.0     5\n",
       "Name: date, dtype: int64"
      ]
     },
     "execution_count": 54,
     "metadata": {},
     "output_type": "execute_result"
    },
    {
     "data": {
      "image/png": "[encoded data removed]",
      "text/plain": [
       "<matplotlib.figure.Figure at 0x117ae6250>"
      ]
     },
     "metadata": {
      "image/png": {
       "height": 258,
       "width": 390
      }
     },
     "output_type": "display_data"
    }
   ],
   "source": [
    "#histogram of how often participant reports going out on date of interracial daters\n",
    "### it appears those who date outside their race don't go out on dates very often, on average once a month\n",
    "interracial_daters[[\"date\"]].plot(kind = \"hist\", color = \"red\")\n",
    "interracial_daters[\"date\"].value_counts()"
   ]
  },
  {
   "cell_type": "code",
   "execution_count": 55,
   "metadata": {
    "collapsed": false
   },
   "outputs": [
    {
     "data": {
      "text/plain": [
       "5.0"
      ]
     },
     "execution_count": 55,
     "metadata": {},
     "output_type": "execute_result"
    }
   ],
   "source": [
    "interracial_daters[\"date\"].median()"
   ]
  },
  {
   "cell_type": "code",
   "execution_count": 56,
   "metadata": {
    "collapsed": false
   },
   "outputs": [
    {
     "data": {
      "text/plain": [
       "1.0    123\n",
       "2.0    118\n",
       "3.0     91\n",
       "4.0     18\n",
       "5.0      7\n",
       "6.0      4\n",
       "7.0      1\n",
       "Name: go_out, dtype: int64"
      ]
     },
     "execution_count": 56,
     "metadata": {},
     "output_type": "execute_result"
    },
    {
     "data": {
      "image/png": "[encoded data removed]",
      "text/plain": [
       "<matplotlib.figure.Figure at 0x117ae6110>"
      ]
     },
     "metadata": {
      "image/png": {
       "height": 258,
       "width": 390
      }
     },
     "output_type": "display_data"
    }
   ],
   "source": [
    "#histogram of how often participants report on going out not necessarily on a date \n",
    "#of interracial daters\n",
    "### it appears those who date outside their race go out on average twice a week; indicative of social person?\n",
    "interracial_daters[[\"go_out\"]].plot(kind = \"hist\", color = \"pink\")\n",
    "interracial_daters[\"go_out\"].value_counts()"
   ]
  },
  {
   "cell_type": "code",
   "execution_count": 57,
   "metadata": {
    "collapsed": false
   },
   "outputs": [
    {
     "data": {
      "text/plain": [
       "2.0"
      ]
     },
     "execution_count": 57,
     "metadata": {},
     "output_type": "execute_result"
    }
   ],
   "source": [
    "interracial_daters[\"go_out\"].median()"
   ]
  },
  {
   "cell_type": "code",
   "execution_count": 58,
   "metadata": {
    "collapsed": false
   },
   "outputs": [
    {
     "data": {
      "text/plain": [
       "7.0     126\n",
       "8.0      93\n",
       "6.0      51\n",
       "9.0      33\n",
       "5.0      29\n",
       "10.0     14\n",
       "4.0       8\n",
       "3.0       6\n",
       "2.0       2\n",
       "Name: attr3_1, dtype: int64"
      ]
     },
     "execution_count": 58,
     "metadata": {},
     "output_type": "execute_result"
    },
    {
     "data": {
      "image/png": "[encoded data removed]",
      "text/plain": [
       "<matplotlib.figure.Figure at 0x118ceded0>"
      ]
     },
     "metadata": {
      "image/png": {
       "height": 258,
       "width": 393
      }
     },
     "output_type": "display_data"
    }
   ],
   "source": [
    "#histogram of how attractive particpants who date outside their race think they are \n",
    "### it appears those who date outside their race think they are attractive 7 out of 10! \n",
    "interracial_daters[[\"attr3_1\"]].plot(kind = \"hist\", color = \"purple\")\n",
    "interracial_daters[\"attr3_1\"].value_counts()"
   ]
  },
  {
   "cell_type": "code",
   "execution_count": 59,
   "metadata": {
    "collapsed": false
   },
   "outputs": [
    {
     "data": {
      "text/plain": [
       "7.0"
      ]
     },
     "execution_count": 59,
     "metadata": {},
     "output_type": "execute_result"
    }
   ],
   "source": [
    "interracial_daters[\"attr3_1\"].median()"
   ]
  },
  {
   "cell_type": "code",
   "execution_count": 60,
   "metadata": {
    "collapsed": false
   },
   "outputs": [
    {
     "data": {
      "text/plain": [
       "9.0     104\n",
       "8.0      93\n",
       "10.0     80\n",
       "7.0      50\n",
       "6.0      21\n",
       "4.0       6\n",
       "5.0       5\n",
       "2.0       2\n",
       "3.0       1\n",
       "Name: sinc3_1, dtype: int64"
      ]
     },
     "execution_count": 60,
     "metadata": {},
     "output_type": "execute_result"
    },
    {
     "data": {
      "image/png": "[encoded data removed]",
      "text/plain": [
       "<matplotlib.figure.Figure at 0x11ca47290>"
      ]
     },
     "metadata": {
      "image/png": {
       "height": 258,
       "width": 393
      }
     },
     "output_type": "display_data"
    }
   ],
   "source": [
    "#histogram of how sincere particpants who date outside their race think they are \n",
    "#of interracial daters\n",
    "### it appears those who date outside their race think they are pretty sincere 8/9 out of 10! \n",
    "interracial_daters[[\"sinc3_1\"]].plot(kind = \"hist\", color = \"gray\")\n",
    "interracial_daters[\"sinc3_1\"].value_counts()"
   ]
  },
  {
   "cell_type": "code",
   "execution_count": 61,
   "metadata": {
    "collapsed": false
   },
   "outputs": [
    {
     "data": {
      "text/plain": [
       "9.0"
      ]
     },
     "execution_count": 61,
     "metadata": {},
     "output_type": "execute_result"
    }
   ],
   "source": [
    "interracial_daters[\"sinc3_1\"].median()"
   ]
  },
  {
   "cell_type": "code",
   "execution_count": 62,
   "metadata": {
    "collapsed": false
   },
   "outputs": [
    {
     "data": {
      "text/plain": [
       "8.0     103\n",
       "9.0      74\n",
       "7.0      73\n",
       "6.0      44\n",
       "10.0     41\n",
       "5.0      14\n",
       "4.0       6\n",
       "3.0       5\n",
       "2.0       2\n",
       "Name: fun3_1, dtype: int64"
      ]
     },
     "execution_count": 62,
     "metadata": {},
     "output_type": "execute_result"
    },
    {
     "data": {
      "image/png": "[encoded data removed]",
      "text/plain": [
       "<matplotlib.figure.Figure at 0x11cdba290>"
      ]
     },
     "metadata": {
      "image/png": {
       "height": 258,
       "width": 393
      }
     },
     "output_type": "display_data"
    }
   ],
   "source": [
    "#histogram of how fun particpants who date outside their race think they are \n",
    "#of interracial daters\n",
    "### it appears those who date outside their race think they are pretty fun 7-9 out of 10! \n",
    "interracial_daters[[\"fun3_1\"]].plot(kind = \"hist\", color = \"orange\")\n",
    "interracial_daters[\"fun3_1\"].value_counts()"
   ]
  },
  {
   "cell_type": "code",
   "execution_count": 63,
   "metadata": {
    "collapsed": false
   },
   "outputs": [
    {
     "data": {
      "text/plain": [
       "8.0"
      ]
     },
     "execution_count": 63,
     "metadata": {},
     "output_type": "execute_result"
    }
   ],
   "source": [
    "interracial_daters[\"fun3_1\"].median()"
   ]
  },
  {
   "cell_type": "code",
   "execution_count": 64,
   "metadata": {
    "collapsed": false
   },
   "outputs": [
    {
     "data": {
      "text/plain": [
       "8.0     132\n",
       "9.0     106\n",
       "10.0     65\n",
       "7.0      45\n",
       "6.0       9\n",
       "5.0       3\n",
       "4.0       1\n",
       "3.0       1\n",
       "Name: intel3_1, dtype: int64"
      ]
     },
     "execution_count": 64,
     "metadata": {},
     "output_type": "execute_result"
    },
    {
     "data": {
      "image/png": "[encoded data removed]",
      "text/plain": [
       "<matplotlib.figure.Figure at 0x11c548490>"
      ]
     },
     "metadata": {
      "image/png": {
       "height": 258,
       "width": 393
      }
     },
     "output_type": "display_data"
    }
   ],
   "source": [
    "#histogram of how intelligent particpants who date outside their race think they are \n",
    "#of interracial daters\n",
    "### it appears those who date outside their race think they are smart, on average 8 out of 10! \n",
    "interracial_daters[[\"intel3_1\"]].plot(kind = \"hist\", color = \"teal\")\n",
    "interracial_daters[\"intel3_1\"].value_counts()"
   ]
  },
  {
   "cell_type": "code",
   "execution_count": 65,
   "metadata": {
    "collapsed": false
   },
   "outputs": [
    {
     "data": {
      "text/plain": [
       "8.0"
      ]
     },
     "execution_count": 65,
     "metadata": {},
     "output_type": "execute_result"
    }
   ],
   "source": [
    "interracial_daters[\"intel3_1\"].median()"
   ]
  },
  {
   "cell_type": "code",
   "execution_count": 66,
   "metadata": {
    "collapsed": false
   },
   "outputs": [
    {
     "data": {
      "text/plain": [
       "8.0     90\n",
       "9.0     71\n",
       "7.0     68\n",
       "10.0    52\n",
       "6.0     28\n",
       "5.0     27\n",
       "4.0     13\n",
       "3.0      8\n",
       "2.0      5\n",
       "Name: amb3_1, dtype: int64"
      ]
     },
     "execution_count": 66,
     "metadata": {},
     "output_type": "execute_result"
    },
    {
     "data": {
      "image/png": "[encoded data removed]",
      "text/plain": [
       "<matplotlib.figure.Figure at 0x11c548290>"
      ]
     },
     "metadata": {
      "image/png": {
       "height": 258,
       "width": 387
      }
     },
     "output_type": "display_data"
    }
   ],
   "source": [
    "#histogram of how ambitious particpants who date outside their race think they are \n",
    "#of interracial daters\n",
    "### it appears those who date outside their race think they are pretty ambitious median 8 out of 10! \n",
    "interracial_daters[[\"amb3_1\"]].plot(kind = \"hist\", color = \"lavender\")\n",
    "interracial_daters[\"amb3_1\"].value_counts()"
   ]
  },
  {
   "cell_type": "code",
   "execution_count": 67,
   "metadata": {
    "collapsed": false
   },
   "outputs": [
    {
     "data": {
      "text/plain": [
       "8.0"
      ]
     },
     "execution_count": 67,
     "metadata": {},
     "output_type": "execute_result"
    }
   ],
   "source": [
    "interracial_daters[\"amb3_1\"].median()"
   ]
  },
  {
   "cell_type": "code",
   "execution_count": 68,
   "metadata": {
    "collapsed": false
   },
   "outputs": [
    {
     "data": {
      "text/plain": [
       "8.0     59\n",
       "7.0     54\n",
       "9.0     45\n",
       "5.0     43\n",
       "10.0    41\n",
       "6.0     35\n",
       "3.0     30\n",
       "4.0     20\n",
       "1.0     19\n",
       "2.0     16\n",
       "Name: sports, dtype: int64"
      ]
     },
     "execution_count": 68,
     "metadata": {},
     "output_type": "execute_result"
    },
    {
     "data": {
      "image/png": "[encoded data removed]",
      "text/plain": [
       "<matplotlib.figure.Figure at 0x11ce61290>"
      ]
     },
     "metadata": {
      "image/png": {
       "height": 258,
       "width": 387
      }
     },
     "output_type": "display_data"
    }
   ],
   "source": [
    "#histogram of how particpants who date outside their race: \n",
    "# are sort of interested in playing sports\n",
    "interracial_daters[[\"sports\"]].plot(kind = \"hist\", color = \"white\")\n",
    "interracial_daters[\"sports\"].value_counts()\n"
   ]
  },
  {
   "cell_type": "code",
   "execution_count": 69,
   "metadata": {
    "collapsed": false
   },
   "outputs": [
    {
     "data": {
      "text/plain": [
       "6.383977900552487"
      ]
     },
     "execution_count": 69,
     "metadata": {},
     "output_type": "execute_result"
    }
   ],
   "source": [
    "interracial_daters[\"sports\"].mean()"
   ]
  },
  {
   "cell_type": "code",
   "execution_count": 70,
   "metadata": {
    "collapsed": false
   },
   "outputs": [
    {
     "data": {
      "text/plain": [
       "1.0     64\n",
       "2.0     58\n",
       "7.0     47\n",
       "3.0     42\n",
       "5.0     33\n",
       "4.0     30\n",
       "6.0     28\n",
       "8.0     26\n",
       "10.0    17\n",
       "9.0     17\n",
       "Name: tvsports, dtype: int64"
      ]
     },
     "execution_count": 70,
     "metadata": {},
     "output_type": "execute_result"
    },
    {
     "data": {
      "image/png": "[encoded data removed]",
      "text/plain": [
       "<matplotlib.figure.Figure at 0x11ce13150>"
      ]
     },
     "metadata": {
      "image/png": {
       "height": 258,
       "width": 387
      }
     },
     "output_type": "display_data"
    }
   ],
   "source": [
    "#histogram of how particpants who date outside their race: \n",
    "# tend not to be interested in watching sports on tv\n",
    "interracial_daters[[\"tvsports\"]].plot(kind = \"hist\", color = \"yellow\")\n",
    "interracial_daters[\"tvsports\"].value_counts()\n"
   ]
  },
  {
   "cell_type": "code",
   "execution_count": null,
   "metadata": {
    "collapsed": false
   },
   "outputs": [
    {
     "data": {
      "text/plain": [
       "4.0"
      ]
     },
     "execution_count": 71,
     "metadata": {},
     "output_type": "execute_result"
    }
   ],
   "source": [
    "interracial_daters[\"tvsports\"].median()"
   ]
  },
  {
   "cell_type": "code",
   "execution_count": null,
   "metadata": {
    "collapsed": false
   },
   "outputs": [
    {
     "data": {
      "text/plain": [
       "8.0     62\n",
       "7.0     54\n",
       "6.0     51\n",
       "5.0     39\n",
       "9.0     36\n",
       "3.0     29\n",
       "10.0    28\n",
       "4.0     28\n",
       "2.0     22\n",
       "1.0     13\n",
       "Name: exercise, dtype: int64"
      ]
     },
     "execution_count": 72,
     "metadata": {},
     "output_type": "execute_result"
    }
   ],
   "source": [
    "#histogram of how particpants who date outside their race: \n",
    "# is interested in exercising \n",
    "interracial_daters[[\"exercise\"]].plot(kind = \"hist\", color = \"brown\")\n",
    "interracial_daters[\"exercise\"].value_counts()\n"
   ]
  },
  {
   "cell_type": "code",
   "execution_count": null,
   "metadata": {
    "collapsed": false
   },
   "outputs": [],
   "source": [
    "interracial_daters[\"exercise\"].median()"
   ]
  },
  {
   "cell_type": "code",
   "execution_count": null,
   "metadata": {
    "collapsed": false
   },
   "outputs": [],
   "source": [
    "samerace_daters[\"exercise\"].mean()"
   ]
  },
  {
   "cell_type": "code",
   "execution_count": null,
   "metadata": {
    "collapsed": false
   },
   "outputs": [],
   "source": [
    "#histogram of how particpants who date outside their race: \n",
    "# is interested in going out to eat\n",
    "interracial_daters[[\"dining\"]].plot(kind = \"hist\", color = \"black\")\n",
    "interracial_daters[\"dining\"].value_counts()\n"
   ]
  },
  {
   "cell_type": "code",
   "execution_count": null,
   "metadata": {
    "collapsed": false
   },
   "outputs": [],
   "source": [
    "interracial_daters[\"dining\"].median()"
   ]
  },
  {
   "cell_type": "code",
   "execution_count": null,
   "metadata": {
    "collapsed": false
   },
   "outputs": [],
   "source": [
    "#histogram of how particpants who date outside their race: \n",
    "# is interested in going to museums\n",
    "interracial_daters[[\"museums\"]].plot(kind = \"hist\", color = \"blue\")\n",
    "interracial_daters[\"museums\"].value_counts()\n"
   ]
  },
  {
   "cell_type": "code",
   "execution_count": null,
   "metadata": {
    "collapsed": false
   },
   "outputs": [],
   "source": [
    "interracial_daters[\"museums\"].median()"
   ]
  },
  {
   "cell_type": "code",
   "execution_count": null,
   "metadata": {
    "collapsed": false
   },
   "outputs": [],
   "source": [
    "#histogram of how particpants who date outside their race: \n",
    "# is interested in art\n",
    "interracial_daters[[\"art\"]].plot(kind = \"hist\", color = \"yellow\")\n",
    "interracial_daters[\"art\"].value_counts()\n"
   ]
  },
  {
   "cell_type": "code",
   "execution_count": null,
   "metadata": {
    "collapsed": false
   },
   "outputs": [],
   "source": [
    "interracial_daters[\"art\"].median()"
   ]
  },
  {
   "cell_type": "code",
   "execution_count": null,
   "metadata": {
    "collapsed": false
   },
   "outputs": [],
   "source": [
    "#histogram of how particpants who date outside their race: \n",
    "# is sort of interested in hiking\n",
    "interracial_daters[[\"hiking\"]].plot(kind = \"hist\", color = \"green\")\n",
    "interracial_daters[\"hiking\"].value_counts()\n"
   ]
  },
  {
   "cell_type": "code",
   "execution_count": null,
   "metadata": {
    "collapsed": false
   },
   "outputs": [],
   "source": [
    "interracial_daters[\"hiking\"].median()"
   ]
  },
  {
   "cell_type": "code",
   "execution_count": null,
   "metadata": {
    "collapsed": false
   },
   "outputs": [],
   "source": [
    "#histogram of how particpants who date outside their race: \n",
    "# tend not to be interested in gaming\n",
    "interracial_daters[[\"gaming\"]].plot(kind = \"hist\", color = \"gold\")\n",
    "interracial_daters[\"gaming\"].value_counts()"
   ]
  },
  {
   "cell_type": "code",
   "execution_count": null,
   "metadata": {
    "collapsed": false
   },
   "outputs": [],
   "source": [
    "interracial_daters[\"gaming\"].median()"
   ]
  },
  {
   "cell_type": "code",
   "execution_count": null,
   "metadata": {
    "collapsed": false
   },
   "outputs": [],
   "source": [
    "#histogram of how particpants who date outside their race: \n",
    "# are sort of interested in clubbing\n",
    "interracial_daters[[\"clubbing\"]].plot(kind = \"hist\", color = \"purple\")\n",
    "interracial_daters[\"clubbing\"].value_counts()"
   ]
  },
  {
   "cell_type": "code",
   "execution_count": null,
   "metadata": {
    "collapsed": false
   },
   "outputs": [],
   "source": [
    "interracial_daters[\"clubbing\"].median()"
   ]
  },
  {
   "cell_type": "code",
   "execution_count": null,
   "metadata": {
    "collapsed": false
   },
   "outputs": [],
   "source": [
    "#histogram of how particpants who date outside their race: \n",
    "# are interested in reading\n",
    "interracial_daters[[\"reading\"]].plot(kind = \"hist\", color = \"orange\")\n",
    "interracial_daters[\"reading\"].value_counts()"
   ]
  },
  {
   "cell_type": "code",
   "execution_count": null,
   "metadata": {
    "collapsed": false
   },
   "outputs": [],
   "source": [
    "interracial_daters[\"reading\"].median()"
   ]
  },
  {
   "cell_type": "code",
   "execution_count": null,
   "metadata": {
    "collapsed": false
   },
   "outputs": [],
   "source": [
    "#histogram of how particpants who date outside their race: \n",
    "# are sort of interested in watching tv\n",
    "interracial_daters[[\"tv\"]].plot(kind = \"hist\", color = \"purple\")\n",
    "interracial_daters[\"tv\"].value_counts()"
   ]
  },
  {
   "cell_type": "code",
   "execution_count": null,
   "metadata": {
    "collapsed": false
   },
   "outputs": [],
   "source": [
    "interracial_daters[\"tv\"].median()"
   ]
  },
  {
   "cell_type": "code",
   "execution_count": null,
   "metadata": {
    "collapsed": false
   },
   "outputs": [],
   "source": [
    "#histogram of how particpants who date outside their race: \n",
    "# are sort of interested in shopping\n",
    "interracial_daters[[\"shopping\"]].plot(kind = \"hist\", color = \"gold\")\n",
    "interracial_daters[\"shopping\"].value_counts()"
   ]
  },
  {
   "cell_type": "code",
   "execution_count": null,
   "metadata": {
    "collapsed": false
   },
   "outputs": [],
   "source": [
    "interracial_daters[\"shopping\"].median()"
   ]
  },
  {
   "cell_type": "code",
   "execution_count": null,
   "metadata": {
    "collapsed": false
   },
   "outputs": [],
   "source": [
    "#histogram of how particpants who date outside their race: \n",
    "# are interested in theater\n",
    "interracial_daters[[\"theater\"]].plot(kind = \"hist\", color = \"teal\")\n",
    "interracial_daters[\"theater\"].value_counts()"
   ]
  },
  {
   "cell_type": "code",
   "execution_count": null,
   "metadata": {
    "collapsed": false
   },
   "outputs": [],
   "source": [
    "interracial_daters[\"theater\"].median()"
   ]
  },
  {
   "cell_type": "code",
   "execution_count": null,
   "metadata": {
    "collapsed": false
   },
   "outputs": [],
   "source": [
    "#histogram of how particpants who date outside their race: \n",
    "# are interested in watching movies\n",
    "interracial_daters[[\"movies\"]].plot(kind = \"hist\", color = \"green\")\n",
    "interracial_daters[\"movies\"].value_counts()"
   ]
  },
  {
   "cell_type": "code",
   "execution_count": null,
   "metadata": {
    "collapsed": false
   },
   "outputs": [],
   "source": [
    "interracial_daters[\"movies\"].median()"
   ]
  },
  {
   "cell_type": "code",
   "execution_count": null,
   "metadata": {
    "collapsed": false
   },
   "outputs": [],
   "source": [
    "#histogram of how particpants who date outside their race: \n",
    "# are interested in going to concerts\n",
    "interracial_daters[[\"concerts\"]].plot(kind = \"hist\", color = \"lavender\")\n",
    "interracial_daters[\"concerts\"].value_counts()"
   ]
  },
  {
   "cell_type": "code",
   "execution_count": null,
   "metadata": {
    "collapsed": false
   },
   "outputs": [],
   "source": [
    "interracial_daters[\"concerts\"].median()"
   ]
  },
  {
   "cell_type": "code",
   "execution_count": null,
   "metadata": {
    "collapsed": false
   },
   "outputs": [],
   "source": [
    "#histogram of how particpants who date outside their race: \n",
    "# are interested in music\n",
    "interracial_daters[[\"music\"]].plot(kind = \"hist\", color = \"gray\")\n",
    "interracial_daters[\"music\"].value_counts()"
   ]
  },
  {
   "cell_type": "code",
   "execution_count": null,
   "metadata": {
    "collapsed": false
   },
   "outputs": [],
   "source": [
    "interracial_daters[\"music\"].median()"
   ]
  },
  {
   "cell_type": "code",
   "execution_count": null,
   "metadata": {
    "collapsed": false
   },
   "outputs": [],
   "source": [
    "#histogram of how particpants who date outside their race: \n",
    "#tend not to be that interested in yoga\n",
    "interracial_daters[[\"yoga\"]].plot(kind = \"hist\", color = \"red\")\n",
    "interracial_daters[\"yoga\"].value_counts()"
   ]
  },
  {
   "cell_type": "code",
   "execution_count": null,
   "metadata": {
    "collapsed": false
   },
   "outputs": [],
   "source": [
    "interracial_daters[\"yoga\"].median()"
   ]
  },
  {
   "cell_type": "markdown",
   "metadata": {},
   "source": [
    " ## attempted to use two functions to try and print out plots and value counts individually "
   ]
  },
  {
   "cell_type": "code",
   "execution_count": null,
   "metadata": {
    "collapsed": true
   },
   "outputs": [],
   "source": [
    "hist_intt_cols = ['go_out', 'attr3_1', 'sinc3_1', 'fun3_1',\n",
    "       'intel3_1', 'amb3_1', 'sports', 'tvsports', 'exercise', 'dining',\n",
    "       'museums', 'art', 'hiking', 'gaming', 'clubbing', 'reading',\n",
    "       'tv', 'theater', 'movies', 'concerts', 'music', 'shopping',\n",
    "       'yoga']"
   ]
  },
  {
   "cell_type": "code",
   "execution_count": null,
   "metadata": {
    "collapsed": false
   },
   "outputs": [],
   "source": [
    "def make_me_hist_counts(a):\n",
    "    list_hists = []\n",
    "    for col in hist_intt_cols:\n",
    "        plot = a[col].plot(kind = \"hist\")\n",
    "        list_hists.append(plot)\n",
    "        val = a[col].value_counts()\n",
    "        list_hists.append(val)\n",
    "    return list_hists\n",
    "\n",
    "#make_me_hist_counts(interracial_daters)"
   ]
  },
  {
   "cell_type": "code",
   "execution_count": null,
   "metadata": {
    "collapsed": false
   },
   "outputs": [],
   "source": [
    "# second function to print histograms and value_counts\n",
    "def print_em(b):\n",
    "    for item in b:\n",
    "        print item\n",
    "\n",
    "#print_em(make_me_hist_counts(interracial_daters))"
   ]
  },
  {
   "cell_type": "markdown",
   "metadata": {},
   "source": [
    " ## Logistic Regression Interracial Dates"
   ]
  },
  {
   "cell_type": "code",
   "execution_count": null,
   "metadata": {
    "collapsed": true
   },
   "outputs": [],
   "source": [
    "import patsy\n",
    "from patsy import dmatrices\n",
    "import statsmodels.formula.api as smf\n"
   ]
  },
  {
   "cell_type": "code",
   "execution_count": null,
   "metadata": {
    "collapsed": true
   },
   "outputs": [],
   "source": [
    "#normalize predictor columns"
   ]
  },
  {
   "cell_type": "code",
   "execution_count": null,
   "metadata": {
    "collapsed": true
   },
   "outputs": [],
   "source": [
    "#patsy formula \n",
    "# wrap categorical in C()"
   ]
  },
  {
   "cell_type": "code",
   "execution_count": null,
   "metadata": {
    "collapsed": true
   },
   "outputs": [],
   "source": [
    "\n",
    "\n",
    "lr  = smf.logit(formual , data=mie)\n",
    "results = m_relig_logreg.fit()\n",
    "print m_relig_logreg.summary()"
   ]
  },
  {
   "cell_type": "markdown",
   "metadata": {},
   "source": [
    "## KEEP FOR LATER - way to layer plots! "
   ]
  },
  {
   "cell_type": "code",
   "execution_count": null,
   "metadata": {
    "collapsed": true
   },
   "outputs": [],
   "source": [
    "## create function to generate histograms of interracial daters columns"
   ]
  },
  {
   "cell_type": "code",
   "execution_count": null,
   "metadata": {
    "collapsed": true
   },
   "outputs": [],
   "source": [
    "hist_intt_cols_layered = ['goal', 'date', 'go_out', 'attr3_1', 'sinc3_1', 'fun3_1',\n",
    "       'intel3_1', 'amb3_1', 'sports', 'tvsports', 'exercise', 'dining',\n",
    "       'museums', 'art', 'hiking', 'gaming', 'clubbing', 'reading',\n",
    "       'tv', 'theater', 'movies', 'concerts', 'music', 'shopping',\n",
    "       'yoga']"
   ]
  },
  {
   "cell_type": "code",
   "execution_count": null,
   "metadata": {
    "collapsed": false
   },
   "outputs": [],
   "source": [
    "def make_me_hist_counts_layered(a):\n",
    "    for col in hist_intt_cols_layered:\n",
    "        plot = a[col].plot(kind = \"hist\")\n",
    "        val = a[col].value_counts()\n",
    "    return plot,val\n",
    "\n",
    "make_me_hist_counts_layered(interracial_daters)"
   ]
  },
  {
   "cell_type": "markdown",
   "metadata": {},
   "source": [
    "## Create DF of Participants Who Said No to Dates Outside Race"
   ]
  },
  {
   "cell_type": "code",
   "execution_count": null,
   "metadata": {
    "collapsed": true
   },
   "outputs": [],
   "source": [
    "#create list of iids of participants who said yes to date outside race\n",
    "yes_list = list(interracial_daters.iid.unique())"
   ]
  },
  {
   "cell_type": "code",
   "execution_count": null,
   "metadata": {
    "collapsed": false
   },
   "outputs": [],
   "source": [
    "\n",
    "# iterate over interracial dates dataframe and append ids not equalt to list of ids of particpants who said yes to \n",
    "#date outside race\n",
    "\n",
    "no_list = []\n",
    "\n",
    "for sub in dec_race_demo_df[\"iid\"]:\n",
    "    if sub not in yes_list:\n",
    "        x = sub\n",
    "        no_list.append(x)\n",
    "\n",
    "# make dataframe\n",
    "homogenous_daters = pd.DataFrame(no_list, columns = [\"iid\"])\n",
    "\n",
    "#drop duplicates\n",
    "homogenous_daters.drop_duplicates([\"iid\"], inplace = True)"
   ]
  },
  {
   "cell_type": "code",
   "execution_count": null,
   "metadata": {
    "collapsed": false
   },
   "outputs": [],
   "source": [
    "#71 people said no to a date outside their race\n",
    "homogenous_daters.shape"
   ]
  },
  {
   "cell_type": "code",
   "execution_count": null,
   "metadata": {
    "collapsed": false
   },
   "outputs": [],
   "source": [
    "homogenous_daters.head()"
   ]
  },
  {
   "cell_type": "code",
   "execution_count": null,
   "metadata": {
    "collapsed": true
   },
   "outputs": [],
   "source": [
    "#create dataframe with particpants who said not to date outside race with demographic, ratings, \n",
    "#and interests information\n",
    "samerace_daters = pd.merge(homogenous_daters,dec_race_demo_df, on = \"iid\", how =\"left\")\n"
   ]
  },
  {
   "cell_type": "code",
   "execution_count": null,
   "metadata": {
    "collapsed": false
   },
   "outputs": [],
   "source": [
    "#why created duplicates???\n",
    "samerace_daters.drop_duplicates([\"iid\"],inplace = True)"
   ]
  },
  {
   "cell_type": "code",
   "execution_count": null,
   "metadata": {
    "collapsed": false
   },
   "outputs": [],
   "source": [
    "# completed dataframe of particpants who said no to date outside race\n",
    "samerace_daters.head()"
   ]
  },
  {
   "cell_type": "code",
   "execution_count": null,
   "metadata": {
    "collapsed": false
   },
   "outputs": [],
   "source": [
    "#74.64% males\n",
    "#29.58% females\n",
    "samerace_daters[[\"gender\"]].plot(kind = \"hist\", color = \"blue\")\n",
    "samerace_daters[\"gender\"].value_counts()"
   ]
  },
  {
   "cell_type": "code",
   "execution_count": null,
   "metadata": {
    "collapsed": false
   },
   "outputs": [],
   "source": [
    "#no latinos/compare with intrracial daters/examine and consider further\n",
    "samerace_daters[[\"race\"]].plot(kind = \"hist\", color = \"blue\")\n",
    "samerace_daters[\"race\"].value_counts()"
   ]
  },
  {
   "cell_type": "code",
   "execution_count": null,
   "metadata": {
    "collapsed": false
   },
   "outputs": [],
   "source": [
    "samerace_daters[[\"imprace\"]].plot(kind = \"hist\", color = \"red\")\n",
    "samerace_daters[\"imprace\"].value_counts()"
   ]
  },
  {
   "cell_type": "code",
   "execution_count": null,
   "metadata": {
    "collapsed": false
   },
   "outputs": [],
   "source": [
    "samerace_daters[\"imprace\"].mean()\n",
    "#samerace_daters[\"imprace\"].median()"
   ]
  },
  {
   "cell_type": "code",
   "execution_count": null,
   "metadata": {
    "collapsed": false
   },
   "outputs": [],
   "source": [
    "samerace_daters[[\"imprelig\"]].plot(kind = \"hist\", color = \"purple\")\n",
    "samerace_daters[\"imprelig\"].value_counts()"
   ]
  },
  {
   "cell_type": "code",
   "execution_count": null,
   "metadata": {
    "collapsed": false
   },
   "outputs": [],
   "source": [
    "samerace_daters[\"imprelig\"].median()"
   ]
  },
  {
   "cell_type": "code",
   "execution_count": null,
   "metadata": {
    "collapsed": false
   },
   "outputs": [],
   "source": [
    "# tends not to be as important,slightly more important than those who said yes to a date outside their race\n",
    "samerace_daters[\"imprelig\"].mean()"
   ]
  },
  {
   "cell_type": "code",
   "execution_count": null,
   "metadata": {
    "collapsed": false
   },
   "outputs": [],
   "source": [
    "samerace_daters[[\"goal\"]].plot(kind = \"hist\", color = \"yellow\")\n",
    "samerace_daters[\"goal\"].value_counts()"
   ]
  },
  {
   "cell_type": "code",
   "execution_count": null,
   "metadata": {
    "collapsed": false
   },
   "outputs": [],
   "source": [
    "# goal seemed like a fun night out\n",
    "samerace_daters[\"goal\"].median()"
   ]
  },
  {
   "cell_type": "code",
   "execution_count": null,
   "metadata": {
    "collapsed": false
   },
   "outputs": [],
   "source": [
    "#don't go out on dates very often, on average once a month\n",
    "samerace_daters[[\"date\"]].plot(kind = \"hist\", color = \"green\")\n",
    "samerace_daters[\"date\"].value_counts()"
   ]
  },
  {
   "cell_type": "code",
   "execution_count": null,
   "metadata": {
    "collapsed": false
   },
   "outputs": [],
   "source": [
    "samerace_daters[\"date\"].median()"
   ]
  },
  {
   "cell_type": "code",
   "execution_count": null,
   "metadata": {
    "collapsed": false
   },
   "outputs": [],
   "source": [
    "# on average goes out twice a week (not necessarily dates); same as interracial dater\n",
    "samerace_daters[[\"go_out\"]].plot(kind = \"hist\", color = \"orange\")\n",
    "samerace_daters[\"go_out\"].value_counts()"
   ]
  },
  {
   "cell_type": "code",
   "execution_count": null,
   "metadata": {
    "collapsed": false
   },
   "outputs": [],
   "source": [
    "# rate themselves as a 7 on the attractiveness scale\n",
    "samerace_daters[[\"attr3_1\"]].plot(kind = \"hist\", color = \"red\")\n",
    "samerace_daters[\"attr3_1\"].value_counts()"
   ]
  },
  {
   "cell_type": "code",
   "execution_count": null,
   "metadata": {
    "collapsed": false
   },
   "outputs": [],
   "source": [
    "samerace_daters[[\"sinc3_1\"]].plot(kind = \"hist\", color = \"purple\")\n",
    "samerace_daters[\"sinc3_1\"].value_counts()"
   ]
  },
  {
   "cell_type": "code",
   "execution_count": null,
   "metadata": {
    "collapsed": false
   },
   "outputs": [],
   "source": [
    "#rate themselves similarly to interracial daters in terms of sincerity\n",
    "#average rating of 8..\n",
    "samerace_daters[\"sinc3_1\"].mean()"
   ]
  },
  {
   "cell_type": "code",
   "execution_count": null,
   "metadata": {
    "collapsed": false
   },
   "outputs": [],
   "source": [
    "samerace_daters[[\"fun3_1\"]].plot(kind = \"hist\", color = \"brown\")\n",
    "samerace_daters[\"fun3_1\"].value_counts()"
   ]
  },
  {
   "cell_type": "code",
   "execution_count": null,
   "metadata": {
    "collapsed": false
   },
   "outputs": [],
   "source": [
    "#same as interracial daters rate themselves on average as an 8 on the fun scale!\n",
    "samerace_daters[\"fun3_1\"].median()"
   ]
  },
  {
   "cell_type": "code",
   "execution_count": null,
   "metadata": {
    "collapsed": false
   },
   "outputs": [],
   "source": [
    "# same as interracial daters think the are smart\n",
    "samerace_daters[[\"intel3_1\"]].plot(kind = \"hist\", color = \"green\")\n",
    "samerace_daters[\"intel3_1\"].value_counts()"
   ]
  },
  {
   "cell_type": "code",
   "execution_count": null,
   "metadata": {
    "collapsed": false
   },
   "outputs": [],
   "source": [
    "samerace_daters[\"intel3_1\"].mean()"
   ]
  },
  {
   "cell_type": "code",
   "execution_count": null,
   "metadata": {
    "collapsed": false
   },
   "outputs": [],
   "source": [
    "samerace_daters[\"intel3_1\"].median()"
   ]
  },
  {
   "cell_type": "code",
   "execution_count": null,
   "metadata": {
    "collapsed": false
   },
   "outputs": [],
   "source": [
    "# same as interracial daters think the are smart\n",
    "samerace_daters[[\"amb3_1\"]].plot(kind = \"hist\", color = \"orange\")\n",
    "samerace_daters[\"amb3_1\"].value_counts()"
   ]
  },
  {
   "cell_type": "code",
   "execution_count": null,
   "metadata": {
    "collapsed": false
   },
   "outputs": [],
   "source": [
    "# same race daters think they are ambitious\n",
    "samerace_daters[\"amb3_1\"].mean()"
   ]
  },
  {
   "cell_type": "code",
   "execution_count": null,
   "metadata": {
    "collapsed": false
   },
   "outputs": [],
   "source": [
    "samerace_daters[\"amb3_1\"].median()"
   ]
  },
  {
   "cell_type": "code",
   "execution_count": null,
   "metadata": {
    "collapsed": false
   },
   "outputs": [],
   "source": [
    "samerace_daters[[\"sports\"]].plot(kind = \"hist\", color = \"purple\")\n",
    "samerace_daters[\"sports\"].value_counts()"
   ]
  },
  {
   "cell_type": "code",
   "execution_count": null,
   "metadata": {
    "collapsed": false
   },
   "outputs": [],
   "source": [
    "samerace_daters[\"sports\"].median()"
   ]
  },
  {
   "cell_type": "code",
   "execution_count": null,
   "metadata": {
    "collapsed": false
   },
   "outputs": [],
   "source": [
    "samerace_daters[[\"tvsports\"]].plot(kind = \"hist\", color = \"gold\")\n",
    "samerace_daters[\"tvsports\"].value_counts()"
   ]
  },
  {
   "cell_type": "code",
   "execution_count": null,
   "metadata": {
    "collapsed": false
   },
   "outputs": [],
   "source": [
    "samerace_daters[\"tvsports\"].mean()\n"
   ]
  },
  {
   "cell_type": "code",
   "execution_count": null,
   "metadata": {
    "collapsed": false
   },
   "outputs": [],
   "source": [
    "samerace_daters[\"tvsports\"].median()"
   ]
  },
  {
   "cell_type": "code",
   "execution_count": null,
   "metadata": {
    "collapsed": false
   },
   "outputs": [],
   "source": [
    "samerace_daters[[\"exercise\"]].plot(kind = \"hist\", color = \"gold\")\n",
    "samerace_daters[\"exercise\"].value_counts()"
   ]
  },
  {
   "cell_type": "code",
   "execution_count": null,
   "metadata": {
    "collapsed": false
   },
   "outputs": [],
   "source": [
    "samerace_daters[\"exercise\"].mean()"
   ]
  },
  {
   "cell_type": "code",
   "execution_count": null,
   "metadata": {
    "collapsed": false
   },
   "outputs": [],
   "source": [
    "interracial_daters[\"exercise\"].mean()"
   ]
  },
  {
   "cell_type": "code",
   "execution_count": null,
   "metadata": {
    "collapsed": false
   },
   "outputs": [],
   "source": [
    "samerace_daters[[\"dining\"]].plot(kind = \"hist\", color = \"green\")\n",
    "samerace_daters[\"dining\"].value_counts()"
   ]
  },
  {
   "cell_type": "code",
   "execution_count": null,
   "metadata": {
    "collapsed": false
   },
   "outputs": [],
   "source": [
    "#like eating out just like their interracial dating peers\n",
    "samerace_daters[\"dining\"].mean()"
   ]
  },
  {
   "cell_type": "code",
   "execution_count": null,
   "metadata": {
    "collapsed": false
   },
   "outputs": [],
   "source": [
    "interracial_daters[\"dining\"].mean()"
   ]
  },
  {
   "cell_type": "code",
   "execution_count": null,
   "metadata": {
    "collapsed": false
   },
   "outputs": [],
   "source": [
    "samerace_daters[\"museums\"].mean()"
   ]
  },
  {
   "cell_type": "code",
   "execution_count": null,
   "metadata": {
    "collapsed": false
   },
   "outputs": [],
   "source": [
    "interracial_daters[\"museums\"].mean()"
   ]
  },
  {
   "cell_type": "code",
   "execution_count": null,
   "metadata": {
    "collapsed": false
   },
   "outputs": [],
   "source": [
    "samerace_daters[\"art\"].mean()"
   ]
  },
  {
   "cell_type": "code",
   "execution_count": null,
   "metadata": {
    "collapsed": false
   },
   "outputs": [],
   "source": [
    "interracial_daters[\"art\"].mean()"
   ]
  },
  {
   "cell_type": "code",
   "execution_count": null,
   "metadata": {
    "collapsed": false
   },
   "outputs": [],
   "source": [
    "samerace_daters[\"hiking\"].mean()"
   ]
  },
  {
   "cell_type": "code",
   "execution_count": null,
   "metadata": {
    "collapsed": false
   },
   "outputs": [],
   "source": [
    "interracial_daters[\"hiking\"].mean()"
   ]
  },
  {
   "cell_type": "code",
   "execution_count": null,
   "metadata": {
    "collapsed": false
   },
   "outputs": [],
   "source": [
    "samerace_daters[\"gaming\"].mean()"
   ]
  },
  {
   "cell_type": "code",
   "execution_count": null,
   "metadata": {
    "collapsed": false
   },
   "outputs": [],
   "source": [
    "interracial_daters[\"gaming\"].mean()"
   ]
  },
  {
   "cell_type": "code",
   "execution_count": null,
   "metadata": {
    "collapsed": false
   },
   "outputs": [],
   "source": [
    "samerace_daters[\"clubbing\"].mean()"
   ]
  },
  {
   "cell_type": "code",
   "execution_count": null,
   "metadata": {
    "collapsed": false
   },
   "outputs": [],
   "source": [
    "interracial_daters[\"clubbing\"].mean()"
   ]
  },
  {
   "cell_type": "code",
   "execution_count": null,
   "metadata": {
    "collapsed": false
   },
   "outputs": [],
   "source": [
    "samerace_daters[\"reading\"].mean()"
   ]
  },
  {
   "cell_type": "code",
   "execution_count": null,
   "metadata": {
    "collapsed": false
   },
   "outputs": [],
   "source": [
    "interracial_daters[\"reading\"].mean()"
   ]
  },
  {
   "cell_type": "code",
   "execution_count": null,
   "metadata": {
    "collapsed": false
   },
   "outputs": [],
   "source": [
    "samerace_daters[\"tv\"].mean()"
   ]
  },
  {
   "cell_type": "code",
   "execution_count": null,
   "metadata": {
    "collapsed": false
   },
   "outputs": [],
   "source": [
    "interracial_daters[\"tv\"].mean()"
   ]
  },
  {
   "cell_type": "code",
   "execution_count": null,
   "metadata": {
    "collapsed": false
   },
   "outputs": [],
   "source": [
    "samerace_daters[\"theater\"].mean()"
   ]
  },
  {
   "cell_type": "code",
   "execution_count": null,
   "metadata": {
    "collapsed": false
   },
   "outputs": [],
   "source": [
    "interracial_daters[\"theater\"].mean()"
   ]
  },
  {
   "cell_type": "code",
   "execution_count": null,
   "metadata": {
    "collapsed": false
   },
   "outputs": [],
   "source": [
    "samerace_daters[\"movies\"].mean()"
   ]
  },
  {
   "cell_type": "code",
   "execution_count": null,
   "metadata": {
    "collapsed": false
   },
   "outputs": [],
   "source": [
    "interracial_daters[\"movies\"].mean()"
   ]
  },
  {
   "cell_type": "code",
   "execution_count": null,
   "metadata": {
    "collapsed": false
   },
   "outputs": [],
   "source": [
    "samerace_daters[\"concerts\"].mean()"
   ]
  },
  {
   "cell_type": "code",
   "execution_count": null,
   "metadata": {
    "collapsed": false
   },
   "outputs": [],
   "source": [
    "interracial_daters[\"concerts\"].mean()"
   ]
  },
  {
   "cell_type": "code",
   "execution_count": null,
   "metadata": {
    "collapsed": false
   },
   "outputs": [],
   "source": [
    "samerace_daters[\"music\"].mean()"
   ]
  },
  {
   "cell_type": "code",
   "execution_count": null,
   "metadata": {
    "collapsed": false
   },
   "outputs": [],
   "source": [
    "interracial_daters[\"music\"].mean()"
   ]
  },
  {
   "cell_type": "code",
   "execution_count": null,
   "metadata": {
    "collapsed": false
   },
   "outputs": [],
   "source": [
    "samerace_daters[\"shopping\"].mean()"
   ]
  },
  {
   "cell_type": "code",
   "execution_count": null,
   "metadata": {
    "collapsed": false
   },
   "outputs": [],
   "source": [
    "interracial_daters[\"shopping\"].mean()"
   ]
  },
  {
   "cell_type": "code",
   "execution_count": null,
   "metadata": {
    "collapsed": false
   },
   "outputs": [],
   "source": [
    "samerace_daters[\"yoga\"].mean()"
   ]
  },
  {
   "cell_type": "code",
   "execution_count": null,
   "metadata": {
    "collapsed": false
   },
   "outputs": [],
   "source": [
    "interracial_daters[\"yoga\"].mean()"
   ]
  },
  {
   "cell_type": "code",
   "execution_count": null,
   "metadata": {
    "collapsed": false
   },
   "outputs": [],
   "source": [
    "samerace_daters.columns"
   ]
  },
  {
   "cell_type": "markdown",
   "metadata": {
    "collapsed": true
   },
   "source": [
    "## Same Race Dates Only Logistic Regression\n",
    "\n",
    "Need to create subset of data that is same race dates only \n",
    "\n"
   ]
  },
  {
   "cell_type": "markdown",
   "metadata": {},
   "source": [
    "## NEED TO ADD DECISION, remove match, and add ratings of person to predictive model"
   ]
  },
  {
   "cell_type": "code",
   "execution_count": null,
   "metadata": {
    "collapsed": true
   },
   "outputs": [],
   "source": [
    "import patsy\n",
    "import pandas as pd, numpy as np\n",
    "from patsy import dmatrices, dmatrix\n",
    "\n",
    "from sklearn import linear_model \n",
    "from sklearn.grid_search import GridSearchCV\n",
    "from sklearn.cross_validation import train_test_split\n",
    "from sklearn.metrics import classification_report"
   ]
  },
  {
   "cell_type": "markdown",
   "metadata": {},
   "source": [
    "\n",
    "## NEED TO ADD DECISION, remove match, and add ratings of person to predictive model\n",
    "## add rating participant gave to dates to formula; subset data only to matches and then create another version that is trained on not matces_outside race not a match_inside race"
   ]
  },
  {
   "cell_type": "code",
   "execution_count": null,
   "metadata": {
    "collapsed": false
   },
   "outputs": [],
   "source": [
    "#create pasty formula\n",
    "\n",
    "\n",
    "out_race_formula = \"\"\"match_outside_race ~ samerace + age\n",
    "+ race + imprelig + goal + date + go_out + attr3_1 + sinc3_1 +fun3_1 + intel3_1 + amb3_1 + attr1_1 + sinc1_1 + intel1_1 + fun1_1 + \n",
    "amb1_1 + shar1_1 -1\"\"\"\n",
    "\n",
    "# creating of predictor and response columns\n",
    "Y1,X1 = patsy.dmatrices(out_race_formula, data = df_female, return_type='dataframe')"
   ]
  },
  {
   "cell_type": "code",
   "execution_count": null,
   "metadata": {
    "collapsed": false
   },
   "outputs": [],
   "source": [
    "#normalize predictor columns\n",
    "from sklearn.preprocessing import StandardScaler\n",
    "\n",
    "female_scaler = StandardScaler()\n",
    "\n",
    "X_1 = female_scaler.fit_transform(X1)\n",
    "\n",
    "\n",
    "\n"
   ]
  },
  {
   "cell_type": "code",
   "execution_count": null,
   "metadata": {
    "collapsed": false
   },
   "outputs": [],
   "source": [
    "out_race_formula"
   ]
  },
  {
   "cell_type": "code",
   "execution_count": null,
   "metadata": {
    "collapsed": true
   },
   "outputs": [],
   "source": [
    "#instantiate logistic regression model\n",
    "from sklearn.linear_model import LogisticRegression\n",
    "\n",
    "female_logistic = LogisticRegression()"
   ]
  },
  {
   "cell_type": "code",
   "execution_count": null,
   "metadata": {
    "collapsed": false
   },
   "outputs": [],
   "source": [
    "#gridseach Logistic Regression for females\n",
    "\n",
    "#alpha strength\n",
    "#e.g. 10 to X power; x = -5 - 1 in increments of 20\n",
    "Cs = np.logspace(-5,1, 20)\n",
    "   \n",
    "#specify parameters you would like searched\n",
    "search_parameters_female_gridCV = { \n",
    "    \"penalty\":             ['l1','l2'],   \n",
    "    \"C\":                   Cs, \n",
    "    \"class_weight\":        [None, \"balanced\"]\n",
    "}\n",
    "\n",
    "#instantiate grid search and pass model, search parameters, and number of cross validation folds\n",
    "# passing precision as scoring since so few examples of females with matches outside of their race\n",
    "female_gridCV = GridSearchCV(female_logistic, search_parameters_female_gridCV, cv = 5,\n",
    "                             scoring = \"average_precision\", verbose = 1)"
   ]
  },
  {
   "cell_type": "code",
   "execution_count": null,
   "metadata": {
    "collapsed": true
   },
   "outputs": [],
   "source": [
    "#reformat response column \n",
    "Y_1 = np.ravel(Y1)"
   ]
  },
  {
   "cell_type": "code",
   "execution_count": null,
   "metadata": {
    "collapsed": false
   },
   "outputs": [],
   "source": [
    "#fit gridsearch; pass predictor columns first and then response columns \n",
    "female_gridCV.fit(X_1, Y_1)"
   ]
  },
  {
   "cell_type": "code",
   "execution_count": null,
   "metadata": {
    "collapsed": false
   },
   "outputs": [],
   "source": [
    "print \"Best C / Regularization Param:\", female_gridCV.best_estimator_.C # This estimator.best_estimator_ object has many great reporting metrics\n",
    "print \"Best Params:\", female_gridCV.best_params_\n",
    "print \"Best Score:\", female_gridCV.best_score_\n",
    "\n"
   ]
  },
  {
   "cell_type": "code",
   "execution_count": null,
   "metadata": {
    "collapsed": false
   },
   "outputs": [],
   "source": [
    "# get and instantiate model with best estimation and set it equal to a variable \n"
   ]
  },
  {
   "cell_type": "code",
   "execution_count": null,
   "metadata": {
    "collapsed": true
   },
   "outputs": [],
   "source": []
  },
  {
   "cell_type": "code",
   "execution_count": null,
   "metadata": {
    "collapsed": true
   },
   "outputs": [],
   "source": []
  },
  {
   "cell_type": "code",
   "execution_count": null,
   "metadata": {
    "collapsed": false
   },
   "outputs": [],
   "source": [
    "# train test split your data\n",
    "from sklearn.cross_validation import train_test_split\n",
    "\n",
    "#pass predictor columns, then response columns, then select test size\n",
    "# starify data because there are few samples of matches outside race\n"
   ]
  },
  {
   "cell_type": "code",
   "execution_count": null,
   "metadata": {
    "collapsed": false
   },
   "outputs": [],
   "source": [
    "#fit model with training data\n",
    "# pass training predictor columns first and thenresponse column\n",
    "\n"
   ]
  },
  {
   "cell_type": "code",
   "execution_count": null,
   "metadata": {
    "collapsed": false
   },
   "outputs": [],
   "source": []
  },
  {
   "cell_type": "code",
   "execution_count": null,
   "metadata": {
    "collapsed": false
   },
   "outputs": [],
   "source": [
    "#predict\n"
   ]
  },
  {
   "cell_type": "code",
   "execution_count": null,
   "metadata": {
    "collapsed": false
   },
   "outputs": [],
   "source": []
  },
  {
   "cell_type": "code",
   "execution_count": null,
   "metadata": {
    "collapsed": false
   },
   "outputs": [],
   "source": [
    "#predict probabilities of classes\n",
    "# showing 50% for each probability...not doing better than guessing! \n"
   ]
  },
  {
   "cell_type": "code",
   "execution_count": null,
   "metadata": {
    "collapsed": false
   },
   "outputs": [],
   "source": [
    "# score in logistic regression does not indicate how well your model is doing. Must look at your probabilities and \n",
    "#AUC and ROC Scores\n"
   ]
  },
  {
   "cell_type": "code",
   "execution_count": null,
   "metadata": {
    "collapsed": true
   },
   "outputs": [],
   "source": []
  },
  {
   "cell_type": "code",
   "execution_count": null,
   "metadata": {
    "collapsed": false
   },
   "outputs": [],
   "source": [
    "#classification Report\n",
    "#pass model's predicted values and response test values\n"
   ]
  },
  {
   "cell_type": "markdown",
   "metadata": {},
   "source": [
    "Precision – is the % of true positives your model predicts\n",
    "\n",
    "Recall – is the % instances that were captured by your model\n",
    "\n",
    "F1-Score – How well your model is doing over with recall and precision\n",
    "\n",
    "Support – number of observations for a value in the test set"
   ]
  },
  {
   "cell_type": "code",
   "execution_count": null,
   "metadata": {
    "collapsed": true
   },
   "outputs": [],
   "source": [
    "#ROC and AUC Curves"
   ]
  },
  {
   "cell_type": "code",
   "execution_count": null,
   "metadata": {
    "collapsed": true
   },
   "outputs": [],
   "source": []
  },
  {
   "cell_type": "code",
   "execution_count": null,
   "metadata": {
    "collapsed": true
   },
   "outputs": [],
   "source": []
  },
  {
   "cell_type": "code",
   "execution_count": null,
   "metadata": {
    "collapsed": true
   },
   "outputs": [],
   "source": []
  },
  {
   "cell_type": "code",
   "execution_count": null,
   "metadata": {
    "collapsed": true
   },
   "outputs": [],
   "source": []
  },
  {
   "cell_type": "code",
   "execution_count": null,
   "metadata": {
    "collapsed": true
   },
   "outputs": [],
   "source": []
  },
  {
   "cell_type": "code",
   "execution_count": null,
   "metadata": {
    "collapsed": true
   },
   "outputs": [],
   "source": []
  },
  {
   "cell_type": "code",
   "execution_count": null,
   "metadata": {
    "collapsed": true
   },
   "outputs": [],
   "source": []
  },
  {
   "cell_type": "code",
   "execution_count": null,
   "metadata": {
    "collapsed": true
   },
   "outputs": [],
   "source": []
  },
  {
   "cell_type": "code",
   "execution_count": null,
   "metadata": {
    "collapsed": true
   },
   "outputs": [],
   "source": []
  },
  {
   "cell_type": "code",
   "execution_count": null,
   "metadata": {
    "collapsed": true
   },
   "outputs": [],
   "source": []
  },
  {
   "cell_type": "code",
   "execution_count": null,
   "metadata": {
    "collapsed": true
   },
   "outputs": [],
   "source": []
  },
  {
   "cell_type": "code",
   "execution_count": null,
   "metadata": {
    "collapsed": true
   },
   "outputs": [],
   "source": []
  },
  {
   "cell_type": "code",
   "execution_count": null,
   "metadata": {
    "collapsed": true
   },
   "outputs": [],
   "source": []
  },
  {
   "cell_type": "code",
   "execution_count": null,
   "metadata": {
    "collapsed": true
   },
   "outputs": [],
   "source": []
  },
  {
   "cell_type": "code",
   "execution_count": null,
   "metadata": {
    "collapsed": true
   },
   "outputs": [],
   "source": []
  },
  {
   "cell_type": "code",
   "execution_count": null,
   "metadata": {
    "collapsed": true
   },
   "outputs": [],
   "source": []
  },
  {
   "cell_type": "code",
   "execution_count": null,
   "metadata": {
    "collapsed": true
   },
   "outputs": [],
   "source": []
  },
  {
   "cell_type": "code",
   "execution_count": null,
   "metadata": {
    "collapsed": true
   },
   "outputs": [],
   "source": []
  },
  {
   "cell_type": "code",
   "execution_count": null,
   "metadata": {
    "collapsed": true
   },
   "outputs": [],
   "source": []
  },
  {
   "cell_type": "code",
   "execution_count": null,
   "metadata": {
    "collapsed": true
   },
   "outputs": [],
   "source": []
  },
  {
   "cell_type": "code",
   "execution_count": null,
   "metadata": {
    "collapsed": true
   },
   "outputs": [],
   "source": []
  },
  {
   "cell_type": "code",
   "execution_count": null,
   "metadata": {
    "collapsed": true
   },
   "outputs": [],
   "source": []
  },
  {
   "cell_type": "code",
   "execution_count": null,
   "metadata": {
    "collapsed": true
   },
   "outputs": [],
   "source": []
  },
  {
   "cell_type": "code",
   "execution_count": null,
   "metadata": {
    "collapsed": true
   },
   "outputs": [],
   "source": []
  },
  {
   "cell_type": "code",
   "execution_count": null,
   "metadata": {
    "collapsed": true
   },
   "outputs": [],
   "source": []
  },
  {
   "cell_type": "code",
   "execution_count": null,
   "metadata": {
    "collapsed": true
   },
   "outputs": [],
   "source": []
  },
  {
   "cell_type": "code",
   "execution_count": null,
   "metadata": {
    "collapsed": true
   },
   "outputs": [],
   "source": []
  },
  {
   "cell_type": "code",
   "execution_count": null,
   "metadata": {
    "collapsed": true
   },
   "outputs": [],
   "source": []
  },
  {
   "cell_type": "code",
   "execution_count": null,
   "metadata": {
    "collapsed": true
   },
   "outputs": [],
   "source": []
  },
  {
   "cell_type": "code",
   "execution_count": null,
   "metadata": {
    "collapsed": true
   },
   "outputs": [],
   "source": []
  },
  {
   "cell_type": "code",
   "execution_count": null,
   "metadata": {
    "collapsed": true
   },
   "outputs": [],
   "source": []
  },
  {
   "cell_type": "code",
   "execution_count": null,
   "metadata": {
    "collapsed": true
   },
   "outputs": [],
   "source": []
  },
  {
   "cell_type": "code",
   "execution_count": null,
   "metadata": {
    "collapsed": true
   },
   "outputs": [],
   "source": []
  },
  {
   "cell_type": "code",
   "execution_count": null,
   "metadata": {
    "collapsed": true
   },
   "outputs": [],
   "source": []
  },
  {
   "cell_type": "code",
   "execution_count": null,
   "metadata": {
    "collapsed": true
   },
   "outputs": [],
   "source": []
  },
  {
   "cell_type": "code",
   "execution_count": null,
   "metadata": {
    "collapsed": true
   },
   "outputs": [],
   "source": []
  },
  {
   "cell_type": "code",
   "execution_count": null,
   "metadata": {
    "collapsed": true
   },
   "outputs": [],
   "source": []
  },
  {
   "cell_type": "code",
   "execution_count": null,
   "metadata": {
    "collapsed": true
   },
   "outputs": [],
   "source": []
  },
  {
   "cell_type": "code",
   "execution_count": null,
   "metadata": {
    "collapsed": true
   },
   "outputs": [],
   "source": []
  },
  {
   "cell_type": "code",
   "execution_count": null,
   "metadata": {
    "collapsed": true
   },
   "outputs": [],
   "source": []
  },
  {
   "cell_type": "code",
   "execution_count": null,
   "metadata": {
    "collapsed": true
   },
   "outputs": [],
   "source": []
  },
  {
   "cell_type": "code",
   "execution_count": null,
   "metadata": {
    "collapsed": true
   },
   "outputs": [],
   "source": []
  },
  {
   "cell_type": "code",
   "execution_count": null,
   "metadata": {
    "collapsed": true
   },
   "outputs": [],
   "source": []
  },
  {
   "cell_type": "code",
   "execution_count": null,
   "metadata": {
    "collapsed": true
   },
   "outputs": [],
   "source": []
  },
  {
   "cell_type": "code",
   "execution_count": null,
   "metadata": {
    "collapsed": true
   },
   "outputs": [],
   "source": []
  },
  {
   "cell_type": "code",
   "execution_count": null,
   "metadata": {
    "collapsed": true
   },
   "outputs": [],
   "source": []
  },
  {
   "cell_type": "code",
   "execution_count": null,
   "metadata": {
    "collapsed": true
   },
   "outputs": [],
   "source": []
  },
  {
   "cell_type": "code",
   "execution_count": null,
   "metadata": {
    "collapsed": true
   },
   "outputs": [],
   "source": []
  },
  {
   "cell_type": "code",
   "execution_count": null,
   "metadata": {
    "collapsed": true
   },
   "outputs": [],
   "source": []
  },
  {
   "cell_type": "code",
   "execution_count": null,
   "metadata": {
    "collapsed": true
   },
   "outputs": [],
   "source": []
  },
  {
   "cell_type": "code",
   "execution_count": null,
   "metadata": {
    "collapsed": true
   },
   "outputs": [],
   "source": []
  },
  {
   "cell_type": "code",
   "execution_count": null,
   "metadata": {
    "collapsed": true
   },
   "outputs": [],
   "source": []
  },
  {
   "cell_type": "code",
   "execution_count": null,
   "metadata": {
    "collapsed": true
   },
   "outputs": [],
   "source": []
  },
  {
   "cell_type": "code",
   "execution_count": null,
   "metadata": {
    "collapsed": true
   },
   "outputs": [],
   "source": []
  },
  {
   "cell_type": "code",
   "execution_count": null,
   "metadata": {
    "collapsed": true
   },
   "outputs": [],
   "source": []
  },
  {
   "cell_type": "code",
   "execution_count": null,
   "metadata": {
    "collapsed": true
   },
   "outputs": [],
   "source": []
  },
  {
   "cell_type": "code",
   "execution_count": null,
   "metadata": {
    "collapsed": true
   },
   "outputs": [],
   "source": []
  },
  {
   "cell_type": "code",
   "execution_count": null,
   "metadata": {
    "collapsed": true
   },
   "outputs": [],
   "source": []
  },
  {
   "cell_type": "code",
   "execution_count": null,
   "metadata": {
    "collapsed": true
   },
   "outputs": [],
   "source": []
  },
  {
   "cell_type": "code",
   "execution_count": null,
   "metadata": {
    "collapsed": true
   },
   "outputs": [],
   "source": []
  },
  {
   "cell_type": "code",
   "execution_count": null,
   "metadata": {
    "collapsed": true
   },
   "outputs": [],
   "source": []
  },
  {
   "cell_type": "code",
   "execution_count": null,
   "metadata": {
    "collapsed": true
   },
   "outputs": [],
   "source": []
  },
  {
   "cell_type": "code",
   "execution_count": null,
   "metadata": {
    "collapsed": true
   },
   "outputs": [],
   "source": []
  },
  {
   "cell_type": "code",
   "execution_count": null,
   "metadata": {
    "collapsed": true
   },
   "outputs": [],
   "source": []
  },
  {
   "cell_type": "code",
   "execution_count": null,
   "metadata": {
    "collapsed": true
   },
   "outputs": [],
   "source": []
  },
  {
   "cell_type": "code",
   "execution_count": null,
   "metadata": {
    "collapsed": true
   },
   "outputs": [],
   "source": []
  },
  {
   "cell_type": "code",
   "execution_count": null,
   "metadata": {
    "collapsed": true
   },
   "outputs": [],
   "source": []
  },
  {
   "cell_type": "code",
   "execution_count": null,
   "metadata": {
    "collapsed": true
   },
   "outputs": [],
   "source": []
  },
  {
   "cell_type": "code",
   "execution_count": null,
   "metadata": {
    "collapsed": true
   },
   "outputs": [],
   "source": []
  },
  {
   "cell_type": "code",
   "execution_count": null,
   "metadata": {
    "collapsed": true
   },
   "outputs": [],
   "source": []
  },
  {
   "cell_type": "code",
   "execution_count": null,
   "metadata": {
    "collapsed": true
   },
   "outputs": [],
   "source": []
  },
  {
   "cell_type": "code",
   "execution_count": null,
   "metadata": {
    "collapsed": true
   },
   "outputs": [],
   "source": []
  },
  {
   "cell_type": "code",
   "execution_count": null,
   "metadata": {
    "collapsed": true
   },
   "outputs": [],
   "source": []
  },
  {
   "cell_type": "code",
   "execution_count": null,
   "metadata": {
    "collapsed": true
   },
   "outputs": [],
   "source": []
  },
  {
   "cell_type": "code",
   "execution_count": null,
   "metadata": {
    "collapsed": true
   },
   "outputs": [],
   "source": []
  },
  {
   "cell_type": "code",
   "execution_count": null,
   "metadata": {
    "collapsed": true
   },
   "outputs": [],
   "source": []
  },
  {
   "cell_type": "code",
   "execution_count": null,
   "metadata": {
    "collapsed": true
   },
   "outputs": [],
   "source": []
  },
  {
   "cell_type": "code",
   "execution_count": null,
   "metadata": {
    "collapsed": true
   },
   "outputs": [],
   "source": []
  },
  {
   "cell_type": "code",
   "execution_count": null,
   "metadata": {
    "collapsed": true
   },
   "outputs": [],
   "source": []
  },
  {
   "cell_type": "code",
   "execution_count": null,
   "metadata": {
    "collapsed": true
   },
   "outputs": [],
   "source": []
  },
  {
   "cell_type": "code",
   "execution_count": null,
   "metadata": {
    "collapsed": true
   },
   "outputs": [],
   "source": []
  },
  {
   "cell_type": "code",
   "execution_count": null,
   "metadata": {
    "collapsed": true
   },
   "outputs": [],
   "source": []
  },
  {
   "cell_type": "code",
   "execution_count": null,
   "metadata": {
    "collapsed": true
   },
   "outputs": [],
   "source": []
  },
  {
   "cell_type": "code",
   "execution_count": null,
   "metadata": {
    "collapsed": true
   },
   "outputs": [],
   "source": []
  },
  {
   "cell_type": "code",
   "execution_count": null,
   "metadata": {
    "collapsed": true
   },
   "outputs": [],
   "source": []
  },
  {
   "cell_type": "code",
   "execution_count": null,
   "metadata": {
    "collapsed": true
   },
   "outputs": [],
   "source": []
  },
  {
   "cell_type": "code",
   "execution_count": null,
   "metadata": {
    "collapsed": true
   },
   "outputs": [],
   "source": []
  },
  {
   "cell_type": "code",
   "execution_count": null,
   "metadata": {
    "collapsed": true
   },
   "outputs": [],
   "source": []
  },
  {
   "cell_type": "code",
   "execution_count": null,
   "metadata": {
    "collapsed": true
   },
   "outputs": [],
   "source": []
  },
  {
   "cell_type": "code",
   "execution_count": null,
   "metadata": {
    "collapsed": true
   },
   "outputs": [],
   "source": []
  },
  {
   "cell_type": "code",
   "execution_count": null,
   "metadata": {
    "collapsed": true
   },
   "outputs": [],
   "source": []
  },
  {
   "cell_type": "code",
   "execution_count": null,
   "metadata": {
    "collapsed": true
   },
   "outputs": [],
   "source": []
  },
  {
   "cell_type": "code",
   "execution_count": null,
   "metadata": {
    "collapsed": true
   },
   "outputs": [],
   "source": []
  },
  {
   "cell_type": "code",
   "execution_count": null,
   "metadata": {
    "collapsed": true
   },
   "outputs": [],
   "source": []
  },
  {
   "cell_type": "code",
   "execution_count": null,
   "metadata": {
    "collapsed": true
   },
   "outputs": [],
   "source": []
  },
  {
   "cell_type": "code",
   "execution_count": null,
   "metadata": {
    "collapsed": true
   },
   "outputs": [],
   "source": []
  },
  {
   "cell_type": "code",
   "execution_count": null,
   "metadata": {
    "collapsed": true
   },
   "outputs": [],
   "source": []
  },
  {
   "cell_type": "code",
   "execution_count": null,
   "metadata": {
    "collapsed": true
   },
   "outputs": [],
   "source": []
  },
  {
   "cell_type": "code",
   "execution_count": null,
   "metadata": {
    "collapsed": true
   },
   "outputs": [],
   "source": []
  },
  {
   "cell_type": "code",
   "execution_count": null,
   "metadata": {
    "collapsed": true
   },
   "outputs": [],
   "source": []
  },
  {
   "cell_type": "code",
   "execution_count": null,
   "metadata": {
    "collapsed": true
   },
   "outputs": [],
   "source": []
  },
  {
   "cell_type": "code",
   "execution_count": null,
   "metadata": {
    "collapsed": true
   },
   "outputs": [],
   "source": []
  },
  {
   "cell_type": "code",
   "execution_count": null,
   "metadata": {
    "collapsed": true
   },
   "outputs": [],
   "source": []
  },
  {
   "cell_type": "code",
   "execution_count": null,
   "metadata": {
    "collapsed": true
   },
   "outputs": [],
   "source": []
  },
  {
   "cell_type": "code",
   "execution_count": null,
   "metadata": {
    "collapsed": true
   },
   "outputs": [],
   "source": []
  },
  {
   "cell_type": "code",
   "execution_count": null,
   "metadata": {
    "collapsed": true
   },
   "outputs": [],
   "source": []
  },
  {
   "cell_type": "code",
   "execution_count": null,
   "metadata": {
    "collapsed": true
   },
   "outputs": [],
   "source": []
  },
  {
   "cell_type": "code",
   "execution_count": null,
   "metadata": {
    "collapsed": true
   },
   "outputs": [],
   "source": []
  },
  {
   "cell_type": "code",
   "execution_count": null,
   "metadata": {
    "collapsed": true
   },
   "outputs": [],
   "source": []
  },
  {
   "cell_type": "code",
   "execution_count": null,
   "metadata": {
    "collapsed": true
   },
   "outputs": [],
   "source": []
  },
  {
   "cell_type": "code",
   "execution_count": null,
   "metadata": {
    "collapsed": true
   },
   "outputs": [],
   "source": []
  },
  {
   "cell_type": "code",
   "execution_count": null,
   "metadata": {
    "collapsed": true
   },
   "outputs": [],
   "source": []
  },
  {
   "cell_type": "code",
   "execution_count": null,
   "metadata": {
    "collapsed": true
   },
   "outputs": [],
   "source": []
  },
  {
   "cell_type": "code",
   "execution_count": null,
   "metadata": {
    "collapsed": true
   },
   "outputs": [],
   "source": []
  },
  {
   "cell_type": "code",
   "execution_count": null,
   "metadata": {
    "collapsed": true
   },
   "outputs": [],
   "source": []
  },
  {
   "cell_type": "code",
   "execution_count": null,
   "metadata": {
    "collapsed": true
   },
   "outputs": [],
   "source": []
  },
  {
   "cell_type": "code",
   "execution_count": null,
   "metadata": {
    "collapsed": true
   },
   "outputs": [],
   "source": []
  },
  {
   "cell_type": "code",
   "execution_count": null,
   "metadata": {
    "collapsed": true
   },
   "outputs": [],
   "source": []
  },
  {
   "cell_type": "code",
   "execution_count": null,
   "metadata": {
    "collapsed": true
   },
   "outputs": [],
   "source": []
  },
  {
   "cell_type": "code",
   "execution_count": null,
   "metadata": {
    "collapsed": true
   },
   "outputs": [],
   "source": []
  },
  {
   "cell_type": "code",
   "execution_count": null,
   "metadata": {
    "collapsed": true
   },
   "outputs": [],
   "source": []
  },
  {
   "cell_type": "code",
   "execution_count": null,
   "metadata": {
    "collapsed": true
   },
   "outputs": [],
   "source": []
  },
  {
   "cell_type": "code",
   "execution_count": null,
   "metadata": {
    "collapsed": true
   },
   "outputs": [],
   "source": []
  },
  {
   "cell_type": "code",
   "execution_count": null,
   "metadata": {
    "collapsed": true
   },
   "outputs": [],
   "source": []
  },
  {
   "cell_type": "code",
   "execution_count": null,
   "metadata": {
    "collapsed": true
   },
   "outputs": [],
   "source": []
  },
  {
   "cell_type": "code",
   "execution_count": null,
   "metadata": {
    "collapsed": true
   },
   "outputs": [],
   "source": []
  },
  {
   "cell_type": "code",
   "execution_count": null,
   "metadata": {
    "collapsed": true
   },
   "outputs": [],
   "source": []
  },
  {
   "cell_type": "code",
   "execution_count": null,
   "metadata": {
    "collapsed": true
   },
   "outputs": [],
   "source": []
  },
  {
   "cell_type": "code",
   "execution_count": null,
   "metadata": {
    "collapsed": true
   },
   "outputs": [],
   "source": []
  },
  {
   "cell_type": "code",
   "execution_count": null,
   "metadata": {
    "collapsed": true
   },
   "outputs": [],
   "source": []
  },
  {
   "cell_type": "code",
   "execution_count": null,
   "metadata": {
    "collapsed": true
   },
   "outputs": [],
   "source": []
  },
  {
   "cell_type": "code",
   "execution_count": null,
   "metadata": {
    "collapsed": true
   },
   "outputs": [],
   "source": []
  },
  {
   "cell_type": "code",
   "execution_count": null,
   "metadata": {
    "collapsed": true
   },
   "outputs": [],
   "source": []
  },
  {
   "cell_type": "code",
   "execution_count": null,
   "metadata": {
    "collapsed": true
   },
   "outputs": [],
   "source": []
  },
  {
   "cell_type": "code",
   "execution_count": null,
   "metadata": {
    "collapsed": true
   },
   "outputs": [],
   "source": []
  },
  {
   "cell_type": "code",
   "execution_count": null,
   "metadata": {
    "collapsed": true
   },
   "outputs": [],
   "source": []
  },
  {
   "cell_type": "code",
   "execution_count": null,
   "metadata": {
    "collapsed": true
   },
   "outputs": [],
   "source": []
  },
  {
   "cell_type": "code",
   "execution_count": null,
   "metadata": {
    "collapsed": true
   },
   "outputs": [],
   "source": []
  },
  {
   "cell_type": "code",
   "execution_count": null,
   "metadata": {
    "collapsed": true
   },
   "outputs": [],
   "source": []
  },
  {
   "cell_type": "code",
   "execution_count": null,
   "metadata": {
    "collapsed": true
   },
   "outputs": [],
   "source": []
  },
  {
   "cell_type": "code",
   "execution_count": null,
   "metadata": {
    "collapsed": true
   },
   "outputs": [],
   "source": []
  },
  {
   "cell_type": "code",
   "execution_count": null,
   "metadata": {
    "collapsed": true
   },
   "outputs": [],
   "source": []
  },
  {
   "cell_type": "code",
   "execution_count": null,
   "metadata": {
    "collapsed": true
   },
   "outputs": [],
   "source": []
  },
  {
   "cell_type": "code",
   "execution_count": null,
   "metadata": {
    "collapsed": true
   },
   "outputs": [],
   "source": []
  },
  {
   "cell_type": "code",
   "execution_count": null,
   "metadata": {
    "collapsed": true
   },
   "outputs": [],
   "source": []
  },
  {
   "cell_type": "code",
   "execution_count": null,
   "metadata": {
    "collapsed": true
   },
   "outputs": [],
   "source": []
  },
  {
   "cell_type": "code",
   "execution_count": null,
   "metadata": {
    "collapsed": true
   },
   "outputs": [],
   "source": []
  },
  {
   "cell_type": "code",
   "execution_count": null,
   "metadata": {
    "collapsed": true
   },
   "outputs": [],
   "source": []
  },
  {
   "cell_type": "code",
   "execution_count": null,
   "metadata": {
    "collapsed": true
   },
   "outputs": [],
   "source": []
  },
  {
   "cell_type": "code",
   "execution_count": null,
   "metadata": {
    "collapsed": true
   },
   "outputs": [],
   "source": []
  },
  {
   "cell_type": "code",
   "execution_count": null,
   "metadata": {
    "collapsed": true
   },
   "outputs": [],
   "source": []
  },
  {
   "cell_type": "code",
   "execution_count": null,
   "metadata": {
    "collapsed": true
   },
   "outputs": [],
   "source": []
  },
  {
   "cell_type": "code",
   "execution_count": null,
   "metadata": {
    "collapsed": true
   },
   "outputs": [],
   "source": []
  },
  {
   "cell_type": "code",
   "execution_count": null,
   "metadata": {
    "collapsed": true
   },
   "outputs": [],
   "source": []
  },
  {
   "cell_type": "code",
   "execution_count": null,
   "metadata": {
    "collapsed": true
   },
   "outputs": [],
   "source": []
  },
  {
   "cell_type": "code",
   "execution_count": null,
   "metadata": {
    "collapsed": true
   },
   "outputs": [],
   "source": []
  },
  {
   "cell_type": "code",
   "execution_count": null,
   "metadata": {
    "collapsed": true
   },
   "outputs": [],
   "source": []
  },
  {
   "cell_type": "code",
   "execution_count": null,
   "metadata": {
    "collapsed": true
   },
   "outputs": [],
   "source": []
  },
  {
   "cell_type": "code",
   "execution_count": null,
   "metadata": {
    "collapsed": true
   },
   "outputs": [],
   "source": []
  },
  {
   "cell_type": "code",
   "execution_count": null,
   "metadata": {
    "collapsed": true
   },
   "outputs": [],
   "source": []
  },
  {
   "cell_type": "code",
   "execution_count": null,
   "metadata": {
    "collapsed": true
   },
   "outputs": [],
   "source": []
  },
  {
   "cell_type": "code",
   "execution_count": null,
   "metadata": {
    "collapsed": true
   },
   "outputs": [],
   "source": []
  },
  {
   "cell_type": "code",
   "execution_count": null,
   "metadata": {
    "collapsed": true
   },
   "outputs": [],
   "source": []
  },
  {
   "cell_type": "code",
   "execution_count": null,
   "metadata": {
    "collapsed": true
   },
   "outputs": [],
   "source": []
  },
  {
   "cell_type": "code",
   "execution_count": null,
   "metadata": {
    "collapsed": true
   },
   "outputs": [],
   "source": []
  },
  {
   "cell_type": "code",
   "execution_count": null,
   "metadata": {
    "collapsed": true
   },
   "outputs": [],
   "source": []
  },
  {
   "cell_type": "code",
   "execution_count": null,
   "metadata": {
    "collapsed": true
   },
   "outputs": [],
   "source": []
  },
  {
   "cell_type": "code",
   "execution_count": null,
   "metadata": {
    "collapsed": true
   },
   "outputs": [],
   "source": []
  },
  {
   "cell_type": "code",
   "execution_count": null,
   "metadata": {
    "collapsed": true
   },
   "outputs": [],
   "source": []
  },
  {
   "cell_type": "code",
   "execution_count": null,
   "metadata": {
    "collapsed": true
   },
   "outputs": [],
   "source": []
  },
  {
   "cell_type": "code",
   "execution_count": null,
   "metadata": {
    "collapsed": true
   },
   "outputs": [],
   "source": []
  },
  {
   "cell_type": "code",
   "execution_count": null,
   "metadata": {
    "collapsed": true
   },
   "outputs": [],
   "source": []
  },
  {
   "cell_type": "code",
   "execution_count": null,
   "metadata": {
    "collapsed": true
   },
   "outputs": [],
   "source": []
  },
  {
   "cell_type": "code",
   "execution_count": null,
   "metadata": {
    "collapsed": true
   },
   "outputs": [],
   "source": []
  },
  {
   "cell_type": "code",
   "execution_count": null,
   "metadata": {
    "collapsed": true
   },
   "outputs": [],
   "source": []
  },
  {
   "cell_type": "code",
   "execution_count": null,
   "metadata": {
    "collapsed": true
   },
   "outputs": [],
   "source": []
  },
  {
   "cell_type": "code",
   "execution_count": null,
   "metadata": {
    "collapsed": true
   },
   "outputs": [],
   "source": []
  },
  {
   "cell_type": "code",
   "execution_count": null,
   "metadata": {
    "collapsed": true
   },
   "outputs": [],
   "source": []
  },
  {
   "cell_type": "code",
   "execution_count": null,
   "metadata": {
    "collapsed": true
   },
   "outputs": [],
   "source": []
  },
  {
   "cell_type": "code",
   "execution_count": null,
   "metadata": {
    "collapsed": true
   },
   "outputs": [],
   "source": []
  },
  {
   "cell_type": "code",
   "execution_count": null,
   "metadata": {
    "collapsed": true
   },
   "outputs": [],
   "source": []
  },
  {
   "cell_type": "code",
   "execution_count": null,
   "metadata": {
    "collapsed": true
   },
   "outputs": [],
   "source": []
  },
  {
   "cell_type": "code",
   "execution_count": null,
   "metadata": {
    "collapsed": true
   },
   "outputs": [],
   "source": []
  },
  {
   "cell_type": "code",
   "execution_count": null,
   "metadata": {
    "collapsed": true
   },
   "outputs": [],
   "source": []
  },
  {
   "cell_type": "code",
   "execution_count": null,
   "metadata": {
    "collapsed": true
   },
   "outputs": [],
   "source": []
  },
  {
   "cell_type": "code",
   "execution_count": null,
   "metadata": {
    "collapsed": true
   },
   "outputs": [],
   "source": []
  },
  {
   "cell_type": "code",
   "execution_count": null,
   "metadata": {
    "collapsed": true
   },
   "outputs": [],
   "source": []
  },
  {
   "cell_type": "code",
   "execution_count": null,
   "metadata": {
    "collapsed": true
   },
   "outputs": [],
   "source": []
  },
  {
   "cell_type": "code",
   "execution_count": null,
   "metadata": {
    "collapsed": true
   },
   "outputs": [],
   "source": []
  },
  {
   "cell_type": "code",
   "execution_count": null,
   "metadata": {
    "collapsed": true
   },
   "outputs": [],
   "source": []
  },
  {
   "cell_type": "code",
   "execution_count": null,
   "metadata": {
    "collapsed": true
   },
   "outputs": [],
   "source": []
  },
  {
   "cell_type": "code",
   "execution_count": null,
   "metadata": {
    "collapsed": true
   },
   "outputs": [],
   "source": []
  },
  {
   "cell_type": "code",
   "execution_count": null,
   "metadata": {
    "collapsed": true
   },
   "outputs": [],
   "source": []
  },
  {
   "cell_type": "code",
   "execution_count": null,
   "metadata": {
    "collapsed": true
   },
   "outputs": [],
   "source": []
  },
  {
   "cell_type": "code",
   "execution_count": null,
   "metadata": {
    "collapsed": true
   },
   "outputs": [],
   "source": []
  },
  {
   "cell_type": "code",
   "execution_count": null,
   "metadata": {
    "collapsed": true
   },
   "outputs": [],
   "source": []
  },
  {
   "cell_type": "code",
   "execution_count": null,
   "metadata": {
    "collapsed": true
   },
   "outputs": [],
   "source": []
  },
  {
   "cell_type": "code",
   "execution_count": null,
   "metadata": {
    "collapsed": true
   },
   "outputs": [],
   "source": []
  },
  {
   "cell_type": "code",
   "execution_count": null,
   "metadata": {
    "collapsed": true
   },
   "outputs": [],
   "source": []
  },
  {
   "cell_type": "code",
   "execution_count": null,
   "metadata": {
    "collapsed": true
   },
   "outputs": [],
   "source": []
  },
  {
   "cell_type": "code",
   "execution_count": null,
   "metadata": {
    "collapsed": true
   },
   "outputs": [],
   "source": []
  },
  {
   "cell_type": "code",
   "execution_count": null,
   "metadata": {
    "collapsed": true
   },
   "outputs": [],
   "source": []
  },
  {
   "cell_type": "code",
   "execution_count": null,
   "metadata": {
    "collapsed": true
   },
   "outputs": [],
   "source": []
  },
  {
   "cell_type": "code",
   "execution_count": null,
   "metadata": {
    "collapsed": true
   },
   "outputs": [],
   "source": []
  },
  {
   "cell_type": "code",
   "execution_count": null,
   "metadata": {
    "collapsed": true
   },
   "outputs": [],
   "source": []
  },
  {
   "cell_type": "code",
   "execution_count": null,
   "metadata": {
    "collapsed": true
   },
   "outputs": [],
   "source": []
  },
  {
   "cell_type": "code",
   "execution_count": null,
   "metadata": {
    "collapsed": true
   },
   "outputs": [],
   "source": []
  },
  {
   "cell_type": "code",
   "execution_count": null,
   "metadata": {
    "collapsed": true
   },
   "outputs": [],
   "source": []
  },
  {
   "cell_type": "code",
   "execution_count": null,
   "metadata": {
    "collapsed": true
   },
   "outputs": [],
   "source": []
  },
  {
   "cell_type": "code",
   "execution_count": null,
   "metadata": {
    "collapsed": true
   },
   "outputs": [],
   "source": []
  },
  {
   "cell_type": "code",
   "execution_count": null,
   "metadata": {
    "collapsed": true
   },
   "outputs": [],
   "source": []
  },
  {
   "cell_type": "code",
   "execution_count": null,
   "metadata": {
    "collapsed": true
   },
   "outputs": [],
   "source": []
  },
  {
   "cell_type": "code",
   "execution_count": null,
   "metadata": {
    "collapsed": true
   },
   "outputs": [],
   "source": []
  }
 ],
 "metadata": {
  "kernelspec": {
   "display_name": "Python 2",
   "language": "python",
   "name": "python2"
  },
  "language_info": {
   "codemirror_mode": {
    "name": "ipython",
    "version": 2
   },
   "file_extension": ".py",
   "mimetype": "text/x-python",
   "name": "python",
   "nbconvert_exporter": "python",
   "pygments_lexer": "ipython2",
   "version": "2.7.11"
  }
 },
 "nbformat": 4,
 "nbformat_minor": 0
}
