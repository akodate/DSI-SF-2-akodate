{
 "cells": [
  {
   "cell_type": "markdown",
   "metadata": {},
   "source": [
    "# Step 1. Loading Data"
   ]
  },
  {
   "cell_type": "markdown",
   "metadata": {},
   "source": [
    "### Import packages ###"
   ]
  },
  {
   "cell_type": "code",
   "execution_count": 1,
   "metadata": {
    "collapsed": true
   },
   "outputs": [],
   "source": [
    "import pandas as pd\n",
    "from sklearn.neighbors import KNeighborsClassifier\n",
    "from sklearn.metrics import confusion_matrix\n",
    "from sklearn.cross_validation import train_test_split\n",
    "\n",
    "import pandas as pd, numpy as np\n",
    "from patsy import dmatrices, dmatrix, demo_data\n",
    "\n",
    "from sklearn import linear_model, decomposition, datasets\n",
    "from sklearn.pipeline import Pipeline\n",
    "from sklearn.grid_search import GridSearchCV\n",
    "from sklearn.cross_validation import train_test_split\n",
    "from sklearn.metrics import classification_report\n",
    "\n",
    "from sklearn.linear_model import LogisticRegression, Lasso, Ridge\n",
    "from sklearn.cross_validation import cross_val_score\n",
    "\n",
    "from sklearn.tree import DecisionTreeClassifier\n",
    "from sklearn.ensemble import BaggingClassifier\n",
    "\n",
    "from nltk.corpus import stopwords\n",
    "from nltk.stem import PorterStemmer\n",
    "from nltk.stem import snowball\n",
    "from nltk.tag import pos_tag\n",
    "from nltk.tokenize import WordPunctTokenizer\n",
    "\n",
    "from sklearn.feature_extraction.text import TfidfVectorizer\n",
    "\n",
    "from sklearn.decomposition import PCA\n",
    "\n",
    "from scipy.cluster.hierarchy import dendrogram, linkage, cophenet\n",
    "from scipy.spatial.distance import pdist\n",
    "\n",
    "import os\n",
    "from scipy.cluster.hierarchy import fcluster\n",
    "\n",
    "import requests\n",
    "from scrapy.selector import Selector\n",
    "from scrapy.http import HtmlResponse\n",
    "\n",
    "from sklearn.feature_extraction.text import CountVectorizer\n",
    "\n",
    "import numpy as np\n",
    "import scipy.stats as stats\n",
    "import pandas as pd\n",
    "from sklearn.neighbors import KernelDensity\n",
    "\n",
    "import seaborn as sns\n",
    "import matplotlib.pyplot as plt\n",
    "import matplotlib.mlab as mlab\n",
    "from nltk.corpus import stopwords\n",
    "\n",
    "import pandas as pd, seaborn as sns, numpy as np, matplotlib.pyplot as plt\n",
    "\n",
    "from sklearn.feature_extraction.text import CountVectorizer, TfidfTransformer, TfidfVectorizer\n",
    "from sklearn.feature_extraction.text import TfidfTransformer\n",
    "from sklearn.feature_extraction.text import TfidfVectorizer\n",
    "from sklearn.learning_curve import learning_curve\n",
    "from sklearn.cross_validation import train_test_split, cross_val_score, ShuffleSplit\n",
    "from sklearn.metrics import classification_report\n",
    "from sklearn.naive_bayes import MultinomialNB, BernoulliNB, GaussianNB\n",
    "\n",
    "from sqlalchemy import create_engine\n",
    "\n",
    "from sklearn.linear_model import ElasticNet\n",
    "#for retina display only\n",
    "%matplotlib inline\n",
    "%config InlineBackend.figure_format = 'retina'\n",
    "\n",
    "from datetime import timedelta\n",
    "\n",
    "import prettyplotlib as ppl\n"
   ]
  },
  {
   "cell_type": "markdown",
   "metadata": {},
   "source": [
    "### Load data from all 35 primary locations"
   ]
  },
  {
   "cell_type": "code",
   "execution_count": 2,
   "metadata": {
    "collapsed": false
   },
   "outputs": [],
   "source": [
    "#Amsterdam / North Holland data\n",
    "amsterdam_calendar = pd.read_csv('./datasets/capstone_data_airbnb/amsterdam_north_holland/calendar.csv.gz')\n",
    "amsterdam_listings_csv = pd.read_csv('./datasets/capstone_data_airbnb/amsterdam_north_holland/listings.csv')\n",
    "amsterdam_listings_gz = pd.read_csv('./datasets/capstone_data_airbnb/amsterdam_north_holland/listings.csv.gz')\n",
    "amsterdam_neigh = pd.read_csv('./datasets/capstone_data_airbnb/amsterdam_north_holland/neighbourhoods.csv')\n",
    "amsterdam_reviews = pd.read_csv('./datasets/capstone_data_airbnb/amsterdam_north_holland/reviews.csv')\n",
    "amsterdam_reviews_gz = pd.read_csv('./datasets/capstone_data_airbnb/amsterdam_north_holland/reviews.csv.gz')"
   ]
  },
  {
   "cell_type": "code",
   "execution_count": 3,
   "metadata": {
    "collapsed": true
   },
   "outputs": [],
   "source": [
    "#Antwerp / Flemish data\n",
    "antwerp_calendar = pd.read_csv('./datasets/capstone_data_airbnb/antwerp_flemish/calendar.csv.gz')\n",
    "antwerp_listings_csv = pd.read_csv('./datasets/capstone_data_airbnb/antwerp_flemish/listings.csv')\n",
    "antwerp_listings_gz = pd.read_csv('./datasets/capstone_data_airbnb/antwerp_flemish/listings.csv.gz')\n",
    "antwerp_neigh = pd.read_csv('./datasets/capstone_data_airbnb/antwerp_flemish/neighbourhoods.csv')\n",
    "antrwep_reviews = pd.read_csv('./datasets/capstone_data_airbnb/antwerp_flemish/reviews.csv')\n",
    "antrewp_reviews_gz = pd.read_csv('./datasets/capstone_data_airbnb/antwerp_flemish/reviews.csv.gz')"
   ]
  },
  {
   "cell_type": "code",
   "execution_count": 4,
   "metadata": {
    "collapsed": true
   },
   "outputs": [],
   "source": [
    "#Ashville / North Carolina data\n",
    "asheville_calendar = pd.read_csv('./datasets/capstone_data_airbnb/asheville_north_carolina/calendar.csv.gz')\n",
    "asheville_listings_csv = pd.read_csv('./datasets/capstone_data_airbnb/asheville_north_carolina/listings.csv')\n",
    "asheville_listings_gz = pd.read_csv('./datasets/capstone_data_airbnb/asheville_north_carolina/listings.csv.gz')\n",
    "asheville_neigh = pd.read_csv('./datasets/capstone_data_airbnb/asheville_north_carolina/neighbourhoods.csv')\n",
    "asheville_reviews = pd.read_csv('./datasets/capstone_data_airbnb/asheville_north_carolina/reviews.csv')\n",
    "asheville_reviews_gz = pd.read_csv('./datasets/capstone_data_airbnb/asheville_north_carolina/reviews.csv.gz')"
   ]
  },
  {
   "cell_type": "code",
   "execution_count": 5,
   "metadata": {
    "collapsed": true
   },
   "outputs": [],
   "source": [
    "#Athens / Attica data\n",
    "athens_calendar = pd.read_csv('./datasets/capstone_data_airbnb/athens_attica_greece/calendar.csv.gz')\n",
    "athens_listings_csv = pd.read_csv('./datasets/capstone_data_airbnb/athens_attica_greece/listings.csv')\n",
    "athens_listings_gz = pd.read_csv('./datasets/capstone_data_airbnb/athens_attica_greece/listings.csv.gz')\n",
    "athens_neigh = pd.read_csv('./datasets/capstone_data_airbnb/athens_attica_greece/neighbourhoods.csv')\n",
    "athens_reviews = pd.read_csv('./datasets/capstone_data_airbnb/athens_attica_greece/reviews.csv')\n",
    "athens_reviews_gz = pd.read_csv('./datasets/capstone_data_airbnb/athens_attica_greece/reviews.csv.gz')"
   ]
  },
  {
   "cell_type": "code",
   "execution_count": 6,
   "metadata": {
    "collapsed": true
   },
   "outputs": [],
   "source": [
    "#Austin Texas data\n",
    "austin_calendar = pd.read_csv('./datasets/capstone_data_airbnb/austin_texas/calendar.csv.gz')\n",
    "austin_listings_csv = pd.read_csv('./datasets/capstone_data_airbnb/austin_texas/listings.csv')\n",
    "austin_listings_gz = pd.read_csv('./datasets/capstone_data_airbnb/austin_texas/listings.csv.gz')\n",
    "austin_neigh = pd.read_csv('./datasets/capstone_data_airbnb/austin_texas/neighbourhoods.csv')\n",
    "austin_reviews = pd.read_csv('./datasets/capstone_data_airbnb/austin_texas/reviews.csv')\n",
    "austin_reviews_gz = pd.read_csv('./datasets/capstone_data_airbnb/austin_texas/reviews.csv.gz')"
   ]
  },
  {
   "cell_type": "code",
   "execution_count": 7,
   "metadata": {
    "collapsed": true
   },
   "outputs": [],
   "source": [
    "#Barcelona / Catalonia data\n",
    "barcelona_calendar = pd.read_csv('./datasets/capstone_data_airbnb/barcelona_catalonia/calendar.csv.gz')\n",
    "barcelona_listings_csv = pd.read_csv('./datasets/capstone_data_airbnb/barcelona_catalonia/listings.csv')\n",
    "barcelona_listings_gz = pd.read_csv('./datasets/capstone_data_airbnb/barcelona_catalonia/listings.csv.gz')\n",
    "barcelona_neigh = pd.read_csv('./datasets/capstone_data_airbnb/barcelona_catalonia/neighbourhoods.csv')\n",
    "barcelona_reviews = pd.read_csv('./datasets/capstone_data_airbnb/barcelona_catalonia/reviews.csv')\n",
    "barcelona_reviews_gz = pd.read_csv('./datasets/capstone_data_airbnb/barcelona_catalonia/reviews.csv.gz')"
   ]
  },
  {
   "cell_type": "code",
   "execution_count": 8,
   "metadata": {
    "collapsed": true
   },
   "outputs": [],
   "source": [
    "#Berlin data\n",
    "berlin_calendar = pd.read_csv('./datasets/capstone_data_airbnb/berlin/calendar.csv.gz')\n",
    "berlin_listings_csv = pd.read_csv('./datasets/capstone_data_airbnb/berlin/listings.csv')\n",
    "berlin_listings_gz = pd.read_csv('./datasets/capstone_data_airbnb/berlin/listings.csv.gz')\n",
    "berlin_neigh = pd.read_csv('./datasets/capstone_data_airbnb/berlin/neighbourhoods.csv')\n",
    "berlin_reviews = pd.read_csv('./datasets/capstone_data_airbnb/berlin/reviews.csv')\n",
    "berlin_reviews_gz = pd.read_csv('./datasets/capstone_data_airbnb/berlin/reviews.csv.gz')"
   ]
  },
  {
   "cell_type": "code",
   "execution_count": 9,
   "metadata": {
    "collapsed": true
   },
   "outputs": [],
   "source": [
    "#Boston Massachusetts data\n",
    "boston_calendar = pd.read_csv('./datasets/capstone_data_airbnb/boston_massachusetts/calendar.csv.gz')\n",
    "boston_listings_csv = pd.read_csv('./datasets/capstone_data_airbnb/boston_massachusetts/listings.csv')\n",
    "boston_listings_gz = pd.read_csv('./datasets/capstone_data_airbnb/boston_massachusetts/listings.csv.gz')\n",
    "boston_neigh = pd.read_csv('./datasets/capstone_data_airbnb/boston_massachusetts/neighbourhoods.csv')\n",
    "boston_reviews = pd.read_csv('./datasets/capstone_data_airbnb/boston_massachusetts/reviews.csv')\n",
    "boston_reviews_gz = pd.read_csv('./datasets/capstone_data_airbnb/boston_massachusetts/reviews.csv.gz')"
   ]
  },
  {
   "cell_type": "code",
   "execution_count": 10,
   "metadata": {
    "collapsed": true
   },
   "outputs": [],
   "source": [
    "#Brussels data \n",
    "brussels_calendar = pd.read_csv('./datasets/capstone_data_airbnb/brussels/calendar.csv.gz')\n",
    "brussels_listings_csv = pd.read_csv('./datasets/capstone_data_airbnb/brussels/listings.csv')\n",
    "brussels_listings_gz = pd.read_csv('./datasets/capstone_data_airbnb/brussels/listings.csv.gz')\n",
    "brussels_neigh = pd.read_csv('./datasets/capstone_data_airbnb/brussels/neighbourhoods.csv')\n",
    "brussels_reviews = pd.read_csv('./datasets/capstone_data_airbnb/brussels/reviews.csv')\n",
    "brussels_reviews_gz = pd.read_csv('./datasets/capstone_data_airbnb/brussels/reviews.csv.gz')"
   ]
  },
  {
   "cell_type": "code",
   "execution_count": 11,
   "metadata": {
    "collapsed": true
   },
   "outputs": [],
   "source": [
    "#Chicago Illinois data\n",
    "chicago_calendar = pd.read_csv('./datasets/capstone_data_airbnb/chicago_illinois/calendar.csv.gz')\n",
    "chicago_listings_csv = pd.read_csv('./datasets/capstone_data_airbnb/chicago_illinois/listings.csv')\n",
    "chicago_listings_gz = pd.read_csv('./datasets/capstone_data_airbnb/chicago_illinois/listings.csv.gz')\n",
    "chicago_neigh = pd.read_csv('./datasets/capstone_data_airbnb/chicago_illinois/neighbourhoods.csv')\n",
    "chicago_reviews = pd.read_csv('./datasets/capstone_data_airbnb/chicago_illinois/reviews.csv')\n",
    "chicago_reviews_gz = pd.read_csv('./datasets/capstone_data_airbnb/chicago_illinois/reviews.csv.gz')"
   ]
  },
  {
   "cell_type": "code",
   "execution_count": 12,
   "metadata": {
    "collapsed": true
   },
   "outputs": [],
   "source": [
    "#Dublin / Leinster data\n",
    "dublin_calendar = pd.read_csv('./datasets/capstone_data_airbnb/dublin_leinster/calendar.csv.gz')\n",
    "dublin_listings_csv = pd.read_csv('./datasets/capstone_data_airbnb/dublin_leinster/listings.csv')\n",
    "dublin_listings_gz = pd.read_csv('./datasets/capstone_data_airbnb/dublin_leinster/listings.csv.gz')\n",
    "dublin_neigh = pd.read_csv('./datasets/capstone_data_airbnb/dublin_leinster/neighbourhoods.csv')\n",
    "dublin_reviews = pd.read_csv('./datasets/capstone_data_airbnb/dublin_leinster/reviews.csv')\n",
    "dublin_reviews_gz = pd.read_csv('./datasets/capstone_data_airbnb/dublin_leinster/reviews.csv.gz')"
   ]
  },
  {
   "cell_type": "code",
   "execution_count": 13,
   "metadata": {
    "collapsed": false
   },
   "outputs": [],
   "source": [
    "#London / England data\n",
    "london_calendar = pd.read_csv('./datasets/capstone_data_airbnb/london_england/calendar.csv.gz')\n",
    "london_listings_csv = pd.read_csv('./datasets/capstone_data_airbnb/london_england/listings.csv')\n",
    "london_listings_gz = pd.read_csv('./datasets/capstone_data_airbnb/london_england/listings.csv.gz')\n",
    "london_neigh = pd.read_csv('./datasets/capstone_data_airbnb/london_england/neighbourhoods.csv')\n",
    "london_reviews = pd.read_csv('./datasets/capstone_data_airbnb/london_england/reviews.csv')\n",
    "london_reviews_gz = pd.read_csv('./datasets/capstone_data_airbnb/london_england/reviews.csv.gz')"
   ]
  },
  {
   "cell_type": "code",
   "execution_count": 14,
   "metadata": {
    "collapsed": true
   },
   "outputs": [],
   "source": [
    "#Los Angeles data\n",
    "los_angeles_calendar = pd.read_csv('./datasets/capstone_data_airbnb/los_angeles/calendar.csv.gz')\n",
    "los_angeles_listings_csv = pd.read_csv('./datasets/capstone_data_airbnb/los_angeles/listings.csv')\n",
    "los_angeles_listings_gz = pd.read_csv('./datasets/capstone_data_airbnb/los_angeles/listings.csv.gz')\n",
    "los_angeles_neigh = pd.read_csv('./datasets/capstone_data_airbnb/los_angeles/neighbourhoods.csv')\n",
    "los_angeles_reviews = pd.read_csv('./datasets/capstone_data_airbnb/los_angeles/reviews.csv')\n",
    "los_angeles_reviews_gz = pd.read_csv('./datasets/capstone_data_airbnb/los_angeles/reviews.csv.gz')"
   ]
  },
  {
   "cell_type": "code",
   "execution_count": 15,
   "metadata": {
    "collapsed": true
   },
   "outputs": [],
   "source": [
    "#Madrid Comunidad de Madrid data\n",
    "madrid_calendar = pd.read_csv('./datasets/capstone_data_airbnb/madrid_comunidad_de_madrid/calendar.csv.gz')\n",
    "madrid_listings_csv = pd.read_csv('./datasets/capstone_data_airbnb/madrid_comunidad_de_madrid/listings.csv')\n",
    "madrid_listings_gz = pd.read_csv('./datasets/capstone_data_airbnb/madrid_comunidad_de_madrid/listings.csv.gz')\n",
    "madrid_neigh = pd.read_csv('./datasets/capstone_data_airbnb/madrid_comunidad_de_madrid/neighbourhoods.csv')\n",
    "madrid_reviews = pd.read_csv('./datasets/capstone_data_airbnb/madrid_comunidad_de_madrid/reviews.csv')\n",
    "madrid_reviews_gz = pd.read_csv('./datasets/capstone_data_airbnb/madrid_comunidad_de_madrid/reviews.csv.gz')"
   ]
  },
  {
   "cell_type": "code",
   "execution_count": 16,
   "metadata": {
    "collapsed": false
   },
   "outputs": [
    {
     "name": "stderr",
     "output_type": "stream",
     "text": [
      "/Users/jrcmalunay/anaconda/lib/python2.7/site-packages/IPython/core/interactiveshell.py:2723: DtypeWarning: Columns (84) have mixed types. Specify dtype option on import or set low_memory=False.\n",
      "  interactivity=interactivity, compiler=compiler, result=result)\n"
     ]
    }
   ],
   "source": [
    "#Mallorca Islas Baleras data\n",
    "mallorca_calendar = pd.read_csv('./datasets/capstone_data_airbnb/mallorca_islas_balearas/calendar.csv.gz')\n",
    "mallorca_listings_csv = pd.read_csv('./datasets/capstone_data_airbnb/mallorca_islas_balearas/listings.csv')\n",
    "mallorca_listings_gz = pd.read_csv('./datasets/capstone_data_airbnb/mallorca_islas_balearas/listings.csv.gz')\n",
    "mallorca_neigh = pd.read_csv('./datasets/capstone_data_airbnb/mallorca_islas_balearas/neighbourhoods.csv')\n",
    "mallorca_reviews = pd.read_csv('./datasets/capstone_data_airbnb/mallorca_islas_balearas/reviews.csv')\n",
    "mallorca_reviews_gz = pd.read_csv('./datasets/capstone_data_airbnb/mallorca_islas_balearas/reviews.csv.gz')"
   ]
  },
  {
   "cell_type": "code",
   "execution_count": 17,
   "metadata": {
    "collapsed": true
   },
   "outputs": [],
   "source": [
    "#Manchester / England data\n",
    "manchester_calendar = pd.read_csv('./datasets/capstone_data_airbnb/manchester_england/calendar.csv.gz')\n",
    "manchester_listings_csv = pd.read_csv('./datasets/capstone_data_airbnb/manchester_england/listings.csv')\n",
    "manchester_listings_gz = pd.read_csv('./datasets/capstone_data_airbnb/manchester_england/listings.csv.gz')\n",
    "manchester_neigh = pd.read_csv('./datasets/capstone_data_airbnb/manchester_england/neighbourhoods.csv')\n",
    "manchester_reviews = pd.read_csv('./datasets/capstone_data_airbnb/manchester_england/reviews.csv')\n",
    "manchester_reviews_gz = pd.read_csv('./datasets/capstone_data_airbnb/manchester_england/reviews.csv.gz')"
   ]
  },
  {
   "cell_type": "code",
   "execution_count": 18,
   "metadata": {
    "collapsed": false
   },
   "outputs": [
    {
     "name": "stderr",
     "output_type": "stream",
     "text": [
      "/Users/jrcmalunay/anaconda/lib/python2.7/site-packages/IPython/core/interactiveshell.py:2723: DtypeWarning: Columns (40) have mixed types. Specify dtype option on import or set low_memory=False.\n",
      "  interactivity=interactivity, compiler=compiler, result=result)\n"
     ]
    }
   ],
   "source": [
    "#Melbourne / Victoria data\n",
    "melbourne_calendar = pd.read_csv('./datasets/capstone_data_airbnb/melbourne_victoria/calendar.csv.gz')\n",
    "melbourne_listings_csv = pd.read_csv('./datasets/capstone_data_airbnb/melbourne_victoria/listings.csv')\n",
    "melbourne_listings_gz = pd.read_csv('./datasets/capstone_data_airbnb/melbourne_victoria/listings.csv.gz')\n",
    "melbourne_neigh = pd.read_csv('./datasets/capstone_data_airbnb/melbourne_victoria/neighbourhoods.csv')\n",
    "melbourne_reviews = pd.read_csv('./datasets/capstone_data_airbnb/melbourne_victoria/reviews.csv')\n",
    "melbourne_reviews_gz = pd.read_csv('./datasets/capstone_data_airbnb/melbourne_victoria/reviews.csv.gz')"
   ]
  },
  {
   "cell_type": "code",
   "execution_count": 19,
   "metadata": {
    "collapsed": true
   },
   "outputs": [],
   "source": [
    "#Montreal / Quebec data\n",
    "montreal_calendar = pd.read_csv('./datasets/capstone_data_airbnb/montreal_quebec/calendar.csv.gz')\n",
    "montreal_listings_csv = pd.read_csv('./datasets/capstone_data_airbnb/montreal_quebec/listings.csv')\n",
    "montreal_listings_gz = pd.read_csv('./datasets/capstone_data_airbnb/montreal_quebec/listings.csv.gz')\n",
    "montreal_neigh = pd.read_csv('./datasets/capstone_data_airbnb/montreal_quebec/neighbourhoods.csv')\n",
    "montreal_reviews = pd.read_csv('./datasets/capstone_data_airbnb/montreal_quebec/reviews.csv')\n",
    "montreal_reviews_gz = pd.read_csv('./datasets/capstone_data_airbnb/montreal_quebec/reviews.csv.gz')"
   ]
  },
  {
   "cell_type": "code",
   "execution_count": 20,
   "metadata": {
    "collapsed": true
   },
   "outputs": [],
   "source": [
    "#Nashville Tennessee data\n",
    "nashville_calendar = pd.read_csv('./datasets/capstone_data_airbnb/nashville_tennessee/calendar.csv.gz')\n",
    "nashville_listings_csv = pd.read_csv('./datasets/capstone_data_airbnb/nashville_tennessee/listings.csv')\n",
    "nashville_listings_gz = pd.read_csv('./datasets/capstone_data_airbnb/nashville_tennessee/listings.csv.gz')\n",
    "nashville_neigh = pd.read_csv('./datasets/capstone_data_airbnb/nashville_tennessee/neighbourhoods.csv')\n",
    "nashville_reviews = pd.read_csv('./datasets/capstone_data_airbnb/nashville_tennessee/reviews.csv')\n",
    "nashville_reviews_gz = pd.read_csv('./datasets/capstone_data_airbnb/nashville_tennessee/reviews.csv.gz')"
   ]
  },
  {
   "cell_type": "code",
   "execution_count": 21,
   "metadata": {
    "collapsed": true
   },
   "outputs": [],
   "source": [
    "#New Orleans data\n",
    "new_orleans_calendar = pd.read_csv('./datasets/capstone_data_airbnb/new_orleans_louisiana/calendar.csv.gz')\n",
    "new_orleans_listings_csv = pd.read_csv('./datasets/capstone_data_airbnb/new_orleans_louisiana/listings.csv')\n",
    "new_orleans_listings_gz = pd.read_csv('./datasets/capstone_data_airbnb/new_orleans_louisiana/listings.csv.gz')\n",
    "new_orleans_neigh = pd.read_csv('./datasets/capstone_data_airbnb/new_orleans_louisiana/neighbourhoods.csv')\n",
    "new_orleans_reviews = pd.read_csv('./datasets/capstone_data_airbnb/new_orleans_louisiana/reviews.csv')\n",
    "new_orleans_reviews_gz = pd.read_csv('./datasets/capstone_data_airbnb/new_orleans_louisiana/reviews.csv.gz')"
   ]
  },
  {
   "cell_type": "code",
   "execution_count": 22,
   "metadata": {
    "collapsed": false
   },
   "outputs": [
    {
     "name": "stderr",
     "output_type": "stream",
     "text": [
      "/Users/jrcmalunay/anaconda/lib/python2.7/site-packages/IPython/core/interactiveshell.py:2723: DtypeWarning: Columns (85) have mixed types. Specify dtype option on import or set low_memory=False.\n",
      "  interactivity=interactivity, compiler=compiler, result=result)\n"
     ]
    }
   ],
   "source": [
    "#New York data\n",
    "new_york_calendar = pd.read_csv('./datasets/capstone_data_airbnb/new_york_new_york/calendar.csv.gz')\n",
    "new_york_listings_csv = pd.read_csv('./datasets/capstone_data_airbnb/new_york_new_york/listings.csv')\n",
    "new_york_listings_gz = pd.read_csv('./datasets/capstone_data_airbnb/new_york_new_york/listings.csv.gz')\n",
    "new_york_neigh = pd.read_csv('./datasets/capstone_data_airbnb/new_york_new_york/neighbourhoods.csv')\n",
    "new_york_reviews = pd.read_csv('./datasets/capstone_data_airbnb/new_york_new_york/reviews.csv')\n",
    "new_york_reviews_gz = pd.read_csv('./datasets/capstone_data_airbnb/new_york_new_york/reviews.csv.gz')"
   ]
  },
  {
   "cell_type": "code",
   "execution_count": 23,
   "metadata": {
    "collapsed": true
   },
   "outputs": [],
   "source": [
    "#Oakland data\n",
    "oakland_calendar = pd.read_csv('./datasets/capstone_data_airbnb/oakland_california/calendar.csv.gz')\n",
    "oakland_listings_csv = pd.read_csv('./datasets/capstone_data_airbnb/oakland_california/listings.csv')\n",
    "oakland_listings_gz = pd.read_csv('./datasets/capstone_data_airbnb/oakland_california/listings.csv.gz')\n",
    "oakland_neigh = pd.read_csv('./datasets/capstone_data_airbnb/oakland_california/neighbourhoods.csv')\n",
    "oakland_reviews = pd.read_csv('./datasets/capstone_data_airbnb/oakland_california/reviews.csv')\n",
    "oakland_reviews_gz = pd.read_csv('./datasets/capstone_data_airbnb/oakland_california/reviews.csv.gz')"
   ]
  },
  {
   "cell_type": "code",
   "execution_count": 24,
   "metadata": {
    "collapsed": false
   },
   "outputs": [
    {
     "name": "stderr",
     "output_type": "stream",
     "text": [
      "/Users/jrcmalunay/anaconda/lib/python2.7/site-packages/IPython/core/interactiveshell.py:2723: DtypeWarning: Columns (40,84) have mixed types. Specify dtype option on import or set low_memory=False.\n",
      "  interactivity=interactivity, compiler=compiler, result=result)\n"
     ]
    }
   ],
   "source": [
    "#Paris Ile de France data\n",
    "paris_calendar = pd.read_csv('./datasets/capstone_data_airbnb/paris_ile_de_france/calendar.csv.gz')\n",
    "paris_listings_csv = pd.read_csv('./datasets/capstone_data_airbnb/paris_ile_de_france/listings.csv')\n",
    "paris_listings_gz = pd.read_csv('./datasets/capstone_data_airbnb/paris_ile_de_france/listings.csv.gz')\n",
    "paris_neigh = pd.read_csv('./datasets/capstone_data_airbnb/paris_ile_de_france/neighbourhoods.csv')\n",
    "paris_reviews = pd.read_csv('./datasets/capstone_data_airbnb/paris_ile_de_france/reviews.csv')\n",
    "paris_reviews_gz = pd.read_csv('./datasets/capstone_data_airbnb/paris_ile_de_france/reviews.csv.gz')"
   ]
  },
  {
   "cell_type": "code",
   "execution_count": 25,
   "metadata": {
    "collapsed": true
   },
   "outputs": [],
   "source": [
    "#Portland data\n",
    "portland_calendar = pd.read_csv('./datasets/capstone_data_airbnb/portland_oregon/calendar.csv.gz')\n",
    "portland_listings_csv = pd.read_csv('./datasets/capstone_data_airbnb/portland_oregon/listings.csv')\n",
    "portland_listings_gz = pd.read_csv('./datasets/capstone_data_airbnb/portland_oregon/listings.csv.gz')\n",
    "portland_neigh = pd.read_csv('./datasets/capstone_data_airbnb/portland_oregon/neighbourhoods.csv')\n",
    "portland_reviews = pd.read_csv('./datasets/capstone_data_airbnb/portland_oregon/reviews.csv')\n",
    "portland_reviews_gz = pd.read_csv('./datasets/capstone_data_airbnb/portland_oregon/reviews.csv.gz')"
   ]
  },
  {
   "cell_type": "code",
   "execution_count": 26,
   "metadata": {
    "collapsed": true
   },
   "outputs": [],
   "source": [
    "#San Diego data\n",
    "san_diego_calendar = pd.read_csv('./datasets/capstone_data_airbnb/san_diego_california/calendar.csv.gz')\n",
    "san_diego_listings_csv = pd.read_csv('./datasets/capstone_data_airbnb/san_diego_california/listings.csv')\n",
    "san_deigo_listings_gz = pd.read_csv('./datasets/capstone_data_airbnb/san_diego_california/listings.csv.gz')\n",
    "san_diego_neigh = pd.read_csv('./datasets/capstone_data_airbnb/san_diego_california/neighbourhoods.csv')\n",
    "san_diego_reviews = pd.read_csv('./datasets/capstone_data_airbnb/san_diego_california/reviews.csv')\n",
    "san_diego_reviews_gz = pd.read_csv('./datasets/capstone_data_airbnb/san_diego_california/reviews.csv.gz')"
   ]
  },
  {
   "cell_type": "code",
   "execution_count": 27,
   "metadata": {
    "collapsed": true
   },
   "outputs": [],
   "source": [
    "#San Francisco data\n",
    "san_francisco_calendar = pd.read_csv('./datasets/capstone_data_airbnb/san_francisco_california/calendar.csv.gz')\n",
    "san_francisco_listings_csv = pd.read_csv('./datasets/capstone_data_airbnb/san_francisco_california/listings.csv')\n",
    "san_francisco_listings_gz = pd.read_csv('./datasets/capstone_data_airbnb/san_francisco_california/listings.csv.gz')\n",
    "san_francisco_neigh = pd.read_csv('./datasets/capstone_data_airbnb/san_francisco_california/neighbourhoods.csv')\n",
    "san_francisco_reviews = pd.read_csv('./datasets/capstone_data_airbnb/san_francisco_california/reviews.csv')\n",
    "san_francisco_reviews_gz = pd.read_csv('./datasets/capstone_data_airbnb/san_francisco_california/reviews.csv.gz')"
   ]
  },
  {
   "cell_type": "code",
   "execution_count": 28,
   "metadata": {
    "collapsed": true
   },
   "outputs": [],
   "source": [
    "#Santa Cruz data\n",
    "santa_cruz_calendar = pd.read_csv('./datasets/capstone_data_airbnb/santa_cruz_california/calendar.csv.gz')\n",
    "santa_cruz_listings_csv = pd.read_csv('./datasets/capstone_data_airbnb/santa_cruz_california/listings.csv')\n",
    "santa_cruz_listings_gz = pd.read_csv('./datasets/capstone_data_airbnb/santa_cruz_california/listings.csv.gz')\n",
    "santa_cruz_neigh = pd.read_csv('./datasets/capstone_data_airbnb/santa_cruz_california/neighbourhoods.csv')\n",
    "santa_cruz_reviews = pd.read_csv('./datasets/capstone_data_airbnb/santa_cruz_california/reviews.csv')\n",
    "santa_cruz_reviews_gz = pd.read_csv('./datasets/capstone_data_airbnb/santa_cruz_california/reviews.csv.gz')"
   ]
  },
  {
   "cell_type": "code",
   "execution_count": 29,
   "metadata": {
    "collapsed": true
   },
   "outputs": [],
   "source": [
    "#Seattle Washington data\n",
    "seattle_calendar = pd.read_csv('./datasets/capstone_data_airbnb/seattle_washington/calendar.csv.gz')\n",
    "seattle_listings_csv = pd.read_csv('./datasets/capstone_data_airbnb/seattle_washington/listings.csv')\n",
    "seattle_listings_gz = pd.read_csv('./datasets/capstone_data_airbnb/seattle_washington/listings.csv.gz')\n",
    "seattle_neigh = pd.read_csv('./datasets/capstone_data_airbnb/seattle_washington/neighbourhoods.csv')\n",
    "seattle_reviews = pd.read_csv('./datasets/capstone_data_airbnb/seattle_washington/reviews.csv')\n",
    "seattle_reviews_gz = pd.read_csv('./datasets/capstone_data_airbnb/seattle_washington/reviews.csv.gz')"
   ]
  },
  {
   "cell_type": "code",
   "execution_count": 30,
   "metadata": {
    "collapsed": true
   },
   "outputs": [],
   "source": [
    "#Sydney / New South Wales data\n",
    "sydney_calendar = pd.read_csv('./datasets/capstone_data_airbnb/sydney_new_south_wales/calendar.csv.gz')\n",
    "sydney_listings_csv = pd.read_csv('./datasets/capstone_data_airbnb/sydney_new_south_wales/listings.csv')\n",
    "sydney_listings_gz = pd.read_csv('./datasets/capstone_data_airbnb/sydney_new_south_wales/listings.csv.gz')\n",
    "sydney_neigh = pd.read_csv('./datasets/capstone_data_airbnb/sydney_new_south_wales/neighbourhoods.csv')\n",
    "sydney_reviews = pd.read_csv('./datasets/capstone_data_airbnb/sydney_new_south_wales/reviews.csv')\n",
    "sydney_reviews_gz = pd.read_csv('./datasets/capstone_data_airbnb/sydney_new_south_wales/reviews.csv.gz')"
   ]
  },
  {
   "cell_type": "code",
   "execution_count": 31,
   "metadata": {
    "collapsed": true
   },
   "outputs": [],
   "source": [
    "#Toronto / Ontario data\n",
    "toronto_calendar = pd.read_csv('./datasets/capstone_data_airbnb/toronto_ontario/calendar.csv.gz')\n",
    "toronto_listings_csv = pd.read_csv('./datasets/capstone_data_airbnb/toronto_ontario/listings.csv')\n",
    "toronto_listings_gz = pd.read_csv('./datasets/capstone_data_airbnb/toronto_ontario/listings.csv.gz')\n",
    "toronto_neigh = pd.read_csv('./datasets/capstone_data_airbnb/toronto_ontario/neighbourhoods.csv')\n",
    "toronto_reviews = pd.read_csv('./datasets/capstone_data_airbnb/toronto_ontario/reviews.csv')\n",
    "toronto_reviews_gz = pd.read_csv('./datasets/capstone_data_airbnb/toronto_ontario/reviews.csv.gz')"
   ]
  },
  {
   "cell_type": "code",
   "execution_count": 32,
   "metadata": {
    "collapsed": true
   },
   "outputs": [],
   "source": [
    "#Trentino / Alto Adige Sudtirol data\n",
    "trentino_calendar = pd.read_csv('./datasets/capstone_data_airbnb/trentino_alto_adige_sudtirol/calendar.csv.gz')\n",
    "trentino_listings_csv = pd.read_csv('./datasets/capstone_data_airbnb/trentino_alto_adige_sudtirol/listings.csv')\n",
    "trentino_listings_gz = pd.read_csv('./datasets/capstone_data_airbnb/trentino_alto_adige_sudtirol/listings.csv.gz')\n",
    "trentino_neigh = pd.read_csv('./datasets/capstone_data_airbnb/trentino_alto_adige_sudtirol/neighbourhoods.csv')\n",
    "trentino_reviews = pd.read_csv('./datasets/capstone_data_airbnb/trentino_alto_adige_sudtirol/reviews.csv')\n",
    "trentino_reviews_gz = pd.read_csv('./datasets/capstone_data_airbnb/trentino_alto_adige_sudtirol/reviews.csv.gz')"
   ]
  },
  {
   "cell_type": "code",
   "execution_count": 33,
   "metadata": {
    "collapsed": true
   },
   "outputs": [],
   "source": [
    "#Vancouver / British Columbia data\n",
    "vancouver_calendar = pd.read_csv('./datasets/capstone_data_airbnb/vancouver_british_columbia/calendar.csv.gz')\n",
    "vancouver_listings_csv = pd.read_csv('./datasets/capstone_data_airbnb/vancouver_british_columbia/listings.csv')\n",
    "vancouver_listings_gz = pd.read_csv('./datasets/capstone_data_airbnb/vancouver_british_columbia/listings.csv.gz')\n",
    "vancouver_neigh = pd.read_csv('./datasets/capstone_data_airbnb/vancouver_british_columbia/neighbourhoods.csv')\n",
    "vancouver_reviews = pd.read_csv('./datasets/capstone_data_airbnb/vancouver_british_columbia/reviews.csv')\n",
    "vancourver_reviews_gz = pd.read_csv('./datasets/capstone_data_airbnb/vancouver_british_columbia/reviews.csv.gz')"
   ]
  },
  {
   "cell_type": "code",
   "execution_count": 34,
   "metadata": {
    "collapsed": true
   },
   "outputs": [],
   "source": [
    "#Venice / Veneto data\n",
    "venice_calendar = pd.read_csv('./datasets/capstone_data_airbnb/venice_veneto/calendar.csv.gz')\n",
    "venice_listings_csv = pd.read_csv('./datasets/capstone_data_airbnb/venice_veneto/listings.csv')\n",
    "venice_listings_gz = pd.read_csv('./datasets/capstone_data_airbnb/venice_veneto/listings.csv.gz')\n",
    "venice_neigh = pd.read_csv('./datasets/capstone_data_airbnb/venice_veneto/neighbourhoods.csv')\n",
    "venice_reviews = pd.read_csv('./datasets/capstone_data_airbnb/venice_veneto/reviews.csv')\n",
    "venice_reviews_gz = pd.read_csv('./datasets/capstone_data_airbnb/venice_veneto/reviews.csv.gz')"
   ]
  },
  {
   "cell_type": "code",
   "execution_count": 35,
   "metadata": {
    "collapsed": true
   },
   "outputs": [],
   "source": [
    "#Vienna data\n",
    "vienna_calendar = pd.read_csv('./datasets/capstone_data_airbnb/vienna_vienna/calendar.csv.gz')\n",
    "vienna_listings_csv = pd.read_csv('./datasets/capstone_data_airbnb/vienna_vienna/listings.csv')\n",
    "vienna_listings_gz = pd.read_csv('./datasets/capstone_data_airbnb/vienna_vienna/listings.csv.gz')\n",
    "vienna_neigh = pd.read_csv('./datasets/capstone_data_airbnb/vienna_vienna/neighbourhoods.csv')\n",
    "vienna_reviews = pd.read_csv('./datasets/capstone_data_airbnb/vienna_vienna/reviews.csv')\n",
    "vienna_reviews_gz = pd.read_csv('./datasets/capstone_data_airbnb/vienna_vienna/reviews.csv.gz')"
   ]
  },
  {
   "cell_type": "code",
   "execution_count": 2,
   "metadata": {
    "collapsed": true
   },
   "outputs": [],
   "source": [
    "#Washington data\n",
    "washington_calendar = pd.read_csv('./datasets/capstone_data_airbnb/washington_dc/calendar.csv.gz')\n",
    "washington_listings_csv = pd.read_csv('./datasets/capstone_data_airbnb/washington_dc/listings.csv')\n",
    "washington_listings_gz = pd.read_csv('./datasets/capstone_data_airbnb/washington_dc/listings.csv.gz')\n",
    "washington_neigh = pd.read_csv('./datasets/capstone_data_airbnb/washington_dc/neighbourhoods.csv')\n",
    "washington_reviews = pd.read_csv('./datasets/capstone_data_airbnb/washington_dc/reviews.csv')\n",
    "washington_reviews_gz = pd.read_csv('./datasets/capstone_data_airbnb/washington_dc/reviews.csv.gz')"
   ]
  },
  {
   "cell_type": "markdown",
   "metadata": {},
   "source": [
    "---\n",
    "# Step 2. Problem Satement\n",
    "\n",
    "Airbnb has demonstrated outstanding service to its customers. With reasonable rates, various locations to explore, and awesome hosts, what reason is there not to use Airbnb?! \n",
    "\n",
    "However, what makes a host a \"good\" host? The problem I will be focusing on is how to determine what makes a host a super host. Sure being polite and hospitable are a given, but what other factors are there? Is it the location, the type of unit, amenities, price, or more? \n",
    "\n",
    "My project will be primaily focusing on host reccomendation. It will target the customer's perference, and will also aid current or future hosts. \n",
    "\n",
    "### Hyptothesis:\n",
    "\n",
    "Depending on the location (city,country,etc.), I believe hosts who provide a clean place, who are humble and organized, and who display the upmost hospitality  will determine if he/she are super hosts.  "
   ]
  },
  {
   "cell_type": "markdown",
   "metadata": {},
   "source": [
    "---\n",
    "# Step 3. The Approach / Experimental Procedure\n",
    "\n",
    "1. First, I will clean the data with NaN values and convert objects to desired types.\n",
    "\n",
    "2. Next, I will choose the features that I believe will have a correlation to the target. My target will be the host score.\n",
    "\n",
    "3. After, I will find a correlation with one feature and run a linear regresson for viewing purposes. I will check the coefficients to determine which features score higher. In other words, the coefficients will tell me which features affect the target compared to others. \n",
    "\n",
    "4. Next, I will run a logistic regression and using grdisearch. In this case I will do a Lasso Regression because there are features in my data that are not as important. The purporse is to predict a quantity of features that verify a good host. Cross validate model for verification. \n",
    "\n",
    "5. I will then run either knn or svm to calssify my data. The process of both will dertermine the best types or columns to use for being a good host. Cross validate model for verification.\n",
    "\n",
    "Incomplete*"
   ]
  },
  {
   "cell_type": "markdown",
   "metadata": {},
   "source": [
    "---\n",
    "## Exploring the data"
   ]
  },
  {
   "cell_type": "code",
   "execution_count": 3,
   "metadata": {
    "collapsed": false
   },
   "outputs": [
    {
     "data": {
      "text/plain": [
       "Index([u'id', u'listing_url', u'scrape_id', u'last_scraped', u'name',\n",
       "       u'summary', u'space', u'description', u'experiences_offered',\n",
       "       u'neighborhood_overview', u'notes', u'transit', u'thumbnail_url',\n",
       "       u'medium_url', u'picture_url', u'xl_picture_url', u'host_id',\n",
       "       u'host_url', u'host_name', u'host_since', u'host_location',\n",
       "       u'host_about', u'host_response_time', u'host_response_rate',\n",
       "       u'host_acceptance_rate', u'host_is_superhost', u'host_thumbnail_url',\n",
       "       u'host_picture_url', u'host_neighbourhood', u'host_listings_count',\n",
       "       u'host_total_listings_count', u'host_verifications',\n",
       "       u'host_has_profile_pic', u'host_identity_verified', u'street',\n",
       "       u'neighbourhood', u'neighbourhood_cleansed',\n",
       "       u'neighbourhood_group_cleansed', u'city', u'state', u'zipcode',\n",
       "       u'market', u'smart_location', u'country_code', u'country', u'latitude',\n",
       "       u'longitude', u'is_location_exact', u'property_type', u'room_type',\n",
       "       u'accommodates', u'bathrooms', u'bedrooms', u'beds', u'bed_type',\n",
       "       u'amenities', u'square_feet', u'price', u'weekly_price',\n",
       "       u'monthly_price', u'security_deposit', u'cleaning_fee',\n",
       "       u'guests_included', u'extra_people', u'minimum_nights',\n",
       "       u'maximum_nights', u'calendar_updated', u'has_availability',\n",
       "       u'availability_30', u'availability_60', u'availability_90',\n",
       "       u'availability_365', u'calendar_last_scraped', u'number_of_reviews',\n",
       "       u'first_review', u'last_review', u'review_scores_rating',\n",
       "       u'review_scores_accuracy', u'review_scores_cleanliness',\n",
       "       u'review_scores_checkin', u'review_scores_communication',\n",
       "       u'review_scores_location', u'review_scores_value', u'requires_license',\n",
       "       u'license', u'jurisdiction_names', u'instant_bookable',\n",
       "       u'cancellation_policy', u'require_guest_profile_picture',\n",
       "       u'require_guest_phone_verification', u'calculated_host_listings_count',\n",
       "       u'reviews_per_month'],\n",
       "      dtype='object')"
      ]
     },
     "execution_count": 3,
     "metadata": {},
     "output_type": "execute_result"
    }
   ],
   "source": [
    "washington_listings_gz.columns"
   ]
  },
  {
   "cell_type": "code",
   "execution_count": 7,
   "metadata": {
    "collapsed": false,
    "scrolled": false
   },
   "outputs": [
    {
     "data": {
      "text/plain": [
       "id                                     0\n",
       "listing_url                            0\n",
       "scrape_id                              0\n",
       "last_scraped                           0\n",
       "name                                   0\n",
       "summary                              266\n",
       "space                                746\n",
       "description                            1\n",
       "experiences_offered                    0\n",
       "neighborhood_overview               1254\n",
       "notes                               2011\n",
       "transit                             1135\n",
       "thumbnail_url                         33\n",
       "medium_url                            33\n",
       "picture_url                            0\n",
       "xl_picture_url                        33\n",
       "host_id                                0\n",
       "host_url                               0\n",
       "host_name                              0\n",
       "host_since                             0\n",
       "host_location                          6\n",
       "host_about                           960\n",
       "host_response_time                   434\n",
       "host_response_rate                   434\n",
       "host_acceptance_rate                 614\n",
       "host_is_superhost                      0\n",
       "host_thumbnail_url                     0\n",
       "host_picture_url                       0\n",
       "host_neighbourhood                   262\n",
       "host_listings_count                    0\n",
       "                                    ... \n",
       "guests_included                        0\n",
       "extra_people                           0\n",
       "minimum_nights                         0\n",
       "maximum_nights                         0\n",
       "calendar_updated                       0\n",
       "has_availability                       0\n",
       "availability_30                        0\n",
       "availability_60                        0\n",
       "availability_90                        0\n",
       "availability_365                       0\n",
       "calendar_last_scraped                  0\n",
       "number_of_reviews                      0\n",
       "first_review                         830\n",
       "last_review                          830\n",
       "review_scores_rating                 868\n",
       "review_scores_accuracy               875\n",
       "review_scores_cleanliness            876\n",
       "review_scores_checkin                876\n",
       "review_scores_communication          872\n",
       "review_scores_location               872\n",
       "review_scores_value                  872\n",
       "requires_license                       0\n",
       "license                             3722\n",
       "jurisdiction_names                    26\n",
       "instant_bookable                       0\n",
       "cancellation_policy                    0\n",
       "require_guest_profile_picture          0\n",
       "require_guest_phone_verification       0\n",
       "calculated_host_listings_count         0\n",
       "reviews_per_month                    830\n",
       "dtype: int64"
      ]
     },
     "execution_count": 7,
     "metadata": {},
     "output_type": "execute_result"
    }
   ],
   "source": [
    "washington_listings_gz.isnull().sum()"
   ]
  },
  {
   "cell_type": "markdown",
   "metadata": {},
   "source": [
    "---\n",
    "## Logistic Regression\n",
    "\n",
    "The reason why I decided to run a logistic regression was to predict which features would determine whether a host is considered a super host. The only solutions would be a yes (1) or no (0). The features I've chosen will then be ranked to see which features have the greatest affect."
   ]
  },
  {
   "cell_type": "code",
   "execution_count": 45,
   "metadata": {
    "collapsed": false
   },
   "outputs": [
    {
     "data": {
      "text/plain": [
       "flexible           1373\n",
       "strict             1189\n",
       "moderate           1099\n",
       "super_strict_30      62\n",
       "Name: cancellation_policy, dtype: int64"
      ]
     },
     "execution_count": 45,
     "metadata": {},
     "output_type": "execute_result"
    }
   ],
   "source": [
    "washington_listings_gz.cancellation_policy.value_counts()"
   ]
  },
  {
   "cell_type": "code",
   "execution_count": 32,
   "metadata": {
    "collapsed": false,
    "scrolled": true
   },
   "outputs": [],
   "source": [
    "washington_listings_gz_copy =  washington_listings_gz[['host_acceptance_rate', 'host_has_profile_pic', 'host_identity_verified',\n",
    "                                                       'extra_people','guests_included', 'maximum_nights', 'minimum_nights',\n",
    "                                                       'availability_30', 'availability_60','availability_90','availability_365',\n",
    "                                                       'instant_bookable','cancellation_policy','require_guest_profile_picture',\n",
    "                                                       'require_guest_phone_verification', 'host_total_listings_count',\n",
    "                                                       'is_location_exact','room_type', 'host_is_superhost','review_scores_rating',\n",
    "                                                       'review_scores_accuracy','review_scores_cleanliness','review_scores_checkin',\n",
    "                                                       'review_scores_communication','review_scores_location','review_scores_value',\n",
    "                                                       'accommodates','bathrooms','beds','bedrooms','price']]"
   ]
  },
  {
   "cell_type": "code",
   "execution_count": 33,
   "metadata": {
    "collapsed": false
   },
   "outputs": [],
   "source": [
    "#Converting price\n",
    "washington_listings_gz_copy.price = washington_listings_gz.price.apply(lambda x: x.replace(\"$\",\"\"))\n",
    "washington_listings_gz_copy.price = washington_listings_gz_copy.price.apply(lambda x: x.replace(\",\",\"\"))\n",
    "washington_listings_gz_copy.price = washington_listings_gz_copy.price.apply(lambda x: float(x))"
   ]
  },
  {
   "cell_type": "code",
   "execution_count": 34,
   "metadata": {
    "collapsed": false
   },
   "outputs": [],
   "source": [
    "#Converting and Cleaning \n",
    "washington_listings_gz_copy.host_acceptance_rate = washington_listings_gz_copy.host_acceptance_rate.apply(lambda x: str(x))\n",
    "washington_listings_gz_copy.host_acceptance_rate = washington_listings_gz_copy.host_acceptance_rate.apply(lambda x: float(x.replace(\"%\",\"\")))\n",
    "washington_listings_gz_copy.cancellation_policy = washington_listings_gz_copy.cancellation_policy.apply(lambda x: 0 if x =='flexible' else 1 if x =='moderate' else 2 if x =='strict' else 3 if x == 'super_strict_30' else x)\n",
    "washington_listings_gz_copy.extra_people = washington_listings_gz_copy.extra_people.map(lambda x: float(x.replace(\"$\",\"\")))\n",
    "washington_listings_gz_copy.room_type = washington_listings_gz_copy.room_type.map(lambda x: 0 if x =='Entire home/apt' else 1 if x =='Private room' else 2 if x =='Shared room' else x)"
   ]
  },
  {
   "cell_type": "code",
   "execution_count": 35,
   "metadata": {
    "collapsed": true
   },
   "outputs": [],
   "source": [
    "#Cleaning and converting\n",
    "washington_listings_gz_copy.host_has_profile_pic = washington_listings_gz_copy.host_has_profile_pic.apply(lambda x: 1 if x == 't' else 0)\n",
    "washington_listings_gz_copy.host_identity_verified = washington_listings_gz_copy.host_identity_verified.apply(lambda x: 1 if x == 't' else 0)\n",
    "washington_listings_gz_copy.instant_bookable = washington_listings_gz_copy.instant_bookable.apply(lambda x: 1 if x == 't' else 0)\n",
    "washington_listings_gz_copy.require_guest_profile_picture = washington_listings_gz_copy.require_guest_profile_picture.apply(lambda x: 1 if x == 't' else 0)\n",
    "washington_listings_gz_copy.require_guest_phone_verification = washington_listings_gz_copy.require_guest_phone_verification.apply(lambda x: 1 if x == 't' else 0)\n",
    "washington_listings_gz_copy.is_location_exact = washington_listings_gz_copy.is_location_exact.apply(lambda x: 1 if x == 't' else 0)\n",
    "washington_listings_gz_copy.host_is_superhost = washington_listings_gz_copy.host_is_superhost.apply(lambda x: 1 if x =='t' else 0)"
   ]
  },
  {
   "cell_type": "code",
   "execution_count": 36,
   "metadata": {
    "collapsed": false
   },
   "outputs": [],
   "source": [
    "washington_listings_gz_copy = washington_listings_gz_copy.dropna()"
   ]
  },
  {
   "cell_type": "code",
   "execution_count": 37,
   "metadata": {
    "collapsed": false
   },
   "outputs": [
    {
     "data": {
      "text/plain": [
       "0    2235\n",
       "1     320\n",
       "Name: host_is_superhost, dtype: int64"
      ]
     },
     "execution_count": 37,
     "metadata": {},
     "output_type": "execute_result"
    }
   ],
   "source": [
    "washington_listings_gz_copy.host_is_superhost.value_counts()"
   ]
  },
  {
   "cell_type": "code",
   "execution_count": 38,
   "metadata": {
    "collapsed": false
   },
   "outputs": [
    {
     "data": {
      "text/html": [
       "<div>\n",
       "<table border=\"1\" class=\"dataframe\">\n",
       "  <thead>\n",
       "    <tr style=\"text-align: right;\">\n",
       "      <th></th>\n",
       "      <th>host_acceptance_rate</th>\n",
       "      <th>host_has_profile_pic</th>\n",
       "      <th>host_identity_verified</th>\n",
       "      <th>extra_people</th>\n",
       "      <th>guests_included</th>\n",
       "      <th>maximum_nights</th>\n",
       "      <th>minimum_nights</th>\n",
       "      <th>availability_30</th>\n",
       "      <th>availability_60</th>\n",
       "      <th>availability_90</th>\n",
       "      <th>...</th>\n",
       "      <th>review_scores_cleanliness</th>\n",
       "      <th>review_scores_checkin</th>\n",
       "      <th>review_scores_communication</th>\n",
       "      <th>review_scores_location</th>\n",
       "      <th>review_scores_value</th>\n",
       "      <th>accommodates</th>\n",
       "      <th>bathrooms</th>\n",
       "      <th>beds</th>\n",
       "      <th>bedrooms</th>\n",
       "      <th>price</th>\n",
       "    </tr>\n",
       "  </thead>\n",
       "  <tbody>\n",
       "    <tr>\n",
       "      <th>1</th>\n",
       "      <td>0.631260</td>\n",
       "      <td>0.03428</td>\n",
       "      <td>-1.820599</td>\n",
       "      <td>-0.589092</td>\n",
       "      <td>-0.507639</td>\n",
       "      <td>-0.019894</td>\n",
       "      <td>-0.039378</td>\n",
       "      <td>0.242145</td>\n",
       "      <td>0.567675</td>\n",
       "      <td>0.709546</td>\n",
       "      <td>...</td>\n",
       "      <td>-0.339674</td>\n",
       "      <td>0.437987</td>\n",
       "      <td>0.414031</td>\n",
       "      <td>-0.438175</td>\n",
       "      <td>-0.404341</td>\n",
       "      <td>1.499831</td>\n",
       "      <td>3.285912</td>\n",
       "      <td>1.230199</td>\n",
       "      <td>2.340748</td>\n",
       "      <td>2.510426</td>\n",
       "    </tr>\n",
       "    <tr>\n",
       "      <th>8</th>\n",
       "      <td>0.580993</td>\n",
       "      <td>0.03428</td>\n",
       "      <td>-1.820599</td>\n",
       "      <td>-0.111455</td>\n",
       "      <td>-0.507639</td>\n",
       "      <td>-0.019890</td>\n",
       "      <td>-0.039378</td>\n",
       "      <td>1.599131</td>\n",
       "      <td>1.413164</td>\n",
       "      <td>1.270210</td>\n",
       "      <td>...</td>\n",
       "      <td>0.643189</td>\n",
       "      <td>0.437987</td>\n",
       "      <td>0.414031</td>\n",
       "      <td>0.699565</td>\n",
       "      <td>0.831415</td>\n",
       "      <td>-0.619383</td>\n",
       "      <td>0.491137</td>\n",
       "      <td>-0.564354</td>\n",
       "      <td>-0.229347</td>\n",
       "      <td>-1.112154</td>\n",
       "    </tr>\n",
       "    <tr>\n",
       "      <th>10</th>\n",
       "      <td>0.631260</td>\n",
       "      <td>0.03428</td>\n",
       "      <td>-1.820599</td>\n",
       "      <td>0.605001</td>\n",
       "      <td>1.744129</td>\n",
       "      <td>-0.019868</td>\n",
       "      <td>0.463676</td>\n",
       "      <td>-1.010457</td>\n",
       "      <td>-1.322240</td>\n",
       "      <td>-1.434169</td>\n",
       "      <td>...</td>\n",
       "      <td>-0.339674</td>\n",
       "      <td>0.437987</td>\n",
       "      <td>0.414031</td>\n",
       "      <td>-0.438175</td>\n",
       "      <td>-0.404341</td>\n",
       "      <td>0.440224</td>\n",
       "      <td>0.491137</td>\n",
       "      <td>0.332923</td>\n",
       "      <td>1.055700</td>\n",
       "      <td>-0.427115</td>\n",
       "    </tr>\n",
       "    <tr>\n",
       "      <th>11</th>\n",
       "      <td>0.631260</td>\n",
       "      <td>0.03428</td>\n",
       "      <td>0.549055</td>\n",
       "      <td>-0.589092</td>\n",
       "      <td>-0.507639</td>\n",
       "      <td>-0.019868</td>\n",
       "      <td>0.212149</td>\n",
       "      <td>-1.010457</td>\n",
       "      <td>-1.322240</td>\n",
       "      <td>-1.533109</td>\n",
       "      <td>...</td>\n",
       "      <td>-3.288264</td>\n",
       "      <td>0.437987</td>\n",
       "      <td>0.414031</td>\n",
       "      <td>0.699565</td>\n",
       "      <td>0.831415</td>\n",
       "      <td>-1.149186</td>\n",
       "      <td>-0.440455</td>\n",
       "      <td>-0.564354</td>\n",
       "      <td>-0.229347</td>\n",
       "      <td>-0.914770</td>\n",
       "    </tr>\n",
       "    <tr>\n",
       "      <th>15</th>\n",
       "      <td>-0.223280</td>\n",
       "      <td>0.03428</td>\n",
       "      <td>0.549055</td>\n",
       "      <td>0.127364</td>\n",
       "      <td>0.242950</td>\n",
       "      <td>-0.019868</td>\n",
       "      <td>-0.290905</td>\n",
       "      <td>1.494747</td>\n",
       "      <td>1.363429</td>\n",
       "      <td>1.237230</td>\n",
       "      <td>...</td>\n",
       "      <td>-1.322538</td>\n",
       "      <td>0.437987</td>\n",
       "      <td>0.414031</td>\n",
       "      <td>0.699565</td>\n",
       "      <td>0.831415</td>\n",
       "      <td>-0.619383</td>\n",
       "      <td>-0.440455</td>\n",
       "      <td>-0.564354</td>\n",
       "      <td>-0.229347</td>\n",
       "      <td>-0.949602</td>\n",
       "    </tr>\n",
       "  </tbody>\n",
       "</table>\n",
       "<p>5 rows × 30 columns</p>\n",
       "</div>"
      ],
      "text/plain": [
       "    host_acceptance_rate  host_has_profile_pic  host_identity_verified  \\\n",
       "1               0.631260               0.03428               -1.820599   \n",
       "8               0.580993               0.03428               -1.820599   \n",
       "10              0.631260               0.03428               -1.820599   \n",
       "11              0.631260               0.03428                0.549055   \n",
       "15             -0.223280               0.03428                0.549055   \n",
       "\n",
       "    extra_people  guests_included  maximum_nights  minimum_nights  \\\n",
       "1      -0.589092        -0.507639       -0.019894       -0.039378   \n",
       "8      -0.111455        -0.507639       -0.019890       -0.039378   \n",
       "10      0.605001         1.744129       -0.019868        0.463676   \n",
       "11     -0.589092        -0.507639       -0.019868        0.212149   \n",
       "15      0.127364         0.242950       -0.019868       -0.290905   \n",
       "\n",
       "    availability_30  availability_60  availability_90    ...     \\\n",
       "1          0.242145         0.567675         0.709546    ...      \n",
       "8          1.599131         1.413164         1.270210    ...      \n",
       "10        -1.010457        -1.322240        -1.434169    ...      \n",
       "11        -1.010457        -1.322240        -1.533109    ...      \n",
       "15         1.494747         1.363429         1.237230    ...      \n",
       "\n",
       "    review_scores_cleanliness  review_scores_checkin  \\\n",
       "1                   -0.339674               0.437987   \n",
       "8                    0.643189               0.437987   \n",
       "10                  -0.339674               0.437987   \n",
       "11                  -3.288264               0.437987   \n",
       "15                  -1.322538               0.437987   \n",
       "\n",
       "    review_scores_communication  review_scores_location  review_scores_value  \\\n",
       "1                      0.414031               -0.438175            -0.404341   \n",
       "8                      0.414031                0.699565             0.831415   \n",
       "10                     0.414031               -0.438175            -0.404341   \n",
       "11                     0.414031                0.699565             0.831415   \n",
       "15                     0.414031                0.699565             0.831415   \n",
       "\n",
       "    accommodates  bathrooms      beds  bedrooms     price  \n",
       "1       1.499831   3.285912  1.230199  2.340748  2.510426  \n",
       "8      -0.619383   0.491137 -0.564354 -0.229347 -1.112154  \n",
       "10      0.440224   0.491137  0.332923  1.055700 -0.427115  \n",
       "11     -1.149186  -0.440455 -0.564354 -0.229347 -0.914770  \n",
       "15     -0.619383  -0.440455 -0.564354 -0.229347 -0.949602  \n",
       "\n",
       "[5 rows x 30 columns]"
      ]
     },
     "execution_count": 38,
     "metadata": {},
     "output_type": "execute_result"
    }
   ],
   "source": [
    "#Normalize data\n",
    "cols = [x for x in washington_listings_gz_copy.columns if x not in 'host_is_superhost']\n",
    "washington_listings_gz_copy.ix[:,cols] = (washington_listings_gz_copy.ix[:,cols] - washington_listings_gz_copy.ix[:,cols].mean())/washington_listings_gz_copy.ix[:,cols].std()\n",
    "washington_sub_copy = washington_listings_gz_copy.ix[:,cols]\n",
    "washington_sub_copy.head()"
   ]
  },
  {
   "cell_type": "code",
   "execution_count": 39,
   "metadata": {
    "collapsed": false
   },
   "outputs": [
    {
     "data": {
      "text/plain": [
       "<matplotlib.axes._subplots.AxesSubplot at 0x11badb4d0>"
      ]
     },
     "execution_count": 39,
     "metadata": {},
     "output_type": "execute_result"
    },
    {
     "data": {
      "image/png": "[encoded data removed]",
      "text/plain": [
       "<matplotlib.figure.Figure at 0x11d0d39d0>"
      ]
     },
     "metadata": {
      "image/png": {
       "height": 559,
       "width": 784
      }
     },
     "output_type": "display_data"
    }
   ],
   "source": [
    "plt.figure(figsize=(12,7))\n",
    "sns.heatmap(washington_sub_copy.corr())"
   ]
  },
  {
   "cell_type": "code",
   "execution_count": 40,
   "metadata": {
    "collapsed": false
   },
   "outputs": [
    {
     "name": "stdout",
     "output_type": "stream",
     "text": [
      "0.872798434442\n"
     ]
    }
   ],
   "source": [
    "from sklearn.cross_validation import cross_val_score\n",
    "\n",
    "lm = LogisticRegression()\n",
    "\n",
    "X_copy = washington_sub_copy.values\n",
    "Y_copy = washington_listings_gz_copy.host_is_superhost.values\n",
    "\n",
    "model = lm.fit(X_copy,Y_copy)\n",
    "\n",
    "print cross_val_score(model,X_copy,Y_copy,cv=5).mean()"
   ]
  },
  {
   "cell_type": "code",
   "execution_count": 48,
   "metadata": {
    "collapsed": false
   },
   "outputs": [
    {
     "name": "stdout",
     "output_type": "stream",
     "text": [
      "{'penalty': 'l2', 'n_jobs': 10, 'class_weight': None}\n",
      "0.873189823875\n"
     ]
    }
   ],
   "source": [
    "search_parameters = {\n",
    "   'penalty': ['l1','l2'], \n",
    "   'class_weight': [None, 'balanced'],\n",
    "   'n_jobs': [10]\n",
    "}\n",
    "\n",
    "\n",
    "est = GridSearchCV(model, search_parameters)\n",
    "grid = est.fit(X_copy,Y_copy)\n",
    "\n",
    "print grid.best_params_\n",
    "print grid.best_score_"
   ]
  },
  {
   "cell_type": "code",
   "execution_count": 42,
   "metadata": {
    "collapsed": false
   },
   "outputs": [
    {
     "data": {
      "text/plain": [
       "Counter({0: 2544, 1: 11})"
      ]
     },
     "execution_count": 42,
     "metadata": {},
     "output_type": "execute_result"
    }
   ],
   "source": [
    "from collections import Counter\n",
    "Y_pred_copy = model.predict(X_copy)\n",
    "Counter(Y_pred_copy)"
   ]
  },
  {
   "cell_type": "code",
   "execution_count": 43,
   "metadata": {
    "collapsed": false
   },
   "outputs": [
    {
     "data": {
      "text/html": [
       "<div>\n",
       "<table border=\"1\" class=\"dataframe\">\n",
       "  <thead>\n",
       "    <tr style=\"text-align: right;\">\n",
       "      <th></th>\n",
       "      <th>coef</th>\n",
       "      <th>feature</th>\n",
       "    </tr>\n",
       "  </thead>\n",
       "  <tbody>\n",
       "    <tr>\n",
       "      <th>21</th>\n",
       "      <td>0.522314</td>\n",
       "      <td>review_scores_checkin</td>\n",
       "    </tr>\n",
       "    <tr>\n",
       "      <th>18</th>\n",
       "      <td>0.459550</td>\n",
       "      <td>review_scores_rating</td>\n",
       "    </tr>\n",
       "    <tr>\n",
       "      <th>2</th>\n",
       "      <td>0.368501</td>\n",
       "      <td>host_identity_verified</td>\n",
       "    </tr>\n",
       "    <tr>\n",
       "      <th>20</th>\n",
       "      <td>0.349820</td>\n",
       "      <td>review_scores_cleanliness</td>\n",
       "    </tr>\n",
       "    <tr>\n",
       "      <th>19</th>\n",
       "      <td>0.338961</td>\n",
       "      <td>review_scores_accuracy</td>\n",
       "    </tr>\n",
       "    <tr>\n",
       "      <th>12</th>\n",
       "      <td>0.300593</td>\n",
       "      <td>cancellation_policy</td>\n",
       "    </tr>\n",
       "    <tr>\n",
       "      <th>24</th>\n",
       "      <td>0.285863</td>\n",
       "      <td>review_scores_value</td>\n",
       "    </tr>\n",
       "    <tr>\n",
       "      <th>22</th>\n",
       "      <td>0.259544</td>\n",
       "      <td>review_scores_communication</td>\n",
       "    </tr>\n",
       "    <tr>\n",
       "      <th>29</th>\n",
       "      <td>0.199692</td>\n",
       "      <td>price</td>\n",
       "    </tr>\n",
       "    <tr>\n",
       "      <th>4</th>\n",
       "      <td>0.183403</td>\n",
       "      <td>guests_included</td>\n",
       "    </tr>\n",
       "    <tr>\n",
       "      <th>0</th>\n",
       "      <td>0.172318</td>\n",
       "      <td>host_acceptance_rate</td>\n",
       "    </tr>\n",
       "    <tr>\n",
       "      <th>25</th>\n",
       "      <td>0.162843</td>\n",
       "      <td>accommodates</td>\n",
       "    </tr>\n",
       "    <tr>\n",
       "      <th>17</th>\n",
       "      <td>0.145278</td>\n",
       "      <td>room_type</td>\n",
       "    </tr>\n",
       "    <tr>\n",
       "      <th>9</th>\n",
       "      <td>0.139648</td>\n",
       "      <td>availability_90</td>\n",
       "    </tr>\n",
       "    <tr>\n",
       "      <th>1</th>\n",
       "      <td>0.134448</td>\n",
       "      <td>host_has_profile_pic</td>\n",
       "    </tr>\n",
       "    <tr>\n",
       "      <th>16</th>\n",
       "      <td>0.129489</td>\n",
       "      <td>is_location_exact</td>\n",
       "    </tr>\n",
       "    <tr>\n",
       "      <th>3</th>\n",
       "      <td>0.104569</td>\n",
       "      <td>extra_people</td>\n",
       "    </tr>\n",
       "    <tr>\n",
       "      <th>6</th>\n",
       "      <td>0.097581</td>\n",
       "      <td>minimum_nights</td>\n",
       "    </tr>\n",
       "    <tr>\n",
       "      <th>13</th>\n",
       "      <td>0.066013</td>\n",
       "      <td>require_guest_profile_picture</td>\n",
       "    </tr>\n",
       "    <tr>\n",
       "      <th>11</th>\n",
       "      <td>0.034969</td>\n",
       "      <td>instant_bookable</td>\n",
       "    </tr>\n",
       "    <tr>\n",
       "      <th>27</th>\n",
       "      <td>0.019395</td>\n",
       "      <td>beds</td>\n",
       "    </tr>\n",
       "    <tr>\n",
       "      <th>10</th>\n",
       "      <td>-0.018592</td>\n",
       "      <td>availability_365</td>\n",
       "    </tr>\n",
       "    <tr>\n",
       "      <th>14</th>\n",
       "      <td>-0.039514</td>\n",
       "      <td>require_guest_phone_verification</td>\n",
       "    </tr>\n",
       "    <tr>\n",
       "      <th>8</th>\n",
       "      <td>-0.046081</td>\n",
       "      <td>availability_60</td>\n",
       "    </tr>\n",
       "    <tr>\n",
       "      <th>5</th>\n",
       "      <td>-0.078868</td>\n",
       "      <td>maximum_nights</td>\n",
       "    </tr>\n",
       "    <tr>\n",
       "      <th>23</th>\n",
       "      <td>-0.093847</td>\n",
       "      <td>review_scores_location</td>\n",
       "    </tr>\n",
       "    <tr>\n",
       "      <th>26</th>\n",
       "      <td>-0.127681</td>\n",
       "      <td>bathrooms</td>\n",
       "    </tr>\n",
       "    <tr>\n",
       "      <th>7</th>\n",
       "      <td>-0.135817</td>\n",
       "      <td>availability_30</td>\n",
       "    </tr>\n",
       "    <tr>\n",
       "      <th>28</th>\n",
       "      <td>-0.326749</td>\n",
       "      <td>bedrooms</td>\n",
       "    </tr>\n",
       "    <tr>\n",
       "      <th>15</th>\n",
       "      <td>-2.641653</td>\n",
       "      <td>host_total_listings_count</td>\n",
       "    </tr>\n",
       "  </tbody>\n",
       "</table>\n",
       "</div>"
      ],
      "text/plain": [
       "        coef                           feature\n",
       "21  0.522314             review_scores_checkin\n",
       "18  0.459550              review_scores_rating\n",
       "2   0.368501            host_identity_verified\n",
       "20  0.349820         review_scores_cleanliness\n",
       "19  0.338961            review_scores_accuracy\n",
       "12  0.300593               cancellation_policy\n",
       "24  0.285863               review_scores_value\n",
       "22  0.259544       review_scores_communication\n",
       "29  0.199692                             price\n",
       "4   0.183403                   guests_included\n",
       "0   0.172318              host_acceptance_rate\n",
       "25  0.162843                      accommodates\n",
       "17  0.145278                         room_type\n",
       "9   0.139648                   availability_90\n",
       "1   0.134448              host_has_profile_pic\n",
       "16  0.129489                 is_location_exact\n",
       "3   0.104569                      extra_people\n",
       "6   0.097581                    minimum_nights\n",
       "13  0.066013     require_guest_profile_picture\n",
       "11  0.034969                  instant_bookable\n",
       "27  0.019395                              beds\n",
       "10 -0.018592                  availability_365\n",
       "14 -0.039514  require_guest_phone_verification\n",
       "8  -0.046081                   availability_60\n",
       "5  -0.078868                    maximum_nights\n",
       "23 -0.093847            review_scores_location\n",
       "26 -0.127681                         bathrooms\n",
       "7  -0.135817                   availability_30\n",
       "28 -0.326749                          bedrooms\n",
       "15 -2.641653         host_total_listings_count"
      ]
     },
     "execution_count": 43,
     "metadata": {},
     "output_type": "execute_result"
    }
   ],
   "source": [
    "# look at this in a nicer way. we saved the column values earlier, conveniently\n",
    "house_coefs_copy = pd.DataFrame({'feature':washington_sub_copy.columns, 'coef':model.coef_.ravel()})\n",
    "\n",
    "# Remember that for linear regression the formula is Y ~ b1*x1 + ... + bn*xn\n",
    "# for our x1 thru xn columns of predictors.\n",
    "# To estimate Y for a row of predictor variables, we multiply each of these\n",
    "# coefficients by their respective beta coefficients and add them together!\n",
    "house_coefs_copy.sort_values(by='coef', axis=0, ascending=False)"
   ]
  },
  {
   "cell_type": "code",
   "execution_count": null,
   "metadata": {
    "collapsed": true
   },
   "outputs": [],
   "source": []
  },
  {
   "cell_type": "markdown",
   "metadata": {},
   "source": [
    "## Made another logistic regression without review scores"
   ]
  },
  {
   "cell_type": "code",
   "execution_count": 87,
   "metadata": {
    "collapsed": true
   },
   "outputs": [],
   "source": [
    "washington_logistic =  washington_listings_gz[['host_acceptance_rate', 'host_has_profile_pic', 'host_identity_verified',\n",
    "                                               'extra_people','guests_included', 'maximum_nights', 'minimum_nights',\n",
    "                                               'availability_30', 'availability_60','availability_90','availability_365',\n",
    "                                               'instant_bookable','cancellation_policy','require_guest_profile_picture',\n",
    "                                               'require_guest_phone_verification', 'host_total_listings_count',\n",
    "                                               'is_location_exact','room_type', 'host_is_superhost',\n",
    "                                               'accommodates','bathrooms','beds','bedrooms','price']]"
   ]
  },
  {
   "cell_type": "code",
   "execution_count": 88,
   "metadata": {
    "collapsed": true
   },
   "outputs": [],
   "source": [
    "#Converting price\n",
    "washington_logistic.price = washington_logistic.price.apply(lambda x: x.replace(\"$\",\"\"))\n",
    "washington_logistic.price = washington_logistic.price.apply(lambda x: x.replace(\",\",\"\"))\n",
    "washington_logistic.price = washington_logistic.price.apply(lambda x: float(x))"
   ]
  },
  {
   "cell_type": "code",
   "execution_count": 89,
   "metadata": {
    "collapsed": true
   },
   "outputs": [],
   "source": [
    "#Converting and Cleaning \n",
    "washington_logistic.host_acceptance_rate = washington_logistic.host_acceptance_rate.apply(lambda x: str(x))\n",
    "washington_logistic.host_acceptance_rate = washington_logistic.host_acceptance_rate.apply(lambda x: float(x.replace(\"%\",\"\")))\n",
    "washington_logistic.cancellation_policy = washington_logistic.cancellation_policy.apply(lambda x: 0 if x =='flexible' else 1 if x =='moderate' else 2 if x =='strict' else 3 if x == 'super_strict_30' else x)\n",
    "washington_logistic.extra_people = washington_logistic.extra_people.map(lambda x: float(x.replace(\"$\",\"\")))\n",
    "washington_logistic.room_type = washington_logistic.room_type.map(lambda x: 0 if x =='Entire home/apt' else 1 if x =='Private room' else 2 if x =='Shared room' else x)"
   ]
  },
  {
   "cell_type": "code",
   "execution_count": 90,
   "metadata": {
    "collapsed": true
   },
   "outputs": [],
   "source": [
    "#Cleaning and converting\n",
    "washington_logistic.host_has_profile_pic = washington_logistic.host_has_profile_pic.apply(lambda x: 1 if x == 't' else 0)\n",
    "washington_logistic.host_identity_verified = washington_logistic.host_identity_verified.apply(lambda x: 1 if x == 't' else 0)\n",
    "washington_logistic.instant_bookable = washington_logistic.instant_bookable.apply(lambda x: 1 if x == 't' else 0)\n",
    "washington_logistic.require_guest_profile_picture = washington_logistic.require_guest_profile_picture.apply(lambda x: 1 if x == 't' else 0)\n",
    "washington_logistic.require_guest_phone_verification = washington_logistic.require_guest_phone_verification.apply(lambda x: 1 if x == 't' else 0)\n",
    "washington_logistic.is_location_exact = washington_logistic.is_location_exact.apply(lambda x: 1 if x == 't' else 0)\n",
    "washington_logistic.host_is_superhost = washington_logistic.host_is_superhost.apply(lambda x: 1 if x =='t' else 0)"
   ]
  },
  {
   "cell_type": "code",
   "execution_count": 91,
   "metadata": {
    "collapsed": true
   },
   "outputs": [],
   "source": [
    "washington_logistic = washington_logistic.dropna()"
   ]
  },
  {
   "cell_type": "code",
   "execution_count": 92,
   "metadata": {
    "collapsed": false
   },
   "outputs": [
    {
     "data": {
      "text/plain": [
       "0    2739\n",
       "1     329\n",
       "Name: host_is_superhost, dtype: int64"
      ]
     },
     "execution_count": 92,
     "metadata": {},
     "output_type": "execute_result"
    }
   ],
   "source": [
    "washington_logistic.host_is_superhost.value_counts()"
   ]
  },
  {
   "cell_type": "code",
   "execution_count": 93,
   "metadata": {
    "collapsed": false
   },
   "outputs": [
    {
     "data": {
      "text/html": [
       "<div>\n",
       "<table border=\"1\" class=\"dataframe\">\n",
       "  <thead>\n",
       "    <tr style=\"text-align: right;\">\n",
       "      <th></th>\n",
       "      <th>host_acceptance_rate</th>\n",
       "      <th>host_has_profile_pic</th>\n",
       "      <th>host_identity_verified</th>\n",
       "      <th>extra_people</th>\n",
       "      <th>guests_included</th>\n",
       "      <th>maximum_nights</th>\n",
       "      <th>minimum_nights</th>\n",
       "      <th>availability_30</th>\n",
       "      <th>availability_60</th>\n",
       "      <th>availability_90</th>\n",
       "      <th>...</th>\n",
       "      <th>require_guest_profile_picture</th>\n",
       "      <th>require_guest_phone_verification</th>\n",
       "      <th>host_total_listings_count</th>\n",
       "      <th>is_location_exact</th>\n",
       "      <th>room_type</th>\n",
       "      <th>accommodates</th>\n",
       "      <th>bathrooms</th>\n",
       "      <th>beds</th>\n",
       "      <th>bedrooms</th>\n",
       "      <th>price</th>\n",
       "    </tr>\n",
       "  </thead>\n",
       "  <tbody>\n",
       "    <tr>\n",
       "      <th>0</th>\n",
       "      <td>0.217850</td>\n",
       "      <td>0.040396</td>\n",
       "      <td>0.570733</td>\n",
       "      <td>-0.578753</td>\n",
       "      <td>-0.475417</td>\n",
       "      <td>-0.018130</td>\n",
       "      <td>-0.314570</td>\n",
       "      <td>-1.031057</td>\n",
       "      <td>-1.333630</td>\n",
       "      <td>-1.273457</td>\n",
       "      <td>...</td>\n",
       "      <td>-0.233752</td>\n",
       "      <td>-0.321813</td>\n",
       "      <td>0.160613</td>\n",
       "      <td>0.300389</td>\n",
       "      <td>-0.697819</td>\n",
       "      <td>0.382358</td>\n",
       "      <td>-0.434761</td>\n",
       "      <td>0.274921</td>\n",
       "      <td>-0.245538</td>\n",
       "      <td>0.156292</td>\n",
       "    </tr>\n",
       "    <tr>\n",
       "      <th>1</th>\n",
       "      <td>0.641462</td>\n",
       "      <td>0.040396</td>\n",
       "      <td>-1.751561</td>\n",
       "      <td>-0.578753</td>\n",
       "      <td>-0.475417</td>\n",
       "      <td>-0.018158</td>\n",
       "      <td>-0.047599</td>\n",
       "      <td>0.157737</td>\n",
       "      <td>0.500660</td>\n",
       "      <td>0.657498</td>\n",
       "      <td>...</td>\n",
       "      <td>-0.233752</td>\n",
       "      <td>-0.321813</td>\n",
       "      <td>-0.208264</td>\n",
       "      <td>0.300389</td>\n",
       "      <td>-0.697819</td>\n",
       "      <td>1.370625</td>\n",
       "      <td>2.961412</td>\n",
       "      <td>1.093016</td>\n",
       "      <td>2.123360</td>\n",
       "      <td>1.785104</td>\n",
       "    </tr>\n",
       "    <tr>\n",
       "      <th>2</th>\n",
       "      <td>0.641462</td>\n",
       "      <td>0.040396</td>\n",
       "      <td>0.570733</td>\n",
       "      <td>-0.578753</td>\n",
       "      <td>-0.475417</td>\n",
       "      <td>-0.018130</td>\n",
       "      <td>-0.047599</td>\n",
       "      <td>-1.031057</td>\n",
       "      <td>0.114494</td>\n",
       "      <td>0.400038</td>\n",
       "      <td>...</td>\n",
       "      <td>-0.233752</td>\n",
       "      <td>-0.321813</td>\n",
       "      <td>-0.193509</td>\n",
       "      <td>0.300389</td>\n",
       "      <td>1.163842</td>\n",
       "      <td>-1.100044</td>\n",
       "      <td>1.263326</td>\n",
       "      <td>-0.543175</td>\n",
       "      <td>-0.245538</td>\n",
       "      <td>-0.786704</td>\n",
       "    </tr>\n",
       "    <tr>\n",
       "      <th>4</th>\n",
       "      <td>-0.911781</td>\n",
       "      <td>0.040396</td>\n",
       "      <td>0.570733</td>\n",
       "      <td>0.165490</td>\n",
       "      <td>0.236432</td>\n",
       "      <td>-0.018130</td>\n",
       "      <td>1.287255</td>\n",
       "      <td>0.554002</td>\n",
       "      <td>0.886826</td>\n",
       "      <td>0.914959</td>\n",
       "      <td>...</td>\n",
       "      <td>-0.233752</td>\n",
       "      <td>-0.321813</td>\n",
       "      <td>-0.208264</td>\n",
       "      <td>0.300389</td>\n",
       "      <td>-0.697819</td>\n",
       "      <td>0.382358</td>\n",
       "      <td>-0.434761</td>\n",
       "      <td>-0.543175</td>\n",
       "      <td>-0.245538</td>\n",
       "      <td>-0.786704</td>\n",
       "    </tr>\n",
       "    <tr>\n",
       "      <th>5</th>\n",
       "      <td>0.641462</td>\n",
       "      <td>0.040396</td>\n",
       "      <td>0.570733</td>\n",
       "      <td>0.661651</td>\n",
       "      <td>0.236432</td>\n",
       "      <td>-0.018130</td>\n",
       "      <td>-0.314570</td>\n",
       "      <td>1.544665</td>\n",
       "      <td>1.369534</td>\n",
       "      <td>1.236785</td>\n",
       "      <td>...</td>\n",
       "      <td>-0.233752</td>\n",
       "      <td>-0.321813</td>\n",
       "      <td>-0.208264</td>\n",
       "      <td>-3.327932</td>\n",
       "      <td>-0.697819</td>\n",
       "      <td>0.382358</td>\n",
       "      <td>-0.434761</td>\n",
       "      <td>1.911112</td>\n",
       "      <td>0.938911</td>\n",
       "      <td>-0.366642</td>\n",
       "    </tr>\n",
       "  </tbody>\n",
       "</table>\n",
       "<p>5 rows × 23 columns</p>\n",
       "</div>"
      ],
      "text/plain": [
       "   host_acceptance_rate  host_has_profile_pic  host_identity_verified  \\\n",
       "0              0.217850              0.040396                0.570733   \n",
       "1              0.641462              0.040396               -1.751561   \n",
       "2              0.641462              0.040396                0.570733   \n",
       "4             -0.911781              0.040396                0.570733   \n",
       "5              0.641462              0.040396                0.570733   \n",
       "\n",
       "   extra_people  guests_included  maximum_nights  minimum_nights  \\\n",
       "0     -0.578753        -0.475417       -0.018130       -0.314570   \n",
       "1     -0.578753        -0.475417       -0.018158       -0.047599   \n",
       "2     -0.578753        -0.475417       -0.018130       -0.047599   \n",
       "4      0.165490         0.236432       -0.018130        1.287255   \n",
       "5      0.661651         0.236432       -0.018130       -0.314570   \n",
       "\n",
       "   availability_30  availability_60  availability_90    ...     \\\n",
       "0        -1.031057        -1.333630        -1.273457    ...      \n",
       "1         0.157737         0.500660         0.657498    ...      \n",
       "2        -1.031057         0.114494         0.400038    ...      \n",
       "4         0.554002         0.886826         0.914959    ...      \n",
       "5         1.544665         1.369534         1.236785    ...      \n",
       "\n",
       "   require_guest_profile_picture  require_guest_phone_verification  \\\n",
       "0                      -0.233752                         -0.321813   \n",
       "1                      -0.233752                         -0.321813   \n",
       "2                      -0.233752                         -0.321813   \n",
       "4                      -0.233752                         -0.321813   \n",
       "5                      -0.233752                         -0.321813   \n",
       "\n",
       "   host_total_listings_count  is_location_exact  room_type  accommodates  \\\n",
       "0                   0.160613           0.300389  -0.697819      0.382358   \n",
       "1                  -0.208264           0.300389  -0.697819      1.370625   \n",
       "2                  -0.193509           0.300389   1.163842     -1.100044   \n",
       "4                  -0.208264           0.300389  -0.697819      0.382358   \n",
       "5                  -0.208264          -3.327932  -0.697819      0.382358   \n",
       "\n",
       "   bathrooms      beds  bedrooms     price  \n",
       "0  -0.434761  0.274921 -0.245538  0.156292  \n",
       "1   2.961412  1.093016  2.123360  1.785104  \n",
       "2   1.263326 -0.543175 -0.245538 -0.786704  \n",
       "4  -0.434761 -0.543175 -0.245538 -0.786704  \n",
       "5  -0.434761  1.911112  0.938911 -0.366642  \n",
       "\n",
       "[5 rows x 23 columns]"
      ]
     },
     "execution_count": 93,
     "metadata": {},
     "output_type": "execute_result"
    }
   ],
   "source": [
    "#Normalize data\n",
    "cols = [x for x in washington_logistic.columns if x not in 'host_is_superhost']\n",
    "washington_logistic.ix[:,cols] = (washington_logistic.ix[:,cols] - washington_logistic.ix[:,cols].mean())/washington_logistic.ix[:,cols].std()\n",
    "washington_sub_logistic = washington_logistic.ix[:,cols]\n",
    "washington_sub_logistic.head()"
   ]
  },
  {
   "cell_type": "code",
   "execution_count": 100,
   "metadata": {
    "collapsed": false
   },
   "outputs": [
    {
     "data": {
      "text/plain": [
       "<matplotlib.axes._subplots.AxesSubplot at 0x11f253a10>"
      ]
     },
     "execution_count": 100,
     "metadata": {},
     "output_type": "execute_result"
    },
    {
     "data": {
      "image/png": "[encoded data removed]",
      "text/plain": [
       "<matplotlib.figure.Figure at 0x11f253410>"
      ]
     },
     "metadata": {
      "image/png": {
       "height": 559,
       "width": 784
      }
     },
     "output_type": "display_data"
    }
   ],
   "source": [
    "plt.figure(figsize=(12,7))\n",
    "sns.heatmap(washington_sub_logistic.corr())"
   ]
  },
  {
   "cell_type": "code",
   "execution_count": 95,
   "metadata": {
    "collapsed": false
   },
   "outputs": [
    {
     "name": "stdout",
     "output_type": "stream",
     "text": [
      "0.892764684593\n"
     ]
    }
   ],
   "source": [
    "from sklearn.cross_validation import cross_val_score\n",
    "\n",
    "lm = LogisticRegression()\n",
    "\n",
    "X_logistic = washington_sub_logistic.values\n",
    "Y_logistic = washington_logistic.host_is_superhost.values\n",
    "\n",
    "model = lm.fit(X_logistic,Y_logistic)\n",
    "\n",
    "print cross_val_score(model,X_logistic,Y_logistic,cv=5).mean()"
   ]
  },
  {
   "cell_type": "code",
   "execution_count": 96,
   "metadata": {
    "collapsed": false
   },
   "outputs": [
    {
     "name": "stdout",
     "output_type": "stream",
     "text": [
      "{'penalty': 'l1', 'n_jobs': 10, 'class_weight': None}\n",
      "0.892764015645\n"
     ]
    }
   ],
   "source": [
    "search_parameters = {\n",
    "   'penalty': ['l1','l2'], \n",
    "   'class_weight': [None, 'balanced'],\n",
    "   'n_jobs': [10]\n",
    "}\n",
    "\n",
    "\n",
    "est = GridSearchCV(model, search_parameters)\n",
    "grid = est.fit(X_logistic,Y_logistic)\n",
    "\n",
    "print grid.best_params_\n",
    "print grid.best_score_"
   ]
  },
  {
   "cell_type": "code",
   "execution_count": 97,
   "metadata": {
    "collapsed": false
   },
   "outputs": [
    {
     "data": {
      "text/plain": [
       "Counter({0: 3064, 1: 4})"
      ]
     },
     "execution_count": 97,
     "metadata": {},
     "output_type": "execute_result"
    }
   ],
   "source": [
    "from collections import Counter\n",
    "Y_pred_logistic = model.predict(X_logistic)\n",
    "Counter(Y_pred_logistic)"
   ]
  },
  {
   "cell_type": "code",
   "execution_count": 101,
   "metadata": {
    "collapsed": false
   },
   "outputs": [
    {
     "data": {
      "text/plain": [
       "0.10723598435462842"
      ]
     },
     "execution_count": 101,
     "metadata": {},
     "output_type": "execute_result"
    }
   ],
   "source": [
    "np.mean(Y_logistic)"
   ]
  },
  {
   "cell_type": "code",
   "execution_count": 98,
   "metadata": {
    "collapsed": false
   },
   "outputs": [
    {
     "data": {
      "text/html": [
       "<div>\n",
       "<table border=\"1\" class=\"dataframe\">\n",
       "  <thead>\n",
       "    <tr style=\"text-align: right;\">\n",
       "      <th></th>\n",
       "      <th>coef</th>\n",
       "      <th>feature</th>\n",
       "    </tr>\n",
       "  </thead>\n",
       "  <tbody>\n",
       "    <tr>\n",
       "      <th>2</th>\n",
       "      <td>0.452715</td>\n",
       "      <td>host_identity_verified</td>\n",
       "    </tr>\n",
       "    <tr>\n",
       "      <th>22</th>\n",
       "      <td>0.280103</td>\n",
       "      <td>price</td>\n",
       "    </tr>\n",
       "    <tr>\n",
       "      <th>12</th>\n",
       "      <td>0.246174</td>\n",
       "      <td>cancellation_policy</td>\n",
       "    </tr>\n",
       "    <tr>\n",
       "      <th>0</th>\n",
       "      <td>0.226022</td>\n",
       "      <td>host_acceptance_rate</td>\n",
       "    </tr>\n",
       "    <tr>\n",
       "      <th>4</th>\n",
       "      <td>0.174721</td>\n",
       "      <td>guests_included</td>\n",
       "    </tr>\n",
       "    <tr>\n",
       "      <th>1</th>\n",
       "      <td>0.161302</td>\n",
       "      <td>host_has_profile_pic</td>\n",
       "    </tr>\n",
       "    <tr>\n",
       "      <th>16</th>\n",
       "      <td>0.159297</td>\n",
       "      <td>is_location_exact</td>\n",
       "    </tr>\n",
       "    <tr>\n",
       "      <th>17</th>\n",
       "      <td>0.126231</td>\n",
       "      <td>room_type</td>\n",
       "    </tr>\n",
       "    <tr>\n",
       "      <th>3</th>\n",
       "      <td>0.121992</td>\n",
       "      <td>extra_people</td>\n",
       "    </tr>\n",
       "    <tr>\n",
       "      <th>18</th>\n",
       "      <td>0.100341</td>\n",
       "      <td>accommodates</td>\n",
       "    </tr>\n",
       "    <tr>\n",
       "      <th>9</th>\n",
       "      <td>0.089906</td>\n",
       "      <td>availability_90</td>\n",
       "    </tr>\n",
       "    <tr>\n",
       "      <th>13</th>\n",
       "      <td>0.067006</td>\n",
       "      <td>require_guest_profile_picture</td>\n",
       "    </tr>\n",
       "    <tr>\n",
       "      <th>6</th>\n",
       "      <td>0.057954</td>\n",
       "      <td>minimum_nights</td>\n",
       "    </tr>\n",
       "    <tr>\n",
       "      <th>11</th>\n",
       "      <td>-0.005876</td>\n",
       "      <td>instant_bookable</td>\n",
       "    </tr>\n",
       "    <tr>\n",
       "      <th>10</th>\n",
       "      <td>-0.008100</td>\n",
       "      <td>availability_365</td>\n",
       "    </tr>\n",
       "    <tr>\n",
       "      <th>8</th>\n",
       "      <td>-0.017468</td>\n",
       "      <td>availability_60</td>\n",
       "    </tr>\n",
       "    <tr>\n",
       "      <th>20</th>\n",
       "      <td>-0.030339</td>\n",
       "      <td>beds</td>\n",
       "    </tr>\n",
       "    <tr>\n",
       "      <th>5</th>\n",
       "      <td>-0.072275</td>\n",
       "      <td>maximum_nights</td>\n",
       "    </tr>\n",
       "    <tr>\n",
       "      <th>14</th>\n",
       "      <td>-0.078044</td>\n",
       "      <td>require_guest_phone_verification</td>\n",
       "    </tr>\n",
       "    <tr>\n",
       "      <th>19</th>\n",
       "      <td>-0.088598</td>\n",
       "      <td>bathrooms</td>\n",
       "    </tr>\n",
       "    <tr>\n",
       "      <th>7</th>\n",
       "      <td>-0.251783</td>\n",
       "      <td>availability_30</td>\n",
       "    </tr>\n",
       "    <tr>\n",
       "      <th>21</th>\n",
       "      <td>-0.322185</td>\n",
       "      <td>bedrooms</td>\n",
       "    </tr>\n",
       "    <tr>\n",
       "      <th>15</th>\n",
       "      <td>-3.357185</td>\n",
       "      <td>host_total_listings_count</td>\n",
       "    </tr>\n",
       "  </tbody>\n",
       "</table>\n",
       "</div>"
      ],
      "text/plain": [
       "        coef                           feature\n",
       "2   0.452715            host_identity_verified\n",
       "22  0.280103                             price\n",
       "12  0.246174               cancellation_policy\n",
       "0   0.226022              host_acceptance_rate\n",
       "4   0.174721                   guests_included\n",
       "1   0.161302              host_has_profile_pic\n",
       "16  0.159297                 is_location_exact\n",
       "17  0.126231                         room_type\n",
       "3   0.121992                      extra_people\n",
       "18  0.100341                      accommodates\n",
       "9   0.089906                   availability_90\n",
       "13  0.067006     require_guest_profile_picture\n",
       "6   0.057954                    minimum_nights\n",
       "11 -0.005876                  instant_bookable\n",
       "10 -0.008100                  availability_365\n",
       "8  -0.017468                   availability_60\n",
       "20 -0.030339                              beds\n",
       "5  -0.072275                    maximum_nights\n",
       "14 -0.078044  require_guest_phone_verification\n",
       "19 -0.088598                         bathrooms\n",
       "7  -0.251783                   availability_30\n",
       "21 -0.322185                          bedrooms\n",
       "15 -3.357185         host_total_listings_count"
      ]
     },
     "execution_count": 98,
     "metadata": {},
     "output_type": "execute_result"
    }
   ],
   "source": [
    "# look at this in a nicer way. we saved the column values earlier, conveniently\n",
    "house_coefs_logistic = pd.DataFrame({'feature':washington_sub_logistic.columns, 'coef':model.coef_.ravel()})\n",
    "\n",
    "# Remember that for linear regression the formula is Y ~ b1*x1 + ... + bn*xn\n",
    "# for our x1 thru xn columns of predictors.\n",
    "# To estimate Y for a row of predictor variables, we multiply each of these\n",
    "# coefficients by their respective beta coefficients and add them together!\n",
    "house_coefs_logistic.sort_values(by='coef', axis=0, ascending=False)"
   ]
  },
  {
   "cell_type": "code",
   "execution_count": null,
   "metadata": {
    "collapsed": true
   },
   "outputs": [],
   "source": []
  },
  {
   "cell_type": "code",
   "execution_count": null,
   "metadata": {
    "collapsed": true
   },
   "outputs": [],
   "source": []
  },
  {
   "cell_type": "code",
   "execution_count": null,
   "metadata": {
    "collapsed": true
   },
   "outputs": [],
   "source": []
  },
  {
   "cell_type": "code",
   "execution_count": null,
   "metadata": {
    "collapsed": true
   },
   "outputs": [],
   "source": []
  },
  {
   "cell_type": "markdown",
   "metadata": {},
   "source": [
    "---\n",
    "## k Nearest Neighbors\n",
    "\n",
    "The kNN will determine target classes compared to previous logistic."
   ]
  },
  {
   "cell_type": "code",
   "execution_count": 51,
   "metadata": {
    "collapsed": false
   },
   "outputs": [],
   "source": [
    "washington_knn = washington_listings_gz[['host_acceptance_rate', 'host_has_profile_pic', 'host_identity_verified','extra_people',\n",
    "                        'guests_included', 'maximum_nights', 'minimum_nights','availability_30', 'availability_60',\n",
    "                        'availability_90','availability_365','instant_bookable','cancellation_policy',\n",
    "                        'require_guest_profile_picture','require_guest_phone_verification', 'host_total_listings_count', \n",
    "                        'is_location_exact','room_type', 'host_is_superhost','accommodates','bathrooms','beds','bedrooms','price']]"
   ]
  },
  {
   "cell_type": "code",
   "execution_count": 67,
   "metadata": {
    "collapsed": false
   },
   "outputs": [],
   "source": [
    "washington_knn.price = washington_knn.price.apply(lambda x: x.replace(\"$\",\"\"))\n",
    "washington_knn.price = washington_knn.price.apply(lambda x: x.replace(\",\",\"\"))\n",
    "washington_knn.price = washington_knn.price.apply(lambda x: float(x))"
   ]
  },
  {
   "cell_type": "code",
   "execution_count": 68,
   "metadata": {
    "collapsed": false
   },
   "outputs": [],
   "source": [
    "#Converting and Cleaning \n",
    "washington_knn.host_acceptance_rate = washington_knn.host_acceptance_rate.apply(lambda x: str(x))\n",
    "washington_knn.host_acceptance_rate = washington_knn.host_acceptance_rate.apply(lambda x: float(x.replace(\"%\",\"\")))\n",
    "#washington_knn.cancellation_policy = washington_knn.cancellation_policy.apply(lambda x: 0 if x =='flexible' else 1 if x =='moderate' else 2 if x =='strict' else 3 if x == 'super_strict_30' else x)\n",
    "washington_knn.extra_people = washington_knn.extra_people.map(lambda x: float(x.replace(\"$\",\"\")))\n",
    "#washington_knn.room_type = washington_knn.room_type.map(lambda x: 0 if x =='Entire home/apt' else 1 if x =='Private room' else 2 if x =='Shared room' else x)"
   ]
  },
  {
   "cell_type": "code",
   "execution_count": 69,
   "metadata": {
    "collapsed": true
   },
   "outputs": [],
   "source": [
    "washington_knn.host_is_superhost = washington_knn.host_is_superhost.apply(lambda x: 1 if x =='t' else 0)"
   ]
  },
  {
   "cell_type": "code",
   "execution_count": 70,
   "metadata": {
    "collapsed": false
   },
   "outputs": [
    {
     "data": {
      "text/plain": [
       "host_acceptance_rate                float64\n",
       "host_has_profile_pic                 object\n",
       "host_identity_verified               object\n",
       "extra_people                        float64\n",
       "guests_included                       int64\n",
       "maximum_nights                        int64\n",
       "minimum_nights                        int64\n",
       "availability_30                       int64\n",
       "availability_60                       int64\n",
       "availability_90                       int64\n",
       "availability_365                      int64\n",
       "instant_bookable                     object\n",
       "cancellation_policy                  object\n",
       "require_guest_profile_picture        object\n",
       "require_guest_phone_verification     object\n",
       "host_total_listings_count             int64\n",
       "is_location_exact                    object\n",
       "room_type                            object\n",
       "host_is_superhost                     int64\n",
       "accommodates                          int64\n",
       "bathrooms                           float64\n",
       "beds                                float64\n",
       "bedrooms                            float64\n",
       "price                               float64\n",
       "dtype: object"
      ]
     },
     "execution_count": 70,
     "metadata": {},
     "output_type": "execute_result"
    }
   ],
   "source": [
    "washington_knn.dtypes"
   ]
  },
  {
   "cell_type": "code",
   "execution_count": 71,
   "metadata": {
    "collapsed": false
   },
   "outputs": [],
   "source": [
    "import patsy\n",
    "\n",
    "formula = 'host_is_superhost ~ host_acceptance_rate + C(host_has_profile_pic) + C(host_identity_verified) + extra_people\\\n",
    "           + guests_included + maximum_nights + minimum_nights + availability_30 + availability_60 + availability_90\\\n",
    "           + availability_365 + C(instant_bookable) + C(cancellation_policy) + C(require_guest_profile_picture)\\\n",
    "           + C(require_guest_phone_verification) + host_total_listings_count + C(is_location_exact) + C(room_type)\\\n",
    "           + accommodates + bathrooms + beds + bedrooms + price - 1' \n",
    "\n",
    "ymat, xmat = patsy.dmatrices(formula, data = washington_knn)"
   ]
  },
  {
   "cell_type": "code",
   "execution_count": 72,
   "metadata": {
    "collapsed": false
   },
   "outputs": [
    {
     "data": {
      "text/plain": [
       "KNeighborsClassifier(algorithm='auto', leaf_size=30, metric='minkowski',\n",
       "           metric_params=None, n_jobs=1, n_neighbors=10, p=2,\n",
       "           weights='uniform')"
      ]
     },
     "execution_count": 72,
     "metadata": {},
     "output_type": "execute_result"
    }
   ],
   "source": [
    "from sklearn.neighbors import KNeighborsClassifier\n",
    "knn = KNeighborsClassifier(n_neighbors=10)\n",
    "knn.fit(xmat, np.ravel(ymat))"
   ]
  },
  {
   "cell_type": "code",
   "execution_count": 73,
   "metadata": {
    "collapsed": true
   },
   "outputs": [],
   "source": [
    "from sklearn.cross_validation import train_test_split\n",
    "\n",
    "X_train, X_test, Y_train, Y_test = train_test_split(xmat, ymat, test_size=0.33)"
   ]
  },
  {
   "cell_type": "code",
   "execution_count": 74,
   "metadata": {
    "collapsed": false
   },
   "outputs": [
    {
     "data": {
      "text/plain": [
       "0.89239881539980259"
      ]
     },
     "execution_count": 74,
     "metadata": {},
     "output_type": "execute_result"
    }
   ],
   "source": [
    "knn.score(X_test, np.ravel(Y_test))"
   ]
  },
  {
   "cell_type": "code",
   "execution_count": 75,
   "metadata": {
    "collapsed": true
   },
   "outputs": [],
   "source": [
    "predictions = knn.predict(X_test)\n",
    "pred_probability = knn.predict_proba(X_test)"
   ]
  },
  {
   "cell_type": "code",
   "execution_count": 85,
   "metadata": {
    "collapsed": false
   },
   "outputs": [
    {
     "name": "stdout",
     "output_type": "stream",
     "text": [
      "[ 0.  0.  0.  0.  0.  0.  0.  0.  0.  0.]\n",
      "[[ 1.   0. ]\n",
      " [ 0.8  0.2]\n",
      " [ 0.9  0.1]\n",
      " [ 1.   0. ]\n",
      " [ 0.9  0.1]\n",
      " [ 0.8  0.2]\n",
      " [ 0.9  0.1]\n",
      " [ 0.9  0.1]\n",
      " [ 0.9  0.1]\n",
      " [ 0.8  0.2]]\n"
     ]
    }
   ],
   "source": [
    "print predictions[0:10]\n",
    "print pred_probability[0:10]"
   ]
  },
  {
   "cell_type": "code",
   "execution_count": 82,
   "metadata": {
    "collapsed": false
   },
   "outputs": [
    {
     "name": "stdout",
     "output_type": "stream",
     "text": [
      "0.889437314906\n",
      "[[ 1.          0.        ]\n",
      " [ 1.          0.        ]\n",
      " [ 0.81949517  0.18050483]\n",
      " [ 1.          0.        ]\n",
      " [ 0.89596604  0.10403396]\n",
      " [ 0.88213875  0.11786125]\n",
      " [ 1.          0.        ]\n",
      " [ 1.          0.        ]\n",
      " [ 0.70099643  0.29900357]\n",
      " [ 0.72269032  0.27730968]\n",
      " [ 0.90053541  0.09946459]\n",
      " [ 1.          0.        ]\n",
      " [ 0.89923317  0.10076683]\n",
      " [ 0.81180446  0.18819554]\n",
      " [ 0.95713384  0.04286616]]\n"
     ]
    },
    {
     "name": "stderr",
     "output_type": "stream",
     "text": [
      "/Users/jrcmalunay/anaconda/lib/python2.7/site-packages/ipykernel/__main__.py:3: DataConversionWarning: A column-vector y was passed when a 1d array was expected. Please change the shape of y to (n_samples, ), for example using ravel().\n",
      "  app.launch_new_instance()\n"
     ]
    }
   ],
   "source": [
    "knn = KNeighborsClassifier(n_neighbors=10, weights='distance')\n",
    "\n",
    "knn.fit(X_train, Y_train)\n",
    "\n",
    "print knn.score(X_test, Y_test)\n",
    "print knn.predict_proba(X_test)[0:15]"
   ]
  },
  {
   "cell_type": "code",
   "execution_count": 99,
   "metadata": {
    "collapsed": false
   },
   "outputs": [
    {
     "name": "stdout",
     "output_type": "stream",
     "text": [
      "0.881539980257\n",
      "[[ 1.          0.        ]\n",
      " [ 1.          0.        ]\n",
      " [ 0.81559218  0.18440782]\n",
      " [ 1.          0.        ]\n",
      " [ 0.85456745  0.14543255]\n",
      " [ 0.81025865  0.18974135]\n",
      " [ 1.          0.        ]\n",
      " [ 1.          0.        ]\n",
      " [ 0.78385524  0.21614476]\n",
      " [ 0.57399642  0.42600358]\n",
      " [ 0.8164387   0.1835613 ]\n",
      " [ 1.          0.        ]\n",
      " [ 0.85176712  0.14823288]\n",
      " [ 1.          0.        ]\n",
      " [ 0.94779233  0.05220767]]\n"
     ]
    },
    {
     "name": "stderr",
     "output_type": "stream",
     "text": [
      "/Users/jrcmalunay/anaconda/lib/python2.7/site-packages/ipykernel/__main__.py:3: DataConversionWarning: A column-vector y was passed when a 1d array was expected. Please change the shape of y to (n_samples, ), for example using ravel().\n",
      "  app.launch_new_instance()\n"
     ]
    }
   ],
   "source": [
    "knn = KNeighborsClassifier(n_neighbors=5, weights='distance')\n",
    "\n",
    "knn.fit(X_train, Y_train)\n",
    "\n",
    "print knn.score(X_test, Y_test)\n",
    "print knn.predict_proba(X_test)[0:15]"
   ]
  },
  {
   "cell_type": "code",
   "execution_count": 80,
   "metadata": {
    "collapsed": false
   },
   "outputs": [
    {
     "name": "stdout",
     "output_type": "stream",
     "text": [
      "0.8923988154\n",
      "[[ 0.9587824   0.0412176 ]\n",
      " [ 1.          0.        ]\n",
      " [ 0.81350693  0.18649307]\n",
      " [ 0.97102716  0.02897284]\n",
      " [ 0.8968633   0.1031367 ]\n",
      " [ 0.81133209  0.18866791]\n",
      " [ 1.          0.        ]\n",
      " [ 1.          0.        ]\n",
      " [ 0.65452688  0.34547312]\n",
      " [ 0.7845466   0.2154534 ]\n",
      " [ 0.81340419  0.18659581]\n",
      " [ 0.88179987  0.11820013]\n",
      " [ 0.93071748  0.06928252]\n",
      " [ 0.80753759  0.19246241]\n",
      " [ 0.96714936  0.03285064]]\n"
     ]
    },
    {
     "name": "stderr",
     "output_type": "stream",
     "text": [
      "/Users/jrcmalunay/anaconda/lib/python2.7/site-packages/ipykernel/__main__.py:3: DataConversionWarning: A column-vector y was passed when a 1d array was expected. Please change the shape of y to (n_samples, ), for example using ravel().\n",
      "  app.launch_new_instance()\n"
     ]
    }
   ],
   "source": [
    "knn = KNeighborsClassifier(n_neighbors=20, weights='distance')\n",
    "\n",
    "knn.fit(X_train, Y_train)\n",
    "\n",
    "print knn.score(X_test, Y_test)\n",
    "print knn.predict_proba(X_test)[0:15]"
   ]
  },
  {
   "cell_type": "code",
   "execution_count": null,
   "metadata": {
    "collapsed": true
   },
   "outputs": [],
   "source": []
  },
  {
   "cell_type": "code",
   "execution_count": null,
   "metadata": {
    "collapsed": true
   },
   "outputs": [],
   "source": []
  },
  {
   "cell_type": "code",
   "execution_count": 73,
   "metadata": {
    "collapsed": false
   },
   "outputs": [],
   "source": [
    "#!pip install folium"
   ]
  },
  {
   "cell_type": "code",
   "execution_count": 74,
   "metadata": {
    "collapsed": false,
    "scrolled": false
   },
   "outputs": [],
   "source": [
    "# import folium\n",
    "# from folium import plugins\n",
    "# map_osm = folium.Map(location=[26,-3],tiles='Stamen Toner', zoom_start = 12)\n",
    "# map_osm.create_map(path='osm.html')\n",
    "# map_osm  "
   ]
  },
  {
   "cell_type": "code",
   "execution_count": null,
   "metadata": {
    "collapsed": true
   },
   "outputs": [],
   "source": []
  }
 ],
 "metadata": {
  "kernelspec": {
   "display_name": "Python 2",
   "language": "python",
   "name": "python2"
  },
  "language_info": {
   "codemirror_mode": {
    "name": "ipython",
    "version": 2
   },
   "file_extension": ".py",
   "mimetype": "text/x-python",
   "name": "python",
   "nbconvert_exporter": "python",
   "pygments_lexer": "ipython2",
   "version": "2.7.11"
  }
 },
 "nbformat": 4,
 "nbformat_minor": 0
}
