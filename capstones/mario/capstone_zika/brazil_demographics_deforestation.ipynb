{
 "cells": [
  {
   "cell_type": "code",
   "execution_count": 1,
   "metadata": {
    "collapsed": true
   },
   "outputs": [],
   "source": [
    "import pandas as pd\n",
    "import numpy as np\n",
    "import matplotlib.pyplot as plt\n",
    "import seaborn as sns\n",
    "%matplotlib inline\n",
    "%config InlineBackend.figure_formats = ['svg']\n",
    "sns.set_style(\"white\")"
   ]
  },
  {
   "cell_type": "markdown",
   "metadata": {},
   "source": [
    "## Demographics\n",
    "http://www.ibge.gov.br/home/estatistica/populacao/projecao_da_populacao/2013/default_tab.shtm"
   ]
  },
  {
   "cell_type": "code",
   "execution_count": 2,
   "metadata": {
    "collapsed": false,
    "scrolled": false
   },
   "outputs": [],
   "source": [
    "xl = pd.ExcelFile('../brazil_pop_growth/PROJECOES_2013_POPULACAO.xls')"
   ]
  },
  {
   "cell_type": "code",
   "execution_count": 3,
   "metadata": {
    "collapsed": false
   },
   "outputs": [
    {
     "name": "stdout",
     "output_type": "stream",
     "text": [
      "71\n"
     ]
    }
   ],
   "source": [
    "test = [u\"POPULA\\xc7\\xc3O HOMENS - GRUPOS ET\\xc1RIOS\"]*23 + [u'POPULA\\xc7\\xc3O MULHERES - GRUPOS ET\\xc1RIOS']*23 + [u'POPULA\\xc7\\xc3O TOTAL - GRUPOS ET\\xc1RIOS']*25\n",
    "print len(test)"
   ]
  },
  {
   "cell_type": "code",
   "execution_count": 4,
   "metadata": {
    "collapsed": false
   },
   "outputs": [],
   "source": [
    "states_list = ['RO','AC', 'AM','PA','TO','MA','PI','CE', 'RN', 'PB', 'PE', 'AL', 'SE','BA', 'MG', 'ES',\n",
    "               'RJ', 'SP','PR','SC','RS','MS', 'MT','GO', 'DF', 'RR', 'AP']\n",
    "\n",
    "def parse_sheets(name):\n",
    "    types = [u\"POPULA\\xc7\\xc3O HOMENS - GRUPOS ET\\xc1RIOS\", \n",
    "       u'POPULA\\xc7\\xc3O MULHERES - GRUPOS ET\\xc1RIOS', \n",
    "       u'POPULA\\xc7\\xc3O TOTAL - GRUPOS ET\\xc1RIOS']\n",
    "    \n",
    "    data =  xl.parse(sheetname=name, header=0, index_col=0, skiprows=2, parse_cols='A:AF', convert_float=True).reset_index()\n",
    "    data['state_city'] = [name]*data.shape[0]\n",
    "    data['groups'] = [types[0]]*23 + [types[1]]*23 + [types[2]]*25\n",
    "    return data\n",
    "\n",
    "dataframe = []\n",
    "\n",
    "for i, sheet in enumerate(states_list):\n",
    "    ps = parse_sheets(sheet)\n",
    "    dataframe.append(ps)\n",
    "    \n",
    "complete_df = pd.concat(dataframe, axis=0)"
   ]
  },
  {
   "cell_type": "code",
   "execution_count": 5,
   "metadata": {
    "collapsed": false
   },
   "outputs": [
    {
     "data": {
      "text/plain": [
       "array([ 0,  1,  2,  3,  4,  5,  6,  7,  8,  9, 10, 11, 12, 13, 14, 15, 16,\n",
       "       17, 18, 19, 20, 21, 22, 23, 24, 25, 26, 27, 28, 29, 30, 31, 32, 33,\n",
       "       34, 35, 36, 37, 38, 39, 40, 41, 42, 43, 44, 45, 46, 47, 48, 49, 50,\n",
       "       51, 52, 53, 54, 55, 56, 57, 58, 59, 60, 61, 62, 63, 64, 65, 66, 67,\n",
       "       68, 69, 70])"
      ]
     },
     "execution_count": 5,
     "metadata": {},
     "output_type": "execute_result"
    }
   ],
   "source": [
    "complete_df.index.unique()"
   ]
  },
  {
   "cell_type": "code",
   "execution_count": 6,
   "metadata": {
    "collapsed": true
   },
   "outputs": [],
   "source": [
    "## Renaming Columns\n",
    "complete_df.rename(columns={'index': 'pop_group', 'Unnamed: 1': '2000', 'Unnamed: 2': '2001','Unnamed: 3' : '2002',\n",
    "                            'Unnamed: 4':'2003', 'Unnamed: 5':'2004', 'Unnamed: 6':'2005', 'Unnamed: 7': '2006',\n",
    "                            'Unnamed: 8':'2007','Unnamed: 9': '2008', 'Unnamed: 10':'2009','Unnamed: 11':'2010',\n",
    "                            'Unnamed: 12':'2011', 'Unnamed: 13': '2012','Unnamed: 14': '2013', 'Unnamed: 15': '2014',\n",
    "                             'Unnamed: 16': '2015','Unnamed: 17': '2016','Unnamed: 18': '2017','Unnamed: 19': '2018',\n",
    "                             'Unnamed: 20': '2019','Unnamed: 21':'2020', 'Unnamed: 22': '2021','Unnamed: 23': '2022',\n",
    "                             'Unnamed: 24': '2023','Unnamed: 25': '2024','Unnamed: 26': '2025', 'Unnamed: 27':'2026',\n",
    "                             'Unnamed: 28': '2027','Unnamed: 29': '2028','Unnamed: 30': '2029','Unnamed: 31': '2030',\n",
    "                           }, inplace=True)\n"
   ]
  },
  {
   "cell_type": "code",
   "execution_count": 7,
   "metadata": {
    "collapsed": false,
    "scrolled": true
   },
   "outputs": [
    {
     "data": {
      "text/html": [
       "<div>\n",
       "<table border=\"1\" class=\"dataframe\">\n",
       "  <thead>\n",
       "    <tr style=\"text-align: right;\">\n",
       "      <th></th>\n",
       "      <th>pop_group</th>\n",
       "      <th>2000</th>\n",
       "      <th>2001</th>\n",
       "      <th>2002</th>\n",
       "      <th>2003</th>\n",
       "      <th>2004</th>\n",
       "      <th>2005</th>\n",
       "      <th>2006</th>\n",
       "      <th>2007</th>\n",
       "      <th>2008</th>\n",
       "      <th>...</th>\n",
       "      <th>2023</th>\n",
       "      <th>2024</th>\n",
       "      <th>2025</th>\n",
       "      <th>2026</th>\n",
       "      <th>2027</th>\n",
       "      <th>2028</th>\n",
       "      <th>2029</th>\n",
       "      <th>2030</th>\n",
       "      <th>state_city</th>\n",
       "      <th>groups</th>\n",
       "    </tr>\n",
       "  </thead>\n",
       "  <tbody>\n",
       "    <tr>\n",
       "      <th>0</th>\n",
       "      <td>POPULAÇÃO HOMENS - GRUPOS ETÁRIOS</td>\n",
       "      <td>NaN</td>\n",
       "      <td>NaN</td>\n",
       "      <td>NaN</td>\n",
       "      <td>NaN</td>\n",
       "      <td>NaN</td>\n",
       "      <td>NaN</td>\n",
       "      <td>NaN</td>\n",
       "      <td>NaN</td>\n",
       "      <td>NaN</td>\n",
       "      <td>...</td>\n",
       "      <td>NaN</td>\n",
       "      <td>NaN</td>\n",
       "      <td>NaN</td>\n",
       "      <td>NaN</td>\n",
       "      <td>NaN</td>\n",
       "      <td>NaN</td>\n",
       "      <td>NaN</td>\n",
       "      <td>NaN</td>\n",
       "      <td>RO</td>\n",
       "      <td>POPULAÇÃO HOMENS - GRUPOS ETÁRIOS</td>\n",
       "    </tr>\n",
       "    <tr>\n",
       "      <th>1</th>\n",
       "      <td>GRUPO ETÁRIO</td>\n",
       "      <td>2000.0</td>\n",
       "      <td>2001.0</td>\n",
       "      <td>2002.0</td>\n",
       "      <td>2003.0</td>\n",
       "      <td>2004.0</td>\n",
       "      <td>2005.0</td>\n",
       "      <td>2006.0</td>\n",
       "      <td>2007.0</td>\n",
       "      <td>2008.0</td>\n",
       "      <td>...</td>\n",
       "      <td>2023.0</td>\n",
       "      <td>2024.0</td>\n",
       "      <td>2025.0</td>\n",
       "      <td>2026.0</td>\n",
       "      <td>2027.0</td>\n",
       "      <td>2028.0</td>\n",
       "      <td>2029.0</td>\n",
       "      <td>2030.0</td>\n",
       "      <td>RO</td>\n",
       "      <td>POPULAÇÃO HOMENS - GRUPOS ETÁRIOS</td>\n",
       "    </tr>\n",
       "  </tbody>\n",
       "</table>\n",
       "<p>2 rows × 34 columns</p>\n",
       "</div>"
      ],
      "text/plain": [
       "                           pop_group    2000    2001    2002    2003    2004  \\\n",
       "0  POPULAÇÃO HOMENS - GRUPOS ETÁRIOS     NaN     NaN     NaN     NaN     NaN   \n",
       "1                       GRUPO ETÁRIO  2000.0  2001.0  2002.0  2003.0  2004.0   \n",
       "\n",
       "     2005    2006    2007    2008                ...                    2023  \\\n",
       "0     NaN     NaN     NaN     NaN                ...                     NaN   \n",
       "1  2005.0  2006.0  2007.0  2008.0                ...                  2023.0   \n",
       "\n",
       "     2024    2025    2026    2027    2028    2029    2030  state_city  \\\n",
       "0     NaN     NaN     NaN     NaN     NaN     NaN     NaN          RO   \n",
       "1  2024.0  2025.0  2026.0  2027.0  2028.0  2029.0  2030.0          RO   \n",
       "\n",
       "                              groups  \n",
       "0  POPULAÇÃO HOMENS - GRUPOS ETÁRIOS  \n",
       "1  POPULAÇÃO HOMENS - GRUPOS ETÁRIOS  \n",
       "\n",
       "[2 rows x 34 columns]"
      ]
     },
     "execution_count": 7,
     "metadata": {},
     "output_type": "execute_result"
    }
   ],
   "source": [
    "complete_df.head(2)"
   ]
  },
  {
   "cell_type": "code",
   "execution_count": 8,
   "metadata": {
    "collapsed": false
   },
   "outputs": [],
   "source": [
    "complete_df['state_city'] = complete_df['state_city'].map({'RO':'Rondonia', 'AC':'Acre', 'AM': 'Amazonas', \n",
    "                                                           'PA':'Para', 'TO':'Tocantins','MA':'Maranhao', 'PI':'Piaui',\n",
    "'CE':'Ceara', 'RN':'Rio Grande do Norte', 'PB':'Paraiba', 'PE':'Pernambuco', 'AL':'Alagoas', 'SE':'Sergipe',\n",
    "'BA':'Bahia', 'MG':'Minas Gerais', 'ES':'Espirito Santo', 'RJ':'Rio de Janeiro', 'SP':'Sao Paulo', 'PR':'Parana',\n",
    "'SC':'Santa Catarina', 'RS':'Rio Grande do Sul', 'MS':'Mato Grosso do Sul', 'MT':'Mato Grosso', 'GO':'Goias',\n",
    "'DF':'Distrito Federal', 'RR':'Roraima','AP':'Amapa'})"
   ]
  },
  {
   "cell_type": "code",
   "execution_count": 9,
   "metadata": {
    "collapsed": false
   },
   "outputs": [],
   "source": [
    "import string\n",
    "keepgroups = [u'Total',u'0-4',u'5-9',u'10-14',u'15-19',u'20-24',u'25-29',u'30-34',\n",
    "              u'35-39',u'40-44',u'45-49',u'50-54',u'55-59',u'60-64',u'65-69',\n",
    "              u'70-74',u'75-79',u'80-84',u'85-89',u'90+']\n",
    "\n"
   ]
  },
  {
   "cell_type": "code",
   "execution_count": 10,
   "metadata": {
    "collapsed": false
   },
   "outputs": [
    {
     "data": {
      "text/plain": [
       "[u'Total',\n",
       " u'0-4',\n",
       " u'5-9',\n",
       " u'10-14',\n",
       " u'15-19',\n",
       " u'20-24',\n",
       " u'25-29',\n",
       " u'30-34',\n",
       " u'35-39',\n",
       " u'40-44',\n",
       " u'45-49',\n",
       " u'50-54',\n",
       " u'55-59',\n",
       " u'60-64',\n",
       " u'65-69',\n",
       " u'70-74',\n",
       " u'75-79',\n",
       " u'80-84',\n",
       " u'85-89',\n",
       " u'90+']"
      ]
     },
     "execution_count": 10,
     "metadata": {},
     "output_type": "execute_result"
    }
   ],
   "source": [
    "[x for x in complete_df.pop_group.unique() if x in keepgroups]"
   ]
  },
  {
   "cell_type": "markdown",
   "metadata": {},
   "source": [
    "### 2015"
   ]
  },
  {
   "cell_type": "code",
   "execution_count": 11,
   "metadata": {
    "collapsed": false
   },
   "outputs": [
    {
     "data": {
      "text/html": [
       "<div>\n",
       "<table border=\"1\" class=\"dataframe\">\n",
       "  <thead>\n",
       "    <tr style=\"text-align: right;\">\n",
       "      <th></th>\n",
       "      <th>pop_group</th>\n",
       "      <th>2015</th>\n",
       "      <th>state_city</th>\n",
       "      <th>groups</th>\n",
       "    </tr>\n",
       "  </thead>\n",
       "  <tbody>\n",
       "    <tr>\n",
       "      <th>0</th>\n",
       "      <td>POPULAÇÃO HOMENS - GRUPOS ETÁRIOS</td>\n",
       "      <td>NaN</td>\n",
       "      <td>Rondonia</td>\n",
       "      <td>POPULAÇÃO HOMENS - GRUPOS ETÁRIOS</td>\n",
       "    </tr>\n",
       "    <tr>\n",
       "      <th>1</th>\n",
       "      <td>GRUPO ETÁRIO</td>\n",
       "      <td>2015.0</td>\n",
       "      <td>Rondonia</td>\n",
       "      <td>POPULAÇÃO HOMENS - GRUPOS ETÁRIOS</td>\n",
       "    </tr>\n",
       "    <tr>\n",
       "      <th>2</th>\n",
       "      <td>Total</td>\n",
       "      <td>901750.0</td>\n",
       "      <td>Rondonia</td>\n",
       "      <td>POPULAÇÃO HOMENS - GRUPOS ETÁRIOS</td>\n",
       "    </tr>\n",
       "    <tr>\n",
       "      <th>3</th>\n",
       "      <td>0-4</td>\n",
       "      <td>72081.0</td>\n",
       "      <td>Rondonia</td>\n",
       "      <td>POPULAÇÃO HOMENS - GRUPOS ETÁRIOS</td>\n",
       "    </tr>\n",
       "    <tr>\n",
       "      <th>4</th>\n",
       "      <td>5-9</td>\n",
       "      <td>77348.0</td>\n",
       "      <td>Rondonia</td>\n",
       "      <td>POPULAÇÃO HOMENS - GRUPOS ETÁRIOS</td>\n",
       "    </tr>\n",
       "  </tbody>\n",
       "</table>\n",
       "</div>"
      ],
      "text/plain": [
       "                           pop_group      2015 state_city  \\\n",
       "0  POPULAÇÃO HOMENS - GRUPOS ETÁRIOS       NaN   Rondonia   \n",
       "1                       GRUPO ETÁRIO    2015.0   Rondonia   \n",
       "2                              Total  901750.0   Rondonia   \n",
       "3                                0-4   72081.0   Rondonia   \n",
       "4                                5-9   77348.0   Rondonia   \n",
       "\n",
       "                              groups  \n",
       "0  POPULAÇÃO HOMENS - GRUPOS ETÁRIOS  \n",
       "1  POPULAÇÃO HOMENS - GRUPOS ETÁRIOS  \n",
       "2  POPULAÇÃO HOMENS - GRUPOS ETÁRIOS  \n",
       "3  POPULAÇÃO HOMENS - GRUPOS ETÁRIOS  \n",
       "4  POPULAÇÃO HOMENS - GRUPOS ETÁRIOS  "
      ]
     },
     "execution_count": 11,
     "metadata": {},
     "output_type": "execute_result"
    }
   ],
   "source": [
    "pop2015 = complete_df[['pop_group','2015','state_city','groups']]\n",
    "pop2015.head()"
   ]
  },
  {
   "cell_type": "code",
   "execution_count": 12,
   "metadata": {
    "collapsed": false
   },
   "outputs": [
    {
     "name": "stdout",
     "output_type": "stream",
     "text": [
      "[u'POPULA\\xc7\\xc3O HOMENS - GRUPOS ET\\xc1RIOS'\n",
      " u'POPULA\\xc7\\xc3O MULHERES - GRUPOS ET\\xc1RIOS'\n",
      " u'POPULA\\xc7\\xc3O TOTAL - GRUPOS ET\\xc1RIOS']\n"
     ]
    }
   ],
   "source": [
    "unique_groups  = pop2015.groups.unique()\n",
    "print unique_groups"
   ]
  },
  {
   "cell_type": "code",
   "execution_count": 13,
   "metadata": {
    "collapsed": false
   },
   "outputs": [
    {
     "name": "stderr",
     "output_type": "stream",
     "text": [
      "//anaconda/lib/python2.7/site-packages/pandas/core/generic.py:2698: SettingWithCopyWarning: \n",
      "A value is trying to be set on a copy of a slice from a DataFrame.\n",
      "Try using .loc[row_indexer,col_indexer] = value instead\n",
      "\n",
      "See the caveats in the documentation: http://pandas.pydata.org/pandas-docs/stable/indexing.html#indexing-view-versus-copy\n",
      "  self[name] = value\n"
     ]
    }
   ],
   "source": [
    "group_replace= {k:v for k,v in zip(unique_groups, ['men','women','total'])}\n",
    "pop2015.groups = pop2015.groups.map(lambda x: group_replace[x])\n",
    "pop2015 = pop2015[~(pop2015.groups == 'total')]"
   ]
  },
  {
   "cell_type": "code",
   "execution_count": 14,
   "metadata": {
    "collapsed": false
   },
   "outputs": [
    {
     "data": {
      "text/html": [
       "<div>\n",
       "<table border=\"1\" class=\"dataframe\">\n",
       "  <thead>\n",
       "    <tr style=\"text-align: right;\">\n",
       "      <th>pop_group</th>\n",
       "      <th>state_city</th>\n",
       "      <th>groups</th>\n",
       "      <th>0-4</th>\n",
       "      <th>10-14</th>\n",
       "      <th>15-19</th>\n",
       "      <th>20-24</th>\n",
       "      <th>25-29</th>\n",
       "      <th>30-34</th>\n",
       "      <th>35-39</th>\n",
       "      <th>40-44</th>\n",
       "      <th>...</th>\n",
       "      <th>50-54</th>\n",
       "      <th>55-59</th>\n",
       "      <th>60-64</th>\n",
       "      <th>65-69</th>\n",
       "      <th>70-74</th>\n",
       "      <th>75-79</th>\n",
       "      <th>80-84</th>\n",
       "      <th>85-89</th>\n",
       "      <th>90+</th>\n",
       "      <th>Total</th>\n",
       "    </tr>\n",
       "  </thead>\n",
       "  <tbody>\n",
       "    <tr>\n",
       "      <th>0</th>\n",
       "      <td>Acre</td>\n",
       "      <td>men</td>\n",
       "      <td>43815.0</td>\n",
       "      <td>45220.0</td>\n",
       "      <td>42312.0</td>\n",
       "      <td>38035.0</td>\n",
       "      <td>34671.0</td>\n",
       "      <td>33595.0</td>\n",
       "      <td>28286.0</td>\n",
       "      <td>23033.0</td>\n",
       "      <td>...</td>\n",
       "      <td>14971.0</td>\n",
       "      <td>12156.0</td>\n",
       "      <td>9170.0</td>\n",
       "      <td>6274.0</td>\n",
       "      <td>4198.0</td>\n",
       "      <td>2779.0</td>\n",
       "      <td>1624.0</td>\n",
       "      <td>846.0</td>\n",
       "      <td>432.0</td>\n",
       "      <td>405421.0</td>\n",
       "    </tr>\n",
       "    <tr>\n",
       "      <th>1</th>\n",
       "      <td>Acre</td>\n",
       "      <td>women</td>\n",
       "      <td>42034.0</td>\n",
       "      <td>43932.0</td>\n",
       "      <td>40986.0</td>\n",
       "      <td>37591.0</td>\n",
       "      <td>33763.0</td>\n",
       "      <td>32871.0</td>\n",
       "      <td>27868.0</td>\n",
       "      <td>22784.0</td>\n",
       "      <td>...</td>\n",
       "      <td>15056.0</td>\n",
       "      <td>11994.0</td>\n",
       "      <td>8992.0</td>\n",
       "      <td>6340.0</td>\n",
       "      <td>4888.0</td>\n",
       "      <td>3217.0</td>\n",
       "      <td>1901.0</td>\n",
       "      <td>1013.0</td>\n",
       "      <td>544.0</td>\n",
       "      <td>398092.0</td>\n",
       "    </tr>\n",
       "    <tr>\n",
       "      <th>2</th>\n",
       "      <td>Alagoas</td>\n",
       "      <td>men</td>\n",
       "      <td>148359.0</td>\n",
       "      <td>169921.0</td>\n",
       "      <td>157927.0</td>\n",
       "      <td>140868.0</td>\n",
       "      <td>134261.0</td>\n",
       "      <td>138969.0</td>\n",
       "      <td>121086.0</td>\n",
       "      <td>99239.0</td>\n",
       "      <td>...</td>\n",
       "      <td>73892.0</td>\n",
       "      <td>58743.0</td>\n",
       "      <td>46828.0</td>\n",
       "      <td>34554.0</td>\n",
       "      <td>23261.0</td>\n",
       "      <td>14708.0</td>\n",
       "      <td>8156.0</td>\n",
       "      <td>3901.0</td>\n",
       "      <td>1997.0</td>\n",
       "      <td>1625464.0</td>\n",
       "    </tr>\n",
       "    <tr>\n",
       "      <th>3</th>\n",
       "      <td>Alagoas</td>\n",
       "      <td>women</td>\n",
       "      <td>141281.0</td>\n",
       "      <td>164954.0</td>\n",
       "      <td>158550.0</td>\n",
       "      <td>146162.0</td>\n",
       "      <td>144421.0</td>\n",
       "      <td>146889.0</td>\n",
       "      <td>129736.0</td>\n",
       "      <td>109004.0</td>\n",
       "      <td>...</td>\n",
       "      <td>82630.0</td>\n",
       "      <td>67367.0</td>\n",
       "      <td>54683.0</td>\n",
       "      <td>41239.0</td>\n",
       "      <td>30709.0</td>\n",
       "      <td>21695.0</td>\n",
       "      <td>13478.0</td>\n",
       "      <td>6875.0</td>\n",
       "      <td>3886.0</td>\n",
       "      <td>1715038.0</td>\n",
       "    </tr>\n",
       "    <tr>\n",
       "      <th>4</th>\n",
       "      <td>Amapa</td>\n",
       "      <td>men</td>\n",
       "      <td>39913.0</td>\n",
       "      <td>43802.0</td>\n",
       "      <td>41180.0</td>\n",
       "      <td>37836.0</td>\n",
       "      <td>33788.0</td>\n",
       "      <td>31644.0</td>\n",
       "      <td>26643.0</td>\n",
       "      <td>23777.0</td>\n",
       "      <td>...</td>\n",
       "      <td>15431.0</td>\n",
       "      <td>11502.0</td>\n",
       "      <td>7899.0</td>\n",
       "      <td>4933.0</td>\n",
       "      <td>3343.0</td>\n",
       "      <td>1968.0</td>\n",
       "      <td>1069.0</td>\n",
       "      <td>493.0</td>\n",
       "      <td>266.0</td>\n",
       "      <td>386668.0</td>\n",
       "    </tr>\n",
       "  </tbody>\n",
       "</table>\n",
       "<p>5 rows × 22 columns</p>\n",
       "</div>"
      ],
      "text/plain": [
       "pop_group state_city groups       0-4     10-14     15-19     20-24     25-29  \\\n",
       "0               Acre    men   43815.0   45220.0   42312.0   38035.0   34671.0   \n",
       "1               Acre  women   42034.0   43932.0   40986.0   37591.0   33763.0   \n",
       "2            Alagoas    men  148359.0  169921.0  157927.0  140868.0  134261.0   \n",
       "3            Alagoas  women  141281.0  164954.0  158550.0  146162.0  144421.0   \n",
       "4              Amapa    men   39913.0   43802.0   41180.0   37836.0   33788.0   \n",
       "\n",
       "pop_group     30-34     35-39     40-44    ...        50-54    55-59    60-64  \\\n",
       "0           33595.0   28286.0   23033.0    ...      14971.0  12156.0   9170.0   \n",
       "1           32871.0   27868.0   22784.0    ...      15056.0  11994.0   8992.0   \n",
       "2          138969.0  121086.0   99239.0    ...      73892.0  58743.0  46828.0   \n",
       "3          146889.0  129736.0  109004.0    ...      82630.0  67367.0  54683.0   \n",
       "4           31644.0   26643.0   23777.0    ...      15431.0  11502.0   7899.0   \n",
       "\n",
       "pop_group    65-69    70-74    75-79    80-84   85-89     90+      Total  \n",
       "0           6274.0   4198.0   2779.0   1624.0   846.0   432.0   405421.0  \n",
       "1           6340.0   4888.0   3217.0   1901.0  1013.0   544.0   398092.0  \n",
       "2          34554.0  23261.0  14708.0   8156.0  3901.0  1997.0  1625464.0  \n",
       "3          41239.0  30709.0  21695.0  13478.0  6875.0  3886.0  1715038.0  \n",
       "4           4933.0   3343.0   1968.0   1069.0   493.0   266.0   386668.0  \n",
       "\n",
       "[5 rows x 22 columns]"
      ]
     },
     "execution_count": 14,
     "metadata": {},
     "output_type": "execute_result"
    }
   ],
   "source": [
    "pop2015 = pop2015[pop2015.pop_group.isin(keepgroups)]\n",
    "pop2015 = pd.pivot_table(pop2015, index=['state_city','groups'], values=['2015'], columns=['pop_group'])['2015'].reset_index()\n",
    "pop2015.head()"
   ]
  },
  {
   "cell_type": "code",
   "execution_count": 15,
   "metadata": {
    "collapsed": false
   },
   "outputs": [
    {
     "name": "stderr",
     "output_type": "stream",
     "text": [
      "/anaconda/lib/python2.7/site-packages/ipykernel/__main__.py:4: SettingWithCopyWarning: \n",
      "A value is trying to be set on a copy of a slice from a DataFrame\n",
      "\n",
      "See the caveats in the documentation: http://pandas.pydata.org/pandas-docs/stable/indexing.html#indexing-view-versus-copy\n",
      "/anaconda/lib/python2.7/site-packages/ipykernel/__main__.py:5: SettingWithCopyWarning: \n",
      "A value is trying to be set on a copy of a slice from a DataFrame\n",
      "\n",
      "See the caveats in the documentation: http://pandas.pydata.org/pandas-docs/stable/indexing.html#indexing-view-versus-copy\n"
     ]
    },
    {
     "name": "stdout",
     "output_type": "stream",
     "text": [
      "Index([     u'state_city',     u'men2015_0-4',   u'men2015_10-14',\n",
      "         u'men2015_15-19',   u'men2015_20-24',   u'men2015_25-29',\n",
      "         u'men2015_30-34',   u'men2015_35-39',   u'men2015_40-44',\n",
      "         u'men2015_45-49',     u'men2015_5-9',   u'men2015_50-54',\n",
      "         u'men2015_55-59',   u'men2015_60-64',   u'men2015_65-69',\n",
      "         u'men2015_70-74',   u'men2015_75-79',   u'men2015_80-84',\n",
      "         u'men2015_85-89',     u'men2015_90+',   u'men2015_Total',\n",
      "         u'women2015_0-4', u'women2015_10-14', u'women2015_15-19',\n",
      "       u'women2015_20-24', u'women2015_25-29', u'women2015_30-34',\n",
      "       u'women2015_35-39', u'women2015_40-44', u'women2015_45-49',\n",
      "         u'women2015_5-9', u'women2015_50-54', u'women2015_55-59',\n",
      "       u'women2015_60-64', u'women2015_65-69', u'women2015_70-74',\n",
      "       u'women2015_75-79', u'women2015_80-84', u'women2015_85-89',\n",
      "         u'women2015_90+', u'women2015_Total'],\n",
      "      dtype='object')\n",
      "(27, 41)\n"
     ]
    },
    {
     "data": {
      "text/html": [
       "<div>\n",
       "<table border=\"1\" class=\"dataframe\">\n",
       "  <thead>\n",
       "    <tr style=\"text-align: right;\">\n",
       "      <th></th>\n",
       "      <th>state_city</th>\n",
       "      <th>men2015_0-4</th>\n",
       "      <th>men2015_10-14</th>\n",
       "      <th>men2015_15-19</th>\n",
       "      <th>men2015_20-24</th>\n",
       "      <th>men2015_25-29</th>\n",
       "      <th>men2015_30-34</th>\n",
       "      <th>men2015_35-39</th>\n",
       "      <th>men2015_40-44</th>\n",
       "      <th>men2015_45-49</th>\n",
       "      <th>...</th>\n",
       "      <th>women2015_50-54</th>\n",
       "      <th>women2015_55-59</th>\n",
       "      <th>women2015_60-64</th>\n",
       "      <th>women2015_65-69</th>\n",
       "      <th>women2015_70-74</th>\n",
       "      <th>women2015_75-79</th>\n",
       "      <th>women2015_80-84</th>\n",
       "      <th>women2015_85-89</th>\n",
       "      <th>women2015_90+</th>\n",
       "      <th>women2015_Total</th>\n",
       "    </tr>\n",
       "  </thead>\n",
       "  <tbody>\n",
       "    <tr>\n",
       "      <th>0</th>\n",
       "      <td>Acre</td>\n",
       "      <td>43815.0</td>\n",
       "      <td>45220.0</td>\n",
       "      <td>42312.0</td>\n",
       "      <td>38035.0</td>\n",
       "      <td>34671.0</td>\n",
       "      <td>33595.0</td>\n",
       "      <td>28286.0</td>\n",
       "      <td>23033.0</td>\n",
       "      <td>19037.0</td>\n",
       "      <td>...</td>\n",
       "      <td>15056.0</td>\n",
       "      <td>11994.0</td>\n",
       "      <td>8992.0</td>\n",
       "      <td>6340.0</td>\n",
       "      <td>4888.0</td>\n",
       "      <td>3217.0</td>\n",
       "      <td>1901.0</td>\n",
       "      <td>1013.0</td>\n",
       "      <td>544.0</td>\n",
       "      <td>398092.0</td>\n",
       "    </tr>\n",
       "    <tr>\n",
       "      <th>1</th>\n",
       "      <td>Alagoas</td>\n",
       "      <td>148359.0</td>\n",
       "      <td>169921.0</td>\n",
       "      <td>157927.0</td>\n",
       "      <td>140868.0</td>\n",
       "      <td>134261.0</td>\n",
       "      <td>138969.0</td>\n",
       "      <td>121086.0</td>\n",
       "      <td>99239.0</td>\n",
       "      <td>86572.0</td>\n",
       "      <td>...</td>\n",
       "      <td>82630.0</td>\n",
       "      <td>67367.0</td>\n",
       "      <td>54683.0</td>\n",
       "      <td>41239.0</td>\n",
       "      <td>30709.0</td>\n",
       "      <td>21695.0</td>\n",
       "      <td>13478.0</td>\n",
       "      <td>6875.0</td>\n",
       "      <td>3886.0</td>\n",
       "      <td>1715038.0</td>\n",
       "    </tr>\n",
       "    <tr>\n",
       "      <th>2</th>\n",
       "      <td>Amapa</td>\n",
       "      <td>39913.0</td>\n",
       "      <td>43802.0</td>\n",
       "      <td>41180.0</td>\n",
       "      <td>37836.0</td>\n",
       "      <td>33788.0</td>\n",
       "      <td>31644.0</td>\n",
       "      <td>26643.0</td>\n",
       "      <td>23777.0</td>\n",
       "      <td>19279.0</td>\n",
       "      <td>...</td>\n",
       "      <td>13632.0</td>\n",
       "      <td>10487.0</td>\n",
       "      <td>7631.0</td>\n",
       "      <td>4987.0</td>\n",
       "      <td>3494.0</td>\n",
       "      <td>2294.0</td>\n",
       "      <td>1434.0</td>\n",
       "      <td>695.0</td>\n",
       "      <td>452.0</td>\n",
       "      <td>380011.0</td>\n",
       "    </tr>\n",
       "    <tr>\n",
       "      <th>3</th>\n",
       "      <td>Amazonas</td>\n",
       "      <td>205834.0</td>\n",
       "      <td>213496.0</td>\n",
       "      <td>206400.0</td>\n",
       "      <td>195144.0</td>\n",
       "      <td>174206.0</td>\n",
       "      <td>166898.0</td>\n",
       "      <td>142634.0</td>\n",
       "      <td>117886.0</td>\n",
       "      <td>96250.0</td>\n",
       "      <td>...</td>\n",
       "      <td>77654.0</td>\n",
       "      <td>59878.0</td>\n",
       "      <td>44280.0</td>\n",
       "      <td>29982.0</td>\n",
       "      <td>21057.0</td>\n",
       "      <td>14474.0</td>\n",
       "      <td>8640.0</td>\n",
       "      <td>4212.0</td>\n",
       "      <td>2325.0</td>\n",
       "      <td>1949359.0</td>\n",
       "    </tr>\n",
       "    <tr>\n",
       "      <th>4</th>\n",
       "      <td>Bahia</td>\n",
       "      <td>590634.0</td>\n",
       "      <td>672990.0</td>\n",
       "      <td>660736.0</td>\n",
       "      <td>629905.0</td>\n",
       "      <td>641928.0</td>\n",
       "      <td>710370.0</td>\n",
       "      <td>616137.0</td>\n",
       "      <td>501438.0</td>\n",
       "      <td>441385.0</td>\n",
       "      <td>...</td>\n",
       "      <td>397177.0</td>\n",
       "      <td>335582.0</td>\n",
       "      <td>265011.0</td>\n",
       "      <td>209529.0</td>\n",
       "      <td>160346.0</td>\n",
       "      <td>119190.0</td>\n",
       "      <td>75495.0</td>\n",
       "      <td>43589.0</td>\n",
       "      <td>26482.0</td>\n",
       "      <td>7686564.0</td>\n",
       "    </tr>\n",
       "  </tbody>\n",
       "</table>\n",
       "<p>5 rows × 41 columns</p>\n",
       "</div>"
      ],
      "text/plain": [
       "  state_city  men2015_0-4  men2015_10-14  men2015_15-19  men2015_20-24  \\\n",
       "0       Acre      43815.0        45220.0        42312.0        38035.0   \n",
       "1    Alagoas     148359.0       169921.0       157927.0       140868.0   \n",
       "2      Amapa      39913.0        43802.0        41180.0        37836.0   \n",
       "3   Amazonas     205834.0       213496.0       206400.0       195144.0   \n",
       "4      Bahia     590634.0       672990.0       660736.0       629905.0   \n",
       "\n",
       "   men2015_25-29  men2015_30-34  men2015_35-39  men2015_40-44  men2015_45-49  \\\n",
       "0        34671.0        33595.0        28286.0        23033.0        19037.0   \n",
       "1       134261.0       138969.0       121086.0        99239.0        86572.0   \n",
       "2        33788.0        31644.0        26643.0        23777.0        19279.0   \n",
       "3       174206.0       166898.0       142634.0       117886.0        96250.0   \n",
       "4       641928.0       710370.0       616137.0       501438.0       441385.0   \n",
       "\n",
       "        ...         women2015_50-54  women2015_55-59  women2015_60-64  \\\n",
       "0       ...                 15056.0          11994.0           8992.0   \n",
       "1       ...                 82630.0          67367.0          54683.0   \n",
       "2       ...                 13632.0          10487.0           7631.0   \n",
       "3       ...                 77654.0          59878.0          44280.0   \n",
       "4       ...                397177.0         335582.0         265011.0   \n",
       "\n",
       "   women2015_65-69  women2015_70-74  women2015_75-79  women2015_80-84  \\\n",
       "0           6340.0           4888.0           3217.0           1901.0   \n",
       "1          41239.0          30709.0          21695.0          13478.0   \n",
       "2           4987.0           3494.0           2294.0           1434.0   \n",
       "3          29982.0          21057.0          14474.0           8640.0   \n",
       "4         209529.0         160346.0         119190.0          75495.0   \n",
       "\n",
       "   women2015_85-89  women2015_90+  women2015_Total  \n",
       "0           1013.0          544.0         398092.0  \n",
       "1           6875.0         3886.0        1715038.0  \n",
       "2            695.0          452.0         380011.0  \n",
       "3           4212.0         2325.0        1949359.0  \n",
       "4          43589.0        26482.0        7686564.0  \n",
       "\n",
       "[5 rows x 41 columns]"
      ]
     },
     "execution_count": 15,
     "metadata": {},
     "output_type": "execute_result"
    }
   ],
   "source": [
    "pop2015m = pop2015[pop2015.groups == 'men']\n",
    "pop2015w = pop2015[pop2015.groups == 'women']\n",
    "\n",
    "pop2015m.drop(['groups'], axis=1, inplace=True)\n",
    "pop2015w.drop(['groups'], axis=1, inplace=True)\n",
    "\n",
    "pop2015m.columns = ['state_city']+['men2015_'+x for x in pop2015m.columns[1:]]\n",
    "pop2015w.columns = ['state_city']+['women2015_'+x for x in pop2015w.columns[1:]]\n",
    "\n",
    "pop2015mw = pop2015m.merge(pop2015w, on='state_city')\n",
    "pop2015mw.reset_index(inplace=True, drop=True)\n",
    "\n",
    "print pop2015mw.columns\n",
    "print pop2015mw.shape\n",
    "pop2015mw.head()\n"
   ]
  },
  {
   "cell_type": "code",
   "execution_count": 16,
   "metadata": {
    "collapsed": true
   },
   "outputs": [],
   "source": [
    "# reproductive age man from 15 to 44\n",
    "# Chilbearing age woman is from 15 to 44\n",
    "pop2015mw['men2015_15-44'] = (pop2015mw['men2015_15-19']+pop2015mw['men2015_20-24']+pop2015mw['men2015_25-29']+\n",
    "                               pop2015mw['men2015_30-34']+pop2015mw['men2015_35-39']+pop2015mw['men2015_40-44']) \n",
    "##\n",
    "pop2015mw['women2015_15-44'] = (pop2015mw['women2015_15-19']+pop2015mw['women2015_20-24']+pop2015mw['women2015_25-29']+\n",
    "                               pop2015mw['women2015_30-34']+pop2015mw['women2015_35-39']+pop2015mw['women2015_40-44'])\n",
    "##\n",
    "pop2015mw['tot_men_women2015'] = (pop2015mw['men2015_Total'] + pop2015mw['women2015_Total'])\n",
    "\n",
    "# ##\n",
    "# pop2015mw['tot2015_0-4'] = (pop2015mw['men2015_0-4'] + pop2015mw['women2015_0-4'])\n",
    "\n",
    "# ## Population 0to4 what percent are they from the total population?\n",
    "# pop2015mw['tot2015_0-4_perc'] = (pop2015mw['tot2015_0-4']*100)/(pop2015mw['tot_men_women2015'])"
   ]
  },
  {
   "cell_type": "code",
   "execution_count": 17,
   "metadata": {
    "collapsed": false
   },
   "outputs": [
    {
     "data": {
      "text/html": [
       "<div>\n",
       "<table border=\"1\" class=\"dataframe\">\n",
       "  <thead>\n",
       "    <tr style=\"text-align: right;\">\n",
       "      <th></th>\n",
       "      <th>state_city</th>\n",
       "      <th>men2015_15-44</th>\n",
       "      <th>women2015_15-44</th>\n",
       "      <th>tot_men_women2015</th>\n",
       "    </tr>\n",
       "  </thead>\n",
       "  <tbody>\n",
       "    <tr>\n",
       "      <th>0</th>\n",
       "      <td>Acre</td>\n",
       "      <td>199932.0</td>\n",
       "      <td>195863.0</td>\n",
       "      <td>803513.0</td>\n",
       "    </tr>\n",
       "    <tr>\n",
       "      <th>1</th>\n",
       "      <td>Alagoas</td>\n",
       "      <td>792350.0</td>\n",
       "      <td>834762.0</td>\n",
       "      <td>3340502.0</td>\n",
       "    </tr>\n",
       "  </tbody>\n",
       "</table>\n",
       "</div>"
      ],
      "text/plain": [
       "  state_city  men2015_15-44  women2015_15-44  tot_men_women2015\n",
       "0       Acre       199932.0         195863.0           803513.0\n",
       "1    Alagoas       792350.0         834762.0          3340502.0"
      ]
     },
     "execution_count": 17,
     "metadata": {},
     "output_type": "execute_result"
    }
   ],
   "source": [
    "pop2015 = pop2015mw[['state_city', 'men2015_15-44','women2015_15-44','tot_men_women2015']]\n",
    "# 'tot2015_0-4_perc'\n",
    "pop2015.head(2)"
   ]
  },
  {
   "cell_type": "code",
   "execution_count": 63,
   "metadata": {
    "collapsed": true
   },
   "outputs": [],
   "source": [
    "f = open('pop2015.save', 'wb')\n",
    "cPickle.dump(pop2015,f)\n",
    "f.close()"
   ]
  },
  {
   "cell_type": "markdown",
   "metadata": {},
   "source": [
    "### 2016"
   ]
  },
  {
   "cell_type": "code",
   "execution_count": 18,
   "metadata": {
    "collapsed": false
   },
   "outputs": [
    {
     "data": {
      "text/html": [
       "<div>\n",
       "<table border=\"1\" class=\"dataframe\">\n",
       "  <thead>\n",
       "    <tr style=\"text-align: right;\">\n",
       "      <th></th>\n",
       "      <th>pop_group</th>\n",
       "      <th>2016</th>\n",
       "      <th>state_city</th>\n",
       "      <th>groups</th>\n",
       "    </tr>\n",
       "  </thead>\n",
       "  <tbody>\n",
       "    <tr>\n",
       "      <th>0</th>\n",
       "      <td>POPULAÇÃO HOMENS - GRUPOS ETÁRIOS</td>\n",
       "      <td>NaN</td>\n",
       "      <td>Rondonia</td>\n",
       "      <td>POPULAÇÃO HOMENS - GRUPOS ETÁRIOS</td>\n",
       "    </tr>\n",
       "    <tr>\n",
       "      <th>1</th>\n",
       "      <td>GRUPO ETÁRIO</td>\n",
       "      <td>2016.0</td>\n",
       "      <td>Rondonia</td>\n",
       "      <td>POPULAÇÃO HOMENS - GRUPOS ETÁRIOS</td>\n",
       "    </tr>\n",
       "  </tbody>\n",
       "</table>\n",
       "</div>"
      ],
      "text/plain": [
       "                           pop_group    2016 state_city  \\\n",
       "0  POPULAÇÃO HOMENS - GRUPOS ETÁRIOS     NaN   Rondonia   \n",
       "1                       GRUPO ETÁRIO  2016.0   Rondonia   \n",
       "\n",
       "                              groups  \n",
       "0  POPULAÇÃO HOMENS - GRUPOS ETÁRIOS  \n",
       "1  POPULAÇÃO HOMENS - GRUPOS ETÁRIOS  "
      ]
     },
     "execution_count": 18,
     "metadata": {},
     "output_type": "execute_result"
    }
   ],
   "source": [
    "pop2016 = complete_df[['pop_group','2016','state_city','groups']]\n",
    "pop2016.head(2)"
   ]
  },
  {
   "cell_type": "code",
   "execution_count": 19,
   "metadata": {
    "collapsed": false
   },
   "outputs": [
    {
     "name": "stdout",
     "output_type": "stream",
     "text": [
      "[u'POPULA\\xc7\\xc3O HOMENS - GRUPOS ET\\xc1RIOS'\n",
      " u'POPULA\\xc7\\xc3O MULHERES - GRUPOS ET\\xc1RIOS'\n",
      " u'POPULA\\xc7\\xc3O TOTAL - GRUPOS ET\\xc1RIOS']\n"
     ]
    }
   ],
   "source": [
    "unique_groups  = pop2016.groups.unique()\n",
    "print unique_groups"
   ]
  },
  {
   "cell_type": "code",
   "execution_count": 20,
   "metadata": {
    "collapsed": true
   },
   "outputs": [],
   "source": [
    "group_replace= {k:v for k,v in zip(unique_groups, ['men','women','total'])}\n",
    "pop2016.groups = pop2016.groups.map(lambda x: group_replace[x])\n",
    "pop2016 = pop2016[~(pop2016.groups == 'total')]"
   ]
  },
  {
   "cell_type": "code",
   "execution_count": 21,
   "metadata": {
    "collapsed": false
   },
   "outputs": [
    {
     "data": {
      "text/html": [
       "<div>\n",
       "<table border=\"1\" class=\"dataframe\">\n",
       "  <thead>\n",
       "    <tr style=\"text-align: right;\">\n",
       "      <th>pop_group</th>\n",
       "      <th>state_city</th>\n",
       "      <th>groups</th>\n",
       "      <th>0-4</th>\n",
       "      <th>10-14</th>\n",
       "      <th>15-19</th>\n",
       "      <th>20-24</th>\n",
       "      <th>25-29</th>\n",
       "      <th>30-34</th>\n",
       "      <th>35-39</th>\n",
       "      <th>40-44</th>\n",
       "      <th>...</th>\n",
       "      <th>50-54</th>\n",
       "      <th>55-59</th>\n",
       "      <th>60-64</th>\n",
       "      <th>65-69</th>\n",
       "      <th>70-74</th>\n",
       "      <th>75-79</th>\n",
       "      <th>80-84</th>\n",
       "      <th>85-89</th>\n",
       "      <th>90+</th>\n",
       "      <th>Total</th>\n",
       "    </tr>\n",
       "  </thead>\n",
       "  <tbody>\n",
       "    <tr>\n",
       "      <th>0</th>\n",
       "      <td>Acre</td>\n",
       "      <td>men</td>\n",
       "      <td>43433.0</td>\n",
       "      <td>45300.0</td>\n",
       "      <td>43105.0</td>\n",
       "      <td>38776.0</td>\n",
       "      <td>35050.0</td>\n",
       "      <td>33967.0</td>\n",
       "      <td>29362.0</td>\n",
       "      <td>23881.0</td>\n",
       "      <td>...</td>\n",
       "      <td>15564.0</td>\n",
       "      <td>12554.0</td>\n",
       "      <td>9602.0</td>\n",
       "      <td>6624.0</td>\n",
       "      <td>4379.0</td>\n",
       "      <td>2865.0</td>\n",
       "      <td>1681.0</td>\n",
       "      <td>867.0</td>\n",
       "      <td>456.0</td>\n",
       "      <td>411880.0</td>\n",
       "    </tr>\n",
       "    <tr>\n",
       "      <th>1</th>\n",
       "      <td>Acre</td>\n",
       "      <td>women</td>\n",
       "      <td>41656.0</td>\n",
       "      <td>43973.0</td>\n",
       "      <td>41646.0</td>\n",
       "      <td>38383.0</td>\n",
       "      <td>34207.0</td>\n",
       "      <td>33183.0</td>\n",
       "      <td>28940.0</td>\n",
       "      <td>23698.0</td>\n",
       "      <td>...</td>\n",
       "      <td>15665.0</td>\n",
       "      <td>12459.0</td>\n",
       "      <td>9466.0</td>\n",
       "      <td>6652.0</td>\n",
       "      <td>5062.0</td>\n",
       "      <td>3422.0</td>\n",
       "      <td>2002.0</td>\n",
       "      <td>1066.0</td>\n",
       "      <td>581.0</td>\n",
       "      <td>404807.0</td>\n",
       "    </tr>\n",
       "    <tr>\n",
       "      <th>2</th>\n",
       "      <td>Alagoas</td>\n",
       "      <td>men</td>\n",
       "      <td>145331.0</td>\n",
       "      <td>168262.0</td>\n",
       "      <td>158811.0</td>\n",
       "      <td>141035.0</td>\n",
       "      <td>132661.0</td>\n",
       "      <td>137934.0</td>\n",
       "      <td>124591.0</td>\n",
       "      <td>102090.0</td>\n",
       "      <td>...</td>\n",
       "      <td>75808.0</td>\n",
       "      <td>60711.0</td>\n",
       "      <td>48150.0</td>\n",
       "      <td>35931.0</td>\n",
       "      <td>24221.0</td>\n",
       "      <td>15214.0</td>\n",
       "      <td>8437.0</td>\n",
       "      <td>4007.0</td>\n",
       "      <td>2052.0</td>\n",
       "      <td>1632243.0</td>\n",
       "    </tr>\n",
       "    <tr>\n",
       "      <th>3</th>\n",
       "      <td>Alagoas</td>\n",
       "      <td>women</td>\n",
       "      <td>138333.0</td>\n",
       "      <td>162665.0</td>\n",
       "      <td>159538.0</td>\n",
       "      <td>146295.0</td>\n",
       "      <td>143236.0</td>\n",
       "      <td>146963.0</td>\n",
       "      <td>133531.0</td>\n",
       "      <td>112065.0</td>\n",
       "      <td>...</td>\n",
       "      <td>85082.0</td>\n",
       "      <td>69628.0</td>\n",
       "      <td>56493.0</td>\n",
       "      <td>42894.0</td>\n",
       "      <td>31737.0</td>\n",
       "      <td>22439.0</td>\n",
       "      <td>14069.0</td>\n",
       "      <td>7217.0</td>\n",
       "      <td>4076.0</td>\n",
       "      <td>1726284.0</td>\n",
       "    </tr>\n",
       "    <tr>\n",
       "      <th>4</th>\n",
       "      <td>Amapa</td>\n",
       "      <td>men</td>\n",
       "      <td>39540.0</td>\n",
       "      <td>43609.0</td>\n",
       "      <td>42405.0</td>\n",
       "      <td>38831.0</td>\n",
       "      <td>34538.0</td>\n",
       "      <td>32311.0</td>\n",
       "      <td>27514.0</td>\n",
       "      <td>24424.0</td>\n",
       "      <td>...</td>\n",
       "      <td>16127.0</td>\n",
       "      <td>12184.0</td>\n",
       "      <td>8441.0</td>\n",
       "      <td>5313.0</td>\n",
       "      <td>3503.0</td>\n",
       "      <td>2098.0</td>\n",
       "      <td>1132.0</td>\n",
       "      <td>525.0</td>\n",
       "      <td>283.0</td>\n",
       "      <td>394366.0</td>\n",
       "    </tr>\n",
       "  </tbody>\n",
       "</table>\n",
       "<p>5 rows × 22 columns</p>\n",
       "</div>"
      ],
      "text/plain": [
       "pop_group state_city groups       0-4     10-14     15-19     20-24     25-29  \\\n",
       "0               Acre    men   43433.0   45300.0   43105.0   38776.0   35050.0   \n",
       "1               Acre  women   41656.0   43973.0   41646.0   38383.0   34207.0   \n",
       "2            Alagoas    men  145331.0  168262.0  158811.0  141035.0  132661.0   \n",
       "3            Alagoas  women  138333.0  162665.0  159538.0  146295.0  143236.0   \n",
       "4              Amapa    men   39540.0   43609.0   42405.0   38831.0   34538.0   \n",
       "\n",
       "pop_group     30-34     35-39     40-44    ...        50-54    55-59    60-64  \\\n",
       "0           33967.0   29362.0   23881.0    ...      15564.0  12554.0   9602.0   \n",
       "1           33183.0   28940.0   23698.0    ...      15665.0  12459.0   9466.0   \n",
       "2          137934.0  124591.0  102090.0    ...      75808.0  60711.0  48150.0   \n",
       "3          146963.0  133531.0  112065.0    ...      85082.0  69628.0  56493.0   \n",
       "4           32311.0   27514.0   24424.0    ...      16127.0  12184.0   8441.0   \n",
       "\n",
       "pop_group    65-69    70-74    75-79    80-84   85-89     90+      Total  \n",
       "0           6624.0   4379.0   2865.0   1681.0   867.0   456.0   411880.0  \n",
       "1           6652.0   5062.0   3422.0   2002.0  1066.0   581.0   404807.0  \n",
       "2          35931.0  24221.0  15214.0   8437.0  4007.0  2052.0  1632243.0  \n",
       "3          42894.0  31737.0  22439.0  14069.0  7217.0  4076.0  1726284.0  \n",
       "4           5313.0   3503.0   2098.0   1132.0   525.0   283.0   394366.0  \n",
       "\n",
       "[5 rows x 22 columns]"
      ]
     },
     "execution_count": 21,
     "metadata": {},
     "output_type": "execute_result"
    }
   ],
   "source": [
    "pop2016 = pop2016[pop2016.pop_group.isin(keepgroups)]\n",
    "pop2016 = pd.pivot_table(pop2016, index=['state_city','groups'], values=['2016'], columns=['pop_group'])['2016'].reset_index()\n",
    "pop2016.head()"
   ]
  },
  {
   "cell_type": "code",
   "execution_count": 22,
   "metadata": {
    "collapsed": false,
    "scrolled": false
   },
   "outputs": [
    {
     "name": "stdout",
     "output_type": "stream",
     "text": [
      "Index([     u'state_city',     u'men2016_0-4',   u'men2016_10-14',\n",
      "         u'men2016_15-19',   u'men2016_20-24',   u'men2016_25-29',\n",
      "         u'men2016_30-34',   u'men2016_35-39',   u'men2016_40-44',\n",
      "         u'men2016_45-49',     u'men2016_5-9',   u'men2016_50-54',\n",
      "         u'men2016_55-59',   u'men2016_60-64',   u'men2016_65-69',\n",
      "         u'men2016_70-74',   u'men2016_75-79',   u'men2016_80-84',\n",
      "         u'men2016_85-89',     u'men2016_90+',   u'men2016_Total',\n",
      "         u'women2016_0-4', u'women2016_10-14', u'women2016_15-19',\n",
      "       u'women2016_20-24', u'women2016_25-29', u'women2016_30-34',\n",
      "       u'women2016_35-39', u'women2016_40-44', u'women2016_45-49',\n",
      "         u'women2016_5-9', u'women2016_50-54', u'women2016_55-59',\n",
      "       u'women2016_60-64', u'women2016_65-69', u'women2016_70-74',\n",
      "       u'women2016_75-79', u'women2016_80-84', u'women2016_85-89',\n",
      "         u'women2016_90+', u'women2016_Total'],\n",
      "      dtype='object')\n",
      "(27, 41)\n"
     ]
    },
    {
     "name": "stderr",
     "output_type": "stream",
     "text": [
      "/anaconda/lib/python2.7/site-packages/ipykernel/__main__.py:4: SettingWithCopyWarning: \n",
      "A value is trying to be set on a copy of a slice from a DataFrame\n",
      "\n",
      "See the caveats in the documentation: http://pandas.pydata.org/pandas-docs/stable/indexing.html#indexing-view-versus-copy\n",
      "/anaconda/lib/python2.7/site-packages/ipykernel/__main__.py:5: SettingWithCopyWarning: \n",
      "A value is trying to be set on a copy of a slice from a DataFrame\n",
      "\n",
      "See the caveats in the documentation: http://pandas.pydata.org/pandas-docs/stable/indexing.html#indexing-view-versus-copy\n"
     ]
    },
    {
     "data": {
      "text/html": [
       "<div>\n",
       "<table border=\"1\" class=\"dataframe\">\n",
       "  <thead>\n",
       "    <tr style=\"text-align: right;\">\n",
       "      <th></th>\n",
       "      <th>state_city</th>\n",
       "      <th>men2016_0-4</th>\n",
       "      <th>men2016_10-14</th>\n",
       "      <th>men2016_15-19</th>\n",
       "      <th>men2016_20-24</th>\n",
       "      <th>men2016_25-29</th>\n",
       "      <th>men2016_30-34</th>\n",
       "      <th>men2016_35-39</th>\n",
       "      <th>men2016_40-44</th>\n",
       "      <th>men2016_45-49</th>\n",
       "      <th>...</th>\n",
       "      <th>women2016_50-54</th>\n",
       "      <th>women2016_55-59</th>\n",
       "      <th>women2016_60-64</th>\n",
       "      <th>women2016_65-69</th>\n",
       "      <th>women2016_70-74</th>\n",
       "      <th>women2016_75-79</th>\n",
       "      <th>women2016_80-84</th>\n",
       "      <th>women2016_85-89</th>\n",
       "      <th>women2016_90+</th>\n",
       "      <th>women2016_Total</th>\n",
       "    </tr>\n",
       "  </thead>\n",
       "  <tbody>\n",
       "    <tr>\n",
       "      <th>0</th>\n",
       "      <td>Acre</td>\n",
       "      <td>43433.0</td>\n",
       "      <td>45300.0</td>\n",
       "      <td>43105.0</td>\n",
       "      <td>38776.0</td>\n",
       "      <td>35050.0</td>\n",
       "      <td>33967.0</td>\n",
       "      <td>29362.0</td>\n",
       "      <td>23881.0</td>\n",
       "      <td>19706.0</td>\n",
       "      <td>...</td>\n",
       "      <td>15665.0</td>\n",
       "      <td>12459.0</td>\n",
       "      <td>9466.0</td>\n",
       "      <td>6652.0</td>\n",
       "      <td>5062.0</td>\n",
       "      <td>3422.0</td>\n",
       "      <td>2002.0</td>\n",
       "      <td>1066.0</td>\n",
       "      <td>581.0</td>\n",
       "      <td>404807.0</td>\n",
       "    </tr>\n",
       "    <tr>\n",
       "      <th>1</th>\n",
       "      <td>Alagoas</td>\n",
       "      <td>145331.0</td>\n",
       "      <td>168262.0</td>\n",
       "      <td>158811.0</td>\n",
       "      <td>141035.0</td>\n",
       "      <td>132661.0</td>\n",
       "      <td>137934.0</td>\n",
       "      <td>124591.0</td>\n",
       "      <td>102090.0</td>\n",
       "      <td>87992.0</td>\n",
       "      <td>...</td>\n",
       "      <td>85082.0</td>\n",
       "      <td>69628.0</td>\n",
       "      <td>56493.0</td>\n",
       "      <td>42894.0</td>\n",
       "      <td>31737.0</td>\n",
       "      <td>22439.0</td>\n",
       "      <td>14069.0</td>\n",
       "      <td>7217.0</td>\n",
       "      <td>4076.0</td>\n",
       "      <td>1726284.0</td>\n",
       "    </tr>\n",
       "    <tr>\n",
       "      <th>2</th>\n",
       "      <td>Amapa</td>\n",
       "      <td>39540.0</td>\n",
       "      <td>43609.0</td>\n",
       "      <td>42405.0</td>\n",
       "      <td>38831.0</td>\n",
       "      <td>34538.0</td>\n",
       "      <td>32311.0</td>\n",
       "      <td>27514.0</td>\n",
       "      <td>24424.0</td>\n",
       "      <td>20141.0</td>\n",
       "      <td>...</td>\n",
       "      <td>14273.0</td>\n",
       "      <td>11039.0</td>\n",
       "      <td>8129.0</td>\n",
       "      <td>5350.0</td>\n",
       "      <td>3667.0</td>\n",
       "      <td>2420.0</td>\n",
       "      <td>1509.0</td>\n",
       "      <td>752.0</td>\n",
       "      <td>479.0</td>\n",
       "      <td>387929.0</td>\n",
       "    </tr>\n",
       "    <tr>\n",
       "      <th>3</th>\n",
       "      <td>Amazonas</td>\n",
       "      <td>203819.0</td>\n",
       "      <td>214222.0</td>\n",
       "      <td>207688.0</td>\n",
       "      <td>198860.0</td>\n",
       "      <td>177023.0</td>\n",
       "      <td>168795.0</td>\n",
       "      <td>147442.0</td>\n",
       "      <td>122219.0</td>\n",
       "      <td>99528.0</td>\n",
       "      <td>...</td>\n",
       "      <td>80175.0</td>\n",
       "      <td>62822.0</td>\n",
       "      <td>46731.0</td>\n",
       "      <td>31841.0</td>\n",
       "      <td>21931.0</td>\n",
       "      <td>15041.0</td>\n",
       "      <td>9093.0</td>\n",
       "      <td>4449.0</td>\n",
       "      <td>2466.0</td>\n",
       "      <td>1981297.0</td>\n",
       "    </tr>\n",
       "    <tr>\n",
       "      <th>4</th>\n",
       "      <td>Bahia</td>\n",
       "      <td>580397.0</td>\n",
       "      <td>666162.0</td>\n",
       "      <td>656012.0</td>\n",
       "      <td>624110.0</td>\n",
       "      <td>626940.0</td>\n",
       "      <td>701285.0</td>\n",
       "      <td>637492.0</td>\n",
       "      <td>517432.0</td>\n",
       "      <td>448319.0</td>\n",
       "      <td>...</td>\n",
       "      <td>406648.0</td>\n",
       "      <td>346297.0</td>\n",
       "      <td>275275.0</td>\n",
       "      <td>216525.0</td>\n",
       "      <td>165416.0</td>\n",
       "      <td>122989.0</td>\n",
       "      <td>78660.0</td>\n",
       "      <td>45207.0</td>\n",
       "      <td>27858.0</td>\n",
       "      <td>7732758.0</td>\n",
       "    </tr>\n",
       "  </tbody>\n",
       "</table>\n",
       "<p>5 rows × 41 columns</p>\n",
       "</div>"
      ],
      "text/plain": [
       "  state_city  men2016_0-4  men2016_10-14  men2016_15-19  men2016_20-24  \\\n",
       "0       Acre      43433.0        45300.0        43105.0        38776.0   \n",
       "1    Alagoas     145331.0       168262.0       158811.0       141035.0   \n",
       "2      Amapa      39540.0        43609.0        42405.0        38831.0   \n",
       "3   Amazonas     203819.0       214222.0       207688.0       198860.0   \n",
       "4      Bahia     580397.0       666162.0       656012.0       624110.0   \n",
       "\n",
       "   men2016_25-29  men2016_30-34  men2016_35-39  men2016_40-44  men2016_45-49  \\\n",
       "0        35050.0        33967.0        29362.0        23881.0        19706.0   \n",
       "1       132661.0       137934.0       124591.0       102090.0        87992.0   \n",
       "2        34538.0        32311.0        27514.0        24424.0        20141.0   \n",
       "3       177023.0       168795.0       147442.0       122219.0        99528.0   \n",
       "4       626940.0       701285.0       637492.0       517432.0       448319.0   \n",
       "\n",
       "        ...         women2016_50-54  women2016_55-59  women2016_60-64  \\\n",
       "0       ...                 15665.0          12459.0           9466.0   \n",
       "1       ...                 85082.0          69628.0          56493.0   \n",
       "2       ...                 14273.0          11039.0           8129.0   \n",
       "3       ...                 80175.0          62822.0          46731.0   \n",
       "4       ...                406648.0         346297.0         275275.0   \n",
       "\n",
       "   women2016_65-69  women2016_70-74  women2016_75-79  women2016_80-84  \\\n",
       "0           6652.0           5062.0           3422.0           2002.0   \n",
       "1          42894.0          31737.0          22439.0          14069.0   \n",
       "2           5350.0           3667.0           2420.0           1509.0   \n",
       "3          31841.0          21931.0          15041.0           9093.0   \n",
       "4         216525.0         165416.0         122989.0          78660.0   \n",
       "\n",
       "   women2016_85-89  women2016_90+  women2016_Total  \n",
       "0           1066.0          581.0         404807.0  \n",
       "1           7217.0         4076.0        1726284.0  \n",
       "2            752.0          479.0         387929.0  \n",
       "3           4449.0         2466.0        1981297.0  \n",
       "4          45207.0        27858.0        7732758.0  \n",
       "\n",
       "[5 rows x 41 columns]"
      ]
     },
     "execution_count": 22,
     "metadata": {},
     "output_type": "execute_result"
    }
   ],
   "source": [
    "pop2016m = pop2016[pop2016.groups == 'men']\n",
    "pop2016w = pop2016[pop2016.groups == 'women']\n",
    "\n",
    "pop2016m.drop(['groups'], axis=1, inplace=True)\n",
    "pop2016w.drop(['groups'], axis=1, inplace=True)\n",
    "\n",
    "pop2016m.columns = ['state_city']+['men2016_'+x for x in pop2016m.columns[1:]]\n",
    "pop2016w.columns = ['state_city']+['women2016_'+x for x in pop2016w.columns[1:]]\n",
    "\n",
    "pop2016mw = pop2016m.merge(pop2016w, on='state_city')\n",
    "pop2016mw.reset_index(inplace=True, drop=True)\n",
    "\n",
    "print pop2016mw.columns\n",
    "print pop2016mw.shape\n",
    "pop2016mw.head()"
   ]
  },
  {
   "cell_type": "markdown",
   "metadata": {},
   "source": [
    "\n"
   ]
  },
  {
   "cell_type": "code",
   "execution_count": 23,
   "metadata": {
    "collapsed": false
   },
   "outputs": [],
   "source": [
    "# reproductive age man from 15 to 44\n",
    "# Chilbearing age woman is from 15 to 44\n",
    "pop2016mw['men2016_15-44'] = (pop2016mw['men2016_15-19']+pop2016mw['men2016_20-24']+pop2016mw['men2016_25-29']+\n",
    "                               pop2016mw['men2016_30-34']+pop2016mw['men2016_35-39']+pop2016mw['men2016_40-44']) \n",
    "##\n",
    "pop2016mw['women2016_15-44'] = (pop2016mw['women2016_15-19']+pop2016mw['women2016_20-24']+pop2016mw['women2016_25-29']+\n",
    "                               pop2016mw['women2016_30-34']+pop2016mw['women2016_35-39']+pop2016mw['women2016_40-44'])\n",
    "##\n",
    "pop2016mw['tot_men_women2016'] = (pop2016mw['men2016_Total'] + pop2016mw['women2016_Total'])\n",
    "\n",
    "##\n",
    "pop2016mw['tot2016_0-4'] = (pop2016mw['men2016_0-4'] + pop2016mw['women2016_0-4'])\n",
    "\n",
    "## Population 0to4 what percent are they from the total population?\n",
    "pop2016mw['tot2016_0-4_perc'] = (pop2016mw['tot2016_0-4']*100)/(pop2016mw['tot_men_women2016'])"
   ]
  },
  {
   "cell_type": "code",
   "execution_count": 24,
   "metadata": {
    "collapsed": false
   },
   "outputs": [
    {
     "data": {
      "text/html": [
       "<div>\n",
       "<table border=\"1\" class=\"dataframe\">\n",
       "  <thead>\n",
       "    <tr style=\"text-align: right;\">\n",
       "      <th></th>\n",
       "      <th>state_city</th>\n",
       "      <th>men2016_15-44</th>\n",
       "      <th>women2016_15-44</th>\n",
       "      <th>tot_men_women2016</th>\n",
       "      <th>tot2016_0-4_perc</th>\n",
       "    </tr>\n",
       "  </thead>\n",
       "  <tbody>\n",
       "    <tr>\n",
       "      <th>0</th>\n",
       "      <td>Acre</td>\n",
       "      <td>204141.0</td>\n",
       "      <td>200057.0</td>\n",
       "      <td>816687.0</td>\n",
       "      <td>10.418802</td>\n",
       "    </tr>\n",
       "    <tr>\n",
       "      <th>1</th>\n",
       "      <td>Alagoas</td>\n",
       "      <td>797122.0</td>\n",
       "      <td>841628.0</td>\n",
       "      <td>3358527.0</td>\n",
       "      <td>8.446084</td>\n",
       "    </tr>\n",
       "  </tbody>\n",
       "</table>\n",
       "</div>"
      ],
      "text/plain": [
       "  state_city  men2016_15-44  women2016_15-44  tot_men_women2016  \\\n",
       "0       Acre       204141.0         200057.0           816687.0   \n",
       "1    Alagoas       797122.0         841628.0          3358527.0   \n",
       "\n",
       "   tot2016_0-4_perc  \n",
       "0         10.418802  \n",
       "1          8.446084  "
      ]
     },
     "execution_count": 24,
     "metadata": {},
     "output_type": "execute_result"
    }
   ],
   "source": [
    "pop2016 = pop2016mw[['state_city', 'men2016_15-44','women2016_15-44','tot_men_women2016', 'tot2016_0-4_perc']]\n",
    "pop2016.head(2)"
   ]
  },
  {
   "cell_type": "code",
   "execution_count": 64,
   "metadata": {
    "collapsed": true
   },
   "outputs": [],
   "source": [
    "f = open('pop2016.save', 'wb')\n",
    "cPickle.dump(pop2016,f)\n",
    "f.close()"
   ]
  },
  {
   "cell_type": "markdown",
   "metadata": {},
   "source": [
    "### Estimated population by month 2016"
   ]
  },
  {
   "cell_type": "code",
   "execution_count": 25,
   "metadata": {
    "collapsed": false
   },
   "outputs": [
    {
     "name": "stdout",
     "output_type": "stream",
     "text": [
      "(12, 28)\n",
      "++++++++++++++++++\n",
      "\n",
      "<class 'pandas.core.frame.DataFrame'>\n",
      "RangeIndex: 12 entries, 0 to 11\n",
      "Data columns (total 28 columns):\n",
      "DATA                   12 non-null datetime64[ns]\n",
      "Rondonia               12 non-null int64\n",
      "Acre                   12 non-null int64\n",
      "Amazonas               12 non-null int64\n",
      "Roraima                12 non-null int64\n",
      "Para                   12 non-null int64\n",
      "Amapa                  12 non-null int64\n",
      "Tocantins              12 non-null int64\n",
      "Maranhao               12 non-null int64\n",
      "Piaui                  12 non-null int64\n",
      "Ceara                  12 non-null int64\n",
      "Rio Grande do Norte    12 non-null int64\n",
      "Paraiba                12 non-null int64\n",
      "Pernambuco             12 non-null int64\n",
      "Alagoas                12 non-null int64\n",
      "Sergipe                12 non-null int64\n",
      "Bahia                  12 non-null int64\n",
      "Minas Gerais           12 non-null int64\n",
      "Espirito Santo         12 non-null int64\n",
      "Rio de Janeiro         12 non-null int64\n",
      "Sao Paulo              12 non-null int64\n",
      "Parana                 12 non-null int64\n",
      "Santa Catarina         12 non-null int64\n",
      "Rio Grande do Sul      12 non-null int64\n",
      "Mato Grosso do Sul     12 non-null int64\n",
      "Mato Grosso            12 non-null int64\n",
      "Goias                  12 non-null int64\n",
      "Distrito Federal       12 non-null int64\n",
      "dtypes: datetime64[ns](1), int64(27)\n",
      "memory usage: 2.7 KB\n",
      "None\n"
     ]
    }
   ],
   "source": [
    "pop_month2016= pd.read_excel(open('../brazil_pop_growth/reduced_month_pop.xlsx', 'rb'), \n",
    "                                     sheetname=0, header=0,\n",
    "                                     index_col =0, skiprows =0,\n",
    "                                     parse_cols = 'G:AH',convert_float = True\n",
    "                                    )\n",
    "pop_month2016 = pop_month2016.reset_index()\n",
    "print pop_month2016.shape\n",
    "print \"++++++++++++++++++\\n\"\n",
    "print pop_month2016.info()"
   ]
  },
  {
   "cell_type": "code",
   "execution_count": 26,
   "metadata": {
    "collapsed": false
   },
   "outputs": [],
   "source": [
    "pop_month2016 = pop_month2016.head(12).T.reset_index()"
   ]
  },
  {
   "cell_type": "code",
   "execution_count": 27,
   "metadata": {
    "collapsed": false
   },
   "outputs": [
    {
     "data": {
      "text/html": [
       "<div>\n",
       "<table border=\"1\" class=\"dataframe\">\n",
       "  <thead>\n",
       "    <tr style=\"text-align: right;\">\n",
       "      <th></th>\n",
       "      <th>index</th>\n",
       "      <th>0</th>\n",
       "      <th>1</th>\n",
       "      <th>2</th>\n",
       "      <th>3</th>\n",
       "      <th>4</th>\n",
       "      <th>5</th>\n",
       "      <th>6</th>\n",
       "      <th>7</th>\n",
       "      <th>8</th>\n",
       "      <th>9</th>\n",
       "      <th>10</th>\n",
       "      <th>11</th>\n",
       "    </tr>\n",
       "  </thead>\n",
       "  <tbody>\n",
       "    <tr>\n",
       "      <th>0</th>\n",
       "      <td>DATA</td>\n",
       "      <td>2016-01-01 00:00:00</td>\n",
       "      <td>2016-02-01 00:00:00</td>\n",
       "      <td>2016-03-01 00:00:00</td>\n",
       "      <td>2016-04-01 00:00:00</td>\n",
       "      <td>2016-05-01 00:00:00</td>\n",
       "      <td>2016-06-01 00:00:00</td>\n",
       "      <td>2016-07-01 00:00:00</td>\n",
       "      <td>2016-08-01 00:00:00</td>\n",
       "      <td>2016-09-01 00:00:00</td>\n",
       "      <td>2016-10-01 00:00:00</td>\n",
       "      <td>2016-11-01 00:00:00</td>\n",
       "      <td>2016-12-01 00:00:00</td>\n",
       "    </tr>\n",
       "    <tr>\n",
       "      <th>1</th>\n",
       "      <td>Rondonia</td>\n",
       "      <td>1778008</td>\n",
       "      <td>1779600</td>\n",
       "      <td>1781187</td>\n",
       "      <td>1782770</td>\n",
       "      <td>1784349</td>\n",
       "      <td>1785924</td>\n",
       "      <td>1787495</td>\n",
       "      <td>1789061</td>\n",
       "      <td>1790624</td>\n",
       "      <td>1792182</td>\n",
       "      <td>1793736</td>\n",
       "      <td>1795286</td>\n",
       "    </tr>\n",
       "  </tbody>\n",
       "</table>\n",
       "</div>"
      ],
      "text/plain": [
       "      index                    0                    1                    2  \\\n",
       "0      DATA  2016-01-01 00:00:00  2016-02-01 00:00:00  2016-03-01 00:00:00   \n",
       "1  Rondonia              1778008              1779600              1781187   \n",
       "\n",
       "                     3                    4                    5  \\\n",
       "0  2016-04-01 00:00:00  2016-05-01 00:00:00  2016-06-01 00:00:00   \n",
       "1              1782770              1784349              1785924   \n",
       "\n",
       "                     6                    7                    8  \\\n",
       "0  2016-07-01 00:00:00  2016-08-01 00:00:00  2016-09-01 00:00:00   \n",
       "1              1787495              1789061              1790624   \n",
       "\n",
       "                     9                   10                   11  \n",
       "0  2016-10-01 00:00:00  2016-11-01 00:00:00  2016-12-01 00:00:00  \n",
       "1              1792182              1793736              1795286  "
      ]
     },
     "execution_count": 27,
     "metadata": {},
     "output_type": "execute_result"
    }
   ],
   "source": [
    "pop_month2016.head(2)"
   ]
  },
  {
   "cell_type": "code",
   "execution_count": 28,
   "metadata": {
    "collapsed": false
   },
   "outputs": [
    {
     "data": {
      "text/plain": [
       "['index', 0, 1, 2, 3, 4, 5, 6, 7, 8, 9, 10, 11]"
      ]
     },
     "execution_count": 28,
     "metadata": {},
     "output_type": "execute_result"
    }
   ],
   "source": [
    "pop_month2016.columns.tolist()"
   ]
  },
  {
   "cell_type": "code",
   "execution_count": 29,
   "metadata": {
    "collapsed": false
   },
   "outputs": [],
   "source": [
    "## Renaming Columns\n",
    "pop_month2016.rename(columns={'index':'state_city', 0:'pop2016_jan', 1:'pop2016_feb', 2:'pop2016_march', 3:'pop2016_apr', 4:'pop2016_may',\n",
    "                              5:'pop2016_june', 6:'pop2016_jul', 7:'pop2016_aug', 8:'pop2016_sep', 9:'pop2016_oct',\n",
    "                              10:'pop2016_nov', 11:'pop2016_dec'}, inplace=True)\n"
   ]
  },
  {
   "cell_type": "code",
   "execution_count": 30,
   "metadata": {
    "collapsed": false
   },
   "outputs": [],
   "source": [
    "pop_month2016.drop(0, axis=0, inplace=True)"
   ]
  },
  {
   "cell_type": "code",
   "execution_count": 31,
   "metadata": {
    "collapsed": false
   },
   "outputs": [
    {
     "data": {
      "text/html": [
       "<div>\n",
       "<table border=\"1\" class=\"dataframe\">\n",
       "  <thead>\n",
       "    <tr style=\"text-align: right;\">\n",
       "      <th></th>\n",
       "      <th>state_city</th>\n",
       "      <th>pop2016_jan</th>\n",
       "      <th>pop2016_feb</th>\n",
       "      <th>pop2016_march</th>\n",
       "      <th>pop2016_apr</th>\n",
       "      <th>pop2016_may</th>\n",
       "      <th>pop2016_june</th>\n",
       "      <th>pop2016_jul</th>\n",
       "      <th>pop2016_aug</th>\n",
       "      <th>pop2016_sep</th>\n",
       "      <th>pop2016_oct</th>\n",
       "      <th>pop2016_nov</th>\n",
       "      <th>pop2016_dec</th>\n",
       "    </tr>\n",
       "  </thead>\n",
       "  <tbody>\n",
       "    <tr>\n",
       "      <th>1</th>\n",
       "      <td>Rondonia</td>\n",
       "      <td>1778008</td>\n",
       "      <td>1779600</td>\n",
       "      <td>1781187</td>\n",
       "      <td>1782770</td>\n",
       "      <td>1784349</td>\n",
       "      <td>1785924</td>\n",
       "      <td>1787495</td>\n",
       "      <td>1789061</td>\n",
       "      <td>1790624</td>\n",
       "      <td>1792182</td>\n",
       "      <td>1793736</td>\n",
       "      <td>1795286</td>\n",
       "    </tr>\n",
       "    <tr>\n",
       "      <th>2</th>\n",
       "      <td>Acre</td>\n",
       "      <td>809868</td>\n",
       "      <td>810965</td>\n",
       "      <td>812061</td>\n",
       "      <td>813156</td>\n",
       "      <td>814249</td>\n",
       "      <td>815340</td>\n",
       "      <td>816430</td>\n",
       "      <td>817518</td>\n",
       "      <td>818605</td>\n",
       "      <td>819690</td>\n",
       "      <td>820773</td>\n",
       "      <td>821855</td>\n",
       "    </tr>\n",
       "    <tr>\n",
       "      <th>3</th>\n",
       "      <td>Amazonas</td>\n",
       "      <td>3969162</td>\n",
       "      <td>3974418</td>\n",
       "      <td>3979665</td>\n",
       "      <td>3984903</td>\n",
       "      <td>3990132</td>\n",
       "      <td>3995353</td>\n",
       "      <td>4000564</td>\n",
       "      <td>4005766</td>\n",
       "      <td>4010960</td>\n",
       "      <td>4016144</td>\n",
       "      <td>4021319</td>\n",
       "      <td>4026485</td>\n",
       "    </tr>\n",
       "    <tr>\n",
       "      <th>4</th>\n",
       "      <td>Roraima</td>\n",
       "      <td>510969</td>\n",
       "      <td>511671</td>\n",
       "      <td>512372</td>\n",
       "      <td>513071</td>\n",
       "      <td>513768</td>\n",
       "      <td>514463</td>\n",
       "      <td>515157</td>\n",
       "      <td>515850</td>\n",
       "      <td>516541</td>\n",
       "      <td>517230</td>\n",
       "      <td>517917</td>\n",
       "      <td>518603</td>\n",
       "    </tr>\n",
       "    <tr>\n",
       "      <th>5</th>\n",
       "      <td>Para</td>\n",
       "      <td>8218939</td>\n",
       "      <td>8227094</td>\n",
       "      <td>8235229</td>\n",
       "      <td>8243344</td>\n",
       "      <td>8251439</td>\n",
       "      <td>8259513</td>\n",
       "      <td>8267567</td>\n",
       "      <td>8275601</td>\n",
       "      <td>8283614</td>\n",
       "      <td>8291608</td>\n",
       "      <td>8299580</td>\n",
       "      <td>8307533</td>\n",
       "    </tr>\n",
       "  </tbody>\n",
       "</table>\n",
       "</div>"
      ],
      "text/plain": [
       "  state_city pop2016_jan pop2016_feb pop2016_march pop2016_apr pop2016_may  \\\n",
       "1   Rondonia     1778008     1779600       1781187     1782770     1784349   \n",
       "2       Acre      809868      810965        812061      813156      814249   \n",
       "3   Amazonas     3969162     3974418       3979665     3984903     3990132   \n",
       "4    Roraima      510969      511671        512372      513071      513768   \n",
       "5       Para     8218939     8227094       8235229     8243344     8251439   \n",
       "\n",
       "  pop2016_june pop2016_jul pop2016_aug pop2016_sep pop2016_oct pop2016_nov  \\\n",
       "1      1785924     1787495     1789061     1790624     1792182     1793736   \n",
       "2       815340      816430      817518      818605      819690      820773   \n",
       "3      3995353     4000564     4005766     4010960     4016144     4021319   \n",
       "4       514463      515157      515850      516541      517230      517917   \n",
       "5      8259513     8267567     8275601     8283614     8291608     8299580   \n",
       "\n",
       "  pop2016_dec  \n",
       "1     1795286  \n",
       "2      821855  \n",
       "3     4026485  \n",
       "4      518603  \n",
       "5     8307533  "
      ]
     },
     "execution_count": 31,
     "metadata": {},
     "output_type": "execute_result"
    }
   ],
   "source": [
    "pop_month2016.head()"
   ]
  },
  {
   "cell_type": "code",
   "execution_count": 32,
   "metadata": {
    "collapsed": true
   },
   "outputs": [],
   "source": [
    "pop_month2016 = pop_month2016[['state_city', 'pop2016_feb', 'pop2016_march', 'pop2016_apr', 'pop2016_may','pop2016_june']]"
   ]
  },
  {
   "cell_type": "code",
   "execution_count": 33,
   "metadata": {
    "collapsed": false
   },
   "outputs": [
    {
     "name": "stdout",
     "output_type": "stream",
     "text": [
      "['state_city', 'pop2016_feb', 'pop2016_march', 'pop2016_apr', 'pop2016_may', 'pop2016_june']\n"
     ]
    }
   ],
   "source": [
    "print pop_month2016.columns.unique().tolist()"
   ]
  },
  {
   "cell_type": "code",
   "execution_count": 65,
   "metadata": {
    "collapsed": true
   },
   "outputs": [],
   "source": [
    "f = open('pop_month2016.save', 'wb')\n",
    "cPickle.dump(pop_month2016,f)\n",
    "f.close()"
   ]
  },
  {
   "cell_type": "markdown",
   "metadata": {},
   "source": [
    "### Merging 2016 data with Pop by month"
   ]
  },
  {
   "cell_type": "code",
   "execution_count": 34,
   "metadata": {
    "collapsed": false
   },
   "outputs": [
    {
     "name": "stdout",
     "output_type": "stream",
     "text": [
      "(27, 6) (27, 5)\n"
     ]
    }
   ],
   "source": [
    "print pop_month2016.shape, pop2016.shape"
   ]
  },
  {
   "cell_type": "code",
   "execution_count": 35,
   "metadata": {
    "collapsed": false
   },
   "outputs": [
    {
     "name": "stdout",
     "output_type": "stream",
     "text": [
      "[u'Rondonia', u'Acre', u'Amazonas', u'Roraima', u'Para', u'Amapa', u'Tocantins', u'Maranhao', u'Piaui', u'Ceara', u'Rio Grande do Norte', u'Paraiba', u'Pernambuco', u'Alagoas', u'Sergipe', u'Bahia', u'Minas Gerais', u'Espirito Santo', u'Rio de Janeiro', u'Sao Paulo', u'Parana', u'Santa Catarina', u'Rio Grande do Sul', u'Mato Grosso do Sul', u'Mato Grosso', u'Goias', u'Distrito Federal']\n",
      "\n",
      "+++++++++++++++\n",
      "\n",
      "['Acre', 'Alagoas', 'Amapa', 'Amazonas', 'Bahia', 'Ceara', 'Distrito Federal', 'Espirito Santo', 'Goias', 'Maranhao', 'Mato Grosso', 'Mato Grosso do Sul', 'Minas Gerais', 'Para', 'Paraiba', 'Parana', 'Pernambuco', 'Piaui', 'Rio Grande do Norte', 'Rio Grande do Sul', 'Rio de Janeiro', 'Rondonia', 'Roraima', 'Santa Catarina', 'Sao Paulo', 'Sergipe', 'Tocantins']\n"
     ]
    }
   ],
   "source": [
    "print pop_month2016.state_city.unique().tolist()\n",
    "print \"\\n+++++++++++++++\\n\"\n",
    "print pop2016.state_city.unique().tolist()"
   ]
  },
  {
   "cell_type": "code",
   "execution_count": 36,
   "metadata": {
    "collapsed": false
   },
   "outputs": [
    {
     "data": {
      "text/html": [
       "<div>\n",
       "<table border=\"1\" class=\"dataframe\">\n",
       "  <thead>\n",
       "    <tr style=\"text-align: right;\">\n",
       "      <th></th>\n",
       "      <th>state_city</th>\n",
       "      <th>men2016_15-44</th>\n",
       "      <th>women2016_15-44</th>\n",
       "      <th>tot_men_women2016</th>\n",
       "      <th>tot2016_0-4_perc</th>\n",
       "      <th>pop2016_feb</th>\n",
       "      <th>pop2016_march</th>\n",
       "      <th>pop2016_apr</th>\n",
       "      <th>pop2016_may</th>\n",
       "      <th>pop2016_june</th>\n",
       "    </tr>\n",
       "  </thead>\n",
       "  <tbody>\n",
       "    <tr>\n",
       "      <th>0</th>\n",
       "      <td>Acre</td>\n",
       "      <td>204141.0</td>\n",
       "      <td>200057.0</td>\n",
       "      <td>816687.0</td>\n",
       "      <td>10.418802</td>\n",
       "      <td>810965</td>\n",
       "      <td>812061</td>\n",
       "      <td>813156</td>\n",
       "      <td>814249</td>\n",
       "      <td>815340</td>\n",
       "    </tr>\n",
       "    <tr>\n",
       "      <th>1</th>\n",
       "      <td>Alagoas</td>\n",
       "      <td>797122.0</td>\n",
       "      <td>841628.0</td>\n",
       "      <td>3358527.0</td>\n",
       "      <td>8.446084</td>\n",
       "      <td>3351282</td>\n",
       "      <td>3352778</td>\n",
       "      <td>3354266</td>\n",
       "      <td>3355745</td>\n",
       "      <td>3357217</td>\n",
       "    </tr>\n",
       "  </tbody>\n",
       "</table>\n",
       "</div>"
      ],
      "text/plain": [
       "  state_city  men2016_15-44  women2016_15-44  tot_men_women2016  \\\n",
       "0       Acre       204141.0         200057.0           816687.0   \n",
       "1    Alagoas       797122.0         841628.0          3358527.0   \n",
       "\n",
       "   tot2016_0-4_perc pop2016_feb pop2016_march pop2016_apr pop2016_may  \\\n",
       "0         10.418802      810965        812061      813156      814249   \n",
       "1          8.446084     3351282       3352778     3354266     3355745   \n",
       "\n",
       "  pop2016_june  \n",
       "0       815340  \n",
       "1      3357217  "
      ]
     },
     "execution_count": 36,
     "metadata": {},
     "output_type": "execute_result"
    }
   ],
   "source": [
    "bz_perct = pop2016.merge(pop_month2016, on='state_city')\n",
    "bz_perct.head(2)"
   ]
  },
  {
   "cell_type": "code",
   "execution_count": 37,
   "metadata": {
    "collapsed": true
   },
   "outputs": [],
   "source": [
    "import cPickle\n",
    "f = open('bz_perct.save', 'wb')\n",
    "cPickle.dump(bz_perct,f)\n",
    "f.close()"
   ]
  },
  {
   "cell_type": "code",
   "execution_count": 38,
   "metadata": {
    "collapsed": false
   },
   "outputs": [
    {
     "name": "stdout",
     "output_type": "stream",
     "text": [
      "['state_city', 'men2016_15-44', 'women2016_15-44', 'tot_men_women2016', 'tot2016_0-4_perc', 'pop2016_feb', 'pop2016_march', 'pop2016_apr', 'pop2016_may', 'pop2016_june']\n"
     ]
    }
   ],
   "source": [
    "print bz_perct.columns.unique().tolist()"
   ]
  },
  {
   "cell_type": "code",
   "execution_count": 39,
   "metadata": {
    "collapsed": false
   },
   "outputs": [],
   "source": [
    "bz_perct['child_0-4_feb2016'] = (bz_perct['tot2016_0-4_perc']*bz_perct['pop2016_feb'])/100\n",
    "bz_perct['child_0-4_march2016'] = (bz_perct['tot2016_0-4_perc']*bz_perct['pop2016_march'])/100\n",
    "bz_perct['child_0-4_apr2016'] = (bz_perct['tot2016_0-4_perc']*bz_perct['pop2016_apr'])/100\n",
    "bz_perct['child_0-4_may2016'] = (bz_perct['tot2016_0-4_perc']*bz_perct['pop2016_may'])/100\n",
    "bz_perct['child_0-4_jun2016'] = (bz_perct['tot2016_0-4_perc']*bz_perct['pop2016_june'])/100"
   ]
  },
  {
   "cell_type": "code",
   "execution_count": 40,
   "metadata": {
    "collapsed": false
   },
   "outputs": [
    {
     "data": {
      "text/html": [
       "<div>\n",
       "<table border=\"1\" class=\"dataframe\">\n",
       "  <thead>\n",
       "    <tr style=\"text-align: right;\">\n",
       "      <th></th>\n",
       "      <th>state_city</th>\n",
       "      <th>men2016_15-44</th>\n",
       "      <th>women2016_15-44</th>\n",
       "      <th>tot_men_women2016</th>\n",
       "      <th>tot2016_0-4_perc</th>\n",
       "      <th>pop2016_feb</th>\n",
       "      <th>pop2016_march</th>\n",
       "      <th>pop2016_apr</th>\n",
       "      <th>pop2016_may</th>\n",
       "      <th>pop2016_june</th>\n",
       "      <th>child_0-4_feb2016</th>\n",
       "      <th>child_0-4_march2016</th>\n",
       "      <th>child_0-4_apr2016</th>\n",
       "      <th>child_0-4_may2016</th>\n",
       "      <th>child_0-4_jun2016</th>\n",
       "    </tr>\n",
       "  </thead>\n",
       "  <tbody>\n",
       "    <tr>\n",
       "      <th>0</th>\n",
       "      <td>Acre</td>\n",
       "      <td>204141.0</td>\n",
       "      <td>200057.0</td>\n",
       "      <td>816687.0</td>\n",
       "      <td>10.418802</td>\n",
       "      <td>810965</td>\n",
       "      <td>812061</td>\n",
       "      <td>813156</td>\n",
       "      <td>814249</td>\n",
       "      <td>815340</td>\n",
       "      <td>84492.8</td>\n",
       "      <td>84607</td>\n",
       "      <td>84721.1</td>\n",
       "      <td>84835</td>\n",
       "      <td>84948.7</td>\n",
       "    </tr>\n",
       "    <tr>\n",
       "      <th>1</th>\n",
       "      <td>Alagoas</td>\n",
       "      <td>797122.0</td>\n",
       "      <td>841628.0</td>\n",
       "      <td>3358527.0</td>\n",
       "      <td>8.446084</td>\n",
       "      <td>3351282</td>\n",
       "      <td>3352778</td>\n",
       "      <td>3354266</td>\n",
       "      <td>3355745</td>\n",
       "      <td>3357217</td>\n",
       "      <td>283052</td>\n",
       "      <td>283178</td>\n",
       "      <td>283304</td>\n",
       "      <td>283429</td>\n",
       "      <td>283553</td>\n",
       "    </tr>\n",
       "  </tbody>\n",
       "</table>\n",
       "</div>"
      ],
      "text/plain": [
       "  state_city  men2016_15-44  women2016_15-44  tot_men_women2016  \\\n",
       "0       Acre       204141.0         200057.0           816687.0   \n",
       "1    Alagoas       797122.0         841628.0          3358527.0   \n",
       "\n",
       "   tot2016_0-4_perc pop2016_feb pop2016_march pop2016_apr pop2016_may  \\\n",
       "0         10.418802      810965        812061      813156      814249   \n",
       "1          8.446084     3351282       3352778     3354266     3355745   \n",
       "\n",
       "  pop2016_june child_0-4_feb2016 child_0-4_march2016 child_0-4_apr2016  \\\n",
       "0       815340           84492.8               84607           84721.1   \n",
       "1      3357217            283052              283178            283304   \n",
       "\n",
       "  child_0-4_may2016 child_0-4_jun2016  \n",
       "0             84835           84948.7  \n",
       "1            283429            283553  "
      ]
     },
     "execution_count": 40,
     "metadata": {},
     "output_type": "execute_result"
    }
   ],
   "source": [
    "bz_perct.head(2)\n"
   ]
  },
  {
   "cell_type": "code",
   "execution_count": 41,
   "metadata": {
    "collapsed": false
   },
   "outputs": [
    {
     "name": "stdout",
     "output_type": "stream",
     "text": [
      "['state_city', 'men2016_15-44', 'women2016_15-44', 'tot_men_women2016', 'tot2016_0-4_perc', 'pop2016_feb', 'pop2016_march', 'pop2016_apr', 'pop2016_may', 'pop2016_june', 'child_0-4_feb2016', 'child_0-4_march2016', 'child_0-4_apr2016', 'child_0-4_may2016', 'child_0-4_jun2016']\n"
     ]
    }
   ],
   "source": [
    "print bz_perct.columns.unique().tolist()"
   ]
  },
  {
   "cell_type": "code",
   "execution_count": 42,
   "metadata": {
    "collapsed": true
   },
   "outputs": [],
   "source": [
    "pop2016_pct = bz_perct[['state_city', 'men2016_15-44', 'women2016_15-44', 'tot_men_women2016',\n",
    "                       'child_0-4_feb2016', 'child_0-4_march2016', 'child_0-4_apr2016', 'child_0-4_may2016',\n",
    "                        'child_0-4_jun2016']]"
   ]
  },
  {
   "cell_type": "code",
   "execution_count": null,
   "metadata": {
    "collapsed": true
   },
   "outputs": [],
   "source": []
  },
  {
   "cell_type": "code",
   "execution_count": 43,
   "metadata": {
    "collapsed": false
   },
   "outputs": [
    {
     "data": {
      "text/html": [
       "<div>\n",
       "<table border=\"1\" class=\"dataframe\">\n",
       "  <thead>\n",
       "    <tr style=\"text-align: right;\">\n",
       "      <th></th>\n",
       "      <th>state_city</th>\n",
       "      <th>men2016_15-44</th>\n",
       "      <th>women2016_15-44</th>\n",
       "      <th>tot_men_women2016</th>\n",
       "      <th>child_0-4_feb2016</th>\n",
       "      <th>child_0-4_march2016</th>\n",
       "      <th>child_0-4_apr2016</th>\n",
       "      <th>child_0-4_may2016</th>\n",
       "      <th>child_0-4_jun2016</th>\n",
       "    </tr>\n",
       "  </thead>\n",
       "  <tbody>\n",
       "    <tr>\n",
       "      <th>0</th>\n",
       "      <td>Acre</td>\n",
       "      <td>204141.0</td>\n",
       "      <td>200057.0</td>\n",
       "      <td>816687.0</td>\n",
       "      <td>84492.8</td>\n",
       "      <td>84607</td>\n",
       "      <td>84721.1</td>\n",
       "      <td>84835</td>\n",
       "      <td>84948.7</td>\n",
       "    </tr>\n",
       "    <tr>\n",
       "      <th>1</th>\n",
       "      <td>Alagoas</td>\n",
       "      <td>797122.0</td>\n",
       "      <td>841628.0</td>\n",
       "      <td>3358527.0</td>\n",
       "      <td>283052</td>\n",
       "      <td>283178</td>\n",
       "      <td>283304</td>\n",
       "      <td>283429</td>\n",
       "      <td>283553</td>\n",
       "    </tr>\n",
       "  </tbody>\n",
       "</table>\n",
       "</div>"
      ],
      "text/plain": [
       "  state_city  men2016_15-44  women2016_15-44  tot_men_women2016  \\\n",
       "0       Acre       204141.0         200057.0           816687.0   \n",
       "1    Alagoas       797122.0         841628.0          3358527.0   \n",
       "\n",
       "  child_0-4_feb2016 child_0-4_march2016 child_0-4_apr2016 child_0-4_may2016  \\\n",
       "0           84492.8               84607           84721.1             84835   \n",
       "1            283052              283178            283304            283429   \n",
       "\n",
       "  child_0-4_jun2016  \n",
       "0           84948.7  \n",
       "1            283553  "
      ]
     },
     "execution_count": 43,
     "metadata": {},
     "output_type": "execute_result"
    }
   ],
   "source": [
    "pop2016_pct.head(2)"
   ]
  },
  {
   "cell_type": "markdown",
   "metadata": {},
   "source": [
    "## Brazil areas, income\n",
    "http://www.ibge.gov.br/home/geociencias/areaterritorial/principal.shtm\n",
    "\n",
    "\n",
    "http://www.ibge.gov.br/estadosat/index.php"
   ]
  },
  {
   "cell_type": "code",
   "execution_count": 44,
   "metadata": {
    "collapsed": false,
    "scrolled": false
   },
   "outputs": [
    {
     "name": "stdout",
     "output_type": "stream",
     "text": [
      "(27, 9)\n",
      "++++++++++++++++++\n",
      "\n",
      "<class 'pandas.core.frame.DataFrame'>\n",
      "RangeIndex: 27 entries, 0 to 26\n",
      "Data columns (total 9 columns):\n",
      "state_city              27 non-null object\n",
      "capital                 27 non-null object\n",
      "region                  27 non-null object\n",
      "area_km_2               27 non-null float64\n",
      "percap_inc_month        27 non-null int64\n",
      "migration_index_2009    27 non-null float64\n",
      "water_supply            27 non-null int64\n",
      "toilett_sewarage        27 non-null int64\n",
      "garbage_collection      27 non-null int64\n",
      "dtypes: float64(2), int64(4), object(3)\n",
      "memory usage: 2.0+ KB\n",
      "None\n"
     ]
    }
   ],
   "source": [
    "brazil_areas = pd.read_excel(open('../brazil_area_states/area_states.xls', 'rb'), \n",
    "                                     sheetname=0, header=0,\n",
    "                                     index_col =0, skiprows =1,\n",
    "                                     parse_cols = 'B:J',convert_float = True\n",
    "                                    )\n",
    "brazil_areas = brazil_areas.reset_index()\n",
    "print brazil_areas.shape\n",
    "print \"++++++++++++++++++\\n\"\n",
    "print brazil_areas.info()\n"
   ]
  },
  {
   "cell_type": "code",
   "execution_count": 45,
   "metadata": {
    "collapsed": false
   },
   "outputs": [
    {
     "data": {
      "text/html": [
       "<div>\n",
       "<table border=\"1\" class=\"dataframe\">\n",
       "  <thead>\n",
       "    <tr style=\"text-align: right;\">\n",
       "      <th></th>\n",
       "      <th>state_city</th>\n",
       "      <th>capital</th>\n",
       "      <th>region</th>\n",
       "      <th>area_km_2</th>\n",
       "      <th>percap_inc_month</th>\n",
       "      <th>migration_index_2009</th>\n",
       "      <th>water_supply</th>\n",
       "      <th>toilett_sewarage</th>\n",
       "      <th>garbage_collection</th>\n",
       "    </tr>\n",
       "  </thead>\n",
       "  <tbody>\n",
       "    <tr>\n",
       "      <th>0</th>\n",
       "      <td>Rondonia</td>\n",
       "      <td>Porto Velho</td>\n",
       "      <td>north</td>\n",
       "      <td>237590.543</td>\n",
       "      <td>822</td>\n",
       "      <td>0.0307</td>\n",
       "      <td>558011</td>\n",
       "      <td>1112057</td>\n",
       "      <td>1061417</td>\n",
       "    </tr>\n",
       "    <tr>\n",
       "      <th>1</th>\n",
       "      <td>Acre</td>\n",
       "      <td>Rio Branco</td>\n",
       "      <td>north</td>\n",
       "      <td>164123.739</td>\n",
       "      <td>752</td>\n",
       "      <td>0.0013</td>\n",
       "      <td>309268</td>\n",
       "      <td>494967</td>\n",
       "      <td>480224</td>\n",
       "    </tr>\n",
       "    <tr>\n",
       "      <th>2</th>\n",
       "      <td>Amazonas</td>\n",
       "      <td>Manaus</td>\n",
       "      <td>north</td>\n",
       "      <td>1559148.890</td>\n",
       "      <td>752</td>\n",
       "      <td>0.2787</td>\n",
       "      <td>2074991</td>\n",
       "      <td>2646457</td>\n",
       "      <td>2512710</td>\n",
       "    </tr>\n",
       "    <tr>\n",
       "      <th>3</th>\n",
       "      <td>Roraima</td>\n",
       "      <td>Boa Vista</td>\n",
       "      <td>north</td>\n",
       "      <td>224303.187</td>\n",
       "      <td>1008</td>\n",
       "      <td>0.0225</td>\n",
       "      <td>328661</td>\n",
       "      <td>339633</td>\n",
       "      <td>332016</td>\n",
       "    </tr>\n",
       "    <tr>\n",
       "      <th>4</th>\n",
       "      <td>Para</td>\n",
       "      <td>Bethlehem</td>\n",
       "      <td>north</td>\n",
       "      <td>1247954.320</td>\n",
       "      <td>672</td>\n",
       "      <td>-0.1505</td>\n",
       "      <td>3029918</td>\n",
       "      <td>5096404</td>\n",
       "      <td>4749955</td>\n",
       "    </tr>\n",
       "    <tr>\n",
       "      <th>5</th>\n",
       "      <td>Amapa</td>\n",
       "      <td>Macapa</td>\n",
       "      <td>north</td>\n",
       "      <td>142828.520</td>\n",
       "      <td>849</td>\n",
       "      <td>0.2870</td>\n",
       "      <td>292675</td>\n",
       "      <td>515912</td>\n",
       "      <td>508198</td>\n",
       "    </tr>\n",
       "    <tr>\n",
       "      <th>6</th>\n",
       "      <td>Tocantins</td>\n",
       "      <td>Palmas</td>\n",
       "      <td>north</td>\n",
       "      <td>277720.569</td>\n",
       "      <td>818</td>\n",
       "      <td>-0.2431</td>\n",
       "      <td>1006844</td>\n",
       "      <td>1055828</td>\n",
       "      <td>1010516</td>\n",
       "    </tr>\n",
       "    <tr>\n",
       "      <th>7</th>\n",
       "      <td>Maranhao</td>\n",
       "      <td>St. Louis</td>\n",
       "      <td>northeast</td>\n",
       "      <td>331936.948</td>\n",
       "      <td>509</td>\n",
       "      <td>-0.1052</td>\n",
       "      <td>3385992</td>\n",
       "      <td>410774</td>\n",
       "      <td>3366745</td>\n",
       "    </tr>\n",
       "    <tr>\n",
       "      <th>8</th>\n",
       "      <td>Piaui</td>\n",
       "      <td>Teresina</td>\n",
       "      <td>northeast</td>\n",
       "      <td>251611.932</td>\n",
       "      <td>729</td>\n",
       "      <td>-0.1672</td>\n",
       "      <td>1883899</td>\n",
       "      <td>1946071</td>\n",
       "      <td>1790108</td>\n",
       "    </tr>\n",
       "    <tr>\n",
       "      <th>9</th>\n",
       "      <td>Ceara</td>\n",
       "      <td>Fortress</td>\n",
       "      <td>northeast</td>\n",
       "      <td>148886.308</td>\n",
       "      <td>680</td>\n",
       "      <td>-0.0226</td>\n",
       "      <td>5575833</td>\n",
       "      <td>6004977</td>\n",
       "      <td>5737435</td>\n",
       "    </tr>\n",
       "    <tr>\n",
       "      <th>10</th>\n",
       "      <td>Rio Grande do Norte</td>\n",
       "      <td>Christmas</td>\n",
       "      <td>northeast</td>\n",
       "      <td>52811.126</td>\n",
       "      <td>818</td>\n",
       "      <td>0.2379</td>\n",
       "      <td>2350208</td>\n",
       "      <td>2426285</td>\n",
       "      <td>2383269</td>\n",
       "    </tr>\n",
       "    <tr>\n",
       "      <th>11</th>\n",
       "      <td>Paraiba</td>\n",
       "      <td>Joao Pessoa</td>\n",
       "      <td>northeast</td>\n",
       "      <td>56469.744</td>\n",
       "      <td>776</td>\n",
       "      <td>0.0232</td>\n",
       "      <td>2633916</td>\n",
       "      <td>2782729</td>\n",
       "      <td>2704281</td>\n",
       "    </tr>\n",
       "    <tr>\n",
       "      <th>12</th>\n",
       "      <td>Pernambuco</td>\n",
       "      <td>Recife</td>\n",
       "      <td>northeast</td>\n",
       "      <td>98076.109</td>\n",
       "      <td>822</td>\n",
       "      <td>-0.0315</td>\n",
       "      <td>5333507</td>\n",
       "      <td>6046819</td>\n",
       "      <td>5807287</td>\n",
       "    </tr>\n",
       "    <tr>\n",
       "      <th>13</th>\n",
       "      <td>Alagoas</td>\n",
       "      <td>Maceio</td>\n",
       "      <td>northeast</td>\n",
       "      <td>27848.003</td>\n",
       "      <td>598</td>\n",
       "      <td>-0.2953</td>\n",
       "      <td>1803606</td>\n",
       "      <td>2214305</td>\n",
       "      <td>2163464</td>\n",
       "    </tr>\n",
       "    <tr>\n",
       "      <th>14</th>\n",
       "      <td>Sergipe</td>\n",
       "      <td>Aracaju</td>\n",
       "      <td>northeast</td>\n",
       "      <td>21918.493</td>\n",
       "      <td>782</td>\n",
       "      <td>0.0157</td>\n",
       "      <td>1419244</td>\n",
       "      <td>1487582</td>\n",
       "      <td>1455905</td>\n",
       "    </tr>\n",
       "    <tr>\n",
       "      <th>15</th>\n",
       "      <td>Bahia</td>\n",
       "      <td>Salvador</td>\n",
       "      <td>northeast</td>\n",
       "      <td>564733.081</td>\n",
       "      <td>736</td>\n",
       "      <td>-0.2099</td>\n",
       "      <td>8629447</td>\n",
       "      <td>8991908</td>\n",
       "      <td>8711092</td>\n",
       "    </tr>\n",
       "    <tr>\n",
       "      <th>16</th>\n",
       "      <td>Minas Gerais</td>\n",
       "      <td>Belo Horizonte</td>\n",
       "      <td>southeast</td>\n",
       "      <td>586519.727</td>\n",
       "      <td>1128</td>\n",
       "      <td>0.0216</td>\n",
       "      <td>15988452</td>\n",
       "      <td>16380125</td>\n",
       "      <td>16070952</td>\n",
       "    </tr>\n",
       "    <tr>\n",
       "      <th>17</th>\n",
       "      <td>Espirito Santo</td>\n",
       "      <td>Vitoria</td>\n",
       "      <td>southeast</td>\n",
       "      <td>46096.925</td>\n",
       "      <td>1074</td>\n",
       "      <td>0.3254</td>\n",
       "      <td>2679703</td>\n",
       "      <td>2760935</td>\n",
       "      <td>2713975</td>\n",
       "    </tr>\n",
       "    <tr>\n",
       "      <th>18</th>\n",
       "      <td>Rio de Janeiro</td>\n",
       "      <td>Rio de Janeiro</td>\n",
       "      <td>southeast</td>\n",
       "      <td>43777.954</td>\n",
       "      <td>1285</td>\n",
       "      <td>-0.0784</td>\n",
       "      <td>12200996</td>\n",
       "      <td>14320338</td>\n",
       "      <td>13996850</td>\n",
       "    </tr>\n",
       "    <tr>\n",
       "      <th>19</th>\n",
       "      <td>Sao Paulo</td>\n",
       "      <td>Sao Paulo</td>\n",
       "      <td>southeast</td>\n",
       "      <td>248222.362</td>\n",
       "      <td>1482</td>\n",
       "      <td>-0.0474</td>\n",
       "      <td>36825603</td>\n",
       "      <td>37436978</td>\n",
       "      <td>37355378</td>\n",
       "    </tr>\n",
       "    <tr>\n",
       "      <th>20</th>\n",
       "      <td>Parana</td>\n",
       "      <td>Curitiba</td>\n",
       "      <td>south</td>\n",
       "      <td>199307.945</td>\n",
       "      <td>1241</td>\n",
       "      <td>0.0845</td>\n",
       "      <td>8480499</td>\n",
       "      <td>8645118</td>\n",
       "      <td>8600749</td>\n",
       "    </tr>\n",
       "    <tr>\n",
       "      <th>21</th>\n",
       "      <td>Santa Catarina</td>\n",
       "      <td>Florianopolis</td>\n",
       "      <td>south</td>\n",
       "      <td>95733.978</td>\n",
       "      <td>1368</td>\n",
       "      <td>0.2611</td>\n",
       "      <td>4479273</td>\n",
       "      <td>4818588</td>\n",
       "      <td>4796232</td>\n",
       "    </tr>\n",
       "    <tr>\n",
       "      <th>22</th>\n",
       "      <td>Rio Grande do Sul</td>\n",
       "      <td>Porto Alegre</td>\n",
       "      <td>south</td>\n",
       "      <td>281731.445</td>\n",
       "      <td>1435</td>\n",
       "      <td>-0.0687</td>\n",
       "      <td>8237695</td>\n",
       "      <td>4878367</td>\n",
       "      <td>8738535</td>\n",
       "    </tr>\n",
       "    <tr>\n",
       "      <th>23</th>\n",
       "      <td>Mato Grosso do Sul</td>\n",
       "      <td>Campo Grande</td>\n",
       "      <td>center-west</td>\n",
       "      <td>357145.534</td>\n",
       "      <td>1045</td>\n",
       "      <td>0.0712</td>\n",
       "      <td>1892977</td>\n",
       "      <td>2038699</td>\n",
       "      <td>2019815</td>\n",
       "    </tr>\n",
       "    <tr>\n",
       "      <th>24</th>\n",
       "      <td>Mato Grosso</td>\n",
       "      <td>Cuiaba</td>\n",
       "      <td>center-west</td>\n",
       "      <td>903378.292</td>\n",
       "      <td>1055</td>\n",
       "      <td>-0.0710</td>\n",
       "      <td>2125648</td>\n",
       "      <td>2404400</td>\n",
       "      <td>2350042</td>\n",
       "    </tr>\n",
       "    <tr>\n",
       "      <th>25</th>\n",
       "      <td>Goias</td>\n",
       "      <td>Goiania</td>\n",
       "      <td>center-west</td>\n",
       "      <td>340111.376</td>\n",
       "      <td>1077</td>\n",
       "      <td>0.3234</td>\n",
       "      <td>4607834</td>\n",
       "      <td>5351325</td>\n",
       "      <td>5285383</td>\n",
       "    </tr>\n",
       "    <tr>\n",
       "      <th>26</th>\n",
       "      <td>Distrito Federal</td>\n",
       "      <td>Brasilia</td>\n",
       "      <td>center-west</td>\n",
       "      <td>5779.999</td>\n",
       "      <td>2252</td>\n",
       "      <td>0.0412</td>\n",
       "      <td>2389727</td>\n",
       "      <td>2449422</td>\n",
       "      <td>2426418</td>\n",
       "    </tr>\n",
       "  </tbody>\n",
       "</table>\n",
       "</div>"
      ],
      "text/plain": [
       "             state_city         capital       region    area_km_2  \\\n",
       "0              Rondonia     Porto Velho        north   237590.543   \n",
       "1                  Acre      Rio Branco        north   164123.739   \n",
       "2              Amazonas          Manaus        north  1559148.890   \n",
       "3               Roraima       Boa Vista        north   224303.187   \n",
       "4                  Para       Bethlehem        north  1247954.320   \n",
       "5                 Amapa          Macapa        north   142828.520   \n",
       "6             Tocantins          Palmas        north   277720.569   \n",
       "7              Maranhao       St. Louis    northeast   331936.948   \n",
       "8                 Piaui        Teresina    northeast   251611.932   \n",
       "9                 Ceara        Fortress    northeast   148886.308   \n",
       "10  Rio Grande do Norte       Christmas    northeast    52811.126   \n",
       "11              Paraiba     Joao Pessoa    northeast    56469.744   \n",
       "12           Pernambuco          Recife    northeast    98076.109   \n",
       "13              Alagoas          Maceio    northeast    27848.003   \n",
       "14              Sergipe         Aracaju    northeast    21918.493   \n",
       "15                Bahia        Salvador    northeast   564733.081   \n",
       "16         Minas Gerais  Belo Horizonte    southeast   586519.727   \n",
       "17       Espirito Santo         Vitoria    southeast    46096.925   \n",
       "18       Rio de Janeiro  Rio de Janeiro    southeast    43777.954   \n",
       "19            Sao Paulo       Sao Paulo    southeast   248222.362   \n",
       "20               Parana        Curitiba        south   199307.945   \n",
       "21       Santa Catarina   Florianopolis        south    95733.978   \n",
       "22    Rio Grande do Sul    Porto Alegre        south   281731.445   \n",
       "23   Mato Grosso do Sul    Campo Grande  center-west   357145.534   \n",
       "24          Mato Grosso          Cuiaba  center-west   903378.292   \n",
       "25                Goias         Goiania  center-west   340111.376   \n",
       "26     Distrito Federal        Brasilia  center-west     5779.999   \n",
       "\n",
       "    percap_inc_month  migration_index_2009  water_supply  toilett_sewarage  \\\n",
       "0                822                0.0307        558011           1112057   \n",
       "1                752                0.0013        309268            494967   \n",
       "2                752                0.2787       2074991           2646457   \n",
       "3               1008                0.0225        328661            339633   \n",
       "4                672               -0.1505       3029918           5096404   \n",
       "5                849                0.2870        292675            515912   \n",
       "6                818               -0.2431       1006844           1055828   \n",
       "7                509               -0.1052       3385992            410774   \n",
       "8                729               -0.1672       1883899           1946071   \n",
       "9                680               -0.0226       5575833           6004977   \n",
       "10               818                0.2379       2350208           2426285   \n",
       "11               776                0.0232       2633916           2782729   \n",
       "12               822               -0.0315       5333507           6046819   \n",
       "13               598               -0.2953       1803606           2214305   \n",
       "14               782                0.0157       1419244           1487582   \n",
       "15               736               -0.2099       8629447           8991908   \n",
       "16              1128                0.0216      15988452          16380125   \n",
       "17              1074                0.3254       2679703           2760935   \n",
       "18              1285               -0.0784      12200996          14320338   \n",
       "19              1482               -0.0474      36825603          37436978   \n",
       "20              1241                0.0845       8480499           8645118   \n",
       "21              1368                0.2611       4479273           4818588   \n",
       "22              1435               -0.0687       8237695           4878367   \n",
       "23              1045                0.0712       1892977           2038699   \n",
       "24              1055               -0.0710       2125648           2404400   \n",
       "25              1077                0.3234       4607834           5351325   \n",
       "26              2252                0.0412       2389727           2449422   \n",
       "\n",
       "    garbage_collection  \n",
       "0              1061417  \n",
       "1               480224  \n",
       "2              2512710  \n",
       "3               332016  \n",
       "4              4749955  \n",
       "5               508198  \n",
       "6              1010516  \n",
       "7              3366745  \n",
       "8              1790108  \n",
       "9              5737435  \n",
       "10             2383269  \n",
       "11             2704281  \n",
       "12             5807287  \n",
       "13             2163464  \n",
       "14             1455905  \n",
       "15             8711092  \n",
       "16            16070952  \n",
       "17             2713975  \n",
       "18            13996850  \n",
       "19            37355378  \n",
       "20             8600749  \n",
       "21             4796232  \n",
       "22             8738535  \n",
       "23             2019815  \n",
       "24             2350042  \n",
       "25             5285383  \n",
       "26             2426418  "
      ]
     },
     "execution_count": 45,
     "metadata": {},
     "output_type": "execute_result"
    }
   ],
   "source": [
    "brazil_areas"
   ]
  },
  {
   "cell_type": "code",
   "execution_count": 66,
   "metadata": {
    "collapsed": true
   },
   "outputs": [],
   "source": [
    "f = open('brazil_areas.save', 'wb')\n",
    "cPickle.dump(brazil_areas,f)\n",
    "f.close()\n"
   ]
  },
  {
   "cell_type": "code",
   "execution_count": 46,
   "metadata": {
    "collapsed": true
   },
   "outputs": [],
   "source": [
    "## Changing Reis to US dollar\n",
    "# 1 USD = 3.42 reals\n",
    "brazil_areas['percap_inc_month'] = (brazil_areas['percap_inc_month']/3.42)"
   ]
  },
  {
   "cell_type": "code",
   "execution_count": 47,
   "metadata": {
    "collapsed": false
   },
   "outputs": [
    {
     "data": {
      "text/html": [
       "<div>\n",
       "<table border=\"1\" class=\"dataframe\">\n",
       "  <thead>\n",
       "    <tr style=\"text-align: right;\">\n",
       "      <th></th>\n",
       "      <th>state_city</th>\n",
       "      <th>capital</th>\n",
       "      <th>region</th>\n",
       "      <th>area_km_2</th>\n",
       "      <th>percap_inc_month</th>\n",
       "      <th>migration_index_2009</th>\n",
       "      <th>water_supply</th>\n",
       "      <th>toilett_sewarage</th>\n",
       "      <th>garbage_collection</th>\n",
       "    </tr>\n",
       "  </thead>\n",
       "  <tbody>\n",
       "    <tr>\n",
       "      <th>0</th>\n",
       "      <td>Rondonia</td>\n",
       "      <td>Porto Velho</td>\n",
       "      <td>north</td>\n",
       "      <td>237590.543</td>\n",
       "      <td>240.350877</td>\n",
       "      <td>0.0307</td>\n",
       "      <td>558011</td>\n",
       "      <td>1112057</td>\n",
       "      <td>1061417</td>\n",
       "    </tr>\n",
       "    <tr>\n",
       "      <th>1</th>\n",
       "      <td>Acre</td>\n",
       "      <td>Rio Branco</td>\n",
       "      <td>north</td>\n",
       "      <td>164123.739</td>\n",
       "      <td>219.883041</td>\n",
       "      <td>0.0013</td>\n",
       "      <td>309268</td>\n",
       "      <td>494967</td>\n",
       "      <td>480224</td>\n",
       "    </tr>\n",
       "  </tbody>\n",
       "</table>\n",
       "</div>"
      ],
      "text/plain": [
       "  state_city      capital region   area_km_2  percap_inc_month  \\\n",
       "0   Rondonia  Porto Velho  north  237590.543        240.350877   \n",
       "1       Acre   Rio Branco  north  164123.739        219.883041   \n",
       "\n",
       "   migration_index_2009  water_supply  toilett_sewarage  garbage_collection  \n",
       "0                0.0307        558011           1112057             1061417  \n",
       "1                0.0013        309268            494967              480224  "
      ]
     },
     "execution_count": 47,
     "metadata": {},
     "output_type": "execute_result"
    }
   ],
   "source": [
    "brazil_areas.head(2)"
   ]
  },
  {
   "cell_type": "code",
   "execution_count": 48,
   "metadata": {
    "collapsed": false
   },
   "outputs": [],
   "source": [
    "f = open('brazil_areas.save', 'wb')\n",
    "cPickle.dump(brazil_areas,f)\n",
    "f.close()\n"
   ]
  },
  {
   "cell_type": "markdown",
   "metadata": {},
   "source": [
    "## Brazil Deforestation\n",
    "http://rainforests.mongabay.com/20brazil.htm"
   ]
  },
  {
   "cell_type": "code",
   "execution_count": 49,
   "metadata": {
    "collapsed": false
   },
   "outputs": [],
   "source": [
    "# brazil_deforestation = pd.read_excel(open('../brazil_deforestation/deforestation_mongabay.xlsx', 'rb'), \n",
    "#                                      sheetname=0, header=0,\n",
    "#                                      index_col =0, skiprows =3,\n",
    "#                                      parse_cols = 'A:J',convert_float = True\n",
    "#                                     )\n",
    "# brazil_deforestation = brazil_deforestation.reset_index()\n",
    "# brazil_deforestation"
   ]
  },
  {
   "cell_type": "code",
   "execution_count": 50,
   "metadata": {
    "collapsed": false
   },
   "outputs": [],
   "source": [
    "# brazil_deforestation.info()"
   ]
  },
  {
   "cell_type": "markdown",
   "metadata": {},
   "source": [
    "### Merging POP data and demographics data"
   ]
  },
  {
   "cell_type": "code",
   "execution_count": 51,
   "metadata": {
    "collapsed": false
   },
   "outputs": [
    {
     "name": "stdout",
     "output_type": "stream",
     "text": [
      "(27, 4) (27, 9) (27, 9)\n"
     ]
    }
   ],
   "source": [
    "print pop2015.shape, pop2016_pct.shape, brazil_areas.shape"
   ]
  },
  {
   "cell_type": "code",
   "execution_count": 52,
   "metadata": {
    "collapsed": false
   },
   "outputs": [
    {
     "name": "stdout",
     "output_type": "stream",
     "text": [
      "[u'Rondonia', u'Acre', u'Amazonas', u'Roraima', u'Para', u'Amapa', u'Tocantins', u'Maranhao', u'Piaui', u'Ceara', u'Rio Grande do Norte', u'Paraiba', u'Pernambuco', u'Alagoas', u'Sergipe', u'Bahia', u'Minas Gerais', u'Espirito Santo', u'Rio de Janeiro', u'Sao Paulo', u'Parana', u'Santa Catarina', u'Rio Grande do Sul', u'Mato Grosso do Sul', u'Mato Grosso', u'Goias', u'Distrito Federal']\n",
      "+++++++++++++++++++++++\n",
      "\n",
      "['Acre', 'Alagoas', 'Amapa', 'Amazonas', 'Bahia', 'Ceara', 'Distrito Federal', 'Espirito Santo', 'Goias', 'Maranhao', 'Mato Grosso', 'Mato Grosso do Sul', 'Minas Gerais', 'Para', 'Paraiba', 'Parana', 'Pernambuco', 'Piaui', 'Rio Grande do Norte', 'Rio Grande do Sul', 'Rio de Janeiro', 'Rondonia', 'Roraima', 'Santa Catarina', 'Sao Paulo', 'Sergipe', 'Tocantins']\n",
      "+++++++++++++++++++++++\n",
      "\n",
      "['Acre', 'Alagoas', 'Amapa', 'Amazonas', 'Bahia', 'Ceara', 'Distrito Federal', 'Espirito Santo', 'Goias', 'Maranhao', 'Mato Grosso', 'Mato Grosso do Sul', 'Minas Gerais', 'Para', 'Paraiba', 'Parana', 'Pernambuco', 'Piaui', 'Rio Grande do Norte', 'Rio Grande do Sul', 'Rio de Janeiro', 'Rondonia', 'Roraima', 'Santa Catarina', 'Sao Paulo', 'Sergipe', 'Tocantins']\n"
     ]
    }
   ],
   "source": [
    "brazil_areas.state_city.sort\n",
    "\n",
    "print brazil_areas.state_city.unique().tolist()\n",
    "print \"+++++++++++++++++++++++\\n\"\n",
    "print pop2016_pct.state_city.unique().tolist()\n",
    "print \"+++++++++++++++++++++++\\n\"\n",
    "print pop2015.state_city.unique().tolist()"
   ]
  },
  {
   "cell_type": "code",
   "execution_count": 53,
   "metadata": {
    "collapsed": false,
    "scrolled": true
   },
   "outputs": [
    {
     "name": "stdout",
     "output_type": "stream",
     "text": [
      "(27, 20)\n"
     ]
    },
    {
     "data": {
      "text/html": [
       "<div>\n",
       "<table border=\"1\" class=\"dataframe\">\n",
       "  <thead>\n",
       "    <tr style=\"text-align: right;\">\n",
       "      <th></th>\n",
       "      <th>state_city</th>\n",
       "      <th>men2015_15-44</th>\n",
       "      <th>women2015_15-44</th>\n",
       "      <th>tot_men_women2015</th>\n",
       "      <th>men2016_15-44</th>\n",
       "      <th>women2016_15-44</th>\n",
       "      <th>tot_men_women2016</th>\n",
       "      <th>child_0-4_feb2016</th>\n",
       "      <th>child_0-4_march2016</th>\n",
       "      <th>child_0-4_apr2016</th>\n",
       "      <th>child_0-4_may2016</th>\n",
       "      <th>child_0-4_jun2016</th>\n",
       "      <th>capital</th>\n",
       "      <th>region</th>\n",
       "      <th>area_km_2</th>\n",
       "      <th>percap_inc_month</th>\n",
       "      <th>migration_index_2009</th>\n",
       "      <th>water_supply</th>\n",
       "      <th>toilett_sewarage</th>\n",
       "      <th>garbage_collection</th>\n",
       "    </tr>\n",
       "  </thead>\n",
       "  <tbody>\n",
       "    <tr>\n",
       "      <th>0</th>\n",
       "      <td>Acre</td>\n",
       "      <td>199932.0</td>\n",
       "      <td>195863.0</td>\n",
       "      <td>803513.0</td>\n",
       "      <td>204141.0</td>\n",
       "      <td>200057.0</td>\n",
       "      <td>816687.0</td>\n",
       "      <td>84492.8</td>\n",
       "      <td>84607</td>\n",
       "      <td>84721.1</td>\n",
       "      <td>84835</td>\n",
       "      <td>84948.7</td>\n",
       "      <td>Rio Branco</td>\n",
       "      <td>north</td>\n",
       "      <td>164123.739</td>\n",
       "      <td>219.883041</td>\n",
       "      <td>0.0013</td>\n",
       "      <td>309268</td>\n",
       "      <td>494967</td>\n",
       "      <td>480224</td>\n",
       "    </tr>\n",
       "    <tr>\n",
       "      <th>1</th>\n",
       "      <td>Alagoas</td>\n",
       "      <td>792350.0</td>\n",
       "      <td>834762.0</td>\n",
       "      <td>3340502.0</td>\n",
       "      <td>797122.0</td>\n",
       "      <td>841628.0</td>\n",
       "      <td>3358527.0</td>\n",
       "      <td>283052</td>\n",
       "      <td>283178</td>\n",
       "      <td>283304</td>\n",
       "      <td>283429</td>\n",
       "      <td>283553</td>\n",
       "      <td>Maceio</td>\n",
       "      <td>northeast</td>\n",
       "      <td>27848.003</td>\n",
       "      <td>174.853801</td>\n",
       "      <td>-0.2953</td>\n",
       "      <td>1803606</td>\n",
       "      <td>2214305</td>\n",
       "      <td>2163464</td>\n",
       "    </tr>\n",
       "  </tbody>\n",
       "</table>\n",
       "</div>"
      ],
      "text/plain": [
       "  state_city  men2015_15-44  women2015_15-44  tot_men_women2015  \\\n",
       "0       Acre       199932.0         195863.0           803513.0   \n",
       "1    Alagoas       792350.0         834762.0          3340502.0   \n",
       "\n",
       "   men2016_15-44  women2016_15-44  tot_men_women2016 child_0-4_feb2016  \\\n",
       "0       204141.0         200057.0           816687.0           84492.8   \n",
       "1       797122.0         841628.0          3358527.0            283052   \n",
       "\n",
       "  child_0-4_march2016 child_0-4_apr2016 child_0-4_may2016 child_0-4_jun2016  \\\n",
       "0               84607           84721.1             84835           84948.7   \n",
       "1              283178            283304            283429            283553   \n",
       "\n",
       "      capital     region   area_km_2  percap_inc_month  migration_index_2009  \\\n",
       "0  Rio Branco      north  164123.739        219.883041                0.0013   \n",
       "1      Maceio  northeast   27848.003        174.853801               -0.2953   \n",
       "\n",
       "   water_supply  toilett_sewarage  garbage_collection  \n",
       "0        309268            494967              480224  \n",
       "1       1803606           2214305             2163464  "
      ]
     },
     "execution_count": 53,
     "metadata": {},
     "output_type": "execute_result"
    }
   ],
   "source": [
    "brazil_pre_clean = pop2015.merge(pop2016_pct, on='state_city')\n",
    "brazil_pre_clean = brazil_pre_clean.merge(brazil_areas, on='state_city')\n",
    "print brazil_pre_clean.shape\n",
    "brazil_pre_clean.head(2)\n"
   ]
  },
  {
   "cell_type": "code",
   "execution_count": 54,
   "metadata": {
    "collapsed": true
   },
   "outputs": [],
   "source": [
    "# f = open('brazil_pre_clean.save', 'wb')\n",
    "# cPickle.dump(brazil_pre_clean,f)\n",
    "# f.close()"
   ]
  },
  {
   "cell_type": "code",
   "execution_count": 55,
   "metadata": {
    "collapsed": true
   },
   "outputs": [],
   "source": [
    "# Population density calculation\n",
    "brazil_pre_clean['pop_dens_2015'] = (brazil_pre_clean['tot_men_women2015']/brazil_pre_clean['area_km_2'])\n",
    "brazil_pre_clean['pop_dens_2016'] = (brazil_pre_clean['tot_men_women2016']/brazil_pre_clean['area_km_2'])"
   ]
  },
  {
   "cell_type": "code",
   "execution_count": 56,
   "metadata": {
    "collapsed": false
   },
   "outputs": [
    {
     "data": {
      "text/html": [
       "<div>\n",
       "<table border=\"1\" class=\"dataframe\">\n",
       "  <thead>\n",
       "    <tr style=\"text-align: right;\">\n",
       "      <th></th>\n",
       "      <th>state_city</th>\n",
       "      <th>tot_men_women2015</th>\n",
       "      <th>pop_dens_2015</th>\n",
       "      <th>tot_men_women2016</th>\n",
       "      <th>pop_dens_2016</th>\n",
       "      <th>area_km_2</th>\n",
       "    </tr>\n",
       "  </thead>\n",
       "  <tbody>\n",
       "    <tr>\n",
       "      <th>0</th>\n",
       "      <td>Acre</td>\n",
       "      <td>803513.0</td>\n",
       "      <td>4.895776</td>\n",
       "      <td>816687.0</td>\n",
       "      <td>4.976044</td>\n",
       "      <td>164123.739</td>\n",
       "    </tr>\n",
       "    <tr>\n",
       "      <th>1</th>\n",
       "      <td>Alagoas</td>\n",
       "      <td>3340502.0</td>\n",
       "      <td>119.954813</td>\n",
       "      <td>3358527.0</td>\n",
       "      <td>120.602077</td>\n",
       "      <td>27848.003</td>\n",
       "    </tr>\n",
       "  </tbody>\n",
       "</table>\n",
       "</div>"
      ],
      "text/plain": [
       "  state_city  tot_men_women2015  pop_dens_2015  tot_men_women2016  \\\n",
       "0       Acre           803513.0       4.895776           816687.0   \n",
       "1    Alagoas          3340502.0     119.954813          3358527.0   \n",
       "\n",
       "   pop_dens_2016   area_km_2  \n",
       "0       4.976044  164123.739  \n",
       "1     120.602077   27848.003  "
      ]
     },
     "execution_count": 56,
     "metadata": {},
     "output_type": "execute_result"
    }
   ],
   "source": [
    "brazil_pre_clean[['state_city','tot_men_women2015','pop_dens_2015','tot_men_women2016','pop_dens_2016','area_km_2']].head(2)"
   ]
  },
  {
   "cell_type": "code",
   "execution_count": 57,
   "metadata": {
    "collapsed": false
   },
   "outputs": [
    {
     "name": "stdout",
     "output_type": "stream",
     "text": [
      "['state_city', 'men2015_15-44', 'women2015_15-44', 'tot_men_women2015', 'men2016_15-44', 'women2016_15-44', 'tot_men_women2016', 'child_0-4_feb2016', 'child_0-4_march2016', 'child_0-4_apr2016', 'child_0-4_may2016', 'child_0-4_jun2016', u'capital', u'region', u'area_km_2', u'percap_inc_month', u'migration_index_2009', u'water_supply', u'toilett_sewarage', u'garbage_collection', 'pop_dens_2015', 'pop_dens_2016']\n"
     ]
    }
   ],
   "source": [
    "print brazil_pre_clean.columns.unique().tolist()"
   ]
  },
  {
   "cell_type": "code",
   "execution_count": 58,
   "metadata": {
    "collapsed": true
   },
   "outputs": [],
   "source": [
    "brazil_pre_clean = brazil_pre_clean[['state_city', 'men2015_15-44', 'women2015_15-44', 'men2016_15-44', \n",
    "'women2016_15-44', 'child_0-4_feb2016', 'child_0-4_march2016', 'child_0-4_apr2016', \n",
    "'child_0-4_may2016', 'child_0-4_jun2016', u'capital', u'region', u'area_km_2', u'percap_inc_month', \n",
    "u'migration_index_2009', u'water_supply', u'toilett_sewarage', u'garbage_collection', 'pop_dens_2015', \n",
    "'pop_dens_2016']]"
   ]
  },
  {
   "cell_type": "code",
   "execution_count": 59,
   "metadata": {
    "collapsed": false
   },
   "outputs": [
    {
     "data": {
      "text/html": [
       "<div>\n",
       "<table border=\"1\" class=\"dataframe\">\n",
       "  <thead>\n",
       "    <tr style=\"text-align: right;\">\n",
       "      <th></th>\n",
       "      <th>state_city</th>\n",
       "      <th>men2015_15-44</th>\n",
       "      <th>women2015_15-44</th>\n",
       "      <th>men2016_15-44</th>\n",
       "      <th>women2016_15-44</th>\n",
       "      <th>child_0-4_feb2016</th>\n",
       "      <th>child_0-4_march2016</th>\n",
       "      <th>child_0-4_apr2016</th>\n",
       "      <th>child_0-4_may2016</th>\n",
       "      <th>child_0-4_jun2016</th>\n",
       "      <th>capital</th>\n",
       "      <th>region</th>\n",
       "      <th>area_km_2</th>\n",
       "      <th>percap_inc_month</th>\n",
       "      <th>migration_index_2009</th>\n",
       "      <th>water_supply</th>\n",
       "      <th>toilett_sewarage</th>\n",
       "      <th>garbage_collection</th>\n",
       "      <th>pop_dens_2015</th>\n",
       "      <th>pop_dens_2016</th>\n",
       "    </tr>\n",
       "  </thead>\n",
       "  <tbody>\n",
       "    <tr>\n",
       "      <th>0</th>\n",
       "      <td>Acre</td>\n",
       "      <td>199932.0</td>\n",
       "      <td>195863.0</td>\n",
       "      <td>204141.0</td>\n",
       "      <td>200057.0</td>\n",
       "      <td>84492.8</td>\n",
       "      <td>84607</td>\n",
       "      <td>84721.1</td>\n",
       "      <td>84835</td>\n",
       "      <td>84948.7</td>\n",
       "      <td>Rio Branco</td>\n",
       "      <td>north</td>\n",
       "      <td>164123.739</td>\n",
       "      <td>219.883041</td>\n",
       "      <td>0.0013</td>\n",
       "      <td>309268</td>\n",
       "      <td>494967</td>\n",
       "      <td>480224</td>\n",
       "      <td>4.895776</td>\n",
       "      <td>4.976044</td>\n",
       "    </tr>\n",
       "    <tr>\n",
       "      <th>1</th>\n",
       "      <td>Alagoas</td>\n",
       "      <td>792350.0</td>\n",
       "      <td>834762.0</td>\n",
       "      <td>797122.0</td>\n",
       "      <td>841628.0</td>\n",
       "      <td>283052</td>\n",
       "      <td>283178</td>\n",
       "      <td>283304</td>\n",
       "      <td>283429</td>\n",
       "      <td>283553</td>\n",
       "      <td>Maceio</td>\n",
       "      <td>northeast</td>\n",
       "      <td>27848.003</td>\n",
       "      <td>174.853801</td>\n",
       "      <td>-0.2953</td>\n",
       "      <td>1803606</td>\n",
       "      <td>2214305</td>\n",
       "      <td>2163464</td>\n",
       "      <td>119.954813</td>\n",
       "      <td>120.602077</td>\n",
       "    </tr>\n",
       "  </tbody>\n",
       "</table>\n",
       "</div>"
      ],
      "text/plain": [
       "  state_city  men2015_15-44  women2015_15-44  men2016_15-44  women2016_15-44  \\\n",
       "0       Acre       199932.0         195863.0       204141.0         200057.0   \n",
       "1    Alagoas       792350.0         834762.0       797122.0         841628.0   \n",
       "\n",
       "  child_0-4_feb2016 child_0-4_march2016 child_0-4_apr2016 child_0-4_may2016  \\\n",
       "0           84492.8               84607           84721.1             84835   \n",
       "1            283052              283178            283304            283429   \n",
       "\n",
       "  child_0-4_jun2016     capital     region   area_km_2  percap_inc_month  \\\n",
       "0           84948.7  Rio Branco      north  164123.739        219.883041   \n",
       "1            283553      Maceio  northeast   27848.003        174.853801   \n",
       "\n",
       "   migration_index_2009  water_supply  toilett_sewarage  garbage_collection  \\\n",
       "0                0.0013        309268            494967              480224   \n",
       "1               -0.2953       1803606           2214305             2163464   \n",
       "\n",
       "   pop_dens_2015  pop_dens_2016  \n",
       "0       4.895776       4.976044  \n",
       "1     119.954813     120.602077  "
      ]
     },
     "execution_count": 59,
     "metadata": {},
     "output_type": "execute_result"
    }
   ],
   "source": [
    "brazil_pre_clean.head(2)"
   ]
  },
  {
   "cell_type": "code",
   "execution_count": 60,
   "metadata": {
    "collapsed": false
   },
   "outputs": [
    {
     "data": {
      "text/html": [
       "<div>\n",
       "<table border=\"1\" class=\"dataframe\">\n",
       "  <thead>\n",
       "    <tr style=\"text-align: right;\">\n",
       "      <th></th>\n",
       "      <th>child_0-4_feb2016</th>\n",
       "      <th>child_0-4_march2016</th>\n",
       "      <th>child_0-4_apr2016</th>\n",
       "      <th>child_0-4_may2016</th>\n",
       "    </tr>\n",
       "  </thead>\n",
       "  <tbody>\n",
       "    <tr>\n",
       "      <th>0</th>\n",
       "      <td>84492.8</td>\n",
       "      <td>84607</td>\n",
       "      <td>84721.1</td>\n",
       "      <td>84835</td>\n",
       "    </tr>\n",
       "    <tr>\n",
       "      <th>1</th>\n",
       "      <td>283052</td>\n",
       "      <td>283178</td>\n",
       "      <td>283304</td>\n",
       "      <td>283429</td>\n",
       "    </tr>\n",
       "    <tr>\n",
       "      <th>2</th>\n",
       "      <td>77168.9</td>\n",
       "      <td>77297.4</td>\n",
       "      <td>77425.7</td>\n",
       "      <td>77554</td>\n",
       "    </tr>\n",
       "    <tr>\n",
       "      <th>3</th>\n",
       "      <td>395795</td>\n",
       "      <td>396318</td>\n",
       "      <td>396840</td>\n",
       "      <td>397360</td>\n",
       "    </tr>\n",
       "    <tr>\n",
       "      <th>4</th>\n",
       "      <td>1.13179e+06</td>\n",
       "      <td>1.13224e+06</td>\n",
       "      <td>1.13269e+06</td>\n",
       "      <td>1.13314e+06</td>\n",
       "    </tr>\n",
       "    <tr>\n",
       "      <th>5</th>\n",
       "      <td>678965</td>\n",
       "      <td>679336</td>\n",
       "      <td>679707</td>\n",
       "      <td>680076</td>\n",
       "    </tr>\n",
       "    <tr>\n",
       "      <th>6</th>\n",
       "      <td>207726</td>\n",
       "      <td>208095</td>\n",
       "      <td>208464</td>\n",
       "      <td>208833</td>\n",
       "    </tr>\n",
       "    <tr>\n",
       "      <th>7</th>\n",
       "      <td>266520</td>\n",
       "      <td>266767</td>\n",
       "      <td>267013</td>\n",
       "      <td>267258</td>\n",
       "    </tr>\n",
       "    <tr>\n",
       "      <th>8</th>\n",
       "      <td>454891</td>\n",
       "      <td>455375</td>\n",
       "      <td>455859</td>\n",
       "      <td>456341</td>\n",
       "    </tr>\n",
       "    <tr>\n",
       "      <th>9</th>\n",
       "      <td>658487</td>\n",
       "      <td>658886</td>\n",
       "      <td>659283</td>\n",
       "      <td>659679</td>\n",
       "    </tr>\n",
       "    <tr>\n",
       "      <th>10</th>\n",
       "      <td>254375</td>\n",
       "      <td>254633</td>\n",
       "      <td>254891</td>\n",
       "      <td>255149</td>\n",
       "    </tr>\n",
       "    <tr>\n",
       "      <th>11</th>\n",
       "      <td>203594</td>\n",
       "      <td>203792</td>\n",
       "      <td>203989</td>\n",
       "      <td>204186</td>\n",
       "    </tr>\n",
       "    <tr>\n",
       "      <th>12</th>\n",
       "      <td>1.34935e+06</td>\n",
       "      <td>1.35004e+06</td>\n",
       "      <td>1.35073e+06</td>\n",
       "      <td>1.35141e+06</td>\n",
       "    </tr>\n",
       "    <tr>\n",
       "      <th>13</th>\n",
       "      <td>758286</td>\n",
       "      <td>759036</td>\n",
       "      <td>759784</td>\n",
       "      <td>760530</td>\n",
       "    </tr>\n",
       "    <tr>\n",
       "      <th>14</th>\n",
       "      <td>304484</td>\n",
       "      <td>304660</td>\n",
       "      <td>304835</td>\n",
       "      <td>305009</td>\n",
       "    </tr>\n",
       "    <tr>\n",
       "      <th>15</th>\n",
       "      <td>736713</td>\n",
       "      <td>737146</td>\n",
       "      <td>737577</td>\n",
       "      <td>738007</td>\n",
       "    </tr>\n",
       "    <tr>\n",
       "      <th>16</th>\n",
       "      <td>706551</td>\n",
       "      <td>706962</td>\n",
       "      <td>707372</td>\n",
       "      <td>707781</td>\n",
       "    </tr>\n",
       "    <tr>\n",
       "      <th>17</th>\n",
       "      <td>244525</td>\n",
       "      <td>244577</td>\n",
       "      <td>244628</td>\n",
       "      <td>244678</td>\n",
       "    </tr>\n",
       "    <tr>\n",
       "      <th>18</th>\n",
       "      <td>255057</td>\n",
       "      <td>255259</td>\n",
       "      <td>255460</td>\n",
       "      <td>255661</td>\n",
       "    </tr>\n",
       "    <tr>\n",
       "      <th>19</th>\n",
       "      <td>670592</td>\n",
       "      <td>670777</td>\n",
       "      <td>670961</td>\n",
       "      <td>671144</td>\n",
       "    </tr>\n",
       "    <tr>\n",
       "      <th>20</th>\n",
       "      <td>1.01577e+06</td>\n",
       "      <td>1.0162e+06</td>\n",
       "      <td>1.01663e+06</td>\n",
       "      <td>1.01706e+06</td>\n",
       "    </tr>\n",
       "    <tr>\n",
       "      <th>21</th>\n",
       "      <td>138202</td>\n",
       "      <td>138325</td>\n",
       "      <td>138448</td>\n",
       "      <td>138570</td>\n",
       "    </tr>\n",
       "    <tr>\n",
       "      <th>22</th>\n",
       "      <td>49915.5</td>\n",
       "      <td>49983.8</td>\n",
       "      <td>50052</td>\n",
       "      <td>50120</td>\n",
       "    </tr>\n",
       "    <tr>\n",
       "      <th>23</th>\n",
       "      <td>436056</td>\n",
       "      <td>436540</td>\n",
       "      <td>437024</td>\n",
       "      <td>437508</td>\n",
       "    </tr>\n",
       "    <tr>\n",
       "      <th>24</th>\n",
       "      <td>2.83304e+06</td>\n",
       "      <td>2.8349e+06</td>\n",
       "      <td>2.83675e+06</td>\n",
       "      <td>2.83859e+06</td>\n",
       "    </tr>\n",
       "    <tr>\n",
       "      <th>25</th>\n",
       "      <td>173659</td>\n",
       "      <td>173806</td>\n",
       "      <td>173952</td>\n",
       "      <td>174098</td>\n",
       "    </tr>\n",
       "    <tr>\n",
       "      <th>26</th>\n",
       "      <td>128668</td>\n",
       "      <td>128793</td>\n",
       "      <td>128917</td>\n",
       "      <td>129041</td>\n",
       "    </tr>\n",
       "  </tbody>\n",
       "</table>\n",
       "</div>"
      ],
      "text/plain": [
       "   child_0-4_feb2016 child_0-4_march2016 child_0-4_apr2016 child_0-4_may2016\n",
       "0            84492.8               84607           84721.1             84835\n",
       "1             283052              283178            283304            283429\n",
       "2            77168.9             77297.4           77425.7             77554\n",
       "3             395795              396318            396840            397360\n",
       "4        1.13179e+06         1.13224e+06       1.13269e+06       1.13314e+06\n",
       "5             678965              679336            679707            680076\n",
       "6             207726              208095            208464            208833\n",
       "7             266520              266767            267013            267258\n",
       "8             454891              455375            455859            456341\n",
       "9             658487              658886            659283            659679\n",
       "10            254375              254633            254891            255149\n",
       "11            203594              203792            203989            204186\n",
       "12       1.34935e+06         1.35004e+06       1.35073e+06       1.35141e+06\n",
       "13            758286              759036            759784            760530\n",
       "14            304484              304660            304835            305009\n",
       "15            736713              737146            737577            738007\n",
       "16            706551              706962            707372            707781\n",
       "17            244525              244577            244628            244678\n",
       "18            255057              255259            255460            255661\n",
       "19            670592              670777            670961            671144\n",
       "20       1.01577e+06          1.0162e+06       1.01663e+06       1.01706e+06\n",
       "21            138202              138325            138448            138570\n",
       "22           49915.5             49983.8             50052             50120\n",
       "23            436056              436540            437024            437508\n",
       "24       2.83304e+06          2.8349e+06       2.83675e+06       2.83859e+06\n",
       "25            173659              173806            173952            174098\n",
       "26            128668              128793            128917            129041"
      ]
     },
     "execution_count": 60,
     "metadata": {},
     "output_type": "execute_result"
    }
   ],
   "source": [
    "brazil_pre_clean[['child_0-4_feb2016', 'child_0-4_march2016', 'child_0-4_apr2016', 'child_0-4_may2016' ]]"
   ]
  },
  {
   "cell_type": "code",
   "execution_count": 61,
   "metadata": {
    "collapsed": true
   },
   "outputs": [],
   "source": [
    "import cPickle\n",
    "f = open('brazil_pre_clean.save', 'wb')\n",
    "cPickle.dump(brazil_pre_clean,f)\n",
    "f.close()"
   ]
  },
  {
   "cell_type": "code",
   "execution_count": 62,
   "metadata": {
    "collapsed": false
   },
   "outputs": [
    {
     "name": "stdout",
     "output_type": "stream",
     "text": [
      "<class 'pandas.core.frame.DataFrame'>\n",
      "Int64Index: 27 entries, 0 to 26\n",
      "Data columns (total 20 columns):\n",
      "state_city              27 non-null object\n",
      "men2015_15-44           27 non-null float64\n",
      "women2015_15-44         27 non-null float64\n",
      "men2016_15-44           27 non-null float64\n",
      "women2016_15-44         27 non-null float64\n",
      "child_0-4_feb2016       27 non-null object\n",
      "child_0-4_march2016     27 non-null object\n",
      "child_0-4_apr2016       27 non-null object\n",
      "child_0-4_may2016       27 non-null object\n",
      "child_0-4_jun2016       27 non-null object\n",
      "capital                 27 non-null object\n",
      "region                  27 non-null object\n",
      "area_km_2               27 non-null float64\n",
      "percap_inc_month        27 non-null float64\n",
      "migration_index_2009    27 non-null float64\n",
      "water_supply            27 non-null int64\n",
      "toilett_sewarage        27 non-null int64\n",
      "garbage_collection      27 non-null int64\n",
      "pop_dens_2015           27 non-null float64\n",
      "pop_dens_2016           27 non-null float64\n",
      "dtypes: float64(9), int64(3), object(8)\n",
      "memory usage: 4.4+ KB\n"
     ]
    }
   ],
   "source": [
    "brazil_pre_clean.info()"
   ]
  },
  {
   "cell_type": "code",
   "execution_count": null,
   "metadata": {
    "collapsed": true
   },
   "outputs": [],
   "source": []
  },
  {
   "cell_type": "code",
   "execution_count": null,
   "metadata": {
    "collapsed": true
   },
   "outputs": [],
   "source": []
  }
 ],
 "metadata": {
  "kernelspec": {
   "display_name": "Python 2",
   "language": "python",
   "name": "python2"
  },
  "language_info": {
   "codemirror_mode": {
    "name": "ipython",
    "version": 2
   },
   "file_extension": ".py",
   "mimetype": "text/x-python",
   "name": "python",
   "nbconvert_exporter": "python",
   "pygments_lexer": "ipython2",
   "version": "2.7.11"
  }
 },
 "nbformat": 4,
 "nbformat_minor": 0
}
