{
 "cells": [
  {
   "cell_type": "markdown",
   "metadata": {},
   "source": [
    "# Deparment of Agronomy Iowa State University\n",
    "https://mesonet.agron.iastate.edu/request/download.phtml?network=BR__ASOS"
   ]
  },
  {
   "cell_type": "code",
   "execution_count": 12,
   "metadata": {
    "collapsed": false,
    "scrolled": false
   },
   "outputs": [],
   "source": [
    "\"\"\"\n",
    "Script that scrapes data from the IEM ASOS download service\n",
    "\"\"\"\n",
    "import json\n",
    "import datetime\n",
    "import urllib2\n",
    "\n",
    "# timestamps in UTC to request data for\n",
    "startts = datetime.datetime(2015, 1, 1)\n",
    "endts = datetime.datetime(2016, 9, 1)\n",
    "\n",
    "SERVICE = \"http://mesonet.agron.iastate.edu/cgi-bin/request/asos.py?\"\n",
    "SERVICE += \"data=all&tz=Etc/UTC&format=comma&latlon=yes&\"\n",
    "\n",
    "SERVICE += startts.strftime('year1=%Y&month1=%m&day1=%d&')\n",
    "SERVICE += endts.strftime('year2=%Y&month2=%m&day2=%d&')\n",
    "\n",
    "# states = \"\"\"AK AL AR AZ CA CO CT DE FL GA HI IA ID IL IN KS KY LA MA MD ME\n",
    "#  MI MN MO MS MT NC ND NE NH NJ NM NV NY OH OK OR PA RI SC SD TN TX UT VA VT\n",
    "#  WA WI WV WY\"\"\"\n",
    "\n",
    "# IEM quirk to have Iowa AWOS sites in its own labeled network\n",
    "networks = ['BR__ASOS']  ### Brazil Code\n",
    "\n",
    "for state in states.split():\n",
    "    networks.append(\"%s_ASOS\" % (state,))\n",
    "\n",
    "for network in networks:\n",
    "    # Get metadata\n",
    "    uri = \"http://mesonet.agron.iastate.edu/geojson/network.php?network=%s\" % (\n",
    "                                                                    network,)\n",
    "    data = urllib2.urlopen(uri)\n",
    "    jdict = json.load(data)\n",
    "    for site in jdict['features']:\n",
    "        faaid = site['properties']['sid']\n",
    "        sitename = site['properties']['sname']\n",
    "        uri = '%s&station=%s' % (SERVICE, faaid)\n",
    "        print 'Network: %s Downloading: %s [%s]' % (network, sitename, faaid)\n",
    "        data = urllib2.urlopen(uri)\n",
    "        outfn = '%s_%s_%s.txt' % (faaid, startts.strftime(\"%Y%m%d%H%M\"),\n",
    "                                  endts.strftime(\"%Y%m%d%H%M\"))\n",
    "        out = open(outfn, 'w')\n",
    "        out.write(data.read())\n",
    "        out.close()"
   ]
  },
  {
   "cell_type": "code",
   "execution_count": 2,
   "metadata": {
    "collapsed": true
   },
   "outputs": [],
   "source": [
    "import pandas as pd\n",
    "import numpy as np\n",
    "import matplotlib.pyplot as plt\n",
    "import seaborn as sns\n",
    "%matplotlib inline\n",
    "%config InlineBackend.figure_formats = ['svg']\n",
    "sns.set_style(\"white\")"
   ]
  },
  {
   "cell_type": "code",
   "execution_count": 3,
   "metadata": {
    "collapsed": false
   },
   "outputs": [],
   "source": [
    "## Reading all the files at once\n",
    "import os  ## Need packages to import various files\n",
    "import glob ## Need packages to import various files\n",
    "\n",
    "path = \"/Users/Javier/Desktop/DSI-SF-1-MAJACACI00/projects/capstone/Zika_data/brazil_weather_data/\"\n",
    "allFiles = glob.glob(os.path.join(path,\"*.txt\"))\n",
    "\n",
    "np_array_list = []\n",
    "for file_ in allFiles:\n",
    "    df = pd.read_csv(file_,skiprows=5)\n",
    "    np_array_list.append(df.as_matrix())\n",
    "\n",
    "comb_np_array = np.vstack(np_array_list)\n",
    "brazil_weather_master = pd.DataFrame(comb_np_array, columns = ['station', 'valid', 'lon', 'lat', 'tmpf', 'dwpf', 'relh', 'drct',\n",
    "                                                      'sknt', 'p01i', 'alti', 'mslp', 'vsby', 'gust', 'skyc1', 'skyc2', \n",
    "                                                      'skyc3', 'skyc4', 'skyl1', 'skyl2', 'skyl3', 'skyl4','presentwx',\n",
    "                                                      'metar'])\n"
   ]
  },
  {
   "cell_type": "code",
   "execution_count": 4,
   "metadata": {
    "collapsed": false
   },
   "outputs": [
    {
     "name": "stdout",
     "output_type": "stream",
     "text": [
      "(1128698, 24)\n",
      "++++++++++++++\n",
      "<class 'pandas.core.frame.DataFrame'>\n",
      "RangeIndex: 1128698 entries, 0 to 1128697\n",
      "Data columns (total 24 columns):\n",
      "station      1128698 non-null object\n",
      "valid        1128698 non-null object\n",
      "lon          1128698 non-null object\n",
      "lat          1128698 non-null object\n",
      "tmpf         1128698 non-null object\n",
      "dwpf         1128698 non-null object\n",
      "relh         1128698 non-null object\n",
      "drct         1128698 non-null object\n",
      "sknt         1128698 non-null object\n",
      "p01i         1128698 non-null object\n",
      "alti         1128698 non-null object\n",
      "mslp         1128698 non-null object\n",
      "vsby         1128698 non-null object\n",
      "gust         1128698 non-null object\n",
      "skyc1        1128698 non-null object\n",
      "skyc2        1128698 non-null object\n",
      "skyc3        1128698 non-null object\n",
      "skyc4        1128698 non-null object\n",
      "skyl1        1128698 non-null object\n",
      "skyl2        1128698 non-null object\n",
      "skyl3        1128698 non-null object\n",
      "skyl4        1128698 non-null object\n",
      "presentwx    1128698 non-null object\n",
      "metar        1128698 non-null object\n",
      "dtypes: object(24)\n",
      "memory usage: 206.7+ MB\n",
      "None\n",
      "+++++++++++++\n",
      "station      0\n",
      "valid        0\n",
      "lon          0\n",
      "lat          0\n",
      "tmpf         0\n",
      "dwpf         0\n",
      "relh         0\n",
      "drct         0\n",
      "sknt         0\n",
      "p01i         0\n",
      "alti         0\n",
      "mslp         0\n",
      "vsby         0\n",
      "gust         0\n",
      "skyc1        0\n",
      "skyc2        0\n",
      "skyc3        0\n",
      "skyc4        0\n",
      "skyl1        0\n",
      "skyl2        0\n",
      "skyl3        0\n",
      "skyl4        0\n",
      "presentwx    0\n",
      "metar        0\n",
      "dtype: int64\n",
      "+++++++++++++\n",
      "2015-01-01 00:00\n",
      "2016-06-09 23:45\n",
      "+++++++++++++\n"
     ]
    },
    {
     "data": {
      "text/html": [
       "<div>\n",
       "<table border=\"1\" class=\"dataframe\">\n",
       "  <thead>\n",
       "    <tr style=\"text-align: right;\">\n",
       "      <th></th>\n",
       "      <th>station</th>\n",
       "      <th>valid</th>\n",
       "      <th>lon</th>\n",
       "      <th>lat</th>\n",
       "      <th>tmpf</th>\n",
       "      <th>dwpf</th>\n",
       "      <th>relh</th>\n",
       "      <th>drct</th>\n",
       "      <th>sknt</th>\n",
       "      <th>p01i</th>\n",
       "      <th>...</th>\n",
       "      <th>skyc1</th>\n",
       "      <th>skyc2</th>\n",
       "      <th>skyc3</th>\n",
       "      <th>skyc4</th>\n",
       "      <th>skyl1</th>\n",
       "      <th>skyl2</th>\n",
       "      <th>skyl3</th>\n",
       "      <th>skyl4</th>\n",
       "      <th>presentwx</th>\n",
       "      <th>metar</th>\n",
       "    </tr>\n",
       "  </thead>\n",
       "  <tbody>\n",
       "    <tr>\n",
       "      <th>0</th>\n",
       "      <td>SBAA</td>\n",
       "      <td>2015-01-02 11:00</td>\n",
       "      <td>-49.2833</td>\n",
       "      <td>-8.25</td>\n",
       "      <td>84.20</td>\n",
       "      <td>77.00</td>\n",
       "      <td>79.04</td>\n",
       "      <td>190.00</td>\n",
       "      <td>3.00</td>\n",
       "      <td>0</td>\n",
       "      <td>...</td>\n",
       "      <td>M</td>\n",
       "      <td>M</td>\n",
       "      <td>M</td>\n",
       "      <td>M</td>\n",
       "      <td>M</td>\n",
       "      <td>M</td>\n",
       "      <td>M</td>\n",
       "      <td>M</td>\n",
       "      <td>M</td>\n",
       "      <td>SBAA 021100Z 19003KT CAVOK 29/25 Q1014</td>\n",
       "    </tr>\n",
       "    <tr>\n",
       "      <th>1</th>\n",
       "      <td>SBAA</td>\n",
       "      <td>2015-01-02 12:00</td>\n",
       "      <td>-49.2833</td>\n",
       "      <td>-8.25</td>\n",
       "      <td>87.80</td>\n",
       "      <td>75.20</td>\n",
       "      <td>66.35</td>\n",
       "      <td>0.00</td>\n",
       "      <td>0.00</td>\n",
       "      <td>0</td>\n",
       "      <td>...</td>\n",
       "      <td>M</td>\n",
       "      <td>M</td>\n",
       "      <td>M</td>\n",
       "      <td>M</td>\n",
       "      <td>M</td>\n",
       "      <td>M</td>\n",
       "      <td>M</td>\n",
       "      <td>M</td>\n",
       "      <td>M</td>\n",
       "      <td>SBAA 021200Z 00000KT CAVOK 31/24 Q1014</td>\n",
       "    </tr>\n",
       "  </tbody>\n",
       "</table>\n",
       "<p>2 rows × 24 columns</p>\n",
       "</div>"
      ],
      "text/plain": [
       "  station             valid      lon   lat   tmpf   dwpf   relh    drct  sknt  \\\n",
       "0    SBAA  2015-01-02 11:00 -49.2833 -8.25  84.20  77.00  79.04  190.00  3.00   \n",
       "1    SBAA  2015-01-02 12:00 -49.2833 -8.25  87.80  75.20  66.35    0.00  0.00   \n",
       "\n",
       "  p01i                   ...                   skyc1 skyc2 skyc3 skyc4 skyl1  \\\n",
       "0    0                   ...                       M     M     M     M     M   \n",
       "1    0                   ...                       M     M     M     M     M   \n",
       "\n",
       "  skyl2 skyl3 skyl4 presentwx                                   metar  \n",
       "0     M     M     M         M  SBAA 021100Z 19003KT CAVOK 29/25 Q1014  \n",
       "1     M     M     M         M  SBAA 021200Z 00000KT CAVOK 31/24 Q1014  \n",
       "\n",
       "[2 rows x 24 columns]"
      ]
     },
     "execution_count": 4,
     "metadata": {},
     "output_type": "execute_result"
    }
   ],
   "source": [
    "print brazil_weather_master.shape\n",
    "print \"++++++++++++++\"\n",
    "print brazil_weather_master.info()\n",
    "print \"+++++++++++++\"\n",
    "print brazil_weather_master.isnull().sum()\n",
    "print \"+++++++++++++\"\n",
    "print brazil_weather_master.valid.min()\n",
    "print brazil_weather_master.valid.max()\n",
    "print \"+++++++++++++\"\n",
    "brazil_weather_master.head(2)"
   ]
  },
  {
   "cell_type": "code",
   "execution_count": 5,
   "metadata": {
    "collapsed": false,
    "scrolled": true
   },
   "outputs": [],
   "source": [
    "## Variables needed for the mosquito outbreak\n",
    "# station,valid, lon, lat, \n",
    "# tmpf: Air Temperature in Fahrenheit, typically @ 2 meters\n",
    "# dwpf: Dew Point Temperature in Fahrenheit, typically @ 2 meters\n",
    "# dew point is a true measurement of the atmospheric moisture\n",
    "# relh: Relative Humidity in %\n",
    "# drct: Wind Direction in degrees from north\n",
    "# sknt: sknt: Wind Speed in knots\n",
    "# p01i: One hour precipitation for the period from the observation time to the time of the previous hourly precipitation reset. \n",
    "# alti: Pressure altimeter in inches\n",
    "\n",
    "brazil_weather = brazil_weather_master[['station','valid','lon','lat','tmpf','dwpf', 'relh','drct','sknt','p01i', 'alti']]\n",
    "import cPickle\n",
    "\n",
    "f = open('brazil_weather.save', 'wb')\n",
    "cPickle.dump(brazil_weather, f)\n",
    "f.close()\n",
    "\n",
    "\n",
    "## No Missing values on lon, lat, p01i"
   ]
  },
  {
   "cell_type": "code",
   "execution_count": 6,
   "metadata": {
    "collapsed": false
   },
   "outputs": [
    {
     "name": "stdout",
     "output_type": "stream",
     "text": [
      "(1128698, 11)\n",
      "\n",
      "=================\n",
      "\n",
      "<class 'pandas.core.frame.DataFrame'>\n",
      "RangeIndex: 1128698 entries, 0 to 1128697\n",
      "Data columns (total 11 columns):\n",
      "station    1128698 non-null object\n",
      "valid      1128698 non-null object\n",
      "lon        1128698 non-null object\n",
      "lat        1128698 non-null object\n",
      "tmpf       1128698 non-null object\n",
      "dwpf       1128698 non-null object\n",
      "relh       1128698 non-null object\n",
      "drct       1128698 non-null object\n",
      "sknt       1128698 non-null object\n",
      "p01i       1128698 non-null object\n",
      "alti       1128698 non-null object\n",
      "dtypes: object(11)\n",
      "memory usage: 94.7+ MB\n",
      "None\n"
     ]
    }
   ],
   "source": [
    "print brazil_weather.shape\n",
    "print \"\\n=================\\n\"\n",
    "print brazil_weather.info()"
   ]
  },
  {
   "cell_type": "code",
   "execution_count": 75,
   "metadata": {
    "collapsed": false
   },
   "outputs": [
    {
     "data": {
      "text/html": [
       "<div>\n",
       "<table border=\"1\" class=\"dataframe\">\n",
       "  <thead>\n",
       "    <tr style=\"text-align: right;\">\n",
       "      <th></th>\n",
       "      <th>station</th>\n",
       "      <th>valid</th>\n",
       "      <th>lon</th>\n",
       "      <th>lat</th>\n",
       "      <th>tmpf</th>\n",
       "      <th>dwpf</th>\n",
       "      <th>relh</th>\n",
       "      <th>drct</th>\n",
       "      <th>sknt</th>\n",
       "      <th>p01i</th>\n",
       "      <th>alti</th>\n",
       "    </tr>\n",
       "  </thead>\n",
       "  <tbody>\n",
       "    <tr>\n",
       "      <th>1693</th>\n",
       "      <td>SBAA</td>\n",
       "      <td>2015-09-02 13:00</td>\n",
       "      <td>-49.2833</td>\n",
       "      <td>-8.25</td>\n",
       "      <td>M</td>\n",
       "      <td>M</td>\n",
       "      <td>M</td>\n",
       "      <td>M</td>\n",
       "      <td>M</td>\n",
       "      <td>0</td>\n",
       "      <td>29.97</td>\n",
       "    </tr>\n",
       "    <tr>\n",
       "      <th>1694</th>\n",
       "      <td>SBAA</td>\n",
       "      <td>2015-09-02 14:00</td>\n",
       "      <td>-49.2833</td>\n",
       "      <td>-8.25</td>\n",
       "      <td>M</td>\n",
       "      <td>M</td>\n",
       "      <td>M</td>\n",
       "      <td>M</td>\n",
       "      <td>M</td>\n",
       "      <td>0</td>\n",
       "      <td>29.94</td>\n",
       "    </tr>\n",
       "    <tr>\n",
       "      <th>1695</th>\n",
       "      <td>SBAA</td>\n",
       "      <td>2015-09-02 15:00</td>\n",
       "      <td>-49.2833</td>\n",
       "      <td>-8.25</td>\n",
       "      <td>M</td>\n",
       "      <td>M</td>\n",
       "      <td>M</td>\n",
       "      <td>M</td>\n",
       "      <td>M</td>\n",
       "      <td>0</td>\n",
       "      <td>29.91</td>\n",
       "    </tr>\n",
       "  </tbody>\n",
       "</table>\n",
       "</div>"
      ],
      "text/plain": [
       "     station             valid      lon   lat tmpf dwpf relh drct sknt p01i  \\\n",
       "1693    SBAA  2015-09-02 13:00 -49.2833 -8.25    M    M    M    M    M    0   \n",
       "1694    SBAA  2015-09-02 14:00 -49.2833 -8.25    M    M    M    M    M    0   \n",
       "1695    SBAA  2015-09-02 15:00 -49.2833 -8.25    M    M    M    M    M    0   \n",
       "\n",
       "       alti  \n",
       "1693  29.97  \n",
       "1694  29.94  \n",
       "1695  29.91  "
      ]
     },
     "execution_count": 75,
     "metadata": {},
     "output_type": "execute_result"
    }
   ],
   "source": [
    "## Missing values on tmpf: Air Temperature in Fahrenheit, typically @ 2 meters\n",
    "brazil_weather[brazil_weather.tmpf==\"M\"].head(3)"
   ]
  },
  {
   "cell_type": "code",
   "execution_count": 11,
   "metadata": {
    "collapsed": false,
    "scrolled": false
   },
   "outputs": [
    {
     "data": {
      "text/plain": [
       "126"
      ]
     },
     "execution_count": 11,
     "metadata": {},
     "output_type": "execute_result"
    }
   ],
   "source": [
    "len (brazil_weather.station.unique().tolist())"
   ]
  },
  {
   "cell_type": "code",
   "execution_count": 76,
   "metadata": {
    "collapsed": false
   },
   "outputs": [
    {
     "data": {
      "text/html": [
       "<div>\n",
       "<table border=\"1\" class=\"dataframe\">\n",
       "  <thead>\n",
       "    <tr style=\"text-align: right;\">\n",
       "      <th></th>\n",
       "      <th>station</th>\n",
       "      <th>valid</th>\n",
       "      <th>lon</th>\n",
       "      <th>lat</th>\n",
       "      <th>tmpf</th>\n",
       "      <th>dwpf</th>\n",
       "      <th>relh</th>\n",
       "      <th>drct</th>\n",
       "      <th>sknt</th>\n",
       "      <th>p01i</th>\n",
       "      <th>alti</th>\n",
       "    </tr>\n",
       "  </thead>\n",
       "  <tbody>\n",
       "    <tr>\n",
       "      <th>1693</th>\n",
       "      <td>SBAA</td>\n",
       "      <td>2015-09-02 13:00</td>\n",
       "      <td>-49.2833</td>\n",
       "      <td>-8.25</td>\n",
       "      <td>M</td>\n",
       "      <td>M</td>\n",
       "      <td>M</td>\n",
       "      <td>M</td>\n",
       "      <td>M</td>\n",
       "      <td>0</td>\n",
       "      <td>29.97</td>\n",
       "    </tr>\n",
       "    <tr>\n",
       "      <th>1694</th>\n",
       "      <td>SBAA</td>\n",
       "      <td>2015-09-02 14:00</td>\n",
       "      <td>-49.2833</td>\n",
       "      <td>-8.25</td>\n",
       "      <td>M</td>\n",
       "      <td>M</td>\n",
       "      <td>M</td>\n",
       "      <td>M</td>\n",
       "      <td>M</td>\n",
       "      <td>0</td>\n",
       "      <td>29.94</td>\n",
       "    </tr>\n",
       "    <tr>\n",
       "      <th>1695</th>\n",
       "      <td>SBAA</td>\n",
       "      <td>2015-09-02 15:00</td>\n",
       "      <td>-49.2833</td>\n",
       "      <td>-8.25</td>\n",
       "      <td>M</td>\n",
       "      <td>M</td>\n",
       "      <td>M</td>\n",
       "      <td>M</td>\n",
       "      <td>M</td>\n",
       "      <td>0</td>\n",
       "      <td>29.91</td>\n",
       "    </tr>\n",
       "  </tbody>\n",
       "</table>\n",
       "</div>"
      ],
      "text/plain": [
       "     station             valid      lon   lat tmpf dwpf relh drct sknt p01i  \\\n",
       "1693    SBAA  2015-09-02 13:00 -49.2833 -8.25    M    M    M    M    M    0   \n",
       "1694    SBAA  2015-09-02 14:00 -49.2833 -8.25    M    M    M    M    M    0   \n",
       "1695    SBAA  2015-09-02 15:00 -49.2833 -8.25    M    M    M    M    M    0   \n",
       "\n",
       "       alti  \n",
       "1693  29.97  \n",
       "1694  29.94  \n",
       "1695  29.91  "
      ]
     },
     "execution_count": 76,
     "metadata": {},
     "output_type": "execute_result"
    }
   ],
   "source": [
    "# relh: Relative Humidity in %\n",
    "brazil_weather[brazil_weather.relh==\"M\"].head(3)"
   ]
  },
  {
   "cell_type": "code",
   "execution_count": 77,
   "metadata": {
    "collapsed": false
   },
   "outputs": [
    {
     "data": {
      "text/html": [
       "<div>\n",
       "<table border=\"1\" class=\"dataframe\">\n",
       "  <thead>\n",
       "    <tr style=\"text-align: right;\">\n",
       "      <th></th>\n",
       "      <th>station</th>\n",
       "      <th>valid</th>\n",
       "      <th>lon</th>\n",
       "      <th>lat</th>\n",
       "      <th>tmpf</th>\n",
       "      <th>dwpf</th>\n",
       "      <th>relh</th>\n",
       "      <th>drct</th>\n",
       "      <th>sknt</th>\n",
       "      <th>p01i</th>\n",
       "      <th>alti</th>\n",
       "    </tr>\n",
       "  </thead>\n",
       "  <tbody>\n",
       "    <tr>\n",
       "      <th>1693</th>\n",
       "      <td>SBAA</td>\n",
       "      <td>2015-09-02 13:00</td>\n",
       "      <td>-49.2833</td>\n",
       "      <td>-8.25</td>\n",
       "      <td>M</td>\n",
       "      <td>M</td>\n",
       "      <td>M</td>\n",
       "      <td>M</td>\n",
       "      <td>M</td>\n",
       "      <td>0</td>\n",
       "      <td>29.97</td>\n",
       "    </tr>\n",
       "    <tr>\n",
       "      <th>1694</th>\n",
       "      <td>SBAA</td>\n",
       "      <td>2015-09-02 14:00</td>\n",
       "      <td>-49.2833</td>\n",
       "      <td>-8.25</td>\n",
       "      <td>M</td>\n",
       "      <td>M</td>\n",
       "      <td>M</td>\n",
       "      <td>M</td>\n",
       "      <td>M</td>\n",
       "      <td>0</td>\n",
       "      <td>29.94</td>\n",
       "    </tr>\n",
       "    <tr>\n",
       "      <th>1695</th>\n",
       "      <td>SBAA</td>\n",
       "      <td>2015-09-02 15:00</td>\n",
       "      <td>-49.2833</td>\n",
       "      <td>-8.25</td>\n",
       "      <td>M</td>\n",
       "      <td>M</td>\n",
       "      <td>M</td>\n",
       "      <td>M</td>\n",
       "      <td>M</td>\n",
       "      <td>0</td>\n",
       "      <td>29.91</td>\n",
       "    </tr>\n",
       "  </tbody>\n",
       "</table>\n",
       "</div>"
      ],
      "text/plain": [
       "     station             valid      lon   lat tmpf dwpf relh drct sknt p01i  \\\n",
       "1693    SBAA  2015-09-02 13:00 -49.2833 -8.25    M    M    M    M    M    0   \n",
       "1694    SBAA  2015-09-02 14:00 -49.2833 -8.25    M    M    M    M    M    0   \n",
       "1695    SBAA  2015-09-02 15:00 -49.2833 -8.25    M    M    M    M    M    0   \n",
       "\n",
       "       alti  \n",
       "1693  29.97  \n",
       "1694  29.94  \n",
       "1695  29.91  "
      ]
     },
     "execution_count": 77,
     "metadata": {},
     "output_type": "execute_result"
    }
   ],
   "source": [
    "# drct: Wind Direction in degrees from north\n",
    "brazil_weather[brazil_weather.drct==\"M\"].head(3)"
   ]
  },
  {
   "cell_type": "code",
   "execution_count": 78,
   "metadata": {
    "collapsed": false
   },
   "outputs": [
    {
     "data": {
      "text/html": [
       "<div>\n",
       "<table border=\"1\" class=\"dataframe\">\n",
       "  <thead>\n",
       "    <tr style=\"text-align: right;\">\n",
       "      <th></th>\n",
       "      <th>station</th>\n",
       "      <th>valid</th>\n",
       "      <th>lon</th>\n",
       "      <th>lat</th>\n",
       "      <th>tmpf</th>\n",
       "      <th>dwpf</th>\n",
       "      <th>relh</th>\n",
       "      <th>drct</th>\n",
       "      <th>sknt</th>\n",
       "      <th>p01i</th>\n",
       "      <th>alti</th>\n",
       "    </tr>\n",
       "  </thead>\n",
       "  <tbody>\n",
       "    <tr>\n",
       "      <th>1693</th>\n",
       "      <td>SBAA</td>\n",
       "      <td>2015-09-02 13:00</td>\n",
       "      <td>-49.2833</td>\n",
       "      <td>-8.25</td>\n",
       "      <td>M</td>\n",
       "      <td>M</td>\n",
       "      <td>M</td>\n",
       "      <td>M</td>\n",
       "      <td>M</td>\n",
       "      <td>0</td>\n",
       "      <td>29.97</td>\n",
       "    </tr>\n",
       "    <tr>\n",
       "      <th>1694</th>\n",
       "      <td>SBAA</td>\n",
       "      <td>2015-09-02 14:00</td>\n",
       "      <td>-49.2833</td>\n",
       "      <td>-8.25</td>\n",
       "      <td>M</td>\n",
       "      <td>M</td>\n",
       "      <td>M</td>\n",
       "      <td>M</td>\n",
       "      <td>M</td>\n",
       "      <td>0</td>\n",
       "      <td>29.94</td>\n",
       "    </tr>\n",
       "    <tr>\n",
       "      <th>1695</th>\n",
       "      <td>SBAA</td>\n",
       "      <td>2015-09-02 15:00</td>\n",
       "      <td>-49.2833</td>\n",
       "      <td>-8.25</td>\n",
       "      <td>M</td>\n",
       "      <td>M</td>\n",
       "      <td>M</td>\n",
       "      <td>M</td>\n",
       "      <td>M</td>\n",
       "      <td>0</td>\n",
       "      <td>29.91</td>\n",
       "    </tr>\n",
       "  </tbody>\n",
       "</table>\n",
       "</div>"
      ],
      "text/plain": [
       "     station             valid      lon   lat tmpf dwpf relh drct sknt p01i  \\\n",
       "1693    SBAA  2015-09-02 13:00 -49.2833 -8.25    M    M    M    M    M    0   \n",
       "1694    SBAA  2015-09-02 14:00 -49.2833 -8.25    M    M    M    M    M    0   \n",
       "1695    SBAA  2015-09-02 15:00 -49.2833 -8.25    M    M    M    M    M    0   \n",
       "\n",
       "       alti  \n",
       "1693  29.97  \n",
       "1694  29.94  \n",
       "1695  29.91  "
      ]
     },
     "execution_count": 78,
     "metadata": {},
     "output_type": "execute_result"
    }
   ],
   "source": [
    "# dwpf: Dew Point Temperature in Fahrenheit, typically @ 2 meters\n",
    "brazil_weather[brazil_weather.dwpf==\"M\"].head(3)"
   ]
  },
  {
   "cell_type": "code",
   "execution_count": 79,
   "metadata": {
    "collapsed": false
   },
   "outputs": [
    {
     "data": {
      "text/html": [
       "<div>\n",
       "<table border=\"1\" class=\"dataframe\">\n",
       "  <thead>\n",
       "    <tr style=\"text-align: right;\">\n",
       "      <th></th>\n",
       "      <th>station</th>\n",
       "      <th>valid</th>\n",
       "      <th>lon</th>\n",
       "      <th>lat</th>\n",
       "      <th>tmpf</th>\n",
       "      <th>dwpf</th>\n",
       "      <th>relh</th>\n",
       "      <th>drct</th>\n",
       "      <th>sknt</th>\n",
       "      <th>p01i</th>\n",
       "      <th>alti</th>\n",
       "    </tr>\n",
       "  </thead>\n",
       "  <tbody>\n",
       "    <tr>\n",
       "      <th>1693</th>\n",
       "      <td>SBAA</td>\n",
       "      <td>2015-09-02 13:00</td>\n",
       "      <td>-49.2833</td>\n",
       "      <td>-8.25</td>\n",
       "      <td>M</td>\n",
       "      <td>M</td>\n",
       "      <td>M</td>\n",
       "      <td>M</td>\n",
       "      <td>M</td>\n",
       "      <td>0</td>\n",
       "      <td>29.97</td>\n",
       "    </tr>\n",
       "    <tr>\n",
       "      <th>1694</th>\n",
       "      <td>SBAA</td>\n",
       "      <td>2015-09-02 14:00</td>\n",
       "      <td>-49.2833</td>\n",
       "      <td>-8.25</td>\n",
       "      <td>M</td>\n",
       "      <td>M</td>\n",
       "      <td>M</td>\n",
       "      <td>M</td>\n",
       "      <td>M</td>\n",
       "      <td>0</td>\n",
       "      <td>29.94</td>\n",
       "    </tr>\n",
       "    <tr>\n",
       "      <th>1695</th>\n",
       "      <td>SBAA</td>\n",
       "      <td>2015-09-02 15:00</td>\n",
       "      <td>-49.2833</td>\n",
       "      <td>-8.25</td>\n",
       "      <td>M</td>\n",
       "      <td>M</td>\n",
       "      <td>M</td>\n",
       "      <td>M</td>\n",
       "      <td>M</td>\n",
       "      <td>0</td>\n",
       "      <td>29.91</td>\n",
       "    </tr>\n",
       "  </tbody>\n",
       "</table>\n",
       "</div>"
      ],
      "text/plain": [
       "     station             valid      lon   lat tmpf dwpf relh drct sknt p01i  \\\n",
       "1693    SBAA  2015-09-02 13:00 -49.2833 -8.25    M    M    M    M    M    0   \n",
       "1694    SBAA  2015-09-02 14:00 -49.2833 -8.25    M    M    M    M    M    0   \n",
       "1695    SBAA  2015-09-02 15:00 -49.2833 -8.25    M    M    M    M    M    0   \n",
       "\n",
       "       alti  \n",
       "1693  29.97  \n",
       "1694  29.94  \n",
       "1695  29.91  "
      ]
     },
     "execution_count": 79,
     "metadata": {},
     "output_type": "execute_result"
    }
   ],
   "source": [
    "# sknt: Wind Speed in knots\n",
    "brazil_weather[brazil_weather.sknt==\"M\"].head(3)"
   ]
  },
  {
   "cell_type": "code",
   "execution_count": 80,
   "metadata": {
    "collapsed": false
   },
   "outputs": [
    {
     "data": {
      "text/html": [
       "<div>\n",
       "<table border=\"1\" class=\"dataframe\">\n",
       "  <thead>\n",
       "    <tr style=\"text-align: right;\">\n",
       "      <th></th>\n",
       "      <th>station</th>\n",
       "      <th>valid</th>\n",
       "      <th>lon</th>\n",
       "      <th>lat</th>\n",
       "      <th>tmpf</th>\n",
       "      <th>dwpf</th>\n",
       "      <th>relh</th>\n",
       "      <th>drct</th>\n",
       "      <th>sknt</th>\n",
       "      <th>p01i</th>\n",
       "      <th>alti</th>\n",
       "    </tr>\n",
       "  </thead>\n",
       "  <tbody>\n",
       "  </tbody>\n",
       "</table>\n",
       "</div>"
      ],
      "text/plain": [
       "Empty DataFrame\n",
       "Columns: [station, valid, lon, lat, tmpf, dwpf, relh, drct, sknt, p01i, alti]\n",
       "Index: []"
      ]
     },
     "execution_count": 80,
     "metadata": {},
     "output_type": "execute_result"
    }
   ],
   "source": [
    "# p01i: One hour precipitation for the period from the observation time to the time of the \n",
    "# previous hourly precipitation reset. \n",
    "brazil_weather[brazil_weather.p01i==\"M\"].head(3)"
   ]
  },
  {
   "cell_type": "code",
   "execution_count": 81,
   "metadata": {
    "collapsed": false
   },
   "outputs": [
    {
     "data": {
      "text/html": [
       "<div>\n",
       "<table border=\"1\" class=\"dataframe\">\n",
       "  <thead>\n",
       "    <tr style=\"text-align: right;\">\n",
       "      <th></th>\n",
       "      <th>station</th>\n",
       "      <th>valid</th>\n",
       "      <th>lon</th>\n",
       "      <th>lat</th>\n",
       "      <th>tmpf</th>\n",
       "      <th>dwpf</th>\n",
       "      <th>relh</th>\n",
       "      <th>drct</th>\n",
       "      <th>sknt</th>\n",
       "      <th>p01i</th>\n",
       "      <th>alti</th>\n",
       "    </tr>\n",
       "  </thead>\n",
       "  <tbody>\n",
       "    <tr>\n",
       "      <th>4214</th>\n",
       "      <td>SBAF</td>\n",
       "      <td>2015-01-29 11:00</td>\n",
       "      <td>-43.3847</td>\n",
       "      <td>-22.8751</td>\n",
       "      <td>M</td>\n",
       "      <td>M</td>\n",
       "      <td>M</td>\n",
       "      <td>320.00</td>\n",
       "      <td>2.00</td>\n",
       "      <td>0</td>\n",
       "      <td>M</td>\n",
       "    </tr>\n",
       "    <tr>\n",
       "      <th>4215</th>\n",
       "      <td>SBAF</td>\n",
       "      <td>2015-01-29 12:00</td>\n",
       "      <td>-43.3847</td>\n",
       "      <td>-22.8751</td>\n",
       "      <td>M</td>\n",
       "      <td>M</td>\n",
       "      <td>M</td>\n",
       "      <td>300.00</td>\n",
       "      <td>3.00</td>\n",
       "      <td>0</td>\n",
       "      <td>M</td>\n",
       "    </tr>\n",
       "    <tr>\n",
       "      <th>4216</th>\n",
       "      <td>SBAF</td>\n",
       "      <td>2015-01-29 13:00</td>\n",
       "      <td>-43.3847</td>\n",
       "      <td>-22.8751</td>\n",
       "      <td>M</td>\n",
       "      <td>M</td>\n",
       "      <td>M</td>\n",
       "      <td>50.00</td>\n",
       "      <td>5.00</td>\n",
       "      <td>0</td>\n",
       "      <td>M</td>\n",
       "    </tr>\n",
       "  </tbody>\n",
       "</table>\n",
       "</div>"
      ],
      "text/plain": [
       "     station             valid      lon      lat tmpf dwpf relh    drct  sknt  \\\n",
       "4214    SBAF  2015-01-29 11:00 -43.3847 -22.8751    M    M    M  320.00  2.00   \n",
       "4215    SBAF  2015-01-29 12:00 -43.3847 -22.8751    M    M    M  300.00  3.00   \n",
       "4216    SBAF  2015-01-29 13:00 -43.3847 -22.8751    M    M    M   50.00  5.00   \n",
       "\n",
       "     p01i alti  \n",
       "4214    0    M  \n",
       "4215    0    M  \n",
       "4216    0    M  "
      ]
     },
     "execution_count": 81,
     "metadata": {},
     "output_type": "execute_result"
    }
   ],
   "source": [
    "# alti: Pressure altimeter in inches\n",
    "brazil_weather[brazil_weather.alti==\"M\"].head(3)"
   ]
  },
  {
   "cell_type": "code",
   "execution_count": 83,
   "metadata": {
    "collapsed": true
   },
   "outputs": [],
   "source": [
    "## I am not going to replace the missing values yet, want to replace them for the mean once I subset the datasets."
   ]
  },
  {
   "cell_type": "code",
   "execution_count": 84,
   "metadata": {
    "collapsed": false,
    "scrolled": true
   },
   "outputs": [
    {
     "name": "stdout",
     "output_type": "stream",
     "text": [
      "<class 'pandas.core.frame.DataFrame'>\n",
      "RangeIndex: 1128698 entries, 0 to 1128697\n",
      "Data columns (total 11 columns):\n",
      "station    1128698 non-null object\n",
      "valid      1128698 non-null object\n",
      "lon        1128698 non-null object\n",
      "lat        1128698 non-null object\n",
      "tmpf       1128698 non-null object\n",
      "dwpf       1128698 non-null object\n",
      "relh       1128698 non-null object\n",
      "drct       1128698 non-null object\n",
      "sknt       1128698 non-null object\n",
      "p01i       1128698 non-null object\n",
      "alti       1128698 non-null object\n",
      "dtypes: object(11)\n",
      "memory usage: 94.7+ MB\n"
     ]
    }
   ],
   "source": [
    "#brazil_weather.mslp = brazil_weather.mslp.map(lambda x: x.replace(\"M\", '0'))\n",
    "brazil_weather.info()"
   ]
  },
  {
   "cell_type": "code",
   "execution_count": 132,
   "metadata": {
    "collapsed": false
   },
   "outputs": [],
   "source": [
    "# brazil_weather.station==\"SBAM\""
   ]
  },
  {
   "cell_type": "markdown",
   "metadata": {},
   "source": [
    "### Acre"
   ]
  },
  {
   "cell_type": "code",
   "execution_count": 94,
   "metadata": {
    "collapsed": false
   },
   "outputs": [
    {
     "data": {
      "text/plain": [
       "array(['SBCZ', 'SBRB', 'SBTK'], dtype=object)"
      ]
     },
     "execution_count": 94,
     "metadata": {},
     "output_type": "execute_result"
    }
   ],
   "source": [
    "acre_weather = brazil_weather[brazil_weather['station'].isin(['SBCZ','SBTK','SBRB'])]\n",
    "acre_weather.station.unique()\n"
   ]
  },
  {
   "cell_type": "markdown",
   "metadata": {},
   "source": [
    "### Sao Paulo"
   ]
  },
  {
   "cell_type": "code",
   "execution_count": 96,
   "metadata": {
    "collapsed": false
   },
   "outputs": [
    {
     "data": {
      "text/plain": [
       "array(['SBAQ', 'SBAU', 'SBBU', 'SBDN', 'SBGR', 'SBGW', 'SBJD', 'SBKP',\n",
       "       'SBML', 'SBMT', 'SBPC', 'SBRP', 'SBSJ', 'SBSP', 'SBSR', 'SBST',\n",
       "       'SBTA', 'SBYS'], dtype=object)"
      ]
     },
     "execution_count": 96,
     "metadata": {},
     "output_type": "execute_result"
    }
   ],
   "source": [
    "sao_paulo_weather = brazil_weather[brazil_weather['station'].isin(['SBDN', 'SBAS', 'SBUP', 'SBFT', 'SBBT', 'SBPC', \n",
    "                                                                   'SBRS', 'SBAU', 'SDVG', 'SBML', 'SBLN', 'SBSR', \n",
    "                                                                   'SBGP', 'SBBU', 'SBRP', 'SBAQ', 'SBSA', 'SBYS', \n",
    "                                                                   'SBKP', 'SBJD', 'SBRQ', 'SBSP', 'SBMT', 'SBGR', \n",
    "                                                                   'SBST', 'SBSJ', 'SBTA', 'SBGW'])]\n",
    "sao_paulo_weather.station.unique()"
   ]
  },
  {
   "cell_type": "markdown",
   "metadata": {},
   "source": [
    "### Amazonas"
   ]
  },
  {
   "cell_type": "code",
   "execution_count": 99,
   "metadata": {
    "collapsed": false
   },
   "outputs": [
    {
     "data": {
      "text/plain": [
       "array(['SBEG', 'SBIC', 'SBMN', 'SBMY', 'SBTF', 'SBTT', 'SBUA', 'SBUY',\n",
       "       'SBYA'], dtype=object)"
      ]
     },
     "execution_count": 99,
     "metadata": {},
     "output_type": "execute_result"
    }
   ],
   "source": [
    "amazonas_weather = brazil_weather[brazil_weather['station'].isin(['SBBA', 'SBER', 'SBBC', 'SBTT', 'SBYA', 'SBUA', \n",
    "                                                                  'SWBC', 'SWPI', 'SBIC', 'SBEG', 'SBMY', 'SBUY', \n",
    "                                                                  'SBUI', 'SBTF', 'SBMN','SBEG'])]\n",
    "amazonas_weather.station.unique()"
   ]
  },
  {
   "cell_type": "markdown",
   "metadata": {},
   "source": [
    "### Espirito Santo"
   ]
  },
  {
   "cell_type": "code",
   "execution_count": 100,
   "metadata": {
    "collapsed": false
   },
   "outputs": [
    {
     "data": {
      "text/plain": [
       "array(['SBVT'], dtype=object)"
      ]
     },
     "execution_count": 100,
     "metadata": {},
     "output_type": "execute_result"
    }
   ],
   "source": [
    "esp_santo_weather = brazil_weather[brazil_weather['station'].isin (['SBVT'])]\n",
    "esp_santo_weather.station.unique()"
   ]
  },
  {
   "cell_type": "markdown",
   "metadata": {},
   "source": [
    "### Amapa"
   ]
  },
  {
   "cell_type": "code",
   "execution_count": 102,
   "metadata": {
    "collapsed": false
   },
   "outputs": [
    {
     "data": {
      "text/plain": [
       "array(['SBMQ', 'SBOI'], dtype=object)"
      ]
     },
     "execution_count": 102,
     "metadata": {},
     "output_type": "execute_result"
    }
   ],
   "source": [
    "amapa_weather = brazil_weather[brazil_weather['station'].isin(['SBMQ','SBAM','SBOI'])]\n",
    "amapa_weather.station.unique()"
   ]
  },
  {
   "cell_type": "markdown",
   "metadata": {},
   "source": [
    "### Sergipe "
   ]
  },
  {
   "cell_type": "code",
   "execution_count": 105,
   "metadata": {
    "collapsed": false
   },
   "outputs": [
    {
     "data": {
      "text/plain": [
       "array(['SBAR'], dtype=object)"
      ]
     },
     "execution_count": 105,
     "metadata": {},
     "output_type": "execute_result"
    }
   ],
   "source": [
    "sergipe_weather = brazil_weather[brazil_weather['station'].isin(['SBAR'])]\n",
    "sergipe_weather.station.unique()"
   ]
  },
  {
   "cell_type": "markdown",
   "metadata": {},
   "source": [
    "### Mato Grosso"
   ]
  },
  {
   "cell_type": "code",
   "execution_count": 106,
   "metadata": {
    "collapsed": false
   },
   "outputs": [
    {
     "data": {
      "text/plain": [
       "array(['SBAT', 'SBBW', 'SBCY', 'SBVH'], dtype=object)"
      ]
     },
     "execution_count": 106,
     "metadata": {},
     "output_type": "execute_result"
    }
   ],
   "source": [
    "mato_groso = brazil_weather[brazil_weather['station'].isin(['SBCY','SBVH','SBAT','SBXI','SBSY','SBBW','SBXV','SBXG'])]\n",
    "mato_groso.station.unique()"
   ]
  },
  {
   "cell_type": "markdown",
   "metadata": {},
   "source": [
    "### Piaui"
   ]
  },
  {
   "cell_type": "code",
   "execution_count": 107,
   "metadata": {
    "collapsed": false
   },
   "outputs": [
    {
     "data": {
      "text/plain": [
       "array(['SBPB', 'SBTE'], dtype=object)"
      ]
     },
     "execution_count": 107,
     "metadata": {},
     "output_type": "execute_result"
    }
   ],
   "source": [
    "piaui_weather = brazil_weather[brazil_weather['station'].isin(['SBTE', 'SBPB'])]\n",
    "piaui_weather.station.unique()"
   ]
  },
  {
   "cell_type": "markdown",
   "metadata": {},
   "source": [
    "### Santa Catarina"
   ]
  },
  {
   "cell_type": "code",
   "execution_count": 108,
   "metadata": {
    "collapsed": false
   },
   "outputs": [
    {
     "data": {
      "text/plain": [
       "array(['SBCH', 'SBCM', 'SBFL', 'SBJV', 'SBNF'], dtype=object)"
      ]
     },
     "execution_count": 108,
     "metadata": {},
     "output_type": "execute_result"
    }
   ],
   "source": [
    "st_cat_weather = brazil_weather[brazil_weather['station'].isin(['SBCH','SBCD','SBLJ', 'SBCM', 'SBTR', 'SBFL',\n",
    "                                                                'SBNF','SBJV'])]\n",
    "st_cat_weather.station.unique()"
   ]
  },
  {
   "cell_type": "markdown",
   "metadata": {},
   "source": [
    "### Parana"
   ]
  },
  {
   "cell_type": "code",
   "execution_count": 109,
   "metadata": {
    "collapsed": false
   },
   "outputs": [
    {
     "data": {
      "text/plain": [
       "array(['SBBI', 'SBCA', 'SBCT', 'SBFI', 'SBGU', 'SBLO', 'SBMG'], dtype=object)"
      ]
     },
     "execution_count": 109,
     "metadata": {},
     "output_type": "execute_result"
    }
   ],
   "source": [
    "parana_weather = brazil_weather[brazil_weather['station'].isin(['SBFI', 'SBCA', 'SBTD', 'SBMG', 'SBLO', 'SBTL', 'SBBI', \n",
    "                                                                'SBCT', 'SBPG', 'SBGU'])]\n",
    "parana_weather.station.unique()\n"
   ]
  },
  {
   "cell_type": "markdown",
   "metadata": {},
   "source": [
    "### Minas Gerais"
   ]
  },
  {
   "cell_type": "code",
   "execution_count": 110,
   "metadata": {
    "collapsed": false
   },
   "outputs": [
    {
     "data": {
      "text/plain": [
       "array(['SBAX', 'SBBH', 'SBBQ', 'SBCF', 'SBIP', 'SBJF', 'SBLS', 'SBMK',\n",
       "       'SBPC', 'SBPR', 'SBUL', 'SBUR'], dtype=object)"
      ]
     },
     "execution_count": 110,
     "metadata": {},
     "output_type": "execute_result"
    }
   ],
   "source": [
    "minas_gerais_weather = brazil_weather[brazil_weather['station'].isin(['SBJF', 'SBPC', 'SBFT', 'SBIT', 'SBUL', 'SBUR', \n",
    "                                                                      'SBAX', 'SBVG', 'SBFU', 'SBAX', 'SBJF', 'SBBQ',\n",
    "                                                                      'SBCF', 'SBPR', 'SBBH', 'SBLS', 'SBIP', 'SBGV', \n",
    "                                                                      'SBMK'])]\n",
    "minas_gerais_weather.station.unique()"
   ]
  },
  {
   "cell_type": "markdown",
   "metadata": {},
   "source": [
    "### Bahia Checked\n"
   ]
  },
  {
   "cell_type": "code",
   "execution_count": 111,
   "metadata": {
    "collapsed": false
   },
   "outputs": [
    {
     "data": {
      "text/plain": [
       "array(['SBIL', 'SBLE', 'SBLP', 'SBPL', 'SBPS', 'SBQV', 'SBSV', 'SBTC',\n",
       "       'SBUF'], dtype=object)"
      ]
     },
     "execution_count": 111,
     "metadata": {},
     "output_type": "execute_result"
    }
   ],
   "source": [
    "bahia_weather = brazil_weather[brazil_weather['station'].isin(['SBCV', 'SBPS', 'SBTC', 'SBIL', 'SBSV', 'SBUF', 'SBPL',\n",
    "                                                               'SBLE', 'SBLP', 'SBQV'])]\n",
    "bahia_weather.station.unique()\n"
   ]
  },
  {
   "cell_type": "markdown",
   "metadata": {},
   "source": [
    "### Pernambuco Checked"
   ]
  },
  {
   "cell_type": "code",
   "execution_count": 114,
   "metadata": {
    "collapsed": false
   },
   "outputs": [
    {
     "data": {
      "text/plain": [
       "array(['SBRF'], dtype=object)"
      ]
     },
     "execution_count": 114,
     "metadata": {},
     "output_type": "execute_result"
    }
   ],
   "source": [
    "pernan_weather = brazil_weather[brazil_weather['station'].isin(['SBRF'])]\n",
    "pernan_weather.station.unique()\n"
   ]
  },
  {
   "cell_type": "markdown",
   "metadata": {},
   "source": [
    "### Roraima"
   ]
  },
  {
   "cell_type": "code",
   "execution_count": 115,
   "metadata": {
    "collapsed": false
   },
   "outputs": [
    {
     "data": {
      "text/plain": [
       "array(['SBBV'], dtype=object)"
      ]
     },
     "execution_count": 115,
     "metadata": {},
     "output_type": "execute_result"
    }
   ],
   "source": [
    "roraima_weather = brazil_weather[brazil_weather['station'].isin(['SBBV'])]\n",
    "roraima_weather.station.unique()"
   ]
  },
  {
   "cell_type": "markdown",
   "metadata": {},
   "source": [
    "### Ceara"
   ]
  },
  {
   "cell_type": "code",
   "execution_count": 116,
   "metadata": {
    "collapsed": false
   },
   "outputs": [
    {
     "data": {
      "text/plain": [
       "array(['SBJU'], dtype=object)"
      ]
     },
     "execution_count": 116,
     "metadata": {},
     "output_type": "execute_result"
    }
   ],
   "source": [
    "ceara_weather = brazil_weather[brazil_weather['station'].isin(['SBPZ', 'SBJU'])]\n",
    "ceara_weather.station.unique()"
   ]
  },
  {
   "cell_type": "markdown",
   "metadata": {},
   "source": [
    "### Alagoas"
   ]
  },
  {
   "cell_type": "code",
   "execution_count": 117,
   "metadata": {
    "collapsed": false
   },
   "outputs": [
    {
     "data": {
      "text/plain": [
       "array(['SBMO', 'SBUF'], dtype=object)"
      ]
     },
     "execution_count": 117,
     "metadata": {},
     "output_type": "execute_result"
    }
   ],
   "source": [
    "alagoas_weather = brazil_weather[brazil_weather['station'].isin(['SBMO', 'SBUF'])]\n",
    "alagoas_weather.station.unique()"
   ]
  },
  {
   "cell_type": "markdown",
   "metadata": {},
   "source": [
    "### Maranhao"
   ]
  },
  {
   "cell_type": "code",
   "execution_count": 118,
   "metadata": {
    "collapsed": false
   },
   "outputs": [
    {
     "data": {
      "text/plain": [
       "array(['SBCI', 'SBIZ', 'SBPB', 'SBSL', 'SBTE'], dtype=object)"
      ]
     },
     "execution_count": 118,
     "metadata": {},
     "output_type": "execute_result"
    }
   ],
   "source": [
    "maranhao_weather = brazil_weather[brazil_weather['station'].isin(['SBCI', 'SBIZ', 'SBSL', 'SBPB', 'SBTE'])]\n",
    "maranhao_weather.station.unique()\n"
   ]
  },
  {
   "cell_type": "markdown",
   "metadata": {},
   "source": [
    "### Mato Grosso do Sul"
   ]
  },
  {
   "cell_type": "code",
   "execution_count": 119,
   "metadata": {
    "collapsed": false
   },
   "outputs": [
    {
     "data": {
      "text/plain": [
       "array(['SBCG', 'SBCR', 'SBPP'], dtype=object)"
      ]
     },
     "execution_count": 119,
     "metadata": {},
     "output_type": "execute_result"
    }
   ],
   "source": [
    "mato_grosso_sul = brazil_weather[brazil_weather['station'].isin(['SBPP', 'SBCR', 'SBCG', 'SBUP'])]\n",
    "mato_grosso_sul.station.unique()\n"
   ]
  },
  {
   "cell_type": "markdown",
   "metadata": {},
   "source": [
    "### Rio Grande do Norte"
   ]
  },
  {
   "cell_type": "code",
   "execution_count": 120,
   "metadata": {
    "collapsed": false
   },
   "outputs": [
    {
     "data": {
      "text/plain": [
       "array(['SBMS', 'SBNT', 'SBSG'], dtype=object)"
      ]
     },
     "execution_count": 120,
     "metadata": {},
     "output_type": "execute_result"
    }
   ],
   "source": [
    "rio_grande_norte = brazil_weather[brazil_weather['station'].isin(['SBMS', 'SBSG', 'SBNT'])]\n",
    "rio_grande_norte.station.unique()\n"
   ]
  },
  {
   "cell_type": "markdown",
   "metadata": {},
   "source": [
    "### Rio de Janeiro"
   ]
  },
  {
   "cell_type": "code",
   "execution_count": 122,
   "metadata": {
    "collapsed": false
   },
   "outputs": [
    {
     "data": {
      "text/plain": [
       "array(['SBAF', 'SBCB', 'SBCP', 'SBFS', 'SBGL', 'SBJR', 'SBME', 'SBRJ',\n",
       "       'SBSC'], dtype=object)"
      ]
     },
     "execution_count": 122,
     "metadata": {},
     "output_type": "execute_result"
    }
   ],
   "source": [
    "rio_jan = brazil_weather[brazil_weather['station'].isin(['SBRS', 'SBSC', 'SBJR', 'SBAF', 'SBRJ', 'SBGL', 'SBCB', 'SBES'\n",
    "                                                        'SBBZ', 'SBME', 'SBFS', 'SBCP'])]\n",
    "rio_jan.station.unique()\n",
    "\n"
   ]
  },
  {
   "cell_type": "markdown",
   "metadata": {},
   "source": [
    "### Rio Grande do Sul"
   ]
  },
  {
   "cell_type": "code",
   "execution_count": 124,
   "metadata": {
    "collapsed": false
   },
   "outputs": [
    {
     "data": {
      "text/plain": [
       "array(['SBBG', 'SBCO', 'SBCX', 'SBPA', 'SBPF', 'SBPK', 'SBSM', 'SBUG'], dtype=object)"
      ]
     },
     "execution_count": 124,
     "metadata": {},
     "output_type": "execute_result"
    }
   ],
   "source": [
    "rio_grande_sul = brazil_weather[brazil_weather['station'].isin(['SBRG', 'SBPK', 'SBBG', 'SBUG', 'SBNM', 'SBSM', 'SBPF', 'SBCX', \n",
    "                                                                'SBTR', 'SBPA', 'SBCO'])]\n",
    "rio_grande_sul.station.unique()\n"
   ]
  },
  {
   "cell_type": "markdown",
   "metadata": {},
   "source": [
    "### Rondonia"
   ]
  },
  {
   "cell_type": "code",
   "execution_count": 126,
   "metadata": {
    "collapsed": false
   },
   "outputs": [
    {
     "data": {
      "text/plain": [
       "array(['SBGM', 'SBPV', 'SBVH'], dtype=object)"
      ]
     },
     "execution_count": 126,
     "metadata": {},
     "output_type": "execute_result"
    }
   ],
   "source": [
    "rondonia_weather = brazil_weather[brazil_weather['station'].isin(['SBVH', 'SBGM', 'SBPV'])]\n",
    "rondonia_weather.station.unique()\n"
   ]
  },
  {
   "cell_type": "markdown",
   "metadata": {},
   "source": [
    "### Paraiba"
   ]
  },
  {
   "cell_type": "code",
   "execution_count": 127,
   "metadata": {
    "collapsed": false
   },
   "outputs": [
    {
     "data": {
      "text/plain": [
       "array(['SBJP', 'SBKG'], dtype=object)"
      ]
     },
     "execution_count": 127,
     "metadata": {},
     "output_type": "execute_result"
    }
   ],
   "source": [
    "paraiba_weather = brazil_weather[brazil_weather['station'].isin(['SBKG', 'SBJP'])]\n",
    "paraiba_weather.station.unique()"
   ]
  },
  {
   "cell_type": "markdown",
   "metadata": {},
   "source": [
    "### Para"
   ]
  },
  {
   "cell_type": "code",
   "execution_count": 128,
   "metadata": {
    "collapsed": false
   },
   "outputs": [
    {
     "data": {
      "text/plain": [
       "array(['SBJP', 'SBKG'], dtype=object)"
      ]
     },
     "execution_count": 128,
     "metadata": {},
     "output_type": "execute_result"
    }
   ],
   "source": [
    "para_weather = brazil_weather[brazil_weather['station'].isin(['SBXI', 'SBEK', 'SBIH', 'SBSN', 'SBTB', 'SBTS', 'SBMD',\n",
    "                                                              'SBMZ', 'SBBE', 'SBTU', 'SBMA', 'SBCJ', 'SBHT', 'SBMZ', \n",
    "                                                              'SBTU'])]\n",
    "paraiba_weather.station.unique()\n"
   ]
  },
  {
   "cell_type": "markdown",
   "metadata": {},
   "source": [
    "### Tocantins "
   ]
  },
  {
   "cell_type": "code",
   "execution_count": 129,
   "metadata": {
    "collapsed": false
   },
   "outputs": [
    {
     "data": {
      "text/plain": [
       "array(['SBAA', 'SBCI', 'SBIZ', 'SBPJ', 'SBPN'], dtype=object)"
      ]
     },
     "execution_count": 129,
     "metadata": {},
     "output_type": "execute_result"
    }
   ],
   "source": [
    "tocatins_weather = brazil_weather[brazil_weather['station'].isin(['SBSY', 'SBAA', 'SBIZ', 'SBCI', 'SBPJ', 'SBPN'])]\n",
    "tocatins_weather.station.unique()"
   ]
  },
  {
   "cell_type": "markdown",
   "metadata": {},
   "source": [
    "### Distrito Federal"
   ]
  },
  {
   "cell_type": "code",
   "execution_count": 130,
   "metadata": {
    "collapsed": false
   },
   "outputs": [
    {
     "data": {
      "text/plain": [
       "array(['SBBR'], dtype=object)"
      ]
     },
     "execution_count": 130,
     "metadata": {},
     "output_type": "execute_result"
    }
   ],
   "source": [
    "## Consider Combining Distrito Federal with Goias\n",
    "dist_fed_weather = brazil_weather[brazil_weather['station'].isin(['SBBR', 'SBGA'])]\n",
    "dist_fed_weather.station.unique()"
   ]
  },
  {
   "cell_type": "markdown",
   "metadata": {},
   "source": [
    "### Goias"
   ]
  },
  {
   "cell_type": "code",
   "execution_count": 131,
   "metadata": {
    "collapsed": false
   },
   "outputs": [
    {
     "data": {
      "text/plain": [
       "array(['SBAN', 'SBBR', 'SBGO'], dtype=object)"
      ]
     },
     "execution_count": 131,
     "metadata": {},
     "output_type": "execute_result"
    }
   ],
   "source": [
    "goias_weather = brazil_weather[brazil_weather['station'].isin(['SBIT', 'SBCN', 'SBGO', 'SBAN', 'SBGA', 'SBBR', 'SBMC'])]\n",
    "goias_weather.station.unique()\n"
   ]
  },
  {
   "cell_type": "code",
   "execution_count": 47,
   "metadata": {
    "collapsed": false
   },
   "outputs": [],
   "source": [
    "# var_list = brazil_weather.columns.tolist()\n",
    "var_list = ['lon','lat','tmpf','dwpf', 'relh','drct','sknt','p01i', 'alti','mslp']\n",
    "brazil_weather.tmpf = brazil_weather.tmpf.apply(pd.to_numeric, errors='coerce')\n",
    "\n",
    "# brazil_weather.tmpf = brazil_weather.tmpf.map(int_replace)\n",
    "# brazil_weather.tmpf = brazil_weather.tmpf.astype(int) \n",
    "\n",
    "# brazil_frame.tmpf = brazil_frame.tmpf.map(int_replace)\n",
    "# brazil_frame.tmpf = brazil_frame.tmpf.astype(int)\n",
    "# print brazil_frame.value.dtype\n"
   ]
  },
  {
   "cell_type": "code",
   "execution_count": null,
   "metadata": {
    "collapsed": true
   },
   "outputs": [],
   "source": [
    "pred_data = pred_data.apply(pd.to_numeric, errors='coerce')"
   ]
  },
  {
   "cell_type": "markdown",
   "metadata": {},
   "source": [
    "### Acre\n",
    "Stations\n",
    "SBTK TARAUCA\n",
    "SBCZ CUZEIRO DO SUL\n",
    "SBRB RIO BRANCO/MEDIC"
   ]
  },
  {
   "cell_type": "code",
   "execution_count": null,
   "metadata": {
    "collapsed": true
   },
   "outputs": [],
   "source": [
    "\n",
    "path = '../brazil_weather_data/Acre/asos.txt'\n",
    "acre_weather = pd.read_csv(path, skiprows=5)\n",
    "print \"Shape of Data\", acre_weather.shape\n",
    "print \"++++++++++++++\\n\"\n",
    "print \"Weather Stations Code Name:\"\n",
    "print acre_weather.station.value_counts()\n",
    "print \"++++++++++++++\\n\"\n",
    "acre_weather.head(1)"
   ]
  },
  {
   "cell_type": "code",
   "execution_count": 10,
   "metadata": {
    "collapsed": false
   },
   "outputs": [
    {
     "data": {
      "text/plain": [
       "SBAA    1020\n",
       "Name: station, dtype: int64"
      ]
     },
     "execution_count": 10,
     "metadata": {},
     "output_type": "execute_result"
    }
   ],
   "source": [
    "df.station.value_counts()"
   ]
  },
  {
   "cell_type": "code",
   "execution_count": null,
   "metadata": {
    "collapsed": true
   },
   "outputs": [],
   "source": []
  }
 ],
 "metadata": {
  "kernelspec": {
   "display_name": "Python 2",
   "language": "python",
   "name": "python2"
  },
  "language_info": {
   "codemirror_mode": {
    "name": "ipython",
    "version": 2
   },
   "file_extension": ".py",
   "mimetype": "text/x-python",
   "name": "python",
   "nbconvert_exporter": "python",
   "pygments_lexer": "ipython2",
   "version": "2.7.11"
  }
 },
 "nbformat": 4,
 "nbformat_minor": 0
}
