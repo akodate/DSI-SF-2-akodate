{
 "cells": [
  {
   "cell_type": "markdown",
   "metadata": {},
   "source": [
    "### Code used to scrape all of the fighter information on currently contracted UFC fighters from the UFC official website."
   ]
  },
  {
   "cell_type": "code",
   "execution_count": 107,
   "metadata": {
    "collapsed": true
   },
   "outputs": [],
   "source": [
    "import numpy as np"
   ]
  },
  {
   "cell_type": "code",
   "execution_count": 436,
   "metadata": {
    "collapsed": true
   },
   "outputs": [],
   "source": [
    "import requests\n",
    "from scrapy.selector import Selector"
   ]
  },
  {
   "cell_type": "code",
   "execution_count": 62,
   "metadata": {
    "collapsed": true
   },
   "outputs": [],
   "source": [
    "#Scraping to create a list of fighters currently\n",
    "fighter_name = []\n",
    "for i in range(31):\n",
    "    response = requests.get('http://www.ufc.com/fighter/Weight_Class?offset=%d&max=20&sort=lastName&order=asc' % (i *20))\n",
    "    HTML = response.text\n",
    "    name = Selector(text=HTML).xpath('//*[@id=\"weightClass-details\"]/*//td/*/img/@alt').extract()\n",
    "    fighter_name.append(name)"
   ]
  },
  {
   "cell_type": "code",
   "execution_count": 172,
   "metadata": {
    "collapsed": false
   },
   "outputs": [],
   "source": [
    "#removing the fighter names from a list of lists and making them into one single list\n",
    "\n",
    "fighter_list = []\n",
    "for lists in fighter_name:\n",
    "    fighter_lists = lists\n",
    "    for name in fighter_lists:\n",
    "        x = name\n",
    "        fighter_list.append(x)"
   ]
  },
  {
   "cell_type": "code",
   "execution_count": 173,
   "metadata": {
    "collapsed": false
   },
   "outputs": [],
   "source": [
    "#adding in the dashes to allow me to scrape each fighters individual page\n",
    "\n",
    "dash_fighter = []\n",
    "for fighter in fighter_list:\n",
    "    x = fighter.replace(' ', '-')\n",
    "    dash_fighter.append(x)"
   ]
  },
  {
   "cell_type": "code",
   "execution_count": 292,
   "metadata": {
    "collapsed": false
   },
   "outputs": [
    {
     "data": {
      "text/plain": [
       "[u'Shamil-Abdurakhimov',\n",
       " u'Ricardo-Abreu',\n",
       " u'Jessica-Aguilar',\n",
       " u'Omari-Akhmedov',\n",
       " u'Yoshihiro-Akiyama',\n",
       " u'Alexandra-Albu',\n",
       " u'Iuri-Alcantara',\n",
       " u'Jose-Aldo',\n",
       " u'Jim-Alers',\n",
       " u'Sultan-Aliev',\n",
       " u'Arnold-Allen',\n",
       " u'Ericka-Almeida',\n",
       " u'Thomas-Almeida',\n",
       " u'Eddie-Alvarez',\n",
       " u'Thiago-Alves',\n",
       " u'Warlley-Alves',\n",
       " u'Sam-Alvey',\n",
       " u'Adlan-Amagov',\n",
       " u'Makwan-Amirkhani',\n",
       " u'Corey-Anderson',\n",
       " u'Jessica-Andrade',\n",
       " u'Viscardi-Andrade',\n",
       " u'Nina-Ansaroff',\n",
       " u'Shinsho-Anzai',\n",
       " u'Felipe-Arantes',\n",
       " u'Andrei-Arlovski',\n",
       " u'Cesar-Arzamendia',\n",
       " u'Cyril-Asker',\n",
       " u'Scott-Askham',\n",
       " u'Raphael-Assuncao',\n",
       " u'Olivier-Aubin-Mercier',\n",
       " u'Leonardo-Augusto-Guimaraes',\n",
       " u'Seth-Baczynski',\n",
       " u'Ryan-Bader',\n",
       " u'Izabela-Badurek',\n",
       " u'Ali-Bagautinov',\n",
       " u'Mehdi-Baghdad',\n",
       " u'Siyar-Bahadurzada',\n",
       " u'Oluwale-Bamgbose',\n",
       " u'Tae-Hyun-Bang',\n",
       " u'Renan-Barao',\n",
       " u'Bryan-Barberena',\n",
       " u'Edson-Barboza',\n",
       " u'Josh-Barnett',\n",
       " u'Francimar-Barroso',\n",
       " u'Enrique-Barzola',\n",
       " u'Chris-Beal',\n",
       " u'Mirsad-Bektic',\n",
       " u'Alan-Belcher',\n",
       " u'Vitor-Belfort',\n",
       " u'Marco-Beltran',\n",
       " u'Joseph-Benavidez',\n",
       " u'Gabriel-Benitez',\n",
       " u'Lance-Benoist',\n",
       " u'Ryan-Benoit',\n",
       " u'Keith-Berish',\n",
       " u'Dennis-Bermudez',\n",
       " u'Anthony-Birchak',\n",
       " u'Michael-Bisping',\n",
       " u'Jan-Blachowicz',\n",
       " u'Maximo-Blanco',\n",
       " u'Curtis-Blaydes',\n",
       " u'Mark-Bocek',\n",
       " u'Kyle-Bochniak',\n",
       " u'Tim-Boetsch',\n",
       " u'Stephan-Bonnar',\n",
       " u'Ray-Borg',\n",
       " u'Steve-Bosse',\n",
       " u'Tom-Breese',\n",
       " u'Marcus-Brimage',\n",
       " u'Henry-Briones',\n",
       " u'Damien-Brown',\n",
       " u'Matt-Brown',\n",
       " u'Mike-Brown',\n",
       " u'Randy-Brown',\n",
       " u'Travis-Browne',\n",
       " u'Fernando-Bruno',\n",
       " u'Derek-Brunson',\n",
       " u'josh-Burkman',\n",
       " u'Gilbert-Burns',\n",
       " u'Bubba-Bush',\n",
       " u'Yan-Cabral',\n",
       " u'Alex-Caceres',\n",
       " u'Joanne-Calderwood',\n",
       " u'Chris-Camozzi',\n",
       " u'Shane-Campbell',\n",
       " u'Chico-Camus',\n",
       " u'Guido-Cannetti',\n",
       " u'Jared-Cannonier',\n",
       " u'Bryan-Caraway',\n",
       " u'antonio-carlos',\n",
       " u'Liz-Carmouche',\n",
       " u'Roan-Carneiro',\n",
       " u'Shane-Carwin',\n",
       " u'Johnny-Case',\n",
       " u'Cortney-Casey',\n",
       " u'Kevin-Casey',\n",
       " u'Nick-Catone',\n",
       " u'Magnus-Cedenblad',\n",
       " u'Henry-Cejudo',\n",
       " u'Donald-Cerrone',\n",
       " u'Luan-Chagas',\n",
       " u'Alex-Chambers',\n",
       " u'Michael-Chiesa',\n",
       " u'dooho-choi',\n",
       " u'Misha-Cirkunov',\n",
       " u'heather-Clark',\n",
       " u'Mitch-Clarke',\n",
       " u'Clay-Collard',\n",
       " u'Jake-Collier',\n",
       " u'Carlos-Condit',\n",
       " u'Daniel-Cormier',\n",
       " u'Bethe-Correia',\n",
       " u'Patrick-Cote',\n",
       " u'Colby-Covington',\n",
       " u'Nathan-Coy',\n",
       " u'Mirko-Cro-Cop',\n",
       " u'Dominick-Cruz',\n",
       " u'Zak-Cummings',\n",
       " u'Patrick-Cummins',\n",
       " u'Kailin-Curran',\n",
       " u'Ion-Cutelaba',\n",
       " u'Cris-Cyborg',\n",
       " u'luiz-henrique-da-silva',\n",
       " u'Nicolas-Dalby',\n",
       " u'Aisling-Daly',\n",
       " u'Jarjis-Danho',\n",
       " u'Beneil-Dariush',\n",
       " u'Alexis-Davis',\n",
       " u'Chris-De-La-Rocha',\n",
       " u'Mike-De-La-Torre',\n",
       " u'germaine-DeRandamie',\n",
       " u'Alessio-Di-Chirico',\n",
       " u'Cyrille-Diabate',\n",
       " u'Hacran-Dias',\n",
       " u'Nate-Diaz',\n",
       " u'Nick-Diaz',\n",
       " u'TJ-Dillashaw',\n",
       " u'Russell-Doane',\n",
       " u'Drew-Dober',\n",
       " u'John-Dodson',\n",
       " u'CB-Dollaway',\n",
       " u'Rafael-Dos-Anjos',\n",
       " u'Junior-Dos-Santos',\n",
       " u'Milana-Dudieva',\n",
       " u'Todd-Duffee',\n",
       " u'joseph-duffy',\n",
       " u'Jessamyn-Duke',\n",
       " u'Evan-Dunham',\n",
       " u'Cody-East',\n",
       " u'Frankie-Edgar',\n",
       " u'Abdul-Kerim-Edilov',\n",
       " u'Johnny-Eduardo',\n",
       " u'Leon-Edwards',\n",
       " u'Yves-Edwards',\n",
       " u'Darren-Elkins',\n",
       " u'Jake-Ellenberger',\n",
       " u'Joe-Ellenberger',\n",
       " u'Anna-Elmose',\n",
       " u'Josh-Emmett',\n",
       " u'Ian-Entwistle',\n",
       " u'Efrain-Escudero',\n",
       " u'Carla-Esparza',\n",
       " u'Rashad-Evans',\n",
       " u'Ashlee-Evans-Smith',\n",
       " u'Jessica-Eye',\n",
       " u'Urijah-Faber',\n",
       " u'Bartosz-Fabinski',\n",
       " u'Kelly-Faszholz',\n",
       " u'Paul-Felder',\n",
       " u'Tony-Ferguson',\n",
       " u'Cezar-Ferreira',\n",
       " u'carlos-Diego-Ferreira',\n",
       " u'Andre-Fili',\n",
       " u'Spencer-Fisher',\n",
       " u'Kenny-Florian',\n",
       " u'Rob-Font',\n",
       " u'Jussier-Formiga',\n",
       " u'Glaico-Franca',\n",
       " u'Rich-Franklin',\n",
       " u'Masio-Fullen',\n",
       " u'Claudia-Gadelha',\n",
       " u'Mitch-Gagnon',\n",
       " u'Mickey-Gall',\n",
       " u'Manny-Gamburyan',\n",
       " u'Cody-Garbrandt',\n",
       " u'Alex-Garcia',\n",
       " u'Kelvin-Gastelum',\n",
       " u'Willie-Gates',\n",
       " u'Joey-Gomez',\n",
       " u'Takanori-Gomi',\n",
       " u'Gabriel-Gonzaga',\n",
       " u'Lyman-Good',\n",
       " u'Thibault-Gouti',\n",
       " u'Damian-Grabowski',\n",
       " u'Royce-Gracie',\n",
       " u'david-Grant',\n",
       " u'TJ-Grant',\n",
       " u'Michael-Graves',\n",
       " u'Bobby-Green',\n",
       " u'Matt-Grice',\n",
       " u'Forrest-Griffin',\n",
       " u'Chris-Gruetzemacher',\n",
       " u'guangyou-Ning',\n",
       " u'Clay-Guida',\n",
       " u'Marcelo-Guimaraes',\n",
       " u'Alexander-Gustafsson',\n",
       " u'Horacio-Gutierrez',\n",
       " u'Damir-Hadzovic',\n",
       " u'Ryan-Hall',\n",
       " u'Uriah-Hall',\n",
       " u'Piotr-Hallmann',\n",
       " u'Seohee-Ham',\n",
       " u'Anthony-Hamilton',\n",
       " u'Antoni-Hardonk',\n",
       " u'Dan-Hardy',\n",
       " u'Walt-Harris',\n",
       " u'John-Hathaway',\n",
       " u'Nick-Hein',\n",
       " u'Dan-Henderson',\n",
       " u'Johny-Hendricks',\n",
       " u'Luis-Henrique',\n",
       " u'Ed-Herman',\n",
       " u'Jack-Hermansson',\n",
       " u'Alvaro-Herrera',\n",
       " u'Geane-Herrera',\n",
       " u'Felice-Herrig',\n",
       " u'Clint-Hester',\n",
       " u'jim-Hettes',\n",
       " u'Angela-Hill',\n",
       " u'Mizuto-Hirota',\n",
       " u'Matt-Hobar',\n",
       " u'Andrew-Holbrook',\n",
       " u'chris-Holdsworth',\n",
       " u'Max-Holloway',\n",
       " u'Holly-Holm',\n",
       " u'patrick-Holohan',\n",
       " u'Scott-Holtzman',\n",
       " u'Mark-Hominick',\n",
       " u'Dan-Hooker',\n",
       " u'Darrell-Horcher',\n",
       " u'Kyoji-Horiguchi',\n",
       " u'john-Howard',\n",
       " u'Matt-Hughes',\n",
       " u'Mark-Hunt',\n",
       " u'Al-Iaquinta',\n",
       " u'Teruto-Ishihara',\n",
       " u'Leandro-Issa',\n",
       " u'Yves-Jabouin',\n",
       " u'Damon-Jackson',\n",
       " u'Rampage-Jackson',\n",
       " u'Rony-Jason',\n",
       " u'Joanna-Jedrzejczyk',\n",
       " u'Li-Jingliang',\n",
       " u'Anthony-Johnson',\n",
       " u'Demetrious-Johnson',\n",
       " u'Kajan-Johnson',\n",
       " u'Michael-Johnson',\n",
       " u'Timothy-Johnson',\n",
       " u'Daniel-Jolly',\n",
       " u'Jon-Jones',\n",
       " u'Jocelyn-Jones-Lybarger',\n",
       " u'Shawn-Jordan',\n",
       " u'Krzysztof-Jotko',\n",
       " u'Alan-Jouban',\n",
       " u'Chan-Sung-Jung',\n",
       " u'Myles-Jury',\n",
       " u'Sirwan-Kakai',\n",
       " u'Martin-Kampmann',\n",
       " u'Kyung-Ho-Kang',\n",
       " u'Yusuke-Kasuya',\n",
       " u'Sarah-Kaufman',\n",
       " u'Tatsuya-Kawajiri',\n",
       " u'Julie-Kedzie',\n",
       " u'Chris-Kelades',\n",
       " u'dan-Kelly',\n",
       " u'Tim-Kennedy',\n",
       " u'Rustam-Khabilov',\n",
       " u'Adam-Khaliev',\n",
       " u'Katsunori-Kikuno',\n",
       " u'Dong-Hyun-Kim',\n",
       " u'Dong-Hyun-Kim',\n",
       " u'Justine-Kish',\n",
       " u'Jason-Knight',\n",
       " u'Erik-Koch',\n",
       " u'Bruno-Korea',\n",
       " u'Karolina-Kowalkiewicz',\n",
       " u'James-Krause',\n",
       " u'Pascal-Krauss',\n",
       " u'Nikita-Krylov',\n",
       " u'Kiichi-Kunimoto',\n",
       " u'Ryan-LaFlare',\n",
       " u'Noad-Lahat',\n",
       " u'Tina-Lahdemaki',\n",
       " u'Ricardo-Lamas',\n",
       " u'Taylor-Lapilus',\n",
       " u'Chad-Laprise',\n",
       " u'Lorenz-Larkin',\n",
       " u'Ilir-Latifi',\n",
       " u'Joe-Lauzon',\n",
       " u'Robbie-Lawler',\n",
       " u'Tom-Lawlor',\n",
       " u'Cung-Le',\n",
       " u'Chris-Leben',\n",
       " u'Mickael-Lebout',\n",
       " u'Kevin-Lee',\n",
       " u'Vaughan-Lee',\n",
       " u'Thales-Leites',\n",
       " u'Nik-Lentz',\n",
       " u'valerie-Letourneau',\n",
       " u'Derrick-Lewis',\n",
       " u'Chuck-Liddell',\n",
       " u'Hyun-Gyu-Lim',\n",
       " u'Juliana-Lima',\n",
       " u'John-Lineker',\n",
       " u'Artem-Lobov',\n",
       " u'Hector-Lombard',\n",
       " u'Dileno-Lopes',\n",
       " u'Duane-Ludwig',\n",
       " u'Vicente-Luque',\n",
       " u'Rory-MacDonald',\n",
       " u'Lyoto-Machida',\n",
       " u'Reza-Madadi',\n",
       " u'Caio-Magalhaes',\n",
       " u'Angela-Magana',\n",
       " u'Neil-Magny',\n",
       " u'Rashid-Magomedov',\n",
       " u'Ruslan-Magomedov',\n",
       " u'Demian-Maia',\n",
       " u'Levan-Makashvili',\n",
       " u'john-makdessi',\n",
       " u'Islam-Makhachev',\n",
       " u'Zach-Makovsky',\n",
       " u'Fabio-Maldonado',\n",
       " u'Jimi-Manuwa',\n",
       " u'Enrique-Marin',\n",
       " u'Randa-Markos',\n",
       " u'Nate-Marquardt',\n",
       " u'Tony-Martin',\n",
       " u'Danny-Martinez',\n",
       " u'Adriano-Martins',\n",
       " u'Lucas-Martins',\n",
       " u'Jorge-Masvidal',\n",
       " u'Jake-Matthews',\n",
       " u'Gray-Maynard',\n",
       " u'Ian-McCall',\n",
       " u'Tamdan-McCrory',\n",
       " u'Michael-McDonald',\n",
       " u'Court-McGee',\n",
       " u'Conor-McGregor',\n",
       " u'Garreth-McLellan',\n",
       " u'Sara-McMann',\n",
       " u'Tim-Means',\n",
       " u'Yancy-Medeiros',\n",
       " u'Jordan-Mein',\n",
       " u'Brian-Melancon',\n",
       " u'Gilbert-Melendez',\n",
       " u'Augusto-Mendes',\n",
       " u'Chad-Mendes',\n",
       " u'Yaotzin-Meza',\n",
       " u'Bojan-Mihajlovic',\n",
       " u'Cole-Miller',\n",
       " u'Jim-Miller',\n",
       " u'Adam-Milstead',\n",
       " u'Alberto-Mina',\n",
       " u'Stipe-Miocic',\n",
       " u'Frank-Mir',\n",
       " u'Vitor-Miranda',\n",
       " u'Matt-Mitrione',\n",
       " u'Takeya-Mizugaki',\n",
       " u'Renato-Moicano',\n",
       " u'Augusto-Montano',\n",
       " u'Erick-Montano',\n",
       " u'James-Moontasri',\n",
       " u'Sergio-Moraes',\n",
       " u'John-Moraga',\n",
       " u'Leonardo-Morales',\n",
       " u'Sarah-Moras',\n",
       " u'Alex-Morono',\n",
       " u'Maryna-Moroz',\n",
       " u'Gegard-Mousasi',\n",
       " u'Pedro-Munhoz',\n",
       " u'Mark-Munoz',\n",
       " u'Lauren-Murphy',\n",
       " u'nicholas-Musoke',\n",
       " u'Magomed-Mustafaev',\n",
       " u'Elvis-Mutapcic',\n",
       " u'Rin-Nakai',\n",
       " u'Keita-Nakamura',\n",
       " u'Rose-Namajunas',\n",
       " u'Rafael-Natal',\n",
       " u'Gunnar-Nelson',\n",
       " u'Roy-Nelson',\n",
       " u'Antonio-Braga-Neto',\n",
       " u'Francis-Ngannou',\n",
       " u'Ben-Nguyen',\n",
       " u'Alex-Nicholson',\n",
       " u'Matheus-Nicolau',\n",
       " u'Mats-Nilsson',\n",
       " u'Antonio-Rogerio-Nogueira',\n",
       " u'Minotauro-Nogueira',\n",
       " u'Kyle-Noke',\n",
       " u'Sage-Northcutt',\n",
       " u'Phillipe-Nover',\n",
       " u'Amanda-Nunes',\n",
       " u'Khabib-Nurmagomedov',\n",
       " u'sean-O-Connell',\n",
       " u'brendan-oreilly',\n",
       " u'Alex-Oliveira',\n",
       " u'Charles-Oliveira',\n",
       " u'Felipe-Olivieri',\n",
       " u'oleksiy-Oliynyk',\n",
       " u'Alan-Omer',\n",
       " u'Daniel-Omielanczuk',\n",
       " u'Brian-Ortega',\n",
       " u'Dustin-Ortiz',\n",
       " u'Alistair-Overeem',\n",
       " u'Larissa-Pacheco',\n",
       " u'Teemu-Packalen',\n",
       " u'Alan-Patrick',\n",
       " u'Claude-Patrick',\n",
       " u'Ross-Pearson',\n",
       " u'Filip-Pejic',\n",
       " u'Julianna-Pena',\n",
       " u'Cathal-Pendred',\n",
       " u'BJ-Penn',\n",
       " u'Jessica-Penne',\n",
       " u'Raquel-Pennington',\n",
       " u'godofredo-Castro',\n",
       " u'Alejandro-Perez',\n",
       " u'Erik-Perez',\n",
       " u'Frankie-Perez',\n",
       " u'Anthony-Perosh',\n",
       " u'Viktor-Pesta',\n",
       " u'Anthony-Pettis',\n",
       " u'Sergio-Pettis',\n",
       " u'Cody-Pfister',\n",
       " u'constantinos-philippou',\n",
       " u'Elizabeth-Phillips',\n",
       " u'Vinc-Pichel',\n",
       " u'Brad-Pickett',\n",
       " u'Sean-Pierson',\n",
       " u'Dustin-Poirier',\n",
       " u'Igor-Pokrajac',\n",
       " u'Santiago-Ponzinibbio',\n",
       " u'Michel-Prazeres',\n",
       " u'Joe-Proctor',\n",
       " u'CM-Punk',\n",
       " u'Mike-Pyle',\n",
       " u'Jose-Quinonez',\n",
       " u'Vernon-Ramos',\n",
       " u'Bec-Rawlings',\n",
       " u'Stevie-Ray',\n",
       " u'Paul-Redmond',\n",
       " u'Wilson-Reis',\n",
       " u'Marion-Reneau',\n",
       " u'Jon-Delos-Reyes',\n",
       " u'Polo-Reyes',\n",
       " u'Aaron-Riley',\n",
       " u'Jordan-Rinaldi',\n",
       " u'Diego-Rivas',\n",
       " u'Francisco-Rivera',\n",
       " u'Jimmie-Rivera',\n",
       " u'Buddy-Roberts',\n",
       " u'Danny-Roberts',\n",
       " u'Kenny-Robertson',\n",
       " u'Luke-Rockhold',\n",
       " u'Yair-Rodriguez',\n",
       " u'marcus-rogerio-de-lima',\n",
       " u'Yoel-Romero',\n",
       " u'Charles-Rosa',\n",
       " u'Ben-Rothwell',\n",
       " u'Ronda-Rousey',\n",
       " u'Mauricio-Rua',\n",
       " u'Frankie-Saenz',\n",
       " u'Tarec-Saffiedine',\n",
       " u'Jason-Saggo',\n",
       " u'ovince-St-Preux',\n",
       " u'Lukasz-Sajewski',\n",
       " u'Roman-Salazar',\n",
       " u'Josh-Samman',\n",
       " u'Diego-Sanchez',\n",
       " u'Joby-Sanchez',\n",
       " u'Jerrod-Sanders',\n",
       " u'Luke-Sanders',\n",
       " u'Roldan-Sangcha-an',\n",
       " u'Leonardo-Santos',\n",
       " u'Thiago-Santos',\n",
       " u'yuta-Sasaki',\n",
       " u'Ben-Saunders',\n",
       " u'Brendan-Schaub',\n",
       " u'Justin-Scoggins',\n",
       " u'brad-scott',\n",
       " u'Neil-Seery',\n",
       " u'Matt-Serra',\n",
       " u'Fredy-Serrano',\n",
       " u'Sean-Sherk',\n",
       " u'Valentina-Shevchenko',\n",
       " u'Sam-Sicilia',\n",
       " u'Anderson-Silva',\n",
       " u'Antonio-Silva',\n",
       " u'claudio-Henrique-da-Silva',\n",
       " u'Erick-Silva',\n",
       " u'Joaquim-Silva',\n",
       " u'Leandro-Silva',\n",
       " u'Wanderlei-Silva',\n",
       " u'Douglas-Silva-de-Andrade',\n",
       " u'Tony-Sims',\n",
       " u'Dennis-Siver',\n",
       " u'Chas-Skelly',\n",
       " u'Anthony-Smith',\n",
       " u'Leslie-Smith',\n",
       " u'Trevor-Smith',\n",
       " u'Louis-Smolka',\n",
       " u'Dmitry-Smolyakov',\n",
       " u'Peter-Sobotta',\n",
       " u'Chael-Sonnen',\n",
       " u'Krzysztof-Soszynski',\n",
       " u'Joe-Soto',\n",
       " u'Kevin-Souza',\n",
       " u'Ronaldo-Souza',\n",
       " u'Sean-Spencer',\n",
       " u'Daniel-Spohn',\n",
       " u'Georges-St-Pierre',\n",
       " u'Andreas-Stahl',\n",
       " u'Cristina-Stanciu',\n",
       " u'Brian-Stann',\n",
       " u'Damian-Stasiak',\n",
       " u'Dominique-Steele',\n",
       " u'Jeremy-Stephens',\n",
       " u'Aljamain-Sterling',\n",
       " u'Rick-Story',\n",
       " u'Sam-Stout',\n",
       " u'Sean-Strickland',\n",
       " u'Stefan-Struve',\n",
       " u'George-Sullivan',\n",
       " u'Cub-Swanson',\n",
       " u'Mike-Swick',\n",
       " u'Mairbek-Taisumov',\n",
       " u'Nordine-Taleb',\n",
       " u'Michinori-Tanaka',\n",
       " u'Miesha-Tate',\n",
       " u'Brad-Tavares',\n",
       " u'Thiago-Tavares',\n",
       " u'Paul-Taylor',\n",
       " u'Opponent-TBD',\n",
       " u'James-Te-Huna',\n",
       " u'Glover-Teixeira',\n",
       " u'David-Teymur',\n",
       " u'Brandon-Thatch',\n",
       " u'Elias-Theodorou',\n",
       " u'Stephen-Thompson',\n",
       " u'Gleison-Tibau',\n",
       " u'Darren-Till',\n",
       " u'...-To-be-announced',\n",
       " u'.-To-Be-Determined',\n",
       " u'...-To-be-determined',\n",
       " u'Tecia-Torres',\n",
       " u'Tiago-Trator',\n",
       " u'Francisco-Trinaldo',\n",
       " u'Tor-Troeng',\n",
       " u'Abel-Trujillo',\n",
       " u'Jon-Tuck',\n",
       " u'Jumabieke-Tuerxun',\n",
       " u'Zubaira-Tukhugov',\n",
       " u'Albert-Tumenov',\n",
       " u'Marcin-Tybura',\n",
       " u'Alberto-Uda',\n",
       " u'Gasan-Umalatov',\n",
       " u'Hector-Urbina',\n",
       " u'kamarudeen-usman',\n",
       " u'Paige-VanZant',\n",
       " u'Jamie-Varner',\n",
       " u'Cain-Velasquez',\n",
       " u'Bojan-Velickovic',\n",
       " u'Marlon-Vera',\n",
       " u'Hugo-Viana',\n",
       " u'James-Vick',\n",
       " u'Reginaldo-Vieira',\n",
       " u'Gian-Villante',\n",
       " u'Chris-Wade',\n",
       " u'richard-walsh',\n",
       " u'Dominic-Waters',\n",
       " u'Michelle-Waterson',\n",
       " u'tommy-wauchope-bud-light-living-champion',\n",
       " u'Chris-Weidman',\n",
       " u'Fabricio-Werdum',\n",
       " u'Sheldon-Westcott',\n",
       " u'Alex-White',\n",
       " u'Rob-Whiteford',\n",
       " u'Robert-Whittaker',\n",
       " u'Mike-Wilkinson',\n",
       " u'Patrick-Williams',\n",
       " u'Jonathan-Wilson',\n",
       " u'Matt-Wiman',\n",
       " u'Eddie-Wineland',\n",
       " u'Tyron-Woodley',\n",
       " u'Rani-Yahya',\n",
       " u'Alexander-Yakovlev',\n",
       " u'Norifumi-Yamamoto',\n",
       " u'Dongi-Yang',\n",
       " u'Anton-Zafir',\n",
       " u'Elizeu-Zaleski-dos-Santos',\n",
       " u'Tiequan-Zhang',\n",
       " u'Yao-Zhikui',\n",
       " u'Cat-Zingano']"
      ]
     },
     "execution_count": 292,
     "metadata": {},
     "output_type": "execute_result"
    }
   ],
   "source": [
    "dash_fighter"
   ]
  },
  {
   "cell_type": "code",
   "execution_count": 291,
   "metadata": {
    "collapsed": false
   },
   "outputs": [],
   "source": [
    "#updating fighters whose real name does not correspond to their fighter profile page url\n",
    "dash_fighter[31] = u'Leonardo-Augusto-Guimaraes' # Last name listed as leleco\n",
    "dash_fighter[42] = u'Edson-Barboza' # code added an extra dash in his name\n",
    "dash_fighter[78] = u'josh-Burkman' # first name listed as joshua\n",
    "dash_fighter[90] = u'antonio-carlos' # Full name listed with junior suffix\n",
    "dash_fighter[104] = u'dooho-choi' # full name has a space in Doo Ho\n",
    "dash_fighter[106] = u'heather-Clark' # full name listed as Heather Jo Clark\n",
    "dash_fighter[123] = u'luiz-henrique-da-silva' #name listed as simply henrique da silva\n",
    "dash_fighter[131] = u'germaine-DeRandamie' #name listed with a space in De Randamie\n",
    "dash_fighter[146] = u'joseph-duffy' # first name listed as simply Joe\n",
    "dash_fighter[172] = u'carlos-Diego-Ferreira' #name listed as simply Diego Ferreira\n",
    "dash_fighter[196] = u'david-Grant' #first name listed as Davey\n",
    "dash_fighter[203] = u'guangyou-Ning' #name listed as ning Guangyou\n",
    "dash_fighter[228] = u'jim-Hettes' #first name listed as Jimy\n",
    "dash_fighter[233] = u'chris-Holdsworth' #Code added an extra dash in his name\n",
    "dash_fighter[236] = u'patrick-Holohan' #first name listed as Paddy\n",
    "dash_fighter[242] = u'john-Howard' #code added an extra dash in his name\n",
    "dash_fighter[275] = u'dan-Kelly' #First name listed as Daniel\n",
    "dash_fighter[309] = u'valerie-Letourneau' #code added an extra dash in her name\n",
    "dash_fighter[330] = u'john-makdessi' #code added an extra dash in his name\n",
    "dash_fighter[384] = u'nicholas-Musoke' #First name lasted as simply Nico\n",
    "dash_fighter[406] = u'sean-O-Connell' #Name contains an apostrophe\n",
    "dash_fighter[407] = u'brendan-oreilly' #Name contains an apostrophe\n",
    "dash_fighter[411] = u'oleksiy-Oliynyk' #Name listed as Alexey\n",
    "dash_fighter[428] = u'godofredo-Castro' #Last name listed as Pepey\n",
    "dash_fighter[437] = u'constantinos-philippou' #First name listed simply as Costas\n",
    "dash_fighter[468] = u'marcus-rogerio-de-lima' #First name listed as Marcos\n",
    "dash_fighter[477] = u'ovince-St-Preux' #Middle name listed as Saint\n",
    "dash_fighter[488] = u'yuta-Sasaki' #first name listed as Ulka\n",
    "dash_fighter[492] = u'brad-scott' #first name listed as Bradley\n",
    "dash_fighter[501] = u'claudio-Henrique-da-Silva' #name listed as simply Claudio Silva\n",
    "dash_fighter[570] = u'kamarudeen-usman' #first name listed as simple Kamaru\n",
    "dash_fighter[581] = u'richard-walsh' #firt name listed as simply Rich\n",
    "dash_fighter[584] = u'tommy-wauchope-bud-light-living-champion' #this is a bs fan thing that will get deleted once scraping is done"
   ]
  },
  {
   "cell_type": "code",
   "execution_count": 293,
   "metadata": {
    "collapsed": false
   },
   "outputs": [],
   "source": [
    "#Scraping for their record\n",
    "records = []\n",
    "for fighter in dash_fighter:\n",
    "    response = requests.get('http://www.ufc.com/fighter/%s' % (fighter))\n",
    "    HTML = response.text\n",
    "    record = Selector(text=HTML).xpath('//*[@id=\"fighter-skill-record\"]/text()').extract()\n",
    "    records.append(record)"
   ]
  },
  {
   "cell_type": "code",
   "execution_count": 304,
   "metadata": {
    "collapsed": true
   },
   "outputs": [],
   "source": [
    "# Function to convert blank values to NaNs\n",
    "# def NaNer(a, b):\n",
    "#     a = []\n",
    "#     for item in b:\n",
    "#         if len(item) == 1:\n",
    "#             x = item\n",
    "#         else:\n",
    "#             x = [np.nan]\n",
    "#         a.append(x)\n",
    "        \n",
    "# # Function to convert the list of lists to a single list of values\n",
    "# def delister(new_list,old_list):\n",
    "#     new_list = []\n",
    "#     for lists in old_list:\n",
    "#         sub_lists = lists\n",
    "#         for items in sub_lists:\n",
    "#             x = items\n",
    "#         new_list.append(x)"
   ]
  },
  {
   "cell_type": "code",
   "execution_count": 311,
   "metadata": {
    "collapsed": false
   },
   "outputs": [],
   "source": [
    "# Adding NaNs for blank values\n",
    "new_records = []\n",
    "for item in records:\n",
    "    if len(item) == 1:\n",
    "        x = item\n",
    "    else:\n",
    "        x = [np.nan]\n",
    "    new_records.append(x)\n",
    "# NaNer(new_records, records)"
   ]
  },
  {
   "cell_type": "code",
   "execution_count": 312,
   "metadata": {
    "collapsed": false
   },
   "outputs": [
    {
     "data": {
      "text/plain": [
       "606"
      ]
     },
     "execution_count": 312,
     "metadata": {},
     "output_type": "execute_result"
    }
   ],
   "source": [
    "len(new_records)"
   ]
  },
  {
   "cell_type": "code",
   "execution_count": 315,
   "metadata": {
    "collapsed": false
   },
   "outputs": [],
   "source": [
    "#removing from list of lists to make a single list\n",
    "final_records = []\n",
    "for lists in new_records:\n",
    "    sub_lists = lists\n",
    "    for items in sub_lists:\n",
    "        x = items\n",
    "    final_records.append(x)"
   ]
  },
  {
   "cell_type": "code",
   "execution_count": 317,
   "metadata": {
    "collapsed": false
   },
   "outputs": [
    {
     "data": {
      "text/plain": [
       "606"
      ]
     },
     "execution_count": 317,
     "metadata": {},
     "output_type": "execute_result"
    }
   ],
   "source": [
    "len(final_records)"
   ]
  },
  {
   "cell_type": "code",
   "execution_count": 318,
   "metadata": {
    "collapsed": false
   },
   "outputs": [],
   "source": [
    "nicknames = []\n",
    "for fighter in dash_fighter:\n",
    "    response = requests.get('http://www.ufc.com/fighter/%s' % (fighter))\n",
    "    HTML = response.text\n",
    "    nickname = Selector(text=HTML).xpath('//*[@id=\"fighter-nickname\"]/text()').extract()\n",
    "    nicknames.append(nickname)"
   ]
  },
  {
   "cell_type": "code",
   "execution_count": 319,
   "metadata": {
    "collapsed": false
   },
   "outputs": [
    {
     "data": {
      "text/plain": [
       "606"
      ]
     },
     "execution_count": 319,
     "metadata": {},
     "output_type": "execute_result"
    }
   ],
   "source": [
    "len(nicknames)"
   ]
  },
  {
   "cell_type": "code",
   "execution_count": 320,
   "metadata": {
    "collapsed": false
   },
   "outputs": [],
   "source": [
    "new_nicknames = []\n",
    "for item in nicknames:\n",
    "    if len(item) == 1:\n",
    "        x = item\n",
    "    else:\n",
    "        x = [np.nan]\n",
    "    new_nicknames.append(x)"
   ]
  },
  {
   "cell_type": "code",
   "execution_count": 322,
   "metadata": {
    "collapsed": false
   },
   "outputs": [
    {
     "data": {
      "text/plain": [
       "606"
      ]
     },
     "execution_count": 322,
     "metadata": {},
     "output_type": "execute_result"
    }
   ],
   "source": [
    "len(new_nicknames)"
   ]
  },
  {
   "cell_type": "code",
   "execution_count": 323,
   "metadata": {
    "collapsed": true
   },
   "outputs": [],
   "source": [
    "final_nicknames = []\n",
    "for lists in new_nicknames:\n",
    "    sub_lists = lists\n",
    "    for items in sub_lists:\n",
    "        x = items\n",
    "    final_nicknames.append(x)"
   ]
  },
  {
   "cell_type": "code",
   "execution_count": 326,
   "metadata": {
    "collapsed": false
   },
   "outputs": [
    {
     "data": {
      "text/plain": [
       "606"
      ]
     },
     "execution_count": 326,
     "metadata": {},
     "output_type": "execute_result"
    }
   ],
   "source": [
    "len(final_nicknames)"
   ]
  },
  {
   "cell_type": "code",
   "execution_count": 394,
   "metadata": {
    "collapsed": false
   },
   "outputs": [
    {
     "data": {
      "text/plain": [
       "606"
      ]
     },
     "execution_count": 394,
     "metadata": {},
     "output_type": "execute_result"
    }
   ],
   "source": [
    "birthplaces = []\n",
    "for fighter in dash_fighter:\n",
    "    response = requests.get('http://www.ufc.com/fighter/%s' % (fighter))\n",
    "    HTML = response.text\n",
    "    birthplace = Selector(text=HTML).xpath('//*[@id=\"fighter-from\"]/text()').extract()\n",
    "    birthplaces.append(birthplace)\n",
    "len(birthplaces)"
   ]
  },
  {
   "cell_type": "code",
   "execution_count": 396,
   "metadata": {
    "collapsed": false
   },
   "outputs": [
    {
     "data": {
      "text/plain": [
       "606"
      ]
     },
     "execution_count": 396,
     "metadata": {},
     "output_type": "execute_result"
    }
   ],
   "source": [
    "new_birthplaces = []\n",
    "for item in birthplaces:\n",
    "    if len(item) == 1:\n",
    "        x = item\n",
    "    else:\n",
    "        x = [np.nan]\n",
    "    new_birthplaces.append(x)\n",
    "len(new_birthplaces)"
   ]
  },
  {
   "cell_type": "code",
   "execution_count": 398,
   "metadata": {
    "collapsed": false
   },
   "outputs": [
    {
     "data": {
      "text/plain": [
       "606"
      ]
     },
     "execution_count": 398,
     "metadata": {},
     "output_type": "execute_result"
    }
   ],
   "source": [
    "final_birthplaces = []\n",
    "for lists in new_birthplaces:\n",
    "    sub_lists = lists\n",
    "    for items in sub_lists:\n",
    "        x = items\n",
    "    final_birthplaces.append(x)\n",
    "len(final_birthplaces)"
   ]
  },
  {
   "cell_type": "code",
   "execution_count": 413,
   "metadata": {
    "collapsed": false
   },
   "outputs": [
    {
     "data": {
      "text/plain": [
       "nan"
      ]
     },
     "execution_count": 413,
     "metadata": {},
     "output_type": "execute_result"
    }
   ],
   "source": [
    "final_birthplaces[2]"
   ]
  },
  {
   "cell_type": "code",
   "execution_count": 399,
   "metadata": {
    "collapsed": false
   },
   "outputs": [
    {
     "data": {
      "text/plain": [
       "606"
      ]
     },
     "execution_count": 399,
     "metadata": {},
     "output_type": "execute_result"
    }
   ],
   "source": [
    "billing = []\n",
    "for fighter in dash_fighter:\n",
    "    response = requests.get('http://www.ufc.com/fighter/%s' % (fighter))\n",
    "    HTML = response.text\n",
    "    billed_from = Selector(text=HTML).xpath('//*[@id=\"fighter-lives-in\"]/text()').extract()\n",
    "    billing.append(billed_from)\n",
    "len(billing)"
   ]
  },
  {
   "cell_type": "code",
   "execution_count": 401,
   "metadata": {
    "collapsed": false
   },
   "outputs": [
    {
     "data": {
      "text/plain": [
       "606"
      ]
     },
     "execution_count": 401,
     "metadata": {},
     "output_type": "execute_result"
    }
   ],
   "source": [
    "new_billing = []\n",
    "for item in billing:\n",
    "    if len(item) == 1:\n",
    "        x = item\n",
    "    else:\n",
    "        x = [np.nan]\n",
    "    new_billing.append(x)\n",
    "len(new_billing)"
   ]
  },
  {
   "cell_type": "code",
   "execution_count": 403,
   "metadata": {
    "collapsed": false
   },
   "outputs": [
    {
     "data": {
      "text/plain": [
       "606"
      ]
     },
     "execution_count": 403,
     "metadata": {},
     "output_type": "execute_result"
    }
   ],
   "source": [
    "final_billing = []\n",
    "for lists in new_billing:\n",
    "    sub_lists = lists\n",
    "    for items in sub_lists:\n",
    "        x = items\n",
    "    final_billing.append(x)\n",
    "len(final_billing)"
   ]
  },
  {
   "cell_type": "code",
   "execution_count": 327,
   "metadata": {
    "collapsed": true
   },
   "outputs": [],
   "source": [
    "ages = []\n",
    "for fighter in dash_fighter:\n",
    "    response = requests.get('http://www.ufc.com/fighter/%s' % (fighter))\n",
    "    HTML = response.text\n",
    "    age = Selector(text=HTML).xpath('//*[@id=\"fighter-age\"]/text()').extract()\n",
    "    ages.append(age)"
   ]
  },
  {
   "cell_type": "code",
   "execution_count": 328,
   "metadata": {
    "collapsed": false
   },
   "outputs": [
    {
     "data": {
      "text/plain": [
       "606"
      ]
     },
     "execution_count": 328,
     "metadata": {},
     "output_type": "execute_result"
    }
   ],
   "source": [
    "len(ages)"
   ]
  },
  {
   "cell_type": "code",
   "execution_count": 345,
   "metadata": {
    "collapsed": true
   },
   "outputs": [],
   "source": [
    "new_ages = []\n",
    "for item in ages:\n",
    "    if len(item) == 1:\n",
    "        x = item\n",
    "    else:\n",
    "        x = [np.nan]\n",
    "    new_ages.append(x)\n",
    "len(new_ages)"
   ]
  },
  {
   "cell_type": "code",
   "execution_count": 348,
   "metadata": {
    "collapsed": false
   },
   "outputs": [
    {
     "data": {
      "text/plain": [
       "606"
      ]
     },
     "execution_count": 348,
     "metadata": {},
     "output_type": "execute_result"
    }
   ],
   "source": [
    "final_ages = []\n",
    "for lists in new_ages:\n",
    "    sub_lists = lists\n",
    "    for items in sub_lists:\n",
    "        x = items\n",
    "    final_ages.append(x)\n",
    "len(final_ages)"
   ]
  },
  {
   "cell_type": "code",
   "execution_count": 340,
   "metadata": {
    "collapsed": true
   },
   "outputs": [],
   "source": [
    "heights = []\n",
    "for fighter in dash_fighter:\n",
    "    response = requests.get('http://www.ufc.com/fighter/%s' % (fighter))\n",
    "    HTML = response.text\n",
    "    height = Selector(text=HTML).xpath('//*[@id=\"fighter-height\"]/text()').extract()\n",
    "    heights.append(height)"
   ]
  },
  {
   "cell_type": "code",
   "execution_count": 342,
   "metadata": {
    "collapsed": false
   },
   "outputs": [
    {
     "data": {
      "text/plain": [
       "606"
      ]
     },
     "execution_count": 342,
     "metadata": {},
     "output_type": "execute_result"
    }
   ],
   "source": [
    "len(heights)"
   ]
  },
  {
   "cell_type": "code",
   "execution_count": 344,
   "metadata": {
    "collapsed": false
   },
   "outputs": [
    {
     "data": {
      "text/plain": [
       "606"
      ]
     },
     "execution_count": 344,
     "metadata": {},
     "output_type": "execute_result"
    }
   ],
   "source": [
    "new_heights = []\n",
    "for item in heights:\n",
    "    if len(item) == 1:\n",
    "        x = item\n",
    "    else:\n",
    "        x = [np.nan]\n",
    "    new_heights.append(x)\n",
    "len(new_heights)"
   ]
  },
  {
   "cell_type": "code",
   "execution_count": 351,
   "metadata": {
    "collapsed": false
   },
   "outputs": [
    {
     "data": {
      "text/plain": [
       "606"
      ]
     },
     "execution_count": 351,
     "metadata": {},
     "output_type": "execute_result"
    }
   ],
   "source": [
    "final_heights = []\n",
    "for lists in new_heights:\n",
    "    sub_lists = lists\n",
    "    for items in sub_lists:\n",
    "        x = items\n",
    "    final_heights.append(x)\n",
    "len(final_heights)"
   ]
  },
  {
   "cell_type": "code",
   "execution_count": 353,
   "metadata": {
    "collapsed": false
   },
   "outputs": [
    {
     "data": {
      "text/plain": [
       "606"
      ]
     },
     "execution_count": 353,
     "metadata": {},
     "output_type": "execute_result"
    }
   ],
   "source": [
    "weights = []\n",
    "for fighter in dash_fighter:\n",
    "    response = requests.get('http://www.ufc.com/fighter/%s' % (fighter))\n",
    "    HTML = response.text\n",
    "    weight = Selector(text=HTML).xpath('//*[@id=\"fighter-weight\"]/text()').extract()\n",
    "    weights.append(weight)\n",
    "len(weights)"
   ]
  },
  {
   "cell_type": "code",
   "execution_count": 355,
   "metadata": {
    "collapsed": false
   },
   "outputs": [
    {
     "data": {
      "text/plain": [
       "606"
      ]
     },
     "execution_count": 355,
     "metadata": {},
     "output_type": "execute_result"
    }
   ],
   "source": [
    "new_weights = []\n",
    "for item in weights:\n",
    "    if len(item) == 1:\n",
    "        x = item\n",
    "    else:\n",
    "        x = [np.nan]\n",
    "    new_weights.append(x)\n",
    "len(new_weights)"
   ]
  },
  {
   "cell_type": "code",
   "execution_count": 357,
   "metadata": {
    "collapsed": false
   },
   "outputs": [
    {
     "data": {
      "text/plain": [
       "606"
      ]
     },
     "execution_count": 357,
     "metadata": {},
     "output_type": "execute_result"
    }
   ],
   "source": [
    "final_weights = []\n",
    "for lists in new_weights:\n",
    "    sub_lists = lists\n",
    "    for items in sub_lists:\n",
    "        x = items\n",
    "    final_weights.append(x)\n",
    "len(final_weights)"
   ]
  },
  {
   "cell_type": "code",
   "execution_count": 360,
   "metadata": {
    "collapsed": false
   },
   "outputs": [
    {
     "data": {
      "text/plain": [
       "606"
      ]
     },
     "execution_count": 360,
     "metadata": {},
     "output_type": "execute_result"
    }
   ],
   "source": [
    "armspans = []\n",
    "for fighter in dash_fighter:\n",
    "    response = requests.get('http://www.ufc.com/fighter/%s' % (fighter))\n",
    "    HTML = response.text\n",
    "    armspan = Selector(text=HTML).xpath('//*[@id=\"fighter-reach\"]/text()').extract()\n",
    "    armspans.append(armspan)\n",
    "len(armspans)"
   ]
  },
  {
   "cell_type": "code",
   "execution_count": 362,
   "metadata": {
    "collapsed": false
   },
   "outputs": [
    {
     "data": {
      "text/plain": [
       "606"
      ]
     },
     "execution_count": 362,
     "metadata": {},
     "output_type": "execute_result"
    }
   ],
   "source": [
    "new_armspans = []\n",
    "for item in armspans:\n",
    "    if len(item) == 1:\n",
    "        x = item\n",
    "    else:\n",
    "        x = [np.nan]\n",
    "    new_armspans.append(x)\n",
    "len(new_armspans)"
   ]
  },
  {
   "cell_type": "code",
   "execution_count": 364,
   "metadata": {
    "collapsed": false
   },
   "outputs": [
    {
     "data": {
      "text/plain": [
       "606"
      ]
     },
     "execution_count": 364,
     "metadata": {},
     "output_type": "execute_result"
    }
   ],
   "source": [
    "final_armspans = []\n",
    "for lists in new_armspans:\n",
    "    sub_lists = lists\n",
    "    for items in sub_lists:\n",
    "        x = items\n",
    "    final_armspans.append(x)\n",
    "len(final_armspans)"
   ]
  },
  {
   "cell_type": "code",
   "execution_count": 368,
   "metadata": {
    "collapsed": false
   },
   "outputs": [
    {
     "data": {
      "text/plain": [
       "606"
      ]
     },
     "execution_count": 368,
     "metadata": {},
     "output_type": "execute_result"
    }
   ],
   "source": [
    "leg_reaches = []\n",
    "for fighter in dash_fighter:\n",
    "    response = requests.get('http://www.ufc.com/fighter/%s' % (fighter))\n",
    "    HTML = response.text\n",
    "    leg_reach = Selector(text=HTML).xpath('//*[@id=\"fighter-leg-reach\"]/text()').extract()\n",
    "    leg_reaches.append(leg_reach)\n",
    "len(leg_reaches)"
   ]
  },
  {
   "cell_type": "code",
   "execution_count": 370,
   "metadata": {
    "collapsed": false
   },
   "outputs": [
    {
     "data": {
      "text/plain": [
       "606"
      ]
     },
     "execution_count": 370,
     "metadata": {},
     "output_type": "execute_result"
    }
   ],
   "source": [
    "new_leg_reaches = []\n",
    "for item in leg_reaches:\n",
    "    if len(item) == 1:\n",
    "        x = item\n",
    "    else:\n",
    "        x = [np.nan]\n",
    "    new_leg_reaches.append(x)\n",
    "len(new_leg_reaches)"
   ]
  },
  {
   "cell_type": "code",
   "execution_count": 372,
   "metadata": {
    "collapsed": false
   },
   "outputs": [
    {
     "data": {
      "text/plain": [
       "606"
      ]
     },
     "execution_count": 372,
     "metadata": {},
     "output_type": "execute_result"
    }
   ],
   "source": [
    "final_leg_reaches = []\n",
    "for lists in new_leg_reaches:\n",
    "    sub_lists = lists\n",
    "    for items in sub_lists:\n",
    "        x = items\n",
    "    final_leg_reaches.append(x)\n",
    "len(final_leg_reaches)"
   ]
  },
  {
   "cell_type": "code",
   "execution_count": 374,
   "metadata": {
    "collapsed": false
   },
   "outputs": [
    {
     "data": {
      "text/plain": [
       "606"
      ]
     },
     "execution_count": 374,
     "metadata": {},
     "output_type": "execute_result"
    }
   ],
   "source": [
    "skills = []\n",
    "for fighter in dash_fighter:\n",
    "    response = requests.get('http://www.ufc.com/fighter/%s' % (fighter))\n",
    "    HTML = response.text\n",
    "    skill = Selector(text=HTML).xpath('//*[@id=\"fighter-skill-summary\"]/text()').extract()\n",
    "    skills.append(skill)\n",
    "len(skills)"
   ]
  },
  {
   "cell_type": "code",
   "execution_count": 378,
   "metadata": {
    "collapsed": false
   },
   "outputs": [
    {
     "data": {
      "text/plain": [
       "606"
      ]
     },
     "execution_count": 378,
     "metadata": {},
     "output_type": "execute_result"
    }
   ],
   "source": [
    "new_skills = []\n",
    "for item in skills:\n",
    "    if len(item) == 1:\n",
    "        x = item\n",
    "    else:\n",
    "        x = [np.nan]\n",
    "    new_skills.append(x)\n",
    "len(new_skills)"
   ]
  },
  {
   "cell_type": "code",
   "execution_count": 380,
   "metadata": {
    "collapsed": false
   },
   "outputs": [
    {
     "data": {
      "text/plain": [
       "606"
      ]
     },
     "execution_count": 380,
     "metadata": {},
     "output_type": "execute_result"
    }
   ],
   "source": [
    "final_skills = []\n",
    "for lists in new_skills:\n",
    "    sub_lists = lists\n",
    "    for items in sub_lists:\n",
    "        x = items\n",
    "    final_skills.append(x)\n",
    "len(final_skills)"
   ]
  },
  {
   "cell_type": "code",
   "execution_count": 375,
   "metadata": {
    "collapsed": false
   },
   "outputs": [
    {
     "data": {
      "text/plain": [
       "606"
      ]
     },
     "execution_count": 375,
     "metadata": {},
     "output_type": "execute_result"
    }
   ],
   "source": [
    "colleges = []\n",
    "for fighter in dash_fighter:\n",
    "    response = requests.get('http://www.ufc.com/fighter/%s' % (fighter))\n",
    "    HTML = response.text\n",
    "    college = Selector(text=HTML).xpath('//*[@id=\"fighter-college\"]/text()').extract()\n",
    "    colleges.append(college)\n",
    "len(colleges)"
   ]
  },
  {
   "cell_type": "code",
   "execution_count": 383,
   "metadata": {
    "collapsed": false
   },
   "outputs": [
    {
     "data": {
      "text/plain": [
       "606"
      ]
     },
     "execution_count": 383,
     "metadata": {},
     "output_type": "execute_result"
    }
   ],
   "source": [
    "new_colleges = []\n",
    "for item in colleges:\n",
    "    if len(item) == 1:\n",
    "        x = item\n",
    "    else:\n",
    "        x = [np.nan]\n",
    "    new_colleges.append(x)\n",
    "len(new_colleges)"
   ]
  },
  {
   "cell_type": "code",
   "execution_count": 385,
   "metadata": {
    "collapsed": false
   },
   "outputs": [
    {
     "data": {
      "text/plain": [
       "606"
      ]
     },
     "execution_count": 385,
     "metadata": {},
     "output_type": "execute_result"
    }
   ],
   "source": [
    "final_colleges = []\n",
    "for lists in new_colleges:\n",
    "    sub_lists = lists\n",
    "    for items in sub_lists:\n",
    "        x = items\n",
    "    final_colleges.append(x)\n",
    "len(final_colleges)"
   ]
  },
  {
   "cell_type": "code",
   "execution_count": 376,
   "metadata": {
    "collapsed": false
   },
   "outputs": [
    {
     "data": {
      "text/plain": [
       "606"
      ]
     },
     "execution_count": 376,
     "metadata": {},
     "output_type": "execute_result"
    }
   ],
   "source": [
    "degrees = []\n",
    "for fighter in dash_fighter:\n",
    "    response = requests.get('http://www.ufc.com/fighter/%s' % (fighter))\n",
    "    HTML = response.text\n",
    "    degree = Selector(text=HTML).xpath('//*[@id=\"fighter-degree\"]/text()').extract()\n",
    "    degrees.append(degree)\n",
    "len(degrees)"
   ]
  },
  {
   "cell_type": "code",
   "execution_count": 388,
   "metadata": {
    "collapsed": false
   },
   "outputs": [
    {
     "data": {
      "text/plain": [
       "606"
      ]
     },
     "execution_count": 388,
     "metadata": {},
     "output_type": "execute_result"
    }
   ],
   "source": [
    "new_degrees = []\n",
    "for item in degrees:\n",
    "    if len(item) == 1:\n",
    "        x = item\n",
    "    else:\n",
    "        x = [np.nan]\n",
    "    new_degrees.append(x)\n",
    "len(new_degrees)"
   ]
  },
  {
   "cell_type": "code",
   "execution_count": 389,
   "metadata": {
    "collapsed": false
   },
   "outputs": [
    {
     "data": {
      "text/plain": [
       "606"
      ]
     },
     "execution_count": 389,
     "metadata": {},
     "output_type": "execute_result"
    }
   ],
   "source": [
    "final_degrees = []\n",
    "for lists in new_degrees:\n",
    "    sub_lists = lists\n",
    "    for items in sub_lists:\n",
    "        x = items\n",
    "    final_degrees.append(x)\n",
    "len(final_degrees)"
   ]
  },
  {
   "cell_type": "code",
   "execution_count": 422,
   "metadata": {
    "collapsed": false
   },
   "outputs": [],
   "source": [
    "ufc_dictionary = {\n",
    "    'A_Fighter': fighter_list, 'B_Nickname': final_nicknames, 'C_Record': final_records, 'D_Birthplace': final_birthplaces,\n",
    "    'E_Billed_From': final_billing, 'F_Age': final_ages, 'G_Height': final_heights, 'H_Weight': final_weights, 'I_Skill': final_skills,\n",
    "    'J_Armspan': final_armspans, 'K_Leg_Reach': final_leg_reaches, 'L_College': final_colleges, 'M_Degree': final_degrees,\n",
    "                 }"
   ]
  },
  {
   "cell_type": "code",
   "execution_count": 423,
   "metadata": {
    "collapsed": false
   },
   "outputs": [],
   "source": [
    "import pandas as pd\n",
    "ufc_df = pd.DataFrame(ufc_dictionary)"
   ]
  },
  {
   "cell_type": "code",
   "execution_count": 424,
   "metadata": {
    "collapsed": false
   },
   "outputs": [
    {
     "data": {
      "text/html": [
       "<div>\n",
       "<table border=\"1\" class=\"dataframe\">\n",
       "  <thead>\n",
       "    <tr style=\"text-align: right;\">\n",
       "      <th></th>\n",
       "      <th>A_Fighter</th>\n",
       "      <th>B_Nickname</th>\n",
       "      <th>C_Record</th>\n",
       "      <th>D_Birthplace</th>\n",
       "      <th>E_Billed_From</th>\n",
       "      <th>F_Age</th>\n",
       "      <th>G_Height</th>\n",
       "      <th>H_Weight</th>\n",
       "      <th>I_Skill</th>\n",
       "      <th>J_Armspan</th>\n",
       "      <th>K_Leg_Reach</th>\n",
       "      <th>L_College</th>\n",
       "      <th>M_Degree</th>\n",
       "    </tr>\n",
       "  </thead>\n",
       "  <tbody>\n",
       "    <tr>\n",
       "      <th>0</th>\n",
       "      <td>Shamil Abdurakhimov</td>\n",
       "      <td>NaN</td>\n",
       "      <td>16-3-0</td>\n",
       "      <td>\\n\\t\\t\\t\\t\\tDagestan\\n\\t\\t\\t\\t\\t \\n\\t\\t\\t\\t\\tR...</td>\n",
       "      <td>\\n\\t\\t\\t\\t\\tDagestan\\n\\t\\t\\t\\t\\t \\n\\t\\t\\t\\t\\tR...</td>\n",
       "      <td>34</td>\n",
       "      <td>6' 3\" ( 190 cm )</td>\n",
       "      <td>235 lb ( 106 kg )</td>\n",
       "      <td>Wrestling and boxing</td>\n",
       "      <td>76\"</td>\n",
       "      <td>41\"</td>\n",
       "      <td>NaN</td>\n",
       "      <td>NaN</td>\n",
       "    </tr>\n",
       "    <tr>\n",
       "      <th>1</th>\n",
       "      <td>Ricardo Abreu</td>\n",
       "      <td>Demente</td>\n",
       "      <td>5-1-0</td>\n",
       "      <td>\\n\\t\\t\\t\\t\\tDourados, \\n\\t\\t\\t\\t\\tMato Grosso ...</td>\n",
       "      <td>\\n\\t\\t\\t\\t\\tHuntington Beach, \\n\\t\\t\\t\\t\\tCali...</td>\n",
       "      <td>32</td>\n",
       "      <td>5' 11\" ( 180 cm )</td>\n",
       "      <td>185 lb ( 84 kg )</td>\n",
       "      <td>Jiu-Jitsu</td>\n",
       "      <td>73\"</td>\n",
       "      <td>NaN</td>\n",
       "      <td>NaN</td>\n",
       "      <td>NaN</td>\n",
       "    </tr>\n",
       "    <tr>\n",
       "      <th>2</th>\n",
       "      <td>Jessica Aguilar</td>\n",
       "      <td>NaN</td>\n",
       "      <td>19-5-0</td>\n",
       "      <td>NaN</td>\n",
       "      <td>NaN</td>\n",
       "      <td>NaN</td>\n",
       "      <td>5' 4\" ( 162 cm )</td>\n",
       "      <td>115 lb ( 52 kg )</td>\n",
       "      <td>NaN</td>\n",
       "      <td>NaN</td>\n",
       "      <td>NaN</td>\n",
       "      <td>NaN</td>\n",
       "      <td>NaN</td>\n",
       "    </tr>\n",
       "    <tr>\n",
       "      <th>3</th>\n",
       "      <td>Omari Akhmedov</td>\n",
       "      <td>Wolverine</td>\n",
       "      <td>16-3-0</td>\n",
       "      <td>\\n\\t\\t\\t\\t\\tKizlyar, \\n\\t\\t\\t\\t\\tDagestan \\n\\t...</td>\n",
       "      <td>\\n\\t\\t\\t\\t\\tMakhachkala\\n\\t\\t\\t\\t\\t \\n\\t\\t\\t\\t...</td>\n",
       "      <td>28</td>\n",
       "      <td>6' 0\" ( 182 cm )</td>\n",
       "      <td>170 lb ( 77 kg )</td>\n",
       "      <td>Striking, takedowns</td>\n",
       "      <td>73\"</td>\n",
       "      <td>40\"</td>\n",
       "      <td>NaN</td>\n",
       "      <td>NaN</td>\n",
       "    </tr>\n",
       "    <tr>\n",
       "      <th>4</th>\n",
       "      <td>Yoshihiro Akiyama</td>\n",
       "      <td>Sexyama</td>\n",
       "      <td>14-6-0, 2NC</td>\n",
       "      <td>\\n\\t\\t\\t\\t\\tOsaka\\n\\t\\t\\t\\t\\t \\n\\t\\t\\t\\t\\tJapa...</td>\n",
       "      <td>NaN</td>\n",
       "      <td>40</td>\n",
       "      <td>5' 10\" ( 177 cm )</td>\n",
       "      <td>170 lb ( 77 kg )</td>\n",
       "      <td>Judo, submissions, knockout power</td>\n",
       "      <td>73\"</td>\n",
       "      <td>42\"</td>\n",
       "      <td>NaN</td>\n",
       "      <td>NaN</td>\n",
       "    </tr>\n",
       "  </tbody>\n",
       "</table>\n",
       "</div>"
      ],
      "text/plain": [
       "             A_Fighter B_Nickname     C_Record  \\\n",
       "0  Shamil Abdurakhimov        NaN       16-3-0   \n",
       "1        Ricardo Abreu    Demente        5-1-0   \n",
       "2      Jessica Aguilar        NaN       19-5-0   \n",
       "3       Omari Akhmedov  Wolverine       16-3-0   \n",
       "4    Yoshihiro Akiyama    Sexyama  14-6-0, 2NC   \n",
       "\n",
       "                                        D_Birthplace  \\\n",
       "0  \\n\\t\\t\\t\\t\\tDagestan\\n\\t\\t\\t\\t\\t \\n\\t\\t\\t\\t\\tR...   \n",
       "1  \\n\\t\\t\\t\\t\\tDourados, \\n\\t\\t\\t\\t\\tMato Grosso ...   \n",
       "2                                                NaN   \n",
       "3  \\n\\t\\t\\t\\t\\tKizlyar, \\n\\t\\t\\t\\t\\tDagestan \\n\\t...   \n",
       "4  \\n\\t\\t\\t\\t\\tOsaka\\n\\t\\t\\t\\t\\t \\n\\t\\t\\t\\t\\tJapa...   \n",
       "\n",
       "                                       E_Billed_From F_Age           G_Height  \\\n",
       "0  \\n\\t\\t\\t\\t\\tDagestan\\n\\t\\t\\t\\t\\t \\n\\t\\t\\t\\t\\tR...    34   6' 3\" ( 190 cm )   \n",
       "1  \\n\\t\\t\\t\\t\\tHuntington Beach, \\n\\t\\t\\t\\t\\tCali...    32  5' 11\" ( 180 cm )   \n",
       "2                                                NaN   NaN   5' 4\" ( 162 cm )   \n",
       "3  \\n\\t\\t\\t\\t\\tMakhachkala\\n\\t\\t\\t\\t\\t \\n\\t\\t\\t\\t...    28   6' 0\" ( 182 cm )   \n",
       "4                                                NaN    40  5' 10\" ( 177 cm )   \n",
       "\n",
       "            H_Weight                            I_Skill J_Armspan K_Leg_Reach  \\\n",
       "0  235 lb ( 106 kg )               Wrestling and boxing       76\"         41\"   \n",
       "1   185 lb ( 84 kg )                          Jiu-Jitsu       73\"         NaN   \n",
       "2   115 lb ( 52 kg )                                NaN       NaN         NaN   \n",
       "3   170 lb ( 77 kg )                Striking, takedowns       73\"         40\"   \n",
       "4   170 lb ( 77 kg )  Judo, submissions, knockout power       73\"         42\"   \n",
       "\n",
       "  L_College M_Degree  \n",
       "0       NaN      NaN  \n",
       "1       NaN      NaN  \n",
       "2       NaN      NaN  \n",
       "3       NaN      NaN  \n",
       "4       NaN      NaN  "
      ]
     },
     "execution_count": 424,
     "metadata": {},
     "output_type": "execute_result"
    }
   ],
   "source": [
    "ufc_df.head()"
   ]
  },
  {
   "cell_type": "code",
   "execution_count": 425,
   "metadata": {
    "collapsed": false
   },
   "outputs": [
    {
     "name": "stdout",
     "output_type": "stream",
     "text": [
      "Index([u'A_Fighter', u'B_Nickname', u'C_Record', u'D_Birthplace',\n",
      "       u'E_Billed_From', u'F_Age', u'G_Height', u'H_Weight', u'I_Skill',\n",
      "       u'J_Armspan', u'K_Leg_Reach', u'L_College', u'M_Degree'],\n",
      "      dtype='object')\n"
     ]
    }
   ],
   "source": [
    "print ufc_df.columns"
   ]
  },
  {
   "cell_type": "code",
   "execution_count": 426,
   "metadata": {
    "collapsed": true
   },
   "outputs": [],
   "source": [
    "ufc_df.columns = [u'Fighter', u'Nickname', u'Record', u'Birthplace',\n",
    "       u'Billed_From', u'Age', u'Height', u'Weight', u'Skill',\n",
    "       u'Armspan', u'Leg_Reach', u'College', u'Degree']"
   ]
  },
  {
   "cell_type": "code",
   "execution_count": 427,
   "metadata": {
    "collapsed": false
   },
   "outputs": [
    {
     "data": {
      "text/html": [
       "<div>\n",
       "<table border=\"1\" class=\"dataframe\">\n",
       "  <thead>\n",
       "    <tr style=\"text-align: right;\">\n",
       "      <th></th>\n",
       "      <th>Fighter</th>\n",
       "      <th>Nickname</th>\n",
       "      <th>Record</th>\n",
       "      <th>Birthplace</th>\n",
       "      <th>Billed_From</th>\n",
       "      <th>Age</th>\n",
       "      <th>Height</th>\n",
       "      <th>Weight</th>\n",
       "      <th>Skill</th>\n",
       "      <th>Armspan</th>\n",
       "      <th>Leg_Reach</th>\n",
       "      <th>College</th>\n",
       "      <th>Degree</th>\n",
       "    </tr>\n",
       "  </thead>\n",
       "  <tbody>\n",
       "    <tr>\n",
       "      <th>0</th>\n",
       "      <td>Shamil Abdurakhimov</td>\n",
       "      <td>NaN</td>\n",
       "      <td>16-3-0</td>\n",
       "      <td>\\n\\t\\t\\t\\t\\tDagestan\\n\\t\\t\\t\\t\\t \\n\\t\\t\\t\\t\\tR...</td>\n",
       "      <td>\\n\\t\\t\\t\\t\\tDagestan\\n\\t\\t\\t\\t\\t \\n\\t\\t\\t\\t\\tR...</td>\n",
       "      <td>34</td>\n",
       "      <td>6' 3\" ( 190 cm )</td>\n",
       "      <td>235 lb ( 106 kg )</td>\n",
       "      <td>Wrestling and boxing</td>\n",
       "      <td>76\"</td>\n",
       "      <td>41\"</td>\n",
       "      <td>NaN</td>\n",
       "      <td>NaN</td>\n",
       "    </tr>\n",
       "    <tr>\n",
       "      <th>1</th>\n",
       "      <td>Ricardo Abreu</td>\n",
       "      <td>Demente</td>\n",
       "      <td>5-1-0</td>\n",
       "      <td>\\n\\t\\t\\t\\t\\tDourados, \\n\\t\\t\\t\\t\\tMato Grosso ...</td>\n",
       "      <td>\\n\\t\\t\\t\\t\\tHuntington Beach, \\n\\t\\t\\t\\t\\tCali...</td>\n",
       "      <td>32</td>\n",
       "      <td>5' 11\" ( 180 cm )</td>\n",
       "      <td>185 lb ( 84 kg )</td>\n",
       "      <td>Jiu-Jitsu</td>\n",
       "      <td>73\"</td>\n",
       "      <td>NaN</td>\n",
       "      <td>NaN</td>\n",
       "      <td>NaN</td>\n",
       "    </tr>\n",
       "    <tr>\n",
       "      <th>2</th>\n",
       "      <td>Jessica Aguilar</td>\n",
       "      <td>NaN</td>\n",
       "      <td>19-5-0</td>\n",
       "      <td>NaN</td>\n",
       "      <td>NaN</td>\n",
       "      <td>NaN</td>\n",
       "      <td>5' 4\" ( 162 cm )</td>\n",
       "      <td>115 lb ( 52 kg )</td>\n",
       "      <td>NaN</td>\n",
       "      <td>NaN</td>\n",
       "      <td>NaN</td>\n",
       "      <td>NaN</td>\n",
       "      <td>NaN</td>\n",
       "    </tr>\n",
       "    <tr>\n",
       "      <th>3</th>\n",
       "      <td>Omari Akhmedov</td>\n",
       "      <td>Wolverine</td>\n",
       "      <td>16-3-0</td>\n",
       "      <td>\\n\\t\\t\\t\\t\\tKizlyar, \\n\\t\\t\\t\\t\\tDagestan \\n\\t...</td>\n",
       "      <td>\\n\\t\\t\\t\\t\\tMakhachkala\\n\\t\\t\\t\\t\\t \\n\\t\\t\\t\\t...</td>\n",
       "      <td>28</td>\n",
       "      <td>6' 0\" ( 182 cm )</td>\n",
       "      <td>170 lb ( 77 kg )</td>\n",
       "      <td>Striking, takedowns</td>\n",
       "      <td>73\"</td>\n",
       "      <td>40\"</td>\n",
       "      <td>NaN</td>\n",
       "      <td>NaN</td>\n",
       "    </tr>\n",
       "    <tr>\n",
       "      <th>4</th>\n",
       "      <td>Yoshihiro Akiyama</td>\n",
       "      <td>Sexyama</td>\n",
       "      <td>14-6-0, 2NC</td>\n",
       "      <td>\\n\\t\\t\\t\\t\\tOsaka\\n\\t\\t\\t\\t\\t \\n\\t\\t\\t\\t\\tJapa...</td>\n",
       "      <td>NaN</td>\n",
       "      <td>40</td>\n",
       "      <td>5' 10\" ( 177 cm )</td>\n",
       "      <td>170 lb ( 77 kg )</td>\n",
       "      <td>Judo, submissions, knockout power</td>\n",
       "      <td>73\"</td>\n",
       "      <td>42\"</td>\n",
       "      <td>NaN</td>\n",
       "      <td>NaN</td>\n",
       "    </tr>\n",
       "  </tbody>\n",
       "</table>\n",
       "</div>"
      ],
      "text/plain": [
       "               Fighter   Nickname       Record  \\\n",
       "0  Shamil Abdurakhimov        NaN       16-3-0   \n",
       "1        Ricardo Abreu    Demente        5-1-0   \n",
       "2      Jessica Aguilar        NaN       19-5-0   \n",
       "3       Omari Akhmedov  Wolverine       16-3-0   \n",
       "4    Yoshihiro Akiyama    Sexyama  14-6-0, 2NC   \n",
       "\n",
       "                                          Birthplace  \\\n",
       "0  \\n\\t\\t\\t\\t\\tDagestan\\n\\t\\t\\t\\t\\t \\n\\t\\t\\t\\t\\tR...   \n",
       "1  \\n\\t\\t\\t\\t\\tDourados, \\n\\t\\t\\t\\t\\tMato Grosso ...   \n",
       "2                                                NaN   \n",
       "3  \\n\\t\\t\\t\\t\\tKizlyar, \\n\\t\\t\\t\\t\\tDagestan \\n\\t...   \n",
       "4  \\n\\t\\t\\t\\t\\tOsaka\\n\\t\\t\\t\\t\\t \\n\\t\\t\\t\\t\\tJapa...   \n",
       "\n",
       "                                         Billed_From  Age             Height  \\\n",
       "0  \\n\\t\\t\\t\\t\\tDagestan\\n\\t\\t\\t\\t\\t \\n\\t\\t\\t\\t\\tR...   34   6' 3\" ( 190 cm )   \n",
       "1  \\n\\t\\t\\t\\t\\tHuntington Beach, \\n\\t\\t\\t\\t\\tCali...   32  5' 11\" ( 180 cm )   \n",
       "2                                                NaN  NaN   5' 4\" ( 162 cm )   \n",
       "3  \\n\\t\\t\\t\\t\\tMakhachkala\\n\\t\\t\\t\\t\\t \\n\\t\\t\\t\\t...   28   6' 0\" ( 182 cm )   \n",
       "4                                                NaN   40  5' 10\" ( 177 cm )   \n",
       "\n",
       "              Weight                              Skill Armspan Leg_Reach  \\\n",
       "0  235 lb ( 106 kg )               Wrestling and boxing     76\"       41\"   \n",
       "1   185 lb ( 84 kg )                          Jiu-Jitsu     73\"       NaN   \n",
       "2   115 lb ( 52 kg )                                NaN     NaN       NaN   \n",
       "3   170 lb ( 77 kg )                Striking, takedowns     73\"       40\"   \n",
       "4   170 lb ( 77 kg )  Judo, submissions, knockout power     73\"       42\"   \n",
       "\n",
       "  College Degree  \n",
       "0     NaN    NaN  \n",
       "1     NaN    NaN  \n",
       "2     NaN    NaN  \n",
       "3     NaN    NaN  \n",
       "4     NaN    NaN  "
      ]
     },
     "execution_count": 427,
     "metadata": {},
     "output_type": "execute_result"
    }
   ],
   "source": [
    "ufc_df.head()"
   ]
  },
  {
   "cell_type": "code",
   "execution_count": 435,
   "metadata": {
    "collapsed": true
   },
   "outputs": [],
   "source": [
    "ufc_df.to_csv(\"Data Sets/ufc.csv\", encoding=\"utf8\")\n"
   ]
  },
  {
   "cell_type": "code",
   "execution_count": null,
   "metadata": {
    "collapsed": true
   },
   "outputs": [],
   "source": []
  }
 ],
 "metadata": {
  "kernelspec": {
   "display_name": "Python 2",
   "language": "python",
   "name": "python2"
  },
  "language_info": {
   "codemirror_mode": {
    "name": "ipython",
    "version": 2
   },
   "file_extension": ".py",
   "mimetype": "text/x-python",
   "name": "python",
   "nbconvert_exporter": "python",
   "pygments_lexer": "ipython2",
   "version": "2.7.11"
  }
 },
 "nbformat": 4,
 "nbformat_minor": 0
}
