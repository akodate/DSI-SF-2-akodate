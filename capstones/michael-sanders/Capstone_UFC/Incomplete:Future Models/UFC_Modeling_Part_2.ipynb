{
 "cells": [
  {
   "cell_type": "code",
   "execution_count": 20,
   "metadata": {
    "collapsed": true
   },
   "outputs": [],
   "source": [
    "import pandas as pd\n",
    "import numpy as np\n",
    "import statsmodels.formula.api as smf\n",
    "import patsy\n",
    "from sklearn.cross_validation import train_test_split\n",
    "from sklearn.cross_validation import cross_val_score\n",
    "all_fights = pd.read_csv('Data Sets/Merged_Fights_Fighters.csv')\n",
    "all_fights.drop(['Unnamed: 0'], axis=1, inplace=True)\n",
    "#mask to remove contested fights\n",
    "mask_no_contest_1 = ((all_fights.method != 'No Contest - Hoffman Failed Drug Test') & \n",
    "                   (all_fights.method != 'No Contest - Overturned by State Commission') &\n",
    "                    (all_fights.method != 'No') & (all_fights.method != \"NC\") & \n",
    "                    (all_fights.method != 'No Contest - Caceres Failed Drug Test') & \n",
    "                     (all_fights.method != 'No Contest - Overturned by Commission' ) & \n",
    "                     (all_fights.method !='No Contest') & (all_fights.method != 'Draw'))\n",
    "# df_contested fights\n",
    "fights = all_fights[mask_no_contest_1]"
   ]
  },
  {
   "cell_type": "code",
   "execution_count": 21,
   "metadata": {
    "collapsed": true
   },
   "outputs": [],
   "source": [
    "#Making copies of the data frame for different models\n",
    "\n",
    "dq_only = fights\n",
    "ko_only = fights\n",
    "tko_only = fights\n",
    "jd_only = fights\n",
    "sub_only = fights"
   ]
  },
  {
   "cell_type": "code",
   "execution_count": 3,
   "metadata": {
    "collapsed": true
   },
   "outputs": [],
   "source": [
    "# #Updating method_encoder\n",
    "# def meth_encoder(y):\n",
    "#     method_code = []\n",
    "#     for method in fights['method']:\n",
    "#         if method == y:\n",
    "#             x = 1\n",
    "#         else:\n",
    "#             x = 0\n",
    "#     method_code.append(x)\n",
    "#     return method_code"
   ]
  },
  {
   "cell_type": "code",
   "execution_count": 22,
   "metadata": {
    "collapsed": false
   },
   "outputs": [
    {
     "name": "stderr",
     "output_type": "stream",
     "text": [
      "/Users/mikesanders/anaconda/lib/python2.7/site-packages/ipykernel/__main__.py:1: SettingWithCopyWarning: \n",
      "A value is trying to be set on a copy of a slice from a DataFrame.\n",
      "Try using .loc[row_indexer,col_indexer] = value instead\n",
      "\n",
      "See the caveats in the documentation: http://pandas.pydata.org/pandas-docs/stable/indexing.html#indexing-view-versus-copy\n",
      "  if __name__ == '__main__':\n"
     ]
    },
    {
     "data": {
      "text/plain": [
       "11"
      ]
     },
     "execution_count": 22,
     "metadata": {},
     "output_type": "execute_result"
    }
   ],
   "source": [
    "dq_only['method_code'] = dq_only['method'].map(lambda x: 1 if x == 'DQ' else 0)\n",
    "dq_only['method_code'].sum()"
   ]
  },
  {
   "cell_type": "code",
   "execution_count": 23,
   "metadata": {
    "collapsed": false
   },
   "outputs": [
    {
     "name": "stdout",
     "output_type": "stream",
     "text": [
      "(3510, 5299)\n",
      "(3510,)\n",
      "[ 0.  0.  0. ...,  0.  0.  0.]\n"
     ]
    }
   ],
   "source": [
    "formula_dq = 'method_code ~ C(event_place) + C(ref) + match_time + C(f1name) + f1height + f1weight + C(f1association) + C(f1class) + C(f1locality) + C(f1country) + C(f2name) + f2height + f2weight + C(f2association) + C(f2class) + C(f2locality) + C(f2country) - 1'\n",
    "dq_Y,dq_X = patsy.dmatrices(formula_dq, data=dq_only, return_type = \"dataframe\")\n",
    "dq_y = np.ravel(dq_Y)\n",
    "print dq_X.shape\n",
    "print dq_y.shape\n",
    "print dq_y"
   ]
  },
  {
   "cell_type": "code",
   "execution_count": null,
   "metadata": {
    "collapsed": true
   },
   "outputs": [],
   "source": [
    "#dq_X_train, dq_X_test, dq_y_train, dq_y_test = train_test_split(dq_X, dq_y, test_size=0.33)"
   ]
  },
  {
   "cell_type": "code",
   "execution_count": 24,
   "metadata": {
    "collapsed": false
   },
   "outputs": [
    {
     "name": "stderr",
     "output_type": "stream",
     "text": [
      "/Users/mikesanders/anaconda/lib/python2.7/site-packages/ipykernel/__main__.py:1: SettingWithCopyWarning: \n",
      "A value is trying to be set on a copy of a slice from a DataFrame.\n",
      "Try using .loc[row_indexer,col_indexer] = value instead\n",
      "\n",
      "See the caveats in the documentation: http://pandas.pydata.org/pandas-docs/stable/indexing.html#indexing-view-versus-copy\n",
      "  if __name__ == '__main__':\n"
     ]
    },
    {
     "data": {
      "text/plain": [
       "414"
      ]
     },
     "execution_count": 24,
     "metadata": {},
     "output_type": "execute_result"
    }
   ],
   "source": [
    "ko_only['method_code'] = ko_only['method'].map(lambda x: 1 if x == 'KO' else 0)\n",
    "ko_only['method_code'].sum()"
   ]
  },
  {
   "cell_type": "code",
   "execution_count": 25,
   "metadata": {
    "collapsed": false
   },
   "outputs": [
    {
     "name": "stdout",
     "output_type": "stream",
     "text": [
      "(3510, 5299)\n",
      "(3510,)\n",
      "[ 0.  0.  0. ...,  0.  0.  0.]\n"
     ]
    }
   ],
   "source": [
    "formula_ko = 'method_code ~ C(event_place) + C(ref) + match_time + C(f1name) + f1height + f1weight + C(f1association) + C(f1class) + C(f1locality) + C(f1country) + C(f2name) + f2height + f2weight + C(f2association) + C(f2class) + C(f2locality) + C(f2country) - 1'\n",
    "ko_Y,ko_X = patsy.dmatrices(formula_ko, data=ko_only, return_type = \"dataframe\")\n",
    "ko_y = np.ravel(ko_Y)\n",
    "print ko_X.shape\n",
    "print ko_y.shape\n",
    "print ko_y"
   ]
  },
  {
   "cell_type": "code",
   "execution_count": null,
   "metadata": {
    "collapsed": true
   },
   "outputs": [],
   "source": [
    "#ko_X_train, ko_X_test, ko_y_train, ko_y_test = train_test_split(ko_X, ko_y, test_size=0.33)"
   ]
  },
  {
   "cell_type": "code",
   "execution_count": 26,
   "metadata": {
    "collapsed": false
   },
   "outputs": [
    {
     "name": "stderr",
     "output_type": "stream",
     "text": [
      "/Users/mikesanders/anaconda/lib/python2.7/site-packages/ipykernel/__main__.py:1: SettingWithCopyWarning: \n",
      "A value is trying to be set on a copy of a slice from a DataFrame.\n",
      "Try using .loc[row_indexer,col_indexer] = value instead\n",
      "\n",
      "See the caveats in the documentation: http://pandas.pydata.org/pandas-docs/stable/indexing.html#indexing-view-versus-copy\n",
      "  if __name__ == '__main__':\n"
     ]
    },
    {
     "data": {
      "text/plain": [
       "847"
      ]
     },
     "execution_count": 26,
     "metadata": {},
     "output_type": "execute_result"
    }
   ],
   "source": [
    "tko_only['method_code'] = tko_only['method'].map(lambda x: 1 if x == 'TKO' else 0)\n",
    "tko_only['method_code'].sum()"
   ]
  },
  {
   "cell_type": "code",
   "execution_count": 27,
   "metadata": {
    "collapsed": false
   },
   "outputs": [
    {
     "name": "stdout",
     "output_type": "stream",
     "text": [
      "(3510, 5299)\n",
      "(3510,)\n",
      "[ 0.  0.  0. ...,  0.  1.  0.]\n"
     ]
    }
   ],
   "source": [
    "formula_tko = 'method_code ~ C(event_place) + C(ref) + match_time + C(f1name) + f1height + f1weight + C(f1association) + C(f1class) + C(f1locality) + C(f1country) + C(f2name) + f2height + f2weight + C(f2association) + C(f2class) + C(f2locality) + C(f2country) - 1'\n",
    "tko_Y,tko_X = patsy.dmatrices(formula_tko, data=tko_only, return_type = \"dataframe\")\n",
    "tko_y = np.ravel(tko_Y)\n",
    "print tko_X.shape\n",
    "print tko_y.shape\n",
    "print tko_y"
   ]
  },
  {
   "cell_type": "code",
   "execution_count": null,
   "metadata": {
    "collapsed": true
   },
   "outputs": [],
   "source": [
    "#tko_X_train, tko_X_test, tko_y_train, tko_y_test = train_test_split(tko_X, tko_y, test_size=0.33)"
   ]
  },
  {
   "cell_type": "code",
   "execution_count": 28,
   "metadata": {
    "collapsed": false
   },
   "outputs": [
    {
     "name": "stderr",
     "output_type": "stream",
     "text": [
      "/Users/mikesanders/anaconda/lib/python2.7/site-packages/ipykernel/__main__.py:1: SettingWithCopyWarning: \n",
      "A value is trying to be set on a copy of a slice from a DataFrame.\n",
      "Try using .loc[row_indexer,col_indexer] = value instead\n",
      "\n",
      "See the caveats in the documentation: http://pandas.pydata.org/pandas-docs/stable/indexing.html#indexing-view-versus-copy\n",
      "  if __name__ == '__main__':\n"
     ]
    },
    {
     "data": {
      "text/plain": [
       "768"
      ]
     },
     "execution_count": 28,
     "metadata": {},
     "output_type": "execute_result"
    }
   ],
   "source": [
    "sub_only['method_code'] = sub_only['method'].map(lambda x: 1 if x == 'Submission' else 0)\n",
    "sub_only['method_code'].sum()"
   ]
  },
  {
   "cell_type": "code",
   "execution_count": 29,
   "metadata": {
    "collapsed": false
   },
   "outputs": [
    {
     "name": "stdout",
     "output_type": "stream",
     "text": [
      "(3510, 5299)\n",
      "(3510,)\n",
      "[ 1.  1.  1. ...,  0.  0.  0.]\n"
     ]
    }
   ],
   "source": [
    "formula_sub = 'method_code ~ C(event_place) + C(ref) + match_time + C(f1name) + f1height + f1weight + C(f1association) + C(f1class) + C(f1locality) + C(f1country) + C(f2name) + f2height + f2weight + C(f2association) + C(f2class) + C(f2locality) + C(f2country) - 1'\n",
    "sub_Y,sub_X = patsy.dmatrices(formula_sub, data=sub_only, return_type = \"dataframe\")\n",
    "sub_y = np.ravel(sub_Y)\n",
    "print sub_X.shape\n",
    "print sub_y.shape\n",
    "print sub_y"
   ]
  },
  {
   "cell_type": "code",
   "execution_count": null,
   "metadata": {
    "collapsed": true
   },
   "outputs": [],
   "source": [
    "#sub_X_train, sub_X_test, sub_y_train, sub_y_test = train_test_split(sub_X, sub_y, test_size=0.33)"
   ]
  },
  {
   "cell_type": "code",
   "execution_count": 30,
   "metadata": {
    "collapsed": false
   },
   "outputs": [
    {
     "name": "stderr",
     "output_type": "stream",
     "text": [
      "/Users/mikesanders/anaconda/lib/python2.7/site-packages/ipykernel/__main__.py:1: SettingWithCopyWarning: \n",
      "A value is trying to be set on a copy of a slice from a DataFrame.\n",
      "Try using .loc[row_indexer,col_indexer] = value instead\n",
      "\n",
      "See the caveats in the documentation: http://pandas.pydata.org/pandas-docs/stable/indexing.html#indexing-view-versus-copy\n",
      "  if __name__ == '__main__':\n"
     ]
    },
    {
     "data": {
      "text/plain": [
       "1470"
      ]
     },
     "execution_count": 30,
     "metadata": {},
     "output_type": "execute_result"
    }
   ],
   "source": [
    "jd_only['method_code'] = jd_only['method'].map(lambda x: 1 if x == 'Decision' else 0)\n",
    "jd_only['method_code'].sum()"
   ]
  },
  {
   "cell_type": "code",
   "execution_count": 31,
   "metadata": {
    "collapsed": false
   },
   "outputs": [
    {
     "name": "stdout",
     "output_type": "stream",
     "text": [
      "(3510, 5299)\n",
      "(3510,)\n",
      "[ 0.  0.  0. ...,  1.  0.  1.]\n"
     ]
    }
   ],
   "source": [
    "formula_jd = 'method_code ~ C(event_place) + C(ref) + match_time + C(f1name) + f1height + f1weight + C(f1association) + C(f1class) + C(f1locality) + C(f1country) + C(f2name) + f2height + f2weight + C(f2association) + C(f2class) + C(f2locality) + C(f2country) - 1'\n",
    "jd_Y,jd_X = patsy.dmatrices(formula_jd, data=jd_only, return_type = \"dataframe\")\n",
    "jd_y = np.ravel(jd_Y)\n",
    "print jd_X.shape\n",
    "print jd_y.shape\n",
    "print jd_y"
   ]
  },
  {
   "cell_type": "code",
   "execution_count": 12,
   "metadata": {
    "collapsed": true
   },
   "outputs": [],
   "source": [
    "#jd_X_train, jd_X_test, jd_y_train, jd_y_test = train_test_split(jd_X, jd_y, test_size=0.33)"
   ]
  },
  {
   "cell_type": "code",
   "execution_count": 32,
   "metadata": {
    "collapsed": true
   },
   "outputs": [],
   "source": [
    "from sklearn.linear_model import LogisticRegressionCV\n",
    "lrcv = LogisticRegressionCV()\n",
    "from sklearn.neighbors import KNeighborsClassifier\n",
    "knn = KNeighborsClassifier()\n",
    "from sklearn.tree import DecisionTreeClassifier\n",
    "DTC = DecisionTreeClassifier()\n",
    "from sklearn.metrics import classification_report"
   ]
  },
  {
   "cell_type": "code",
   "execution_count": 41,
   "metadata": {
    "collapsed": true
   },
   "outputs": [],
   "source": [
    "from sklearn.grid_search import GridSearchCV\n",
    "from sklearn.linear_model import LogisticRegression\n",
    "lr = LogisticRegression()\n",
    "\n",
    "Cs = 1.0/np.logspace(-1,4,20)\n",
    "\n",
    "search_parameters_lr = {\n",
    "    'penalty': ['l1','l2'],\n",
    "    'C': Cs,\n",
    "    'class_weight': [None, 'balanced'],\n",
    "    'solver': ['liblinear'],\n",
    "    'n_jobs': [4]\n",
    "    }\n",
    "\n",
    "lr_est = GridSearchCV(lr, search_parameters_lr, cv=5, scoring='average_precision')"
   ]
  },
  {
   "cell_type": "code",
   "execution_count": 42,
   "metadata": {
    "collapsed": false
   },
   "outputs": [
    {
     "name": "stdout",
     "output_type": "stream",
     "text": [
      "{'penalty': 'l1', 'C': 0.0001, 'n_jobs': 4, 'solver': 'liblinear', 'class_weight': 'balanced'}\n",
      "0.302119549109\n"
     ]
    }
   ],
   "source": [
    "dq_lr_grid = lr_est.fit(dq_X, dq_y)\n",
    "print dq_lr_grid.best_params_\n",
    "print dq_lr_grid.best_score_"
   ]
  },
  {
   "cell_type": "code",
   "execution_count": 43,
   "metadata": {
    "collapsed": false,
    "scrolled": true
   },
   "outputs": [
    {
     "name": "stdout",
     "output_type": "stream",
     "text": [
      "0.00420462268419\n",
      "             precision    recall  f1-score   support\n",
      "\n",
      "        0.0       0.00      0.00      0.00      3499\n",
      "        1.0       0.00      1.00      0.01        11\n",
      "\n",
      "avg / total       0.00      0.00      0.00      3510\n",
      "\n"
     ]
    },
    {
     "name": "stderr",
     "output_type": "stream",
     "text": [
      "/Users/mikesanders/anaconda/lib/python2.7/site-packages/sklearn/grid_search.py:418: ChangedBehaviorWarning: The long-standing behavior to use the estimator's score function in GridSearchCV.score has changed. The scoring parameter is now used.\n",
      "  ChangedBehaviorWarning)\n",
      "/Users/mikesanders/anaconda/lib/python2.7/site-packages/sklearn/metrics/classification.py:1074: UndefinedMetricWarning: Precision and F-score are ill-defined and being set to 0.0 in labels with no predicted samples.\n",
      "  'precision', 'predicted', average, warn_for)\n"
     ]
    }
   ],
   "source": [
    "print dq_lr_grid.score(dq_X, dq_y)\n",
    "dq_y_pred_lr = dq_lr_grid.predict(dq_X)\n",
    "print classification_report(dq_y, dq_y_pred_lr)"
   ]
  },
  {
   "cell_type": "code",
   "execution_count": 44,
   "metadata": {
    "collapsed": false
   },
   "outputs": [
    {
     "name": "stdout",
     "output_type": "stream",
     "text": [
      "{'penalty': 'l1', 'C': 0.0001, 'n_jobs': 4, 'solver': 'liblinear', 'class_weight': 'balanced'}\n",
      "0.558974358974\n"
     ]
    }
   ],
   "source": [
    "ko_lr_grid = lr_est.fit(ko_X, ko_y)\n",
    "print ko_lr_grid.best_params_\n",
    "print ko_lr_grid.best_score_"
   ]
  },
  {
   "cell_type": "code",
   "execution_count": 45,
   "metadata": {
    "collapsed": false
   },
   "outputs": [
    {
     "name": "stdout",
     "output_type": "stream",
     "text": [
      "0.558974358974\n",
      "             precision    recall  f1-score   support\n",
      "\n",
      "        0.0       0.88      1.00      0.94      3096\n",
      "        1.0       0.00      0.00      0.00       414\n",
      "\n",
      "avg / total       0.78      0.88      0.83      3510\n",
      "\n"
     ]
    }
   ],
   "source": [
    "print ko_lr_grid.score(ko_X, ko_y)\n",
    "ko_y_pred_lr = ko_lr_grid.predict(ko_X)\n",
    "print classification_report(ko_y, ko_y_pred_lr)"
   ]
  },
  {
   "cell_type": "code",
   "execution_count": 46,
   "metadata": {
    "collapsed": false
   },
   "outputs": [
    {
     "name": "stdout",
     "output_type": "stream",
     "text": [
      "{'penalty': 'l1', 'C': 0.0001, 'n_jobs': 4, 'solver': 'liblinear', 'class_weight': 'balanced'}\n",
      "0.552875292931\n"
     ]
    }
   ],
   "source": [
    "tko_lr_grid = lr_est.fit(tko_X, tko_y)\n",
    "print tko_lr_grid.best_params_\n",
    "print tko_lr_grid.best_score_"
   ]
  },
  {
   "cell_type": "code",
   "execution_count": null,
   "metadata": {
    "collapsed": true
   },
   "outputs": [],
   "source": []
  },
  {
   "cell_type": "code",
   "execution_count": 47,
   "metadata": {
    "collapsed": false
   },
   "outputs": [
    {
     "name": "stdout",
     "output_type": "stream",
     "text": [
      "0.324264199487\n",
      "             precision    recall  f1-score   support\n",
      "\n",
      "        0.0       0.00      0.00      0.00      2663\n",
      "        1.0       0.24      1.00      0.39       847\n",
      "\n",
      "avg / total       0.06      0.24      0.09      3510\n",
      "\n"
     ]
    }
   ],
   "source": [
    "print tko_lr_grid.score(tko_X, tko_y)\n",
    "tko_y_pred_lr = tko_lr_grid.predict(tko_X)\n",
    "print classification_report(tko_y, tko_y_pred_lr)"
   ]
  },
  {
   "cell_type": "code",
   "execution_count": 64,
   "metadata": {
    "collapsed": false
   },
   "outputs": [
    {
     "data": {
      "text/plain": [
       "array([[  9.99993034e-01,   6.96591406e-06],\n",
       "       [  9.99990030e-01,   9.96952769e-06],\n",
       "       [  9.99997040e-01,   2.96028652e-06],\n",
       "       ..., \n",
       "       [  8.39713790e-02,   9.16028621e-01],\n",
       "       [  1.47905615e-01,   8.52094385e-01],\n",
       "       [  1.01791271e-01,   8.98208729e-01]])"
      ]
     },
     "execution_count": 64,
     "metadata": {},
     "output_type": "execute_result"
    }
   ],
   "source": [
    "sub_lr_grid.predict_proba(sub_X)"
   ]
  },
  {
   "cell_type": "code",
   "execution_count": 48,
   "metadata": {
    "collapsed": false
   },
   "outputs": [
    {
     "name": "stdout",
     "output_type": "stream",
     "text": [
      "{'penalty': 'l1', 'C': 0.00018329807108324373, 'n_jobs': 4, 'solver': 'liblinear', 'class_weight': 'balanced'}\n",
      "0.609401709402\n"
     ]
    }
   ],
   "source": [
    "sub_lr_grid = lr_est.fit(sub_X, sub_y)\n",
    "print dq_lr_grid.best_params_\n",
    "print dq_lr_grid.best_score_"
   ]
  },
  {
   "cell_type": "code",
   "execution_count": 49,
   "metadata": {
    "collapsed": false
   },
   "outputs": [
    {
     "name": "stdout",
     "output_type": "stream",
     "text": [
      "0.609401709402\n",
      "             precision    recall  f1-score   support\n",
      "\n",
      "        0.0       0.78      1.00      0.88      2742\n",
      "        1.0       0.00      0.00      0.00       768\n",
      "\n",
      "avg / total       0.61      0.78      0.69      3510\n",
      "\n"
     ]
    }
   ],
   "source": [
    "print sub_lr_grid.score(sub_X, sub_y)\n",
    "sub_y_pred_lr = sub_lr_grid.predict(sub_X)\n",
    "print classification_report(sub_y, sub_y_pred_lr)"
   ]
  },
  {
   "cell_type": "code",
   "execution_count": 50,
   "metadata": {
    "collapsed": false
   },
   "outputs": [
    {
     "name": "stdout",
     "output_type": "stream",
     "text": [
      "{'penalty': 'l2', 'C': 0.042813323987193959, 'n_jobs': 4, 'solver': 'liblinear', 'class_weight': 'balanced'}\n",
      "0.930987385223\n"
     ]
    }
   ],
   "source": [
    "jd_lr_grid = lr_est.fit(jd_X, jd_y)\n",
    "print jd_lr_grid.best_params_\n",
    "print jd_lr_grid.best_score_"
   ]
  },
  {
   "cell_type": "code",
   "execution_count": 51,
   "metadata": {
    "collapsed": false
   },
   "outputs": [
    {
     "name": "stdout",
     "output_type": "stream",
     "text": [
      "0.937582594618\n",
      "             precision    recall  f1-score   support\n",
      "\n",
      "        0.0       0.99      0.92      0.96      2040\n",
      "        1.0       0.90      0.99      0.94      1470\n",
      "\n",
      "avg / total       0.96      0.95      0.95      3510\n",
      "\n"
     ]
    }
   ],
   "source": [
    "print jd_lr_grid.score(jd_X, jd_y)\n",
    "jd_y_pred_lr = jd_lr_grid.predict(jd_X)\n",
    "print classification_report(jd_y, jd_y_pred_lr)"
   ]
  },
  {
   "cell_type": "code",
   "execution_count": 67,
   "metadata": {
    "collapsed": true
   },
   "outputs": [],
   "source": [
    "from sklearn.grid_search import GridSearchCV\n",
    "from sklearn.linear_model import LogisticRegression\n",
    "lr = LogisticRegression()\n",
    "\n",
    "Cs = 1.0/np.logspace(-1,4,20)\n",
    "\n",
    "search_parameters_lr = {\n",
    "    'penalty': ['l1','l2'],\n",
    "    'C': Cs,\n",
    "    'class_weight': [None, 'balanced'],\n",
    "    'solver': ['liblinear'],\n",
    "    'n_jobs': [4]\n",
    "    }\n",
    "\n",
    "lr_est = GridSearchCV(lr, search_parameters_lr, cv=5)"
   ]
  },
  {
   "cell_type": "code",
   "execution_count": 69,
   "metadata": {
    "collapsed": false
   },
   "outputs": [
    {
     "name": "stdout",
     "output_type": "stream",
     "text": [
      "{'penalty': 'l1', 'C': 0.023357214690901237, 'n_jobs': 4, 'solver': 'liblinear', 'class_weight': None}\n",
      "0.996866096866\n",
      "0.996866096866\n",
      "             precision    recall  f1-score   support\n",
      "\n",
      "        0.0       1.00      1.00      1.00      3499\n",
      "        1.0       0.00      0.00      0.00        11\n",
      "\n",
      "avg / total       0.99      1.00      1.00      3510\n",
      "\n"
     ]
    }
   ],
   "source": [
    "dq_lr_grid = lr_est.fit(dq_X, dq_y)\n",
    "print dq_lr_grid.best_params_\n",
    "print dq_lr_grid.best_score_\n",
    "print dq_lr_grid.score(dq_X, dq_y)\n",
    "dq_y_pred_lr = dq_lr_grid.predict(dq_X)\n",
    "dq_y_proba_lr = dq_lr_grid.predict_proba(dq_X)\n",
    "print classification_report(dq_y, dq_y_pred_lr)"
   ]
  },
  {
   "cell_type": "code",
   "execution_count": 70,
   "metadata": {
    "collapsed": false
   },
   "outputs": [
    {
     "name": "stdout",
     "output_type": "stream",
     "text": [
      "{'penalty': 'l1', 'C': 0.0037926901907322499, 'n_jobs': 4, 'solver': 'liblinear', 'class_weight': None}\n",
      "0.882051282051\n",
      "0.882051282051\n",
      "             precision    recall  f1-score   support\n",
      "\n",
      "        0.0       0.88      1.00      0.94      3096\n",
      "        1.0       0.00      0.00      0.00       414\n",
      "\n",
      "avg / total       0.78      0.88      0.83      3510\n",
      "\n"
     ]
    }
   ],
   "source": [
    "ko_lr_grid = lr_est.fit(ko_X, ko_y)\n",
    "print ko_lr_grid.best_params_\n",
    "print ko_lr_grid.best_score_\n",
    "print ko_lr_grid.score(ko_X, ko_y)\n",
    "ko_y_pred_lr = ko_lr_grid.predict(ko_X)\n",
    "ko_y_proba_lr = ko_lr_grid.predict_proba(ko_X)\n",
    "print classification_report(ko_y, ko_y_pred_lr)"
   ]
  },
  {
   "cell_type": "code",
   "execution_count": 71,
   "metadata": {
    "collapsed": false
   },
   "outputs": [
    {
     "name": "stdout",
     "output_type": "stream",
     "text": [
      "{'penalty': 'l1', 'C': 0.00061584821106602664, 'n_jobs': 4, 'solver': 'liblinear', 'class_weight': None}\n",
      "0.758689458689\n",
      "0.758689458689\n",
      "             precision    recall  f1-score   support\n",
      "\n",
      "        0.0       0.76      1.00      0.86      2663\n",
      "        1.0       0.00      0.00      0.00       847\n",
      "\n",
      "avg / total       0.58      0.76      0.65      3510\n",
      "\n"
     ]
    }
   ],
   "source": [
    "tko_lr_grid = lr_est.fit(tko_X, tko_y)\n",
    "print tko_lr_grid.best_params_\n",
    "print tko_lr_grid.best_score_\n",
    "print tko_lr_grid.score(tko_X, tko_y)\n",
    "tko_y_pred_lr = tko_lr_grid.predict(tko_X)\n",
    "tko_y_proba_lr = tko_lr_grid.predict_proba(tko_X)\n",
    "print classification_report(tko_y, tko_y_pred_lr)"
   ]
  },
  {
   "cell_type": "code",
   "execution_count": 72,
   "metadata": {
    "collapsed": false
   },
   "outputs": [
    {
     "name": "stdout",
     "output_type": "stream",
     "text": [
      "{'penalty': 'l1', 'C': 0.0020691380811147901, 'n_jobs': 4, 'solver': 'liblinear', 'class_weight': None}\n",
      "0.781196581197\n",
      "0.781196581197\n",
      "             precision    recall  f1-score   support\n",
      "\n",
      "        0.0       0.78      1.00      0.88      2742\n",
      "        1.0       0.00      0.00      0.00       768\n",
      "\n",
      "avg / total       0.61      0.78      0.69      3510\n",
      "\n"
     ]
    }
   ],
   "source": [
    "sub_lr_grid = lr_est.fit(sub_X, sub_y)\n",
    "print dq_lr_grid.best_params_\n",
    "print dq_lr_grid.best_score_\n",
    "print sub_lr_grid.score(sub_X, sub_y)\n",
    "sub_y_pred_lr = sub_lr_grid.predict(sub_X)\n",
    "sub_y_proba_lr = sub_lr_grid.predict_proba(sub_X)\n",
    "print classification_report(sub_y, sub_y_pred_lr)"
   ]
  },
  {
   "cell_type": "code",
   "execution_count": 73,
   "metadata": {
    "collapsed": false
   },
   "outputs": [
    {
     "name": "stdout",
     "output_type": "stream",
     "text": [
      "{'penalty': 'l1', 'C': 0.14384498882876628, 'n_jobs': 4, 'solver': 'liblinear', 'class_weight': None}\n",
      "0.952421652422\n",
      "0.954131054131\n",
      "             precision    recall  f1-score   support\n",
      "\n",
      "        0.0       0.99      0.93      0.96      2040\n",
      "        1.0       0.91      0.99      0.95      1470\n",
      "\n",
      "avg / total       0.96      0.95      0.95      3510\n",
      "\n"
     ]
    }
   ],
   "source": [
    "jd_lr_grid = lr_est.fit(jd_X, jd_y)\n",
    "print jd_lr_grid.best_params_\n",
    "print jd_lr_grid.best_score_\n",
    "print jd_lr_grid.score(jd_X, jd_y)\n",
    "jd_y_pred_lr = jd_lr_grid.predict(jd_X)\n",
    "jd_y_proba_lr = jd_lr_grid.predict_proba(jd_X)\n",
    "print classification_report(jd_y, jd_y_pred_lr)"
   ]
  },
  {
   "cell_type": "code",
   "execution_count": 74,
   "metadata": {
    "collapsed": true
   },
   "outputs": [],
   "source": [
    "from sklearn.metrics import roc_curve, auc\n",
    "import matplotlib.pyplot as plt\n",
    "import seaborn as sns\n",
    "\n",
    "sns.set_style('whitegrid')\n",
    "\n",
    "%matplotlib inline\n",
    "%config InlineBackend.figure_format = 'retina'"
   ]
  },
  {
   "cell_type": "code",
   "execution_count": null,
   "metadata": {
    "collapsed": false
   },
   "outputs": [],
   "source": []
  },
  {
   "cell_type": "code",
   "execution_count": 91,
   "metadata": {
    "collapsed": false
   },
   "outputs": [],
   "source": [
    "def plot_roc_curve(X_test, y_test, title, grid):\n",
    "    Y_score = grid.decision_function(X_test)\n",
    "\n",
    "    FPR = dict()\n",
    "    TPR = dict()\n",
    "    ROC_AUC = dict()\n",
    "\n",
    "    # For class 1, find the area under the curve\n",
    "    FPR[1], TPR[1], _ = roc_curve(y_test, Y_score)\n",
    "    ROC_AUC[1] = auc(FPR[1], TPR[1])\n",
    "    plt.plot(FPR[1], TPR[1], label='ROC curve (area = %0.2f)' % ROC_AUC[1], linewidth=4)\n",
    "\n",
    "\n"
   ]
  },
  {
   "cell_type": "code",
   "execution_count": 93,
   "metadata": {
    "collapsed": false
   },
   "outputs": [
    {
     "data": {
      "image/png": "[encoded data removed]",
      "text/plain": [
       "<matplotlib.figure.Figure at 0x151c9a1d0>"
      ]
     },
     "metadata": {
      "image/png": {
       "height": 572,
       "width": 677
      }
     },
     "output_type": "display_data"
    }
   ],
   "source": [
    "\n",
    "\n",
    "# Plot of a ROC curve for class 1 (has_cancer)\n",
    "plt.figure(figsize=[11,9])\n",
    "plot_roc_curve(ko_X, ko_y, 'KOs', ko_lr_grid)\n",
    "plot_roc_curve(dq_X, dq_y, 'DQs', dq_lr_grid)\n",
    "plot_roc_curve(tko_X, tko_y, 'TKOs', tko_lr_grid)\n",
    "plot_roc_curve(sub_X, sub_y, 'Submissions', sub_lr_grid)\n",
    "plot_roc_curve(jd_X, jd_y, 'Decisions', jd_lr_grid)\n",
    "plt.plot([0, 1], [0, 1], 'k--', linewidth=4)\n",
    "plt.xlim([0.0, 1.0])\n",
    "plt.ylim([0.0, 1.05])\n",
    "plt.xlabel('False Positive Rate', fontsize=18)\n",
    "plt.ylabel('True Positive Rate', fontsize=18)\n",
    "plt.title('Receiver operating characteristic for all methods', fontsize=18)\n",
    "plt.legend(loc=\"lower right\")\n",
    "plt.show()"
   ]
  },
  {
   "cell_type": "code",
   "execution_count": null,
   "metadata": {
    "collapsed": true
   },
   "outputs": [],
   "source": []
  },
  {
   "cell_type": "code",
   "execution_count": 52,
   "metadata": {
    "collapsed": true
   },
   "outputs": [],
   "source": [
    "search_parameters_knn = {\n",
    "    \n",
    "    'weights': ['uniform', 'distance'],\n",
    "    'algorithm' : ['auto'],\n",
    "    'leaf_size': [5, 10, 20, 30, 45],\n",
    "    'n_neighbors': [1, 2, 3, 4, 5],\n",
    "    'n_jobs': [4],\n",
    "    'p': [2],\n",
    "    'metric': ['minkowski']\n",
    "    }\n",
    "\n",
    "knn_est = GridSearchCV(knn, search_parameters_knn, cv=10, scoring='average_precision')"
   ]
  },
  {
   "cell_type": "code",
   "execution_count": 53,
   "metadata": {
    "collapsed": false
   },
   "outputs": [
    {
     "name": "stdout",
     "output_type": "stream",
     "text": [
      "{'n_neighbors': 1, 'n_jobs': 4, 'algorithm': 'auto', 'metric': 'minkowski', 'p': 2, 'weights': 'uniform', 'leaf_size': 5}\n",
      "0.151424501425\n"
     ]
    }
   ],
   "source": [
    "dq_knn_grid = knn_est.fit(dq_X, dq_y)\n",
    "print dq_knn_grid.best_params_\n",
    "print dq_knn_grid.best_score_"
   ]
  },
  {
   "cell_type": "code",
   "execution_count": 54,
   "metadata": {
    "collapsed": false
   },
   "outputs": [
    {
     "name": "stdout",
     "output_type": "stream",
     "text": [
      "0.00188506722063\n",
      "             precision    recall  f1-score   support\n",
      "\n",
      "        0.0       0.99      0.54      0.70      3499\n",
      "        1.0       0.00      0.09      0.00        11\n",
      "\n",
      "avg / total       0.99      0.54      0.70      3510\n",
      "\n"
     ]
    }
   ],
   "source": [
    "print dq_lr_grid.score(dq_X, dq_y)\n",
    "dq_y_pred_lr = dq_lr_grid.predict(dq_X)\n",
    "print classification_report(dq_y, dq_y_pred_lr)"
   ]
  },
  {
   "cell_type": "code",
   "execution_count": 55,
   "metadata": {
    "collapsed": false
   },
   "outputs": [
    {
     "name": "stdout",
     "output_type": "stream",
     "text": [
      "{'n_neighbors': 1, 'n_jobs': 4, 'algorithm': 'auto', 'metric': 'minkowski', 'p': 2, 'weights': 'uniform', 'leaf_size': 5}\n",
      "0.32029663647\n"
     ]
    }
   ],
   "source": [
    "ko_knn_grid = knn_est.fit(ko_X, ko_y)\n",
    "print ko_knn_grid.best_params_\n",
    "print ko_knn_grid.best_score_"
   ]
  },
  {
   "cell_type": "code",
   "execution_count": 56,
   "metadata": {
    "collapsed": false
   },
   "outputs": [
    {
     "name": "stdout",
     "output_type": "stream",
     "text": [
      "0.0700380348469\n",
      "             precision    recall  f1-score   support\n",
      "\n",
      "        0.0       0.79      0.48      0.60      3096\n",
      "        1.0       0.01      0.03      0.01       414\n",
      "\n",
      "avg / total       0.70      0.43      0.53      3510\n",
      "\n"
     ]
    }
   ],
   "source": [
    "print ko_lr_grid.score(ko_X, ko_y)\n",
    "ko_y_pred_lr = ko_lr_grid.predict(ko_X)\n",
    "print classification_report(ko_y, ko_y_pred_lr)"
   ]
  },
  {
   "cell_type": "code",
   "execution_count": 57,
   "metadata": {
    "collapsed": false
   },
   "outputs": [
    {
     "name": "stdout",
     "output_type": "stream",
     "text": [
      "{'n_neighbors': 1, 'n_jobs': 4, 'algorithm': 'auto', 'metric': 'minkowski', 'p': 2, 'weights': 'uniform', 'leaf_size': 10}\n",
      "0.455969912504\n"
     ]
    }
   ],
   "source": [
    "tko_knn_grid = knn_est.fit(tko_X, tko_y)\n",
    "print tko_knn_grid.best_params_\n",
    "print tko_knn_grid.best_score_"
   ]
  },
  {
   "cell_type": "code",
   "execution_count": 58,
   "metadata": {
    "collapsed": false
   },
   "outputs": [
    {
     "name": "stdout",
     "output_type": "stream",
     "text": [
      "0.160264415647\n",
      "             precision    recall  f1-score   support\n",
      "\n",
      "        0.0       0.59      0.42      0.49      2663\n",
      "        1.0       0.05      0.09      0.06       847\n",
      "\n",
      "avg / total       0.46      0.34      0.39      3510\n",
      "\n"
     ]
    }
   ],
   "source": [
    "print tko_lr_grid.score(tko_X, tko_y)\n",
    "tko_y_pred_lr = tko_lr_grid.predict(tko_X)\n",
    "print classification_report(tko_y, tko_y_pred_lr)"
   ]
  },
  {
   "cell_type": "code",
   "execution_count": 59,
   "metadata": {
    "collapsed": false
   },
   "outputs": [
    {
     "name": "stdout",
     "output_type": "stream",
     "text": [
      "{'n_neighbors': 1, 'n_jobs': 4, 'algorithm': 'auto', 'metric': 'minkowski', 'p': 2, 'weights': 'uniform', 'leaf_size': 5}\n",
      "0.460097998923\n"
     ]
    }
   ],
   "source": [
    "sub_knn_grid = knn_est.fit(sub_X, sub_y)\n",
    "print sub_knn_grid.best_params_\n",
    "print sub_knn_grid.best_score_"
   ]
  },
  {
   "cell_type": "code",
   "execution_count": 63,
   "metadata": {
    "collapsed": false
   },
   "outputs": [
    {
     "name": "stdout",
     "output_type": "stream",
     "text": [
      "0.109401709402\n",
      "             precision    recall  f1-score   support\n",
      "\n",
      "        0.0       0.63      0.44      0.52      2742\n",
      "        1.0       0.04      0.09      0.06       768\n",
      "\n",
      "avg / total       0.50      0.36      0.42      3510\n",
      "\n"
     ]
    }
   ],
   "source": [
    "print sub_knn_grid.score(sub_X, sub_y)\n",
    "sub_y_pred_lr = sub_lr_grid.predict(sub_X)\n",
    "print classification_report(sub_y, sub_y_pred_lr)"
   ]
  },
  {
   "cell_type": "code",
   "execution_count": 61,
   "metadata": {
    "collapsed": false
   },
   "outputs": [
    {
     "name": "stdout",
     "output_type": "stream",
     "text": [
      "{'n_neighbors': 5, 'n_jobs': 4, 'algorithm': 'auto', 'metric': 'minkowski', 'p': 2, 'weights': 'distance', 'leaf_size': 5}\n",
      "0.948977203029\n"
     ]
    }
   ],
   "source": [
    "jd_knn_grid = knn_est.fit(jd_X, jd_y)\n",
    "print jd_knn_grid.best_params_\n",
    "print jd_knn_grid.best_score_"
   ]
  },
  {
   "cell_type": "code",
   "execution_count": 62,
   "metadata": {
    "collapsed": false
   },
   "outputs": [
    {
     "name": "stdout",
     "output_type": "stream",
     "text": [
      "0.937582594618\n",
      "             precision    recall  f1-score   support\n",
      "\n",
      "        0.0       0.99      0.92      0.96      2040\n",
      "        1.0       0.90      0.99      0.94      1470\n",
      "\n",
      "avg / total       0.96      0.95      0.95      3510\n",
      "\n"
     ]
    }
   ],
   "source": [
    "print jd_lr_grid.score(jd_X, jd_y)\n",
    "jd_y_pred_lr = jd_lr_grid.predict(jd_X)\n",
    "print classification_report(jd_y, jd_y_pred_lr)"
   ]
  },
  {
   "cell_type": "code",
   "execution_count": null,
   "metadata": {
    "collapsed": false
   },
   "outputs": [],
   "source": [
    "\n",
    "FP_log, TP_log, thresholds_log = roc_curve(Y_test, Y_pred_logreg)\n",
    "roc_auc_log = auc(FP_log, TP_log)\n",
    "\n",
    "FP_knn, TP_knn, thresholds_knn = roc_curve(Y_test, Y_pred_knn)\n",
    "roc_auc_knn = auc(FP_knn, TP_knn)\n",
    "\n",
    "FP_dtc, TP_dtc, thresholds_dtc = roc_curve(Y_test, Y_pred_dtc)\n",
    "roc_auc_dtc = auc(FP_dtc, TP_dtc)\n",
    "\n",
    "fig = plt.figure(figsize=(10,10))\n",
    "plt.title('ROC Curve\\n', fontsize =20)\n",
    "plt.plot(FP_log, TP_log, 'y', label='Log AUC = %0.2f'% roc_auc_log)\n",
    "plt.plot(FP_knn, TP_knn, 'g', label='kNN AUC = %0.2f'% roc_auc_knn)\n",
    "plt.plot(FP_dtc, TP_dtc, 'b', label='Decision Tree AUC = %0.2f'% roc_auc_dtc)\n",
    "plt.legend(loc='lower right')\n",
    "plt.plot([0,1],[0,1],'r--')\n",
    "plt.xlim([0.0,1.0])\n",
    "plt.ylim([0.0,1.0])\n",
    "plt.ylabel('True Positive Rate')\n",
    "plt.xlabel('False Positive Rate')\n",
    "plt.show()"
   ]
  }
 ],
 "metadata": {
  "kernelspec": {
   "display_name": "Python 2",
   "language": "python",
   "name": "python2"
  },
  "language_info": {
   "codemirror_mode": {
    "name": "ipython",
    "version": 2
   },
   "file_extension": ".py",
   "mimetype": "text/x-python",
   "name": "python",
   "nbconvert_exporter": "python",
   "pygments_lexer": "ipython2",
   "version": "2.7.11"
  }
 },
 "nbformat": 4,
 "nbformat_minor": 0
}
