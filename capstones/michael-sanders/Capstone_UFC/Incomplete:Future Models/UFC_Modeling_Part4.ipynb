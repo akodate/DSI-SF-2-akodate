{
 "cells": [
  {
   "cell_type": "code",
   "execution_count": 1,
   "metadata": {
    "collapsed": true
   },
   "outputs": [],
   "source": [
    "import pandas as pd\n",
    "import numpy as np\n",
    "import matplotlib.pyplot as plt\n",
    "import seaborn as sns\n",
    "\n",
    "sns.set_style('whitegrid')\n",
    "\n",
    "%matplotlib inline\n",
    "%config InlineBackend.figure_format = 'retina'\n"
   ]
  },
  {
   "cell_type": "code",
   "execution_count": 2,
   "metadata": {
    "collapsed": true
   },
   "outputs": [],
   "source": [
    "all_fights = pd.read_csv('Data Sets/Merged_Fights_Fighters.csv')\n",
    "all_fights.drop(['Unnamed: 0'], axis=1, inplace=True)\n",
    "#mask to remove contested fights\n",
    "mask_no_contest_1 = ((all_fights.method != 'No Contest - Hoffman Failed Drug Test') & \n",
    "                   (all_fights.method != 'No Contest - Overturned by State Commission') &\n",
    "                    (all_fights.method != 'No') & (all_fights.method != \"NC\") & \n",
    "                    (all_fights.method != 'No Contest - Caceres Failed Drug Test') & \n",
    "                     (all_fights.method != 'No Contest - Overturned by Commission' ) & \n",
    "                     (all_fights.method !='No Contest') & (all_fights.method != 'Draw'))\n",
    "# df_contested fights\n",
    "fights = all_fights[mask_no_contest_1]"
   ]
  },
  {
   "cell_type": "code",
   "execution_count": 3,
   "metadata": {
    "collapsed": false
   },
   "outputs": [
    {
     "name": "stderr",
     "output_type": "stream",
     "text": [
      "/Users/mikesanders/anaconda/lib/python2.7/site-packages/ipykernel/__main__.py:14: SettingWithCopyWarning: \n",
      "A value is trying to be set on a copy of a slice from a DataFrame.\n",
      "Try using .loc[row_indexer,col_indexer] = value instead\n",
      "\n",
      "See the caveats in the documentation: http://pandas.pydata.org/pandas-docs/stable/indexing.html#indexing-view-versus-copy\n"
     ]
    }
   ],
   "source": [
    "method_code = []\n",
    "for method in fights['method']:\n",
    "    if method == 'Decision':\n",
    "        x = 0\n",
    "    elif method == 'TKO':\n",
    "        x = 1\n",
    "    elif method == 'Submission':\n",
    "        x = 2\n",
    "    elif method == 'KO':\n",
    "        x = 1\n",
    "    elif method == 'DQ':\n",
    "        x = 3\n",
    "    method_code.append(x)\n",
    "fights['method_code'] = method_code"
   ]
  },
  {
   "cell_type": "code",
   "execution_count": null,
   "metadata": {
    "collapsed": false
   },
   "outputs": [],
   "source": []
  },
  {
   "cell_type": "code",
   "execution_count": 5,
   "metadata": {
    "collapsed": true
   },
   "outputs": [],
   "source": [
    "fights['f1nick_bin'] = fights['f1nick'].map(lambda x: 0 if x == 'None' else 1)\n",
    "fights['f2nick_bin'] = fights['f2nick'].map(lambda x: 0 if x == 'None' else 1)"
   ]
  },
  {
   "cell_type": "code",
   "execution_count": 7,
   "metadata": {
    "collapsed": false
   },
   "outputs": [
    {
     "name": "stderr",
     "output_type": "stream",
     "text": [
      "/Users/mikesanders/anaconda/lib/python2.7/site-packages/ipykernel/__main__.py:1: SettingWithCopyWarning: \n",
      "A value is trying to be set on a copy of a slice from a DataFrame.\n",
      "Try using .loc[row_indexer,col_indexer] = value instead\n",
      "\n",
      "See the caveats in the documentation: http://pandas.pydata.org/pandas-docs/stable/indexing.html#indexing-view-versus-copy\n",
      "  if __name__ == '__main__':\n"
     ]
    },
    {
     "data": {
      "text/plain": [
       "1    2630\n",
       "0     880\n",
       "Name: f1nick_bin, dtype: int64"
      ]
     },
     "execution_count": 7,
     "metadata": {},
     "output_type": "execute_result"
    }
   ],
   "source": [
    "fights['f1nick_bin'] = temp\n",
    "fights['f1nick_bin'].value_counts()"
   ]
  },
  {
   "cell_type": "code",
   "execution_count": 8,
   "metadata": {
    "collapsed": false
   },
   "outputs": [
    {
     "name": "stderr",
     "output_type": "stream",
     "text": [
      "/Users/mikesanders/anaconda/lib/python2.7/site-packages/ipykernel/__main__.py:1: SettingWithCopyWarning: \n",
      "A value is trying to be set on a copy of a slice from a DataFrame.\n",
      "Try using .loc[row_indexer,col_indexer] = value instead\n",
      "\n",
      "See the caveats in the documentation: http://pandas.pydata.org/pandas-docs/stable/indexing.html#indexing-view-versus-copy\n",
      "  if __name__ == '__main__':\n"
     ]
    },
    {
     "data": {
      "text/plain": [
       "1    2550\n",
       "0     960\n",
       "Name: f2nick_bin, dtype: int64"
      ]
     },
     "execution_count": 8,
     "metadata": {},
     "output_type": "execute_result"
    }
   ],
   "source": [
    "fights['f2nick_bin'] = temp2\n",
    "fights['f2nick_bin'].value_counts()"
   ]
  },
  {
   "cell_type": "code",
   "execution_count": 10,
   "metadata": {
    "collapsed": false
   },
   "outputs": [
    {
     "name": "stdout",
     "output_type": "stream",
     "text": [
      "(3510, 5128)\n",
      "(3510,)\n"
     ]
    }
   ],
   "source": [
    "#Starting my models\n",
    "import statsmodels.formula.api as smf\n",
    "import patsy\n",
    "formula = 'method_code ~ C(ref) + C(f1name) + f1height + f1weight + C(f1association) + C(f1class) + C(f1locality) + C(f1country) + C(f2name) + f2height + f2weight + C(f2association) + C(f2class) + C(f2locality) + C(f2country) + f1age + f2age + f1nick_bin + f2nick_bin - 1'\n",
    "Y,X = patsy.dmatrices(formula, data=fights, return_type = \"dataframe\")\n",
    "y = np.ravel(Y)\n",
    "print X.shape\n",
    "print y.shape"
   ]
  },
  {
   "cell_type": "code",
   "execution_count": 11,
   "metadata": {
    "collapsed": true
   },
   "outputs": [],
   "source": [
    "from sklearn.grid_search import GridSearchCV\n",
    "from sklearn.linear_model import LogisticRegression\n",
    "lr = LogisticRegression()\n",
    "\n",
    "Cs = 1.0/np.logspace(-1,4,20)\n",
    "\n",
    "search_parameters_lr = {\n",
    "    'penalty': ['l1','l2'],\n",
    "    'C': Cs,\n",
    "    'class_weight': [None, 'balanced'],\n",
    "    'solver': ['liblinear'],\n",
    "    'n_jobs': [4]\n",
    "    }\n",
    "\n",
    "lr_est = GridSearchCV(lr, search_parameters_lr, cv=5)"
   ]
  },
  {
   "cell_type": "code",
   "execution_count": 12,
   "metadata": {
    "collapsed": false
   },
   "outputs": [
    {
     "name": "stdout",
     "output_type": "stream",
     "text": [
      "{'penalty': 'l1', 'C': 0.012742749857031348, 'n_jobs': 4, 'solver': 'liblinear', 'class_weight': None}\n",
      "0.438461538462\n"
     ]
    }
   ],
   "source": [
    "lr_grid = lr_est.fit(X,y)\n",
    "print lr_grid.best_params_\n",
    "print lr_grid.best_score_"
   ]
  },
  {
   "cell_type": "code",
   "execution_count": null,
   "metadata": {
    "collapsed": true
   },
   "outputs": [],
   "source": [
    "lr_best = LogisticRegression(penalty= 'l1', C= 0.012742749857031348, n_jobs = 4, solver= 'liblinear', class_weight= None)\n",
    "lr_best.fit(X,y)\n",
    "lr_best.co"
   ]
  },
  {
   "cell_type": "code",
   "execution_count": null,
   "metadata": {
    "collapsed": true
   },
   "outputs": [],
   "source": [
    "y_pred_lr = lr_best.predict(X)\n",
    "print classification_report(y, y_pred_lr)"
   ]
  },
  {
   "cell_type": "code",
   "execution_count": null,
   "metadata": {
    "collapsed": true
   },
   "outputs": [],
   "source": [
    "from sklearn.preprocessing import label_binarize\n",
    "from sklearn.metrics import roc_curve, auc\n",
    "class multi_roc:\n",
    "    \n",
    "    # model / estimator\n",
    "    estimator = False\n",
    "    \n",
    "    \n",
    "    def __init__(self, estimator):\n",
    "        self.estimator = estimator\n",
    "        \n",
    "        if \"classes_\" not in vars(estimator):\n",
    "            raise Exception(\"EstimatorError\", \"Estimator has no fit data.  Run .fit()\")\n",
    "                            \n",
    "    def plot(self, X_test, y_test, filter_class=False, figsize=(10,10)):\n",
    "        _ = \"\"\n",
    "        \n",
    "        y_score = self.estimator.decision_function(X_test)\n",
    "        y = label_binarize(y_test, classes=self.estimator.classes_)\n",
    "        \n",
    "        n_classes = y.shape[1]\n",
    "        \n",
    "        fpr = dict()\n",
    "        tpr = dict()\n",
    "        \n",
    "        roc_auc = dict()\n",
    "        \n",
    "        for i in range(n_classes):\n",
    "            fpr[i], tpr[i], _ = roc_curve(y[:, i], y_score[:, i])\n",
    "            roc_auc[self.estimator.classes_[i]] = auc(fpr[i], tpr[i])\n",
    "        \n",
    "        # Compute micro-average ROC curve and ROC area\n",
    "        fpr[\"micro\"], tpr[\"micro\"], _ = roc_curve(y.ravel(), y_score.ravel())\n",
    "        roc_auc[\"micro\"] = auc(fpr[\"micro\"], tpr[\"micro\"])\n",
    "        \n",
    "        if filter_class:\n",
    "            # Plot of a ROC curve for a specific class\n",
    "            figure = plt.figure()\n",
    "            figure.set_size_inches(figsize[0], figsize[1])\n",
    "            plt.plot(fpr[2], tpr[2], label='ROC curve (area = %0.2f)' % roc_auc[2], figsize=(10,10))\n",
    "            plt.plot([0, 1], [0, 1], 'k--')\n",
    "            plt.xlim([0.0, 1.0])\n",
    "            plt.ylim([0.0, 1.05])\n",
    "            plt.xlabel('False Positive Rate')\n",
    "            plt.ylabel('True Positive Rate')\n",
    "            plt.title('Receiver operating characteristic example')\n",
    "            plt.legend(loc=\"lower right\")\n",
    "            plt.show()\n",
    "            \n",
    "            return\n",
    "        \n",
    "        # Plot ROC curve\n",
    "        plt.figure(figsize=figsize)\n",
    "        plt.plot(fpr[\"micro\"], tpr[\"micro\"],\n",
    "                 label='micro-average ROC curve (area = {0:0.2f})'\n",
    "                       ''.format(roc_auc[\"micro\"]))\n",
    "        \n",
    "        for i in range(n_classes):\n",
    "            plt.plot(fpr[i], tpr[i], label='ROC curve of class {0} (area = {1:0.2f})'\n",
    "                                           ''.format(i, roc_auc[i]))\n",
    "        \n",
    "        plt.plot([0, 1], [0, 1], 'k--')\n",
    "        plt.xlim([0.0, 1.0])\n",
    "        plt.ylim([0.0, 1.05])\n",
    "        plt.xlabel('False Positive Rate')\n",
    "        plt.ylabel('True Positive Rate')\n",
    "        plt.title('Some extension of Receiver operating characteristic to multi-class')\n",
    "        plt.legend(loc=\"lower right\")\n",
    "        plt.show()\n",
    "\n",
    "        \n",
    "\n",
    "\n",
    "roc = multi_roc(estimator = lr_best)\n",
    "roc.plot(X, y, figsize=(10,10))"
   ]
  },
  {
   "cell_type": "code",
   "execution_count": 14,
   "metadata": {
    "collapsed": true
   },
   "outputs": [],
   "source": [
    "from sklearn.grid_search import GridSearchCV\n",
    "from sklearn.neighbors import KNeighborsClassifier\n",
    "knn = KNeighborsClassifier()\n",
    "\n",
    "search_parameters_knn = {\n",
    "    \n",
    "    'weights': ['uniform', 'distance'],\n",
    "    'algorithm' : ['auto'],\n",
    "    'leaf_size': [5, 10, 50,50],\n",
    "    'n_neighbors': [1,3,5,7],\n",
    "    'n_jobs': [4],\n",
    "    'p': [2],\n",
    "    'metric': ['minkowski']\n",
    "    }\n",
    "\n",
    "knn_est = GridSearchCV(knn, search_parameters_knn, cv=5)"
   ]
  },
  {
   "cell_type": "code",
   "execution_count": 15,
   "metadata": {
    "collapsed": false
   },
   "outputs": [
    {
     "name": "stdout",
     "output_type": "stream",
     "text": [
      "{'n_neighbors': 7, 'n_jobs': 4, 'algorithm': 'auto', 'metric': 'minkowski', 'p': 2, 'weights': 'uniform', 'leaf_size': 5}\n",
      "0.376068376068\n"
     ]
    }
   ],
   "source": [
    "knn_grid = knn_est.fit(X,y)\n",
    "print knn_grid.best_params_\n",
    "print knn_grid.best_score_"
   ]
  },
  {
   "cell_type": "code",
   "execution_count": null,
   "metadata": {
    "collapsed": true
   },
   "outputs": [],
   "source": []
  },
  {
   "cell_type": "code",
   "execution_count": 16,
   "metadata": {
    "collapsed": true
   },
   "outputs": [],
   "source": [
    "from sklearn.ensemble import RandomForestClassifier\n",
    "rfc = RandomForestClassifier()\n",
    "\n",
    "search_parameters_rfc = {\n",
    "    'n_estimators': [10,20,30],\n",
    "    'criterion': ['gini', 'entropy'],\n",
    "    'max_depth': [1,3,5, None],\n",
    "    'max_features': ['auto', 'sqrt', 'log2', None]\n",
    "    }\n",
    "rfc_est = GridSearchCV(rfc, search_parameters_rfc, cv=5)"
   ]
  },
  {
   "cell_type": "code",
   "execution_count": 17,
   "metadata": {
    "collapsed": false
   },
   "outputs": [
    {
     "name": "stdout",
     "output_type": "stream",
     "text": [
      "{'max_features': None, 'n_estimators': 30, 'criterion': 'gini', 'max_depth': 1}\n",
      "0.435612535613\n"
     ]
    }
   ],
   "source": [
    "rfc_grid = rfc_est.fit(X,y)\n",
    "print rfc_grid.best_params_\n",
    "print rfc_grid.best_score_"
   ]
  },
  {
   "cell_type": "code",
   "execution_count": 18,
   "metadata": {
    "collapsed": true
   },
   "outputs": [],
   "source": [
    "rfc_best = RandomForestClassifier(max_features= None, n_estimators = 30, criterion = 'gini', max_depth = 1)"
   ]
  },
  {
   "cell_type": "code",
   "execution_count": null,
   "metadata": {
    "collapsed": true
   },
   "outputs": [],
   "source": [
    "rfc"
   ]
  }
 ],
 "metadata": {
  "kernelspec": {
   "display_name": "Python 2",
   "language": "python",
   "name": "python2"
  },
  "language_info": {
   "codemirror_mode": {
    "name": "ipython",
    "version": 2
   },
   "file_extension": ".py",
   "mimetype": "text/x-python",
   "name": "python",
   "nbconvert_exporter": "python",
   "pygments_lexer": "ipython2",
   "version": "2.7.11"
  }
 },
 "nbformat": 4,
 "nbformat_minor": 0
}
