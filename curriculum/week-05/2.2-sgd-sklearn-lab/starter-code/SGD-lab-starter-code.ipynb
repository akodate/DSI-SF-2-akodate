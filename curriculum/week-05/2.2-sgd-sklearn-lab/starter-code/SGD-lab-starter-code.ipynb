{
 "cells": [
  {
   "cell_type": "markdown",
   "metadata": {},
   "source": [
    "# sklearn and stochastic gradient descent\n",
    "\n",
    "Until now we've been using the more standard LassoCV, RidgeCV, etc. (or GridSearchCV) to find our optimal parameters. Unfortunately, though these methods work well on smaller datasets with relatively small numbers of columns, once you start getting into \"Medium Data\" these slow down to a crawl, and take up so much memory that fitting them becomes untenable.\n",
    "\n",
    "This is where stochastic gradient descent comes in. Because of its ability to fit iteratively on portions of the data, it avoids the issue of large datasets. It is the most common algorithm to fit models on large datasets.\n",
    "\n",
    "---\n",
    "\n",
    "### Import the packages"
   ]
  },
  {
   "cell_type": "code",
   "execution_count": 1,
   "metadata": {
    "collapsed": true
   },
   "outputs": [],
   "source": [
    "import numpy as np\n",
    "import scipy \n",
    "import seaborn as sns\n",
    "import pandas as pd\n",
    "\n",
    "import patsy\n",
    "\n",
    "import matplotlib\n",
    "import matplotlib.pyplot as plt\n",
    "\n",
    "%config InlineBackend.figure_format = 'retina'\n",
    "%matplotlib inline\n",
    "\n",
    "plt.style.use('fivethirtyeight')"
   ]
  },
  {
   "cell_type": "markdown",
   "metadata": {},
   "source": [
    "---\n",
    "\n",
    "### Load the data\n",
    "\n",
    "I've provided data from the SF assessor's office on housing prices in San Francisco - already cleaned up. However, if you want to try this out on data you've been having trouble fitting, such as the Yelp data for project 5, feel free!\n"
   ]
  },
  {
   "cell_type": "code",
   "execution_count": 3,
   "metadata": {
    "collapsed": false
   },
   "outputs": [],
   "source": [
    "prop = pd.read_csv('/Users/alex/Desktop/DSI-SF-2-akodate/datasets/sf_assessor_value/assessor_value_cleaned.csv')"
   ]
  },
  {
   "cell_type": "markdown",
   "metadata": {},
   "source": [
    "---\n",
    "\n",
    "### Sample down the data\n",
    "\n",
    "For demonstration purposes and the sake of speed, I am sampling down this large dataset to a more reasonable amount of rows. \n",
    "\n",
    "Stochastic gradient descent is much faster, but the real benefit in my opinion is that it can fit much larger datasets. That being said, it is still slow to fit on huge datasets in sklearn. I don't recommend fitting on the entire data. This is actually my recommendation in general; finding the optimal parameters with more and more data will change the hyperparameters but often with marginal returns."
   ]
  },
  {
   "cell_type": "code",
   "execution_count": 5,
   "metadata": {
    "collapsed": false
   },
   "outputs": [
    {
     "data": {
      "text/plain": [
       "(754147, 17)"
      ]
     },
     "execution_count": 5,
     "metadata": {},
     "output_type": "execute_result"
    }
   ],
   "source": [
    "prop.shape"
   ]
  },
  {
   "cell_type": "code",
   "execution_count": 7,
   "metadata": {
    "collapsed": false
   },
   "outputs": [
    {
     "name": "stdout",
     "output_type": "stream",
     "text": [
      "(188537, 17)\n"
     ]
    },
    {
     "data": {
      "text/html": [
       "<div>\n",
       "<table border=\"1\" class=\"dataframe\">\n",
       "  <thead>\n",
       "    <tr style=\"text-align: right;\">\n",
       "      <th></th>\n",
       "      <th>baths</th>\n",
       "      <th>beds</th>\n",
       "      <th>lot_depth</th>\n",
       "      <th>basement_area</th>\n",
       "      <th>front_ft</th>\n",
       "      <th>owner_pct</th>\n",
       "      <th>rooms</th>\n",
       "      <th>property_class</th>\n",
       "      <th>neighborhood</th>\n",
       "      <th>tax_rate</th>\n",
       "      <th>volume</th>\n",
       "      <th>sqft</th>\n",
       "      <th>stories</th>\n",
       "      <th>year_recorded</th>\n",
       "      <th>year_built</th>\n",
       "      <th>zone</th>\n",
       "      <th>value</th>\n",
       "    </tr>\n",
       "  </thead>\n",
       "  <tbody>\n",
       "    <tr>\n",
       "      <th>76328</th>\n",
       "      <td>2</td>\n",
       "      <td>0</td>\n",
       "      <td>80.0</td>\n",
       "      <td>0.0</td>\n",
       "      <td>0.0</td>\n",
       "      <td>1.0</td>\n",
       "      <td>5</td>\n",
       "      <td>D</td>\n",
       "      <td>10E</td>\n",
       "      <td>1000.0</td>\n",
       "      <td>38</td>\n",
       "      <td>942</td>\n",
       "      <td>1</td>\n",
       "      <td>2007</td>\n",
       "      <td>1944</td>\n",
       "      <td>RH1</td>\n",
       "      <td>35832.0</td>\n",
       "    </tr>\n",
       "    <tr>\n",
       "      <th>140638</th>\n",
       "      <td>2</td>\n",
       "      <td>0</td>\n",
       "      <td>0.0</td>\n",
       "      <td>0.0</td>\n",
       "      <td>0.0</td>\n",
       "      <td>1.0</td>\n",
       "      <td>6</td>\n",
       "      <td>D</td>\n",
       "      <td>04C</td>\n",
       "      <td>1000.0</td>\n",
       "      <td>20</td>\n",
       "      <td>1929</td>\n",
       "      <td>2</td>\n",
       "      <td>2008</td>\n",
       "      <td>1929</td>\n",
       "      <td>RH1D</td>\n",
       "      <td>398217.0</td>\n",
       "    </tr>\n",
       "    <tr>\n",
       "      <th>534360</th>\n",
       "      <td>2</td>\n",
       "      <td>0</td>\n",
       "      <td>0.0</td>\n",
       "      <td>0.0</td>\n",
       "      <td>0.0</td>\n",
       "      <td>1.0</td>\n",
       "      <td>6</td>\n",
       "      <td>D</td>\n",
       "      <td>09A</td>\n",
       "      <td>1000.0</td>\n",
       "      <td>33</td>\n",
       "      <td>1371</td>\n",
       "      <td>1</td>\n",
       "      <td>2012</td>\n",
       "      <td>1958</td>\n",
       "      <td>RH2</td>\n",
       "      <td>52937.0</td>\n",
       "    </tr>\n",
       "    <tr>\n",
       "      <th>200467</th>\n",
       "      <td>2</td>\n",
       "      <td>4</td>\n",
       "      <td>0.0</td>\n",
       "      <td>30.0</td>\n",
       "      <td>0.0</td>\n",
       "      <td>1.0</td>\n",
       "      <td>9</td>\n",
       "      <td>D</td>\n",
       "      <td>07D</td>\n",
       "      <td>1000.0</td>\n",
       "      <td>7</td>\n",
       "      <td>2792</td>\n",
       "      <td>3</td>\n",
       "      <td>2009</td>\n",
       "      <td>1910</td>\n",
       "      <td>RH1</td>\n",
       "      <td>231041.0</td>\n",
       "    </tr>\n",
       "    <tr>\n",
       "      <th>643359</th>\n",
       "      <td>2</td>\n",
       "      <td>0</td>\n",
       "      <td>20.0</td>\n",
       "      <td>0.0</td>\n",
       "      <td>0.0</td>\n",
       "      <td>0.5</td>\n",
       "      <td>7</td>\n",
       "      <td>D</td>\n",
       "      <td>10B</td>\n",
       "      <td>1000.0</td>\n",
       "      <td>38</td>\n",
       "      <td>1468</td>\n",
       "      <td>1</td>\n",
       "      <td>2013</td>\n",
       "      <td>1924</td>\n",
       "      <td>RH1</td>\n",
       "      <td>179738.0</td>\n",
       "    </tr>\n",
       "  </tbody>\n",
       "</table>\n",
       "</div>"
      ],
      "text/plain": [
       "        baths  beds  lot_depth  basement_area  front_ft  owner_pct  rooms  \\\n",
       "76328       2     0       80.0            0.0       0.0        1.0      5   \n",
       "140638      2     0        0.0            0.0       0.0        1.0      6   \n",
       "534360      2     0        0.0            0.0       0.0        1.0      6   \n",
       "200467      2     4        0.0           30.0       0.0        1.0      9   \n",
       "643359      2     0       20.0            0.0       0.0        0.5      7   \n",
       "\n",
       "       property_class neighborhood  tax_rate  volume  sqft  stories  \\\n",
       "76328               D          10E    1000.0      38   942        1   \n",
       "140638              D          04C    1000.0      20  1929        2   \n",
       "534360              D          09A    1000.0      33  1371        1   \n",
       "200467              D          07D    1000.0       7  2792        3   \n",
       "643359              D          10B    1000.0      38  1468        1   \n",
       "\n",
       "        year_recorded  year_built  zone     value  \n",
       "76328            2007        1944   RH1   35832.0  \n",
       "140638           2008        1929  RH1D  398217.0  \n",
       "534360           2012        1958   RH2   52937.0  \n",
       "200467           2009        1910   RH1  231041.0  \n",
       "643359           2013        1924   RH1  179738.0  "
      ]
     },
     "execution_count": 7,
     "metadata": {},
     "output_type": "execute_result"
    }
   ],
   "source": [
    "df = prop.sample(frac=.25)\n",
    "print df.shape\n",
    "df.head()"
   ]
  },
  {
   "cell_type": "markdown",
   "metadata": {},
   "source": [
    "---\n",
    "\n",
    "### SGD with regression\n",
    "\n",
    "Below I set up X, y data predicting value (housing price) from the remaining variables. There are ~75,000 rows, with 170 columns."
   ]
  },
  {
   "cell_type": "code",
   "execution_count": null,
   "metadata": {
    "collapsed": false
   },
   "outputs": [],
   "source": []
  },
  {
   "cell_type": "markdown",
   "metadata": {},
   "source": [
    "---\n",
    "\n",
    "### Import the modeling classes\n",
    "\n",
    "`SGDRegressor` and `SGDClassifer` are the models used in this solution These are the very general, flexible stochastic gradient descent classes."
   ]
  },
  {
   "cell_type": "code",
   "execution_count": 3,
   "metadata": {
    "collapsed": true
   },
   "outputs": [],
   "source": [
    "from sklearn.linear_model import (LinearRegression, LogisticRegression, \n",
    "                                  Lasso, Ridge,\n",
    "                                  SGDRegressor, SGDClassifier)\n",
    "from sklearn.preprocessing import StandardScaler\n",
    "from sklearn.cross_validation import cross_val_score\n",
    "from sklearn.grid_search import GridSearchCV, RandomizedSearchCV\n",
    "\n",
    "import scipy.stats as stats\n"
   ]
  },
  {
   "cell_type": "markdown",
   "metadata": {},
   "source": [
    "---\n",
    "\n",
    "### Standardize the data\n",
    "\n",
    "Always a necessary step when performing regularization."
   ]
  },
  {
   "cell_type": "code",
   "execution_count": null,
   "metadata": {
    "collapsed": false
   },
   "outputs": [],
   "source": []
  },
  {
   "cell_type": "markdown",
   "metadata": {},
   "source": [
    "---\n",
    "\n",
    "### Run the gridsearch on parameters\n",
    "\n",
    "SGDRegressor and SGDClassifier use GridSearchCV and RandomizedSearchCV (which will be introduced in the next section) to find the optimal parameters. If you are still unsure of how to use the GridSearchCV, please look this up in the sklearn documentation. I want you to get used to looking things up online - you will be doing this literally every day on the job."
   ]
  },
  {
   "cell_type": "code",
   "execution_count": null,
   "metadata": {
    "collapsed": true
   },
   "outputs": [],
   "source": []
  },
  {
   "cell_type": "markdown",
   "metadata": {},
   "source": [
    "---\n",
    "\n",
    "### Visualize or otherwise look at the SGDRegression results\n",
    "\n",
    "How you choose to examine the results is up to you. Visualizations are always a good idea, but not entirely neccessary (or easy) in this case."
   ]
  },
  {
   "cell_type": "code",
   "execution_count": null,
   "metadata": {
    "collapsed": false
   },
   "outputs": [],
   "source": []
  },
  {
   "cell_type": "markdown",
   "metadata": {
    "collapsed": true
   },
   "source": [
    "---\n",
    "\n",
    "### RandomizedSearchCV\n",
    "\n",
    "This class is very similar to GridSearchCV in the way it is initialized with parameters. The big difference is that instead of searching across a strictly specified grid, it searches over random values that are defined by distributions.\n",
    "\n",
    "Below I have set up for you an example of parameters and calls to the class.\n",
    "\n",
    "    uniform: this random variable is from scipy.stats and it pulls random values from the uniform distribution from 0.01 to 20000\n",
    "    sgd_rand_params: the only difference here is that alpha gets the random variable. It will pull random values from that distribution\n",
    "    RandomizedSearchCV: this takes an n_iter parameter that specifies how long to search over random values\n",
    "    \n",
    "RandomizedSearchCV is often faster than GridSearchCV while getting the same optimal parameteres. However, this is not _always_ the case. As far as I know it is not completely random, but rather begins to favor values that are closer to its current optimum.\n",
    "\n",
    "For more information, see:\n",
    "\n",
    "[RandomizedSearchCV documentation](http://scikit-learn.org/stable/modules/generated/sklearn.grid_search.RandomizedSearchCV.html#sklearn.grid_search.RandomizedSearchCV)\n",
    "\n",
    "[scipy.stats available distributions and functions](http://docs.scipy.org/doc/scipy/reference/stats.html)\n"
   ]
  },
  {
   "cell_type": "code",
   "execution_count": 4,
   "metadata": {
    "collapsed": false
   },
   "outputs": [],
   "source": [
    "uniform = stats.uniform(loc=0.01, scale=20000)\n",
    "\n",
    "sgd_rand_params = {\n",
    "    'loss':['squared_loss'],\n",
    "    'penalty':['l1','l2'],\n",
    "    'alpha':uniform\n",
    "}\n",
    "\n",
    "sgd_reg = SGDRegressor()\n",
    "sgd_reg_rand_gs = RandomizedSearchCV(sgd_reg, sgd_rand_params, cv=5, verbose=2, n_iter=50)"
   ]
  },
  {
   "cell_type": "markdown",
   "metadata": {},
   "source": [
    "---\n",
    "\n",
    "### Visualize/examine the results from your RandomizedSearchCV results"
   ]
  },
  {
   "cell_type": "code",
   "execution_count": null,
   "metadata": {
    "collapsed": false
   },
   "outputs": [],
   "source": []
  },
  {
   "cell_type": "markdown",
   "metadata": {},
   "source": [
    "---\n",
    "\n",
    "### SGDClassifier\n",
    "\n",
    "Using either GridSearchCV or RandomizedSearchCV, set up an X, y classification problem to look at. Depending on the data you loaded in, you may need to get new data. \n",
    "\n",
    "Find the optimal parameters."
   ]
  },
  {
   "cell_type": "code",
   "execution_count": null,
   "metadata": {
    "collapsed": false
   },
   "outputs": [],
   "source": []
  },
  {
   "cell_type": "markdown",
   "metadata": {},
   "source": [
    "---\n",
    "\n",
    "### Visualize/examine the results of the classifier\n",
    "\n",
    "Just like above."
   ]
  },
  {
   "cell_type": "code",
   "execution_count": null,
   "metadata": {
    "collapsed": true
   },
   "outputs": [],
   "source": []
  }
 ],
 "metadata": {
  "anaconda-cloud": {},
  "kernelspec": {
   "display_name": "Python [dsi]",
   "language": "python",
   "name": "Python [dsi]"
  },
  "language_info": {
   "codemirror_mode": {
    "name": "ipython",
    "version": 2
   },
   "file_extension": ".py",
   "mimetype": "text/x-python",
   "name": "python",
   "nbconvert_exporter": "python",
   "pygments_lexer": "ipython2",
   "version": "2.7.12"
  }
 },
 "nbformat": 4,
 "nbformat_minor": 0
}
