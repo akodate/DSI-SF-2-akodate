{
 "cells": [
  {
   "cell_type": "markdown",
   "metadata": {
    "slideshow": {
     "slide_type": "slide"
    }
   },
   "source": [
    "<img src=\"https://ga-dash.s3.amazonaws.com/production/assets/logo-9f88ae6c9c3871690e33280fcf557f33.png\" style=\"float: left; margin: 10px\">\n",
    "\n",
    "# Database Fundamentals\n",
    "Week 5 | Lesson 1.1\n",
    "\n",
    "### LEARNING OBJECTIVES\n",
    "*After this lesson, you will be able to:*\n",
    "- Explain RDBMS fundamentals\n",
    "- Describe what SQL and noSQL mean\n",
    "- Describe tradeoffs between SQL and noSQL\n",
    "- Identify remote vs local database instances"
   ]
  },
  {
   "cell_type": "markdown",
   "metadata": {
    "slideshow": {
     "slide_type": "slide"
    }
   },
   "source": [
    "### STUDENT PRE-WORK\n",
    "*Before this lesson, you should already be able to:*\n",
    "- Work with CSV and json files\n",
    "- Use Pandas Dataframes and Python dictionaries\n",
    "- Transfer data to/from Pandas from/to CSV and json"
   ]
  },
  {
   "cell_type": "markdown",
   "metadata": {
    "slideshow": {
     "slide_type": "slide"
    }
   },
   "source": [
    "### LESSON GUIDE\n",
    "\n",
    "| TIMING  | TYPE  | TOPIC  |\n",
    "|:-:|---|---|\n",
    "| 5 min | [Opening](#opening) | Opening |\n",
    "| 15 mins | [Introduction](#introduction) | Intro to Relational Databases |\n",
    "| 10 mins | [Guided](#guided_practice_1) | Design a relational database |\n",
    "| 15 min | [Introduction](#introduction_2) | Alternative databases |\n",
    "| 10 mins | [(Optional) Guided-practice](#guided-practice_2) | (Optional) Find the most appropriate storage |\n",
    "| 10 mins | [Demo](#demo_1) | Connecting to a Local Database |\n",
    "| 10 mins | [Demo](#demo_2) | Connecting to a Remote Database |\n",
    "| 10 minutes | [Ind-practice](#ind-practice) | Independent Practice |\n",
    "| 5 mins | [Conclusion](#conclusion) | Conclusion |\n"
   ]
  },
  {
   "cell_type": "markdown",
   "metadata": {
    "slideshow": {
     "slide_type": "slide"
    }
   },
   "source": [
    "## Who has used relational databases and/or non-relational databases (noSQL)?"
   ]
  },
  {
   "cell_type": "markdown",
   "metadata": {
    "slideshow": {
     "slide_type": "fragment"
    }
   },
   "source": [
    "### How is this different than a Pandas DataFrame?"
   ]
  },
  {
   "cell_type": "markdown",
   "metadata": {
    "slideshow": {
     "slide_type": "slide"
    }
   },
   "source": [
    "<a name=\"opening\"></a>\n",
    "## Opening (5 min)\n",
    "\n",
    "Up to this point, we have used DataFrames, sourced from CSV and sometimes json files.\n",
    "\n",
    "Mainly these solutions lack\n",
    "- Fault tolerence \n",
    "- Performance / Scalability\n",
    "- Interactive Features\n",
    "\n",
    "Databases are the standard solution for data storage and are much more robust than text, CSV or json files. Most analyses involve using data in some format and in most settings, a database is the tool of choice.\n",
    "\n",
    "Databases can come in many flavors, designed to serve for different use cases. We will survey few applications and explore the most common families of databases: Relational (RDBMS) and non-Relational (noSQL)."
   ]
  },
  {
   "cell_type": "markdown",
   "metadata": {
    "slideshow": {
     "slide_type": "slide"
    }
   },
   "source": [
    "## Prevalence in DS Job Market\n",
    "_Circa December 2015 - Frequency of Terms related to \"Data Scientist\" on Indeed.com_\n",
    "![](https://snag.gy/Gweik7.jpg)"
   ]
  },
  {
   "cell_type": "markdown",
   "metadata": {
    "slideshow": {
     "slide_type": "slide"
    }
   },
   "source": [
    "<a name=\"introduction\"></a>\n",
    "## Intro to Relational Database Systems (RDBMS) (15 mins)\n",
    "\n",
    "Databases are computer systems that manage storage and querying of data. Databases provide a way to organize data along with efficient methods to retrieve specific information.\n",
    "\n",
    "Typically, retrieval is performed using structured query lanaguge (SQL), with many operators for conditional selection, aggregation, joining/merging, and data transformation.  **Many of these concepts we've explored using Pandas DataFrames!**\n",
    "\n",
    "Databases allow users to create rules that ensure proper data management and verification."
   ]
  },
  {
   "cell_type": "markdown",
   "metadata": {
    "slideshow": {
     "slide_type": "slide"
    }
   },
   "source": [
    "### Industry example 1\n",
    "\n",
    "Consider the case of a bank. It needs to keep track of all the money in each of its clients' accounts. Let's suppose that the bank stores these as numbers in a table with two columns:\n",
    "\n",
    "| ACCOUNT_ID | BALANCE |\n",
    "|---|---|\n",
    "| 1 | 10.000 |\n",
    "| 2 | 12.546 |\n",
    "| 3 | 8761 |\n",
    "|...|...|\n",
    "\n",
    "** If this table was stored in a file in a central bank, how would internet banking look like? What problems could arise? **\n",
    "\n"
   ]
  },
  {
   "cell_type": "markdown",
   "metadata": {
    "slideshow": {
     "slide_type": "notes"
    }
   },
   "source": [
    "Look for them to notice problems of:\n",
    "- consistency (what if two nodes try to read/edit the file at the same time?)\n",
    "- availability (what if a node is not connected to the central bank?)\n",
    "- partition tolerance (what if only part of the file is available?)\n",
    "- scale (what if too many nodes request data from the file at the same time?)"
   ]
  },
  {
   "cell_type": "markdown",
   "metadata": {
    "slideshow": {
     "slide_type": "fragment"
    }
   },
   "source": [
    "As you may have quickly understood, when multiple processes/users are interacting with the same data, it quickly becomes impractical to store it in a single file on a single machine. That's when a database comes in."
   ]
  },
  {
   "cell_type": "markdown",
   "metadata": {
    "slideshow": {
     "slide_type": "slide"
    }
   },
   "source": [
    "### Transactional Integrity\n",
    "A unit of work performed against a database is called a _transaction_. This term generally represents any change in database.\n",
    "\n",
    "Going back to the bank example, consider the case where you want to transfer money from an account to another.\n",
    "\n",
    "![Transaction](../assets/images/transaction.png)"
   ]
  },
  {
   "cell_type": "markdown",
   "metadata": {
    "slideshow": {
     "slide_type": "notes"
    }
   },
   "source": [
    "**Imagine your money in this system:**\n",
    "- What happens if step 1 succeeds and step 2 fails ?\n",
    "- What if you request the balance between step 1 and step2 ?"
   ]
  },
  {
   "cell_type": "markdown",
   "metadata": {
    "slideshow": {
     "slide_type": "fragment"
    }
   },
   "source": [
    "The system that stores the data must be resilient to these problems. It must know when a transaction begins, when it ends, what to do if it never ends and what to do if another transaction is requested, while the previous one is still going."
   ]
  },
  {
   "cell_type": "markdown",
   "metadata": {
    "slideshow": {
     "slide_type": "slide"
    }
   },
   "source": [
    "### ACID\n",
    "\n",
    "The acronym ACID stands for Atomicity, Consistency, Isolation, Durability. This is a set of properties that guarantee that database transactions are processed reliably.\n",
    "\n",
    "**Atomicity** requires that each transaction be \"all or nothing\": if one part of the transaction fails, the entire transaction fails, and the database state is left unchanged.\n",
    "\n",
    "**Consistency** ensures that any transaction will bring the database from one valid state to another. Any data written to the database must be valid according to all defined rules, including constraints, cascades, triggers, and any combination thereof.\n",
    "\n",
    "**Isolation** ensures that the concurrent execution of transactions results in a system state that would be obtained if transactions were executed serially, i.e., one after the other.\n",
    "\n",
    "**Durability** ensures that once a transaction has been committed, it will remain so, even in the event of power loss, crashes, or errors. In a relational database, for instance, once a group of SQL statements execute, the results need to be stored permanently (even if the database crashes immediately thereafter)\n",
    "\n",
    "This is the typical model under which _relational databases_ operate, and it fits perfectly our previous example of the bank.\n"
   ]
  },
  {
   "cell_type": "markdown",
   "metadata": {
    "slideshow": {
     "slide_type": "slide"
    }
   },
   "source": [
    "### Relational Databases\n",
    "\n",
    "A _relational database_ is a database based tabular data and link between data entities or concepts. Typically, a relational database is organized into _tables_. Each table should correspond to one entity or concept. Each _table_ is similar to a single CSV file or Pandas dataframe.\n",
    "\n",
    "For example, let's take a sample application like Twitter. Our two main entities are Users and Tweets. For each of these we would have a table.\n",
    "\n",
    "| TWEET_ID | USER_ID | TWEET_TEXT |\n",
    "|---|---|---|\n",
    "| 5234 | 1234567 | \"Ate an entire pound of bacon this morning.  My arteries are ready to start the day.\" |\n",
    "| 2351 | 4529234 | \"Spock vs Chewbaka.  My definitive fan fiction chronicles a potential outcome.\" |\n",
    "| 5521 | 2348902932 | \"OMG Kardashians + Bieber convolutional network mashup madness.\" |\n",
    "|...|...|...|\n",
    "\n",
    "| USER_ID | USERNAME |\n",
    "|---|---|\n",
    "| 1234567 | \"dyerrington\" |\n",
    "| 4529234 | \"kieferk\" |\n",
    "| 2348902932 | \"stoneyv\" |\n",
    "|...|...|\n",
    "\n",
    "A table is made up rows and columns, similar to a Pandas dataframe or Excel spreadsheet.  It's standard practice in relational database design to segment your data to it's essential form.  Rather than putting \"username\" in every single row inside the tweets table, we can simply reference a username by \"ID\".  This saves a lot of space if you have a table with billions of records."
   ]
  },
  {
   "cell_type": "markdown",
   "metadata": {
    "slideshow": {
     "slide_type": "slide"
    }
   },
   "source": [
    "### A quick note on \"Schemas\"\n",
    "\n",
    "The term **\"schema\"** can mean different things depending on which flavor of database you are talking about (MySQL, Postgres, Oracle, MSSQL).  Generally, the definition that we will accept for this class is:\n",
    "\n",
    ">A **schema** is a collection of database objects which includes logical structures.\n",
    "\n",
    "Including:\n",
    "\n",
    "- Databases\n",
    "- Tables\n",
    "- Relationships Between Tables\n",
    "- Keys and Indexes\n",
    "\n",
    "We will talk more about these soon."
   ]
  },
  {
   "cell_type": "markdown",
   "metadata": {
    "slideshow": {
     "slide_type": "slide"
    }
   },
   "source": [
    "## Who remembers what happens with dtypes in a DataFrame?\n",
    "\n",
    "```python\n",
    "data = [\n",
    "   [1, 34, \"2004-12-31\", 55],\n",
    "   [0, 34, \"2004-12-31\", 55],\n",
    "   ['?', np.nan, \"2004-12-31\", 55],\n",
    "   [1, 34, \"2004-12-31\", 55],\n",
    "   [1, 34, \"2004-12-31\", 5.5],\n",
    "]\n",
    "df = pd.DataFrame(data)\n",
    "\n",
    "```"
   ]
  },
  {
   "cell_type": "markdown",
   "metadata": {
    "slideshow": {
     "slide_type": "slide"
    }
   },
   "source": [
    "##  Relational Databases Schemas\n",
    "\n",
    "A table can also be refered to as a _schema_ which defines how data will be managed and contained. \n",
    "\n",
    "Table schemas define:\n",
    "\n",
    "- Column definitions\n",
    "  - Type\n",
    "  - Length\n",
    "- Indexes\n",
    "  - Unique constraints\n",
    "- Keys\n",
    "  - Auto-increment behavior\n",
    "  - Relationships to other tables\n",
    "    - Primary \n",
    "    - Foreign\n",
    "\n",
    "These specify what columns are contained in the table and what _type_ those columns are (text, integers, floats, etc.).\n",
    "\n",
    "The addition of _type_ information make this constraint stronger than a CSV file. For this reason, and many others, databases allow for stronger data consistency and often are a better solution for data storage."
   ]
  },
  {
   "cell_type": "markdown",
   "metadata": {
    "slideshow": {
     "slide_type": "slide"
    }
   },
   "source": [
    "Each table typically has a _primary key_ column. This column is a unique value per row and serves as the identifier for the row.\n",
    "\n",
    "A table can have many _foreign keys_ as well. A _foreign key_ is a column that contains values to link the table to the other tables. For example, the tweets table may have as columns:\n",
    "- tweet_id, the primary key tweet identifier\n",
    "- the tweet text\n",
    "- the user id of the member, a foreign key to the users table\n",
    "\n",
    "| _Primary Key_ | _Foreign Key_ | |\n",
    "|---|---|---|\n",
    "| **TWEET_ID** | **USER_ID** | **TWEET_TEXT** |\n",
    "|---|---|---|\n",
    "| 5234 | 1234567 | \"Ate an entire pound of bacon this morning.  My arteries are ready to start the day.\" |\n",
    "| 2351 | 4529234 | \"Spock vs Chewbaka.  My definitive fan fiction chronicles a potential outcome.\" |\n",
    "| 5521 | 2348902932 | \"OMG Kardashians + Bieber convolutional network mashup madness.\" |\n",
    "|...|...|...|\n",
    "\n",
    "These keys that link the table together define the relational database.\n",
    "\n",
    "MySQL and Postgres are popular variants of relational databases and are widely used. Both of these are open-source so are available for free.\n",
    "\n",
    "Alternatively, many larger companies may use Oracle or Microsoft SQL databases. While these all offer many of the same features (and use SQL as a query language), the latter also offer some maintenance features that large companies find useful."
   ]
  },
  {
   "cell_type": "markdown",
   "metadata": {
    "slideshow": {
     "slide_type": "slide"
    }
   },
   "source": [
    "## An Entity Relation Diagram (ERD)\n",
    "\n",
    "![](https://snag.gy/QsBNnS.jpg)"
   ]
  },
  {
   "cell_type": "markdown",
   "metadata": {
    "slideshow": {
     "slide_type": "slide"
    }
   },
   "source": [
    "<a name=\"guided_practice_1\"></a>\n",
    "## Design a relational database (10 mins)\n",
    "\n",
    "Consider the following dataset from Uber with the follow fields:\n",
    "    - User ID\n",
    "    - User Name\n",
    "    - Driver ID\n",
    "    - Driver Name\n",
    "    - Ride ID\n",
    "    - Ride Time\n",
    "    - Pickup Longitude\n",
    "    - Pickup Latitude\n",
    "    - Pickup Location Entity\n",
    "    - Drop-off Longitude\n",
    "    - Drop-off Latitude\n",
    "    - Drop-off Location Entity\n",
    "    - Miles\n",
    "    - Travel Time\n",
    "    - Fare\n",
    "    - CC Number\n",
    "    \n",
    "Work in pairs and answer the following questions:\n",
    "\n",
    "- How would you design a relational database to support this data?\n",
    "- List the tables you would create\n",
    "- What fields would they contain?\n",
    "- How would they link to other tables?"
   ]
  },
  {
   "cell_type": "markdown",
   "metadata": {
    "slideshow": {
     "slide_type": "slide"
    }
   },
   "source": [
    "> Answer:\n",
    "    Users table:\n",
    "        - User ID\n",
    "        - User Name\n",
    "        - Joined Date\n",
    "        - CC Number\n",
    "\n",
    ">    Drivers table:\n",
    "        - Driver ID\n",
    "        - Driver Name\n",
    "        - Joined Date\n",
    "\n",
    ">    Locations table: Should store popular destinations metadata\n",
    "        - Entity\n",
    "        - Longitude\n",
    "        - Latitude\n",
    "        - Description\n",
    "\n",
    ">    Rides:\n",
    "        - Ride ID\n",
    "        - Ride Time\n",
    "        - User ID (link to users)\n",
    "        - Driver ID (link to drivers)\n",
    "        - Pickup Location Entity (link to locations)\n",
    "        - Drop-off Location Entity (link to locations)\n",
    "        - Miles\n",
    "        - Travel Time\n",
    "        - Fare\n",
    "        - CC Number"
   ]
  },
  {
   "cell_type": "markdown",
   "metadata": {
    "slideshow": {
     "slide_type": "slide"
    }
   },
   "source": [
    "### Key-value stores\n",
    "Some databases are nothing more than very-large (and very-fast) hash-maps or dictionaries that can be larger than memory. These are useful for storing key based data, i.e. storing the last access or visit time per user, or counting things per user or customer.\n",
    "\n",
    "Every entry in these databases has two values, a key and value, and we can retrieve any value based on its key. This is exactly like a python dictionary, but can be much larger than your memory allows and uses smart caching algorithms to ensure frequently or recently accessed items are quickly accessible.  The ideal use case for a key-value store is ephermeral data.\n",
    "\n",
    "Popular key-value stores include **Cassandra, Redis, Kafka, and `memcachedb`**.\n",
    "\n",
    "Key-value stores are typically used for: _image stores, key-based filesystems, object cache, systems designed to scale_."
   ]
  },
  {
   "cell_type": "markdown",
   "metadata": {
    "slideshow": {
     "slide_type": "slide"
    }
   },
   "source": [
    "### NoSQL or Document databases\n",
    "\"NoSQL\" databases don't rely on a traditional table setup and are more flexible in their data organization. Typically they do actually have SQL querying abilities, but simply model their data differently.\n",
    "\n",
    "Many organize the data on an entity level, but often have denormalized and nested data setups. For example, for each user, we may store their metadata, along with a collection of tweets, each of which has its own metadata. This nesting can continue down encapsulating entities. This data layout is similar what we might expect in hierarchically structured data structures such as JSON, XML, or Python Dictionaries.\n",
    "\n",
    "Popular databases of this variety include `mongodb` and `couchdb`.\n",
    "\n",
    "Typical uses: high-variablity data, document search, integration hubs, web content management, publishing..."
   ]
  },
  {
   "cell_type": "markdown",
   "metadata": {
    "slideshow": {
     "slide_type": "slide"
    }
   },
   "source": [
    "## A quick note on databse solution selection:\n",
    "\n",
    "### If you are unsure about which database solution to use, choose a relational database.  Postgres and MySQL are much more scalable than you think.\n",
    "\n",
    "- Easy to migrate to NoSQL\n",
    "- Scalable \n",
    "- Maximum flexiblity to query data\n",
    "- Widest array of features overall"
   ]
  },
  {
   "cell_type": "markdown",
   "metadata": {
    "slideshow": {
     "slide_type": "slide"
    }
   },
   "source": [
    "## Industry Example\n",
    "\n",
    "Consider the case of a social app being development by a startup. There are user profiles, with many entities. There are also activities that user might participage in.  Requirements change almost daily so nothing is set in stone.  It's not important that everything is consistent and it's very likely some profiles will have features in the future, that older profiles won't.\n",
    "\n",
    "**Check:** What would be the shortcomings of the relational DB model in this case?"
   ]
  },
  {
   "cell_type": "markdown",
   "metadata": {
    "slideshow": {
     "slide_type": "fragment"
    }
   },
   "source": [
    "> Answer:\n",
    "> - schema: different products have different properties, a rigid schema makes it hard to add new products\n",
    "> - potentially:  scalability"
   ]
  },
  {
   "cell_type": "markdown",
   "metadata": {
    "slideshow": {
     "slide_type": "slide"
    }
   },
   "source": [
    "#### Timeseries databases\n",
    "Time series databases (TSDB) are optimized for handling time series data, i.e. data that is indexed by time (a datetime or a datetime range).\n",
    "\n",
    "Examples of time series include stock market data, energy load data from a utility company, server metrics, purchase history, website metric, ads and clicks, sensor data from a wearable device or an internet-of-things sensor, smartphone sensor data, just to name a few..\n",
    "\n",
    "Time series pose different challenges that cannot be usually solved with the traditional relational database model.\n",
    "\n",
    "**Check:** What issues could arise when modeling time series data with a tabular data model?\n",
    "\n",
    "> answer:\n",
    "> - critical data volume\n",
    "> - time ordering\n",
    "> - out of order inserts\n",
    "> - joins\n",
    "\n",
    "Popular databases of this variety include: Atlas, Druid, InfluxDB, Splunk\n",
    "\n",
    "Typical uses: financial data, metrics, energy monitoring..."
   ]
  },
  {
   "cell_type": "markdown",
   "metadata": {
    "slideshow": {
     "slide_type": "slide"
    }
   },
   "source": [
    "Mainly these are good at dimensional time series data for near real-time operational insight.  Splunk for example, is a solution for searching activity data across entire infrastructures in real-time.  MySQL can do this, but Splunk has many features tailored for time series problems that are central to reporting and forensics."
   ]
  },
  {
   "cell_type": "markdown",
   "metadata": {
    "slideshow": {
     "slide_type": "slide"
    }
   },
   "source": [
    "#### Graph databases\n",
    "Graph databases are optimized to store data about networks. Most graph databases are NoSQL in nature and store their data in a key-value store or document-oriented database. In general terms, they can be considered to be key-value databases with the addition of the relationship concept.\n",
    "\n",
    "![](http://image.slidesharecdn.com/beginnerpresentation-120429104540-phpapp01/95/introduction-to-graph-databases-24-728.jpg?cb=1335696642)\n",
    "\n",
    "In traditional relational databases, the relationships are defined within the data itself. In graph databases, relationships allow the values in the store to be related to each other in a free form way. This allows complex hierarchies to be quickly traversed, addressing one of the more common performance problems found in traditional key-value stores.\n",
    "\n",
    "Most graph databases also add the concept of tags or properties, which are essentially relationships lacking a pointer to another document.\n",
    "\n",
    "Popular databases of this variety include: Neo4j, OpenCog, AllegroGraph, Oracle Spatial and Graph...\n",
    "\n",
    "Typical uses: social networks, fraud detection, relationship-heavy data..."
   ]
  },
  {
   "cell_type": "markdown",
   "metadata": {
    "slideshow": {
     "slide_type": "slide"
    }
   },
   "source": [
    "#### Industry example\n",
    "\n",
    "Consider a phone company that has information about phone calls. Each phone call entity has the following properties:\n",
    "\n",
    "- caller_id\n",
    "- receiver_id\n",
    "- time_of_call\n",
    "- duration\n",
    "\n",
    "Each user does several calls, and some users may be more connected than others. The company is interested in finding the people that are central in the network of call connections (super connectors), in order to extend them a promotion on their phone usage. The reason for doing this is that they want them to be happy with the company and positively influence the brand image to their connections.\n",
    "\n",
    "A graph database is perfectly suited to answer such a question.\n",
    "\n",
    "Other examples include\n",
    "\n",
    "- finding communities\n",
    "- finding shortest path between two entities\n",
    "- detecting fraudolent behavior\n",
    "- establishing user identity"
   ]
  },
  {
   "cell_type": "markdown",
   "metadata": {
    "slideshow": {
     "slide_type": "slide"
    }
   },
   "source": [
    "## A Graph Example\n",
    "\n",
    "![](https://snag.gy/jwAYCE.jpg)"
   ]
  },
  {
   "cell_type": "markdown",
   "metadata": {
    "slideshow": {
     "slide_type": "slide"
    }
   },
   "source": [
    "### BASE (Basically Available, Soft state, Eventual consistency)\n",
    "\n",
    "- **Basically available** indicates that the system does guarantee availability.\n",
    "- **Soft state** indicates that the state of the system may change over time, even without input. This is because of the eventual consistency model.\n",
    "- **Eventual consistency** indicates that the system will become consistent over time, given that the system doesn't receive input during that time.\n",
    "\n",
    "Main concept: get rid of locks, allow everyone to write, worry about consistency later."
   ]
  },
  {
   "cell_type": "markdown",
   "metadata": {
    "slideshow": {
     "slide_type": "slide"
    }
   },
   "source": [
    "<a name=\"guided-practice_2\"></a>\n",
    "## (Optional) Find the most appropriate storage (10 mins)\n",
    "\n",
    "In pairs or small groups iscuss the best storage or database solution for each scenario:\n",
    "\n",
    "> Note: Many of these the answers may be personal preference, but we should understand some of the differences.\n",
    "\n",
    "1. Database for an application with user profiles.\n",
    "2. Database for an online store.\n",
    "3. Storing last visit date of a user.\n",
    "4. Mobile application that allows peer to peer sharing of messages that have short lifetime.\n",
    "5. A hedge fund that needs to record stock market data and run models on them."
   ]
  },
  {
   "cell_type": "markdown",
   "metadata": {
    "slideshow": {
     "slide_type": "fragment"
    }
   },
   "source": [
    "<a name=\"guided-practice_2\"></a>\n",
    "## (Optional) Find the most appropriate storage (10 mins)\n",
    "\n",
    "In pairs or small groups iscuss the best storage or database solution for each scenario:\n",
    "\n",
    "> Instructor Note: Many of these the answers may be personal preference, but students should understand some of the differences.\n",
    "\n",
    "1. Database for an application with user profiles\n",
    ">    - Probably relational DB. It could be a 'noSQL' database if user profile fields are commonly updating or we want to make it easy to do complex queries on user profile elements.\n",
    "\n",
    "2. Database for an online store\n",
    ">    - Probably a relational DB - Fast storage querying, standard table structures, transactional capabilities\n",
    "\n",
    "3. Storing last visit date of a user\n",
    ">    - A fast key-value store would be useful for caching interesting statistics about users (last visit, total visits)\n",
    "\n",
    "4. Mobile application that allows peer to peer sharing of messages that have short lifetime.\n",
    ">    - Probably a graph database for users and a noSQL or key-value store for messages\n",
    "\n",
    "5. A hedge fund that needs to record stock market data and run models on them.\n",
    ">  - a time series database"
   ]
  },
  {
   "cell_type": "markdown",
   "metadata": {
    "slideshow": {
     "slide_type": "slide"
    }
   },
   "source": [
    "# To Our Notebook!  After a short break.."
   ]
  },
  {
   "cell_type": "markdown",
   "metadata": {
    "slideshow": {
     "slide_type": "skip"
    }
   },
   "source": [
    "\n",
    "<a name=\"demo_1\"></a>\n",
    "## Connecting to a Local Database (10 mins)\n",
    "A database can be local or remote, it can span a single machine or it can be distributed with replicated data over several machines. The latter configuration is called _sharding_.\n",
    "\n",
    "Let's start by connecting to a local _sqlite_ database.\n",
    "\n",
    "### SQLite\n",
    "\n",
    "**[SQLite](https://sqlite.org/)** is a database software package built on the Structured Query Language [(SQL)](https://en.wikipedia.org/wiki/SQL).  It is similar to other SQL databases, such as [PostgreSQL](http://www.postgresql.org/), [MySQL](https://www.mysql.com/), Oracle, and Microsoft SQL Server, except that it is *file-based*, rather than *server-based*.  This makes it easy to setup and use for small projects, but less suitable for production environments.  Once you are familiar with sqlite, the same ideas, and similar syntax, can be applied to other SQL databases.\n",
    "\n",
    "SQLite v3 is bundled with most python distributions (including our Anaconda distribution).  There are two options we recommend for browsing SQLite3 databases:\n",
    "\n",
    "- [SQLite Browser](http://sqlitebrowser.org/), a free cross-platform solution\n",
    "- [SQLite Manager](https://addons.mozilla.org/en-US/firefox/addon/sqlite-manager/?src), a Firefox add-on for viewing SQLite database files via a simple GUI.\n"
   ]
  },
  {
   "cell_type": "markdown",
   "metadata": {
    "slideshow": {
     "slide_type": "skip"
    }
   },
   "source": [
    "\n",
    "#### Interacting with SQLite\n",
    "There are multiple ways of interacting with an SQLite database, including:\n",
    "\n",
    "1. SQLite Command Line Utility\n",
    "2. python `sqlite3` package\n",
    "3. `pandas` SQL Interface\n",
    "4. High-level ORMs (e.g. sqlalchemy, django ORM, etc.)\n",
    "\n",
    "Let's start with method 1. All of these methods provide some form of wrapper, or set of convenience functions, for interacting with SQLite.  Behind the scenes, the Structured Query Language (SQL) itself defines the interface to the database software.  This underlying SQL syntax will be visible to a greater or lesser degree depending upon the method that is chosen."
   ]
  },
  {
   "cell_type": "markdown",
   "metadata": {
    "slideshow": {
     "slide_type": "skip"
    }
   },
   "source": [
    "#### Common SQL Command Patterns\n",
    "The SQL command set has a rich syntax with numerous options, but most of the commonly used commands follow a few simple patterns.  A basic familiarity of these patterns is helpful when working in SQL:\n",
    "\n",
    "    CREATE TABLE ...\n",
    "    ALTER TABLE ... ADD COLUMN ...\n",
    "    INSERT INTO ... VALUES ...\n",
    "    UPDATE ... SET ... WHERE ...\n",
    "    SELECT ... FROM ... WHERE ...\n",
    "    SELECT ... FROM ... JOIN ... ON ...\n",
    "    DELETE FROM ... WHERE ..."
   ]
  },
  {
   "cell_type": "markdown",
   "metadata": {
    "slideshow": {
     "slide_type": "skip"
    }
   },
   "source": [
    "### 1. SQLite Command Line Utility\n",
    "\n",
    "The first method we'll explore is connecting to SQLite via the built-in [command line utility](https://www.sqlite.org/sqlite.html).  \n",
    "\n",
    "> Note: the commands in this section should be executed within your normal terminal shell.\n",
    "\n",
    "To start a new session of the interpreter, simply open your terminal and type `sqlite3`, followed by the name of the database file.  If the file does not yet exist, sqlite will create it.\n",
    "\n",
    "    $ sqlite3 test1.sqlite\n",
    "\n",
    "    SQLite version 3.7.12 2012-04-03 19:43:07\n",
    "    Enter \".help\" for instructions\n",
    "    Enter SQL statements terminated with a \";\"\n",
    "    sqlite>\n",
    "\n",
    "Notice that your terminal prompt changes to `sqlite>`, indicating that you are now entering commands into the sqlite command line utility.  Take a quick look at the help command:\n",
    "\n",
    "    sqlite> .help\n",
    "Display the current databases - you should see the new file `test1.db`:\n",
    "\n",
    "    sqlite> .databases"
   ]
  },
  {
   "cell_type": "markdown",
   "metadata": {
    "slideshow": {
     "slide_type": "skip"
    }
   },
   "source": [
    "\n",
    "#### Creating tables and adding columns\n",
    "Create an table called `table1` with a single column `field1` containing an INTEGER PRIMARY KEY:\n",
    "\n",
    "    sqlite> CREATE TABLE table1 (field1 INTEGER PRIMARY KEY);\n",
    "\n",
    "Add a few more columns to `table1`:\n",
    "\n",
    "    sqlite> ALTER TABLE table1 ADD COLUMN field2 VARCHAR(16);\n",
    "    sqlite> ALTER TABLE table1 ADD COLUMN field3 REAL;\n",
    "    sqlite> ALTER TABLE table1 ADD COLUMN field4 TEXT;\n",
    "\n",
    "Notice the different field types in the ALTER TABLE commands.  SQLite supports several different [field types](https://www.sqlite.org/datatype3.html), including INTEGERS, variable length VARCHAR character fields (with a max length), TEXT fields, and 'REALS', which are used to store floating point numbers.\n",
    "\n",
    "Verify that the table was created:\n",
    "\n",
    "    sqlite> .tables\n",
    "\n",
    "You can check the `schema` of the table using `.schema`, which shows the commands that would be needed to create the database tables from scratch.  \n",
    "\n",
    "    sqlite> .schema\n",
    "\n",
    "Notice that in this case, our `table1` could have been created with a single command, rather than adding each column separately.\n"
   ]
  },
  {
   "cell_type": "markdown",
   "metadata": {
    "slideshow": {
     "slide_type": "skip"
    }
   },
   "source": [
    "#### Adding data\n",
    "Let's add some data:\n",
    "\n",
    "    sqlite> INSERT INTO table1 VALUES (1, 'Henry James', 42, '75 Mission Street, San Francisco, CA');\n",
    "    sqlite> INSERT INTO table1 VALUES (2, 'Carol James', 40, '75 Mission Street, San Francisco, CA');\n",
    "    sqlite> INSERT INTO table1 VALUES (3, 'Jesse James', 12, '75 Mission Street, San Francisco, CA');\n",
    "\n",
    "Notice that the first column has unique values - this is a requirement for the PRIMARY KEY column.  If we try to add a record using an existing PK value we'll get an error:\n",
    "\n",
    "    sqlite> INSERT INTO table1 VALUES (3, 'Julie James', 10, '75 Mission Street, San Francisco, CA');\n",
    "    Error: PRIMARY KEY must be unique\n",
    "\n",
    "Fortunately, SQLite has some built in functionality to auto-increment the PK value - just set the value of the PK field to NULL when doing the INSERT and it will automatically be set to a valid value.\n",
    "\n",
    "    sqlite> INSERT INTO table1 VALUES (NULL, 'Julie James', 10, '75 Mission Street, San Francisco, CA');\n",
    "\n",
    "Now that we have some data, take a look at the database using the **SQLite Browser**.\n",
    "\n",
    "1. Open App\n",
    "2. Open SQLite3 File \"Open Database\" from file menu\n",
    "3. Click on \"Browse Data\" from tabbed UI\n",
    "\n",
    "Notice that the value in `field1` for the Julie James record has been automatically set to 4."
   ]
  },
  {
   "cell_type": "markdown",
   "metadata": {
    "slideshow": {
     "slide_type": "skip"
    }
   },
   "source": [
    "#### Updating records\n",
    "Suppose we need to update an existing record with new data - e.g. maybe Julie James is only 9.  For this we use the UPDATE command:\n",
    "\n",
    "    sqlite> UPDATE table1 SET field3=9 WHERE field1=4;"
   ]
  },
  {
   "cell_type": "markdown",
   "metadata": {
    "slideshow": {
     "slide_type": "skip"
    }
   },
   "source": [
    "#### Removing Records\n",
    "To remove records use the DELETE command:\n",
    "\n",
    "    sqlite> DELETE FROM table1 WHERE field2 like '%Jesse%';\n",
    "\n",
    "Use SQLite-Manager to verify that the Jesse James record has been removed.  To exit the sqlite interpreter type `.exit`.\n",
    "\n",
    "    sqlite>  .exit"
   ]
  },
  {
   "cell_type": "markdown",
   "metadata": {
    "slideshow": {
     "slide_type": "skip"
    }
   },
   "source": [
    "<a name=\"demo_2\"></a>\n",
    "## Connecting to a Remote Database (10 mins)\n",
    "\n",
    "> Update with AWS configuration settings\n",
    "\n",
    "### Postgresql\n",
    "\n",
    "**[Postgresql](http://www.postgresql.org/)** is a very powerful SQL based relational database.\n",
    "\n",
    "#### PostgreSQL syntax\n",
    "\n",
    "GA provides a PostgreSQL database instance at the following address:\n",
    "\n",
    "You can connect to it using:\n",
    "\n",
    "> ### OSX Users\n",
    "> For OSX, we install postgress via the PostgresApp package from [postgresapp.com](http://postgresapp.com/)\n",
    "> Also, for easy access, add this alias to your .bash_profile:\n",
    ">\n",
    "> **Edit the file:** <br>\n",
    "> `nano ~/.bash_profile`\n",
    ">\n",
    "> **Add this line:** <br>\n",
    "> `alias psql=/Applications/Postgres.app/Contents/Versions/9.5/bin/psql`\n",
    ">\n",
    "> **Reload your profile:** <br>\n",
    "> `source ~/.bash_profile`\n",
    "\n",
    "    psql -h dsi.c20gkj5cvu3l.us-east-1.rds.amazonaws.com -p 5432 -U dsi_student titanic\n",
    "    password: gastudents\n",
    "\n",
    "PosgreSQL accepts the same syntax as sqlite, with exception of a few system commands. Here are the most common:\n",
    "\n",
    "- `\\q`: Quit/Exit\n",
    "- `\\c __database__`: Connect to a database\n",
    "- `\\d __table__`: Show table definition including triggers\n",
    "- `\\dt *.*`: List tables from all schemas (if `*.*` is omitted will only show SEARCH_PATH ones)\n",
    "- `\\l`: List databases\n",
    "- `\\dn`: List schemas\n",
    "- `\\df`: List functions\n",
    "- `\\dv`: List views\n",
    "- `\\dt`: List tables\n",
    "- `\\df+ __function` : Show function SQL code.\n",
    "- `\\x`: Pretty-format query results instead of the not-so-useful ASCII tables\n",
    "\n",
    "\n",
    "Suggestions:\n",
    "- if run with `-E` flag, it will describe the underlaying queries of the `\\` commands (cool for learning!).\n",
    "- Most `\\d` commands support additional param of `__schema__.name__` and accept wildcards like `*.*`"
   ]
  },
  {
   "cell_type": "markdown",
   "metadata": {
    "slideshow": {
     "slide_type": "skip"
    }
   },
   "source": [
    "### Comparison\n",
    "\n",
    "\n",
    "|Task|MySQL|PostgreSQL|SQLite|\n",
    "|---|---|---|---|\n",
    "|Connect to a database|mysql &lt;dbname&gt;| psql &lt;dbname&gt;|sqlite3 &lt;filename&gt;|\n",
    "|Client help|help contents|\\?|.help|\n",
    "|SQL help|help contents|\\h|n/a|\n",
    "|List databases|SHOW DATABASES;|\\l|.databases|\n",
    "|Change database|USE &lt;dbname&gt;|\\c <dbname&gt;|n/a|\n",
    "|List tables|SHOW TABLES;|\\dt|.tables|\n",
    "|Show table|info DESCRIBE &lt;tablename&gt;|\\d &lt;tablename&gt;|.schema &lt;tablename&gt;|\n",
    "|Load data|LOAD DATA INFILE &lt;file&gt; |\\i &lt;file&gt;|.import &lt;file&gt; &lt;table&gt;|\n",
    "|Export data|SELECT ... INTO OUTFILE &lt;file&gt;|\\o &lt;file&gt;|.dump &lt;table&gt;|\n",
    "|Exit the client|quit (or exit)| \\q|.exit|\n",
    "\n",
    "<a name=\"ind-practice\"></a>"
   ]
  },
  {
   "cell_type": "markdown",
   "metadata": {
    "slideshow": {
     "slide_type": "slide"
    }
   },
   "source": [
    "<a name=\"conclusion\"></a>\n",
    "## Conclusion (5 mins)\n",
    "Relational databases are the most common. They organize data into tables. Other database types exist, including graph, hash, documents and time-series specific databases.\n",
    "The simplest local database is _sqlite_ and we learned how to add and remove data from it.\n",
    "We also learnt how to connect to a remote _postgreSQL_ database and few basic _SQL_ commands."
   ]
  },
  {
   "cell_type": "markdown",
   "metadata": {
    "slideshow": {
     "slide_type": "slide"
    }
   },
   "source": [
    "![](http://itknowledgeexchange.techtarget.com/overheard/files/2014/01/Graph-database-sketch.jpg)"
   ]
  },
  {
   "cell_type": "markdown",
   "metadata": {
    "slideshow": {
     "slide_type": "slide"
    }
   },
   "source": [
    "![](https://snag.gy/Yaz0yT.jpg)"
   ]
  },
  {
   "cell_type": "markdown",
   "metadata": {
    "slideshow": {
     "slide_type": "slide"
    }
   },
   "source": [
    "![](https://snag.gy/pz01bd.jpg)"
   ]
  },
  {
   "cell_type": "markdown",
   "metadata": {
    "slideshow": {
     "slide_type": "slide"
    }
   },
   "source": [
    "![](https://snag.gy/QsBNnS.jpg)"
   ]
  },
  {
   "cell_type": "markdown",
   "metadata": {
    "slideshow": {
     "slide_type": "slide"
    }
   },
   "source": [
    "### ADDITIONAL RESOURCES\n",
    "\n",
    "- [Database page on Wikipedia](https://en.wikipedia.org/wiki/Database)\n",
    "- [Database tutorials](http://www.tutorialspoint.com/database_tutorials.htm)\n",
    "- [Postgres Cheat Sheet](https://gist.github.com/Kartones/dd3ff5ec5ea238d4c546)"
   ]
  }
 ],
 "metadata": {
  "anaconda-cloud": {},
  "celltoolbar": "Slideshow",
  "kernelspec": {
   "display_name": "Python [dsi]",
   "language": "python",
   "name": "Python [dsi]"
  },
  "language_info": {
   "codemirror_mode": {
    "name": "ipython",
    "version": 2
   },
   "file_extension": ".py",
   "mimetype": "text/x-python",
   "name": "python",
   "nbconvert_exporter": "python",
   "pygments_lexer": "ipython2",
   "version": "2.7.12"
  },
  "widgets": {
   "state": {},
   "version": "1.1.1"
  }
 },
 "nbformat": 4,
 "nbformat_minor": 0
}
