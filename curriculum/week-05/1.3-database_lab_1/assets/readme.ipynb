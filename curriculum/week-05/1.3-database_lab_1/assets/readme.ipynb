{
 "cells": [
  {
   "cell_type": "markdown",
   "metadata": {},
   "source": [
    "---\n",
    "title: DB Lab 1\n",
    "type: lab\n",
    "duration: \"1:25\"\n",
    "creator:\n",
    "    name: Francesco Mosconi\n",
    "    city: SF\n",
    "---"
   ]
  },
  {
   "cell_type": "markdown",
   "metadata": {},
   "source": [
    "# ![](https://ga-dash.s3.amazonaws.com/production/assets/logo-9f88ae6c9c3871690e33280fcf557f33.png) DB Lab 1"
   ]
  },
  {
   "cell_type": "markdown",
   "metadata": {},
   "source": [
    "## Introduction\n",
    "\n",
    "> ***Note:*** _This can be a pair programming activity or done independently._\n",
    "\n",
    "In this lab we will explore a small subset of the database of the [Enron email corpus](https://www.cs.cmu.edu/~./enron/)\n",
    "\n",
    "This dataset was collected and prepared by the CALO Project (A Cognitive Assistant that Learns and Organizes). The original dataset contains data from about 150 users, mostly senior management of Enron and about 0.5M messages. This data was originally made public, and posted to the web, by the Federal Energy Regulatory Commission during its investigation. The subset we use here is much smaller than the total dataset.\n"
   ]
  },
  {
   "cell_type": "markdown",
   "metadata": {},
   "source": [
    "## Exercise\n",
    "\n",
    "#### Requirements\n",
    "\n",
    "- Load the data from the enron.db file into Pandas\n",
    "- Perform exploratory data analysis\n",
    "- Use the merge function from pandas to combine data from different tables\n",
    "\n",
    "**Bonus:**\n",
    "- Answer few more questions using the merge function from pandas\n",
    "\n",
    "#### Starter code\n",
    "\n",
    "The starter code folder contains an ipython notebook with a series of questions. Most questions can be solved in more than one way and using different tools. Feel free to use both SQL and Pandas to tackle them."
   ]
  }
 ],
 "metadata": {
  "kernelspec": {
   "display_name": "Python 2",
   "language": "python",
   "name": "python2"
  },
  "language_info": {
   "codemirror_mode": {
    "name": "ipython",
    "version": 2
   },
   "file_extension": ".py",
   "mimetype": "text/x-python",
   "name": "python",
   "nbconvert_exporter": "python",
   "pygments_lexer": "ipython2",
   "version": "2.7.11"
  }
 },
 "nbformat": 4,
 "nbformat_minor": 0
}
