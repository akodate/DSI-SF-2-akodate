{
 "cells": [
  {
   "cell_type": "markdown",
   "metadata": {},
   "source": [
    "# Visualization of SVM margins\n",
    "\n",
    "This visualization lets you explore how the SVM adjusts its margin to classify points. It is a toy example classifying male vs female using weight and height.\n",
    "\n",
    "There are multiple parameters you can set:\n",
    "\n",
    "    log C: strength of the penalty on misclassified points (widens the margin)\n",
    "    weight diff: mean difference in weight between males and females\n",
    "    height diff: mean difference in height between males and females\n",
    "    weight std: standard deviation of weight, which affects the dispersion across the x-axis\n",
    "    height std: standard deviation of height, which affects the dispersion across the y-axis\n",
    "\n",
    "\n",
    "The black line is the decision boundary. Yellow dashed lines are the margin. Red points are female, blue points are male. If an observation is encircled, it is a support vector that affects the decision boundary.\n",
    "\n",
    "---"
   ]
  },
  {
   "cell_type": "code",
   "execution_count": 3,
   "metadata": {
    "collapsed": true
   },
   "outputs": [],
   "source": [
    "import pandas as pd\n",
    "import numpy as np\n",
    "import matplotlib.pyplot as plt\n",
    "import seaborn as sns\n",
    "\n",
    "plt.style.use('fivethirtyeight')\n",
    "\n",
    "from ipywidgets import *\n",
    "from IPython.display import display\n",
    "\n",
    "from sklearn.svm import SVC\n",
    "\n",
    "%matplotlib inline\n",
    "%config InlineBackend.figure_format = 'retina'"
   ]
  },
  {
   "cell_type": "code",
   "execution_count": null,
   "metadata": {
    "collapsed": false
   },
   "outputs": [],
   "source": [
    "import imp\n",
    "plotter = imp.load_source('plotter', '/Users/alex/Desktop/DSI-SF-2-akodate/utils/plotting/svm_plotter.py')\n",
    "from plotter import SVMPlotter\n",
    "\n",
    "svm_plotter = SVMPlotter()\n",
    "svm_plotter.initialize_data(class_n=20)\n",
    "svm_plotter.svm_interact()"
   ]
  },
  {
   "cell_type": "code",
   "execution_count": null,
   "metadata": {
    "collapsed": true
   },
   "outputs": [],
   "source": []
  }
 ],
 "metadata": {
  "anaconda-cloud": {},
  "kernelspec": {
   "display_name": "Python [dsi]",
   "language": "python",
   "name": "Python [dsi]"
  },
  "language_info": {
   "codemirror_mode": {
    "name": "ipython",
    "version": 2
   },
   "file_extension": ".py",
   "mimetype": "text/x-python",
   "name": "python",
   "nbconvert_exporter": "python",
   "pygments_lexer": "ipython2",
   "version": "2.7.12"
  }
 },
 "nbformat": 4,
 "nbformat_minor": 0
}
