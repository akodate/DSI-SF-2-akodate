{
 "cells": [
  {
   "cell_type": "markdown",
   "metadata": {},
   "source": [
    "# Journal club: student alcohol consumption\n",
    "\n",
    "\"Journal clubs\" are a common type of meeting in both academic settings and, for data scientists at least, professional settings as well. Journal clubs are useful for:\n",
    "\n",
    "- Finding new, useful statistical methods to tackle relevant problems\n",
    "- Reviewing the work of peers and competitors who publish their work\n",
    "- Discussing what is good and bad about statistical and experimental methodologies\n",
    "- Building a collaborative environment with your fellow data scientists\n",
    "\n",
    "---\n",
    "\n",
    "In this notebook you will be reviewing a paper on **student alcohol consumption**.\n",
    "\n",
    "The paper itself is located:\n",
    "\n",
    "[Student alcohol consumption paper on website](http://archive.ics.uci.edu/ml/datasets/STUDENT+ALCOHOL+CONSUMPTION)\n",
    "\n",
    "[Student alcohol consumption paper local file](./student_alcohol_consumption.pdf)\n",
    "    \n",
    "There are two datasets associated with the paper:\n",
    "\n",
    "[Dataset1: student math class](./student-mat.csv)\n",
    "\n",
    "[Dataset2: student Portugese class](./student-por.csv)\n",
    "    \n",
    "And the codebook for the dataasets is located:\n",
    "\n",
    "[Codebook](./student.txt)\n",
    "\n",
    "---\n",
    "\n",
    "This lesson/lab is broken up into 4 sections:\n",
    "\n",
    "**Section 1**: Read the paper!\n",
    "\n",
    "**Section 2**: Discuss and respond to the questions about the paper.\n",
    "\n",
    "**Section 3**: [BONUS] Load the data and perform your own logistic regression OR kNN with cross-validation.\n",
    "\n",
    "**Section 4**: Briefly present to the class your review and opinions of the paper.\n",
    "\n",
    "___"
   ]
  },
  {
   "cell_type": "markdown",
   "metadata": {},
   "source": [
    "## 1. Read the paper, focusing on the goals, methodology, and conclusions.\n",
    "\n",
    "___"
   ]
  },
  {
   "cell_type": "markdown",
   "metadata": {},
   "source": [
    "## 2. Discuss and respond to the following questions."
   ]
  },
  {
   "cell_type": "markdown",
   "metadata": {},
   "source": [
    "### 2.1.  What is the goal of the study? (hint: this is usually described in the abstract)"
   ]
  },
  {
   "cell_type": "markdown",
   "metadata": {},
   "source": [
    "A:"
   ]
  },
  {
   "cell_type": "markdown",
   "metadata": {},
   "source": [
    "### 2.2 What is the target variable? (hint: look at the website and dataset)"
   ]
  },
  {
   "cell_type": "markdown",
   "metadata": {},
   "source": [
    "A:"
   ]
  },
  {
   "cell_type": "markdown",
   "metadata": {},
   "source": [
    "### 2.3. What models do they compare? (hint: although you have not yet seen all of them, try to grasp the differences)"
   ]
  },
  {
   "cell_type": "markdown",
   "metadata": {},
   "source": [
    "A:"
   ]
  },
  {
   "cell_type": "markdown",
   "metadata": {},
   "source": [
    "### 2.4. How do they judge the \"goodness\" of a model? Do they use accuracy? if not, what do they use?"
   ]
  },
  {
   "cell_type": "markdown",
   "metadata": {},
   "source": [
    "A:"
   ]
  },
  {
   "cell_type": "markdown",
   "metadata": {},
   "source": [
    "### 2.5. What validation method do they use? Simple train/test split? Cross Validation?"
   ]
  },
  {
   "cell_type": "markdown",
   "metadata": {},
   "source": [
    "A:"
   ]
  },
  {
   "cell_type": "markdown",
   "metadata": {},
   "source": [
    "### 2.6. Do they have missing data? Which pre-processing techniques do they use?"
   ]
  },
  {
   "cell_type": "markdown",
   "metadata": {},
   "source": [
    "A:"
   ]
  },
  {
   "cell_type": "markdown",
   "metadata": {},
   "source": [
    "---\n",
    "\n",
    "## 3. [BONUS] Load the data and perform your own classification using logistic regression or kNN.\n",
    "\n",
    "Validate with cross-validation and a scoring metric of your choice."
   ]
  },
  {
   "cell_type": "code",
   "execution_count": null,
   "metadata": {
    "collapsed": true
   },
   "outputs": [],
   "source": []
  },
  {
   "cell_type": "markdown",
   "metadata": {},
   "source": [
    "---\n",
    "\n",
    "## 4. Discuss and prepare to briefly present your review to the class."
   ]
  }
 ],
 "metadata": {
  "kernelspec": {
   "display_name": "Python 2",
   "language": "python",
   "name": "python2"
  },
  "language_info": {
   "codemirror_mode": {
    "name": "ipython",
    "version": 2
   },
   "file_extension": ".py",
   "mimetype": "text/x-python",
   "name": "python",
   "nbconvert_exporter": "python",
   "pygments_lexer": "ipython2",
   "version": "2.7.11"
  }
 },
 "nbformat": 4,
 "nbformat_minor": 0
}
