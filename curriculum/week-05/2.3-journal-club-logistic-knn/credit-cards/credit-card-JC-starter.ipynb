{
 "cells": [
  {
   "cell_type": "markdown",
   "metadata": {},
   "source": [
    "# Journal club: student alcohol consumption\n",
    "\n",
    "\"Journal clubs\" are a common type of meeting in both academic settings and, for data scientists at least, professional settings as well. Journal clubs are useful for:\n",
    "\n",
    "- Finding new, useful statistical methods to tackle relevant problems\n",
    "- Reviewing the work of peers and competitors who publish their work\n",
    "- Discussing what is good and bad about statistical and experimental methodologies\n",
    "- Building a collaborative environment with your fellow data scientists\n",
    "\n",
    "---\n",
    "\n",
    "In this notebook you will be reviewing a paper on **credit card defaults**.\n",
    "\n",
    "The paper itself is located:\n",
    "\n",
    "[Credit card paper on website](http://archive.ics.uci.edu/ml/datasets/default+of+credit+card+clients)\n",
    "\n",
    "[Credit card paper local file](./DefaultCreditCardClients_yeh_2009.pdf)\n",
    "    \n",
    "The dataset associated with the paper:\n",
    "\n",
    "[Dataset: credit card defaults](./default_of_credit_card_clients.xls)\n",
    "\n",
    "**[HINT]** You can use pandas' `pd.read_excel()` to load excel files.\n",
    "\n",
    "---\n",
    "\n",
    "This lesson/lab is broken up into 4 sections:\n",
    "\n",
    "**Section 1**: Read the paper!\n",
    "\n",
    "**Section 2**: Discuss and respond to the questions about the paper.\n",
    "\n",
    "**Section 3**: [BONUS] Load the data and perform your own logistic regression OR kNN with cross-validation.\n",
    "\n",
    "**Section 4**: Briefly present to the class your review and opinions of the paper.\n",
    "\n",
    "___"
   ]
  },
  {
   "cell_type": "markdown",
   "metadata": {},
   "source": [
    "## 1. Read the paper, focusing on the goals, methodology, and conclusions.\n",
    "\n",
    "___"
   ]
  },
  {
   "cell_type": "markdown",
   "metadata": {},
   "source": [
    "## 2. Discuss and respond to the following questions."
   ]
  },
  {
   "cell_type": "markdown",
   "metadata": {},
   "source": [
    "### 2.1.  What is the goal of the study? (hint: this is usually described in the abstract)"
   ]
  },
  {
   "cell_type": "markdown",
   "metadata": {},
   "source": [
    "A:"
   ]
  },
  {
   "cell_type": "markdown",
   "metadata": {},
   "source": [
    "### 2.2 What is the target variable? (hint: look at the website and dataset)"
   ]
  },
  {
   "cell_type": "markdown",
   "metadata": {},
   "source": [
    "A:"
   ]
  },
  {
   "cell_type": "markdown",
   "metadata": {},
   "source": [
    "### 2.3. What models do they compare? (hint: although you have not yet seen all of them, try to grasp the differences)"
   ]
  },
  {
   "cell_type": "markdown",
   "metadata": {},
   "source": [
    "A:"
   ]
  },
  {
   "cell_type": "markdown",
   "metadata": {},
   "source": [
    "### 2.4. How do they judge the \"goodness\" of a model? Do they use accuracy? if not, what do they use?"
   ]
  },
  {
   "cell_type": "markdown",
   "metadata": {},
   "source": [
    "A:"
   ]
  },
  {
   "cell_type": "markdown",
   "metadata": {},
   "source": [
    "### 2.5. What validation method do they use? Simple train/test split? Cross Validation?"
   ]
  },
  {
   "cell_type": "markdown",
   "metadata": {},
   "source": [
    "A:"
   ]
  },
  {
   "cell_type": "markdown",
   "metadata": {},
   "source": [
    "### 2.6. Which model performs best?"
   ]
  },
  {
   "cell_type": "markdown",
   "metadata": {},
   "source": [
    "A:"
   ]
  },
  {
   "cell_type": "markdown",
   "metadata": {},
   "source": [
    "---\n",
    "\n",
    "## 3. [BONUS] Load the data and perform your own classification using logistic regression or kNN.\n",
    "\n",
    "Validate with cross-validation and a scoring metric of your choice.\n",
    "\n",
    "    pd.read_excel('./default_of_credit_card_clients.xls', header=1)"
   ]
  },
  {
   "cell_type": "code",
   "execution_count": null,
   "metadata": {
    "collapsed": false
   },
   "outputs": [],
   "source": []
  },
  {
   "cell_type": "markdown",
   "metadata": {},
   "source": [
    "---\n",
    "\n",
    "## 4. Discuss and prepare to briefly present your review to the class."
   ]
  }
 ],
 "metadata": {
  "kernelspec": {
   "display_name": "Python 2",
   "language": "python",
   "name": "python2"
  },
  "language_info": {
   "codemirror_mode": {
    "name": "ipython",
    "version": 2
   },
   "file_extension": ".py",
   "mimetype": "text/x-python",
   "name": "python",
   "nbconvert_exporter": "python",
   "pygments_lexer": "ipython2",
   "version": "2.7.11"
  }
 },
 "nbformat": 4,
 "nbformat_minor": 0
}
