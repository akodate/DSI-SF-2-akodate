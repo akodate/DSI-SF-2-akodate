{
 "cells": [
  {
   "cell_type": "markdown",
   "metadata": {},
   "source": [
    "---\n",
    "title: SQL Lab\n",
    "type: lab\n",
    "duration: \"1:25\"\n",
    "creator:\n",
    "    name: Francesco Mosconi\n",
    "    city: SF\n",
    "---"
   ]
  },
  {
   "cell_type": "markdown",
   "metadata": {},
   "source": [
    "# ![](https://ga-dash.s3.amazonaws.com/production/assets/logo-9f88ae6c9c3871690e33280fcf557f33.png) SQL Lab\n",
    "\n",
    "In this lab we will learn how to use execute SQL from the ipython notebook and practice some queries on the  [Northwind sample database](https://northwinddatabase.codeplex.com/) that we used in lecture 3.1.\n",
    "\n",
    "We have imported this database into our PostgreSQL instance that you can find connecting here:\n",
    "\n",
    "    psql -h dsi.c20gkj5cvu3l.us-east-1.rds.amazonaws.com -p 5432 -U dsi_student northwind\n",
    "    password: gastudents"
   ]
  },
  {
   "cell_type": "markdown",
   "metadata": {},
   "source": [
    "## Introduction\n",
    "\n",
    "Use your new SQL skills to query the Northwind database and extract some interesting information."
   ]
  },
  {
   "cell_type": "markdown",
   "metadata": {},
   "source": [
    "## Exercise\n",
    "\n",
    "#### Requirements\n",
    "\n",
    "- Inspect the database (what tables, what schemas)\n",
    "- Inspect the products table (what columns, what data types)\n",
    "- Inspect the orders table (what columns, what data types)\n",
    "\n",
    "**Bonus:**\n",
    "- Explore other tables in the database (employees, suppliers, etc.)\n",
    "\n",
    "\n",
    "#### Starter code\n",
    "\n",
    "[Starter code](./code/starter-code/starter-code-3_2.ipynb)\n",
    "\n",
    "> [Solution code](./code/solution-code/solution-code-3_2.ipynb)\n"
   ]
  },
  {
   "cell_type": "markdown",
   "metadata": {},
   "source": [
    "## Additional Resources\n",
    "\n",
    "- [Ipython-SQL extension](https://github.com/catherinedevlin/ipython-sql).\n",
    "- [Pandas Merge doc](http://pandas.pydata.org/pandas-docs/stable/merging.html)"
   ]
  }
 ],
 "metadata": {
  "kernelspec": {
   "display_name": "Python 2",
   "language": "python",
   "name": "python2"
  },
  "language_info": {
   "codemirror_mode": {
    "name": "ipython",
    "version": 2
   },
   "file_extension": ".py",
   "mimetype": "text/x-python",
   "name": "python",
   "nbconvert_exporter": "python",
   "pygments_lexer": "ipython2",
   "version": "2.7.11"
  }
 },
 "nbformat": 4,
 "nbformat_minor": 0
}
