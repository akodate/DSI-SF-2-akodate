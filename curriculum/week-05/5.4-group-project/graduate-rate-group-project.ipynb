{
 "cells": [
  {
   "cell_type": "markdown",
   "metadata": {},
   "source": [
    "# Predicting graduation rates group project\n",
    "\n",
    "In this group project, you'll be predicting graduation rates (or, more specifically, the percent difference from the mean graduation rate) for high school students in different areas of the country.\n",
    "\n",
    "As you may already know, [your illustrious instructor Dave Yerrington won a competition on this dataset.](http://devpost.com/software/sriozidave_datafordiploma)\n",
    "\n",
    "---\n",
    "\n",
    "### Dataset\n",
    "\n",
    "The files for this project can be found in the `/DSI-SF-2/datasets/data_for_diplomas/` folder. The contents are:\n",
    "\n",
    "    grad_train: the training data you will be building models on\n",
    "    graduation_with_census_schema.pdf: the \"codebook\" for the grad_train.csv columns\n",
    "    school_county_spending.csv: data on the spending of different schools\n",
    "    school_county_spending_info.pdf: information about the spending data csv\n",
    "    climate_data/: a folder that has climate data for every state for 2011 and 2012. There are csvs for precipitation and average temperature\n",
    "    \n",
    "This isn't all the data Dave used, but it's a decent amount of it. You're not expected to use _all_ of this data. After all, you don't have that long to build these models, but it's there if you want to.\n",
    "\n",
    "**Target variable:**\n",
    "\n",
    "In the spreadsheet there is a variable called `grad_pct_from_mean`. This is the difference in percent graduated for that school from the mean graduation rate across the country. In other words, it is:\n",
    "\n",
    "    (schools graduation rate / (mean of all schools graduation rate) - 1.) * 100.\n",
    "    \n",
    "I changed this from the original rate column because, as you know, regression is not appropriate for prediction of rates since they are guaranteed to fall between 0 and 1.\n",
    "\n",
    "**Do not include variables in the model that contain the same information as the target variable!** \n",
    "\n",
    "---\n",
    "\n",
    "### Structure of the project\n",
    "\n",
    "You will, in groups, try to build a model that predicts this `grad_pct_from_mean` variable using the information you have. \n",
    "\n",
    "**This project is also an excercise in using your time wisely.** You don't have that much time, so keep the scope of your process simple rather than complex. This will likely mean _not_ considering every variable available to you.\n",
    "\n",
    "**I have left out 25% of the data as a testing set. At the end, groups will come up and get to test their model on the testing set.**\n",
    "\n",
    "Since you will likely be cleaning the data, you will need to be able to run the testing code through the same cleaning and munging process as the training data. I recommend writing some functions that make this process faster/easier!\n",
    "\n",
    "Good luck!"
   ]
  },
  {
   "cell_type": "code",
   "execution_count": 987,
   "metadata": {
    "collapsed": true
   },
   "outputs": [],
   "source": [
    "import pandas as pd\n",
    "import numpy as np\n",
    "import matplotlib.pyplot as plt\n",
    "\n",
    "%matplotlib inline\n",
    "%config InlineBackend.figure_format = 'retina'"
   ]
  },
  {
   "cell_type": "code",
   "execution_count": 988,
   "metadata": {
    "collapsed": false
   },
   "outputs": [
    {
     "name": "stdout",
     "output_type": "stream",
     "text": [
      "(7338, 580)\n",
      "(14482, 66)\n",
      "(50, 5)\n"
     ]
    }
   ],
   "source": [
    "grad_train = pd.read_csv('/Users/alex/Desktop/DSI-SF-2-akodate/datasets/data_for_diplomas/grad_train.csv')\n",
    "spending = pd.read_csv('/Users/alex/Desktop/DSI-SF-2-akodate/datasets/data_for_diplomas/school_county_spending.csv')\n",
    "climate = pd.read_csv('/Users/alex/Desktop/DSI-SF-2-akodate/datasets/data_for_diplomas/combined_climate_data.csv')\n",
    "\n",
    "print grad_train.shape\n",
    "print spending.shape\n",
    "print climate.shape"
   ]
  },
  {
   "cell_type": "code",
   "execution_count": 989,
   "metadata": {
    "collapsed": true
   },
   "outputs": [],
   "source": [
    "pd.options.display.max_rows = 600"
   ]
  },
  {
   "cell_type": "code",
   "execution_count": 990,
   "metadata": {
    "collapsed": false
   },
   "outputs": [],
   "source": [
    "def merge_df(spending):\n",
    "    spending = spending[spending.NCESID.apply(lambda x: x.isdigit())]\n",
    "    spending.NCESID = spending.NCESID.map(lambda x: int(x))\n",
    "    return spending\n",
    "    \n",
    "spending_mergeable = merge_df(spending)"
   ]
  },
  {
   "cell_type": "code",
   "execution_count": 991,
   "metadata": {
    "collapsed": false
   },
   "outputs": [],
   "source": [
    "# spending_mergeable.head(2)"
   ]
  },
  {
   "cell_type": "code",
   "execution_count": 992,
   "metadata": {
    "collapsed": false
   },
   "outputs": [],
   "source": [
    "climate = climate.drop('Unnamed: 0', axis=1)"
   ]
  },
  {
   "cell_type": "code",
   "execution_count": 993,
   "metadata": {
    "collapsed": false
   },
   "outputs": [],
   "source": [
    "df_merged = grad_train.merge(spending_mergeable, left_on='leaid11', right_on='NCESID')\n",
    "df_merged = df_merged.merge(climate, left_on='State_name', right_on='state_y')"
   ]
  },
  {
   "cell_type": "code",
   "execution_count": 994,
   "metadata": {
    "collapsed": false
   },
   "outputs": [],
   "source": [
    "# df_merged.head().T"
   ]
  },
  {
   "cell_type": "code",
   "execution_count": 995,
   "metadata": {
    "collapsed": false
   },
   "outputs": [],
   "source": [
    "# df_merged.isnull().sum()"
   ]
  },
  {
   "cell_type": "code",
   "execution_count": 996,
   "metadata": {
    "collapsed": false
   },
   "outputs": [],
   "source": [
    "# Percent not null in each column\n",
    "percent_not_null = (grad_train.shape[0] - grad_train.isnull().sum()) / 7338.0 * 100\n",
    "grad_dropped = df_merged.drop(df_merged[percent_not_null[percent_not_null < 99.5].index], axis=1)\n",
    "# grad_dropped = df_merged.copy()"
   ]
  },
  {
   "cell_type": "code",
   "execution_count": 997,
   "metadata": {
    "collapsed": false
   },
   "outputs": [],
   "source": [
    "# grad_dropped.isnull().sum()"
   ]
  },
  {
   "cell_type": "code",
   "execution_count": 998,
   "metadata": {
    "collapsed": false
   },
   "outputs": [
    {
     "data": {
      "text/plain": [
       "(7297, 387)"
      ]
     },
     "execution_count": 998,
     "metadata": {},
     "output_type": "execute_result"
    }
   ],
   "source": [
    "grad_dropped.shape"
   ]
  },
  {
   "cell_type": "code",
   "execution_count": 999,
   "metadata": {
    "collapsed": false
   },
   "outputs": [],
   "source": [
    "grad_dropped.columns = [col_name.lower().replace(' ', '_').replace('.', '_').replace('(', '').replace(')', '').replace('-', '_') for col_name in grad_dropped.columns]\n",
    "# grad_dropped.dtypes"
   ]
  },
  {
   "cell_type": "code",
   "execution_count": 1000,
   "metadata": {
    "collapsed": false
   },
   "outputs": [
    {
     "name": "stdout",
     "output_type": "stream",
     "text": [
      "grad_pct_from_mean ~ age5p_african_acs_08_12 + age5p_african_acsmoe_08_12 + age5p_arabic_acs_08_12 + age5p_arabic_acsmoe_08_12 + age5p_armenian_acs_08_12 + age5p_armenian_acsmoe_08_12 + age5p_cambodian_acs_08_12 + age5p_cambodian_acsmoe_08_12 + age5p_chinese_acs_08_12 + age5p_chinese_acsmoe_08_12 + age5p_frcreole_acs_08_12 + age5p_frcreole_acsmoe_08_12 + age5p_french_acs_08_12 + age5p_french_acsmoe_08_12 + age5p_german_acs_08_12 + age5p_german_acsmoe_08_12 + age5p_greek_acs_08_12 + age5p_greek_acsmoe_08_12 + age5p_gujarati_acs_08_12 + age5p_gujarati_acsmoe_08_12 + age5p_hebrew_acs_08_12 + age5p_hebrew_acsmoe_08_12 + age5p_hindi_acs_08_12 + age5p_hindi_acsmoe_08_12 + age5p_hmong_acs_08_12 + age5p_hmong_acsmoe_08_12 + age5p_hungarian_acs_08_12 + age5p_hungarian_acsmoe_08_12 + age5p_italian_acs_08_12 + age5p_italian_acsmoe_08_12 + age5p_japanese_acs_08_12 + age5p_japanese_acsmoe_08_12 + age5p_korean_acs_08_12 + age5p_korean_acsmoe_08_12 + age5p_laotian_acs_08_12 + age5p_laotian_acsmoe_08_12 + age5p_nativenam_acs_08_12 + age5p_nativenam_acsmoe_08_12 + age5p_navajo_acs_08_12 + age5p_navajo_acsmoe_08_12 + age5p_only_english_acs_08_12 + age5p_only_english_acsmoe_08_12 + age5p_othasian_acs_08_12 + age5p_othasian_acsmoe_08_12 + age5p_otheuro_acs_08_12 + age5p_otheuro_acsmoe_08_12 + age5p_othindic_acs_08_12 + age5p_othindic_acsmoe_08_12 + age5p_othpacisl_acs_08_12 + age5p_othpacisl_acsmoe_08_12 + age5p_othslavic_acs_08_12 + age5p_othslavic_acsmoe_08_12 + age5p_othunsp_acs_08_12 + age5p_othunsp_acsmoe_08_12 + age5p_persian_acs_08_12 + age5p_persian_acsmoe_08_12 + age5p_polish_acs_08_12 + age5p_polish_acsmoe_08_12 + age5p_portuguese_acs_08_12 + age5p_portuguese_acsmoe_08_12 + age5p_russian_acs_08_12 + age5p_russian_acsmoe_08_12 + age5p_scandinavian_acs_08_12 + age5p_scandinavian_acsmoe_08_12 + age5p_spanish_acs_08_12 + age5p_spanish_acsmoe_08_12 + age5p_srbcroatian_acs_08_12 + age5p_srbcroatian_acsmoe_08_12 + age5p_tagalog_acs_08_12 + age5p_tagalog_acsmoe_08_12 + age5p_thai_acs_08_12 + age5p_thai_acsmoe_08_12 + age5p_urdu_acs_08_12 + age5p_urdu_acsmoe_08_12 + age5p_vietnamese_acs_08_12 + age5p_vietnamese_acsmoe_08_12 + age5p_wgerman_acs_08_12 + age5p_wgerman_acsmoe_08_12 + age5p_yiddish_acs_08_12 + age5p_yiddish_acsmoe_08_12 + aian_land + all_cohort_1112 + avg_temp + bilq_frms_cen_2010 + bilq_mailout_count_cen_2010 + born_foreign_acs_08_12 + born_foreign_acsmoe_08_12 + born_us_acs_08_12 + born_us_acsmoe_08_12 + census_mail_returns_cen_2010 + census_uaa_cen_2010 + civ_emp_16_24_acs_08_12 + civ_emp_16_24_acsmoe_08_12 + civ_emp_16plus_acs_08_12 + civ_emp_16plus_acsmoe_08_12 + civ_emp_25_44_acs_08_12 + civ_emp_25_44_acsmoe_08_12 + civ_emp_45_64_acs_08_12 + civ_emp_45_64_acsmoe_08_12 + civ_emp_65plus_acs_08_12 + civ_emp_65plus_acsmoe_08_12 + civ_labor_16_24_acs_08_12 + civ_labor_16_24_acsmoe_08_12 + civ_labor_16plus_acs_08_12 + civ_labor_16plus_acsmoe_08_12 + civ_labor_25_44_acs_08_12 + civ_labor_25_44_acsmoe_08_12 + civ_labor_45_64_acs_08_12 + civ_labor_45_64_acsmoe_08_12 + civ_labor_65plus_acs_08_12 + civ_labor_65plus_acsmoe_08_12 + civ_unemp_16_24_acs_08_12 + civ_unemp_16_24_acsmoe_08_12 + civ_unemp_16plus_acs_08_12 + civ_unemp_16plus_acsmoe_08_12 + civ_unemp_25_44_acs_08_12 + civ_unemp_25_44_acsmoe_08_12 + civ_unemp_45_64_acs_08_12 + civ_unemp_45_64_acsmoe_08_12 + civ_unemp_65plus_acs_08_12 + civ_unemp_65plus_acsmoe_08_12 + college_acs_08_12 + college_acsmoe_08_12 + crowd_occp_u_acs_08_12 + crowd_occp_u_acsmoe_08_12 + debtout + deletes_cen_2010 + diff_hu_1yr_ago_acs_08_12 + diff_hu_1yr_ago_acsmoe_08_12 + eng_vw_acs_08_12 + eng_vw_acsmoe_08_12 + eng_vw_api_acs_08_12 + eng_vw_api_acsmoe_08_12 + eng_vw_indo_euro_acs_08_12 + eng_vw_indo_euro_acsmoe_08_12 + eng_vw_other_acs_08_12 + eng_vw_other_acsmoe_08_12 + eng_vw_span_acs_08_12 + eng_vw_span_acsmoe_08_12 + enroll + fedrcomp + fedrnutr + fedrothr + fedrspec + female_no_hb_acs_08_12 + female_no_hb_acsmoe_08_12 + female_no_hb_cen_2010 + females_acs_08_12 + females_acsmoe_08_12 + females_cen_2010 + fipst + frst_frms_cen_2010 + hhd_moved_in_acs_08_12 + hhd_moved_in_acsmoe_08_12 + hhd_ppl_und_18_acs_08_12 + hhd_ppl_und_18_acsmoe_08_12 + hhd_ppl_und_18_cen_2010 + hispanic_acs_08_12 + hispanic_acsmoe_08_12 + hispanic_cen_2010 + inst_gq_cen_2010 + land_area + locrchar + locrcico + locrosch + locrothr + locrpar + locrprop + locrtax + longissu + longret + mailback_area_count_cen_2010 + males_acs_08_12 + males_acsmoe_08_12 + males_cen_2010 + max_temp + min_temp + mlt_u10p_acs_08_12 + mlt_u10p_acsmoe_08_12 + mlt_u2_9_strc_acs_08_12 + mlt_u2_9_strc_acsmoe_08_12 + mobile_homes_acs_08_12 + mobile_homes_acsmoe_08_12 + mrdcple_fmly_hhd_acs_08_12 + mrdcple_fmly_hhd_acsmoe_08_12 + mrdcple_fmly_hhd_cen_2010 + nh_aian_alone_acs_08_12 + nh_aian_alone_acsmoe_08_12 + nh_aian_alone_cen_2010 + nh_asian_alone_acs_08_12 + nh_asian_alone_acsmoe_08_12 + nh_asian_alone_cen_2010 + nh_blk_alone_acs_08_12 + nh_blk_alone_acsmoe_08_12 + nh_blk_alone_cen_2010 + nh_nhopi_alone_acs_08_12 + nh_nhopi_alone_acsmoe_08_12 + nh_nhopi_alone_cen_2010 + nh_sor_alone_acs_08_12 + nh_sor_alone_acsmoe_08_12 + nh_sor_alone_cen_2010 + nh_white_alone_acs_08_12 + nh_white_alone_acsmoe_08_12 + nh_white_alone_cen_2010 + no_plumb_acs_08_12 + no_plumb_acsmoe_08_12 + non_inst_gq_cen_2010 + non_us_cit_acs_08_12 + non_us_cit_acsmoe_08_12 + nonfamily_hhd_acs_08_12 + nonfamily_hhd_acsmoe_08_12 + nonfamily_hhd_cen_2010 + not_hs_grad_acs_08_12 + not_hs_grad_acsmoe_08_12 + not_mrdcple_hhd_acs_08_12 + not_mrdcple_hhd_acsmoe_08_12 + not_mrdcple_hhd_cen_2010 + num_bgs_in_tract + occp_u_no_ph_srvc_acs_08_12 + occp_u_no_ph_srvc_acsmoe_08_12 + othr_lang_acs_08_12 + othr_lang_acsmoe_08_12 + owner_occp_hu_acs_08_12 + owner_occp_hu_acsmoe_08_12 + owner_occp_hu_cen_2010 + pct_females_cen_2010 + pct_hispanic_cen_2010 + pct_inst_gq_cen_2010 + pct_males_cen_2010 + pct_nh_aian_alone_cen_2010 + pct_nh_asian_alone_cen_2010 + pct_nh_blk_alone_cen_2010 + pct_nh_nhopi_alone_cen_2010 + pct_nh_sor_alone_cen_2010 + pct_nh_white_alone_cen_2010 + pct_non_inst_gq_cen_2010 + pct_pop_18_24_cen_2010 + pct_pop_25_44_cen_2010 + pct_pop_45_64_cen_2010 + pct_pop_5_17_cen_2010 + pct_pop_65plus_cen_2010 + pct_pop_under_5_cen_2010 + pct_rural_pop_cen_2010 + pct_tot_gq_cen_2010 + pct_urban_cluster_pop_cen_2010 + pct_urbanized_area_pop_cen_2010 + pctfcomp + pctftot + pctlchar + pctlothg + pctltaxp + pctltot + pctsform + pctstot + pcttotal + pop_18_24_acs_08_12 + pop_18_24_acsmoe_08_12 + pop_18_24_cen_2010 + pop_1yr_over_acs_08_12 + pop_1yr_over_acsmoe_08_12 + pop_25_44_acs_08_12 + pop_25_44_acsmoe_08_12 + pop_25_44_cen_2010 + pop_25yrs_over_acs_08_12 + pop_25yrs_over_acsmoe_08_12 + pop_45_64_acs_08_12 + pop_45_64_acsmoe_08_12 + pop_45_64_cen_2010 + pop_5_17_acs_08_12 + pop_5_17_acsmoe_08_12 + pop_5_17_cen_2010 + pop_5yrs_over_acs_08_12 + pop_5yrs_over_acsmoe_08_12 + pop_65plus_acs_08_12 + pop_65plus_acsmoe_08_12 + pop_65plus_cen_2010 + pop_under_5_acs_08_12 + pop_under_5_acsmoe_08_12 + pop_under_5_cen_2010 + pov_univ_acs_08_12 + pov_univ_acsmoe_08_12 + ppcstot + ppempben + ppiemben + ppisalwg + ppitotal + ppsalwg + ppsgenad + ppspupil + ppsschad + ppsstaff + ppstotal + prs_blw_pov_lev_acs_08_12 + prs_blw_pov_lev_acsmoe_08_12 + pub_asst_inc_acs_08_12 + pub_asst_inc_acsmoe_08_12 + recent_built_hu_acs_08_12 + recent_built_hu_acsmoe_08_12 + rel_child_under_6_acs_08_12 + rel_child_under_6_acsmoe_08_12 + rel_child_under_6_cen_2010 + rel_family_hhd_acs_08_12 + rel_family_hhd_acsmoe_08_12 + rel_family_hhds_cen_2010 + renter_occp_hu_acs_08_12 + renter_occp_hu_acsmoe_08_12 + renter_occp_hu_cen_2010 + rplcmnt_frms_cen_2010 + rural_pop_cen_2010 + single_unit_acs_08_12 + single_unit_acsmoe_08_12 + sngl_prns_hhd_acs_08_12 + sngl_prns_hhd_acsmoe_08_12 + sngl_prns_hhd_cen_2010 + state + strform + strothr + strspec + strtrans + tcapout + tcuriben + tcurinst + tcurisal + tcuronon + tcursgen + tcursoth + tcurspnd + tcurspup + tcurssch + tcurssta + tcurssvc + tea_mail_out_mail_back_cen_2010 + tea_update_leave_cen_2010 + tempbene + tfedrev + tintrst + tlocrev + tot_gq_cen_2010 + tot_housing_units_acs_08_12 + tot_housing_units_acsmoe_08_12 + tot_housing_units_cen_2010 + tot_occp_units_acs_08_12 + tot_occp_units_acsmoe_08_12 + tot_occp_units_cen_2010 + tot_population_acs_08_12 + tot_population_acsmoe_08_12 + tot_population_cen_2010 + tot_prns_in_hhd_acs_08_12 + tot_prns_in_hhd_acsmoe_08_12 + tot_prns_in_hhd_cen_2010 + tot_vacant_units_acs_08_12 + tot_vacant_units_acsmoe_08_12 + tot_vacant_units_cen_2010 + totalexp + totalrev + tpayoth + tsalwage + tstrev + urban_cluster_pop_cen_2010 + urbanized_area_pop_cen_2010 + us_cit_nat_acs_08_12 + us_cit_nat_acsmoe_08_12 + vacants_cen_2010 + valid_mailback_count_cen_2010 - 1\n",
      "(7223, 364)\n",
      "(7223, 1)\n"
     ]
    }
   ],
   "source": [
    "import patsy\n",
    "df = grad_dropped.copy()\n",
    "\n",
    "all_columns = \"\" + \" + \".join(df.columns.difference([\n",
    "            'all_rate_1112', \n",
    "            'percentage', \n",
    "            'grad_pct_from_mean', \n",
    "            'tract', \n",
    "            'tract_code', \n",
    "            'leaid11', \n",
    "            'stnam', \n",
    "            'leanm11', \n",
    "            'ncesid',\n",
    "            'district_id',\n",
    "            'school_district', \n",
    "            'county_name', \n",
    "            'name',\n",
    "            'conum',\n",
    "            'csa',\n",
    "            'cbsa',\n",
    "            'state_name',\n",
    "            'state_y',\n",
    "            'state_1',\n",
    "            'county_1',\n",
    "            'idcensus',\n",
    "            'county',\n",
    "            'gidtr']))\n",
    "\n",
    "\n",
    "# all_columns = \"\" + \" + \".join(['pct_prs_blw_pov_lev_acs_08_12','pct_not_mrdcple_hhd_acs_08_12', 'pct_not_mrdcple_hhd_cen_2010','ecd_rate_1112', 'ppsalwg', 'ppisalwg'])\n",
    "# all_columns = \"\" + \" + \".join(['pct_prs_blw_pov_lev_acs_08_12','pct_not_mrdcple_hhd_acs_08_12', 'pct_not_mrdcple_hhd_cen_2010', 'ppsalwg', 'ppisalwg'])\n",
    "# all_columns = \"\" + \" + \".join(['pct_prs_blw_pov_lev_acs_08_12','pct_not_mrdcple_hhd_acs_08_12','ecd_rate_1112'])\n",
    "# all_columns = \"\" + \" + \".join(['pct_prs_blw_pov_lev_acs_08_12','pct_not_mrdcple_hhd_acs_08_12'])\n",
    "# all_columns = \"\" + \" + \".join(['ppsalwg', 'ppisalwg'])\n",
    "formula = \"grad_pct_from_mean ~ \" + all_columns + \" - 1\"\n",
    "print formula\n",
    "\n",
    "y, X = patsy.dmatrices(formula, data=df, return_type='dataframe')\n",
    "print X.shape\n",
    "print y.shape"
   ]
  },
  {
   "cell_type": "code",
   "execution_count": 1001,
   "metadata": {
    "collapsed": false
   },
   "outputs": [
    {
     "name": "stdout",
     "output_type": "stream",
     "text": [
      "(5778, 364) (5778,)\n",
      "(1445, 364) (1445,)\n"
     ]
    }
   ],
   "source": [
    "from sklearn import linear_model\n",
    "from sklearn.cross_validation import train_test_split\n",
    "\n",
    "y = np.ravel(y)\n",
    "X_train, X_test, y_train, y_test = train_test_split(X, y, train_size=0.8)\n",
    "\n",
    "print X_train.shape, y_train.shape\n",
    "print X_test.shape, y_test.shape"
   ]
  },
  {
   "cell_type": "code",
   "execution_count": 1002,
   "metadata": {
    "collapsed": false
   },
   "outputs": [],
   "source": [
    "from sklearn.preprocessing import StandardScaler\n",
    "\n",
    "ss = StandardScaler()\n",
    "\n",
    "Xn_train = ss.fit_transform(X_train)\n",
    "Xn_test = ss.fit_transform(X_test)"
   ]
  },
  {
   "cell_type": "code",
   "execution_count": 1003,
   "metadata": {
    "collapsed": false
   },
   "outputs": [
    {
     "name": "stderr",
     "output_type": "stream",
     "text": [
      "............................................................................................................................................................................................................................................................................................................................................................................................................................................................................................................................................................................................................................................................................................................................................................................................................................................................................................................................................................................................................................................................................................................................................................................................................................................................................................................................................................................................................................................................................................................................................................................................................................................................................................................................................................................................................................................................................................................................................................................................................................................................................................................................................................................................................................................................................................................................................................................................................................................................................................................................................................................................................................................................................................................................................................................................................................................................................................................................................................................................................................................................................................................................................................................................................................................................................................................................................................................................................................................................................................................................................................................................................................................................................................................................................................................................................................................................................................................................................................................................................................................................................................................................................................................................................................................................................................................................................................................................................................................................................................................................................................................................................................................................................................................................................................................................................................................................................................................................................................................................................................................................................................................................................................................................................................................................................................................................................................................................................................................................................................................................................................................................................................................................................................................................................................................................................................................................................................................................................................................................................................................................................................................................................................................................................................................................................................................................................................................................................................................................................................................................................................................................................................................................................................................................................................................................................................................................................................................................................................................................................................................................................................................................................................................................................................................................................................................................................................................................................................................................................................................................................................................................................................................................................................................................................................................................................................................................................................................................................................................................................................................................................................................................................................................................................................................................................................................................................................................................................................................................................................................................................................................................................................................................................................................................................................................................................................................................................................................................................................................................................................................................................................................................................................................................................................................................................................................................................................................................................................................................................................................................................................................................................................................................................................................................................................................................................................................................................................................................................................................................................................................................................................................................................................................................................................................................................................................................................................................................................................................................................................................................................................................................................................................................................................................................................................................................................................................................................................................................................................................................................................................................................................................................................................................................................................................................................................................................................................................................................................................................................................................................................................................................................................................................................................................................................................................................................................................................................................................................................................................................................................................................................................................................................................................................................................................................................................................................................................................................................................................................................................................................................................................................................................................................................................................................................................................................................................................................................................................................................................................................................................................................................................................................................................................................................................................................................................................................................................................................................................................................................................................................................................................................................................................................................................................................................................................................................................................................................................................................................................................................................................................................................................................................................................................................................................................................................................................................................................................................................................................................................................................................................................................................................................................................................................................................................................................................................................................................................................................................................................................................................................................................................................................................................................................................................................................................................................................................................................................................................................................................................................................................................................................................................................................................................................................................................................................................................................................................................................................................................................................................................................................................................................................................................................................................................................................................................................................................................................................................................................................................................................................................................................................................................................................................................................................................................................................................................................................................................................................................................................................................................................................................................................................................................................................................................................................................................................................................................................................................................................................................................................................................................................................................................................................................................................................................................................................................................................................................................................................................................................................................................................................................................................................................................................................................................................"
     ]
    },
    {
     "name": "stdout",
     "output_type": "stream",
     "text": [
      "Optimal alpha: 0.238253386364\n",
      "Optimal L1 ratio: 0.7\n"
     ]
    },
    {
     "name": "stderr",
     "output_type": "stream",
     "text": [
      "[Parallel(n_jobs=1)]: Done  35 out of  35 | elapsed:  2.2min finished\n"
     ]
    }
   ],
   "source": [
    "from sklearn.linear_model import ElasticNet, ElasticNetCV\n",
    "\n",
    "optimal_elastic = ElasticNetCV(l1_ratio=[.1, .5, .7, .9, .95, .99, 1], n_alphas=500, cv=5, verbose=1, n_jobs=1)\n",
    "model = optimal_elastic.fit(Xn_train, y_train)\n",
    "# model = ElasticNet(alpha=optimal_elastic.alpha_, l1_ratio=optimal_elastic.l1_ratio_).fit(X_train, y_train)\n",
    "\n",
    "print \"Optimal alpha:\", optimal_elastic.alpha_\n",
    "print \"Optimal L1 ratio:\", optimal_elastic.l1_ratio_"
   ]
  },
  {
   "cell_type": "code",
   "execution_count": 1004,
   "metadata": {
    "collapsed": false
   },
   "outputs": [
    {
     "name": "stdout",
     "output_type": "stream",
     "text": [
      "Model Score: 0.389315285743\n"
     ]
    },
    {
     "data": {
      "image/png": "[encoded data removed]",
      "text/plain": [
       "<matplotlib.figure.Figure at 0x128dfff10>"
      ]
     },
     "metadata": {
      "image/png": {
       "height": 510,
       "width": 499
      }
     },
     "output_type": "display_data"
    }
   ],
   "source": [
    "plt.style.use('seaborn-whitegrid')\n",
    "plt.figure(figsize=[8,8])\n",
    "\n",
    "plt.xlabel('Predictions', fontsize=14)\n",
    "plt.ylabel('True Values', fontsize=14)\n",
    "plt.title(\"Predicted Graduation Rates\", fontsize=18)\n",
    "\n",
    "predictions = model.predict(Xn_test)\n",
    "score = model.score(Xn_test, y_test)\n",
    "\n",
    "plt.scatter(predictions, y_test)\n",
    "print 'Model Score:', score"
   ]
  },
  {
   "cell_type": "code",
   "execution_count": 1011,
   "metadata": {
    "collapsed": false
   },
   "outputs": [
    {
     "data": {
      "text/html": [
       "<div>\n",
       "<table border=\"1\" class=\"dataframe\">\n",
       "  <thead>\n",
       "    <tr style=\"text-align: right;\">\n",
       "      <th></th>\n",
       "      <th>0</th>\n",
       "      <th>1</th>\n",
       "    </tr>\n",
       "  </thead>\n",
       "  <tbody>\n",
       "    <tr>\n",
       "      <th>287</th>\n",
       "      <td>-4.157821</td>\n",
       "      <td>ppsgenad</td>\n",
       "    </tr>\n",
       "    <tr>\n",
       "      <th>246</th>\n",
       "      <td>-1.894357</td>\n",
       "      <td>pctfcomp</td>\n",
       "    </tr>\n",
       "    <tr>\n",
       "      <th>161</th>\n",
       "      <td>-1.258234</td>\n",
       "      <td>land_area</td>\n",
       "    </tr>\n",
       "    <tr>\n",
       "      <th>193</th>\n",
       "      <td>-0.942208</td>\n",
       "      <td>nh_blk_alone_acsmoe_08_12</td>\n",
       "    </tr>\n",
       "    <tr>\n",
       "      <th>241</th>\n",
       "      <td>-0.821223</td>\n",
       "      <td>pct_pop_under_5_cen_2010</td>\n",
       "    </tr>\n",
       "    <tr>\n",
       "      <th>181</th>\n",
       "      <td>-0.579713</td>\n",
       "      <td>mobile_homes_acs_08_12</td>\n",
       "    </tr>\n",
       "    <tr>\n",
       "      <th>281</th>\n",
       "      <td>-0.575632</td>\n",
       "      <td>ppcstot</td>\n",
       "    </tr>\n",
       "    <tr>\n",
       "      <th>315</th>\n",
       "      <td>-0.552859</td>\n",
       "      <td>strform</td>\n",
       "    </tr>\n",
       "    <tr>\n",
       "      <th>294</th>\n",
       "      <td>-0.519984</td>\n",
       "      <td>pub_asst_inc_acs_08_12</td>\n",
       "    </tr>\n",
       "    <tr>\n",
       "      <th>317</th>\n",
       "      <td>-0.501612</td>\n",
       "      <td>strspec</td>\n",
       "    </tr>\n",
       "    <tr>\n",
       "      <th>80</th>\n",
       "      <td>-0.498475</td>\n",
       "      <td>aian_land</td>\n",
       "    </tr>\n",
       "    <tr>\n",
       "      <th>229</th>\n",
       "      <td>-0.472520</td>\n",
       "      <td>pct_nh_aian_alone_cen_2010</td>\n",
       "    </tr>\n",
       "    <tr>\n",
       "      <th>194</th>\n",
       "      <td>-0.456415</td>\n",
       "      <td>nh_blk_alone_cen_2010</td>\n",
       "    </tr>\n",
       "    <tr>\n",
       "      <th>327</th>\n",
       "      <td>-0.452820</td>\n",
       "      <td>tcurspup</td>\n",
       "    </tr>\n",
       "    <tr>\n",
       "      <th>362</th>\n",
       "      <td>-0.403457</td>\n",
       "      <td>vacants_cen_2010</td>\n",
       "    </tr>\n",
       "    <tr>\n",
       "      <th>187</th>\n",
       "      <td>-0.395462</td>\n",
       "      <td>nh_aian_alone_acsmoe_08_12</td>\n",
       "    </tr>\n",
       "    <tr>\n",
       "      <th>247</th>\n",
       "      <td>-0.392386</td>\n",
       "      <td>pctftot</td>\n",
       "    </tr>\n",
       "    <tr>\n",
       "      <th>231</th>\n",
       "      <td>-0.333470</td>\n",
       "      <td>pct_nh_blk_alone_cen_2010</td>\n",
       "    </tr>\n",
       "    <tr>\n",
       "      <th>34</th>\n",
       "      <td>-0.264954</td>\n",
       "      <td>age5p_laotian_acs_08_12</td>\n",
       "    </tr>\n",
       "    <tr>\n",
       "      <th>211</th>\n",
       "      <td>-0.237437</td>\n",
       "      <td>nonfamily_hhd_cen_2010</td>\n",
       "    </tr>\n",
       "    <tr>\n",
       "      <th>252</th>\n",
       "      <td>-0.234013</td>\n",
       "      <td>pctsform</td>\n",
       "    </tr>\n",
       "    <tr>\n",
       "      <th>176</th>\n",
       "      <td>-0.213504</td>\n",
       "      <td>min_temp</td>\n",
       "    </tr>\n",
       "    <tr>\n",
       "      <th>62</th>\n",
       "      <td>-0.190536</td>\n",
       "      <td>age5p_scandinavian_acs_08_12</td>\n",
       "    </tr>\n",
       "    <tr>\n",
       "      <th>200</th>\n",
       "      <td>-0.159208</td>\n",
       "      <td>nh_sor_alone_cen_2010</td>\n",
       "    </tr>\n",
       "    <tr>\n",
       "      <th>242</th>\n",
       "      <td>-0.147300</td>\n",
       "      <td>pct_rural_pop_cen_2010</td>\n",
       "    </tr>\n",
       "    <tr>\n",
       "      <th>238</th>\n",
       "      <td>-0.141781</td>\n",
       "      <td>pct_pop_45_64_cen_2010</td>\n",
       "    </tr>\n",
       "    <tr>\n",
       "      <th>135</th>\n",
       "      <td>-0.135648</td>\n",
       "      <td>eng_vw_other_acs_08_12</td>\n",
       "    </tr>\n",
       "    <tr>\n",
       "      <th>197</th>\n",
       "      <td>-0.125488</td>\n",
       "      <td>nh_nhopi_alone_cen_2010</td>\n",
       "    </tr>\n",
       "    <tr>\n",
       "      <th>253</th>\n",
       "      <td>-0.118832</td>\n",
       "      <td>pctstot</td>\n",
       "    </tr>\n",
       "    <tr>\n",
       "      <th>192</th>\n",
       "      <td>-0.093027</td>\n",
       "      <td>nh_blk_alone_acs_08_12</td>\n",
       "    </tr>\n",
       "    <tr>\n",
       "      <th>75</th>\n",
       "      <td>-0.063765</td>\n",
       "      <td>age5p_vietnamese_acsmoe_08_12</td>\n",
       "    </tr>\n",
       "    <tr>\n",
       "      <th>126</th>\n",
       "      <td>-0.055605</td>\n",
       "      <td>deletes_cen_2010</td>\n",
       "    </tr>\n",
       "    <tr>\n",
       "      <th>11</th>\n",
       "      <td>-0.055359</td>\n",
       "      <td>age5p_frcreole_acsmoe_08_12</td>\n",
       "    </tr>\n",
       "    <tr>\n",
       "      <th>198</th>\n",
       "      <td>-0.054478</td>\n",
       "      <td>nh_sor_alone_acs_08_12</td>\n",
       "    </tr>\n",
       "    <tr>\n",
       "      <th>228</th>\n",
       "      <td>-0.043952</td>\n",
       "      <td>pct_males_cen_2010</td>\n",
       "    </tr>\n",
       "    <tr>\n",
       "      <th>109</th>\n",
       "      <td>-0.042997</td>\n",
       "      <td>civ_labor_65plus_acs_08_12</td>\n",
       "    </tr>\n",
       "    <tr>\n",
       "      <th>136</th>\n",
       "      <td>-0.035032</td>\n",
       "      <td>eng_vw_other_acsmoe_08_12</td>\n",
       "    </tr>\n",
       "    <tr>\n",
       "      <th>348</th>\n",
       "      <td>-0.033761</td>\n",
       "      <td>tot_prns_in_hhd_acsmoe_08_12</td>\n",
       "    </tr>\n",
       "    <tr>\n",
       "      <th>132</th>\n",
       "      <td>-0.028416</td>\n",
       "      <td>eng_vw_api_acsmoe_08_12</td>\n",
       "    </tr>\n",
       "    <tr>\n",
       "      <th>50</th>\n",
       "      <td>-0.026014</td>\n",
       "      <td>age5p_othslavic_acs_08_12</td>\n",
       "    </tr>\n",
       "    <tr>\n",
       "      <th>280</th>\n",
       "      <td>-0.023977</td>\n",
       "      <td>pov_univ_acsmoe_08_12</td>\n",
       "    </tr>\n",
       "    <tr>\n",
       "      <th>209</th>\n",
       "      <td>-0.016695</td>\n",
       "      <td>nonfamily_hhd_acs_08_12</td>\n",
       "    </tr>\n",
       "    <tr>\n",
       "      <th>52</th>\n",
       "      <td>-0.004982</td>\n",
       "      <td>age5p_othunsp_acs_08_12</td>\n",
       "    </tr>\n",
       "    <tr>\n",
       "      <th>353</th>\n",
       "      <td>-0.000000</td>\n",
       "      <td>totalexp</td>\n",
       "    </tr>\n",
       "    <tr>\n",
       "      <th>254</th>\n",
       "      <td>0.000000</td>\n",
       "      <td>pcttotal</td>\n",
       "    </tr>\n",
       "    <tr>\n",
       "      <th>219</th>\n",
       "      <td>0.000000</td>\n",
       "      <td>occp_u_no_ph_srvc_acsmoe_08_12</td>\n",
       "    </tr>\n",
       "    <tr>\n",
       "      <th>220</th>\n",
       "      <td>0.000000</td>\n",
       "      <td>othr_lang_acs_08_12</td>\n",
       "    </tr>\n",
       "    <tr>\n",
       "      <th>221</th>\n",
       "      <td>0.000000</td>\n",
       "      <td>othr_lang_acsmoe_08_12</td>\n",
       "    </tr>\n",
       "    <tr>\n",
       "      <th>222</th>\n",
       "      <td>0.000000</td>\n",
       "      <td>owner_occp_hu_acs_08_12</td>\n",
       "    </tr>\n",
       "    <tr>\n",
       "      <th>223</th>\n",
       "      <td>0.000000</td>\n",
       "      <td>owner_occp_hu_acsmoe_08_12</td>\n",
       "    </tr>\n",
       "  </tbody>\n",
       "</table>\n",
       "</div>"
      ],
      "text/plain": [
       "            0                               1\n",
       "287 -4.157821                        ppsgenad\n",
       "246 -1.894357                        pctfcomp\n",
       "161 -1.258234                       land_area\n",
       "193 -0.942208       nh_blk_alone_acsmoe_08_12\n",
       "241 -0.821223        pct_pop_under_5_cen_2010\n",
       "181 -0.579713          mobile_homes_acs_08_12\n",
       "281 -0.575632                         ppcstot\n",
       "315 -0.552859                         strform\n",
       "294 -0.519984          pub_asst_inc_acs_08_12\n",
       "317 -0.501612                         strspec\n",
       "80  -0.498475                       aian_land\n",
       "229 -0.472520      pct_nh_aian_alone_cen_2010\n",
       "194 -0.456415           nh_blk_alone_cen_2010\n",
       "327 -0.452820                        tcurspup\n",
       "362 -0.403457                vacants_cen_2010\n",
       "187 -0.395462      nh_aian_alone_acsmoe_08_12\n",
       "247 -0.392386                         pctftot\n",
       "231 -0.333470       pct_nh_blk_alone_cen_2010\n",
       "34  -0.264954         age5p_laotian_acs_08_12\n",
       "211 -0.237437          nonfamily_hhd_cen_2010\n",
       "252 -0.234013                        pctsform\n",
       "176 -0.213504                        min_temp\n",
       "62  -0.190536    age5p_scandinavian_acs_08_12\n",
       "200 -0.159208           nh_sor_alone_cen_2010\n",
       "242 -0.147300          pct_rural_pop_cen_2010\n",
       "238 -0.141781          pct_pop_45_64_cen_2010\n",
       "135 -0.135648          eng_vw_other_acs_08_12\n",
       "197 -0.125488         nh_nhopi_alone_cen_2010\n",
       "253 -0.118832                         pctstot\n",
       "192 -0.093027          nh_blk_alone_acs_08_12\n",
       "75  -0.063765   age5p_vietnamese_acsmoe_08_12\n",
       "126 -0.055605                deletes_cen_2010\n",
       "11  -0.055359     age5p_frcreole_acsmoe_08_12\n",
       "198 -0.054478          nh_sor_alone_acs_08_12\n",
       "228 -0.043952              pct_males_cen_2010\n",
       "109 -0.042997      civ_labor_65plus_acs_08_12\n",
       "136 -0.035032       eng_vw_other_acsmoe_08_12\n",
       "348 -0.033761    tot_prns_in_hhd_acsmoe_08_12\n",
       "132 -0.028416         eng_vw_api_acsmoe_08_12\n",
       "50  -0.026014       age5p_othslavic_acs_08_12\n",
       "280 -0.023977           pov_univ_acsmoe_08_12\n",
       "209 -0.016695         nonfamily_hhd_acs_08_12\n",
       "52  -0.004982         age5p_othunsp_acs_08_12\n",
       "353 -0.000000                        totalexp\n",
       "254  0.000000                        pcttotal\n",
       "219  0.000000  occp_u_no_ph_srvc_acsmoe_08_12\n",
       "220  0.000000             othr_lang_acs_08_12\n",
       "221  0.000000          othr_lang_acsmoe_08_12\n",
       "222  0.000000         owner_occp_hu_acs_08_12\n",
       "223  0.000000      owner_occp_hu_acsmoe_08_12"
      ]
     },
     "execution_count": 1011,
     "metadata": {},
     "output_type": "execute_result"
    }
   ],
   "source": [
    "coeffs = pd.DataFrame(zip(model.coef_, X.columns)).sort_values(0)\n",
    "coeffs.head(50)"
   ]
  },
  {
   "cell_type": "code",
   "execution_count": 1012,
   "metadata": {
    "collapsed": false
   },
   "outputs": [
    {
     "data": {
      "text/html": [
       "<div>\n",
       "<table border=\"1\" class=\"dataframe\">\n",
       "  <thead>\n",
       "    <tr style=\"text-align: right;\">\n",
       "      <th></th>\n",
       "      <th>0</th>\n",
       "      <th>1</th>\n",
       "    </tr>\n",
       "  </thead>\n",
       "  <tbody>\n",
       "    <tr>\n",
       "      <th>107</th>\n",
       "      <td>0.000000</td>\n",
       "      <td>civ_labor_45_64_acs_08_12</td>\n",
       "    </tr>\n",
       "    <tr>\n",
       "      <th>153</th>\n",
       "      <td>-0.000000</td>\n",
       "      <td>hhd_moved_in_acsmoe_08_12</td>\n",
       "    </tr>\n",
       "    <tr>\n",
       "      <th>117</th>\n",
       "      <td>-0.000000</td>\n",
       "      <td>civ_unemp_45_64_acs_08_12</td>\n",
       "    </tr>\n",
       "    <tr>\n",
       "      <th>112</th>\n",
       "      <td>-0.000000</td>\n",
       "      <td>civ_unemp_16_24_acsmoe_08_12</td>\n",
       "    </tr>\n",
       "    <tr>\n",
       "      <th>113</th>\n",
       "      <td>-0.000000</td>\n",
       "      <td>civ_unemp_16plus_acs_08_12</td>\n",
       "    </tr>\n",
       "    <tr>\n",
       "      <th>114</th>\n",
       "      <td>0.000000</td>\n",
       "      <td>civ_unemp_16plus_acsmoe_08_12</td>\n",
       "    </tr>\n",
       "    <tr>\n",
       "      <th>116</th>\n",
       "      <td>0.000000</td>\n",
       "      <td>civ_unemp_25_44_acsmoe_08_12</td>\n",
       "    </tr>\n",
       "    <tr>\n",
       "      <th>115</th>\n",
       "      <td>-0.000000</td>\n",
       "      <td>civ_unemp_25_44_acs_08_12</td>\n",
       "    </tr>\n",
       "    <tr>\n",
       "      <th>168</th>\n",
       "      <td>0.000000</td>\n",
       "      <td>locrtax</td>\n",
       "    </tr>\n",
       "    <tr>\n",
       "      <th>166</th>\n",
       "      <td>-0.000000</td>\n",
       "      <td>locrpar</td>\n",
       "    </tr>\n",
       "    <tr>\n",
       "      <th>167</th>\n",
       "      <td>0.000000</td>\n",
       "      <td>locrprop</td>\n",
       "    </tr>\n",
       "    <tr>\n",
       "      <th>111</th>\n",
       "      <td>-0.000000</td>\n",
       "      <td>civ_unemp_16_24_acs_08_12</td>\n",
       "    </tr>\n",
       "    <tr>\n",
       "      <th>78</th>\n",
       "      <td>0.001655</td>\n",
       "      <td>age5p_yiddish_acs_08_12</td>\n",
       "    </tr>\n",
       "    <tr>\n",
       "      <th>30</th>\n",
       "      <td>0.005891</td>\n",
       "      <td>age5p_japanese_acs_08_12</td>\n",
       "    </tr>\n",
       "    <tr>\n",
       "      <th>15</th>\n",
       "      <td>0.006254</td>\n",
       "      <td>age5p_german_acsmoe_08_12</td>\n",
       "    </tr>\n",
       "    <tr>\n",
       "      <th>237</th>\n",
       "      <td>0.006493</td>\n",
       "      <td>pct_pop_25_44_cen_2010</td>\n",
       "    </tr>\n",
       "    <tr>\n",
       "      <th>225</th>\n",
       "      <td>0.043753</td>\n",
       "      <td>pct_females_cen_2010</td>\n",
       "    </tr>\n",
       "    <tr>\n",
       "      <th>160</th>\n",
       "      <td>0.044950</td>\n",
       "      <td>inst_gq_cen_2010</td>\n",
       "    </tr>\n",
       "    <tr>\n",
       "      <th>335</th>\n",
       "      <td>0.050231</td>\n",
       "      <td>tintrst</td>\n",
       "    </tr>\n",
       "    <tr>\n",
       "      <th>31</th>\n",
       "      <td>0.063638</td>\n",
       "      <td>age5p_japanese_acsmoe_08_12</td>\n",
       "    </tr>\n",
       "    <tr>\n",
       "      <th>270</th>\n",
       "      <td>0.069495</td>\n",
       "      <td>pop_5_17_cen_2010</td>\n",
       "    </tr>\n",
       "    <tr>\n",
       "      <th>268</th>\n",
       "      <td>0.079099</td>\n",
       "      <td>pop_5_17_acs_08_12</td>\n",
       "    </tr>\n",
       "    <tr>\n",
       "      <th>337</th>\n",
       "      <td>0.093930</td>\n",
       "      <td>tot_gq_cen_2010</td>\n",
       "    </tr>\n",
       "    <tr>\n",
       "      <th>77</th>\n",
       "      <td>0.101767</td>\n",
       "      <td>age5p_wgerman_acsmoe_08_12</td>\n",
       "    </tr>\n",
       "    <tr>\n",
       "      <th>22</th>\n",
       "      <td>0.105641</td>\n",
       "      <td>age5p_hindi_acs_08_12</td>\n",
       "    </tr>\n",
       "    <tr>\n",
       "      <th>275</th>\n",
       "      <td>0.118383</td>\n",
       "      <td>pop_65plus_cen_2010</td>\n",
       "    </tr>\n",
       "    <tr>\n",
       "      <th>273</th>\n",
       "      <td>0.119750</td>\n",
       "      <td>pop_65plus_acs_08_12</td>\n",
       "    </tr>\n",
       "    <tr>\n",
       "      <th>218</th>\n",
       "      <td>0.123303</td>\n",
       "      <td>occp_u_no_ph_srvc_acs_08_12</td>\n",
       "    </tr>\n",
       "    <tr>\n",
       "      <th>274</th>\n",
       "      <td>0.134092</td>\n",
       "      <td>pop_65plus_acsmoe_08_12</td>\n",
       "    </tr>\n",
       "    <tr>\n",
       "      <th>121</th>\n",
       "      <td>0.135653</td>\n",
       "      <td>college_acs_08_12</td>\n",
       "    </tr>\n",
       "    <tr>\n",
       "      <th>339</th>\n",
       "      <td>0.136657</td>\n",
       "      <td>tot_housing_units_acsmoe_08_12</td>\n",
       "    </tr>\n",
       "    <tr>\n",
       "      <th>98</th>\n",
       "      <td>0.161764</td>\n",
       "      <td>civ_emp_45_64_acsmoe_08_12</td>\n",
       "    </tr>\n",
       "    <tr>\n",
       "      <th>227</th>\n",
       "      <td>0.170570</td>\n",
       "      <td>pct_inst_gq_cen_2010</td>\n",
       "    </tr>\n",
       "    <tr>\n",
       "      <th>217</th>\n",
       "      <td>0.206206</td>\n",
       "      <td>num_bgs_in_tract</td>\n",
       "    </tr>\n",
       "    <tr>\n",
       "      <th>248</th>\n",
       "      <td>0.218402</td>\n",
       "      <td>pctlchar</td>\n",
       "    </tr>\n",
       "    <tr>\n",
       "      <th>308</th>\n",
       "      <td>0.256357</td>\n",
       "      <td>rural_pop_cen_2010</td>\n",
       "    </tr>\n",
       "    <tr>\n",
       "      <th>314</th>\n",
       "      <td>0.284568</td>\n",
       "      <td>state</td>\n",
       "    </tr>\n",
       "    <tr>\n",
       "      <th>150</th>\n",
       "      <td>0.284616</td>\n",
       "      <td>fipst</td>\n",
       "    </tr>\n",
       "    <tr>\n",
       "      <th>288</th>\n",
       "      <td>0.302873</td>\n",
       "      <td>ppspupil</td>\n",
       "    </tr>\n",
       "    <tr>\n",
       "      <th>250</th>\n",
       "      <td>0.318544</td>\n",
       "      <td>pctltaxp</td>\n",
       "    </tr>\n",
       "    <tr>\n",
       "      <th>154</th>\n",
       "      <td>0.324602</td>\n",
       "      <td>hhd_ppl_und_18_acs_08_12</td>\n",
       "    </tr>\n",
       "    <tr>\n",
       "      <th>230</th>\n",
       "      <td>0.408503</td>\n",
       "      <td>pct_nh_asian_alone_cen_2010</td>\n",
       "    </tr>\n",
       "    <tr>\n",
       "      <th>122</th>\n",
       "      <td>0.409069</td>\n",
       "      <td>college_acsmoe_08_12</td>\n",
       "    </tr>\n",
       "    <tr>\n",
       "      <th>125</th>\n",
       "      <td>0.426207</td>\n",
       "      <td>debtout</td>\n",
       "    </tr>\n",
       "    <tr>\n",
       "      <th>201</th>\n",
       "      <td>0.456332</td>\n",
       "      <td>nh_white_alone_acs_08_12</td>\n",
       "    </tr>\n",
       "    <tr>\n",
       "      <th>244</th>\n",
       "      <td>0.460403</td>\n",
       "      <td>pct_urban_cluster_pop_cen_2010</td>\n",
       "    </tr>\n",
       "    <tr>\n",
       "      <th>203</th>\n",
       "      <td>0.539062</td>\n",
       "      <td>nh_white_alone_cen_2010</td>\n",
       "    </tr>\n",
       "    <tr>\n",
       "      <th>290</th>\n",
       "      <td>0.615160</td>\n",
       "      <td>ppsstaff</td>\n",
       "    </tr>\n",
       "    <tr>\n",
       "      <th>239</th>\n",
       "      <td>0.666089</td>\n",
       "      <td>pct_pop_5_17_cen_2010</td>\n",
       "    </tr>\n",
       "    <tr>\n",
       "      <th>251</th>\n",
       "      <td>0.718826</td>\n",
       "      <td>pctltot</td>\n",
       "    </tr>\n",
       "  </tbody>\n",
       "</table>\n",
       "</div>"
      ],
      "text/plain": [
       "            0                               1\n",
       "107  0.000000       civ_labor_45_64_acs_08_12\n",
       "153 -0.000000       hhd_moved_in_acsmoe_08_12\n",
       "117 -0.000000       civ_unemp_45_64_acs_08_12\n",
       "112 -0.000000    civ_unemp_16_24_acsmoe_08_12\n",
       "113 -0.000000      civ_unemp_16plus_acs_08_12\n",
       "114  0.000000   civ_unemp_16plus_acsmoe_08_12\n",
       "116  0.000000    civ_unemp_25_44_acsmoe_08_12\n",
       "115 -0.000000       civ_unemp_25_44_acs_08_12\n",
       "168  0.000000                         locrtax\n",
       "166 -0.000000                         locrpar\n",
       "167  0.000000                        locrprop\n",
       "111 -0.000000       civ_unemp_16_24_acs_08_12\n",
       "78   0.001655         age5p_yiddish_acs_08_12\n",
       "30   0.005891        age5p_japanese_acs_08_12\n",
       "15   0.006254       age5p_german_acsmoe_08_12\n",
       "237  0.006493          pct_pop_25_44_cen_2010\n",
       "225  0.043753            pct_females_cen_2010\n",
       "160  0.044950                inst_gq_cen_2010\n",
       "335  0.050231                         tintrst\n",
       "31   0.063638     age5p_japanese_acsmoe_08_12\n",
       "270  0.069495               pop_5_17_cen_2010\n",
       "268  0.079099              pop_5_17_acs_08_12\n",
       "337  0.093930                 tot_gq_cen_2010\n",
       "77   0.101767      age5p_wgerman_acsmoe_08_12\n",
       "22   0.105641           age5p_hindi_acs_08_12\n",
       "275  0.118383             pop_65plus_cen_2010\n",
       "273  0.119750            pop_65plus_acs_08_12\n",
       "218  0.123303     occp_u_no_ph_srvc_acs_08_12\n",
       "274  0.134092         pop_65plus_acsmoe_08_12\n",
       "121  0.135653               college_acs_08_12\n",
       "339  0.136657  tot_housing_units_acsmoe_08_12\n",
       "98   0.161764      civ_emp_45_64_acsmoe_08_12\n",
       "227  0.170570            pct_inst_gq_cen_2010\n",
       "217  0.206206                num_bgs_in_tract\n",
       "248  0.218402                        pctlchar\n",
       "308  0.256357              rural_pop_cen_2010\n",
       "314  0.284568                           state\n",
       "150  0.284616                           fipst\n",
       "288  0.302873                        ppspupil\n",
       "250  0.318544                        pctltaxp\n",
       "154  0.324602        hhd_ppl_und_18_acs_08_12\n",
       "230  0.408503     pct_nh_asian_alone_cen_2010\n",
       "122  0.409069            college_acsmoe_08_12\n",
       "125  0.426207                         debtout\n",
       "201  0.456332        nh_white_alone_acs_08_12\n",
       "244  0.460403  pct_urban_cluster_pop_cen_2010\n",
       "203  0.539062         nh_white_alone_cen_2010\n",
       "290  0.615160                        ppsstaff\n",
       "239  0.666089           pct_pop_5_17_cen_2010\n",
       "251  0.718826                         pctltot"
      ]
     },
     "execution_count": 1012,
     "metadata": {},
     "output_type": "execute_result"
    }
   ],
   "source": [
    "coeffs.tail(50)"
   ]
  },
  {
   "cell_type": "markdown",
   "metadata": {},
   "source": [
    ".\n",
    "\n",
    "\n",
    ".\n",
    "\n",
    "\n",
    ".\n",
    "\n",
    "\n",
    ".\n",
    "\n",
    "\n",
    ".\n",
    "\n",
    "\n",
    ".\n",
    "\n",
    "\n",
    ".\n",
    "\n",
    "\n",
    ".\n",
    "\n",
    "\n",
    ".\n",
    "\n",
    "\n",
    ".\n",
    "\n",
    "\n",
    ".\n",
    "\n",
    "\n",
    "."
   ]
  },
  {
   "cell_type": "code",
   "execution_count": 1013,
   "metadata": {
    "collapsed": false
   },
   "outputs": [],
   "source": [
    "grad_test = pd.read_csv('/Users/alex/Desktop/DSI-SF-2-akodate/datasets/data_for_diplomas/grad_test.csv')"
   ]
  },
  {
   "cell_type": "code",
   "execution_count": 1014,
   "metadata": {
    "collapsed": false
   },
   "outputs": [
    {
     "data": {
      "text/plain": [
       "(2447, 650)"
      ]
     },
     "execution_count": 1014,
     "metadata": {},
     "output_type": "execute_result"
    }
   ],
   "source": [
    "df_merged = grad_test.merge(spending_mergeable, how='left', left_on='leaid11', right_on='NCESID')\n",
    "df_merged = df_merged.merge(climate, how='left', left_on='State_name', right_on='state_y')\n",
    "df_merged.shape"
   ]
  },
  {
   "cell_type": "code",
   "execution_count": 1015,
   "metadata": {
    "collapsed": false,
    "scrolled": true
   },
   "outputs": [],
   "source": [
    "# df_merged.tail().T"
   ]
  },
  {
   "cell_type": "code",
   "execution_count": 1016,
   "metadata": {
    "collapsed": false
   },
   "outputs": [],
   "source": [
    "# df_merged.isnull().sum()"
   ]
  },
  {
   "cell_type": "code",
   "execution_count": 1017,
   "metadata": {
    "collapsed": false
   },
   "outputs": [],
   "source": [
    "# Percent not null in each column\n",
    "# percent_not_null = (grad_test.shape[0] - grad_test.isnull().sum()) / float(grad_test.shape[0]) * 100\n",
    "# grad_dropped = df_merged.drop(df_merged[percent_not_null[percent_not_null < 99].index], axis=1)\n",
    "grad_dropped = df_merged.copy()"
   ]
  },
  {
   "cell_type": "code",
   "execution_count": 1018,
   "metadata": {
    "collapsed": false
   },
   "outputs": [
    {
     "data": {
      "text/plain": [
       "(2447, 650)"
      ]
     },
     "execution_count": 1018,
     "metadata": {},
     "output_type": "execute_result"
    }
   ],
   "source": [
    "grad_dropped.shape"
   ]
  },
  {
   "cell_type": "code",
   "execution_count": 1019,
   "metadata": {
    "collapsed": false
   },
   "outputs": [],
   "source": [
    "grad_dropped.columns = [col_name.lower().replace(' ', '_').replace('.', '_').replace('(', '').replace(')', '').replace('-', '_') for col_name in grad_dropped.columns]\n",
    "# grad_dropped.dtypes"
   ]
  },
  {
   "cell_type": "code",
   "execution_count": 1020,
   "metadata": {
    "collapsed": false
   },
   "outputs": [
    {
     "name": "stdout",
     "output_type": "stream",
     "text": [
      "grad_pct_from_mean ~ age5p_african_acs_08_12 + age5p_african_acsmoe_08_12 + age5p_arabic_acs_08_12 + age5p_arabic_acsmoe_08_12 + age5p_armenian_acs_08_12 + age5p_armenian_acsmoe_08_12 + age5p_cambodian_acs_08_12 + age5p_cambodian_acsmoe_08_12 + age5p_chinese_acs_08_12 + age5p_chinese_acsmoe_08_12 + age5p_frcreole_acs_08_12 + age5p_frcreole_acsmoe_08_12 + age5p_french_acs_08_12 + age5p_french_acsmoe_08_12 + age5p_german_acs_08_12 + age5p_german_acsmoe_08_12 + age5p_greek_acs_08_12 + age5p_greek_acsmoe_08_12 + age5p_gujarati_acs_08_12 + age5p_gujarati_acsmoe_08_12 + age5p_hebrew_acs_08_12 + age5p_hebrew_acsmoe_08_12 + age5p_hindi_acs_08_12 + age5p_hindi_acsmoe_08_12 + age5p_hmong_acs_08_12 + age5p_hmong_acsmoe_08_12 + age5p_hungarian_acs_08_12 + age5p_hungarian_acsmoe_08_12 + age5p_italian_acs_08_12 + age5p_italian_acsmoe_08_12 + age5p_japanese_acs_08_12 + age5p_japanese_acsmoe_08_12 + age5p_korean_acs_08_12 + age5p_korean_acsmoe_08_12 + age5p_laotian_acs_08_12 + age5p_laotian_acsmoe_08_12 + age5p_nativenam_acs_08_12 + age5p_nativenam_acsmoe_08_12 + age5p_navajo_acs_08_12 + age5p_navajo_acsmoe_08_12 + age5p_only_english_acs_08_12 + age5p_only_english_acsmoe_08_12 + age5p_othasian_acs_08_12 + age5p_othasian_acsmoe_08_12 + age5p_otheuro_acs_08_12 + age5p_otheuro_acsmoe_08_12 + age5p_othindic_acs_08_12 + age5p_othindic_acsmoe_08_12 + age5p_othpacisl_acs_08_12 + age5p_othpacisl_acsmoe_08_12 + age5p_othslavic_acs_08_12 + age5p_othslavic_acsmoe_08_12 + age5p_othunsp_acs_08_12 + age5p_othunsp_acsmoe_08_12 + age5p_persian_acs_08_12 + age5p_persian_acsmoe_08_12 + age5p_polish_acs_08_12 + age5p_polish_acsmoe_08_12 + age5p_portuguese_acs_08_12 + age5p_portuguese_acsmoe_08_12 + age5p_russian_acs_08_12 + age5p_russian_acsmoe_08_12 + age5p_scandinavian_acs_08_12 + age5p_scandinavian_acsmoe_08_12 + age5p_spanish_acs_08_12 + age5p_spanish_acsmoe_08_12 + age5p_srbcroatian_acs_08_12 + age5p_srbcroatian_acsmoe_08_12 + age5p_tagalog_acs_08_12 + age5p_tagalog_acsmoe_08_12 + age5p_thai_acs_08_12 + age5p_thai_acsmoe_08_12 + age5p_urdu_acs_08_12 + age5p_urdu_acsmoe_08_12 + age5p_vietnamese_acs_08_12 + age5p_vietnamese_acsmoe_08_12 + age5p_wgerman_acs_08_12 + age5p_wgerman_acsmoe_08_12 + age5p_yiddish_acs_08_12 + age5p_yiddish_acsmoe_08_12 + aian_land + all_cohort_1112 + avg_temp + bilq_frms_cen_2010 + bilq_mailout_count_cen_2010 + born_foreign_acs_08_12 + born_foreign_acsmoe_08_12 + born_us_acs_08_12 + born_us_acsmoe_08_12 + census_mail_returns_cen_2010 + census_uaa_cen_2010 + civ_emp_16_24_acs_08_12 + civ_emp_16_24_acsmoe_08_12 + civ_emp_16plus_acs_08_12 + civ_emp_16plus_acsmoe_08_12 + civ_emp_25_44_acs_08_12 + civ_emp_25_44_acsmoe_08_12 + civ_emp_45_64_acs_08_12 + civ_emp_45_64_acsmoe_08_12 + civ_emp_65plus_acs_08_12 + civ_emp_65plus_acsmoe_08_12 + civ_labor_16_24_acs_08_12 + civ_labor_16_24_acsmoe_08_12 + civ_labor_16plus_acs_08_12 + civ_labor_16plus_acsmoe_08_12 + civ_labor_25_44_acs_08_12 + civ_labor_25_44_acsmoe_08_12 + civ_labor_45_64_acs_08_12 + civ_labor_45_64_acsmoe_08_12 + civ_labor_65plus_acs_08_12 + civ_labor_65plus_acsmoe_08_12 + civ_unemp_16_24_acs_08_12 + civ_unemp_16_24_acsmoe_08_12 + civ_unemp_16plus_acs_08_12 + civ_unemp_16plus_acsmoe_08_12 + civ_unemp_25_44_acs_08_12 + civ_unemp_25_44_acsmoe_08_12 + civ_unemp_45_64_acs_08_12 + civ_unemp_45_64_acsmoe_08_12 + civ_unemp_65plus_acs_08_12 + civ_unemp_65plus_acsmoe_08_12 + college_acs_08_12 + college_acsmoe_08_12 + crowd_occp_u_acs_08_12 + crowd_occp_u_acsmoe_08_12 + debtout + deletes_cen_2010 + diff_hu_1yr_ago_acs_08_12 + diff_hu_1yr_ago_acsmoe_08_12 + eng_vw_acs_08_12 + eng_vw_acsmoe_08_12 + eng_vw_api_acs_08_12 + eng_vw_api_acsmoe_08_12 + eng_vw_indo_euro_acs_08_12 + eng_vw_indo_euro_acsmoe_08_12 + eng_vw_other_acs_08_12 + eng_vw_other_acsmoe_08_12 + eng_vw_span_acs_08_12 + eng_vw_span_acsmoe_08_12 + enroll + fedrcomp + fedrnutr + fedrothr + fedrspec + female_no_hb_acs_08_12 + female_no_hb_acsmoe_08_12 + female_no_hb_cen_2010 + females_acs_08_12 + females_acsmoe_08_12 + females_cen_2010 + fipst + frst_frms_cen_2010 + hhd_moved_in_acs_08_12 + hhd_moved_in_acsmoe_08_12 + hhd_ppl_und_18_acs_08_12 + hhd_ppl_und_18_acsmoe_08_12 + hhd_ppl_und_18_cen_2010 + hispanic_acs_08_12 + hispanic_acsmoe_08_12 + hispanic_cen_2010 + inst_gq_cen_2010 + land_area + locrchar + locrcico + locrosch + locrothr + locrpar + locrprop + locrtax + longissu + longret + mailback_area_count_cen_2010 + males_acs_08_12 + males_acsmoe_08_12 + males_cen_2010 + max_temp + min_temp + mlt_u10p_acs_08_12 + mlt_u10p_acsmoe_08_12 + mlt_u2_9_strc_acs_08_12 + mlt_u2_9_strc_acsmoe_08_12 + mobile_homes_acs_08_12 + mobile_homes_acsmoe_08_12 + mrdcple_fmly_hhd_acs_08_12 + mrdcple_fmly_hhd_acsmoe_08_12 + mrdcple_fmly_hhd_cen_2010 + nh_aian_alone_acs_08_12 + nh_aian_alone_acsmoe_08_12 + nh_aian_alone_cen_2010 + nh_asian_alone_acs_08_12 + nh_asian_alone_acsmoe_08_12 + nh_asian_alone_cen_2010 + nh_blk_alone_acs_08_12 + nh_blk_alone_acsmoe_08_12 + nh_blk_alone_cen_2010 + nh_nhopi_alone_acs_08_12 + nh_nhopi_alone_acsmoe_08_12 + nh_nhopi_alone_cen_2010 + nh_sor_alone_acs_08_12 + nh_sor_alone_acsmoe_08_12 + nh_sor_alone_cen_2010 + nh_white_alone_acs_08_12 + nh_white_alone_acsmoe_08_12 + nh_white_alone_cen_2010 + no_plumb_acs_08_12 + no_plumb_acsmoe_08_12 + non_inst_gq_cen_2010 + non_us_cit_acs_08_12 + non_us_cit_acsmoe_08_12 + nonfamily_hhd_acs_08_12 + nonfamily_hhd_acsmoe_08_12 + nonfamily_hhd_cen_2010 + not_hs_grad_acs_08_12 + not_hs_grad_acsmoe_08_12 + not_mrdcple_hhd_acs_08_12 + not_mrdcple_hhd_acsmoe_08_12 + not_mrdcple_hhd_cen_2010 + num_bgs_in_tract + occp_u_no_ph_srvc_acs_08_12 + occp_u_no_ph_srvc_acsmoe_08_12 + othr_lang_acs_08_12 + othr_lang_acsmoe_08_12 + owner_occp_hu_acs_08_12 + owner_occp_hu_acsmoe_08_12 + owner_occp_hu_cen_2010 + pct_females_cen_2010 + pct_hispanic_cen_2010 + pct_inst_gq_cen_2010 + pct_males_cen_2010 + pct_nh_aian_alone_cen_2010 + pct_nh_asian_alone_cen_2010 + pct_nh_blk_alone_cen_2010 + pct_nh_nhopi_alone_cen_2010 + pct_nh_sor_alone_cen_2010 + pct_nh_white_alone_cen_2010 + pct_non_inst_gq_cen_2010 + pct_pop_18_24_cen_2010 + pct_pop_25_44_cen_2010 + pct_pop_45_64_cen_2010 + pct_pop_5_17_cen_2010 + pct_pop_65plus_cen_2010 + pct_pop_under_5_cen_2010 + pct_rural_pop_cen_2010 + pct_tot_gq_cen_2010 + pct_urban_cluster_pop_cen_2010 + pct_urbanized_area_pop_cen_2010 + pctfcomp + pctftot + pctlchar + pctlothg + pctltaxp + pctltot + pctsform + pctstot + pcttotal + pop_18_24_acs_08_12 + pop_18_24_acsmoe_08_12 + pop_18_24_cen_2010 + pop_1yr_over_acs_08_12 + pop_1yr_over_acsmoe_08_12 + pop_25_44_acs_08_12 + pop_25_44_acsmoe_08_12 + pop_25_44_cen_2010 + pop_25yrs_over_acs_08_12 + pop_25yrs_over_acsmoe_08_12 + pop_45_64_acs_08_12 + pop_45_64_acsmoe_08_12 + pop_45_64_cen_2010 + pop_5_17_acs_08_12 + pop_5_17_acsmoe_08_12 + pop_5_17_cen_2010 + pop_5yrs_over_acs_08_12 + pop_5yrs_over_acsmoe_08_12 + pop_65plus_acs_08_12 + pop_65plus_acsmoe_08_12 + pop_65plus_cen_2010 + pop_under_5_acs_08_12 + pop_under_5_acsmoe_08_12 + pop_under_5_cen_2010 + pov_univ_acs_08_12 + pov_univ_acsmoe_08_12 + ppcstot + ppempben + ppiemben + ppisalwg + ppitotal + ppsalwg + ppsgenad + ppspupil + ppsschad + ppsstaff + ppstotal + prs_blw_pov_lev_acs_08_12 + prs_blw_pov_lev_acsmoe_08_12 + pub_asst_inc_acs_08_12 + pub_asst_inc_acsmoe_08_12 + recent_built_hu_acs_08_12 + recent_built_hu_acsmoe_08_12 + rel_child_under_6_acs_08_12 + rel_child_under_6_acsmoe_08_12 + rel_child_under_6_cen_2010 + rel_family_hhd_acs_08_12 + rel_family_hhd_acsmoe_08_12 + rel_family_hhds_cen_2010 + renter_occp_hu_acs_08_12 + renter_occp_hu_acsmoe_08_12 + renter_occp_hu_cen_2010 + rplcmnt_frms_cen_2010 + rural_pop_cen_2010 + single_unit_acs_08_12 + single_unit_acsmoe_08_12 + sngl_prns_hhd_acs_08_12 + sngl_prns_hhd_acsmoe_08_12 + sngl_prns_hhd_cen_2010 + state + strform + strothr + strspec + strtrans + tcapout + tcuriben + tcurinst + tcurisal + tcuronon + tcursgen + tcursoth + tcurspnd + tcurspup + tcurssch + tcurssta + tcurssvc + tea_mail_out_mail_back_cen_2010 + tea_update_leave_cen_2010 + tempbene + tfedrev + tintrst + tlocrev + tot_gq_cen_2010 + tot_housing_units_acs_08_12 + tot_housing_units_acsmoe_08_12 + tot_housing_units_cen_2010 + tot_occp_units_acs_08_12 + tot_occp_units_acsmoe_08_12 + tot_occp_units_cen_2010 + tot_population_acs_08_12 + tot_population_acsmoe_08_12 + tot_population_cen_2010 + tot_prns_in_hhd_acs_08_12 + tot_prns_in_hhd_acsmoe_08_12 + tot_prns_in_hhd_cen_2010 + tot_vacant_units_acs_08_12 + tot_vacant_units_acsmoe_08_12 + tot_vacant_units_cen_2010 + totalexp + totalrev + tpayoth + tsalwage + tstrev + urban_cluster_pop_cen_2010 + urbanized_area_pop_cen_2010 + us_cit_nat_acs_08_12 + us_cit_nat_acsmoe_08_12 + vacants_cen_2010 + valid_mailback_count_cen_2010 - 1\n",
      "(2400, 364)\n",
      "(2400, 1)\n"
     ]
    }
   ],
   "source": [
    "import patsy\n",
    "df = grad_dropped.copy()\n",
    "\n",
    "\n",
    "# all_columns = \"\" + \" + \".join(df.columns.difference([\n",
    "#             'all_rate_1112', \n",
    "#             'percentage', \n",
    "#             'grad_pct_from_mean', \n",
    "#             'tract', \n",
    "#             'tract_code', \n",
    "#             'leaid11', \n",
    "#             'stnam', \n",
    "#             'leanm11', \n",
    "#             'school_district', \n",
    "#             'county_name', \n",
    "#             'name',\n",
    "#             'conum',\n",
    "#             'csa',\n",
    "#             'cbsa',\n",
    "#             'state_y',\n",
    "#             'gidtr']))\n",
    "\n",
    "\n",
    "# all_columns = \"\" + \" + \".join(df.columns[:400].difference(['all_rate_1112', 'percentage', 'grad_pct_from_mean', 'tract', 'tract_code', 'leaid11', 'stnam', 'leanm11', 'school_district', 'county_name', 'gidtr']))\n",
    "# all_columns = \"\" + \" + \".join(df.columns[:450].difference(['all_rate_1112', 'grad_pct_from_mean', 'tract', 'tract_code', 'leaid11', 'stnam', 'leanm11', 'school_district', 'county_name', 'gidtr']))\n",
    "# all_columns = \"\" + \" + \".join(['pct_prs_blw_pov_lev_acs_08_12','pct_not_mrdcple_hhd_acs_08_12', 'pct_not_mrdcple_hhd_cen_2010','ecd_rate_1112', 'ppsalwg', 'ppisalwg'])\n",
    "# all_columns = \"\" + \" + \".join(['pct_prs_blw_pov_lev_acs_08_12','pct_not_mrdcple_hhd_acs_08_12', 'pct_not_mrdcple_hhd_cen_2010', 'ppsalwg', 'ppisalwg'])\n",
    "# all_columns = \"\" + \" + \".join(['pct_prs_blw_pov_lev_acs_08_12','pct_not_mrdcple_hhd_acs_08_12','ecd_rate_1112'])\n",
    "# all_columns = \"\" + \" + \".join(['pct_prs_blw_pov_lev_acs_08_12','pct_not_mrdcple_hhd_acs_08_12'])\n",
    "# all_columns = \"\" + \" + \".join(['ppsalwg', 'ppisalwg'])\n",
    "formula = \"grad_pct_from_mean ~ \" + all_columns + \" - 1\"\n",
    "print formula\n",
    "\n",
    "y, X = patsy.dmatrices(formula, data=df, return_type='dataframe')\n",
    "print X.shape\n",
    "print y.shape"
   ]
  },
  {
   "cell_type": "code",
   "execution_count": 1021,
   "metadata": {
    "collapsed": false
   },
   "outputs": [],
   "source": [
    "from sklearn import linear_model\n",
    "from sklearn.cross_validation import train_test_split\n",
    "\n",
    "y = np.ravel(y)\n",
    "#X_train, X_test, y_train, y_test = train_test_split(X, y, train_size=0.8)\n",
    "\n",
    "#print X_train.shape, y_train.shape\n",
    "#print X_test.shape, y_test.shape"
   ]
  },
  {
   "cell_type": "code",
   "execution_count": null,
   "metadata": {
    "collapsed": false
   },
   "outputs": [
    {
     "name": "stderr",
     "output_type": "stream",
     "text": [
      "..............................................................................................................................................................................................................................................................................................................................................................................................................................................................................................................................................................................................................................................................................................................................................................................................................................................................................................................................................................................................................................................................................................................................................................................................................................................................................................................................................................................................................................................................................................................................................................................................................................................................................................................................................................................................................................................................................................................................................................................................................................................................................................................................................................................................................................................................................................................................................................................................................................................................................................................................................................................................................................................................................................................................................................................................................................................................................................................................................................................................................................................................................................................................................................................................................................................................................................................................................................................................................................................................................................................................................................................................................................................................................................................................................................................................................................................................................................................................................................................................................................................................................................................................................................................................................................................................................................................................................................................................................................................................................................................................................................................................................................................................................................................................................................................................................................................................................................................................................................................................................................................................................................................................................................................................................................................................................................................................................................................................................................................................................................................................................................................................................................................................................................................................................................................................................................................................................................................................................................................................................................................................................................................................................................................................................................................................................................................................................................................................................................................................................................................................................................................................................................................................................................................................................................................................................................................................................................................................................................................................................................................................................................................................................................................................................................................................................................................................................................................................................................................................................................................................................................................................................................................................................................................................................................................................................................................................................................................................................................................................................................................................................................................................................................................................................................................................................................................................................................................................................................................................................................................................................................................................................................................................................................................................................................................................................................................................................................................................................................................................................................................................................................................................................................................................................................................................................................................................................................................................................................................................................................................................................................................................................................................................................................................................................................................................................................................................................................................................................................................................................................................................................................................................................................................................................................................................................................................................................................................................................................................................................................................................................................................................................................................................................................................................................................................................................................................................................................................................................................................................................................................................................................................................................................................................................................................................................................................................................................................................................................................................................................................................................................................................................................................................................................................................................................................................................................................................................................................................................................................................................................................................................................................................................................................................................................................................................................................................................................................................................................................................................................................................................................................................................................................................................................................................................................................................................................................................................................................................................................................................................................................................................................................................................................................................................................................................................................................................................................................................................................................................................................................."
     ]
    }
   ],
   "source": [
    "from sklearn.linear_model import ElasticNet, ElasticNetCV\n",
    "\n",
    "optimal_elastic = ElasticNetCV(l1_ratio=[.1, .5, .7, .9, .95, .99, 1], n_alphas=500, cv=5, verbose=1, n_jobs=1)\n",
    "model = optimal_elastic.fit(X_train, y_train)\n",
    "# model = ElasticNet(alpha=optimal_elastic.alpha_, l1_ratio=optimal_elastic.l1_ratio_).fit(X_train, y_train)\n",
    "\n",
    "print \"Optimal alpha:\", optimal_elastic.alpha_\n",
    "print \"Optimal L1 ratio:\", optimal_elastic.l1_ratio_"
   ]
  },
  {
   "cell_type": "code",
   "execution_count": null,
   "metadata": {
    "collapsed": false
   },
   "outputs": [],
   "source": [
    "plt.style.use('seaborn-whitegrid')\n",
    "plt.figure(figsize=[8,8])\n",
    "\n",
    "plt.xlabel('Predictions', fontsize=14)\n",
    "plt.ylabel('True Values', fontsize=14)\n",
    "plt.title(\"Predicted Graduation Rates\", fontsize=18)\n",
    "\n",
    "predictions = model.predict(X)\n",
    "score = model.score(X, y)\n",
    "\n",
    "plt.scatter(predictions, y)\n",
    "print 'Model Score:', score"
   ]
  },
  {
   "cell_type": "code",
   "execution_count": null,
   "metadata": {
    "collapsed": false
   },
   "outputs": [],
   "source": [
    "coeffs = pd.DataFrame(zip(model.coef_, X.columns)).sort_values(0)\n",
    "coeffs.head(50)"
   ]
  },
  {
   "cell_type": "code",
   "execution_count": null,
   "metadata": {
    "collapsed": false
   },
   "outputs": [],
   "source": [
    "coeffs.tail(50)"
   ]
  }
 ],
 "metadata": {
  "anaconda-cloud": {},
  "kernelspec": {
   "display_name": "Python [dsi]",
   "language": "python",
   "name": "Python [dsi]"
  },
  "language_info": {
   "codemirror_mode": {
    "name": "ipython",
    "version": 2
   },
   "file_extension": ".py",
   "mimetype": "text/x-python",
   "name": "python",
   "nbconvert_exporter": "python",
   "pygments_lexer": "ipython2",
   "version": "2.7.12"
  }
 },
 "nbformat": 4,
 "nbformat_minor": 0
}
