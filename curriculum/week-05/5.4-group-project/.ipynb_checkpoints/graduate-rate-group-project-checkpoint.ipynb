{
 "cells": [
  {
   "cell_type": "markdown",
   "metadata": {},
   "source": [
    "# Predicting graduation rates group project\n",
    "\n",
    "In this group project, you'll be predicting graduation rates (or, more specifically, the percent difference from the mean graduation rate) for high school students in different areas of the country.\n",
    "\n",
    "As you may already know, [your illustrious instructor Dave Yerrington won a competition on this dataset.](http://devpost.com/software/sriozidave_datafordiploma)\n",
    "\n",
    "---\n",
    "\n",
    "### Dataset\n",
    "\n",
    "The files for this project can be found in the `/DSI-SF-2/datasets/data_for_diplomas/` folder. The contents are:\n",
    "\n",
    "    grad_train: the training data you will be building models on\n",
    "    graduation_with_census_schema.pdf: the \"codebook\" for the grad_train.csv columns\n",
    "    school_county_spending.csv: data on the spending of different schools\n",
    "    school_county_spending_info.pdf: information about the spending data csv\n",
    "    climate_data/: a folder that has climate data for every state for 2011 and 2012. There are csvs for precipitation and average temperature\n",
    "    \n",
    "This isn't all the data Dave used, but it's a decent amount of it. You're not expected to use _all_ of this data. After all, you don't have that long to build these models, but it's there if you want to.\n",
    "\n",
    "**Target variable:**\n",
    "\n",
    "In the spreadsheet there is a variable called `grad_pct_from_mean`. This is the difference in percent graduated for that school from the mean graduation rate across the country. In other words, it is:\n",
    "\n",
    "    (schools graduation rate / (mean of all schools graduation rate) - 1.) * 100.\n",
    "    \n",
    "I changed this from the original rate column because, as you know, regression is not appropriate for prediction of rates since they are guaranteed to fall between 0 and 1.\n",
    "\n",
    "**Do not include variables in the model that contain the same information as the target variable!** \n",
    "\n",
    "---\n",
    "\n",
    "### Structure of the project\n",
    "\n",
    "You will, in groups, try to build a model that predicts this `grad_pct_from_mean` variable using the information you have. \n",
    "\n",
    "**This project is also an excercise in using your time wisely.** You don't have that much time, so keep the scope of your process simple rather than complex. This will likely mean _not_ considering every variable available to you.\n",
    "\n",
    "**I have left out 25% of the data as a testing set. At the end, groups will come up and get to test their model on the testing set.**\n",
    "\n",
    "Since you will likely be cleaning the data, you will need to be able to run the testing code through the same cleaning and munging process as the training data. I recommend writing some functions that make this process faster/easier!\n",
    "\n",
    "Good luck!"
   ]
  },
  {
   "cell_type": "code",
   "execution_count": 1,
   "metadata": {
    "collapsed": true
   },
   "outputs": [],
   "source": [
    "import pandas as pd\n",
    "import numpy as np\n",
    "import matplotlib.pyplot as plt\n",
    "\n",
    "%matplotlib inline\n",
    "%config InlineBackend.figure_format = 'retina'"
   ]
  },
  {
   "cell_type": "code",
   "execution_count": null,
   "metadata": {
    "collapsed": true
   },
   "outputs": [],
   "source": []
  }
 ],
 "metadata": {
  "anaconda-cloud": {},
  "kernelspec": {
   "display_name": "Python [dsi]",
   "language": "python",
   "name": "Python [dsi]"
  },
  "language_info": {
   "codemirror_mode": {
    "name": "ipython",
    "version": 2
   },
   "file_extension": ".py",
   "mimetype": "text/x-python",
   "name": "python",
   "nbconvert_exporter": "python",
   "pygments_lexer": "ipython2",
   "version": "2.7.12"
  }
 },
 "nbformat": 4,
 "nbformat_minor": 0
}
