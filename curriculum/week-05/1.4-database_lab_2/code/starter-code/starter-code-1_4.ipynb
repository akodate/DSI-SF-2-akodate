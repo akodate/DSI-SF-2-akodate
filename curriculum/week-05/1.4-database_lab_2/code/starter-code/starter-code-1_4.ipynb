{
 "cells": [
  {
   "cell_type": "markdown",
   "metadata": {},
   "source": [
    "# Demographic income\n",
    "\n",
    "The dataset contains a set of demographic attributes for people in the US.\n",
    "\n",
    "[Adult UCI Dataset](http://archive.ics.uci.edu/ml/datasets/Adult)\n",
    "\n",
    "You have to build a model to predict whether their salary is higher or lower than 50K."
   ]
  },
  {
   "cell_type": "markdown",
   "metadata": {},
   "source": [
    "# Data exploration\n",
    "\n",
    "The data is contained in the database file: `../../assets/datasets/adult.sqlite`\n",
    "\n",
    "Load the data into a Pandas Dataframe"
   ]
  },
  {
   "cell_type": "code",
   "execution_count": null,
   "metadata": {
    "collapsed": false
   },
   "outputs": [],
   "source": []
  },
  {
   "cell_type": "markdown",
   "metadata": {},
   "source": [
    "***\n",
    "\n",
    "## 1. Missing values\n",
    "\n",
    "Are there any missing values?\n",
    "How will you deal with them?\n",
    "\n",
    "Discuss this with your classmate and decide on a strategy for imputation"
   ]
  },
  {
   "cell_type": "code",
   "execution_count": null,
   "metadata": {
    "collapsed": false
   },
   "outputs": [],
   "source": []
  },
  {
   "cell_type": "markdown",
   "metadata": {},
   "source": [
    "## 2. Target\n",
    "\n",
    "Salary is separated in 2 classes '<=50K' and '>50K'.\n",
    "\n",
    "Create a new boolean variable called target that is True for salary >50K and False otherwise"
   ]
  },
  {
   "cell_type": "code",
   "execution_count": null,
   "metadata": {
    "collapsed": true
   },
   "outputs": [],
   "source": []
  },
  {
   "cell_type": "markdown",
   "metadata": {},
   "source": [
    "## 3. Features\n",
    "***\n",
    "The dataset contains many features.\n",
    "\n",
    "- Are they numerical?\n",
    "- Are they categorical?\n",
    "\n",
    "Check them out."
   ]
  },
  {
   "cell_type": "code",
   "execution_count": null,
   "metadata": {
    "collapsed": true
   },
   "outputs": [],
   "source": []
  },
  {
   "cell_type": "markdown",
   "metadata": {},
   "source": [
    "### 3.a Age distribution\n",
    "\n",
    "What is the distribution of age? How does age correlate with the outcome variable?\n",
    "\n",
    "- Plot a histogram of the age column\n",
    "- Separate by target variable and plot the age distribution for the 2 classes"
   ]
  },
  {
   "cell_type": "code",
   "execution_count": null,
   "metadata": {
    "collapsed": false
   },
   "outputs": [],
   "source": []
  },
  {
   "cell_type": "markdown",
   "metadata": {},
   "source": [
    "What is clearly visiable between income classes?"
   ]
  },
  {
   "cell_type": "markdown",
   "metadata": {},
   "source": [
    "### 3.b Categorical Features Distributions\n",
    "\n",
    "Investigate the relation of each categorical feature with the salary class:\n",
    "\n",
    "- workclass\n",
    "- education\n",
    "- marital-status\n",
    "- occupation\n",
    "- relationship\n",
    "- race\n",
    "- sex\n",
    "\n",
    "Use a bar-chart to visualize the relative frequency of each of the  elements in the group.\n",
    "Use two colors to distinguish between the low and high salary class.\n",
    "\n",
    "For which features is there significant difference in ratios?"
   ]
  },
  {
   "cell_type": "code",
   "execution_count": null,
   "metadata": {
    "collapsed": false
   },
   "outputs": [],
   "source": []
  },
  {
   "cell_type": "markdown",
   "metadata": {},
   "source": [
    "### 3.c Other numerical features distribution\n",
    "\n",
    "Like you did for age, investigate the distribution of other numerical features for the 2 classes."
   ]
  },
  {
   "cell_type": "code",
   "execution_count": null,
   "metadata": {
    "collapsed": false
   },
   "outputs": [],
   "source": []
  },
  {
   "cell_type": "markdown",
   "metadata": {},
   "source": [
    "## 4. Dummy Columns\n",
    "\n",
    "Scikit-Learn models require features with numerical values. In order to use all the categorical features in our model, we need to encode them into integers. The way of doing this called 1-Hot Encoding, or dummy column creation.\n",
    "Both Pandas and Scikit Learn offer an interface to do this.\n",
    "\n",
    "Example:\n",
    "\n",
    "|Categorical Feature|Dummy_A|Dummy_B|Dummy_C|\n",
    "|---|---|---|---|\n",
    "|A|1|0|0|\n",
    "|B|0|1|0|\n",
    "|B|0|1|0|\n",
    "|C|0|0|1|\n",
    "|A|1|0|0|\n",
    "|C|0|0|1|\n",
    "|B|0|1|0|\n",
    "\n",
    "- [One Hot Encoder](http://scikit-learn.org/stable/modules/generated/sklearn.preprocessing.OneHotEncoder.html)\n",
    "- [Get Dummies](http://pandas.pydata.org/pandas-docs/stable/generated/pandas.get_dummies.html)\n",
    "\n",
    "> Mainly, we've been using Patsy for this, but you should be aware of these alternatives you can use as well.  Feel free to use Patsy here / setup your design matrix.\n"
   ]
  },
  {
   "cell_type": "code",
   "execution_count": null,
   "metadata": {
    "collapsed": true
   },
   "outputs": [],
   "source": []
  },
  {
   "cell_type": "markdown",
   "metadata": {},
   "source": [
    "## 5. Numerical Features normalization\n",
    "\n",
    "Numerical Features may have different scales. This can be a problem in some cases, so we can try to normalize or standardize using a scaler.\n",
    "\n",
    "Use a scaler from Scikit-learn Preprocessing to rescale the numerical features.\n",
    "\n",
    "[Scikit-Learn Preprocessing](http://scikit-learn.org/stable/modules/preprocessing.html)\n",
    "\n",
    "Now is a good time to review / discuss the pros/cons of each scaler with a classmate."
   ]
  },
  {
   "cell_type": "code",
   "execution_count": null,
   "metadata": {
    "collapsed": false
   },
   "outputs": [],
   "source": []
  },
  {
   "cell_type": "markdown",
   "metadata": {
    "collapsed": false
   },
   "source": [
    "## 7. Build and evaluate model\n",
    "\n",
    "Build a model using KNN or Logistic regression.\n",
    "\n",
    "Split your data into train and test subset using the following line:\n",
    "\n",
    "    from sklearn.cross_validation import train_test_split\n",
    "    X_train, X_test, y_train, y_test = train_test_split(X, y, test_size=0.33, random_state=42)\n",
    "    \n",
    "1. Evaluate the `accuracy_score` of your model.\n",
    "- Display the confusion matrix and the classification report\n",
    "- Try to improve the model by tuning the parameters by hand. For example:\n",
    "    - KNN: Change the number of Neighbors\n",
    "    - LogisticRegression: Change the strength of the regularization\n",
    "    \n",
    "Discuss and compare your best model with those around you.\n"
   ]
  },
  {
   "cell_type": "code",
   "execution_count": null,
   "metadata": {
    "collapsed": true
   },
   "outputs": [],
   "source": []
  },
  {
   "cell_type": "markdown",
   "metadata": {},
   "source": [
    "## 8. Gridsearch\n",
    "\n",
    "Can you optimize any parameters using gridsearch?  Plot the effect of the score given any parameters.\n",
    "\n",
    "Try to understand:\n",
    "- The effect of any paramaters\n",
    "- The the usable range\n",
    "- Which parameters are most effect\n",
    "- WHY you would tune or not tune any of the parameters\n",
    "- The effect of classification metrics (TP, FP, FN, TN, ROC/AUC, etc)\n"
   ]
  },
  {
   "cell_type": "code",
   "execution_count": null,
   "metadata": {
    "collapsed": true
   },
   "outputs": [],
   "source": []
  }
 ],
 "metadata": {
  "kernelspec": {
   "display_name": "Python [dsi]",
   "language": "python",
   "name": "Python [dsi]"
  },
  "language_info": {
   "codemirror_mode": {
    "name": "ipython",
    "version": 2
   },
   "file_extension": ".py",
   "mimetype": "text/x-python",
   "name": "python",
   "nbconvert_exporter": "python",
   "pygments_lexer": "ipython2",
   "version": "2.7.12"
  }
 },
 "nbformat": 4,
 "nbformat_minor": 0
}
