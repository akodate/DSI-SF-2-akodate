{
 "cells": [
  {
   "cell_type": "code",
   "execution_count": 2,
   "metadata": {
    "collapsed": false
   },
   "outputs": [],
   "source": [
    "import pandas as pd\n",
    "import numpy as np\n",
    "from dplython import (DplyFrame, X, select, sift, sample_n,\n",
    "                      sample_frac, head, arrange, mutate, group_by, summarize, DelayFunction)"
   ]
  },
  {
   "cell_type": "code",
   "execution_count": 3,
   "metadata": {
    "collapsed": true
   },
   "outputs": [],
   "source": [
    "combine = '/Users/kiefer/github-repos/DSI-SF-2/datasets/football_combine/combine.csv'"
   ]
  },
  {
   "cell_type": "code",
   "execution_count": 5,
   "metadata": {
    "collapsed": false
   },
   "outputs": [
    {
     "data": {
      "text/html": [
       "<div>\n",
       "<table border=\"1\" class=\"dataframe\">\n",
       "  <thead>\n",
       "    <tr style=\"text-align: right;\">\n",
       "      <th></th>\n",
       "      <th>id</th>\n",
       "      <th>Year</th>\n",
       "      <th>Name</th>\n",
       "      <th>Position</th>\n",
       "      <th>HeightFeet</th>\n",
       "      <th>HeightInches</th>\n",
       "      <th>Weight</th>\n",
       "      <th>Arms</th>\n",
       "      <th>Hands</th>\n",
       "      <th>FortyYD</th>\n",
       "      <th>...</th>\n",
       "      <th>Bench</th>\n",
       "      <th>Round</th>\n",
       "      <th>College</th>\n",
       "      <th>Pick</th>\n",
       "      <th>PickRound</th>\n",
       "      <th>PickTotal</th>\n",
       "      <th>FirstName</th>\n",
       "      <th>LastName</th>\n",
       "      <th>HeightInchesTotal</th>\n",
       "      <th>Wonderlic</th>\n",
       "    </tr>\n",
       "  </thead>\n",
       "  <tbody>\n",
       "    <tr>\n",
       "      <th>0</th>\n",
       "      <td>8984</td>\n",
       "      <td>2013</td>\n",
       "      <td>Quanterus Smith</td>\n",
       "      <td>DE</td>\n",
       "      <td>6</td>\n",
       "      <td>5.0</td>\n",
       "      <td>250</td>\n",
       "      <td>33.25</td>\n",
       "      <td>10.375</td>\n",
       "      <td>0.0</td>\n",
       "      <td>...</td>\n",
       "      <td>0</td>\n",
       "      <td>5</td>\n",
       "      <td>Western Kentucky</td>\n",
       "      <td>13(146)</td>\n",
       "      <td>13</td>\n",
       "      <td>146</td>\n",
       "      <td>Quanterus</td>\n",
       "      <td>Smith</td>\n",
       "      <td>77.0</td>\n",
       "      <td>0</td>\n",
       "    </tr>\n",
       "    <tr>\n",
       "      <th>1</th>\n",
       "      <td>9002</td>\n",
       "      <td>2013</td>\n",
       "      <td>Abry Jones</td>\n",
       "      <td>DT</td>\n",
       "      <td>6</td>\n",
       "      <td>3.0</td>\n",
       "      <td>313</td>\n",
       "      <td>35.00</td>\n",
       "      <td>9.750</td>\n",
       "      <td>0.0</td>\n",
       "      <td>...</td>\n",
       "      <td>30</td>\n",
       "      <td>0</td>\n",
       "      <td>NaN</td>\n",
       "      <td>NaN</td>\n",
       "      <td>0</td>\n",
       "      <td>0</td>\n",
       "      <td>Abry</td>\n",
       "      <td>Jones</td>\n",
       "      <td>75.0</td>\n",
       "      <td>0</td>\n",
       "    </tr>\n",
       "  </tbody>\n",
       "</table>\n",
       "<p>2 rows × 26 columns</p>\n",
       "</div>"
      ],
      "text/plain": [
       "     id  Year             Name Position  HeightFeet  HeightInches  Weight  \\\n",
       "0  8984  2013  Quanterus Smith       DE           6           5.0     250   \n",
       "1  9002  2013       Abry Jones       DT           6           3.0     313   \n",
       "\n",
       "    Arms   Hands  FortyYD    ...     Bench  Round           College     Pick  \\\n",
       "0  33.25  10.375      0.0    ...         0      5  Western Kentucky  13(146)   \n",
       "1  35.00   9.750      0.0    ...        30      0               NaN      NaN   \n",
       "\n",
       "   PickRound  PickTotal  FirstName  LastName HeightInchesTotal Wonderlic  \n",
       "0         13        146  Quanterus     Smith              77.0         0  \n",
       "1          0          0       Abry     Jones              75.0         0  \n",
       "\n",
       "[2 rows x 26 columns]"
      ]
     },
     "execution_count": 5,
     "metadata": {},
     "output_type": "execute_result"
    }
   ],
   "source": [
    "combine = DplyFrame(pd.read_csv(combine))\n",
    "combine.head(2)"
   ]
  },
  {
   "cell_type": "code",
   "execution_count": 6,
   "metadata": {
    "collapsed": false
   },
   "outputs": [
    {
     "name": "stdout",
     "output_type": "stream",
     "text": [
      "  Position\n",
      "0       DE\n",
      "1       DT\n",
      "2       DT\n",
      "3       FS\n",
      "4       FS\n"
     ]
    }
   ],
   "source": [
    "# position = combine['Position']\n",
    "\n",
    "position = (combine >> select(X.Position))\n",
    "print position[0:5]"
   ]
  },
  {
   "cell_type": "code",
   "execution_count": 7,
   "metadata": {
    "collapsed": false
   },
   "outputs": [
    {
     "data": {
      "text/html": [
       "<div>\n",
       "<table border=\"1\" class=\"dataframe\">\n",
       "  <thead>\n",
       "    <tr style=\"text-align: right;\">\n",
       "      <th></th>\n",
       "      <th>Name</th>\n",
       "      <th>Weight</th>\n",
       "    </tr>\n",
       "  </thead>\n",
       "  <tbody>\n",
       "    <tr>\n",
       "      <th>15</th>\n",
       "      <td>Brandon Boykin</td>\n",
       "      <td>182</td>\n",
       "    </tr>\n",
       "    <tr>\n",
       "      <th>49</th>\n",
       "      <td>Foswhitt Whittaker</td>\n",
       "      <td>193</td>\n",
       "    </tr>\n",
       "    <tr>\n",
       "      <th>55</th>\n",
       "      <td>Ryan Broyles</td>\n",
       "      <td>192</td>\n",
       "    </tr>\n",
       "    <tr>\n",
       "      <th>56</th>\n",
       "      <td>Chase Minnifield</td>\n",
       "      <td>183</td>\n",
       "    </tr>\n",
       "    <tr>\n",
       "      <th>58</th>\n",
       "      <td>Shaun Prater</td>\n",
       "      <td>190</td>\n",
       "    </tr>\n",
       "  </tbody>\n",
       "</table>\n",
       "</div>"
      ],
      "text/plain": [
       "                  Name  Weight\n",
       "15      Brandon Boykin     182\n",
       "49  Foswhitt Whittaker     193\n",
       "55        Ryan Broyles     192\n",
       "56    Chase Minnifield     183\n",
       "58        Shaun Prater     190"
      ]
     },
     "execution_count": 7,
     "metadata": {},
     "output_type": "execute_result"
    }
   ],
   "source": [
    "# Pandas:\n",
    "players = combine[['Name','Weight']]\n",
    "players = players[players.Weight < 200]\n",
    "players.head()"
   ]
  },
  {
   "cell_type": "code",
   "execution_count": 8,
   "metadata": {
    "collapsed": false
   },
   "outputs": [
    {
     "data": {
      "text/html": [
       "<div>\n",
       "<table border=\"1\" class=\"dataframe\">\n",
       "  <thead>\n",
       "    <tr style=\"text-align: right;\">\n",
       "      <th></th>\n",
       "      <th>Name</th>\n",
       "      <th>Weight</th>\n",
       "    </tr>\n",
       "  </thead>\n",
       "  <tbody>\n",
       "    <tr>\n",
       "      <th>15</th>\n",
       "      <td>Brandon Boykin</td>\n",
       "      <td>182</td>\n",
       "    </tr>\n",
       "    <tr>\n",
       "      <th>49</th>\n",
       "      <td>Foswhitt Whittaker</td>\n",
       "      <td>193</td>\n",
       "    </tr>\n",
       "    <tr>\n",
       "      <th>55</th>\n",
       "      <td>Ryan Broyles</td>\n",
       "      <td>192</td>\n",
       "    </tr>\n",
       "    <tr>\n",
       "      <th>56</th>\n",
       "      <td>Chase Minnifield</td>\n",
       "      <td>183</td>\n",
       "    </tr>\n",
       "    <tr>\n",
       "      <th>58</th>\n",
       "      <td>Shaun Prater</td>\n",
       "      <td>190</td>\n",
       "    </tr>\n",
       "  </tbody>\n",
       "</table>\n",
       "</div>"
      ],
      "text/plain": [
       "                  Name  Weight\n",
       "15      Brandon Boykin     182\n",
       "49  Foswhitt Whittaker     193\n",
       "55        Ryan Broyles     192\n",
       "56    Chase Minnifield     183\n",
       "58        Shaun Prater     190"
      ]
     },
     "execution_count": 8,
     "metadata": {},
     "output_type": "execute_result"
    }
   ],
   "source": [
    "dply_players = (combine >> \n",
    "                sift(X.Weight < 200) >>\n",
    "                select(X.Name, X.Weight))\n",
    "dply_players.head()"
   ]
  },
  {
   "cell_type": "code",
   "execution_count": 9,
   "metadata": {
    "collapsed": false
   },
   "outputs": [
    {
     "data": {
      "text/html": [
       "<div>\n",
       "<table border=\"1\" class=\"dataframe\">\n",
       "  <thead>\n",
       "    <tr style=\"text-align: right;\">\n",
       "      <th></th>\n",
       "      <th>Name</th>\n",
       "      <th>Weight</th>\n",
       "    </tr>\n",
       "  </thead>\n",
       "  <tbody>\n",
       "    <tr>\n",
       "      <th>4350</th>\n",
       "      <td>Brandon Williams</td>\n",
       "      <td>335</td>\n",
       "    </tr>\n",
       "    <tr>\n",
       "      <th>1082</th>\n",
       "      <td>Adrian Moten</td>\n",
       "      <td>228</td>\n",
       "    </tr>\n",
       "  </tbody>\n",
       "</table>\n",
       "</div>"
      ],
      "text/plain": [
       "                  Name  Weight\n",
       "4350  Brandon Williams     335\n",
       "1082      Adrian Moten     228"
      ]
     },
     "execution_count": 9,
     "metadata": {},
     "output_type": "execute_result"
    }
   ],
   "source": [
    "# Take a random sample of 5% and take out the Name and Weight\n",
    "sample = combine[[\"Name\",\"Weight\"]]\n",
    "sample = sample.sample(frac=.05)\n",
    "sample.head(2)"
   ]
  },
  {
   "cell_type": "code",
   "execution_count": 12,
   "metadata": {
    "collapsed": false
   },
   "outputs": [
    {
     "data": {
      "text/html": [
       "<div>\n",
       "<table border=\"1\" class=\"dataframe\">\n",
       "  <thead>\n",
       "    <tr style=\"text-align: right;\">\n",
       "      <th></th>\n",
       "      <th>id</th>\n",
       "      <th>Year</th>\n",
       "      <th>Name</th>\n",
       "      <th>Position</th>\n",
       "      <th>HeightFeet</th>\n",
       "      <th>HeightInches</th>\n",
       "      <th>Weight</th>\n",
       "      <th>Arms</th>\n",
       "      <th>Hands</th>\n",
       "      <th>FortyYD</th>\n",
       "      <th>...</th>\n",
       "      <th>Bench</th>\n",
       "      <th>Round</th>\n",
       "      <th>College</th>\n",
       "      <th>Pick</th>\n",
       "      <th>PickRound</th>\n",
       "      <th>PickTotal</th>\n",
       "      <th>FirstName</th>\n",
       "      <th>LastName</th>\n",
       "      <th>HeightInchesTotal</th>\n",
       "      <th>Wonderlic</th>\n",
       "    </tr>\n",
       "  </thead>\n",
       "  <tbody>\n",
       "    <tr>\n",
       "      <th>3302</th>\n",
       "      <td>9799</td>\n",
       "      <td>2011</td>\n",
       "      <td>Lee Smith</td>\n",
       "      <td>TE</td>\n",
       "      <td>6</td>\n",
       "      <td>6.0</td>\n",
       "      <td>266</td>\n",
       "      <td>34.375</td>\n",
       "      <td>9.75</td>\n",
       "      <td>4.94</td>\n",
       "      <td>...</td>\n",
       "      <td>25</td>\n",
       "      <td>5</td>\n",
       "      <td>Marshall</td>\n",
       "      <td>28(159)</td>\n",
       "      <td>28</td>\n",
       "      <td>159</td>\n",
       "      <td>Lee</td>\n",
       "      <td>Smith</td>\n",
       "      <td>78.0</td>\n",
       "      <td>0</td>\n",
       "    </tr>\n",
       "    <tr>\n",
       "      <th>177</th>\n",
       "      <td>12584</td>\n",
       "      <td>2001</td>\n",
       "      <td>Chris Chambers</td>\n",
       "      <td>WR</td>\n",
       "      <td>6</td>\n",
       "      <td>1.0</td>\n",
       "      <td>210</td>\n",
       "      <td>0.000</td>\n",
       "      <td>0.00</td>\n",
       "      <td>4.33</td>\n",
       "      <td>...</td>\n",
       "      <td>0</td>\n",
       "      <td>2</td>\n",
       "      <td>Wisconsin</td>\n",
       "      <td>21(52)</td>\n",
       "      <td>21</td>\n",
       "      <td>52</td>\n",
       "      <td>Chris</td>\n",
       "      <td>Chambers</td>\n",
       "      <td>73.0</td>\n",
       "      <td>0</td>\n",
       "    </tr>\n",
       "  </tbody>\n",
       "</table>\n",
       "<p>2 rows × 26 columns</p>\n",
       "</div>"
      ],
      "text/plain": [
       "         id  Year            Name Position  HeightFeet  HeightInches  Weight  \\\n",
       "3302   9799  2011       Lee Smith       TE           6           6.0     266   \n",
       "177   12584  2001  Chris Chambers       WR           6           1.0     210   \n",
       "\n",
       "        Arms  Hands  FortyYD    ...     Bench  Round    College     Pick  \\\n",
       "3302  34.375   9.75     4.94    ...        25      5   Marshall  28(159)   \n",
       "177    0.000   0.00     4.33    ...         0      2  Wisconsin   21(52)   \n",
       "\n",
       "      PickRound  PickTotal  FirstName  LastName HeightInchesTotal Wonderlic  \n",
       "3302         28        159        Lee     Smith              78.0         0  \n",
       "177          21         52      Chris  Chambers              73.0         0  \n",
       "\n",
       "[2 rows x 26 columns]"
      ]
     },
     "execution_count": 12,
     "metadata": {},
     "output_type": "execute_result"
    }
   ],
   "source": [
    "dply_sample = (combine >>\n",
    "               sample_frac(0.05))\n",
    "dply_sample.head(2)"
   ]
  },
  {
   "cell_type": "code",
   "execution_count": 16,
   "metadata": {
    "collapsed": false
   },
   "outputs": [
    {
     "data": {
      "text/html": [
       "<div>\n",
       "<table border=\"1\" class=\"dataframe\">\n",
       "  <thead>\n",
       "    <tr style=\"text-align: right;\">\n",
       "      <th></th>\n",
       "      <th>Position</th>\n",
       "      <th>Year</th>\n",
       "      <th>0</th>\n",
       "    </tr>\n",
       "  </thead>\n",
       "  <tbody>\n",
       "    <tr>\n",
       "      <th>0</th>\n",
       "      <td>C</td>\n",
       "      <td>2014</td>\n",
       "      <td>307.166667</td>\n",
       "    </tr>\n",
       "    <tr>\n",
       "      <th>1</th>\n",
       "      <td>CB</td>\n",
       "      <td>1999</td>\n",
       "      <td>184.807692</td>\n",
       "    </tr>\n",
       "    <tr>\n",
       "      <th>2</th>\n",
       "      <td>CB</td>\n",
       "      <td>2000</td>\n",
       "      <td>191.750000</td>\n",
       "    </tr>\n",
       "  </tbody>\n",
       "</table>\n",
       "</div>"
      ],
      "text/plain": [
       "  Position  Year           0\n",
       "0        C  2014  307.166667\n",
       "1       CB  1999  184.807692\n",
       "2       CB  2000  191.750000"
      ]
     },
     "execution_count": 16,
     "metadata": {},
     "output_type": "execute_result"
    }
   ],
   "source": [
    "# Group by Position and Year, add together weight and arms, \n",
    "# and return the mean of that column\n",
    "def weight_plus_arms_mean(df):\n",
    "    summed = df['Weight'] + df['Arms']\n",
    "    df['weight_arms_mean'] = np.mean(summed)\n",
    "    return df.loc[:, 'weight_arms_mean'].iloc[0]\n",
    "\n",
    "combine.groupby(['Position','Year']).apply(weight_plus_arms_mean).reset_index().head(3)"
   ]
  },
  {
   "cell_type": "code",
   "execution_count": 20,
   "metadata": {
    "collapsed": false
   },
   "outputs": [
    {
     "data": {
      "text/html": [
       "<div>\n",
       "<table border=\"1\" class=\"dataframe\">\n",
       "  <thead>\n",
       "    <tr style=\"text-align: right;\">\n",
       "      <th></th>\n",
       "      <th>Position</th>\n",
       "      <th>Year</th>\n",
       "      <th>weight_arms_mean</th>\n",
       "      <th>year_mean</th>\n",
       "    </tr>\n",
       "  </thead>\n",
       "  <tbody>\n",
       "    <tr>\n",
       "      <th>0</th>\n",
       "      <td>C</td>\n",
       "      <td>2014</td>\n",
       "      <td>307.166667</td>\n",
       "      <td>2014</td>\n",
       "    </tr>\n",
       "    <tr>\n",
       "      <th>1</th>\n",
       "      <td>CB</td>\n",
       "      <td>1999</td>\n",
       "      <td>184.807692</td>\n",
       "      <td>1999</td>\n",
       "    </tr>\n",
       "    <tr>\n",
       "      <th>2</th>\n",
       "      <td>CB</td>\n",
       "      <td>2000</td>\n",
       "      <td>191.750000</td>\n",
       "      <td>2000</td>\n",
       "    </tr>\n",
       "  </tbody>\n",
       "</table>\n",
       "</div>"
      ],
      "text/plain": [
       "  Position  Year  weight_arms_mean  year_mean\n",
       "0        C  2014        307.166667       2014\n",
       "1       CB  1999        184.807692       1999\n",
       "2       CB  2000        191.750000       2000"
      ]
     },
     "execution_count": 20,
     "metadata": {},
     "output_type": "execute_result"
    }
   ],
   "source": [
    "# dplyr version:\n",
    "wa_mean = (combine >> \n",
    "           group_by(X.Position, X.Year) >>\n",
    "           mutate(weight_arms_sum=X.Weight + X.Arms) >>\n",
    "           summarize(weight_arms_mean=X.weight_arms_sum.mean(),\n",
    "                     year_mean=X.Year.mean()))\n",
    "wa_mean.head(3)"
   ]
  },
  {
   "cell_type": "code",
   "execution_count": 19,
   "metadata": {
    "collapsed": false
   },
   "outputs": [
    {
     "data": {
      "text/html": [
       "<div>\n",
       "<table border=\"1\" class=\"dataframe\">\n",
       "  <thead>\n",
       "    <tr style=\"text-align: right;\">\n",
       "      <th></th>\n",
       "      <th>Name</th>\n",
       "      <th>Weight</th>\n",
       "      <th>Year</th>\n",
       "      <th>Hands</th>\n",
       "      <th>mean_of_ywh</th>\n",
       "    </tr>\n",
       "  </thead>\n",
       "  <tbody>\n",
       "    <tr>\n",
       "      <th>0</th>\n",
       "      <td>Quanterus Smith</td>\n",
       "      <td>250</td>\n",
       "      <td>2013</td>\n",
       "      <td>10.375</td>\n",
       "      <td>757.791667</td>\n",
       "    </tr>\n",
       "    <tr>\n",
       "      <th>1</th>\n",
       "      <td>Abry Jones</td>\n",
       "      <td>313</td>\n",
       "      <td>2013</td>\n",
       "      <td>9.750</td>\n",
       "      <td>778.583333</td>\n",
       "    </tr>\n",
       "    <tr>\n",
       "      <th>2</th>\n",
       "      <td>Bennie Logan</td>\n",
       "      <td>309</td>\n",
       "      <td>2013</td>\n",
       "      <td>10.250</td>\n",
       "      <td>777.416667</td>\n",
       "    </tr>\n",
       "    <tr>\n",
       "      <th>3</th>\n",
       "      <td>John Boyett</td>\n",
       "      <td>204</td>\n",
       "      <td>2013</td>\n",
       "      <td>8.500</td>\n",
       "      <td>741.833333</td>\n",
       "    </tr>\n",
       "    <tr>\n",
       "      <th>4</th>\n",
       "      <td>Bacarri Rambo</td>\n",
       "      <td>211</td>\n",
       "      <td>2013</td>\n",
       "      <td>9.250</td>\n",
       "      <td>744.416667</td>\n",
       "    </tr>\n",
       "  </tbody>\n",
       "</table>\n",
       "</div>"
      ],
      "text/plain": [
       "              Name  Weight  Year   Hands  mean_of_ywh\n",
       "0  Quanterus Smith     250  2013  10.375   757.791667\n",
       "1       Abry Jones     313  2013   9.750   778.583333\n",
       "2     Bennie Logan     309  2013  10.250   777.416667\n",
       "3      John Boyett     204  2013   8.500   741.833333\n",
       "4    Bacarri Rambo     211  2013   9.250   744.416667"
      ]
     },
     "execution_count": 19,
     "metadata": {},
     "output_type": "execute_result"
    }
   ],
   "source": [
    "@DelayFunction\n",
    "def mean_of_columns(df):\n",
    "    meancol = df.mean(axis=1)\n",
    "    return meancol\n",
    "\n",
    "# mean of year, weight and hands columns:\n",
    "ywh_mean = (combine >>\n",
    "            select(X.Name, X['Weight'], X.Year, X.Hands) >>\n",
    "            mutate(mean_of_ywh = (combine >>\n",
    "                                  select(X.Year, X.Weight, X.Hands) >>\n",
    "                                  mean_of_columns(X))))\n",
    "\n",
    "ywh_mean.head()"
   ]
  },
  {
   "cell_type": "code",
   "execution_count": null,
   "metadata": {
    "collapsed": true
   },
   "outputs": [],
   "source": []
  }
 ],
 "metadata": {
  "kernelspec": {
   "display_name": "Python 2",
   "language": "python",
   "name": "python2"
  },
  "language_info": {
   "codemirror_mode": {
    "name": "ipython",
    "version": 2
   },
   "file_extension": ".py",
   "mimetype": "text/x-python",
   "name": "python",
   "nbconvert_exporter": "python",
   "pygments_lexer": "ipython2",
   "version": "2.7.12"
  }
 },
 "nbformat": 4,
 "nbformat_minor": 0
}
