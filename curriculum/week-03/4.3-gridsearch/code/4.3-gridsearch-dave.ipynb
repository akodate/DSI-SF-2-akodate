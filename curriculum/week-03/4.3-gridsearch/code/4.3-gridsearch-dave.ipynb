{
 "cells": [
  {
   "cell_type": "markdown",
   "metadata": {},
   "source": [
    "```---\n",
    "title: Gridsearch\n",
    "duration: \"1:25+\"\n",
    "creator:\n",
    "    name: David Yerrington\n",
    "    city: SF\n",
    "---```\n",
    "\n",
    "<img src=\"https://ga-dash.s3.amazonaws.com/production/assets/logo-9f88ae6c9c3871690e33280fcf557f33.png\" style=\"float: left; margin: 15px;\">\n",
    "# GridSearch\n",
    "Week 3 | Lesson 4.3\n",
    "***\n",
    "\n",
    "\n",
    "![](https://snag.gy/aYcCt2.jpg)\n"
   ]
  },
  {
   "cell_type": "markdown",
   "metadata": {},
   "source": [
    "## Discussion (5 mins)\n",
    "\n",
    "So far we have learned about linear regression and regularization.  _Given what you know about linear regression and how it's implemented in sklearn:_\n",
    "<br><br>\n",
    "## How would you approach tuning your model?\n",
    "<br><br>"
   ]
  },
  {
   "cell_type": "markdown",
   "metadata": {},
   "source": [
    "## Recap:  EDA, Analysis Strategy\n",
    "\n",
    "When doing exploratory analysis and starting to think about model selection, we have a few good starting points.\n",
    "\n",
    "- **Look at your data through subsetting and summary statistics**\n",
    "- Looking at coeficient matrices\n",
    "- Selecting features (variables) to use in our models\n",
    "- Considering parameters that might work, in a broad sense\n",
    "- Validation strategy\n",
    "\n",
    "A correlation matrix is used to investigate the **dependence between multiple variables at the same time**. The result is a table containing the correlation coefficients between each variable and the others. This is ideal for feature selection when deciding which features to use in a predictive model."
   ]
  },
  {
   "cell_type": "code",
   "execution_count": null,
   "metadata": {
    "collapsed": true
   },
   "outputs": [],
   "source": []
  },
  {
   "cell_type": "markdown",
   "metadata": {},
   "source": [
    "## Anyone use Gridsearch before?\n",
    "\n",
    "How / what / why?"
   ]
  },
  {
   "cell_type": "markdown",
   "metadata": {},
   "source": [
    "## Intro to Gridsearch (10 mins)\n",
    "\n",
    "What is \"gridsearch\"? **Gridsearch** is the process of searching for the optimal set of tuning parameters for a model. **Gridsearch** is a scikit-learn method.  We use **Gridsearch** for searching across values of parameters, in combination with models, also using cross-validation to evaluate the effect to find the **best model**. It's called gridsearch because the idea is that there is a \"grid\" of parameters that are iteratively searched."
   ]
  },
  {
   "cell_type": "markdown",
   "metadata": {},
   "source": [
    "## An Example\n",
    "\n",
    "So far we haven't really done much with tuning linear regression, other than regularization.  The prime example we will look at will be regularization, but let's first look at the mechanics of our model to establish some basic assumptions.\n",
    "\n",
    "### Linear Regression Parameters\n",
    "| Parameter | Potential Values |\n",
    "| --- | ---|\n",
    "| **fit_intercept** | bool: True/False |\n",
    "| **normalize** | bool:  True/False |\n",
    "\n",
    "> The normalize parameter:  If **True**, the regressors X will be normalized before  regression (they are talking about doing _standardization_ actually).\n"
   ]
  },
  {
   "cell_type": "code",
   "execution_count": null,
   "metadata": {
    "collapsed": true
   },
   "outputs": [],
   "source": [
    "LinearRegression(?)"
   ]
  },
  {
   "cell_type": "markdown",
   "metadata": {},
   "source": [
    "This is as if we where to run, and score the following code, using all combinations of the specified parameters:\n",
    "\n",
    "```python\n",
    "\n",
    "# Case 1\n",
    "lm = LinearRegression(fit_itercept=True, normalize=False)\n",
    "model = lm.fit(X, y)\n",
    "score = model.score(X,y)\n",
    "\n",
    "# Case 2\n",
    "lm = LinearRegression(fit_itercept=False, normalize=False)\n",
    "model = lm.fit(X, y)\n",
    "score = model.score(X,y)\n",
    "\n",
    "# Case 3\n",
    "lm = LinearRegression(fit_itercept=True, normalize=True)\n",
    "model = lm.fit(X, y)\n",
    "score = model.score(X,y)\n",
    "\n",
    "# Case 4\n",
    "lm = LinearRegression(fit_itercept=False, normalize=False)\n",
    "model = lm.fit(X, y)\n",
    "score = model.score(X,y)\n",
    "\n",
    "```"
   ]
  },
  {
   "cell_type": "markdown",
   "metadata": {},
   "source": [
    "## A More Sophisticated Example\n",
    "\n",
    "We haven't yet learned the intuition behind K-Nearest Neighbors, it's going to be introduced next week. So try to curb your curiousity for a moment about how this model works, and let's just talk about workflow and the programming mechanics for this example.\n",
    "\n",
    "Since **Gridsearch** is a method with a broad range of utility beyond regression problems, it's great for testing a combination of parameters on models that offer a broader range of **hyperparamters**.\n",
    "\n",
    "> Lingo guide:  **hyperparameter** is used interchangably with **parameter**, which is used with a given model. We are referring to the parameters we pass to our models to control their behavior."
   ]
  },
  {
   "cell_type": "markdown",
   "metadata": {},
   "source": [
    "| Parameter | Potential Values |\n",
    "| --- | ---|\n",
    "| **n_neighbors** | int range 1-150 |\n",
    "| **weights** | strs:  \"uniform\", \"distance\" or user defined function |\n",
    "| **algorithm** | strs: \"ball_tree\", \"kd_tree\", \"brute\", \"auto\" |\n",
    "| **leaf_size** | int range 0-150 |\n",
    "| **metric** | str: \"minkowski\" or DistanceObject type |\n",
    "| **p** | int: 1=manhattan_distance, 2= euclidean_distance |\n",
    "\n",
    "### What is GridSearch doing?\n",
    "\n",
    "```python\n",
    "from sklearn import neighbors\n",
    "\n",
    "# Search - 1\n",
    "neighbors.KNeighborsClassifier(\n",
    "    n_neighbors   =  1, \n",
    "    weights       =  \"uniform\", \n",
    "    algorithm     =  \"ball_tree\", \n",
    "    leaf_size     =  30, \n",
    "    etc...\n",
    ")\n",
    "# Search - 2\n",
    "neighbors.KNeighborsClassifier(\n",
    "    n_neighbors   =  2, \n",
    "    weights       =  \"uniform\", \n",
    "    algorithm     =  \"ball_tree\", \n",
    "    leaf_size     =  30, \n",
    "    etc...\n",
    ")\n",
    "# Search - 3\n",
    "neighbors.KNeighborsClassifier(\n",
    "    n_neighbors   =  3, \n",
    "    weights       =  \"uniform\", \n",
    "    algorithm     =  \"ball_tree\", \n",
    "    leaf_size     =  30, \n",
    "    etc...\n",
    ")\n",
    "\n",
    "...\n",
    "... ** chunk chunk chunk -- [searching intensifies] -- hours later **\n",
    "...\n",
    "\n",
    "# Searching combinations of 300,000+\n",
    "neighbors.KNeighborsClassifier(\n",
    "    n_neighbors   =  150, \n",
    "    weights       =  \"distance\", \n",
    "    algorithm     =  \"auto\", \n",
    "    leaf_size     =  150, \n",
    "    etc...\n",
    ")\n",
    "\n",
    "```"
   ]
  },
  {
   "cell_type": "code",
   "execution_count": null,
   "metadata": {
    "collapsed": true
   },
   "outputs": [],
   "source": [
    "LinearRegression(?)"
   ]
  },
  {
   "cell_type": "markdown",
   "metadata": {},
   "source": [
    "## How many models will be built and tested on a KNN model with the following parameters? (5 mins)\n",
    "\n",
    "- **n_neighbors**:  1-25\n",
    "- **algorithm**: \"ball_tree\", \"kd_tree\", \"brute\", \"auto\""
   ]
  },
  {
   "cell_type": "markdown",
   "metadata": {},
   "source": [
    "## Models Have Parameters\n",
    "\n",
    "Every model we will be learning have a predefined set of parameters.  If it has parameters, we can test a variety of parameters using gridsearch, to see the performance of various sets of parameters to get a sense of how they work in relation to our dataset and model.\n"
   ]
  },
  {
   "cell_type": "markdown",
   "metadata": {},
   "source": [
    "<br><br><br>\n",
    "## Do you remember which parameter CV was used for?\n",
    "<Br><Br><br><br>"
   ]
  },
  {
   "cell_type": "markdown",
   "metadata": {},
   "source": [
    "## Implementing GridsearchCV\n",
    "\n",
    "By default the `cv` parameter is `3`.  You can set this as high as you want!  Keep in mind how it works and why it's used.  If this is a mystery, please review our material on K-Folds validation."
   ]
  },
  {
   "cell_type": "code",
   "execution_count": 66,
   "metadata": {
    "collapsed": false
   },
   "outputs": [],
   "source": [
    "# Load gridsearch, libraries, test data\n",
    "from sklearn import grid_search, datasets\n",
    "from sklearn.linear_model import LinearRegression\n",
    "import pandas as pd, patsy\n",
    "\n",
    "columns =  \"age sex bmi map tc ldl hdl tch ltg glu\".split()\n",
    "\n",
    "data    =  datasets.load_diabetes()\n",
    "df      =  pd.DataFrame(data.data, columns=columns)\n",
    "df['target'] = data.target\n",
    "\n",
    "# Setup patsy design matrix\n",
    "y, X    =  patsy.dmatrices(\"target ~ age + sex + bmi + map + tc + ldl + glu\", data=df, return_type=\"dataframe\")"
   ]
  },
  {
   "cell_type": "markdown",
   "metadata": {},
   "source": [
    "### Setup GridSearchCV Parameters"
   ]
  },
  {
   "cell_type": "code",
   "execution_count": 69,
   "metadata": {
    "collapsed": true
   },
   "outputs": [],
   "source": [
    "# Setup our GridSearch Parmaters\n",
    "search_parameters = {\n",
    "    'fit_intercept':  [True, False], \n",
    "    'normalize':      [False, True]\n",
    "}\n",
    "\n",
    "# Intialize a blank model object\n",
    "lm = LinearRegression()\n",
    "\n",
    "# Initialize gridsearch\n",
    "estimator = grid_search.GridSearchCV(lm, search_parameters, cv=5)\n",
    "\n",
    "# Fit some data!\n",
    "results = estimator.fit(X, y)"
   ]
  },
  {
   "cell_type": "markdown",
   "metadata": {},
   "source": [
    "### Review Results\n",
    "\n",
    "There are a number of interesting result properties to explore.\n",
    "\n",
    "| Property | Use |\n",
    "| --- | ---|\n",
    "| **`results.param_grid`** | Displays parameters used |\n",
    "| **`results.best_score_`** | Best score achieved |\n",
    "| **`results.best_estimator_`** | Reference to model with best score.  Is usable / callable. |\n",
    "| **`results.best_params_`** | The parameters that have been found to perform with the best score. |\n",
    "| **`results.grid_scores_`** | Display score attributes with cooresponding parameters | "
   ]
  },
  {
   "cell_type": "code",
   "execution_count": 35,
   "metadata": {
    "collapsed": false
   },
   "outputs": [
    {
     "name": "stdout",
     "output_type": "stream",
     "text": [
      "Best Score:\n",
      "0.370689510527\n",
      "\n",
      "Best Params:\n",
      "{'normalize': False, 'fit_intercept': False}\n"
     ]
    }
   ],
   "source": [
    "print \"Best Score:\"\n",
    "print results.best_score_\n",
    "\n",
    "print\n",
    "\n",
    "print \"Best Params:\"\n",
    "print results.best_params_"
   ]
  },
  {
   "cell_type": "markdown",
   "metadata": {},
   "source": [
    "### Find All Tested Params with Scores\n",
    "_In the case of linear regression, the R2 isn't displayed, which is annoying.  You should at least know how where to look for the future use cases when you use other models_.\n",
    "\n",
    "It's not applicable now, but this is a great place to get data to plot your parameter values and their impact on your score as they change.  We will explore this possibility in the future."
   ]
  },
  {
   "cell_type": "code",
   "execution_count": 46,
   "metadata": {
    "collapsed": false,
    "scrolled": true
   },
   "outputs": [
    {
     "data": {
      "text/plain": [
       "[mean: 0.37069, std: 0.07662, params: {'normalize': False, 'fit_intercept': True},\n",
       " mean: 0.37069, std: 0.07662, params: {'normalize': True, 'fit_intercept': True},\n",
       " mean: 0.37069, std: 0.07662, params: {'normalize': False, 'fit_intercept': False},\n",
       " mean: 0.37069, std: 0.07662, params: {'normalize': True, 'fit_intercept': False}]"
      ]
     },
     "execution_count": 46,
     "metadata": {},
     "output_type": "execute_result"
    }
   ],
   "source": [
    "results.grid_scores_"
   ]
  },
  {
   "cell_type": "markdown",
   "metadata": {},
   "source": [
    "<br><br><br>\n",
    "\n",
    "## (5 mins) How do you think we can use gridsearch to avoid overfitting (or underfitting for that matter)?\n",
    "<br><br><br>"
   ]
  },
  {
   "cell_type": "markdown",
   "metadata": {},
   "source": [
    "# (20 mins)  Independent Practice\n",
    "\n",
    "Setup a basic gridsearch with all potential parameters for **fit_intercept**, and **normalize** parameters for linear regression using the boston housing dataset.\n",
    "\n",
    "1. Select a set of predictors\n",
    "1. Use the provided target as your response\n",
    "1. Setup and perform a basic gridsearch on a blank linear model object\n",
    "1. Print our your results\n",
    "\n",
    "> _The actual results won't be that interesting but the important thing is that you understand the implementation._"
   ]
  },
  {
   "cell_type": "code",
   "execution_count": 78,
   "metadata": {
    "collapsed": false
   },
   "outputs": [],
   "source": [
    "data = datasets.load_boston()\n",
    "data.keys()\n",
    "\n",
    "df = pd.DataFrame(data.data, columns=data.feature_names)\n",
    "df['target'] = data.target\n",
    "df.columns = [col.replace(\".\", \"_\").replace(\"-\", \"_\") for col in df.columns]\n",
    "\n",
    "# y, X = patsy.dmatrices(\"target ~ AZ + CHAS + NOX + RM\", return_type=\"dataframe\")\n"
   ]
  },
  {
   "cell_type": "markdown",
   "metadata": {},
   "source": [
    "<br><Br>\n",
    "\n",
    "# (5 mins)  What are some disadvantages to GridSearch that you can think of?\n",
    "\n",
    "<br><Br>"
   ]
  },
  {
   "cell_type": "markdown",
   "metadata": {},
   "source": [
    "# Summary Check-in\n",
    "\n",
    "- What is the most difficult thing to understand about GridSearch?\n",
    "- How many parameters can be searched?\n",
    "- How do we know if our best score is good or not?\n",
    "- Which models can we use with Gridsearch?\n",
    "\n",
    "---"
   ]
  },
  {
   "cell_type": "markdown",
   "metadata": {},
   "source": [
    "## (60 mins) Independent/Group Practice\n",
    "\n",
    "Feel free to partner up or work within your group.  Use gridsearch to setup a basic pipeline on to search for `alpha` parameters for Lasso regularized regression.\n",
    "\n",
    "1.  Load up the winedataset used from our regularization lab yesterday.\n",
    "1.  Import Lasso, patsy\n",
    "1.  Use patsy to setup a design matrix\n",
    "1.  Setup a range of alphas to test _(hint: numpy generator)_\n",
    "1.  Setup gridsearch parameters with your range of alphas\n",
    "1.  Initialize and gridsearch\n",
    "1.  Review / print performance metrics and decide on an optimal parameter for alpha\n",
    "\n",
    "Remember:  _Alphas for the Lasso tend to effect regularization linearly rather than by orders of magnitude like in the ridge. A linear series of alphas is sufficient. Don't worry about the warning for Lasso at alpha 0._"
   ]
  },
  {
   "cell_type": "code",
   "execution_count": 143,
   "metadata": {
    "collapsed": true
   },
   "outputs": [],
   "source": [
    "def create_formula(features, predictor):\n",
    "    \n",
    "    return predictor + \" ~ \" + \" + \".join(features)\n"
   ]
  },
  {
   "cell_type": "code",
   "execution_count": 2,
   "metadata": {
    "collapsed": false
   },
   "outputs": [
    {
     "ename": "NameError",
     "evalue": "name 'pd' is not defined",
     "output_type": "error",
     "traceback": [
      "\u001b[0;31m---------------------------------------------------------------------------\u001b[0m",
      "\u001b[0;31mNameError\u001b[0m                                 Traceback (most recent call last)",
      "\u001b[0;32m<ipython-input-2-d2a97401a7f0>\u001b[0m in \u001b[0;36m<module>\u001b[0;34m()\u001b[0m\n\u001b[1;32m      4\u001b[0m \u001b[0;34m\u001b[0m\u001b[0m\n\u001b[1;32m      5\u001b[0m \u001b[0;31m# Load dataset\u001b[0m\u001b[0;34m\u001b[0m\u001b[0;34m\u001b[0m\u001b[0m\n\u001b[0;32m----> 6\u001b[0;31m \u001b[0mdf\u001b[0m    \u001b[0;34m=\u001b[0m  \u001b[0mpd\u001b[0m\u001b[0;34m.\u001b[0m\u001b[0mread_csv\u001b[0m\u001b[0;34m(\u001b[0m\u001b[0;34m\"../../../../datasets/wine_quality/winequality_merged.csv\"\u001b[0m\u001b[0;34m)\u001b[0m\u001b[0;34m\u001b[0m\u001b[0m\n\u001b[0m\u001b[1;32m      7\u001b[0m \u001b[0;34m\u001b[0m\u001b[0m\n\u001b[1;32m      8\u001b[0m \u001b[0;31m# Clean column headers\u001b[0m\u001b[0;34m\u001b[0m\u001b[0;34m\u001b[0m\u001b[0m\n",
      "\u001b[0;31mNameError\u001b[0m: name 'pd' is not defined"
     ]
    }
   ],
   "source": [
    "from sklearn.linear_model import Lasso\n",
    "from sklearn.grid_search import GridSearchCV\n",
    "import patsy\n",
    "\n",
    "# Load dataset\n",
    "df    =  pd.read_csv(\"../../../../datasets/wine_quality/winequality_merged.csv\")\n",
    "\n",
    "# Clean column headers\n",
    "df.columns = [col.replace(\" \", \"_\").lower() for col in df.columns]\n",
    "\n",
    "# Setup patsy design matrix\n",
    "formula = \"quality ~ fixed_acidity + volatile_acidity + citric_acid + residual_sugar + chlorides + free_sulfur_dioxide + total_sulfur_dioxide + density + ph + sulphates + alcohol - 1\"\n",
    "y, X  =  patsy.dmatrices(formula, data=df)\n",
    "\n",
    "# Setup search parameters\n",
    "search_parameters = {\n",
    "    \"alpha\": np.arange(0, 0.25, 0.0025)\n",
    "}\n",
    "\n",
    "lasso = Lasso()\n",
    "\n",
    "estimator = GridSearchCV(lasso, search_parameters)\n",
    "results = estimator.fit(X, y)\n",
    "# create_formula(df.columns, \"quality\")"
   ]
  },
  {
   "cell_type": "markdown",
   "metadata": {},
   "source": [
    "> _Don't feel like you need to tackle these in any particular order!  The coef / plotting challenge is actually pretty tricky._"
   ]
  },
  {
   "cell_type": "markdown",
   "metadata": {},
   "source": [
    "## Bonus Challenge #1\n",
    "Figure out how to plot the impact of your score given the range of parameters used."
   ]
  },
  {
   "cell_type": "code",
   "execution_count": 193,
   "metadata": {
    "collapsed": false
   },
   "outputs": [
    {
     "data": {
      "text/plain": [
       "<matplotlib.axes._subplots.AxesSubplot at 0x11fab9850>"
      ]
     },
     "execution_count": 193,
     "metadata": {},
     "output_type": "execute_result"
    },
    {
     "data": {
      "image/png": "[encoded data removed]",
      "text/plain": [
       "<matplotlib.figure.Figure at 0x11d699650>"
      ]
     },
     "metadata": {},
     "output_type": "display_data"
    }
   ],
   "source": [
    "import seaborn as sns\n",
    "\n",
    "score_df = pd.DataFrame(results.grid_scores_)\n",
    "score_df['parameters'] = score_df['parameters'].map(lambda score: score['alpha'])\n",
    "score_df['mean_score'] = score_df['cv_validation_scores'].map(lambda scores: np.mean(scores))\n",
    "score_df.plot(kind=\"scatter\", x=\"parameters\", y=\"mean_validation_score\", title=\"Alphas / Mean Scores\")"
   ]
  },
  {
   "cell_type": "markdown",
   "metadata": {},
   "source": [
    "## Bonus Challenge #2\n",
    "\n",
    "Investigate the effect of coefficients given the range of alphas used, in addition to scores.  You might try to plot a few of these within a range of parameters used.  How can you evaluate this?  There is more than one way.\n"
   ]
  },
  {
   "cell_type": "code",
   "execution_count": 195,
   "metadata": {
    "collapsed": false
   },
   "outputs": [
    {
     "data": {
      "text/plain": [
       "[mean: 0.02363, std: 0.31318, params: {'alpha': 0.0},\n",
       " mean: 0.19023, std: 0.08098, params: {'alpha': 0.0025000000000000001},\n",
       " mean: 0.20081, std: 0.06215, params: {'alpha': 0.0050000000000000001},\n",
       " mean: 0.21976, std: 0.03114, params: {'alpha': 0.0074999999999999997},\n",
       " mean: 0.23241, std: 0.00871, params: {'alpha': 0.01},\n",
       " mean: 0.23666, std: 0.00667, params: {'alpha': 0.012500000000000001},\n",
       " mean: 0.23397, std: 0.00681, params: {'alpha': 0.014999999999999999},\n",
       " mean: 0.22289, std: 0.00954, params: {'alpha': 0.017500000000000002},\n",
       " mean: 0.21007, std: 0.02212, params: {'alpha': 0.02},\n",
       " mean: 0.20737, std: 0.02105, params: {'alpha': 0.022499999999999999},\n",
       " mean: 0.20429, std: 0.01992, params: {'alpha': 0.025000000000000001},\n",
       " mean: 0.20084, std: 0.01875, params: {'alpha': 0.0275},\n",
       " mean: 0.19702, std: 0.01753, params: {'alpha': 0.029999999999999999},\n",
       " mean: 0.19283, std: 0.01628, params: {'alpha': 0.032500000000000001},\n",
       " mean: 0.19055, std: 0.01529, params: {'alpha': 0.035000000000000003},\n",
       " mean: 0.18995, std: 0.01593, params: {'alpha': 0.037499999999999999},\n",
       " mean: 0.18940, std: 0.01649, params: {'alpha': 0.040000000000000001},\n",
       " mean: 0.18881, std: 0.01704, params: {'alpha': 0.042500000000000003},\n",
       " mean: 0.18821, std: 0.01760, params: {'alpha': 0.044999999999999998},\n",
       " mean: 0.18757, std: 0.01817, params: {'alpha': 0.047500000000000001},\n",
       " mean: 0.18691, std: 0.01874, params: {'alpha': 0.050000000000000003},\n",
       " mean: 0.18622, std: 0.01931, params: {'alpha': 0.052499999999999998},\n",
       " mean: 0.18550, std: 0.01989, params: {'alpha': 0.055},\n",
       " mean: 0.18476, std: 0.02048, params: {'alpha': 0.057500000000000002},\n",
       " mean: 0.18398, std: 0.02107, params: {'alpha': 0.059999999999999998},\n",
       " mean: 0.18318, std: 0.02167, params: {'alpha': 0.0625},\n",
       " mean: 0.18235, std: 0.02227, params: {'alpha': 0.065000000000000002},\n",
       " mean: 0.18149, std: 0.02288, params: {'alpha': 0.067500000000000004},\n",
       " mean: 0.18059, std: 0.02351, params: {'alpha': 0.070000000000000007},\n",
       " mean: 0.17967, std: 0.02413, params: {'alpha': 0.072499999999999995},\n",
       " mean: 0.17873, std: 0.02476, params: {'alpha': 0.074999999999999997},\n",
       " mean: 0.17776, std: 0.02539, params: {'alpha': 0.077499999999999999},\n",
       " mean: 0.17676, std: 0.02603, params: {'alpha': 0.080000000000000002},\n",
       " mean: 0.17573, std: 0.02668, params: {'alpha': 0.082500000000000004},\n",
       " mean: 0.17478, std: 0.02744, params: {'alpha': 0.085000000000000006},\n",
       " mean: 0.17393, std: 0.02833, params: {'alpha': 0.087500000000000008},\n",
       " mean: 0.17306, std: 0.02923, params: {'alpha': 0.089999999999999997},\n",
       " mean: 0.17215, std: 0.03013, params: {'alpha': 0.092499999999999999},\n",
       " mean: 0.17122, std: 0.03103, params: {'alpha': 0.095000000000000001},\n",
       " mean: 0.17027, std: 0.03195, params: {'alpha': 0.097500000000000003},\n",
       " mean: 0.16929, std: 0.03286, params: {'alpha': 0.10000000000000001},\n",
       " mean: 0.16828, std: 0.03379, params: {'alpha': 0.10250000000000001},\n",
       " mean: 0.16725, std: 0.03472, params: {'alpha': 0.105},\n",
       " mean: 0.16619, std: 0.03566, params: {'alpha': 0.1075},\n",
       " mean: 0.16510, std: 0.03660, params: {'alpha': 0.11},\n",
       " mean: 0.16399, std: 0.03756, params: {'alpha': 0.1125},\n",
       " mean: 0.16286, std: 0.03852, params: {'alpha': 0.115},\n",
       " mean: 0.16170, std: 0.03949, params: {'alpha': 0.11750000000000001},\n",
       " mean: 0.16051, std: 0.04046, params: {'alpha': 0.12},\n",
       " mean: 0.15930, std: 0.04144, params: {'alpha': 0.1225},\n",
       " mean: 0.15806, std: 0.04243, params: {'alpha': 0.125},\n",
       " mean: 0.15679, std: 0.04343, params: {'alpha': 0.1275},\n",
       " mean: 0.15550, std: 0.04443, params: {'alpha': 0.13},\n",
       " mean: 0.15419, std: 0.04544, params: {'alpha': 0.13250000000000001},\n",
       " mean: 0.15285, std: 0.04646, params: {'alpha': 0.13500000000000001},\n",
       " mean: 0.15147, std: 0.04749, params: {'alpha': 0.13750000000000001},\n",
       " mean: 0.15008, std: 0.04852, params: {'alpha': 0.14000000000000001},\n",
       " mean: 0.14866, std: 0.04956, params: {'alpha': 0.14250000000000002},\n",
       " mean: 0.14722, std: 0.05061, params: {'alpha': 0.14499999999999999},\n",
       " mean: 0.14575, std: 0.05167, params: {'alpha': 0.14749999999999999},\n",
       " mean: 0.14425, std: 0.05273, params: {'alpha': 0.14999999999999999},\n",
       " mean: 0.14273, std: 0.05380, params: {'alpha': 0.1525},\n",
       " mean: 0.14118, std: 0.05488, params: {'alpha': 0.155},\n",
       " mean: 0.13960, std: 0.05597, params: {'alpha': 0.1575},\n",
       " mean: 0.13801, std: 0.05706, params: {'alpha': 0.16},\n",
       " mean: 0.13638, std: 0.05817, params: {'alpha': 0.16250000000000001},\n",
       " mean: 0.13473, std: 0.05928, params: {'alpha': 0.16500000000000001},\n",
       " mean: 0.13305, std: 0.06040, params: {'alpha': 0.16750000000000001},\n",
       " mean: 0.13135, std: 0.06153, params: {'alpha': 0.17000000000000001},\n",
       " mean: 0.12962, std: 0.06266, params: {'alpha': 0.17250000000000001},\n",
       " mean: 0.12786, std: 0.06381, params: {'alpha': 0.17500000000000002},\n",
       " mean: 0.12608, std: 0.06496, params: {'alpha': 0.17749999999999999},\n",
       " mean: 0.12428, std: 0.06612, params: {'alpha': 0.17999999999999999},\n",
       " mean: 0.12245, std: 0.06729, params: {'alpha': 0.1825},\n",
       " mean: 0.12059, std: 0.06846, params: {'alpha': 0.185},\n",
       " mean: 0.11870, std: 0.06965, params: {'alpha': 0.1875},\n",
       " mean: 0.11679, std: 0.07084, params: {'alpha': 0.19},\n",
       " mean: 0.11485, std: 0.07206, params: {'alpha': 0.1925},\n",
       " mean: 0.11289, std: 0.07327, params: {'alpha': 0.19500000000000001},\n",
       " mean: 0.11097, std: 0.07437, params: {'alpha': 0.19750000000000001},\n",
       " mean: 0.10913, std: 0.07534, params: {'alpha': 0.20000000000000001},\n",
       " mean: 0.10728, std: 0.07632, params: {'alpha': 0.20250000000000001},\n",
       " mean: 0.10540, std: 0.07730, params: {'alpha': 0.20500000000000002},\n",
       " mean: 0.10354, std: 0.07831, params: {'alpha': 0.20750000000000002},\n",
       " mean: 0.10165, std: 0.07933, params: {'alpha': 0.20999999999999999},\n",
       " mean: 0.09975, std: 0.08035, params: {'alpha': 0.21249999999999999},\n",
       " mean: 0.09783, std: 0.08137, params: {'alpha': 0.215},\n",
       " mean: 0.09589, std: 0.08240, params: {'alpha': 0.2175},\n",
       " mean: 0.09393, std: 0.08343, params: {'alpha': 0.22},\n",
       " mean: 0.09194, std: 0.08447, params: {'alpha': 0.2225},\n",
       " mean: 0.08994, std: 0.08552, params: {'alpha': 0.22500000000000001},\n",
       " mean: 0.08791, std: 0.08656, params: {'alpha': 0.22750000000000001},\n",
       " mean: 0.08586, std: 0.08761, params: {'alpha': 0.23000000000000001},\n",
       " mean: 0.08379, std: 0.08867, params: {'alpha': 0.23250000000000001},\n",
       " mean: 0.08169, std: 0.08972, params: {'alpha': 0.23500000000000001},\n",
       " mean: 0.07958, std: 0.09079, params: {'alpha': 0.23750000000000002},\n",
       " mean: 0.07744, std: 0.09187, params: {'alpha': 0.23999999999999999},\n",
       " mean: 0.07528, std: 0.09294, params: {'alpha': 0.24249999999999999},\n",
       " mean: 0.07311, std: 0.09402, params: {'alpha': 0.245},\n",
       " mean: 0.07091, std: 0.09511, params: {'alpha': 0.2475}]"
      ]
     },
     "execution_count": 195,
     "metadata": {},
     "output_type": "execute_result"
    }
   ],
   "source": [
    "# see code snippet for 6.2 Visualizing the Lasso of the regularization lecture notebook"
   ]
  },
  {
   "cell_type": "markdown",
   "metadata": {},
   "source": [
    "## Bonus Challenge #3\n",
    "\n",
    "Attempt the same exercize using ridge and/or elasticnet, adjusting parameters for appropriate range/scale.  Also, attempt scaling."
   ]
  },
  {
   "cell_type": "code",
   "execution_count": null,
   "metadata": {
    "collapsed": true
   },
   "outputs": [],
   "source": []
  }
 ],
 "metadata": {
  "anaconda-cloud": {},
  "kernelspec": {
   "display_name": "Python [dsi]",
   "language": "python",
   "name": "Python [dsi]"
  },
  "language_info": {
   "codemirror_mode": {
    "name": "ipython",
    "version": 2
   },
   "file_extension": ".py",
   "mimetype": "text/x-python",
   "name": "python",
   "nbconvert_exporter": "python",
   "pygments_lexer": "ipython2",
   "version": "2.7.12"
  }
 },
 "nbformat": 4,
 "nbformat_minor": 0
}
