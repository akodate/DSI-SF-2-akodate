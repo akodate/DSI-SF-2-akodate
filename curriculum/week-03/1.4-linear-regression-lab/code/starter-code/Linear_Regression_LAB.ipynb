{
 "cells": [
  {
   "cell_type": "markdown",
   "metadata": {},
   "source": [
    "# Linear Regression Practice\n",
    "\n",
    "In this lab we are going to use a 1994 dataset that has detailed prices on items sold at over 400 Burguer King, Wendy's, KFC and Roy Roger restaurants in New Jersey and Pennsivania.\n",
    "\n",
    "Roy Roger https://en.wikipedia.org/wiki/Roy_Rogers_Restaurants\n",
    "\n",
    "\n",
    "The data set has zip-code level data on various items prices, characterisitics of the zip code population.\n",
    "\n",
    "The idea with this exercise is to see wheter fast-food restaurants charge higher prices in areas with a larger concentration of African Americans. "
   ]
  },
  {
   "cell_type": "markdown",
   "metadata": {},
   "source": [
    "### Data Set Characteristics:  \n",
    "K. Graddy (1997), \"Do Fast-Food Chains Price Discriminate on the Race and Income Characteristics of an Area?\" Journal of Business and Economic Statistics 15, 391-401.\n",
    "http://people.brandeis.edu/~kgraddy/published%20papers/GraddyK_jbes1997.pdf\n",
    "\n",
    "    :Number of Instances: 410\n",
    "    \n",
    "    :Attribute Information\n",
    "    \n",
    "    psoda         price of medium soda, 1st wave\n",
    "    pfries        price of small fries, 1st wave\n",
    "    pentree       price entree (burger or chicken), 1st wave\n",
    "    wagest        starting wage, 1st wave\n",
    "    nmgrs         number of managers, 1st wave\n",
    "    nregs         number of registers, 1st wave\n",
    "    hrsopen       hours open, 1st wave\n",
    "    emp           number of employees, 1st wave\n",
    "    psoda2        price of medium soday, 2nd wave\n",
    "    pfries2       price of small fries, 2nd wave\n",
    "    pentree2      price entree, 2nd wave\n",
    "    wagest2       starting wage, 2nd wave\n",
    "    nmgrs2        number of managers, 2nd wave\n",
    "    nregs2        number of registers, 2nd wave\n",
    "    hrsopen2      hours open, 2nd wave\n",
    "    emp2          number of employees, 2nd wave\n",
    "    compown       =1 if company owned\n",
    "    chain         BK = 1, KFC = 2, Roy Rogers = 3, Wendy's = 4\n",
    "    density       population density, town\n",
    "    crmrte        crime rate, town\n",
    "    state         NJ = 1, PA = 2\n",
    "    prpblck       proportion black, zipcode\n",
    "    prppov        proportion in poverty, zipcode\n",
    "    prpncar       proportion no car, zipcode\n",
    "    hseval        median housing value, zipcode\n",
    "    nstores       number of stores, zipcode\n",
    "    income        median family income, zipcode\n",
    "    county        county label\n",
    "    lpsoda        log(psoda)\n",
    "    lpfries       log(pfries)\n",
    "    lhseval       log(hseval)\n",
    "    lincome       log(income)\n",
    "    ldensity      log(density)\n",
    "    NJ            =1 for New Jersey\n",
    "    BK            =1 if Burger King\n",
    "    KFC           =1 if Kentucky Fried Chicken\n",
    "    RR            =1 if Roy Rogers\n"
   ]
  },
  {
   "cell_type": "code",
   "execution_count": 20,
   "metadata": {
    "collapsed": true
   },
   "outputs": [],
   "source": [
    "# data modules\n",
    "import numpy as np\n",
    "import scipy.stats as stats\n",
    "import pandas as pd\n",
    "\n",
    "# plotting modules\n",
    "import matplotlib.pyplot as plt\n",
    "import seaborn as sns\n",
    "sns.set_style('whitegrid')\n",
    "\n",
    "# Stats/Regresions Packages\n",
    "from sklearn import linear_model\n",
    "from sklearn.metrics import mean_squared_error\n",
    "\n",
    "# make sure charts appear in the notebook:\n",
    "%matplotlib inline\n",
    "%config InlineBackend.figure_format ='retina'"
   ]
  },
  {
   "cell_type": "markdown",
   "metadata": {},
   "source": [
    "#### 1. Read the data, print the last 5 rows, perform EDA (missing values, data types, describe)"
   ]
  },
  {
   "cell_type": "code",
   "execution_count": 21,
   "metadata": {
    "collapsed": false
   },
   "outputs": [],
   "source": [
    "path_to_file = '../../../../../datasets/fast_food_chains/discrim.csv' ## Change it to your path\n",
    "fast_food = pd.read_csv(path_to_file)\n"
   ]
  },
  {
   "cell_type": "markdown",
   "metadata": {},
   "source": [
    "#### 2. The variable/feature psoda has eight missing observations. Replace those missing observations with the average price of soda per chain ( you will have to find which chain is missing psoda values)"
   ]
  },
  {
   "cell_type": "code",
   "execution_count": 74,
   "metadata": {
    "collapsed": false
   },
   "outputs": [
    {
     "data": {
      "text/html": [
       "<div>\n",
       "<table border=\"1\" class=\"dataframe\">\n",
       "  <thead>\n",
       "    <tr style=\"text-align: right;\">\n",
       "      <th></th>\n",
       "      <th>psoda</th>\n",
       "      <th>pfries</th>\n",
       "      <th>pentree</th>\n",
       "      <th>wagest</th>\n",
       "      <th>nmgrs</th>\n",
       "      <th>nregs</th>\n",
       "      <th>hrsopen</th>\n",
       "      <th>emp</th>\n",
       "      <th>psoda2</th>\n",
       "      <th>pfries2</th>\n",
       "      <th>...</th>\n",
       "      <th>county</th>\n",
       "      <th>lpsoda</th>\n",
       "      <th>lpfries</th>\n",
       "      <th>lhseval</th>\n",
       "      <th>lincome</th>\n",
       "      <th>ldensity</th>\n",
       "      <th>NJ</th>\n",
       "      <th>BK</th>\n",
       "      <th>KFC</th>\n",
       "      <th>RR</th>\n",
       "    </tr>\n",
       "  </thead>\n",
       "  <tbody>\n",
       "    <tr>\n",
       "      <th>0</th>\n",
       "      <td>1.12</td>\n",
       "      <td>1.06</td>\n",
       "      <td>1.02</td>\n",
       "      <td>4.25</td>\n",
       "      <td>3.0</td>\n",
       "      <td>5.0</td>\n",
       "      <td>16.0</td>\n",
       "      <td>27.5</td>\n",
       "      <td>1.11</td>\n",
       "      <td>1.11</td>\n",
       "      <td>...</td>\n",
       "      <td>18</td>\n",
       "      <td>0.113329</td>\n",
       "      <td>0.058269</td>\n",
       "      <td>11.90699</td>\n",
       "      <td>10.70401</td>\n",
       "      <td>8.301521</td>\n",
       "      <td>1</td>\n",
       "      <td>0</td>\n",
       "      <td>0</td>\n",
       "      <td>1</td>\n",
       "    </tr>\n",
       "    <tr>\n",
       "      <th>1</th>\n",
       "      <td>1.06</td>\n",
       "      <td>0.91</td>\n",
       "      <td>0.95</td>\n",
       "      <td>4.75</td>\n",
       "      <td>3.0</td>\n",
       "      <td>3.0</td>\n",
       "      <td>16.5</td>\n",
       "      <td>21.5</td>\n",
       "      <td>1.05</td>\n",
       "      <td>0.89</td>\n",
       "      <td>...</td>\n",
       "      <td>18</td>\n",
       "      <td>0.058269</td>\n",
       "      <td>-0.094311</td>\n",
       "      <td>11.90699</td>\n",
       "      <td>10.70401</td>\n",
       "      <td>8.301521</td>\n",
       "      <td>1</td>\n",
       "      <td>1</td>\n",
       "      <td>0</td>\n",
       "      <td>0</td>\n",
       "    </tr>\n",
       "    <tr>\n",
       "      <th>2</th>\n",
       "      <td>1.06</td>\n",
       "      <td>0.91</td>\n",
       "      <td>0.98</td>\n",
       "      <td>4.25</td>\n",
       "      <td>3.0</td>\n",
       "      <td>5.0</td>\n",
       "      <td>18.0</td>\n",
       "      <td>30.0</td>\n",
       "      <td>1.05</td>\n",
       "      <td>0.94</td>\n",
       "      <td>...</td>\n",
       "      <td>12</td>\n",
       "      <td>0.058269</td>\n",
       "      <td>-0.094311</td>\n",
       "      <td>12.03884</td>\n",
       "      <td>10.62532</td>\n",
       "      <td>9.341369</td>\n",
       "      <td>1</td>\n",
       "      <td>1</td>\n",
       "      <td>0</td>\n",
       "      <td>0</td>\n",
       "    </tr>\n",
       "    <tr>\n",
       "      <th>3</th>\n",
       "      <td>1.12</td>\n",
       "      <td>1.02</td>\n",
       "      <td>1.06</td>\n",
       "      <td>5.00</td>\n",
       "      <td>4.0</td>\n",
       "      <td>5.0</td>\n",
       "      <td>16.0</td>\n",
       "      <td>27.5</td>\n",
       "      <td>1.15</td>\n",
       "      <td>1.05</td>\n",
       "      <td>...</td>\n",
       "      <td>10</td>\n",
       "      <td>0.113329</td>\n",
       "      <td>0.019803</td>\n",
       "      <td>12.05292</td>\n",
       "      <td>10.82707</td>\n",
       "      <td>9.029418</td>\n",
       "      <td>1</td>\n",
       "      <td>0</td>\n",
       "      <td>0</td>\n",
       "      <td>1</td>\n",
       "    </tr>\n",
       "    <tr>\n",
       "      <th>4</th>\n",
       "      <td>1.12</td>\n",
       "      <td>NaN</td>\n",
       "      <td>0.49</td>\n",
       "      <td>5.00</td>\n",
       "      <td>3.0</td>\n",
       "      <td>3.0</td>\n",
       "      <td>16.0</td>\n",
       "      <td>5.0</td>\n",
       "      <td>1.04</td>\n",
       "      <td>1.01</td>\n",
       "      <td>...</td>\n",
       "      <td>10</td>\n",
       "      <td>0.113329</td>\n",
       "      <td>NaN</td>\n",
       "      <td>12.42561</td>\n",
       "      <td>11.18840</td>\n",
       "      <td>6.579251</td>\n",
       "      <td>1</td>\n",
       "      <td>1</td>\n",
       "      <td>0</td>\n",
       "      <td>0</td>\n",
       "    </tr>\n",
       "  </tbody>\n",
       "</table>\n",
       "<p>5 rows × 37 columns</p>\n",
       "</div>"
      ],
      "text/plain": [
       "   psoda  pfries  pentree  wagest  nmgrs  nregs  hrsopen   emp  psoda2  \\\n",
       "0   1.12    1.06     1.02    4.25    3.0    5.0     16.0  27.5    1.11   \n",
       "1   1.06    0.91     0.95    4.75    3.0    3.0     16.5  21.5    1.05   \n",
       "2   1.06    0.91     0.98    4.25    3.0    5.0     18.0  30.0    1.05   \n",
       "3   1.12    1.02     1.06    5.00    4.0    5.0     16.0  27.5    1.15   \n",
       "4   1.12     NaN     0.49    5.00    3.0    3.0     16.0   5.0    1.04   \n",
       "\n",
       "   pfries2 ...  county    lpsoda   lpfries   lhseval   lincome  ldensity  NJ  \\\n",
       "0     1.11 ...      18  0.113329  0.058269  11.90699  10.70401  8.301521   1   \n",
       "1     0.89 ...      18  0.058269 -0.094311  11.90699  10.70401  8.301521   1   \n",
       "2     0.94 ...      12  0.058269 -0.094311  12.03884  10.62532  9.341369   1   \n",
       "3     1.05 ...      10  0.113329  0.019803  12.05292  10.82707  9.029418   1   \n",
       "4     1.01 ...      10  0.113329       NaN  12.42561  11.18840  6.579251   1   \n",
       "\n",
       "   BK  KFC  RR  \n",
       "0   0    0   1  \n",
       "1   1    0   0  \n",
       "2   1    0   0  \n",
       "3   0    0   1  \n",
       "4   1    0   0  \n",
       "\n",
       "[5 rows x 37 columns]"
      ]
     },
     "execution_count": 74,
     "metadata": {},
     "output_type": "execute_result"
    }
   ],
   "source": [
    "bk_psoda_mean = fast_food[fast_food['BK'] == 1]['psoda'].mean()\n",
    "rr_psoda_mean = fast_food[fast_food['RR'] == 1]['psoda'].mean()\n",
    "\n",
    "fast_food.loc[fast_food['psoda'].isnull() & fast_food['BK'] == 1, ['psoda']] = bk_psoda_mean\n",
    "fast_food.loc[fast_food['psoda'].isnull() & fast_food['RR'] == 1, ['psoda']] = rr_psoda_mean\n",
    "\n",
    "fast_food.head()"
   ]
  },
  {
   "cell_type": "markdown",
   "metadata": {},
   "source": [
    "#### 3. In one graph, plot the distribution of 'psoda' for each chain (4 histograms in one graph) add different colors per histogram, label each histogram, locate the legend on the 'upper left' side of your chart. Are there any similarities or differences in their distributions?\n",
    "\n"
   ]
  },
  {
   "cell_type": "code",
   "execution_count": 77,
   "metadata": {
    "collapsed": false
   },
   "outputs": [
    {
     "data": {
      "image/png": "[encoded data removed]",
      "text/plain": [
       "<matplotlib.figure.Figure at 0x11a175bd0>"
      ]
     },
     "metadata": {
      "image/png": {
       "height": 370,
       "width": 597
      }
     },
     "output_type": "display_data"
    }
   ],
   "source": [
    "fig = plt.figure(figsize=(10,6))\n",
    "fast_food[fast_food['chain']==1]['psoda'].hist(color='r', label='Price of Soda, BK')\n",
    "fast_food[fast_food['chain']==2]['psoda'].hist(color='g', label='Price of Soda, KFC')\n",
    "fast_food[fast_food['chain']==3]['psoda'].hist(color='y', label='Price of Soda, Roy Rogers')\n",
    "fast_food[fast_food['chain']==4]['psoda'].hist(color='b', label= \"Price of Soda, Wendy's\")\n",
    "\n",
    "plt.legend(loc='upper left')\n",
    "plt.show()"
   ]
  },
  {
   "cell_type": "markdown",
   "metadata": {},
   "source": [
    "#### 4. The variable income has one missing value. First, identify to what state \"NJ=1 or PA=2\" this missing value belongs to. Then drop the \"row \" that corresponds to this missing value fast_food.drop(\"row_number\", axis=0)"
   ]
  },
  {
   "cell_type": "code",
   "execution_count": 79,
   "metadata": {
    "collapsed": false
   },
   "outputs": [],
   "source": [
    "## Corresponds to PA=2\n",
    "fast_food.loc[fast_food['income'].isnull()]\n",
    "fast_food = fast_food.drop(384, axis=0)"
   ]
  },
  {
   "cell_type": "markdown",
   "metadata": {},
   "source": [
    "#### 5. Graph the distribution of psoda for the entire dataset and include a line for the average in your graph."
   ]
  },
  {
   "cell_type": "code",
   "execution_count": 80,
   "metadata": {
    "collapsed": false
   },
   "outputs": [
    {
     "data": {
      "text/plain": [
       "<matplotlib.lines.Line2D at 0x119ec0390>"
      ]
     },
     "execution_count": 80,
     "metadata": {},
     "output_type": "execute_result"
    },
    {
     "data": {
      "image/png": "[encoded data removed]",
      "text/plain": [
       "<matplotlib.figure.Figure at 0x11a166810>"
      ]
     },
     "metadata": {
      "image/png": {
       "height": 370,
       "width": 603
      }
     },
     "output_type": "display_data"
    }
   ],
   "source": [
    "fig = plt.figure(figsize=(10,6))\n",
    "result = plt.hist(fast_food['psoda'], bins=20, color='r')\n",
    "plt.axvline(fast_food['psoda'].mean(), color='b', linestyle='dotted', linewidth=5)"
   ]
  },
  {
   "cell_type": "markdown",
   "metadata": {},
   "source": [
    "#### 6. Find the average values of _prpblck_ and _income_ in the sample, along with their standard deviations. Can you infer the units of measurement of these two variables (Get used to do this, these are your baseline values)"
   ]
  },
  {
   "cell_type": "code",
   "execution_count": 83,
   "metadata": {
    "collapsed": false
   },
   "outputs": [
    {
     "name": "stdout",
     "output_type": "stream",
     "text": [
      "          prpblck         income\n",
      "count  409.000000     409.000000\n",
      "mean     0.113486   47053.784841\n",
      "std      0.182416   13179.286069\n",
      "min      0.000000   15919.000000\n",
      "25%      0.011649   37883.000000\n",
      "50%      0.041444   46272.000000\n",
      "75%      0.121059   54981.000000\n",
      "max      0.981658  136529.000000\n"
     ]
    }
   ],
   "source": [
    "print fast_food[['prpblck', 'income']].describe()"
   ]
  },
  {
   "cell_type": "markdown",
   "metadata": {},
   "source": [
    "### Linear Regressions"
   ]
  },
  {
   "cell_type": "markdown",
   "metadata": {},
   "source": [
    "#### 7.  Consider a model to explain the price of soda _psoda_, in terms of the proportion of the African American population and the median income\n",
    "    \n",
    "    psoda = β0 + β1prpblck + β2income + e\n"
   ]
  },
  {
   "cell_type": "code",
   "execution_count": 86,
   "metadata": {
    "collapsed": false
   },
   "outputs": [
    {
     "name": "stdout",
     "output_type": "stream",
     "text": [
      "(409,)\n",
      "(409, 2)\n"
     ]
    }
   ],
   "source": [
    "# Define your linear model \n",
    "lm = linear_model.LinearRegression()\n",
    "\n",
    "# Define the target variable, called it y\n",
    "y = fast_food['psoda']\n",
    "\n",
    "# Define your predictors, called them X\n",
    "X = fast_food[['prpblck', 'income']]\n",
    "\n",
    "# Print the shapes of your y and X\n",
    "print y.shape\n",
    "print X.shape"
   ]
  },
  {
   "cell_type": "code",
   "execution_count": 88,
   "metadata": {
    "collapsed": false
   },
   "outputs": [
    {
     "data": {
      "text/plain": [
       "(409,)"
      ]
     },
     "execution_count": 88,
     "metadata": {},
     "output_type": "execute_result"
    }
   ],
   "source": [
    "# Fit your model\n",
    "model = lm.fit(X, y)\n",
    "\n",
    "# Predict your y, call them predictions, print the shape of predictions\n",
    "# Print the shape of predictions\n",
    "predictions = lm.predict(X)\n",
    "\n",
    "predictions.shape"
   ]
  },
  {
   "cell_type": "code",
   "execution_count": 96,
   "metadata": {
    "collapsed": false
   },
   "outputs": [
    {
     "name": "stdout",
     "output_type": "stream",
     "text": [
      "1.0454259397\n",
      "1.0454259397\n"
     ]
    }
   ],
   "source": [
    "## Is there a difference between the means for actual values (psoda) and your predictions\n",
    "print predictions.mean()\n",
    "print y.mean()"
   ]
  },
  {
   "cell_type": "code",
   "execution_count": 98,
   "metadata": {
    "collapsed": false,
    "scrolled": false
   },
   "outputs": [
    {
     "data": {
      "image/png": "[encoded data removed]",
      "text/plain": [
       "<matplotlib.figure.Figure at 0x11e62b350>"
      ]
     },
     "metadata": {
      "image/png": {
       "height": 273,
       "width": 394
      }
     },
     "output_type": "display_data"
    },
    {
     "data": {
      "text/plain": [
       "0.0072496616555812856"
      ]
     },
     "execution_count": 98,
     "metadata": {},
     "output_type": "execute_result"
    }
   ],
   "source": [
    "## Construct a scatter plot of your model. Use your predicted values as your y axis and your y values as your x axis\n",
    "## Print the Mean Square error see/read this link \n",
    "## http://mste.illinois.edu/patel/amar430/meansquare.html\n",
    "\n",
    "plt.scatter(predictions, y, s=30, c='r', marker='+', zorder=10)\n",
    "plt.xlabel(\"Actual\")\n",
    "plt.ylabel(\"Predictions\")\n",
    "plt.show()\n",
    "\n",
    "mean_squared_error(y, predictions)"
   ]
  },
  {
   "cell_type": "code",
   "execution_count": 115,
   "metadata": {
    "collapsed": false
   },
   "outputs": [
    {
     "name": "stdout",
     "output_type": "stream",
     "text": [
      "0.0633197857093\n"
     ]
    }
   ],
   "source": [
    "## What is the coefficient of determination (R^2) of the prediction. In other words,what is the accuracy of your model?\n",
    "print lm.score(X, y)"
   ]
  },
  {
   "cell_type": "code",
   "execution_count": 116,
   "metadata": {
    "collapsed": false
   },
   "outputs": [
    {
     "name": "stdout",
     "output_type": "stream",
     "text": [
      "[  1.13185366e-01   1.59318232e-06]\n"
     ]
    }
   ],
   "source": [
    "## Print the estimated coefficients of your model.\n",
    "print model.coef_"
   ]
  },
  {
   "cell_type": "code",
   "execution_count": 117,
   "metadata": {
    "collapsed": false
   },
   "outputs": [
    {
     "name": "stdout",
     "output_type": "stream",
     "text": [
      "0.957615682412\n"
     ]
    }
   ],
   "source": [
    "## What is the intercept of your model.\n",
    "print model.intercept_"
   ]
  },
  {
   "cell_type": "code",
   "execution_count": null,
   "metadata": {
    "collapsed": true
   },
   "outputs": [],
   "source": [
    "## Write your results in equation form, include the sample size and R^2\n",
    "## Interpret the coefficient on prpblck"
   ]
  },
  {
   "cell_type": "markdown",
   "metadata": {},
   "source": [
    "### 8.  Compare the estimate from question 7 with a simple regression estimate from _psoda_ on _prpblck_. Is the discrimination effect larger or smaller when you control/include income on your predictors?\n",
    "    \n",
    "    psoda = β0 + β1prpblck + e"
   ]
  },
  {
   "cell_type": "code",
   "execution_count": null,
   "metadata": {
    "collapsed": false
   },
   "outputs": [],
   "source": [
    "# Define your predictors and called them X\n",
    "\n",
    "\n",
    "# Print the shapes of your y and X\n"
   ]
  },
  {
   "cell_type": "code",
   "execution_count": null,
   "metadata": {
    "collapsed": true
   },
   "outputs": [],
   "source": [
    "# Fit your model\n"
   ]
  },
  {
   "cell_type": "code",
   "execution_count": null,
   "metadata": {
    "collapsed": false
   },
   "outputs": [],
   "source": [
    "# find the predictors and called them predictions\n",
    "# print the shape of predictions\n"
   ]
  },
  {
   "cell_type": "code",
   "execution_count": null,
   "metadata": {
    "collapsed": false
   },
   "outputs": [],
   "source": [
    "## Is there a difference between the means for actual values (psoda) and your predictions\n"
   ]
  },
  {
   "cell_type": "code",
   "execution_count": null,
   "metadata": {
    "collapsed": false
   },
   "outputs": [],
   "source": [
    "## Construct a scatter plot of your model. Use your predicted values as your y axis and your y values as your x axis\n",
    "## Print the Mean Square error \n",
    "\n"
   ]
  },
  {
   "cell_type": "code",
   "execution_count": null,
   "metadata": {
    "collapsed": false
   },
   "outputs": [],
   "source": [
    "## What is the accuracy of your model?\n"
   ]
  },
  {
   "cell_type": "code",
   "execution_count": null,
   "metadata": {
    "collapsed": false
   },
   "outputs": [],
   "source": [
    "## Print the estimated coefficients for the linear regression problem\n"
   ]
  },
  {
   "cell_type": "code",
   "execution_count": null,
   "metadata": {
    "collapsed": false
   },
   "outputs": [],
   "source": [
    "## What is the intercept of your model.\n"
   ]
  },
  {
   "cell_type": "code",
   "execution_count": null,
   "metadata": {
    "collapsed": true
   },
   "outputs": [],
   "source": [
    "## Write your results in equation form, include the sample size and R^2"
   ]
  },
  {
   "cell_type": "markdown",
   "metadata": {},
   "source": [
    "#### 9.  Now Use StatsModel and repeat questions 7 and 8\n",
    "http://statsmodels.sourceforge.net/devel/example_formulas.html\n",
    "\n",
    "##### Helpful Notes to Keep in mind:\n",
    "1. P value for a coefficient says nothing about the size of the effect that variable is having on your dependent variable - it is possible to have a highly significant result (very small P-value) for a miniscule effect.\n",
    "2. With a P value of 5% (or .05) there is only a 5% chance that results you are seeing would have come up in a \n",
    "random distribution, so you can say with a 95% probability of being correct that the variable is having some effect, assuming your model is specified correctly.\n",
    "3. In simple or multiple linear regression, the size of the coefficient for each independent variable gives you \n",
    "the size of the effect that variable is having on your dependent/target (y) variable, and the sign on the coefficient \n",
    "(positive or negative) gives you the direction of the effect. In regression with a single independent/predictor variable, the coefficient tells you how much the dependent variable is expected to increase (if the coefficient is positive) or decrease (if the coefficient is negative) when that independent variable increases by one unit. \n",
    "4. In regression with multiple independent/predictors variables, the coefficient tells you how much the dependent variable is expected to increase when that independent variable increases by one unit, \"_holding all the other independent variables constant_\". Remember to keep in mind the units which your variables are measured in."
   ]
  },
  {
   "cell_type": "code",
   "execution_count": null,
   "metadata": {
    "collapsed": false
   },
   "outputs": [],
   "source": [
    "import statsmodels.formula.api as smf\n"
   ]
  },
  {
   "cell_type": "code",
   "execution_count": null,
   "metadata": {
    "collapsed": false
   },
   "outputs": [],
   "source": []
  },
  {
   "cell_type": "markdown",
   "metadata": {},
   "source": [
    "#### 10. There is one fundamental step that I have \"purposely\" left out? Can you guess what this step is, and implement it. Use Matplotlib and Seaborn (regplot) to graph hem."
   ]
  },
  {
   "cell_type": "code",
   "execution_count": null,
   "metadata": {
    "collapsed": false
   },
   "outputs": [],
   "source": []
  },
  {
   "cell_type": "markdown",
   "metadata": {},
   "source": [
    "### Before you move to the next question, read this article \"Why I'm not a fan of R-Squared\"\n",
    "http://www.johnmyleswhite.com/notebook/2016/07/23/why-im-not-a-fan-of-r-squared/"
   ]
  },
  {
   "cell_type": "markdown",
   "metadata": {},
   "source": [
    "### Bonus\n",
    "#### 11. Report the estimates of the follwing model (use sklearn):\n",
    "    log(psoda) = β0 + β1prpblck + β2log(income) + e\n"
   ]
  },
  {
   "cell_type": "code",
   "execution_count": null,
   "metadata": {
    "collapsed": false
   },
   "outputs": [],
   "source": [
    "## If there are missing observations on any of the log variables, would you dropped them\n",
    "## from the dataset, if so how does this impact your calculations?\n",
    "## Fill the missing values of lpsoda with 0\n"
   ]
  },
  {
   "cell_type": "code",
   "execution_count": null,
   "metadata": {
    "collapsed": false
   },
   "outputs": [],
   "source": [
    "## Plot a histogram that will have 2 histograms showing the distribution of psoda and lpsoda\n",
    "## Are they the same?\n"
   ]
  },
  {
   "cell_type": "code",
   "execution_count": null,
   "metadata": {
    "collapsed": false
   },
   "outputs": [],
   "source": [
    "## Plot a histogram of the variable log of income (lincome)\n"
   ]
  },
  {
   "cell_type": "code",
   "execution_count": null,
   "metadata": {
    "collapsed": false
   },
   "outputs": [],
   "source": [
    "## Plot a histogram of the variable income \n"
   ]
  },
  {
   "cell_type": "code",
   "execution_count": null,
   "metadata": {
    "collapsed": true
   },
   "outputs": [],
   "source": [
    "## Can you explain what log is doing to the variables (income, and price of soda (psoda))"
   ]
  },
  {
   "cell_type": "code",
   "execution_count": null,
   "metadata": {
    "collapsed": false
   },
   "outputs": [],
   "source": [
    "## In one graph use seaborn regplot to graph\n",
    "## graph psoda, vs lincome\n",
    "## graph lpsoda vs income\n",
    "## graph lpsoda vs lincome\n"
   ]
  },
  {
   "cell_type": "code",
   "execution_count": null,
   "metadata": {
    "collapsed": false
   },
   "outputs": [],
   "source": [
    "## graph lpsoda vs income\n"
   ]
  },
  {
   "cell_type": "code",
   "execution_count": null,
   "metadata": {
    "collapsed": false
   },
   "outputs": [],
   "source": [
    "# graph lpsoda vs lincome\n"
   ]
  },
  {
   "cell_type": "code",
   "execution_count": null,
   "metadata": {
    "collapsed": false
   },
   "outputs": [],
   "source": [
    "# Define your linear model \n",
    "\n",
    "\n",
    "# Define the target variable, called it y\n",
    "\n",
    "\n",
    "\n",
    "# Define your predictors, called them X\n",
    "\n",
    "\n",
    "# Print the shapes of your y and X\n",
    "\n",
    "\n"
   ]
  },
  {
   "cell_type": "code",
   "execution_count": null,
   "metadata": {
    "collapsed": false
   },
   "outputs": [],
   "source": [
    "# Fit your model\n",
    "\n",
    "\n",
    "# Predict your y, call them predictions, print the shape of predictions\n",
    "# Print the shape of predictions\n"
   ]
  },
  {
   "cell_type": "code",
   "execution_count": null,
   "metadata": {
    "collapsed": false
   },
   "outputs": [],
   "source": [
    "## Graph your predicted and y values\n"
   ]
  },
  {
   "cell_type": "code",
   "execution_count": null,
   "metadata": {
    "collapsed": false
   },
   "outputs": [],
   "source": [
    "## Print the coefficients, and R2, interpret your result \n",
    "## See/read this link for interpretation of results/coeficients: \n",
    "## http://www.ats.ucla.edu/stat/mult_pkg/faq/general/log_transformed_regression.htm\n",
    "\n",
    "\n",
    "\n",
    "## Do you think that is model is more appropriate? "
   ]
  },
  {
   "cell_type": "code",
   "execution_count": null,
   "metadata": {
    "collapsed": false
   },
   "outputs": [],
   "source": [
    "## Now add the variable prppov to the regression in question 11, What happened with prpblck?\n",
    "\n",
    "# Define your linear model \n",
    "\n",
    "\n",
    "# Define the target variable, called it y\n",
    "\n",
    "\n",
    "\n",
    "# Define your predictors, called them X\n",
    "\n",
    "\n",
    "# Print the shapes of your y and X\n"
   ]
  },
  {
   "cell_type": "code",
   "execution_count": null,
   "metadata": {
    "collapsed": false
   },
   "outputs": [],
   "source": [
    "# Fit your model\n",
    "\n",
    "\n",
    "# Predict your y, call them predictions, print the shape of predictions\n",
    "# Print the shape of predictions\n",
    "\n",
    "## Print the coefficients, and R2, interpret your result\n"
   ]
  },
  {
   "cell_type": "code",
   "execution_count": null,
   "metadata": {
    "collapsed": false
   },
   "outputs": [],
   "source": [
    "## Find the correlatoion between log(income) and prpov. Is it close to what you expected?\n"
   ]
  },
  {
   "cell_type": "code",
   "execution_count": null,
   "metadata": {
    "collapsed": true
   },
   "outputs": [],
   "source": [
    "## What are your thoughts on this statement:\n",
    "## \"Because log(income) and prppov are so highky correlated, they have no business in being \n",
    "## included in the same regression\""
   ]
  },
  {
   "cell_type": "code",
   "execution_count": null,
   "metadata": {
    "collapsed": false
   },
   "outputs": [],
   "source": []
  },
  {
   "cell_type": "code",
   "execution_count": null,
   "metadata": {
    "collapsed": true
   },
   "outputs": [],
   "source": []
  }
 ],
 "metadata": {
  "anaconda-cloud": {},
  "kernelspec": {
   "display_name": "Python [Root]",
   "language": "python",
   "name": "Python [Root]"
  },
  "language_info": {
   "codemirror_mode": {
    "name": "ipython",
    "version": 2
   },
   "file_extension": ".py",
   "mimetype": "text/x-python",
   "name": "python",
   "nbconvert_exporter": "python",
   "pygments_lexer": "ipython2",
   "version": "2.7.12"
  }
 },
 "nbformat": 4,
 "nbformat_minor": 0
}
