{
 "cells": [
  {
   "cell_type": "markdown",
   "metadata": {},
   "source": [
    "# 4.2 Lab: split, apply, and combine with chipotle\n",
    "\n",
    "---\n",
    "\n",
    "In this lab you'll practice the split-apply-combine pattern common in pandas with a dataset on chipotle orders.\n",
    "\n",
    "The chipotle orders data is messy: the column with ingredients in the order is a list of lists, which will need to be dealt with. This specifically will also be practice with long and wide format data.\n",
    "\n"
   ]
  },
  {
   "cell_type": "markdown",
   "metadata": {},
   "source": [
    "---\n",
    "\n",
    "## 1. Load the data and packages\n",
    "\n",
    "\n"
   ]
  },
  {
   "cell_type": "code",
   "execution_count": 1,
   "metadata": {
    "collapsed": true
   },
   "outputs": [],
   "source": [
    "import numpy as np\n",
    "import scipy.stats as stats\n",
    "import seaborn as sns\n",
    "import matplotlib.pyplot as plt\n",
    "import pandas as pd\n",
    "\n",
    "sns.set_style('darkgrid')\n",
    "\n",
    "%config InlineBackend.figure_format = 'retina'\n",
    "%matplotlib inline"
   ]
  },
  {
   "cell_type": "code",
   "execution_count": 2,
   "metadata": {
    "collapsed": true
   },
   "outputs": [],
   "source": [
    "chip_file = '/Users/kiefer/github-repos/DSI-SF-2/datasets/chipotle_orders/chipotle.tsv'\n",
    "\n",
    "# the chipotle data is a .tsv, which means \"tab separated value\". \n",
    "# This is just like a csv but the cells are separated by tabs.\n",
    "# There is an argument in read_csv called delimiter, where you can specify\n",
    "# the string that separates the tabs:\n",
    "chip = pd.read_csv(chip_file, delimiter='\\t')"
   ]
  },
  {
   "cell_type": "code",
   "execution_count": 3,
   "metadata": {
    "collapsed": false
   },
   "outputs": [
    {
     "data": {
      "text/html": [
       "<div>\n",
       "<table border=\"1\" class=\"dataframe\">\n",
       "  <thead>\n",
       "    <tr style=\"text-align: right;\">\n",
       "      <th></th>\n",
       "      <th>order_id</th>\n",
       "      <th>quantity</th>\n",
       "      <th>item_name</th>\n",
       "      <th>choice_description</th>\n",
       "      <th>item_price</th>\n",
       "    </tr>\n",
       "  </thead>\n",
       "  <tbody>\n",
       "    <tr>\n",
       "      <th>0</th>\n",
       "      <td>1</td>\n",
       "      <td>1</td>\n",
       "      <td>Chips and Fresh Tomato Salsa</td>\n",
       "      <td>NaN</td>\n",
       "      <td>$2.39</td>\n",
       "    </tr>\n",
       "    <tr>\n",
       "      <th>1</th>\n",
       "      <td>1</td>\n",
       "      <td>1</td>\n",
       "      <td>Izze</td>\n",
       "      <td>[Clementine]</td>\n",
       "      <td>$3.39</td>\n",
       "    </tr>\n",
       "    <tr>\n",
       "      <th>2</th>\n",
       "      <td>1</td>\n",
       "      <td>1</td>\n",
       "      <td>Nantucket Nectar</td>\n",
       "      <td>[Apple]</td>\n",
       "      <td>$3.39</td>\n",
       "    </tr>\n",
       "    <tr>\n",
       "      <th>3</th>\n",
       "      <td>1</td>\n",
       "      <td>1</td>\n",
       "      <td>Chips and Tomatillo-Green Chili Salsa</td>\n",
       "      <td>NaN</td>\n",
       "      <td>$2.39</td>\n",
       "    </tr>\n",
       "    <tr>\n",
       "      <th>4</th>\n",
       "      <td>2</td>\n",
       "      <td>2</td>\n",
       "      <td>Chicken Bowl</td>\n",
       "      <td>[Tomatillo-Red Chili Salsa (Hot), [Black Beans...</td>\n",
       "      <td>$16.98</td>\n",
       "    </tr>\n",
       "  </tbody>\n",
       "</table>\n",
       "</div>"
      ],
      "text/plain": [
       "   order_id  quantity                              item_name  \\\n",
       "0         1         1           Chips and Fresh Tomato Salsa   \n",
       "1         1         1                                   Izze   \n",
       "2         1         1                       Nantucket Nectar   \n",
       "3         1         1  Chips and Tomatillo-Green Chili Salsa   \n",
       "4         2         2                           Chicken Bowl   \n",
       "\n",
       "                                  choice_description item_price  \n",
       "0                                                NaN     $2.39   \n",
       "1                                       [Clementine]     $3.39   \n",
       "2                                            [Apple]     $3.39   \n",
       "3                                                NaN     $2.39   \n",
       "4  [Tomatillo-Red Chili Salsa (Hot), [Black Beans...    $16.98   "
      ]
     },
     "execution_count": 3,
     "metadata": {},
     "output_type": "execute_result"
    }
   ],
   "source": [
    "chip.head()"
   ]
  },
  {
   "cell_type": "markdown",
   "metadata": {},
   "source": [
    "---\n",
    "\n",
    "## 2. Create a sub-id for each order-id\n",
    "\n",
    "We have an identifier for each order already in `order_id`, but no unique identifier for each _sub-order_ within the overall order.\n",
    "\n",
    "Use grouping to assign sub-ids for orders."
   ]
  },
  {
   "cell_type": "code",
   "execution_count": 4,
   "metadata": {
    "collapsed": false
   },
   "outputs": [],
   "source": [
    "def add_sub_order_id(df):\n",
    "    df['sub_order_id'] = np.arange(df.shape[0])\n",
    "    return df\n",
    "\n",
    "chip = chip.groupby('order_id').apply(add_sub_order_id)"
   ]
  },
  {
   "cell_type": "code",
   "execution_count": 5,
   "metadata": {
    "collapsed": false
   },
   "outputs": [
    {
     "data": {
      "text/html": [
       "<div>\n",
       "<table border=\"1\" class=\"dataframe\">\n",
       "  <thead>\n",
       "    <tr style=\"text-align: right;\">\n",
       "      <th></th>\n",
       "      <th>order_id</th>\n",
       "      <th>quantity</th>\n",
       "      <th>item_name</th>\n",
       "      <th>choice_description</th>\n",
       "      <th>item_price</th>\n",
       "      <th>sub_order_id</th>\n",
       "    </tr>\n",
       "  </thead>\n",
       "  <tbody>\n",
       "    <tr>\n",
       "      <th>0</th>\n",
       "      <td>1</td>\n",
       "      <td>1</td>\n",
       "      <td>Chips and Fresh Tomato Salsa</td>\n",
       "      <td>NaN</td>\n",
       "      <td>$2.39</td>\n",
       "      <td>0</td>\n",
       "    </tr>\n",
       "    <tr>\n",
       "      <th>1</th>\n",
       "      <td>1</td>\n",
       "      <td>1</td>\n",
       "      <td>Izze</td>\n",
       "      <td>[Clementine]</td>\n",
       "      <td>$3.39</td>\n",
       "      <td>1</td>\n",
       "    </tr>\n",
       "    <tr>\n",
       "      <th>2</th>\n",
       "      <td>1</td>\n",
       "      <td>1</td>\n",
       "      <td>Nantucket Nectar</td>\n",
       "      <td>[Apple]</td>\n",
       "      <td>$3.39</td>\n",
       "      <td>2</td>\n",
       "    </tr>\n",
       "    <tr>\n",
       "      <th>3</th>\n",
       "      <td>1</td>\n",
       "      <td>1</td>\n",
       "      <td>Chips and Tomatillo-Green Chili Salsa</td>\n",
       "      <td>NaN</td>\n",
       "      <td>$2.39</td>\n",
       "      <td>3</td>\n",
       "    </tr>\n",
       "    <tr>\n",
       "      <th>4</th>\n",
       "      <td>2</td>\n",
       "      <td>2</td>\n",
       "      <td>Chicken Bowl</td>\n",
       "      <td>[Tomatillo-Red Chili Salsa (Hot), [Black Beans...</td>\n",
       "      <td>$16.98</td>\n",
       "      <td>0</td>\n",
       "    </tr>\n",
       "    <tr>\n",
       "      <th>5</th>\n",
       "      <td>3</td>\n",
       "      <td>1</td>\n",
       "      <td>Chicken Bowl</td>\n",
       "      <td>[Fresh Tomato Salsa (Mild), [Rice, Cheese, Sou...</td>\n",
       "      <td>$10.98</td>\n",
       "      <td>0</td>\n",
       "    </tr>\n",
       "    <tr>\n",
       "      <th>6</th>\n",
       "      <td>3</td>\n",
       "      <td>1</td>\n",
       "      <td>Side of Chips</td>\n",
       "      <td>NaN</td>\n",
       "      <td>$1.69</td>\n",
       "      <td>1</td>\n",
       "    </tr>\n",
       "    <tr>\n",
       "      <th>7</th>\n",
       "      <td>4</td>\n",
       "      <td>1</td>\n",
       "      <td>Steak Burrito</td>\n",
       "      <td>[Tomatillo Red Chili Salsa, [Fajita Vegetables...</td>\n",
       "      <td>$11.75</td>\n",
       "      <td>0</td>\n",
       "    </tr>\n",
       "    <tr>\n",
       "      <th>8</th>\n",
       "      <td>4</td>\n",
       "      <td>1</td>\n",
       "      <td>Steak Soft Tacos</td>\n",
       "      <td>[Tomatillo Green Chili Salsa, [Pinto Beans, Ch...</td>\n",
       "      <td>$9.25</td>\n",
       "      <td>1</td>\n",
       "    </tr>\n",
       "    <tr>\n",
       "      <th>9</th>\n",
       "      <td>5</td>\n",
       "      <td>1</td>\n",
       "      <td>Steak Burrito</td>\n",
       "      <td>[Fresh Tomato Salsa, [Rice, Black Beans, Pinto...</td>\n",
       "      <td>$9.25</td>\n",
       "      <td>0</td>\n",
       "    </tr>\n",
       "  </tbody>\n",
       "</table>\n",
       "</div>"
      ],
      "text/plain": [
       "   order_id  quantity                              item_name  \\\n",
       "0         1         1           Chips and Fresh Tomato Salsa   \n",
       "1         1         1                                   Izze   \n",
       "2         1         1                       Nantucket Nectar   \n",
       "3         1         1  Chips and Tomatillo-Green Chili Salsa   \n",
       "4         2         2                           Chicken Bowl   \n",
       "5         3         1                           Chicken Bowl   \n",
       "6         3         1                          Side of Chips   \n",
       "7         4         1                          Steak Burrito   \n",
       "8         4         1                       Steak Soft Tacos   \n",
       "9         5         1                          Steak Burrito   \n",
       "\n",
       "                                  choice_description item_price  sub_order_id  \n",
       "0                                                NaN     $2.39              0  \n",
       "1                                       [Clementine]     $3.39              1  \n",
       "2                                            [Apple]     $3.39              2  \n",
       "3                                                NaN     $2.39              3  \n",
       "4  [Tomatillo-Red Chili Salsa (Hot), [Black Beans...    $16.98              0  \n",
       "5  [Fresh Tomato Salsa (Mild), [Rice, Cheese, Sou...    $10.98              0  \n",
       "6                                                NaN     $1.69              1  \n",
       "7  [Tomatillo Red Chili Salsa, [Fajita Vegetables...    $11.75              0  \n",
       "8  [Tomatillo Green Chili Salsa, [Pinto Beans, Ch...     $9.25              1  \n",
       "9  [Fresh Tomato Salsa, [Rice, Black Beans, Pinto...     $9.25              0  "
      ]
     },
     "execution_count": 5,
     "metadata": {},
     "output_type": "execute_result"
    }
   ],
   "source": [
    "chip.head(10)"
   ]
  },
  {
   "cell_type": "markdown",
   "metadata": {},
   "source": [
    "---\n",
    "\n",
    "## 3. Clean price column \n",
    "\n",
    "This is in my opinion most easily done with apply.\n",
    "\n",
    "In fact, I basically only use apply with custom functions despite groupby having some built-in functionality, because it is maximally flexible.\n",
    "\n",
    "For operating on single columns (like when cleaning), the `.map()` function is useful. It operates on every element of the series/column."
   ]
  },
  {
   "cell_type": "code",
   "execution_count": 6,
   "metadata": {
    "collapsed": false
   },
   "outputs": [
    {
     "data": {
      "text/html": [
       "<div>\n",
       "<table border=\"1\" class=\"dataframe\">\n",
       "  <thead>\n",
       "    <tr style=\"text-align: right;\">\n",
       "      <th></th>\n",
       "      <th>order_id</th>\n",
       "      <th>quantity</th>\n",
       "      <th>item_name</th>\n",
       "      <th>choice_description</th>\n",
       "      <th>item_price</th>\n",
       "      <th>sub_order_id</th>\n",
       "    </tr>\n",
       "  </thead>\n",
       "  <tbody>\n",
       "    <tr>\n",
       "      <th>0</th>\n",
       "      <td>1</td>\n",
       "      <td>1</td>\n",
       "      <td>Chips and Fresh Tomato Salsa</td>\n",
       "      <td>NaN</td>\n",
       "      <td>2.39</td>\n",
       "      <td>0</td>\n",
       "    </tr>\n",
       "    <tr>\n",
       "      <th>1</th>\n",
       "      <td>1</td>\n",
       "      <td>1</td>\n",
       "      <td>Izze</td>\n",
       "      <td>[Clementine]</td>\n",
       "      <td>3.39</td>\n",
       "      <td>1</td>\n",
       "    </tr>\n",
       "    <tr>\n",
       "      <th>2</th>\n",
       "      <td>1</td>\n",
       "      <td>1</td>\n",
       "      <td>Nantucket Nectar</td>\n",
       "      <td>[Apple]</td>\n",
       "      <td>3.39</td>\n",
       "      <td>2</td>\n",
       "    </tr>\n",
       "    <tr>\n",
       "      <th>3</th>\n",
       "      <td>1</td>\n",
       "      <td>1</td>\n",
       "      <td>Chips and Tomatillo-Green Chili Salsa</td>\n",
       "      <td>NaN</td>\n",
       "      <td>2.39</td>\n",
       "      <td>3</td>\n",
       "    </tr>\n",
       "    <tr>\n",
       "      <th>4</th>\n",
       "      <td>2</td>\n",
       "      <td>2</td>\n",
       "      <td>Chicken Bowl</td>\n",
       "      <td>[Tomatillo-Red Chili Salsa (Hot), [Black Beans...</td>\n",
       "      <td>16.98</td>\n",
       "      <td>0</td>\n",
       "    </tr>\n",
       "  </tbody>\n",
       "</table>\n",
       "</div>"
      ],
      "text/plain": [
       "   order_id  quantity                              item_name  \\\n",
       "0         1         1           Chips and Fresh Tomato Salsa   \n",
       "1         1         1                                   Izze   \n",
       "2         1         1                       Nantucket Nectar   \n",
       "3         1         1  Chips and Tomatillo-Green Chili Salsa   \n",
       "4         2         2                           Chicken Bowl   \n",
       "\n",
       "                                  choice_description  item_price  sub_order_id  \n",
       "0                                                NaN        2.39             0  \n",
       "1                                       [Clementine]        3.39             1  \n",
       "2                                            [Apple]        3.39             2  \n",
       "3                                                NaN        2.39             3  \n",
       "4  [Tomatillo-Red Chili Salsa (Hot), [Black Beans...       16.98             0  "
      ]
     },
     "execution_count": 6,
     "metadata": {},
     "output_type": "execute_result"
    }
   ],
   "source": [
    "def price_cleaner(x):\n",
    "    x = x.replace('$','')\n",
    "    try:\n",
    "        return float(x)\n",
    "    except:\n",
    "        return np.nan\n",
    "    \n",
    "chip.item_price = chip.item_price.map(price_cleaner)\n",
    "\n",
    "chip.head()"
   ]
  },
  {
   "cell_type": "markdown",
   "metadata": {},
   "source": [
    "---\n",
    "\n",
    "## 4. Make a new categorical column for broader item type\n",
    "\n",
    "You should have these types in the new column in your DataFrame:\n",
    "\n",
    "    chips\n",
    "    drink\n",
    "    burrito\n",
    "    taco\n",
    "    salad\n",
    "    \n",
    "(Put `bowl` items into `burrito` category)"
   ]
  },
  {
   "cell_type": "code",
   "execution_count": 7,
   "metadata": {
    "collapsed": false
   },
   "outputs": [
    {
     "name": "stdout",
     "output_type": "stream",
     "text": [
      "['chips' 'drink' 'burrito' 'taco' 'salad']\n",
      "burrito    2503\n",
      "chips      1084\n",
      "drink       668\n",
      "taco        345\n",
      "salad        22\n",
      "Name: broad_type, dtype: int64\n"
     ]
    }
   ],
   "source": [
    "def item_category_maker(x):\n",
    "    x = x.lower()\n",
    "    if 'chips' in x:\n",
    "        return 'chips'\n",
    "    elif ('burrito' in x) or ('bowl' in x):\n",
    "        return 'burrito'\n",
    "    elif 'taco' in x:\n",
    "        return 'taco'\n",
    "    elif 'salad' in x:\n",
    "        return 'salad'\n",
    "    else:\n",
    "        return 'drink'\n",
    "    \n",
    "chip['broad_type'] = chip.item_name.map(item_category_maker)\n",
    "print chip.broad_type.unique()\n",
    "print chip.broad_type.value_counts()"
   ]
  },
  {
   "cell_type": "code",
   "execution_count": 8,
   "metadata": {
    "collapsed": false
   },
   "outputs": [
    {
     "data": {
      "text/plain": [
       "order_id                int64\n",
       "quantity                int64\n",
       "item_name              object\n",
       "choice_description     object\n",
       "item_price            float64\n",
       "sub_order_id            int64\n",
       "broad_type             object\n",
       "dtype: object"
      ]
     },
     "execution_count": 8,
     "metadata": {},
     "output_type": "execute_result"
    }
   ],
   "source": [
    "chip.dtypes"
   ]
  },
  {
   "cell_type": "markdown",
   "metadata": {},
   "source": [
    "---\n",
    "\n",
    "## 5. Calculate the total price by `order_id` and append as column `order_total_price`\n",
    "\n",
    "I find this is easiest/clearest with a grouped apply on the price and then a merge by `order_id` with the total price.\n",
    "\n",
    "Hints:\n",
    "\n",
    "- Merging DataFrames with series doesn't work, you need to merge 2 DataFrames.\n",
    "- A series object coming out of a groupby with an apply will have the groupby as potentially hierarchical indices. Using `reset_index()` will turn these back into columns and also convert to a DataFrame, which can be used to merge on."
   ]
  },
  {
   "cell_type": "code",
   "execution_count": 9,
   "metadata": {
    "collapsed": false
   },
   "outputs": [
    {
     "name": "stdout",
     "output_type": "stream",
     "text": [
      "   order_id  order_total_price\n",
      "0         1              11.56\n",
      "1         2              16.98\n",
      "2         3              12.67\n",
      "3         4              21.00\n",
      "4         5              13.70\n",
      "5         6              17.50\n",
      "6         7              15.70\n",
      "7         8              10.88\n",
      "8         9              10.67\n",
      "9        10              13.20\n"
     ]
    }
   ],
   "source": [
    "order_prices =  chip.groupby(['order_id']).item_price.apply(np.sum).reset_index()\n",
    "order_prices.rename(columns={'item_price':'order_total_price'}, inplace=True)\n",
    "print order_prices.head(10)"
   ]
  },
  {
   "cell_type": "code",
   "execution_count": 10,
   "metadata": {
    "collapsed": false
   },
   "outputs": [
    {
     "name": "stdout",
     "output_type": "stream",
     "text": [
      "   order_id  quantity                              item_name  \\\n",
      "0         1         1           Chips and Fresh Tomato Salsa   \n",
      "1         1         1                                   Izze   \n",
      "2         1         1                       Nantucket Nectar   \n",
      "3         1         1  Chips and Tomatillo-Green Chili Salsa   \n",
      "4         2         2                           Chicken Bowl   \n",
      "\n",
      "                                  choice_description  item_price  \\\n",
      "0                                                NaN        2.39   \n",
      "1                                       [Clementine]        3.39   \n",
      "2                                            [Apple]        3.39   \n",
      "3                                                NaN        2.39   \n",
      "4  [Tomatillo-Red Chili Salsa (Hot), [Black Beans...       16.98   \n",
      "\n",
      "   sub_order_id broad_type  order_total_price  \n",
      "0             0      chips              11.56  \n",
      "1             1      drink              11.56  \n",
      "2             2      drink              11.56  \n",
      "3             3      chips              11.56  \n",
      "4             0    burrito              16.98  \n",
      "(4622, 8)\n"
     ]
    }
   ],
   "source": [
    "chip = chip.merge(order_prices, on='order_id')\n",
    "print chip.head()\n",
    "print chip.shape"
   ]
  },
  {
   "cell_type": "markdown",
   "metadata": {},
   "source": [
    "---\n",
    "\n",
    "## 6. Make an adjusted item_price column\n",
    "\n",
    "Some items have multiple orders per row, as indicated by the quantity. Adjust the price accordingly in a new column."
   ]
  },
  {
   "cell_type": "code",
   "execution_count": 11,
   "metadata": {
    "collapsed": true
   },
   "outputs": [],
   "source": [
    "chip['adj_price'] = chip.item_price/chip.quantity"
   ]
  },
  {
   "cell_type": "markdown",
   "metadata": {},
   "source": [
    "---\n",
    "\n",
    "## 7. What is the min, max, count, mean and standard deviation price per the `item_name`?\n",
    "\n",
    "Pivot table would be good for this. Remember you can pass multiple functions into the `aggfunc` argument.\n",
    "\n",
    "You'll have to calculate the count separately due to the quantity column and merge it in after!"
   ]
  },
  {
   "cell_type": "code",
   "execution_count": 12,
   "metadata": {
    "collapsed": false
   },
   "outputs": [
    {
     "name": "stdout",
     "output_type": "stream",
     "text": [
      "(50, 6)\n"
     ]
    },
    {
     "data": {
      "text/html": [
       "<div>\n",
       "<table border=\"1\" class=\"dataframe\">\n",
       "  <thead>\n",
       "    <tr style=\"text-align: right;\">\n",
       "      <th></th>\n",
       "      <th>item_name</th>\n",
       "      <th>max</th>\n",
       "      <th>min</th>\n",
       "      <th>mean</th>\n",
       "      <th>std</th>\n",
       "      <th>count</th>\n",
       "    </tr>\n",
       "  </thead>\n",
       "  <tbody>\n",
       "    <tr>\n",
       "      <th>0</th>\n",
       "      <td>6 Pack Soft Drink</td>\n",
       "      <td>6.49</td>\n",
       "      <td>6.49</td>\n",
       "      <td>6.490000</td>\n",
       "      <td>0.000000</td>\n",
       "      <td>55</td>\n",
       "    </tr>\n",
       "    <tr>\n",
       "      <th>1</th>\n",
       "      <td>Barbacoa Bowl</td>\n",
       "      <td>11.75</td>\n",
       "      <td>8.69</td>\n",
       "      <td>10.187273</td>\n",
       "      <td>1.260994</td>\n",
       "      <td>66</td>\n",
       "    </tr>\n",
       "    <tr>\n",
       "      <th>2</th>\n",
       "      <td>Barbacoa Burrito</td>\n",
       "      <td>11.75</td>\n",
       "      <td>8.69</td>\n",
       "      <td>9.832418</td>\n",
       "      <td>1.139519</td>\n",
       "      <td>91</td>\n",
       "    </tr>\n",
       "    <tr>\n",
       "      <th>3</th>\n",
       "      <td>Barbacoa Crispy Tacos</td>\n",
       "      <td>11.75</td>\n",
       "      <td>8.99</td>\n",
       "      <td>10.087273</td>\n",
       "      <td>1.270701</td>\n",
       "      <td>12</td>\n",
       "    </tr>\n",
       "    <tr>\n",
       "      <th>4</th>\n",
       "      <td>Barbacoa Salad Bowl</td>\n",
       "      <td>11.89</td>\n",
       "      <td>9.39</td>\n",
       "      <td>10.640000</td>\n",
       "      <td>1.317616</td>\n",
       "      <td>10</td>\n",
       "    </tr>\n",
       "    <tr>\n",
       "      <th>5</th>\n",
       "      <td>Barbacoa Soft Tacos</td>\n",
       "      <td>11.75</td>\n",
       "      <td>8.99</td>\n",
       "      <td>10.018400</td>\n",
       "      <td>1.191937</td>\n",
       "      <td>25</td>\n",
       "    </tr>\n",
       "    <tr>\n",
       "      <th>6</th>\n",
       "      <td>Bottled Water</td>\n",
       "      <td>1.50</td>\n",
       "      <td>1.09</td>\n",
       "      <td>1.431667</td>\n",
       "      <td>0.153272</td>\n",
       "      <td>211</td>\n",
       "    </tr>\n",
       "    <tr>\n",
       "      <th>7</th>\n",
       "      <td>Bowl</td>\n",
       "      <td>7.40</td>\n",
       "      <td>7.40</td>\n",
       "      <td>7.400000</td>\n",
       "      <td>0.000000</td>\n",
       "      <td>4</td>\n",
       "    </tr>\n",
       "    <tr>\n",
       "      <th>8</th>\n",
       "      <td>Burrito</td>\n",
       "      <td>7.40</td>\n",
       "      <td>7.40</td>\n",
       "      <td>7.400000</td>\n",
       "      <td>0.000000</td>\n",
       "      <td>6</td>\n",
       "    </tr>\n",
       "    <tr>\n",
       "      <th>9</th>\n",
       "      <td>Canned Soda</td>\n",
       "      <td>1.09</td>\n",
       "      <td>1.09</td>\n",
       "      <td>1.090000</td>\n",
       "      <td>0.000000</td>\n",
       "      <td>126</td>\n",
       "    </tr>\n",
       "  </tbody>\n",
       "</table>\n",
       "</div>"
      ],
      "text/plain": [
       "               item_name    max   min       mean       std  count\n",
       "0      6 Pack Soft Drink   6.49  6.49   6.490000  0.000000     55\n",
       "1          Barbacoa Bowl  11.75  8.69  10.187273  1.260994     66\n",
       "2       Barbacoa Burrito  11.75  8.69   9.832418  1.139519     91\n",
       "3  Barbacoa Crispy Tacos  11.75  8.99  10.087273  1.270701     12\n",
       "4    Barbacoa Salad Bowl  11.89  9.39  10.640000  1.317616     10\n",
       "5    Barbacoa Soft Tacos  11.75  8.99  10.018400  1.191937     25\n",
       "6          Bottled Water   1.50  1.09   1.431667  0.153272    211\n",
       "7                   Bowl   7.40  7.40   7.400000  0.000000      4\n",
       "8                Burrito   7.40  7.40   7.400000  0.000000      6\n",
       "9            Canned Soda   1.09  1.09   1.090000  0.000000    126"
      ]
     },
     "execution_count": 12,
     "metadata": {},
     "output_type": "execute_result"
    }
   ],
   "source": [
    "item_summary_stats = pd.pivot_table(chip, values='adj_price', columns=['item_name'],\n",
    "                                    aggfunc=[np.max, np.min, np.mean, np.std])\n",
    "\n",
    "item_summary_stats.rename(columns={'amax':'max','amin':'min'}, inplace=True)\n",
    "item_summary_stats = item_summary_stats.reset_index()\n",
    "\n",
    "item_summary_counts = pd.pivot_table(chip, values='quantity', columns=['item_name'],\n",
    "                                    aggfunc=[np.sum])\n",
    "item_summary_counts.rename(columns={'sum':'count'}, inplace=True)\n",
    "item_summary_counts = item_summary_counts.reset_index()\n",
    "\n",
    "item_summary = item_summary_stats.merge(item_summary_counts, on='item_name')\n",
    "\n",
    "print item_summary.shape\n",
    "item_summary.head(10)"
   ]
  },
  {
   "cell_type": "markdown",
   "metadata": {},
   "source": [
    "---\n",
    "\n",
    "## 8. Plot the mean price of items against the count (popularity)\n",
    "\n",
    "You have this info in your summary table from the previous question."
   ]
  },
  {
   "cell_type": "code",
   "execution_count": 13,
   "metadata": {
    "collapsed": false
   },
   "outputs": [
    {
     "data": {
      "image/png": "[encoded data removed]",
      "text/plain": [
       "<matplotlib.figure.Figure at 0x118a97b90>"
      ]
     },
     "metadata": {
      "image/png": {
       "height": 502,
       "width": 502
      }
     },
     "output_type": "display_data"
    }
   ],
   "source": [
    "grid = sns.jointplot(x='count', y='mean', data=item_summary,\n",
    "                     kind='scatter', joint_kws={'s':100, 'alpha':0.7},\n",
    "                     size=7, xlim=(0, item_summary['count'].max()+5),\n",
    "                     ylim=(0, item_summary['mean'].max()+2))\n",
    "\n",
    "grid.ax_joint.set_xlabel('Popularity (# orders)', fontsize=16)\n",
    "grid.ax_joint.set_ylabel('Mean price', fontsize=16)\n",
    "\n",
    "plt.show()"
   ]
  },
  {
   "cell_type": "markdown",
   "metadata": {},
   "source": [
    "---\n",
    "\n",
    "## 8.2 Plot the standard deviation of price of items against the count (popularity)\n"
   ]
  },
  {
   "cell_type": "code",
   "execution_count": 14,
   "metadata": {
    "collapsed": false
   },
   "outputs": [
    {
     "data": {
      "image/png": "[encoded data removed]",
      "text/plain": [
       "<matplotlib.figure.Figure at 0x1176cdf10>"
      ]
     },
     "metadata": {
      "image/png": {
       "height": 502,
       "width": 502
      }
     },
     "output_type": "display_data"
    }
   ],
   "source": [
    "grid = sns.jointplot(x='count', y='std', data=item_summary,\n",
    "                     kind='scatter', joint_kws={'s':100, 'alpha':0.7},\n",
    "                     size=7, xlim=(0, item_summary['count'].max()+5),\n",
    "                     ylim=(0, item_summary['std'].max()+2))\n",
    "\n",
    "grid.ax_joint.set_xlabel('Popularity (# orders)', fontsize=16)\n",
    "grid.ax_joint.set_ylabel('Std price', fontsize=16)\n",
    "\n",
    "plt.show()"
   ]
  },
  {
   "cell_type": "markdown",
   "metadata": {},
   "source": [
    "---\n",
    "\n",
    "## 9. Parse the `choice_description` column into two new columns: `order_customizations` and `order_customization_id`\n",
    "\n",
    "Here is what your inputs and outputs would look like for a hypotheical section of the DataFrame (I'm just showing some of the columns to give you an idea of what the output format will be):\n",
    "\n",
    "**Input:**\n",
    "\n",
    "```python\n",
    "                                  choice_description     item_name  order_id  \\\n",
    "0                                       [Clementine]          Izze         1   \n",
    "1  [Red Salsa, [Black Beans, Guacamole, Sour Cream]]  Chicken Bowl         1   \n",
    "\n",
    "   sub_order_id  \n",
    "0             1  \n",
    "1             2\n",
    "```\n",
    "\n",
    "**Output:**\n",
    "\n",
    "```python\n",
    "   order_customization_id order_customizations  \\\n",
    "0                       0           Clementine   \n",
    "1                       0            Red Salsa   \n",
    "2                       1          Black Beans   \n",
    "3                       2            Guacamole   \n",
    "4                       3           Sour Cream   \n",
    "\n",
    "                                  choice_description     item_name  order_id  \\\n",
    "0                                       [Clementine]          Izze         1   \n",
    "1  [Red Salsa, [Black Beans, Guacamole, Sour Cream]]  Chicken Bowl         1   \n",
    "2  [Red Salsa, [Black Beans, Guacamole, Sour Cream]]  Chicken Bowl         1   \n",
    "3  [Red Salsa, [Black Beans, Guacamole, Sour Cream]]  Chicken Bowl         1   \n",
    "4  [Red Salsa, [Black Beans, Guacamole, Sour Cream]]  Chicken Bowl         1   \n",
    "\n",
    "   sub_order_id  \n",
    "0             1  \n",
    "1             2  \n",
    "2             2  \n",
    "3             2  \n",
    "4             2 \n",
    "```\n",
    "\n",
    "Hints:\n",
    "\n",
    "- The way I did it was to write my own function and pass it into apply. In this case there will be one item per group, since we have to do this parsing for every row, but you may be able to get a more \"elegant\" solution with `.iterrows()` if you want to try that out.\n",
    "- Within a function that you are passing into `.apply()`, you can create a _new DataFrame and return that._ This is one of the things that makes apply so powerful, since you can essentially perform any operations you want on a subset of your original DataFrame as long as you return DataFrames/groups that can be recombined.\n",
    "\n",
    "**Note: the function may take awhile to complete. apply isn't terribly efficient, especially with complicated operations per row like this.**"
   ]
  },
  {
   "cell_type": "code",
   "execution_count": 15,
   "metadata": {
    "collapsed": false,
    "scrolled": false
   },
   "outputs": [],
   "source": [
    "def elongate_description_items(df):\n",
    "    desc = df.choice_description.iloc[0]\n",
    "    if not type(desc) == str:\n",
    "        desc = 'None'\n",
    "        desc_len = 1\n",
    "    else:\n",
    "        desc = desc.replace('[','').replace(']','')\n",
    "        desc = [item.strip() for item in desc.split(',')]\n",
    "        desc_len = len(desc)\n",
    "    \n",
    "    long_order = pd.DataFrame({\n",
    "            'order_customizations':desc,\n",
    "            'order_customization_id':np.arange(desc_len)\n",
    "        })\n",
    "    \n",
    "    for col in df.columns:\n",
    "        long_order[col] = df[col].iloc[0]\n",
    "        \n",
    "    return long_order\n",
    "\n",
    "chip_long = chip.groupby(['order_id','sub_order_id']).apply(elongate_description_items).reset_index(drop=True)"
   ]
  },
  {
   "cell_type": "code",
   "execution_count": 16,
   "metadata": {
    "collapsed": false
   },
   "outputs": [
    {
     "data": {
      "text/html": [
       "<div>\n",
       "<table border=\"1\" class=\"dataframe\">\n",
       "  <thead>\n",
       "    <tr style=\"text-align: right;\">\n",
       "      <th></th>\n",
       "      <th>order_customization_id</th>\n",
       "      <th>order_customizations</th>\n",
       "      <th>order_id</th>\n",
       "      <th>quantity</th>\n",
       "      <th>item_name</th>\n",
       "      <th>choice_description</th>\n",
       "      <th>item_price</th>\n",
       "      <th>sub_order_id</th>\n",
       "      <th>broad_type</th>\n",
       "      <th>order_total_price</th>\n",
       "      <th>adj_price</th>\n",
       "    </tr>\n",
       "  </thead>\n",
       "  <tbody>\n",
       "    <tr>\n",
       "      <th>0</th>\n",
       "      <td>0</td>\n",
       "      <td>None</td>\n",
       "      <td>1</td>\n",
       "      <td>1</td>\n",
       "      <td>Chips and Fresh Tomato Salsa</td>\n",
       "      <td>NaN</td>\n",
       "      <td>2.39</td>\n",
       "      <td>0</td>\n",
       "      <td>chips</td>\n",
       "      <td>11.56</td>\n",
       "      <td>2.39</td>\n",
       "    </tr>\n",
       "    <tr>\n",
       "      <th>1</th>\n",
       "      <td>0</td>\n",
       "      <td>Clementine</td>\n",
       "      <td>1</td>\n",
       "      <td>1</td>\n",
       "      <td>Izze</td>\n",
       "      <td>[Clementine]</td>\n",
       "      <td>3.39</td>\n",
       "      <td>1</td>\n",
       "      <td>drink</td>\n",
       "      <td>11.56</td>\n",
       "      <td>3.39</td>\n",
       "    </tr>\n",
       "    <tr>\n",
       "      <th>2</th>\n",
       "      <td>0</td>\n",
       "      <td>Apple</td>\n",
       "      <td>1</td>\n",
       "      <td>1</td>\n",
       "      <td>Nantucket Nectar</td>\n",
       "      <td>[Apple]</td>\n",
       "      <td>3.39</td>\n",
       "      <td>2</td>\n",
       "      <td>drink</td>\n",
       "      <td>11.56</td>\n",
       "      <td>3.39</td>\n",
       "    </tr>\n",
       "    <tr>\n",
       "      <th>3</th>\n",
       "      <td>0</td>\n",
       "      <td>None</td>\n",
       "      <td>1</td>\n",
       "      <td>1</td>\n",
       "      <td>Chips and Tomatillo-Green Chili Salsa</td>\n",
       "      <td>NaN</td>\n",
       "      <td>2.39</td>\n",
       "      <td>3</td>\n",
       "      <td>chips</td>\n",
       "      <td>11.56</td>\n",
       "      <td>2.39</td>\n",
       "    </tr>\n",
       "    <tr>\n",
       "      <th>4</th>\n",
       "      <td>0</td>\n",
       "      <td>Tomatillo-Red Chili Salsa (Hot)</td>\n",
       "      <td>2</td>\n",
       "      <td>2</td>\n",
       "      <td>Chicken Bowl</td>\n",
       "      <td>[Tomatillo-Red Chili Salsa (Hot), [Black Beans...</td>\n",
       "      <td>16.98</td>\n",
       "      <td>0</td>\n",
       "      <td>burrito</td>\n",
       "      <td>16.98</td>\n",
       "      <td>8.49</td>\n",
       "    </tr>\n",
       "  </tbody>\n",
       "</table>\n",
       "</div>"
      ],
      "text/plain": [
       "   order_customization_id             order_customizations  order_id  \\\n",
       "0                       0                             None         1   \n",
       "1                       0                       Clementine         1   \n",
       "2                       0                            Apple         1   \n",
       "3                       0                             None         1   \n",
       "4                       0  Tomatillo-Red Chili Salsa (Hot)         2   \n",
       "\n",
       "   quantity                              item_name  \\\n",
       "0         1           Chips and Fresh Tomato Salsa   \n",
       "1         1                                   Izze   \n",
       "2         1                       Nantucket Nectar   \n",
       "3         1  Chips and Tomatillo-Green Chili Salsa   \n",
       "4         2                           Chicken Bowl   \n",
       "\n",
       "                                  choice_description  item_price  \\\n",
       "0                                                NaN        2.39   \n",
       "1                                       [Clementine]        3.39   \n",
       "2                                            [Apple]        3.39   \n",
       "3                                                NaN        2.39   \n",
       "4  [Tomatillo-Red Chili Salsa (Hot), [Black Beans...       16.98   \n",
       "\n",
       "   sub_order_id broad_type  order_total_price  adj_price  \n",
       "0             0      chips              11.56       2.39  \n",
       "1             1      drink              11.56       3.39  \n",
       "2             2      drink              11.56       3.39  \n",
       "3             3      chips              11.56       2.39  \n",
       "4             0    burrito              16.98       8.49  "
      ]
     },
     "execution_count": 16,
     "metadata": {},
     "output_type": "execute_result"
    }
   ],
   "source": [
    "chip_long.head()"
   ]
  },
  {
   "cell_type": "markdown",
   "metadata": {},
   "source": [
    "---\n",
    "\n",
    "## 10. Calculate the std of adjusted price for broad category\n",
    "\n",
    "You can handle these with a single function if you want, or another way if you prefer.\n",
    "\n",
    "Just FYI, apply functions can have keyword arguments that you pass in when you call the apply chained to the groupby.\n",
    "\n",
    "for example:\n",
    "\n",
    "```python\n",
    "def my_applier(df, my_kwarg='placeholder'):\n",
    "    df['newcol_'+placeholder] = 1.\n",
    "    return df\n",
    "    \n",
    "data = data.groupby('variable').apply(my_applier, my_kwarg='colsuffix').reset_index(drop=True)\n",
    "```\n"
   ]
  },
  {
   "cell_type": "code",
   "execution_count": 17,
   "metadata": {
    "collapsed": true
   },
   "outputs": [],
   "source": [
    "def price_std_by_tier(df, tier_name='tier'):\n",
    "    price_std = df.adj_price.std()\n",
    "    df[tier_name+'_price_std'] = price_std\n",
    "    return df\n",
    "    "
   ]
  },
  {
   "cell_type": "code",
   "execution_count": 18,
   "metadata": {
    "collapsed": false
   },
   "outputs": [
    {
     "data": {
      "text/html": [
       "<div>\n",
       "<table border=\"1\" class=\"dataframe\">\n",
       "  <thead>\n",
       "    <tr style=\"text-align: right;\">\n",
       "      <th></th>\n",
       "      <th>broad_type</th>\n",
       "      <th>broad_price_std</th>\n",
       "    </tr>\n",
       "  </thead>\n",
       "  <tbody>\n",
       "    <tr>\n",
       "      <th>0</th>\n",
       "      <td>chips</td>\n",
       "      <td>1.048848</td>\n",
       "    </tr>\n",
       "    <tr>\n",
       "      <th>1</th>\n",
       "      <td>drink</td>\n",
       "      <td>1.486872</td>\n",
       "    </tr>\n",
       "    <tr>\n",
       "      <th>4</th>\n",
       "      <td>burrito</td>\n",
       "      <td>1.296320</td>\n",
       "    </tr>\n",
       "    <tr>\n",
       "      <th>24</th>\n",
       "      <td>taco</td>\n",
       "      <td>1.165277</td>\n",
       "    </tr>\n",
       "    <tr>\n",
       "      <th>958</th>\n",
       "      <td>salad</td>\n",
       "      <td>0.911978</td>\n",
       "    </tr>\n",
       "  </tbody>\n",
       "</table>\n",
       "</div>"
      ],
      "text/plain": [
       "    broad_type  broad_price_std\n",
       "0        chips         1.048848\n",
       "1        drink         1.486872\n",
       "4      burrito         1.296320\n",
       "24        taco         1.165277\n",
       "958      salad         0.911978"
      ]
     },
     "execution_count": 18,
     "metadata": {},
     "output_type": "execute_result"
    }
   ],
   "source": [
    "prices_by_tier = chip_long[['broad_type','adj_price']]\n",
    "\n",
    "prices_by_tier = prices_by_tier.groupby('broad_type').apply(price_std_by_tier, tier_name='broad')\n",
    "prices_by_tier.reset_index(drop=True)\n",
    "prices_by_tier = prices_by_tier[['broad_type','broad_price_std']].drop_duplicates()\n",
    "\n",
    "prices_by_tier.head()\n"
   ]
  },
  {
   "cell_type": "markdown",
   "metadata": {},
   "source": [
    "---\n",
    "\n",
    "## 11. Make a seaborn barplot of your price std by the broad type category\n",
    "\n",
    "You'll need to lengthen this out with melt to have a column containing the information on the tier and price variables."
   ]
  },
  {
   "cell_type": "code",
   "execution_count": 19,
   "metadata": {
    "collapsed": false
   },
   "outputs": [
    {
     "data": {
      "text/plain": [
       "<matplotlib.axes._subplots.AxesSubplot at 0x118b5bd90>"
      ]
     },
     "execution_count": 19,
     "metadata": {},
     "output_type": "execute_result"
    },
    {
     "data": {
      "image/png": "[encoded data removed]",
      "text/plain": [
       "<matplotlib.figure.Figure at 0x118026750>"
      ]
     },
     "metadata": {
      "image/png": {
       "height": 269,
       "width": 406
      }
     },
     "output_type": "display_data"
    }
   ],
   "source": [
    "# lifted from seaborn website\n",
    "# example:\n",
    "\n",
    "fig = plt.figure(figsize=(6,4))\n",
    "ax = fig.gca()\n",
    "\n",
    "sns.barplot(x=\"broad_price_std\", y=\"broad_type\", hue=\"broad_type\", data=prices_by_tier, \n",
    "            palette=\"PRGn\", ax=ax, orient='h')"
   ]
  },
  {
   "cell_type": "code",
   "execution_count": null,
   "metadata": {
    "collapsed": true
   },
   "outputs": [],
   "source": []
  }
 ],
 "metadata": {
  "kernelspec": {
   "display_name": "Python 2",
   "language": "python",
   "name": "python2"
  },
  "language_info": {
   "codemirror_mode": {
    "name": "ipython",
    "version": 2
   },
   "file_extension": ".py",
   "mimetype": "text/x-python",
   "name": "python",
   "nbconvert_exporter": "python",
   "pygments_lexer": "ipython2",
   "version": "2.7.12"
  }
 },
 "nbformat": 4,
 "nbformat_minor": 0
}
