{
 "cells": [
  {
   "cell_type": "markdown",
   "metadata": {
    "slideshow": {
     "slide_type": "slide"
    }
   },
   "source": [
    "<img src=\"https://ga-dash.s3.amazonaws.com/production/assets/logo-9f88ae6c9c3871690e33280fcf557f33.png\" style=\"float: left; margin: 15px;\">\n",
    "\n",
    "# Grouping with Pandas \n",
    "\n",
    "***\n",
    "\n",
    "\n",
    "\n",
    "![](http://9227-presscdn-0-11.pagely.netdna-cdn.com/wp-content/uploads/2016/05/IMG_9352-970x642.jpg)\n",
    "\n",
    "\n",
    "Week 2 | Lesson 4.1"
   ]
  },
  {
   "cell_type": "markdown",
   "metadata": {
    "slideshow": {
     "slide_type": "slide"
    }
   },
   "source": [
    "### LEARNING OBJECTIVES\n",
    "*After this lesson, you will be able to:*\n",
    "- Know what situations **grouping** is useful for\n",
    "- Explain the **`.groupby()`** feature in Pandas\n",
    "- Demonstrate aggregation /w plotting methods in Pandas"
   ]
  },
  {
   "cell_type": "markdown",
   "metadata": {
    "slideshow": {
     "slide_type": "slide"
    }
   },
   "source": [
    "### LESSON GUIDE\n",
    "| TIMING  | TYPE  | TOPIC  |\n",
    "|:-:|---|---|\n",
    "| 5 min  | [Introduction](#introduction)   |   |\n",
    "| 15 min  | [Demo /Guided Practice](#demo)  | Discuss Grouping |\n",
    "| 30 min  | [Demo /Guided Practice](#demo)  | Demonstrate .groupby |\n",
    "| 20 min  | [Demo /Guided Practice](#demo)  | Plotting with groups |\n",
    "| 60+ min  | [Independent Practice](#ind-practice)  |   |\n",
    "| 10 min  | [Conclusion](#conclusion)  |   |\n"
   ]
  },
  {
   "cell_type": "markdown",
   "metadata": {
    "slideshow": {
     "slide_type": "slide"
    }
   },
   "source": [
    "<a name=\"introduction\"></a>\n",
    "## Introduction: Grouping (5 mins)"
   ]
  },
  {
   "cell_type": "markdown",
   "metadata": {
    "slideshow": {
     "slide_type": "slide"
    }
   },
   "source": [
    "## What have you used grouping for ?"
   ]
  },
  {
   "cell_type": "markdown",
   "metadata": {
    "slideshow": {
     "slide_type": "slide"
    }
   },
   "source": [
    "## Generally:  Multi-Dimensional Data Analysis - Powerful - Underuse\n",
    "   \n",
    "   - Describe segments of your data based on unique values\n",
    "   - Helps understand hidden(latent) charactaristics of your data\n",
    "   - Apply aggregate functions to subsets, based on variable aspects of our datasets\n",
    "       - Summary statistics of subsets\n",
    "       - Discover patterns that exist in subsets\n",
    "   "
   ]
  },
  {
   "cell_type": "markdown",
   "metadata": {
    "slideshow": {
     "slide_type": "slide"
    }
   },
   "source": [
    "### How does it work?\n",
    "- Functionality draws from the Split-Apply-Combine Strategy [Hadley Wickham](https://www.jstatsoft.org/article/view/v040i01)\n",
    "   \n",
    "    \n",
    "![](https://www.safaribooksonline.com/library/view/python-data-science/9781491912126/assets/split_apply_combine.png)"
   ]
  },
  {
   "cell_type": "markdown",
   "metadata": {
    "slideshow": {
     "slide_type": "slide"
    }
   },
   "source": [
    "### Graphically \"Big Picture\"\n",
    "\n",
    "![](http://www.rasmussen.edu/images/blogs/1360270834-402_Graphs_JobOpeningsByIndustry.jpg)"
   ]
  },
  {
   "cell_type": "markdown",
   "metadata": {
    "slideshow": {
     "slide_type": "subslide"
    }
   },
   "source": [
    "### Graphically \"More Granular\"\n",
    "\n",
    "![](http://junkcharts.typepad.com/.a/6a00d8341e992c53ef0192acc65090970d-pi)"
   ]
  },
  {
   "cell_type": "markdown",
   "metadata": {
    "slideshow": {
     "slide_type": "subslide"
    }
   },
   "source": [
    "### Graphically \"More - more Granular\"\n",
    "\n",
    "_Summary grouped by question and response category_\n",
    "\n",
    "![](http://stephanieevergreen.com/wp-content/uploads/2013/08/DivergingFinal.png)\n"
   ]
  },
  {
   "cell_type": "markdown",
   "metadata": {
    "slideshow": {
     "slide_type": "subslide"
    }
   },
   "source": [
    "### Graphically \"More - more - more Granular\" \n",
    "This will make more sense later\n",
    "![](https://www.dataiku.com/static/img/learn/guide/getting-started/essential-python-packages/lmplot_titanic.png)\n"
   ]
  },
  {
   "cell_type": "markdown",
   "metadata": {
    "slideshow": {
     "slide_type": "slide"
    }
   },
   "source": [
    "## A slight side-trip with [Simpsons Paradox](http://vudlab.com/simpsons/) 5 min"
   ]
  },
  {
   "cell_type": "markdown",
   "metadata": {
    "slideshow": {
     "slide_type": "notes"
    }
   },
   "source": [
    "1. Cocentrate on the what it matters section"
   ]
  },
  {
   "cell_type": "markdown",
   "metadata": {
    "slideshow": {
     "slide_type": "slide"
    }
   },
   "source": [
    "## Specific Examples\n",
    "    \n",
    "Basic:\n",
    "- Sum of crimes given time of day in SF (morning, afternoon, night)\n",
    "- Median number of multi-unit buildings in a region\n",
    "    \n",
    "Granular:\n",
    "- Popularity of movie genres based on ticket sales, ratings, principal actor\n",
    "- Segmenting customers based on age, buying habbits, interests, behavior\n",
    "- Using the \"GROUP BY\" clause in a database query using SQL (you will learn this soon!)\n"
   ]
  },
  {
   "cell_type": "markdown",
   "metadata": {
    "slideshow": {
     "slide_type": "slide"
    }
   },
   "source": [
    "# Demo / Codealong - .groupby()\n",
    "\n",
    "First, a sample dataset to get us thinking about grouping on a small scale dataset."
   ]
  }
 ],
 "metadata": {
  "anaconda-cloud": {},
  "celltoolbar": "Slideshow",
  "kernelspec": {
   "display_name": "Python [Root]",
   "language": "python",
   "name": "Python [Root]"
  },
  "language_info": {
   "codemirror_mode": {
    "name": "ipython",
    "version": 2
   },
   "file_extension": ".py",
   "mimetype": "text/x-python",
   "name": "python",
   "nbconvert_exporter": "python",
   "pygments_lexer": "ipython2",
   "version": "2.7.12"
  }
 },
 "nbformat": 4,
 "nbformat_minor": 0
}
