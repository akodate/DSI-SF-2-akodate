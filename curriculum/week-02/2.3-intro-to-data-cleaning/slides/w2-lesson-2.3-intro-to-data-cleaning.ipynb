{
 "cells": [
  {
   "cell_type": "markdown",
   "metadata": {
    "slideshow": {
     "slide_type": "slide"
    }
   },
   "source": [
    "<img src=\"https://ga-dash.s3.amazonaws.com/production/assets/logo-9f88ae6c9c3871690e33280fcf557f33.png\" style=\"float: left; margin: 15px;\">\n",
    "\n",
    "# Intro to Data Cleaning\n",
    "\n",
    "Week 2 | Lesson 2.3\n",
    "\n",
    "<img src=\"https://snag.gy/ywU34V.jpg\" width=\"250\">"
   ]
  },
  {
   "cell_type": "markdown",
   "metadata": {
    "slideshow": {
     "slide_type": "slide"
    }
   },
   "source": [
    "### LEARNING OBJECTIVES\n",
    "*After this lesson, you will be able to:*\n",
    "- Inspect data types\n",
    "- Clean up a column using df.apply()\n",
    "- Know what situations to use .value_counts() in your code"
   ]
  },
  {
   "cell_type": "markdown",
   "metadata": {
    "slideshow": {
     "slide_type": "slide"
    }
   },
   "source": [
    "### LESSON GUIDE\n",
    "| TIMING  | TYPE  | TOPIC  |\n",
    "|:-:|---|---|\n",
    "| 5 min  | [Introduction](#introduction)   | Inpsect data types, df.apply(), .value_counts()  |\n",
    "| 20 min  | [Demo /Guided Practice](#demo)  | Inpsect data types |\n",
    "| 20 min  | [Demo /Guided Practice](#demo)  | df.apply() |\n",
    "| 20 min  | [Demo /Guided Practice](#demo)  | .value_counts() |\n",
    "| 20 min  | [Independent Practice](#ind-practice)  |   |\n",
    "| 5 min  | [Conclusion](#conclusion)  |   |"
   ]
  },
  {
   "cell_type": "markdown",
   "metadata": {
    "slideshow": {
     "slide_type": "slide"
    }
   },
   "source": [
    "<a name=\"introduction\"></a>\n",
    "## Introduction: Topic (5 mins)\n",
    "\n",
    "Since we're starting to get pretty comfortable with using pandas to do EDA, let's add a\n",
    "couple more tools to our toolbox. \n",
    "\n",
    "The main data types stored in pandas objects are **float, int, bool, datetime64, timedelta, \n",
    "category,** and **object****. \n",
    "\n",
    "df**.apply()** will apply a function along any axis of the DataFrame. We'll see it in action below. \n",
    "\n",
    "pandas.Series**.value_counts** returns _Series_ containing counts of unique values. The resulting \n",
    "Series will be in descending order so that the first element is the most frequently-occurring \n",
    "element. Excludes NA values.\n",
    "\n",
    "[Pandas: dtypes](http://pandas.pydata.org/pandas-docs/stable/pandas.pdf)\n",
    "\n",
    "[Pandas Series: value_counts](http://nullege.com/codes/search/pandas.Series.value_counts)\n"
   ]
  },
  {
   "cell_type": "markdown",
   "metadata": {
    "slideshow": {
     "slide_type": "slide"
    }
   },
   "source": [
    "### Common Operations\n",
    "\n",
    "- **float**: precision specific math operations\n",
    "- **int**: mathatical operations using whole numbers\n",
    "- **bool**: control flow conditions\n",
    "- **datetime64**: resampling, slicing/selection, frequency back/front filling, on date range\n",
    "- **timedelta**: date comparisons\n",
    "- **category**: is like a set type, allowing to capture categorical day as a set, with ordinal\n",
    "- **object**: all types can be represented as an object but math, date operations are not possible.  Limited control flow possibilities unless you are comparing strings."
   ]
  },
  {
   "cell_type": "markdown",
   "metadata": {
    "slideshow": {
     "slide_type": "slide"
    }
   },
   "source": [
    "<a name=\"Inpsect data types \"></a>\n",
    "## Demo /Guided Practice: Inspect data types  (20 mins)\n",
    "\n",
    "Let's create a small dictionary with different data types in it. \n",
    "\n",
    "> [demo code](https://github.com/generalassembly-studio/dsi-course-materials/blob/W2-L2.3/curriculum/04-lessons/week-02/2.3-lesson/code/W2%20L2.3%20Intro%20to%20Data%20Cleaning%20demo%20code.ipynb)\n",
    "can be found in the code folder and contains all the code in this lesson in a Jupyter\n",
    "notebook. Follow along or create a new notebook.\n"
   ]
  },
  {
   "cell_type": "markdown",
   "metadata": {
    "slideshow": {
     "slide_type": "slide"
    }
   },
   "source": [
    "### Import Pandas + Numpy"
   ]
  },
  {
   "cell_type": "code",
   "execution_count": 1,
   "metadata": {
    "collapsed": true
   },
   "outputs": [],
   "source": [
    "import pandas as pd\n",
    "import numpy as np"
   ]
  },
  {
   "cell_type": "markdown",
   "metadata": {
    "slideshow": {
     "slide_type": "slide"
    }
   },
   "source": [
    "### Create Test Data"
   ]
  },
  {
   "cell_type": "code",
   "execution_count": 2,
   "metadata": {
    "collapsed": true
   },
   "outputs": [],
   "source": [
    "test_data = dict( \n",
    "    A = np.random.rand(3),\n",
    "    B = 1,\n",
    "    C = 'foo',\n",
    "    D = pd.Timestamp('20010102'),\n",
    "    E = pd.Series([1.0]*3).astype('float32'),\n",
    "    F = False,\n",
    "    G = pd.Series([1]*3,dtype='int8')\n",
    ")"
   ]
  },
  {
   "cell_type": "code",
   "execution_count": 3,
   "metadata": {
    "collapsed": false,
    "slideshow": {
     "slide_type": "slide"
    }
   },
   "outputs": [
    {
     "data": {
      "text/plain": [
       "{'A': array([ 0.37155265,  0.62769686,  0.54039383]),\n",
       " 'B': 1,\n",
       " 'C': 'foo',\n",
       " 'D': Timestamp('2001-01-02 00:00:00'),\n",
       " 'E': 0    1.0\n",
       " 1    1.0\n",
       " 2    1.0\n",
       " dtype: float32,\n",
       " 'F': False,\n",
       " 'G': 0    1\n",
       " 1    1\n",
       " 2    1\n",
       " dtype: int8}"
      ]
     },
     "execution_count": 3,
     "metadata": {},
     "output_type": "execute_result"
    }
   ],
   "source": [
    "test_data"
   ]
  },
  {
   "cell_type": "markdown",
   "metadata": {
    "slideshow": {
     "slide_type": "slide"
    }
   },
   "source": [
    "### Create our DataFrame"
   ]
  },
  {
   "cell_type": "code",
   "execution_count": 13,
   "metadata": {
    "collapsed": false
   },
   "outputs": [
    {
     "data": {
      "text/html": [
       "<div>\n",
       "<table border=\"1\" class=\"dataframe\">\n",
       "  <thead>\n",
       "    <tr style=\"text-align: right;\">\n",
       "      <th></th>\n",
       "      <th>A</th>\n",
       "      <th>B</th>\n",
       "      <th>C</th>\n",
       "      <th>D</th>\n",
       "      <th>E</th>\n",
       "      <th>F</th>\n",
       "      <th>G</th>\n",
       "    </tr>\n",
       "  </thead>\n",
       "  <tbody>\n",
       "    <tr>\n",
       "      <th>0</th>\n",
       "      <td>0.612932</td>\n",
       "      <td>1</td>\n",
       "      <td>foo</td>\n",
       "      <td>2001-01-02</td>\n",
       "      <td>1.0</td>\n",
       "      <td>False</td>\n",
       "      <td>1</td>\n",
       "    </tr>\n",
       "    <tr>\n",
       "      <th>1</th>\n",
       "      <td>0.848386</td>\n",
       "      <td>1</td>\n",
       "      <td>foo</td>\n",
       "      <td>2001-01-02</td>\n",
       "      <td>1.0</td>\n",
       "      <td>False</td>\n",
       "      <td>1</td>\n",
       "    </tr>\n",
       "    <tr>\n",
       "      <th>2</th>\n",
       "      <td>0.715216</td>\n",
       "      <td>1</td>\n",
       "      <td>foo</td>\n",
       "      <td>2001-01-02</td>\n",
       "      <td>1.0</td>\n",
       "      <td>False</td>\n",
       "      <td>1</td>\n",
       "    </tr>\n",
       "  </tbody>\n",
       "</table>\n",
       "</div>"
      ],
      "text/plain": [
       "          A  B    C          D    E      F  G\n",
       "0  0.612932  1  foo 2001-01-02  1.0  False  1\n",
       "1  0.848386  1  foo 2001-01-02  1.0  False  1\n",
       "2  0.715216  1  foo 2001-01-02  1.0  False  1"
      ]
     },
     "execution_count": 13,
     "metadata": {},
     "output_type": "execute_result"
    }
   ],
   "source": [
    "dft = pd.DataFrame(test_data)\n",
    "dft"
   ]
  },
  {
   "cell_type": "code",
   "execution_count": 14,
   "metadata": {
    "collapsed": false
   },
   "outputs": [
    {
     "data": {
      "text/plain": [
       "A           float64\n",
       "B             int64\n",
       "C            object\n",
       "D    datetime64[ns]\n",
       "E           float32\n",
       "F              bool\n",
       "G              int8\n",
       "dtype: object"
      ]
     },
     "execution_count": 14,
     "metadata": {},
     "output_type": "execute_result"
    }
   ],
   "source": [
    "dft.dtypes"
   ]
  },
  {
   "cell_type": "markdown",
   "metadata": {
    "slideshow": {
     "slide_type": "slide"
    }
   },
   "source": [
    "**What might we expect dtypes in the case of mixed type values in a single dimension?**\n",
    "\n",
    "ie:  [2, 3, 4, 5, 6, 7, 8.9]"
   ]
  },
  {
   "cell_type": "markdown",
   "metadata": {
    "slideshow": {
     "slide_type": "fragment"
    }
   },
   "source": [
    "If a pandas object contains data multiple dtypes IN A SINGLE COLUMN, the dtype of the column will be chosen to accommodate all of the data types (object is the most general)."
   ]
  },
  {
   "cell_type": "markdown",
   "metadata": {
    "slideshow": {
     "slide_type": "slide"
    }
   },
   "source": [
    "### Ints are cast to floats"
   ]
  },
  {
   "cell_type": "code",
   "execution_count": 18,
   "metadata": {
    "collapsed": false
   },
   "outputs": [
    {
     "data": {
      "text/plain": [
       "0    1.0\n",
       "1    2.0\n",
       "2    3.0\n",
       "3    4.0\n",
       "4    5.0\n",
       "5    6.0\n",
       "dtype: float64"
      ]
     },
     "execution_count": 18,
     "metadata": {},
     "output_type": "execute_result"
    }
   ],
   "source": [
    "pd.Series([1, 2, 3, 4, 5, 6.])"
   ]
  },
  {
   "cell_type": "markdown",
   "metadata": {
    "slideshow": {
     "slide_type": "slide"
    }
   },
   "source": [
    "### String elements are cast to ``object`` dtype"
   ]
  },
  {
   "cell_type": "code",
   "execution_count": 56,
   "metadata": {
    "collapsed": false,
    "scrolled": true
   },
   "outputs": [
    {
     "data": {
      "text/plain": [
       "0      1\n",
       "1      2\n",
       "2      3\n",
       "3    foo\n",
       "dtype: object"
      ]
     },
     "execution_count": 56,
     "metadata": {},
     "output_type": "execute_result"
    }
   ],
   "source": [
    "pd.Series([1, 2, 3, 'foo'])"
   ]
  },
  {
   "cell_type": "code",
   "execution_count": 63,
   "metadata": {
    "collapsed": false,
    "slideshow": {
     "slide_type": "slide"
    }
   },
   "outputs": [
    {
     "data": {
      "text/plain": [
       "bool              1\n",
       "datetime64[ns]    1\n",
       "float32           1\n",
       "float64           1\n",
       "int64             1\n",
       "int8              1\n",
       "object            1\n",
       "dtype: object"
      ]
     },
     "execution_count": 63,
     "metadata": {},
     "output_type": "execute_result"
    }
   ],
   "source": [
    "dft.get_dtype_counts().astype(list)"
   ]
  },
  {
   "cell_type": "markdown",
   "metadata": {
    "slideshow": {
     "slide_type": "slide"
    }
   },
   "source": [
    "### With a partner, take 3 minutes to discus:\n",
    "\n",
    "*Without* running this code with a Python interpreter, what types would you expect the common `dtype` to be selected?\n",
    "\n",
    "    [1, 3, 9, .33, False, '03-20-1978', np.arange(22)]\n",
    "\n"
   ]
  },
  {
   "cell_type": "markdown",
   "metadata": {
    "slideshow": {
     "slide_type": "slide"
    }
   },
   "source": [
    "You can do a lot more with dtypes.  Check out \n",
    "[Pandas Documentation](http://pandas.pydata.org/pandas-docs/stable/pandas.pdf)."
   ]
  },
  {
   "cell_type": "markdown",
   "metadata": {
    "slideshow": {
     "slide_type": "slide"
    }
   },
   "source": [
    "## Why do you think it might be important to know what kind of dtypes you're working with? "
   ]
  },
  {
   "cell_type": "markdown",
   "metadata": {
    "slideshow": {
     "slide_type": "slide"
    }
   },
   "source": [
    "<a name=\" df.apply()\"></a>\n",
    "## Demo /Guided Practice:  df.apply() (20 mins)\n",
    "\n",
    "Generally, df.apply(), will apply a singlular function to every cell of the dataframe you use it with.  \n",
    "\n",
    "Conversely: df.map(), is available when you only want to work with a single dimension of your dataset, ie:  df['a'].map(my_func)"
   ]
  },
  {
   "cell_type": "code",
   "execution_count": 28,
   "metadata": {
    "collapsed": false,
    "slideshow": {
     "slide_type": "slide"
    }
   },
   "outputs": [
    {
     "data": {
      "text/html": [
       "<div>\n",
       "<table border=\"1\" class=\"dataframe\">\n",
       "  <thead>\n",
       "    <tr style=\"text-align: right;\">\n",
       "      <th></th>\n",
       "      <th>a</th>\n",
       "      <th>b</th>\n",
       "      <th>c</th>\n",
       "      <th>d</th>\n",
       "    </tr>\n",
       "  </thead>\n",
       "  <tbody>\n",
       "    <tr>\n",
       "      <th>0</th>\n",
       "      <td>-1.369438</td>\n",
       "      <td>0.080447</td>\n",
       "      <td>-1.224570</td>\n",
       "      <td>0.422078</td>\n",
       "    </tr>\n",
       "    <tr>\n",
       "      <th>1</th>\n",
       "      <td>-0.765415</td>\n",
       "      <td>0.407583</td>\n",
       "      <td>0.385544</td>\n",
       "      <td>0.834827</td>\n",
       "    </tr>\n",
       "    <tr>\n",
       "      <th>2</th>\n",
       "      <td>1.758356</td>\n",
       "      <td>0.449190</td>\n",
       "      <td>-1.435722</td>\n",
       "      <td>-0.234399</td>\n",
       "    </tr>\n",
       "    <tr>\n",
       "      <th>3</th>\n",
       "      <td>1.172705</td>\n",
       "      <td>-1.596128</td>\n",
       "      <td>-0.821374</td>\n",
       "      <td>0.892523</td>\n",
       "    </tr>\n",
       "    <tr>\n",
       "      <th>4</th>\n",
       "      <td>0.026303</td>\n",
       "      <td>-0.749009</td>\n",
       "      <td>-0.940387</td>\n",
       "      <td>0.117611</td>\n",
       "    </tr>\n",
       "  </tbody>\n",
       "</table>\n",
       "</div>"
      ],
      "text/plain": [
       "          a         b         c         d\n",
       "0 -1.369438  0.080447 -1.224570  0.422078\n",
       "1 -0.765415  0.407583  0.385544  0.834827\n",
       "2  1.758356  0.449190 -1.435722 -0.234399\n",
       "3  1.172705 -1.596128 -0.821374  0.892523\n",
       "4  0.026303 -0.749009 -0.940387  0.117611"
      ]
     },
     "execution_count": 28,
     "metadata": {},
     "output_type": "execute_result"
    }
   ],
   "source": [
    "# Create some more test data\n",
    "df = pd.DataFrame(np.random.randn(5, 4), columns=['a', 'b', 'c', 'd'])\n",
    "df"
   ]
  },
  {
   "cell_type": "markdown",
   "metadata": {
    "slideshow": {
     "slide_type": "slide"
    }
   },
   "source": [
    "### Some Examples"
   ]
  },
  {
   "cell_type": "code",
   "execution_count": 30,
   "metadata": {
    "collapsed": false
   },
   "outputs": [
    {
     "data": {
      "text/html": [
       "<div>\n",
       "<table border=\"1\" class=\"dataframe\">\n",
       "  <thead>\n",
       "    <tr style=\"text-align: right;\">\n",
       "      <th></th>\n",
       "      <th>a</th>\n",
       "      <th>b</th>\n",
       "      <th>c</th>\n",
       "      <th>d</th>\n",
       "    </tr>\n",
       "  </thead>\n",
       "  <tbody>\n",
       "    <tr>\n",
       "      <th>0</th>\n",
       "      <td>NaN</td>\n",
       "      <td>0.283631</td>\n",
       "      <td>NaN</td>\n",
       "      <td>0.649675</td>\n",
       "    </tr>\n",
       "    <tr>\n",
       "      <th>1</th>\n",
       "      <td>NaN</td>\n",
       "      <td>0.638422</td>\n",
       "      <td>0.620922</td>\n",
       "      <td>0.913689</td>\n",
       "    </tr>\n",
       "    <tr>\n",
       "      <th>2</th>\n",
       "      <td>1.326030</td>\n",
       "      <td>0.670216</td>\n",
       "      <td>NaN</td>\n",
       "      <td>NaN</td>\n",
       "    </tr>\n",
       "    <tr>\n",
       "      <th>3</th>\n",
       "      <td>1.082915</td>\n",
       "      <td>NaN</td>\n",
       "      <td>NaN</td>\n",
       "      <td>0.944734</td>\n",
       "    </tr>\n",
       "    <tr>\n",
       "      <th>4</th>\n",
       "      <td>0.162181</td>\n",
       "      <td>NaN</td>\n",
       "      <td>NaN</td>\n",
       "      <td>0.342944</td>\n",
       "    </tr>\n",
       "  </tbody>\n",
       "</table>\n",
       "</div>"
      ],
      "text/plain": [
       "          a         b         c         d\n",
       "0       NaN  0.283631       NaN  0.649675\n",
       "1       NaN  0.638422  0.620922  0.913689\n",
       "2  1.326030  0.670216       NaN       NaN\n",
       "3  1.082915       NaN       NaN  0.944734\n",
       "4  0.162181       NaN       NaN  0.342944"
      ]
     },
     "execution_count": 30,
     "metadata": {},
     "output_type": "execute_result"
    }
   ],
   "source": [
    "# square root ALL CELLS (NaN == Not a Number)\n",
    "df.apply(np.sqrt)"
   ]
  },
  {
   "cell_type": "markdown",
   "metadata": {
    "slideshow": {
     "slide_type": "notes"
    }
   },
   "source": [
    "_Note: Illustrate with whiteboard DataFrame, with blank axis labels._"
   ]
  },
  {
   "cell_type": "markdown",
   "metadata": {
    "slideshow": {
     "slide_type": "slide"
    }
   },
   "source": [
    "### Apply method to only one axis, 0 (columns)\n",
    "ie:  `df['a'] == [-1.369438  , -0.76541512,  1.75835588,  1.17270527,  0.02630271]`"
   ]
  },
  {
   "cell_type": "code",
   "execution_count": 31,
   "metadata": {
    "collapsed": false,
    "slideshow": {
     "slide_type": "slide"
    }
   },
   "outputs": [
    {
     "data": {
      "text/plain": [
       "a    0.164502\n",
       "b   -0.281584\n",
       "c   -0.807302\n",
       "d    0.406528\n",
       "dtype: float64"
      ]
     },
     "execution_count": 31,
     "metadata": {},
     "output_type": "execute_result"
    }
   ],
   "source": [
    "df.apply(np.mean, axis=0)"
   ]
  },
  {
   "cell_type": "markdown",
   "metadata": {
    "slideshow": {
     "slide_type": "slide"
    }
   },
   "source": [
    "### Apply method to only axis 1 (rows)\n",
    "This is what the data slice would look like if we were to select only rows.  Here is the slice of the first row that would be affected with axis #1 with .apply():\n",
    "\n",
    "`df.iloc[0].values == [-1.369438  ,  0.0804468 , -1.22457047,  0.42207757]`\n",
    "\n",
    "_We are calculating the mean of lists of \"rows\", not \"columns\"._"
   ]
  },
  {
   "cell_type": "code",
   "execution_count": 32,
   "metadata": {
    "collapsed": false,
    "slideshow": {
     "slide_type": "fragment"
    }
   },
   "outputs": [
    {
     "data": {
      "text/plain": [
       "0   -0.522871\n",
       "1    0.215635\n",
       "2    0.134356\n",
       "3   -0.088068\n",
       "4   -0.386371\n",
       "dtype: float64"
      ]
     },
     "execution_count": 32,
     "metadata": {},
     "output_type": "execute_result"
    }
   ],
   "source": [
    "df.apply(np.mean, axis=1)"
   ]
  },
  {
   "cell_type": "markdown",
   "metadata": {
    "slideshow": {
     "slide_type": "slide"
    }
   },
   "source": [
    "### Further Reading\n",
    "\n",
    "For more advanced `.apply` usage, check out these links:\n",
    "\n",
    "[\"Why Not\"'s Gist Examples](https://gist.github.com/why-not/4582705)\n",
    "\n",
    "[Chris Albon's Map + Apply Examples](http://chrisalbon.com/python/pandas_apply_operations_to_dataframes.html)\n"
   ]
  },
  {
   "cell_type": "markdown",
   "metadata": {
    "slideshow": {
     "slide_type": "slide"
    }
   },
   "source": [
    "### **Check:** How would find the std of the columns and rows? "
   ]
  },
  {
   "cell_type": "markdown",
   "metadata": {
    "slideshow": {
     "slide_type": "slide"
    }
   },
   "source": [
    "<a name=\".value_counts()\"></a>\n",
    "## Demo /Guided Practice: .value_counts() (< 20 mins)\n",
    "\n",
    "Why is this important?  Basically, this tells us the count of unique values that exist.  It's helpful to identify anything unexpected.  Looking at value_counts(), per series, can give us a quick overview of values expressed in our data.\n",
    "\n",
    " - Strings inside of mostly numeric / continious data\n",
    " - Non-numeric values\n",
    " - General counts of values that we might expect to see\n",
    " - Most common / least common values"
   ]
  },
  {
   "cell_type": "markdown",
   "metadata": {
    "slideshow": {
     "slide_type": "slide"
    }
   },
   "source": [
    "Let's create some random data"
   ]
  },
  {
   "cell_type": "code",
   "execution_count": 64,
   "metadata": {
    "collapsed": false
   },
   "outputs": [
    {
     "data": {
      "text/plain": [
       "array([0, 4, 6, 0, 0, 0, 2, 0, 3, 2, 0, 5, 0, 4, 5, 1, 4, 6, 1, 1, 2, 3, 6,\n",
       "       2, 6, 2, 2, 5, 0, 2, 4, 4, 2, 4, 6, 6, 6, 1, 0, 3, 6, 0, 6, 2, 4, 3,\n",
       "       6, 5, 1, 6])"
      ]
     },
     "execution_count": 64,
     "metadata": {},
     "output_type": "execute_result"
    }
   ],
   "source": [
    "data = np.random.randint(0, 7, size = 50)\n",
    "data"
   ]
  },
  {
   "cell_type": "code",
   "execution_count": 65,
   "metadata": {
    "collapsed": false
   },
   "outputs": [
    {
     "data": {
      "text/plain": [
       "0    0\n",
       "1    4\n",
       "2    6\n",
       "3    0\n",
       "4    0\n",
       "dtype: int64"
      ]
     },
     "execution_count": 65,
     "metadata": {},
     "output_type": "execute_result"
    }
   ],
   "source": [
    "s = pd.Series(data)\n",
    "s.head()"
   ]
  },
  {
   "cell_type": "code",
   "execution_count": 66,
   "metadata": {
    "collapsed": false,
    "slideshow": {
     "slide_type": "slide"
    }
   },
   "outputs": [
    {
     "data": {
      "text/plain": [
       "6    11\n",
       "0    10\n",
       "2     9\n",
       "4     7\n",
       "1     5\n",
       "5     4\n",
       "3     4\n",
       "dtype: int64"
      ]
     },
     "execution_count": 66,
     "metadata": {},
     "output_type": "execute_result"
    }
   ],
   "source": [
    "# The counts of each number that occurs in our array is listed\n",
    "pd.value_counts(s)"
   ]
  },
  {
   "cell_type": "markdown",
   "metadata": {
    "slideshow": {
     "slide_type": "slide"
    }
   },
   "source": [
    "<a name=\"ind-practice\"></a>\n",
    "## Independent Practice: Topic (20+ minutes)\n",
    "- Use the sales.csv data set, we've seen this a few times in previous lessons\n",
    "- Inspect the data types\n",
    "- You've found out that all your values in column 1 are off by 1. Use df.apply to add 1 to column 1 of the dataset\n",
    "- Use .value_counts to count the values of 1 column of the dataset\n",
    "\n",
    "**Bonus** \n",
    "- Add 3 to column 2\n",
    "- Use .value_counts for each column of the dataset\n",
    "\n",
    "**Bonus Bonus -- COMPLETELY OPTIONAL!!!**\n",
    "<img src=\"http://vignette3.wikia.nocookie.net/erbparodies/images/a/a3/Troll_Based_On.png/revision/latest?cb=20151109194505\" style=\"width: 100px;\">\n",
    "\n",
    "Ruining data should give you a better sense of how to clean it.  Don't feel like you need to attempt this as it's completely optional and it's meant to be _extranious_.  Real-life datasets will not be like this.  The solution isn't as important as the process and thinking behind your approach.  Another way you might want to try to do this, is map out how you would do this with pseudo code with a step-by-step plan, without actually coding anything.\n",
    "\n",
    "- Add an extra column to your dataframe that is a copy of an existing column with continious data\n",
    "    - Randomly change the value of continious data cells within it to the following:\n",
    "      - NaN\n",
    "      - A blank string\n",
    "      - A numeric string\n",
    "      - The same value\n",
    "    - Report value_counts post-\"random data troll\" processing. Does it seem random?\n",
    "    - Convert blank strings and NaN values to float(0)\n",
    "    - Convert numeric strings to floats with 2f precision\n",
    "    - Divide by 2 if cell value is prime, use remainder as value\n",
    "    - Post solution as Gist with comments to Slack"
   ]
  },
  {
   "cell_type": "markdown",
   "metadata": {
    "slideshow": {
     "slide_type": "slide"
    }
   },
   "source": [
    "<a name=\"conclusion\"></a>\n",
    "## Conclusion (5 mins)\n",
    "So far we've used pandas to look at the head and tail of a data set. We've also taken a look at summary stats and different\n",
    "types of data types. We've selected and sliced data too. Today we added inspecting data types, df.apply, .value_counts to\n",
    "our pandas arsenal. Nice!"
   ]
  }
 ],
 "metadata": {
  "celltoolbar": "Slideshow",
  "kernelspec": {
   "display_name": "Python [dsi]",
   "language": "python",
   "name": "Python [dsi]"
  },
  "language_info": {
   "codemirror_mode": {
    "name": "ipython",
    "version": 2
   },
   "file_extension": ".py",
   "mimetype": "text/x-python",
   "name": "python",
   "nbconvert_exporter": "python",
   "pygments_lexer": "ipython2",
   "version": "2.7.12"
  }
 },
 "nbformat": 4,
 "nbformat_minor": 0
}
