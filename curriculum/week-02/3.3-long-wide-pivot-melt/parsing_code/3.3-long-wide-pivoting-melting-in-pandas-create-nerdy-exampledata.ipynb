{
 "cells": [
  {
   "cell_type": "markdown",
   "metadata": {},
   "source": [
    "# Long format, wide format, pivot tables, and melting\n",
    "\n",
    "This lesson is all about data transformation in pandas. Data transformation is in essense reorganizing the rows and columns of your dataset to be a different shape and format. \n",
    "\n",
    "The benefits to transforming your data are primarily for easier access and manipulation of data, whether it be through easier masking/conditional statements or because you would prefer to operate across columns or down rows. \n",
    "\n",
    "Over time you will get a feel for which data formats are better for different tasks. This lesson, however, is focused in large part on the _functional application_ of data transformation. How do you do this to a dataset?\n",
    "\n",
    "---\n",
    "\n",
    "## 1. \"Wide\" format data\n",
    "\n",
    "**Wide** format data is, in my opinion, the more common format of data that you will start out with when you load in datasets. You are already familiar with wide format data: I believe all of the datasets we have been using thus far have been in wide format.\n",
    "\n",
    "Wide format data is formatted like so:\n",
    "\n",
    "- There are multiple ID _and_ value columns. In other words, there is a column for every \"variable\" with its own unique values.\n",
    "- The format has both the conceptual simplicity of a single column of values per variable and a more compact matrix.\n",
    "- Is not useful for SQL-style operations: it can make it much harder or even impossible to join tables together on a value.\n",
    "- Can be more useful in pandas when you need to preform operations on variables **across columns**. For example, multiplying columns together.\n",
    "- It is the most commonly the format that you will put the data in when you are ready to perform modeling (with some exceptions). When we get into modeling next week I will explain why."
   ]
  },
  {
   "cell_type": "code",
   "execution_count": 1,
   "metadata": {
    "collapsed": true
   },
   "outputs": [],
   "source": [
    "import numpy as np\n",
    "import scipy.stats as stats\n",
    "import seaborn as sns\n",
    "import matplotlib.pyplot as plt\n",
    "import pandas as pd\n",
    "\n",
    "sns.set_style('darkgrid')\n",
    "\n",
    "%config InlineBackend.figure_format = 'retina'\n",
    "%matplotlib inline"
   ]
  },
  {
   "cell_type": "markdown",
   "metadata": {},
   "source": [
    "---\n",
    "\n",
    "## 2. Load  \"Nerdy Personality Attributes\" dataset\n",
    "\n"
   ]
  },
  {
   "cell_type": "code",
   "execution_count": 2,
   "metadata": {
    "collapsed": false
   },
   "outputs": [
    {
     "name": "stdout",
     "output_type": "stream",
     "text": [
      "1420\n",
      "1392\n",
      "(1391, 79)\n"
     ]
    }
   ],
   "source": [
    "nerdy_filename = '/Users/kiefer/github-repos/DSI-SF-2/datasets/nerdy_personality_attributes/NPAS-data.csv'\n",
    "\n",
    "with open(nerdy_filename, 'r') as f:\n",
    "    lines = [x.split(',') for x in f.read().split('\\r\\n')]\n",
    "    print len(lines)\n",
    "\n",
    "lines = [row for row in lines if len(row) == len(lines[0])]\n",
    "print len(lines)\n",
    "\n",
    "header = lines[0]\n",
    "raw_dict = {\n",
    "    h:[] for h in header\n",
    "}\n",
    "\n",
    "for i, h in enumerate(header):\n",
    "    raw_dict[h] = [float(x[i]) if x[i].isdigit() else x[i] for x in lines[1:]]\n",
    "\n",
    "\n",
    "nerdy = pd.DataFrame(raw_dict)\n",
    "print nerdy.shape"
   ]
  },
  {
   "cell_type": "code",
   "execution_count": 3,
   "metadata": {
    "collapsed": false
   },
   "outputs": [],
   "source": [
    "rename_column_dict = {\n",
    "        'Q1':'interested_science',\n",
    "        'Q2':'in_advanced_classes',\n",
    "        'Q3':'playes_rpgs',\n",
    "        'Q4':'intelligence_over_appearance',\n",
    "        'Q5':'collect_books',\n",
    "        'Q6':'academic_over_social',\n",
    "        'Q7':'watch_science_shows',\n",
    "        'Q8':'like_dry_topics',\n",
    "        'Q9':'like_science_fiction',\n",
    "        'Q10':'books_over_parties',\n",
    "        'Q11':'hobbies_over_people',\n",
    "        'Q12':'libraries_over_publicspace',\n",
    "        'Q13':'bookish',\n",
    "        'Q14':'read_tech_reports',\n",
    "        'Q15':'writing_novel',\n",
    "        'Q16':'introspective',\n",
    "        'Q17':'online_over_inperson',\n",
    "        'Q18':'like_hard_material',\n",
    "        'Q19':'play_many_videogames',\n",
    "        'Q20':'was_odd_child',\n",
    "        'Q21':'prefer_fictional_people',\n",
    "        'Q22':'enjoy_learning',\n",
    "        'Q23':'excited_about_research',\n",
    "        'Q24':'strange_person',\n",
    "        'Q25':'like_superheroes',\n",
    "        'Q26':'socially_awkward',\n",
    "        'TIPI1':'extraverted',\n",
    "        'TIPI2':'critical',\n",
    "        'TIPI3':'dependable',\n",
    "        'TIPI4':'anxious',\n",
    "        'TIPI5':'opennness',\n",
    "        'TIPI6':'reserved',\n",
    "        'TIPI7':'sympathetic',\n",
    "        'TIPI8':'disorganized',\n",
    "        'TIPI9':'calm',\n",
    "        'TIPI10':'conventional',\n",
    "        'race+AF8-arab':'race_arab',\n",
    "        'race+AF8-asian':'race_asian',\n",
    "        'race+AF8-black':'race_black',\n",
    "        'race+AF8-white':'race_white',\n",
    "        'race+AF8-hispanic':'race_hispanic',\n",
    "        'race+AF8-nativeam':'race_native_american',\n",
    "        'race+AF8-nativeau':'race_native_austrailian',\n",
    "        'race+AF8-other':'race_nerdy',\n",
    "        'ASD':'diagnosed_autistic'\n",
    "    }\n",
    "\n",
    "nerdy.rename(columns=rename_column_dict, inplace=True)"
   ]
  },
  {
   "cell_type": "code",
   "execution_count": 5,
   "metadata": {
    "collapsed": false
   },
   "outputs": [],
   "source": [
    "demo_cols = ['education','urban','gender','engnat','age','hand','religion',\n",
    "            'voted','married','familysize','major']\n",
    "\n",
    "column_selection = rename_column_dict.values() + demo_cols\n",
    "nerdy = nerdy[column_selection]\n",
    "nerdy['subject_id'] = range(nerdy.shape[0])"
   ]
  },
  {
   "cell_type": "code",
   "execution_count": 7,
   "metadata": {
    "collapsed": false
   },
   "outputs": [],
   "source": [
    "nerdy.to_csv('/Users/kiefer/github-repos/DSI-SF-2/datasets/nerdy_personality_attributes/NPAS_parsed_trunc.csv',\n",
    "             index=False)\n",
    "nerdy[demo_cols+['subject_id']].to_csv('/Users/kiefer/github-repos/DSI-SF-2/datasets/nerdy_personality_attributes/NPAS_parsed_trunc_demos.csv',\n",
    "                                       index=False)\n",
    "nerdy[[x for x in nerdy.columns if x not in demo_cols]].to_csv('/Users/kiefer/github-repos/DSI-SF-2/datasets/nerdy_personality_attributes/NPAS_parsed_trunc_survey.csv',\n",
    "                                                               index=False)"
   ]
  },
  {
   "cell_type": "code",
   "execution_count": 8,
   "metadata": {
    "collapsed": false
   },
   "outputs": [
    {
     "name": "stdout",
     "output_type": "stream",
     "text": [
      "(1391, 12)\n",
      "(1391, 46)\n"
     ]
    }
   ],
   "source": [
    "nerdy_demo = nerdy[demo_cols+['subject_id']]\n",
    "nerdy_survey = nerdy[[x for x in nerdy.columns if x not in demo_cols]]\n",
    "print nerdy_demo.shape\n",
    "print nerdy_survey.shape"
   ]
  },
  {
   "cell_type": "code",
   "execution_count": 9,
   "metadata": {
    "collapsed": false
   },
   "outputs": [
    {
     "data": {
      "text/html": [
       "<div>\n",
       "<table border=\"1\" class=\"dataframe\">\n",
       "  <thead>\n",
       "    <tr style=\"text-align: right;\">\n",
       "      <th></th>\n",
       "      <th>education</th>\n",
       "      <th>urban</th>\n",
       "      <th>gender</th>\n",
       "      <th>engnat</th>\n",
       "      <th>age</th>\n",
       "      <th>hand</th>\n",
       "      <th>religion</th>\n",
       "      <th>voted</th>\n",
       "      <th>married</th>\n",
       "      <th>familysize</th>\n",
       "      <th>major</th>\n",
       "      <th>subject_id</th>\n",
       "    </tr>\n",
       "  </thead>\n",
       "  <tbody>\n",
       "    <tr>\n",
       "      <th>0</th>\n",
       "      <td>3.0</td>\n",
       "      <td>2.0</td>\n",
       "      <td>2.0</td>\n",
       "      <td>1.0</td>\n",
       "      <td>69.0</td>\n",
       "      <td>1.0</td>\n",
       "      <td>6.0</td>\n",
       "      <td>1.0</td>\n",
       "      <td>3.0</td>\n",
       "      <td>4.0</td>\n",
       "      <td>Studio Art</td>\n",
       "      <td>0</td>\n",
       "    </tr>\n",
       "    <tr>\n",
       "      <th>1</th>\n",
       "      <td>4.0</td>\n",
       "      <td>2.0</td>\n",
       "      <td>2.0</td>\n",
       "      <td>1.0</td>\n",
       "      <td>50.0</td>\n",
       "      <td>1.0</td>\n",
       "      <td>1.0</td>\n",
       "      <td>1.0</td>\n",
       "      <td>1.0</td>\n",
       "      <td>3.0</td>\n",
       "      <td>biophysics</td>\n",
       "      <td>1</td>\n",
       "    </tr>\n",
       "    <tr>\n",
       "      <th>2</th>\n",
       "      <td>3.0</td>\n",
       "      <td>1.0</td>\n",
       "      <td>2.0</td>\n",
       "      <td>2.0</td>\n",
       "      <td>22.0</td>\n",
       "      <td>1.0</td>\n",
       "      <td>1.0</td>\n",
       "      <td>1.0</td>\n",
       "      <td>1.0</td>\n",
       "      <td>2.0</td>\n",
       "      <td>biology</td>\n",
       "      <td>2</td>\n",
       "    </tr>\n",
       "    <tr>\n",
       "      <th>3</th>\n",
       "      <td>4.0</td>\n",
       "      <td>3.0</td>\n",
       "      <td>1.0</td>\n",
       "      <td>1.0</td>\n",
       "      <td>44.0</td>\n",
       "      <td>1.0</td>\n",
       "      <td>2.0</td>\n",
       "      <td>2.0</td>\n",
       "      <td>3.0</td>\n",
       "      <td>4.0</td>\n",
       "      <td>Mathematics</td>\n",
       "      <td>3</td>\n",
       "    </tr>\n",
       "    <tr>\n",
       "      <th>4</th>\n",
       "      <td>1.0</td>\n",
       "      <td>1.0</td>\n",
       "      <td>2.0</td>\n",
       "      <td>1.0</td>\n",
       "      <td>17.0</td>\n",
       "      <td>1.0</td>\n",
       "      <td>7.0</td>\n",
       "      <td>2.0</td>\n",
       "      <td>1.0</td>\n",
       "      <td>1.0</td>\n",
       "      <td></td>\n",
       "      <td>4</td>\n",
       "    </tr>\n",
       "  </tbody>\n",
       "</table>\n",
       "</div>"
      ],
      "text/plain": [
       "   education  urban  gender  engnat   age  hand  religion  voted  married  \\\n",
       "0        3.0    2.0     2.0     1.0  69.0   1.0       6.0    1.0      3.0   \n",
       "1        4.0    2.0     2.0     1.0  50.0   1.0       1.0    1.0      1.0   \n",
       "2        3.0    1.0     2.0     2.0  22.0   1.0       1.0    1.0      1.0   \n",
       "3        4.0    3.0     1.0     1.0  44.0   1.0       2.0    2.0      3.0   \n",
       "4        1.0    1.0     2.0     1.0  17.0   1.0       7.0    2.0      1.0   \n",
       "\n",
       "   familysize        major  subject_id  \n",
       "0         4.0   Studio Art           0  \n",
       "1         3.0   biophysics           1  \n",
       "2         2.0      biology           2  \n",
       "3         4.0  Mathematics           3  \n",
       "4         1.0                        4  "
      ]
     },
     "execution_count": 9,
     "metadata": {},
     "output_type": "execute_result"
    }
   ],
   "source": [
    "nerdy_demo.head()"
   ]
  },
  {
   "cell_type": "code",
   "execution_count": 10,
   "metadata": {
    "collapsed": false
   },
   "outputs": [
    {
     "data": {
      "text/html": [
       "<div>\n",
       "<table border=\"1\" class=\"dataframe\">\n",
       "  <thead>\n",
       "    <tr style=\"text-align: right;\">\n",
       "      <th></th>\n",
       "      <th>race_white</th>\n",
       "      <th>race_nerdy</th>\n",
       "      <th>race_native_american</th>\n",
       "      <th>writing_novel</th>\n",
       "      <th>read_tech_reports</th>\n",
       "      <th>online_over_inperson</th>\n",
       "      <th>introspective</th>\n",
       "      <th>hobbies_over_people</th>\n",
       "      <th>books_over_parties</th>\n",
       "      <th>bookish</th>\n",
       "      <th>...</th>\n",
       "      <th>reserved</th>\n",
       "      <th>conventional</th>\n",
       "      <th>was_odd_child</th>\n",
       "      <th>prefer_fictional_people</th>\n",
       "      <th>enjoy_learning</th>\n",
       "      <th>excited_about_research</th>\n",
       "      <th>strange_person</th>\n",
       "      <th>like_superheroes</th>\n",
       "      <th>socially_awkward</th>\n",
       "      <th>subject_id</th>\n",
       "    </tr>\n",
       "  </thead>\n",
       "  <tbody>\n",
       "    <tr>\n",
       "      <th>0</th>\n",
       "      <td>1.0</td>\n",
       "      <td>0.0</td>\n",
       "      <td>0.0</td>\n",
       "      <td>3.0</td>\n",
       "      <td>5.0</td>\n",
       "      <td>4.0</td>\n",
       "      <td>5.0</td>\n",
       "      <td>4.0</td>\n",
       "      <td>5.0</td>\n",
       "      <td>5.0</td>\n",
       "      <td>...</td>\n",
       "      <td>7.0</td>\n",
       "      <td>1.0</td>\n",
       "      <td>5.0</td>\n",
       "      <td>5.0</td>\n",
       "      <td>5.0</td>\n",
       "      <td>5.0</td>\n",
       "      <td>5.0</td>\n",
       "      <td>5.0</td>\n",
       "      <td>5.0</td>\n",
       "      <td>0</td>\n",
       "    </tr>\n",
       "    <tr>\n",
       "      <th>1</th>\n",
       "      <td>1.0</td>\n",
       "      <td>0.0</td>\n",
       "      <td>0.0</td>\n",
       "      <td>1.0</td>\n",
       "      <td>4.0</td>\n",
       "      <td>3.0</td>\n",
       "      <td>3.0</td>\n",
       "      <td>1.0</td>\n",
       "      <td>4.0</td>\n",
       "      <td>4.0</td>\n",
       "      <td>...</td>\n",
       "      <td>5.0</td>\n",
       "      <td>1.0</td>\n",
       "      <td>3.0</td>\n",
       "      <td>3.0</td>\n",
       "      <td>3.0</td>\n",
       "      <td>4.0</td>\n",
       "      <td>4.0</td>\n",
       "      <td>4.0</td>\n",
       "      <td>5.0</td>\n",
       "      <td>1</td>\n",
       "    </tr>\n",
       "    <tr>\n",
       "      <th>2</th>\n",
       "      <td>1.0</td>\n",
       "      <td>0.0</td>\n",
       "      <td>0.0</td>\n",
       "      <td>4.0</td>\n",
       "      <td>5.0</td>\n",
       "      <td>5.0</td>\n",
       "      <td>5.0</td>\n",
       "      <td>5.0</td>\n",
       "      <td>5.0</td>\n",
       "      <td>5.0</td>\n",
       "      <td>...</td>\n",
       "      <td>7.0</td>\n",
       "      <td>1.0</td>\n",
       "      <td>5.0</td>\n",
       "      <td>5.0</td>\n",
       "      <td>5.0</td>\n",
       "      <td>5.0</td>\n",
       "      <td>5.0</td>\n",
       "      <td>3.0</td>\n",
       "      <td>5.0</td>\n",
       "      <td>2</td>\n",
       "    </tr>\n",
       "    <tr>\n",
       "      <th>3</th>\n",
       "      <td>1.0</td>\n",
       "      <td>0.0</td>\n",
       "      <td>0.0</td>\n",
       "      <td>4.0</td>\n",
       "      <td>4.0</td>\n",
       "      <td>5.0</td>\n",
       "      <td>2.0</td>\n",
       "      <td>5.0</td>\n",
       "      <td>5.0</td>\n",
       "      <td>4.0</td>\n",
       "      <td>...</td>\n",
       "      <td>2.0</td>\n",
       "      <td>1.0</td>\n",
       "      <td>5.0</td>\n",
       "      <td>4.0</td>\n",
       "      <td>1.0</td>\n",
       "      <td>5.0</td>\n",
       "      <td>5.0</td>\n",
       "      <td>5.0</td>\n",
       "      <td>5.0</td>\n",
       "      <td>3</td>\n",
       "    </tr>\n",
       "    <tr>\n",
       "      <th>4</th>\n",
       "      <td>1.0</td>\n",
       "      <td>0.0</td>\n",
       "      <td>0.0</td>\n",
       "      <td>1.0</td>\n",
       "      <td>5.0</td>\n",
       "      <td>5.0</td>\n",
       "      <td>1.0</td>\n",
       "      <td>4.0</td>\n",
       "      <td>5.0</td>\n",
       "      <td>5.0</td>\n",
       "      <td>...</td>\n",
       "      <td>6.0</td>\n",
       "      <td>2.0</td>\n",
       "      <td>5.0</td>\n",
       "      <td>5.0</td>\n",
       "      <td>4.0</td>\n",
       "      <td>4.0</td>\n",
       "      <td>5.0</td>\n",
       "      <td>4.0</td>\n",
       "      <td>0.0</td>\n",
       "      <td>4</td>\n",
       "    </tr>\n",
       "  </tbody>\n",
       "</table>\n",
       "<p>5 rows × 46 columns</p>\n",
       "</div>"
      ],
      "text/plain": [
       "   race_white  race_nerdy  race_native_american  writing_novel  \\\n",
       "0         1.0         0.0                   0.0            3.0   \n",
       "1         1.0         0.0                   0.0            1.0   \n",
       "2         1.0         0.0                   0.0            4.0   \n",
       "3         1.0         0.0                   0.0            4.0   \n",
       "4         1.0         0.0                   0.0            1.0   \n",
       "\n",
       "   read_tech_reports  online_over_inperson  introspective  \\\n",
       "0                5.0                   4.0            5.0   \n",
       "1                4.0                   3.0            3.0   \n",
       "2                5.0                   5.0            5.0   \n",
       "3                4.0                   5.0            2.0   \n",
       "4                5.0                   5.0            1.0   \n",
       "\n",
       "   hobbies_over_people  books_over_parties  bookish     ...      reserved  \\\n",
       "0                  4.0                 5.0      5.0     ...           7.0   \n",
       "1                  1.0                 4.0      4.0     ...           5.0   \n",
       "2                  5.0                 5.0      5.0     ...           7.0   \n",
       "3                  5.0                 5.0      4.0     ...           2.0   \n",
       "4                  4.0                 5.0      5.0     ...           6.0   \n",
       "\n",
       "   conventional  was_odd_child  prefer_fictional_people  enjoy_learning  \\\n",
       "0           1.0            5.0                      5.0             5.0   \n",
       "1           1.0            3.0                      3.0             3.0   \n",
       "2           1.0            5.0                      5.0             5.0   \n",
       "3           1.0            5.0                      4.0             1.0   \n",
       "4           2.0            5.0                      5.0             4.0   \n",
       "\n",
       "   excited_about_research  strange_person  like_superheroes  socially_awkward  \\\n",
       "0                     5.0             5.0               5.0               5.0   \n",
       "1                     4.0             4.0               4.0               5.0   \n",
       "2                     5.0             5.0               3.0               5.0   \n",
       "3                     5.0             5.0               5.0               5.0   \n",
       "4                     4.0             5.0               4.0               0.0   \n",
       "\n",
       "   subject_id  \n",
       "0           0  \n",
       "1           1  \n",
       "2           2  \n",
       "3           3  \n",
       "4           4  \n",
       "\n",
       "[5 rows x 46 columns]"
      ]
     },
     "execution_count": 10,
     "metadata": {},
     "output_type": "execute_result"
    }
   ],
   "source": [
    "nerdy_survey.head()"
   ]
  },
  {
   "cell_type": "code",
   "execution_count": 11,
   "metadata": {
    "collapsed": true
   },
   "outputs": [],
   "source": [
    "subject_sample = np.random.choice(nerdy_demo.subject_id, size=700, replace=False)\n",
    "nerdy_demo_samp = nerdy_demo.loc[nerdy_demo.subject_id.isin(subject_sample), :]"
   ]
  },
  {
   "cell_type": "code",
   "execution_count": 12,
   "metadata": {
    "collapsed": true
   },
   "outputs": [],
   "source": [
    "nerdy_demo_samp.to_csv('/Users/kiefer/github-repos/DSI-SF-2/datasets/nerdy_personality_attributes/NPAS_parsed_trunc_demo_sample.csv',\n",
    "                       index=False)"
   ]
  },
  {
   "cell_type": "code",
   "execution_count": 13,
   "metadata": {
    "collapsed": false
   },
   "outputs": [
    {
     "name": "stdout",
     "output_type": "stream",
     "text": [
      "(700, 12)\n",
      "(1391, 46)\n"
     ]
    }
   ],
   "source": [
    "nerdy_demo = nerdy_demo_samp\n",
    "nerdy_survey = nerdy[[x for x in nerdy.columns if x not in demo_cols]]\n",
    "print nerdy_demo.shape\n",
    "print nerdy_survey.shape"
   ]
  },
  {
   "cell_type": "code",
   "execution_count": 15,
   "metadata": {
    "collapsed": false
   },
   "outputs": [],
   "source": [
    "nerdy_demo_long = pd.melt(nerdy_demo, id_vars=['subject_id'])"
   ]
  },
  {
   "cell_type": "code",
   "execution_count": 16,
   "metadata": {
    "collapsed": false
   },
   "outputs": [
    {
     "data": {
      "text/html": [
       "<div>\n",
       "<table border=\"1\" class=\"dataframe\">\n",
       "  <thead>\n",
       "    <tr style=\"text-align: right;\">\n",
       "      <th></th>\n",
       "      <th>subject_id</th>\n",
       "      <th>variable</th>\n",
       "      <th>value</th>\n",
       "    </tr>\n",
       "  </thead>\n",
       "  <tbody>\n",
       "    <tr>\n",
       "      <th>0</th>\n",
       "      <td>1</td>\n",
       "      <td>education</td>\n",
       "      <td>4</td>\n",
       "    </tr>\n",
       "    <tr>\n",
       "      <th>1</th>\n",
       "      <td>2</td>\n",
       "      <td>education</td>\n",
       "      <td>3</td>\n",
       "    </tr>\n",
       "    <tr>\n",
       "      <th>2</th>\n",
       "      <td>5</td>\n",
       "      <td>education</td>\n",
       "      <td>2</td>\n",
       "    </tr>\n",
       "    <tr>\n",
       "      <th>3</th>\n",
       "      <td>6</td>\n",
       "      <td>education</td>\n",
       "      <td>2</td>\n",
       "    </tr>\n",
       "    <tr>\n",
       "      <th>4</th>\n",
       "      <td>7</td>\n",
       "      <td>education</td>\n",
       "      <td>2</td>\n",
       "    </tr>\n",
       "  </tbody>\n",
       "</table>\n",
       "</div>"
      ],
      "text/plain": [
       "   subject_id   variable value\n",
       "0           1  education     4\n",
       "1           2  education     3\n",
       "2           5  education     2\n",
       "3           6  education     2\n",
       "4           7  education     2"
      ]
     },
     "execution_count": 16,
     "metadata": {},
     "output_type": "execute_result"
    }
   ],
   "source": [
    "nerdy_demo_long.head()"
   ]
  },
  {
   "cell_type": "code",
   "execution_count": 17,
   "metadata": {
    "collapsed": true
   },
   "outputs": [],
   "source": [
    "nerdy_survey_long = pd.melt(nerdy_survey, id_vars=['subject_id'])"
   ]
  },
  {
   "cell_type": "code",
   "execution_count": 21,
   "metadata": {
    "collapsed": true
   },
   "outputs": [],
   "source": [
    "nerdy_long = pd.concat([nerdy_demo_long, nerdy_survey_long])\n",
    "nerdy_long.to_csv('/Users/kiefer/github-repos/DSI-SF-2/datasets/nerdy_personality_attributes/NPAS_parsed_trunc_long_missing.csv',\n",
    "                  index=False)"
   ]
  },
  {
   "cell_type": "code",
   "execution_count": 19,
   "metadata": {
    "collapsed": false
   },
   "outputs": [
    {
     "data": {
      "text/plain": [
       "(70295, 3)"
      ]
     },
     "execution_count": 19,
     "metadata": {},
     "output_type": "execute_result"
    }
   ],
   "source": [
    "nerdy_long.shape"
   ]
  },
  {
   "cell_type": "code",
   "execution_count": 20,
   "metadata": {
    "collapsed": false
   },
   "outputs": [
    {
     "data": {
      "text/plain": [
       "(7700, 3)"
      ]
     },
     "execution_count": 20,
     "metadata": {},
     "output_type": "execute_result"
    }
   ],
   "source": [
    "nerdy_demo_long.shape"
   ]
  },
  {
   "cell_type": "code",
   "execution_count": null,
   "metadata": {
    "collapsed": true
   },
   "outputs": [],
   "source": [
    "nerdy_demo_long."
   ]
  }
 ],
 "metadata": {
  "anaconda-cloud": {},
  "kernelspec": {
   "display_name": "Python [dsi]",
   "language": "python",
   "name": "Python [dsi]"
  },
  "language_info": {
   "codemirror_mode": {
    "name": "ipython",
    "version": 2
   },
   "file_extension": ".py",
   "mimetype": "text/x-python",
   "name": "python",
   "nbconvert_exporter": "python",
   "pygments_lexer": "ipython2",
   "version": "2.7.12"
  }
 },
 "nbformat": 4,
 "nbformat_minor": 0
}
