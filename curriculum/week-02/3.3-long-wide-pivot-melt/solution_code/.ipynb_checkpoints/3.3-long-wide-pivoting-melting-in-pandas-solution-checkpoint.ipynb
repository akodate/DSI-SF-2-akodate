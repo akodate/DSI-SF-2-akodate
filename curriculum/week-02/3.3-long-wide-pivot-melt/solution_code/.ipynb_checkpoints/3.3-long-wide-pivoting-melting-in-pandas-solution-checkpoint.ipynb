{
 "cells": [
  {
   "cell_type": "markdown",
   "metadata": {},
   "source": [
    "# Long format, wide format, pivot tables, and melting\n",
    "\n",
    "This lesson is all about data transformation in pandas. Data transformation is in essense reorganizing the rows and columns of your dataset to be a different shape and format. \n",
    "\n",
    "The benefits to transforming your data are primarily for easier access and manipulation of data, whether it be through easier masking/conditional statements or because you would prefer to operate across columns or down rows. \n",
    "\n",
    "Over time you will get a feel for which data formats are better for different tasks. This lesson, however, is focused in large part on the _functional application_ of data transformation. How do you do this to a dataset?\n",
    "\n",
    "---"
   ]
  },
  {
   "cell_type": "code",
   "execution_count": 1,
   "metadata": {
    "collapsed": true
   },
   "outputs": [],
   "source": [
    "import numpy as np\n",
    "import scipy.stats as stats\n",
    "import seaborn as sns\n",
    "import matplotlib.pyplot as plt\n",
    "import pandas as pd\n",
    "\n",
    "sns.set_style('darkgrid')\n",
    "\n",
    "%config InlineBackend.figure_format = 'retina'\n",
    "%matplotlib inline"
   ]
  },
  {
   "cell_type": "markdown",
   "metadata": {},
   "source": [
    "---\n",
    "\n",
    "## 1. \"Wide\" format data\n",
    "\n",
    "**Wide** format data is the more common format of data for .csv type files. You are already familiar with wide format data: I believe all of the datasets we have been using thus far have been in wide format.\n",
    "\n",
    "Wide format data is formatted with criteria:\n",
    "\n",
    "- There are multiple ID _and_ value columns. In other words, there is a column for every \"variable\" with its own unique values.\n",
    "- The format has both the conceptual simplicity of a single column of values per variable and a more compact matrix.\n",
    "- Is not useful for SQL-style operations: it can make it much harder or even impossible to join tables together on a value.\n",
    "- Can be more useful in pandas when you need to preform operations on variables **across columns**. For example, multiplying columns together.\n",
    "- It is the most commonly the format that you will put the data in when you are ready to perform modeling (with some exceptions). When we get into modeling next week I will explain why."
   ]
  },
  {
   "cell_type": "markdown",
   "metadata": {},
   "source": [
    "---\n",
    "\n",
    "## 2. Load  \"Nerdy Personality Attributes\" dataset\n",
    "\n",
    "This is a parsed and modified version of the full \"Nerdy Personality Attributes\" survey that asked subjects to self-rate on questions related to \"nerdiness\" as well as more general personality traits such as openness and extraversion. Demographic information on the subjects was also collected.\n",
    "\n",
    "In this modified version, for the sake of example, some of the subjects have only data for the survey and not the demographic variables. Because there are missing values and the data in general is \"messy\", this is also in part a data cleaning problem.\n",
    "\n",
    "We will load the data in wide format first:\n"
   ]
  },
  {
   "cell_type": "code",
   "execution_count": 2,
   "metadata": {
    "collapsed": false
   },
   "outputs": [
    {
     "name": "stdout",
     "output_type": "stream",
     "text": [
      "(1391, 57)\n"
     ]
    }
   ],
   "source": [
    "nerdy_wide_f = '~/github-repos/DSI-SF-2/datasets/nerdy_personality_attributes/NPAS_parsed_trunc_wide_missing.csv'\n",
    "\n",
    "nerdy_wide = pd.read_csv(nerdy_wide_f)\n",
    "print nerdy_wide.shape"
   ]
  },
  {
   "cell_type": "markdown",
   "metadata": {},
   "source": [
    "The dataset is in the familiar (rows, columns) format where each column is a variable, each row contains the observation for that variable for (in this case) that distinct subject."
   ]
  },
  {
   "cell_type": "code",
   "execution_count": 3,
   "metadata": {
    "collapsed": false
   },
   "outputs": [
    {
     "data": {
      "text/html": [
       "<div>\n",
       "<table border=\"1\" class=\"dataframe\">\n",
       "  <thead>\n",
       "    <tr style=\"text-align: right;\">\n",
       "      <th></th>\n",
       "      <th>subject_id</th>\n",
       "      <th>academic_over_social</th>\n",
       "      <th>age</th>\n",
       "      <th>anxious</th>\n",
       "      <th>bookish</th>\n",
       "      <th>books_over_parties</th>\n",
       "      <th>calm</th>\n",
       "      <th>collect_books</th>\n",
       "      <th>conventional</th>\n",
       "      <th>critical</th>\n",
       "      <th>...</th>\n",
       "      <th>religion</th>\n",
       "      <th>reserved</th>\n",
       "      <th>socially_awkward</th>\n",
       "      <th>strange_person</th>\n",
       "      <th>sympathetic</th>\n",
       "      <th>urban</th>\n",
       "      <th>voted</th>\n",
       "      <th>was_odd_child</th>\n",
       "      <th>watch_science_shows</th>\n",
       "      <th>writing_novel</th>\n",
       "    </tr>\n",
       "  </thead>\n",
       "  <tbody>\n",
       "    <tr>\n",
       "      <th>0</th>\n",
       "      <td>0</td>\n",
       "      <td>5.0</td>\n",
       "      <td>NaN</td>\n",
       "      <td>1.0</td>\n",
       "      <td>5.0</td>\n",
       "      <td>5.0</td>\n",
       "      <td>7.0</td>\n",
       "      <td>5.0</td>\n",
       "      <td>1.0</td>\n",
       "      <td>1.0</td>\n",
       "      <td>...</td>\n",
       "      <td>NaN</td>\n",
       "      <td>7.0</td>\n",
       "      <td>5.0</td>\n",
       "      <td>5.0</td>\n",
       "      <td>7.0</td>\n",
       "      <td>NaN</td>\n",
       "      <td>NaN</td>\n",
       "      <td>5.0</td>\n",
       "      <td>5.0</td>\n",
       "      <td>3.0</td>\n",
       "    </tr>\n",
       "    <tr>\n",
       "      <th>1</th>\n",
       "      <td>1</td>\n",
       "      <td>2.0</td>\n",
       "      <td>50.0</td>\n",
       "      <td>4.0</td>\n",
       "      <td>4.0</td>\n",
       "      <td>4.0</td>\n",
       "      <td>6.0</td>\n",
       "      <td>5.0</td>\n",
       "      <td>1.0</td>\n",
       "      <td>3.0</td>\n",
       "      <td>...</td>\n",
       "      <td>1.0</td>\n",
       "      <td>5.0</td>\n",
       "      <td>5.0</td>\n",
       "      <td>4.0</td>\n",
       "      <td>5.0</td>\n",
       "      <td>2.0</td>\n",
       "      <td>1.0</td>\n",
       "      <td>3.0</td>\n",
       "      <td>5.0</td>\n",
       "      <td>1.0</td>\n",
       "    </tr>\n",
       "    <tr>\n",
       "      <th>2</th>\n",
       "      <td>2</td>\n",
       "      <td>5.0</td>\n",
       "      <td>22.0</td>\n",
       "      <td>7.0</td>\n",
       "      <td>5.0</td>\n",
       "      <td>5.0</td>\n",
       "      <td>2.0</td>\n",
       "      <td>5.0</td>\n",
       "      <td>1.0</td>\n",
       "      <td>6.0</td>\n",
       "      <td>...</td>\n",
       "      <td>1.0</td>\n",
       "      <td>7.0</td>\n",
       "      <td>5.0</td>\n",
       "      <td>5.0</td>\n",
       "      <td>2.0</td>\n",
       "      <td>1.0</td>\n",
       "      <td>1.0</td>\n",
       "      <td>5.0</td>\n",
       "      <td>5.0</td>\n",
       "      <td>4.0</td>\n",
       "    </tr>\n",
       "  </tbody>\n",
       "</table>\n",
       "<p>3 rows × 57 columns</p>\n",
       "</div>"
      ],
      "text/plain": [
       "   subject_id  academic_over_social   age  anxious  bookish  \\\n",
       "0           0                   5.0   NaN      1.0      5.0   \n",
       "1           1                   2.0  50.0      4.0      4.0   \n",
       "2           2                   5.0  22.0      7.0      5.0   \n",
       "\n",
       "   books_over_parties  calm  collect_books  conventional  critical  \\\n",
       "0                 5.0   7.0            5.0           1.0       1.0   \n",
       "1                 4.0   6.0            5.0           1.0       3.0   \n",
       "2                 5.0   2.0            5.0           1.0       6.0   \n",
       "\n",
       "       ...        religion  reserved  socially_awkward  strange_person  \\\n",
       "0      ...             NaN       7.0               5.0             5.0   \n",
       "1      ...             1.0       5.0               5.0             4.0   \n",
       "2      ...             1.0       7.0               5.0             5.0   \n",
       "\n",
       "   sympathetic  urban  voted  was_odd_child  watch_science_shows  \\\n",
       "0          7.0    NaN    NaN            5.0                  5.0   \n",
       "1          5.0    2.0    1.0            3.0                  5.0   \n",
       "2          2.0    1.0    1.0            5.0                  5.0   \n",
       "\n",
       "   writing_novel  \n",
       "0            3.0  \n",
       "1            1.0  \n",
       "2            4.0  \n",
       "\n",
       "[3 rows x 57 columns]"
      ]
     },
     "execution_count": 3,
     "metadata": {},
     "output_type": "execute_result"
    }
   ],
   "source": [
    "nerdy_wide.head(3)"
   ]
  },
  {
   "cell_type": "markdown",
   "metadata": {},
   "source": [
    "We can check to see how many null values there are per column with the convenient chained function pattern below:"
   ]
  },
  {
   "cell_type": "code",
   "execution_count": 4,
   "metadata": {
    "collapsed": false
   },
   "outputs": [
    {
     "data": {
      "text/plain": [
       "subject_id                        0\n",
       "academic_over_social              0\n",
       "age                             691\n",
       "anxious                           0\n",
       "bookish                           0\n",
       "books_over_parties                0\n",
       "calm                              0\n",
       "collect_books                     0\n",
       "conventional                      0\n",
       "critical                          0\n",
       "dependable                        0\n",
       "diagnosed_autistic                0\n",
       "disorganized                      0\n",
       "education                       691\n",
       "engnat                          691\n",
       "enjoy_learning                    0\n",
       "excited_about_research            0\n",
       "extraverted                       0\n",
       "familysize                      691\n",
       "gender                          691\n",
       "hand                            691\n",
       "hobbies_over_people               0\n",
       "in_advanced_classes               0\n",
       "intelligence_over_appearance      0\n",
       "interested_science                0\n",
       "introspective                     0\n",
       "libraries_over_publicspace        0\n",
       "like_dry_topics                   0\n",
       "like_hard_material                0\n",
       "like_science_fiction              0\n",
       "like_superheroes                  0\n",
       "major                           970\n",
       "married                         691\n",
       "online_over_inperson              0\n",
       "opennness                         0\n",
       "play_many_videogames              0\n",
       "playes_rpgs                       0\n",
       "prefer_fictional_people           0\n",
       "race_arab                         0\n",
       "race_asian                        0\n",
       "race_black                        0\n",
       "race_hispanic                     0\n",
       "race_native_american              0\n",
       "race_native_austrailian           0\n",
       "race_nerdy                        0\n",
       "race_white                        0\n",
       "read_tech_reports                 0\n",
       "religion                        691\n",
       "reserved                          0\n",
       "socially_awkward                  0\n",
       "strange_person                    0\n",
       "sympathetic                       0\n",
       "urban                           691\n",
       "voted                           691\n",
       "was_odd_child                     0\n",
       "watch_science_shows               0\n",
       "writing_novel                     0\n",
       "dtype: int64"
      ]
     },
     "execution_count": 4,
     "metadata": {},
     "output_type": "execute_result"
    }
   ],
   "source": [
    "nerdy_wide.isnull().sum()"
   ]
  },
  {
   "cell_type": "markdown",
   "metadata": {},
   "source": [
    "The 691 missing demographic variables are intentional (I specifically set it up so only 700 of the subjects have demographic information).\n",
    "\n",
    "However, we can see that the `major` variable has 970 missing values. This is not intentional by me.\n",
    "\n",
    "If we were to just drop all the rows that have any null values at this point, we would lose 970 rows due to the commonly missing variable `major`.\n",
    "\n",
    "With a numeric column, this would be hard to avoid without \"imputing\" some number to fill in the values. In the simplest case imputing the mean or median for missing numeric values is used (but not very good).\n",
    "\n",
    "With a **categorical variable**, which `major` is, we have a luxury of replacing the missing values with another category. In this case, I will replace the values with \"unknown\"."
   ]
  },
  {
   "cell_type": "code",
   "execution_count": 5,
   "metadata": {
    "collapsed": false
   },
   "outputs": [
    {
     "name": "stdout",
     "output_type": "stream",
     "text": [
      "0\n"
     ]
    }
   ],
   "source": [
    "nerdy_wide.loc[nerdy_wide.major.isnull(), :] = 'unknown'\n",
    "print nerdy_wide.major.isnull().sum()"
   ]
  },
  {
   "cell_type": "markdown",
   "metadata": {},
   "source": [
    "## 3. \"Long\" format\n",
    "\n",
    "Now we can load the same data in but in what's commonly referred to as \"long format\". \n",
    "\n",
    "Long data is formatted with criteria:\n",
    "\n",
    "- Potentially multiple \"id\" (identification) columns.\n",
    "- Variable:value column pairs that match a variable key to a value (in the simple case, a single variable column and a single value column).\n",
    "- The \"variable\" column corresponds to the multiple variable columns in your wide format data. Now, instead of a column for each variable, you have a row for each variable:value pair, per id. \n",
    "- This is a standard format in SQL databases because it is appropriate for joining different tables together by keys."
   ]
  },
  {
   "cell_type": "code",
   "execution_count": 6,
   "metadata": {
    "collapsed": false
   },
   "outputs": [
    {
     "name": "stdout",
     "output_type": "stream",
     "text": [
      "(70295, 3)\n"
     ]
    }
   ],
   "source": [
    "nerdy_long_f = '~/github-repos/DSI-SF-2/datasets/nerdy_personality_attributes/NPAS_parsed_trunc_long_missing.csv'\n",
    "\n",
    "nerdy_long = pd.read_csv(nerdy_long_f)\n",
    "print nerdy_long.shape"
   ]
  },
  {
   "cell_type": "markdown",
   "metadata": {},
   "source": [
    "You can see that the long data has way more rows, but only three columns.\n",
    "\n",
    "Below you see the three columns: `subject_id`, `variable`, and `value`.\n",
    "\n",
    "**`subject_id:`**\n",
    "- This is the primary \"key\" or \"id\" column. Each subject id will have corresponding entries in the variable column, one for each row.\n",
    "\n",
    "**`variable:`**\n",
    "- This column indicates which variable the item in the value column corresponds to.\n",
    "\n",
    "**`value:`**\n",
    "\n",
    "- This contains all the values for all of the variables for all ids. Essentially, every cell in the wide dataset except the subject_id is listed in this column."
   ]
  },
  {
   "cell_type": "code",
   "execution_count": 7,
   "metadata": {
    "collapsed": false
   },
   "outputs": [
    {
     "data": {
      "text/html": [
       "<div>\n",
       "<table border=\"1\" class=\"dataframe\">\n",
       "  <thead>\n",
       "    <tr style=\"text-align: right;\">\n",
       "      <th></th>\n",
       "      <th>subject_id</th>\n",
       "      <th>variable</th>\n",
       "      <th>value</th>\n",
       "    </tr>\n",
       "  </thead>\n",
       "  <tbody>\n",
       "    <tr>\n",
       "      <th>0</th>\n",
       "      <td>1</td>\n",
       "      <td>education</td>\n",
       "      <td>4.0</td>\n",
       "    </tr>\n",
       "    <tr>\n",
       "      <th>1</th>\n",
       "      <td>2</td>\n",
       "      <td>education</td>\n",
       "      <td>3.0</td>\n",
       "    </tr>\n",
       "    <tr>\n",
       "      <th>2</th>\n",
       "      <td>5</td>\n",
       "      <td>education</td>\n",
       "      <td>2.0</td>\n",
       "    </tr>\n",
       "    <tr>\n",
       "      <th>3</th>\n",
       "      <td>6</td>\n",
       "      <td>education</td>\n",
       "      <td>2.0</td>\n",
       "    </tr>\n",
       "    <tr>\n",
       "      <th>4</th>\n",
       "      <td>7</td>\n",
       "      <td>education</td>\n",
       "      <td>2.0</td>\n",
       "    </tr>\n",
       "  </tbody>\n",
       "</table>\n",
       "</div>"
      ],
      "text/plain": [
       "   subject_id   variable value\n",
       "0           1  education   4.0\n",
       "1           2  education   3.0\n",
       "2           5  education   2.0\n",
       "3           6  education   2.0\n",
       "4           7  education   2.0"
      ]
     },
     "execution_count": 7,
     "metadata": {},
     "output_type": "execute_result"
    }
   ],
   "source": [
    "nerdy_long.head()"
   ]
  },
  {
   "cell_type": "markdown",
   "metadata": {},
   "source": [
    "You can see that the unique values in the variable column correspond to the column headers in the wide format data:"
   ]
  },
  {
   "cell_type": "code",
   "execution_count": 8,
   "metadata": {
    "collapsed": false
   },
   "outputs": [
    {
     "data": {
      "text/plain": [
       "array(['education', 'urban', 'gender', 'engnat', 'age', 'hand', 'religion',\n",
       "       'voted', 'married', 'familysize', 'major', 'race_white',\n",
       "       'race_nerdy', 'race_native_american', 'writing_novel',\n",
       "       'read_tech_reports', 'online_over_inperson', 'introspective',\n",
       "       'hobbies_over_people', 'books_over_parties', 'bookish',\n",
       "       'libraries_over_publicspace', 'race_native_austrailian',\n",
       "       'like_hard_material', 'race_hispanic', 'diagnosed_autistic',\n",
       "       'play_many_videogames', 'race_arab', 'race_asian',\n",
       "       'interested_science', 'playes_rpgs', 'in_advanced_classes',\n",
       "       'collect_books', 'intelligence_over_appearance',\n",
       "       'watch_science_shows', 'academic_over_social',\n",
       "       'like_science_fiction', 'like_dry_topics', 'race_black', 'calm',\n",
       "       'disorganized', 'extraverted', 'dependable', 'critical',\n",
       "       'opennness', 'anxious', 'sympathetic', 'reserved', 'conventional',\n",
       "       'was_odd_child', 'prefer_fictional_people', 'enjoy_learning',\n",
       "       'excited_about_research', 'strange_person', 'like_superheroes',\n",
       "       'socially_awkward'], dtype=object)"
      ]
     },
     "execution_count": 8,
     "metadata": {},
     "output_type": "execute_result"
    }
   ],
   "source": [
    "nerdy_long.variable.unique()"
   ]
  },
  {
   "cell_type": "code",
   "execution_count": 9,
   "metadata": {
    "collapsed": false
   },
   "outputs": [
    {
     "data": {
      "text/plain": [
       "1391"
      ]
     },
     "execution_count": 9,
     "metadata": {},
     "output_type": "execute_result"
    }
   ],
   "source": [
    "len(nerdy_long.subject_id.unique())"
   ]
  },
  {
   "cell_type": "markdown",
   "metadata": {},
   "source": [
    "Let's again replace the `major` variables with 'unknown', but in a way that works with long format data:"
   ]
  },
  {
   "cell_type": "code",
   "execution_count": 16,
   "metadata": {
    "collapsed": false
   },
   "outputs": [
    {
     "name": "stdout",
     "output_type": "stream",
     "text": [
      "subject_id    0\n",
      "variable      0\n",
      "value         0\n",
      "dtype: int64\n"
     ]
    }
   ],
   "source": [
    "nerdy_long.loc[nerdy_long.variable == 'major', 'value'] = 'unknown'\n",
    "print nerdy_long.loc[nerdy_long.variable == 'major', :].isnull().sum()"
   ]
  },
  {
   "cell_type": "markdown",
   "metadata": {},
   "source": [
    "## Pandas `pivot_table()`: long to wide format\n",
    "\n",
    "The `pd.pivot_table()` function is a very powerful tool to both transform data from long to wide format and also to conveniently summarize data into a matrix with arbitrary functions.\n",
    "\n",
    "First we'll look at how we transform this long format data back into the wide format data.\n",
    "\n",
    "**Parameters to note in the function:**\n",
    "\n",
    "    nerdy_long: the pivot_table() function takes a dataframe to pivot as its first argument\n",
    "    \n",
    "- **`columns`**: this is the list of columns in the wide format data to transform back to columns in wide format, with each unique value in the long format column becoming a header for the wide format   \n",
    "- **`values`**: a single column indicating the values to use when pivoting and filling in the new wide format columns\n",
    "- **`index`**: columns in the long format data that are index variables – this means that these will be left as single columns, not spread out across columns by unique value such as in the columns parameter \n",
    "- **`aggfunc`**: often pivot_table() is used to perform a summary of the data. aggfunc stands for \"aggregation function\". It is required and defaults to np.mean. You can put your own function in, which I do below.\n",
    "- **`fill_value`**: if a cell is missing for the wide format data, the value to fill in\n",
    "    \n",
    "I am putting in my own function, `select_item_or_nan()` to the `aggfunc` keyword argument. Because my `subject_id` column has a single variable value for each id, I just want the single element in the long format value cell. My data is messy and so I have to write a function to check for some places it can break. \n",
    "\n",
    "Note: `x` passed into my function is a series object (weirdly). I pull out the first element of that with the `.iloc` indexer."
   ]
  },
  {
   "cell_type": "code",
   "execution_count": 12,
   "metadata": {
    "collapsed": false
   },
   "outputs": [],
   "source": [
    "def select_item_or_nan(x):\n",
    "    x = x.iloc[0]\n",
    "    if len(x) == 0:\n",
    "        return np.nan\n",
    "    else:\n",
    "        return x\n",
    "\n",
    "nerdy_wide = pd.pivot_table(nerdy_long, columns=['variable'], values='value',\n",
    "                            index=['subject_id'], aggfunc=select_item_or_nan,\n",
    "                            fill_value=np.nan)"
   ]
  },
  {
   "cell_type": "markdown",
   "metadata": {},
   "source": [
    "### Multiindex/Hierarchical indexing pt. 1\n",
    "\n",
    "Below in the header you can see that the format of the wide data is not the same as our original loaded wide format. Pandas implements something called **Multiindexing** or **Hierarchical indexing** which allows for \"tiered\" row and column labels.\n",
    "\n",
    "Right now it is not that bad, but this can get very complicated and annoying which we will see further down in the lesson.\n",
    "\n",
    "The main difference here is that we have a `variable` name in the top left corner, which is \"labeling\" our columns (and corresponds to the name of our original column in the long format data). The row indexer has become our single key/id variable `subject_id`. The columns are what we would expect here, each one a variable like in the original wide data."
   ]
  },
  {
   "cell_type": "code",
   "execution_count": 14,
   "metadata": {
    "collapsed": false
   },
   "outputs": [
    {
     "data": {
      "text/html": [
       "<div>\n",
       "<table border=\"1\" class=\"dataframe\">\n",
       "  <thead>\n",
       "    <tr style=\"text-align: right;\">\n",
       "      <th>variable</th>\n",
       "      <th>academic_over_social</th>\n",
       "      <th>age</th>\n",
       "      <th>anxious</th>\n",
       "      <th>bookish</th>\n",
       "      <th>books_over_parties</th>\n",
       "      <th>calm</th>\n",
       "      <th>collect_books</th>\n",
       "      <th>conventional</th>\n",
       "      <th>critical</th>\n",
       "      <th>dependable</th>\n",
       "      <th>...</th>\n",
       "      <th>religion</th>\n",
       "      <th>reserved</th>\n",
       "      <th>socially_awkward</th>\n",
       "      <th>strange_person</th>\n",
       "      <th>sympathetic</th>\n",
       "      <th>urban</th>\n",
       "      <th>voted</th>\n",
       "      <th>was_odd_child</th>\n",
       "      <th>watch_science_shows</th>\n",
       "      <th>writing_novel</th>\n",
       "    </tr>\n",
       "    <tr>\n",
       "      <th>subject_id</th>\n",
       "      <th></th>\n",
       "      <th></th>\n",
       "      <th></th>\n",
       "      <th></th>\n",
       "      <th></th>\n",
       "      <th></th>\n",
       "      <th></th>\n",
       "      <th></th>\n",
       "      <th></th>\n",
       "      <th></th>\n",
       "      <th></th>\n",
       "      <th></th>\n",
       "      <th></th>\n",
       "      <th></th>\n",
       "      <th></th>\n",
       "      <th></th>\n",
       "      <th></th>\n",
       "      <th></th>\n",
       "      <th></th>\n",
       "      <th></th>\n",
       "      <th></th>\n",
       "    </tr>\n",
       "  </thead>\n",
       "  <tbody>\n",
       "    <tr>\n",
       "      <th>0</th>\n",
       "      <td>5.0</td>\n",
       "      <td>NaN</td>\n",
       "      <td>1.0</td>\n",
       "      <td>5.0</td>\n",
       "      <td>5.0</td>\n",
       "      <td>7.0</td>\n",
       "      <td>5.0</td>\n",
       "      <td>1.0</td>\n",
       "      <td>1.0</td>\n",
       "      <td>7.0</td>\n",
       "      <td>...</td>\n",
       "      <td>NaN</td>\n",
       "      <td>7.0</td>\n",
       "      <td>5.0</td>\n",
       "      <td>5.0</td>\n",
       "      <td>7.0</td>\n",
       "      <td>NaN</td>\n",
       "      <td>NaN</td>\n",
       "      <td>5.0</td>\n",
       "      <td>5.0</td>\n",
       "      <td>3.0</td>\n",
       "    </tr>\n",
       "    <tr>\n",
       "      <th>1</th>\n",
       "      <td>2.0</td>\n",
       "      <td>50.0</td>\n",
       "      <td>4.0</td>\n",
       "      <td>4.0</td>\n",
       "      <td>4.0</td>\n",
       "      <td>6.0</td>\n",
       "      <td>5.0</td>\n",
       "      <td>1.0</td>\n",
       "      <td>3.0</td>\n",
       "      <td>5.0</td>\n",
       "      <td>...</td>\n",
       "      <td>1.0</td>\n",
       "      <td>5.0</td>\n",
       "      <td>5.0</td>\n",
       "      <td>4.0</td>\n",
       "      <td>5.0</td>\n",
       "      <td>2.0</td>\n",
       "      <td>1.0</td>\n",
       "      <td>3.0</td>\n",
       "      <td>5.0</td>\n",
       "      <td>1.0</td>\n",
       "    </tr>\n",
       "    <tr>\n",
       "      <th>2</th>\n",
       "      <td>5.0</td>\n",
       "      <td>22.0</td>\n",
       "      <td>7.0</td>\n",
       "      <td>5.0</td>\n",
       "      <td>5.0</td>\n",
       "      <td>2.0</td>\n",
       "      <td>5.0</td>\n",
       "      <td>1.0</td>\n",
       "      <td>6.0</td>\n",
       "      <td>3.0</td>\n",
       "      <td>...</td>\n",
       "      <td>1.0</td>\n",
       "      <td>7.0</td>\n",
       "      <td>5.0</td>\n",
       "      <td>5.0</td>\n",
       "      <td>2.0</td>\n",
       "      <td>1.0</td>\n",
       "      <td>1.0</td>\n",
       "      <td>5.0</td>\n",
       "      <td>5.0</td>\n",
       "      <td>4.0</td>\n",
       "    </tr>\n",
       "    <tr>\n",
       "      <th>3</th>\n",
       "      <td>5.0</td>\n",
       "      <td>NaN</td>\n",
       "      <td>4.0</td>\n",
       "      <td>4.0</td>\n",
       "      <td>5.0</td>\n",
       "      <td>7.0</td>\n",
       "      <td>5.0</td>\n",
       "      <td>1.0</td>\n",
       "      <td>2.0</td>\n",
       "      <td>7.0</td>\n",
       "      <td>...</td>\n",
       "      <td>NaN</td>\n",
       "      <td>2.0</td>\n",
       "      <td>5.0</td>\n",
       "      <td>5.0</td>\n",
       "      <td>6.0</td>\n",
       "      <td>NaN</td>\n",
       "      <td>NaN</td>\n",
       "      <td>5.0</td>\n",
       "      <td>5.0</td>\n",
       "      <td>4.0</td>\n",
       "    </tr>\n",
       "    <tr>\n",
       "      <th>4</th>\n",
       "      <td>4.0</td>\n",
       "      <td>NaN</td>\n",
       "      <td>3.0</td>\n",
       "      <td>5.0</td>\n",
       "      <td>5.0</td>\n",
       "      <td>6.0</td>\n",
       "      <td>4.0</td>\n",
       "      <td>2.0</td>\n",
       "      <td>5.0</td>\n",
       "      <td>4.0</td>\n",
       "      <td>...</td>\n",
       "      <td>NaN</td>\n",
       "      <td>6.0</td>\n",
       "      <td>0.0</td>\n",
       "      <td>5.0</td>\n",
       "      <td>5.0</td>\n",
       "      <td>NaN</td>\n",
       "      <td>NaN</td>\n",
       "      <td>5.0</td>\n",
       "      <td>4.0</td>\n",
       "      <td>1.0</td>\n",
       "    </tr>\n",
       "  </tbody>\n",
       "</table>\n",
       "<p>5 rows × 56 columns</p>\n",
       "</div>"
      ],
      "text/plain": [
       "variable   academic_over_social   age anxious bookish books_over_parties calm  \\\n",
       "subject_id                                                                      \n",
       "0                           5.0   NaN     1.0     5.0                5.0  7.0   \n",
       "1                           2.0  50.0     4.0     4.0                4.0  6.0   \n",
       "2                           5.0  22.0     7.0     5.0                5.0  2.0   \n",
       "3                           5.0   NaN     4.0     4.0                5.0  7.0   \n",
       "4                           4.0   NaN     3.0     5.0                5.0  6.0   \n",
       "\n",
       "variable   collect_books conventional critical dependable      ...       \\\n",
       "subject_id                                                     ...        \n",
       "0                    5.0          1.0      1.0        7.0      ...        \n",
       "1                    5.0          1.0      3.0        5.0      ...        \n",
       "2                    5.0          1.0      6.0        3.0      ...        \n",
       "3                    5.0          1.0      2.0        7.0      ...        \n",
       "4                    4.0          2.0      5.0        4.0      ...        \n",
       "\n",
       "variable   religion reserved socially_awkward strange_person sympathetic  \\\n",
       "subject_id                                                                 \n",
       "0               NaN      7.0              5.0            5.0         7.0   \n",
       "1               1.0      5.0              5.0            4.0         5.0   \n",
       "2               1.0      7.0              5.0            5.0         2.0   \n",
       "3               NaN      2.0              5.0            5.0         6.0   \n",
       "4               NaN      6.0              0.0            5.0         5.0   \n",
       "\n",
       "variable   urban voted was_odd_child watch_science_shows writing_novel  \n",
       "subject_id                                                              \n",
       "0            NaN   NaN           5.0                 5.0           3.0  \n",
       "1            2.0   1.0           3.0                 5.0           1.0  \n",
       "2            1.0   1.0           5.0                 5.0           4.0  \n",
       "3            NaN   NaN           5.0                 5.0           4.0  \n",
       "4            NaN   NaN           5.0                 4.0           1.0  \n",
       "\n",
       "[5 rows x 56 columns]"
      ]
     },
     "execution_count": 14,
     "metadata": {},
     "output_type": "execute_result"
    }
   ],
   "source": [
    "nerdy_wide.head()"
   ]
  },
  {
   "cell_type": "markdown",
   "metadata": {},
   "source": [
    "Let's drop the null values from our recreated wide data.\n",
    "\n",
    "Remember our `subject_id` is now the **index**, and so we can access it with the `.index` attribute."
   ]
  },
  {
   "cell_type": "code",
   "execution_count": 18,
   "metadata": {
    "collapsed": false
   },
   "outputs": [
    {
     "name": "stdout",
     "output_type": "stream",
     "text": [
      "(421, 56)\n",
      "421\n"
     ]
    }
   ],
   "source": [
    "nerdy_wide.dropna(inplace=True)\n",
    "print nerdy_wide.shape\n",
    "print len(nerdy_wide.index.unique())"
   ]
  },
  {
   "cell_type": "code",
   "execution_count": 16,
   "metadata": {
    "collapsed": false
   },
   "outputs": [
    {
     "data": {
      "text/html": [
       "<div>\n",
       "<table border=\"1\" class=\"dataframe\">\n",
       "  <thead>\n",
       "    <tr>\n",
       "      <th></th>\n",
       "      <th colspan=\"10\" halign=\"left\">subject_id</th>\n",
       "      <th>...</th>\n",
       "      <th colspan=\"10\" halign=\"left\">value</th>\n",
       "    </tr>\n",
       "    <tr>\n",
       "      <th>variable</th>\n",
       "      <th>academic_over_social</th>\n",
       "      <th>age</th>\n",
       "      <th>anxious</th>\n",
       "      <th>bookish</th>\n",
       "      <th>books_over_parties</th>\n",
       "      <th>calm</th>\n",
       "      <th>collect_books</th>\n",
       "      <th>conventional</th>\n",
       "      <th>critical</th>\n",
       "      <th>dependable</th>\n",
       "      <th>...</th>\n",
       "      <th>religion</th>\n",
       "      <th>reserved</th>\n",
       "      <th>socially_awkward</th>\n",
       "      <th>strange_person</th>\n",
       "      <th>sympathetic</th>\n",
       "      <th>urban</th>\n",
       "      <th>voted</th>\n",
       "      <th>was_odd_child</th>\n",
       "      <th>watch_science_shows</th>\n",
       "      <th>writing_novel</th>\n",
       "    </tr>\n",
       "    <tr>\n",
       "      <th>subject_id</th>\n",
       "      <th></th>\n",
       "      <th></th>\n",
       "      <th></th>\n",
       "      <th></th>\n",
       "      <th></th>\n",
       "      <th></th>\n",
       "      <th></th>\n",
       "      <th></th>\n",
       "      <th></th>\n",
       "      <th></th>\n",
       "      <th></th>\n",
       "      <th></th>\n",
       "      <th></th>\n",
       "      <th></th>\n",
       "      <th></th>\n",
       "      <th></th>\n",
       "      <th></th>\n",
       "      <th></th>\n",
       "      <th></th>\n",
       "      <th></th>\n",
       "      <th></th>\n",
       "    </tr>\n",
       "  </thead>\n",
       "  <tbody>\n",
       "    <tr>\n",
       "      <th>0</th>\n",
       "      <td>0</td>\n",
       "      <td>NaN</td>\n",
       "      <td>0</td>\n",
       "      <td>0</td>\n",
       "      <td>0</td>\n",
       "      <td>0</td>\n",
       "      <td>0</td>\n",
       "      <td>0</td>\n",
       "      <td>0</td>\n",
       "      <td>0</td>\n",
       "      <td>...</td>\n",
       "      <td>NaN</td>\n",
       "      <td>7.0</td>\n",
       "      <td>5.0</td>\n",
       "      <td>5.0</td>\n",
       "      <td>7.0</td>\n",
       "      <td>NaN</td>\n",
       "      <td>NaN</td>\n",
       "      <td>5.0</td>\n",
       "      <td>5.0</td>\n",
       "      <td>3.0</td>\n",
       "    </tr>\n",
       "    <tr>\n",
       "      <th>1</th>\n",
       "      <td>1</td>\n",
       "      <td>1</td>\n",
       "      <td>1</td>\n",
       "      <td>1</td>\n",
       "      <td>1</td>\n",
       "      <td>1</td>\n",
       "      <td>1</td>\n",
       "      <td>1</td>\n",
       "      <td>1</td>\n",
       "      <td>1</td>\n",
       "      <td>...</td>\n",
       "      <td>1.0</td>\n",
       "      <td>5.0</td>\n",
       "      <td>5.0</td>\n",
       "      <td>4.0</td>\n",
       "      <td>5.0</td>\n",
       "      <td>2.0</td>\n",
       "      <td>1.0</td>\n",
       "      <td>3.0</td>\n",
       "      <td>5.0</td>\n",
       "      <td>1.0</td>\n",
       "    </tr>\n",
       "    <tr>\n",
       "      <th>2</th>\n",
       "      <td>2</td>\n",
       "      <td>2</td>\n",
       "      <td>2</td>\n",
       "      <td>2</td>\n",
       "      <td>2</td>\n",
       "      <td>2</td>\n",
       "      <td>2</td>\n",
       "      <td>2</td>\n",
       "      <td>2</td>\n",
       "      <td>2</td>\n",
       "      <td>...</td>\n",
       "      <td>1.0</td>\n",
       "      <td>7.0</td>\n",
       "      <td>5.0</td>\n",
       "      <td>5.0</td>\n",
       "      <td>2.0</td>\n",
       "      <td>1.0</td>\n",
       "      <td>1.0</td>\n",
       "      <td>5.0</td>\n",
       "      <td>5.0</td>\n",
       "      <td>4.0</td>\n",
       "    </tr>\n",
       "    <tr>\n",
       "      <th>3</th>\n",
       "      <td>3</td>\n",
       "      <td>NaN</td>\n",
       "      <td>3</td>\n",
       "      <td>3</td>\n",
       "      <td>3</td>\n",
       "      <td>3</td>\n",
       "      <td>3</td>\n",
       "      <td>3</td>\n",
       "      <td>3</td>\n",
       "      <td>3</td>\n",
       "      <td>...</td>\n",
       "      <td>NaN</td>\n",
       "      <td>2.0</td>\n",
       "      <td>5.0</td>\n",
       "      <td>5.0</td>\n",
       "      <td>6.0</td>\n",
       "      <td>NaN</td>\n",
       "      <td>NaN</td>\n",
       "      <td>5.0</td>\n",
       "      <td>5.0</td>\n",
       "      <td>4.0</td>\n",
       "    </tr>\n",
       "    <tr>\n",
       "      <th>4</th>\n",
       "      <td>4</td>\n",
       "      <td>NaN</td>\n",
       "      <td>4</td>\n",
       "      <td>4</td>\n",
       "      <td>4</td>\n",
       "      <td>4</td>\n",
       "      <td>4</td>\n",
       "      <td>4</td>\n",
       "      <td>4</td>\n",
       "      <td>4</td>\n",
       "      <td>...</td>\n",
       "      <td>NaN</td>\n",
       "      <td>6.0</td>\n",
       "      <td>0.0</td>\n",
       "      <td>5.0</td>\n",
       "      <td>5.0</td>\n",
       "      <td>NaN</td>\n",
       "      <td>NaN</td>\n",
       "      <td>5.0</td>\n",
       "      <td>4.0</td>\n",
       "      <td>1.0</td>\n",
       "    </tr>\n",
       "  </tbody>\n",
       "</table>\n",
       "<p>5 rows × 168 columns</p>\n",
       "</div>"
      ],
      "text/plain": [
       "                     subject_id                                               \\\n",
       "variable   academic_over_social  age anxious bookish books_over_parties calm   \n",
       "subject_id                                                                     \n",
       "0                             0  NaN       0       0                  0    0   \n",
       "1                             1    1       1       1                  1    1   \n",
       "2                             2    2       2       2                  2    2   \n",
       "3                             3  NaN       3       3                  3    3   \n",
       "4                             4  NaN       4       4                  4    4   \n",
       "\n",
       "                                                               ...       \\\n",
       "variable   collect_books conventional critical dependable      ...        \n",
       "subject_id                                                     ...        \n",
       "0                      0            0        0          0      ...        \n",
       "1                      1            1        1          1      ...        \n",
       "2                      2            2        2          2      ...        \n",
       "3                      3            3        3          3      ...        \n",
       "4                      4            4        4          4      ...        \n",
       "\n",
       "              value                                                       \\\n",
       "variable   religion reserved socially_awkward strange_person sympathetic   \n",
       "subject_id                                                                 \n",
       "0               NaN      7.0              5.0            5.0         7.0   \n",
       "1               1.0      5.0              5.0            4.0         5.0   \n",
       "2               1.0      7.0              5.0            5.0         2.0   \n",
       "3               NaN      2.0              5.0            5.0         6.0   \n",
       "4               NaN      6.0              0.0            5.0         5.0   \n",
       "\n",
       "                                                                        \n",
       "variable   urban voted was_odd_child watch_science_shows writing_novel  \n",
       "subject_id                                                              \n",
       "0            NaN   NaN           5.0                 5.0           3.0  \n",
       "1            2.0   1.0           3.0                 5.0           1.0  \n",
       "2            1.0   1.0           5.0                 5.0           4.0  \n",
       "3            NaN   NaN           5.0                 5.0           4.0  \n",
       "4            NaN   NaN           5.0                 4.0           1.0  \n",
       "\n",
       "[5 rows x 168 columns]"
      ]
     },
     "execution_count": 16,
     "metadata": {},
     "output_type": "execute_result"
    }
   ],
   "source": [
    "nerdy_wide.head()"
   ]
  },
  {
   "cell_type": "markdown",
   "metadata": {},
   "source": [
    "We can use the dataframe function `.reset_index()` to move `subject_id` into a column and create a new index. Now we have the dataframe in the format we got when we loaded the original wide data in before. The only exception is that we still have that \"variable\" column label."
   ]
  },
  {
   "cell_type": "code",
   "execution_count": 20,
   "metadata": {
    "collapsed": false
   },
   "outputs": [],
   "source": [
    "nerdy_wide_flat = nerdy_wide.reset_index()"
   ]
  },
  {
   "cell_type": "code",
   "execution_count": 21,
   "metadata": {
    "collapsed": false
   },
   "outputs": [
    {
     "data": {
      "text/html": [
       "<div>\n",
       "<table border=\"1\" class=\"dataframe\">\n",
       "  <thead>\n",
       "    <tr style=\"text-align: right;\">\n",
       "      <th>variable</th>\n",
       "      <th>subject_id</th>\n",
       "      <th>academic_over_social</th>\n",
       "      <th>age</th>\n",
       "      <th>anxious</th>\n",
       "      <th>bookish</th>\n",
       "      <th>books_over_parties</th>\n",
       "      <th>calm</th>\n",
       "      <th>collect_books</th>\n",
       "      <th>conventional</th>\n",
       "      <th>critical</th>\n",
       "      <th>...</th>\n",
       "      <th>religion</th>\n",
       "      <th>reserved</th>\n",
       "      <th>socially_awkward</th>\n",
       "      <th>strange_person</th>\n",
       "      <th>sympathetic</th>\n",
       "      <th>urban</th>\n",
       "      <th>voted</th>\n",
       "      <th>was_odd_child</th>\n",
       "      <th>watch_science_shows</th>\n",
       "      <th>writing_novel</th>\n",
       "    </tr>\n",
       "  </thead>\n",
       "  <tbody>\n",
       "    <tr>\n",
       "      <th>0</th>\n",
       "      <td>1</td>\n",
       "      <td>2.0</td>\n",
       "      <td>50.0</td>\n",
       "      <td>4.0</td>\n",
       "      <td>4.0</td>\n",
       "      <td>4.0</td>\n",
       "      <td>6.0</td>\n",
       "      <td>5.0</td>\n",
       "      <td>1.0</td>\n",
       "      <td>3.0</td>\n",
       "      <td>...</td>\n",
       "      <td>1.0</td>\n",
       "      <td>5.0</td>\n",
       "      <td>5.0</td>\n",
       "      <td>4.0</td>\n",
       "      <td>5.0</td>\n",
       "      <td>2.0</td>\n",
       "      <td>1.0</td>\n",
       "      <td>3.0</td>\n",
       "      <td>5.0</td>\n",
       "      <td>1.0</td>\n",
       "    </tr>\n",
       "    <tr>\n",
       "      <th>1</th>\n",
       "      <td>2</td>\n",
       "      <td>5.0</td>\n",
       "      <td>22.0</td>\n",
       "      <td>7.0</td>\n",
       "      <td>5.0</td>\n",
       "      <td>5.0</td>\n",
       "      <td>2.0</td>\n",
       "      <td>5.0</td>\n",
       "      <td>1.0</td>\n",
       "      <td>6.0</td>\n",
       "      <td>...</td>\n",
       "      <td>1.0</td>\n",
       "      <td>7.0</td>\n",
       "      <td>5.0</td>\n",
       "      <td>5.0</td>\n",
       "      <td>2.0</td>\n",
       "      <td>1.0</td>\n",
       "      <td>1.0</td>\n",
       "      <td>5.0</td>\n",
       "      <td>5.0</td>\n",
       "      <td>4.0</td>\n",
       "    </tr>\n",
       "  </tbody>\n",
       "</table>\n",
       "<p>2 rows × 57 columns</p>\n",
       "</div>"
      ],
      "text/plain": [
       "variable  subject_id academic_over_social   age anxious bookish  \\\n",
       "0                  1                  2.0  50.0     4.0     4.0   \n",
       "1                  2                  5.0  22.0     7.0     5.0   \n",
       "\n",
       "variable books_over_parties calm collect_books conventional critical  \\\n",
       "0                       4.0  6.0           5.0          1.0      3.0   \n",
       "1                       5.0  2.0           5.0          1.0      6.0   \n",
       "\n",
       "variable      ...      religion reserved socially_awkward strange_person  \\\n",
       "0             ...           1.0      5.0              5.0            4.0   \n",
       "1             ...           1.0      7.0              5.0            5.0   \n",
       "\n",
       "variable sympathetic urban voted was_odd_child watch_science_shows  \\\n",
       "0                5.0   2.0   1.0           3.0                 5.0   \n",
       "1                2.0   1.0   1.0           5.0                 5.0   \n",
       "\n",
       "variable writing_novel  \n",
       "0                  1.0  \n",
       "1                  4.0  \n",
       "\n",
       "[2 rows x 57 columns]"
      ]
     },
     "execution_count": 21,
     "metadata": {},
     "output_type": "execute_result"
    }
   ],
   "source": [
    "nerdy_wide_flat.head(2)"
   ]
  },
  {
   "cell_type": "code",
   "execution_count": 20,
   "metadata": {
    "collapsed": false
   },
   "outputs": [
    {
     "data": {
      "text/plain": [
       "'variable'"
      ]
     },
     "execution_count": 20,
     "metadata": {},
     "output_type": "execute_result"
    }
   ],
   "source": [
    "nerdy_wide_flat.columns.name"
   ]
  },
  {
   "cell_type": "markdown",
   "metadata": {},
   "source": [
    "You can remove the column label (which I personally find confusing) by setting the `.columns.name` attribute to None."
   ]
  },
  {
   "cell_type": "code",
   "execution_count": 22,
   "metadata": {
    "collapsed": false
   },
   "outputs": [
    {
     "data": {
      "text/html": [
       "<div>\n",
       "<table border=\"1\" class=\"dataframe\">\n",
       "  <thead>\n",
       "    <tr style=\"text-align: right;\">\n",
       "      <th></th>\n",
       "      <th>subject_id</th>\n",
       "      <th>academic_over_social</th>\n",
       "      <th>age</th>\n",
       "      <th>anxious</th>\n",
       "      <th>bookish</th>\n",
       "      <th>books_over_parties</th>\n",
       "      <th>calm</th>\n",
       "      <th>collect_books</th>\n",
       "      <th>conventional</th>\n",
       "      <th>critical</th>\n",
       "      <th>...</th>\n",
       "      <th>religion</th>\n",
       "      <th>reserved</th>\n",
       "      <th>socially_awkward</th>\n",
       "      <th>strange_person</th>\n",
       "      <th>sympathetic</th>\n",
       "      <th>urban</th>\n",
       "      <th>voted</th>\n",
       "      <th>was_odd_child</th>\n",
       "      <th>watch_science_shows</th>\n",
       "      <th>writing_novel</th>\n",
       "    </tr>\n",
       "  </thead>\n",
       "  <tbody>\n",
       "    <tr>\n",
       "      <th>0</th>\n",
       "      <td>1</td>\n",
       "      <td>2.0</td>\n",
       "      <td>50.0</td>\n",
       "      <td>4.0</td>\n",
       "      <td>4.0</td>\n",
       "      <td>4.0</td>\n",
       "      <td>6.0</td>\n",
       "      <td>5.0</td>\n",
       "      <td>1.0</td>\n",
       "      <td>3.0</td>\n",
       "      <td>...</td>\n",
       "      <td>1.0</td>\n",
       "      <td>5.0</td>\n",
       "      <td>5.0</td>\n",
       "      <td>4.0</td>\n",
       "      <td>5.0</td>\n",
       "      <td>2.0</td>\n",
       "      <td>1.0</td>\n",
       "      <td>3.0</td>\n",
       "      <td>5.0</td>\n",
       "      <td>1.0</td>\n",
       "    </tr>\n",
       "    <tr>\n",
       "      <th>1</th>\n",
       "      <td>2</td>\n",
       "      <td>5.0</td>\n",
       "      <td>22.0</td>\n",
       "      <td>7.0</td>\n",
       "      <td>5.0</td>\n",
       "      <td>5.0</td>\n",
       "      <td>2.0</td>\n",
       "      <td>5.0</td>\n",
       "      <td>1.0</td>\n",
       "      <td>6.0</td>\n",
       "      <td>...</td>\n",
       "      <td>1.0</td>\n",
       "      <td>7.0</td>\n",
       "      <td>5.0</td>\n",
       "      <td>5.0</td>\n",
       "      <td>2.0</td>\n",
       "      <td>1.0</td>\n",
       "      <td>1.0</td>\n",
       "      <td>5.0</td>\n",
       "      <td>5.0</td>\n",
       "      <td>4.0</td>\n",
       "    </tr>\n",
       "  </tbody>\n",
       "</table>\n",
       "<p>2 rows × 57 columns</p>\n",
       "</div>"
      ],
      "text/plain": [
       "   subject_id academic_over_social   age anxious bookish books_over_parties  \\\n",
       "0           1                  2.0  50.0     4.0     4.0                4.0   \n",
       "1           2                  5.0  22.0     7.0     5.0                5.0   \n",
       "\n",
       "  calm collect_books conventional critical      ...      religion reserved  \\\n",
       "0  6.0           5.0          1.0      3.0      ...           1.0      5.0   \n",
       "1  2.0           5.0          1.0      6.0      ...           1.0      7.0   \n",
       "\n",
       "  socially_awkward strange_person sympathetic urban voted was_odd_child  \\\n",
       "0              5.0            4.0         5.0   2.0   1.0           3.0   \n",
       "1              5.0            5.0         2.0   1.0   1.0           5.0   \n",
       "\n",
       "  watch_science_shows writing_novel  \n",
       "0                 5.0           1.0  \n",
       "1                 5.0           4.0  \n",
       "\n",
       "[2 rows x 57 columns]"
      ]
     },
     "execution_count": 22,
     "metadata": {},
     "output_type": "execute_result"
    }
   ],
   "source": [
    "nerdy_wide_flat.columns.name = None\n",
    "nerdy_wide_flat.head(2)"
   ]
  },
  {
   "cell_type": "markdown",
   "metadata": {},
   "source": [
    "## `pivot_table` for summarization\n",
    "\n",
    "For those of you who are experienced with Excel, the pandas pivot table does the same thing as the pivot table in Excel. It's more powerful, but obviously harder to use than the user-friendly spreadsheet version.\n",
    "\n",
    "Next we'll use pivot table to generate some summary statistics for `anxious`, `bookish`, and `calm` by `major`. \n",
    "\n",
    "We can do it two ways. First let's subset the data just to those columns and subject id."
   ]
  },
  {
   "cell_type": "code",
   "execution_count": 23,
   "metadata": {
    "collapsed": false
   },
   "outputs": [
    {
     "data": {
      "text/html": [
       "<div>\n",
       "<table border=\"1\" class=\"dataframe\">\n",
       "  <thead>\n",
       "    <tr style=\"text-align: right;\">\n",
       "      <th></th>\n",
       "      <th>subject_id</th>\n",
       "      <th>major</th>\n",
       "      <th>anxious</th>\n",
       "      <th>bookish</th>\n",
       "      <th>calm</th>\n",
       "    </tr>\n",
       "  </thead>\n",
       "  <tbody>\n",
       "    <tr>\n",
       "      <th>0</th>\n",
       "      <td>1</td>\n",
       "      <td>biophysics</td>\n",
       "      <td>4.0</td>\n",
       "      <td>4.0</td>\n",
       "      <td>6.0</td>\n",
       "    </tr>\n",
       "    <tr>\n",
       "      <th>1</th>\n",
       "      <td>2</td>\n",
       "      <td>biology</td>\n",
       "      <td>7.0</td>\n",
       "      <td>5.0</td>\n",
       "      <td>2.0</td>\n",
       "    </tr>\n",
       "  </tbody>\n",
       "</table>\n",
       "</div>"
      ],
      "text/plain": [
       "   subject_id       major anxious bookish calm\n",
       "0           1  biophysics     4.0     4.0  6.0\n",
       "1           2     biology     7.0     5.0  2.0"
      ]
     },
     "execution_count": 23,
     "metadata": {},
     "output_type": "execute_result"
    }
   ],
   "source": [
    "nerdy_subset = nerdy_wide_flat[['subject_id','major','anxious','bookish','calm']]\n",
    "nerdy_subset.head(2)"
   ]
  },
  {
   "cell_type": "markdown",
   "metadata": {},
   "source": [
    "### Going from wide to long with `.melt()`\n",
    "\n",
    "**`.melt()`** is a function that essentially performs the inverse operation of `pivot_table` on dataframes.\n",
    "\n",
    "Melt takes a dataframe as its first argument. Additional arguments typically used in the melt function are:\n",
    "\n",
    "- **`id_vars`**: the column or columns that will be id variables. id variables contain datapoints specified by the variable and value columns\n",
    "- **`value_vars`**: a list that specifies which columns should be converted into a single value column and variable column.\n",
    "- **`var_name`**: the header name of the variable column (default='variable')\n",
    "- **`value_name`**: the header name of the value column (default='value')\n",
    "\n",
    "Below I only specify the `id_vars` as subject_id and major. The variable and value columns are inferred."
   ]
  },
  {
   "cell_type": "code",
   "execution_count": 16,
   "metadata": {
    "collapsed": false
   },
   "outputs": [
    {
     "name": "stdout",
     "output_type": "stream",
     "text": [
      "(421, 5) (1263, 4)\n"
     ]
    },
    {
     "data": {
      "text/html": [
       "<div>\n",
       "<table border=\"1\" class=\"dataframe\">\n",
       "  <thead>\n",
       "    <tr style=\"text-align: right;\">\n",
       "      <th></th>\n",
       "      <th>subject_id</th>\n",
       "      <th>major</th>\n",
       "      <th>variable</th>\n",
       "      <th>value</th>\n",
       "    </tr>\n",
       "  </thead>\n",
       "  <tbody>\n",
       "    <tr>\n",
       "      <th>0</th>\n",
       "      <td>1</td>\n",
       "      <td>biophysics</td>\n",
       "      <td>anxious</td>\n",
       "      <td>4.0</td>\n",
       "    </tr>\n",
       "    <tr>\n",
       "      <th>1</th>\n",
       "      <td>2</td>\n",
       "      <td>biology</td>\n",
       "      <td>anxious</td>\n",
       "      <td>7.0</td>\n",
       "    </tr>\n",
       "    <tr>\n",
       "      <th>2</th>\n",
       "      <td>5</td>\n",
       "      <td>Geology</td>\n",
       "      <td>anxious</td>\n",
       "      <td>5.0</td>\n",
       "    </tr>\n",
       "    <tr>\n",
       "      <th>3</th>\n",
       "      <td>8</td>\n",
       "      <td>psychology</td>\n",
       "      <td>anxious</td>\n",
       "      <td>5.0</td>\n",
       "    </tr>\n",
       "  </tbody>\n",
       "</table>\n",
       "</div>"
      ],
      "text/plain": [
       "   subject_id       major variable value\n",
       "0           1  biophysics  anxious   4.0\n",
       "1           2     biology  anxious   7.0\n",
       "2           5     Geology  anxious   5.0\n",
       "3           8  psychology  anxious   5.0"
      ]
     },
     "execution_count": 16,
     "metadata": {},
     "output_type": "execute_result"
    }
   ],
   "source": [
    "nerdy_sub_long = pd.melt(nerdy_subset, id_vars=['subject_id','major'])\n",
    "print nerdy_subset.shape, nerdy_sub_long.shape\n",
    "nerdy_sub_long.head(4)"
   ]
  },
  {
   "cell_type": "markdown",
   "metadata": {},
   "source": [
    "You can do the same thing as above without having to subset the dataframe first by simply specifying the value_vars to lengthen. The output dataframe will then not have information on the columns left out of the `id_vars` and `value_vars` arguments."
   ]
  },
  {
   "cell_type": "code",
   "execution_count": 25,
   "metadata": {
    "collapsed": false
   },
   "outputs": [
    {
     "name": "stdout",
     "output_type": "stream",
     "text": [
      "(421, 57) (1263, 4)\n"
     ]
    },
    {
     "data": {
      "text/html": [
       "<div>\n",
       "<table border=\"1\" class=\"dataframe\">\n",
       "  <thead>\n",
       "    <tr style=\"text-align: right;\">\n",
       "      <th></th>\n",
       "      <th>subject_id</th>\n",
       "      <th>major</th>\n",
       "      <th>variable</th>\n",
       "      <th>value</th>\n",
       "    </tr>\n",
       "  </thead>\n",
       "  <tbody>\n",
       "    <tr>\n",
       "      <th>0</th>\n",
       "      <td>1</td>\n",
       "      <td>biophysics</td>\n",
       "      <td>anxious</td>\n",
       "      <td>4.0</td>\n",
       "    </tr>\n",
       "    <tr>\n",
       "      <th>1</th>\n",
       "      <td>2</td>\n",
       "      <td>biology</td>\n",
       "      <td>anxious</td>\n",
       "      <td>7.0</td>\n",
       "    </tr>\n",
       "    <tr>\n",
       "      <th>2</th>\n",
       "      <td>5</td>\n",
       "      <td>Geology</td>\n",
       "      <td>anxious</td>\n",
       "      <td>5.0</td>\n",
       "    </tr>\n",
       "    <tr>\n",
       "      <th>3</th>\n",
       "      <td>8</td>\n",
       "      <td>psychology</td>\n",
       "      <td>anxious</td>\n",
       "      <td>5.0</td>\n",
       "    </tr>\n",
       "  </tbody>\n",
       "</table>\n",
       "</div>"
      ],
      "text/plain": [
       "   subject_id       major variable value\n",
       "0           1  biophysics  anxious   4.0\n",
       "1           2     biology  anxious   7.0\n",
       "2           5     Geology  anxious   5.0\n",
       "3           8  psychology  anxious   5.0"
      ]
     },
     "execution_count": 25,
     "metadata": {},
     "output_type": "execute_result"
    }
   ],
   "source": [
    "nerdy_sub_long = pd.melt(nerdy_wide_flat, id_vars=['subject_id','major'], \n",
    "                         value_vars=['anxious','bookish','calm'])\n",
    "print nerdy_wide_flat.shape, nerdy_sub_long.shape\n",
    "nerdy_sub_long.head(4)"
   ]
  },
  {
   "cell_type": "markdown",
   "metadata": {},
   "source": [
    "The value column is still a string, so we can convert it to float:"
   ]
  },
  {
   "cell_type": "code",
   "execution_count": 26,
   "metadata": {
    "collapsed": false
   },
   "outputs": [
    {
     "data": {
      "text/plain": [
       "subject_id     int64\n",
       "major         object\n",
       "variable      object\n",
       "value         object\n",
       "dtype: object"
      ]
     },
     "execution_count": 26,
     "metadata": {},
     "output_type": "execute_result"
    }
   ],
   "source": [
    "nerdy_sub_long.dtypes"
   ]
  },
  {
   "cell_type": "code",
   "execution_count": 27,
   "metadata": {
    "collapsed": true
   },
   "outputs": [],
   "source": [
    "nerdy_sub_long.value = nerdy_sub_long.value.astype(float)"
   ]
  },
  {
   "cell_type": "markdown",
   "metadata": {},
   "source": [
    "### Summarizing with aggregate functions\n",
    "\n",
    "Pivot table can take in the long format variable, value, and an index to group by and apply aggregate functions as well for summarizing data easily. Note that your index variable should not be pulling out unique rows (for example, subject_id by variable would only have one value to send into the aggregate functions).\n",
    "\n",
    "The output dataframe gives you a \"hierarchical\" column index – the three variable for each aggregate function. The row index is the majors you divided the data up by.\n",
    "\n",
    "If you apply more index variables to split by, the row indices will also become hierarchical! It can get complicated fast."
   ]
  },
  {
   "cell_type": "code",
   "execution_count": 28,
   "metadata": {
    "collapsed": false
   },
   "outputs": [],
   "source": [
    "nerdy_major_summary = pd.pivot_table(nerdy_sub_long, columns=['variable'], values='value',\n",
    "                                     index=['major'], aggfunc=[np.mean, np.median, np.std, len],\n",
    "                                     fill_value=np.nan)"
   ]
  },
  {
   "cell_type": "code",
   "execution_count": 29,
   "metadata": {
    "collapsed": false
   },
   "outputs": [
    {
     "data": {
      "text/html": [
       "<div>\n",
       "<table border=\"1\" class=\"dataframe\">\n",
       "  <thead>\n",
       "    <tr>\n",
       "      <th></th>\n",
       "      <th colspan=\"3\" halign=\"left\">mean</th>\n",
       "      <th colspan=\"3\" halign=\"left\">median</th>\n",
       "      <th colspan=\"3\" halign=\"left\">std</th>\n",
       "      <th colspan=\"3\" halign=\"left\">len</th>\n",
       "    </tr>\n",
       "    <tr>\n",
       "      <th>variable</th>\n",
       "      <th>anxious</th>\n",
       "      <th>bookish</th>\n",
       "      <th>calm</th>\n",
       "      <th>anxious</th>\n",
       "      <th>bookish</th>\n",
       "      <th>calm</th>\n",
       "      <th>anxious</th>\n",
       "      <th>bookish</th>\n",
       "      <th>calm</th>\n",
       "      <th>anxious</th>\n",
       "      <th>bookish</th>\n",
       "      <th>calm</th>\n",
       "    </tr>\n",
       "    <tr>\n",
       "      <th>major</th>\n",
       "      <th></th>\n",
       "      <th></th>\n",
       "      <th></th>\n",
       "      <th></th>\n",
       "      <th></th>\n",
       "      <th></th>\n",
       "      <th></th>\n",
       "      <th></th>\n",
       "      <th></th>\n",
       "      <th></th>\n",
       "      <th></th>\n",
       "      <th></th>\n",
       "    </tr>\n",
       "  </thead>\n",
       "  <tbody>\n",
       "    <tr>\n",
       "      <th>None yet</th>\n",
       "      <td>7.000000</td>\n",
       "      <td>3.000000</td>\n",
       "      <td>3.000000</td>\n",
       "      <td>7.0</td>\n",
       "      <td>3.0</td>\n",
       "      <td>3.0</td>\n",
       "      <td>NaN</td>\n",
       "      <td>NaN</td>\n",
       "      <td>NaN</td>\n",
       "      <td>1</td>\n",
       "      <td>1</td>\n",
       "      <td>1</td>\n",
       "    </tr>\n",
       "    <tr>\n",
       "      <th>+ACI-+ACIAIg-hotel and restaurant management+ACIAIg-+ACI-</th>\n",
       "      <td>2.000000</td>\n",
       "      <td>2.000000</td>\n",
       "      <td>7.000000</td>\n",
       "      <td>2.0</td>\n",
       "      <td>2.0</td>\n",
       "      <td>7.0</td>\n",
       "      <td>NaN</td>\n",
       "      <td>NaN</td>\n",
       "      <td>NaN</td>\n",
       "      <td>1</td>\n",
       "      <td>1</td>\n",
       "      <td>1</td>\n",
       "    </tr>\n",
       "    <tr>\n",
       "      <th>Aerospace Engineer</th>\n",
       "      <td>2.000000</td>\n",
       "      <td>2.000000</td>\n",
       "      <td>7.000000</td>\n",
       "      <td>2.0</td>\n",
       "      <td>2.0</td>\n",
       "      <td>7.0</td>\n",
       "      <td>NaN</td>\n",
       "      <td>NaN</td>\n",
       "      <td>NaN</td>\n",
       "      <td>1</td>\n",
       "      <td>1</td>\n",
       "      <td>1</td>\n",
       "    </tr>\n",
       "    <tr>\n",
       "      <th>Aerospace Engineering</th>\n",
       "      <td>3.000000</td>\n",
       "      <td>4.000000</td>\n",
       "      <td>3.000000</td>\n",
       "      <td>3.0</td>\n",
       "      <td>4.0</td>\n",
       "      <td>3.0</td>\n",
       "      <td>NaN</td>\n",
       "      <td>NaN</td>\n",
       "      <td>NaN</td>\n",
       "      <td>1</td>\n",
       "      <td>1</td>\n",
       "      <td>1</td>\n",
       "    </tr>\n",
       "    <tr>\n",
       "      <th>Agricultural Economics</th>\n",
       "      <td>2.000000</td>\n",
       "      <td>2.000000</td>\n",
       "      <td>6.000000</td>\n",
       "      <td>2.0</td>\n",
       "      <td>2.0</td>\n",
       "      <td>6.0</td>\n",
       "      <td>NaN</td>\n",
       "      <td>NaN</td>\n",
       "      <td>NaN</td>\n",
       "      <td>1</td>\n",
       "      <td>1</td>\n",
       "      <td>1</td>\n",
       "    </tr>\n",
       "    <tr>\n",
       "      <th>Anthropology</th>\n",
       "      <td>5.333333</td>\n",
       "      <td>3.666667</td>\n",
       "      <td>4.333333</td>\n",
       "      <td>5.0</td>\n",
       "      <td>4.0</td>\n",
       "      <td>4.0</td>\n",
       "      <td>0.577350</td>\n",
       "      <td>0.577350</td>\n",
       "      <td>2.516611</td>\n",
       "      <td>3</td>\n",
       "      <td>3</td>\n",
       "      <td>3</td>\n",
       "    </tr>\n",
       "    <tr>\n",
       "      <th>Anthropology</th>\n",
       "      <td>5.000000</td>\n",
       "      <td>4.000000</td>\n",
       "      <td>3.000000</td>\n",
       "      <td>5.0</td>\n",
       "      <td>4.0</td>\n",
       "      <td>3.0</td>\n",
       "      <td>NaN</td>\n",
       "      <td>NaN</td>\n",
       "      <td>NaN</td>\n",
       "      <td>1</td>\n",
       "      <td>1</td>\n",
       "      <td>1</td>\n",
       "    </tr>\n",
       "    <tr>\n",
       "      <th>Architecture</th>\n",
       "      <td>3.000000</td>\n",
       "      <td>4.000000</td>\n",
       "      <td>5.666667</td>\n",
       "      <td>4.0</td>\n",
       "      <td>4.0</td>\n",
       "      <td>6.0</td>\n",
       "      <td>1.732051</td>\n",
       "      <td>1.000000</td>\n",
       "      <td>1.527525</td>\n",
       "      <td>3</td>\n",
       "      <td>3</td>\n",
       "      <td>3</td>\n",
       "    </tr>\n",
       "    <tr>\n",
       "      <th>Architecture</th>\n",
       "      <td>5.000000</td>\n",
       "      <td>1.000000</td>\n",
       "      <td>5.000000</td>\n",
       "      <td>5.0</td>\n",
       "      <td>1.0</td>\n",
       "      <td>5.0</td>\n",
       "      <td>NaN</td>\n",
       "      <td>NaN</td>\n",
       "      <td>NaN</td>\n",
       "      <td>1</td>\n",
       "      <td>1</td>\n",
       "      <td>1</td>\n",
       "    </tr>\n",
       "    <tr>\n",
       "      <th>Art</th>\n",
       "      <td>4.000000</td>\n",
       "      <td>4.333333</td>\n",
       "      <td>5.333333</td>\n",
       "      <td>5.0</td>\n",
       "      <td>4.5</td>\n",
       "      <td>5.5</td>\n",
       "      <td>2.366432</td>\n",
       "      <td>0.816497</td>\n",
       "      <td>1.211060</td>\n",
       "      <td>6</td>\n",
       "      <td>6</td>\n",
       "      <td>6</td>\n",
       "    </tr>\n",
       "  </tbody>\n",
       "</table>\n",
       "</div>"
      ],
      "text/plain": [
       "                                                        mean            \\\n",
       "variable                                             anxious   bookish   \n",
       "major                                                                    \n",
       " None yet                                           7.000000  3.000000   \n",
       "+ACI-+ACIAIg-hotel and restaurant management+AC...  2.000000  2.000000   \n",
       "Aerospace Engineer                                  2.000000  2.000000   \n",
       "Aerospace Engineering                               3.000000  4.000000   \n",
       "Agricultural Economics                              2.000000  2.000000   \n",
       "Anthropology                                        5.333333  3.666667   \n",
       "Anthropology                                        5.000000  4.000000   \n",
       "Architecture                                        3.000000  4.000000   \n",
       "Architecture                                        5.000000  1.000000   \n",
       "Art                                                 4.000000  4.333333   \n",
       "\n",
       "                                                              median          \\\n",
       "variable                                                calm anxious bookish   \n",
       "major                                                                          \n",
       " None yet                                           3.000000     7.0     3.0   \n",
       "+ACI-+ACIAIg-hotel and restaurant management+AC...  7.000000     2.0     2.0   \n",
       "Aerospace Engineer                                  7.000000     2.0     2.0   \n",
       "Aerospace Engineering                               3.000000     3.0     4.0   \n",
       "Agricultural Economics                              6.000000     2.0     2.0   \n",
       "Anthropology                                        4.333333     5.0     4.0   \n",
       "Anthropology                                        3.000000     5.0     4.0   \n",
       "Architecture                                        5.666667     4.0     4.0   \n",
       "Architecture                                        5.000000     5.0     1.0   \n",
       "Art                                                 5.333333     5.0     4.5   \n",
       "\n",
       "                                                              std            \\\n",
       "variable                                           calm   anxious   bookish   \n",
       "major                                                                         \n",
       " None yet                                           3.0       NaN       NaN   \n",
       "+ACI-+ACIAIg-hotel and restaurant management+AC...  7.0       NaN       NaN   \n",
       "Aerospace Engineer                                  7.0       NaN       NaN   \n",
       "Aerospace Engineering                               3.0       NaN       NaN   \n",
       "Agricultural Economics                              6.0       NaN       NaN   \n",
       "Anthropology                                        4.0  0.577350  0.577350   \n",
       "Anthropology                                        3.0       NaN       NaN   \n",
       "Architecture                                        6.0  1.732051  1.000000   \n",
       "Architecture                                        5.0       NaN       NaN   \n",
       "Art                                                 5.5  2.366432  0.816497   \n",
       "\n",
       "                                                                 len          \\\n",
       "variable                                                calm anxious bookish   \n",
       "major                                                                          \n",
       " None yet                                                NaN       1       1   \n",
       "+ACI-+ACIAIg-hotel and restaurant management+AC...       NaN       1       1   \n",
       "Aerospace Engineer                                       NaN       1       1   \n",
       "Aerospace Engineering                                    NaN       1       1   \n",
       "Agricultural Economics                                   NaN       1       1   \n",
       "Anthropology                                        2.516611       3       3   \n",
       "Anthropology                                             NaN       1       1   \n",
       "Architecture                                        1.527525       3       3   \n",
       "Architecture                                             NaN       1       1   \n",
       "Art                                                 1.211060       6       6   \n",
       "\n",
       "                                                         \n",
       "variable                                           calm  \n",
       "major                                                    \n",
       " None yet                                             1  \n",
       "+ACI-+ACIAIg-hotel and restaurant management+AC...    1  \n",
       "Aerospace Engineer                                    1  \n",
       "Aerospace Engineering                                 1  \n",
       "Agricultural Economics                                1  \n",
       "Anthropology                                          3  \n",
       "Anthropology                                          1  \n",
       "Architecture                                          3  \n",
       "Architecture                                          1  \n",
       "Art                                                   6  "
      ]
     },
     "execution_count": 29,
     "metadata": {},
     "output_type": "execute_result"
    }
   ],
   "source": [
    "nerdy_major_summary.head(10)"
   ]
  },
  {
   "cell_type": "markdown",
   "metadata": {},
   "source": [
    "The `.names` attribute on the index and the columns will show you the hierarchy of labels. The row index is \"major\", and the two column indices are None and 'variable' (the aggregate functions get no label from pivot table in this case). \n",
    "\n",
    "If you print out the columns, you can see it has become a pandas `MultiIndex` object that has levels, labels, and names. I won't go into too much detail on this – reading the pandas documentation on MultiIndexes has a lot more information."
   ]
  },
  {
   "cell_type": "code",
   "execution_count": 31,
   "metadata": {
    "collapsed": false
   },
   "outputs": [
    {
     "name": "stdout",
     "output_type": "stream",
     "text": [
      "[u'major']\n",
      "[None, u'variable']\n",
      "MultiIndex(levels=[[u'mean', u'median', u'std', u'len'], [u'anxious', u'bookish', u'calm']],\n",
      "           labels=[[0, 0, 0, 1, 1, 1, 2, 2, 2, 3, 3, 3], [0, 1, 2, 0, 1, 2, 0, 1, 2, 0, 1, 2]],\n",
      "           names=[None, u'variable'])\n"
     ]
    }
   ],
   "source": [
    "print nerdy_major_summary.index.names\n",
    "print nerdy_major_summary.columns.names\n",
    "print nerdy_major_summary.columns"
   ]
  },
  {
   "cell_type": "markdown",
   "metadata": {},
   "source": [
    "Indexing along the hierarchical column headers can be done with chained bracket keys, with the top level column label in the first bracket down to the bottom level."
   ]
  },
  {
   "cell_type": "code",
   "execution_count": 32,
   "metadata": {
    "collapsed": false
   },
   "outputs": [
    {
     "data": {
      "text/html": [
       "<div>\n",
       "<table border=\"1\" class=\"dataframe\">\n",
       "  <thead>\n",
       "    <tr style=\"text-align: right;\">\n",
       "      <th>variable</th>\n",
       "      <th>anxious</th>\n",
       "      <th>bookish</th>\n",
       "      <th>calm</th>\n",
       "    </tr>\n",
       "    <tr>\n",
       "      <th>major</th>\n",
       "      <th></th>\n",
       "      <th></th>\n",
       "      <th></th>\n",
       "    </tr>\n",
       "  </thead>\n",
       "  <tbody>\n",
       "    <tr>\n",
       "      <th>None yet</th>\n",
       "      <td>7.0</td>\n",
       "      <td>3.0</td>\n",
       "      <td>3.0</td>\n",
       "    </tr>\n",
       "    <tr>\n",
       "      <th>+ACI-+ACIAIg-hotel and restaurant management+ACIAIg-+ACI-</th>\n",
       "      <td>2.0</td>\n",
       "      <td>2.0</td>\n",
       "      <td>7.0</td>\n",
       "    </tr>\n",
       "  </tbody>\n",
       "</table>\n",
       "</div>"
      ],
      "text/plain": [
       "variable                                            anxious  bookish  calm\n",
       "major                                                                     \n",
       " None yet                                               7.0      3.0   3.0\n",
       "+ACI-+ACIAIg-hotel and restaurant management+AC...      2.0      2.0   7.0"
      ]
     },
     "execution_count": 32,
     "metadata": {},
     "output_type": "execute_result"
    }
   ],
   "source": [
    "nerdy_major_summary['mean'].head(2)"
   ]
  },
  {
   "cell_type": "code",
   "execution_count": 33,
   "metadata": {
    "collapsed": false
   },
   "outputs": [
    {
     "data": {
      "text/plain": [
       "major\n",
       " None yet                                                    7.0\n",
       "+ACI-+ACIAIg-hotel and restaurant management+ACIAIg-+ACI-    2.0\n",
       "Name: anxious, dtype: float64"
      ]
     },
     "execution_count": 33,
     "metadata": {},
     "output_type": "execute_result"
    }
   ],
   "source": [
    "nerdy_major_summary['mean']['anxious'].head(2)"
   ]
  },
  {
   "cell_type": "code",
   "execution_count": 34,
   "metadata": {
    "collapsed": false
   },
   "outputs": [
    {
     "data": {
      "text/html": [
       "<div>\n",
       "<table border=\"1\" class=\"dataframe\">\n",
       "  <thead>\n",
       "    <tr style=\"text-align: right;\">\n",
       "      <th>variable</th>\n",
       "      <th>anxious</th>\n",
       "      <th>bookish</th>\n",
       "    </tr>\n",
       "    <tr>\n",
       "      <th>major</th>\n",
       "      <th></th>\n",
       "      <th></th>\n",
       "    </tr>\n",
       "  </thead>\n",
       "  <tbody>\n",
       "    <tr>\n",
       "      <th>None yet</th>\n",
       "      <td>7.0</td>\n",
       "      <td>3.0</td>\n",
       "    </tr>\n",
       "    <tr>\n",
       "      <th>+ACI-+ACIAIg-hotel and restaurant management+ACIAIg-+ACI-</th>\n",
       "      <td>2.0</td>\n",
       "      <td>2.0</td>\n",
       "    </tr>\n",
       "  </tbody>\n",
       "</table>\n",
       "</div>"
      ],
      "text/plain": [
       "variable                                            anxious  bookish\n",
       "major                                                               \n",
       " None yet                                               7.0      3.0\n",
       "+ACI-+ACIAIg-hotel and restaurant management+AC...      2.0      2.0"
      ]
     },
     "execution_count": 34,
     "metadata": {},
     "output_type": "execute_result"
    }
   ],
   "source": [
    "nerdy_major_summary['mean'][['anxious','bookish']].head(2)"
   ]
  },
  {
   "cell_type": "markdown",
   "metadata": {},
   "source": [
    "In some cases you can just split them up by comma within the brackets."
   ]
  },
  {
   "cell_type": "code",
   "execution_count": 35,
   "metadata": {
    "collapsed": false
   },
   "outputs": [
    {
     "data": {
      "text/plain": [
       "major\n",
       " None yet                                                    3.0\n",
       "+ACI-+ACIAIg-hotel and restaurant management+ACIAIg-+ACI-    2.0\n",
       "Name: (mean, bookish), dtype: float64"
      ]
     },
     "execution_count": 35,
     "metadata": {},
     "output_type": "execute_result"
    }
   ],
   "source": [
    "nerdy_major_summary['mean', 'bookish'].head(2)"
   ]
  },
  {
   "cell_type": "markdown",
   "metadata": {},
   "source": [
    "## Converting a MultiIndex dataframe to \"flat\"\n",
    "\n",
    "Personally, while I see multiindex dataframes as potentiall useful and a cool concept, I think the overhead and confusion on how to subset/mask them is annoying, especially when you have to start doing modeling pulling out data from these DataFrames.\n",
    "\n",
    "To \"flatten\" a multi-indexed dataframe down, you can use the `.to_records()` function. To make this a new dataframe, it needs to be wrapped in a `pd.DataFrame()` like so:"
   ]
  },
  {
   "cell_type": "code",
   "execution_count": 37,
   "metadata": {
    "collapsed": false
   },
   "outputs": [
    {
     "data": {
      "text/html": [
       "<div>\n",
       "<table border=\"1\" class=\"dataframe\">\n",
       "  <thead>\n",
       "    <tr style=\"text-align: right;\">\n",
       "      <th></th>\n",
       "      <th>major</th>\n",
       "      <th>('mean', 'anxious')</th>\n",
       "      <th>('mean', 'bookish')</th>\n",
       "      <th>('mean', 'calm')</th>\n",
       "      <th>('median', 'anxious')</th>\n",
       "      <th>('median', 'bookish')</th>\n",
       "      <th>('median', 'calm')</th>\n",
       "      <th>('std', 'anxious')</th>\n",
       "      <th>('std', 'bookish')</th>\n",
       "      <th>('std', 'calm')</th>\n",
       "      <th>('len', 'anxious')</th>\n",
       "      <th>('len', 'bookish')</th>\n",
       "      <th>('len', 'calm')</th>\n",
       "    </tr>\n",
       "  </thead>\n",
       "  <tbody>\n",
       "    <tr>\n",
       "      <th>0</th>\n",
       "      <td>None yet</td>\n",
       "      <td>7.0</td>\n",
       "      <td>3.0</td>\n",
       "      <td>3.0</td>\n",
       "      <td>7.0</td>\n",
       "      <td>3.0</td>\n",
       "      <td>3.0</td>\n",
       "      <td>NaN</td>\n",
       "      <td>NaN</td>\n",
       "      <td>NaN</td>\n",
       "      <td>1</td>\n",
       "      <td>1</td>\n",
       "      <td>1</td>\n",
       "    </tr>\n",
       "    <tr>\n",
       "      <th>1</th>\n",
       "      <td>+ACI-+ACIAIg-hotel and restaurant management+A...</td>\n",
       "      <td>2.0</td>\n",
       "      <td>2.0</td>\n",
       "      <td>7.0</td>\n",
       "      <td>2.0</td>\n",
       "      <td>2.0</td>\n",
       "      <td>7.0</td>\n",
       "      <td>NaN</td>\n",
       "      <td>NaN</td>\n",
       "      <td>NaN</td>\n",
       "      <td>1</td>\n",
       "      <td>1</td>\n",
       "      <td>1</td>\n",
       "    </tr>\n",
       "  </tbody>\n",
       "</table>\n",
       "</div>"
      ],
      "text/plain": [
       "                                               major  ('mean', 'anxious')  \\\n",
       "0                                           None yet                  7.0   \n",
       "1  +ACI-+ACIAIg-hotel and restaurant management+A...                  2.0   \n",
       "\n",
       "   ('mean', 'bookish')  ('mean', 'calm')  ('median', 'anxious')  \\\n",
       "0                  3.0               3.0                    7.0   \n",
       "1                  2.0               7.0                    2.0   \n",
       "\n",
       "   ('median', 'bookish')  ('median', 'calm')  ('std', 'anxious')  \\\n",
       "0                    3.0                 3.0                 NaN   \n",
       "1                    2.0                 7.0                 NaN   \n",
       "\n",
       "   ('std', 'bookish')  ('std', 'calm')  ('len', 'anxious')  \\\n",
       "0                 NaN              NaN                   1   \n",
       "1                 NaN              NaN                   1   \n",
       "\n",
       "   ('len', 'bookish')  ('len', 'calm')  \n",
       "0                   1                1  \n",
       "1                   1                1  "
      ]
     },
     "execution_count": 37,
     "metadata": {},
     "output_type": "execute_result"
    }
   ],
   "source": [
    "nerdy_major_flat = pd.DataFrame(nerdy_major_summary.to_records())\n",
    "nerdy_major_flat.head(2)"
   ]
  },
  {
   "cell_type": "markdown",
   "metadata": {},
   "source": [
    "You can see that the new column names are tuples of the hierarchy of the multiindexed columns. You can convert these to new, more easily indexed columns with a list comprehension, for example with the comprehension below.\n",
    "\n",
    "The **eval** function takes a string and trys to evaluate it as if it were a python command! Be careful with this function."
   ]
  },
  {
   "cell_type": "code",
   "execution_count": 42,
   "metadata": {
    "collapsed": false
   },
   "outputs": [
    {
     "data": {
      "text/html": [
       "<div>\n",
       "<table border=\"1\" class=\"dataframe\">\n",
       "  <thead>\n",
       "    <tr style=\"text-align: right;\">\n",
       "      <th></th>\n",
       "      <th>major</th>\n",
       "      <th>mean_anxious</th>\n",
       "      <th>mean_bookish</th>\n",
       "      <th>mean_calm</th>\n",
       "      <th>median_anxious</th>\n",
       "      <th>median_bookish</th>\n",
       "      <th>median_calm</th>\n",
       "      <th>std_anxious</th>\n",
       "      <th>std_bookish</th>\n",
       "      <th>std_calm</th>\n",
       "      <th>len_anxious</th>\n",
       "      <th>len_bookish</th>\n",
       "      <th>len_calm</th>\n",
       "    </tr>\n",
       "  </thead>\n",
       "  <tbody>\n",
       "    <tr>\n",
       "      <th>0</th>\n",
       "      <td>None yet</td>\n",
       "      <td>7.0</td>\n",
       "      <td>3.0</td>\n",
       "      <td>3.0</td>\n",
       "      <td>7.0</td>\n",
       "      <td>3.0</td>\n",
       "      <td>3.0</td>\n",
       "      <td>NaN</td>\n",
       "      <td>NaN</td>\n",
       "      <td>NaN</td>\n",
       "      <td>1</td>\n",
       "      <td>1</td>\n",
       "      <td>1</td>\n",
       "    </tr>\n",
       "    <tr>\n",
       "      <th>1</th>\n",
       "      <td>+ACI-+ACIAIg-hotel and restaurant management+A...</td>\n",
       "      <td>2.0</td>\n",
       "      <td>2.0</td>\n",
       "      <td>7.0</td>\n",
       "      <td>2.0</td>\n",
       "      <td>2.0</td>\n",
       "      <td>7.0</td>\n",
       "      <td>NaN</td>\n",
       "      <td>NaN</td>\n",
       "      <td>NaN</td>\n",
       "      <td>1</td>\n",
       "      <td>1</td>\n",
       "      <td>1</td>\n",
       "    </tr>\n",
       "  </tbody>\n",
       "</table>\n",
       "</div>"
      ],
      "text/plain": [
       "                                               major  mean_anxious  \\\n",
       "0                                           None yet           7.0   \n",
       "1  +ACI-+ACIAIg-hotel and restaurant management+A...           2.0   \n",
       "\n",
       "   mean_bookish  mean_calm  median_anxious  median_bookish  median_calm  \\\n",
       "0           3.0        3.0             7.0             3.0          3.0   \n",
       "1           2.0        7.0             2.0             2.0          7.0   \n",
       "\n",
       "   std_anxious  std_bookish  std_calm  len_anxious  len_bookish  len_calm  \n",
       "0          NaN          NaN       NaN            1            1         1  \n",
       "1          NaN          NaN       NaN            1            1         1  "
      ]
     },
     "execution_count": 42,
     "metadata": {},
     "output_type": "execute_result"
    }
   ],
   "source": [
    "nerdy_major_flat.columns = ['_'.join(eval(c)) if c[0] == '(' else c for c in nerdy_major_flat.columns]\n",
    "nerdy_major_flat.head(2)"
   ]
  },
  {
   "cell_type": "markdown",
   "metadata": {},
   "source": [
    "---\n",
    "\n",
    "## Preface to merging/joining: long and wide data\n",
    "\n",
    "You will practice merging and joining much more tomorrow, but this section is a preview for what is to come with a focus on the difference between merging long and wide datasets together.\n",
    "\n",
    "Load in the data we've been using above, but now split up with just the demographic variables in one dataset and the survey question answers in another. These datasets are in wide format, and they both contain `subject_id` to identify who the questions are for. \n",
    "\n",
    "As you may recall, the demographic responses have fewer observations."
   ]
  },
  {
   "cell_type": "code",
   "execution_count": 43,
   "metadata": {
    "collapsed": true
   },
   "outputs": [],
   "source": [
    "n_demos_file = '~/github-repos/DSI-SF-2/datasets/nerdy_personality_attributes/NPAS_parsed_trunc_demo_sample.csv'\n",
    "n_survey_file = '~/github-repos/DSI-SF-2/datasets/nerdy_personality_attributes/NPAS_parsed_trunc_survey.csv'\n",
    "\n",
    "demos_subset = pd.read_csv(n_demos_file)\n",
    "survey = pd.read_csv(n_survey_file)"
   ]
  },
  {
   "cell_type": "code",
   "execution_count": 44,
   "metadata": {
    "collapsed": false
   },
   "outputs": [
    {
     "name": "stdout",
     "output_type": "stream",
     "text": [
      "(700, 12) (1391, 46)\n"
     ]
    }
   ],
   "source": [
    "print demos_subset.shape, survey.shape"
   ]
  },
  {
   "cell_type": "code",
   "execution_count": 45,
   "metadata": {
    "collapsed": false
   },
   "outputs": [
    {
     "data": {
      "text/html": [
       "<div>\n",
       "<table border=\"1\" class=\"dataframe\">\n",
       "  <thead>\n",
       "    <tr style=\"text-align: right;\">\n",
       "      <th></th>\n",
       "      <th>education</th>\n",
       "      <th>urban</th>\n",
       "      <th>gender</th>\n",
       "      <th>engnat</th>\n",
       "      <th>age</th>\n",
       "      <th>hand</th>\n",
       "      <th>religion</th>\n",
       "      <th>voted</th>\n",
       "      <th>married</th>\n",
       "      <th>familysize</th>\n",
       "      <th>major</th>\n",
       "      <th>subject_id</th>\n",
       "    </tr>\n",
       "  </thead>\n",
       "  <tbody>\n",
       "    <tr>\n",
       "      <th>0</th>\n",
       "      <td>4.0</td>\n",
       "      <td>2.0</td>\n",
       "      <td>2.0</td>\n",
       "      <td>1.0</td>\n",
       "      <td>50.0</td>\n",
       "      <td>1.0</td>\n",
       "      <td>1.0</td>\n",
       "      <td>1.0</td>\n",
       "      <td>1.0</td>\n",
       "      <td>3.0</td>\n",
       "      <td>biophysics</td>\n",
       "      <td>1</td>\n",
       "    </tr>\n",
       "    <tr>\n",
       "      <th>1</th>\n",
       "      <td>3.0</td>\n",
       "      <td>1.0</td>\n",
       "      <td>2.0</td>\n",
       "      <td>2.0</td>\n",
       "      <td>22.0</td>\n",
       "      <td>1.0</td>\n",
       "      <td>1.0</td>\n",
       "      <td>1.0</td>\n",
       "      <td>1.0</td>\n",
       "      <td>2.0</td>\n",
       "      <td>biology</td>\n",
       "      <td>2</td>\n",
       "    </tr>\n",
       "  </tbody>\n",
       "</table>\n",
       "</div>"
      ],
      "text/plain": [
       "   education  urban  gender  engnat   age  hand  religion  voted  married  \\\n",
       "0        4.0    2.0     2.0     1.0  50.0   1.0       1.0    1.0      1.0   \n",
       "1        3.0    1.0     2.0     2.0  22.0   1.0       1.0    1.0      1.0   \n",
       "\n",
       "   familysize       major  subject_id  \n",
       "0         3.0  biophysics           1  \n",
       "1         2.0     biology           2  "
      ]
     },
     "execution_count": 45,
     "metadata": {},
     "output_type": "execute_result"
    }
   ],
   "source": [
    "demos_subset.head(2)"
   ]
  },
  {
   "cell_type": "code",
   "execution_count": 46,
   "metadata": {
    "collapsed": false
   },
   "outputs": [
    {
     "data": {
      "text/html": [
       "<div>\n",
       "<table border=\"1\" class=\"dataframe\">\n",
       "  <thead>\n",
       "    <tr style=\"text-align: right;\">\n",
       "      <th></th>\n",
       "      <th>race_white</th>\n",
       "      <th>race_nerdy</th>\n",
       "      <th>race_native_american</th>\n",
       "      <th>writing_novel</th>\n",
       "      <th>read_tech_reports</th>\n",
       "      <th>online_over_inperson</th>\n",
       "      <th>introspective</th>\n",
       "      <th>hobbies_over_people</th>\n",
       "      <th>books_over_parties</th>\n",
       "      <th>bookish</th>\n",
       "      <th>...</th>\n",
       "      <th>reserved</th>\n",
       "      <th>conventional</th>\n",
       "      <th>was_odd_child</th>\n",
       "      <th>prefer_fictional_people</th>\n",
       "      <th>enjoy_learning</th>\n",
       "      <th>excited_about_research</th>\n",
       "      <th>strange_person</th>\n",
       "      <th>like_superheroes</th>\n",
       "      <th>socially_awkward</th>\n",
       "      <th>subject_id</th>\n",
       "    </tr>\n",
       "  </thead>\n",
       "  <tbody>\n",
       "    <tr>\n",
       "      <th>0</th>\n",
       "      <td>1.0</td>\n",
       "      <td>0.0</td>\n",
       "      <td>0.0</td>\n",
       "      <td>3.0</td>\n",
       "      <td>5.0</td>\n",
       "      <td>4.0</td>\n",
       "      <td>5.0</td>\n",
       "      <td>4.0</td>\n",
       "      <td>5.0</td>\n",
       "      <td>5.0</td>\n",
       "      <td>...</td>\n",
       "      <td>7.0</td>\n",
       "      <td>1.0</td>\n",
       "      <td>5.0</td>\n",
       "      <td>5.0</td>\n",
       "      <td>5.0</td>\n",
       "      <td>5.0</td>\n",
       "      <td>5.0</td>\n",
       "      <td>5.0</td>\n",
       "      <td>5.0</td>\n",
       "      <td>0</td>\n",
       "    </tr>\n",
       "    <tr>\n",
       "      <th>1</th>\n",
       "      <td>1.0</td>\n",
       "      <td>0.0</td>\n",
       "      <td>0.0</td>\n",
       "      <td>1.0</td>\n",
       "      <td>4.0</td>\n",
       "      <td>3.0</td>\n",
       "      <td>3.0</td>\n",
       "      <td>1.0</td>\n",
       "      <td>4.0</td>\n",
       "      <td>4.0</td>\n",
       "      <td>...</td>\n",
       "      <td>5.0</td>\n",
       "      <td>1.0</td>\n",
       "      <td>3.0</td>\n",
       "      <td>3.0</td>\n",
       "      <td>3.0</td>\n",
       "      <td>4.0</td>\n",
       "      <td>4.0</td>\n",
       "      <td>4.0</td>\n",
       "      <td>5.0</td>\n",
       "      <td>1</td>\n",
       "    </tr>\n",
       "  </tbody>\n",
       "</table>\n",
       "<p>2 rows × 46 columns</p>\n",
       "</div>"
      ],
      "text/plain": [
       "   race_white  race_nerdy  race_native_american  writing_novel  \\\n",
       "0         1.0         0.0                   0.0            3.0   \n",
       "1         1.0         0.0                   0.0            1.0   \n",
       "\n",
       "   read_tech_reports  online_over_inperson  introspective  \\\n",
       "0                5.0                   4.0            5.0   \n",
       "1                4.0                   3.0            3.0   \n",
       "\n",
       "   hobbies_over_people  books_over_parties  bookish     ...      reserved  \\\n",
       "0                  4.0                 5.0      5.0     ...           7.0   \n",
       "1                  1.0                 4.0      4.0     ...           5.0   \n",
       "\n",
       "   conventional  was_odd_child  prefer_fictional_people  enjoy_learning  \\\n",
       "0           1.0            5.0                      5.0             5.0   \n",
       "1           1.0            3.0                      3.0             3.0   \n",
       "\n",
       "   excited_about_research  strange_person  like_superheroes  socially_awkward  \\\n",
       "0                     5.0             5.0               5.0               5.0   \n",
       "1                     4.0             4.0               4.0               5.0   \n",
       "\n",
       "   subject_id  \n",
       "0           0  \n",
       "1           1  \n",
       "\n",
       "[2 rows x 46 columns]"
      ]
     },
     "execution_count": 46,
     "metadata": {},
     "output_type": "execute_result"
    }
   ],
   "source": [
    "survey.head(2)"
   ]
  },
  {
   "cell_type": "code",
   "execution_count": 47,
   "metadata": {
    "collapsed": false
   },
   "outputs": [
    {
     "name": "stdout",
     "output_type": "stream",
     "text": [
      "Index([u'education', u'urban', u'gender', u'engnat', u'age', u'hand',\n",
      "       u'religion', u'voted', u'married', u'familysize', u'major',\n",
      "       u'subject_id'],\n",
      "      dtype='object')\n",
      "Index([u'race_white', u'race_nerdy', u'race_native_american', u'writing_novel',\n",
      "       u'read_tech_reports', u'online_over_inperson', u'introspective',\n",
      "       u'hobbies_over_people', u'books_over_parties', u'bookish',\n",
      "       u'libraries_over_publicspace', u'race_native_austrailian',\n",
      "       u'like_hard_material', u'race_hispanic', u'diagnosed_autistic',\n",
      "       u'play_many_videogames', u'race_arab', u'race_asian',\n",
      "       u'interested_science', u'playes_rpgs', u'in_advanced_classes',\n",
      "       u'collect_books', u'intelligence_over_appearance',\n",
      "       u'watch_science_shows', u'academic_over_social',\n",
      "       u'like_science_fiction', u'like_dry_topics', u'race_black', u'calm',\n",
      "       u'disorganized', u'extraverted', u'dependable', u'critical',\n",
      "       u'opennness', u'anxious', u'sympathetic', u'reserved', u'conventional',\n",
      "       u'was_odd_child', u'prefer_fictional_people', u'enjoy_learning',\n",
      "       u'excited_about_research', u'strange_person', u'like_superheroes',\n",
      "       u'socially_awkward', u'subject_id'],\n",
      "      dtype='object')\n"
     ]
    }
   ],
   "source": [
    "print demos_subset.columns\n",
    "print survey.columns"
   ]
  },
  {
   "cell_type": "markdown",
   "metadata": {},
   "source": [
    "### Pandas `.merge()` function\n",
    "\n",
    "The merge function is a built-in function in a DataFrame. The first argument is another DataFrame that you want to merge it with, and the `on` keyword argument is the key or keys that you want the DataFrames to be \"matched\" on.\n",
    "\n",
    "We are specifying `how='inner'` here, which essentially means that the subject_id has to be present in both dataframes to merge them together and return them. Because the demographics dataset has fewer subject_ids, it will only merge the subject_id rows from the survey dataset that are present in the demographics dataset."
   ]
  },
  {
   "cell_type": "code",
   "execution_count": 48,
   "metadata": {
    "collapsed": false
   },
   "outputs": [],
   "source": [
    "demos_survey = demos_subset.merge(survey, on=['subject_id'], how='inner')"
   ]
  },
  {
   "cell_type": "code",
   "execution_count": 49,
   "metadata": {
    "collapsed": false
   },
   "outputs": [
    {
     "name": "stdout",
     "output_type": "stream",
     "text": [
      "(700, 57)\n"
     ]
    },
    {
     "data": {
      "text/html": [
       "<div>\n",
       "<table border=\"1\" class=\"dataframe\">\n",
       "  <thead>\n",
       "    <tr style=\"text-align: right;\">\n",
       "      <th></th>\n",
       "      <th>education</th>\n",
       "      <th>urban</th>\n",
       "      <th>gender</th>\n",
       "      <th>engnat</th>\n",
       "      <th>age</th>\n",
       "      <th>hand</th>\n",
       "      <th>religion</th>\n",
       "      <th>voted</th>\n",
       "      <th>married</th>\n",
       "      <th>familysize</th>\n",
       "      <th>...</th>\n",
       "      <th>sympathetic</th>\n",
       "      <th>reserved</th>\n",
       "      <th>conventional</th>\n",
       "      <th>was_odd_child</th>\n",
       "      <th>prefer_fictional_people</th>\n",
       "      <th>enjoy_learning</th>\n",
       "      <th>excited_about_research</th>\n",
       "      <th>strange_person</th>\n",
       "      <th>like_superheroes</th>\n",
       "      <th>socially_awkward</th>\n",
       "    </tr>\n",
       "  </thead>\n",
       "  <tbody>\n",
       "    <tr>\n",
       "      <th>0</th>\n",
       "      <td>4.0</td>\n",
       "      <td>2.0</td>\n",
       "      <td>2.0</td>\n",
       "      <td>1.0</td>\n",
       "      <td>50.0</td>\n",
       "      <td>1.0</td>\n",
       "      <td>1.0</td>\n",
       "      <td>1.0</td>\n",
       "      <td>1.0</td>\n",
       "      <td>3.0</td>\n",
       "      <td>...</td>\n",
       "      <td>5.0</td>\n",
       "      <td>5.0</td>\n",
       "      <td>1.0</td>\n",
       "      <td>3.0</td>\n",
       "      <td>3.0</td>\n",
       "      <td>3.0</td>\n",
       "      <td>4.0</td>\n",
       "      <td>4.0</td>\n",
       "      <td>4.0</td>\n",
       "      <td>5.0</td>\n",
       "    </tr>\n",
       "    <tr>\n",
       "      <th>1</th>\n",
       "      <td>3.0</td>\n",
       "      <td>1.0</td>\n",
       "      <td>2.0</td>\n",
       "      <td>2.0</td>\n",
       "      <td>22.0</td>\n",
       "      <td>1.0</td>\n",
       "      <td>1.0</td>\n",
       "      <td>1.0</td>\n",
       "      <td>1.0</td>\n",
       "      <td>2.0</td>\n",
       "      <td>...</td>\n",
       "      <td>2.0</td>\n",
       "      <td>7.0</td>\n",
       "      <td>1.0</td>\n",
       "      <td>5.0</td>\n",
       "      <td>5.0</td>\n",
       "      <td>5.0</td>\n",
       "      <td>5.0</td>\n",
       "      <td>5.0</td>\n",
       "      <td>3.0</td>\n",
       "      <td>5.0</td>\n",
       "    </tr>\n",
       "  </tbody>\n",
       "</table>\n",
       "<p>2 rows × 57 columns</p>\n",
       "</div>"
      ],
      "text/plain": [
       "   education  urban  gender  engnat   age  hand  religion  voted  married  \\\n",
       "0        4.0    2.0     2.0     1.0  50.0   1.0       1.0    1.0      1.0   \n",
       "1        3.0    1.0     2.0     2.0  22.0   1.0       1.0    1.0      1.0   \n",
       "\n",
       "   familysize        ...        sympathetic  reserved  conventional  \\\n",
       "0         3.0        ...                5.0       5.0           1.0   \n",
       "1         2.0        ...                2.0       7.0           1.0   \n",
       "\n",
       "   was_odd_child  prefer_fictional_people  enjoy_learning  \\\n",
       "0            3.0                      3.0             3.0   \n",
       "1            5.0                      5.0             5.0   \n",
       "\n",
       "   excited_about_research  strange_person  like_superheroes  socially_awkward  \n",
       "0                     4.0             4.0               4.0               5.0  \n",
       "1                     5.0             5.0               3.0               5.0  \n",
       "\n",
       "[2 rows x 57 columns]"
      ]
     },
     "execution_count": 49,
     "metadata": {},
     "output_type": "execute_result"
    }
   ],
   "source": [
    "print demos_survey.shape\n",
    "demos_survey.head(2)"
   ]
  },
  {
   "cell_type": "markdown",
   "metadata": {},
   "source": [
    "### Make the demographic and survey data long format using melt\n",
    "\n",
    "This is the same way we used melt in a previous section. \n",
    "\n",
    "- For the demographic dataframe, specify two id_vars, gender and subject_id.\n",
    "- For the survey dataframe, only specify subject_id for id_vars"
   ]
  },
  {
   "cell_type": "code",
   "execution_count": 50,
   "metadata": {
    "collapsed": false
   },
   "outputs": [
    {
     "name": "stdout",
     "output_type": "stream",
     "text": [
      "(7000, 4)\n"
     ]
    },
    {
     "data": {
      "text/html": [
       "<div>\n",
       "<table border=\"1\" class=\"dataframe\">\n",
       "  <thead>\n",
       "    <tr style=\"text-align: right;\">\n",
       "      <th></th>\n",
       "      <th>subject_id</th>\n",
       "      <th>gender</th>\n",
       "      <th>variable</th>\n",
       "      <th>value</th>\n",
       "    </tr>\n",
       "  </thead>\n",
       "  <tbody>\n",
       "    <tr>\n",
       "      <th>0</th>\n",
       "      <td>1</td>\n",
       "      <td>2.0</td>\n",
       "      <td>education</td>\n",
       "      <td>4</td>\n",
       "    </tr>\n",
       "    <tr>\n",
       "      <th>1</th>\n",
       "      <td>2</td>\n",
       "      <td>2.0</td>\n",
       "      <td>education</td>\n",
       "      <td>3</td>\n",
       "    </tr>\n",
       "  </tbody>\n",
       "</table>\n",
       "</div>"
      ],
      "text/plain": [
       "   subject_id  gender   variable value\n",
       "0           1     2.0  education     4\n",
       "1           2     2.0  education     3"
      ]
     },
     "execution_count": 50,
     "metadata": {},
     "output_type": "execute_result"
    }
   ],
   "source": [
    "demos_long = pd.melt(demos_subset, id_vars=['subject_id','gender'])\n",
    "print demos_long.shape\n",
    "demos_long.head(2)"
   ]
  },
  {
   "cell_type": "code",
   "execution_count": 51,
   "metadata": {
    "collapsed": false
   },
   "outputs": [
    {
     "name": "stdout",
     "output_type": "stream",
     "text": [
      "(62595, 3)\n"
     ]
    },
    {
     "data": {
      "text/html": [
       "<div>\n",
       "<table border=\"1\" class=\"dataframe\">\n",
       "  <thead>\n",
       "    <tr style=\"text-align: right;\">\n",
       "      <th></th>\n",
       "      <th>subject_id</th>\n",
       "      <th>variable</th>\n",
       "      <th>value</th>\n",
       "    </tr>\n",
       "  </thead>\n",
       "  <tbody>\n",
       "    <tr>\n",
       "      <th>0</th>\n",
       "      <td>0</td>\n",
       "      <td>race_white</td>\n",
       "      <td>1.0</td>\n",
       "    </tr>\n",
       "    <tr>\n",
       "      <th>1</th>\n",
       "      <td>1</td>\n",
       "      <td>race_white</td>\n",
       "      <td>1.0</td>\n",
       "    </tr>\n",
       "  </tbody>\n",
       "</table>\n",
       "</div>"
      ],
      "text/plain": [
       "   subject_id    variable  value\n",
       "0           0  race_white    1.0\n",
       "1           1  race_white    1.0"
      ]
     },
     "execution_count": 51,
     "metadata": {},
     "output_type": "execute_result"
    }
   ],
   "source": [
    "survey_long = pd.melt(survey, id_vars=['subject_id'])\n",
    "print survey_long.shape\n",
    "survey_long.head(2)"
   ]
  },
  {
   "cell_type": "markdown",
   "metadata": {},
   "source": [
    "Merge together the long form datasets just like we did before with the wide format data.\n",
    "\n",
    "Here we will still merge on 'subject_id' with 'inner' for the how variable. We have duplicate named columns in each of these dataframes ('variable' and 'value'). We can specify `suffixes=('_survey','_demo')` to give the instances of the survey and demographic dataframes appropriate column names when they are joined together."
   ]
  },
  {
   "cell_type": "code",
   "execution_count": 52,
   "metadata": {
    "collapsed": false
   },
   "outputs": [
    {
     "name": "stdout",
     "output_type": "stream",
     "text": [
      "(315000, 6)\n"
     ]
    },
    {
     "data": {
      "text/html": [
       "<div>\n",
       "<table border=\"1\" class=\"dataframe\">\n",
       "  <thead>\n",
       "    <tr style=\"text-align: right;\">\n",
       "      <th></th>\n",
       "      <th>subject_id</th>\n",
       "      <th>variable_survey</th>\n",
       "      <th>value_survey</th>\n",
       "      <th>gender</th>\n",
       "      <th>variable_demo</th>\n",
       "      <th>value_demo</th>\n",
       "    </tr>\n",
       "  </thead>\n",
       "  <tbody>\n",
       "    <tr>\n",
       "      <th>0</th>\n",
       "      <td>1</td>\n",
       "      <td>race_white</td>\n",
       "      <td>1.0</td>\n",
       "      <td>2.0</td>\n",
       "      <td>education</td>\n",
       "      <td>4</td>\n",
       "    </tr>\n",
       "    <tr>\n",
       "      <th>1</th>\n",
       "      <td>1</td>\n",
       "      <td>race_white</td>\n",
       "      <td>1.0</td>\n",
       "      <td>2.0</td>\n",
       "      <td>urban</td>\n",
       "      <td>2</td>\n",
       "    </tr>\n",
       "    <tr>\n",
       "      <th>2</th>\n",
       "      <td>1</td>\n",
       "      <td>race_white</td>\n",
       "      <td>1.0</td>\n",
       "      <td>2.0</td>\n",
       "      <td>engnat</td>\n",
       "      <td>1</td>\n",
       "    </tr>\n",
       "  </tbody>\n",
       "</table>\n",
       "</div>"
      ],
      "text/plain": [
       "   subject_id variable_survey  value_survey  gender variable_demo value_demo\n",
       "0           1      race_white           1.0     2.0     education          4\n",
       "1           1      race_white           1.0     2.0         urban          2\n",
       "2           1      race_white           1.0     2.0        engnat          1"
      ]
     },
     "execution_count": 52,
     "metadata": {},
     "output_type": "execute_result"
    }
   ],
   "source": [
    "demos_survey_long = survey_long.merge(demos_long, on='subject_id', how='inner',\n",
    "                                      suffixes=('_survey','_demo'))\n",
    "print demos_survey_long.shape\n",
    "demos_survey_long.head(3)"
   ]
  },
  {
   "cell_type": "markdown",
   "metadata": {},
   "source": [
    "### Pivot with the merged long dataframe\n",
    "\n",
    "Now, use the pivot_table function on the merged demographics and survey dataframes (the long one) with columns the variable column for survey as well as the variable column for the demographics. Make the values the survey values column and the index gender. Set the aggregate function to just be the mean.\n",
    "\n",
    "For example:\n",
    "\n",
    "```python\n",
    "demo_survey_means = pd.pivot_table(demos_survey_long, columns=['variable_survey', 'variable_demo'], \n",
    "                                   values='value_survey',\n",
    "                                   index=['gender'], aggfunc=[np.mean],\n",
    "                                   fill_value=np.nan)\n",
    "```"
   ]
  },
  {
   "cell_type": "code",
   "execution_count": 53,
   "metadata": {
    "collapsed": false
   },
   "outputs": [],
   "source": [
    "demo_survey_means = pd.pivot_table(demos_survey_long, columns=['variable_survey', 'variable_demo'], \n",
    "                                   values='value_survey',\n",
    "                                   index=['gender'], aggfunc=[np.mean],\n",
    "                                   fill_value=np.nan)"
   ]
  },
  {
   "cell_type": "code",
   "execution_count": 54,
   "metadata": {
    "collapsed": false
   },
   "outputs": [
    {
     "data": {
      "text/html": [
       "<div>\n",
       "<table border=\"1\" class=\"dataframe\">\n",
       "  <thead>\n",
       "    <tr>\n",
       "      <th></th>\n",
       "      <th colspan=\"21\" halign=\"left\">mean</th>\n",
       "    </tr>\n",
       "    <tr>\n",
       "      <th>variable_survey</th>\n",
       "      <th colspan=\"10\" halign=\"left\">academic_over_social</th>\n",
       "      <th>...</th>\n",
       "      <th colspan=\"10\" halign=\"left\">writing_novel</th>\n",
       "    </tr>\n",
       "    <tr>\n",
       "      <th>variable_demo</th>\n",
       "      <th>age</th>\n",
       "      <th>education</th>\n",
       "      <th>engnat</th>\n",
       "      <th>familysize</th>\n",
       "      <th>hand</th>\n",
       "      <th>major</th>\n",
       "      <th>married</th>\n",
       "      <th>religion</th>\n",
       "      <th>urban</th>\n",
       "      <th>voted</th>\n",
       "      <th>...</th>\n",
       "      <th>age</th>\n",
       "      <th>education</th>\n",
       "      <th>engnat</th>\n",
       "      <th>familysize</th>\n",
       "      <th>hand</th>\n",
       "      <th>major</th>\n",
       "      <th>married</th>\n",
       "      <th>religion</th>\n",
       "      <th>urban</th>\n",
       "      <th>voted</th>\n",
       "    </tr>\n",
       "    <tr>\n",
       "      <th>gender</th>\n",
       "      <th></th>\n",
       "      <th></th>\n",
       "      <th></th>\n",
       "      <th></th>\n",
       "      <th></th>\n",
       "      <th></th>\n",
       "      <th></th>\n",
       "      <th></th>\n",
       "      <th></th>\n",
       "      <th></th>\n",
       "      <th></th>\n",
       "      <th></th>\n",
       "      <th></th>\n",
       "      <th></th>\n",
       "      <th></th>\n",
       "      <th></th>\n",
       "      <th></th>\n",
       "      <th></th>\n",
       "      <th></th>\n",
       "      <th></th>\n",
       "      <th></th>\n",
       "    </tr>\n",
       "  </thead>\n",
       "  <tbody>\n",
       "    <tr>\n",
       "      <th>0.0</th>\n",
       "      <td>3.000000</td>\n",
       "      <td>3.000000</td>\n",
       "      <td>3.000000</td>\n",
       "      <td>3.000000</td>\n",
       "      <td>3.000000</td>\n",
       "      <td>3.000000</td>\n",
       "      <td>3.000000</td>\n",
       "      <td>3.000000</td>\n",
       "      <td>3.000000</td>\n",
       "      <td>3.000000</td>\n",
       "      <td>...</td>\n",
       "      <td>5.000000</td>\n",
       "      <td>5.000000</td>\n",
       "      <td>5.000000</td>\n",
       "      <td>5.000000</td>\n",
       "      <td>5.000000</td>\n",
       "      <td>5.000000</td>\n",
       "      <td>5.000000</td>\n",
       "      <td>5.000000</td>\n",
       "      <td>5.000000</td>\n",
       "      <td>5.000000</td>\n",
       "    </tr>\n",
       "    <tr>\n",
       "      <th>1.0</th>\n",
       "      <td>3.536232</td>\n",
       "      <td>3.536232</td>\n",
       "      <td>3.536232</td>\n",
       "      <td>3.536232</td>\n",
       "      <td>3.536232</td>\n",
       "      <td>3.536232</td>\n",
       "      <td>3.536232</td>\n",
       "      <td>3.536232</td>\n",
       "      <td>3.536232</td>\n",
       "      <td>3.536232</td>\n",
       "      <td>...</td>\n",
       "      <td>2.576087</td>\n",
       "      <td>2.576087</td>\n",
       "      <td>2.576087</td>\n",
       "      <td>2.576087</td>\n",
       "      <td>2.576087</td>\n",
       "      <td>2.576087</td>\n",
       "      <td>2.576087</td>\n",
       "      <td>2.576087</td>\n",
       "      <td>2.576087</td>\n",
       "      <td>2.576087</td>\n",
       "    </tr>\n",
       "    <tr>\n",
       "      <th>2.0</th>\n",
       "      <td>3.762755</td>\n",
       "      <td>3.762755</td>\n",
       "      <td>3.762755</td>\n",
       "      <td>3.762755</td>\n",
       "      <td>3.762755</td>\n",
       "      <td>3.762755</td>\n",
       "      <td>3.762755</td>\n",
       "      <td>3.762755</td>\n",
       "      <td>3.762755</td>\n",
       "      <td>3.762755</td>\n",
       "      <td>...</td>\n",
       "      <td>3.079082</td>\n",
       "      <td>3.079082</td>\n",
       "      <td>3.079082</td>\n",
       "      <td>3.079082</td>\n",
       "      <td>3.079082</td>\n",
       "      <td>3.079082</td>\n",
       "      <td>3.079082</td>\n",
       "      <td>3.079082</td>\n",
       "      <td>3.079082</td>\n",
       "      <td>3.079082</td>\n",
       "    </tr>\n",
       "    <tr>\n",
       "      <th>3.0</th>\n",
       "      <td>3.677419</td>\n",
       "      <td>3.677419</td>\n",
       "      <td>3.677419</td>\n",
       "      <td>3.677419</td>\n",
       "      <td>3.677419</td>\n",
       "      <td>3.677419</td>\n",
       "      <td>3.677419</td>\n",
       "      <td>3.677419</td>\n",
       "      <td>3.677419</td>\n",
       "      <td>3.677419</td>\n",
       "      <td>...</td>\n",
       "      <td>3.580645</td>\n",
       "      <td>3.580645</td>\n",
       "      <td>3.580645</td>\n",
       "      <td>3.580645</td>\n",
       "      <td>3.580645</td>\n",
       "      <td>3.580645</td>\n",
       "      <td>3.580645</td>\n",
       "      <td>3.580645</td>\n",
       "      <td>3.580645</td>\n",
       "      <td>3.580645</td>\n",
       "    </tr>\n",
       "  </tbody>\n",
       "</table>\n",
       "<p>4 rows × 450 columns</p>\n",
       "</div>"
      ],
      "text/plain": [
       "                                mean                                           \\\n",
       "variable_survey academic_over_social                                            \n",
       "variable_demo                    age education    engnat familysize      hand   \n",
       "gender                                                                          \n",
       "0.0                         3.000000  3.000000  3.000000   3.000000  3.000000   \n",
       "1.0                         3.536232  3.536232  3.536232   3.536232  3.536232   \n",
       "2.0                         3.762755  3.762755  3.762755   3.762755  3.762755   \n",
       "3.0                         3.677419  3.677419  3.677419   3.677419  3.677419   \n",
       "\n",
       "                                                                     ...     \\\n",
       "variable_survey                                                      ...      \n",
       "variable_demo       major   married  religion     urban     voted    ...      \n",
       "gender                                                               ...      \n",
       "0.0              3.000000  3.000000  3.000000  3.000000  3.000000    ...      \n",
       "1.0              3.536232  3.536232  3.536232  3.536232  3.536232    ...      \n",
       "2.0              3.762755  3.762755  3.762755  3.762755  3.762755    ...      \n",
       "3.0              3.677419  3.677419  3.677419  3.677419  3.677419    ...      \n",
       "\n",
       "                                                                        \\\n",
       "variable_survey writing_novel                                            \n",
       "variable_demo             age education    engnat familysize      hand   \n",
       "gender                                                                   \n",
       "0.0                  5.000000  5.000000  5.000000   5.000000  5.000000   \n",
       "1.0                  2.576087  2.576087  2.576087   2.576087  2.576087   \n",
       "2.0                  3.079082  3.079082  3.079082   3.079082  3.079082   \n",
       "3.0                  3.580645  3.580645  3.580645   3.580645  3.580645   \n",
       "\n",
       "                                                                   \n",
       "variable_survey                                                    \n",
       "variable_demo       major   married  religion     urban     voted  \n",
       "gender                                                             \n",
       "0.0              5.000000  5.000000  5.000000  5.000000  5.000000  \n",
       "1.0              2.576087  2.576087  2.576087  2.576087  2.576087  \n",
       "2.0              3.079082  3.079082  3.079082  3.079082  3.079082  \n",
       "3.0              3.580645  3.580645  3.580645  3.580645  3.580645  \n",
       "\n",
       "[4 rows x 450 columns]"
      ]
     },
     "execution_count": 54,
     "metadata": {},
     "output_type": "execute_result"
    }
   ],
   "source": [
    "demo_survey_means"
   ]
  },
  {
   "cell_type": "markdown",
   "metadata": {},
   "source": [
    "You can see that if you specify multiple variable columns in the columns argument, it will stack them in a hierarchical column setup. So, for every variable in variable_survey, the mean for each gender for each variable in variable_demo.\n",
    "\n",
    "A simpler version below just has the variable_demo in the columns argument, in which case it calculates the mean across those variables for each gender in the dataframe."
   ]
  },
  {
   "cell_type": "code",
   "execution_count": 57,
   "metadata": {
    "collapsed": false
   },
   "outputs": [],
   "source": [
    "demo_survey_means = pd.pivot_table(demos_survey_long, columns=['variable_demo'], \n",
    "                                   values='value_survey',\n",
    "                                   index=['gender'], aggfunc=[np.mean],\n",
    "                                   fill_value=np.nan)"
   ]
  },
  {
   "cell_type": "code",
   "execution_count": 58,
   "metadata": {
    "collapsed": false
   },
   "outputs": [
    {
     "data": {
      "text/html": [
       "<div>\n",
       "<table border=\"1\" class=\"dataframe\">\n",
       "  <thead>\n",
       "    <tr>\n",
       "      <th></th>\n",
       "      <th colspan=\"10\" halign=\"left\">mean</th>\n",
       "    </tr>\n",
       "    <tr>\n",
       "      <th>variable_demo</th>\n",
       "      <th>age</th>\n",
       "      <th>education</th>\n",
       "      <th>engnat</th>\n",
       "      <th>familysize</th>\n",
       "      <th>hand</th>\n",
       "      <th>major</th>\n",
       "      <th>married</th>\n",
       "      <th>religion</th>\n",
       "      <th>urban</th>\n",
       "      <th>voted</th>\n",
       "    </tr>\n",
       "    <tr>\n",
       "      <th>gender</th>\n",
       "      <th></th>\n",
       "      <th></th>\n",
       "      <th></th>\n",
       "      <th></th>\n",
       "      <th></th>\n",
       "      <th></th>\n",
       "      <th></th>\n",
       "      <th></th>\n",
       "      <th></th>\n",
       "      <th></th>\n",
       "    </tr>\n",
       "  </thead>\n",
       "  <tbody>\n",
       "    <tr>\n",
       "      <th>0.0</th>\n",
       "      <td>3.333333</td>\n",
       "      <td>3.333333</td>\n",
       "      <td>3.333333</td>\n",
       "      <td>3.333333</td>\n",
       "      <td>3.333333</td>\n",
       "      <td>3.333333</td>\n",
       "      <td>3.333333</td>\n",
       "      <td>3.333333</td>\n",
       "      <td>3.333333</td>\n",
       "      <td>3.333333</td>\n",
       "    </tr>\n",
       "    <tr>\n",
       "      <th>1.0</th>\n",
       "      <td>3.108857</td>\n",
       "      <td>3.108857</td>\n",
       "      <td>3.108857</td>\n",
       "      <td>3.108857</td>\n",
       "      <td>3.108857</td>\n",
       "      <td>3.108857</td>\n",
       "      <td>3.108857</td>\n",
       "      <td>3.108857</td>\n",
       "      <td>3.108857</td>\n",
       "      <td>3.108857</td>\n",
       "    </tr>\n",
       "    <tr>\n",
       "      <th>2.0</th>\n",
       "      <td>3.152551</td>\n",
       "      <td>3.152551</td>\n",
       "      <td>3.152551</td>\n",
       "      <td>3.152551</td>\n",
       "      <td>3.152551</td>\n",
       "      <td>3.152551</td>\n",
       "      <td>3.152551</td>\n",
       "      <td>3.152551</td>\n",
       "      <td>3.152551</td>\n",
       "      <td>3.152551</td>\n",
       "    </tr>\n",
       "    <tr>\n",
       "      <th>3.0</th>\n",
       "      <td>3.328315</td>\n",
       "      <td>3.328315</td>\n",
       "      <td>3.328315</td>\n",
       "      <td>3.328315</td>\n",
       "      <td>3.328315</td>\n",
       "      <td>3.328315</td>\n",
       "      <td>3.328315</td>\n",
       "      <td>3.328315</td>\n",
       "      <td>3.328315</td>\n",
       "      <td>3.328315</td>\n",
       "    </tr>\n",
       "  </tbody>\n",
       "</table>\n",
       "</div>"
      ],
      "text/plain": [
       "                   mean                                                     \\\n",
       "variable_demo       age education    engnat familysize      hand     major   \n",
       "gender                                                                       \n",
       "0.0            3.333333  3.333333  3.333333   3.333333  3.333333  3.333333   \n",
       "1.0            3.108857  3.108857  3.108857   3.108857  3.108857  3.108857   \n",
       "2.0            3.152551  3.152551  3.152551   3.152551  3.152551  3.152551   \n",
       "3.0            3.328315  3.328315  3.328315   3.328315  3.328315  3.328315   \n",
       "\n",
       "                                                       \n",
       "variable_demo   married  religion     urban     voted  \n",
       "gender                                                 \n",
       "0.0            3.333333  3.333333  3.333333  3.333333  \n",
       "1.0            3.108857  3.108857  3.108857  3.108857  \n",
       "2.0            3.152551  3.152551  3.152551  3.152551  \n",
       "3.0            3.328315  3.328315  3.328315  3.328315  "
      ]
     },
     "execution_count": 58,
     "metadata": {},
     "output_type": "execute_result"
    }
   ],
   "source": [
    "demo_survey_means"
   ]
  },
  {
   "cell_type": "code",
   "execution_count": null,
   "metadata": {
    "collapsed": true
   },
   "outputs": [],
   "source": []
  }
 ],
 "metadata": {
  "kernelspec": {
   "display_name": "Python [dsi]",
   "language": "python",
   "name": "Python [dsi]"
  },
  "language_info": {
   "codemirror_mode": {
    "name": "ipython",
    "version": 2
   },
   "file_extension": ".py",
   "mimetype": "text/x-python",
   "name": "python",
   "nbconvert_exporter": "python",
   "pygments_lexer": "ipython2",
   "version": "2.7.12"
  }
 },
 "nbformat": 4,
 "nbformat_minor": 0
}
