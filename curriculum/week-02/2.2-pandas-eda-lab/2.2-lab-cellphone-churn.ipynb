{
 "cells": [
  {
   "cell_type": "markdown",
   "metadata": {},
   "source": [
    "# Cellphone churn dataset\n",
    "\n",
    "---\n",
    "\n",
    "This dataset, located in the `cell_phone_churn` folder, is a dataset containing information on the cell phone \"churn rates\" for people in different states\n",
    "\n",
    "The columns are described:\n",
    "    \n",
    "    state: state\n",
    "    account_length: days in account\n",
    "    area_code: phone area code\n",
    "    intl_plan: international plan vs. not\n",
    "    vmail_plan: voicemail plan vs. not\n",
    "    vmail_message: how many voicemail messages\n",
    "    day_mins: number of day mins\n",
    "    day_calls: number of day calls\n",
    "    day_charge: day call charge\n",
    "    eve_mins: number of evening call mins\n",
    "    eve_calls: number of evening calls\n",
    "    eve_charge: evening call charge\n",
    "    night_mins: number of night minutes\n",
    "    night_calls: number of night calls\n",
    "    night_charge: charge for night calls\n",
    "    intl_mins: number of international calls\n",
    "    intl_calls: international call minutes\n",
    "    intl_charge: charge for international calls\n",
    "    custserv_calls: how many customer service calls\n",
    "    churn: churned vs not\n",
    "    \n",
    "The implied variable of interest here is the churn. You will want to subset by churn and look at different variables, probably plotting in different colors variables on the same plot. \n",
    "---\n",
    "\n",
    "### Requirements\n",
    "\n",
    "As a group you should:\n",
    "\n",
    "1. Load and clean, if neccessary, the data with pandas.\n",
    "2. Identify variables and subsets of the data your are interested in as a group.\n",
    "2. Describe the data and investigate any outliers for those variables.\n",
    "3. Explore relationships between variables.\n",
    "4. Visualize at least three variables of your choice with appropriate visualizations. They should be readable.\n",
    "5. Visualize subsets of the variables you chose, subsetted conditional on some other variable. For example, number of customer service calls by churn rate.\n",
    "6. Write a brief report on at least 5 things you found interesting about the data or, if it doesn't interest you at all, things you found out and why they are boring."
   ]
  }
 ],
 "metadata": {
  "kernelspec": {
   "display_name": "Python 2",
   "language": "python",
   "name": "python2"
  },
  "language_info": {
   "codemirror_mode": {
    "name": "ipython",
    "version": 2
   },
   "file_extension": ".py",
   "mimetype": "text/x-python",
   "name": "python",
   "nbconvert_exporter": "python",
   "pygments_lexer": "ipython2",
   "version": "2.7.12"
  }
 },
 "nbformat": 4,
 "nbformat_minor": 0
}
