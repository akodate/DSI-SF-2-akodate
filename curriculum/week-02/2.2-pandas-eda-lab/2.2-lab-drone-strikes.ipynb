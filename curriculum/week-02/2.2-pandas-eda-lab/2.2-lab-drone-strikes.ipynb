{
 "cells": [
  {
   "cell_type": "markdown",
   "metadata": {},
   "source": [
    "# Drone strike dataset\n",
    "\n",
    "**Challenge dataset**\n",
    "\n",
    "---\n",
    "\n",
    "This dataset, located in the `drone_strikes` folder, has a variety of information about drone strikes.\n",
    "\n",
    "I don't describe the columns, that is up to you as a group to infer/figure out.\n",
    "    \n",
    "This dataset is challenging for a variety of reasons. It is not cleaned up - there are missing cells. Relationships between variables are more complicated. A lot of the variables are in string format, and if you are interested in them, may need to be \"recoded\" as binary 1 vs. 0 in a new column.\n",
    "\n",
    "**If you choose this dataset it is as much a data cleaning lab as an EDA lab. Buyer beware.**\n",
    "\n",
    "---\n",
    "\n",
    "### Requirements\n",
    "\n",
    "As a group you should:\n",
    "\n",
    "1. Load and clean the data with pandas. You will probably want to remove variables you are not interested first so that cleaning is easier.\n",
    "2. Identify variables and subsets of the data your are interested in as a group.\n",
    "2. Describe the data and investigate any outliers for those variables.\n",
    "3. Explore relationships between variables.\n",
    "4. Visualize at least three variables of your choice with appropriate visualizations. They should be understandable.\n",
    "5. Visualize subsets of the variables you chose, subsetted conditional on some other variable. For example, number of civillians killed by area.\n",
    "6. Write a brief report on at least 5 things you found interesting about the data or, if it doesn't interest you at all, things you found out and why they are boring."
   ]
  },
  {
   "cell_type": "code",
   "execution_count": 1,
   "metadata": {
    "collapsed": true
   },
   "outputs": [],
   "source": [
    "import numpy as np\n",
    "import scipy.stats as stats\n",
    "import seaborn as sns\n",
    "import matplotlib.pyplot as plt\n",
    "import pandas as pd\n",
    "\n",
    "drone_file = '/Users/alex/Desktop/DSI-SF-2/datasets/drone_strikes/drones.csv'\n",
    "drones = pd.read_csv(drone_file)"
   ]
  },
  {
   "cell_type": "code",
   "execution_count": 2,
   "metadata": {
    "collapsed": false
   },
   "outputs": [
    {
     "name": "stdout",
     "output_type": "stream",
     "text": [
      "<class 'pandas.core.frame.DataFrame'>\n",
      "RangeIndex: 381 entries, 0 to 380\n",
      "Data columns (total 27 columns):\n",
      "Strike ID                   381 non-null int64\n",
      "Bureau ID                   381 non-null object\n",
      "Date                        381 non-null object\n",
      "Time                        77 non-null object\n",
      "Location                    381 non-null object\n",
      "Area                        381 non-null object\n",
      "Target                      65 non-null object\n",
      "Target Group                124 non-null object\n",
      "Westerners involved         2 non-null object\n",
      "Minimum Total Killed        381 non-null int64\n",
      "Mean Total Killed           283 non-null float64\n",
      "Maximum Total Killed        381 non-null int64\n",
      "Number of deaths            373 non-null object\n",
      "AQ/TB Killed                41 non-null object\n",
      "Minimum civilians killed    173 non-null float64\n",
      "Maximum civilians killed    173 non-null float64\n",
      "Civilians Killed            267 non-null object\n",
      "Min injured                 305 non-null float64\n",
      "Max injured                 305 non-null float64\n",
      "Injured                     332 non-null object\n",
      "Minimum children killed     69 non-null float64\n",
      "Max children killed         68 non-null float64\n",
      "Children Killed             100 non-null object\n",
      "Pakistani approval          19 non-null object\n",
      "Short Summary               380 non-null object\n",
      "Related ID                  47 non-null object\n",
      "Notes                       3 non-null object\n",
      "dtypes: float64(7), int64(3), object(17)\n",
      "memory usage: 80.4+ KB\n"
     ]
    }
   ],
   "source": [
    "drones.info()"
   ]
  },
  {
   "cell_type": "code",
   "execution_count": 3,
   "metadata": {
    "collapsed": true
   },
   "outputs": [],
   "source": [
    "# Strike ID, Bureau ID, Related ID, Time, Notes, Westerners Involved, \n",
    "# Mean Total Killed, Number of Deaths"
   ]
  },
  {
   "cell_type": "code",
   "execution_count": 4,
   "metadata": {
    "collapsed": false
   },
   "outputs": [],
   "source": [
    "drones.drop(['Strike ID', 'Bureau ID', 'Related ID', 'Time', 'Notes', 'Mean Total Killed', 'Number of deaths'], axis=1, inplace=True)"
   ]
  },
  {
   "cell_type": "code",
   "execution_count": 5,
   "metadata": {
    "collapsed": false
   },
   "outputs": [
    {
     "data": {
      "text/plain": [
       "Date                          0\n",
       "Location                      0\n",
       "Area                          0\n",
       "Target                      316\n",
       "Target Group                257\n",
       "Westerners involved         379\n",
       "Minimum Total Killed          0\n",
       "Maximum Total Killed          0\n",
       "AQ/TB Killed                340\n",
       "Minimum civilians killed    208\n",
       "Maximum civilians killed    208\n",
       "Civilians Killed            114\n",
       "Min injured                  76\n",
       "Max injured                  76\n",
       "Injured                      49\n",
       "Minimum children killed     312\n",
       "Max children killed         313\n",
       "Children Killed             281\n",
       "Pakistani approval          362\n",
       "Short Summary                 1\n",
       "dtype: int64"
      ]
     },
     "execution_count": 5,
     "metadata": {},
     "output_type": "execute_result"
    }
   ],
   "source": [
    "drones.isnull().sum()"
   ]
  },
  {
   "cell_type": "code",
   "execution_count": 7,
   "metadata": {
    "collapsed": false
   },
   "outputs": [],
   "source": [
    "pd.set_option(\"display.max_rows\", 400)\n",
    "pd.set_option(\"display.max_columns\", 30)"
   ]
  },
  {
   "cell_type": "code",
   "execution_count": 49,
   "metadata": {
    "collapsed": false
   },
   "outputs": [
    {
     "data": {
      "text/plain": [
       "dtype('O')"
      ]
     },
     "execution_count": 49,
     "metadata": {},
     "output_type": "execute_result"
    }
   ],
   "source": [
    "def hasNumbers(inputString):\n",
    "    return any(char.isdigit() for char in inputString)\n",
    "\n",
    "civ_mask = (~drones['Civilians Killed'].isnull()&\n",
    "            (drones['Minimum civilians killed'].isnull()|drones['Maximum civilians killed'].isnull()))\n",
    "\n",
    "drones[civ_mask]\n",
    "\n",
    "# print drone[civ_mask].ix[:,['Minimum civilians killed','Maximum civilians killed','Civilians Killed']]\n",
    "\n",
    "# pd.to_numeric(drones['Minimum Total Killed'],errors='coerce')\n",
    "# pd.to_numeric(drones['Maximum Total Killed'],errors='coerce')\n",
    "\n",
    "drones[civ_mask]['Civilians Killed'].dtypes"
   ]
  },
  {
   "cell_type": "code",
   "execution_count": 52,
   "metadata": {
    "collapsed": false
   },
   "outputs": [
    {
     "data": {
      "text/plain": [
       "Utah      0.506181\n",
       "Ohio      0.221054\n",
       "Texas     1.054653\n",
       "Oregon    0.707606\n",
       "dtype: float64"
      ]
     },
     "execution_count": 52,
     "metadata": {},
     "output_type": "execute_result"
    }
   ],
   "source": [
    "frame = pd.DataFrame(np.random.randn(4, 3), columns=list('bde'), index=['Utah', 'Ohio', 'Texas', 'Oregon'])\n",
    "\n",
    "frame.apply(np.std, axis=1)"
   ]
  },
  {
   "cell_type": "code",
   "execution_count": null,
   "metadata": {
    "collapsed": true
   },
   "outputs": [],
   "source": []
  }
 ],
 "metadata": {
  "anaconda-cloud": {},
  "kernelspec": {
   "display_name": "Python [dsi]",
   "language": "python",
   "name": "Python [dsi]"
  },
  "language_info": {
   "codemirror_mode": {
    "name": "ipython",
    "version": 2
   },
   "file_extension": ".py",
   "mimetype": "text/x-python",
   "name": "python",
   "nbconvert_exporter": "python",
   "pygments_lexer": "ipython2",
   "version": "2.7.12"
  }
 },
 "nbformat": 4,
 "nbformat_minor": 0
}
