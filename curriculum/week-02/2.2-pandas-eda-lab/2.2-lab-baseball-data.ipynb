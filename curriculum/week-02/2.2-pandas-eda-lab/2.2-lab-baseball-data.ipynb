{
 "cells": [
  {
   "cell_type": "markdown",
   "metadata": {},
   "source": [
    "# Baseball dataset\n",
    "\n",
    "---\n",
    "\n",
    "This dataset, located in the `baseball_2015_games` folder, is a dataset containing information on the baseball games that occured in 2015 with player data.\n",
    "\n",
    "I'm dont know about baseball metrics, so some of these have question marks. I'm sure you can easily look them up online. The columns are described:\n",
    "    \n",
    "    game_id: unique game identifier\n",
    "    home_team: the first team (poorly named)\n",
    "    away_game: is it an away game for the first team\n",
    "    away_team: the other team (poorly named)\n",
    "    won_game: did the first team win\n",
    "    runs: number of runs for first team\n",
    "    away_runs: number of runs for second team\n",
    "    game_time: game time in hours\n",
    "    attendance: attendance at stadium\n",
    "    streak: winning/losing streak for first team\n",
    "    total_wins: total wins for first team\n",
    "    total_losses: total losses for first team\n",
    "    AB: ?\n",
    "    BA: ?\n",
    "    BB: ?\n",
    "    ERA: ?\n",
    "    H: ?\n",
    "    HR: ?\n",
    "    IP: ?\n",
    "    OBP: ?\n",
    "    OPS: ?\n",
    "    RBI: ?\n",
    "    SLG: ?\n",
    "    SO: ?\n",
    "    player: player name\n",
    "    player_type: pitcher or batter\n",
    "    position: sub-position of player\n",
    "    \n",
    "This is a challenging dataset but has quite a lot of information. Looking at different subsets of the data is a good way to examine different variables. \n",
    "---\n",
    "\n",
    "### Requirements\n",
    "\n",
    "As a group you should:\n",
    "\n",
    "1. Load and clean, if neccessary, the data with pandas.\n",
    "2. Identify variables and subsets of the data your are interested in as a group.\n",
    "2. Describe the data and investigate outliers for those variables.\n",
    "3. Explore relationships between variables.\n",
    "4. Visualize at least three variables of your choice with appropriate visualizations. They should be readable.\n",
    "5. Visualize subsets of the variables you chose, subsetted conditional on some other variable. For example, number of attendance in the stadium a team by opponent.\n",
    "6. Write a brief report on at least 5 things you found interesting about the data or, if it doesn't interest you at all, things you found out and why they are boring.\n"
   ]
  },
  {
   "cell_type": "code",
   "execution_count": null,
   "metadata": {
    "collapsed": true
   },
   "outputs": [],
   "source": []
  }
 ],
 "metadata": {
  "kernelspec": {
   "display_name": "Python 2",
   "language": "python",
   "name": "python2"
  },
  "language_info": {
   "codemirror_mode": {
    "name": "ipython",
    "version": 2
   },
   "file_extension": ".py",
   "mimetype": "text/x-python",
   "name": "python",
   "nbconvert_exporter": "python",
   "pygments_lexer": "ipython2",
   "version": "2.7.12"
  }
 },
 "nbformat": 4,
 "nbformat_minor": 0
}
