{
 "cells": [
  {
   "cell_type": "code",
   "execution_count": 36,
   "metadata": {
    "collapsed": false
   },
   "outputs": [
    {
     "name": "stdout",
     "output_type": "stream",
     "text": [
      "{'tuple': 1, 'int': 1, 'float': 1, 'bool': 2, 'str': 2, 'dict': 1}\n"
     ]
    }
   ],
   "source": [
    "mixedlist = [5, \"Foo\", (2, 4, 5, 100), {\"fox\": \"mammal\"}, False, True, 2.987, \"Bar\"]\n",
    "typelist = {\n",
    "    'int': 0,\n",
    "    'float': 0,\n",
    "    'str': 0,\n",
    "    'tuple': 0,\n",
    "    'dict': 0,\n",
    "    'bool': 0\n",
    "    }\n",
    "for i in mixedlist:\n",
    "    typelist[type(i).__name__] += 1\n",
    "print typelist"
   ]
  }
 ],
 "metadata": {
  "anaconda-cloud": {},
  "kernelspec": {
   "display_name": "Python [dsi]",
   "language": "python",
   "name": "Python [dsi]"
  },
  "language_info": {
   "codemirror_mode": {
    "name": "ipython",
    "version": 2
   },
   "file_extension": ".py",
   "mimetype": "text/x-python",
   "name": "python",
   "nbconvert_exporter": "python",
   "pygments_lexer": "ipython2",
   "version": "2.7.12"
  }
 },
 "nbformat": 4,
 "nbformat_minor": 0
}
