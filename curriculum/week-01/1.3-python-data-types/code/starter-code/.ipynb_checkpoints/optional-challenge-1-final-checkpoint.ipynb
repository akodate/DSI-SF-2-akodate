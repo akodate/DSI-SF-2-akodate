{
 "cells": [
  {
   "cell_type": "code",
   "execution_count": 5,
   "metadata": {
    "collapsed": false
   },
   "outputs": [
    {
     "name": "stdout",
     "output_type": "stream",
     "text": [
      "{'tuple': 1, 'int': 1, 'float': 1, 'bool': 2, 'str': 2, 'dict': 1}\n"
     ]
    }
   ],
   "source": [
    "def count_types(mixed_list):\n",
    "    type_counts = {}\n",
    "    for i in mixed_list:\n",
    "        vartype = type(i).__name__\n",
    "        if vartype in type_counts:\n",
    "            type_counts[vartype] += 1\n",
    "        else:\n",
    "            type_counts[vartype] = 1\n",
    "    return type_counts\n",
    "\n",
    "example_input = [5, \"Foo\", (2, 4, 5, 100), {\"fox\": \"mammal\"}, False, True, 2.987, \"Bar\"]\n",
    "print count_types(example_input)"
   ]
  },
  {
   "cell_type": "code",
   "execution_count": null,
   "metadata": {
    "collapsed": true
   },
   "outputs": [],
   "source": []
  }
 ],
 "metadata": {
  "anaconda-cloud": {},
  "kernelspec": {
   "display_name": "Python [dsi]",
   "language": "python",
   "name": "Python [dsi]"
  },
  "language_info": {
   "codemirror_mode": {
    "name": "ipython",
    "version": 2
   },
   "file_extension": ".py",
   "mimetype": "text/x-python",
   "name": "python",
   "nbconvert_exporter": "python",
   "pygments_lexer": "ipython2",
   "version": "2.7.12"
  }
 },
 "nbformat": 4,
 "nbformat_minor": 0
}
