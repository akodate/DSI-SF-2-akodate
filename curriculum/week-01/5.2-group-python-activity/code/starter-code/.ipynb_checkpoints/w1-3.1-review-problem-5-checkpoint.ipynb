{
 "cells": [
  {
   "cell_type": "markdown",
   "metadata": {},
   "source": [
    "### Review problem 5 (hard)\n",
    "\n",
    "In this problem you will be defining a function that calculates the **pearson correlation coefficient** between two lists of numbers.\n",
    "\n",
    "Your function should:\n",
    "\n",
    "- Accept two arguments that are the provided lists ```X``` and ```Y```.\n",
    "- Print the length of ```X``` and ```Y``` using the ```len()``` function, like so:\n",
    "    ```python\n",
    "    Length of X: 40\n",
    "    Length of Y: 40\n",
    "    ```\n",
    "- Calculate the **pearson correlation** between the two lists and assign the value to variable ```pearson_r```.\n",
    "    - Create a variable ```X_deviation``` that is each element of ```X``` minus the **mean** of ```X```. You can use ```np.mean()``` to calculate the mean.\n",
    "    - Create a variable ```Y_deviation``` that is each element of ```Y``` minus the **mean** of ```Y```.\n",
    "    - Create a variable ```sqrt_X_deviation_sq``` that is the **square root** of the **sum** of the **square** of each element of ```X_deviation```. Ive partially completed it below, for clarification:\n",
    "        ```python\n",
    "        sqrt_X_deviation_sq = np.sqrt(np.sum(\"each element of X_deviation squared\"))\n",
    "        ```\n",
    "    - Create a variable ```sqrt_Y_deviation_sq``` that is the same thing you just did for ```X_deviation``` but for ```Y_deviation```.\n",
    "    - Create a variable ```sum_XY_deviation``` that is the **sum** of each element of X and Y multiplied by each other, in order. You can use the ```zip()``` function to iterate through two lists at the same time:\n",
    "        ```python\n",
    "        for x_d, y_d in zip(X_deviation, Y_deviation):\n",
    "        ```\n",
    "    - ```pearson_r``` is equal to ```sum_XY_deviation``` divided by ```(sqrt_X_deviation_sq * sqrt_Y_deviation_sq)```\n",
    "- Print ```pearson_r```\n",
    "- Check if it is the same as numpys correlation function. Print ```np.corrcoef(X, Y)[0,1]```\n",
    "    "
   ]
  },
  {
   "cell_type": "code",
   "execution_count": 2,
   "metadata": {
    "collapsed": true
   },
   "outputs": [],
   "source": [
    "import numpy as np\n",
    "\n",
    "X = [14.2,5.8,4.8,12.7,5.6,-1.2,5.3,11.9,4.8,8.1,1.5,8.5,14.9,6.1,\n",
    "     6.8,12.6,15.5,24.3,15.6,16.8,22.3,22.6,26.2,19.0,24.3,26.3,\n",
    "     25.3,31.6,27.3,33.0,32.6,30.7,29.6,34.7,32.7,43.1,40.1,35.4,49.6,38.6]\n",
    "\n",
    "Y = [-15.5,-8.5,0.8,-3.9,4.9,12.7,10.0,16.5,5.7,13.1,10.3,12.4,-1.5,\n",
    "     1.7,26.0,14.3,30.3,21.7,27.5,38.2,18.9,21.2,18.2,26.1,14.7,16.4,\n",
    "     22.8,34.3,37.1,38.9,39.1,33.8,52.2,36.5,20.7,21.6,14.5,33.6,44.5,44.2]\n"
   ]
  },
  {
   "cell_type": "code",
   "execution_count": 30,
   "metadata": {
    "collapsed": false
   },
   "outputs": [],
   "source": [
    "# Define your pearson correlation function here:\n",
    "def get_pcc(x_list, y_list):\n",
    "    print \"Length of X:\", len(x_list)\n",
    "    print \"Length of Y:\", len(y_list)\n",
    "    X_deviation = [x - np.mean(x_list) for x in x_list]\n",
    "    Y_deviation = [y - np.mean(y_list) for y in y_list]\n",
    "    sqrt_X_deviation_sq = np.sqrt(np.sum([x ** 2 for x in X_deviation]))\n",
    "    sqrt_Y_deviation_sq = np.sqrt(np.sum([y ** 2 for y in Y_deviation]))\n",
    "    sum_XY_deviation = sum([x * y for x, y in zip(X_deviation, Y_deviation)])\n",
    "    pearson_r = sum_XY_deviation / (sqrt_X_deviation_sq * sqrt_Y_deviation_sq)\n",
    "    print np.corrcoef(x_list, y_list)[0,1]\n",
    "    return pearson_r"
   ]
  },
  {
   "cell_type": "code",
   "execution_count": 31,
   "metadata": {
    "collapsed": false
   },
   "outputs": [
    {
     "name": "stdout",
     "output_type": "stream",
     "text": [
      "Length of X: 40\n",
      "Length of Y: 40\n",
      "0.659990523006\n"
     ]
    },
    {
     "data": {
      "text/plain": [
       "0.65999052300624561"
      ]
     },
     "execution_count": 31,
     "metadata": {},
     "output_type": "execute_result"
    }
   ],
   "source": [
    "get_pcc(X, Y)"
   ]
  },
  {
   "cell_type": "code",
   "execution_count": null,
   "metadata": {
    "collapsed": true
   },
   "outputs": [],
   "source": []
  }
 ],
 "metadata": {
  "anaconda-cloud": {},
  "kernelspec": {
   "display_name": "Python [dsi]",
   "language": "python",
   "name": "Python [dsi]"
  },
  "language_info": {
   "codemirror_mode": {
    "name": "ipython",
    "version": 2
   },
   "file_extension": ".py",
   "mimetype": "text/x-python",
   "name": "python",
   "nbconvert_exporter": "python",
   "pygments_lexer": "ipython2",
   "version": "2.7.12"
  }
 },
 "nbformat": 4,
 "nbformat_minor": 0
}
