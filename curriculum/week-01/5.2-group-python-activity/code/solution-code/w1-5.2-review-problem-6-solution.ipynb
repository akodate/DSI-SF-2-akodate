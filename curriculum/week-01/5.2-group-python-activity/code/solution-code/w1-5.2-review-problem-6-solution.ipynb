{
 "cells": [
  {
   "cell_type": "markdown",
   "metadata": {},
   "source": [
    "### Review problem 6 (hard)\n",
    "\n",
    "For this problem you will be defining a function that calculates the **spearman correlation coefficient** between two lists. The spearman correlation is a measure of how related two sets of numbers are.\n",
    "\n",
    "Your function should:\n",
    "\n",
    "- Accept two provided lists of numbers, ```X``` and ```Y```\n",
    "- Print the length of ```X``` and ```Y``` using the ```len()``` function, like so:\n",
    "    ```python\n",
    "    Length of X: 40\n",
    "    Length of Y: 40\n",
    "    ```\n",
    "- Calculate the **rank** of the numbers in the ```X``` and ```Y``` lists. The **rank** is a number that defines what index position each number would be if the list were in order.\n",
    "    - For example: say ```list1 = [5,2,0,9,-5]```, then ```list1_rank = [3,2,1,4,0]```\n",
    "    - Calculating the rank is not trivial. You can use the ```rankdata()``` function from ```scipy.stats``` on a list to get the ranks of the numbers.\n",
    "    - Assign the rank of list ```X``` to ```X_rank``` and list ```Y``` to ```Y_rank```\n",
    "- Calculate the **covariance between ```X_rank``` and ```Y_rank```** as ```XY_rank_cov```:\n",
    "    - The **covariance** is a measure of the \"relatedness\" between two lists of variables.\n",
    "    - To calculate the covariance between these two lists:\n",
    "        1. Calculate ```X_mean```: the mean of ```X_rank``` using ```np.mean()```\n",
    "        2. Calculate ```Y_mean```: the mean of ```Y_rank``` using ```np.mean()```\n",
    "        3. Calculate ```X_deviation```: subtract ```X_mean``` from each element of ```X_rank```\n",
    "        4. Calculate ```Y_deviation```: subtract ```Y_mean``` from each element of ```Y_rank```\n",
    "        5. Calculate ```XY_d```: multiply ```X_deviation``` with ```Y_deviation```, **element by element**. You can use pythons ```zip()``` function to iterate across lists at the same time:\n",
    "            ```python\n",
    "            for xd, yd in zip(X_deviation, Y_deviation):\n",
    "            ```\n",
    "        6. Calculate ```sum_XY_d```: the sum of the elements in ```XY_d``` with ```np.sum()```\n",
    "        7. Calculate ```XY_rank_cov```: divide ```sum_XY_d``` by ```len(XY_d)```\n",
    "- Calculate the standard deviations ```X_rank_std``` and ```Y_rank_std``` of the ```X_rank``` and ```Y_rank``` lists using ```np.std()```\n",
    "- Calculate the **spearman rank correlation coefficient** as ```XY_spearman```: divide ```XY_rank_cov``` by ```(X_rank_std * Y_rank_std)```\n",
    "- Print ```XY_spearman```\n",
    "- Compare your value to the scipy function for spearman: print out ```spearmanr(X, Y)```"
   ]
  },
  {
   "cell_type": "code",
   "execution_count": 3,
   "metadata": {
    "collapsed": true
   },
   "outputs": [],
   "source": [
    "import numpy as np\n",
    "from scipy.stats import spearmanr, rankdata\n",
    "\n",
    "X = [14.2,5.8,4.8,12.7,5.6,-1.2,5.3,11.9,4.8,8.1,1.5,8.5,14.9,6.1,\n",
    "     6.8,12.6,15.5,24.3,15.6,16.8,22.3,22.6,26.2,19.0,24.3,26.3,\n",
    "     25.3,31.6,27.3,33.0,32.6,30.7,29.6,34.7,32.7,43.1,40.1,35.4,49.6,38.6]\n",
    "\n",
    "Y = [-15.5,-8.5,0.8,-3.9,4.9,12.7,10.0,16.5,5.7,13.1,10.3,12.4,-1.5,\n",
    "     1.7,26.0,14.3,30.3,21.7,27.5,38.2,18.9,21.2,18.2,26.1,14.7,16.4,\n",
    "     22.8,34.3,37.1,38.9,39.1,33.8,52.2,36.5,20.7,21.6,14.5,33.6,44.5,44.2]\n"
   ]
  },
  {
   "cell_type": "code",
   "execution_count": 9,
   "metadata": {
    "collapsed": true
   },
   "outputs": [],
   "source": [
    "# Create your function for spearman here:\n",
    "\n",
    "def spearman_coef(X, Y):\n",
    "    \n",
    "    print(len(X))\n",
    "    print(len(Y))\n",
    "    \n",
    "    X_rank = rankdata(X)\n",
    "    Y_rank = rankdata(Y)\n",
    "    \n",
    "    X_mean = np.mean(X_rank)\n",
    "    Y_mean = np.mean(Y_rank)\n",
    "    \n",
    "    X_deviation = []\n",
    "    Y_deviation = []\n",
    "    \n",
    "    for x in X_rank:\n",
    "        X_deviation.append(x - X_mean)\n",
    "    \n",
    "    for y in Y_rank:\n",
    "        Y_deviation.append(y - Y_mean)\n",
    "        \n",
    "    XY_d = []\n",
    "    for x_d, y_d in zip(X_deviation, Y_deviation):\n",
    "        XY_d.append(x_d * y_d)\n",
    "        \n",
    "    sum_XY_d = np.sum(XY_d)\n",
    "    \n",
    "    XY_rank_cov = sum_XY_d * 1 / len(XY_d)\n",
    "    \n",
    "    X_rank_std = np.std(X_rank)\n",
    "    Y_rank_std = np.std(Y_rank)\n",
    "    \n",
    "    XY_spearman = XY_rank_cov / (X_rank_std * Y_rank_std)\n",
    "    \n",
    "    print(XY_spearman)\n",
    "    print(spearmanr(X, Y))\n",
    "    \n"
   ]
  },
  {
   "cell_type": "code",
   "execution_count": 10,
   "metadata": {
    "collapsed": false
   },
   "outputs": [
    {
     "name": "stdout",
     "output_type": "stream",
     "text": [
      "40\n",
      "40\n",
      "0.721925136867\n",
      "SpearmanrResult(correlation=0.72192513686692761, pvalue=1.4606957738616958e-07)\n"
     ]
    }
   ],
   "source": [
    "spearman_coef(X, Y)"
   ]
  }
 ],
 "metadata": {
  "kernelspec": {
   "display_name": "Python 2",
   "language": "python",
   "name": "python2"
  },
  "language_info": {
   "codemirror_mode": {
    "name": "ipython",
    "version": 2
   },
   "file_extension": ".py",
   "mimetype": "text/x-python",
   "name": "python",
   "nbconvert_exporter": "python",
   "pygments_lexer": "ipython2",
   "version": "2.7.11"
  }
 },
 "nbformat": 4,
 "nbformat_minor": 0
}
