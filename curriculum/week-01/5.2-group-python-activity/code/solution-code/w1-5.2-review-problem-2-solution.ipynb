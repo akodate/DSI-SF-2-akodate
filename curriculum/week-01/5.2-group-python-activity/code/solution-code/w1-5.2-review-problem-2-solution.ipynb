{
 "cells": [
  {
   "cell_type": "markdown",
   "metadata": {},
   "source": [
    "### Review Problem 2\n",
    "\n",
    "For this problem, you will be writing a function that operates on a dictionary and **optionally** a list of numbers.\n",
    "\n",
    "Write a function that:\n",
    "\n",
    "- Accepts a dictionary as its first argument. The values of the dictionary should be a list of numbers.\n",
    "- Accepts an optional **keyword argument** that is a list. The default should be an empty list. **The optional keyword list should be called remainder**\n",
    "- **If the list is empty:** append a 2 to the list.\n",
    "- Print the dictionary as well as the optional list.\n",
    "- Iterate though they key:value pairs in the dictionary:\n",
    "    - For each value list of numbers, calculate the **remainder of each number** for **each number in the remainder list**\n",
    "    - Create a dictionary where they keys are the numbers in the value list, and the values are the remainders of that number from the remainder list.\n",
    "    - ex: if value ```list == [10,9]``` and ```remainder == [2,3]```, the new dictionary would be: ```{10:[0, 1], 9:[1, 0]}```\n",
    "    - For the current key in the dictionary entered into the function, change the value to the new remainder dictionary.\n",
    "- Print out the new dictionary.\n",
    "- Return the dictionary.\n",
    "\n",
    "Notes/Hints:\n",
    "\n",
    "- keyword arguments are specified in functions like so: \n",
    "    ```python\n",
    "    def example_function(arg1, kwarg1=default_value):\n",
    "    ```\n",
    "- The operator for finding the remainder of two values is: ```%```\n",
    "    ```python\n",
    "    14 % 5 == 4\n",
    "    ```"
   ]
  },
  {
   "cell_type": "code",
   "execution_count": 1,
   "metadata": {
    "collapsed": false
   },
   "outputs": [],
   "source": [
    "test_dict = {'A':[1,2,3,4,5], 'B':[12.1, 14.2, 20.3, 25.4], 'C':[10, 25.5, 50.9, 101]}\n",
    "optional_remainder = [2,3,4,5]\n",
    "\n",
    "# 1. Run the function with the default keyword argument\n",
    "# 2. Run the function assigning the default keyword argument to the optional list"
   ]
  },
  {
   "cell_type": "code",
   "execution_count": 11,
   "metadata": {
    "collapsed": true
   },
   "outputs": [],
   "source": [
    "def q2_func(d, remainder=[]):\n",
    "    if len(remainder) == 0:\n",
    "        remainder.append(2)\n",
    "    print(d)\n",
    "    print(remainder)\n",
    "    for key, values in d.items():\n",
    "        remainders_of_values = {}\n",
    "        for v in values:\n",
    "            current_value_remainders = []\n",
    "            for r in remainder:\n",
    "                current_value_remainders.append(v % r)\n",
    "            remainders_of_values[v] = current_value_remainders\n",
    "        d[key] = remainders_of_values\n",
    "    print(d)\n",
    "    return(d)\n",
    "                "
   ]
  },
  {
   "cell_type": "code",
   "execution_count": 12,
   "metadata": {
    "collapsed": false
   },
   "outputs": [
    {
     "name": "stdout",
     "output_type": "stream",
     "text": [
      "{'A': [1, 2, 3, 4, 5], 'C': [10, 25.5, 50.9, 101], 'B': [12.1, 14.2, 20.3, 25.4]}\n",
      "[2]\n",
      "{'A': {1: [1], 2: [0], 3: [1], 4: [0], 5: [1]}, 'C': {25.5: [1.5], 10: [0], 50.9: [0.8999999999999986], 101: [1]}, 'B': {14.2: [0.1999999999999993], 20.3: [0.3000000000000007], 12.1: [0.09999999999999964], 25.4: [1.3999999999999986]}}\n"
     ]
    },
    {
     "data": {
      "text/plain": [
       "{'A': {1: [1], 2: [0], 3: [1], 4: [0], 5: [1]},\n",
       " 'B': {12.1: [0.09999999999999964],\n",
       "  14.2: [0.1999999999999993],\n",
       "  20.3: [0.3000000000000007],\n",
       "  25.4: [1.3999999999999986]},\n",
       " 'C': {10: [0], 25.5: [1.5], 50.9: [0.8999999999999986], 101: [1]}}"
      ]
     },
     "execution_count": 12,
     "metadata": {},
     "output_type": "execute_result"
    }
   ],
   "source": [
    "q2_func(test_dict)"
   ]
  },
  {
   "cell_type": "code",
   "execution_count": 13,
   "metadata": {
    "collapsed": false
   },
   "outputs": [
    {
     "name": "stdout",
     "output_type": "stream",
     "text": [
      "{'A': {1: [1], 2: [0], 3: [1], 4: [0], 5: [1]}, 'C': {25.5: [1.5], 10: [0], 50.9: [0.8999999999999986], 101: [1]}, 'B': {14.2: [0.1999999999999993], 20.3: [0.3000000000000007], 12.1: [0.09999999999999964], 25.4: [1.3999999999999986]}}\n",
      "[2, 3, 4, 5]\n",
      "{'A': {1: [1, 1, 1, 1], 2: [0, 2, 2, 2], 3: [1, 0, 3, 3], 4: [0, 1, 0, 4], 5: [1, 2, 1, 0]}, 'C': {25.5: [1.5, 1.5, 1.5, 0.5], 10: [0, 1, 2, 0], 50.9: [0.8999999999999986, 2.8999999999999986, 2.8999999999999986, 0.8999999999999986], 101: [1, 2, 1, 1]}, 'B': {14.2: [0.1999999999999993, 2.1999999999999993, 2.1999999999999993, 4.199999999999999], 20.3: [0.3000000000000007, 2.3000000000000007, 0.3000000000000007, 0.3000000000000007], 12.1: [0.09999999999999964, 0.09999999999999964, 0.09999999999999964, 2.0999999999999996], 25.4: [1.3999999999999986, 1.3999999999999986, 1.3999999999999986, 0.3999999999999986]}}\n"
     ]
    },
    {
     "data": {
      "text/plain": [
       "{'A': {1: [1, 1, 1, 1],\n",
       "  2: [0, 2, 2, 2],\n",
       "  3: [1, 0, 3, 3],\n",
       "  4: [0, 1, 0, 4],\n",
       "  5: [1, 2, 1, 0]},\n",
       " 'B': {12.1: [0.09999999999999964,\n",
       "   0.09999999999999964,\n",
       "   0.09999999999999964,\n",
       "   2.0999999999999996],\n",
       "  14.2: [0.1999999999999993,\n",
       "   2.1999999999999993,\n",
       "   2.1999999999999993,\n",
       "   4.199999999999999],\n",
       "  20.3: [0.3000000000000007,\n",
       "   2.3000000000000007,\n",
       "   0.3000000000000007,\n",
       "   0.3000000000000007],\n",
       "  25.4: [1.3999999999999986,\n",
       "   1.3999999999999986,\n",
       "   1.3999999999999986,\n",
       "   0.3999999999999986]},\n",
       " 'C': {10: [0, 1, 2, 0],\n",
       "  25.5: [1.5, 1.5, 1.5, 0.5],\n",
       "  50.9: [0.8999999999999986,\n",
       "   2.8999999999999986,\n",
       "   2.8999999999999986,\n",
       "   0.8999999999999986],\n",
       "  101: [1, 2, 1, 1]}}"
      ]
     },
     "execution_count": 13,
     "metadata": {},
     "output_type": "execute_result"
    }
   ],
   "source": [
    "q2_func(test_dict, remainder=optional_remainder)"
   ]
  },
  {
   "cell_type": "code",
   "execution_count": null,
   "metadata": {
    "collapsed": true
   },
   "outputs": [],
   "source": []
  }
 ],
 "metadata": {
  "kernelspec": {
   "display_name": "Python 2",
   "language": "python",
   "name": "python2"
  },
  "language_info": {
   "codemirror_mode": {
    "name": "ipython",
    "version": 2
   },
   "file_extension": ".py",
   "mimetype": "text/x-python",
   "name": "python",
   "nbconvert_exporter": "python",
   "pygments_lexer": "ipython2",
   "version": "2.7.11"
  }
 },
 "nbformat": 4,
 "nbformat_minor": 0
}
