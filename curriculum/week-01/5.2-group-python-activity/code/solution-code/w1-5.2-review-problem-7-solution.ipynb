{
 "cells": [
  {
   "cell_type": "markdown",
   "metadata": {},
   "source": [
    "### Review problem 7\n",
    "\n",
    "For this problem you will be writing a function to calculate the **root mean squared error**, often written as **RMSE**. The RMSE is a popular measure of performance of predictions when you have a set of **true values** and a set of **predicted values**. Your predicted values in this case are your \"predictions\" of what the true values are (in the case where you did not know what the true values were prior).\n",
    "\n",
    "Your function should:\n",
    "\n",
    "- Accept two predefined lists as arguments: ```true_values``` and ```predictions```\n",
    "- Print out the lengths of ```true_values``` and ```predictions```, like so:\n",
    "    ```python\n",
    "    Length of true_values: 40\n",
    "    Length of predictions: 40\n",
    "    ```\n",
    "- Calculate the error between ```predictions``` and ```true_values``` as variable ```errors```:\n",
    "    - Number by number in each list, calculate the prediction minus the true value.\n",
    "    - One way to do this is with pythons ```zip()``` function which can iterate over elements of lists at the same time:\n",
    "        ```python\n",
    "        for pred, true in zip(predictions, true_values):\n",
    "        ```\n",
    "    - Create a new list ```errors``` containing these element-by-element differences.\n",
    "- Calculate the **square** of each element in ```errors``` and assign this to variable ```sq_errors```.\n",
    "- Calculate ```avg_sq_error```, the **mean** of ```sq_errors```.\n",
    "- Calculate ```rmse```, the **square root** of ```avg_sq_error``` using ```np.sqrt()```\n",
    "- Print ```rmse```\n",
    "- Return ```rmse```"
   ]
  },
  {
   "cell_type": "code",
   "execution_count": 1,
   "metadata": {
    "collapsed": true
   },
   "outputs": [],
   "source": [
    "import numpy as np\n",
    "\n",
    "predictions = [14.2,5.8,4.8,12.7,5.6,-1.2,5.3,11.9,4.8,8.1,1.5,8.5,14.9,6.1,\n",
    "     6.8,12.6,15.5,24.3,15.6,16.8,22.3,22.6,26.2,19.0,24.3,26.3,\n",
    "     25.3,31.6,27.3,33.0,32.6,30.7,29.6,34.7,32.7,43.1,40.1,35.4,49.6,38.6]\n",
    "\n",
    "true_values = [-15.5,-8.5,0.8,-3.9,4.9,12.7,10.0,16.5,5.7,13.1,10.3,12.4,-1.5,\n",
    "     1.7,26.0,14.3,30.3,21.7,27.5,38.2,18.9,21.2,18.2,26.1,14.7,16.4,\n",
    "     22.8,34.3,37.1,38.9,39.1,33.8,52.2,36.5,20.7,21.6,14.5,33.6,44.5,44.2]"
   ]
  },
  {
   "cell_type": "code",
   "execution_count": 4,
   "metadata": {
    "collapsed": true
   },
   "outputs": [],
   "source": [
    "# Create your RMSE function here:\n",
    "\n",
    "def calculate_rmse(true_values, predictions):\n",
    "    \n",
    "    print 'Length of true_values: ' + str(len(true_values))\n",
    "    print 'Length of predictions: ' + str(len(predictions))\n",
    "    \n",
    "    errors = []\n",
    "    \n",
    "    for val, pred in zip(true_values, predictions):\n",
    "        errors.append(pred - val)\n",
    "        \n",
    "    sq_errors = []\n",
    "    \n",
    "    for error in errors:\n",
    "        sq_errors.append(error ** 2)\n",
    "        \n",
    "    avg_sq_error = 0\n",
    "    for sq_error in sq_errors:\n",
    "        avg_sq_error = avg_sq_error + sq_error\n",
    "    \n",
    "    avg_sq_error = avg_sq_error / float(len(sq_errors))\n",
    "    \n",
    "    rmse = np.sqrt(avg_sq_error)\n",
    "    \n",
    "    print(rmse)\n",
    "    return(rmse)\n",
    "    \n"
   ]
  },
  {
   "cell_type": "code",
   "execution_count": 5,
   "metadata": {
    "collapsed": false
   },
   "outputs": [
    {
     "name": "stdout",
     "output_type": "stream",
     "text": [
      "Length of true_values: 40\n",
      "Length of predictions: 40\n",
      "11.7997245731\n"
     ]
    },
    {
     "data": {
      "text/plain": [
       "11.79972457305678"
      ]
     },
     "execution_count": 5,
     "metadata": {},
     "output_type": "execute_result"
    }
   ],
   "source": [
    "calculate_rmse(true_values, predictions)"
   ]
  }
 ],
 "metadata": {
  "kernelspec": {
   "display_name": "Python 2",
   "language": "python",
   "name": "python2"
  },
  "language_info": {
   "codemirror_mode": {
    "name": "ipython",
    "version": 2
   },
   "file_extension": ".py",
   "mimetype": "text/x-python",
   "name": "python",
   "nbconvert_exporter": "python",
   "pygments_lexer": "ipython2",
   "version": "2.7.11"
  }
 },
 "nbformat": 4,
 "nbformat_minor": 0
}
