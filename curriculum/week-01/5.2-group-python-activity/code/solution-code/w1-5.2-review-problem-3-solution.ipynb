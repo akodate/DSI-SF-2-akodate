{
 "cells": [
  {
   "cell_type": "markdown",
   "metadata": {},
   "source": [
    "### Review Problem 3\n",
    "\n",
    "For this problem, you will be writing a function that will iterate through two lists.\n",
    "\n",
    "Define a function that:\n",
    "\n",
    "- Accepts two arguments that are lists of numbers (either float or integer):\n",
    "- Print both of the lists.\n",
    "- Construct a **while loop** that:\n",
    "    - Prints the current iteration number, starting at 1.\n",
    "        ```python\n",
    "        Iteration: 1\n",
    "        ```\n",
    "    - Iterate through each element of both lists **at the same time** using a for loop, assigning the number from list 1 to variable value1 and the number from list 2 to value2:\n",
    "        - If ```list1 == [1, 2]``` and ```list2 == [3, 4]```, there will be two iterations through the for loop.\n",
    "        - Iteration 1 will have ```value1 == 1``` and ```value2 == 3```\n",
    "        - Iteration 2 will have ```value2 == 2``` and ```value2 == 4```\n",
    "        - Multiply ```value1``` and ```value2``` together and assign it to variable ```multiplied```.\n",
    "        - Print ```multiplied```.\n",
    "        - If ```multiplied``` is greater than 300, **break out of the for loop and while loop.**\n",
    "    - Otherwise, **multiply each element of list 1 and list 2 by 2** before continuing through the while loop\n",
    "- Print \"Function complete.\"\n",
    "\n",
    "Notes/Hints:\n",
    "\n",
    "- To break out of a for loop or while loop at any time, use the **break** command.\n",
    "    - ex: \n",
    "        ```python\n",
    "        for i in my_list: \n",
    "            if i > 10: \n",
    "                break\n",
    "        ```\n",
    "- The **zip()** function will join lists/tuples **element by element**.\n",
    "    - ex:\n",
    "        ```python\n",
    "        zip([1,2], [3,4]) == [(1, 3), (2, 4)]\n",
    "        ```\n",
    "    - In a for loop, you can assign multiple variables at a time:\n",
    "        ```python\n",
    "        for value1, value2 in zip(list1, list2):\n",
    "        ```\n",
    "- ```while True``` can just keep running a loop until the ```break``` condition is met. Be careful!\n",
    "- To break out of **both** the for loop and the while loop, you will need to define some kind of flag variable outside of the for loop and inside the while loop that can keep track of whether the for loop was broken."
   ]
  },
  {
   "cell_type": "code",
   "execution_count": 9,
   "metadata": {
    "collapsed": true
   },
   "outputs": [],
   "source": [
    "list1 = [1.5,3.5,5.5,7.5]\n",
    "list2 = [0,4,8,12]"
   ]
  },
  {
   "cell_type": "code",
   "execution_count": 10,
   "metadata": {
    "collapsed": true
   },
   "outputs": [],
   "source": [
    "def q3_func(list1, list2):\n",
    "    print(list1)\n",
    "    print(list2)\n",
    "    iteration = 1\n",
    "    while True:\n",
    "        print 'Iteration: ' + str(iteration)\n",
    "        broke_for_loop = False\n",
    "        for value1, value2 in zip(list1, list2):\n",
    "            multiplied = value1 * value2\n",
    "            print(multiplied)\n",
    "            if multiplied > 300:\n",
    "                broke_for_loop = True\n",
    "                break\n",
    "        if broke_for_loop:\n",
    "            break\n",
    "        for i in range(len(list1)):\n",
    "            list1[i] = list1[i] * 2\n",
    "        for i in range(len(list2)):\n",
    "            list2[i] = list2[i] * 2\n",
    "        iteration = iteration + 1\n",
    "    print 'Function complete.'"
   ]
  },
  {
   "cell_type": "code",
   "execution_count": 11,
   "metadata": {
    "collapsed": false
   },
   "outputs": [
    {
     "name": "stdout",
     "output_type": "stream",
     "text": [
      "[1.5, 3.5, 5.5, 7.5]\n",
      "[0, 4, 8, 12]\n",
      "Iteration: 1\n",
      "0.0\n",
      "14.0\n",
      "44.0\n",
      "90.0\n",
      "Iteration: 2\n",
      "0.0\n",
      "56.0\n",
      "176.0\n",
      "360.0\n",
      "Function complete.\n"
     ]
    }
   ],
   "source": [
    "q3_func(list1, list2)"
   ]
  },
  {
   "cell_type": "code",
   "execution_count": null,
   "metadata": {
    "collapsed": true
   },
   "outputs": [],
   "source": []
  }
 ],
 "metadata": {
  "kernelspec": {
   "display_name": "Python 2",
   "language": "python",
   "name": "python2"
  },
  "language_info": {
   "codemirror_mode": {
    "name": "ipython",
    "version": 2
   },
   "file_extension": ".py",
   "mimetype": "text/x-python",
   "name": "python",
   "nbconvert_exporter": "python",
   "pygments_lexer": "ipython2",
   "version": "2.7.11"
  }
 },
 "nbformat": 4,
 "nbformat_minor": 0
}
