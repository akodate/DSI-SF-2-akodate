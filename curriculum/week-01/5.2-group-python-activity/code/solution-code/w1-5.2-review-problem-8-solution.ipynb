{
 "cells": [
  {
   "cell_type": "markdown",
   "metadata": {},
   "source": [
    "### Review problem 8\n",
    "\n",
    "For this problem you will define three functions to \"clean up\" two dictionaries and merge them together.\n",
    "\n",
    "Your first function, called ```string_intlist_cleaner``` should:\n",
    "\n",
    "- Accept one argument which will be a dictionary.\n",
    "- Iterate through the key:value pairs in the dictionary:\n",
    "    - If the key is not a **string**, remove the key:value pair from the dictionary.\n",
    "    - If the value is not a **list**, remove the key:value pair from the dictionary.\n",
    "- Return the \"cleaned\" dictionary.\n",
    "\n",
    "Your second function, called ```int_string_cleaner``` should:\n",
    "\n",
    "- Accept one argument which will be a dictionary.\n",
    "- Iterate through the key:value pairs in the dictionary:\n",
    "    - If the key is not an **integer**, remove the key:value pair from the dictionary.\n",
    "    - If the value is not a **string**, remove the key:value pair from the dictionary.\n",
    "- Return the \"cleaned\" dictionary.\n",
    "\n",
    "Your third function, called ```dict_cleaner``` should:\n",
    "\n",
    "- Accept two arguments which will be dictionaries.\n",
    "- Print the first dictionary.\n",
    "- Print the second dictionary.\n",
    "- Assign the cleaned version of the first dictionary to a variable, calling your function ```string_intlist_cleaner()``` with the first dictionary as an argument.\n",
    "- Assign the cleaned version of the second dictionary to a variable, calling your function ```int_string_cleaner()``` with the second dictionary as an argument.\n",
    "- Combine the two cleaned dictionaries.\n",
    "- Print the combined and cleaned dictionary.\n",
    "- Return the combined and cleaned dictionary.\n",
    "\n",
    "Notes/Hints:\n",
    "\n",
    "- You can use the ```type()``` function to check the type of an object in python. Type names are defined without quotes:\n",
    "    ```python\n",
    "    type(7) == int\n",
    "    type('st') == str\n",
    "    type([1]) == list\n",
    "    type((1,2)) == tuple\n",
    "    type({1:'a'}) == dict\n",
    "    ```"
   ]
  },
  {
   "cell_type": "code",
   "execution_count": 2,
   "metadata": {
    "collapsed": true
   },
   "outputs": [],
   "source": [
    "first_dict = {'A':(1,2), 'B':[1,2,3,4,4], 'C':[0,9], 1:(1,1,1), 12:None, 'D':None, 'E':12.777}\n",
    "second_dict = {'1':('a','b'), 2:{1:23.3}, 3:'four', 4:'five', 'five':['six', 'seven'], 8:'nine'}"
   ]
  },
  {
   "cell_type": "code",
   "execution_count": 1,
   "metadata": {
    "collapsed": true
   },
   "outputs": [],
   "source": [
    "# Define your three functions here:\n",
    "\n",
    "def string_intlist_cleaner(d):\n",
    "    for k, v in d.items():\n",
    "        if not type(k) == str:\n",
    "            del d[k]\n",
    "        elif not type(v) == list:\n",
    "            del d[k]\n",
    "    return d\n",
    "            \n",
    "def int_string_cleaner(d):\n",
    "    for k, v in d.items():\n",
    "        if not type(k) == int:\n",
    "            del d[k]\n",
    "        elif not type(v) == str:\n",
    "            del d[k]\n",
    "    return d\n",
    "\n",
    "def dict_cleaner(first_dict, second_dict):\n",
    "    print(first_dict)\n",
    "    print(second_dict)\n",
    "    \n",
    "    first_cleaned = string_intlist_cleaner(first_dict)\n",
    "    second_cleaned = int_string_cleaner(second_dict)\n",
    "    \n",
    "    first_cleaned.update(second_cleaned)\n",
    "    \n",
    "    print(first_cleaned)\n",
    "    return(first_cleaned)\n"
   ]
  },
  {
   "cell_type": "code",
   "execution_count": 3,
   "metadata": {
    "collapsed": false
   },
   "outputs": [
    {
     "name": "stdout",
     "output_type": "stream",
     "text": [
      "{'A': (1, 2), 1: (1, 1, 1), 'C': [0, 9], 'B': [1, 2, 3, 4, 4], 'E': 12.777, 'D': None, 12: None}\n",
      "{2: {1: 23.3}, 3: 'four', 4: 'five', 8: 'nine', '1': ('a', 'b'), 'five': ['six', 'seven']}\n",
      "{'C': [0, 9], 'B': [1, 2, 3, 4, 4], 4: 'five', 8: 'nine', 3: 'four'}\n"
     ]
    },
    {
     "data": {
      "text/plain": [
       "{3: 'four', 4: 'five', 8: 'nine', 'B': [1, 2, 3, 4, 4], 'C': [0, 9]}"
      ]
     },
     "execution_count": 3,
     "metadata": {},
     "output_type": "execute_result"
    }
   ],
   "source": [
    "dict_cleaner(first_dict, second_dict)"
   ]
  },
  {
   "cell_type": "code",
   "execution_count": null,
   "metadata": {
    "collapsed": true
   },
   "outputs": [],
   "source": []
  }
 ],
 "metadata": {
  "kernelspec": {
   "display_name": "Python 2",
   "language": "python",
   "name": "python2"
  },
  "language_info": {
   "codemirror_mode": {
    "name": "ipython",
    "version": 2
   },
   "file_extension": ".py",
   "mimetype": "text/x-python",
   "name": "python",
   "nbconvert_exporter": "python",
   "pygments_lexer": "ipython2",
   "version": "2.7.11"
  }
 },
 "nbformat": 4,
 "nbformat_minor": 0
}
