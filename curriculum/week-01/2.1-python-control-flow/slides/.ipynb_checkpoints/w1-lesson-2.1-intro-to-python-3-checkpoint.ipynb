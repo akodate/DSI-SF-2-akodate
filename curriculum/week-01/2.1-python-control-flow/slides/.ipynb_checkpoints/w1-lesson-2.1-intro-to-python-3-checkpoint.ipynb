{
 "cells": [
  {
   "cell_type": "markdown",
   "metadata": {
    "slideshow": {
     "slide_type": "slide"
    }
   },
   "source": [
    "<img src=\"https://ga-dash.s3.amazonaws.com/production/assets/logo-9f88ae6c9c3871690e33280fcf557f33.png\" style=\"float: left; margin: 10px;\"> \n",
    "\n",
    "# Intro to Python 3\n",
    "***\n",
    "Week 1 | Lesson 2.1\n",
    "\n",
    "### LEARNING OBJECTIVES\n",
    "*After this lesson, you will be able to:*\n",
    "- Explain if/else and if/elif/else\n",
    "- Explain for loop\n",
    "- Demonstrate how to define functions\n",
    "\n",
    "### STUDENT PRE-WORK\n",
    "*Before this lesson, you should already be able to:*\n",
    "- Have a cursory explanation/idea of if/else, if/elif/else, loops, and functions."
   ]
  },
  {
   "cell_type": "markdown",
   "metadata": {
    "slideshow": {
     "slide_type": "slide"
    }
   },
   "source": [
    "### LESSON GUIDE\n",
    "| TIMING  | TYPE  | TOPIC  |\n",
    "|:-:|---|---|\n",
    "| 10 min  | [Introduction](#introduction)   | Control Flow  |\n",
    "| 15 min  | [Demo](#demo)  | if, if/else  |\n",
    "| 15 min  | [Demo](#demo)  | if/elif/else  |\n",
    "| 15 min  | [Demo](#demo)  | loops  |\n",
    "| 15 min  | [Demo](#demo)  | functions  |\n",
    "| 15 min  | [Independent Practice](#ind-practice)  \n",
    "| 5 min  | [Conclusion](#conclusion)\n",
    "---"
   ]
  },
  {
   "cell_type": "markdown",
   "metadata": {
    "slideshow": {
     "slide_type": "slide"
    }
   },
   "source": [
    "<a name=\"Control Flow\"></a>\n",
    "## Introduction: Topic (10 mins)\n",
    "\n",
    "It is very important to control program execution because in real situations are full of conditions and if you want your program to mimic the real world you need to transform those real world situations into your program. For this, you need to control the execution of your program statements. Controlling the program execution sequence is commonly known as control flow.\n",
    "\n",
    "[control flow](http://www.codeproject.com/Articles/663666/Python-Basics-Understanding-The-Flow-Control-State)\n"
   ]
  },
  {
   "cell_type": "markdown",
   "metadata": {
    "slideshow": {
     "slide_type": "slide"
    }
   },
   "source": [
    "![](http://snag.gy/s1jyw.jpg)"
   ]
  },
  {
   "cell_type": "markdown",
   "metadata": {
    "slideshow": {
     "slide_type": "slide"
    }
   },
   "source": [
    "<a name=\"if, if/else\"></a>\n",
    "## Demo / Codealong / Guided Practice: if, if/else (15 mins)\n",
    "The general Python syntax for a simple if statement is:\n",
    "```bash\n",
    "        if condition :\n",
    "            indentedStatementBlock\n",
    "\n",
    "```\n",
    "\n",
    "If the condition is true, then do the indented statements. If the condition\n",
    "is not true, then skip the indented statements.\n",
    "\n",
    "> Note: code also in [demo code folder](https://github.com/generalassembly-studio/dsi-course-materials/blob/Week-1-Lesson-1.4/curriculum/04-lessons/week-01/1.4-lesson/code/Week%201%20Lesson%201.4%20%20demo%20code.ipynb)\n"
   ]
  },
  {
   "cell_type": "markdown",
   "metadata": {
    "slideshow": {
     "slide_type": "slide"
    }
   },
   "source": [
    "We want to ask users to give us the weight of their luggage on a trip.  Generally, we will want to:\n",
    "\n",
    "1. Tell the user that there's a $25 surcharge for any luggage over 50 lbs.\n",
    "2. Tell the user \"Thank you for your business\" no matter what."
   ]
  },
  {
   "cell_type": "markdown",
   "metadata": {
    "slideshow": {
     "slide_type": "notes"
    }
   },
   "source": [
    "_note:  How would we represent this using a flowchart?_"
   ]
  },
  {
   "cell_type": "markdown",
   "metadata": {
    "slideshow": {
     "slide_type": "fragment"
    }
   },
   "source": [
    "![](http://snag.gy/VtMt4.jpg)"
   ]
  },
  {
   "cell_type": "code",
   "execution_count": 10,
   "metadata": {
    "collapsed": false,
    "slideshow": {
     "slide_type": "slide"
    }
   },
   "outputs": [
    {
     "name": "stdout",
     "output_type": "stream",
     "text": [
      "How many pounds does your suitcase weigh? 23\n",
      "Thank you for your business.\n"
     ]
    }
   ],
   "source": [
    "weight = float(input(\"How many pounds does your suitcase weigh? \"))\n",
    "if weight > 50:\n",
    "        print(\"There is a $25 charge for luggage that heavy.\")\n",
    "print(\"Thank you for your business.\")"
   ]
  },
  {
   "cell_type": "markdown",
   "metadata": {
    "slideshow": {
     "slide_type": "slide"
    }
   },
   "source": [
    "Try with these numbers to test all of the cases:\n",
    "\n",
    "* 43\n",
    "* 50\n",
    "* 51"
   ]
  },
  {
   "cell_type": "markdown",
   "metadata": {
    "slideshow": {
     "slide_type": "notes"
    }
   },
   "source": [
    "_note:  What is the general flow we notice about conditional flows?_"
   ]
  },
  {
   "cell_type": "markdown",
   "metadata": {
    "slideshow": {
     "slide_type": "slide"
    }
   },
   "source": [
    "The general Python if-else syntax is\n",
    "\n",
    "        if condition :\n",
    "            indentedStatementBlockForTrueCondition\n",
    "        else:\n",
    "            indentedStatementBlockForFalseCondition\n",
    "\n",
    "These statement blocks can have any number of statements, and can include\n",
    "about any kind of statement."
   ]
  },
  {
   "cell_type": "code",
   "execution_count": 1,
   "metadata": {
    "collapsed": false,
    "slideshow": {
     "slide_type": "fragment"
    }
   },
   "outputs": [
    {
     "name": "stdout",
     "output_type": "stream",
     "text": [
      "What is the temperature? 23\n"
     ]
    }
   ],
   "source": [
    "temperature = float(input('What is the temperature? '))"
   ]
  },
  {
   "cell_type": "markdown",
   "metadata": {
    "slideshow": {
     "slide_type": "fragment"
    }
   },
   "source": [
    "Then let's stetup a way to react to this input using some conditional controls!"
   ]
  },
  {
   "cell_type": "markdown",
   "metadata": {
    "slideshow": {
     "slide_type": "notes"
    }
   },
   "source": [
    "_note: If we want to know what to wear (shorts or pants) if the temp is > 70._"
   ]
  },
  {
   "cell_type": "code",
   "execution_count": 2,
   "metadata": {
    "collapsed": false,
    "slideshow": {
     "slide_type": "slide"
    }
   },
   "outputs": [
    {
     "name": "stdout",
     "output_type": "stream",
     "text": [
      "Wear long pants.\n",
      "Get some exercise outside.\n"
     ]
    }
   ],
   "source": [
    "if temperature > 70:\n",
    "    print('Wear shorts.')\n",
    "else:\n",
    "    print('Wear long pants.')\n",
    "print('Get some exercise outside.')"
   ]
  },
  {
   "cell_type": "markdown",
   "metadata": {
    "slideshow": {
     "slide_type": "slide"
    }
   },
   "source": [
    "The middle four lines are an if-else statement. There are two indented\n",
    "blocks: One, like in the simple if statement, comes right after the\n",
    "if heading and is executed when the condition in the if heading is true.\n",
    "In the if-else form this is followed by an else: line, followed by\n",
    "another indented block that is only executed when the original condition is false.\n",
    "In an if-else statement exactly one of two possible indented blocks is executed.\n",
    "\n",
    "Play around inputting numbers that are < 70 or > 70.\n",
    "\n",
    "[control flow statements](http://anh.cs.luc.edu/python/hands-on/3.1/handsonHtml/ifstatements.html)"
   ]
  },
  {
   "cell_type": "markdown",
   "metadata": {
    "slideshow": {
     "slide_type": "notes"
    }
   },
   "source": [
    "_**Check**: What is the general syntax for an if statement? an if/else?_"
   ]
  },
  {
   "cell_type": "markdown",
   "metadata": {
    "slideshow": {
     "slide_type": "slide"
    }
   },
   "source": [
    "<a name=\"if/elif/else\"></a>\n",
    "## Demo / Codealong / Guided Practice: if/elif/else (15 mins)\n",
    "The syntax for an if-elif-else statement is indicated in general below:\n",
    "\n",
    "        if condition1 :\n",
    "            indentedStatementBlockForTrueCondition1\n",
    "        elif condition2 :\n",
    "            indentedStatementBlockForFirstTrueCondition2\n",
    "        elif condition3 :\n",
    "            indentedStatementBlockForFirstTrueCondition3\n",
    "        elif condition4 :\n",
    "            indentedStatementBlockForFirstTrueCondition4\n",
    "        else:\n",
    "            indentedStatementBlockForEachConditionFalse"
   ]
  },
  {
   "cell_type": "markdown",
   "metadata": {
    "slideshow": {
     "slide_type": "slide"
    }
   },
   "source": [
    "![](http://snag.gy/s1jyw.jpg)"
   ]
  },
  {
   "cell_type": "markdown",
   "metadata": {
    "slideshow": {
     "slide_type": "slide"
    }
   },
   "source": [
    "_note: Think, how might this look as flowchart?  Look familiar?_"
   ]
  },
  {
   "cell_type": "code",
   "execution_count": 4,
   "metadata": {
    "collapsed": false,
    "slideshow": {
     "slide_type": "slide"
    }
   },
   "outputs": [
    {
     "name": "stdout",
     "output_type": "stream",
     "text": [
      "Please enter an integer: 35\n"
     ]
    }
   ],
   "source": [
    "# Type in an integer.\n",
    "\n",
    "x = int(raw_input(\"Please enter an integer: \"))"
   ]
  },
  {
   "cell_type": "markdown",
   "metadata": {
    "slideshow": {
     "slide_type": "fragment"
    }
   },
   "source": [
    "Now let's setup some business logic to describe some conditions:\n",
    " * When x is less than 0\n",
    " * When x is 0\n",
    " * When x == 1\n",
    " * When x is anything else other than the previous conditions"
   ]
  },
  {
   "cell_type": "code",
   "execution_count": 5,
   "metadata": {
    "collapsed": false,
    "slideshow": {
     "slide_type": "slide"
    }
   },
   "outputs": [
    {
     "name": "stdout",
     "output_type": "stream",
     "text": [
      "More\n"
     ]
    }
   ],
   "source": [
    "if x < 0:\n",
    "    x = 0\n",
    "    print 'Negative changed to zero'\n",
    "elif x == 0:\n",
    "    print 'Zero'\n",
    "elif x == 1:\n",
    "    print 'Single'\n",
    "else:\n",
    "    print 'More'"
   ]
  },
  {
   "cell_type": "markdown",
   "metadata": {
    "slideshow": {
     "slide_type": "notes"
    }
   },
   "source": [
    "_note: Notice anything in particular about this example?  Aligment of indents?  How many blocks are there?  How many blocks are executed?_"
   ]
  },
  {
   "cell_type": "markdown",
   "metadata": {
    "slideshow": {
     "slide_type": "fragment"
    }
   },
   "source": [
    "The **if**, each **elif**, and the final **else** line are all _aligned_. There can be any number\n",
    "of **elif** lines, each followed by an indented block. With this construction exactly\n",
    "one of the indented blocks is executed. It is the one corresponding to the first\n",
    "_True_ condition.\n"
   ]
  },
  {
   "cell_type": "markdown",
   "metadata": {
    "slideshow": {
     "slide_type": "slide"
    }
   },
   "source": [
    "<a name=\"loops\"></a>\n",
    "## Demo / Codealong / Guided Practice: loops (15 mins)\n",
    "\n",
    "Python’s for statement iterates over the items of any sequence (a list or a string), in the order that they appear in the sequence.\n",
    "\n",
    "The syntax for loop is indicated in general below:\n",
    "\n",
    "    for iterator_name in iterating_sequence:\n",
    "        …statements…\n"
   ]
  },
  {
   "cell_type": "markdown",
   "metadata": {
    "slideshow": {
     "slide_type": "slide"
    }
   },
   "source": [
    "Lets check this example out:"
   ]
  },
  {
   "cell_type": "code",
   "execution_count": 6,
   "metadata": {
    "collapsed": false,
    "slideshow": {
     "slide_type": "slide"
    }
   },
   "outputs": [
    {
     "name": "stdout",
     "output_type": "stream",
     "text": [
      "cat 3\n",
      "window 6\n",
      "defenestrate 12\n"
     ]
    }
   ],
   "source": [
    "words = ['cat', 'window', 'defenestrate']\n",
    "for w in words:\n",
    "    print w, len(w)"
   ]
  },
  {
   "cell_type": "markdown",
   "metadata": {
    "slideshow": {
     "slide_type": "notes"
    }
   },
   "source": [
    "Knowledge check: what's happening here? Explain how the code returns what it does."
   ]
  },
  {
   "cell_type": "markdown",
   "metadata": {
    "slideshow": {
     "slide_type": "fragment"
    }
   },
   "source": [
    "Read more:  [for statements](https://docs.python.org/2/tutorial/controlflow.html#if-statements),\n",
    "[for loop](http://www.codeproject.com/Articles/663666/Python-Basics-Understanding-The-Flow-Control-State)"
   ]
  },
  {
   "cell_type": "markdown",
   "metadata": {
    "slideshow": {
     "slide_type": "slide"
    }
   },
   "source": [
    "<a name=\"functions\"></a>\n",
    "## Demo / Codealong / Guided Practice: functions (15 mins)\n",
    "\n",
    "- You can define functions to provide the required functionality. Here are simple rules to define a function in Python.\n",
    "    - Function blocks **begin with** the keyword **def** followed by the function **name** and parentheses ( ( ) ).\n",
    "    - **Any** input **parameters** or arguments should be placed **within** these **parentheses**. You can also define parameters inside            these parentheses.\n",
    "    - The first statement of a function can be an optional statement - the documentation string of the function or                  docstring.\n",
    "    - The code block within **every** function **starts** with a **colon (:)** and is **indented**.\n",
    "    - The statement **return** [expression] exits a function, optionally passing back an expression to the caller. A **return**             statement with no arguments is the same as return None.\n",
    "    \n",
    "[Learn more about docstrings](https://www.python.org/dev/peps/pep-0257/#what-is-a-docstring)\n"
   ]
  },
  {
   "cell_type": "markdown",
   "metadata": {
    "slideshow": {
     "slide_type": "slide"
    }
   },
   "source": [
    "### Here is the anatomy of a function:\n",
    "```\n",
    "def functionname( parameters ):\n",
    "   \"function_docstring\"\n",
    "   function_suite\n",
    "   return [expression]\n",
    "```"
   ]
  },
  {
   "cell_type": "markdown",
   "metadata": {
    "slideshow": {
     "slide_type": "slide"
    }
   },
   "source": [
    "How would we create a function that prints the first parameter?"
   ]
  },
  {
   "cell_type": "code",
   "execution_count": 7,
   "metadata": {
    "collapsed": true,
    "slideshow": {
     "slide_type": "fragment"
    }
   },
   "outputs": [],
   "source": [
    "def printme( str ):\n",
    "   \"This prints a passed string into this function\"\n",
    "   print str\n",
    "   return"
   ]
  },
  {
   "cell_type": "markdown",
   "metadata": {
    "slideshow": {
     "slide_type": "slide"
    }
   },
   "source": [
    "How would we call this function passing a parameter?"
   ]
  },
  {
   "cell_type": "code",
   "execution_count": 8,
   "metadata": {
    "collapsed": false,
    "slideshow": {
     "slide_type": "fragment"
    }
   },
   "outputs": [
    {
     "name": "stdout",
     "output_type": "stream",
     "text": [
      "Beltway traffic makes my head hurt.\n",
      "It looks like a parking lot out there!\n"
     ]
    }
   ],
   "source": [
    "printme(\"Beltway traffic makes my head hurt.\")\n",
    "printme(\"It looks like a parking lot out there!\")"
   ]
  },
  {
   "cell_type": "markdown",
   "metadata": {
    "slideshow": {
     "slide_type": "slide"
    }
   },
   "source": [
    "[defining a function](http://www.tutorialspoint.com/python/python_functions.htm)\n",
    "\n",
    "_**Check** What’s the general syntax for a function? Why do you think functions might be useful?_"
   ]
  },
  {
   "cell_type": "markdown",
   "metadata": {
    "slideshow": {
     "slide_type": "slide"
    }
   },
   "source": [
    "<a name=\"ind-practice\"></a>\n",
    "## Independent Practice: Topic (10 minutes)\n",
    "- What is the general syntax/format of:  \n",
    "        -  if/else?\n",
    "        -  if/elif/else?\n",
    "        -  loop?\n",
    "        - function?\n",
    "- Define and explain each to a partner"
   ]
  },
  {
   "cell_type": "markdown",
   "metadata": {
    "slideshow": {
     "slide_type": "slide"
    }
   },
   "source": [
    "<a name=\"conclusion\"></a>\n",
    "## Conclusion (5 mins)\n",
    "Today we learned about if/else, if/elif/else, loops, and functions. Practice coding each until you\n",
    "feel comfortable. If you understand basic control flow concepts, you're on your way to writing\n",
    "fantastic executable programs! "
   ]
  },
  {
   "cell_type": "markdown",
   "metadata": {
    "slideshow": {
     "slide_type": "-"
    }
   },
   "source": [
    "## Bonus Challenges\n",
    "Once you've mastered the basics, further your understanding of Python by attempting \"[Alternate Code Challenges 3](code/starter-code/Bonus%20Code%20Challenges%203%20Starter%20Code%20-%20Week%201%20Lesson%202.2.ipynb#)\", involving recursive functions."
   ]
  }
 ],
 "metadata": {
  "celltoolbar": "Slideshow",
  "kernelspec": {
   "display_name": "Python [dsi]",
   "language": "python",
   "name": "Python [dsi]"
  },
  "language_info": {
   "codemirror_mode": {
    "name": "ipython",
    "version": 2
   },
   "file_extension": ".py",
   "mimetype": "text/x-python",
   "name": "python",
   "nbconvert_exporter": "python",
   "pygments_lexer": "ipython2",
   "version": "2.7.12"
  }
 },
 "nbformat": 4,
 "nbformat_minor": 0
}
