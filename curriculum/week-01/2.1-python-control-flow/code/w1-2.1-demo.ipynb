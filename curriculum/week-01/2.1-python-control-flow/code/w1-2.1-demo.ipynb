{
 "cells": [
  {
   "cell_type": "code",
   "execution_count": null,
   "metadata": {
    "collapsed": false
   },
   "outputs": [],
   "source": [
    "# If the condition is true, then do the indented \n",
    "# statements. If the condition \n",
    "# is not true, then skip the indented statements.\n",
    "# use a number < 50\n",
    "\n",
    "weight = float(input(\"How many pounds does your suitcase weigh? \"))\n",
    "if weight < 50:\n",
    "        print(\"There is a $25 charge for luggage that heavy.\")\n",
    "print(\"Thank you for your business.\")"
   ]
  },
  {
   "cell_type": "code",
   "execution_count": null,
   "metadata": {
    "collapsed": false
   },
   "outputs": [],
   "source": [
    "# If the condition is true, then do the indented \n",
    "# statements. If the condition \n",
    "# is not true, then skip the indented statements.\n",
    "# use a number > 50\n",
    "\n",
    "weight = float(input(\"How many pounds does your suitcase weigh? \"))\n",
    "if weight > 50:\n",
    "        print(\"There is a $25 charge for luggage that heavy.\")\n",
    "print(\"Thank you for your business.\")"
   ]
  },
  {
   "cell_type": "code",
   "execution_count": null,
   "metadata": {
    "collapsed": false
   },
   "outputs": [],
   "source": [
    "# The middle four lines are an if-else statement. There \n",
    "# are two indented blocks: One, like in the simple if \n",
    "# statement, comes right after the if heading and is \n",
    "# executed when the condition in the if heading is true. \n",
    "# In the if-else form this is followed by an else: line, \n",
    "# followed by another indented block that is only executed \n",
    "# when the original condition is false. In an if-else \n",
    "# statement exactly one of two possible indented blocks is executed.\n",
    "\n",
    "temperature = float(input('What is the temperature? '))\n",
    "if temperature > 70:\n",
    "    print('Wear shorts.')\n",
    "else:\n",
    "    print('Wear long pants.')\n",
    "print('Get some exercise outside.')"
   ]
  },
  {
   "cell_type": "code",
   "execution_count": null,
   "metadata": {
    "collapsed": true
   },
   "outputs": [],
   "source": [
    "# The if, each elif, and the final else line are all \n",
    "# aligned. There can be any number of elif lines, each \n",
    "# followed by an indented block. With this construction \n",
    "# exactly one of the indented blocks is executed. It is \n",
    "# the one corresponding to the first True condition.\n",
    "\n",
    "x = int(raw_input(\"Please enter an integer: \"))\n",
    "\n",
    "if x < 0:\n",
    "    x = 0\n",
    "    print 'Negative changed to zero'\n",
    "elif x == 0:\n",
    "    print 'Zero'\n",
    "elif x == 1:\n",
    "    print 'Single'\n",
    "else:\n",
    "    print 'More'"
   ]
  },
  {
   "cell_type": "code",
   "execution_count": null,
   "metadata": {
    "collapsed": false
   },
   "outputs": [],
   "source": [
    "words = ['cat', 'window', 'defenestrate']\n",
    "for w in words:\n",
    "    print w, len(w)"
   ]
  },
  {
   "cell_type": "code",
   "execution_count": null,
   "metadata": {
    "collapsed": true
   },
   "outputs": [],
   "source": [
    "def printme( str ):\n",
    "   \"This prints a passed string into this function\"\n",
    "   print str\n",
    "   return"
   ]
  },
  {
   "cell_type": "code",
   "execution_count": null,
   "metadata": {
    "collapsed": false
   },
   "outputs": [],
   "source": [
    "printme(\"Beltway traffic makes my head hurt.\")\n",
    "printme(\"It looks like a parking lot out there!\")"
   ]
  }
 ],
 "metadata": {
  "kernelspec": {
   "display_name": "Python 2",
   "language": "python",
   "name": "python2"
  },
  "language_info": {
   "codemirror_mode": {
    "name": "ipython",
    "version": 2
   },
   "file_extension": ".py",
   "mimetype": "text/x-python",
   "name": "python",
   "nbconvert_exporter": "python",
   "pygments_lexer": "ipython2",
   "version": "2.7.6"
  }
 },
 "nbformat": 4,
 "nbformat_minor": 0
}
