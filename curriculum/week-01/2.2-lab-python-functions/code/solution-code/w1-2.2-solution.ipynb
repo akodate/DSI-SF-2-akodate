{
 "cells": [
  {
   "cell_type": "code",
   "execution_count": 1,
   "metadata": {
    "collapsed": false
   },
   "outputs": [
    {
     "name": "stdout",
     "output_type": "stream",
     "text": [
      "The area of a square using a function with one argument (side) is: \n",
      "25\n",
      "\n"
     ]
    }
   ],
   "source": [
    "# write a function with one argument. Find the area of a square. \n",
    "def areaSquare(side): \n",
    "    area=side**2\n",
    "    return area\n",
    "\n",
    "print 'The area of a square using a function with one argument (side 5) is: '\n",
    "area=areaSquare(5)\n",
    "print area\n",
    "print ''"
   ]
  },
  {
   "cell_type": "code",
   "execution_count": 2,
   "metadata": {
    "collapsed": false
   },
   "outputs": [
    {
     "name": "stdout",
     "output_type": "stream",
     "text": [
      "The area of a rectangle using a function with two arguments (length 5 and breadth 6) is: \n",
      "30\n",
      "\n"
     ]
    }
   ],
   "source": [
    "# write a function with two arguments. Find the area of a rectangle. \n",
    "def areaRect(length,breadth):\n",
    "    area=length*breadth\n",
    "    return area\n",
    "\n",
    "print 'The area of a rectangle using a function with two arguments (length 5 and breadth 6) is: '\n",
    "area=areaRect(5,6)\n",
    "print area\n",
    "print ''"
   ]
  },
  {
   "cell_type": "code",
   "execution_count": 3,
   "metadata": {
    "collapsed": false
   },
   "outputs": [
    {
     "name": "stdout",
     "output_type": "stream",
     "text": [
      "The surface area of a cuboid using a function with three arguements (length 5, breadth 6, and height 7) is:\n",
      "214\n",
      "\n"
     ]
    }
   ],
   "source": [
    "# write a function with three arguments. Find the surface area of cuboid.\n",
    "def surfaceAreaCuboid(length,breadth,height): \n",
    "    area=2*(length*breadth+breadth*height+length*height)\n",
    "    return area\n",
    "\n",
    "print 'The surface area of a cuboid using a function with three arguements (length 5, breadth 6, and height 7) is:'\n",
    "area=surfaceAreaCuboid(5,6,7)\n",
    "print area\n",
    "print ''"
   ]
  }
 ],
 "metadata": {
  "kernelspec": {
   "display_name": "Python 2",
   "language": "python",
   "name": "python2"
  },
  "language_info": {
   "codemirror_mode": {
    "name": "ipython",
    "version": 2
   },
   "file_extension": ".py",
   "mimetype": "text/x-python",
   "name": "python",
   "nbconvert_exporter": "python",
   "pygments_lexer": "ipython2",
   "version": "2.7.10"
  }
 },
 "nbformat": 4,
 "nbformat_minor": 0
}
