{
 "cells": [
  {
   "cell_type": "markdown",
   "metadata": {},
   "source": [
    "# Week 1 review\n",
    "\n",
    "---\n",
    "\n",
    "### Topics (ranked by pain):\n",
    "\n",
    "- Dicts in dicts: 7 \n",
    "- Nested list comprehensions: 6\n",
    "- Data in dictionary format: 1\n",
    "- Lists to dictionaries: 1\n",
    "- Summarization of data: 1\n",
    "- Quotes in strings: 1\n",
    "- Layering of fundamentals: 1\n",
    "- Choice of method: 1\n",
    "- General numpy: 1\n",
    "- Arrays vs. lists: 1 \n",
    "- Using pandas:\n"
   ]
  },
  {
   "cell_type": "markdown",
   "metadata": {},
   "source": [
    "---\n",
    "\n",
    "### Packages"
   ]
  },
  {
   "cell_type": "code",
   "execution_count": 7,
   "metadata": {
    "collapsed": true
   },
   "outputs": [],
   "source": [
    "import csv\n",
    "import numpy as np\n",
    "import pandas as pd"
   ]
  },
  {
   "cell_type": "markdown",
   "metadata": {},
   "source": [
    "## Car dataset"
   ]
  },
  {
   "cell_type": "code",
   "execution_count": 8,
   "metadata": {
    "collapsed": true
   },
   "outputs": [],
   "source": [
    "# my path - put your specific one in place of this"
   ]
  },
  {
   "cell_type": "code",
   "execution_count": 9,
   "metadata": {
    "collapsed": true
   },
   "outputs": [],
   "source": [
    "car_filename = '/Users/kiefer/github-repos/DSI-SF-2/datasets/used_cars/used_cars.csv'"
   ]
  },
  {
   "cell_type": "code",
   "execution_count": 10,
   "metadata": {
    "collapsed": false
   },
   "outputs": [
    {
     "name": "stdout",
     "output_type": "stream",
     "text": [
      "22\n"
     ]
    }
   ],
   "source": [
    "students = ['Denise','Alex','Alex K', 'Carlos', 'Vanessa','Ryan','Cecilia','Tim',\n",
    "            'Kat','Kyle','Divya','Amos','Caitlin','Lenny','Ovid','Chris',\n",
    "            'Nick','Paul','Daniel','Edward','Nivetha','Nicholle']\n",
    "\n",
    "print len(students)"
   ]
  },
  {
   "cell_type": "markdown",
   "metadata": {},
   "source": [
    "### The order of cold-calls:"
   ]
  },
  {
   "cell_type": "code",
   "execution_count": 11,
   "metadata": {
    "collapsed": true
   },
   "outputs": [],
   "source": [
    "victims = np.random.choice(students, size=len(students), replace=False).tolist()\n",
    "# victims.astype()"
   ]
  },
  {
   "cell_type": "code",
   "execution_count": 13,
   "metadata": {
    "collapsed": false
   },
   "outputs": [
    {
     "data": {
      "text/plain": [
       "array([ 1.,  2.])"
      ]
     },
     "execution_count": 13,
     "metadata": {},
     "output_type": "execute_result"
    }
   ],
   "source": [
    "a = np.array([1,2])\n",
    "a.astype(float)"
   ]
  },
  {
   "cell_type": "code",
   "execution_count": 6,
   "metadata": {
    "collapsed": true
   },
   "outputs": [],
   "source": [
    "# load data:\n",
    "\n",
    "with open(car_filename, 'r') as f:\n",
    "    reader = csv.reader(f)\n",
    "    rows = [row for row in reader]\n"
   ]
  },
  {
   "cell_type": "code",
   "execution_count": 14,
   "metadata": {
    "collapsed": true
   },
   "outputs": [],
   "source": [
    "# draw a list of lists with 2 columns and 2 rows\n",
    "#(list of list representation) of a csv"
   ]
  },
  {
   "cell_type": "code",
   "execution_count": 15,
   "metadata": {
    "collapsed": false
   },
   "outputs": [
    {
     "data": {
      "text/plain": [
       "'Alex K'"
      ]
     },
     "execution_count": 15,
     "metadata": {},
     "output_type": "execute_result"
    }
   ],
   "source": [
    "victims.pop()"
   ]
  },
  {
   "cell_type": "code",
   "execution_count": 18,
   "metadata": {
    "collapsed": false
   },
   "outputs": [
    {
     "data": {
      "text/plain": [
       "[['price', 'year', 'miles', 'doors', 'type'],\n",
       " ['22000', '2012', '13000', '2', 'car'],\n",
       " ['14000', '2010', '30000', '2', 'car'],\n",
       " ['13000', '2010', '73500', '4', 'car'],\n",
       " ['9500', '2009', '78000', '4', 'car'],\n",
       " ['9000', '2007', '47000', '4', 'car'],\n",
       " ['4000', '2006', '124000', '2', 'car'],\n",
       " ['3000', '2004', '177000', '4', 'car'],\n",
       " ['2000', '2004', '209000', '4', 'truck'],\n",
       " ['3000', '2003', '138000', '2', 'car'],\n",
       " ['1900', '2003', '160000', '4', 'car'],\n",
       " ['2500', '2003', '190000', '2', 'truck'],\n",
       " ['5000', '2001', '62000', '4', 'car'],\n",
       " ['1800', '1999', '163000', '2', 'truck'],\n",
       " ['1300', '1997', '138000', '4', 'car']]"
      ]
     },
     "execution_count": 18,
     "metadata": {},
     "output_type": "execute_result"
    }
   ],
   "source": [
    "rows"
   ]
  },
  {
   "cell_type": "code",
   "execution_count": 19,
   "metadata": {
    "collapsed": true
   },
   "outputs": [],
   "source": [
    "# Example output from print:\n",
    "#\n",
    "# {1: {'gyms_visited': ['amazon.com', 'ebay.com'],\n",
    "#      'player_name': 'Ash',\n",
    "#      'player_pokemon': {},\n",
    "#      'time_played': 0.0}}"
   ]
  },
  {
   "cell_type": "code",
   "execution_count": 20,
   "metadata": {
    "collapsed": false
   },
   "outputs": [
    {
     "data": {
      "text/plain": [
       "'Kat'"
      ]
     },
     "execution_count": 20,
     "metadata": {},
     "output_type": "execute_result"
    }
   ],
   "source": [
    "victims.pop()"
   ]
  },
  {
   "cell_type": "code",
   "execution_count": 21,
   "metadata": {
    "collapsed": false
   },
   "outputs": [
    {
     "data": {
      "text/plain": [
       "{1: {'gyms_visited': ['amazon.com', 'ebay.com'],\n",
       "  'player_name': 'Ash',\n",
       "  'player_pokemon': {},\n",
       "  'time_played': 0.0}}"
      ]
     },
     "execution_count": 21,
     "metadata": {},
     "output_type": "execute_result"
    }
   ],
   "source": [
    "pokedex = {}\n",
    "pokedex[1] = {\n",
    "    'gyms_visited': ['amazon.com', 'ebay.com'],\n",
    "    'player_name': 'Ash',\n",
    "    'player_pokemon': {},\n",
    "    'time_played': 0.0 \n",
    "}\n",
    "pokedex"
   ]
  },
  {
   "cell_type": "code",
   "execution_count": 23,
   "metadata": {
    "collapsed": true
   },
   "outputs": [],
   "source": [
    "# Get out the first gym visited for player 1 and assign to variable"
   ]
  },
  {
   "cell_type": "code",
   "execution_count": 24,
   "metadata": {
    "collapsed": false
   },
   "outputs": [
    {
     "data": {
      "text/plain": [
       "'Alex'"
      ]
     },
     "execution_count": 24,
     "metadata": {},
     "output_type": "execute_result"
    }
   ],
   "source": [
    "victims.pop()"
   ]
  },
  {
   "cell_type": "code",
   "execution_count": 27,
   "metadata": {
    "collapsed": false
   },
   "outputs": [
    {
     "data": {
      "text/plain": [
       "'amazon.com'"
      ]
     },
     "execution_count": 27,
     "metadata": {},
     "output_type": "execute_result"
    }
   ],
   "source": [
    "first_gym = pokedex[1]['gyms_visited'][0]\n",
    "first_gym"
   ]
  },
  {
   "cell_type": "code",
   "execution_count": 28,
   "metadata": {
    "collapsed": false
   },
   "outputs": [
    {
     "data": {
      "text/plain": [
       "'Kyle'"
      ]
     },
     "execution_count": 28,
     "metadata": {},
     "output_type": "execute_result"
    }
   ],
   "source": [
    "# add another player to the pokedex dictionary\n",
    "victims.pop()"
   ]
  },
  {
   "cell_type": "code",
   "execution_count": 29,
   "metadata": {
    "collapsed": false
   },
   "outputs": [
    {
     "name": "stdout",
     "output_type": "stream",
     "text": [
      "{1: {'time_played': 0.0, 'gyms_visited': ['amazon.com', 'ebay.com'], 'player_name': 'Ash', 'player_pokemon': {}}}\n"
     ]
    }
   ],
   "source": [
    "print pokedex"
   ]
  },
  {
   "cell_type": "code",
   "execution_count": 30,
   "metadata": {
    "collapsed": true
   },
   "outputs": [],
   "source": [
    "pokedex [2] = {\n",
    "    'gyms_visited': ['amazon.com', 'ebay.com'],\n",
    "    'player_name': 'kylemullet',\n",
    "    'player_pokemon': {},\n",
    "    'time_played': 48923879.}"
   ]
  },
  {
   "cell_type": "code",
   "execution_count": 31,
   "metadata": {
    "collapsed": false
   },
   "outputs": [
    {
     "data": {
      "text/plain": [
       "{1: {'gyms_visited': ['amazon.com', 'ebay.com'],\n",
       "  'player_name': 'Ash',\n",
       "  'player_pokemon': {},\n",
       "  'time_played': 0.0},\n",
       " 2: {'gyms_visited': ['amazon.com', 'ebay.com'],\n",
       "  'player_name': 'kylemullet',\n",
       "  'player_pokemon': {},\n",
       "  'time_played': 48923879.0}}"
      ]
     },
     "execution_count": 31,
     "metadata": {},
     "output_type": "execute_result"
    }
   ],
   "source": [
    "pokedex"
   ]
  },
  {
   "cell_type": "code",
   "execution_count": 32,
   "metadata": {
    "collapsed": false
   },
   "outputs": [
    {
     "data": {
      "text/plain": [
       "'Nick'"
      ]
     },
     "execution_count": 32,
     "metadata": {},
     "output_type": "execute_result"
    }
   ],
   "source": [
    "# print out:\n",
    "# name of player, and gyms visited for that player\n",
    "# for all players\n",
    "\n",
    "# .items() --> returns keys and values\n",
    "# .keys() --> returns keys\n",
    "# .values() --> returns values\n",
    "victims.pop()"
   ]
  },
  {
   "cell_type": "code",
   "execution_count": 34,
   "metadata": {
    "collapsed": false
   },
   "outputs": [
    {
     "data": {
      "text/plain": [
       "'Daniel'"
      ]
     },
     "execution_count": 34,
     "metadata": {},
     "output_type": "execute_result"
    }
   ],
   "source": [
    "victims.pop()"
   ]
  },
  {
   "cell_type": "code",
   "execution_count": 40,
   "metadata": {
    "collapsed": false
   },
   "outputs": [
    {
     "name": "stdout",
     "output_type": "stream",
     "text": [
      "Ash ['amazon.com', 'ebay.com']\n",
      "kylemullet ['amazon.com', 'ebay.com']\n"
     ]
    }
   ],
   "source": [
    "for j in pokedex:\n",
    "    player = pokedex[j]\n",
    "    print player['player_name'], player['gyms_visited']\n",
    "#    print player['player_name'],player['gyms_visited']\n",
    "#     for h in player:\n",
    "#         print h['player_name'],h['gyms_visited']"
   ]
  },
  {
   "cell_type": "code",
   "execution_count": 42,
   "metadata": {
    "collapsed": false
   },
   "outputs": [
    {
     "data": {
      "text/plain": [
       "{1: {'gyms_visited': ['amazon.com', 'ebay.com'],\n",
       "  'player_name': 'Ash',\n",
       "  'player_pokemon': {},\n",
       "  'time_played': 0.0},\n",
       " 2: {'gyms_visited': ['amazon.com', 'ebay.com'],\n",
       "  'player_name': 'kylemullet',\n",
       "  'player_pokemon': {},\n",
       "  'time_played': 48923879.0}}"
      ]
     },
     "execution_count": 42,
     "metadata": {},
     "output_type": "execute_result"
    }
   ],
   "source": [
    "pokedex"
   ]
  },
  {
   "cell_type": "code",
   "execution_count": 48,
   "metadata": {
    "collapsed": false
   },
   "outputs": [
    {
     "name": "stdout",
     "output_type": "stream",
     "text": [
      "Current player key: 1\n",
      "Players info dictionary: {'time_played': 0.0, 'gyms_visited': ['amazon.com', 'ebay.com'], 'player_name': 'Ash', 'player_pokemon': {}}\n",
      "Look up players name: Ash\n",
      "Look up gyms visited: ['amazon.com', 'ebay.com']\n",
      "-------------------------------------\n",
      "\n",
      "Current player key: 2\n",
      "Players info dictionary: {'time_played': 48923879.0, 'gyms_visited': ['amazon.com', 'ebay.com'], 'player_name': 'kylemullet', 'player_pokemon': {}}\n",
      "Look up players name: kylemullet\n",
      "Look up gyms visited: ['amazon.com', 'ebay.com']\n",
      "-------------------------------------\n",
      "\n"
     ]
    }
   ],
   "source": [
    "for player_key, player_dictionary in pokedex.items():\n",
    "    print 'Current player key:', player_key\n",
    "    print 'Players info dictionary:', player_dictionary\n",
    "    print 'Look up players name:', player_dictionary['player_name']\n",
    "    print 'Look up gyms visited:', player_dictionary['gyms_visited']\n",
    "    print '-------------------------------------\\n'"
   ]
  },
  {
   "cell_type": "code",
   "execution_count": 52,
   "metadata": {
    "collapsed": false
   },
   "outputs": [],
   "source": [
    "players = [\n",
    "    ['ash', \n",
    "     ['amazon.com', 'ebay.com']\n",
    "    ],\n",
    "    ['kyle', \n",
    "     ['stackoverflow.com', 'github.com']\n",
    "    ]\n",
    "]\n"
   ]
  },
  {
   "cell_type": "code",
   "execution_count": 53,
   "metadata": {
    "collapsed": false
   },
   "outputs": [
    {
     "data": {
      "text/plain": [
       "'Tim'"
      ]
     },
     "execution_count": 53,
     "metadata": {},
     "output_type": "execute_result"
    }
   ],
   "source": [
    "# For each player, print the players name and gyms visited\n",
    "victims.pop()"
   ]
  },
  {
   "cell_type": "code",
   "execution_count": 57,
   "metadata": {
    "collapsed": false
   },
   "outputs": [
    {
     "name": "stdout",
     "output_type": "stream",
     "text": [
      "ash has visited:  ['amazon.com', 'ebay.com']\n",
      "kyle has visited:  ['stackoverflow.com', 'github.com']\n"
     ]
    }
   ],
   "source": [
    "for i in players:\n",
    "    print i[0], 'has visited: ', i[1]"
   ]
  },
  {
   "cell_type": "code",
   "execution_count": 58,
   "metadata": {
    "collapsed": false
   },
   "outputs": [
    {
     "data": {
      "text/plain": [
       "'Caitlin'"
      ]
     },
     "execution_count": 58,
     "metadata": {},
     "output_type": "execute_result"
    }
   ],
   "source": [
    "# explain the aboce:\n",
    "victims.pop()"
   ]
  },
  {
   "cell_type": "code",
   "execution_count": 59,
   "metadata": {
    "collapsed": false
   },
   "outputs": [
    {
     "data": {
      "text/plain": [
       "['kyle', ['stackoverflow.com', 'github.com']]"
      ]
     },
     "execution_count": 59,
     "metadata": {},
     "output_type": "execute_result"
    }
   ],
   "source": [
    "# players item 1:\n",
    "players[1]"
   ]
  },
  {
   "cell_type": "code",
   "execution_count": 61,
   "metadata": {
    "collapsed": false
   },
   "outputs": [
    {
     "data": {
      "text/plain": [
       "'kyle'"
      ]
     },
     "execution_count": 61,
     "metadata": {},
     "output_type": "execute_result"
    }
   ],
   "source": [
    "players[1][0]"
   ]
  },
  {
   "cell_type": "code",
   "execution_count": 62,
   "metadata": {
    "collapsed": false
   },
   "outputs": [
    {
     "data": {
      "text/plain": [
       "'github.com'"
      ]
     },
     "execution_count": 62,
     "metadata": {},
     "output_type": "execute_result"
    }
   ],
   "source": [
    "players[1][1][1]"
   ]
  },
  {
   "cell_type": "code",
   "execution_count": 63,
   "metadata": {
    "collapsed": true
   },
   "outputs": [],
   "source": [
    "cars = rows"
   ]
  },
  {
   "cell_type": "code",
   "execution_count": 64,
   "metadata": {
    "collapsed": false
   },
   "outputs": [
    {
     "data": {
      "text/plain": [
       "[['price', 'year', 'miles', 'doors', 'type'],\n",
       " ['22000', '2012', '13000', '2', 'car'],\n",
       " ['14000', '2010', '30000', '2', 'car'],\n",
       " ['13000', '2010', '73500', '4', 'car'],\n",
       " ['9500', '2009', '78000', '4', 'car'],\n",
       " ['9000', '2007', '47000', '4', 'car'],\n",
       " ['4000', '2006', '124000', '2', 'car'],\n",
       " ['3000', '2004', '177000', '4', 'car'],\n",
       " ['2000', '2004', '209000', '4', 'truck'],\n",
       " ['3000', '2003', '138000', '2', 'car'],\n",
       " ['1900', '2003', '160000', '4', 'car'],\n",
       " ['2500', '2003', '190000', '2', 'truck'],\n",
       " ['5000', '2001', '62000', '4', 'car'],\n",
       " ['1800', '1999', '163000', '2', 'truck'],\n",
       " ['1300', '1997', '138000', '4', 'car']]"
      ]
     },
     "execution_count": 64,
     "metadata": {},
     "output_type": "execute_result"
    }
   ],
   "source": [
    "cars"
   ]
  },
  {
   "cell_type": "code",
   "execution_count": 65,
   "metadata": {
    "collapsed": false
   },
   "outputs": [
    {
     "data": {
      "text/plain": [
       "'Carlos'"
      ]
     },
     "execution_count": 65,
     "metadata": {},
     "output_type": "execute_result"
    }
   ],
   "source": [
    "# using a list comprehension, get the price of the cars, excluding the header\n",
    "#\n",
    "victims.pop()"
   ]
  },
  {
   "cell_type": "code",
   "execution_count": 66,
   "metadata": {
    "collapsed": false
   },
   "outputs": [
    {
     "data": {
      "text/plain": [
       "['22000',\n",
       " '14000',\n",
       " '13000',\n",
       " '9500',\n",
       " '9000',\n",
       " '4000',\n",
       " '3000',\n",
       " '2000',\n",
       " '3000',\n",
       " '1900',\n",
       " '2500',\n",
       " '5000',\n",
       " '1800',\n",
       " '1300']"
      ]
     },
     "execution_count": 66,
     "metadata": {},
     "output_type": "execute_result"
    }
   ],
   "source": [
    "my_list_of_Prices = []\n",
    "header = cars[0]\n",
    "data = cars[1:]\n",
    "\n",
    "my_list_of_Prices = [row[0] for row in data]\n",
    "my_list_of_Prices"
   ]
  },
  {
   "cell_type": "code",
   "execution_count": 67,
   "metadata": {
    "collapsed": true
   },
   "outputs": [],
   "source": [
    "prices = [car[0] for car in cars]"
   ]
  },
  {
   "cell_type": "code",
   "execution_count": 70,
   "metadata": {
    "collapsed": false
   },
   "outputs": [
    {
     "name": "stdout",
     "output_type": "stream",
     "text": [
      "['price']\n",
      "--------------------------------\n",
      "\n",
      "['price', '22000']\n",
      "--------------------------------\n",
      "\n",
      "['price', '22000', '14000']\n",
      "--------------------------------\n",
      "\n",
      "['price', '22000', '14000', '13000']\n",
      "--------------------------------\n",
      "\n",
      "['price', '22000', '14000', '13000', '9500']\n",
      "--------------------------------\n",
      "\n",
      "['price', '22000', '14000', '13000', '9500', '9000']\n",
      "--------------------------------\n",
      "\n",
      "['price', '22000', '14000', '13000', '9500', '9000', '4000']\n",
      "--------------------------------\n",
      "\n",
      "['price', '22000', '14000', '13000', '9500', '9000', '4000', '3000']\n",
      "--------------------------------\n",
      "\n",
      "['price', '22000', '14000', '13000', '9500', '9000', '4000', '3000', '2000']\n",
      "--------------------------------\n",
      "\n",
      "['price', '22000', '14000', '13000', '9500', '9000', '4000', '3000', '2000', '3000']\n",
      "--------------------------------\n",
      "\n",
      "['price', '22000', '14000', '13000', '9500', '9000', '4000', '3000', '2000', '3000', '1900']\n",
      "--------------------------------\n",
      "\n",
      "['price', '22000', '14000', '13000', '9500', '9000', '4000', '3000', '2000', '3000', '1900', '2500']\n",
      "--------------------------------\n",
      "\n",
      "['price', '22000', '14000', '13000', '9500', '9000', '4000', '3000', '2000', '3000', '1900', '2500', '5000']\n",
      "--------------------------------\n",
      "\n",
      "['price', '22000', '14000', '13000', '9500', '9000', '4000', '3000', '2000', '3000', '1900', '2500', '5000', '1800']\n",
      "--------------------------------\n",
      "\n",
      "['price', '22000', '14000', '13000', '9500', '9000', '4000', '3000', '2000', '3000', '1900', '2500', '5000', '1800', '1300']\n",
      "--------------------------------\n",
      "\n"
     ]
    }
   ],
   "source": [
    "prices = []\n",
    "for car in cars:\n",
    "    prices.append(car[0])\n",
    "    print prices\n",
    "    print '--------------------------------\\n'"
   ]
  },
  {
   "cell_type": "code",
   "execution_count": 71,
   "metadata": {
    "collapsed": false
   },
   "outputs": [
    {
     "data": {
      "text/plain": [
       "[['price', 'year', 'miles', 'doors', 'type'],\n",
       " ['22000', '2012', '13000', '2', 'car'],\n",
       " ['14000', '2010', '30000', '2', 'car'],\n",
       " ['13000', '2010', '73500', '4', 'car'],\n",
       " ['9500', '2009', '78000', '4', 'car'],\n",
       " ['9000', '2007', '47000', '4', 'car'],\n",
       " ['4000', '2006', '124000', '2', 'car'],\n",
       " ['3000', '2004', '177000', '4', 'car'],\n",
       " ['2000', '2004', '209000', '4', 'truck'],\n",
       " ['3000', '2003', '138000', '2', 'car'],\n",
       " ['1900', '2003', '160000', '4', 'car'],\n",
       " ['2500', '2003', '190000', '2', 'truck'],\n",
       " ['5000', '2001', '62000', '4', 'car'],\n",
       " ['1800', '1999', '163000', '2', 'truck'],\n",
       " ['1300', '1997', '138000', '4', 'car']]"
      ]
     },
     "execution_count": 71,
     "metadata": {},
     "output_type": "execute_result"
    }
   ],
   "source": [
    "cars"
   ]
  },
  {
   "cell_type": "code",
   "execution_count": 72,
   "metadata": {
    "collapsed": false
   },
   "outputs": [
    {
     "data": {
      "text/plain": [
       "'Cecilia'"
      ]
     },
     "execution_count": 72,
     "metadata": {},
     "output_type": "execute_result"
    }
   ],
   "source": [
    "# using a filter statement in a list comprehension\n",
    "# create a list of doors excluding the header\n",
    "# you have to iterate through cars, not data (which already has the header\n",
    "# taken out).\n",
    "victims.pop()"
   ]
  },
  {
   "cell_type": "code",
   "execution_count": 76,
   "metadata": {
    "collapsed": false
   },
   "outputs": [
    {
     "name": "stdout",
     "output_type": "stream",
     "text": [
      "['2', '2', '4', '4', '4', '2', '4', '4', '2', '4', '2', '4', '2', '4']\n"
     ]
    }
   ],
   "source": [
    "list_of_doors = [line[3] for line_no, line in enumerate(cars) if line_no>0]\n",
    "print list_of_doors"
   ]
  },
  {
   "cell_type": "code",
   "execution_count": 77,
   "metadata": {
    "collapsed": false
   },
   "outputs": [
    {
     "data": {
      "text/plain": [
       "'Ryan'"
      ]
     },
     "execution_count": 77,
     "metadata": {},
     "output_type": "execute_result"
    }
   ],
   "source": [
    "# using list comprehension\n",
    "# create cars_parsed\n",
    "# where the numeric values have been converted to floats\n",
    "victims.pop()"
   ]
  },
  {
   "cell_type": "code",
   "execution_count": 82,
   "metadata": {
    "collapsed": false
   },
   "outputs": [
    {
     "name": "stdout",
     "output_type": "stream",
     "text": [
      "[['price', 'year', 'miles', 'doors', 'type'], [22000.0, 2012.0, 13000.0, 2.0, 'car'], [14000.0, 2010.0, 30000.0, 2.0, 'car'], [13000.0, 2010.0, 73500.0, 4.0, 'car'], [9500.0, 2009.0, 78000.0, 4.0, 'car'], [9000.0, 2007.0, 47000.0, 4.0, 'car'], [4000.0, 2006.0, 124000.0, 2.0, 'car'], [3000.0, 2004.0, 177000.0, 4.0, 'car'], [2000.0, 2004.0, 209000.0, 4.0, 'truck'], [3000.0, 2003.0, 138000.0, 2.0, 'car'], [1900.0, 2003.0, 160000.0, 4.0, 'car'], [2500.0, 2003.0, 190000.0, 2.0, 'truck'], [5000.0, 2001.0, 62000.0, 4.0, 'car'], [1800.0, 1999.0, 163000.0, 2.0, 'truck'], [1300.0, 1997.0, 138000.0, 4.0, 'car']]\n"
     ]
    }
   ],
   "source": [
    "cars\n",
    "\n",
    "x = [\n",
    "    # SELECTOR:\n",
    "    [\n",
    "     float(cell) if cell.isdigit() \n",
    "     else cell \n",
    "     for cell in row # internal list comprehension iterator\n",
    "    ] \n",
    "    for row in cars # FROM iterator\n",
    "    if True\n",
    "]\n",
    "x"
   ]
  },
  {
   "cell_type": "code",
   "execution_count": 84,
   "metadata": {
    "collapsed": true
   },
   "outputs": [],
   "source": [
    "header = cars[0]\n",
    "data_row1 = cars[1]"
   ]
  },
  {
   "cell_type": "code",
   "execution_count": 86,
   "metadata": {
    "collapsed": false
   },
   "outputs": [
    {
     "name": "stdout",
     "output_type": "stream",
     "text": [
      "['price', 'year', 'miles', 'doors', 'type']\n",
      "[22000.0, 2012.0, 13000.0, 2.0, 'car']\n"
     ]
    }
   ],
   "source": [
    "print [float(cell) if cell.isdigit() else cell for cell in header]\n",
    "print [float(cell) if cell.isdigit() else cell for cell in data_row1]"
   ]
  },
  {
   "cell_type": "code",
   "execution_count": 87,
   "metadata": {
    "collapsed": false
   },
   "outputs": [
    {
     "data": {
      "text/plain": [
       "'Chris'"
      ]
     },
     "execution_count": 87,
     "metadata": {},
     "output_type": "execute_result"
    }
   ],
   "source": [
    "# Do the same thing with for loops\n",
    "victims.pop()"
   ]
  },
  {
   "cell_type": "code",
   "execution_count": 129,
   "metadata": {
    "collapsed": false
   },
   "outputs": [
    {
     "data": {
      "text/plain": [
       "[['price', 'year', 'miles', 'doors', 'type'],\n",
       " [22000.0, 2012.0, 13000.0, 2.0, 'car'],\n",
       " [14000.0, 2010.0, 30000.0, 2.0, 'car'],\n",
       " [13000.0, 2010.0, 73500.0, 4.0, 'car'],\n",
       " [9500.0, 2009.0, 78000.0, 4.0, 'car'],\n",
       " [9000.0, 2007.0, 47000.0, 4.0, 'car'],\n",
       " [4000.0, 2006.0, 124000.0, 2.0, 'car'],\n",
       " [3000.0, 2004.0, 177000.0, 4.0, 'car'],\n",
       " [2000.0, 2004.0, 209000.0, 4.0, 'truck'],\n",
       " [3000.0, 2003.0, 138000.0, 2.0, 'car'],\n",
       " [1900.0, 2003.0, 160000.0, 4.0, 'car'],\n",
       " [2500.0, 2003.0, 190000.0, 2.0, 'truck'],\n",
       " [5000.0, 2001.0, 62000.0, 4.0, 'car'],\n",
       " [1800.0, 1999.0, 163000.0, 2.0, 'truck'],\n",
       " [1300.0, 1997.0, 138000.0, 4.0, 'car']]"
      ]
     },
     "execution_count": 129,
     "metadata": {},
     "output_type": "execute_result"
    }
   ],
   "source": [
    "parsed_cars2 = []\n",
    "\n",
    "for row in cars:\n",
    "    temp_row = []\n",
    "    for item in row:\n",
    "        if item.isdigit():\n",
    "            temp_row.append(float(item))\n",
    "        else:\n",
    "            temp_row.append(item)\n",
    "    parsed_cars2.append(temp_row)\n",
    "    \n",
    "parsed_cars2"
   ]
  },
  {
   "cell_type": "code",
   "execution_count": 130,
   "metadata": {
    "collapsed": true
   },
   "outputs": [],
   "source": [
    "cars_parsed = parsed_cars2"
   ]
  },
  {
   "cell_type": "code",
   "execution_count": 98,
   "metadata": {
    "collapsed": false
   },
   "outputs": [
    {
     "data": {
      "text/plain": [
       "'Vanessa'"
      ]
     },
     "execution_count": 98,
     "metadata": {},
     "output_type": "execute_result"
    }
   ],
   "source": [
    "# convert cars_parsed to dictionary format\n",
    "# keys are the column names\n",
    "# rows are the column_values\n",
    "victims.pop()"
   ]
  },
  {
   "cell_type": "code",
   "execution_count": 107,
   "metadata": {
    "collapsed": false
   },
   "outputs": [
    {
     "data": {
      "text/plain": [
       "'Nicholle'"
      ]
     },
     "execution_count": 107,
     "metadata": {},
     "output_type": "execute_result"
    }
   ],
   "source": [
    "victims.pop()"
   ]
  },
  {
   "cell_type": "code",
   "execution_count": 111,
   "metadata": {
    "collapsed": false
   },
   "outputs": [
    {
     "data": {
      "text/plain": [
       "'Nivetha'"
      ]
     },
     "execution_count": 111,
     "metadata": {},
     "output_type": "execute_result"
    }
   ],
   "source": [
    "victims.pop()"
   ]
  },
  {
   "cell_type": "code",
   "execution_count": 94,
   "metadata": {
    "collapsed": false
   },
   "outputs": [
    {
     "data": {
      "text/plain": [
       "['1300', '1997', '138000', '4', 'car']"
      ]
     },
     "execution_count": 94,
     "metadata": {},
     "output_type": "execute_result"
    }
   ],
   "source": [
    "row"
   ]
  },
  {
   "cell_type": "code",
   "execution_count": 126,
   "metadata": {
    "collapsed": false
   },
   "outputs": [
    {
     "data": {
      "text/plain": [
       "{'doors': [2.0, 4.0, 4.0, 4.0, 2.0, 4.0, 4.0, 2.0, 4.0, 2.0, 4.0, 2.0, 4.0],\n",
       " 'miles': [30000.0,\n",
       "  73500.0,\n",
       "  78000.0,\n",
       "  47000.0,\n",
       "  124000.0,\n",
       "  177000.0,\n",
       "  209000.0,\n",
       "  138000.0,\n",
       "  160000.0,\n",
       "  190000.0,\n",
       "  62000.0,\n",
       "  163000.0,\n",
       "  138000.0],\n",
       " 'price': [14000.0,\n",
       "  13000.0,\n",
       "  9500.0,\n",
       "  9000.0,\n",
       "  4000.0,\n",
       "  3000.0,\n",
       "  2000.0,\n",
       "  3000.0,\n",
       "  1900.0,\n",
       "  2500.0,\n",
       "  5000.0,\n",
       "  1800.0,\n",
       "  1300.0],\n",
       " 'type': ['car',\n",
       "  'car',\n",
       "  'car',\n",
       "  'car',\n",
       "  'car',\n",
       "  'car',\n",
       "  'truck',\n",
       "  'car',\n",
       "  'car',\n",
       "  'truck',\n",
       "  'car',\n",
       "  'truck',\n",
       "  'car'],\n",
       " 'years': [2010.0,\n",
       "  2010.0,\n",
       "  2009.0,\n",
       "  2007.0,\n",
       "  2006.0,\n",
       "  2004.0,\n",
       "  2004.0,\n",
       "  2003.0,\n",
       "  2003.0,\n",
       "  2003.0,\n",
       "  2001.0,\n",
       "  1999.0,\n",
       "  1997.0]}"
      ]
     },
     "execution_count": 126,
     "metadata": {},
     "output_type": "execute_result"
    }
   ],
   "source": [
    "cars_dict = {\n",
    "    'price': [price[0] for price in cars_parsed], \n",
    "    'years' : [years[1] for years in cars_parsed],\n",
    "    'miles' : [miles[2] for miles in cars_parsed],\n",
    "    'doors' : [doors[3] for doors in cars_parsed],\n",
    "    'type' : [ctype[4] for ctype in cars_parsed]\n",
    "}\n",
    "\n",
    "cars_dict"
   ]
  },
  {
   "cell_type": "code",
   "execution_count": 128,
   "metadata": {
    "collapsed": false
   },
   "outputs": [
    {
     "data": {
      "text/plain": [
       "[[14000.0, 2010.0, 30000.0, 2.0, 'car'],\n",
       " [13000.0, 2010.0, 73500.0, 4.0, 'car'],\n",
       " [9500.0, 2009.0, 78000.0, 4.0, 'car'],\n",
       " [9000.0, 2007.0, 47000.0, 4.0, 'car'],\n",
       " [4000.0, 2006.0, 124000.0, 2.0, 'car'],\n",
       " [3000.0, 2004.0, 177000.0, 4.0, 'car'],\n",
       " [2000.0, 2004.0, 209000.0, 4.0, 'truck'],\n",
       " [3000.0, 2003.0, 138000.0, 2.0, 'car'],\n",
       " [1900.0, 2003.0, 160000.0, 4.0, 'car'],\n",
       " [2500.0, 2003.0, 190000.0, 2.0, 'truck'],\n",
       " [5000.0, 2001.0, 62000.0, 4.0, 'car'],\n",
       " [1800.0, 1999.0, 163000.0, 2.0, 'truck'],\n",
       " [1300.0, 1997.0, 138000.0, 4.0, 'car']]"
      ]
     },
     "execution_count": 128,
     "metadata": {},
     "output_type": "execute_result"
    }
   ],
   "source": [
    "cars_parsed"
   ]
  },
  {
   "cell_type": "code",
   "execution_count": 132,
   "metadata": {
    "collapsed": false
   },
   "outputs": [
    {
     "data": {
      "text/plain": [
       "{'doors': [22000.0,\n",
       "  14000.0,\n",
       "  13000.0,\n",
       "  9500.0,\n",
       "  9000.0,\n",
       "  4000.0,\n",
       "  3000.0,\n",
       "  2000.0,\n",
       "  3000.0,\n",
       "  1900.0,\n",
       "  2500.0,\n",
       "  5000.0,\n",
       "  1800.0,\n",
       "  1300.0],\n",
       " 'miles': [22000.0,\n",
       "  14000.0,\n",
       "  13000.0,\n",
       "  9500.0,\n",
       "  9000.0,\n",
       "  4000.0,\n",
       "  3000.0,\n",
       "  2000.0,\n",
       "  3000.0,\n",
       "  1900.0,\n",
       "  2500.0,\n",
       "  5000.0,\n",
       "  1800.0,\n",
       "  1300.0],\n",
       " 'price': [22000.0,\n",
       "  14000.0,\n",
       "  13000.0,\n",
       "  9500.0,\n",
       "  9000.0,\n",
       "  4000.0,\n",
       "  3000.0,\n",
       "  2000.0,\n",
       "  3000.0,\n",
       "  1900.0,\n",
       "  2500.0,\n",
       "  5000.0,\n",
       "  1800.0,\n",
       "  1300.0],\n",
       " 'type': [22000.0,\n",
       "  14000.0,\n",
       "  13000.0,\n",
       "  9500.0,\n",
       "  9000.0,\n",
       "  4000.0,\n",
       "  3000.0,\n",
       "  2000.0,\n",
       "  3000.0,\n",
       "  1900.0,\n",
       "  2500.0,\n",
       "  5000.0,\n",
       "  1800.0,\n",
       "  1300.0],\n",
       " 'year': [22000.0,\n",
       "  14000.0,\n",
       "  13000.0,\n",
       "  9500.0,\n",
       "  9000.0,\n",
       "  4000.0,\n",
       "  3000.0,\n",
       "  2000.0,\n",
       "  3000.0,\n",
       "  1900.0,\n",
       "  2500.0,\n",
       "  5000.0,\n",
       "  1800.0,\n",
       "  1300.0]}"
      ]
     },
     "execution_count": 132,
     "metadata": {},
     "output_type": "execute_result"
    }
   ],
   "source": [
    "header = cars_parsed[0] \n",
    "values = cars_parsed[1:]  \n",
    "cars_dict = {} \n",
    "for head in header: \n",
    "    cars_dict[head] = [value[0] for value in values]\n",
    "    \n",
    "cars_dict"
   ]
  },
  {
   "cell_type": "code",
   "execution_count": 133,
   "metadata": {
    "collapsed": false
   },
   "outputs": [
    {
     "data": {
      "text/plain": [
       "[('price',\n",
       "  22000.0,\n",
       "  14000.0,\n",
       "  13000.0,\n",
       "  9500.0,\n",
       "  9000.0,\n",
       "  4000.0,\n",
       "  3000.0,\n",
       "  2000.0,\n",
       "  3000.0,\n",
       "  1900.0,\n",
       "  2500.0,\n",
       "  5000.0,\n",
       "  1800.0,\n",
       "  1300.0),\n",
       " ('year',\n",
       "  2012.0,\n",
       "  2010.0,\n",
       "  2010.0,\n",
       "  2009.0,\n",
       "  2007.0,\n",
       "  2006.0,\n",
       "  2004.0,\n",
       "  2004.0,\n",
       "  2003.0,\n",
       "  2003.0,\n",
       "  2003.0,\n",
       "  2001.0,\n",
       "  1999.0,\n",
       "  1997.0),\n",
       " ('miles',\n",
       "  13000.0,\n",
       "  30000.0,\n",
       "  73500.0,\n",
       "  78000.0,\n",
       "  47000.0,\n",
       "  124000.0,\n",
       "  177000.0,\n",
       "  209000.0,\n",
       "  138000.0,\n",
       "  160000.0,\n",
       "  190000.0,\n",
       "  62000.0,\n",
       "  163000.0,\n",
       "  138000.0),\n",
       " ('doors',\n",
       "  2.0,\n",
       "  2.0,\n",
       "  4.0,\n",
       "  4.0,\n",
       "  4.0,\n",
       "  2.0,\n",
       "  4.0,\n",
       "  4.0,\n",
       "  2.0,\n",
       "  4.0,\n",
       "  2.0,\n",
       "  4.0,\n",
       "  2.0,\n",
       "  4.0),\n",
       " ('type',\n",
       "  'car',\n",
       "  'car',\n",
       "  'car',\n",
       "  'car',\n",
       "  'car',\n",
       "  'car',\n",
       "  'car',\n",
       "  'truck',\n",
       "  'car',\n",
       "  'car',\n",
       "  'truck',\n",
       "  'car',\n",
       "  'truck',\n",
       "  'car')]"
      ]
     },
     "execution_count": 133,
     "metadata": {},
     "output_type": "execute_result"
    }
   ],
   "source": [
    "zip(*cars_parsed)"
   ]
  },
  {
   "cell_type": "code",
   "execution_count": 131,
   "metadata": {
    "collapsed": false
   },
   "outputs": [
    {
     "data": {
      "text/plain": [
       "{'doors': (2.0,\n",
       "  2.0,\n",
       "  4.0,\n",
       "  4.0,\n",
       "  4.0,\n",
       "  2.0,\n",
       "  4.0,\n",
       "  4.0,\n",
       "  2.0,\n",
       "  4.0,\n",
       "  2.0,\n",
       "  4.0,\n",
       "  2.0,\n",
       "  4.0),\n",
       " 'miles': (13000.0,\n",
       "  30000.0,\n",
       "  73500.0,\n",
       "  78000.0,\n",
       "  47000.0,\n",
       "  124000.0,\n",
       "  177000.0,\n",
       "  209000.0,\n",
       "  138000.0,\n",
       "  160000.0,\n",
       "  190000.0,\n",
       "  62000.0,\n",
       "  163000.0,\n",
       "  138000.0),\n",
       " 'price': (22000.0,\n",
       "  14000.0,\n",
       "  13000.0,\n",
       "  9500.0,\n",
       "  9000.0,\n",
       "  4000.0,\n",
       "  3000.0,\n",
       "  2000.0,\n",
       "  3000.0,\n",
       "  1900.0,\n",
       "  2500.0,\n",
       "  5000.0,\n",
       "  1800.0,\n",
       "  1300.0),\n",
       " 'type': ('car',\n",
       "  'car',\n",
       "  'car',\n",
       "  'car',\n",
       "  'car',\n",
       "  'car',\n",
       "  'car',\n",
       "  'truck',\n",
       "  'car',\n",
       "  'car',\n",
       "  'truck',\n",
       "  'car',\n",
       "  'truck',\n",
       "  'car'),\n",
       " 'year': (2012.0,\n",
       "  2010.0,\n",
       "  2010.0,\n",
       "  2009.0,\n",
       "  2007.0,\n",
       "  2006.0,\n",
       "  2004.0,\n",
       "  2004.0,\n",
       "  2003.0,\n",
       "  2003.0,\n",
       "  2003.0,\n",
       "  2001.0,\n",
       "  1999.0,\n",
       "  1997.0)}"
      ]
     },
     "execution_count": 131,
     "metadata": {},
     "output_type": "execute_result"
    }
   ],
   "source": [
    "# 1+(5*5) steps: dict creation, enumerate header + k:v assignment\n",
    "\n",
    "# 1 + (rows * 2)\n",
    "{cars_parsed[column[0]]:column[1:] for column in zip(*cars_parsed)}\n"
   ]
  },
  {
   "cell_type": "code",
   "execution_count": 124,
   "metadata": {
    "collapsed": false
   },
   "outputs": [
    {
     "data": {
      "text/plain": [
       "[[14000.0, 2010.0, 30000.0, 2.0, 'car'],\n",
       " [13000.0, 2010.0, 73500.0, 4.0, 'car'],\n",
       " [9500.0, 2009.0, 78000.0, 4.0, 'car'],\n",
       " [9000.0, 2007.0, 47000.0, 4.0, 'car'],\n",
       " [4000.0, 2006.0, 124000.0, 2.0, 'car'],\n",
       " [3000.0, 2004.0, 177000.0, 4.0, 'car'],\n",
       " [2000.0, 2004.0, 209000.0, 4.0, 'truck'],\n",
       " [3000.0, 2003.0, 138000.0, 2.0, 'car'],\n",
       " [1900.0, 2003.0, 160000.0, 4.0, 'car'],\n",
       " [2500.0, 2003.0, 190000.0, 2.0, 'truck'],\n",
       " [5000.0, 2001.0, 62000.0, 4.0, 'car'],\n",
       " [1800.0, 1999.0, 163000.0, 2.0, 'truck'],\n",
       " [1300.0, 1997.0, 138000.0, 4.0, 'car']]"
      ]
     },
     "execution_count": 124,
     "metadata": {},
     "output_type": "execute_result"
    }
   ],
   "source": [
    "cars_parsed = cars_parsed[1:]\n",
    "cars_parsed"
   ]
  },
  {
   "cell_type": "code",
   "execution_count": null,
   "metadata": {
    "collapsed": true
   },
   "outputs": [],
   "source": []
  }
 ],
 "metadata": {
  "kernelspec": {
   "display_name": "Python 2",
   "language": "python",
   "name": "python2"
  },
  "language_info": {
   "codemirror_mode": {
    "name": "ipython",
    "version": 2
   },
   "file_extension": ".py",
   "mimetype": "text/x-python",
   "name": "python",
   "nbconvert_exporter": "python",
   "pygments_lexer": "ipython2",
   "version": "2.7.12"
  }
 },
 "nbformat": 4,
 "nbformat_minor": 0
}
