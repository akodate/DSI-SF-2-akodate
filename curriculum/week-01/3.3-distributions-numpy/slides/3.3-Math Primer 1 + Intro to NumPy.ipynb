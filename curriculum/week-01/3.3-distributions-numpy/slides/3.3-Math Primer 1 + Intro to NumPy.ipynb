{
 "cells": [
  {
   "cell_type": "markdown",
   "metadata": {},
   "source": [
    "---\n",
    "title: Math Primer 1 + Intro to NumPy\n",
    "duration: \"1:5\"\n",
    "creator:\n",
    "    name: Kiefer Katovich & David Yerrington\n",
    "---"
   ]
  },
  {
   "cell_type": "markdown",
   "metadata": {},
   "source": [
    "<img src=\"https://ga-dash.s3.amazonaws.com/production/assets/logo-9f88ae6c9c3871690e33280fcf557f33.png\" style=\"float: left; margin: 15px;\">\n",
    "# Math Primer 1 + Intro to NumPy\n",
    "Week 1 | Lesson 3.3"
   ]
  },
  {
   "cell_type": "markdown",
   "metadata": {},
   "source": [
    "### LEARNING OBJECTIVES\n",
    "*After this lesson, you will be able to:*\n",
    "- Understand the measures of Central Tendency (mean, median, and mode)\n",
    "- Understand how mean, median and mode are affected by skewness in data\n",
    "- Understand measures of variability (variance and standard deviation)"
   ]
  },
  {
   "cell_type": "markdown",
   "metadata": {},
   "source": [
    "### STUDENT PRE-WORK\n",
    "*Before this lesson, you should already be able to:*\n",
    "- This should've been completed as pre-work before starting the course, but if you haven't\n",
    "didn't watch it, please watch Lesson 3: Estimation\n",
    "[Intro to Stats](https://www.udacity.com/course/intro-to-statistics--st101)"
   ]
  },
  {
   "cell_type": "markdown",
   "metadata": {},
   "source": [
    "### LESSON GUIDE\n",
    "| TIMING  | TYPE  | TOPIC  |\n",
    "|:-:|---|---|\n",
    "| 5 min  | [Introduction](#introduction)   |  Descriptive Statistics |\n",
    "| 20 min  | [Demo / Guided Practice](#demo)  | Mean, Median, and Mode  |\n",
    "| 20 min  | [Demo / Guided Practice](#demo)  | Skewness  |\n",
    "| 20 min  | [Demo / Guided Practice](#demo)  | Range, Variance and Standard Deviation  |\n",
    "| 20 min  | [Independent Practice](#ind-practice)  |   |\n",
    "| 5 min  | [Conclusion](#conclusion)  |   |\n",
    "\n",
    "---"
   ]
  },
  {
   "cell_type": "markdown",
   "metadata": {},
   "source": [
    "Note:  We use inferential statistics to make judgments of the probability that an observed difference between groups is a dependable one or one that might have happened by chance in a study. Thus, we use inferential statistics to make inferences from our data to more general conditions; we use descriptive statistics simply to describe what's going on in our data.  Classic **descriptive statistics** include **mean, min, max, standard deviation, median, skew, kurtosis**. Inferential statistics are a function of the sample data that assists you to draw an inference regarding an hypothesis about a population parameter."
   ]
  },
  {
   "cell_type": "markdown",
   "metadata": {},
   "source": [
    "<a name=\"Mean, median, and mode\"></a>\n",
    "## Guided Practice: Mean, median, and mode (20 mins)\n",
    "\n",
    "## Mean\n",
    "\n",
    "_The mean is the sum of the numbers divided by the length of the list._\n",
    "\n",
    "**Check:** Find the **mean** of this list using python:\n"
   ]
  },
  {
   "cell_type": "code",
   "execution_count": 1,
   "metadata": {
    "collapsed": false
   },
   "outputs": [
    {
     "data": {
      "text/plain": [
       "3.0"
      ]
     },
     "execution_count": 1,
     "metadata": {},
     "output_type": "execute_result"
    }
   ],
   "source": [
    "import pandas as pd\n",
    "\n",
    "samples = [1,2,3,4,5]\n",
    "float(sum(samples))/len(samples)\n",
    "\n",
    "# df = pd.DataFrame(samples)\n",
    "# df.describe()(0)['mean']"
   ]
  },
  {
   "cell_type": "markdown",
   "metadata": {},
   "source": [
    "---\n",
    "\n",
    "## Median\n",
    "\n",
    "We will be reviewing and coding the following cases for calculating the median of a distribution of numbers.\n",
    "\n",
    "_For **odd-length** lists: the median is the middle number of the ordered list._\n",
    "\n",
    "_For **even-length** lists: the median is the average of the two middle numbers of the ordered list._\n"
   ]
  },
  {
   "cell_type": "markdown",
   "metadata": {},
   "source": [
    "### Calculate the Median\n",
    "\n",
    "Here are two samples we will work with.  One set has an odd number of samples, while the other is even.  From  here, we will work with these basic objects."
   ]
  },
  {
   "cell_type": "code",
   "execution_count": 2,
   "metadata": {
    "collapsed": true
   },
   "outputs": [],
   "source": [
    "n_odd = [1,5,9,2,8,3,10,15,7]\n",
    "n_even = [8,2,3,1,0,-1,-5,20]"
   ]
  },
  {
   "cell_type": "markdown",
   "metadata": {},
   "source": [
    "### Median  STEP 1:  Order the numbers\n",
    "First step we must sort our list objects in **ascending** order, making sure to reassign / update our list objects with the new **ascending** order."
   ]
  },
  {
   "cell_type": "code",
   "execution_count": 3,
   "metadata": {
    "collapsed": false
   },
   "outputs": [
    {
     "name": "stdout",
     "output_type": "stream",
     "text": [
      "[1, 2, 3, 5, 7, 8, 9, 10, 15]\n",
      "[-5, -1, 0, 1, 2, 3, 8, 20]\n"
     ]
    }
   ],
   "source": [
    "# How do we order the numbers?  Google: \"python sort a list\"\n",
    "\n",
    "sorted_n_odd = sorted(n_odd)\n",
    "sorted_n_even = sorted(n_even)\n",
    "print sorted_n_odd\n",
    "print sorted_n_even"
   ]
  },
  {
   "cell_type": "markdown",
   "metadata": {},
   "source": [
    "### Median STEP 2a: Find the middle (odd numbers)\n",
    "\n",
    "First, we will attempt to find the middle number in a given list sequence for our object `n_odd`.  \n",
    "\n",
    "To find the **median** for an odd sequence of numbers, we will need to perform the following operations:\n",
    "\n",
    "1. **Divide the length of our list in half.** <br>_Set to a variable._  (expected: 4.5)\n",
    "1. **Subtract .5 from the divided length.**<br>_Subtract .5 from the variable._\n",
    "1. **Select the offset of the `n_odd` list based on the halfed length - .5.** <br>_Use the variable to select the index._"
   ]
  },
  {
   "cell_type": "code",
   "execution_count": 4,
   "metadata": {
    "collapsed": false
   },
   "outputs": [
    {
     "data": {
      "text/plain": [
       "7"
      ]
     },
     "execution_count": 4,
     "metadata": {},
     "output_type": "execute_result"
    }
   ],
   "source": [
    "# Try it out.  Find the median \n",
    "\n",
    "half_length = len(sorted_n_odd) / 2\n",
    "sorted_n_odd[half_length]"
   ]
  },
  {
   "cell_type": "markdown",
   "metadata": {},
   "source": [
    "### Median STEP 2b: Find the middle (even numbers)\n",
    "    \n",
    "The process for finding the median of a sequence of even numbers is little more straight forward.\n",
    "\n",
    "1. Divide the length of our list in half.<br><i>Set a variable called **sample_length** to store this.</i>\n",
    "1. Add the **sample_length** - 1 (Nth) item of the even list (`n_even`) with the **sample_length** item of the even list, divided by 2.<br><i>Remember, use the value of the offset of `n_even` according to (**sample_length** - 1) + (**sample_length**) to get the values.</i>"
   ]
  },
  {
   "cell_type": "code",
   "execution_count": 5,
   "metadata": {
    "collapsed": false
   },
   "outputs": [
    {
     "data": {
      "text/plain": [
       "1.5"
      ]
     },
     "execution_count": 5,
     "metadata": {},
     "output_type": "execute_result"
    }
   ],
   "source": [
    "# Seek the median using Python!  You can do it!\n",
    "\n",
    "sample_length = len(sorted_n_even) / 2\n",
    "(sorted_n_even[sample_length - 1] + sorted_n_even[sample_length]) / 2.0"
   ]
  },
  {
   "cell_type": "markdown",
   "metadata": {},
   "source": [
    "---\n",
    "\n",
    "## Mode\n",
    "\n",
    "**The mode is the most frequently occurring number.**\n",
    "\n",
    "Finding the mode is not as trivial as the mean or median, so here it is calculated using scipy.stats.mode().  With a partner, take some time to review the docs on scipy.stats.mode(), and implement the solution to find the mode of the assigned variable `sample` below.  Google is a good place to start with this activity.\n",
    "\n",
    "_Notice the output of the initial state of the code cell below.  This is the output of the correct solution, however it will disappear after you run the cell for the first time._\n",
    "\n",
    "Note: doing this without scipy.stats.mode() is a challenge problem in the independent practice section."
   ]
  },
  {
   "cell_type": "code",
   "execution_count": 6,
   "metadata": {
    "collapsed": false
   },
   "outputs": [
    {
     "data": {
      "text/plain": [
       "ModeResult(mode=array([2]), count=array([4]))"
      ]
     },
     "execution_count": 6,
     "metadata": {},
     "output_type": "execute_result"
    }
   ],
   "source": [
    "from scipy import stats\n",
    "\n",
    "sample = [0,1,1,2,2,2,2,3,3,4,4,4,5]\n",
    "\n",
    "stats.mode(sample)"
   ]
  },
  {
   "cell_type": "markdown",
   "metadata": {},
   "source": [
    "> Additional information here:\n",
    "> [Descriptive Stats:  University of South Alabama](http://www.southalabama.edu/coe/bset/johnson/lectures/lec15.htm)\n"
   ]
  },
  {
   "cell_type": "markdown",
   "metadata": {},
   "source": [
    "### Once Again, with Scipy\n",
    "\n",
    "Thankfully, we have a library that is good, fast, and cheap, that can help us do the heavy lifting.  In most cases, it's best to use the conviences of Scipy and Numpy since they are well tested, high quality, and performant.\n",
    "\n",
    "With Scipy and Numpy, find the mean, median, and mode of the distribution `sample below`.  You will need to properly import these modules and reference the appropriate methods to complete this task.  We want you to get comfortable referencing these types of operations in the relevent documentation that exists."
   ]
  },
  {
   "cell_type": "code",
   "execution_count": 7,
   "metadata": {
    "collapsed": false
   },
   "outputs": [
    {
     "name": "stdout",
     "output_type": "stream",
     "text": [
      "Mean: 67.95\n",
      "Median: 28.0\n",
      "Mode: 3\n",
      "Mode count: 2\n"
     ]
    }
   ],
   "source": [
    "# Import python modules here\n",
    "import numpy as np\n",
    "import scipy as sp\n",
    "\n",
    "sample = [3, 75, 98, 2, 10, 3, 14, 99, 44, 25, 31, 100, 356, 4, 23, 55, 327, 64, 6, 20]\n",
    "\n",
    "# Your solution here\n",
    "print 'Mean:', np.mean(sample)\n",
    "print 'Median:', np.median(sample)\n",
    "print 'Mode:', sp.stats.mode(sample)[0][0]\n",
    "print 'Mode count:', sp.stats.mode(sample)[1][0]"
   ]
  },
  {
   "cell_type": "markdown",
   "metadata": {},
   "source": [
    "**Check:** Explain the output of the mode() function."
   ]
  },
  {
   "cell_type": "markdown",
   "metadata": {},
   "source": [
    "<a name=\"Skewness\"></a>\n",
    "## Guided Practice: Skewness (20 mins)\n",
    "\n",
    "**Skewness** is lack of symmetry in a distribution of data.\n",
    "\n",
    "[Technical note: we will be talking about skewness here in the context of _unimodal_ distributions.]\n",
    "\n",
    "![](../assets/images/skewness.png)\n",
    "\n",
    "A **positive-skewed** distribution means the right side tail of the distribution is longer or fatter than the left.\n",
    "\n",
    "Likewise a **negative-skewed** distribution means the left side tail is longer or fatter than the right.\n",
    "\n",
    "Symmetric distributions have no skewness!\n",
    "\n",
    "---"
   ]
  },
  {
   "cell_type": "markdown",
   "metadata": {},
   "source": [
    "## Skewness and measures of central tendency\n",
    "\n",
    "The mean, median, and mode are affected by skewness.\n",
    "\n",
    "When a distribution is **symmetrical**, the mean, median, and mode are the same number.\n",
    "\n",
    "When a distribution is negatively skewed, the mean is less than the median, which is less than the mode.\n",
    "\n",
    "**Negative skew: mean < median < mode**\n",
    "\n",
    "When a distribution is positively skewed, the mean is greater than the median, which is greater than the mode!\n",
    "\n",
    "**Positive skew: mode < median < mean**\n",
    "\n",
    "This way of thinking can help you, especially if you can't see a line graph of the data. All you need are the mean and the median. Nice!\n",
    "\n",
    "1. If the mean < median, the data are skewed left.\n",
    "2. If the mean > median, the data are skewed right.\n",
    "\n",
    "---"
   ]
  },
  {
   "cell_type": "markdown",
   "metadata": {},
   "source": [
    "## Practice (~5 Mins)\n",
    "\n",
    "Using our understanding of skewness, does the list of numbers form a symmetric distribution? Is it skewed left of right?\n",
    "\n",
    "Look at it again, and let's explain how it looks.\n"
   ]
  },
  {
   "cell_type": "code",
   "execution_count": 8,
   "metadata": {
    "collapsed": true
   },
   "outputs": [],
   "source": [
    "# This is our sample\n",
    "sample = [3, 75, 98, 2, 10, 3, 14, 99, 44, 25, 31, 100, 356, 4, 23, 55, 327, 64, 6, 20]"
   ]
  },
  {
   "cell_type": "code",
   "execution_count": 9,
   "metadata": {
    "collapsed": false
   },
   "outputs": [
    {
     "name": "stdout",
     "output_type": "stream",
     "text": [
      "Mean: 67.95\n",
      "Median: 28.0\n",
      "Mode: 3\n",
      "Mode count: 2\n"
     ]
    }
   ],
   "source": [
    "# This space we may code a quick exmaple of plotting this distribution\n",
    "\n",
    "print 'Mean:', np.mean(sample)\n",
    "print 'Median:', np.median(sample)\n",
    "print 'Mode:', sp.stats.mode(sample)[0][0]\n",
    "print 'Mode count:', sp.stats.mode(sample)[1][0]\n",
    "\n",
    "# Skewed right/positively"
   ]
  },
  {
   "cell_type": "markdown",
   "metadata": {},
   "source": [
    "<a name=\"Range, Variance and Standard Deviation\"></a>\n",
    "## Guided / Idependent Practice: Range, Variance and Standard Deviation (20 mins)\n",
    "\n",
    "Measures of variability like the **range**, **variance**, and **standard deviation** tell you about the spread of your data.\n",
    "\n",
    "These measurements give complementary (and no less important!) information to the measures of central tendency (mean, median, mode).\n",
    "\n",
    "---\n",
    "\n"
   ]
  },
  {
   "cell_type": "markdown",
   "metadata": {},
   "source": [
    "## Range\n",
    "\n",
    "The **range** is the difference between the lowest and highest values of a distribution.  Since this metric only depends on two observations, it's a very simple calculation.  Range shows how much the numbers in a set vary.\n",
    "\n",
    "\n",
    "To calculate the range:\n",
    "\n",
    "1. Sort the `sample` object in `ascending` order.\n",
    "1. Subtract the first item from the last item.\n",
    "1. Compare your result with Numpy's `ptp()` method that does the same thing.\n",
    "\n",
    "\n",
    "---"
   ]
  },
  {
   "cell_type": "code",
   "execution_count": 10,
   "metadata": {
    "collapsed": false
   },
   "outputs": [
    {
     "name": "stdout",
     "output_type": "stream",
     "text": [
      "354\n",
      "354\n"
     ]
    }
   ],
   "source": [
    "sample = [3, 75, 98, 2, 10, 3, 14, 99, 44, 25, 31, 100, 356, 4, 23, 55, 327, 64, 6, 20]\n",
    "\n",
    "# With numpy:\n",
    "n_range = np.ptp(sample)\n",
    "print n_range\n",
    "\n",
    "# Now implement htis in pure python\n",
    "\n",
    "sorted_sample = sorted(sample)\n",
    "print sorted_sample[-1] - sorted_sample[0]"
   ]
  },
  {
   "cell_type": "markdown",
   "metadata": {},
   "source": [
    "##### Variance\n",
    "\n",
    "The **variance** is a numeric value used to describe how widely the numbers distribution vary.\n",
    "\n",
    "In python variance can be calculated with:\n",
    "```python\n",
    "variance = []\n",
    "n_mean = np.mean(n)\n",
    "\n",
    "for n_ in n:\n",
    "  variance.append((n_ - n_mean) ** 2)\n",
    "\n",
    "variance = np.sum(variance)\n",
    "variance = variance / len(n)\n",
    "```\n",
    "\n",
    "Which is **the average of the sum of the squared distances of each number from the mean of the numbers.**\n",
    "\n",
    "![](../assets/images/dist_with_variance.png)\n",
    "\n",
    "**Check:** What could a distribution with a large variance look like? A small?\n",
    "\n",
    "**Check:** What does a variance of 0 mean?\n",
    "\n",
    "Using numpy the variance is simply:\n",
    "```python\n",
    "variance = np.var(n)\n",
    "\n",
    "print(variance)\n",
    "9414.6475\n",
    "```\n",
    "\n",
    "---\n",
    "\n"
   ]
  },
  {
   "cell_type": "markdown",
   "metadata": {},
   "source": [
    "### Standard deviation\n",
    "\n",
    "The **standard deviation** is the square root of the variance.\n",
    "\n",
    "Because the variance is the average of the distances from the mean _squared_, the standard deviation tells us approximately, on average, the distance of numbers in a distribution from the mean.\n",
    "\n",
    "The standard deviation can be calculated with:\n",
    "```python\n",
    "std = np.std(n)\n",
    "\n",
    "print(std)\n",
    "97.029106457804716\n",
    "```\n",
    "\n",
    "![](../assets/images/dist_with_var_std.png)\n",
    "\n",
    "**Optional Check (time permitting)**  Is this the same as the average of the absolute deviations from the mean? If not, what is the difference between the measures?\n",
    "\n"
   ]
  },
  {
   "cell_type": "markdown",
   "metadata": {},
   "source": [
    "<a name=\"ind-practice\"></a>\n",
    "## Independent Practice: Topic (20 minutes)\n",
    "- With the provided data, determine the mean, median, and mode.\n",
    "- Is the data skewed left or right? How do you know?\n",
    "- Find the range, variance and standard deviation of your data set. What does the standard deviation tell you about the distribution?\n",
    "- Challenge: calculate the mode without using scipy!"
   ]
  },
  {
   "cell_type": "code",
   "execution_count": 11,
   "metadata": {
    "collapsed": true
   },
   "outputs": [],
   "source": [
    "sample = [3, 75, 98, 2, 10, 3, 14, 99, 44, 25, 31, 100, 356, 4, 23, 55, 327, 64, 6, 20]"
   ]
  },
  {
   "cell_type": "markdown",
   "metadata": {},
   "source": [
    "<a name=\"conclusion\"></a>\n",
    "## Conclusion (5 mins)"
   ]
  },
  {
   "cell_type": "code",
   "execution_count": 17,
   "metadata": {
    "collapsed": false
   },
   "outputs": [
    {
     "name": "stdout",
     "output_type": "stream",
     "text": [
      "Mean: 67.95\n",
      "Median: 28.0\n",
      "Mode: 3\n",
      "Mode count: 2\n",
      "Range: 354\n",
      "Variance: 9414.6475\n",
      "Standard deviation: 97.0291064578\n"
     ]
    }
   ],
   "source": [
    "print 'Mean:', sp.mean(sample)\n",
    "print 'Median:', sp.median(sample)\n",
    "print 'Mode:', sp.stats.mode(sample)[0][0]\n",
    "print 'Mode count:', sp.stats.mode(sample)[1][0]\n",
    "\n",
    "# Because the mean is greater than the median, the data is skewed right/positively\n",
    "\n",
    "print 'Range:', sp.ptp(sample)\n",
    "print 'Variance:', sp.var(sample)\n",
    "print 'Standard deviation:', sp.std(sample)"
   ]
  },
  {
   "cell_type": "code",
   "execution_count": null,
   "metadata": {
    "collapsed": true
   },
   "outputs": [],
   "source": []
  }
 ],
 "metadata": {
  "anaconda-cloud": {},
  "kernelspec": {
   "display_name": "Python [dsi]",
   "language": "python",
   "name": "Python [dsi]"
  },
  "language_info": {
   "codemirror_mode": {
    "name": "ipython",
    "version": 2
   },
   "file_extension": ".py",
   "mimetype": "text/x-python",
   "name": "python",
   "nbconvert_exporter": "python",
   "pygments_lexer": "ipython2",
   "version": "2.7.12"
  }
 },
 "nbformat": 4,
 "nbformat_minor": 0
}
