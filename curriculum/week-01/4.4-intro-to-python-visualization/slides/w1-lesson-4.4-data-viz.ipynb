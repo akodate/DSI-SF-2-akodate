{
 "cells": [
  {
   "cell_type": "markdown",
   "metadata": {
    "slideshow": {
     "slide_type": "slide"
    }
   },
   "source": [
    "<img src=\"https://ga-dash.s3.amazonaws.com/production/assets/logo-9f88ae6c9c3871690e33280fcf557f33.png\" style=\"float: left; margin: 10px;\"> \n",
    "# Data Viz Principles\n",
    "***\n",
    "Week 1 | Lesson 4.4\n",
    "\n",
    "### LEARNING OBJECTIVES\n",
    "*After this lesson, you will be able to:*\n",
    "- Describe the characteristics of a great data visualization\n",
    "\n",
    "\n",
    "### STUDENT PRE-WORK\n",
    "*Before this lesson, you should already be able to:*\n",
    "- Open up Tableau and take a look around"
   ]
  },
  {
   "cell_type": "markdown",
   "metadata": {
    "slideshow": {
     "slide_type": "slide"
    }
   },
   "source": [
    "### LESSON GUIDE\n",
    "| TIMING  | TYPE  | TOPIC  |\n",
    "|:-:|---|---|\n",
    "| 5 min  | [Introduction](#introduction)   | Why use data visualizations?  |\n",
    "| 10 min  | [Demo](#demo)  | Anscomb's Quartet  |\n",
    "| 25 min  | [Demo](#demo)  | Visualization attributes   |\n",
    "| 25 min  | [Demo](#demo)  | Choosing the right chart   |\n",
    "| 20 min  | [Independent Practice](#ind-practice)  |   |\n",
    "| 5 min  | [Conclusion](#conclusion)  |   |\n",
    "\n",
    "---"
   ]
  },
  {
   "cell_type": "markdown",
   "metadata": {
    "slideshow": {
     "slide_type": "slide"
    }
   },
   "source": [
    "# Discussion:  Why use Data Viz? (5 Mins)\n",
    "Discus with your table, some ways you have used data viz, and also why you think data viz is useful.\n",
    "\n",
    "(Because your manager said so?)"
   ]
  },
  {
   "cell_type": "markdown",
   "metadata": {
    "slideshow": {
     "slide_type": "slide"
    }
   },
   "source": [
    "<a name=\"Why use data visualizations?\"></a>\n",
    "## Introduction: Why use data visualizations? (5 mins)\n",
    "\n",
    "Because of the way the human brain processes information, using charts or graphs to \n",
    "visualize large amounts of complex data is easier than poring over spreadsheets or \n",
    "reports. Data visualization is a quick, easy way to convey concepts in a universal \n",
    "manner – and you can experiment with different scenarios by making slight adjustments.\n",
    "\n",
    "[SAS: Data Viz](http://www.sas.com/en_us/insights/big-data/data-visualization.html)"
   ]
  },
  {
   "cell_type": "code",
   "execution_count": 4,
   "metadata": {
    "collapsed": false,
    "slideshow": {
     "slide_type": "slide"
    }
   },
   "outputs": [
    {
     "data": {
      "text/html": [
       "<div>\n",
       "<table border=\"1\" class=\"dataframe\">\n",
       "  <thead>\n",
       "    <tr style=\"text-align: right;\">\n",
       "      <th></th>\n",
       "      <th>Unnamed: 0</th>\n",
       "      <th>sex</th>\n",
       "      <th>age</th>\n",
       "      <th>ym</th>\n",
       "      <th>child</th>\n",
       "      <th>religious</th>\n",
       "      <th>education</th>\n",
       "      <th>occupation</th>\n",
       "      <th>rate</th>\n",
       "      <th>nbaffairs</th>\n",
       "    </tr>\n",
       "  </thead>\n",
       "  <tbody>\n",
       "    <tr>\n",
       "      <th>0</th>\n",
       "      <td>1</td>\n",
       "      <td>male</td>\n",
       "      <td>37.0</td>\n",
       "      <td>10.00</td>\n",
       "      <td>no</td>\n",
       "      <td>3</td>\n",
       "      <td>18</td>\n",
       "      <td>7</td>\n",
       "      <td>4</td>\n",
       "      <td>0</td>\n",
       "    </tr>\n",
       "    <tr>\n",
       "      <th>1</th>\n",
       "      <td>2</td>\n",
       "      <td>female</td>\n",
       "      <td>27.0</td>\n",
       "      <td>4.00</td>\n",
       "      <td>no</td>\n",
       "      <td>4</td>\n",
       "      <td>14</td>\n",
       "      <td>6</td>\n",
       "      <td>4</td>\n",
       "      <td>0</td>\n",
       "    </tr>\n",
       "    <tr>\n",
       "      <th>2</th>\n",
       "      <td>3</td>\n",
       "      <td>female</td>\n",
       "      <td>32.0</td>\n",
       "      <td>15.00</td>\n",
       "      <td>yes</td>\n",
       "      <td>1</td>\n",
       "      <td>12</td>\n",
       "      <td>1</td>\n",
       "      <td>4</td>\n",
       "      <td>0</td>\n",
       "    </tr>\n",
       "    <tr>\n",
       "      <th>3</th>\n",
       "      <td>4</td>\n",
       "      <td>male</td>\n",
       "      <td>57.0</td>\n",
       "      <td>15.00</td>\n",
       "      <td>yes</td>\n",
       "      <td>5</td>\n",
       "      <td>18</td>\n",
       "      <td>6</td>\n",
       "      <td>5</td>\n",
       "      <td>0</td>\n",
       "    </tr>\n",
       "    <tr>\n",
       "      <th>4</th>\n",
       "      <td>5</td>\n",
       "      <td>male</td>\n",
       "      <td>22.0</td>\n",
       "      <td>0.75</td>\n",
       "      <td>no</td>\n",
       "      <td>2</td>\n",
       "      <td>17</td>\n",
       "      <td>6</td>\n",
       "      <td>3</td>\n",
       "      <td>0</td>\n",
       "    </tr>\n",
       "  </tbody>\n",
       "</table>\n",
       "</div>"
      ],
      "text/plain": [
       "   Unnamed: 0     sex   age     ym child  religious  education  occupation  \\\n",
       "0           1    male  37.0  10.00    no          3         18           7   \n",
       "1           2  female  27.0   4.00    no          4         14           6   \n",
       "2           3  female  32.0  15.00   yes          1         12           1   \n",
       "3           4    male  57.0  15.00   yes          5         18           6   \n",
       "4           5    male  22.0   0.75    no          2         17           6   \n",
       "\n",
       "   rate  nbaffairs  \n",
       "0     4          0  \n",
       "1     4          0  \n",
       "2     4          0  \n",
       "3     5          0  \n",
       "4     3          0  "
      ]
     },
     "execution_count": 4,
     "metadata": {},
     "output_type": "execute_result"
    }
   ],
   "source": [
    "# Check out my awesome text-based dataviz below\n",
    "import pandas as pd\n",
    "\n",
    "df = pd.read_csv(\"../../../../datasets/affairs/Fair.csv\")\n",
    "df.head()"
   ]
  },
  {
   "cell_type": "markdown",
   "metadata": {
    "slideshow": {
     "slide_type": "notes"
    }
   },
   "source": [
    "_note: How useful are our basic metrics: median, mean, mode?  Identify anything out of the odinary.  What if they're the same?_"
   ]
  },
  {
   "cell_type": "markdown",
   "metadata": {
    "slideshow": {
     "slide_type": "slide"
    }
   },
   "source": [
    "<a name=\"Anscombe's Quartet\"></a>\n",
    "## Demo: Anscomb's Quartet (10 mins)\n",
    "\n",
    "Here is the summary statistics for four plots. What do you think the visualization for \n",
    "each of these plots would look like? \n",
    "\n",
    "![summary statistics for four different plots](../assets/images/anscombs%20quartet.png)"
   ]
  },
  {
   "cell_type": "markdown",
   "metadata": {
    "slideshow": {
     "slide_type": "notes"
    }
   },
   "source": [
    "Dataset contructed in 1973 by the statistician **Francis Anscombe**\n",
    "- demonstrates importance of graphing data, before analyzing it\n",
    "- The effect of outliers on statistical properties\n",
    "- His idea intended to attack the impression among statisticians that \"numerical calculations are exact, but graphs are rough.\""
   ]
  },
  {
   "cell_type": "markdown",
   "metadata": {
    "slideshow": {
     "slide_type": "slide"
    }
   },
   "source": [
    "You can probably already guess that the answer is, although the four plots have the same summary statistics, \n",
    "they actually are completely different and this can be seen when we visualize them together. \n",
    "\n",
    "![anscomb's quartet](../assets/images/anscombs%20quartert%20visualization.png)"
   ]
  },
  {
   "cell_type": "markdown",
   "metadata": {
    "slideshow": {
     "slide_type": "notes"
    }
   },
   "source": [
    "Anscomb's quartet reminds us not to rely completely on just the summary stats of our data. \n",
    "And that, especially during exploratory data analysis (EDA), which we will get to in Week 2, \n",
    "making some exploratory visual plots could keep us from making some incorrect assumptions \n",
    "about our data."
   ]
  },
  {
   "cell_type": "markdown",
   "metadata": {
    "slideshow": {
     "slide_type": "slide"
    }
   },
   "source": [
    "<a name=\"Visualization attributes\"></a>\n",
    "## Demo: Visualization attributes (25 mins~ish)\n",
    "\n",
    "What do you think might be impotant attributes that a data visualization should have? \n",
    "\n",
    "Let's take a look at what Jeffrey Shaffer, who teaches data visualization at the \n",
    "University of Cincinnati, thinks is important. \n",
    "\n",
    "![](../assets/images/data%20attributes.png)\n",
    "\n"
   ]
  },
  {
   "cell_type": "markdown",
   "metadata": {
    "slideshow": {
     "slide_type": "notes"
    }
   },
   "source": [
    "Something really interesting, is that some attributes have more of an effect on our brains. \n",
    "The one we tend to focus on most is position, then color and size. "
   ]
  },
  {
   "cell_type": "markdown",
   "metadata": {
    "collapsed": false,
    "slideshow": {
     "slide_type": "slide"
    }
   },
   "source": [
    "Let's take a look at three visualizations. Which one of the three catches your attention \n",
    "the most and why?\n",
    "![](../assets/images/mixed%20shapes.png)\n",
    "\n",
    "![](../assets/images/squares%20and%20circles.png)\n",
    "\n",
    "![](../assets/images/color.png)\n"
   ]
  },
  {
   "cell_type": "markdown",
   "metadata": {
    "slideshow": {
     "slide_type": "slide"
    }
   },
   "source": [
    "Let's focus on color for a minute. Generally, in data visualizations, you’re going to \n",
    "use color in one of three ways: sequential, diverging, or categorical. \n",
    "\n",
    "Sequential colors are used to show values ordered from low to high.\n",
    "\n",
    "![sequential](../assets/images/sequential.png)"
   ]
  },
  {
   "cell_type": "markdown",
   "metadata": {
    "collapsed": true,
    "slideshow": {
     "slide_type": "slide"
    }
   },
   "source": [
    "Divergent colors are used to show ordered values that have a critical midpoint, like an \n",
    "average or zero.\n",
    "\n",
    "![divergent](../assets/images/divergent.png)"
   ]
  },
  {
   "cell_type": "markdown",
   "metadata": {
    "collapsed": true,
    "slideshow": {
     "slide_type": "slide"
    }
   },
   "source": [
    "Categorical colors are used to distinguish data that falls into distinct groups.\n",
    "\n",
    "![categorical](../assets/images/categorical.png)\n",
    "\n",
    "[shaffer: data viz attributes](http://mediashift.org/2016/02/checklist-does-your-data-visualization-say-what-you-think-it-says/)"
   ]
  },
  {
   "cell_type": "markdown",
   "metadata": {
    "slideshow": {
     "slide_type": "slide"
    }
   },
   "source": [
    "<a name=\"Choosing the right chart \"></a>\n",
    "## Demo: Choosing the right chart  (25 mins)\n",
    "\n",
    "In addition to taking visualization attributes into consideration, you should also \n",
    "consider carefully, which kind of chart or graph to use. Let's look at a few commonly \n",
    "used charts and graphs. \n",
    "\n",
    "![](http://www.comicsenglish.com/wp-content/uploads/2013/06/xkcd-stove_ownership.png)\n"
   ]
  },
  {
   "cell_type": "markdown",
   "metadata": {
    "slideshow": {
     "slide_type": "slide"
    }
   },
   "source": [
    "# Bar chart\n",
    "Bar charts are one of the most common ways to visualize data. Why? Because it's easy \n",
    "to compare information, revealing highs and lows quickly. Bar charts are\n",
    "most effective when you have numerical data that splits neatly into different\n",
    "categories.\n",
    "\n",
    "![](../assets/images/bar%20chart.png)"
   ]
  },
  {
   "cell_type": "markdown",
   "metadata": {
    "slideshow": {
     "slide_type": "slide"
    }
   },
   "source": [
    "## Pie chart\n",
    "The only time that pie charts should be used is to show relative proportions \n",
    "or percentages of information. Pie charts are the most commonly mis-used chart type.\n",
    "If you want to compare data, leave it to bars or stacked bars. If your viewer\n",
    "has to work to translate pie wedges into relevant data or compare pie charts, key points\n",
    "you might be trying to convey may be missed. \n",
    "\n",
    "![](../assets/images/pie%20chart.jpg)\n",
    "[pie chart](http://www.tv.com/news/learning-about-the-2013-pilot-season-through-pie-charts-136243394841/)"
   ]
  },
  {
   "cell_type": "markdown",
   "metadata": {
    "slideshow": {
     "slide_type": "slide"
    }
   },
   "source": [
    "## The best use of a pie chart\n",
    "\n",
    "![](http://i.imgur.com/uhTf6Ek.jpg)"
   ]
  },
  {
   "cell_type": "markdown",
   "metadata": {
    "slideshow": {
     "slide_type": "slide"
    }
   },
   "source": [
    "## Scatter plot\n",
    "Scatter plots are a great way to give you a sense of trends, concentrations \n",
    "and outliers. This will give you a good idea of where you may want to investigate\n",
    "further. \n",
    "\n",
    "![](../assets/images/scatter%20plot.png)\n",
    "[scatter plot](https://en.wikibooks.org/wiki/Statistics/Displaying_Data/Scatter_Graphs)"
   ]
  },
  {
   "cell_type": "markdown",
   "metadata": {
    "slideshow": {
     "slide_type": "slide"
    }
   },
   "source": [
    "## Histogram chart\n",
    "Histograms are useful when you want to see how your data are distributed across groups.\n",
    "\n",
    "![](../assets/images/histogram%20chart.png)\n",
    "\n",
    "This is not an all inclusive list of the kinds of charts and graphs that one \n",
    "could use, but the point is, there are several types. Consideration should be\n",
    "given to which one is most appropriate to represent a particular data set. \n",
    "\n",
    "[charts and graphs](https://drive.google.com/file/d/0Bx2SHQGVqWasT1l4NWtLclJJcWM/view)"
   ]
  },
  {
   "cell_type": "markdown",
   "metadata": {
    "slideshow": {
     "slide_type": "slide"
    }
   },
   "source": [
    "## Great Data Viz Resources\n",
    "\n",
    "https://github.com/mbostock/d3/wiki/Gallery"
   ]
  },
  {
   "cell_type": "markdown",
   "metadata": {
    "slideshow": {
     "slide_type": "slide"
    }
   },
   "source": [
    "<a name=\"ind-practice\"></a>\n",
    "## Independent Practice: Topic (20 minutes)\n",
    "\n",
    "- Create a Tableau visualization. Try to keep in mind all the points that were made above. \n",
    "- Share it with a partner. What's the first question they ask you? "
   ]
  },
  {
   "cell_type": "markdown",
   "metadata": {
    "slideshow": {
     "slide_type": "slide"
    }
   },
   "source": [
    "<a name=\"conclusion\"></a>\n",
    "## Conclusion (5 mins)\n",
    "- Why is visualization so important? \n",
    "- What are some things to keep in mind when creating a visualization? \n",
    "- Describe when you would use particular types of charts or graphs. \n",
    "    - bar chart?\n",
    "    - pie chart? \n",
    "    - scatter plot?\n",
    "    - histogram chart? "
   ]
  }
 ],
 "metadata": {
  "anaconda-cloud": {},
  "celltoolbar": "Slideshow",
  "kernelspec": {
   "display_name": "Python [dsi]",
   "language": "python",
   "name": "Python [dsi]"
  },
  "language_info": {
   "codemirror_mode": {
    "name": "ipython",
    "version": 2
   },
   "file_extension": ".py",
   "mimetype": "text/x-python",
   "name": "python",
   "nbconvert_exporter": "python",
   "pygments_lexer": "ipython2",
   "version": "2.7.12"
  }
 },
 "nbformat": 4,
 "nbformat_minor": 0
}
