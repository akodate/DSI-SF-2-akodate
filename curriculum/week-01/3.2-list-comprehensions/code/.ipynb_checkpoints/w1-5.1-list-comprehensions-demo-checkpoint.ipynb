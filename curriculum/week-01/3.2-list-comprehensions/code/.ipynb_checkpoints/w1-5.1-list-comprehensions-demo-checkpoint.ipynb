{
 "cells": [
  {
   "cell_type": "markdown",
   "metadata": {},
   "source": [
    "### Practice List Comprehensions\n",
    "\n",
    "This guided demo follows the lecture on list comprehensions!\n",
    "\n",
    "#### Section 1: Basic list comprehensions"
   ]
  },
  {
   "cell_type": "code",
   "execution_count": 3,
   "metadata": {
    "collapsed": true
   },
   "outputs": [],
   "source": [
    "import numpy as np\n",
    "import pandas as pd\n",
    "import string"
   ]
  },
  {
   "cell_type": "markdown",
   "metadata": {},
   "source": [
    "##### 1-A) Add 1 to every element in the list"
   ]
  },
  {
   "cell_type": "code",
   "execution_count": 1,
   "metadata": {
    "collapsed": false
   },
   "outputs": [
    {
     "data": {
      "text/plain": [
       "[1, 2, 3, 4, 5, 6, 7, 8, 9, 10]"
      ]
     },
     "execution_count": 1,
     "metadata": {},
     "output_type": "execute_result"
    }
   ],
   "source": [
    "numbers = [0,1,2,3,4,5,6,7,8,9]\n",
    "[x+1 for x in numbers]"
   ]
  },
  {
   "cell_type": "markdown",
   "metadata": {},
   "source": [
    "#### Section 2: List comprehension conditional logic\n",
    "\n",
    "##### 2-A) \"Binarize\" n so that any value greater than or equal to the mean of n is 1, otherwise 0"
   ]
  },
  {
   "cell_type": "code",
   "execution_count": 6,
   "metadata": {
    "collapsed": false
   },
   "outputs": [
    {
     "data": {
      "text/plain": [
       "[0, 0, 0, 1, 0, 0, 1, 0, 1, 0, 1, 1, 0, 0, 0]"
      ]
     },
     "execution_count": 6,
     "metadata": {},
     "output_type": "execute_result"
    }
   ],
   "source": [
    "n = [1, 2, 7, 21, 3, 1, 62, 3, 34, 12, 73, 44, 12, 11, 9]\n",
    "[int(x >= np.mean(n)) for x in n]"
   ]
  },
  {
   "cell_type": "markdown",
   "metadata": {},
   "source": [
    "##### 2-B) Swap 1s to 0s and 0s to 1s. If the element is neither a 0 nor 1, make it None"
   ]
  },
  {
   "cell_type": "code",
   "execution_count": 7,
   "metadata": {
    "collapsed": false
   },
   "outputs": [
    {
     "data": {
      "text/plain": [
       "[True, False, True, False, None, None, None, None, False, True]"
      ]
     },
     "execution_count": 7,
     "metadata": {},
     "output_type": "execute_result"
    }
   ],
   "source": [
    "n = [0, 1, 0, 1, 2, 3, 5, 2, 1, 0]\n",
    "[not x if x == 0 or x == 1 else None for x in n]"
   ]
  },
  {
   "cell_type": "markdown",
   "metadata": {},
   "source": [
    "#### Section 3: Nested list comprehensions\n",
    "\n",
    "##### 3-A) Get the square and square root of all non-negative numbers in the list"
   ]
  },
  {
   "cell_type": "code",
   "execution_count": 8,
   "metadata": {
    "collapsed": false
   },
   "outputs": [
    {
     "data": {
      "text/plain": [
       "[(0, 0.0), (1, 1.0), (2500, 7.0710678118654755), (5625, 8.6602540378443873)]"
      ]
     },
     "execution_count": 8,
     "metadata": {},
     "output_type": "execute_result"
    }
   ],
   "source": [
    "n = [0, 1, 50, -23, -1, 75, -3]\n",
    "[(x ** 2, np.sqrt(x)) for x in n if x >= 0]"
   ]
  },
  {
   "cell_type": "markdown",
   "metadata": {},
   "source": [
    "#### Section 4: Functions in list comprehensions\n",
    "\n",
    "##### 4-A) Combine elements of these two lists item by item into list pairs"
   ]
  },
  {
   "cell_type": "code",
   "execution_count": 9,
   "metadata": {
    "collapsed": false
   },
   "outputs": [
    {
     "data": {
      "text/plain": [
       "[('a', 'z'), ('b', 'y'), ('c', 'x'), ('d', 'w')]"
      ]
     },
     "execution_count": 9,
     "metadata": {},
     "output_type": "execute_result"
    }
   ],
   "source": [
    "a = ['a','b','c','d']\n",
    "z = ['z','y','x','w']\n",
    "zip(a, z)"
   ]
  },
  {
   "cell_type": "markdown",
   "metadata": {},
   "source": [
    "##### 4-B) Pair each index and element of this list into list pairs"
   ]
  },
  {
   "cell_type": "code",
   "execution_count": 12,
   "metadata": {
    "collapsed": false
   },
   "outputs": [
    {
     "data": {
      "text/plain": [
       "[(0, 'a'), (1, 'b'), (2, 'c'), (3, 'd')]"
      ]
     },
     "execution_count": 12,
     "metadata": {},
     "output_type": "execute_result"
    }
   ],
   "source": [
    "a = ['a','b','c','d']\n",
    "[(i, x) for i, x in enumerate(a)]"
   ]
  },
  {
   "cell_type": "markdown",
   "metadata": {},
   "source": [
    "##### 4-C) For each element of each list, calculate the first list element times the index divided by the element of the second list"
   ]
  },
  {
   "cell_type": "code",
   "execution_count": 14,
   "metadata": {
    "collapsed": false
   },
   "outputs": [
    {
     "data": {
      "text/plain": [
       "[0.0, 7.5, 13.333333333333334, 18.75, 32.0]"
      ]
     },
     "execution_count": 14,
     "metadata": {},
     "output_type": "execute_result"
    }
   ],
   "source": [
    "list_one = [10, 15, 20, 25, 40]\n",
    "list_two = [1, 2, 3, 4, 5]\n",
    "\n",
    "[(float(x) * i / list_two[i]) for i, x in enumerate(list_one)]"
   ]
  },
  {
   "cell_type": "markdown",
   "metadata": {},
   "source": [
    "#### Section 5: Nested list comprehensions\n",
    "\n",
    "##### 5-A) Create all the alphabet \"syllables\" defined as consonant-vowel pairs in a flattened list [USING FOR LOOP ITERATION]"
   ]
  },
  {
   "cell_type": "code",
   "execution_count": 18,
   "metadata": {
    "collapsed": false
   },
   "outputs": [
    {
     "data": {
      "text/plain": [
       "['ba',\n",
       " 'be',\n",
       " 'bi',\n",
       " 'bo',\n",
       " 'bu',\n",
       " 'ca',\n",
       " 'ce',\n",
       " 'ci',\n",
       " 'co',\n",
       " 'cu',\n",
       " 'da',\n",
       " 'de',\n",
       " 'di',\n",
       " 'do',\n",
       " 'du',\n",
       " 'fa',\n",
       " 'fe',\n",
       " 'fi',\n",
       " 'fo',\n",
       " 'fu',\n",
       " 'ga',\n",
       " 'ge',\n",
       " 'gi',\n",
       " 'go',\n",
       " 'gu',\n",
       " 'ha',\n",
       " 'he',\n",
       " 'hi',\n",
       " 'ho',\n",
       " 'hu',\n",
       " 'ja',\n",
       " 'je',\n",
       " 'ji',\n",
       " 'jo',\n",
       " 'ju',\n",
       " 'ka',\n",
       " 'ke',\n",
       " 'ki',\n",
       " 'ko',\n",
       " 'ku',\n",
       " 'la',\n",
       " 'le',\n",
       " 'li',\n",
       " 'lo',\n",
       " 'lu',\n",
       " 'ma',\n",
       " 'me',\n",
       " 'mi',\n",
       " 'mo',\n",
       " 'mu',\n",
       " 'na',\n",
       " 'ne',\n",
       " 'ni',\n",
       " 'no',\n",
       " 'nu',\n",
       " 'pa',\n",
       " 'pe',\n",
       " 'pi',\n",
       " 'po',\n",
       " 'pu',\n",
       " 'qa',\n",
       " 'qe',\n",
       " 'qi',\n",
       " 'qo',\n",
       " 'qu',\n",
       " 'ra',\n",
       " 're',\n",
       " 'ri',\n",
       " 'ro',\n",
       " 'ru',\n",
       " 'sa',\n",
       " 'se',\n",
       " 'si',\n",
       " 'so',\n",
       " 'su',\n",
       " 'ta',\n",
       " 'te',\n",
       " 'ti',\n",
       " 'to',\n",
       " 'tu',\n",
       " 'va',\n",
       " 've',\n",
       " 'vi',\n",
       " 'vo',\n",
       " 'vu',\n",
       " 'wa',\n",
       " 'we',\n",
       " 'wi',\n",
       " 'wo',\n",
       " 'wu',\n",
       " 'xa',\n",
       " 'xe',\n",
       " 'xi',\n",
       " 'xo',\n",
       " 'xu',\n",
       " 'ya',\n",
       " 'ye',\n",
       " 'yi',\n",
       " 'yo',\n",
       " 'yu',\n",
       " 'za',\n",
       " 'ze',\n",
       " 'zi',\n",
       " 'zo',\n",
       " 'zu']"
      ]
     },
     "execution_count": 18,
     "metadata": {},
     "output_type": "execute_result"
    }
   ],
   "source": [
    "vowels = ['a', 'e', 'i', 'o', 'u']\n",
    "alphabet = string.ascii_lowercase\n",
    "\n",
    "syllables = []\n",
    "\n",
    "for letter in alphabet:\n",
    "    if letter not in vowels:\n",
    "        for vowel in vowels:\n",
    "            syllables.append(letter + vowel)\n",
    "            \n",
    "syllables"
   ]
  },
  {
   "cell_type": "markdown",
   "metadata": {},
   "source": [
    "##### 5-B) Create all the alphabet \"syllables\" defined as consonant-vowel pairs in a flattened list [USING A LIST COMPREHENSION]"
   ]
  },
  {
   "cell_type": "code",
   "execution_count": 10,
   "metadata": {
    "collapsed": true
   },
   "outputs": [],
   "source": [
    "vowels = ['a', 'e', 'i', 'o', 'u']\n",
    "alphabet = string.ascii_lowercase\n",
    "\n"
   ]
  },
  {
   "cell_type": "markdown",
   "metadata": {},
   "source": [
    "#### Section 6: Dictionary comprehensions\n",
    "\n",
    "##### 6-A) Make a dictionary where keys are animals and values are lists with the number value of each character in the key\n",
    "\n",
    "Hint: use the **ord()** function to convert characters to numbers."
   ]
  },
  {
   "cell_type": "code",
   "execution_count": 11,
   "metadata": {
    "collapsed": true
   },
   "outputs": [],
   "source": [
    "keys = ['dog', 'cat', 'bird', 'horse']\n"
   ]
  },
  {
   "cell_type": "markdown",
   "metadata": {},
   "source": [
    "##### 6-B) Create a dictionary with these column names and corresponding column values"
   ]
  },
  {
   "cell_type": "code",
   "execution_count": 12,
   "metadata": {
    "collapsed": true
   },
   "outputs": [],
   "source": [
    "column_names = ['height','weight','is_male']\n",
    "values = [[62, 54, 60, 50], [180, 120, 200, 100], [True, False, True, False]]\n"
   ]
  }
 ],
 "metadata": {
  "kernelspec": {
   "display_name": "Python [dsi]",
   "language": "python",
   "name": "Python [dsi]"
  },
  "language_info": {
   "codemirror_mode": {
    "name": "ipython",
    "version": 2
   },
   "file_extension": ".py",
   "mimetype": "text/x-python",
   "name": "python",
   "nbconvert_exporter": "python",
   "pygments_lexer": "ipython2",
   "version": "2.7.12"
  }
 },
 "nbformat": 4,
 "nbformat_minor": 0
}
