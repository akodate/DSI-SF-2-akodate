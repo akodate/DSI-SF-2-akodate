{
 "cells": [
  {
   "cell_type": "markdown",
   "metadata": {},
   "source": [
    "# Iteration in python\n",
    "\n",
    "To practice iteration (and more) in python, we will first load in a dataset on coffee ratings from the datasets folder. This way, you can start getting practice dealing with data files while also refreshing your memory of python programming.\n",
    "\n",
    "---\n",
    "\n",
    "### 1. Load in the data\n",
    "\n",
    "The code to load in the data is provided below. \n",
    "\n",
    "The `with open(..., 'r') as f:` opens up a file in \"read\" mode (rather than \"write\"), and assigns this opened file to `f`. \n",
    "\n",
    "We can then use the `.readlines()` built-in function to split the csv file on newlines and assign it to the variable `lines`."
   ]
  },
  {
   "cell_type": "code",
   "execution_count": 4,
   "metadata": {
    "collapsed": false
   },
   "outputs": [],
   "source": [
    "with open('../../../../../datasets/coffee_preferences/dat12-coffee-preferences.csv','r') as f:\n",
    "    lines = f.readlines()"
   ]
  },
  {
   "cell_type": "markdown",
   "metadata": {},
   "source": [
    "---\n",
    "\n",
    "### 2. Examine the `lines` object\n",
    "\n",
    "Print out lines (if you just run the cell with `lines` and no `print` statement it will format it better). \n",
    "\n",
    "What things we can see right off the bat about the data?"
   ]
  },
  {
   "cell_type": "code",
   "execution_count": 7,
   "metadata": {
    "collapsed": false
   },
   "outputs": [
    {
     "data": {
      "text/plain": [
       "['Timestamp,Name,Starbucks,PhilzCoffee,BlueBottleCoffee,PeetsTea,CaffeTrieste,GrandCoffee,RitualCoffee,FourBarrel,WorkshopCafe\\n',\n",
       " '3/17/2015 18:37:58,Alison,3,5,4,3,,,5,5,\\n',\n",
       " '3/17/2015 18:38:09,April,4,5,5,3,,,3,,5\\n',\n",
       " '3/17/2015 18:38:25,Vijay,3,5,5,5,3,2,1,1,1\\n',\n",
       " '3/17/2015 18:38:28,Vanessa,1,5,5,2,,,3,2,3\\n',\n",
       " '3/17/2015 18:38:46,Isabel,1,4,4,2,4,,4,4,\\n',\n",
       " '3/17/2015 18:39:01,India,5,3,3,3,3,1,,,3\\n',\n",
       " '3/17/2015 18:39:01,Dave H,4,5,,5,,,,,\\n',\n",
       " '3/17/2015 18:39:05,Deepthi,3,5,,2,,,,,2\\n',\n",
       " '3/17/2015 18:39:14,Ramesh,3,4,,3,,,,,4\\n',\n",
       " '3/17/2015 18:39:23,Hugh Jass,1,5,5,4,5,2,5,4,1\\n',\n",
       " '3/17/2015 18:39:23,Alex,4,5,,3,,,,,\\n',\n",
       " '3/17/2015 18:39:30,Ajay Anand,3,4,4,3,5,,,,\\n',\n",
       " '3/17/2015 18:39:35,David Feng,2,3,4,2,2,,5,4,3\\n',\n",
       " '3/17/2015 18:39:42,Zach,3,4,4,3,,,,,5\\n',\n",
       " '3/17/2015 18:40:44,Matt,3,5,4,3,2,2,4,3,2\\n',\n",
       " '3/17/2015 18:40:49,Markus,3,5,,3,,,4,,\\n',\n",
       " '3/17/2015 18:41:18,Otto,4,2,2,5,,,3,3,3\\n',\n",
       " '3/17/2015 18:41:23,Alessandro,1,5,3,2,,,4,3,\\n',\n",
       " '3/17/2015 18:41:35,Rocky,3,5,4,3,3,3,4,4,3\\n',\n",
       " '3/17/2015 18:42:01,cheong-tseng eng,3,1,,,,,4,,']"
      ]
     },
     "execution_count": 7,
     "metadata": {},
     "output_type": "execute_result"
    }
   ],
   "source": [
    "lines"
   ]
  },
  {
   "cell_type": "markdown",
   "metadata": {},
   "source": [
    "---\n",
    "\n",
    "### 3. Remove the remaining newline `'\\n'` characters with a for-loop\n",
    "\n",
    "Iterate through the lines of the data and remove the unwanted newline characters.\n",
    "\n",
    "**`.replace('\\n', '')`** is a built-in string function that will take as the first argument the substring you want to replace, and as its second argument the string you want to replace it with.\n"
   ]
  },
  {
   "cell_type": "code",
   "execution_count": 11,
   "metadata": {
    "collapsed": false
   },
   "outputs": [
    {
     "data": {
      "text/plain": [
       "['Timestamp,Name,Starbucks,PhilzCoffee,BlueBottleCoffee,PeetsTea,CaffeTrieste,GrandCoffee,RitualCoffee,FourBarrel,WorkshopCafe',\n",
       " '3/17/2015 18:37:58,Alison,3,5,4,3,,,5,5,',\n",
       " '3/17/2015 18:38:09,April,4,5,5,3,,,3,,5',\n",
       " '3/17/2015 18:38:25,Vijay,3,5,5,5,3,2,1,1,1',\n",
       " '3/17/2015 18:38:28,Vanessa,1,5,5,2,,,3,2,3',\n",
       " '3/17/2015 18:38:46,Isabel,1,4,4,2,4,,4,4,',\n",
       " '3/17/2015 18:39:01,India,5,3,3,3,3,1,,,3',\n",
       " '3/17/2015 18:39:01,Dave H,4,5,,5,,,,,',\n",
       " '3/17/2015 18:39:05,Deepthi,3,5,,2,,,,,2',\n",
       " '3/17/2015 18:39:14,Ramesh,3,4,,3,,,,,4',\n",
       " '3/17/2015 18:39:23,Hugh Jass,1,5,5,4,5,2,5,4,1',\n",
       " '3/17/2015 18:39:23,Alex,4,5,,3,,,,,',\n",
       " '3/17/2015 18:39:30,Ajay Anand,3,4,4,3,5,,,,',\n",
       " '3/17/2015 18:39:35,David Feng,2,3,4,2,2,,5,4,3',\n",
       " '3/17/2015 18:39:42,Zach,3,4,4,3,,,,,5',\n",
       " '3/17/2015 18:40:44,Matt,3,5,4,3,2,2,4,3,2',\n",
       " '3/17/2015 18:40:49,Markus,3,5,,3,,,4,,',\n",
       " '3/17/2015 18:41:18,Otto,4,2,2,5,,,3,3,3',\n",
       " '3/17/2015 18:41:23,Alessandro,1,5,3,2,,,4,3,',\n",
       " '3/17/2015 18:41:35,Rocky,3,5,4,3,3,3,4,4,3',\n",
       " '3/17/2015 18:42:01,cheong-tseng eng,3,1,,,,,4,,']"
      ]
     },
     "execution_count": 11,
     "metadata": {},
     "output_type": "execute_result"
    }
   ],
   "source": [
    "lines = [i.replace('\\n', '') for i in lines]\n",
    "lines"
   ]
  },
  {
   "cell_type": "markdown",
   "metadata": {},
   "source": [
    "---\n",
    "\n",
    "### 4. Split the lines into \"header\" and \"data\" variables\n",
    "\n",
    "The header is the first string in the list of strings. It contains the column names of our data."
   ]
  },
  {
   "cell_type": "code",
   "execution_count": 18,
   "metadata": {
    "collapsed": false
   },
   "outputs": [
    {
     "name": "stdout",
     "output_type": "stream",
     "text": [
      "Timestamp,Name,Starbucks,PhilzCoffee,BlueBottleCoffee,PeetsTea,CaffeTrieste,GrandCoffee,RitualCoffee,FourBarrel,WorkshopCafe\n"
     ]
    },
    {
     "data": {
      "text/plain": [
       "['3/17/2015 18:37:58,Alison,3,5,4,3,,,5,5,',\n",
       " '3/17/2015 18:38:09,April,4,5,5,3,,,3,,5',\n",
       " '3/17/2015 18:38:25,Vijay,3,5,5,5,3,2,1,1,1',\n",
       " '3/17/2015 18:38:28,Vanessa,1,5,5,2,,,3,2,3',\n",
       " '3/17/2015 18:38:46,Isabel,1,4,4,2,4,,4,4,',\n",
       " '3/17/2015 18:39:01,India,5,3,3,3,3,1,,,3',\n",
       " '3/17/2015 18:39:01,Dave H,4,5,,5,,,,,',\n",
       " '3/17/2015 18:39:05,Deepthi,3,5,,2,,,,,2',\n",
       " '3/17/2015 18:39:14,Ramesh,3,4,,3,,,,,4',\n",
       " '3/17/2015 18:39:23,Hugh Jass,1,5,5,4,5,2,5,4,1',\n",
       " '3/17/2015 18:39:23,Alex,4,5,,3,,,,,',\n",
       " '3/17/2015 18:39:30,Ajay Anand,3,4,4,3,5,,,,',\n",
       " '3/17/2015 18:39:35,David Feng,2,3,4,2,2,,5,4,3',\n",
       " '3/17/2015 18:39:42,Zach,3,4,4,3,,,,,5',\n",
       " '3/17/2015 18:40:44,Matt,3,5,4,3,2,2,4,3,2',\n",
       " '3/17/2015 18:40:49,Markus,3,5,,3,,,4,,',\n",
       " '3/17/2015 18:41:18,Otto,4,2,2,5,,,3,3,3',\n",
       " '3/17/2015 18:41:23,Alessandro,1,5,3,2,,,4,3,',\n",
       " '3/17/2015 18:41:35,Rocky,3,5,4,3,3,3,4,4,3',\n",
       " '3/17/2015 18:42:01,cheong-tseng eng,3,1,,,,,4,,']"
      ]
     },
     "execution_count": 18,
     "metadata": {},
     "output_type": "execute_result"
    }
   ],
   "source": [
    "header = lines[0]\n",
    "data = lines[1:]\n",
    "print header\n",
    "data"
   ]
  },
  {
   "cell_type": "markdown",
   "metadata": {},
   "source": [
    "---\n",
    "\n",
    "### 5. Split the header and the data strings on commas\n",
    "\n",
    "To split a string on the comma character, use the **`.split(',')`** built-in function. \n",
    "\n",
    "Split the header on commas first and print it. You can see that the original string is now a list, with items that were originally separated by commas."
   ]
  },
  {
   "cell_type": "code",
   "execution_count": 31,
   "metadata": {
    "collapsed": false
   },
   "outputs": [
    {
     "name": "stdout",
     "output_type": "stream",
     "text": [
      "['Timestamp', 'Name', 'Starbucks', 'PhilzCoffee', 'BlueBottleCoffee', 'PeetsTea', 'CaffeTrieste', 'GrandCoffee', 'RitualCoffee', 'FourBarrel', 'WorkshopCafe']\n"
     ]
    },
    {
     "data": {
      "text/plain": [
       "[['3/17/2015 18:37:58', 'Alison', '3', '5', '4', '3', '', '', '5', '5', ''],\n",
       " ['3/17/2015 18:38:09', 'April', '4', '5', '5', '3', '', '', '3', '', '5'],\n",
       " ['3/17/2015 18:38:25', 'Vijay', '3', '5', '5', '5', '3', '2', '1', '1', '1'],\n",
       " ['3/17/2015 18:38:28', 'Vanessa', '1', '5', '5', '2', '', '', '3', '2', '3'],\n",
       " ['3/17/2015 18:38:46', 'Isabel', '1', '4', '4', '2', '4', '', '4', '4', ''],\n",
       " ['3/17/2015 18:39:01', 'India', '5', '3', '3', '3', '3', '1', '', '', '3'],\n",
       " ['3/17/2015 18:39:01', 'Dave H', '4', '5', '', '5', '', '', '', '', ''],\n",
       " ['3/17/2015 18:39:05', 'Deepthi', '3', '5', '', '2', '', '', '', '', '2'],\n",
       " ['3/17/2015 18:39:14', 'Ramesh', '3', '4', '', '3', '', '', '', '', '4'],\n",
       " ['3/17/2015 18:39:23',\n",
       "  'Hugh Jass',\n",
       "  '1',\n",
       "  '5',\n",
       "  '5',\n",
       "  '4',\n",
       "  '5',\n",
       "  '2',\n",
       "  '5',\n",
       "  '4',\n",
       "  '1'],\n",
       " ['3/17/2015 18:39:23', 'Alex', '4', '5', '', '3', '', '', '', '', ''],\n",
       " ['3/17/2015 18:39:30', 'Ajay Anand', '3', '4', '4', '3', '5', '', '', '', ''],\n",
       " ['3/17/2015 18:39:35',\n",
       "  'David Feng',\n",
       "  '2',\n",
       "  '3',\n",
       "  '4',\n",
       "  '2',\n",
       "  '2',\n",
       "  '',\n",
       "  '5',\n",
       "  '4',\n",
       "  '3'],\n",
       " ['3/17/2015 18:39:42', 'Zach', '3', '4', '4', '3', '', '', '', '', '5'],\n",
       " ['3/17/2015 18:40:44', 'Matt', '3', '5', '4', '3', '2', '2', '4', '3', '2'],\n",
       " ['3/17/2015 18:40:49', 'Markus', '3', '5', '', '3', '', '', '4', '', ''],\n",
       " ['3/17/2015 18:41:18', 'Otto', '4', '2', '2', '5', '', '', '3', '3', '3'],\n",
       " ['3/17/2015 18:41:23',\n",
       "  'Alessandro',\n",
       "  '1',\n",
       "  '5',\n",
       "  '3',\n",
       "  '2',\n",
       "  '',\n",
       "  '',\n",
       "  '4',\n",
       "  '3',\n",
       "  ''],\n",
       " ['3/17/2015 18:41:35', 'Rocky', '3', '5', '4', '3', '3', '3', '4', '4', '3'],\n",
       " ['3/17/2015 18:42:01',\n",
       "  'cheong-tseng eng',\n",
       "  '3',\n",
       "  '1',\n",
       "  '',\n",
       "  '',\n",
       "  '',\n",
       "  '',\n",
       "  '4',\n",
       "  '',\n",
       "  '']]"
      ]
     },
     "execution_count": 31,
     "metadata": {},
     "output_type": "execute_result"
    }
   ],
   "source": [
    "split_header = header.split(',')\n",
    "print split_header\n",
    "\n",
    "split_data = [i.split(',') for i in data]\n",
    "split_data"
   ]
  },
  {
   "cell_type": "markdown",
   "metadata": {},
   "source": [
    "---\n",
    "\n",
    "### 6. Remove the \"Timestamp\" column\n",
    "\n",
    "We aren't interested in the Timestamp column in our data, so remove it from the header and the data list.\n",
    "\n",
    "Removing the Timestamp from the header is simple and can be done with list functions or slicing. To remove the header column from the data, use a for-loop.\n",
    "\n",
    "Print out the new data object with the timestamps removed."
   ]
  },
  {
   "cell_type": "code",
   "execution_count": 35,
   "metadata": {
    "collapsed": false
   },
   "outputs": [
    {
     "name": "stdout",
     "output_type": "stream",
     "text": [
      "['Name', 'Starbucks', 'PhilzCoffee', 'BlueBottleCoffee', 'PeetsTea', 'CaffeTrieste', 'GrandCoffee', 'RitualCoffee', 'FourBarrel', 'WorkshopCafe']\n"
     ]
    },
    {
     "data": {
      "text/plain": [
       "[['Alison', '3', '5', '4', '3', '', '', '5', '5', ''],\n",
       " ['April', '4', '5', '5', '3', '', '', '3', '', '5'],\n",
       " ['Vijay', '3', '5', '5', '5', '3', '2', '1', '1', '1'],\n",
       " ['Vanessa', '1', '5', '5', '2', '', '', '3', '2', '3'],\n",
       " ['Isabel', '1', '4', '4', '2', '4', '', '4', '4', ''],\n",
       " ['India', '5', '3', '3', '3', '3', '1', '', '', '3'],\n",
       " ['Dave H', '4', '5', '', '5', '', '', '', '', ''],\n",
       " ['Deepthi', '3', '5', '', '2', '', '', '', '', '2'],\n",
       " ['Ramesh', '3', '4', '', '3', '', '', '', '', '4'],\n",
       " ['Hugh Jass', '1', '5', '5', '4', '5', '2', '5', '4', '1'],\n",
       " ['Alex', '4', '5', '', '3', '', '', '', '', ''],\n",
       " ['Ajay Anand', '3', '4', '4', '3', '5', '', '', '', ''],\n",
       " ['David Feng', '2', '3', '4', '2', '2', '', '5', '4', '3'],\n",
       " ['Zach', '3', '4', '4', '3', '', '', '', '', '5'],\n",
       " ['Matt', '3', '5', '4', '3', '2', '2', '4', '3', '2'],\n",
       " ['Markus', '3', '5', '', '3', '', '', '4', '', ''],\n",
       " ['Otto', '4', '2', '2', '5', '', '', '3', '3', '3'],\n",
       " ['Alessandro', '1', '5', '3', '2', '', '', '4', '3', ''],\n",
       " ['Rocky', '3', '5', '4', '3', '3', '3', '4', '4', '3'],\n",
       " ['cheong-tseng eng', '3', '1', '', '', '', '', '4', '', '']]"
      ]
     },
     "execution_count": 35,
     "metadata": {},
     "output_type": "execute_result"
    }
   ],
   "source": [
    "if 'Timestamp' in split_header: split_header.remove('Timestamp')\n",
    "print split_header\n",
    "\n",
    "split_data = [i[1:] if '/20' in i[0] else i for i in split_data]\n",
    "split_data"
   ]
  },
  {
   "cell_type": "markdown",
   "metadata": {},
   "source": [
    "---\n",
    "\n",
    "### 7. Convert numeric columns to floats and empty fields to None\n",
    "\n",
    "Iterate through the data and construct a new data list of lists that has the numeric ratings converted from strings to floats, and the empty fields (which are empty strings `''`) replaced with the `None` object.\n",
    "\n",
    "Use a nested for-loop (for-loop within another for-loop) to get the job done. You will likely need to use if/else conditional statements as well!\n",
    "\n",
    "Print out the new data object to make sure it worked.\n"
   ]
  },
  {
   "cell_type": "code",
   "execution_count": 43,
   "metadata": {
    "collapsed": false
   },
   "outputs": [
    {
     "data": {
      "text/plain": [
       "[['Alison', 3, 5, 4, 3, None, None, 5, 5, None],\n",
       " ['April', 4, 5, 5, 3, None, None, 3, None, 5],\n",
       " ['Vijay', 3, 5, 5, 5, 3, 2, 1, 1, 1],\n",
       " ['Vanessa', 1, 5, 5, 2, None, None, 3, 2, 3],\n",
       " ['Isabel', 1, 4, 4, 2, 4, None, 4, 4, None],\n",
       " ['India', 5, 3, 3, 3, 3, 1, None, None, 3],\n",
       " ['Dave H', 4, 5, None, 5, None, None, None, None, None],\n",
       " ['Deepthi', 3, 5, None, 2, None, None, None, None, 2],\n",
       " ['Ramesh', 3, 4, None, 3, None, None, None, None, 4],\n",
       " ['Hugh Jass', 1, 5, 5, 4, 5, 2, 5, 4, 1],\n",
       " ['Alex', 4, 5, None, 3, None, None, None, None, None],\n",
       " ['Ajay Anand', 3, 4, 4, 3, 5, None, None, None, None],\n",
       " ['David Feng', 2, 3, 4, 2, 2, None, 5, 4, 3],\n",
       " ['Zach', 3, 4, 4, 3, None, None, None, None, 5],\n",
       " ['Matt', 3, 5, 4, 3, 2, 2, 4, 3, 2],\n",
       " ['Markus', 3, 5, None, 3, None, None, 4, None, None],\n",
       " ['Otto', 4, 2, 2, 5, None, None, 3, 3, 3],\n",
       " ['Alessandro', 1, 5, 3, 2, None, None, 4, 3, None],\n",
       " ['Rocky', 3, 5, 4, 3, 3, 3, 4, 4, 3],\n",
       " ['cheong-tseng eng', 3, 1, None, None, None, None, 4, None, None]]"
      ]
     },
     "execution_count": 43,
     "metadata": {},
     "output_type": "execute_result"
    }
   ],
   "source": [
    "clean_data = []\n",
    "for i in split_data:\n",
    "    clean_i = []\n",
    "    for j in i:\n",
    "        if j.isdigit():\n",
    "            clean_i.append(int(j))\n",
    "        elif j == '':\n",
    "            clean_i.append(None)\n",
    "        else:\n",
    "            clean_i.append(j)\n",
    "    clean_data.append(clean_i)\n",
    "\n",
    "clean_data"
   ]
  },
  {
   "cell_type": "markdown",
   "metadata": {},
   "source": [
    "---\n",
    "\n",
    "### 8. Count the `None` values per person\n",
    "\n",
    "Use a for loop to count the number of `None` values per person. Create a dictionary with the names of the people as keys, and the counts of `None` as values.\n",
    "\n",
    "Who rated the most coffee brands? Who rated the least?"
   ]
  },
  {
   "cell_type": "code",
   "execution_count": 54,
   "metadata": {
    "collapsed": false
   },
   "outputs": [
    {
     "data": {
      "text/plain": [
       "{'Ajay Anand': 4,\n",
       " 'Alessandro': 3,\n",
       " 'Alex': 6,\n",
       " 'Alison': 3,\n",
       " 'April': 3,\n",
       " 'Dave H': 6,\n",
       " 'David Feng': 1,\n",
       " 'Deepthi': 5,\n",
       " 'Hugh Jass': 0,\n",
       " 'India': 2,\n",
       " 'Isabel': 2,\n",
       " 'Markus': 5,\n",
       " 'Matt': 0,\n",
       " 'Otto': 2,\n",
       " 'Ramesh': 5,\n",
       " 'Rocky': 0,\n",
       " 'Vanessa': 2,\n",
       " 'Vijay': 0,\n",
       " 'Zach': 4,\n",
       " 'cheong-tseng eng': 6}"
      ]
     },
     "execution_count": 54,
     "metadata": {},
     "output_type": "execute_result"
    }
   ],
   "source": [
    "none_counts = {}\n",
    "for i in clean_data:\n",
    "    none_counts[i[0]] = sum([j == None for j in i])\n",
    "    \n",
    "none_counts"
   ]
  },
  {
   "cell_type": "markdown",
   "metadata": {},
   "source": [
    "---\n",
    "\n",
    "### 9. Calculate average rating per coffee brand\n",
    "\n",
    "**Excluding `None` values**, calculate the average rating per brand of coffee.\n",
    "\n",
    "The final output should be a dictionary with keys as the coffee brand names, and their average rating as the values.\n",
    "\n",
    "Remember that average can be calculated as the sum of the ratings over the number of ratings:\n",
    "\n",
    "```python\n",
    "average_rating = sum(ratings_list)/len(ratings_list)\n",
    "```\n",
    "\n",
    "Print your dictionary to see the average brand ratings."
   ]
  },
  {
   "cell_type": "code",
   "execution_count": 88,
   "metadata": {
    "collapsed": false
   },
   "outputs": [
    {
     "data": {
      "text/plain": [
       "{'BlueBottleCoffee': 2.8,\n",
       " 'CaffeTrieste': 1.35,\n",
       " 'FourBarrel': 1.65,\n",
       " 'GrandCoffee': 0.5,\n",
       " 'PeetsTea': 2.95,\n",
       " 'PhilzCoffee': 4.25,\n",
       " 'RitualCoffee': 2.45,\n",
       " 'Starbucks': 2.85,\n",
       " 'WorkshopCafe': 1.75}"
      ]
     },
     "execution_count": 88,
     "metadata": {},
     "output_type": "execute_result"
    }
   ],
   "source": [
    "avg_ratings = {}\n",
    "for i in range(1, len(split_header)):\n",
    "    avg_ratings[split_header[i]] = sum([float(j[i]) for j in clean_data if str(j[i]).isdigit()]) / len(clean_data)\n",
    "\n",
    "avg_ratings"
   ]
  },
  {
   "cell_type": "markdown",
   "metadata": {},
   "source": [
    "---\n",
    "\n",
    "### 10. Create a list of just the people\n",
    "\n",
    "This will be a list of the peoples' names. We are going to use this in the section below. This can be done with a for-loop."
   ]
  },
  {
   "cell_type": "code",
   "execution_count": 91,
   "metadata": {
    "collapsed": false
   },
   "outputs": [
    {
     "data": {
      "text/plain": [
       "['Alison',\n",
       " 'April',\n",
       " 'Vijay',\n",
       " 'Vanessa',\n",
       " 'Isabel',\n",
       " 'India',\n",
       " 'Dave H',\n",
       " 'Deepthi',\n",
       " 'Ramesh',\n",
       " 'Hugh Jass',\n",
       " 'Alex',\n",
       " 'Ajay Anand',\n",
       " 'David Feng',\n",
       " 'Zach',\n",
       " 'Matt',\n",
       " 'Markus',\n",
       " 'Otto',\n",
       " 'Alessandro',\n",
       " 'Rocky',\n",
       " 'cheong-tseng eng']"
      ]
     },
     "execution_count": 91,
     "metadata": {},
     "output_type": "execute_result"
    }
   ],
   "source": [
    "names = [i[0] for i in clean_data]\n",
    "names"
   ]
  },
  {
   "cell_type": "markdown",
   "metadata": {},
   "source": [
    "---\n",
    "\n",
    "### 11. Intro to `while`-loops\n",
    "\n",
    "We'll start with a basic while-loop. Create a while loop that iterates through the list of names over and over again until a stopping condition is met:\n",
    "\n",
    "1. Set up two counters variables that start at 0. One of them will be for counting the number of iterations through the while-loop. Call the first counter `vowels` and the second counter `iterations`.\n",
    "2. Construct a while-loop with the condition `while vowels < 1000:`\n",
    "3. Inside each iteration of the while loop, go through the list of names with a for-loop. On each name, count the number of vowels inside the string and add it to `vowels` (you can use another nested for-loop through the characters of the string!)\n",
    "4. Keep track of how many while-loop iterations have happened by adding 1 to `iterations` each time the for-loop runs.\n",
    "\n",
    "Strings can be conveniently converted to lowercase with the built-in function:\n",
    "\n",
    "```python\n",
    "'HELLO'.lower()\n",
    "'hello'\n",
    "```\n",
    "\n",
    "Checking to see if a character is one of multiple vowels can be done concisely with `in`:\n",
    "\n",
    "```python\n",
    "if char in ['a','e','i','o','u']:\n",
    "    vowels += 1\n",
    "```\n",
    "\n",
    "Remember, strings are iterable like lists. In fact, you could do the above code like so with the same result:\n",
    "\n",
    "```python\n",
    "if char in 'aeiou':\n",
    "    vowels += 1\n",
    "```\n",
    "\n",
    "Lastly, print out the number iterations through the for-loop it took to reach a count of 1000 vowels."
   ]
  },
  {
   "cell_type": "code",
   "execution_count": 94,
   "metadata": {
    "collapsed": false
   },
   "outputs": [
    {
     "data": {
      "text/plain": [
       "25"
      ]
     },
     "execution_count": 94,
     "metadata": {},
     "output_type": "execute_result"
    }
   ],
   "source": [
    "vowels = 0\n",
    "iterations = 0\n",
    "\n",
    "while vowels < 1000:\n",
    "    iterations += 1\n",
    "    for name in names:\n",
    "        for char in name:\n",
    "            if char in 'aeiou': vowels += 1\n",
    "\n",
    "iterations"
   ]
  },
  {
   "cell_type": "markdown",
   "metadata": {},
   "source": [
    "---\n",
    "\n",
    "### 12. Picking a name at random: odds of choosing the same name 3 times in a row\n",
    "\n",
    "Now we'll use a while-loop to \"brute force\" the odds of choosing the same name 3 times in a row randomly from the list of names.\n",
    "\n",
    "Below I've imported the **`random`** package, which has the essential function for this code **`random.choice()`**.\n",
    "The function takes a list as an argument, and returns one of the elements of that list at random."
   ]
  },
  {
   "cell_type": "code",
   "execution_count": 99,
   "metadata": {
    "collapsed": false,
    "scrolled": true
   },
   "outputs": [
    {
     "data": {
      "text/plain": [
       "2"
      ]
     },
     "execution_count": 99,
     "metadata": {},
     "output_type": "execute_result"
    }
   ],
   "source": [
    "import random\n",
    "\n",
    "random.choice([1,2])"
   ]
  },
  {
   "cell_type": "markdown",
   "metadata": {},
   "source": [
    "---\n",
    "\n",
    "### 12.1 Write a function to choose a person from the list randomly 3 times and check if they are all the same\n",
    "\n",
    "Define a function that has the following properties:\n",
    "\n",
    "1. Takes a list (your list of names) as an argument.\n",
    "2. Selects a name using `random.choice(people)` three separate times.\n",
    "3. Returns `True` if the name was the same all three times. Otherwise returns `False`."
   ]
  },
  {
   "cell_type": "code",
   "execution_count": 130,
   "metadata": {
    "collapsed": false
   },
   "outputs": [
    {
     "data": {
      "text/plain": [
       "False"
      ]
     },
     "execution_count": 130,
     "metadata": {},
     "output_type": "execute_result"
    }
   ],
   "source": [
    "def are_three_names_same(people):\n",
    "    return random.choice(people) == random.choice(people) == random.choice(people)\n",
    "\n",
    "are_three_names_same(names)"
   ]
  },
  {
   "cell_type": "markdown",
   "metadata": {},
   "source": [
    "---\n",
    "\n",
    "### 12.2 Construct a while loop to run the choosing function until it returns True\n",
    "\n",
    "Run the function until you draw the same person 3 times using a while-loop. Keep track of how many tries it took and print out the number of tries after it runs."
   ]
  },
  {
   "cell_type": "code",
   "execution_count": 137,
   "metadata": {
    "collapsed": false
   },
   "outputs": [
    {
     "data": {
      "text/plain": [
       "212"
      ]
     },
     "execution_count": 137,
     "metadata": {},
     "output_type": "execute_result"
    }
   ],
   "source": [
    "iterator = 0\n",
    "\n",
    "while not are_three_names_same(names):\n",
    "    iterator += 1\n",
    "\n",
    "iterator"
   ]
  },
  {
   "cell_type": "markdown",
   "metadata": {},
   "source": [
    "---\n",
    "\n",
    "### 12.3 Write a function to see on average how many tries your choosing function takes\n",
    "\n",
    "Your function will run the while-loop logic you constructed above a specified number of times, then average how many iterations it took across the different while-loops. \n",
    "\n",
    "1. The function takes one argument, the number of iterations.\n",
    "2. Keep track of the number of tries across iterations in a list.\n",
    "3. Write a for-loop that runs the number of specified iterations.\n",
    "4. Inside the for-loop logic you will put the while-loop logic above, appending the number of tries it took on the current iteration to your list.\n",
    "5. Return the average number of tries it took across iterations.\n",
    "\n",
    "A very common python pattern for for-loops with a specified number of iterations uses the `range()` function, which when given an integer as an argument returns a list from `0` up to that integer (the length of which is, of course, the integer you provided):\n",
    "\n",
    "```python\n",
    "print range(10)\n",
    "[0, 1, 2, 3, 4, 5, 6, 7, 8, 9]\n",
    "\n",
    "for i in range(10):\n",
    "    # will run 10 times\n",
    "```\n",
    "\n",
    "Once your function is completed, see how many tries on average it takes with 1, 5, 10, 100, 1000, and 10000 iterations, printing out each call to the function. You can see it converge with more and more iterations!"
   ]
  },
  {
   "cell_type": "code",
   "execution_count": 163,
   "metadata": {
    "collapsed": false
   },
   "outputs": [
    {
     "data": {
      "text/plain": [
       "404.507"
      ]
     },
     "execution_count": 163,
     "metadata": {},
     "output_type": "execute_result"
    }
   ],
   "source": [
    "def calc_average_tries(num):\n",
    "    iterations = []\n",
    "    for i in range(num):\n",
    "        iterator = 0\n",
    "        while not are_three_names_same(names):\n",
    "            iterator += 1\n",
    "        iterations.append(iterator)\n",
    "    return sum(iterations) / float(num)\n",
    "\n",
    "calc_average_tries(1000)"
   ]
  },
  {
   "cell_type": "markdown",
   "metadata": {},
   "source": [
    "---\n",
    "\n",
    "### 13. [Challenge] Reorder the people by similarity of rating\n",
    "\n",
    "Imagine you are seating the 20 people at a very large, round coffee table. You want them to have as similar taste in coffee as possible so that they can small-talk effortlessly with each other. \n",
    "\n",
    "### 13.1 Write a function to calculate a \"similarity score\"\n",
    "\n",
    "First we need to define the similarity score between people. The score will be the average of the absolute values of the differences between their non-None ratings. \n",
    "\n",
    "That's a mouthful. Iterate through the coffee ratings of two different people. If they are both not `None`, then subtract one from the other and take the absolute value. This is the \"rating difference\" for that coffee brand between two people. The average rating difference will be the average of these ratings across all the coffee brands they both rated.\n",
    "\n",
    "You can use the handy `zip()` function to iterate through two lists at the same time:\n",
    "\n",
    "```python\n",
    "for person1_rating, person2_rating in zip(person1_coffee_ratings, person2_coffee_ratings):\n",
    "    rating_difference = abs(person1_rating1 - person2_rating1)\n",
    "    rating_differences.append(rating_difference)\n",
    "```\n",
    "\n",
    "In this case, **lower scores mean more similar!**\n",
    "\n",
    "Check your function out on the first and second person in the data, printing their similarity score."
   ]
  },
  {
   "cell_type": "code",
   "execution_count": 195,
   "metadata": {
    "collapsed": false
   },
   "outputs": [
    {
     "name": "stdout",
     "output_type": "stream",
     "text": [
      "Similarity rating: 0.8\n"
     ]
    },
    {
     "data": {
      "text/plain": [
       "[['Alison', 3, 5, 4, 3, None, None, 5, 5, None],\n",
       " ['April', 4, 5, 5, 3, None, None, 3, None, 5],\n",
       " ['Vijay', 3, 5, 5, 5, 3, 2, 1, 1, 1],\n",
       " ['Vanessa', 1, 5, 5, 2, None, None, 3, 2, 3],\n",
       " ['Isabel', 1, 4, 4, 2, 4, None, 4, 4, None],\n",
       " ['India', 5, 3, 3, 3, 3, 1, None, None, 3],\n",
       " ['Dave H', 4, 5, None, 5, None, None, None, None, None],\n",
       " ['Deepthi', 3, 5, None, 2, None, None, None, None, 2],\n",
       " ['Ramesh', 3, 4, None, 3, None, None, None, None, 4],\n",
       " ['Hugh Jass', 1, 5, 5, 4, 5, 2, 5, 4, 1],\n",
       " ['Alex', 4, 5, None, 3, None, None, None, None, None],\n",
       " ['Ajay Anand', 3, 4, 4, 3, 5, None, None, None, None],\n",
       " ['David Feng', 2, 3, 4, 2, 2, None, 5, 4, 3],\n",
       " ['Zach', 3, 4, 4, 3, None, None, None, None, 5],\n",
       " ['Matt', 3, 5, 4, 3, 2, 2, 4, 3, 2],\n",
       " ['Markus', 3, 5, None, 3, None, None, 4, None, None],\n",
       " ['Otto', 4, 2, 2, 5, None, None, 3, 3, 3],\n",
       " ['Alessandro', 1, 5, 3, 2, None, None, 4, 3, None],\n",
       " ['Rocky', 3, 5, 4, 3, 3, 3, 4, 4, 3],\n",
       " ['cheong-tseng eng', 3, 1, None, None, None, None, 4, None, None]]"
      ]
     },
     "execution_count": 195,
     "metadata": {},
     "output_type": "execute_result"
    }
   ],
   "source": [
    "def calc_similarity_score(person1, person2):\n",
    "    person1_coffee_ratings = person1[1:]\n",
    "    person2_coffee_ratings = person2[1:]\n",
    "    rating_differences = []\n",
    "    for person1_rating, person2_rating in zip(person1_coffee_ratings, person2_coffee_ratings):\n",
    "        if person1_rating and person2_rating: \n",
    "            rating_difference = abs(person1_rating - person2_rating)\n",
    "            rating_differences.append(rating_difference)\n",
    "    return float(sum(rating_differences)) / len(rating_differences)\n",
    "\n",
    "print \"Similarity rating:\", calc_similarity_score(clean_data[0], clean_data[1])\n",
    "clean_data"
   ]
  },
  {
   "cell_type": "markdown",
   "metadata": {},
   "source": [
    "---\n",
    "\n",
    "### 13.2 Find the total similarity across all neighbors\n",
    "\n",
    "You're given code for a list of lists titled `neighbors` that has all of the pairs of people sitting next to each other at this round table by index in your dataset. The indexes are the row numbers.\n",
    "\n",
    "Write a function to calculate the total similarity score for the dataset:\n",
    "\n",
    "1. The function should take the list of lists (your person rating data) and the neighbors list of lists as arguments.\n",
    "2. Iterate through the neighbor index pairs and use your similarity score function above to calculate the similarity score for each neighbor pair.\n",
    "3. Return the total similarity score for the dataset in the current order.\n",
    "\n",
    "Print out the total similarity score for the dataset in its current order."
   ]
  },
  {
   "cell_type": "code",
   "execution_count": 199,
   "metadata": {
    "collapsed": false
   },
   "outputs": [
    {
     "data": {
      "text/plain": [
       "[(0, 1),\n",
       " (1, 2),\n",
       " (2, 3),\n",
       " (3, 4),\n",
       " (4, 5),\n",
       " (5, 6),\n",
       " (6, 7),\n",
       " (7, 8),\n",
       " (8, 9),\n",
       " (9, 10),\n",
       " (10, 11),\n",
       " (11, 12),\n",
       " (12, 13),\n",
       " (13, 14),\n",
       " (14, 15),\n",
       " (15, 16),\n",
       " (16, 17),\n",
       " (17, 18),\n",
       " (18, 19),\n",
       " (19, 0)]"
      ]
     },
     "execution_count": 199,
     "metadata": {},
     "output_type": "execute_result"
    }
   ],
   "source": [
    "indices = range(len(data))\n",
    "shifted = range(1, len(data)+1)\n",
    "shifted[-1] = 0\n",
    "neighbors = zip(indices, shifted)\n",
    "\n",
    "# def calc_neighbors_similarity()\n",
    "neighbors"
   ]
  },
  {
   "cell_type": "code",
   "execution_count": 177,
   "metadata": {
    "collapsed": false
   },
   "outputs": [
    {
     "data": {
      "text/plain": [
       "False"
      ]
     },
     "execution_count": 177,
     "metadata": {},
     "output_type": "execute_result"
    }
   ],
   "source": []
  },
  {
   "cell_type": "markdown",
   "metadata": {},
   "source": [
    "---\n",
    "\n",
    "### 13.3 \"Brute force\" an optimal ordering. \n",
    "\n",
    "The number of possible seating permutations with even 20 people is 2,432,902,008,176,640,000. We can't search them all, so instead we'll randomly shuffle the dataset iteratively and select the new random shuffle when the similarity score for the newer ordering is lower than the current best.\n",
    "\n",
    "Here is your process:\n",
    "\n",
    "1. Create a copy of the dataset called `reordered`. (Details on how to do this below).\n",
    "2. Calculate the similarity score and assign it to variable `current_similarity`.\n",
    "3. Create a variable `iteration = 0`.\n",
    "4. Construct a while-loop that will use the logic `while True:` ... we will break out of this with the `break` command when our condition is met. More on this in a second.\n",
    " - Inside the while-loop, create a `shuffled` dataset that is a copy of `reordered`.\n",
    " - Use `random.shuffle(shuffled)` to reorder the rows. This function operates **in place**, so do not assign it to a variable.\n",
    " - Calculate the similarity score for the newly shuffled dataset.\n",
    " - If the similarity score for the shuffled dataset is lower than the current:\n",
    "   - Set the current similarity score to the shuffled similarity score\n",
    "   - set `reordered = shuffled`\n",
    "   - print out the current iteration and the new best similarity score\n",
    " - If the current_similarity drops below 16 (or 15 if you want to wait longer), use `break` to break out of the while-loop.\n",
    " \n",
    "Lastly, print the `reordered` dataset to see the (more) optimal ordering of people according to how similar their ratings were!\n",
    "\n",
    "To copy lists, you can just take a \"slice\" of everything:\n",
    "\n",
    "```python\n",
    "data_copy = data[:]\n",
    "```\n",
    "\n",
    "If you were to just type `data_copy = data`, they will actually reference the same thing, and you wouldn't be able to do this optimization correctly."
   ]
  },
  {
   "cell_type": "code",
   "execution_count": null,
   "metadata": {
    "collapsed": false
   },
   "outputs": [],
   "source": []
  }
 ],
 "metadata": {
  "anaconda-cloud": {},
  "kernelspec": {
   "display_name": "Python [dsi]",
   "language": "python",
   "name": "Python [dsi]"
  },
  "language_info": {
   "codemirror_mode": {
    "name": "ipython",
    "version": 2
   },
   "file_extension": ".py",
   "mimetype": "text/x-python",
   "name": "python",
   "nbconvert_exporter": "python",
   "pygments_lexer": "ipython2",
   "version": "2.7.12"
  }
 },
 "nbformat": 4,
 "nbformat_minor": 0
}
