{
 "cells": [
  {
   "cell_type": "markdown",
   "metadata": {},
   "source": [
    "---\n",
    "title: MRJob lab\n",
    "type: lab\n",
    "duration: \"1:25\"\n",
    "creator:\n",
    "    name: Francesco Mosconi\n",
    "    city: SF\n",
    "---"
   ]
  },
  {
   "cell_type": "markdown",
   "metadata": {},
   "source": [
    "# ![](https://ga-dash.s3.amazonaws.com/production/assets/logo-9f88ae6c9c3871690e33280fcf557f33.png) MRJob Lab"
   ]
  },
  {
   "cell_type": "markdown",
   "metadata": {},
   "source": [
    "## Introduction\n",
    "In the past lab we've used a Virtual Machine to run Map Reduce jobs on native hadoop. As you may have understood, it's quite cumbersome and complicated.\n",
    "\n",
    "Luckily we don't have to do that, because our friends at Yelp developed a great open source python library that wraps around hadoop streaming called [MRJob](https://github.com/Yelp/mrjob).\n",
    "\n",
    "This is already installed in your VM, but you can also install it locally if you prefer, using:\n",
    "\n",
    "`pip install mrjob`."
   ]
  },
  {
   "cell_type": "markdown",
   "metadata": {},
   "source": [
    "## Exercise\n",
    "\n",
    "This lab will teach you to use [MRJob](https://github.com/Yelp/mrjob), a very powerful python library for map reduce.\n",
    "\n",
    "> **Instructor note**: this lab needs to be run on the VM they have installed in the previous hour. The VM is packaged with all the necessary data and libraries, so they should just connect to it using ssh and then run everything from inside the machine. If they are not familiar with VIM they can configure Sublime Text to access the VM via SFTP and modify the scripts there.\n",
    "\n",
    "> Except for Exercise 1, all the other exercises can also be run on the laptop in local mode, if some of them have trouble connecting or using the VM. All they need is `pip install mrjob`.\n",
    "\n",
    "#### Requirements\n",
    "- Exercise 1: running map reduce locally and on hadoop cluster\n",
    "- Exercise 2: add a combiner\n",
    "- Exercise 3: multi step jobs\n",
    "- Exercise 4: Setup and teardown of tasks\n",
    "- Exercise 5: Counters\n",
    "\n",
    "**Bonus:**\n",
    "\n",
    "- Putting it all together: find top 15 most frequent words for all books\n",
    "- Use NLTK to recognize a book from the most frequent words\n",
    "\n",
    "\n",
    "#### Starter code\n",
    "\n",
    "[Starter Code](./assets/code/starter-code/starter-code.ipynb)\n",
    "\n",
    "> [Solution Code](./assets/code/solution-code/solution-code.ipynb)\n"
   ]
  },
  {
   "cell_type": "markdown",
   "metadata": {},
   "source": [
    "Additional Resources\n",
    "\n",
    "- [MRJob Documentation](https://pythonhosted.org/mrjob/)\n",
    "- [MRJob Examples](https://github.com/Yelp/mrjob/tree/master/mrjob/examples)\n"
   ]
  },
  {
   "cell_type": "code",
   "execution_count": null,
   "metadata": {
    "collapsed": true
   },
   "outputs": [],
   "source": []
  }
 ],
 "metadata": {
  "kernelspec": {
   "display_name": "Python 2",
   "language": "python",
   "name": "python2"
  },
  "language_info": {
   "codemirror_mode": {
    "name": "ipython",
    "version": 2
   },
   "file_extension": ".py",
   "mimetype": "text/x-python",
   "name": "python",
   "nbconvert_exporter": "python",
   "pygments_lexer": "ipython2",
   "version": "2.7.11"
  }
 },
 "nbformat": 4,
 "nbformat_minor": 0
}
