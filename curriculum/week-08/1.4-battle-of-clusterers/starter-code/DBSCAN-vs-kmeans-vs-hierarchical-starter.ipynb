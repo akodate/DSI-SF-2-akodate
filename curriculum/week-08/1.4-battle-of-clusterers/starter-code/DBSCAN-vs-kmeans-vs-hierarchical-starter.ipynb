{
 "cells": [
  {
   "cell_type": "markdown",
   "metadata": {},
   "source": [
    "# Comparing clustering algorithm effectiveness\n",
    "\n",
    "In this lab you'll try the three main clustering algorithms you've learned so far on 7 different datasets designed to evaluate clustering algorithm effectiveness.\n",
    "\n",
    "This lab is exploratory and data visualization heavy. \n",
    "\n",
    "---\n",
    "\n",
    "### Load packages"
   ]
  },
  {
   "cell_type": "code",
   "execution_count": 1,
   "metadata": {
    "collapsed": true
   },
   "outputs": [],
   "source": [
    "import matplotlib.pyplot as plt\n",
    "import numpy as np\n",
    "import pandas as pd\n",
    "import seaborn as sns\n",
    "\n",
    "plt.style.use('fivethirtyeight')\n",
    "\n",
    "%matplotlib inline\n",
    "%config InlineBackend.figure_format = 'retina'"
   ]
  },
  {
   "cell_type": "markdown",
   "metadata": {},
   "source": [
    "---\n",
    "\n",
    "### Load the datasets\n",
    "\n",
    "Each of the seven datasets have 3 columns:\n",
    "\n",
    "    x\n",
    "    y\n",
    "    label\n",
    "    \n",
    "Since they each only have two variables, they are easy to examine visually. The label column is the \"true\" label for the data that you will compare to the clusters the algorithms find."
   ]
  },
  {
   "cell_type": "code",
   "execution_count": 2,
   "metadata": {
    "collapsed": true
   },
   "outputs": [],
   "source": [
    "flame = pd.read_csv('/Users/kiefer/github-repos/DSI-SF-2/datasets/shape_clusters/flame.csv')\n",
    "agg = pd.read_csv('/Users/kiefer/github-repos/DSI-SF-2/datasets/shape_clusters/aggregation.csv')\n",
    "comp = pd.read_csv('/Users/kiefer/github-repos/DSI-SF-2/datasets/shape_clusters/compound.csv')\n",
    "jain = pd.read_csv('/Users/kiefer/github-repos/DSI-SF-2/datasets/shape_clusters/jain.csv')\n",
    "path = pd.read_csv('/Users/kiefer/github-repos/DSI-SF-2/datasets/shape_clusters/pathbased.csv')\n",
    "r15 = pd.read_csv('/Users/kiefer/github-repos/DSI-SF-2/datasets/shape_clusters/r15.csv')\n",
    "spiral = pd.read_csv('/Users/kiefer/github-repos/DSI-SF-2/datasets/shape_clusters/spiral.csv')"
   ]
  },
  {
   "cell_type": "markdown",
   "metadata": {},
   "source": [
    "---\n",
    "\n",
    "### Plot each of the datasets with the true labels colored\n",
    "\n",
    "The datasets have different numbers of unique labels, so you will need to figure out how many there are for each one and color the clusters accordingly (r15 has 15 different clusters)."
   ]
  },
  {
   "cell_type": "code",
   "execution_count": null,
   "metadata": {
    "collapsed": true
   },
   "outputs": [],
   "source": []
  },
  {
   "cell_type": "markdown",
   "metadata": {},
   "source": [
    "---\n",
    "\n",
    "### Write a plotting function or functions to compare the performance of three clustering algorithms\n",
    "\n",
    "Below three clustering algorithms we have covered earlier in the class are loaded in.\n",
    "\n",
    "    KMeans: k-means clustering\n",
    "    AgglomerativeClustering: Hierarchical clustering (bottom-up)\n",
    "    DBSCAN: density based clustering\n",
    "    \n",
    "Your function or functions should allow you to visually examine the effect of changing different parameters in the clustering algorithms. The parameters that you should explore at least are:\n",
    "\n",
    "    KMeans:\n",
    "        n_clusters\n",
    "    AgglomerativeClustering:\n",
    "        n_clusters\n",
    "    DBSCAN\n",
    "        eps\n",
    "        min_samples\n",
    "        \n",
    "You are, of course, welcome to explore other parameters for these models.\n"
   ]
  },
  {
   "cell_type": "code",
   "execution_count": 3,
   "metadata": {
    "collapsed": true
   },
   "outputs": [],
   "source": [
    "from sklearn.cluster import KMeans, AgglomerativeClustering, DBSCAN"
   ]
  },
  {
   "cell_type": "code",
   "execution_count": null,
   "metadata": {
    "collapsed": true
   },
   "outputs": [],
   "source": []
  },
  {
   "cell_type": "markdown",
   "metadata": {},
   "source": [
    "## Tinkering with clustering parameters\n",
    "\n",
    "In the next sections, play around with the parameters for the clustering algorithms to see their effect and try to get clusters that make sense. There is no right answer here, as these are unsupervised techniques.\n",
    "\n",
    "---\n",
    "\n",
    "### Find parameters for the `flame` dataset\n",
    "\n",
    "Which algorithm performs best?"
   ]
  },
  {
   "cell_type": "code",
   "execution_count": null,
   "metadata": {
    "collapsed": true
   },
   "outputs": [],
   "source": []
  },
  {
   "cell_type": "markdown",
   "metadata": {},
   "source": [
    "---\n",
    "\n",
    "### Find parameters for the `agg` dataset\n",
    "\n",
    "Which algorithm performs best?"
   ]
  },
  {
   "cell_type": "code",
   "execution_count": null,
   "metadata": {
    "collapsed": true
   },
   "outputs": [],
   "source": []
  },
  {
   "cell_type": "markdown",
   "metadata": {},
   "source": [
    "---\n",
    "\n",
    "### Find parameters for the `comp` dataset\n",
    "\n",
    "Which algorithm performs best?"
   ]
  },
  {
   "cell_type": "code",
   "execution_count": null,
   "metadata": {
    "collapsed": false
   },
   "outputs": [],
   "source": []
  },
  {
   "cell_type": "markdown",
   "metadata": {},
   "source": [
    "---\n",
    "\n",
    "### Find parameters for the `jain` dataset\n",
    "\n",
    "Which algorithm performs best?"
   ]
  },
  {
   "cell_type": "code",
   "execution_count": null,
   "metadata": {
    "collapsed": false
   },
   "outputs": [],
   "source": []
  },
  {
   "cell_type": "markdown",
   "metadata": {},
   "source": [
    "---\n",
    "\n",
    "### Find parameters for the `pathbased` dataset\n",
    "\n",
    "Which algorithm performs best?"
   ]
  },
  {
   "cell_type": "code",
   "execution_count": null,
   "metadata": {
    "collapsed": false
   },
   "outputs": [],
   "source": []
  },
  {
   "cell_type": "markdown",
   "metadata": {},
   "source": [
    "---\n",
    "\n",
    "### Find parameters for the `r15` dataset\n",
    "\n",
    "Which algorithm performs best?"
   ]
  },
  {
   "cell_type": "code",
   "execution_count": null,
   "metadata": {
    "collapsed": false
   },
   "outputs": [],
   "source": []
  },
  {
   "cell_type": "markdown",
   "metadata": {},
   "source": [
    "---\n",
    "\n",
    "### Find parameters for the `spiral` dataset\n",
    "\n",
    "Which algorithm performs best?"
   ]
  },
  {
   "cell_type": "code",
   "execution_count": null,
   "metadata": {
    "collapsed": false
   },
   "outputs": [],
   "source": []
  },
  {
   "cell_type": "markdown",
   "metadata": {
    "collapsed": true
   },
   "source": [
    "---\n",
    "\n",
    "## [BONUS] Explore algorithms we have not covered\n",
    "\n",
    "sklearn comes with a variety of unsupervised clustering algorithms, many of which we have not covered in class. Two algorithms in particular may be of interest to you:\n",
    "\n",
    "1. [Affinity Propagation](http://scikit-learn.org/dev/modules/clustering.html#affinity-propagation) finds clusters by \"sending messages\" from points to other points. Points group into clusters based on a \"damping factor\". The main appeal of affinity propagation is that the number of clusters do not need to be specified by the user (like DBSCAN).\n",
    "- [Birch](http://scikit-learn.org/dev/modules/clustering.html#birch) finds clusters with a tree-based algorithm (somewhat) reminiscent of decision trees. It finds clusters by evaluating branches/nodes on a tree that best describe the features of the data."
   ]
  },
  {
   "cell_type": "code",
   "execution_count": null,
   "metadata": {
    "collapsed": true
   },
   "outputs": [],
   "source": []
  }
 ],
 "metadata": {
  "kernelspec": {
   "display_name": "Python 2",
   "language": "python",
   "name": "python2"
  },
  "language_info": {
   "codemirror_mode": {
    "name": "ipython",
    "version": 2
   },
   "file_extension": ".py",
   "mimetype": "text/x-python",
   "name": "python",
   "nbconvert_exporter": "python",
   "pygments_lexer": "ipython2",
   "version": "2.7.12"
  }
 },
 "nbformat": 4,
 "nbformat_minor": 0
}
