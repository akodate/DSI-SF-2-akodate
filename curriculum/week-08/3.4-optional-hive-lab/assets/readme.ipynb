{
 "cells": [
  {
   "cell_type": "markdown",
   "metadata": {},
   "source": [
    "---\n",
    "title: HIVE lab\n",
    "type: lab\n",
    "duration: \"1:25\"\n",
    "creator:\n",
    "    name: Francesco Mosconi\n",
    "    city: SF\n",
    "---"
   ]
  },
  {
   "cell_type": "markdown",
   "metadata": {},
   "source": [
    "# ![](https://ga-dash.s3.amazonaws.com/production/assets/logo-9f88ae6c9c3871690e33280fcf557f33.png) HIVE Lab"
   ]
  },
  {
   "cell_type": "markdown",
   "metadata": {},
   "source": [
    "## Introduction\n",
    "In this lab we will introduce HIVE and show how it can be used to perform Map Reduce jobs using a SQL like syntax."
   ]
  },
  {
   "cell_type": "markdown",
   "metadata": {},
   "source": [
    "## Exercise\n",
    "\n",
    "We will perform the map reduce word count using hive and then analyze some logs.\n",
    "\n",
    "\n",
    "#### Requirements\n",
    "\n",
    "- Exercise 1: Word count in Hive\n",
    "- Exercise 2: Joins in Hive\n",
    "- Exercise 3: HIVE Serialization and DeSerialization\n",
    "\n",
    "\n",
    "\n",
    "**Bonus:**\n",
    "- Analyze logs using Hive\n",
    "\n",
    "#### Starter code\n",
    "\n",
    "[Starter Code](./code/starter-code/starter-code.ipynb)\n",
    "\n",
    "> [Solution Code](./code/solution-code/solution-code.ipynb)\n"
   ]
  },
  {
   "cell_type": "markdown",
   "metadata": {},
   "source": [
    "Additional Resources\n",
    "\n",
    "\n",
    "- [Serde example](https://community.hortonworks.com/articles/8313/apache-hive-csv-serde-example.html)\n",
    "- [Logs Page](http://ita.ee.lbl.gov/html/contrib/ClarkNet-HTTP.html)\n",
    "- [Cloudera Twitter example](https://github.com/cloudera/cdh-twitter-example)\n",
    "- [AWS Serde example](http://docs.aws.amazon.com/ElasticMapReduce/latest/ManagementGuide/emr-gs.html)\n"
   ]
  },
  {
   "cell_type": "code",
   "execution_count": null,
   "metadata": {
    "collapsed": true
   },
   "outputs": [],
   "source": []
  }
 ],
 "metadata": {
  "kernelspec": {
   "display_name": "Python 2",
   "language": "python",
   "name": "python2"
  },
  "language_info": {
   "codemirror_mode": {
    "name": "ipython",
    "version": 2
   },
   "file_extension": ".py",
   "mimetype": "text/x-python",
   "name": "python",
   "nbconvert_exporter": "python",
   "pygments_lexer": "ipython2",
   "version": "2.7.11"
  }
 },
 "nbformat": 4,
 "nbformat_minor": 0
}
