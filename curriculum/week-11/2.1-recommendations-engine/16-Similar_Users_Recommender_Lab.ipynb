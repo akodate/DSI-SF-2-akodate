{
 "cells": [
  {
   "cell_type": "markdown",
   "metadata": {},
   "source": [
    "# Similar Users Lab\n",
    "\n",
    "BUT FIRST a quick word about strings, lists, and sets:\n",
    "\n",
    "## Working with sets\n",
    "\n",
    "In mathematics, a set is a collection of distinct objects.  In Python, \"Sets\" are lists with no duplicate entries. Set objects also support mathematical operations like union, intersection, difference, and symmetric difference.\n",
    "\n",
    "_Fun fact for your next party:  Techincally, Python sets are implemented using dictionaries (under the hood)._\n",
    "\n",
    "Here are two sets of colors:\n"
   ]
  },
  {
   "cell_type": "code",
   "execution_count": 8,
   "metadata": {
    "collapsed": false
   },
   "outputs": [],
   "source": [
    "a = set([\"Red\", \"Green\", \"Blue\"])\n",
    "b = set([\"Black\", \"White\", \"Green\"])"
   ]
  },
  {
   "cell_type": "markdown",
   "metadata": {},
   "source": [
    "To find out which items are in both sets (**both sets only**), use the \"intersection\" method:"
   ]
  },
  {
   "cell_type": "code",
   "execution_count": 9,
   "metadata": {
    "collapsed": false
   },
   "outputs": [
    {
     "data": {
      "text/plain": [
       "{'Green'}"
      ]
     },
     "execution_count": 9,
     "metadata": {},
     "output_type": "execute_result"
    }
   ],
   "source": [
    "a.intersection(b)"
   ]
  },
  {
   "cell_type": "markdown",
   "metadata": {},
   "source": [
    "To find the items in a, but not b."
   ]
  },
  {
   "cell_type": "code",
   "execution_count": 10,
   "metadata": {
    "collapsed": false
   },
   "outputs": [
    {
     "data": {
      "text/plain": [
       "{'Blue', 'Red'}"
      ]
     },
     "execution_count": 10,
     "metadata": {},
     "output_type": "execute_result"
    }
   ],
   "source": [
    "a.difference(b)"
   ]
  },
  {
   "cell_type": "markdown",
   "metadata": {},
   "source": [
    "To find the items in b, but not a."
   ]
  },
  {
   "cell_type": "code",
   "execution_count": 11,
   "metadata": {
    "collapsed": false
   },
   "outputs": [
    {
     "data": {
      "text/plain": [
       "{'Black', 'White'}"
      ]
     },
     "execution_count": 11,
     "metadata": {},
     "output_type": "execute_result"
    }
   ],
   "source": [
    "b.difference(a)"
   ]
  },
  {
   "cell_type": "markdown",
   "metadata": {},
   "source": [
    "To find a list of all unique sets (aka: union):"
   ]
  },
  {
   "cell_type": "code",
   "execution_count": 12,
   "metadata": {
    "collapsed": false
   },
   "outputs": [
    {
     "data": {
      "text/plain": [
       "{'Black', 'Blue', 'Green', 'Red', 'White'}"
      ]
     },
     "execution_count": 12,
     "metadata": {},
     "output_type": "execute_result"
    }
   ],
   "source": [
    "a.union(b)"
   ]
  },
  {
   "cell_type": "markdown",
   "metadata": {},
   "source": [
    "How many are different?"
   ]
  },
  {
   "cell_type": "code",
   "execution_count": 19,
   "metadata": {
    "collapsed": false
   },
   "outputs": [
    {
     "name": "stdout",
     "output_type": "stream",
     "text": [
      "Number of different items in b:  2\n"
     ]
    }
   ],
   "source": [
    "print \"Number of different items in b:  %d\" % len(b.difference(a))"
   ]
  },
  {
   "cell_type": "markdown",
   "metadata": {},
   "source": [
    "## From Sets to Lists\n",
    "\n",
    "Now that we're experts with working with Python sets.  Let's get savvy working with lists and unstructured data.\n",
    "\n",
    "Using the split() method on a string, we can \"split\" it by a delimiter, to be used as a list.  By default, the .split() method can be applied to any string object, and will automatically split on spaces.  \n",
    "\n",
    "*You can pass a parameter to split to change which character it will split on, such as \",\", if you're trying to turn a comma seprated list of items into a list.*\n",
    "\n",
    "The following will turn a space delimited *string* into a **list**."
   ]
  },
  {
   "cell_type": "code",
   "execution_count": 20,
   "metadata": {
    "collapsed": false
   },
   "outputs": [
    {
     "data": {
      "text/plain": [
       "['my',\n",
       " 'name',\n",
       " 'is',\n",
       " 'dave',\n",
       " 'my',\n",
       " 'name',\n",
       " 'is',\n",
       " 'dave',\n",
       " 'my',\n",
       " 'name',\n",
       " 'is',\n",
       " 'dave']"
      ]
     },
     "execution_count": 20,
     "metadata": {},
     "output_type": "execute_result"
    }
   ],
   "source": [
    "\"my name is dave my name is dave my name is dave\".split()"
   ]
  },
  {
   "cell_type": "markdown",
   "metadata": {},
   "source": [
    "What's up with this though?  Well all know \"my name is dave\", but if we had many values, it would be hard to know which of them are unique.  That's when we use sets."
   ]
  },
  {
   "cell_type": "code",
   "execution_count": 21,
   "metadata": {
    "collapsed": false
   },
   "outputs": [
    {
     "data": {
      "text/plain": [
       "{'dave', 'is', 'my', 'name'}"
      ]
     },
     "execution_count": 21,
     "metadata": {},
     "output_type": "execute_result"
    }
   ],
   "source": [
    "set(\"my name is dave my name is dave my name is dave\".split())"
   ]
  },
  {
   "cell_type": "markdown",
   "metadata": {},
   "source": [
    "Ok so we should know enough to conquer our jaccard distance problem, and step into our real problem:\n",
    "\n",
    "## Who has similar tastes in music?\n",
    "\n",
    "What we will attempt, is building a small process that takes feedback from a survey, mapping a distance function to find similar users based on Jaccard.\n",
    "\n",
    "Along the way we will be:\n",
    "* Working with requests\n",
    "* Understanding Python fundamentals with sets and lists\n",
    "* Cleaning up bad data\n",
    "* Implementing Jaccard distance function\n",
    "* Finding similar users\n",
    "\n",
    "First, we will be taking a survey!  Let's all visit the survey posted in the channel before continuing.\n",
    "\n",
    "*[Check out #dsi-sf-2-Lounge]*"
   ]
  },
  {
   "cell_type": "markdown",
   "metadata": {},
   "source": [
    "Hopefully everything goes smooothly.  It's possible that I may need to modify the permissions on the sheet or provide a CSV snapshot if we hit a snag.\n",
    "\n",
    "We will be loading our results via HTTP, then loading them into Pandas via StringIO which allows us to interoperate on strings as if they were file resources, then load them as a Dataframe.  This is setup for us now."
   ]
  },
  {
   "cell_type": "code",
   "execution_count": 22,
   "metadata": {
    "collapsed": false
   },
   "outputs": [],
   "source": [
    "import pandas as pd\n",
    "import requests\n",
    "\n",
    "from StringIO import StringIO  \n",
    "\n",
    "%matplotlib inline\n",
    "\n",
    "spreadsheet = \"https://docs.google.com/spreadsheets/d/1cpUb7XbN-qOq4xbGdYfhY9FtrMqRd0izz4PmTPMejt0/export?format=csv&id=1cpUb7XbN-qOq4xbGdYfhY9FtrMqRd0izz4PmTPMejt0&gid=216538035\"\n",
    "http = requests.get(spreadsheet)\n",
    "csv_data = StringIO(http.content)\n",
    "df = pd.read_csv(csv_data, index_col=0)"
   ]
  },
  {
   "cell_type": "code",
   "execution_count": 23,
   "metadata": {
    "collapsed": false
   },
   "outputs": [
    {
     "data": {
      "text/html": [
       "<div>\n",
       "<table border=\"1\" class=\"dataframe\">\n",
       "  <thead>\n",
       "    <tr style=\"text-align: right;\">\n",
       "      <th></th>\n",
       "      <th>Name</th>\n",
       "      <th>Favorite Genres / Genres you like</th>\n",
       "      <th>What time of day do you like to listen to music?</th>\n",
       "    </tr>\n",
       "    <tr>\n",
       "      <th>Timestamp</th>\n",
       "      <th></th>\n",
       "      <th></th>\n",
       "      <th></th>\n",
       "    </tr>\n",
       "  </thead>\n",
       "  <tbody>\n",
       "    <tr>\n",
       "      <th>10/3/2016 23:12:00</th>\n",
       "      <td>Dave</td>\n",
       "      <td>Blues, Classical, Dance, Easy Listening, Elect...</td>\n",
       "      <td>24/7</td>\n",
       "    </tr>\n",
       "    <tr>\n",
       "      <th>10/3/2016 23:15:04</th>\n",
       "      <td>Kiefer</td>\n",
       "      <td>Easy Listening, New Age, Ultra Speed Metal</td>\n",
       "      <td>hunting truffles</td>\n",
       "    </tr>\n",
       "    <tr>\n",
       "      <th>10/4/2016 11:19:10</th>\n",
       "      <td>Alberto Rios</td>\n",
       "      <td>Classical, Electronic Music, Jazz, Latin Music...</td>\n",
       "      <td>Morning, Afternoon</td>\n",
       "    </tr>\n",
       "    <tr>\n",
       "      <th>10/4/2016 11:19:29</th>\n",
       "      <td>Kat</td>\n",
       "      <td>Alternative Music, Country, Electronic Music, ...</td>\n",
       "      <td>Morning, Afternoon, Special occasions</td>\n",
       "    </tr>\n",
       "    <tr>\n",
       "      <th>10/4/2016 11:19:29</th>\n",
       "      <td>DOPE/SWAG</td>\n",
       "      <td>Electronic Music, Hip Hop / Rap, Indie Pop, Pop</td>\n",
       "      <td>24/7</td>\n",
       "    </tr>\n",
       "    <tr>\n",
       "      <th>10/4/2016 11:19:28</th>\n",
       "      <td>?</td>\n",
       "      <td>Alternative Music, Dance, Electronic Music, In...</td>\n",
       "      <td>Morning, Noon, Afternoon, Night, 24/7</td>\n",
       "    </tr>\n",
       "    <tr>\n",
       "      <th>10/4/2016 11:19:41</th>\n",
       "      <td>Gwar!</td>\n",
       "      <td>Easy Listening, Opera, Singer / Songwriter (in...</td>\n",
       "      <td>Special occasions, Singing in the shower</td>\n",
       "    </tr>\n",
       "    <tr>\n",
       "      <th>10/4/2016 11:19:54</th>\n",
       "      <td>EDWARD</td>\n",
       "      <td>Classical, Electronic Music, Asian Pop (J-Pop,...</td>\n",
       "      <td>24/7</td>\n",
       "    </tr>\n",
       "    <tr>\n",
       "      <th>10/4/2016 11:19:56</th>\n",
       "      <td>Random</td>\n",
       "      <td>Rock</td>\n",
       "      <td>Morning</td>\n",
       "    </tr>\n",
       "    <tr>\n",
       "      <th>10/4/2016 11:19:56</th>\n",
       "      <td>Tim</td>\n",
       "      <td>Alternative Music, Blues, Rock, Singer / Songw...</td>\n",
       "      <td>Morning, Night, Special occasions, doing chores</td>\n",
       "    </tr>\n",
       "    <tr>\n",
       "      <th>10/4/2016 11:19:56</th>\n",
       "      <td>Bioluminescence</td>\n",
       "      <td>Blues, Classical, Electronic Music, Inspiratio...</td>\n",
       "      <td>Morning, Night, 24/7</td>\n",
       "    </tr>\n",
       "    <tr>\n",
       "      <th>10/4/2016 11:19:59</th>\n",
       "      <td>Meow</td>\n",
       "      <td>Dance, Pop, Reggae</td>\n",
       "      <td>24/7</td>\n",
       "    </tr>\n",
       "    <tr>\n",
       "      <th>10/4/2016 11:20:01</th>\n",
       "      <td>Kyle</td>\n",
       "      <td>Classical, Dance, Hip Hop / Rap, Pop</td>\n",
       "      <td>24/7</td>\n",
       "    </tr>\n",
       "    <tr>\n",
       "      <th>10/4/2016 11:20:11</th>\n",
       "      <td>Yo</td>\n",
       "      <td>Alternative Music, Blues, Classical, Dance, El...</td>\n",
       "      <td>Noon, Afternoon, Night, Special occasions</td>\n",
       "    </tr>\n",
       "    <tr>\n",
       "      <th>10/4/2016 11:20:16</th>\n",
       "      <td>caitlin</td>\n",
       "      <td>Alternative Music, Country, R&amp;B / Soul, Reggae...</td>\n",
       "      <td>Morning, Afternoon, Special occasions</td>\n",
       "    </tr>\n",
       "    <tr>\n",
       "      <th>10/4/2016 11:20:19</th>\n",
       "      <td>spiral</td>\n",
       "      <td>Alternative Music, Blues, Classical, Easy List...</td>\n",
       "      <td>Afternoon</td>\n",
       "    </tr>\n",
       "    <tr>\n",
       "      <th>10/4/2016 11:20:24</th>\n",
       "      <td>random</td>\n",
       "      <td>Classical, Easy Listening, Hip Hop / Rap, Insp...</td>\n",
       "      <td>Morning</td>\n",
       "    </tr>\n",
       "    <tr>\n",
       "      <th>10/4/2016 11:20:29</th>\n",
       "      <td>Eric Cartman</td>\n",
       "      <td>Electronic Music, Latin Music, Opera, Metal</td>\n",
       "      <td>24/7</td>\n",
       "    </tr>\n",
       "    <tr>\n",
       "      <th>10/4/2016 11:20:30</th>\n",
       "      <td>ME</td>\n",
       "      <td>Blues, Hip Hop / Rap</td>\n",
       "      <td>24/7</td>\n",
       "    </tr>\n",
       "    <tr>\n",
       "      <th>10/4/2016 11:20:31</th>\n",
       "      <td>SQAWWWW</td>\n",
       "      <td>Alternative Music, Hip Hop / Rap, Opera, Every...</td>\n",
       "      <td>Noon, Afternoon, Night, Special occasions, 24/7</td>\n",
       "    </tr>\n",
       "  </tbody>\n",
       "</table>\n",
       "</div>"
      ],
      "text/plain": [
       "                               Name  \\\n",
       "Timestamp                             \n",
       "10/3/2016 23:12:00             Dave   \n",
       "10/3/2016 23:15:04           Kiefer   \n",
       "10/4/2016 11:19:10     Alberto Rios   \n",
       "10/4/2016 11:19:29              Kat   \n",
       "10/4/2016 11:19:29        DOPE/SWAG   \n",
       "10/4/2016 11:19:28                ?   \n",
       "10/4/2016 11:19:41           Gwar!    \n",
       "10/4/2016 11:19:54           EDWARD   \n",
       "10/4/2016 11:19:56           Random   \n",
       "10/4/2016 11:19:56              Tim   \n",
       "10/4/2016 11:19:56  Bioluminescence   \n",
       "10/4/2016 11:19:59             Meow   \n",
       "10/4/2016 11:20:01             Kyle   \n",
       "10/4/2016 11:20:11               Yo   \n",
       "10/4/2016 11:20:16          caitlin   \n",
       "10/4/2016 11:20:19           spiral   \n",
       "10/4/2016 11:20:24           random   \n",
       "10/4/2016 11:20:29     Eric Cartman   \n",
       "10/4/2016 11:20:30               ME   \n",
       "10/4/2016 11:20:31          SQAWWWW   \n",
       "\n",
       "                                    Favorite Genres / Genres you like  \\\n",
       "Timestamp                                                               \n",
       "10/3/2016 23:12:00  Blues, Classical, Dance, Easy Listening, Elect...   \n",
       "10/3/2016 23:15:04         Easy Listening, New Age, Ultra Speed Metal   \n",
       "10/4/2016 11:19:10  Classical, Electronic Music, Jazz, Latin Music...   \n",
       "10/4/2016 11:19:29  Alternative Music, Country, Electronic Music, ...   \n",
       "10/4/2016 11:19:29    Electronic Music, Hip Hop / Rap, Indie Pop, Pop   \n",
       "10/4/2016 11:19:28  Alternative Music, Dance, Electronic Music, In...   \n",
       "10/4/2016 11:19:41  Easy Listening, Opera, Singer / Songwriter (in...   \n",
       "10/4/2016 11:19:54  Classical, Electronic Music, Asian Pop (J-Pop,...   \n",
       "10/4/2016 11:19:56                                               Rock   \n",
       "10/4/2016 11:19:56  Alternative Music, Blues, Rock, Singer / Songw...   \n",
       "10/4/2016 11:19:56  Blues, Classical, Electronic Music, Inspiratio...   \n",
       "10/4/2016 11:19:59                                 Dance, Pop, Reggae   \n",
       "10/4/2016 11:20:01               Classical, Dance, Hip Hop / Rap, Pop   \n",
       "10/4/2016 11:20:11  Alternative Music, Blues, Classical, Dance, El...   \n",
       "10/4/2016 11:20:16  Alternative Music, Country, R&B / Soul, Reggae...   \n",
       "10/4/2016 11:20:19  Alternative Music, Blues, Classical, Easy List...   \n",
       "10/4/2016 11:20:24  Classical, Easy Listening, Hip Hop / Rap, Insp...   \n",
       "10/4/2016 11:20:29        Electronic Music, Latin Music, Opera, Metal   \n",
       "10/4/2016 11:20:30                               Blues, Hip Hop / Rap   \n",
       "10/4/2016 11:20:31  Alternative Music, Hip Hop / Rap, Opera, Every...   \n",
       "\n",
       "                   What time of day do you like to listen to music?  \n",
       "Timestamp                                                            \n",
       "10/3/2016 23:12:00                                             24/7  \n",
       "10/3/2016 23:15:04                                 hunting truffles  \n",
       "10/4/2016 11:19:10                               Morning, Afternoon  \n",
       "10/4/2016 11:19:29            Morning, Afternoon, Special occasions  \n",
       "10/4/2016 11:19:29                                             24/7  \n",
       "10/4/2016 11:19:28            Morning, Noon, Afternoon, Night, 24/7  \n",
       "10/4/2016 11:19:41         Special occasions, Singing in the shower  \n",
       "10/4/2016 11:19:54                                             24/7  \n",
       "10/4/2016 11:19:56                                          Morning  \n",
       "10/4/2016 11:19:56  Morning, Night, Special occasions, doing chores  \n",
       "10/4/2016 11:19:56                             Morning, Night, 24/7  \n",
       "10/4/2016 11:19:59                                             24/7  \n",
       "10/4/2016 11:20:01                                             24/7  \n",
       "10/4/2016 11:20:11        Noon, Afternoon, Night, Special occasions  \n",
       "10/4/2016 11:20:16            Morning, Afternoon, Special occasions  \n",
       "10/4/2016 11:20:19                                        Afternoon  \n",
       "10/4/2016 11:20:24                                          Morning  \n",
       "10/4/2016 11:20:29                                             24/7  \n",
       "10/4/2016 11:20:30                                             24/7  \n",
       "10/4/2016 11:20:31  Noon, Afternoon, Night, Special occasions, 24/7  "
      ]
     },
     "execution_count": 23,
     "metadata": {},
     "output_type": "execute_result"
    }
   ],
   "source": [
    "df"
   ]
  },
  {
   "cell_type": "markdown",
   "metadata": {},
   "source": [
    "**1. Rename the genre feature**\n",
    "\n",
    "We get bad data from spreadsheets all the time.  This case, it's coming from a survey.  For ease of reference, rename the feature **\"Favorite Genres / Genres you like\"** to **\"genres\"**.\n"
   ]
  },
  {
   "cell_type": "code",
   "execution_count": null,
   "metadata": {
    "collapsed": true
   },
   "outputs": [],
   "source": []
  },
  {
   "cell_type": "markdown",
   "metadata": {},
   "source": [
    "**2. Select only your response from the new \"genre\" feature**\n",
    "\n",
    "Try printing out only the first value, where df[\"Name\"] == \"[Your name]\"."
   ]
  },
  {
   "cell_type": "code",
   "execution_count": null,
   "metadata": {
    "collapsed": false
   },
   "outputs": [],
   "source": []
  },
  {
   "cell_type": "markdown",
   "metadata": {},
   "source": [
    "**3. Take your survey response for \"genre\", and split it into a list, equal to the number of responses you chose**\n",
    "\n",
    "For example if you chose \"Blues, Reggae, Electronic Music\", convert it to a list that looks like [\"Blues\", \"Raggae\", \"Electronic Music\"]."
   ]
  },
  {
   "cell_type": "code",
   "execution_count": null,
   "metadata": {
    "collapsed": false
   },
   "outputs": [],
   "source": []
  },
  {
   "cell_type": "markdown",
   "metadata": {},
   "source": [
    "**4. Create a function that takes 2 lists, then calculate Jaccard distance**\n",
    "\n",
    "0-60 mph I know but you can do this!  Double check our slides, and refer to the set operations for how to calculate this.  \n",
    "\n",
    "Here is a boilerplate to get you going."
   ]
  },
  {
   "cell_type": "code",
   "execution_count": null,
   "metadata": {
    "collapsed": false
   },
   "outputs": [],
   "source": [
    "def jaccard(list1, list2):\n",
    "    print \"list1: \", list1\n",
    "    print \"list2: \", list2\n",
    "    # Update / your code here\n",
    "    \n",
    "list1 = ['blue', 'green', 'yellow']\n",
    "list2 = ['black', 'orange', 'yellow', 'green']\n",
    "\n",
    "jaccard(list1, list2)"
   ]
  },
  {
   "cell_type": "markdown",
   "metadata": {},
   "source": [
    "**5.  Now for our final trick, calculate the distance between your genre preferences vs everyone else.**\n",
    "\n",
    "Loop through everyone in the dataframe, create a list out of their \"genre\" string, echo out their name, then finally the distance between you and their sets."
   ]
  },
  {
   "cell_type": "code",
   "execution_count": null,
   "metadata": {
    "collapsed": true
   },
   "outputs": [],
   "source": []
  },
  {
   "cell_type": "markdown",
   "metadata": {},
   "source": [
    "**Optional 6. Try calculating the distance on the time of day feature.**\n",
    "\n",
    "Try to make a new dataframe, for just you vs everyone, using jaccard, and time of day.  Is there any interesting patterns you see?"
   ]
  },
  {
   "cell_type": "code",
   "execution_count": null,
   "metadata": {
    "collapsed": true
   },
   "outputs": [],
   "source": []
  },
  {
   "cell_type": "markdown",
   "metadata": {},
   "source": [
    "**Optional 7. What can you say about the selection of options for genre or time and what they mean?**"
   ]
  },
  {
   "cell_type": "code",
   "execution_count": null,
   "metadata": {
    "collapsed": true
   },
   "outputs": [],
   "source": []
  },
  {
   "cell_type": "markdown",
   "metadata": {},
   "source": [
    "## Build a Cosine Sim Function for DSI-SF-2!"
   ]
  },
  {
   "cell_type": "code",
   "execution_count": 145,
   "metadata": {
    "collapsed": false
   },
   "outputs": [
    {
     "name": "stderr",
     "output_type": "stream",
     "text": [
      "/Users/davidyerrington/anaconda/envs/dsi/lib/python2.7/site-packages/sklearn/utils/validation.py:386: DeprecationWarning: Passing 1d arrays as data is deprecated in 0.17 and willraise ValueError in 0.19. Reshape your data either using X.reshape(-1, 1) if your data has a single feature or X.reshape(1, -1) if it contains a single sample.\n",
      "  DeprecationWarning)\n",
      "/Users/davidyerrington/anaconda/envs/dsi/lib/python2.7/site-packages/sklearn/utils/validation.py:386: DeprecationWarning: Passing 1d arrays as data is deprecated in 0.17 and willraise ValueError in 0.19. Reshape your data either using X.reshape(-1, 1) if your data has a single feature or X.reshape(1, -1) if it contains a single sample.\n",
      "  DeprecationWarning)\n"
     ]
    },
    {
     "data": {
      "text/plain": [
       "array([[ 0.75429803]])"
      ]
     },
     "execution_count": 145,
     "metadata": {},
     "output_type": "execute_result"
    }
   ],
   "source": [
    "from sklearn.metrics.pairwise import cosine_similarity\n",
    "from sklearn.feature_extraction.text import CountVectorizer, TfidfVectorizer\n",
    "import numpy as np\n",
    "\n",
    "cosine_similarity([1,3,4,5,6], [10,3,3,4,8])"
   ]
  },
  {
   "cell_type": "code",
   "execution_count": 148,
   "metadata": {
    "collapsed": true
   },
   "outputs": [],
   "source": [
    "spreadsheet = \"https://docs.google.com/spreadsheets/d/1pUlkU1nR_Akw_ghIhOUqxnv5tadh45HLwoOcMkkPYcE/export?format=csv&id=1pUlkU1nR_Akw_ghIhOUqxnv5tadh45HLwoOcMkkPYcE#gid=1294015227\"\n",
    "http = requests.get(spreadsheet)\n",
    "csv_data = StringIO(http.content)\n",
    "df = pd.read_csv(csv_data, index_col=0)"
   ]
  },
  {
   "cell_type": "code",
   "execution_count": 149,
   "metadata": {
    "collapsed": false
   },
   "outputs": [
    {
     "data": {
      "text/html": [
       "<div>\n",
       "<table border=\"1\" class=\"dataframe\">\n",
       "  <thead>\n",
       "    <tr style=\"text-align: right;\">\n",
       "      <th></th>\n",
       "      <th>text</th>\n",
       "    </tr>\n",
       "  </thead>\n",
       "  <tbody>\n",
       "    <tr>\n",
       "      <th>0</th>\n",
       "      <td>Pasta.</td>\n",
       "    </tr>\n",
       "    <tr>\n",
       "      <th>1</th>\n",
       "      <td>Korean bibimbap</td>\n",
       "    </tr>\n",
       "    <tr>\n",
       "      <th>2</th>\n",
       "      <td>My favorite comfort food is nachos.</td>\n",
       "    </tr>\n",
       "    <tr>\n",
       "      <th>3</th>\n",
       "      <td>Pizza</td>\n",
       "    </tr>\n",
       "    <tr>\n",
       "      <th>4</th>\n",
       "      <td>Spicy</td>\n",
       "    </tr>\n",
       "    <tr>\n",
       "      <th>5</th>\n",
       "      <td>anything indian</td>\n",
       "    </tr>\n",
       "    <tr>\n",
       "      <th>6</th>\n",
       "      <td>French fries are made from potatoes, so techni...</td>\n",
       "    </tr>\n",
       "    <tr>\n",
       "      <th>7</th>\n",
       "      <td>Minced raw lamb/beef with bulgur wheat and spi...</td>\n",
       "    </tr>\n",
       "    <tr>\n",
       "      <th>8</th>\n",
       "      <td>These are MY chips, nachos</td>\n",
       "    </tr>\n",
       "    <tr>\n",
       "      <th>9</th>\n",
       "      <td>unhealthy junk food</td>\n",
       "    </tr>\n",
       "    <tr>\n",
       "      <th>10</th>\n",
       "      <td>Orange you glad i answered?</td>\n",
       "    </tr>\n",
       "    <tr>\n",
       "      <th>11</th>\n",
       "      <td>I like eating mayonnaise straight from the jar</td>\n",
       "    </tr>\n",
       "    <tr>\n",
       "      <th>12</th>\n",
       "      <td>pad see ew, Thai fried rice noodles with soy s...</td>\n",
       "    </tr>\n",
       "    <tr>\n",
       "      <th>13</th>\n",
       "      <td>I like all foods that don't taste terrible and...</td>\n",
       "    </tr>\n",
       "    <tr>\n",
       "      <th>14</th>\n",
       "      <td>Any kind of french fries</td>\n",
       "    </tr>\n",
       "    <tr>\n",
       "      <th>15</th>\n",
       "      <td>Messy Melting Mozzarella is bliss.</td>\n",
       "    </tr>\n",
       "    <tr>\n",
       "      <th>16</th>\n",
       "      <td>I like comforting, piping hot, a flavorful noo...</td>\n",
       "    </tr>\n",
       "  </tbody>\n",
       "</table>\n",
       "</div>"
      ],
      "text/plain": [
       "                                                 text\n",
       "0                                             Pasta. \n",
       "1                                     Korean bibimbap\n",
       "2                 My favorite comfort food is nachos.\n",
       "3                                               Pizza\n",
       "4                                              Spicy \n",
       "5                                     anything indian\n",
       "6   French fries are made from potatoes, so techni...\n",
       "7   Minced raw lamb/beef with bulgur wheat and spi...\n",
       "8                          These are MY chips, nachos\n",
       "9                                 unhealthy junk food\n",
       "10                        Orange you glad i answered?\n",
       "11     I like eating mayonnaise straight from the jar\n",
       "12  pad see ew, Thai fried rice noodles with soy s...\n",
       "13  I like all foods that don't taste terrible and...\n",
       "14                           Any kind of french fries\n",
       "15                 Messy Melting Mozzarella is bliss.\n",
       "16  I like comforting, piping hot, a flavorful noo..."
      ]
     },
     "execution_count": 149,
     "metadata": {},
     "output_type": "execute_result"
    }
   ],
   "source": [
    "df = df.rename(columns={\"User your words to describe your favorite food in 1 sentence.\": 'text'}).dropna()\n",
    "df.index = range(df.shape[0])\n",
    "df"
   ]
  },
  {
   "cell_type": "code",
   "execution_count": 157,
   "metadata": {
    "collapsed": false
   },
   "outputs": [
    {
     "data": {
      "text/plain": [
       "array([0, 0, 0, 0, 0, 2, 0, 0, 0, 0, 0, 0, 0, 0, 0, 0, 0, 0, 0, 0, 1, 0, 1,\n",
       "       1, 0, 0, 0, 0, 0, 0, 0, 0, 0, 0, 0, 0, 1, 0, 0, 0, 0, 0, 0, 0, 0, 0,\n",
       "       0, 0, 0, 0, 0, 0, 0, 0, 1, 0, 0, 0, 0, 0, 1, 0, 0, 0, 0, 0, 0, 1, 0,\n",
       "       0, 0, 0, 0, 1, 0, 0, 1, 0, 0, 0])"
      ]
     },
     "execution_count": 157,
     "metadata": {},
     "output_type": "execute_result"
    }
   ],
   "source": [
    "vectorizer = CountVectorizer()\n",
    "# vectorizer = TfidfVectorizer()\n",
    "X = vectorizer.fit_transform(df['text']).toarray()\n",
    "X[6]"
   ]
  },
  {
   "cell_type": "code",
   "execution_count": 159,
   "metadata": {
    "collapsed": false
   },
   "outputs": [
    {
     "data": {
      "text/plain": [
       "array([ 0.        ,  0.        ,  0.        ,  0.        ,  0.        ,\n",
       "        0.        ,  0.        ,  0.        ,  0.        ,  0.        ,\n",
       "        0.        ,  0.        ,  0.        ,  0.        ,  0.        ,\n",
       "        0.42923366,  0.        ,  0.42923366,  0.        ,  0.        ,\n",
       "        0.        ,  0.        ,  0.        ,  0.        ,  0.        ,\n",
       "        0.        ,  0.        ,  0.        ,  0.        ,  0.        ,\n",
       "        0.        ,  0.        ,  0.        ,  0.        ,  0.        ,\n",
       "        0.        ,  0.        ,  0.        ,  0.        ,  0.        ,\n",
       "        0.        ,  0.        ,  0.        ,  0.49157401,  0.        ,\n",
       "        0.        ,  0.        ,  0.        ,  0.        ,  0.        ,\n",
       "        0.        ,  0.        ,  0.        ,  0.        ,  0.49157401,\n",
       "        0.        ,  0.        ,  0.        ,  0.        ,  0.38500248,  0.        ])"
      ]
     },
     "execution_count": 159,
     "metadata": {},
     "output_type": "execute_result"
    }
   ],
   "source": [
    "# vectorizer = CountVectorizer()\n",
    "vectorizer = TfidfVectorizer(stop_words='english')\n",
    "X = vectorizer.fit_transform(df['text']).toarray()\n",
    "X[6]"
   ]
  },
  {
   "cell_type": "code",
   "execution_count": 160,
   "metadata": {
    "collapsed": false,
    "scrolled": false
   },
   "outputs": [
    {
     "name": "stdout",
     "output_type": "stream",
     "text": [
      "Source text:  Pasta.  \n",
      "-------------------------------------------\n",
      "Top 5 closest items by cosine: \n",
      "[[1.0 'Pasta. ']\n",
      " [0.0 'unhealthy junk food']\n",
      " [0.0 'Messy Melting Mozzarella is bliss.']\n",
      " [0.0 'Any kind of french fries']\n",
      " [0.0\n",
      "  \"I like all foods that don't taste terrible and have large portion sizes.\"]]\n",
      "\n",
      "\n",
      "===========================================================\n",
      "Source text:  Korean bibimbap \n",
      "-------------------------------------------\n",
      "Top 5 closest items by cosine: \n",
      "[[1.0000000000000002 'Korean bibimbap']\n",
      " [0.0 'Pasta. ']\n",
      " [0.0 'unhealthy junk food']\n",
      " [0.0 'Messy Melting Mozzarella is bliss.']\n",
      " [0.0 'Any kind of french fries']]\n",
      "\n",
      "\n",
      "===========================================================\n",
      "Source text:  My favorite comfort food is nachos. \n",
      "-------------------------------------------\n",
      "Top 5 closest items by cosine: \n",
      "[[1.0 'My favorite comfort food is nachos.']\n",
      " [0.3058993997556311 'These are MY chips, nachos']\n",
      " [0.24433725158459513 'unhealthy junk food']\n",
      " [0.0 'Messy Melting Mozzarella is bliss.']\n",
      " [0.0 'Any kind of french fries']]\n",
      "\n",
      "\n",
      "===========================================================\n",
      "Source text:  Pizza \n",
      "-------------------------------------------\n",
      "Top 5 closest items by cosine: \n",
      "[[1.0 'Pizza']\n",
      " [0.0 'Pasta. ']\n",
      " [0.0 'unhealthy junk food']\n",
      " [0.0 'Messy Melting Mozzarella is bliss.']\n",
      " [0.0 'Any kind of french fries']]\n",
      "\n",
      "\n",
      "===========================================================\n",
      "Source text:  Spicy  \n",
      "-------------------------------------------\n",
      "Top 5 closest items by cosine: \n",
      "[[1.0 'Spicy ']\n",
      " [0.0 'Pasta. ']\n",
      " [0.0 'unhealthy junk food']\n",
      " [0.0 'Messy Melting Mozzarella is bliss.']\n",
      " [0.0 'Any kind of french fries']]\n",
      "\n",
      "\n",
      "===========================================================\n",
      "Source text:  anything indian \n",
      "-------------------------------------------\n",
      "Top 5 closest items by cosine: \n",
      "[[1.0 'anything indian']\n",
      " [0.0 'Pasta. ']\n",
      " [0.0 'unhealthy junk food']\n",
      " [0.0 'Messy Melting Mozzarella is bliss.']\n",
      " [0.0 'Any kind of french fries']]\n",
      "\n",
      "\n",
      "===========================================================\n",
      "Source text:  French fries are made from potatoes, so technically they are vegetables \n",
      "-------------------------------------------\n",
      "Top 5 closest items by cosine: \n",
      "[[1.0\n",
      "  'French fries are made from potatoes, so technically they are vegetables']\n",
      " [0.47174470315285305 'Any kind of french fries']\n",
      " [0.10512893196267797\n",
      "  'I like comforting, piping hot, a flavorful noodle soups with vegetables and pork.']\n",
      " [0.09725220289693892\n",
      "  'pad see ew, Thai fried rice noodles with soy sauce, tofu and vegetables.']\n",
      " [0.0 'unhealthy junk food']]\n",
      "\n",
      "\n",
      "===========================================================\n",
      "Source text:  Minced raw lamb/beef with bulgur wheat and spices. \n",
      "-------------------------------------------\n",
      "Top 5 closest items by cosine: \n",
      "[[1.0000000000000002 'Minced raw lamb/beef with bulgur wheat and spices.']\n",
      " [0.0 'Pasta. ']\n",
      " [0.0 'unhealthy junk food']\n",
      " [0.0 'Messy Melting Mozzarella is bliss.']\n",
      " [0.0 'Any kind of french fries']]\n",
      "\n",
      "\n",
      "===========================================================\n",
      "Source text:  These are MY chips, nachos \n",
      "-------------------------------------------\n",
      "Top 5 closest items by cosine: \n",
      "[[1.0 'These are MY chips, nachos']\n",
      " [0.3058993997556311 'My favorite comfort food is nachos.']\n",
      " [0.0 'unhealthy junk food']\n",
      " [0.0 'Messy Melting Mozzarella is bliss.']\n",
      " [0.0 'Any kind of french fries']]\n",
      "\n",
      "\n",
      "===========================================================\n",
      "Source text:  unhealthy junk food \n",
      "-------------------------------------------\n",
      "Top 5 closest items by cosine: \n",
      "[[1.0 'unhealthy junk food']\n",
      " [0.24433725158459513 'My favorite comfort food is nachos.']\n",
      " [0.0 'Pasta. ']\n",
      " [0.0 'Messy Melting Mozzarella is bliss.']\n",
      " [0.0 'Any kind of french fries']]\n",
      "\n",
      "\n",
      "===========================================================\n",
      "Source text:  Orange you glad i answered? \n",
      "-------------------------------------------\n",
      "Top 5 closest items by cosine: \n",
      "[[1.0 'Orange you glad i answered?']\n",
      " [0.0 'Pasta. ']\n",
      " [0.0 'unhealthy junk food']\n",
      " [0.0 'Messy Melting Mozzarella is bliss.']\n",
      " [0.0 'Any kind of french fries']]\n",
      "\n",
      "\n",
      "===========================================================\n",
      "Source text:  I like eating mayonnaise straight from the jar \n",
      "-------------------------------------------\n",
      "Top 5 closest items by cosine: \n",
      "[[1.0 'I like eating mayonnaise straight from the jar']\n",
      " [0.10350200201929496\n",
      "  \"I like all foods that don't taste terrible and have large portion sizes.\"]\n",
      " [0.09956860398919816\n",
      "  'I like comforting, piping hot, a flavorful noodle soups with vegetables and pork.']\n",
      " [0.0 'unhealthy junk food']\n",
      " [0.0 'Messy Melting Mozzarella is bliss.']]\n",
      "\n",
      "\n",
      "===========================================================\n",
      "Source text:  pad see ew, Thai fried rice noodles with soy sauce, tofu and vegetables. \n",
      "-------------------------------------------\n",
      "Top 5 closest items by cosine: \n",
      "[[1.0\n",
      "  'pad see ew, Thai fried rice noodles with soy sauce, tofu and vegetables.']\n",
      " [0.09725220289693892\n",
      "  'French fries are made from potatoes, so technically they are vegetables']\n",
      " [0.06897546790755996\n",
      "  'I like comforting, piping hot, a flavorful noodle soups with vegetables and pork.']\n",
      " [0.0 'unhealthy junk food']\n",
      " [0.0 'Messy Melting Mozzarella is bliss.']]\n",
      "\n",
      "\n",
      "===========================================================\n",
      "Source text:  I like all foods that don't taste terrible and have large portion sizes. \n",
      "-------------------------------------------\n",
      "Top 5 closest items by cosine: \n",
      "[[1.0\n",
      "  \"I like all foods that don't taste terrible and have large portion sizes.\"]\n",
      " [0.10350200201929496 'I like eating mayonnaise straight from the jar']\n",
      " [0.0775075113100698\n",
      "  'I like comforting, piping hot, a flavorful noodle soups with vegetables and pork.']\n",
      " [0.0 'unhealthy junk food']\n",
      " [0.0 'Messy Melting Mozzarella is bliss.']]\n",
      "\n",
      "\n",
      "===========================================================\n",
      "Source text:  Any kind of french fries \n",
      "-------------------------------------------\n",
      "Top 5 closest items by cosine: \n",
      "[[1.0 'Any kind of french fries']\n",
      " [0.47174470315285305\n",
      "  'French fries are made from potatoes, so technically they are vegetables']\n",
      " [0.0 'Pasta. ']\n",
      " [0.0 'unhealthy junk food']\n",
      " [0.0 'Messy Melting Mozzarella is bliss.']]\n",
      "\n",
      "\n",
      "===========================================================\n",
      "Source text:  Messy Melting Mozzarella is bliss. \n",
      "-------------------------------------------\n",
      "Top 5 closest items by cosine: \n",
      "[[1.0 'Messy Melting Mozzarella is bliss.']\n",
      " [0.0 'Pasta. ']\n",
      " [0.0 'unhealthy junk food']\n",
      " [0.0 'Any kind of french fries']\n",
      " [0.0\n",
      "  \"I like all foods that don't taste terrible and have large portion sizes.\"]]\n",
      "\n",
      "\n",
      "===========================================================\n",
      "Source text:  I like comforting, piping hot, a flavorful noodle soups with vegetables and pork. \n",
      "-------------------------------------------\n",
      "Top 5 closest items by cosine: \n",
      "[[1.0\n",
      "  'I like comforting, piping hot, a flavorful noodle soups with vegetables and pork.']\n",
      " [0.10512893196267797\n",
      "  'French fries are made from potatoes, so technically they are vegetables']\n",
      " [0.09956860398919816 'I like eating mayonnaise straight from the jar']\n",
      " [0.0775075113100698\n",
      "  \"I like all foods that don't taste terrible and have large portion sizes.\"]\n",
      " [0.06897546790755996\n",
      "  'pad see ew, Thai fried rice noodles with soy sauce, tofu and vegetables.']]\n",
      "\n",
      "\n",
      "===========================================================\n"
     ]
    },
    {
     "name": "stderr",
     "output_type": "stream",
     "text": [
      "/Users/davidyerrington/anaconda/envs/dsi/lib/python2.7/site-packages/sklearn/utils/validation.py:386: DeprecationWarning: Passing 1d arrays as data is deprecated in 0.17 and willraise ValueError in 0.19. Reshape your data either using X.reshape(-1, 1) if your data has a single feature or X.reshape(1, -1) if it contains a single sample.\n",
      "  DeprecationWarning)\n",
      "/Users/davidyerrington/anaconda/envs/dsi/lib/python2.7/site-packages/ipykernel/__main__.py:9: FutureWarning: sort(columns=....) is deprecated, use sort_values(by=.....)\n",
      "/Users/davidyerrington/anaconda/envs/dsi/lib/python2.7/site-packages/sklearn/utils/validation.py:386: DeprecationWarning: Passing 1d arrays as data is deprecated in 0.17 and willraise ValueError in 0.19. Reshape your data either using X.reshape(-1, 1) if your data has a single feature or X.reshape(1, -1) if it contains a single sample.\n",
      "  DeprecationWarning)\n",
      "/Users/davidyerrington/anaconda/envs/dsi/lib/python2.7/site-packages/sklearn/utils/validation.py:386: DeprecationWarning: Passing 1d arrays as data is deprecated in 0.17 and willraise ValueError in 0.19. Reshape your data either using X.reshape(-1, 1) if your data has a single feature or X.reshape(1, -1) if it contains a single sample.\n",
      "  DeprecationWarning)\n",
      "/Users/davidyerrington/anaconda/envs/dsi/lib/python2.7/site-packages/sklearn/utils/validation.py:386: DeprecationWarning: Passing 1d arrays as data is deprecated in 0.17 and willraise ValueError in 0.19. Reshape your data either using X.reshape(-1, 1) if your data has a single feature or X.reshape(1, -1) if it contains a single sample.\n",
      "  DeprecationWarning)\n",
      "/Users/davidyerrington/anaconda/envs/dsi/lib/python2.7/site-packages/sklearn/utils/validation.py:386: DeprecationWarning: Passing 1d arrays as data is deprecated in 0.17 and willraise ValueError in 0.19. Reshape your data either using X.reshape(-1, 1) if your data has a single feature or X.reshape(1, -1) if it contains a single sample.\n",
      "  DeprecationWarning)\n",
      "/Users/davidyerrington/anaconda/envs/dsi/lib/python2.7/site-packages/sklearn/utils/validation.py:386: DeprecationWarning: Passing 1d arrays as data is deprecated in 0.17 and willraise ValueError in 0.19. Reshape your data either using X.reshape(-1, 1) if your data has a single feature or X.reshape(1, -1) if it contains a single sample.\n",
      "  DeprecationWarning)\n",
      "/Users/davidyerrington/anaconda/envs/dsi/lib/python2.7/site-packages/sklearn/utils/validation.py:386: DeprecationWarning: Passing 1d arrays as data is deprecated in 0.17 and willraise ValueError in 0.19. Reshape your data either using X.reshape(-1, 1) if your data has a single feature or X.reshape(1, -1) if it contains a single sample.\n",
      "  DeprecationWarning)\n",
      "/Users/davidyerrington/anaconda/envs/dsi/lib/python2.7/site-packages/sklearn/utils/validation.py:386: DeprecationWarning: Passing 1d arrays as data is deprecated in 0.17 and willraise ValueError in 0.19. Reshape your data either using X.reshape(-1, 1) if your data has a single feature or X.reshape(1, -1) if it contains a single sample.\n",
      "  DeprecationWarning)\n",
      "/Users/davidyerrington/anaconda/envs/dsi/lib/python2.7/site-packages/sklearn/utils/validation.py:386: DeprecationWarning: Passing 1d arrays as data is deprecated in 0.17 and willraise ValueError in 0.19. Reshape your data either using X.reshape(-1, 1) if your data has a single feature or X.reshape(1, -1) if it contains a single sample.\n",
      "  DeprecationWarning)\n",
      "/Users/davidyerrington/anaconda/envs/dsi/lib/python2.7/site-packages/sklearn/utils/validation.py:386: DeprecationWarning: Passing 1d arrays as data is deprecated in 0.17 and willraise ValueError in 0.19. Reshape your data either using X.reshape(-1, 1) if your data has a single feature or X.reshape(1, -1) if it contains a single sample.\n",
      "  DeprecationWarning)\n",
      "/Users/davidyerrington/anaconda/envs/dsi/lib/python2.7/site-packages/sklearn/utils/validation.py:386: DeprecationWarning: Passing 1d arrays as data is deprecated in 0.17 and willraise ValueError in 0.19. Reshape your data either using X.reshape(-1, 1) if your data has a single feature or X.reshape(1, -1) if it contains a single sample.\n",
      "  DeprecationWarning)\n",
      "/Users/davidyerrington/anaconda/envs/dsi/lib/python2.7/site-packages/sklearn/utils/validation.py:386: DeprecationWarning: Passing 1d arrays as data is deprecated in 0.17 and willraise ValueError in 0.19. Reshape your data either using X.reshape(-1, 1) if your data has a single feature or X.reshape(1, -1) if it contains a single sample.\n",
      "  DeprecationWarning)\n",
      "/Users/davidyerrington/anaconda/envs/dsi/lib/python2.7/site-packages/sklearn/utils/validation.py:386: DeprecationWarning: Passing 1d arrays as data is deprecated in 0.17 and willraise ValueError in 0.19. Reshape your data either using X.reshape(-1, 1) if your data has a single feature or X.reshape(1, -1) if it contains a single sample.\n",
      "  DeprecationWarning)\n",
      "/Users/davidyerrington/anaconda/envs/dsi/lib/python2.7/site-packages/sklearn/utils/validation.py:386: DeprecationWarning: Passing 1d arrays as data is deprecated in 0.17 and willraise ValueError in 0.19. Reshape your data either using X.reshape(-1, 1) if your data has a single feature or X.reshape(1, -1) if it contains a single sample.\n",
      "  DeprecationWarning)\n",
      "/Users/davidyerrington/anaconda/envs/dsi/lib/python2.7/site-packages/sklearn/utils/validation.py:386: DeprecationWarning: Passing 1d arrays as data is deprecated in 0.17 and willraise ValueError in 0.19. Reshape your data either using X.reshape(-1, 1) if your data has a single feature or X.reshape(1, -1) if it contains a single sample.\n",
      "  DeprecationWarning)\n",
      "/Users/davidyerrington/anaconda/envs/dsi/lib/python2.7/site-packages/sklearn/utils/validation.py:386: DeprecationWarning: Passing 1d arrays as data is deprecated in 0.17 and willraise ValueError in 0.19. Reshape your data either using X.reshape(-1, 1) if your data has a single feature or X.reshape(1, -1) if it contains a single sample.\n",
      "  DeprecationWarning)\n",
      "/Users/davidyerrington/anaconda/envs/dsi/lib/python2.7/site-packages/sklearn/utils/validation.py:386: DeprecationWarning: Passing 1d arrays as data is deprecated in 0.17 and willraise ValueError in 0.19. Reshape your data either using X.reshape(-1, 1) if your data has a single feature or X.reshape(1, -1) if it contains a single sample.\n",
      "  DeprecationWarning)\n"
     ]
    }
   ],
   "source": [
    "# simularities = cosine_similarity(X[8], X)\n",
    "\n",
    "for user_index, sentence in enumerate(df['text']):\n",
    "    \n",
    "    print \"Source text:  %s \\n-------------------------------------------\" % sentence\n",
    "    user_recs = pd.DataFrame(df)\n",
    "    user_recs['cosine_dist'] = cosine_similarity(X[user_index], X)[0]\n",
    "    print \"Top 5 closest items by cosine: \"\n",
    "    print user_recs[['cosine_dist', 'text']].sort(\"cosine_dist\", ascending=False).head(5).values\n",
    "    print \"\\n\\n===========================================================\"\n",
    "    \n",
    "    \n",
    "    \n",
    "    \n",
    "\n",
    "\n"
   ]
  },
  {
   "cell_type": "code",
   "execution_count": null,
   "metadata": {
    "collapsed": true
   },
   "outputs": [],
   "source": []
  }
 ],
 "metadata": {
  "kernelspec": {
   "display_name": "Python [dsi]",
   "language": "python",
   "name": "Python [dsi]"
  },
  "language_info": {
   "codemirror_mode": {
    "name": "ipython",
    "version": 2
   },
   "file_extension": ".py",
   "mimetype": "text/x-python",
   "name": "python",
   "nbconvert_exporter": "python",
   "pygments_lexer": "ipython2",
   "version": "2.7.12"
  },
  "widgets": {
   "state": {},
   "version": "1.1.2"
  }
 },
 "nbformat": 4,
 "nbformat_minor": 0
}
