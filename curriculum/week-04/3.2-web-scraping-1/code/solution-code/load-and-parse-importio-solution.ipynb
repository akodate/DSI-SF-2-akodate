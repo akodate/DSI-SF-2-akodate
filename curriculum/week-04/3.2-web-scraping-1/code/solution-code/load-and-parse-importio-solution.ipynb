{
 "cells": [
  {
   "cell_type": "markdown",
   "metadata": {},
   "source": [
    "Load packages"
   ]
  },
  {
   "cell_type": "code",
   "execution_count": 2,
   "metadata": {
    "collapsed": true
   },
   "outputs": [],
   "source": [
    "import pandas as pd"
   ]
  },
  {
   "cell_type": "markdown",
   "metadata": {},
   "source": [
    "Load the csv downloaded from import.io"
   ]
  },
  {
   "cell_type": "code",
   "execution_count": 20,
   "metadata": {
    "collapsed": false
   },
   "outputs": [],
   "source": [
    "# solution data stored in the github assets folder\n",
    "reddit = pd.read_csv('../../assets/data/importio_reddit.csv')"
   ]
  },
  {
   "cell_type": "markdown",
   "metadata": {},
   "source": [
    "Examine the loaded data with the head() function"
   ]
  },
  {
   "cell_type": "code",
   "execution_count": 5,
   "metadata": {
    "collapsed": false
   },
   "outputs": [
    {
     "data": {
      "text/html": [
       "<div>\n",
       "<table border=\"1\" class=\"dataframe\">\n",
       "  <thead>\n",
       "    <tr style=\"text-align: right;\">\n",
       "      <th></th>\n",
       "      <th>﻿rank_number</th>\n",
       "      <th>score_number</th>\n",
       "      <th>scoreunvoted_number</th>\n",
       "      <th>scorelikes_number</th>\n",
       "      <th>thumbnailmay_link</th>\n",
       "      <th>thumbnailmay_link/_text</th>\n",
       "      <th>thumbnailmay_link/_title</th>\n",
       "      <th>thumbnailmay_image</th>\n",
       "      <th>thumbnailmay_image/_alt</th>\n",
       "      <th>titlemay_link</th>\n",
       "      <th>...</th>\n",
       "      <th>to_label</th>\n",
       "      <th>to_link</th>\n",
       "      <th>to_link/_text</th>\n",
       "      <th>to_link/_title</th>\n",
       "      <th>bylinkmay_link</th>\n",
       "      <th>bylinkmay_link/_text</th>\n",
       "      <th>bylinkmay_link/_title</th>\n",
       "      <th>bylinkmay_link_numbers</th>\n",
       "      <th>share_label</th>\n",
       "      <th>loading_label</th>\n",
       "    </tr>\n",
       "  </thead>\n",
       "  <tbody>\n",
       "    <tr>\n",
       "      <th>0</th>\n",
       "      <td>1</td>\n",
       "      <td>5964</td>\n",
       "      <td>5965</td>\n",
       "      <td>5966</td>\n",
       "      <td>http://www.lisamcpherson.org/</td>\n",
       "      <td>NaN</td>\n",
       "      <td>NaN</td>\n",
       "      <td>https://b.thumbs.redditmedia.com/5S0UAjChKDfGR...</td>\n",
       "      <td>NaN</td>\n",
       "      <td>http://www.lisamcpherson.org/</td>\n",
       "      <td>...</td>\n",
       "      <td>to</td>\n",
       "      <td>https://www.reddit.com/r/todayilearned/</td>\n",
       "      <td>/r/todayilearned</td>\n",
       "      <td>NaN</td>\n",
       "      <td>https://www.reddit.com/r/todayilearned/comment...</td>\n",
       "      <td>711 comments</td>\n",
       "      <td>NaN</td>\n",
       "      <td>711</td>\n",
       "      <td>share</td>\n",
       "      <td>loading...</td>\n",
       "    </tr>\n",
       "    <tr>\n",
       "      <th>1</th>\n",
       "      <td>2</td>\n",
       "      <td>6586</td>\n",
       "      <td>6587</td>\n",
       "      <td>6588</td>\n",
       "      <td>http://i.imgur.com/kEMUs.png</td>\n",
       "      <td>NaN</td>\n",
       "      <td>NaN</td>\n",
       "      <td>https://b.thumbs.redditmedia.com/D--exp35ZVhQ8...</td>\n",
       "      <td>NaN</td>\n",
       "      <td>http://i.imgur.com/kEMUs.png</td>\n",
       "      <td>...</td>\n",
       "      <td>to</td>\n",
       "      <td>https://www.reddit.com/r/gaming/</td>\n",
       "      <td>/r/gaming</td>\n",
       "      <td>NaN</td>\n",
       "      <td>https://www.reddit.com/r/gaming/comments/4cggb...</td>\n",
       "      <td>1189 comments</td>\n",
       "      <td>NaN</td>\n",
       "      <td>1189</td>\n",
       "      <td>share</td>\n",
       "      <td>loading...</td>\n",
       "    </tr>\n",
       "    <tr>\n",
       "      <th>2</th>\n",
       "      <td>3</td>\n",
       "      <td>6263</td>\n",
       "      <td>6264</td>\n",
       "      <td>6265</td>\n",
       "      <td>NaN</td>\n",
       "      <td>NaN</td>\n",
       "      <td>NaN</td>\n",
       "      <td>NaN</td>\n",
       "      <td>NaN</td>\n",
       "      <td>http://www.bbc.com/news/world-africa-35898715</td>\n",
       "      <td>...</td>\n",
       "      <td>to</td>\n",
       "      <td>https://www.reddit.com/r/news/</td>\n",
       "      <td>/r/news</td>\n",
       "      <td>NaN</td>\n",
       "      <td>https://www.reddit.com/r/news/comments/4cfzck/...</td>\n",
       "      <td>1936 comments</td>\n",
       "      <td>NaN</td>\n",
       "      <td>1936</td>\n",
       "      <td>share</td>\n",
       "      <td>loading...</td>\n",
       "    </tr>\n",
       "    <tr>\n",
       "      <th>3</th>\n",
       "      <td>4</td>\n",
       "      <td>6149</td>\n",
       "      <td>6150</td>\n",
       "      <td>6151</td>\n",
       "      <td>http://imgur.com/gallery/Z63E8/new</td>\n",
       "      <td>NaN</td>\n",
       "      <td>NaN</td>\n",
       "      <td>https://b.thumbs.redditmedia.com/_wChsbR9FJ5k4...</td>\n",
       "      <td>NaN</td>\n",
       "      <td>http://imgur.com/gallery/Z63E8/new</td>\n",
       "      <td>...</td>\n",
       "      <td>to</td>\n",
       "      <td>https://www.reddit.com/r/pics/</td>\n",
       "      <td>/r/pics</td>\n",
       "      <td>NaN</td>\n",
       "      <td>https://www.reddit.com/r/pics/comments/4cfyke/...</td>\n",
       "      <td>1615 comments</td>\n",
       "      <td>NaN</td>\n",
       "      <td>1615</td>\n",
       "      <td>share</td>\n",
       "      <td>loading...</td>\n",
       "    </tr>\n",
       "    <tr>\n",
       "      <th>4</th>\n",
       "      <td>5</td>\n",
       "      <td>5517</td>\n",
       "      <td>5518</td>\n",
       "      <td>5519</td>\n",
       "      <td>http://imgur.com/pka4iQT</td>\n",
       "      <td>NaN</td>\n",
       "      <td>NaN</td>\n",
       "      <td>https://b.thumbs.redditmedia.com/K2Jb7mTOKFHEA...</td>\n",
       "      <td>NaN</td>\n",
       "      <td>http://imgur.com/pka4iQT</td>\n",
       "      <td>...</td>\n",
       "      <td>to</td>\n",
       "      <td>https://www.reddit.com/r/funny/</td>\n",
       "      <td>/r/funny</td>\n",
       "      <td>NaN</td>\n",
       "      <td>https://www.reddit.com/r/funny/comments/4cg13d...</td>\n",
       "      <td>555 comments</td>\n",
       "      <td>NaN</td>\n",
       "      <td>555</td>\n",
       "      <td>share</td>\n",
       "      <td>loading...</td>\n",
       "    </tr>\n",
       "  </tbody>\n",
       "</table>\n",
       "<p>5 rows × 41 columns</p>\n",
       "</div>"
      ],
      "text/plain": [
       "   ﻿rank_number  score_number  scoreunvoted_number  scorelikes_number  \\\n",
       "0             1          5964                 5965               5966   \n",
       "1             2          6586                 6587               6588   \n",
       "2             3          6263                 6264               6265   \n",
       "3             4          6149                 6150               6151   \n",
       "4             5          5517                 5518               5519   \n",
       "\n",
       "                    thumbnailmay_link  thumbnailmay_link/_text  \\\n",
       "0       http://www.lisamcpherson.org/                      NaN   \n",
       "1        http://i.imgur.com/kEMUs.png                      NaN   \n",
       "2                                 NaN                      NaN   \n",
       "3  http://imgur.com/gallery/Z63E8/new                      NaN   \n",
       "4            http://imgur.com/pka4iQT                      NaN   \n",
       "\n",
       "   thumbnailmay_link/_title  \\\n",
       "0                       NaN   \n",
       "1                       NaN   \n",
       "2                       NaN   \n",
       "3                       NaN   \n",
       "4                       NaN   \n",
       "\n",
       "                                  thumbnailmay_image  thumbnailmay_image/_alt  \\\n",
       "0  https://b.thumbs.redditmedia.com/5S0UAjChKDfGR...                      NaN   \n",
       "1  https://b.thumbs.redditmedia.com/D--exp35ZVhQ8...                      NaN   \n",
       "2                                                NaN                      NaN   \n",
       "3  https://b.thumbs.redditmedia.com/_wChsbR9FJ5k4...                      NaN   \n",
       "4  https://b.thumbs.redditmedia.com/K2Jb7mTOKFHEA...                      NaN   \n",
       "\n",
       "                                   titlemay_link      ...      to_label  \\\n",
       "0                  http://www.lisamcpherson.org/      ...            to   \n",
       "1                   http://i.imgur.com/kEMUs.png      ...            to   \n",
       "2  http://www.bbc.com/news/world-africa-35898715      ...            to   \n",
       "3             http://imgur.com/gallery/Z63E8/new      ...            to   \n",
       "4                       http://imgur.com/pka4iQT      ...            to   \n",
       "\n",
       "                                   to_link     to_link/_text to_link/_title  \\\n",
       "0  https://www.reddit.com/r/todayilearned/  /r/todayilearned            NaN   \n",
       "1         https://www.reddit.com/r/gaming/         /r/gaming            NaN   \n",
       "2           https://www.reddit.com/r/news/           /r/news            NaN   \n",
       "3           https://www.reddit.com/r/pics/           /r/pics            NaN   \n",
       "4          https://www.reddit.com/r/funny/          /r/funny            NaN   \n",
       "\n",
       "                                      bylinkmay_link bylinkmay_link/_text  \\\n",
       "0  https://www.reddit.com/r/todayilearned/comment...         711 comments   \n",
       "1  https://www.reddit.com/r/gaming/comments/4cggb...        1189 comments   \n",
       "2  https://www.reddit.com/r/news/comments/4cfzck/...        1936 comments   \n",
       "3  https://www.reddit.com/r/pics/comments/4cfyke/...        1615 comments   \n",
       "4  https://www.reddit.com/r/funny/comments/4cg13d...         555 comments   \n",
       "\n",
       "  bylinkmay_link/_title  bylinkmay_link_numbers share_label loading_label  \n",
       "0                   NaN                     711       share    loading...  \n",
       "1                   NaN                    1189       share    loading...  \n",
       "2                   NaN                    1936       share    loading...  \n",
       "3                   NaN                    1615       share    loading...  \n",
       "4                   NaN                     555       share    loading...  \n",
       "\n",
       "[5 rows x 41 columns]"
      ]
     },
     "execution_count": 5,
     "metadata": {},
     "output_type": "execute_result"
    }
   ],
   "source": [
    "reddit.head()"
   ]
  },
  {
   "cell_type": "markdown",
   "metadata": {},
   "source": [
    "What are the names of the columns?"
   ]
  },
  {
   "cell_type": "code",
   "execution_count": 9,
   "metadata": {
    "collapsed": false
   },
   "outputs": [
    {
     "name": "stdout",
     "output_type": "stream",
     "text": [
      "Index([u'﻿rank_number', u'score_number', u'scoreunvoted_number',\n",
      "       u'scorelikes_number', u'thumbnailmay_link', u'thumbnailmay_link/_text',\n",
      "       u'thumbnailmay_link/_title', u'thumbnailmay_image',\n",
      "       u'thumbnailmay_image/_alt', u'titlemay_link', u'titlemay_link/_text',\n",
      "       u'titlemay_link/_title', u'titlemay_link_prices',\n",
      "       u'linkflairlabel_value', u'label_1', u'domain_link',\n",
      "       u'domain_link/_text', u'domain_link/_title', u'label_2',\n",
      "       u'submitted_label', u'submitted_value', u'submitted_value_numbers',\n",
      "       u'edited_value', u'by_label', u'by_link', u'by_link/_text',\n",
      "       u'by_link/_title', u'userattrs_content', u'userattrs_link',\n",
      "       u'userattrs_link/_text', u'userattrs_link/_title', u'to_label',\n",
      "       u'to_link', u'to_link/_text', u'to_link/_title', u'bylinkmay_link',\n",
      "       u'bylinkmay_link/_text', u'bylinkmay_link/_title',\n",
      "       u'bylinkmay_link_numbers', u'share_label', u'loading_label'],\n",
      "      dtype='object')\n"
     ]
    }
   ],
   "source": [
    "print(reddit.columns)"
   ]
  },
  {
   "cell_type": "markdown",
   "metadata": {},
   "source": [
    "Print one of the columns. You will see it is a strange text format."
   ]
  },
  {
   "cell_type": "code",
   "execution_count": 17,
   "metadata": {
    "collapsed": false
   },
   "outputs": [
    {
     "data": {
      "text/plain": [
       "'\\xef\\xbb\\xbfrank_number'"
      ]
     },
     "execution_count": 17,
     "metadata": {},
     "output_type": "execute_result"
    }
   ],
   "source": [
    "reddit.columns[0]"
   ]
  },
  {
   "cell_type": "markdown",
   "metadata": {},
   "source": [
    "Re-encode the names of the columns to ASCII so that we can refer to them by name.\n",
    "[this code is provided since it is not obvious]"
   ]
  },
  {
   "cell_type": "code",
   "execution_count": 21,
   "metadata": {
    "collapsed": false
   },
   "outputs": [
    {
     "name": "stdout",
     "output_type": "stream",
     "text": [
      "Index([u'rank_number', u'score_number', u'scoreunvoted_number',\n",
      "       u'scorelikes_number', u'thumbnailmay_link', u'thumbnailmay_link/_text',\n",
      "       u'thumbnailmay_link/_title', u'thumbnailmay_image',\n",
      "       u'thumbnailmay_image/_alt', u'titlemay_link', u'titlemay_link/_text',\n",
      "       u'titlemay_link/_title', u'titlemay_link_prices',\n",
      "       u'linkflairlabel_value', u'label_1', u'domain_link',\n",
      "       u'domain_link/_text', u'domain_link/_title', u'label_2',\n",
      "       u'submitted_label', u'submitted_value', u'submitted_value_numbers',\n",
      "       u'edited_value', u'by_label', u'by_link', u'by_link/_text',\n",
      "       u'by_link/_title', u'userattrs_content', u'userattrs_link',\n",
      "       u'userattrs_link/_text', u'userattrs_link/_title', u'to_label',\n",
      "       u'to_link', u'to_link/_text', u'to_link/_title', u'bylinkmay_link',\n",
      "       u'bylinkmay_link/_text', u'bylinkmay_link/_title',\n",
      "       u'bylinkmay_link_numbers', u'share_label', u'loading_label'],\n",
      "      dtype='object')\n",
      "rank_number\n"
     ]
    }
   ],
   "source": [
    "# our dataset is called reddit, but just put whatever you called yours in place of that.\n",
    "newcols = [c.decode(\"utf-8\").encode(\"ascii\",\"ignore\") for c in reddit.columns]\n",
    "reddit.columns = newcols\n",
    "print(reddit.columns)\n",
    "print(reddit.columns[0])"
   ]
  },
  {
   "cell_type": "markdown",
   "metadata": {},
   "source": [
    "What are the correlations between [rank_number, score_number, submitted_value_numbers, bylinkmay_link_numbers]?"
   ]
  },
  {
   "cell_type": "code",
   "execution_count": 22,
   "metadata": {
    "collapsed": false
   },
   "outputs": [
    {
     "data": {
      "text/html": [
       "<div>\n",
       "<table border=\"1\" class=\"dataframe\">\n",
       "  <thead>\n",
       "    <tr style=\"text-align: right;\">\n",
       "      <th></th>\n",
       "      <th>rank_number</th>\n",
       "      <th>score_number</th>\n",
       "      <th>submitted_value_numbers</th>\n",
       "      <th>bylinkmay_link_numbers</th>\n",
       "    </tr>\n",
       "  </thead>\n",
       "  <tbody>\n",
       "    <tr>\n",
       "      <th>rank_number</th>\n",
       "      <td>1.000000</td>\n",
       "      <td>-0.701288</td>\n",
       "      <td>0.452672</td>\n",
       "      <td>-0.445834</td>\n",
       "    </tr>\n",
       "    <tr>\n",
       "      <th>score_number</th>\n",
       "      <td>-0.701288</td>\n",
       "      <td>1.000000</td>\n",
       "      <td>0.268666</td>\n",
       "      <td>0.328910</td>\n",
       "    </tr>\n",
       "    <tr>\n",
       "      <th>submitted_value_numbers</th>\n",
       "      <td>0.452672</td>\n",
       "      <td>0.268666</td>\n",
       "      <td>1.000000</td>\n",
       "      <td>-0.159861</td>\n",
       "    </tr>\n",
       "    <tr>\n",
       "      <th>bylinkmay_link_numbers</th>\n",
       "      <td>-0.445834</td>\n",
       "      <td>0.328910</td>\n",
       "      <td>-0.159861</td>\n",
       "      <td>1.000000</td>\n",
       "    </tr>\n",
       "  </tbody>\n",
       "</table>\n",
       "</div>"
      ],
      "text/plain": [
       "                         rank_number  score_number  submitted_value_numbers  \\\n",
       "rank_number                 1.000000     -0.701288                 0.452672   \n",
       "score_number               -0.701288      1.000000                 0.268666   \n",
       "submitted_value_numbers     0.452672      0.268666                 1.000000   \n",
       "bylinkmay_link_numbers     -0.445834      0.328910                -0.159861   \n",
       "\n",
       "                         bylinkmay_link_numbers  \n",
       "rank_number                           -0.445834  \n",
       "score_number                           0.328910  \n",
       "submitted_value_numbers               -0.159861  \n",
       "bylinkmay_link_numbers                 1.000000  "
      ]
     },
     "execution_count": 22,
     "metadata": {},
     "output_type": "execute_result"
    }
   ],
   "source": [
    "df = reddit[['rank_number','score_number','submitted_value_numbers','bylinkmay_link_numbers']]\n",
    "df.corr()"
   ]
  }
 ],
 "metadata": {
  "kernelspec": {
   "display_name": "Python 2",
   "language": "python",
   "name": "python2"
  },
  "language_info": {
   "codemirror_mode": {
    "name": "ipython",
    "version": 2
   },
   "file_extension": ".py",
   "mimetype": "text/x-python",
   "name": "python",
   "nbconvert_exporter": "python",
   "pygments_lexer": "ipython2",
   "version": "2.7.11"
  }
 },
 "nbformat": 4,
 "nbformat_minor": 0
}
