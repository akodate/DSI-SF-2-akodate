{
 "cells": [
  {
   "cell_type": "markdown",
   "metadata": {},
   "source": [
    "<img src=\"https://ga-dash.s3.amazonaws.com/production/assets/logo-9f88ae6c9c3871690e33280fcf557f33.png\" style=\"margin: 15px; float: left;\">\n",
    "\n",
    "# DSI SF 2:  Capstone Project\n",
    "_Final Project Requirements and Guidelines_\n",
    "***\n",
    "\n",
    "![](https://snag.gy/Kl9S1g.jpg)"
   ]
  },
  {
   "cell_type": "markdown",
   "metadata": {},
   "source": [
    "### What?\n",
    "\n",
    "You will be delivering a presentation on a topic of your choice. \n",
    "\n",
    "- Define your problem statement, goals, and success criteria.\n",
    "  - Explore the differences between supervised and unsupervised learning through the application of various modeling techniques such as classification, regression, and clustering.\n",
    "- Describe 1-2 potential datasets that address your problem statement.\n",
    "- Identify a potential audience of stakeholders who may be interested in your findings.\n",
    "- Create a 3-5 minute presentation slide deck.\n",
    "  - Perform visual and statistical analysis on data using Python and its associated libraries and tools.\n",
    "  - Be prepared to discuss and defend your topic & dataset(s)\n",
    "- Identify the source and the format of your dataset(s)\n",
    "\n",
    "#### Optional / Recommended\n",
    "  - Create a blog post about your findings\n",
    "  - Publish your slides online (ie: Linkedin)"
   ]
  },
  {
   "cell_type": "markdown",
   "metadata": {},
   "source": [
    "## How to choose a project\n",
    "\n",
    "Generally choose something that is:\n",
    "- Personally interesting\n",
    "- Challenging\n",
    "- Thorough EDA\n",
    "- Multiple data sources\n",
    "- Uses machine learning\n",
    "- Measurable impact\n",
    "- Demonstrates knowledge \n"
   ]
  },
  {
   "cell_type": "markdown",
   "metadata": {},
   "source": [
    "### Topic considerations\n",
    "\n",
    "Whatever you ultimately choose for your capstone is up to you.  The capstone is an opportunity to demonstrate your ability to perform and present the knowledge and growth of 12 weeks of a very intense class.  \n",
    "\n",
    "Consider the capstone also as an opporuntity to present to potential employers in job interviews when they ask you to _\"tell me about a project that you've done recently\"_.  This is the perfect opportunity to talk about your capstone in great detail.  Hitting as many topics without looking like a kitchen sink, opens the discussions within a job interview context in many ways.  It allows a potential employer to discover areas of strength that you have, which overlap in the roles they are hiring for, at the same time inviting further conversation about areas of expertise.\n",
    "\n",
    "Building a neural network model for somethign obscure and cool may be great, but choosing something that can exercise a broader range of skills is advisable.\n",
    "\n",
    "- Data munging and cleaning multiple sources\n",
    "- EDA / visualizing\n",
    "- Modeling / machine learning / model selection\n",
    "- Feature engineering\n",
    "- Presentation \n",
    "\n",
    "Be prepared to discus why the models you chose make sense, and how the data work with it given the goal."
   ]
  },
  {
   "cell_type": "markdown",
   "metadata": {},
   "source": [
    "## The Data\n",
    "\n",
    "The data for your project is the single most difficult problem you will face.  The potential to tell a story, build predictive models, or even brainstorm, will be dependent on the actual dataset that you will use.\n",
    "\n",
    "You may not know what you can do until you get a good set of data.  Its a good idea to look around for datasets as early as possible.  There will be many milestones along the way to completing your capstone but your data will be the guiding force behind what you accomplish."
   ]
  },
  {
   "cell_type": "markdown",
   "metadata": {},
   "source": [
    "### Avoid:\n",
    "    \n",
    "- Saying things like \"I can't do anything until I scrape more from ______\"\n",
    "- Not having a plan\n",
    "- Chosing a plan of action that has too many gating factors\n",
    "- Waiting until the last minute for help\n",
    "\n",
    "### Do:\n",
    "- Be realistic\n",
    "- Pair down your expectaions and scope if project features start to creep\n",
    "- Ask for help / advice\n",
    "- Have at least 2-3 backup plans"
   ]
  },
  {
   "cell_type": "markdown",
   "metadata": {},
   "source": [
    "### Presentation Guidelines\n",
    "\n",
    "When presenting analytical topics to a general audience (including technical), keep the following guidelines in mind:\n",
    "\n",
    "- State your problem / goal as simply as possible.  \n",
    "- Make sure your problem is measurable and framed in factual terms.\n",
    "- Present simple to complex, always in that order.\n",
    "- Err on the side of simplicity vs complexity with design.\n",
    "- Use slides to milestone your talking points.\n",
    "- For timing: complex slides will need ~2-3 minutes. Simple slides need 1.\n",
    "- Title your plots with succinct conclusions.\n",
    "- Highlight your inference when presenting multiple outputs\n",
    " - I.e. point out what’s interesting in your graphs\n",
    "- Don’t use pie charts — there are always better options.\n",
    "- 10 minutes presentation, 5 minutes questions is a great guideline to consider for 15 minute presentations.\n",
    "- PRACTICE! Time yourself. It takes a half hour and will help immensely\n",
    "- **SUMMARIZE, SUMMARIZE, SUMMARIZE!** Always wrap up your presentation with a recap of your goals, how you met them, potential outcomes."
   ]
  },
  {
   "cell_type": "markdown",
   "metadata": {},
   "source": [
    "_If you didn't hit your goals with analysis, explain challenges and why.  Talk about outliers and what's interesting about your data.  A good presentation tells a story.  Sometimes the story is \"this can't be done\", \"this is why this is challenging\", \"these are some interesting outliers\", or \"what is a bigger project because... ____\".  _\n",
    "\n",
    "_Don’t hesitate to write throwaway code to solve short term problems\n",
    "Read the docs for whatever technologies you use. Most of the time, there is a tutorial that you can follow, but not always, and learning to read documentation is crucial to your success!\n",
    "Write pseudocode before you write actual code. Thinking through the logic of something helps.\n",
    "Document everything._"
   ]
  },
  {
   "cell_type": "markdown",
   "metadata": {},
   "source": [
    "## Capstone Milestones  \n",
    "\n",
    "> #### Materials must be submitted in a clearly labeled Jupyter notebook, including:\n",
    "> 1. Markdown writeups, code, and visualizations.\n",
    "> 1. Materials must be submitted via form with Github link.\n",
    "> 1. Materials must be submitted by the deadlines specified.\n",
    "\n",
    "\n",
    "\n",
    "## 1. Capstone Ideas\n",
    "***\n",
    "_Week 5 Friday Aug 26th_\n",
    "This milestone requires you to have a few ideas documented including:\n",
    "\n",
    "> <img src=\"https://snag.gy/3fQTir.jpg\" style=\"width: 50px; margin-top: 8px; margin-right: 35px; float: left;\">\n",
    "> - Description of goals\n",
    "> - Reference datasets\n",
    "\n",
    "## 2. Proposals\n",
    "***\n",
    "_Week 8 - Friday Sept 16th_\n",
    "\n",
    "#### Deliverables:\n",
    "\n",
    "> <img src=\"https://snag.gy/k7x3E9.jpg\" style=\"width: 50px; margin: 20px 35px 35px 0; float: left;\">\n",
    "> - Description of project\n",
    "> - Project goals\n",
    "> - Hypothesis / Problem statement\n",
    "> - Literal dataset(s)\n",
    "\n",
    "## 3. EDA Report\n",
    "***\n",
    "_Week 9 - Friday Sept 23rd_\n",
    "\n",
    "This will be an overview of your approach with a well-articulated summary that includes your problem statement, outlines your proposed methods and models, defines any risks & assumptions, and includes any revisions from your initial goals & criteria, as needed.\n",
    "\n",
    "> <img src=\"https://snag.gy/3Z7Ti4.jpg\" style=\"width: 50px; margin: 20px 35px 100px 0; float: left;\">\n",
    "> - Articulate “Specific aim”\n",
    "> - Outline proposed methods and models\n",
    "> - Define risks & assumptions\n",
    "> - Revise initial goals & success criteria, as needed\n",
    "> - Create local database\n",
    "> - Describe data cleaning/munging techniques\n",
    "> - Create a data dictionary\n",
    "> - Perform & summarize EDA\n",
    "\n",
    "**Goal**: A summary notebook outlining your project's goals, methods, models, and EDA.\n",
    "\n",
    "#### Bonus\n",
    "- Explain how you intend to evaluate your results. What tuning metric and evaluation approaches do you intend to use?\n",
    "- Identify 1-2 additional datasets that may help you triangulate your findings. How might these relate to your data?\n",
    "- Create a blog post of at least 500 words (and 1-2 graphics!) that describes your assumptions and processes for EDA. Link to it in your Jupyter notebook.\n",
    "\n",
    "## 4. Technical 1st Draft\n",
    "***\n",
    "_Week 10 - Friday sept 30th_\n",
    "\n",
    "**Your work should document findings for peers and technical stakeholders, including:**\n",
    "\n",
    "> <img src=\"https://snag.gy/3Z7Ti4.jpg\" style=\"width: 50px; margin: 20px 35px 100px 0; float: left;\">\n",
    "> - Executive Summary\n",
    "> - Identification of outliers\n",
    "> - Description of how you defined your variables\n",
    "> - Discussion of model selection and implementation\n",
    "> - Description of any data pipeline(s)\n",
    "> - Visualizations & statistical analysis\n",
    "> - Interpretation of findings & relation to goals/success metrics\n",
    "> - Description of any source code used to conduct analysis\n",
    "> - Stakeholder recommendations & next steps for model/peers\n",
    "\n",
    "#### Bonus\n",
    "\n",
    "- Describe how you could validate your model's performance over time\n",
    "- Explain how you would deploy your model in a production environment\n",
    "- **\\*\\* Create a blog post of at least 500 words explaining your overall approach, model implementation, specific analysis, findings, and lessons learned. Link to it in your Technical notebook.**"
   ]
  },
  {
   "cell_type": "code",
   "execution_count": null,
   "metadata": {
    "collapsed": true
   },
   "outputs": [],
   "source": []
  }
 ],
 "metadata": {
  "anaconda-cloud": {},
  "kernelspec": {
   "display_name": "Python [dsi]",
   "language": "python",
   "name": "Python [dsi]"
  },
  "language_info": {
   "codemirror_mode": {
    "name": "ipython",
    "version": 2
   },
   "file_extension": ".py",
   "mimetype": "text/x-python",
   "name": "python",
   "nbconvert_exporter": "python",
   "pygments_lexer": "ipython2",
   "version": "2.7.12"
  }
 },
 "nbformat": 4,
 "nbformat_minor": 0
}
