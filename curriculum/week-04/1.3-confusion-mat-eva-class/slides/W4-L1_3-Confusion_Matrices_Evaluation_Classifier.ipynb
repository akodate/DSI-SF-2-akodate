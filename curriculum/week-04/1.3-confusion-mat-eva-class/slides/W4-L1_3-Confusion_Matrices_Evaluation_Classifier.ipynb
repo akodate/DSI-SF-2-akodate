{
 "cells": [
  {
   "cell_type": "markdown",
   "metadata": {
    "slideshow": {
     "slide_type": "slide"
    }
   },
   "source": [
    "<img src=\"https://ga-dash.s3.amazonaws.com/production/assets/logo-9f88ae6c9c3871690e33280fcf557f33.png\" style=\"float: left; margin: 10px\">\n",
    "# Confusion Matrices and Evaluating Classifiers\n",
    "---\n",
    "\n",
    "![](https://d.ibtimes.co.uk/en/full/1396614/bao-bao-panda.jpg)"
   ]
  },
  {
   "cell_type": "markdown",
   "metadata": {
    "slideshow": {
     "slide_type": "slide"
    }
   },
   "source": [
    "### LEARNING OBJECTIVES\n",
    "*After this lesson, you will be able to:*\n",
    "\n",
    "- Identify the different components of a Confusion Matrix\n",
    "- Understand/Interpret the results of a Confusion Matrix\n",
    "- Draw conclusions on a classifiers performance \n"
   ]
  },
  {
   "cell_type": "markdown",
   "metadata": {
    "slideshow": {
     "slide_type": "slide"
    }
   },
   "source": [
    "### LESSON GUIDE\n",
    "| TIMING  | TYPE  | TOPIC  |\n",
    "|:-:|---|---|\n",
    "| 5 min  | [Opening](#opening)  | Review (Classification/Regression)  |\n",
    "| 15 min  | [Introduction](#introduction)   | Confusion matrix components - Why we evaluate a classifier  |\n",
    "| 20 min  | [Demo/Guided Practice](#demo)  | Using results from k-NN to construct a confusion matrix and evaluate the classifier  |\n",
    "| 25 min  | [Independent Practice](#ind-practice)  | Constructing a confusion matrix, classifier  |\n",
    "| 5 min  | [Conclusion](#conclusion)  |Why we need to evaluate a classifier  |"
   ]
  },
  {
   "cell_type": "markdown",
   "metadata": {
    "slideshow": {
     "slide_type": "slide"
    }
   },
   "source": [
    "## (5 Mins) Review \n",
    "\n",
    "-  When we use a Regression Method\n",
    "-  When we use a Classification Method \n"
   ]
  },
  {
   "cell_type": "markdown",
   "metadata": {
    "slideshow": {
     "slide_type": "slide"
    }
   },
   "source": [
    "### What do you think is happening here?\n",
    "![title](dr_yes_no_1.png)"
   ]
  },
  {
   "cell_type": "markdown",
   "metadata": {
    "slideshow": {
     "slide_type": "slide"
    }
   },
   "source": [
    "### Let's read this article, and find out what is the \"error the clerk made\" and \"what were the consequences\":\n",
    "\n",
    "   - [NPR-Turning People into the Living Dead](http://www.npr.org/sections/health-shots/2016/08/10/489318279/social-                security-data-errors-can-turn-people-into-the-living-dead)"
   ]
  },
  {
   "cell_type": "markdown",
   "metadata": {
    "slideshow": {
     "slide_type": "notes"
    }
   },
   "source": [
    "On white board"
   ]
  },
  {
   "cell_type": "markdown",
   "metadata": {
    "slideshow": {
     "slide_type": "slide"
    }
   },
   "source": [
    "### Let's classify a few patients as \"sick\" or \"not sick\" !!\n",
    "![title](classification_1.png)\n"
   ]
  },
  {
   "cell_type": "markdown",
   "metadata": {
    "slideshow": {
     "slide_type": "slide"
    }
   },
   "source": [
    "<a name=\"introduction\"></a>\n",
    "## Confusion matrix\n",
    "### They are \"helpful\" because:\n",
    "  - Describes the performance of a classification model \"classifier\"\n",
    "  - Is the simplest form to mathematically evaluate a classifier in terms of **_accuracy_**\n",
    "  \n",
    "\n",
    "\n",
    "\n"
   ]
  },
  {
   "cell_type": "markdown",
   "metadata": {
    "slideshow": {
     "slide_type": "slide"
    }
   },
   "source": [
    "<a name=\"introduction\"></a>\n",
    "## Confusion matrix\n",
    "### They are \"confusing\" because:\n",
    "  - The terminology that is used to describe its components is a little hard to get it \"at first.\"\n",
    "  \n",
    "      - ***True Positive ( _tp_ )*** : The cases in which the model _predicted_ \"yes/positive\", and the truth is also         \"yes/positive.\"\n",
    "      - ***True Negatives ( _tn_ )*** : The cases in which the model _predicted_ \"no/negative\", and the truth is also         \"no/negative.\"\n",
    "      - ***False Positives ( _fp_ )*** : The cases in which the model _predicted_ \"yes/positive\", and the truth is             \"no/negative\".\n",
    "      - ***False Negatives ( _fn_ )*** : The cases in which the model _predicted_ \"no/negative\", and the truth is             \"yes/positive\"."
   ]
  },
  {
   "cell_type": "markdown",
   "metadata": {
    "slideshow": {
     "slide_type": "notes"
    }
   },
   "source": []
  },
  {
   "cell_type": "markdown",
   "metadata": {
    "slideshow": {
     "slide_type": "slide"
    }
   },
   "source": [
    "<a name=\"introduction\"></a>\n",
    "## Confusion matrix - getting insides from it \n",
    "*** number of test examples*** _n_ = _tp_  +  _tn_  +  _fp_  +  _fn_ \n",
    "\n",
    "***Accuracy:*** In general how often is the classifier correct? => ( _tp_ + _tn_ )  /  _n_\n",
    "\n",
    "***Misclassification Rate (Error Rate):*** How often is the model wrong =>   _fp_ + _fn_ / _n_\n",
    " \n",
    "***Precision:*** When the model predicts \"yes\", how often is it correct? => _tp_ / ( _tp_  +  _fp_ )\n",
    "\n",
    "***Recall / True Positive Rate:*** How often the model predicts yes, when it's actually yes => _tp_ / ( _tp_ + _fn_ )\n",
    "\n",
    "![title](confusion_matrix.png)\n"
   ]
  },
  {
   "cell_type": "markdown",
   "metadata": {
    "slideshow": {
     "slide_type": "slide"
    }
   },
   "source": [
    "### Example - Spam or No Spam\n",
    "![title](slide_q.jpg)"
   ]
  },
  {
   "cell_type": "markdown",
   "metadata": {
    "slideshow": {
     "slide_type": "slide"
    }
   },
   "source": [
    "### And if you are still confused\n",
    "![](https://marcyatoiguetutoring.files.wordpress.com/2012/10/discouraged-boy.jpg)\n",
    "\n",
    "- [Here is a cool explanation](http://www.cs.bham.ac.uk/~axk/EvaluatingClassifiers.pdf)\n",
    "- [And another cool explanation](http://www.dataschool.io/simple-guide-to-confusion-matrix-terminology/)\n"
   ]
  },
  {
   "cell_type": "markdown",
   "metadata": {
    "slideshow": {
     "slide_type": "slide"
    }
   },
   "source": [
    "<a name=\"conclusion\"></a>\n",
    "## Conclusion (5 mins)\n",
    "- Review independent practice deliverable(s)\n",
    "- Recap Understanding of CM"
   ]
  }
 ],
 "metadata": {
  "anaconda-cloud": {},
  "celltoolbar": "Slideshow",
  "kernelspec": {
   "display_name": "Python [Root]",
   "language": "python",
   "name": "Python [Root]"
  },
  "language_info": {
   "codemirror_mode": {
    "name": "ipython",
    "version": 2
   },
   "file_extension": ".py",
   "mimetype": "text/x-python",
   "name": "python",
   "nbconvert_exporter": "python",
   "pygments_lexer": "ipython2",
   "version": "2.7.12"
  }
 },
 "nbformat": 4,
 "nbformat_minor": 0
}
