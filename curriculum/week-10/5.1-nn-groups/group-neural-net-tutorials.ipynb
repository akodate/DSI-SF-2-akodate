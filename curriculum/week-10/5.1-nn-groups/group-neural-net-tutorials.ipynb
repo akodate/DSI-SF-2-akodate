{
 "cells": [
  {
   "cell_type": "markdown",
   "metadata": {},
   "source": [
    "## Group ML options\n",
    "\n",
    "---\n",
    "\n",
    "**Option 1:**\n",
    "\n",
    "[Iris classification with Keras](https://github.com/fastforwardlabs/keras-hello-world/blob/master/kerashelloworld.ipynb)\n",
    "\n",
    "**Option 2:**\n",
    "\n",
    "[MNIST classification with Keras](https://github.com/wxs/keras-mnist-tutorial/blob/master/MNIST%20in%20Keras.ipynb)\n",
    "\n",
    "**Option 3 [long]:**\n",
    "\n",
    "[Predicting alphabet with Keras LSTMs](http://machinelearningmastery.com/understanding-stateful-lstm-recurrent-neural-networks-python-keras/)\n",
    "\n",
    "**Option 4 [long]:**\n",
    "\n",
    "[Image classification using Keras](https://blog.keras.io/building-powerful-image-classification-models-using-very-little-data.html)\n",
    "\n",
    "**Option 5:**\n",
    "\n",
    "[Housing data regression with neural networks](http://machinelearningmastery.com/regression-tutorial-keras-deep-learning-library-python/)\n",
    "\n",
    "**Option 6 [long]:**\n",
    "\n",
    "[Q-learning (reinforcement learning) tutorial](https://github.com/ml4a/ml4a-guides/blob/master/notebooks/q_learning.ipynb)"
   ]
  },
  {
   "cell_type": "code",
   "execution_count": null,
   "metadata": {
    "collapsed": true
   },
   "outputs": [],
   "source": []
  }
 ],
 "metadata": {
  "kernelspec": {
   "display_name": "Python 2",
   "language": "python",
   "name": "python2"
  },
  "language_info": {
   "codemirror_mode": {
    "name": "ipython",
    "version": 2
   },
   "file_extension": ".py",
   "mimetype": "text/x-python",
   "name": "python",
   "nbconvert_exporter": "python",
   "pygments_lexer": "ipython2",
   "version": "2.7.12"
  }
 },
 "nbformat": 4,
 "nbformat_minor": 0
}
