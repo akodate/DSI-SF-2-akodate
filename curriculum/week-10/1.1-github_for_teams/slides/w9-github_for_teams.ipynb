{
 "cells": [
  {
   "cell_type": "markdown",
   "metadata": {
    "slideshow": {
     "slide_type": "slide"
    }
   },
   "source": [
    "<img src=\"https://ga-dash.s3.amazonaws.com/production/assets/logo-9f88ae6c9c3871690e33280fcf557f33.png\" style=\"float: left; margin:15px\"> \n",
    "# Github for Teams\n",
    "Week 10 | Lesson 1.1\n",
    "\n",
    "<img src=\"https://snag.gy/md41uF.jpg\" style=\"width: 650px;\" alt=\"This could be you one day!\">"
   ]
  },
  {
   "cell_type": "markdown",
   "metadata": {
    "slideshow": {
     "slide_type": "slide"
    }
   },
   "source": [
    "### LEARNING OBJECTIVES\n",
    "*After this lesson, you will be able to:*\n",
    "- Use branches to isolate changes tied to specific features\n",
    "- Efficiently and correctly resolve merge conflicts\n",
    "- Fetch changes from a remote without merging them into your own\n",
    "- Explain how rebase combines two branches"
   ]
  },
  {
   "cell_type": "markdown",
   "metadata": {
    "slideshow": {
     "slide_type": "slide"
    }
   },
   "source": [
    "### STUDENT PRE-WORK\n",
    "*Before this lesson, you should already be able to:*\n",
    "- Use Git/GitHub to fork, clone, push and pull\n",
    "- Read through the following:\n",
    "  1. https://www.atlassian.com/git/tutorials/using-branches\n",
    "  2. https://www.atlassian.com/git/tutorials/comparing-workflows\n",
    "  3. https://www.atlassian.com/git/tutorials/merging-vs-rebasing ('Conceptual Overview' section)\n",
    "  4. http://nvie.com/posts/a-successful-git-branching-model/\n",
    "\n",
    "> **Note:** This can be a pair programming activity or done independently."
   ]
  },
  {
   "cell_type": "markdown",
   "metadata": {
    "slideshow": {
     "slide_type": "slide"
    }
   },
   "source": [
    "### INSTRUCTOR PREP\n",
    "*Before this lesson, we will setup:*\n",
    "- Create a repo with multiple branches and commits for students to explore (from here on referred to as the 'Toy' repository)\n",
    "  * Include two python files with at least 2 functions in each. One will be for you (the instructor) to demonstrate merge conflict resolution, the other will be for the students to practice on.\n",
    "- Add students as collaborators on the 'Toy' repo\n"
   ]
  },
  {
   "cell_type": "markdown",
   "metadata": {
    "slideshow": {
     "slide_type": "slide"
    }
   },
   "source": [
    "### LESSON GUIDE\n",
    "| TIMING  | TYPE  | TOPIC  |\n",
    "|:-:|---|---|\n",
    "| 5 min  | [Opening](#opening)  | Brief (re)introduction of Git & Github, leading into Branching  |\n",
    "| 10 min  | [Introduction](#introduction)   | Merging |\n",
    "| 15 min  | [Demo](#Demo)  | fetch, checkout, merge from the command line |\n",
    "| 15 min  | [Independent Practice](#independent-practice)  | Resolve your Merge Conflict  |\n",
    "| 10 min  | [Demo](#demo)  | How to use Rebasing  |\n",
    "| 20 min  | [Discussion](#discussion)  | Team Workflows  |\n",
    "| 5 min  | [Conclusion](#conclusion)  | Review, Recap  |\n",
    "\n",
    "---"
   ]
  },
  {
   "cell_type": "markdown",
   "metadata": {
    "slideshow": {
     "slide_type": "slide"
    }
   },
   "source": [
    "<a name=\"opening\"></a>\n",
    "## Opening (5 mins)\n",
    "**Why are Git and Github Important?**\n",
    "Git and Github are used to keep track of work contributions made by various team members on a centralized product. It allows collaborators to keep various versions of work-in-progress code separate from stable versions. At the core of this separation of concerns are the mechanisms called 'Forking' and 'Branching'.\n",
    "\n",
    "> Instructor Note: It would be good to mention SVN, in case students want to research other version control systems.\n",
    "\n",
    "> **Check:** Ask students to recall previous Git lessons."
   ]
  },
  {
   "cell_type": "markdown",
   "metadata": {
    "slideshow": {
     "slide_type": "slide"
    }
   },
   "source": [
    "## **Commits**\n",
    "- Q: What is a commit?"
   ]
  },
  {
   "cell_type": "markdown",
   "metadata": {
    "slideshow": {
     "slide_type": "slide"
    }
   },
   "source": [
    "## (5 mins)  Discuss amonst yourselves\n",
    "Let's recall the `git commands` we've learned so far. Who can list them? Practice explaining what each command does to your partner."
   ]
  },
  {
   "cell_type": "markdown",
   "metadata": {
    "slideshow": {
     "slide_type": "slide"
    }
   },
   "source": [
    "<a name=\"introduction\"></a>\n",
    "## Introduction: Merging (10 mins)\n",
    "\n",
    "\n",
    "\n",
    "> Note: Have students Fork and clone the Toy repo\n",
    "\n",
    "**Branch**\n",
    "- A feature branch is used to isolate features that are in progress\n",
    "- Introduce the [git branch documentation](http://www.git-scm.com/docs/git-branch)\n",
    "  * How to create and checkout a branch\n",
    "  * How to list branches\n",
    "  * How to remove a branch\n"
   ]
  },
  {
   "cell_type": "markdown",
   "metadata": {
    "slideshow": {
     "slide_type": "slide"
    }
   },
   "source": [
    "- **Instructor Cue:** Create a branch for \"Student A\"\n",
    "- **Instructor Cue:** Create branches for Student 1 and Student 2, each having edited the same file. Explain that Student 1 and Student 2 are both working on the same feature, but on their own separate branches.\n",
    "\n",
    "![](../assets/images/first2commits.png)\n",
    "\n",
    "\n"
   ]
  },
  {
   "cell_type": "markdown",
   "metadata": {
    "slideshow": {
     "slide_type": "slide"
    }
   },
   "source": [
    "Now, open a pull request for Student 1 and show how to merge into Master. Success!\n",
    "\n",
    "Next, do the same for Student 2.\n",
    "\n",
    "![](../assets/images/noautomerge.png)\n"
   ]
  },
  {
   "cell_type": "markdown",
   "metadata": {
    "slideshow": {
     "slide_type": "slide"
    }
   },
   "source": [
    "UH OH! We can't merge this in because Student 1 and Student 2 worked on the same files and now we have different versions of the files we're trying to combine.  Let's create pull request anyway and sort this out."
   ]
  },
  {
   "cell_type": "markdown",
   "metadata": {
    "slideshow": {
     "slide_type": "slide"
    }
   },
   "source": [
    "<a name=\"Demo\"></a>\n",
    "## Demo: `fetch`, `checkout`, `merge` from the command line (15 mins)\n",
    "\n",
    "Remember when we said GitHub is really helpful? Check it out:\n",
    "\n",
    "![](../assets/images/mergedirections.png)\n",
    "\n",
    "Simply follow the directions to make this work!\n",
    "\n",
    "```bash\n",
    "git fetch origin\n",
    "git checkout -b Student2 origin/Student2\n",
    "git merge master\n",
    "```\n"
   ]
  },
  {
   "cell_type": "markdown",
   "metadata": {
    "slideshow": {
     "slide_type": "slide"
    }
   },
   "source": [
    "In the simplest terms, `git pull` is just like running `git fetch` followed by `git merge`:\n",
    "\n",
    "Quote:\n",
    "_\"When you fetch, Git gathers any commits from the target branch that do not exist in your current branch and stores them in your local repository. However, it does not merge them with your current branch. This is particularly useful if you need to keep your repository up to date, but are working on something that might break if you update your files. To integrate the commits into your master branch, you use merge.\"_\n",
    "~ StackOverflow.com\n",
    "\n",
    "```bash\n",
    "Auto-merging model.py\n",
    "CONFLICT (content): Merge conflict in model.py\n",
    "Automatic merge failed; fix conflicts and then commit the result.\n",
    "```"
   ]
  },
  {
   "cell_type": "markdown",
   "metadata": {
    "slideshow": {
     "slide_type": "slide"
    }
   },
   "source": [
    "## Create a Repo, and Share it with your partner\n",
    "\n",
    "- Create a file, check it in\n",
    "- Git commit / git push origin\n",
    "- Have your partner edit the same file then commit it / push origin\n",
    "- Do not pull down the change, then edit the same file\n",
    "- Attempt to push it\n",
    "\n",
    "... this sets our merge conflict up."
   ]
  },
  {
   "cell_type": "markdown",
   "metadata": {
    "slideshow": {
     "slide_type": "slide"
    }
   },
   "source": [
    "<a name=\"independent-practice\"></a>\n",
    "## Independent Practice: Resolve your Merge Conflict (15 mins)\n",
    "\n",
    "Uh-oh! Looks like we hit a merge conflict. You'll need to work with your partner to resolve the conflicts. Git will mark the conflicts in the working tree for us - your terminal will list the problems.\n",
    "\n",
    "Start by opening the problem files with your text editor, then edit the files by choosing which version you want to keep. Delete all the \"extra stuff\" git adds to show you the merge conflicts, including: `<<<<<<<`, `=======`, `HEAD`, `master`, etc.\n",
    "\n",
    "Next:\n",
    "\n",
    "```bash\n",
    "git add .\n",
    "git commit -m 'your message'\n",
    "git checkout master\n",
    "git merge --no-ff Student2\n",
    "git push origin master\n",
    "```\n",
    "\n",
    "**Introduce:** The Nuclear Option\n",
    " - If you ever get completely screwed up, use 'git reset --hard HEAD'\n",
    "   * **THIS WILL CAUSE YOU TO LOSE ANY CHANGES!!**\n",
    " - Or you can always remove and re-clone"
   ]
  },
  {
   "cell_type": "markdown",
   "metadata": {
    "slideshow": {
     "slide_type": "slide"
    }
   },
   "source": [
    "<a name=\"demo\"></a>\n",
    "## Rebasing (10 mins)\n",
    "\n",
    "> Note: This can be a difficult concept for some students to grasp. Take your time on this section. It may be helpful to draw revision history graphs on the board to visually demonstrate the effects of rebasing.\n",
    "\n",
    "While merging represents one possible path for combining different branches, there is another common path called `rebase`.\n",
    "\n",
    "Rebasing works differently than merging. Rather than combining the finished data from two different branches via a single commit, it combines the two branches _themselves_, rearranging them and effectively re-writing history.\n"
   ]
  },
  {
   "cell_type": "markdown",
   "metadata": {
    "slideshow": {
     "slide_type": "slide"
    }
   },
   "source": [
    "Here's what a rebase looks like. Suppose we have two branches, like this.\n",
    "\n",
    "![Rebasing - Separate Branches](../assets/images/separatebranches.png)\n"
   ]
  },
  {
   "cell_type": "markdown",
   "metadata": {
    "slideshow": {
     "slide_type": "slide"
    }
   },
   "source": [
    "One day, someone makes a commit onto the `master` branch. We want to include those changes into our feature branch, so that our code doesn't conflict with theirs.\n",
    "\n",
    "![Rebasing - Master is Ahead](../assets/images/masterahead.png)"
   ]
  },
  {
   "cell_type": "markdown",
   "metadata": {
    "slideshow": {
     "slide_type": "slide"
    }
   },
   "source": [
    "From our feature branch, if we run the command `git rebase master`, we can tell git to rewrite the history of our feature branch as if the new commit on `master` had __always been there__.\n",
    "\n",
    "![Rebasing - In Action](../assets/images/rebasing.png)"
   ]
  },
  {
   "cell_type": "markdown",
   "metadata": {
    "slideshow": {
     "slide_type": "slide"
    }
   },
   "source": [
    "Rebase is extremely useful for cleaning up your commit history, but it also carries risk; when you rebase, you are *discarding* your old commits and replacing them with new (though admittedly, similar) commits.\n",
    "\n",
    "This can seriously screw up a fellow collaborator if you're working in a shared repo. The golden rule for `git rebase` is \"only rebase **before** sharing your code, **never** after.\""
   ]
  },
  {
   "cell_type": "markdown",
   "metadata": {
    "slideshow": {
     "slide_type": "slide"
    }
   },
   "source": [
    "Like `git merge`, `git rebase` can sometimes run into merge conflicts that need to be resolved. The procedure for doing this is basically the same; once you fix the conflicts, run `git rebase --continue` to complete the rebase.\n"
   ]
  },
  {
   "cell_type": "markdown",
   "metadata": {
    "slideshow": {
     "slide_type": "slide"
    }
   },
   "source": [
    "<a name=\"discussion\"></a>\n",
    "## Discussion: Team Workflows (20 mins)\n",
    "\n",
    "So far, we've only talked about `rebase` in the context of working alone. Here are a few examples of actual, real-life git workflows - using both rebase and merge - that might get used in the field."
   ]
  },
  {
   "cell_type": "markdown",
   "metadata": {
    "slideshow": {
     "slide_type": "slide"
    }
   },
   "source": [
    "#### Single-Remote Workflows\n",
    "One thing all of these approaches have in common is the necessity of staying on top of changes within a single shared repository.\n",
    "\n",
    "This is usually accomplished by running `git fetch`, which pulls updates from origin, and merging those updates; alternatively, you could use `git pull` to do both at once."
   ]
  },
  {
   "cell_type": "markdown",
   "metadata": {
    "slideshow": {
     "slide_type": "slide"
    }
   },
   "source": [
    "#### Centralized Workflow\n",
    "**How It Works**: The remote repo has one single branch on it, `master`. All collaborators have separate clones of this repo. They can each work independently on separate things. However, before they push, they need to run `git fetch`/`git pull` (with the `--rebase` flag) to make sure that their master branch isn't out of date.\n",
    "\n",
    "> Note: Discuss the pros and cons of these approaches using the pointers below.\n",
    "\n",
    "(+) Very simple\n",
    "\n",
    "(-) Collaboration is kind of clunky."
   ]
  },
  {
   "cell_type": "markdown",
   "metadata": {
    "slideshow": {
     "slide_type": "slide"
    }
   },
   "source": [
    "#### Feature Branch Workflow\n",
    "\n",
    "**How It Works**: This workflow is very similar to the 'Centralized' workflow. The biggest difference is that there are branches (which helps to keep feature-related commits isolated), and that instead of pushing changes up directly, collaborators:\n",
    "\n",
    "(a) push up changes to a new remote branch rather than master, and\n",
    "(b) submit a pull request to ask for them to be added to the remote repo's `master` branch.\n",
    "\n",
    "> Note: Discuss the pros and cons of these approaches using the pointers below.\n",
    "\n",
    "(+) Better isolation than Centralized model, but sharing is still easy. Very flexible.\n",
    "\n",
    "(-) Sometimes it's *too* flexible - it doesn't meaningfully distinguish between different branches, and that lack of structure can cause problems on larger projects."
   ]
  },
  {
   "cell_type": "markdown",
   "metadata": {
    "slideshow": {
     "slide_type": "slide"
    }
   },
   "source": [
    "#### 'Gitflow' Workflow\n",
    "\n",
    "**How It Works**: Similar to the Feature Branch workflows, but with more rigidly-defined branches. For example:\n",
    "\n",
    "- Historical Branches : `master` stores official releases, while `develop` serves as a living 'integration branch' that ties together all the standalone features.\n",
    "- Release Branches : 'release' branches might exist for any given release, to keep all of those materials together.\n",
    "- Feature Branches : pretty much the same as in the prior model.\n",
    "- Maintenance/'Hotfix' Branches : branches used to quickly patch issues with production code.\n",
    "\n",
    "Let's talk through [this example](http://danielkummer.github.io/git-flow-cheatsheet/) as it's a bit more descriptive.\n",
    "\n",
    "> Note: Discuss the pros and cons of these approaches using the pointers below.\n",
    "\n",
    "(+) Highly structured - works well for large projects.\n",
    "\n",
    "(-) Sometimes overkill for something small.\n"
   ]
  },
  {
   "cell_type": "markdown",
   "metadata": {
    "slideshow": {
     "slide_type": "slide"
    }
   },
   "source": [
    "**Check**: What is the golden rule for rebasing? Why is this important?"
   ]
  },
  {
   "cell_type": "markdown",
   "metadata": {
    "slideshow": {
     "slide_type": "slide"
    }
   },
   "source": [
    "#### Distributed Workflows\n",
    "These approaches all use multiple remote repos; typically, everyone has their own fork of the 'original' project (the version of the repo that's publicly visible and is managed by the project maintainer), and changes are submitted via pull request."
   ]
  },
  {
   "cell_type": "markdown",
   "metadata": {
    "slideshow": {
     "slide_type": "slide"
    }
   },
   "source": [
    "##### Integration Manager Workflow\n",
    "\n",
    "**How It Works**: One collaborator plays the role of 'Integration Manager'. This means that they are responsible for managing the official repository and either accepting or rejecting pull requests as they come in.\n",
    "\n",
    "> Note: Discuss the pros and cons of these approaches using the pointers below.\n",
    "\n",
    "(+) One person integrates all changes, so there's consistency.\n",
    "\n",
    "(-) Could get overwhelming for large projects.\n"
   ]
  },
  {
   "cell_type": "markdown",
   "metadata": {
    "slideshow": {
     "slide_type": "slide"
    }
   },
   "source": [
    "##### Dictator/Lieutenants Workflow\n",
    "\n",
    "**How It Works**: This workflow is very similar to the Integration Manager Workflow. The biggest difference is that rather than submitting all pull requests to a single integration manager, pull requests are funneled through 'Lieutenants', who all report to the 'Dictator'. Only the Dictator has write access to the official repo.\n",
    "\n",
    "> Note: Discuss the pros and cons of these approaches using the pointers below.\n",
    "\n",
    "(+) Could get overwhelming for large projects.\n",
    "\n",
    "(-) Only one person has final write access, so there's consistency but also a single point of failure.\n"
   ]
  },
  {
   "cell_type": "markdown",
   "metadata": {
    "slideshow": {
     "slide_type": "slide"
    }
   },
   "source": [
    "<a name=\"conclusion\"></a>\n",
    "## Conclusion (5 mins)\n",
    "- Review the difference between `rebase` and `merge`\n",
    "- Describe how pull requests work in the context of using Git/GitHub to collaborate\n"
   ]
  },
  {
   "cell_type": "markdown",
   "metadata": {
    "slideshow": {
     "slide_type": "slide"
    }
   },
   "source": [
    "\n",
    "## Additional Resources\n",
    "\n",
    "- [Atlassian - Git Workflow Diagrams](https://www.atlassian.com/git/tutorials/comparing-workflows/centralized-workflow)\n",
    "- [Git Branching Workflow Discussion](https://git-scm.com/book/en/v2/Git-Branching-Branching-Workflows)"
   ]
  }
 ],
 "metadata": {
  "anaconda-cloud": {},
  "celltoolbar": "Slideshow",
  "kernelspec": {
   "display_name": "Python [dsi]",
   "language": "python",
   "name": "Python [dsi]"
  },
  "language_info": {
   "codemirror_mode": {
    "name": "ipython",
    "version": 2
   },
   "file_extension": ".py",
   "mimetype": "text/x-python",
   "name": "python",
   "nbconvert_exporter": "python",
   "pygments_lexer": "ipython2",
   "version": "2.7.12"
  },
  "widgets": {
   "state": {},
   "version": "1.1.2"
  }
 },
 "nbformat": 4,
 "nbformat_minor": 0
}
