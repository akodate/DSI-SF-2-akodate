{
 "cells": [
  {
   "cell_type": "markdown",
   "metadata": {},
   "source": [
    "<img src=\"https://ga-dash.s3.amazonaws.com/production/assets/logo-9f88ae6c9c3871690e33280fcf557f33.png\" style=\"margin: 15px; float: left;\">\n",
    "\n",
    "# DSI SF 2:  Capstone updates\n",
    "\n",
    "_Final Project Requirements_\n",
    "***"
   ]
  },
  {
   "cell_type": "markdown",
   "metadata": {},
   "source": [
    "## Technical & Non-technical 1st drafts due Wednesday 10/5\n",
    "\n",
    "### Technical report requirements\n",
    "\n",
    "1. Clearly defined problem statement/goal.\n",
    "- Description of data, including the source.\n",
    "- Description of relevant data cleaning and munging.\n",
    "    - Code included where appropriate.\n",
    "- EDA relevant to your problem statement.\n",
    "    - Record of any changes to data informed by EDA.\n",
    "    - Record of quality assessment and any assumptions that you are making based on the EDA.\n",
    "- Description of model selection.\n",
    "    - This should address why you have selected the model or models to answer your question and why the choice is appropriate.\n",
    "- Well-documented code of modeling you performed to answer your question.\n",
    "- Description of results.\n",
    "    - Includes relevant code, metrics, and visualizations that describe your results.\n",
    "    - Explanation of all metrics and charts.\n",
    "- Conclusion.\n",
    "    - Summarize your findings, addressing the strengths and weaknesses of your approach.\n",
    "    - Recommendations and future directions.\n",
    "    \n",
    "NOTE: Your code should be well-organized, well-documented, and limited to only the code that is relevant in the report. If you have a lot of parsing/munging code that distracts from the flow of the report you can keep this in another submitted file and mention it or link to it. Make sure to explain why you perform coding steps along the way.\n",
    "\n",
    "### Non-technical report requirements\n",
    "\n",
    "The non-technical report is the same as the technical report, but geared towards an audience that does not know statistics and data science. This means:\n",
    "\n",
    "1. Explain any jargon in laymans terms.\n",
    "- Rationales and process choices (modeling, metrics, etc.) should be explained clearly and intuitively.\n",
    "- Limited to no code - stick to visualizations and reporting of metrics.\n",
    "- Introduction, conclusion, and framing of your process should keep the audience in mind.\n"
   ]
  },
  {
   "cell_type": "markdown",
   "metadata": {},
   "source": [
    "## Final reports due Tuesday 10/11"
   ]
  },
  {
   "cell_type": "markdown",
   "metadata": {},
   "source": [
    "**Capstone consists of:**\n",
    "\n",
    "1. 15 minute presentation on your project.\n",
    "    - Describe the question, the data, analysis, and results clearly.\n",
    "2. Technical report (requirements outlined above).\n",
    "    - Ideally in jupyter notebook.\n",
    "    - All code for the project must be included.\n",
    "3. Non-technical report (outlined above).\n",
    "\n",
    "\n",
    "**Capstone project should display:**\n",
    "\n",
    "- Competency with material in the course. This is broad, but includes:\n",
    "    - Clear understanding, implementation, and evaluation of selected models.\n",
    "    - Clear rationales and explanations for choices at each step (EDA, modeling, evaluation).\n",
    "- Ability to propose a clear question and answer it with data.\n",
    "- Demonstrate EDA and quality assessment of your data before attempting modeling.\n",
    "- Polished code with descriptive comments for each section.\n",
    "    "
   ]
  },
  {
   "cell_type": "code",
   "execution_count": null,
   "metadata": {
    "collapsed": true
   },
   "outputs": [],
   "source": []
  }
 ],
 "metadata": {
  "kernelspec": {
   "display_name": "Python 2",
   "language": "python",
   "name": "python2"
  },
  "language_info": {
   "codemirror_mode": {
    "name": "ipython",
    "version": 2
   },
   "file_extension": ".py",
   "mimetype": "text/x-python",
   "name": "python",
   "nbconvert_exporter": "python",
   "pygments_lexer": "ipython2",
   "version": "2.7.12"
  }
 },
 "nbformat": 4,
 "nbformat_minor": 0
}
