{
 "cells": [
  {
   "cell_type": "markdown",
   "metadata": {},
   "source": [
    "<img src=\"https://ga-dash.s3.amazonaws.com/production/assets/logo-9f88ae6c9c3871690e33280fcf557f33.png\" style=\"float: left; margin: 15px\">\n",
    "\n",
    "# Intro to Time Series\n",
    "\n",
    "Week 9 | Lesson 1.3"
   ]
  },
  {
   "cell_type": "markdown",
   "metadata": {},
   "source": [
    "### LEARNING OBJECTIVES\n",
    "*After this lesson, you will be able to:*\n",
    "- Understand what time series analysis is and what it is used for\n",
    "- Use Pandas to model and manipulate a Time Series\n",
    "- Explain the functionality afforded to the DateTime object\n"
   ]
  },
  {
   "cell_type": "markdown",
   "metadata": {},
   "source": [
    "\n",
    "### STUDENT PRE-WORK\n",
    "*Before this lesson, you should already be able to:*\n",
    "- Load data into a Pandas DataFrame\n",
    "- Access data in a DataFrame object\n",
    "- Use Pandas' built in descriptive statistics functions"
   ]
  },
  {
   "cell_type": "markdown",
   "metadata": {},
   "source": [
    "### LESSON GUIDE\n",
    "| TIMING  | TYPE  | TOPIC  |\n",
    "|:-:|---|---|\n",
    "| 5 min  | [Opening](#opening)  | What Is Time Series Analysis? |\n",
    "| 15 min  | [Introduction](#introduction)   | The DateTime Object |\n",
    "| 20 min  | [Demo](#demo)  | Time Series In Pandas  |\n",
    "| 15 min  | [Discussion](#discussion)  | Date Ranges and Frequencies |\n",
    "| 25 min  | [Independent Practice](#ind-practice)  | Manipulating a Time Series  |\n",
    "| 5 min  | [Conclusion](#conclusion)  | Recapitulation  |\n",
    "\n",
    "---"
   ]
  },
  {
   "cell_type": "markdown",
   "metadata": {},
   "source": [
    "<a name=\"opening\"></a>\n",
    "## What Is Time Series Analysis? (5 mins)\n",
    "- Statistical modeling of time ordered data observations\n",
    "- Two main goals:\n",
    "  * Identifying the underlying mechanisms represented by the sequence of observations\n",
    "  * Forecasting: predicting the future values of a variable described in the time series\n",
    "- Examining multiple time series to model dynamic relationships\n",
    "\n",
    "> Instructor Note: Have the students list the possible business uses for time series analysis, i.e.: Financial Analysis/Forecasting, retail inventory planning, CDC predictions, neuroscience, signal processing, etc.\n",
    "\n",
    "**Check:** Recall the `np.correlate` function from Week 2, which we used to analyse the relationship between GOOG and AAPL stocks."
   ]
  },
  {
   "cell_type": "markdown",
   "metadata": {},
   "source": [
    "<a name=\"introduction\"></a>\n",
    "## The DateTime Object (15 mins)\n",
    "\n",
    "As our data will be ordered by time, we will need a powerful library for dealing with timestamps. Luckily, Python provides a module that gives us both simple and complex methods of manipulating dates and times. The cornerstone of the datetime module is the DateTime object, a container representing a time that is either aware or naive. Aware DateTimes have information regarding time zone and daylight savings time, a naive DateTime does not.\n",
    "\n",
    "Let's check out the [DateTime Documentation](https://docs.python.org/2/library/datetime.html).\n"
   ]
  },
  {
   "cell_type": "code",
   "execution_count": 6,
   "metadata": {
    "collapsed": true
   },
   "outputs": [],
   "source": [
    "from datetime import datetime\n",
    "\n",
    "# Time this lesson plan was written\n",
    "lesson_date = datetime(2016, 3, 5, 23, 31, 1, 844089)"
   ]
  },
  {
   "cell_type": "markdown",
   "metadata": {},
   "source": [
    "The DateTime object has all kinds of descriptive methods. Let's try some!"
   ]
  },
  {
   "cell_type": "code",
   "execution_count": 4,
   "metadata": {
    "collapsed": false
   },
   "outputs": [
    {
     "data": {
      "text/plain": [
       "(5, 3, 2016, 23)"
      ]
     },
     "execution_count": 4,
     "metadata": {},
     "output_type": "execute_result"
    }
   ],
   "source": [
    "lesson_date.day, lesson_date.month, lesson_date.year, lesson_date.hour"
   ]
  },
  {
   "cell_type": "markdown",
   "metadata": {},
   "source": [
    "**NOTE:** See [Reference A](#ref-a) below for all components that can be extracted from a DateTime object."
   ]
  },
  {
   "cell_type": "markdown",
   "metadata": {},
   "source": [
    "We can also use a `timedelta` object to shift a DateTime object. Here's an example:"
   ]
  },
  {
   "cell_type": "code",
   "execution_count": 9,
   "metadata": {
    "collapsed": false
   },
   "outputs": [
    {
     "data": {
      "text/plain": [
       "datetime.datetime(2016, 6, 4, 22, 57, 4, 101048)"
      ]
     },
     "execution_count": 9,
     "metadata": {},
     "output_type": "execute_result"
    }
   ],
   "source": [
    "from datetime import timedelta\n",
    "offset = timedelta(days=1, seconds=20)\n",
    "offset.days\n",
    "offset.seconds\n",
    "offset.microseconds\n",
    "\n",
    "now = datetime.now()\n",
    "now\n",
    "\n",
    "now + offset\n",
    "now - offset"
   ]
  },
  {
   "cell_type": "markdown",
   "metadata": {},
   "source": [
    "**Let's Code:** Open the datetime.ipynb notebook and complete the 4 exercises"
   ]
  },
  {
   "cell_type": "markdown",
   "metadata": {},
   "source": [
    "<a name=\"demo\"></a>\n",
    "## Time Series In Pandas (20 mins)\n",
    "\n",
    "Let's load switch over to the [timeseries.ipynb notebook](../code/solution-code/datetime_SOLUTION.ipynb), and I'll walk you through loading a time series into Pandas. We'll also go over applying the DateTime functionality to the time series."
   ]
  },
  {
   "cell_type": "markdown",
   "metadata": {},
   "source": [
    "<a name=\"discussion\"></a>\n",
    "## Date Ranges and Frequencies (15 mins)\n",
    "\n",
    "Using the Pandas documentation, take a few minutes to read about the `asfreq` and `resample` methods.\n",
    "\n",
    "> Instructor's Note: Give the students a few minutes to read about these methods. Have a brief discussion about the implications of both.\n",
    "\n",
    "Let's go back to our timeseries.ipynb notebook and implement the two functions to get a better idea of what they do.\n",
    "\n",
    "Note that `asfreq` gives us a `method` keyword argument. Backfill, or bfill, will propogate the last valid observation forward. In other words, it will use the value preceding a range of unknown indices to fill in the unknowns. Inversely, pad, or ffill, will use the first value succeeding a range of unknown indices to fill in the unknowns."
   ]
  },
  {
   "cell_type": "markdown",
   "metadata": {},
   "source": [
    "Now, let's discuss the following points:\n",
    "- What does `asfreq` do?\n",
    "- What does `resample` do?\n",
    "- What is the difference?\n",
    "- When would we want to use each?"
   ]
  },
  {
   "cell_type": "markdown",
   "metadata": {},
   "source": [
    "We can also create our own date ranges using a built in function, `date_range`. The `periods` and `freq` keyword arguments grant the user fine-grained control over the resulting values. To reset the time data, use the `normalize=True` directive.\n",
    "\n",
    "**NOTE:** See [Reference B](#ref-b) below for all of the possible\n",
    "\n",
    "We are also given a Period object, which can be used to represent a time interval. The Period object consists of a start time and an end time, and can be created by providing a start time and a given frequency."
   ]
  },
  {
   "cell_type": "markdown",
   "metadata": {},
   "source": [
    "\n",
    "<a name=\"ind-practice\"></a>\n",
    "## Manipulating a Time Series (25 mins)\n",
    "\n",
    "Let's break up into groups and look at the different ways we can manipulate our time series.\n",
    "\n",
    "Try the following to mutate `df_goog` to represent a daily, weekly, and monthly granularity.\n",
    "When you have data on a daily level, use the Period and date_range functionalities to practice retrieving data from a DataFrame for a given range or frequency.\n",
    "- `asfreq`\n",
    "- `resample`\n",
    "- `Period`\n",
    "- `date_range`"
   ]
  },
  {
   "cell_type": "markdown",
   "metadata": {},
   "source": [
    "**BONUS:**\n",
    "- Create a new DataFrame with the daily change for each column in df_goog (hint: you'll need to reset the index to a daily timeframe)\n",
    "- Apply models studied previously to gauge the relationship between a random sampling of columns from df_goog\n",
    "- Create an Aware DateTime object with Boston's UTC offset."
   ]
  },
  {
   "cell_type": "markdown",
   "metadata": {},
   "source": [
    "<a name=\"conclusion\"></a>\n",
    "## Summary (5 mins)\n",
    "- Recap the objects and methods discussed\n",
    "- Discuss how these techniques will help with the Kaggle challenge\n",
    "- Repeat the importance of reading the documentation (does it do what you think it does, are you re-inventing the wheel, etc.)\n"
   ]
  },
  {
   "cell_type": "markdown",
   "metadata": {},
   "source": [
    "### ADDITIONAL RESOURCES\n",
    "\n",
    "**Reference**\n",
    "\n",
    "<a name=\"ref-a\"></a>\n",
    "A) Time/Date components that can be accessed from a DateTime object ([source](http://pandas.pydata.org/pandas-docs/stable/timeseries.html#time-date-components))\n",
    "\n",
    "| Alias | Description |\n",
    "|---|---|\n",
    "| year\t| The year of the datetime |\n",
    "| month\t| The month of the datetime |\n",
    "| day\t| The days of the datetime |\n",
    "| hour\t| The hour of the datetime |\n",
    "| minute\t| The minutes of the datetime |\n",
    "| second\t| The seconds of the datetime |\n",
    "| microsecond\t| The microseconds of the datetime |\n",
    "| nanosecond\t| The nanoseconds of the datetime |\n",
    "| date\t| Returns datetime.date |\n",
    "| time\t| Returns datetime.time |\n",
    "| dayofyear\t| The ordinal day of year |\n",
    "| weekofyear\t| The week ordinal of the year |\n",
    "| week\t| The week ordinal of the year |\n",
    "| dayofweek\t| The day of the week with Monday=0, Sunday=6 |\n",
    "| weekday\t| The day of the week with Monday=0, Sunday=6 |\n",
    "| quarter\t| Quarter of the date: Jan=Mar = 1, Apr-Jun = 2, etc. |\n",
    "| days_in_month\t| The number of days in the month of the datetime |\n",
    "| is_month_start\t| Logical indicating if first day of month (defined by frequency) |\n",
    "| is_month_end\t| Logical indicating if last day of month (defined by frequency) |\n",
    "| is_quarter_start\t| Logical indicating if first day of quarter (defined by frequency) |\n",
    "| is_quarter_end\t| Logical indicating if last day of quarter (defined by frequency) |\n",
    "| is_year_start\t| Logical indicating if first day of year (defined by frequency) |\n",
    "| is_year_end\t| Logical indicating if last day of year (defined by frequency) |\n",
    "\n",
    "<a name=\"ref-b\"></a>\n",
    "B) Time offset aliases ([source](http://pandas.pydata.org/pandas-docs/stable/timeseries.html#offset-aliases))\n",
    "\n",
    "| Alias | Description |\n",
    "|---|---|\n",
    "| B | business day frequency |\n",
    "| C | custom business day frequency (experimental) |\n",
    "| D | calendar day frequency |\n",
    "| W | weekly frequency |\n",
    "| M | month end frequency |\n",
    "| BM | business month end frequency |\n",
    "| CBM | custom business month end frequency |\n",
    "| MS | month start frequency |\n",
    "| BMS | business month start frequency |\n",
    "| CBMS | custom business month start frequency |\n",
    "| Q | quarter end frequency |\n",
    "| BQ | business quarter endfrequency |\n",
    "| QS | quarter start frequency |\n",
    "| BQS | business quarter start frequency |\n",
    "| A | year end frequency |\n",
    "| BA | business year end frequency |\n",
    "| AS | year start frequency |\n",
    "| BAS | business year start frequency |\n",
    "| BH | business hour frequency |\n",
    "| H | hourly frequency |\n",
    "| T, min | minutely frequency |\n",
    "| S | secondly frequency |\n",
    "| L, ms | milliseonds |\n",
    "| U, us | microseconds |\n",
    "| N | nanoseconds |"
   ]
  }
 ],
 "metadata": {
  "kernelspec": {
   "display_name": "Python [dsi]",
   "language": "python",
   "name": "Python [dsi]"
  },
  "language_info": {
   "codemirror_mode": {
    "name": "ipython",
    "version": 2
   },
   "file_extension": ".py",
   "mimetype": "text/x-python",
   "name": "python",
   "nbconvert_exporter": "python",
   "pygments_lexer": "ipython2",
   "version": "2.7.12"
  },
  "widgets": {
   "state": {},
   "version": "1.1.2"
  }
 },
 "nbformat": 4,
 "nbformat_minor": 0
}
