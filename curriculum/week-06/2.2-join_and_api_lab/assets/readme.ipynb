{
 "cells": [
  {
   "cell_type": "markdown",
   "metadata": {},
   "source": [
    "---\n",
    "title: APIs and SQL Joins Lab\n",
    "type: lab\n",
    "duration: \"1:25\"\n",
    "creator:\n",
    "    name: Francesco Mosconi\n",
    "    city: SF\n",
    "---"
   ]
  },
  {
   "cell_type": "markdown",
   "metadata": {},
   "source": [
    "# ![](https://ga-dash.s3.amazonaws.com/production/assets/logo-9f88ae6c9c3871690e33280fcf557f33.png) APIs and SQL Joins Lab\n",
    "The city of San Francisco wants to assess the quality of restaurants in the city. Their data is scattered across multiple sources and incomplete.\n",
    "\n",
    "They tasked you to help them assess it.\n",
    "\n",
    "They would like to know where are there more violations in order to better manage their inspections."
   ]
  },
  {
   "cell_type": "markdown",
   "metadata": {},
   "source": [
    "## Introduction\n",
    "\n",
    "To answer the question we will need to retrieve and merge data from multiple sources.\n",
    "\n",
    "> Instructor note: they can do this with SQLite or PostgreSQL locally"
   ]
  },
  {
   "cell_type": "markdown",
   "metadata": {},
   "source": [
    "## Exercise\n",
    "\n",
    "The starter code will guide you through thie next points.\n",
    "\n",
    "#### Requirements\n",
    "\n",
    "1. Open the files and look at their content\n",
    "-  Import the files to a local database\n",
    "    1. Display the first few lines of each table\n",
    "    - Investigate violations using SQL and Pandas\n",
    "    - Investigate Inspections using SQL and Pandas\n",
    "- Zipcode analysis\n",
    "Final recommendation\n",
    "\n",
    "**Bonus:**\n",
    "- Neighborhood data\n",
    "    - Google Geocoding API\n",
    "    - Fast requests with Pycurl\n",
    "    - Poligons and points with Shapely\n",
    "    - Further exploration: PostGIS, Postgres with GIS\n",
    "\n",
    "#### Starter code\n",
    "\n",
    "[Starter code](./code/starter-code/starter-code-3_2.ipynb)\n",
    "\n",
    "> [Solution code](./code/solution-code/solution-code-3_2.ipynb)\n"
   ]
  },
  {
   "cell_type": "markdown",
   "metadata": {},
   "source": [
    "## Additional Resources\n",
    "\n",
    "- [Ipython-SQL extension](https://github.com/catherinedevlin/ipython-sql).\n",
    "- [PostgreSQL](http://www.postgresql.org/)\n",
    "- [Google Geocoding API](https://developers.google.com/maps/documentation/geocoding/intro)"
   ]
  }
 ],
 "metadata": {
  "kernelspec": {
   "display_name": "Python 2",
   "language": "python",
   "name": "python2"
  },
  "language_info": {
   "codemirror_mode": {
    "name": "ipython",
    "version": 2
   },
   "file_extension": ".py",
   "mimetype": "text/x-python",
   "name": "python",
   "nbconvert_exporter": "python",
   "pygments_lexer": "ipython2",
   "version": "2.7.11"
  }
 },
 "nbformat": 4,
 "nbformat_minor": 0
}
