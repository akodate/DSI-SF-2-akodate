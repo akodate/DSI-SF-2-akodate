{
 "cells": [
  {
   "cell_type": "markdown",
   "metadata": {},
   "source": [
    "# Bagging and Boosting Lab\n",
    "\n",
    "In this lab we will practice using Bagging and Boosting models on a dataset of your choice.\n",
    "\n",
    "---\n",
    "\n",
    "For this lab you should choose datasets in the past that have given you trouble with other models or that you are otherwise interested in looking at with bagging and boosting. The goal is so you get an idea for how they perform compared to more conventional regressions and classifiers."
   ]
  },
  {
   "cell_type": "markdown",
   "metadata": {},
   "source": [
    "## 1. Load and inspect the data\n",
    "\n",
    "Load a dataset or datasets that you have been difficult to get results on in the past, either from labs or projects.\n",
    "\n",
    "---\n",
    "\n",
    "### 1.1 Inspect the data and create and X, y  classification and for regression\n"
   ]
  },
  {
   "cell_type": "code",
   "execution_count": 1,
   "metadata": {
    "collapsed": false
   },
   "outputs": [],
   "source": [
    "import pandas as pd\n",
    "import numpy as np\n",
    "import patsy\n",
    "\n",
    "import matplotlib.pyplot as plt\n",
    "import seaborn as sns\n",
    "%matplotlib inline"
   ]
  },
  {
   "cell_type": "code",
   "execution_count": null,
   "metadata": {
    "collapsed": false
   },
   "outputs": [],
   "source": []
  },
  {
   "cell_type": "markdown",
   "metadata": {},
   "source": [
    "---\n",
    "\n",
    "### 2. Decision Tree Regressor\n",
    "\n",
    "1. Train a decision tree regressor on the regression problem\n",
    "- Evaluate the score with a 5-fold cross-validation\n",
    "- How does this compare to the model you fit on this data previously?\n"
   ]
  },
  {
   "cell_type": "code",
   "execution_count": null,
   "metadata": {
    "collapsed": false
   },
   "outputs": [],
   "source": []
  },
  {
   "cell_type": "markdown",
   "metadata": {},
   "source": [
    "---\n",
    "\n",
    "### 3. Random Forest Regressor\n",
    "\n",
    "1. Train a random forest regressor on the regression problem and predict your dependent.\n",
    "- Evaluate the score with a 5-fold cross-validation\n",
    "- How does this compare to the model you fit on this data previously? How does it compare to the single decision tree?"
   ]
  },
  {
   "cell_type": "code",
   "execution_count": null,
   "metadata": {
    "collapsed": false
   },
   "outputs": [],
   "source": []
  },
  {
   "cell_type": "markdown",
   "metadata": {},
   "source": [
    "---\n",
    "\n",
    "### 4. Extra Trees Regressor\n",
    "\n",
    "1. Train an extra trees regressor on the regression problem and predict your dependent.\n",
    "- Evaluate the score with a 5-fold cross-validation\n",
    "- How does this model compare with the others?"
   ]
  },
  {
   "cell_type": "code",
   "execution_count": null,
   "metadata": {
    "collapsed": true
   },
   "outputs": [],
   "source": []
  },
  {
   "cell_type": "markdown",
   "metadata": {},
   "source": [
    "---\n",
    "\n",
    "### 5. AdaBoost Classifier\n",
    "\n",
    "1. Train a AdaBoost classifier on your chosen classification problem.\n",
    "- Evaluate the classifier performance with a 5-fold cross-validation."
   ]
  },
  {
   "cell_type": "code",
   "execution_count": null,
   "metadata": {
    "collapsed": false
   },
   "outputs": [],
   "source": []
  },
  {
   "cell_type": "markdown",
   "metadata": {},
   "source": [
    "---\n",
    "\n",
    "### 6. Gradient Boosted Trees Classifier\n",
    "\n",
    "\n",
    "1. Train a Gradient Boosting Trees classifier on your chosen classification problem.\n",
    "- Evaluate the score with a 5-fold cross-validation.\n",
    "- Compare with the AdaBoost score."
   ]
  },
  {
   "cell_type": "code",
   "execution_count": null,
   "metadata": {
    "collapsed": false
   },
   "outputs": [],
   "source": []
  },
  {
   "cell_type": "markdown",
   "metadata": {},
   "source": [
    "### 7. [BONUS] Use gridsearch to fine-tune models of your choice.\n",
    "\n",
    "1. What are the best parameters found with the gridsearch?\n",
    "2. How does the best score compare to the model(s) without cross-validation?\n",
    "\n",
    "**Be careful with many parameters! It can go slow.**"
   ]
  },
  {
   "cell_type": "code",
   "execution_count": null,
   "metadata": {
    "collapsed": true
   },
   "outputs": [],
   "source": []
  }
 ],
 "metadata": {
  "anaconda-cloud": {},
  "kernelspec": {
   "display_name": "Python [dsi]",
   "language": "python",
   "name": "Python [dsi]"
  },
  "language_info": {
   "codemirror_mode": {
    "name": "ipython",
    "version": 2
   },
   "file_extension": ".py",
   "mimetype": "text/x-python",
   "name": "python",
   "nbconvert_exporter": "python",
   "pygments_lexer": "ipython2",
   "version": "2.7.12"
  }
 },
 "nbformat": 4,
 "nbformat_minor": 0
}
