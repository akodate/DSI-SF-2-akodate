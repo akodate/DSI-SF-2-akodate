{
 "cells": [
  {
   "cell_type": "markdown",
   "metadata": {},
   "source": [
    "# Group Project:  Indeed NLP Analysis /w Scrapy\n",
    "\n",
    "Today we will break into groups to look at the global data science job market from indeed.  You will be extending the work on an existing spider project and working with NLP.\n",
    "\n",
    "The following insights are required from all Groups:\n",
    "\n",
    " - Top hiring companies\n",
    " - Counts of \"skill\" keywords (ie: Statistics, Python, Machine Learning, Big Data, etc)\n",
    " - Prediction of \"data scientists\" job titles against job titles not labeled \"data scientist\"\n",
    "   - Capture the probability predictions of your model, put it back in your dataframe, sort to see top predicted jobs that are not labeld \"data scientist\".  Further extend your analsysis from here to see which are most common or most likely.  What are the insights from this?\n",
    " \n",
    "BONUS:\n",
    " - Perform LDA on job summaries.\n",
    " \n",
    "Advice:\n",
    " - Create a feature that takes the value 0 or 1 if the title is \"Data Scientist\".\n",
    " - Develop an xpath feature that extracts the company name in the spider.\n",
    " - Set your DOWNLOAD_DELAY in your settings.py file to 4 and debug your queries 1st.  Then remove the delay once you want to scrape the whole site.\n",
    " - Use CountVectorizer, and compare with TFIDFVectorizer\n",
    " - Vectorize the summary as your X, and the 0 / 1 feature from your dataframe as your **y**\n",
    " - LogisticRegression is a good place to start with modeling.\n",
    "\n",
    "Use this spider to start your analysis.  Be mindful of the rate default in your settings file!\n",
    "https://gist.github.com/dyerrington/902b13d3b128cd211b5059039714e798\n"
   ]
  },
  {
   "cell_type": "markdown",
   "metadata": {},
   "source": [
    "## Group 1:  San Francisco\n",
    "\n",
    "Work with the New York Group to investigate what skills are important in each market but most importantly \"why\" they might be.  Is there anything else different from New York vs San Francisco that you can draw on?\n",
    "\n",
    "Otherwise, complete the required insights for your presentation.  Pick someone to present that hasn't presented during a group activity yet.\n"
   ]
  },
  {
   "cell_type": "code",
   "execution_count": null,
   "metadata": {
    "collapsed": true
   },
   "outputs": [],
   "source": []
  },
  {
   "cell_type": "markdown",
   "metadata": {},
   "source": [
    "## Group 2:  New York\n",
    "\n",
    "Work with the San Francisco group use their data to help classify your regional market requirement of classifying data scientist jobs.  Is there anything different from New York vs San Francisco in terms of what is predicted outside of the \"data scientist\" job title?\n",
    "\n",
    "Otherwise, complete the required insights for your presentation.  Pick someone to present that hasn't presented during a group activity yet.\n"
   ]
  },
  {
   "cell_type": "code",
   "execution_count": null,
   "metadata": {
    "collapsed": true
   },
   "outputs": [],
   "source": []
  },
  {
   "cell_type": "markdown",
   "metadata": {},
   "source": [
    "## Group 3:  United States\n",
    "\n",
    "Work with the International group to compare skill keywords. Is there anything different about the US compared to markets outside the US?  Are some job requirements more emphasised than others?"
   ]
  },
  {
   "cell_type": "code",
   "execution_count": null,
   "metadata": {
    "collapsed": true
   },
   "outputs": [],
   "source": []
  },
  {
   "cell_type": "markdown",
   "metadata": {},
   "source": [
    "## Group 4:  International\n",
    "\n",
    "Generally, you can work with any of the other groups but you must find at least one aspect of data science job market comparison with other groups in order to complete your presentation.  Consider working with the United States group.\n",
    "\n",
    "You may focus on a single market outside of the us.  London appears to be the biggest market."
   ]
  },
  {
   "cell_type": "code",
   "execution_count": null,
   "metadata": {
    "collapsed": true
   },
   "outputs": [],
   "source": []
  }
 ],
 "metadata": {
  "kernelspec": {
   "display_name": "Python [dsi]",
   "language": "python",
   "name": "Python [dsi]"
  },
  "language_info": {
   "codemirror_mode": {
    "name": "ipython",
    "version": 2
   },
   "file_extension": ".py",
   "mimetype": "text/x-python",
   "name": "python",
   "nbconvert_exporter": "python",
   "pygments_lexer": "ipython2",
   "version": "2.7.12"
  }
 },
 "nbformat": 4,
 "nbformat_minor": 0
}
