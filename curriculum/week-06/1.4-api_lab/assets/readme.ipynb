{
 "cells": [
  {
   "cell_type": "markdown",
   "metadata": {},
   "source": [
    "---\n",
    "title: API Lab\n",
    "type: lab\n",
    "duration: \"1:25\"\n",
    "creator:\n",
    "    name: Francesco Mosconi\n",
    "    city: SF\n",
    "---"
   ]
  },
  {
   "cell_type": "markdown",
   "metadata": {},
   "source": [
    "# ![](https://ga-dash.s3.amazonaws.com/production/assets/logo-9f88ae6c9c3871690e33280fcf557f33.png) API Lab"
   ]
  },
  {
   "cell_type": "markdown",
   "metadata": {},
   "source": [
    "## Introduction\n",
    "\n",
    "In this lab we will retrieve data from APIs and use it to solve two problems:\n",
    "\n",
    "1. build a decision tree regressor that estimates the quality of a wine\n",
    "2. analyze the top 250 movies from the IMDB\n",
    "\n",
    "This combines what you have learned about decision trees with what you have learned about APIs.\n",
    "We will start using [Sheetsu](https://sheetsu.com/your-apis), a neat free service that allows you to turn any spreadsheet into an API.\n",
    "Then we will move onto scraping data from the [Internet Movie Database (IMDB)](http://www.imdb.com/) and use the data we obtain to investigate top grossing movies.\n",
    "\n",
    "> Instructor notes:\n",
    "1. Check that the spreadsheet is available at https://docs.google.com/spreadsheets/d/1mZ3Otr5AV4v8WwvLOAvWf3VLxDa-IeJ1AVTEuavJqeo/\n",
    "- Check that the API is available at https://sheetsu.com/apis/v1.0/dab55afd\n",
    "- Feel free to re-create the spreadsheet or use a new api link if you wish"
   ]
  },
  {
   "cell_type": "markdown",
   "metadata": {},
   "source": [
    "## Exercise\n",
    "\n",
    "#### Requirements\n",
    "\n",
    "1. Get Data From Sheetsu\n",
    "- Post Data to Sheetsu\n",
    "- Munge data\n",
    "    - explore missing data\n",
    "    - perform EDA\n",
    "- Extract Features and Train Model\n",
    "- IMDB Movies EDA\n",
    "    1. Get top movies\n",
    "    - Get top movies data\n",
    "    - Get grossing data\n",
    "    - Munge data:\n",
    "        - explore missing\n",
    "        - use correct column types\n",
    "    - Vectorize text\n",
    "\n",
    "**Bonus:**\n",
    "\n",
    "- Final Questions: what relationship is there between top actors and movie grossing?\n",
    "\n",
    "\n",
    "#### Starter code\n",
    "\n",
    "[Starter Code](./code/starter-code/starter-code-1_4.ipynb)\n",
    "\n",
    ">[Solution Code](./code/solution-code/solution-code-1_4.ipynb)"
   ]
  },
  {
   "cell_type": "markdown",
   "metadata": {},
   "source": [
    "## Useful Links\n",
    "\n",
    "- [IMDB](http://www.imdb.com/)\n",
    "- [OMDBAPI](http://www.omdbapi.com/)\n",
    "- [Sheetsu](https://sheetsu.com)"
   ]
  }
 ],
 "metadata": {
  "kernelspec": {
   "display_name": "Python 2",
   "language": "python",
   "name": "python2"
  },
  "language_info": {
   "codemirror_mode": {
    "name": "ipython",
    "version": 2
   },
   "file_extension": ".py",
   "mimetype": "text/x-python",
   "name": "python",
   "nbconvert_exporter": "python",
   "pygments_lexer": "ipython2",
   "version": "2.7.11"
  }
 },
 "nbformat": 4,
 "nbformat_minor": 0
}
