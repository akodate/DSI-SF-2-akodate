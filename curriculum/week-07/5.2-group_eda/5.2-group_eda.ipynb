{
 "cells": [
  {
   "cell_type": "markdown",
   "metadata": {},
   "source": [
    "\n",
    "\n",
    "<img src=\"https://i.imgflip.com/14vp9i.jpg\" width=\"400\" style=\"float: right; margin: 50px\">\n",
    "\n",
    "# GROUP EDA\n",
    "\n",
    "Today we will be splitting into 4 groups and presenting our findings the last hour of class.\n",
    "\n",
    "The goals for todays activity include:\n",
    "\n",
    "- Defining a problem statement as a group\n",
    "- Exloring datasets and practicing exploratory analysis \n",
    "- Good use of validation\n",
    "- Communicating results succinctly\n",
    "\n",
    "You might consider preparing a brief slide deck, but it's not necessary.  We created [these great guidelines](https://github.com/ga-students/DSI-SF-1/wiki/Presentation-Guidelines) to help.\n",
    "\n",
    "## Deliverables\n",
    "\n",
    "- 10 Minute presentation, 5 minutes question and answer\n",
    "- Validation of results\n",
    "\n",
    "### Group Feedback\n",
    "\n",
    "After presentations, please give feedback to each other.\n",
    "\n",
    "- Peer feedback:  [Use this form](http://goo.gl/forms/ybRIcrwYrVVV4hhR2).  All responses are shared.  Be nice ;)\n",
    "\n",
    "### Suggestions\n",
    "- Appoint someone to present / organize\n",
    "- Look at summary statistics, explore data\n",
    "- Refine problem statement\n",
    "- Divide and conquer your workload\n",
    "- Don't fight - you will be held accountable for presenting _something_.\n",
    "- You will present\n"
   ]
  },
  {
   "cell_type": "markdown",
   "metadata": {},
   "source": [
    "## Group 1:  WOW\n",
    "\n",
    "<img src=\"https://snag.gy/tZXe0N.jpg\" width=\"500\">\n"
   ]
  },
  {
   "cell_type": "markdown",
   "metadata": {},
   "source": [
    "Using [this dataset](https://www.kaggle.com/mylesoneill/warcraft-avatar-history/downloads/warcraft-avatar-history.zip), we would like you to figure out if the following is possible:\n",
    " \n",
    "1. Predict when a user has \"churned\" or will churn.  We want to know about churn!  What is this about, you will have to research this idea if it is unfamilliar to you.  We want that \\$\\$\\$\\$ so help us deal with churn!<br><br>\n",
    "\n",
    "1. Also, we want to know more about zones and player classes.  We have a hunch something good is happening there.<br><br>\n",
    "\n",
    "1. Is there anything else we can do to optimize gameplay?<br><br>\n",
    "\n",
    "1. We're thinking about making yet another expansion.  Are there any themes we might consider based on player behavior *ie: which features are important to consider about current player preferences to ______*?\n",
    "\n",
    "** Projected Challenges **\n",
    "- Research\n",
    "- Problem statement expected to be much more defined\n",
    "- There are a lot of areas to explore and focus may be difficult without a plan"
   ]
  },
  {
   "cell_type": "code",
   "execution_count": null,
   "metadata": {
    "collapsed": true
   },
   "outputs": [],
   "source": []
  },
  {
   "cell_type": "markdown",
   "metadata": {},
   "source": [
    "## Group 2: GOT\n",
    "\n",
    "<img src=\"https://snag.gy/8uoD9y.jpg\" width=\"500\">\n",
    "\n",
    "Using [this dataset](./assets/datasets/character-predictions.csv), we would like to know which factors are most important predictors of mortality within our population.  From what we know, this dataset was scraped from [this website](http://awoiaf.westeros.org/index.php/Main_Page) and may provide pointers on the definition of the dataset.\n",
    "\n",
    "**Projected Challeneges**\n",
    "- Some munging\n",
    "- Regression and classification type problems possible\n",
    "- Data is not as cut and dry as it seems"
   ]
  },
  {
   "cell_type": "code",
   "execution_count": null,
   "metadata": {
    "collapsed": true
   },
   "outputs": [],
   "source": []
  },
  {
   "cell_type": "markdown",
   "metadata": {},
   "source": [
    "## Group 3:  Last Words\n",
    "\n",
    "<img src=\"https://snag.gy/MElcUY.jpg\" width=\"200\">\n",
    "\n",
    "Using [this dataset](https://docs.google.com/spreadsheet/ccc?key=0ArNsipRBvi69dEUxZHVuRTc4ZlctREdldExsOW5rMUE#gid=0), we would like you to approach this as a study that might inform policy in how law is applied.  The first step in this process, let's assume, is a high level report that illustrates any commonalities and patterns found in this dataset\n",
    ":\n",
    "\n",
    "**Goal**\n",
    "- Propose what actionable outcomes are possible with this dataset.\n",
    "- Describe value of said outcomes in some terms.\n",
    "- Give a single solid recommendation based on the dataset.\n",
    "\n",
    "**Requirements**\n",
    "\n",
    "All of these requirements must be described in terms of the goals.  It's common that you will be given technical requirements without vision or high level goals.  It's your job to frame business goals to technical requirements when they don't exist.  Otherwise why does any of it make sense?  Tell the story that matches details to vision and purpose.\n",
    "\n",
    "- Common patterns found in last words of inmates\n",
    "- Commonality of words to other features in dataset\n",
    "- Of lessor importance, how hard would it be to classify religious inclinations\n",
    "- Sentiment as a feature or frequency (ie: Check out textblob - pip install textblob)\n",
    " - Can this be stratified to other features\n",
    " - Which words seem to be common in these cases\n",
    "\n",
    "** Bonus **\n",
    "Do any POS patterns look interesting?\n",
    "\n",
    "**Projected Challenges**\n",
    " - Problem statement may be challenging\n",
    " - This project is a bit more defined but there are vague problems involved\n",
    " - Heavily NLP based problem"
   ]
  },
  {
   "cell_type": "code",
   "execution_count": null,
   "metadata": {
    "collapsed": true
   },
   "outputs": [],
   "source": []
  },
  {
   "cell_type": "markdown",
   "metadata": {},
   "source": [
    "## Group 4: Defeat Pikachu\n",
    "\n",
    "<img src=\"https://snag.gy/U3zYDp.jpg\">\n",
    "\n",
    "After a long sequence of repeated failures, in the spirit of Wiley Coyote, Team Rocket has decided to hire a bold team of Data Scientists to help them find the ultimate strategy to defeat the meddeling pokemon trainer with the Pikachu.\n",
    "\n",
    "You have one job, that is to determine the best strategy to end the wrath of Pikachu over Team Rocket, by advising expert selection of Pokemon to defeat Pikachu.\n",
    "\n",
    "**Goals**:\n",
    " - Research game mechanics\n",
    " - Explain impact of any metrics on outcome\n",
    " - Decribe premise and method.\n",
    "\n",
    "**Stretch Goals**\n",
    " - Describe a strategy to defeat **Any Pokemon**\n",
    " \n",
    "[Dataset](https://www.kaggle.com/account/login?ReturnUrl=%2fabcsds%2fpokemon%2fdownloads%2fpokemon.zip) (Kaggle login required).\n",
    " \n",
    "**Projected Challeneges**\n",
    " - Research of game mechanics\n",
    " - No obvious evaluation metrics"
   ]
  },
  {
   "cell_type": "code",
   "execution_count": null,
   "metadata": {
    "collapsed": true
   },
   "outputs": [],
   "source": []
  }
 ],
 "metadata": {
  "kernelspec": {
   "display_name": "Python [dsi]",
   "language": "python",
   "name": "Python [dsi]"
  },
  "language_info": {
   "codemirror_mode": {
    "name": "ipython",
    "version": 2
   },
   "file_extension": ".py",
   "mimetype": "text/x-python",
   "name": "python",
   "nbconvert_exporter": "python",
   "pygments_lexer": "ipython2",
   "version": "2.7.12"
  }
 },
 "nbformat": 4,
 "nbformat_minor": 0
}
