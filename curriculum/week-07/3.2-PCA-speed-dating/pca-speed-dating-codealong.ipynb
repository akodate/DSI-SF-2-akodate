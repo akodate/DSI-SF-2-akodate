{
 "cells": [
  {
   "cell_type": "markdown",
   "metadata": {},
   "source": [
    "# PCA on speed dating data\n",
    "\n",
    "---\n",
    "\n",
    "In this more detailed codealong/lab we are going to practice PCA. \n",
    "\n",
    "Considering how often people use PCA to simplify their data, reduce noise in their data, and find unmeasured \"latent variables\", it is important to spend the time to understand what's going on.\n",
    "\n",
    "---\n",
    "\n",
    "### Dataset\n",
    "\n",
    "The dataset we are using for this lab is a subset of the [much more detailed speed dating dataset](https://www.kaggle.com/annavictoria/speed-dating-experiment). In particular, this contains no information on the actual speed dating itself (successes with or opinions of other individuals). It also contains no \"follow-up\" information where individuals are re-asked the same questions about themselves. All it contains are things that an individual enjoys doing, their ratings of themselves on how desireable they are, and how they think others rate them on desireability.\n",
    "\n",
    "Specifically, the columns in the data are outlined below:\n",
    "\n",
    "    subject_id                   :   unique individual identifier\n",
    "    like_sports                  :   enjoyment of participating in sports\n",
    "    like_tvsports                :   enjoyment of watching sports on tv\n",
    "    like_exercise                :   enjoyment of exercise\n",
    "    like_food                    :   enjoyment of food\n",
    "    like_museums                 :   enjoyment of museums\n",
    "    like_art                     :   enjoyment of art\n",
    "    like_hiking                  :   enjoyment of hiking\n",
    "    like_gaming                  :   enjoyment of pl aying games\n",
    "    like_clubbing                :   enjoyment of going clubbing/partying\n",
    "    like_reading                 :   enjoyment of reading\n",
    "    like_tv                      :   enjoyment of tv in general\n",
    "    like_theater                 :   enjoyment of the theater (plays, musicals, etc.)\n",
    "    like_movies                  :   enjoyment of movies\n",
    "    like_concerts                :   enjoyment of concerts\n",
    "    like_music                   :   enjoyment of music\n",
    "    like_shopping                :   enjoyment of shopping\n",
    "    like_yoga                    :   enjoyment of yoga\n",
    "    subjective_attractiveness    :   how attractive they rate themselves\n",
    "    subjective_sincerity         :   how sincere they rate themselves\n",
    "    subjective_intelligence      :   how intelligent they rate themselves\n",
    "    subjective_fun               :   how fun they rate themselves\n",
    "    subjective_ambition          :   how ambitious they rate themselves\n",
    "    objective_attractiveness     :   percieved rating others would give them on how attractive they are\n",
    "    objective_sincerity          :   percieved rating others would give them on how sincere they are\n",
    "    objective_intelligence       :   percieved rating others would give them on how intelligent they are\n",
    "    objective_fun                :   percieved rating others would give them on how fun they are\n",
    "    objective_ambition           :   percieved rating others would give them on how ambitious they are\n",
    "    \n",
    "There are 551 subjects total.\n",
    "\n",
    "---\n",
    "\n",
    "### Load packages"
   ]
  },
  {
   "cell_type": "code",
   "execution_count": 1,
   "metadata": {
    "collapsed": true
   },
   "outputs": [],
   "source": [
    "import matplotlib.pyplot as plt\n",
    "import numpy as np\n",
    "import pandas as pd\n",
    "import seaborn as sns\n",
    "\n",
    "sns.set_style(\"whitegrid\")\n",
    "\n",
    "%matplotlib inline\n",
    "%config InlineBackend.figure_format = 'retina'"
   ]
  },
  {
   "cell_type": "code",
   "execution_count": 2,
   "metadata": {
    "collapsed": true
   },
   "outputs": [],
   "source": [
    "from sklearn.decomposition import PCA"
   ]
  },
  {
   "cell_type": "markdown",
   "metadata": {},
   "source": [
    "---\n",
    "\n",
    "### Load and clean speed dating data"
   ]
  },
  {
   "cell_type": "code",
   "execution_count": 3,
   "metadata": {
    "collapsed": true
   },
   "outputs": [],
   "source": [
    "sd = pd.read_csv('/Users/kiefer/github-repos/DSI-SF-2/datasets/speed_dating/speed_dating_user_attributes.csv')"
   ]
  },
  {
   "cell_type": "markdown",
   "metadata": {},
   "source": [
    "---\n",
    "\n",
    "### Subset the subjective columns and visualize the variables"
   ]
  },
  {
   "cell_type": "code",
   "execution_count": null,
   "metadata": {
    "collapsed": true
   },
   "outputs": [],
   "source": []
  },
  {
   "cell_type": "markdown",
   "metadata": {},
   "source": [
    "---\n",
    "\n",
    "### Subset and visualize some preference variables"
   ]
  },
  {
   "cell_type": "code",
   "execution_count": null,
   "metadata": {
    "collapsed": true
   },
   "outputs": [],
   "source": []
  },
  {
   "cell_type": "markdown",
   "metadata": {},
   "source": [
    "---\n",
    "\n",
    "### Fit PCA on the subjective ratings.\n"
   ]
  },
  {
   "cell_type": "code",
   "execution_count": null,
   "metadata": {
    "collapsed": true
   },
   "outputs": [],
   "source": []
  },
  {
   "cell_type": "markdown",
   "metadata": {},
   "source": [
    "---\n",
    "\n",
    "### Look at principal component weighting vectors (eigenvectors)\n",
    "\n",
    "The principal components, or eigenvectors, can be thought of as weightings on the original variables to transform them into the new feature space."
   ]
  },
  {
   "cell_type": "code",
   "execution_count": null,
   "metadata": {
    "collapsed": true
   },
   "outputs": [],
   "source": []
  },
  {
   "cell_type": "markdown",
   "metadata": {},
   "source": [
    "---\n",
    "\n",
    "### Look at the eigenvalues and explained variance ratio\n",
    "\n",
    "The eigenvalues are ordered such that the first components have the largest eigenvalues. The values and their normalized equivalent in the explained variance ratio attribute tell you how much of the variance in the original data is encapsulated in the new component variables."
   ]
  },
  {
   "cell_type": "code",
   "execution_count": null,
   "metadata": {
    "collapsed": true
   },
   "outputs": [],
   "source": []
  },
  {
   "cell_type": "markdown",
   "metadata": {},
   "source": [
    "---\n",
    "\n",
    "### Transform the subjective data into principal component space\n",
    "\n",
    "The transform function in the PCA will create you new component variable matrix."
   ]
  },
  {
   "cell_type": "code",
   "execution_count": null,
   "metadata": {
    "collapsed": true
   },
   "outputs": [],
   "source": []
  },
  {
   "cell_type": "markdown",
   "metadata": {},
   "source": [
    "---\n",
    "\n",
    "### Compare a person's original subjective ratings to component variables"
   ]
  },
  {
   "cell_type": "code",
   "execution_count": null,
   "metadata": {
    "collapsed": true
   },
   "outputs": [],
   "source": []
  },
  {
   "cell_type": "markdown",
   "metadata": {},
   "source": [
    "---\n",
    "\n",
    "### Create PC1 manually\n",
    "\n",
    "To demonstrate how the the new principal component matrix is created from the original variable columns and the eigenvector weighting matrix, we'll create the first component PC1 manually.\n",
    "\n",
    "#### 1. Pull out the eigenvector for PC1"
   ]
  },
  {
   "cell_type": "code",
   "execution_count": null,
   "metadata": {
    "collapsed": true
   },
   "outputs": [],
   "source": []
  },
  {
   "cell_type": "markdown",
   "metadata": {},
   "source": [
    "#### 2. Create a dataframe showing the original values for the subjective variables for person 1"
   ]
  },
  {
   "cell_type": "code",
   "execution_count": null,
   "metadata": {
    "collapsed": true
   },
   "outputs": [],
   "source": []
  },
  {
   "cell_type": "markdown",
   "metadata": {},
   "source": [
    "#### 3. Add the eigenvector for PC1: the weights to multiply each original variable by\n",
    "\n",
    "Recall that each component is a linear combination of the original variables multiplied by a \"weight\" defined in the eigenvector of that component."
   ]
  },
  {
   "cell_type": "code",
   "execution_count": null,
   "metadata": {
    "collapsed": true
   },
   "outputs": [],
   "source": []
  },
  {
   "cell_type": "markdown",
   "metadata": {},
   "source": [
    "#### 4. Multiply the original variable values by the eigenvector values\n",
    "\n",
    "These are the \"pieces\" of principal component 1 that will be added together to make the new value for that person."
   ]
  },
  {
   "cell_type": "code",
   "execution_count": null,
   "metadata": {
    "collapsed": true
   },
   "outputs": [],
   "source": []
  },
  {
   "cell_type": "markdown",
   "metadata": {},
   "source": [
    "#### 5. Sum the original values multiplied by the eigenvector weights to get person 1's value for PC1"
   ]
  },
  {
   "cell_type": "code",
   "execution_count": null,
   "metadata": {
    "collapsed": true
   },
   "outputs": [],
   "source": []
  },
  {
   "cell_type": "markdown",
   "metadata": {},
   "source": [
    "---\n",
    "\n",
    "### Fit PCA on the preference data"
   ]
  },
  {
   "cell_type": "code",
   "execution_count": null,
   "metadata": {
    "collapsed": true
   },
   "outputs": [],
   "source": []
  },
  {
   "cell_type": "markdown",
   "metadata": {},
   "source": [
    "---\n",
    "\n",
    "### Predict \"like_reading\" from original and from PCA"
   ]
  },
  {
   "cell_type": "code",
   "execution_count": null,
   "metadata": {
    "collapsed": true
   },
   "outputs": [],
   "source": []
  },
  {
   "cell_type": "markdown",
   "metadata": {},
   "source": [
    "#### Linear regression cross-validated on original variables:"
   ]
  },
  {
   "cell_type": "code",
   "execution_count": null,
   "metadata": {
    "collapsed": true
   },
   "outputs": [],
   "source": []
  },
  {
   "cell_type": "markdown",
   "metadata": {},
   "source": [
    "#### Linear regression on first principal component"
   ]
  },
  {
   "cell_type": "code",
   "execution_count": null,
   "metadata": {
    "collapsed": true
   },
   "outputs": [],
   "source": []
  },
  {
   "cell_type": "markdown",
   "metadata": {},
   "source": [
    "#### Linear regression on first 3 principal components"
   ]
  },
  {
   "cell_type": "code",
   "execution_count": null,
   "metadata": {
    "collapsed": true
   },
   "outputs": [],
   "source": []
  }
 ],
 "metadata": {
  "kernelspec": {
   "display_name": "Python 2",
   "language": "python",
   "name": "python2"
  },
  "language_info": {
   "codemirror_mode": {
    "name": "ipython",
    "version": 2
   },
   "file_extension": ".py",
   "mimetype": "text/x-python",
   "name": "python",
   "nbconvert_exporter": "python",
   "pygments_lexer": "ipython2",
   "version": "2.7.12"
  }
 },
 "nbformat": 4,
 "nbformat_minor": 0
}
