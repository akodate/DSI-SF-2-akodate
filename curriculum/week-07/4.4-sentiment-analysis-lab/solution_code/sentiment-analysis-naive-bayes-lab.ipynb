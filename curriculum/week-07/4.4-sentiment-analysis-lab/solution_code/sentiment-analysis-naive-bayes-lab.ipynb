{
 "cells": [
  {
   "cell_type": "markdown",
   "metadata": {},
   "source": [
    "# Sentiment analysis and naive bayes\n",
    "\n",
    "Now that you've seen sentiment analysis using a predefined dictionary of positive and negative valence for different words, this lab will have you do sentiment analysis on the movie review dataset \"in reverse\": you'll find which words are most likely to appear in positive or negative valenced reviews.\n",
    "\n",
    "---\n",
    "\n",
    "### Naive Bayes\n",
    "\n",
    "For this lab we're going to use a classifier common in NLP and sentiment analysis called Naive Bayes. We'll be covering Naive Bayes classifiers in more depth in a later lecture – for this lab you'll just be implementing it using sklearn.\n",
    "\n",
    "Essentially, Naive Bayes solves an inverted problem to what you are used to in supervized learning. Given a feature $x_i$ and target $y$, it solves for $P(x_i | y)$. In other words, the probability of a feature/predictor _given_ that the target is 1.\n",
    "\n",
    "We'll use this to figure out which words are more likely to appear when the target is 1 (\"fresh\") vs when the target is 0 (\"rotten\")."
   ]
  },
  {
   "cell_type": "markdown",
   "metadata": {},
   "source": [
    "---\n",
    "\n",
    "### Load packages and movie data\n",
    "\n",
    "Do any cleaning you deem necessary."
   ]
  },
  {
   "cell_type": "code",
   "execution_count": 5,
   "metadata": {
    "collapsed": false
   },
   "outputs": [],
   "source": [
    "import pandas as pd\n",
    "import numpy as np\n",
    "\n",
    "# We are using the BernoulliNB version of Naive Bayes, which assumes predictors are binary encoded.\n",
    "from sklearn.naive_bayes import BernoulliNB\n",
    "from sklearn.cross_validation import cross_val_score, train_test_split\n",
    "\n",
    "from sklearn.feature_extraction.text import CountVectorizer"
   ]
  },
  {
   "cell_type": "code",
   "execution_count": 22,
   "metadata": {
    "collapsed": true
   },
   "outputs": [],
   "source": [
    "rt = pd.read_csv('/Users/kiefer/github-repos/DSI-SF-2/datasets/rottentomatoes_critics/rt_critics.csv')\n",
    "\n",
    "rt = rt[rt.fresh.isin(['fresh','rotten'])]\n",
    "rt.fresh = rt.fresh.map(lambda x: 1 if x == 'fresh' else 0)"
   ]
  },
  {
   "cell_type": "code",
   "execution_count": 98,
   "metadata": {
    "collapsed": false
   },
   "outputs": [
    {
     "data": {
      "text/html": [
       "<div>\n",
       "<table border=\"1\" class=\"dataframe\">\n",
       "  <thead>\n",
       "    <tr style=\"text-align: right;\">\n",
       "      <th></th>\n",
       "      <th>critic</th>\n",
       "      <th>fresh</th>\n",
       "      <th>imdb</th>\n",
       "      <th>publication</th>\n",
       "      <th>quote</th>\n",
       "      <th>review_date</th>\n",
       "      <th>rtid</th>\n",
       "      <th>title</th>\n",
       "    </tr>\n",
       "  </thead>\n",
       "  <tbody>\n",
       "    <tr>\n",
       "      <th>0</th>\n",
       "      <td>Derek Adams</td>\n",
       "      <td>1</td>\n",
       "      <td>114709.0</td>\n",
       "      <td>Time Out</td>\n",
       "      <td>So ingenious in concept, design and execution ...</td>\n",
       "      <td>2009-10-04</td>\n",
       "      <td>9559.0</td>\n",
       "      <td>Toy story</td>\n",
       "    </tr>\n",
       "    <tr>\n",
       "      <th>1</th>\n",
       "      <td>Richard Corliss</td>\n",
       "      <td>1</td>\n",
       "      <td>114709.0</td>\n",
       "      <td>TIME Magazine</td>\n",
       "      <td>The year's most inventive comedy.</td>\n",
       "      <td>2008-08-31</td>\n",
       "      <td>9559.0</td>\n",
       "      <td>Toy story</td>\n",
       "    </tr>\n",
       "  </tbody>\n",
       "</table>\n",
       "</div>"
      ],
      "text/plain": [
       "            critic  fresh      imdb    publication  \\\n",
       "0      Derek Adams      1  114709.0       Time Out   \n",
       "1  Richard Corliss      1  114709.0  TIME Magazine   \n",
       "\n",
       "                                               quote review_date    rtid  \\\n",
       "0  So ingenious in concept, design and execution ...  2009-10-04  9559.0   \n",
       "1                  The year's most inventive comedy.  2008-08-31  9559.0   \n",
       "\n",
       "       title  \n",
       "0  Toy story  \n",
       "1  Toy story  "
      ]
     },
     "execution_count": 98,
     "metadata": {},
     "output_type": "execute_result"
    }
   ],
   "source": [
    "rt.head(2)"
   ]
  },
  {
   "cell_type": "markdown",
   "metadata": {},
   "source": [
    "---\n",
    "\n",
    "### Create a predictor matrix of words from the quotes with CountVectorizer\n",
    "\n",
    "It is up to you what ngram range you want to select. **Make sure that `binary=True`**"
   ]
  },
  {
   "cell_type": "code",
   "execution_count": 77,
   "metadata": {
    "collapsed": true
   },
   "outputs": [],
   "source": [
    "cv = CountVectorizer(ngram_range=(1,2), max_features=2500, binary=True, stop_words='english')\n",
    "words = cv.fit_transform(rt.quote)"
   ]
  },
  {
   "cell_type": "code",
   "execution_count": 78,
   "metadata": {
    "collapsed": false
   },
   "outputs": [
    {
     "data": {
      "text/plain": [
       "(14049, 2500)"
      ]
     },
     "execution_count": 78,
     "metadata": {},
     "output_type": "execute_result"
    }
   ],
   "source": [
    "words.shape"
   ]
  },
  {
   "cell_type": "code",
   "execution_count": 79,
   "metadata": {
    "collapsed": false
   },
   "outputs": [],
   "source": [
    "words = pd.DataFrame(words.todense(), columns=cv.get_feature_names())"
   ]
  },
  {
   "cell_type": "code",
   "execution_count": 80,
   "metadata": {
    "collapsed": false
   },
   "outputs": [
    {
     "data": {
      "text/html": [
       "<div>\n",
       "<table border=\"1\" class=\"dataframe\">\n",
       "  <thead>\n",
       "    <tr style=\"text-align: right;\">\n",
       "      <th></th>\n",
       "      <th>10</th>\n",
       "      <th>100</th>\n",
       "      <th>13</th>\n",
       "      <th>1961</th>\n",
       "      <th>1998</th>\n",
       "      <th>20</th>\n",
       "      <th>2001</th>\n",
       "      <th>30</th>\n",
       "      <th>40</th>\n",
       "      <th>50s</th>\n",
       "      <th>...</th>\n",
       "      <th>year</th>\n",
       "      <th>year old</th>\n",
       "      <th>years</th>\n",
       "      <th>years ago</th>\n",
       "      <th>yes</th>\n",
       "      <th>york</th>\n",
       "      <th>young</th>\n",
       "      <th>younger</th>\n",
       "      <th>youth</th>\n",
       "      <th>zone</th>\n",
       "    </tr>\n",
       "  </thead>\n",
       "  <tbody>\n",
       "    <tr>\n",
       "      <th>0</th>\n",
       "      <td>0</td>\n",
       "      <td>0</td>\n",
       "      <td>0</td>\n",
       "      <td>0</td>\n",
       "      <td>0</td>\n",
       "      <td>0</td>\n",
       "      <td>0</td>\n",
       "      <td>0</td>\n",
       "      <td>0</td>\n",
       "      <td>0</td>\n",
       "      <td>...</td>\n",
       "      <td>0</td>\n",
       "      <td>0</td>\n",
       "      <td>0</td>\n",
       "      <td>0</td>\n",
       "      <td>0</td>\n",
       "      <td>0</td>\n",
       "      <td>0</td>\n",
       "      <td>0</td>\n",
       "      <td>0</td>\n",
       "      <td>0</td>\n",
       "    </tr>\n",
       "    <tr>\n",
       "      <th>1</th>\n",
       "      <td>0</td>\n",
       "      <td>0</td>\n",
       "      <td>0</td>\n",
       "      <td>0</td>\n",
       "      <td>0</td>\n",
       "      <td>0</td>\n",
       "      <td>0</td>\n",
       "      <td>0</td>\n",
       "      <td>0</td>\n",
       "      <td>0</td>\n",
       "      <td>...</td>\n",
       "      <td>1</td>\n",
       "      <td>0</td>\n",
       "      <td>0</td>\n",
       "      <td>0</td>\n",
       "      <td>0</td>\n",
       "      <td>0</td>\n",
       "      <td>0</td>\n",
       "      <td>0</td>\n",
       "      <td>0</td>\n",
       "      <td>0</td>\n",
       "    </tr>\n",
       "    <tr>\n",
       "      <th>2</th>\n",
       "      <td>0</td>\n",
       "      <td>0</td>\n",
       "      <td>0</td>\n",
       "      <td>0</td>\n",
       "      <td>0</td>\n",
       "      <td>0</td>\n",
       "      <td>0</td>\n",
       "      <td>0</td>\n",
       "      <td>0</td>\n",
       "      <td>0</td>\n",
       "      <td>...</td>\n",
       "      <td>0</td>\n",
       "      <td>0</td>\n",
       "      <td>0</td>\n",
       "      <td>0</td>\n",
       "      <td>0</td>\n",
       "      <td>0</td>\n",
       "      <td>0</td>\n",
       "      <td>0</td>\n",
       "      <td>0</td>\n",
       "      <td>0</td>\n",
       "    </tr>\n",
       "    <tr>\n",
       "      <th>3</th>\n",
       "      <td>0</td>\n",
       "      <td>0</td>\n",
       "      <td>0</td>\n",
       "      <td>0</td>\n",
       "      <td>0</td>\n",
       "      <td>0</td>\n",
       "      <td>0</td>\n",
       "      <td>0</td>\n",
       "      <td>0</td>\n",
       "      <td>0</td>\n",
       "      <td>...</td>\n",
       "      <td>0</td>\n",
       "      <td>0</td>\n",
       "      <td>0</td>\n",
       "      <td>0</td>\n",
       "      <td>0</td>\n",
       "      <td>0</td>\n",
       "      <td>0</td>\n",
       "      <td>0</td>\n",
       "      <td>0</td>\n",
       "      <td>0</td>\n",
       "    </tr>\n",
       "    <tr>\n",
       "      <th>4</th>\n",
       "      <td>0</td>\n",
       "      <td>0</td>\n",
       "      <td>0</td>\n",
       "      <td>0</td>\n",
       "      <td>0</td>\n",
       "      <td>0</td>\n",
       "      <td>0</td>\n",
       "      <td>0</td>\n",
       "      <td>0</td>\n",
       "      <td>0</td>\n",
       "      <td>...</td>\n",
       "      <td>0</td>\n",
       "      <td>0</td>\n",
       "      <td>0</td>\n",
       "      <td>0</td>\n",
       "      <td>0</td>\n",
       "      <td>0</td>\n",
       "      <td>0</td>\n",
       "      <td>0</td>\n",
       "      <td>0</td>\n",
       "      <td>0</td>\n",
       "    </tr>\n",
       "  </tbody>\n",
       "</table>\n",
       "<p>5 rows × 2500 columns</p>\n",
       "</div>"
      ],
      "text/plain": [
       "   10  100  13  1961  1998  20  2001  30  40  50s  ...   year  year old  \\\n",
       "0   0    0   0     0     0   0     0   0   0    0  ...      0         0   \n",
       "1   0    0   0     0     0   0     0   0   0    0  ...      1         0   \n",
       "2   0    0   0     0     0   0     0   0   0    0  ...      0         0   \n",
       "3   0    0   0     0     0   0     0   0   0    0  ...      0         0   \n",
       "4   0    0   0     0     0   0     0   0   0    0  ...      0         0   \n",
       "\n",
       "   years  years ago  yes  york  young  younger  youth  zone  \n",
       "0      0          0    0     0      0        0      0     0  \n",
       "1      0          0    0     0      0        0      0     0  \n",
       "2      0          0    0     0      0        0      0     0  \n",
       "3      0          0    0     0      0        0      0     0  \n",
       "4      0          0    0     0      0        0      0     0  \n",
       "\n",
       "[5 rows x 2500 columns]"
      ]
     },
     "execution_count": 80,
     "metadata": {},
     "output_type": "execute_result"
    }
   ],
   "source": [
    "words.head()"
   ]
  },
  {
   "cell_type": "code",
   "execution_count": 81,
   "metadata": {
    "collapsed": false
   },
   "outputs": [
    {
     "name": "stdout",
     "output_type": "stream",
     "text": [
      "(14049, 2500)\n"
     ]
    }
   ],
   "source": [
    "print words.shape"
   ]
  },
  {
   "cell_type": "markdown",
   "metadata": {},
   "source": [
    "---\n",
    "\n",
    "### Split data into training and testing splits\n",
    "\n",
    "You should keep 25% of the data in the test set."
   ]
  },
  {
   "cell_type": "code",
   "execution_count": 82,
   "metadata": {
    "collapsed": false
   },
   "outputs": [],
   "source": [
    "Xtrain, Xtest, ytrain, ytest = train_test_split(words.values, rt.fresh.values, test_size=0.25)"
   ]
  },
  {
   "cell_type": "code",
   "execution_count": 83,
   "metadata": {
    "collapsed": false
   },
   "outputs": [
    {
     "name": "stdout",
     "output_type": "stream",
     "text": [
      "(10536, 2500) (3513, 2500)\n"
     ]
    }
   ],
   "source": [
    "print Xtrain.shape, Xtest.shape"
   ]
  },
  {
   "cell_type": "markdown",
   "metadata": {},
   "source": [
    "---\n",
    "\n",
    "### Build a `BernoulliNB` model predicting fresh vs. rotten from the word appearances\n",
    "\n",
    "The model should only be built (and cross-validated) on the training data.\n",
    "\n",
    "Cross-validate the score and compare it to baseline."
   ]
  },
  {
   "cell_type": "code",
   "execution_count": 84,
   "metadata": {
    "collapsed": true
   },
   "outputs": [],
   "source": [
    "nb = BernoulliNB()"
   ]
  },
  {
   "cell_type": "code",
   "execution_count": 85,
   "metadata": {
    "collapsed": false
   },
   "outputs": [
    {
     "data": {
      "text/plain": [
       "BernoulliNB(alpha=1.0, binarize=0.0, class_prior=None, fit_prior=True)"
      ]
     },
     "execution_count": 85,
     "metadata": {},
     "output_type": "execute_result"
    }
   ],
   "source": [
    "nb.fit(Xtrain, ytrain)"
   ]
  },
  {
   "cell_type": "code",
   "execution_count": 94,
   "metadata": {
    "collapsed": false
   },
   "outputs": [
    {
     "name": "stdout",
     "output_type": "stream",
     "text": [
      "[ 0.7471537   0.71963947  0.72615093  0.74228761  0.75071225]\n",
      "0.73718879156\n",
      "0.613800303721\n"
     ]
    }
   ],
   "source": [
    "nb_scores = cross_val_score(BernoulliNB(), Xtrain, ytrain, cv=5)\n",
    "print nb_scores\n",
    "print np.mean(nb_scores)\n",
    "print np.mean(ytrain)"
   ]
  },
  {
   "cell_type": "markdown",
   "metadata": {},
   "source": [
    "---\n",
    "\n",
    "### Pull out the probability of words given \"fresh\"\n",
    "\n",
    "The `.feature_log_prob_` attribute of the naive bayes model contains the log probabilities of a feature appearing given a target class.\n",
    "\n",
    "The rows correspond to the class of the target, and the columns correpsond to the features. The first row is the 0 \"rotten\" class, and the second is the 1 \"fresh\" class.\n",
    "\n",
    "#### 1. Pull out the log probabilities and convert them to probabilities (for fresh and for rotten)."
   ]
  },
  {
   "cell_type": "code",
   "execution_count": 87,
   "metadata": {
    "collapsed": true
   },
   "outputs": [],
   "source": [
    "feat_lp = nb.feature_log_prob_"
   ]
  },
  {
   "cell_type": "code",
   "execution_count": 88,
   "metadata": {
    "collapsed": false
   },
   "outputs": [],
   "source": [
    "fresh_p = np.exp(feat_lp[1])"
   ]
  },
  {
   "cell_type": "code",
   "execution_count": 89,
   "metadata": {
    "collapsed": true
   },
   "outputs": [],
   "source": [
    "rotten_p = np.exp(feat_lp[0])"
   ]
  },
  {
   "cell_type": "markdown",
   "metadata": {},
   "source": [
    "#### 2. Make a dataframe with the probabilities and features"
   ]
  },
  {
   "cell_type": "code",
   "execution_count": 90,
   "metadata": {
    "collapsed": true
   },
   "outputs": [],
   "source": [
    "feat_probs = pd.DataFrame({'fresh_p':fresh_p, 'rotten_p':rotten_p, 'feature':words.columns.values})"
   ]
  },
  {
   "cell_type": "markdown",
   "metadata": {},
   "source": [
    "#### 3. Create a column that is the difference between fresh probability of appearance and rotten"
   ]
  },
  {
   "cell_type": "code",
   "execution_count": 91,
   "metadata": {
    "collapsed": true
   },
   "outputs": [],
   "source": [
    "feat_probs['fresh_diff'] = feat_probs.fresh_p - feat_probs.rotten_p"
   ]
  },
  {
   "cell_type": "markdown",
   "metadata": {},
   "source": [
    "#### 4. Look at the most likely words for fresh and rotten reviews"
   ]
  },
  {
   "cell_type": "code",
   "execution_count": 92,
   "metadata": {
    "collapsed": false
   },
   "outputs": [
    {
     "data": {
      "text/html": [
       "<div>\n",
       "<table border=\"1\" class=\"dataframe\">\n",
       "  <thead>\n",
       "    <tr style=\"text-align: right;\">\n",
       "      <th></th>\n",
       "      <th>feature</th>\n",
       "      <th>fresh_p</th>\n",
       "      <th>rotten_p</th>\n",
       "      <th>fresh_diff</th>\n",
       "    </tr>\n",
       "  </thead>\n",
       "  <tbody>\n",
       "    <tr>\n",
       "      <th>823</th>\n",
       "      <td>film</td>\n",
       "      <td>0.155047</td>\n",
       "      <td>0.112012</td>\n",
       "      <td>0.043035</td>\n",
       "    </tr>\n",
       "    <tr>\n",
       "      <th>192</th>\n",
       "      <td>best</td>\n",
       "      <td>0.041738</td>\n",
       "      <td>0.019160</td>\n",
       "      <td>0.022578</td>\n",
       "    </tr>\n",
       "    <tr>\n",
       "      <th>965</th>\n",
       "      <td>great</td>\n",
       "      <td>0.028598</td>\n",
       "      <td>0.009580</td>\n",
       "      <td>0.019018</td>\n",
       "    </tr>\n",
       "    <tr>\n",
       "      <th>691</th>\n",
       "      <td>entertaining</td>\n",
       "      <td>0.023188</td>\n",
       "      <td>0.006141</td>\n",
       "      <td>0.017047</td>\n",
       "    </tr>\n",
       "    <tr>\n",
       "      <th>87</th>\n",
       "      <td>american</td>\n",
       "      <td>0.021333</td>\n",
       "      <td>0.006141</td>\n",
       "      <td>0.015192</td>\n",
       "    </tr>\n",
       "    <tr>\n",
       "      <th>1590</th>\n",
       "      <td>performance</td>\n",
       "      <td>0.021178</td>\n",
       "      <td>0.006632</td>\n",
       "      <td>0.014546</td>\n",
       "    </tr>\n",
       "    <tr>\n",
       "      <th>898</th>\n",
       "      <td>fun</td>\n",
       "      <td>0.024888</td>\n",
       "      <td>0.011791</td>\n",
       "      <td>0.013097</td>\n",
       "    </tr>\n",
       "    <tr>\n",
       "      <th>902</th>\n",
       "      <td>funny</td>\n",
       "      <td>0.033699</td>\n",
       "      <td>0.020879</td>\n",
       "      <td>0.012820</td>\n",
       "    </tr>\n",
       "    <tr>\n",
       "      <th>948</th>\n",
       "      <td>good</td>\n",
       "      <td>0.046375</td>\n",
       "      <td>0.033898</td>\n",
       "      <td>0.012477</td>\n",
       "    </tr>\n",
       "    <tr>\n",
       "      <th>835</th>\n",
       "      <td>films</td>\n",
       "      <td>0.023342</td>\n",
       "      <td>0.011299</td>\n",
       "      <td>0.012043</td>\n",
       "    </tr>\n",
       "    <tr>\n",
       "      <th>692</th>\n",
       "      <td>entertainment</td>\n",
       "      <td>0.016850</td>\n",
       "      <td>0.005404</td>\n",
       "      <td>0.011446</td>\n",
       "    </tr>\n",
       "    <tr>\n",
       "      <th>2466</th>\n",
       "      <td>work</td>\n",
       "      <td>0.026743</td>\n",
       "      <td>0.015721</td>\n",
       "      <td>0.011022</td>\n",
       "    </tr>\n",
       "    <tr>\n",
       "      <th>1455</th>\n",
       "      <td>movies</td>\n",
       "      <td>0.031690</td>\n",
       "      <td>0.021371</td>\n",
       "      <td>0.010319</td>\n",
       "    </tr>\n",
       "    <tr>\n",
       "      <th>1591</th>\n",
       "      <td>performances</td>\n",
       "      <td>0.019787</td>\n",
       "      <td>0.009826</td>\n",
       "      <td>0.009961</td>\n",
       "    </tr>\n",
       "    <tr>\n",
       "      <th>2470</th>\n",
       "      <td>world</td>\n",
       "      <td>0.019632</td>\n",
       "      <td>0.010071</td>\n",
       "      <td>0.009561</td>\n",
       "    </tr>\n",
       "    <tr>\n",
       "      <th>2250</th>\n",
       "      <td>time</td>\n",
       "      <td>0.036791</td>\n",
       "      <td>0.027266</td>\n",
       "      <td>0.009525</td>\n",
       "    </tr>\n",
       "    <tr>\n",
       "      <th>2005</th>\n",
       "      <td>smart</td>\n",
       "      <td>0.010666</td>\n",
       "      <td>0.001474</td>\n",
       "      <td>0.009192</td>\n",
       "    </tr>\n",
       "    <tr>\n",
       "      <th>2492</th>\n",
       "      <td>years</td>\n",
       "      <td>0.013913</td>\n",
       "      <td>0.005404</td>\n",
       "      <td>0.008508</td>\n",
       "    </tr>\n",
       "    <tr>\n",
       "      <th>936</th>\n",
       "      <td>gives</td>\n",
       "      <td>0.010975</td>\n",
       "      <td>0.002702</td>\n",
       "      <td>0.008273</td>\n",
       "    </tr>\n",
       "    <tr>\n",
       "      <th>1265</th>\n",
       "      <td>life</td>\n",
       "      <td>0.023188</td>\n",
       "      <td>0.014984</td>\n",
       "      <td>0.008203</td>\n",
       "    </tr>\n",
       "  </tbody>\n",
       "</table>\n",
       "</div>"
      ],
      "text/plain": [
       "            feature   fresh_p  rotten_p  fresh_diff\n",
       "823            film  0.155047  0.112012    0.043035\n",
       "192            best  0.041738  0.019160    0.022578\n",
       "965           great  0.028598  0.009580    0.019018\n",
       "691    entertaining  0.023188  0.006141    0.017047\n",
       "87         american  0.021333  0.006141    0.015192\n",
       "1590    performance  0.021178  0.006632    0.014546\n",
       "898             fun  0.024888  0.011791    0.013097\n",
       "902           funny  0.033699  0.020879    0.012820\n",
       "948            good  0.046375  0.033898    0.012477\n",
       "835           films  0.023342  0.011299    0.012043\n",
       "692   entertainment  0.016850  0.005404    0.011446\n",
       "2466           work  0.026743  0.015721    0.011022\n",
       "1455         movies  0.031690  0.021371    0.010319\n",
       "1591   performances  0.019787  0.009826    0.009961\n",
       "2470          world  0.019632  0.010071    0.009561\n",
       "2250           time  0.036791  0.027266    0.009525\n",
       "2005          smart  0.010666  0.001474    0.009192\n",
       "2492          years  0.013913  0.005404    0.008508\n",
       "936           gives  0.010975  0.002702    0.008273\n",
       "1265           life  0.023188  0.014984    0.008203"
      ]
     },
     "execution_count": 92,
     "metadata": {},
     "output_type": "execute_result"
    }
   ],
   "source": [
    "feat_probs.sort_values('fresh_diff', ascending=False, inplace=True)\n",
    "feat_probs.head(20)"
   ]
  },
  {
   "cell_type": "code",
   "execution_count": 93,
   "metadata": {
    "collapsed": false
   },
   "outputs": [
    {
     "data": {
      "text/html": [
       "<div>\n",
       "<table border=\"1\" class=\"dataframe\">\n",
       "  <thead>\n",
       "    <tr style=\"text-align: right;\">\n",
       "      <th></th>\n",
       "      <th>feature</th>\n",
       "      <th>fresh_p</th>\n",
       "      <th>rotten_p</th>\n",
       "      <th>fresh_diff</th>\n",
       "    </tr>\n",
       "  </thead>\n",
       "  <tbody>\n",
       "    <tr>\n",
       "      <th>1269</th>\n",
       "      <td>like</td>\n",
       "      <td>0.041738</td>\n",
       "      <td>0.071481</td>\n",
       "      <td>-0.029744</td>\n",
       "    </tr>\n",
       "    <tr>\n",
       "      <th>1446</th>\n",
       "      <td>movie</td>\n",
       "      <td>0.129850</td>\n",
       "      <td>0.147630</td>\n",
       "      <td>-0.017780</td>\n",
       "    </tr>\n",
       "    <tr>\n",
       "      <th>156</th>\n",
       "      <td>bad</td>\n",
       "      <td>0.008038</td>\n",
       "      <td>0.025301</td>\n",
       "      <td>-0.017263</td>\n",
       "    </tr>\n",
       "    <tr>\n",
       "      <th>1761</th>\n",
       "      <td>really</td>\n",
       "      <td>0.006183</td>\n",
       "      <td>0.021371</td>\n",
       "      <td>-0.015187</td>\n",
       "    </tr>\n",
       "    <tr>\n",
       "      <th>605</th>\n",
       "      <td>doesn</td>\n",
       "      <td>0.015149</td>\n",
       "      <td>0.029968</td>\n",
       "      <td>-0.014819</td>\n",
       "    </tr>\n",
       "    <tr>\n",
       "      <th>1166</th>\n",
       "      <td>isn</td>\n",
       "      <td>0.010666</td>\n",
       "      <td>0.024564</td>\n",
       "      <td>-0.013898</td>\n",
       "    </tr>\n",
       "    <tr>\n",
       "      <th>1635</th>\n",
       "      <td>plot</td>\n",
       "      <td>0.012058</td>\n",
       "      <td>0.025301</td>\n",
       "      <td>-0.013243</td>\n",
       "    </tr>\n",
       "    <tr>\n",
       "      <th>1280</th>\n",
       "      <td>little</td>\n",
       "      <td>0.017313</td>\n",
       "      <td>0.029722</td>\n",
       "      <td>-0.012409</td>\n",
       "    </tr>\n",
       "    <tr>\n",
       "      <th>1192</th>\n",
       "      <td>just</td>\n",
       "      <td>0.027516</td>\n",
       "      <td>0.039548</td>\n",
       "      <td>-0.012032</td>\n",
       "    </tr>\n",
       "    <tr>\n",
       "      <th>1900</th>\n",
       "      <td>script</td>\n",
       "      <td>0.010357</td>\n",
       "      <td>0.021616</td>\n",
       "      <td>-0.011259</td>\n",
       "    </tr>\n",
       "    <tr>\n",
       "      <th>1915</th>\n",
       "      <td>self</td>\n",
       "      <td>0.007729</td>\n",
       "      <td>0.016704</td>\n",
       "      <td>-0.008974</td>\n",
       "    </tr>\n",
       "    <tr>\n",
       "      <th>632</th>\n",
       "      <td>dull</td>\n",
       "      <td>0.001391</td>\n",
       "      <td>0.010317</td>\n",
       "      <td>-0.008926</td>\n",
       "    </tr>\n",
       "    <tr>\n",
       "      <th>2331</th>\n",
       "      <td>unfortunately</td>\n",
       "      <td>0.000464</td>\n",
       "      <td>0.009334</td>\n",
       "      <td>-0.008871</td>\n",
       "    </tr>\n",
       "    <tr>\n",
       "      <th>808</th>\n",
       "      <td>feels</td>\n",
       "      <td>0.003401</td>\n",
       "      <td>0.011791</td>\n",
       "      <td>-0.008390</td>\n",
       "    </tr>\n",
       "    <tr>\n",
       "      <th>993</th>\n",
       "      <td>half</td>\n",
       "      <td>0.004019</td>\n",
       "      <td>0.012282</td>\n",
       "      <td>-0.008263</td>\n",
       "    </tr>\n",
       "    <tr>\n",
       "      <th>2310</th>\n",
       "      <td>tv</td>\n",
       "      <td>0.002937</td>\n",
       "      <td>0.011054</td>\n",
       "      <td>-0.008117</td>\n",
       "    </tr>\n",
       "    <tr>\n",
       "      <th>1223</th>\n",
       "      <td>lacks</td>\n",
       "      <td>0.002010</td>\n",
       "      <td>0.009826</td>\n",
       "      <td>-0.007816</td>\n",
       "    </tr>\n",
       "    <tr>\n",
       "      <th>1676</th>\n",
       "      <td>predictable</td>\n",
       "      <td>0.002010</td>\n",
       "      <td>0.009580</td>\n",
       "      <td>-0.007570</td>\n",
       "    </tr>\n",
       "    <tr>\n",
       "      <th>1931</th>\n",
       "      <td>series</td>\n",
       "      <td>0.006493</td>\n",
       "      <td>0.014001</td>\n",
       "      <td>-0.007509</td>\n",
       "    </tr>\n",
       "    <tr>\n",
       "      <th>765</th>\n",
       "      <td>fails</td>\n",
       "      <td>0.002010</td>\n",
       "      <td>0.009334</td>\n",
       "      <td>-0.007325</td>\n",
       "    </tr>\n",
       "  </tbody>\n",
       "</table>\n",
       "</div>"
      ],
      "text/plain": [
       "            feature   fresh_p  rotten_p  fresh_diff\n",
       "1269           like  0.041738  0.071481   -0.029744\n",
       "1446          movie  0.129850  0.147630   -0.017780\n",
       "156             bad  0.008038  0.025301   -0.017263\n",
       "1761         really  0.006183  0.021371   -0.015187\n",
       "605           doesn  0.015149  0.029968   -0.014819\n",
       "1166            isn  0.010666  0.024564   -0.013898\n",
       "1635           plot  0.012058  0.025301   -0.013243\n",
       "1280         little  0.017313  0.029722   -0.012409\n",
       "1192           just  0.027516  0.039548   -0.012032\n",
       "1900         script  0.010357  0.021616   -0.011259\n",
       "1915           self  0.007729  0.016704   -0.008974\n",
       "632            dull  0.001391  0.010317   -0.008926\n",
       "2331  unfortunately  0.000464  0.009334   -0.008871\n",
       "808           feels  0.003401  0.011791   -0.008390\n",
       "993            half  0.004019  0.012282   -0.008263\n",
       "2310             tv  0.002937  0.011054   -0.008117\n",
       "1223          lacks  0.002010  0.009826   -0.007816\n",
       "1676    predictable  0.002010  0.009580   -0.007570\n",
       "1931         series  0.006493  0.014001   -0.007509\n",
       "765           fails  0.002010  0.009334   -0.007325"
      ]
     },
     "execution_count": 93,
     "metadata": {},
     "output_type": "execute_result"
    }
   ],
   "source": [
    "feat_probs.sort_values('fresh_diff', ascending=True, inplace=True)\n",
    "feat_probs.head(20)"
   ]
  },
  {
   "cell_type": "markdown",
   "metadata": {},
   "source": [
    "---\n",
    "\n",
    "### Examine how your model performs on the test set"
   ]
  },
  {
   "cell_type": "code",
   "execution_count": 95,
   "metadata": {
    "collapsed": false
   },
   "outputs": [
    {
     "name": "stdout",
     "output_type": "stream",
     "text": [
      "0.724736692286\n",
      "0.610873896954\n"
     ]
    }
   ],
   "source": [
    "print nb.score(Xtest, ytest)\n",
    "print np.mean(ytest)"
   ]
  },
  {
   "cell_type": "markdown",
   "metadata": {},
   "source": [
    "---\n",
    "\n",
    "### Look at the top 10 movies and reviews likely to be fresh and top 10 likely to be rotten\n",
    "\n",
    "You can fit the model on the full set of data for this.\n",
    "\n",
    "Just to note: Naive Bayes, while good at classifying, is known to be somewhat bad at giving accurate predicted probabilities (beyond getting it on the correct side of 50%). It is a good classifier but a bad estimator. "
   ]
  },
  {
   "cell_type": "code",
   "execution_count": 96,
   "metadata": {
    "collapsed": true
   },
   "outputs": [],
   "source": [
    "X = words.values\n",
    "y = rt.fresh"
   ]
  },
  {
   "cell_type": "code",
   "execution_count": 97,
   "metadata": {
    "collapsed": true
   },
   "outputs": [],
   "source": [
    "nbfull = BernoulliNB().fit(X,y)"
   ]
  },
  {
   "cell_type": "code",
   "execution_count": 99,
   "metadata": {
    "collapsed": true
   },
   "outputs": [],
   "source": [
    "pp = pd.DataFrame({\n",
    "        'prob_fresh':nbfull.predict_proba(X)[:,1],\n",
    "        'movie':rt.title,\n",
    "        'quote':rt.quote\n",
    "    })"
   ]
  },
  {
   "cell_type": "code",
   "execution_count": 100,
   "metadata": {
    "collapsed": false
   },
   "outputs": [
    {
     "name": "stdout",
     "output_type": "stream",
     "text": [
      "Kundun \tStunning, odd, glorious, calm and sensationally absorbing, director Martin Scorsese's Kundun is a remarkable piece of work with vital colors and a wrenching message.\n",
      "--------------------------------------------------\n",
      "\n",
      "City Hall \tIts chief pleasure is the acting of the big cast, notably Pacino. At 55, he has a haggard, life-wrestling beauty and a street eloquence that has more innocence than De Niro and more sincerity than Nicholson.\n",
      "--------------------------------------------------\n",
      "\n",
      "The Wild Bunch \tThe Wild Bunch is Peckinpah's most complex inquiry into the metamorphosis of man into myth. Not incidentally, it is also a raucous, violent, powerful feat of American film making.\n",
      "--------------------------------------------------\n",
      "\n",
      "Witness \tPowerful, assured, full of beautiful imagery and thankfully devoid of easy moralising, it also offers a performance of surprising skill and sensitivity from Ford.\n",
      "--------------------------------------------------\n",
      "\n",
      "The English Patient \tThis is one of the year's most unabashed and powerful love stories, using flawless performances, intelligent dialogue, crisp camera work, and loaded glances to attain a level of eroticism and emotional connection that many similar films miss.\n",
      "--------------------------------------------------\n",
      "\n",
      "Places in the Heart \tOut of the memories of his boyhood in Waxahachie, Tex., during the Great Depression, and within the unlikely tradition of the old-fashioned ''mortgage'' melodrama, Robert Benton has made one of the best films in years about growing up American.\n",
      "--------------------------------------------------\n",
      "\n",
      "Mrs Brown \tCentering on a lesser-known chapter in the reign of Queen Victoria, this richly detailed drama about her intimate relationship with her servant that scandalized the country is extremely well-acted; Judi Dench deserves an Oscar nomination\n",
      "--------------------------------------------------\n",
      "\n",
      "Where the Wild Things Are \tWhere the Wild Things Are is a fiercely innovative film with surprising texture and nuance. It captures the joy and exuberance of childhood without shying away from its very real pains and woes.\n",
      "--------------------------------------------------\n",
      "\n",
      "Diva \tThe most exciting debut in years, it is unified by the extraordinary decor - colour supplement chic meets pop art surrealism - which creates a world of totally fantastic reality situated four-square in contemporary Paris.\n",
      "--------------------------------------------------\n",
      "\n",
      "2001: A Space Odyssey \tStanley Kubrick's 2001: A Space Odyssey is some sort of great film, and an unforgettable endeavor. Technically and imaginatively, what he put into it is staggering.\n",
      "--------------------------------------------------\n",
      "\n"
     ]
    }
   ],
   "source": [
    "pp.sort_values('prob_fresh', ascending=False, inplace=True)\n",
    "for movie, quote in zip(pp.movie[0:10], pp.quote[0:10]):\n",
    "    print movie,'\\t', quote\n",
    "    print '--------------------------------------------------\\n'"
   ]
  },
  {
   "cell_type": "code",
   "execution_count": 101,
   "metadata": {
    "collapsed": false
   },
   "outputs": [
    {
     "name": "stdout",
     "output_type": "stream",
     "text": [
      "Pokémon: The First Movie \tWith intentionally stilted animation, uninspired music and lame jokes, Pokemon is basically an ultralong version of the phenomenon's own boring TV 'toon.\n",
      "--------------------------------------------------\n",
      "\n",
      "Joe's Apartment \tThere's not enough story here for something half that length, so we're subjected to numerous pointless and irritating song-and-dance numbers designed to nudge the lame plot towards its conclusion.\n",
      "--------------------------------------------------\n",
      "\n",
      "Kazaam \tAs fairy tale, buddy comedy, family drama, thriller or rap revue, Kazaam is simply uninspired and unconvincing, and Mr. O'Neal, who can carry a basketball team, lacks the charisma to rescue this misguided effort.\n",
      "--------------------------------------------------\n",
      "\n",
      "Gung Ho \tA disappointment, a movie in which the Japanese are mostly used for the mechanical requirements of the plot, and the Americans are constructed from durable but boring stereotypes.\n",
      "--------------------------------------------------\n",
      "\n",
      "The Beverly Hillbillies \tImagine the dumbest half-hour sitcom you've ever seen, spin it out to 93 minutes by making it even more thin and shallow, and you have this movie. It's appalling. It's not even really a good version of whatever it was that made the TV series appealing.\n",
      "--------------------------------------------------\n",
      "\n",
      "Snow Day \tUnless you have a craving to watch a sluggish Ski-Doo race or want to admire Chase dressed as a hula dancer, consider this the cinematic equivalent of yellow snow.\n",
      "--------------------------------------------------\n",
      "\n",
      "Prêt-à-Porter \tDespite some delicious moments, this sluggish, overlong, halfhearted satire feels like a movie that wanted to go somewhere but never got there.\n",
      "--------------------------------------------------\n",
      "\n",
      "Basic Instinct 2 \tBasic Instinct 2 has a stylish look and a few sexy moments, but the plot goes from confusing to implausible to absolutely ludicrous in the final sequence.\n",
      "--------------------------------------------------\n",
      "\n",
      "Akira \tA compendium of the worst cliches of Japanese animation -- two hours of chases, laser attacks, machine-gun battles, spilled stage blood, computer-animated backgrounds and hokey dialogue.\n",
      "--------------------------------------------------\n",
      "\n",
      "Twisted \tPhilip Kaufman's Twisted amalgamates the basic post-feminist woman-cop premises of Silence Of The Lambs and the Prime Suspect TV series so torpidly it feels less like entertainment than a community service sentence.\n",
      "--------------------------------------------------\n",
      "\n"
     ]
    }
   ],
   "source": [
    "pp.sort_values('prob_fresh', ascending=True, inplace=True)\n",
    "for movie, quote in zip(pp.movie[0:10], pp.quote[0:10]):\n",
    "    print movie,'\\t', quote\n",
    "    print '--------------------------------------------------\\n'"
   ]
  },
  {
   "cell_type": "code",
   "execution_count": 112,
   "metadata": {
    "collapsed": false
   },
   "outputs": [
    {
     "data": {
      "text/html": [
       "<div>\n",
       "<table border=\"1\" class=\"dataframe\">\n",
       "  <thead>\n",
       "    <tr style=\"text-align: right;\">\n",
       "      <th></th>\n",
       "      <th>movie</th>\n",
       "      <th>counts</th>\n",
       "    </tr>\n",
       "  </thead>\n",
       "  <tbody>\n",
       "    <tr>\n",
       "      <th>0</th>\n",
       "      <td>The Hurricane</td>\n",
       "      <td>20</td>\n",
       "    </tr>\n",
       "    <tr>\n",
       "      <th>1</th>\n",
       "      <td>War of the Worlds</td>\n",
       "      <td>20</td>\n",
       "    </tr>\n",
       "    <tr>\n",
       "      <th>2</th>\n",
       "      <td>My Fellow Americans</td>\n",
       "      <td>20</td>\n",
       "    </tr>\n",
       "    <tr>\n",
       "      <th>3</th>\n",
       "      <td>Shakespeare in Love</td>\n",
       "      <td>20</td>\n",
       "    </tr>\n",
       "    <tr>\n",
       "      <th>4</th>\n",
       "      <td>The Sixth Sense</td>\n",
       "      <td>20</td>\n",
       "    </tr>\n",
       "  </tbody>\n",
       "</table>\n",
       "</div>"
      ],
      "text/plain": [
       "                 movie  counts\n",
       "0        The Hurricane      20\n",
       "1    War of the Worlds      20\n",
       "2  My Fellow Americans      20\n",
       "3  Shakespeare in Love      20\n",
       "4      The Sixth Sense      20"
      ]
     },
     "execution_count": 112,
     "metadata": {},
     "output_type": "execute_result"
    }
   ],
   "source": [
    "# subset to movies with at least 10 reviews:\n",
    "movie_counts = pp.movie.value_counts().reset_index()\n",
    "movie_counts.columns = ['movie','counts']\n",
    "movie_counts.head()"
   ]
  },
  {
   "cell_type": "code",
   "execution_count": 114,
   "metadata": {
    "collapsed": false
   },
   "outputs": [],
   "source": [
    "pp_movies = pp[['movie','prob_fresh']].groupby('movie').agg(np.mean).reset_index()\n",
    "pp_movies = pp_movies[pp_movies.movie.isin(movie_counts[movie_counts.counts >= 10].movie)]"
   ]
  },
  {
   "cell_type": "code",
   "execution_count": 117,
   "metadata": {
    "collapsed": false
   },
   "outputs": [
    {
     "data": {
      "text/html": [
       "<div>\n",
       "<table border=\"1\" class=\"dataframe\">\n",
       "  <thead>\n",
       "    <tr style=\"text-align: right;\">\n",
       "      <th></th>\n",
       "      <th>movie</th>\n",
       "      <th>prob_fresh</th>\n",
       "    </tr>\n",
       "  </thead>\n",
       "  <tbody>\n",
       "    <tr>\n",
       "      <th>1417</th>\n",
       "      <td>The Iron Giant</td>\n",
       "      <td>0.979671</td>\n",
       "    </tr>\n",
       "    <tr>\n",
       "      <th>862</th>\n",
       "      <td>Midnight Run</td>\n",
       "      <td>0.938409</td>\n",
       "    </tr>\n",
       "    <tr>\n",
       "      <th>209</th>\n",
       "      <td>Boogie Nights</td>\n",
       "      <td>0.932932</td>\n",
       "    </tr>\n",
       "    <tr>\n",
       "      <th>830</th>\n",
       "      <td>Manhattan</td>\n",
       "      <td>0.923222</td>\n",
       "    </tr>\n",
       "    <tr>\n",
       "      <th>1447</th>\n",
       "      <td>The Little Mermaid</td>\n",
       "      <td>0.915153</td>\n",
       "    </tr>\n",
       "    <tr>\n",
       "      <th>652</th>\n",
       "      <td>Il conformista</td>\n",
       "      <td>0.910188</td>\n",
       "    </tr>\n",
       "    <tr>\n",
       "      <th>1058</th>\n",
       "      <td>Raging Bull</td>\n",
       "      <td>0.909178</td>\n",
       "    </tr>\n",
       "    <tr>\n",
       "      <th>1055</th>\n",
       "      <td>Quiz Show</td>\n",
       "      <td>0.897758</td>\n",
       "    </tr>\n",
       "    <tr>\n",
       "      <th>1615</th>\n",
       "      <td>Toy story</td>\n",
       "      <td>0.894194</td>\n",
       "    </tr>\n",
       "    <tr>\n",
       "      <th>298</th>\n",
       "      <td>Cookie's Fortune</td>\n",
       "      <td>0.889868</td>\n",
       "    </tr>\n",
       "    <tr>\n",
       "      <th>1065</th>\n",
       "      <td>Ran</td>\n",
       "      <td>0.888081</td>\n",
       "    </tr>\n",
       "    <tr>\n",
       "      <th>1593</th>\n",
       "      <td>Titanic</td>\n",
       "      <td>0.885722</td>\n",
       "    </tr>\n",
       "    <tr>\n",
       "      <th>147</th>\n",
       "      <td>Bandit Queen</td>\n",
       "      <td>0.883241</td>\n",
       "    </tr>\n",
       "    <tr>\n",
       "      <th>775</th>\n",
       "      <td>Le notti di Cabiria</td>\n",
       "      <td>0.881281</td>\n",
       "    </tr>\n",
       "    <tr>\n",
       "      <th>783</th>\n",
       "      <td>Les quatre cents coups</td>\n",
       "      <td>0.879450</td>\n",
       "    </tr>\n",
       "    <tr>\n",
       "      <th>1168</th>\n",
       "      <td>Slums of Beverly Hills</td>\n",
       "      <td>0.873982</td>\n",
       "    </tr>\n",
       "    <tr>\n",
       "      <th>445</th>\n",
       "      <td>Fanny och Alexander</td>\n",
       "      <td>0.872455</td>\n",
       "    </tr>\n",
       "    <tr>\n",
       "      <th>952</th>\n",
       "      <td>Nosferatu, eine Symphonie des Grauens</td>\n",
       "      <td>0.868973</td>\n",
       "    </tr>\n",
       "    <tr>\n",
       "      <th>129</th>\n",
       "      <td>Babe</td>\n",
       "      <td>0.868187</td>\n",
       "    </tr>\n",
       "    <tr>\n",
       "      <th>1572</th>\n",
       "      <td>The Wild Bunch</td>\n",
       "      <td>0.867661</td>\n",
       "    </tr>\n",
       "  </tbody>\n",
       "</table>\n",
       "</div>"
      ],
      "text/plain": [
       "                                      movie  prob_fresh\n",
       "1417                         The Iron Giant    0.979671\n",
       "862                            Midnight Run    0.938409\n",
       "209                           Boogie Nights    0.932932\n",
       "830                               Manhattan    0.923222\n",
       "1447                     The Little Mermaid    0.915153\n",
       "652                          Il conformista    0.910188\n",
       "1058                            Raging Bull    0.909178\n",
       "1055                              Quiz Show    0.897758\n",
       "1615                              Toy story    0.894194\n",
       "298                        Cookie's Fortune    0.889868\n",
       "1065                                    Ran    0.888081\n",
       "1593                                Titanic    0.885722\n",
       "147                            Bandit Queen    0.883241\n",
       "775                     Le notti di Cabiria    0.881281\n",
       "783                  Les quatre cents coups    0.879450\n",
       "1168                 Slums of Beverly Hills    0.873982\n",
       "445                     Fanny och Alexander    0.872455\n",
       "952   Nosferatu, eine Symphonie des Grauens    0.868973\n",
       "129                                    Babe    0.868187\n",
       "1572                         The Wild Bunch    0.867661"
      ]
     },
     "execution_count": 117,
     "metadata": {},
     "output_type": "execute_result"
    }
   ],
   "source": [
    "pp_movies.sort_values('prob_fresh', ascending=False, inplace=True)\n",
    "pp_movies.head(20)"
   ]
  },
  {
   "cell_type": "code",
   "execution_count": 118,
   "metadata": {
    "collapsed": false
   },
   "outputs": [
    {
     "data": {
      "text/html": [
       "<div>\n",
       "<table border=\"1\" class=\"dataframe\">\n",
       "  <thead>\n",
       "    <tr style=\"text-align: right;\">\n",
       "      <th></th>\n",
       "      <th>movie</th>\n",
       "      <th>prob_fresh</th>\n",
       "    </tr>\n",
       "  </thead>\n",
       "  <tbody>\n",
       "    <tr>\n",
       "      <th>152</th>\n",
       "      <td>Basic Instinct 2</td>\n",
       "      <td>0.174275</td>\n",
       "    </tr>\n",
       "    <tr>\n",
       "      <th>1205</th>\n",
       "      <td>Spy Hard</td>\n",
       "      <td>0.178672</td>\n",
       "    </tr>\n",
       "    <tr>\n",
       "      <th>1661</th>\n",
       "      <td>Vegas Vacation</td>\n",
       "      <td>0.178860</td>\n",
       "    </tr>\n",
       "    <tr>\n",
       "      <th>1669</th>\n",
       "      <td>Virus</td>\n",
       "      <td>0.198663</td>\n",
       "    </tr>\n",
       "    <tr>\n",
       "      <th>1632</th>\n",
       "      <td>Twisted</td>\n",
       "      <td>0.207847</td>\n",
       "    </tr>\n",
       "    <tr>\n",
       "      <th>139</th>\n",
       "      <td>Bad Boys</td>\n",
       "      <td>0.211646</td>\n",
       "    </tr>\n",
       "    <tr>\n",
       "      <th>288</th>\n",
       "      <td>Color of Night</td>\n",
       "      <td>0.212499</td>\n",
       "    </tr>\n",
       "    <tr>\n",
       "      <th>9</th>\n",
       "      <td>3 Strikes</td>\n",
       "      <td>0.216750</td>\n",
       "    </tr>\n",
       "    <tr>\n",
       "      <th>391</th>\n",
       "      <td>Dracula: Dead and Loving It</td>\n",
       "      <td>0.219904</td>\n",
       "    </tr>\n",
       "    <tr>\n",
       "      <th>627</th>\n",
       "      <td>House Arrest</td>\n",
       "      <td>0.223762</td>\n",
       "    </tr>\n",
       "    <tr>\n",
       "      <th>1296</th>\n",
       "      <td>The Bachelor</td>\n",
       "      <td>0.224524</td>\n",
       "    </tr>\n",
       "    <tr>\n",
       "      <th>811</th>\n",
       "      <td>Lost &amp; Found</td>\n",
       "      <td>0.227491</td>\n",
       "    </tr>\n",
       "    <tr>\n",
       "      <th>916</th>\n",
       "      <td>My Fellow Americans</td>\n",
       "      <td>0.239574</td>\n",
       "    </tr>\n",
       "    <tr>\n",
       "      <th>1164</th>\n",
       "      <td>Sleepover</td>\n",
       "      <td>0.242783</td>\n",
       "    </tr>\n",
       "    <tr>\n",
       "      <th>1175</th>\n",
       "      <td>Soldier</td>\n",
       "      <td>0.245465</td>\n",
       "    </tr>\n",
       "    <tr>\n",
       "      <th>527</th>\n",
       "      <td>Georgia Rule</td>\n",
       "      <td>0.250572</td>\n",
       "    </tr>\n",
       "    <tr>\n",
       "      <th>867</th>\n",
       "      <td>Milk Money</td>\n",
       "      <td>0.259796</td>\n",
       "    </tr>\n",
       "    <tr>\n",
       "      <th>140</th>\n",
       "      <td>Bad Company</td>\n",
       "      <td>0.261716</td>\n",
       "    </tr>\n",
       "    <tr>\n",
       "      <th>932</th>\n",
       "      <td>Next Friday</td>\n",
       "      <td>0.263218</td>\n",
       "    </tr>\n",
       "    <tr>\n",
       "      <th>648</th>\n",
       "      <td>Idle Hands</td>\n",
       "      <td>0.263945</td>\n",
       "    </tr>\n",
       "  </tbody>\n",
       "</table>\n",
       "</div>"
      ],
      "text/plain": [
       "                            movie  prob_fresh\n",
       "152              Basic Instinct 2    0.174275\n",
       "1205                     Spy Hard    0.178672\n",
       "1661               Vegas Vacation    0.178860\n",
       "1669                        Virus    0.198663\n",
       "1632                      Twisted    0.207847\n",
       "139                      Bad Boys    0.211646\n",
       "288                Color of Night    0.212499\n",
       "9                       3 Strikes    0.216750\n",
       "391   Dracula: Dead and Loving It    0.219904\n",
       "627                  House Arrest    0.223762\n",
       "1296                 The Bachelor    0.224524\n",
       "811                  Lost & Found    0.227491\n",
       "916           My Fellow Americans    0.239574\n",
       "1164                    Sleepover    0.242783\n",
       "1175                      Soldier    0.245465\n",
       "527                  Georgia Rule    0.250572\n",
       "867                    Milk Money    0.259796\n",
       "140                   Bad Company    0.261716\n",
       "932                   Next Friday    0.263218\n",
       "648                    Idle Hands    0.263945"
      ]
     },
     "execution_count": 118,
     "metadata": {},
     "output_type": "execute_result"
    }
   ],
   "source": [
    "pp_movies.sort_values('prob_fresh', ascending=True, inplace=True)\n",
    "pp_movies.head(20)"
   ]
  },
  {
   "cell_type": "code",
   "execution_count": null,
   "metadata": {
    "collapsed": true
   },
   "outputs": [],
   "source": []
  }
 ],
 "metadata": {
  "kernelspec": {
   "display_name": "Python 2",
   "language": "python",
   "name": "python2"
  },
  "language_info": {
   "codemirror_mode": {
    "name": "ipython",
    "version": 2
   },
   "file_extension": ".py",
   "mimetype": "text/x-python",
   "name": "python",
   "nbconvert_exporter": "python",
   "pygments_lexer": "ipython2",
   "version": "2.7.12"
  }
 },
 "nbformat": 4,
 "nbformat_minor": 0
}
